{
 "cells": [
  {
   "cell_type": "code",
   "execution_count": 1,
   "metadata": {
    "collapsed": false
   },
   "outputs": [
    {
     "name": "stderr",
     "output_type": "stream",
     "text": [
      ":0: FutureWarning: IPython widgets are experimental and may change in the future.\n"
     ]
    }
   ],
   "source": [
    "import numpy as np\n",
    "import pandas as pd\n",
    "import matplotlib.pyplot as plt\n",
    "from lmfit.models import VoigtModel, LinearModel"
   ]
  },
  {
   "cell_type": "code",
   "execution_count": 2,
   "metadata": {
    "collapsed": false
   },
   "outputs": [],
   "source": [
    "#%pylab inline\n",
    "#pylab.rcParams['figure.figsize'] = (21.0, 16.0)"
   ]
  },
  {
   "cell_type": "markdown",
   "metadata": {},
   "source": [
    "#Eichung\n",
    "##Teil 1: Einstellen der Photomuliplier"
   ]
  },
  {
   "cell_type": "code",
   "execution_count": 10,
   "metadata": {
    "collapsed": false
   },
   "outputs": [
    {
     "name": "stdout",
     "output_type": "stream",
     "text": [
      "/home/frederik/Dokumente/FP/Myonen/Messdate/photomulipier\n"
     ]
    }
   ],
   "source": [
    "cd /home/frederik/Dokumente/FP/Myonen/Messdate/photomulipier/"
   ]
  },
  {
   "cell_type": "code",
   "execution_count": 11,
   "metadata": {
    "collapsed": true
   },
   "outputs": [],
   "source": [
    "def err_coutrate(counts,time,err_time):\n",
    "    '''\n",
    "        Bestimmung der Fehlers der logarithmischen Countrate\n",
    "    '''\n",
    "    err_ct = np.sqrt(np.square(np.sqrt(counts)/time)+np.square((err_time*counts)/(err_time**2)))\n",
    "    err_log_ct = err_ct/counts/time\n",
    "    err_log_c = np.sqrt(counts)/counts\n",
    "    return err_log_c"
   ]
  },
  {
   "cell_type": "code",
   "execution_count": 12,
   "metadata": {
    "collapsed": false
   },
   "outputs": [],
   "source": [
    "err_Zeit = [0.5,2]\n",
    "err_Spannung = [1,1]\n",
    "PM_list = []\n",
    "PM_list.append(np.array(pd.read_csv(\"PM1\", delim_whitespace=2)).T)\n",
    "PM_list.append(np.array(pd.read_csv(\"PM2\", delim_whitespace=2)).T)\n",
    "PM_list.append(np.array(pd.read_csv(\"PM3-backup\", delim_whitespace=2)).T)\n",
    "PM_list.append(np.array(pd.read_csv(\"PM4\", delim_whitespace=2)).T)"
   ]
  },
  {
   "cell_type": "markdown",
   "metadata": {},
   "source": [
    "###PM1: Auswertung"
   ]
  },
  {
   "cell_type": "code",
   "execution_count": 13,
   "metadata": {
    "collapsed": false
   },
   "outputs": [],
   "source": [
    "plt.errorbar(PM_list[0][0], np.log(PM_list[0][1]/PM_list[0][2]),err_coutrate(PM_list[0][1],PM_list[0][2],1), xerr=PM_list[0][3], fmt='. ', label=\"Kalibrierung von PM1\")\n",
    "plt.xlabel(r\"Spannung/V\",fontsize=22)\n",
    "plt.ylabel(r\"ln(Countrate/s$^{-1})$\",fontsize=22)\n",
    "plt.xlim([1690,2100])\n",
    "plt.ylim([-4,10])\n",
    "plt.legend(loc=\"best\")\n",
    "plt.tight_layout()\n",
    "plt.show()"
   ]
  },
  {
   "cell_type": "markdown",
   "metadata": {},
   "source": [
    "###PM2: Auswertung"
   ]
  },
  {
   "cell_type": "code",
   "execution_count": 14,
   "metadata": {
    "collapsed": false
   },
   "outputs": [],
   "source": [
    "plt.errorbar(PM_list[1][0], np.log(PM_list[1][1]/PM_list[1][2]),err_coutrate(PM_list[1][1],PM_list[1][2],0.1), fmt='. ', label=\"Kalibrierung von PM1\")\n",
    "plt.xlabel(r\"Spannung/V\",fontsize=22)\n",
    "plt.ylabel(r\"ln(Countrate/s$^{-1})$\",fontsize=22)\n",
    "plt.xlim([1890,2210])\n",
    "plt.ylim([-2,10])\n",
    "plt.legend(loc=\"best\")\n",
    "plt.show()"
   ]
  },
  {
   "cell_type": "markdown",
   "metadata": {},
   "source": [
    "###PM3: Auswertung"
   ]
  },
  {
   "cell_type": "code",
   "execution_count": 15,
   "metadata": {
    "collapsed": false,
    "scrolled": true
   },
   "outputs": [],
   "source": [
    "plt.errorbar(PM_list[2][0], np.log(PM_list[2][1]/PM_list[2][2]),err_coutrate(PM_list[2][1],PM_list[2][2],0.1), fmt='. ', label=\"Kalibrierung von PM1\")\n",
    "plt.xlabel(r\"Spannung/V\",fontsize=22)\n",
    "plt.ylabel(r\"ln(Countrate/s$^{-1})$\",fontsize=22)\n",
    "plt.xlim([2690,3010])\n",
    "plt.ylim([-2,10])\n",
    "plt.legend(loc=\"best\")\n",
    "plt.show()"
   ]
  },
  {
   "cell_type": "markdown",
   "metadata": {},
   "source": [
    "###PM4: Auswertung"
   ]
  },
  {
   "cell_type": "code",
   "execution_count": 16,
   "metadata": {
    "collapsed": false
   },
   "outputs": [],
   "source": [
    "plt.errorbar(PM_list[3][0], np.log(PM_list[3][1]/PM_list[3][2]),err_coutrate(PM_list[3][1],PM_list[3][2],0.1), fmt='. ', label=\"Kalibrierung von PM1\")\n",
    "plt.xlabel(r\"Spannung/V\",fontsize=22)\n",
    "plt.ylabel(r\"ln(Countrate/s$^{-1})$\",fontsize=22)\n",
    "plt.xlim([1890,2210])\n",
    "plt.ylim([-2,10])\n",
    "plt.legend(loc=\"best\")\n",
    "plt.show()"
   ]
  },
  {
   "cell_type": "markdown",
   "metadata": {},
   "source": [
    "###Ergebnisse:\n",
    "Für die Photomuliplier ergaben sich die folgenden Spannungen:\n",
    "\n",
    "####PM1: <font color=\"red\">1870V</font>\n",
    "####PM2: <font color=\"red\">2060V</font>\n",
    "####PM3: <font color=\"red\">2750V</font>\n",
    "####PM4: <font color=\"red\">2085V</font>\n"
   ]
  },
  {
   "cell_type": "markdown",
   "metadata": {},
   "source": [
    "##Teil2: Diskriminator einstellen"
   ]
  },
  {
   "cell_type": "code",
   "execution_count": 17,
   "metadata": {
    "collapsed": false
   },
   "outputs": [
    {
     "name": "stdout",
     "output_type": "stream",
     "text": [
      "[Errno 2] Datei oder Verzeichnis nicht gefunden: '/home/arrow13/Git/FP/Myonen/Messdate/Diskriminator/'\n",
      "/home/frederik/Dokumente/FP/Myonen/Messdate/photomulipier\n"
     ]
    }
   ],
   "source": [
    "cd /home/arrow13/Git/FP/Myonen/Messdate/Diskriminator/"
   ]
  },
  {
   "cell_type": "code",
   "execution_count": 18,
   "metadata": {
    "collapsed": false
   },
   "outputs": [],
   "source": [
    "D_list = []\n",
    "D_list.append(np.array(pd.read_csv(\"PM1\", delim_whitespace=2)).T)\n",
    "D_list.append(np.array(pd.read_csv(\"PM2\", delim_whitespace=2)).T)\n",
    "D_list.append(np.array(pd.read_csv(\"PM3\", delim_whitespace=2)).T)\n",
    "D_list.append(np.array(pd.read_csv(\"PM4\", delim_whitespace=2)).T)"
   ]
  },
  {
   "cell_type": "markdown",
   "metadata": {},
   "source": [
    "###Diskriminator 1:"
   ]
  },
  {
   "cell_type": "code",
<<<<<<< HEAD
   "execution_count": 28,
=======
   "execution_count": 19,
>>>>>>> 60c9ddc553b8939b1ea512b11268dfcf3cdc30ab
   "metadata": {
    "collapsed": false
   },
   "outputs": [],
   "source": [
    "plt.errorbar(D_list[0][0], (D_list[0][1]-D_list[0][2])/10, np.sqrt(D_list[0][1]+D_list[0][2])/10 ,fmt = '. r' , markersize = 6, label = 'Kalibrierung Diskriminator 1')\n",
    "plt.plot(np.arange(0.25,0.8,0.1),np.arange(0.25,0.8,0.1)/np.arange(0.25,0.8,0.1)*(D_list[0][1][0]-D_list[0][2][0])/20, 'b',label = 'Hälfte des Maximalwertes')\n",
    "plt.plot(D_list[0][0][-2], (D_list[0][1][-2]-D_list[0][2][-2])/10,'.g', label = 'Verwendeter Punkt', markersize = 8)\n",
    "plt.xlim([0.25,0.8])\n",
    "plt.ylim([1000,2200])\n",
    "plt.legend(loc = 'best', fontsize = 22)\n",
    "plt.tick_params(labelsize= 22)\n",
    "plt.ylabel(r\"Counts/s\", fontsize = 26)\n",
    "plt.xlabel(\"Schwelle/V\", fontsize = 26)\n",
    "plt.show()"
   ]
  },
  {
   "cell_type": "markdown",
   "metadata": {},
   "source": [
    "###Diskriminator 2"
   ]
  },
  {
   "cell_type": "code",
   "execution_count": null,
   "metadata": {
    "collapsed": false
   },
   "outputs": [],
   "source": [
    "plt.errorbar(D_list[1][0], (D_list[1][1]-D_list[1][2])/10, np.sqrt(D_list[1][1]+D_list[1][2])/10 ,fmt='. r', markersize = 6,label = 'Kalibrierung Diskriminator 2')\n",
    "plt.plot(np.arange(0.25,0.8,0.1),np.arange(0.25,0.8,0.1)/np.arange(0.25,0.8,0.1)*(D_list[1][1][0]-D_list[1][2][0])/20,'b',label = 'Hälfte des Maximalwertes',)\n",
    "plt.plot(D_list[1][0][-1], (D_list[1][1][-1]-D_list[1][2][-1])/10,'.g', label = 'Verwendeter Punkt', markersize = 8)\n",
    "plt.xlim([0.25,0.8])\n",
    "plt.ylim([600,1800])\n",
    "plt.legend(loc = 'best', fontsize = 22)\n",
    "plt.tick_params(labelsize= 22)\n",
    "plt.ylabel(r\"Counts/s\", fontsize = 26)\n",
    "plt.xlabel(\"Schwelle/V\", fontsize = 26)\n",
    "plt.show()"
   ]
  },
  {
   "cell_type": "markdown",
   "metadata": {},
   "source": [
    "###Diskriminator 3"
   ]
  },
  {
   "cell_type": "code",
   "execution_count": null,
   "metadata": {
    "collapsed": false
   },
   "outputs": [],
   "source": [
    "plt.errorbar(D_list[2][0], (D_list[2][1]-D_list[2][2])/10, np.sqrt(D_list[2][1]+D_list[2][2])/10 , fmt='. r', markersize =6,label = 'Kalibrierung Diskriminator 3')\n",
    "plt.plot(np.arange(0.25,0.8,0.1),np.arange(0.25,0.8,0.1)/np.arange(0.25,0.8,0.1)*(D_list[2][1][0]-D_list[2][2][0])/20,'b',label = 'Hälfte des Maximalwertes',)\n",
    "plt.plot(D_list[2][0][-9], (D_list[2][1][-9]-D_list[2][2][-9])/10,'.g', label = 'Verwendeter Punkt', markersize = 8)\n",
    "plt.xlim([0.25,0.8])\n",
    "plt.ylim([0,500])\n",
    "plt.legend(loc = 'best', fontsize = 22)\n",
    "plt.tick_params(labelsize= 22)\n",
    "plt.ylabel(r\"Counts/s\", fontsize = 26)\n",
    "plt.xlabel(\"Schwelle/V\", fontsize = 26)\n",
    "plt.show()"
   ]
  },
  {
   "cell_type": "markdown",
   "metadata": {},
   "source": [
    "###Diskriminator 4"
   ]
  },
  {
   "cell_type": "code",
   "execution_count": null,
   "metadata": {
    "collapsed": false
   },
   "outputs": [],
   "source": [
    "plt.errorbar(D_list[3][0], (D_list[3][1]-D_list[3][2])/10,np.sqrt(D_list[3][1]+D_list[3][2])/10 , fmt='. r', markersize = 6,label = 'Kalibrierung Diskriminator 4')\n",
    "plt.plot(np.arange(0.25,0.6,0.1),np.arange(0.25,0.6,0.1)/np.arange(0.25,0.6,0.1)*(D_list[3][1][0]-D_list[3][2][0])/20,'b', label = 'Hälfte des Maximalwertes')\n",
    "plt.plot(D_list[3][0][-2], (D_list[3][1][-2]-D_list[3][2][-2])/10,'.g', label = 'Verwendeter Punkt', markersize = 8)\n",
    "plt.xlim([0.25,0.6])\n",
    "plt.legend(loc = 'best', fontsize = 22)\n",
    "plt.tick_params(labelsize= 22)\n",
    "plt.xlim([0.25,0.8])\n",
    "plt.ylabel(r\"Counts/s\", fontsize = 26)\n",
    "plt.xlabel(\"Schwelle/V\", fontsize = 26)\n",
    "plt.show()"
   ]
  },
  {
   "cell_type": "markdown",
   "metadata": {},
   "source": [
    "###Ergebnisse:\n",
    "Als Schwelle für die Diskriminatoren ergaben sich die folgenden Werte:\n",
    "####Diskriminator 1: <font color=\"red\">0,70V</font>\n",
    "####Diskriminator 2:  <font color=\"red\">0.51V</font>\n",
    "####Diskriminator 3:\n",
    "#####Untere: <font color=\"red\">0,41V</font>\n",
    "#####Obere: <font color=\"red\">0.52V</font>\n",
    "####Diskriminator 4: <font color=\"red\">0,49V</font>"
   ]
  },
  {
   "cell_type": "markdown",
   "metadata": {},
   "source": [
    "##Teil 3: Delay"
   ]
  },
  {
   "cell_type": "code",
   "execution_count": null,
   "metadata": {
    "collapsed": false
   },
   "outputs": [],
   "source": [
    "cd /home/arrow13/Git/FP/Myonen/Messdate/Delay/"
   ]
  },
  {
   "cell_type": "code",
   "execution_count": null,
   "metadata": {
    "collapsed": true
   },
   "outputs": [],
   "source": [
    "Delay_list = []\n",
    "Delay_list.append(np.array(pd.read_csv(\"PM1\", delim_whitespace=2)).T)\n",
    "Delay_list.append(np.array(pd.read_csv(\"PM2\", delim_whitespace=2)).T)"
   ]
  },
  {
   "cell_type": "markdown",
   "metadata": {},
   "source": [
    "###Delay PM1"
   ]
  },
  {
   "cell_type": "code",
   "execution_count": null,
   "metadata": {
    "collapsed": false
   },
   "outputs": [],
   "source": [
    "plt.plot(Delay_list[0][0], Delay_list[0][1],'.r', label=\"PM1\")\n",
    "plt.xlabel(\"Delay/s\", fontsize=22)\n",
    "plt.ylabel(\"Counts\", fontsize=22)\n",
    "plt.xlim([-2,64])\n",
    "plt.legend()\n",
    "plt.show()"
   ]
  },
  {
   "cell_type": "markdown",
   "metadata": {},
   "source": [
    "###Delay PM2"
   ]
  },
  {
   "cell_type": "code",
   "execution_count": null,
   "metadata": {
    "collapsed": false
   },
   "outputs": [],
   "source": [
    "plt.plot(Delay_list[1][0], Delay_list[1][1],'.r', label=\"PM2\")\n",
    "plt.xlabel(\"Delay/s\", fontsize=22)\n",
    "plt.ylabel(\"Counts\", fontsize=22)\n",
    "plt.xlim([-2,64])\n",
    "plt.ylim([0,400])\n",
    "plt.legend()\n",
    "plt.show()"
   ]
  },
  {
   "cell_type": "markdown",
   "metadata": {},
   "source": [
    "###Ergebnisse:\n",
    "Die bestimmten Delays für PM1 und PM2 sind im folgenden zu sehen.\n",
    "####Delay PM1:  <font color=\"red\">9</font>\n",
    "####Delay PM2:  <font color=\"red\">24</font>"
   ]
  },
  {
   "cell_type": "markdown",
   "metadata": {},
   "source": [
    "##Teil 4: Kanal-Zeit-Kalibrierung"
   ]
  },
  {
   "cell_type": "code",
   "execution_count": null,
   "metadata": {
    "collapsed": false
   },
   "outputs": [],
   "source": [
    "cd /home/arrow13/Git/FP/Myonen/Messdate/Kanal_Zeit/"
   ]
  },
  {
   "cell_type": "code",
   "execution_count": null,
   "metadata": {
    "collapsed": true
   },
   "outputs": [],
   "source": [
    "kanal_zeit = np.array(pd.read_csv(\"kalib\", delim_whitespace=2)).T\n"
   ]
  },
  {
   "cell_type": "code",
   "execution_count": null,
   "metadata": {
    "collapsed": false,
    "scrolled": true
   },
   "outputs": [],
   "source": [
    "mod = LinearModel()\n",
    "guess = mod.guess(kanal_zeit[1],x=kanal_zeit[0])\n",
    "fit = mod.fit(kanal_zeit[1], guess, x=kanal_zeit[0])\n",
    "print(fit.fit_report(min_correl=0.25))"
   ]
  },
  {
   "cell_type": "code",
   "execution_count": null,
   "metadata": {
    "collapsed": false
   },
   "outputs": [],
   "source": [
    "print(kanal_zeit[2])"
   ]
  },
  {
   "cell_type": "code",
   "execution_count": null,
   "metadata": {
    "collapsed": false
   },
   "outputs": [],
   "source": [
    "plt.errorbar(kanal_zeit[0], kanal_zeit[1],yerr=kanal_zeit[2]*5,fmt=\". r\",label=\"Kanal-Zeit\")\n",
    "plt.plot(kanal_zeit[0], fit.best_fit, '-b', label=\"Linearer Fit der Kanal-Zeit\")\n",
    "plt.xlabel(\"Kanal\", fontsize=22)\n",
    "plt.ylabel(\"Zeit\", fontsize=22)\n",
    "#plt.xlim([-2,64])\n",
    "#plt.ylim([0,400])\n",
    "plt.legend()\n",
    "plt.show()"
   ]
  },
  {
   "cell_type": "markdown",
   "metadata": {},
   "source": [
    "# Iteration für Tau:"
   ]
  },
  {
   "cell_type": "code",
   "execution_count": null,
   "metadata": {
    "collapsed": false
   },
   "outputs": [],
   "source": [
    "def arith_mittel(N_k,t_k):\n",
    "    mu = 1/np.sum(N_k)*np.sum(N_k*t_k)\n",
    "    return mu\n",
    "#mu = {arith_mittel(counts, time_channel)}\n",
    "#T = Obere Zeitschranke"
   ]
  },
  {
   "cell_type": "code",
   "execution_count": null,
   "metadata": {
    "collapsed": true
   },
   "outputs": [],
   "source": [
    "def tau_iter(mu_iter_1):\n",
    "    mu_iter_2 = mu_iter_1 + T*np.exp(-T/mu_iter_1)/(1-np.exp(-T/mu_iter_1))\n",
    "    return mu_iter_2"
   ]
  },
  {
   "cell_type": "code",
   "execution_count": null,
   "metadata": {
    "collapsed": false
   },
   "outputs": [],
   "source": [
    "for i in range (0,10**6):\n",
    "    mu.append(tau_iter(mu[i]))\n",
    "    if mu[-1]-mu[-2] <= 10**(-6):\n",
    "        break\n",
    "print mu[-1]"
   ]
  }
 ],
 "metadata": {
  "kernelspec": {
   "display_name": "Python 3",
   "language": "python",
   "name": "python3"
  },
  "language_info": {
   "codemirror_mode": {
    "name": "ipython",
    "version": 3
   },
   "file_extension": ".py",
   "mimetype": "text/x-python",
   "name": "python",
   "nbconvert_exporter": "python",
   "pygments_lexer": "ipython3",
   "version": "3.4.3"
  }
 },
 "nbformat": 4,
 "nbformat_minor": 0
}
