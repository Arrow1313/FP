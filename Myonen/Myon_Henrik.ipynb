{
 "cells": [
  {
   "cell_type": "code",
   "execution_count": 1,
   "metadata": {
    "collapsed": false
   },
   "outputs": [
    {
     "name": "stderr",
     "output_type": "stream",
     "text": [
      "/home/frederik/anaconda3/lib/python3.4/site-packages/IPython/html.py:14: ShimWarning: The `IPython.html` package has been deprecated. You should import from `notebook` instead. `IPython.html.widgets` has moved to `ipywidgets`.\n",
      "  \"`IPython.html.widgets` has moved to `ipywidgets`.\", ShimWarning)\n"
     ]
    }
   ],
   "source": [
    "import numpy as np\n",
    "import pandas as pd\n",
    "import matplotlib.pyplot as plt\n",
    "from lmfit.models import VoigtModel, LinearModel"
   ]
  },
  {
   "cell_type": "code",
   "execution_count": 2,
   "metadata": {
    "collapsed": false
   },
   "outputs": [],
   "source": [
    "#%pylab inline\n",
    "#pylab.rcParams['figure.figsize'] = (21.0, 16.0)"
   ]
  },
  {
   "cell_type": "markdown",
   "metadata": {},
   "source": [
    "#Eichung:-----\n",
    "##Teil 1: Einstellen der Photomuliplier"
   ]
  },
  {
   "cell_type": "code",
   "execution_count": 3,
   "metadata": {
    "collapsed": false
   },
   "outputs": [
    {
     "name": "stdout",
     "output_type": "stream",
     "text": [
      "/home/arrow13/Git/FP/Myonen/Messdate/photomulipier\n"
     ]
    }
   ],
   "source": [
    "cd /home/arrow13/Git/FP/Myonen/Messdate/photomulipier/"
   ]
  },
  {
   "cell_type": "code",
   "execution_count": 4,
   "metadata": {
    "collapsed": true
   },
   "outputs": [],
   "source": [
    "def err_coutrate(counts,time,err_time):\n",
    "    '''\n",
    "        Bestimmung der Fehlers der logarithmischen Countrate\n",
    "    '''\n",
    "    err_ct = np.sqrt(np.square(np.sqrt(counts)/time)+np.square((err_time*counts)/(err_time**2)))\n",
    "    err_log_ct = err_ct/counts/time\n",
    "    err_log_c = np.sqrt(counts)/counts\n",
    "    return err_log_c"
   ]
  },
  {
   "cell_type": "code",
   "execution_count": 5,
   "metadata": {
    "collapsed": false
   },
   "outputs": [],
   "source": [
    "err_Zeit = [0.5,2]\n",
    "err_Spannung = [1,1]\n",
    "PM_list = []\n",
    "PM_list.append(np.array(pd.read_csv(\"PM1\", delim_whitespace=2)).T)\n",
    "PM_list.append(np.array(pd.read_csv(\"PM2\", delim_whitespace=2)).T)\n",
    "PM_list.append(np.array(pd.read_csv(\"PM3-backup\", delim_whitespace=2)).T)\n",
    "PM_list.append(np.array(pd.read_csv(\"PM4\", delim_whitespace=2)).T)"
   ]
  },
  {
   "cell_type": "markdown",
   "metadata": {},
   "source": [
    "###PM1: Auswertung"
   ]
  },
  {
   "cell_type": "code",
   "execution_count": 6,
   "metadata": {
    "collapsed": false
   },
   "outputs": [],
   "source": [
    "plt.errorbar(PM_list[0][0], np.log(PM_list[0][1]/PM_list[0][2]),err_coutrate(PM_list[0][1],PM_list[0][2],1), xerr=PM_list[0][3], fmt='. ', label=\"Kalibrierung von PM1\")\n",
    "plt.xlabel(r\"Spannung/V\",fontsize=22)\n",
    "plt.ylabel(r\"ln(Countrate/s$^{-1})$\",fontsize=22)\n",
    "plt.xlim([1690,2100])\n",
    "plt.ylim([-4,10])\n",
    "plt.legend(loc=\"best\")\n",
    "plt.tight_layout()\n",
    "plt.show()"
   ]
  },
  {
   "cell_type": "markdown",
   "metadata": {},
   "source": [
    "###PM2: Auswertung"
   ]
  },
  {
   "cell_type": "code",
   "execution_count": 7,
   "metadata": {
    "collapsed": false
   },
   "outputs": [],
   "source": [
    "plt.errorbar(PM_list[1][0], np.log(PM_list[1][1]/PM_list[1][2]),err_coutrate(PM_list[1][1],PM_list[1][2],0.1), fmt='. ', label=\"Kalibrierung von PM1\")\n",
    "plt.xlabel(r\"Spannung/V\",fontsize=22)\n",
    "plt.ylabel(r\"ln(Countrate/s$^{-1})$\",fontsize=22)\n",
    "plt.xlim([1890,2210])\n",
    "plt.ylim([-2,10])\n",
    "plt.legend(loc=\"best\")\n",
    "plt.show()"
   ]
  },
  {
   "cell_type": "markdown",
   "metadata": {},
   "source": [
    "###PM3: Auswertung"
   ]
  },
  {
   "cell_type": "code",
   "execution_count": 8,
   "metadata": {
    "collapsed": false,
    "scrolled": true
   },
   "outputs": [],
   "source": [
    "plt.errorbar(PM_list[2][0], np.log(PM_list[2][1]/PM_list[2][2]),err_coutrate(PM_list[2][1],PM_list[2][2],0.1), fmt='. ', label=\"Kalibrierung von PM1\")\n",
    "plt.xlabel(r\"Spannung/V\",fontsize=22)\n",
    "plt.ylabel(r\"ln(Countrate/s$^{-1})$\",fontsize=22)\n",
    "plt.xlim([2690,3010])\n",
    "plt.ylim([-2,10])\n",
    "plt.legend(loc=\"best\")\n",
    "plt.show()"
   ]
  },
  {
   "cell_type": "markdown",
   "metadata": {},
   "source": [
    "###PM4: Auswertung"
   ]
  },
  {
   "cell_type": "code",
   "execution_count": 9,
   "metadata": {
    "collapsed": false
   },
   "outputs": [],
   "source": [
    "plt.errorbar(PM_list[3][0], np.log(PM_list[3][1]/PM_list[3][2]),err_coutrate(PM_list[3][1],PM_list[3][2],0.1), fmt='. ', label=\"Kalibrierung von PM1\")\n",
    "plt.xlabel(r\"Spannung/V\",fontsize=22)\n",
    "plt.ylabel(r\"ln(Countrate/s$^{-1})$\",fontsize=22)\n",
    "plt.xlim([1890,2210])\n",
    "plt.ylim([-2,10])\n",
    "plt.legend(loc=\"best\")\n",
    "plt.show()"
   ]
  },
  {
   "cell_type": "markdown",
   "metadata": {},
   "source": [
    "###Ergebnisse:\n",
    "Für die Photomuliplier ergaben sich die folgenden Spannungen:\n",
    "\n",
    "####PM1: <font color=\"red\">1870V</font>\n",
    "####PM2: <font color=\"red\">2060V</font>\n",
    "####PM3: <font color=\"red\">2750V</font>\n",
    "####PM4: <font color=\"red\">2085V</font>\n"
   ]
  },
  {
   "cell_type": "markdown",
   "metadata": {},
   "source": [
    "##Teil2: Diskriminator einstellen"
   ]
  },
  {
   "cell_type": "code",
   "execution_count": 7,
   "metadata": {
    "collapsed": false
   },
   "outputs": [
    {
     "name": "stdout",
     "output_type": "stream",
     "text": [
      "/home/arrow13/Git/FP/Myonen/Messdate/Diskriminator\n"
     ]
    }
   ],
   "source": [
    "cd /home/arrow13/Git/FP/Myonen/Messdate/Diskriminator/"
   ]
  },
  {
   "cell_type": "code",
   "execution_count": 8,
   "metadata": {
    "collapsed": false
   },
   "outputs": [],
   "source": [
    "D_list = []\n",
    "D_list.append(np.array(pd.read_csv(\"PM1\", delim_whitespace=2)).T)\n",
    "D_list.append(np.array(pd.read_csv(\"PM2\", delim_whitespace=2)).T)\n",
    "D_list.append(np.array(pd.read_csv(\"PM3\", delim_whitespace=2)).T)\n",
    "D_list.append(np.array(pd.read_csv(\"PM4\", delim_whitespace=2)).T)"
   ]
  },
  {
   "cell_type": "markdown",
   "metadata": {},
   "source": [
    "###Diskriminator 1:"
   ]
  },
  {
   "cell_type": "code",
   "execution_count": 46,
   "metadata": {
    "collapsed": false
   },
   "outputs": [],
   "source": [
    "plt.errorbar(D_list[0][0], (D_list[0][1]-D_list[0][2])/10, np.sqrt(D_list[0][1]+D_list[0][2])/10 ,fmt = '. r' , markersize = 12, label = 'Kalibrierung Diskriminator 1')\n",
    "plt.plot(np.arange(0.25,0.8,0.1),np.arange(0.25,0.8,0.1)/np.arange(0.25,0.8,0.1)*(D_list[0][1][0]-D_list[0][2][0])/20, 'b',label = 'Hälfte des Maximalwertes')\n",
    "plt.plot(D_list[0][0][-2], (D_list[0][1][-2]-D_list[0][2][-2])/10,'.g', label = 'Verwendeter Punkt', markersize = 12)\n",
    "plt.xlim([0.25,0.8])\n",
    "plt.ylim([1000,2200])\n",
    "plt.legend(loc = 'best', fontsize = 22)\n",
    "plt.tick_params(labelsize= 22)\n",
    "plt.ylabel(r\"$\\Delta$Counts/s\", fontsize = 26)\n",
    "plt.xlabel(\"Schwelle/V\", fontsize = 26)\n",
    "plt.show()"
   ]
  },
  {
   "cell_type": "markdown",
   "metadata": {},
   "source": [
    "###Diskriminator 2"
   ]
  },
  {
   "cell_type": "code",
   "execution_count": 47,
   "metadata": {
    "collapsed": false
   },
   "outputs": [],
   "source": [
    "plt.errorbar(D_list[1][0], (D_list[1][1]-D_list[1][2])/10, np.sqrt(D_list[1][1]+D_list[1][2])/10 ,fmt='. r', markersize = 12,label = 'Kalibrierung Diskriminator 2')\n",
    "plt.plot(np.arange(0.25,0.8,0.1),np.arange(0.25,0.8,0.1)/np.arange(0.25,0.8,0.1)*(D_list[1][1][0]-D_list[1][2][0])/20,'b',label = 'Hälfte des Maximalwertes',)\n",
    "plt.plot(D_list[1][0][-1], (D_list[1][1][-1]-D_list[1][2][-1])/10,'.g', label = 'Verwendeter Punkt', markersize = 12)\n",
    "plt.xlim([0.25,0.8])\n",
    "plt.ylim([600,1800])\n",
    "plt.legend(loc = 'best', fontsize = 22)\n",
    "plt.tick_params(labelsize= 22)\n",
    "plt.ylabel(r\"$\\Delta$Counts/s\", fontsize = 26)\n",
    "plt.xlabel(\"Schwelle/V\", fontsize = 26)\n",
    "plt.show()"
   ]
  },
  {
   "cell_type": "markdown",
   "metadata": {},
   "source": [
    "###Diskriminator 3"
   ]
  },
  {
   "cell_type": "code",
   "execution_count": 44,
   "metadata": {
    "collapsed": false
   },
   "outputs": [],
   "source": [
    "plt.errorbar(D_list[2][0], (D_list[2][1]-D_list[2][2])/10, np.sqrt(D_list[2][1]+D_list[2][2])/10 , fmt='. r', markersize =12,label = 'Kalibrierung Diskriminator 3')\n",
    "plt.plot(np.arange(0.25,0.8,0.1),np.arange(0.25,0.8,0.1)/np.arange(0.25,0.8,0.1)*(D_list[2][1][0]-D_list[2][2][0])/20,'b',label = 'Hälfte des Maximalwertes',)\n",
    "plt.plot(np.arange(0.25,0.8,0.1),np.arange(0.25,0.8,0.1)/np.arange(0.25,0.8,0.1)*48.6,'y',label = 'Plateau zwischen erstem und zweite Photon',)\n",
    "plt.plot([D_list[2][0][-9],D_list[2][0][-4]], [(D_list[2][1][-9]-D_list[2][2][-9])/10,(D_list[2][1][-4]-D_list[2][2][-4])/10],'.g', label = 'Verwendete Punkte', markersize = 12)\n",
    "plt.xlim([0.25,0.8])\n",
    "plt.ylim([0,500])\n",
    "plt.legend(loc = 'best', fontsize = 22)\n",
    "plt.tick_params(labelsize= 22)\n",
    "plt.ylabel(r\"$\\Delta$Counts/s\", fontsize = 26)\n",
    "plt.xlabel(\"Schwelle/V\", fontsize = 26)\n",
    "plt.show()"
   ]
  },
  {
   "cell_type": "markdown",
   "metadata": {},
   "source": [
    "###Diskriminator 4"
   ]
  },
  {
   "cell_type": "code",
   "execution_count": 48,
   "metadata": {
    "collapsed": false
   },
   "outputs": [],
   "source": [
    "plt.errorbar(D_list[3][0], (D_list[3][1]-D_list[3][2])/10,np.sqrt(D_list[3][1]+D_list[3][2])/10 , fmt='. r', markersize = 12,label = 'Kalibrierung Diskriminator 4')\n",
    "plt.plot(np.arange(0.25,0.6,0.1),np.arange(0.25,0.6,0.1)/np.arange(0.25,0.6,0.1)*(D_list[3][1][0]-D_list[3][2][0])/20,'b', label = 'Hälfte des Maximalwertes')\n",
    "plt.plot(D_list[3][0][-2], (D_list[3][1][-2]-D_list[3][2][-2])/10,'.g', label = 'Verwendeter Punkt', markersize = 12)\n",
    "plt.xlim([0.25,0.6])\n",
    "plt.legend(loc = 'best', fontsize = 22)\n",
    "plt.tick_params(labelsize= 22)\n",
    "plt.xlim([0.25,0.8])\n",
    "plt.ylabel(r\"$\\Delta$Counts/s\", fontsize = 26)\n",
    "plt.xlabel(\"Schwelle/V\", fontsize = 26)\n",
    "plt.show()"
   ]
  },
  {
   "cell_type": "markdown",
   "metadata": {},
   "source": [
    "###Ergebnisse:\n",
    "Als Schwelle für die Diskriminatoren ergaben sich die folgenden Werte:\n",
    "####Diskriminator 1: <font color=\"red\">0,70V</font>\n",
    "####Diskriminator 2:  <font color=\"red\">0.51V</font>\n",
    "####Diskriminator 3:\n",
    "#####Untere: <font color=\"red\">0,41V</font>\n",
    "#####Obere: <font color=\"red\">0.52V</font>\n",
    "####Diskriminator 4: <font color=\"red\">0,49V</font>"
   ]
  },
  {
   "cell_type": "markdown",
   "metadata": {},
   "source": [
    "##Teil 3: Delay"
   ]
  },
  {
   "cell_type": "code",
   "execution_count": 16,
   "metadata": {
    "collapsed": false
   },
   "outputs": [
    {
     "name": "stdout",
     "output_type": "stream",
     "text": [
      "/home/arrow13/Git/FP/Myonen/Messdate/Delay\n"
     ]
    }
   ],
   "source": [
    "cd /home/arrow13/Git/FP/Myonen/Messdate/Delay/"
   ]
  },
  {
   "cell_type": "code",
   "execution_count": 17,
   "metadata": {
    "collapsed": true
   },
   "outputs": [],
   "source": [
    "Delay_list = []\n",
    "Delay_list.append(np.array(pd.read_csv(\"PM1\", delim_whitespace=2)).T)\n",
    "Delay_list.append(np.array(pd.read_csv(\"PM2\", delim_whitespace=2)).T)"
   ]
  },
  {
   "cell_type": "markdown",
   "metadata": {},
   "source": [
    "###Delay PM1"
   ]
  },
  {
   "cell_type": "code",
   "execution_count": 18,
   "metadata": {
    "collapsed": false
   },
   "outputs": [],
   "source": [
    "plt.plot(Delay_list[0][0], Delay_list[0][1],'.r', label=\"PM1\")\n",
    "plt.xlabel(\"Delay/s\", fontsize=22)\n",
    "plt.ylabel(\"Counts\", fontsize=22)\n",
    "plt.xlim([-2,64])\n",
    "plt.legend()\n",
    "plt.show()"
   ]
  },
  {
   "cell_type": "markdown",
   "metadata": {},
   "source": [
    "###Delay PM2"
   ]
  },
  {
   "cell_type": "code",
   "execution_count": 19,
   "metadata": {
    "collapsed": false
   },
   "outputs": [],
   "source": [
    "plt.plot(Delay_list[1][0], Delay_list[1][1],'.r', label=\"PM2\")\n",
    "plt.xlabel(\"Delay/s\", fontsize=22)\n",
    "plt.ylabel(\"Counts\", fontsize=22)\n",
    "plt.xlim([-2,64])\n",
    "plt.ylim([0,400])\n",
    "plt.legend()\n",
    "plt.show()"
   ]
  },
  {
   "cell_type": "markdown",
   "metadata": {},
   "source": [
    "###Ergebnisse:\n",
    "Die bestimmten Delays für PM1 und PM2 sind im folgenden zu sehen.\n",
    "####Delay PM1:  <font color=\"red\">9</font>\n",
    "####Delay PM2:  <font color=\"red\">24</font>"
   ]
  },
  {
   "cell_type": "markdown",
   "metadata": {},
   "source": [
    "##Teil 4: Kanal-Zeit-Kalibrierung"
   ]
  },
  {
   "cell_type": "code",
   "execution_count": 20,
   "metadata": {
    "collapsed": false
   },
   "outputs": [
    {
     "name": "stdout",
     "output_type": "stream",
     "text": [
      "/home/arrow13/Git/FP/Myonen/Messdate/Kanal_Zeit\n"
     ]
    }
   ],
   "source": [
    "cd /home/arrow13/Git/FP/Myonen/Messdate/Kanal_Zeit/"
   ]
  },
  {
   "cell_type": "code",
   "execution_count": 21,
   "metadata": {
    "collapsed": false
   },
   "outputs": [
    {
     "name": "stdout",
     "output_type": "stream",
     "text": [
      "[[  1.27200000e+03   2.34700000e+03   2.80800000e+03   3.50600000e+03\n",
      "    4.01300000e+03   4.49900000e+03   5.06800000e+03   5.48700000e+03\n",
      "    5.79500000e+03   5.93700000e+03   4.38100000e+03   3.26800000e+03\n",
      "    1.85100000e+03   3.42000000e+02   5.33000000e+02   2.06000000e+02\n",
      "    4.40000000e+01   7.13000000e+02   1.58200000e+03   2.12000000e+03\n",
      "    3.90900000e+03   4.74700000e+03]\n",
      " [  2.80000000e+00   5.06500000e+00   6.02500000e+00   7.50000000e+00\n",
      "    8.56200000e+00   9.58000000e+00   1.07800000e+01   1.16500000e+01\n",
      "    1.22900000e+01   1.25900000e+01   9.33000000e+00   6.99000000e+00\n",
      "    4.02000000e+00   8.40000000e-01   1.25000000e+00   5.61000000e-01\n",
      "    2.10000000e-01   1.63000000e+00   3.45800000e+00   4.57000000e+00\n",
      "    8.49000000e+00   1.02800000e+01]\n",
      " [  1.00000000e-02   1.00000000e-02   1.00000000e-02   1.00000000e-02\n",
      "    1.00000000e-02   1.00000000e-02   1.00000000e-02   1.00000000e-02\n",
      "    1.00000000e-02   1.00000000e-02   1.00000000e-02   1.00000000e-02\n",
      "    1.00000000e-02   1.00000000e-02   1.00000000e-02   1.00000000e-02\n",
      "    1.00000000e-02   1.00000000e-02   1.00000000e-02   1.00000000e-02\n",
      "    1.00000000e-02   1.00000000e-02]\n",
      " [             nan              nan              nan              nan\n",
      "               nan              nan              nan              nan\n",
      "               nan              nan              nan              nan\n",
      "               nan              nan              nan              nan\n",
      "               nan              nan              nan              nan\n",
      "               nan              nan]]\n"
     ]
    }
   ],
   "source": [
    "kanal_zeit = np.array(pd.read_csv(\"kalib\", delim_whitespace=2).T)\n",
    "print(kanal_zeit)"
   ]
  },
  {
   "cell_type": "code",
   "execution_count": 22,
   "metadata": {
    "collapsed": false,
    "scrolled": true
   },
   "outputs": [
    {
     "name": "stdout",
     "output_type": "stream",
     "text": [
      "[[Model]]\n",
      "    Model(linear)\n",
      "[[Fit Statistics]]\n",
      "    # function evals   = 3\n",
      "    # data points      = 22\n",
      "    # variables        = 2\n",
      "    chi-square         = 0.049\n",
      "    reduced chi-square = 0.002\n",
      "[[Variables]]\n",
      "    intercept:   0.12563062 +/- 0.019429 (15.47%) (init= 0.1256306)\n",
      "    slope:       0.00210633 +/- 5.57e-06 (0.26%) (init= 0.002106338)\n",
      "[[Correlations]] (unreported correlations are <  0.250)\n",
      "    C(intercept, slope)          = -0.840 \n",
      "0.23271797304\n"
     ]
    }
   ],
   "source": [
    "mod = LinearModel()\n",
    "guess = mod.guess(kanal_zeit[1],x=kanal_zeit[0])\n",
    "#guess['intercept'].set(0, vary = False)\n",
    "fit = mod.fit(kanal_zeit[1], guess, x=kanal_zeit[0])\n",
    "print(fit.fit_report(min_correl=0.25))\n",
    "print(np.sum(((kanal_zeit[1]-(0.00210633*kanal_zeit[0]+0.12563062))/(kanal_zeit[2]*10))**2)/21)"
   ]
  },
  {
   "cell_type": "code",
   "execution_count": 23,
   "metadata": {
    "collapsed": false
   },
   "outputs": [
    {
     "name": "stdout",
     "output_type": "stream",
     "text": [
      "[ 0.01  0.01  0.01  0.01  0.01  0.01  0.01  0.01  0.01  0.01  0.01  0.01\n",
      "  0.01  0.01  0.01  0.01  0.01  0.01  0.01  0.01  0.01  0.01]\n"
     ]
    }
   ],
   "source": [
    "print(kanal_zeit[2])"
   ]
  },
  {
   "cell_type": "code",
   "execution_count": 24,
   "metadata": {
    "collapsed": false
   },
   "outputs": [],
   "source": [
    "plt.errorbar(kanal_zeit[0], kanal_zeit[1],yerr=kanal_zeit[2]*10,fmt=\". r\",label=\"Kanal-Zeit\")\n",
    "plt.plot(kanal_zeit[0], fit.best_fit, '-b', label=\"Linearer Fit der Kanal-Zeit\")\n",
    "plt.legend(loc = 'best')\n",
    "plt.xlabel(\"Kanal\", fontsize=22)\n",
    "plt.ylabel(\"Zeit\", fontsize=22)\n",
    "plt.xticks(fontsize=22)\n",
    "plt.yticks(fontsize=22)\n",
    "#plt.xlim([-2,64])\n",
    "#plt.ylim([0,400])\n",
    "plt.show()"
   ]
  },
  {
   "cell_type": "markdown",
   "metadata": {},
   "source": [
    "# Altes"
   ]
  },
  {
   "cell_type": "code",
   "execution_count": 25,
   "metadata": {
    "collapsed": true
   },
   "outputs": [],
   "source": [
    "#def tau_iter(mu_iter_1):\n",
    "#    mu_iter_2 = mu_iter_1 + T*np.exp(-T/mu_iter_1)/(1-np.exp(-T/mu_iter_1))\n",
    "#    return mu_iter_2\n",
    "#for i in range (0,10**6):\n",
    "#    mu.append(tau_iter(mu[i]))\n",
    "#    if mu[-1]-mu[-2] <= 10**(-6):\n",
    "#        break\n",
    "#print(mu[-1])"
   ]
  },
  {
   "cell_type": "markdown",
   "metadata": {},
   "source": [
    "# Iteration für Tau:"
   ]
  },
  {
   "cell_type": "code",
   "execution_count": 26,
   "metadata": {
    "collapsed": true
   },
   "outputs": [],
   "source": [
    "import numpy as np\n",
    "import pandas as pd"
   ]
  },
  {
   "cell_type": "code",
   "execution_count": 27,
   "metadata": {
    "collapsed": false
   },
   "outputs": [
    {
     "name": "stdout",
     "output_type": "stream",
     "text": [
      "/home/arrow13/Git/FP/Myonen/Messdate\n"
     ]
    }
   ],
   "source": [
    "cd /home/arrow13/Git/FP/Myonen/Messdate/"
   ]
  },
  {
   "cell_type": "code",
   "execution_count": 28,
   "metadata": {
    "collapsed": false
   },
   "outputs": [
    {
     "name": "stdout",
     "output_type": "stream",
     "text": [
      "[[  1.80000000e+01   1.00000000e+00   1.00000000e+00]\n",
      " [  1.90000000e+01   2.00000000e+00   1.41421000e+00]\n",
      " [  2.00000000e+01   1.00000000e+00   1.00000000e+00]\n",
      " ..., \n",
      " [  8.19000000e+03   0.00000000e+00   0.00000000e+00]\n",
      " [  8.19100000e+03   0.00000000e+00   0.00000000e+00]\n",
      " [  8.19200000e+03   0.00000000e+00   0.00000000e+00]]\n",
      "8175\n",
      "8175\n",
      "[2.9325767671232867e-06, 2.8465564931506842e-06] [1.4808459790630346e-07, 1.4734000350158428e-07] [1.7342549999999999e-05, 1.7461799999999999e-05]\n"
     ]
    }
   ],
   "source": [
    "Kanalskip = 17\n",
    "Kanal_Einträge_Fehler = np.array(\n",
    "    pd.read_csv('Kanal_Einträge_Fehler.dat',\n",
    "                skiprows= Kanalskip, sep = ' ')).T\n",
    "A= [0.002106, 0.002136]\n",
    "B= [0.126, 0]\n",
    "mu = []\n",
    "T = []\n",
    "mu_err = []\n",
    "\n",
    "print(Kanal_Einträge_Fehler.T)\n",
    "print(len(Kanal_Einträge_Fehler[0]))\n",
    "print(len(Kanal_Einträge_Fehler[1]))\n",
    "\n",
    "def arith_mittel(N_k,t_k):\n",
    "    mu = 1/np.sum(N_k)*np.sum(N_k*t_k)\n",
    "    return mu\n",
    "\n",
    "def fehler_tau(N_k,t_k):\n",
    "    mu = 1/np.sum(N_k)*np.sqrt(np.sum(N_k*t_k**2))\n",
    "    return mu\n",
    "\n",
    "for i in range (len(A)):\n",
    "    mu.append(arith_mittel(\n",
    "        Kanal_Einträge_Fehler[1],\n",
    "        (A[i]*(Kanal_Einträge_Fehler[0]-Kanalskip)+B[i])*10**(-6)))\n",
    "    mu_err.append(fehler_tau(\n",
    "        Kanal_Einträge_Fehler[1],\n",
    "        (A[i]*(Kanal_Einträge_Fehler[0]-Kanalskip)+B[i])*10**(-6)))\n",
    "    T.append((A[i]*(\n",
    "        Kanal_Einträge_Fehler[0][-1]-Kanalskip)+B[i])*10**(-6))\n",
    "print(mu, mu_err, T)"
   ]
  },
  {
   "cell_type": "code",
   "execution_count": 29,
   "metadata": {
    "collapsed": false
   },
   "outputs": [],
   "source": [
    "def tau_iter(T,mu_iter_1, mu,a=0):\n",
    "    a += 1\n",
    "    mu_iter_2 = mu + T*np.exp(-T/mu_iter_1)/(1-np.exp(-T/mu_iter_1))\n",
    "    if abs(mu_iter_2-mu_iter_1) > 10**(-24) and a < 10**2:\n",
    "        return tau_iter(T,mu_iter_2,mu,a)\n",
    "    else:\n",
    "        return mu_iter_2, a"
   ]
  },
  {
   "cell_type": "code",
   "execution_count": 30,
   "metadata": {
    "collapsed": false
   },
   "outputs": [
    {
     "name": "stdout",
     "output_type": "stream",
     "text": [
      "16 2.98468981889e-06\n",
      "5.21130517648e-08\n",
      "15 2.88797637641e-06\n",
      "4.14198832624e-08\n"
     ]
    }
   ],
   "source": [
    "for i in range (len(mu)):\n",
    "    tau , anziter = tau_iter(T[i],mu[i],mu[i])\n",
    "    print(anziter, tau)\n",
    "    print(T[i]*np.exp(-T[i]/tau)/(1-np.exp(-T[i]/tau)))"
   ]
  },
  {
   "cell_type": "code",
   "execution_count": 31,
   "metadata": {
    "collapsed": false
   },
   "outputs": [],
   "source": [
    "plt.errorbar(Kanal_Einträge_Fehler[0], Kanal_Einträge_Fehler[1], Kanal_Einträge_Fehler[2], fmt= ' r', alpha = 0.7 , label = 'Fehler')\n",
    "plt.errorbar(Kanal_Einträge_Fehler[0], Kanal_Einträge_Fehler[1], fmt= '.' ,color = '0.01', label = 'Counts', markersize = 8)\n",
    "plt.ylim(ymin = 0 , ymax = 7)\n",
    "plt.ylabel('Counts', size = 24)\n",
    "plt.xlabel('Kanal', size = 24)\n",
    "plt.xticks( size = 14)\n",
    "plt.yticks( size = 14)\n",
    "plt.legend(loc = 'best', fontsize = 24)\n",
    "plt.show()"
   ]
  },
  {
   "cell_type": "code",
   "execution_count": null,
   "metadata": {
    "collapsed": true
   },
   "outputs": [],
   "source": []
  }
 ],
 "metadata": {
  "kernelspec": {
   "display_name": "Python 3",
   "language": "python",
   "name": "python3"
  },
  "language_info": {
   "codemirror_mode": {
    "name": "ipython",
    "version": 3
   },
   "file_extension": ".py",
   "mimetype": "text/x-python",
   "name": "python",
   "nbconvert_exporter": "python",
   "pygments_lexer": "ipython3",
   "version": "3.4.3"
  }
 },
 "nbformat": 4,
 "nbformat_minor": 0
}
