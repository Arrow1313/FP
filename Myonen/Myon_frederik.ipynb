{
 "cells": [
  {
   "cell_type": "code",
   "execution_count": 1,
   "metadata": {
    "collapsed": false
   },
   "outputs": [
    {
     "name": "stderr",
     "output_type": "stream",
     "text": [
      "/home/arrow13/anaconda3/lib/python3.4/site-packages/IPython/html.py:14: ShimWarning: The `IPython.html` package has been deprecated. You should import from `notebook` instead. `IPython.html.widgets` has moved to `ipywidgets`.\n",
      "  \"`IPython.html.widgets` has moved to `ipywidgets`.\", ShimWarning)\n"
     ]
    }
   ],
   "source": [
    "import numpy as np\n",
    "import pandas as pd\n",
    "import matplotlib.pyplot as plt\n",
    "from lmfit.models import VoigtModel, LinearModel"
   ]
  },
  {
   "cell_type": "code",
   "execution_count": 2,
   "metadata": {
    "collapsed": false
   },
   "outputs": [],
   "source": [
    "#%pylab inline\n",
    "#pylab.rcParams['figure.figsize'] = (21.0, 16.0)"
   ]
  },
  {
   "cell_type": "markdown",
   "metadata": {},
   "source": [
    "#Eichung\n",
    "##Teil 1: Einstellen der Photomuliplier"
   ]
  },
  {
   "cell_type": "code",
   "execution_count": 3,
   "metadata": {
    "collapsed": false
   },
   "outputs": [
    {
     "name": "stdout",
     "output_type": "stream",
     "text": [
      "/home/arrow13/Git/FP/Myonen/Messdate/photomulipier\n"
     ]
    }
   ],
   "source": [
    "cd /home/arrow13/Git/FP/Myonen/Messdate/photomulipier/"
   ]
  },
  {
   "cell_type": "code",
   "execution_count": 4,
   "metadata": {
    "collapsed": true
   },
   "outputs": [],
   "source": [
    "def err_coutrate(counts,time,err_time):\n",
    "    '''\n",
    "        Bestimmung der Fehlers der logarithmischen Countrate\n",
    "    '''\n",
    "    err_ct = np.sqrt(np.square(np.sqrt(counts)/time)+np.square((err_time*counts)/(err_time**2)))\n",
    "    err_log_ct = err_ct/counts/time\n",
    "    err_log_c = np.sqrt(counts)/counts\n",
    "    return err_log_c"
   ]
  },
  {
   "cell_type": "code",
   "execution_count": 5,
   "metadata": {
    "collapsed": false
   },
   "outputs": [],
   "source": [
    "err_Zeit = [0.5,2]\n",
    "err_Spannung = [1,1]\n",
    "PM_list = []\n",
    "PM_list.append(np.array(pd.read_csv(\"PM1\", delim_whitespace=2)).T)\n",
    "PM_list.append(np.array(pd.read_csv(\"PM2\", delim_whitespace=2)).T)\n",
    "PM_list.append(np.array(pd.read_csv(\"PM3-backup\", delim_whitespace=2)).T)\n",
    "PM_list.append(np.array(pd.read_csv(\"PM4\", delim_whitespace=2)).T)"
   ]
  },
  {
   "cell_type": "markdown",
   "metadata": {},
   "source": [
    "###PM1: Auswertung"
   ]
  },
  {
   "cell_type": "code",
   "execution_count": 40,
   "metadata": {
    "collapsed": false
   },
   "outputs": [],
   "source": [
    "plt.errorbar(PM_list[0][0], np.log(PM_list[0][1]/PM_list[0][2]),err_coutrate(PM_list[0][1],PM_list[0][2],1), xerr=PM_list[0][3], fmt='. ', label=\"Kalibrierung von PM1\")\n",
    "plt.plot(np.arange(-1,10,1)/np.arange(-1,10,1)*1870,np.arange(-1,10,1), label=\"Bestimmter optimaler Arbeitspunkt\")\n",
    "plt.tick_params(labelsize=22)\n",
    "plt.xlabel(r\"Spannung/V\",fontsize=22)\n",
    "plt.ylabel(r\"ln(Countrate/s)\",fontsize=22)\n",
    "plt.xlim([1690,2100])\n",
    "plt.ylim([-4,10])\n",
    "plt.legend(loc=\"best\",fontsize=22)\n",
    "plt.tight_layout()\n",
    "plt.show()"
   ]
  },
  {
   "cell_type": "markdown",
   "metadata": {},
   "source": [
    "###PM2: Auswertung"
   ]
  },
  {
   "cell_type": "code",
   "execution_count": 7,
   "metadata": {
    "collapsed": false
   },
   "outputs": [],
   "source": [
    "plt.errorbar(PM_list[1][0], np.log(PM_list[1][1]/PM_list[1][2]),err_coutrate(PM_list[1][1],PM_list[1][2],0.1), fmt='. ', label=\"Kalibrierung von PM2\")\n",
    "plt.plot(np.arange(-1,10,1)/np.arange(-1,10,1)*2060,np.arange(-1,10,1), label=\"Bestimmter optimaler Arbeitspunkt\")\n",
    "plt.tick_params(labelsize=22)\n",
    "plt.xlabel(r\"Spannung/V\",fontsize=22)\n",
    "plt.ylabel(r\"ln(Countrate/s)\",fontsize=22)\n",
    "plt.xlim([1890,2210])\n",
    "plt.ylim([-2,10])\n",
    "plt.legend(loc=\"best\",fontsize=22)\n",
    "plt.show()"
   ]
  },
  {
   "cell_type": "markdown",
   "metadata": {},
   "source": [
    "###PM3: Auswertung"
   ]
  },
  {
   "cell_type": "code",
   "execution_count": 8,
   "metadata": {
    "collapsed": false,
    "scrolled": true
   },
   "outputs": [],
   "source": [
    "plt.errorbar(PM_list[2][0], np.log(PM_list[2][1]/PM_list[2][2]),err_coutrate(PM_list[2][1],PM_list[2][2],0.1), fmt='. ', label=\"Kalibrierung von PM3\")\n",
    "plt.plot(np.arange(-1,10,1)/np.arange(-1,10,1)*2750,np.arange(-1,10,1), label=\"Bestimmter optimaler Arbeitspunkt\")\n",
    "plt.tick_params(labelsize=22)\n",
    "plt.xlabel(r\"Spannung/V\",fontsize=22)\n",
    "plt.ylabel(r\"ln(Countrate/s)\",fontsize=22)\n",
    "plt.xlim([2690,3010])\n",
    "plt.ylim([-2,10])\n",
    "plt.legend(loc=\"best\",fontsize=22)\n",
    "plt.show()"
   ]
  },
  {
   "cell_type": "markdown",
   "metadata": {},
   "source": [
    "###PM4: Auswertung"
   ]
  },
  {
   "cell_type": "code",
   "execution_count": 9,
   "metadata": {
    "collapsed": false
   },
   "outputs": [],
   "source": [
    "plt.errorbar(PM_list[3][0], np.log(PM_list[3][1]/PM_list[3][2]),err_coutrate(PM_list[3][1],PM_list[3][2],0.1), fmt='. ', label=\"Kalibrierung von PM4\")\n",
    "plt.plot(np.arange(-1,10,1)/np.arange(-1,10,1)*2085,np.arange(-1,10,1), label=\"Bestimmter optimaler Arbeitspunkt\")\n",
    "plt.tick_params(labelsize=22)\n",
    "plt.xlabel(r\"Spannung/V\",fontsize=22)\n",
    "plt.ylabel(r\"ln(Countrate/s)\",fontsize=22)\n",
    "plt.xlim([1890,2210])\n",
    "plt.ylim([-2,10])\n",
    "plt.legend(loc=\"best\",fontsize=22)\n",
    "plt.show()"
   ]
  },
  {
   "cell_type": "markdown",
   "metadata": {},
   "source": [
    "###Ergebnisse:\n",
    "Für die Photomuliplier ergaben sich die folgenden Spannungen:\n",
    "\n",
    "####PM1: <font color=\"red\">1870V</font>\n",
    "####PM2: <font color=\"red\">2060V</font>\n",
    "####PM3: <font color=\"red\">2750V</font>\n",
    "####PM4: <font color=\"red\">2085V</font>\n"
   ]
  },
  {
   "cell_type": "markdown",
   "metadata": {},
   "source": [
    "##Teil2: Diskriminator einstellen"
   ]
  },
  {
   "cell_type": "code",
   "execution_count": 10,
   "metadata": {
    "collapsed": false
   },
   "outputs": [
    {
     "name": "stdout",
     "output_type": "stream",
     "text": [
      "[Errno 2] Datei oder Verzeichnis nicht gefunden: '/home/arrow13/Dokumente/FP/Myonen/Messdate/Diskriminator/'\n",
      "/home/arrow13/Git/FP/Myonen/Messdate/photomulipier\n"
     ]
    }
   ],
   "source": [
    "cd ~/Dokumente/FP/Myonen/Messdate/Diskriminator/"
   ]
  },
  {
   "cell_type": "code",
   "execution_count": 11,
   "metadata": {
    "collapsed": false
   },
   "outputs": [],
   "source": [
    "D_list = []\n",
    "D_list.append(np.array(pd.read_csv(\"PM1\", delim_whitespace=2)).T)\n",
    "D_list.append(np.array(pd.read_csv(\"PM2\", delim_whitespace=2)).T)\n",
    "D_list.append(np.array(pd.read_csv(\"PM3\", delim_whitespace=2)).T)\n",
    "D_list.append(np.array(pd.read_csv(\"PM4\", delim_whitespace=2)).T)"
   ]
  },
  {
   "cell_type": "markdown",
   "metadata": {},
   "source": [
    "###Diskriminator 1:"
   ]
  },
  {
   "cell_type": "code",
   "execution_count": 12,
   "metadata": {
    "collapsed": false
   },
   "outputs": [],
   "source": [
    "plt.plot(D_list[0][0], (D_list[0][1]-D_list[0][2])/10, '.r')\n",
    "plt.plot(np.arange(0.25,0.8,0.1),np.arange(0.25,0.8,0.1)/np.arange(0.25,0.8,0.1)*(D_list[0][1][0]-D_list[0][2][0])/20)\n",
    "plt.xlim([0.25,0.8])\n",
    "plt.ylabel(r\"Counts/s$^{-1}$\")\n",
    "plt.xlabel(\"Schwelle/V\")\n",
    "plt.show()"
   ]
  },
  {
   "cell_type": "markdown",
   "metadata": {},
   "source": [
    "###Diskriminator 2"
   ]
  },
  {
   "cell_type": "code",
   "execution_count": 13,
   "metadata": {
    "collapsed": false
   },
   "outputs": [],
   "source": [
    "plt.plot(D_list[1][0], (D_list[1][1]-D_list[1][2])/10, '.r')\n",
    "plt.plot(np.arange(0.25,0.8,0.1),np.arange(0.25,0.8,0.1)/np.arange(0.25,0.8,0.1)*(D_list[1][1][0]-D_list[1][2][0])/20)\n",
    "plt.xlim([0.25,0.8])\n",
    "plt.ylabel(r\"Counts/s$^{-1}$\")\n",
    "plt.xlabel(\"Schwelle/V\")\n",
    "plt.show()"
   ]
  },
  {
   "cell_type": "markdown",
   "metadata": {},
   "source": [
    "###Diskriminator 3"
   ]
  },
  {
   "cell_type": "code",
   "execution_count": 14,
   "metadata": {
    "collapsed": false
   },
   "outputs": [],
   "source": [
    "plt.plot(D_list[2][0], (D_list[2][1]-D_list[2][2])/10, '.r')\n",
    "plt.plot(np.arange(0.25,0.8,0.1),np.arange(0.25,0.8,0.1)/np.arange(0.25,0.8,0.1)*(D_list[2][1][0]-D_list[2][2][0])/20)\n",
    "plt.xlim([0.25,0.8])\n",
    "plt.ylabel(r\"Counts/s$^{-1}$\")\n",
    "plt.xlabel(\"Schwelle/V\")\n",
    "plt.show()"
   ]
  },
  {
   "cell_type": "markdown",
   "metadata": {},
   "source": [
    "###Diskriminator 4"
   ]
  },
  {
   "cell_type": "code",
   "execution_count": 15,
   "metadata": {
    "collapsed": false
   },
   "outputs": [],
   "source": [
    "plt.plot(D_list[3][0], (D_list[3][1]-D_list[3][2])/10, '.r')\n",
    "plt.plot(np.arange(0.25,0.6,0.1),np.arange(0.25,0.6,0.1)/np.arange(0.25,0.6,0.1)*(D_list[3][1][0]-D_list[3][2][0])/20)\n",
    "plt.xlim([0.25,0.6])\n",
    "plt.ylabel(r\"Counts/s$^{-1}$\")\n",
    "plt.xlabel(\"Schwelle/V\")\n",
    "plt.show()"
   ]
  },
  {
   "cell_type": "markdown",
   "metadata": {},
   "source": [
    "###Ergebnisse:\n",
    "Als Schwelle für die Diskriminatoren ergaben sich die folgenden Werte:\n",
    "####Diskriminator 1: <font color=\"red\">0,70V</font>\n",
    "####Diskriminator 2:  <font color=\"red\">0.51V</font>\n",
    "####Diskriminator 3:\n",
    "#####Untere: <font color=\"red\">0,41V</font>\n",
    "#####Obere: <font color=\"red\">0.52V</font>\n",
    "####Diskriminator 4: <font color=\"red\">0,49V</font>"
   ]
  },
  {
   "cell_type": "markdown",
   "metadata": {},
   "source": [
    "##Teil 3: Delay"
   ]
  },
  {
   "cell_type": "code",
   "execution_count": 16,
   "metadata": {
    "collapsed": false
   },
   "outputs": [
    {
     "name": "stdout",
     "output_type": "stream",
     "text": [
      "/home/arrow13/Git/FP/Myonen/Messdate/Delay\n"
     ]
    }
   ],
   "source": [
    "cd /home/arrow13/Git/FP/Myonen/Messdate/Delay/"
   ]
  },
  {
   "cell_type": "code",
   "execution_count": 17,
   "metadata": {
    "collapsed": true
   },
   "outputs": [],
   "source": [
    "Delay_list = []\n",
    "Delay_list.append(np.array(pd.read_csv(\"PM1\", delim_whitespace=2)).T)\n",
    "Delay_list.append(np.array(pd.read_csv(\"PM2\", delim_whitespace=2)).T)"
   ]
  },
  {
   "cell_type": "markdown",
   "metadata": {},
   "source": [
    "###Delay PM1"
   ]
  },
  {
   "cell_type": "code",
   "execution_count": 32,
   "metadata": {
    "collapsed": false
   },
   "outputs": [],
   "source": [
    "plt.plot(Delay_list[0][0], Delay_list[0][1],'.r', label=\"PM1\", markersize = 10)\n",
    "plt.xlabel(\"Delay/s\", fontsize=22)\n",
    "plt.ylabel(\"Counts\", fontsize=22)\n",
    "plt.tick_params(labelsize=22)\n",
    "plt.xlim([-2,64])\n",
    "plt.legend()\n",
    "plt.show()"
   ]
  },
  {
   "cell_type": "markdown",
   "metadata": {},
   "source": [
    "###Delay PM2"
   ]
  },
  {
   "cell_type": "code",
   "execution_count": 33,
   "metadata": {
    "collapsed": false
   },
   "outputs": [],
   "source": [
    "plt.plot(Delay_list[1][0], Delay_list[1][1],'.r', label=\"PM2\", markersize = 10)\n",
    "plt.xlabel(\"Delay/s\", fontsize=22)\n",
    "plt.ylabel(\"Counts\", fontsize=22)\n",
    "plt.tick_params(labelsize=22)\n",
    "plt.xlim([-2,64])\n",
    "plt.ylim([0,400])\n",
    "plt.legend()\n",
    "plt.show()"
   ]
  },
  {
   "cell_type": "markdown",
   "metadata": {},
   "source": [
    "###Ergebnisse:\n",
    "Die bestimmten Delays für PM1 und PM2 sind im folgenden zu sehen.\n",
    "####Delay PM1:  <font color=\"red\">9</font>\n",
    "####Delay PM2:  <font color=\"red\">24</font>"
   ]
  },
  {
   "cell_type": "markdown",
   "metadata": {},
   "source": [
    "##Teil 4: Kanal-Zeit-Kalibrierung"
   ]
  },
  {
   "cell_type": "code",
   "execution_count": 34,
   "metadata": {
    "collapsed": false
   },
   "outputs": [
    {
     "name": "stdout",
     "output_type": "stream",
     "text": [
      "/home/arrow13/Git/FP/Myonen/Messdate/Kanal_Zeit\n"
     ]
    }
   ],
   "source": [
    "cd /home/arrow13/Git/FP/Myonen/Messdate/Kanal_Zeit/"
   ]
  },
  {
   "cell_type": "code",
   "execution_count": 35,
   "metadata": {
    "collapsed": false
   },
   "outputs": [
    {
     "name": "stdout",
     "output_type": "stream",
     "text": [
      "[ 0.01  0.01  0.01  0.01  0.01  0.01  0.01  0.01  0.01  0.01  0.01  0.01\n",
      "  0.01  0.01  0.01  0.01  0.01  0.01  0.01  0.01  0.01  0.01]\n"
     ]
    }
   ],
   "source": [
    "kanal_zeit = np.array(pd.read_csv(\"kalib\", delim_whitespace=2)).T\n",
    "print(kanal_zeit[2])"
   ]
  },
  {
   "cell_type": "code",
   "execution_count": 46,
   "metadata": {
    "collapsed": false,
    "scrolled": true
   },
   "outputs": [
    {
     "name": "stdout",
     "output_type": "stream",
     "text": [
      "[[Model]]\n",
      "    Model(linear)\n",
      "[[Fit Statistics]]\n",
      "    # function evals   = 3\n",
      "    # data points      = 22\n",
      "    # variables        = 2\n",
      "    chi-square         = 488.708\n",
      "    reduced chi-square = 24.435\n",
      "[[Variables]]\n",
      "    intercept:   0.12563062 +/- 0.019429 (15.47%) (init= 0.1256306)\n",
      "    slope:       0.00210633 +/- 5.57e-06 (0.26%) (init= 0.002106338)\n",
      "[[Correlations]] (unreported correlations are <  0.250)\n",
      "    C(intercept, slope)          = -0.840 \n"
     ]
    }
   ],
   "source": [
    "mod = LinearModel()\n",
    "guess = mod.guess(kanal_zeit[1],x=kanal_zeit[0])\n",
    "fit = mod.fit(kanal_zeit[1], guess, x=kanal_zeit[0], weights = 1/(kanal_zeit[2]))\n",
    "print(fit.fit_report(min_correl=0.25))"
   ]
  },
  {
   "cell_type": "code",
   "execution_count": 44,
   "metadata": {
    "collapsed": false
   },
   "outputs": [],
   "source": [
    "plt.errorbar(kanal_zeit[0], kanal_zeit[1],yerr=kanal_zeit[2]*10,fmt=\". r\",label=\"Kanal-Zeit\")\n",
    "plt.plot(kanal_zeit[0], fit.best_fit, '-b', label=\"Linearer Fit der Kanal-Zeit\")\n",
    "plt.tick_params(labelsize=22)\n",
    "plt.xlabel(\"Kanal\", fontsize=22)\n",
    "plt.ylabel(r\"Zeit/$\\mu$s\", fontsize=22)\n",
    "#plt.xlim([-2,64])\n",
    "#plt.ylim([0,400])\n",
    "plt.legend(loc=\"best\",fontsize=22)\n",
    "plt.show()"
   ]
  },
  {
   "cell_type": "code",
   "execution_count": 24,
   "metadata": {
    "collapsed": false
   },
   "outputs": [
    {
     "data": {
      "text/plain": [
       "24.435379211546937"
      ]
     },
     "execution_count": 24,
     "metadata": {},
     "output_type": "execute_result"
    }
   ],
   "source": [
    "sum(((kanal_zeit[1]-fit.best_fit)**2)/0.01**2)/20"
   ]
  },
  {
   "cell_type": "code",
   "execution_count": 25,
   "metadata": {
    "collapsed": false
   },
   "outputs": [
    {
     "data": {
      "text/plain": [
       "-0.0010643124925967353"
      ]
     },
     "execution_count": 25,
     "metadata": {},
     "output_type": "execute_result"
    }
   ],
   "source": [
    "sum((kanal_zeit[1]-fit.best_fit)/(0.01**2))/19"
   ]
  },
  {
   "cell_type": "code",
   "execution_count": 26,
   "metadata": {
    "collapsed": false
   },
   "outputs": [
    {
     "name": "stdout",
     "output_type": "stream",
     "text": [
      "[ 2  1  1 -2  3  4 -4 -3  2  4 -1 -4  3  1 -1 -4  4 -3 -3  2 -2  4  2  1  4\n",
      " -4  1  3  3 -5 -1  3  4 -4 -4 -1  1 -1 -2 -1  1  1  3 -2 -1  2  2 -5 -1 -1\n",
      "  3 -2 -5  2  2  2  3  4  4  4  2 -3  1 -1  1 -2  1 -4 -2  3 -5  4  3 -3 -1\n",
      "  3 -4  1  1 -4 -3  2 -5 -2 -5  1  1  3  1  3  4 -2 -4  4  2 -4  1 -5  1  1]\n"
     ]
    }
   ],
   "source": [
    "x = np.arange(0,100)\n",
    "y = x - np.random.randint(-5,5,size=100)\n",
    "err = x-y\n",
    "for i in range(len(err)):\n",
    "    if err[i] == 0:\n",
    "        err[i] = 1\n",
    "print(err)"
   ]
  },
  {
   "cell_type": "code",
   "execution_count": 41,
   "metadata": {
    "collapsed": false,
    "scrolled": false
   },
   "outputs": [
    {
     "name": "stdout",
     "output_type": "stream",
     "text": [
      "[[Model]]\n",
      "    Model(linear)\n",
      "[[Fit Statistics]]\n",
      "    # function evals   = 7\n",
      "    # data points      = 100\n",
      "    # variables        = 2\n",
      "    chi-square         = 23.484\n",
      "    reduced chi-square = 0.240\n",
      "[[Variables]]\n",
      "    intercept:   0.57702316 +/- 0.175377 (30.39%) (init=-0.2411881)\n",
      "    slope:       0.99135341 +/- 0.003007 (0.30%) (init= 1.006691)\n",
      "[[Correlations]] (unreported correlations are <  0.100)\n",
      "    C(intercept, slope)          = -0.868 \n"
     ]
    }
   ],
   "source": [
    "mod_2 = LinearModel()\n",
    "guess = mod_2.guess(y,x=x)\n",
    "result = mod_2.fit(y,guess,x=x,weights=1./err**2)\n",
    "print(result.fit_report())"
   ]
  },
  {
   "cell_type": "code",
   "execution_count": 42,
   "metadata": {
    "collapsed": false
   },
   "outputs": [],
   "source": [
    "plt.plot(x,y,'.r')\n",
    "plt.plot(x,result.best_fit)\n",
    "plt.show()"
   ]
  },
  {
   "cell_type": "code",
   "execution_count": null,
   "metadata": {
    "collapsed": true
   },
   "outputs": [],
   "source": []
  }
 ],
 "metadata": {
  "kernelspec": {
   "display_name": "Python 3",
   "language": "python",
   "name": "python3"
  },
  "language_info": {
   "codemirror_mode": {
    "name": "ipython",
    "version": 3
   },
   "file_extension": ".py",
   "mimetype": "text/x-python",
   "name": "python",
   "nbconvert_exporter": "python",
   "pygments_lexer": "ipython3",
   "version": "3.4.3"
  }
 },
 "nbformat": 4,
 "nbformat_minor": 0
}
