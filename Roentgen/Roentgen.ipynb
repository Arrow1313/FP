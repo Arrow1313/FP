{
 "cells": [
  {
   "cell_type": "code",
   "execution_count": 1,
   "metadata": {
    "collapsed": false
   },
   "outputs": [
    {
     "name": "stderr",
     "output_type": "stream",
     "text": [
      "/home/arrow13/anaconda3/lib/python3.4/site-packages/IPython/html.py:14: ShimWarning: The `IPython.html` package has been deprecated. You should import from `notebook` instead. `IPython.html.widgets` has moved to `ipywidgets`.\n",
      "  \"`IPython.html.widgets` has moved to `ipywidgets`.\", ShimWarning)\n"
     ]
    }
   ],
   "source": [
    "import os\n",
    "import numpy as np\n",
    "import pandas as pd\n",
    "import matplotlib.pyplot as plt\n",
    "import scipy.optimize as opt\n",
    "from lmfit import models"
   ]
  },
  {
   "cell_type": "code",
   "execution_count": 2,
   "metadata": {
    "collapsed": true
   },
   "outputs": [],
   "source": [
    "hc = 12.39841875 #keV*Angström\n",
    "d_si = 3.1358"
   ]
  },
  {
   "cell_type": "code",
   "execution_count": 3,
   "metadata": {
    "collapsed": true
   },
   "outputs": [],
   "source": [
    "pc_henrik = '/home/arrow13/Git/FP/Roentgen/'\n",
    "pc_frederik = '/home/frederik/Dokumente/FP/Roentgen/'"
   ]
  },
  {
   "cell_type": "code",
   "execution_count": 4,
   "metadata": {
    "collapsed": false
   },
   "outputs": [],
   "source": [
    "var_pc = pc_henrik"
   ]
  },
  {
   "cell_type": "code",
   "execution_count": 5,
   "metadata": {
    "collapsed": false
   },
   "outputs": [
    {
     "name": "stdout",
     "output_type": "stream",
     "text": [
      "/home/arrow13/Git/FP/Roentgen/Messdaten\n"
     ]
    }
   ],
   "source": [
    "cd $var_pc'Messdaten/'"
   ]
  },
  {
   "cell_type": "markdown",
   "metadata": {},
   "source": [
    "# Implementirung der Funktionen für die Auswertung"
   ]
  },
  {
   "cell_type": "markdown",
   "metadata": {},
   "source": [
    "## Die Peak sollen mit der Gaussverteilung angefitten werde, diese wird hier implementier, wie ein wrappen für automatische fits"
   ]
  },
  {
   "cell_type": "markdown",
   "metadata": {},
   "source": [
    "# Gauss\n",
    "<h1>$f(x) = \\frac{a}{\\sqrt{2 \\cdot pi \\cdot \\sigma^2}} \\cdot e^{- \\frac{{(x- \\sigma )}^2}{2 \\cdot \\sigma^2}} $ </h1>"
   ]
  },
  {
   "cell_type": "code",
   "execution_count": null,
   "metadata": {
    "collapsed": true
   },
   "outputs": [],
   "source": [
    "def gauss(x,a,mu,sigma):\n",
    "    return (a/(np.sqrt(2*3.14*sigma**2))*np.exp(-((x-mu)**2)/(2.*sigma**2)))"
   ]
  },
  {
   "cell_type": "markdown",
   "metadata": {},
   "source": [
    "# ${\\chi_{red}}^2$ / Goodness of a fit\n",
    "<h1> ${\\chi_{red}}^2 = \\frac{1}{\\nu}\\sum\\frac{{(O-E)}^2}{\\sigma^2}$ "
   ]
  },
  {
   "cell_type": "code",
   "execution_count": null,
   "metadata": {
    "collapsed": true
   },
   "outputs": [],
   "source": [
    "def red_chi_gauss(data, model, deg):\n",
    "    chisq = np.sum(np.square(data-model)/np.power(data,0.5))\n",
    "    nu = data.size-1-deg    # -4: -1 for the equation and -3 from the degrees of freedom\n",
    "    if nu is 0:\n",
    "        return \"err: nu = 0\"\n",
    "    return chisq/nu"
   ]
  },
  {
   "cell_type": "code",
   "execution_count": null,
   "metadata": {
    "collapsed": true
   },
   "outputs": [],
   "source": [
    "def fit_gauss(x,data,guess=[1,1,1]):\n",
    "    '''\n",
    "        returns the parameter from the fit, the standard deviation and the reduced chisquare\n",
    "    '''\n",
    "    para, cov = opt.curve_fit(gauss,x,np.sqrt(data),guess,maxfev=10000)\n",
    "    red_chi = red_chi_gauss(data,gauss(x,para[0],para[1],para[2]),3)\n",
    "    return para, np.sqrt(np.diag(cov)), red_chi"
   ]
  },
  {
   "cell_type": "markdown",
   "metadata": {},
   "source": [
    "# Bragg-reflexion\n",
    "$n \\cdot \\lambda = 2 \\cdot d \\cdot sin(\\theta)$"
   ]
  },
  {
   "cell_type": "markdown",
   "metadata": {},
   "source": [
    "# Energie\n",
    "$E = \\frac{h \\cdot c}{2 \\cdot d \\cdot sin(\\theta)}$"
   ]
  },
  {
   "cell_type": "code",
   "execution_count": null,
   "metadata": {
    "collapsed": true
   },
   "outputs": [],
   "source": [
    "def energie(phi,delta_phi):\n",
    "    theta = phi/2\n",
    "    e = hc/(2*d_si*np.sin(theta*(3.14/180)))\n",
    "    delta_e = (e*delta_phi/2)/np.tan(theta*(3.14/180))\n",
    "    return e, delta_e"
   ]
  },
  {
   "cell_type": "code",
   "execution_count": null,
   "metadata": {
    "collapsed": true
   },
   "outputs": [],
   "source": [
    "def intensität(a,delta_a,sigma,delta_sigma):\n",
    "    i = a/(np.sqrt(2*3.14*sigma**2))\n",
    "    delta_i = np.sqrt((delta_a/np.sqrt(2*3.14*sigma**2))**2 + ((a*delta_sigma)/(np.sqrt(2*3.14*sigma**4)))**2)\n",
    "    return i, delta_i"
   ]
  },
  {
   "cell_type": "code",
   "execution_count": null,
   "metadata": {
    "collapsed": true
   },
   "outputs": [],
   "source": [
    "def d(e,delta_e,phi,delta_phi,n):\n",
    "    d = (n*hc)/(2*e*np.sin((phi/2)*(3.14/180)))\n",
    "    delta_d = d*np.sqrt(((delta_phi/2)/np.tan((phi/2)*(3.14/180)))**2+(delta_e/e)**2)"
   ]
  },
  {
   "cell_type": "markdown",
   "metadata": {},
   "source": [
    "# Einlesen, vorbereiten und auswerten der Daten (mit Versuchsplan)"
   ]
  },
  {
   "cell_type": "markdown",
   "metadata": {
    "collapsed": true
   },
   "source": [
    "## Messen des Röntgenspektrums der Kupferanode\n",
    "Es werden drei verschiedene Spannungen und Ströme verwendet\n",
    "+ U$_1$ = ??, A$_1$ = ??\n",
    "+ U$_2$ = ??, A$_2$ = ??\n",
    "+ U$_3$ = ??, A$_3$ = ??\n",
    "\n",
    "Die letzte Einstellung wird noch mal mit einem Ni-Filter wiederholt\n",
    "\n",
    "Auswertung:\n",
    "+ Zählrate als Funktion des Winkels auftragen\n",
    "+ Die lage der K$_{\\alpha_{1,2}}$- und der K$_\\beta$-Linien bestimmen, sowie die Verhältnisse (unter einander und unter den Ordnungen)\n",
    "+ Mit Ni-Filter die Abschwächung der K$_\\beta$-Linie, das \"Signal-zu-Rausch\" Verhältnis für die K$_{\\alpha_{1,2}}$-Linie, die Energie und die Energiebreite bestimmen\n",
    "+ Weitere Details des Spektrums diskutieren"
   ]
  },
  {
   "cell_type": "markdown",
   "metadata": {},
   "source": [
    "## Netzebenabstand Si(331)\n",
    "+ Aus dem Diffraktogramm soll der Netzebenabstand von Si(331) bestimmt werden\n",
    "+ Der bestimmte Netzebenabstand soll mit Literaturwerten abgeglichen werden"
   ]
  },
  {
   "cell_type": "markdown",
   "metadata": {},
   "source": [
    "## Netzebenabstand Ge(111)\n",
    "+ Aus dem Diffraktogramm soll der Netzebenabstand von Si(331) bestimmt werden\n",
    "+ Der bestimmte Netzebenabstand soll mit Literaturwerten abgeglichen werden"
   ]
  },
  {
   "cell_type": "markdown",
   "metadata": {},
   "source": [
    "## Pulverdefraktometrie\n",
    "+ Aus dem Diffraktogramm soll mittels einer Datenbank qualitativ die Zusammensetzung bestimmt werden\n",
    "+ Unabhängig von der Datenbank sollen die Netzebenabstände des Pulvers bestimmt werden\n",
    "+ Graphisch zeigen, dass die gefundene Kirstallstrucktur mit dem Diffraktogramm verträglich ist\n",
    "+ Die mittlere Kristallgröße ermitteln"
   ]
  },
  {
   "cell_type": "markdown",
   "metadata": {},
   "source": [
    "# Ersterwert: Spannung\n",
    "# Zweiterwert: Anodenstrom\n"
   ]
  },
  {
   "cell_type": "markdown",
   "metadata": {
    "collapsed": true
   },
   "source": [
    "# Vorbereitung für den Voigt-Fit"
   ]
  },
  {
   "cell_type": "code",
   "execution_count": null,
   "metadata": {
    "collapsed": false
   },
   "outputs": [],
   "source": [
    "voigt_1 = models.VoigtModel(prefix='voigt_1')\n",
    "voigt_2 = models.VoigtModel(prefix='voigt_2')\n",
    "voigt_3 = models.VoigtModel(prefix='voigt_3')\n",
    "mulit_voigt_1 = voigt_1 + voigt_2"
   ]
  },
  {
   "cell_type": "code",
   "execution_count": null,
   "metadata": {
    "collapsed": false
   },
   "outputs": [],
   "source": [
    "data = np.loadtxt(\"Si111_40_30.xy\").T\n",
    "plt.plot(data[0],data[1])\n",
    "plt.show()"
   ]
  },
  {
   "cell_type": "code",
   "execution_count": null,
   "metadata": {
    "collapsed": false
   },
   "outputs": [],
   "source": [
    "params_1 = voigt_1.guess(data[1],x=data[0])\n",
    "params_2 = voigt_2.guess(data[1],x=data[0])\n",
    "params_3 = voigt_3.guess(data[1],x=data[0])\n",
    "params_mulit = mulit_voigt_1.make_params()\n",
    "\n",
    "params_mulit['voigt_1center'].set(28.43)\n",
    "params_mulit['voigt_1center'].set(28.50)\n",
    "params_1['voigt_1gamma'].set(1,vary=True,expr='')\n",
    "params_2['voigt_2gamma'].set(1,vary=True,expr='')\n",
    "params_3['voigt_3gamma'].set(1,vary=True,expr='')"
   ]
  },
  {
   "cell_type": "raw",
   "metadata": {},
   "source": [
    "i_t = 0.1\n",
    "j_t = 1\n",
    "k_t = 1\n",
    "\n",
    "i = 25.6\n",
    "j = 28\n",
    "k = 95\n",
    "\n",
    "params_1['voigt_1center'].set(i,max=i+i_t)\n",
    "params_2['voigt_2center'].set(j,max=j+j_t)\n",
    "params_3['voigt_3center'].set(k,max=k+k_t)"
   ]
  },
  {
   "cell_type": "code",
   "execution_count": null,
   "metadata": {
    "collapsed": false
   },
   "outputs": [],
   "source": [
    "np.arange(np.where(data[0] > 28.2)[0][0], np.where(data[0] < 28.7)[0][0])"
   ]
  },
  {
   "cell_type": "code",
   "execution_count": null,
   "metadata": {
    "collapsed": false
   },
   "outputs": [],
   "source": [
    "np.where(data[0] < 28.7)"
   ]
  },
  {
   "cell_type": "code",
   "execution_count": null,
   "metadata": {
    "collapsed": false
   },
   "outputs": [],
   "source": [
    "fit_1 = voigt_1.fit(data[1],params_1,x=data[0])\n",
    "fit_2 = voigt_2.fit(data[1],params_2,x=data[0])\n",
    "fit_3 = voigt_3.fit(data[1],params_3,x=data[0])\n",
    "fit_mulit = mulit_voigt_1.fit(data[1],params_mulit,x=data[0])\n",
    "print(fit_mulit.fit_report())"
   ]
  },
  {
   "cell_type": "code",
   "execution_count": null,
   "metadata": {
    "collapsed": false
   },
   "outputs": [],
   "source": [
    "peak_1_range = np.arange(np.where( 25.5 < data[0])[0][0],np.where( data[0] > 25.8)[0][0])\n",
    "peak_2_range = np.arange(np.where( 28.39 < data[0])[0][0],np.where( data[0] > 28.48)[0][0])\n",
    "peak_3_range = np.arange(np.where( 28.47 < data[0])[0][0],np.where( data[0] > 28.54)[0][0])"
   ]
  },
  {
   "cell_type": "code",
   "execution_count": null,
   "metadata": {
    "collapsed": false
   },
   "outputs": [],
   "source": [
    "params_1 = voigt_1.guess(data[1][peak_1_range],x=data[0][peak_1_range])\n",
    "params_2 = voigt_2.guess(data[1][peak_2_range],x=data[0][peak_2_range])\n",
    "params_3 = voigt_3.guess(data[1][peak_3_range],x=data[0][peak_3_range])\n",
    "\n",
    "params_1['voigt_1gamma'].set(1,vary=True,expr='')\n",
    "params_2['voigt_2gamma'].set(1,vary=True,expr='')\n",
    "params_3['voigt_3gamma'].set(1,vary=True,expr='')"
   ]
  },
  {
   "cell_type": "code",
   "execution_count": null,
   "metadata": {
    "collapsed": false
   },
   "outputs": [],
   "source": [
    "fit_1 = voigt_1.fit(data[1][peak_1_range],params_1,x=data[0][peak_1_range],weights=1/np.sqrt(data[1][peak_1_range]))\n",
    "fit_2 = voigt_2.fit(data[1][peak_2_range],params_2,x=data[0][peak_2_range],weights=1/np.sqrt(data[1][peak_2_range]))\n",
    "fit_3 = voigt_3.fit(data[1][peak_3_range],params_3,x=data[0][peak_3_range],weights=1/np.sqrt(data[1][peak_3_range]))"
   ]
  },
  {
   "cell_type": "code",
   "execution_count": null,
   "metadata": {
    "collapsed": false
   },
   "outputs": [],
   "source": [
    "fit_1.plot()\n",
    "fit_2.plot()\n",
    "fit_3.plot()\n",
    "plt.show()"
   ]
  },
  {
   "cell_type": "code",
   "execution_count": null,
   "metadata": {
    "collapsed": false,
    "scrolled": true
   },
   "outputs": [],
   "source": [
    "print(fit_1.fit_report())\n",
    "print(fit_2.fit_report())\n",
    "print(fit_3.fit_report())"
   ]
  },
  {
   "cell_type": "code",
   "execution_count": null,
   "metadata": {
    "collapsed": false
   },
   "outputs": [],
   "source": [
    "plt.errorbar(data[0],data[1],np.sqrt(data[1]))\n",
    "plt.plot(data[0][peak_1_range],fit_1.best_fit)\n",
    "plt.plot(data[0][peak_2_range],fit_2.best_fit)\n",
    "plt.plot(data[0][peak_3_range],fit_3.best_fit)\n",
    "plt.show()"
   ]
  },
  {
   "cell_type": "code",
   "execution_count": null,
   "metadata": {
    "collapsed": false
   },
   "outputs": [],
   "source": [
    "multivoigt = voigt_1 + voigt_2 + voigt_3"
   ]
  },
  {
   "cell_type": "code",
   "execution_count": null,
   "metadata": {
    "collapsed": true
   },
   "outputs": [],
   "source": [
    "params = voigt_1.guess(data[1][peak_1_range],x=data[0][peak_1_range])"
   ]
  },
  {
   "cell_type": "code",
   "execution_count": null,
   "metadata": {
    "collapsed": true
   },
   "outputs": [],
   "source": [
    "params.update(voigt_2.guess(data[1][peak_2_range],x=data[0][peak_2_range]))"
   ]
  },
  {
   "cell_type": "code",
   "execution_count": null,
   "metadata": {
    "collapsed": true
   },
   "outputs": [],
   "source": [
    "params.update(voigt_3.guess(data[1][peak_3_range],x=data[0][peak_3_range]))"
   ]
  },
  {
   "cell_type": "code",
   "execution_count": null,
   "metadata": {
    "collapsed": true
   },
   "outputs": [],
   "source": [
    "err = np.sqrt(data[1])\n",
    "err = np.where(err==0, 1, err)"
   ]
  },
  {
   "cell_type": "code",
   "execution_count": null,
   "metadata": {
    "collapsed": false
   },
   "outputs": [],
   "source": [
    "fit_4 = multivoigt.fit(data[1],params,x=data[0],weights=1/err)"
   ]
  },
  {
   "cell_type": "code",
   "execution_count": null,
   "metadata": {
    "collapsed": false
   },
   "outputs": [],
   "source": [
    "fit_4.best_values"
   ]
  },
  {
   "cell_type": "code",
   "execution_count": null,
   "metadata": {
    "collapsed": false
   },
   "outputs": [],
   "source": [
    "print(fit_4.fit_report())"
   ]
  },
  {
   "cell_type": "code",
   "execution_count": null,
   "metadata": {
    "collapsed": false
   },
   "outputs": [],
   "source": [
    "fit_4.plot()\n",
    "plt.legend(loc='best')\n",
    "plt.show()"
   ]
  },
  {
   "cell_type": "code",
   "execution_count": null,
   "metadata": {
    "collapsed": false
   },
   "outputs": [],
   "source": [
    "plt.plot(data[0],fit_4.best_fit,'r',label='Multi-Voigt-Fit')\n",
    "plt.errorbar(data[0],data[1],np.sqrt(data[1]),label='Messdaten')\n",
    "plt.xlim([25,29])\n",
    "plt.xticks(fontsize=30)\n",
    "plt.yticks(fontsize=30)\n",
    "plt.legend(loc='best',fontsize=42)\n",
    "plt.show()"
   ]
  },
  {
   "cell_type": "markdown",
   "metadata": {},
   "source": [
    "# Pulverdiffraktometrie Auswertung"
   ]
  },
  {
   "cell_type": "code",
   "execution_count": 26,
   "metadata": {
    "collapsed": false
   },
   "outputs": [],
   "source": [
    "data_pulver = np.loadtxt(\"Pulver_Ni.xy\").T"
   ]
  },
  {
   "cell_type": "code",
   "execution_count": 27,
   "metadata": {
    "collapsed": false
   },
   "outputs": [
    {
     "data": {
      "text/plain": [
       "array([[  10.00417782,   10.01253345,   10.02088909, ...,  142.58303095,\n",
       "         142.59138659,  142.59974222],\n",
       "       [   9.        ,   17.        ,   16.        , ...,    1.        ,\n",
       "           1.        ,    0.        ]])"
      ]
     },
     "execution_count": 27,
     "metadata": {},
     "output_type": "execute_result"
    }
   ],
   "source": [
    "data_pulver"
   ]
  },
  {
   "cell_type": "code",
   "execution_count": 28,
   "metadata": {
    "collapsed": false
   },
   "outputs": [
    {
     "data": {
      "text/plain": [
       "15870"
      ]
     },
     "execution_count": 28,
     "metadata": {},
     "output_type": "execute_result"
    }
   ],
   "source": [
    "len(data_pulver[0])"
   ]
  },
  {
   "cell_type": "code",
   "execution_count": 29,
   "metadata": {
    "collapsed": false
   },
   "outputs": [
    {
     "data": {
      "text/plain": [
       "15870"
      ]
     },
     "execution_count": 29,
     "metadata": {},
     "output_type": "execute_result"
    }
   ],
   "source": [
    "len(data_pulver[1])"
   ]
  },
  {
   "cell_type": "code",
   "execution_count": null,
   "metadata": {
    "collapsed": false
   },
   "outputs": [],
   "source": [
    "plt.plot(data_pulver[0],data_pulver[1], '.')\n",
    "plt.show()"
   ]
  },
  {
   "cell_type": "code",
   "execution_count": 30,
   "metadata": {
    "collapsed": false
   },
   "outputs": [],
   "source": [
    "voigt_peak_1 = models.VoigtModel(prefix='voigt_peak_1')\n",
    "voigt_peak_2 = models.VoigtModel(prefix='voigt_peak_2')\n",
    "voigt_peak_3 = models.VoigtModel(prefix='voigt_peak_3')\n",
    "voigt_peak_4 = models.VoigtModel(prefix='voigt_peak_4')\n",
    "voigt_peak_5 = models.VoigtModel(prefix='voigt_peak_5')\n",
    "voigt_peak_6 = models.VoigtModel(prefix='voigt_peak_6')\n",
    "voigt_peak_7 = models.VoigtModel(prefix='voigt_peak_7')\n",
    "voigt_peak_8 = models.VoigtModel(prefix='voigt_peak_8')\n",
    "voigt_peak_9 = models.VoigtModel(prefix='voigt_peak_9')\n",
    "voigt_peak_10 = models.VoigtModel(prefix='voigt_peak_10')\n",
    "voigt_peak_11 = models.VoigtModel(prefix='voigt_peak_11')\n",
    "voigt_peak_12 = models.VoigtModel(prefix='voigt_peak_12')\n",
    "voigt_peak_13 = models.VoigtModel(prefix='voigt_peak_13')\n",
    "voigt_peak_14 = models.VoigtModel(prefix='voigt_peak_14')\n",
    "voigt_peak_15 = models.VoigtModel(prefix='voigt_peak_15')\n",
    "voigt_peak_16 = models.VoigtModel(prefix='voigt_peak_16')\n",
    "voigt_peak_17 = models.VoigtModel(prefix='voigt_peak_17')\n",
    "voigt_peak_18 = models.VoigtModel(prefix='voigt_peak_18')\n",
    "voigt_peak_19 = models.VoigtModel(prefix='voigt_peak_19')\n",
    "voigt_peak_20 = models.VoigtModel(prefix='voigt_peak_20')\n",
    "voigt_peak_21 = models.VoigtModel(prefix='voigt_peak_21')\n",
    "voigt_peak_22 = models.VoigtModel(prefix='voigt_peak_22')"
   ]
  },
  {
   "cell_type": "code",
   "execution_count": 31,
   "metadata": {
    "collapsed": false
   },
   "outputs": [],
   "source": [
    "peak_1_range_pulver = np.arange(np.where( 28.24 < data_pulver[0])[0][0],np.where( data_pulver[0] > 28.32)[0][0])\n",
    "peak_2_range_pulver = np.arange(np.where( 28.335 < data_pulver[0])[0][0],np.where( data_pulver[0] > 28.4)[0][0])\n",
    "peak_3_range_pulver = np.arange(np.where( 47.1 < data_pulver[0])[0][0],np.where( data_pulver[0] > 47.19)[0][0])\n",
    "peak_4_range_pulver = np.arange(np.where( 47.24 < data_pulver[0])[0][0],np.where( data_pulver[0] > 47.31)[0][0])\n",
    "peak_5_range_pulver = np.arange(np.where( 55.9 < data_pulver[0])[0][0],np.where( data_pulver[0] > 56.02)[0][0])\n",
    "peak_6_range_pulver = np.arange(np.where( 56.06 < data_pulver[0])[0][0],np.where( data_pulver[0] > 56.17)[0][0])\n",
    "peak_7_range_pulver = np.arange(np.where( 68.84 < data_pulver[0])[0][0],np.where( data_pulver[0] > 69.02)[0][0])\n",
    "peak_8_range_pulver = np.arange(np.where( 69.12 < data_pulver[0])[0][0],np.where( data_pulver[0] > 69.22)[0][0])\n",
    "peak_9_range_pulver = np.arange(np.where( 76.18 < data_pulver[0])[0][0],np.where( data_pulver[0] > 76.28)[0][0])\n",
    "peak_10_range_pulver = np.arange(np.where( 76.38 < data_pulver[0])[0][0],np.where( data_pulver[0] > 76.52)[0][0])\n",
    "peak_11_range_pulver = np.arange(np.where( 87.8 < data_pulver[0])[0][0],np.where( data_pulver[0] > 87.94)[0][0])\n",
    "peak_12_range_pulver = np.arange(np.where( 88.08 < data_pulver[0])[0][0],np.where( data_pulver[0] > 88.22)[0][0])\n",
    "peak_13_range_pulver = np.arange(np.where( 94.7 < data_pulver[0])[0][0],np.where( data_pulver[0] > 94.9)[0][0])\n",
    "peak_14_range_pulver = np.arange(np.where( 95.04 < data_pulver[0])[0][0],np.where( data_pulver[0] > 95.18)[0][0])\n",
    "peak_15_range_pulver = np.arange(np.where( 106.4 < data_pulver[0])[0][0],np.where( data_pulver[0] > 106.7)[0][0])\n",
    "peak_16_range_pulver = np.arange(np.where( 106.86 < data_pulver[0])[0][0],np.where( data_pulver[0] > 107.04)[0][0])\n",
    "peak_17_range_pulver = np.arange(np.where( 113.82 < data_pulver[0])[0][0],np.where( data_pulver[0] > 114.05)[0][0])\n",
    "peak_18_range_pulver = np.arange(np.where( 114.3 < data_pulver[0])[0][0],np.where( data_pulver[0] > 114.48)[0][0])\n",
    "peak_19_range_pulver = np.arange(np.where( 127.3 < data_pulver[0])[0][0],np.where( data_pulver[0] > 127.54)[0][0])\n",
    "peak_20_range_pulver = np.arange(np.where( 127.8 < data_pulver[0])[0][0],np.where( data_pulver[0] > 128.2)[0][0])\n",
    "peak_21_range_pulver = np.arange(np.where( 136.65 < data_pulver[0])[0][0],np.where( data_pulver[0] > 136.85)[0][0])\n",
    "peak_22_range_pulver = np.arange(np.where( 137.35 < data_pulver[0])[0][0],np.where( data_pulver[0] > 137.65)[0][0])"
   ]
  },
  {
   "cell_type": "code",
   "execution_count": 32,
   "metadata": {
    "collapsed": false
   },
   "outputs": [],
   "source": [
    "params_peak_1 = voigt_peak_1.guess(data_pulver[1][peak_1_range_pulver],x=data_pulver[0][peak_1_range_pulver])\n",
    "params_peak_2 = voigt_peak_2.guess(data_pulver[1][peak_2_range_pulver],x=data_pulver[0][peak_2_range_pulver])\n",
    "params_peak_3 = voigt_peak_3.guess(data_pulver[1][peak_3_range_pulver],x=data_pulver[0][peak_3_range_pulver])\n",
    "params_peak_4 = voigt_peak_4.guess(data_pulver[1][peak_4_range_pulver],x=data_pulver[0][peak_4_range_pulver])\n",
    "params_peak_5 = voigt_peak_5.guess(data_pulver[1][peak_5_range_pulver],x=data_pulver[0][peak_5_range_pulver])\n",
    "params_peak_6 = voigt_peak_6.guess(data_pulver[1][peak_6_range_pulver],x=data_pulver[0][peak_6_range_pulver])\n",
    "params_peak_7 = voigt_peak_7.guess(data_pulver[1][peak_7_range_pulver],x=data_pulver[0][peak_7_range_pulver])\n",
    "params_peak_8 = voigt_peak_8.guess(data_pulver[1][peak_8_range_pulver],x=data_pulver[0][peak_8_range_pulver])\n",
    "params_peak_9 = voigt_peak_9.guess(data_pulver[1][peak_9_range_pulver],x=data_pulver[0][peak_9_range_pulver])\n",
    "params_peak_10 = voigt_peak_10.guess(data_pulver[1][peak_10_range_pulver],x=data_pulver[0][peak_10_range_pulver])\n",
    "params_peak_11 = voigt_peak_11.guess(data_pulver[1][peak_11_range_pulver],x=data_pulver[0][peak_11_range_pulver])\n",
    "params_peak_12 = voigt_peak_12.guess(data_pulver[1][peak_12_range_pulver],x=data_pulver[0][peak_12_range_pulver])\n",
    "params_peak_13 = voigt_peak_13.guess(data_pulver[1][peak_13_range_pulver],x=data_pulver[0][peak_13_range_pulver])\n",
    "params_peak_14 = voigt_peak_14.guess(data_pulver[1][peak_14_range_pulver],x=data_pulver[0][peak_14_range_pulver])\n",
    "params_peak_15 = voigt_peak_15.guess(data_pulver[1][peak_15_range_pulver],x=data_pulver[0][peak_15_range_pulver])\n",
    "params_peak_16 = voigt_peak_16.guess(data_pulver[1][peak_16_range_pulver],x=data_pulver[0][peak_16_range_pulver])\n",
    "params_peak_17 = voigt_peak_17.guess(data_pulver[1][peak_17_range_pulver],x=data_pulver[0][peak_17_range_pulver])\n",
    "params_peak_18 = voigt_peak_18.guess(data_pulver[1][peak_18_range_pulver],x=data_pulver[0][peak_18_range_pulver])\n",
    "params_peak_19 = voigt_peak_19.guess(data_pulver[1][peak_19_range_pulver],x=data_pulver[0][peak_19_range_pulver])\n",
    "params_peak_20 = voigt_peak_20.guess(data_pulver[1][peak_20_range_pulver],x=data_pulver[0][peak_20_range_pulver])\n",
    "params_peak_21 = voigt_peak_21.guess(data_pulver[1][peak_21_range_pulver],x=data_pulver[0][peak_21_range_pulver])\n",
    "params_peak_22 = voigt_peak_22.guess(data_pulver[1][peak_22_range_pulver],x=data_pulver[0][peak_22_range_pulver])"
   ]
  },
  {
   "cell_type": "code",
   "execution_count": 33,
   "metadata": {
    "collapsed": false
   },
   "outputs": [],
   "source": [
    "params_peak_1['voigt_peak_1gamma'].set(value = params_peak_1.valuesdict()['voigt_peak_1sigma']/200 ,vary=True, expr='')\n",
    "params_peak_2['voigt_peak_2gamma'].set(value = params_peak_2.valuesdict()['voigt_peak_2sigma']/200 ,vary=True, expr='')\n",
    "params_peak_3['voigt_peak_3gamma'].set(value = params_peak_3.valuesdict()['voigt_peak_3sigma']/200 ,vary=True, expr='')\n",
    "params_peak_4['voigt_peak_4gamma'].set(value = params_peak_4.valuesdict()['voigt_peak_4sigma']/200 ,vary=True, expr='')\n",
    "params_peak_5['voigt_peak_5gamma'].set(value = params_peak_5.valuesdict()['voigt_peak_5sigma']/200 ,vary=True, expr='')\n",
    "params_peak_6['voigt_peak_6gamma'].set(value = params_peak_6.valuesdict()['voigt_peak_6sigma']/200 ,vary=True, expr='')\n",
    "params_peak_7['voigt_peak_7gamma'].set(value = params_peak_7.valuesdict()['voigt_peak_7sigma']/200 ,vary=True, expr='')\n",
    "params_peak_8['voigt_peak_8gamma'].set(value = params_peak_8.valuesdict()['voigt_peak_8sigma']/200 ,vary=True, expr='')\n",
    "params_peak_9['voigt_peak_9gamma'].set(value = params_peak_9.valuesdict()['voigt_peak_9sigma']/200 ,vary=True, expr='')\n",
    "params_peak_10['voigt_peak_10gamma'].set(value = params_peak_10.valuesdict()['voigt_peak_10sigma']/200 ,vary=True, expr='')\n",
    "params_peak_11['voigt_peak_11gamma'].set(value = params_peak_11.valuesdict()['voigt_peak_11sigma']/200 ,vary=True, expr='')\n",
    "params_peak_12['voigt_peak_12gamma'].set(value = params_peak_12.valuesdict()['voigt_peak_12sigma']/200 ,vary=True, expr='')\n",
    "params_peak_13['voigt_peak_13gamma'].set(value = params_peak_13.valuesdict()['voigt_peak_13sigma']/200 ,vary=True, expr='')\n",
    "params_peak_14['voigt_peak_14gamma'].set(value = params_peak_14.valuesdict()['voigt_peak_14sigma']/200 ,vary=True, expr='')\n",
    "params_peak_15['voigt_peak_15gamma'].set(value = params_peak_15.valuesdict()['voigt_peak_15sigma']/200 ,vary=True, expr='')\n",
    "params_peak_16['voigt_peak_16gamma'].set(value = params_peak_16.valuesdict()['voigt_peak_16sigma']/200 ,vary=True, expr='')\n",
    "params_peak_17['voigt_peak_17gamma'].set(value = params_peak_17.valuesdict()['voigt_peak_17sigma']/200 ,vary=True, expr='')\n",
    "params_peak_18['voigt_peak_18gamma'].set(value = params_peak_18.valuesdict()['voigt_peak_18sigma']/200 ,vary=True, expr='')\n",
    "params_peak_19['voigt_peak_19gamma'].set(value = params_peak_19.valuesdict()['voigt_peak_19sigma']/200 ,vary=True, expr='')\n",
    "params_peak_20['voigt_peak_20gamma'].set(value = params_peak_20.valuesdict()['voigt_peak_20sigma']/200 ,vary=True, expr='')\n",
    "params_peak_21['voigt_peak_21gamma'].set(value = params_peak_21.valuesdict()['voigt_peak_21sigma']/200 ,vary=True, expr='')\n",
    "params_peak_22['voigt_peak_22gamma'].set(value = params_peak_22.valuesdict()['voigt_peak_22sigma']/200 ,vary=True, expr='')"
   ]
  },
  {
   "cell_type": "code",
   "execution_count": 34,
   "metadata": {
    "collapsed": true
   },
   "outputs": [],
   "source": [
    "#ab hier wiederholschleife\n",
    "params_peak_1['voigt_peak_1sigma'].set(value = params_peak_1.valuesdict()['voigt_peak_1sigma'] ,vary=True, expr='')\n",
    "params_peak_2['voigt_peak_2sigma'].set(value = params_peak_2.valuesdict()['voigt_peak_2sigma'] ,vary=True, expr='')\n",
    "params_peak_3['voigt_peak_3sigma'].set(value = params_peak_3.valuesdict()['voigt_peak_3sigma'] ,vary=True, expr='')\n",
    "params_peak_4['voigt_peak_4sigma'].set(value = params_peak_4.valuesdict()['voigt_peak_4sigma'] ,vary=True, expr='')\n",
    "params_peak_5['voigt_peak_5sigma'].set(value = params_peak_5.valuesdict()['voigt_peak_5sigma'] ,vary=True, expr='')\n",
    "params_peak_6['voigt_peak_6sigma'].set(value = params_peak_6.valuesdict()['voigt_peak_6sigma'] ,vary=True, expr='')\n",
    "params_peak_7['voigt_peak_7sigma'].set(value = params_peak_7.valuesdict()['voigt_peak_7sigma'] ,vary=True, expr='')\n",
    "params_peak_8['voigt_peak_8sigma'].set(value = params_peak_8.valuesdict()['voigt_peak_8sigma'] ,vary=True, expr='')\n",
    "params_peak_9['voigt_peak_9sigma'].set(value = params_peak_9.valuesdict()['voigt_peak_9sigma'] ,vary=True, expr='')\n",
    "params_peak_10['voigt_peak_10sigma'].set(value = params_peak_10.valuesdict()['voigt_peak_10sigma'] ,vary=True, expr='')\n",
    "params_peak_11['voigt_peak_11sigma'].set(value = params_peak_11.valuesdict()['voigt_peak_11sigma'] ,vary=True, expr='')\n",
    "params_peak_12['voigt_peak_12sigma'].set(value = params_peak_12.valuesdict()['voigt_peak_12sigma'] ,vary=True, expr='')\n",
    "params_peak_13['voigt_peak_13sigma'].set(value = params_peak_13.valuesdict()['voigt_peak_13sigma'] ,vary=True, expr='')\n",
    "params_peak_14['voigt_peak_14sigma'].set(value = params_peak_14.valuesdict()['voigt_peak_14sigma'] ,vary=True, expr='')\n",
    "params_peak_15['voigt_peak_15sigma'].set(value = params_peak_15.valuesdict()['voigt_peak_15sigma'] ,vary=True, expr='')\n",
    "params_peak_16['voigt_peak_16sigma'].set(value = params_peak_16.valuesdict()['voigt_peak_16sigma'] ,vary=True, expr='')\n",
    "params_peak_17['voigt_peak_17sigma'].set(value = params_peak_17.valuesdict()['voigt_peak_17sigma'] ,vary=True, expr='')\n",
    "params_peak_18['voigt_peak_18sigma'].set(value = params_peak_18.valuesdict()['voigt_peak_18sigma'] ,vary=True, expr='')\n",
    "params_peak_19['voigt_peak_19sigma'].set(value = params_peak_19.valuesdict()['voigt_peak_19sigma'] ,vary=True, expr='')\n",
    "params_peak_20['voigt_peak_20sigma'].set(value = params_peak_20.valuesdict()['voigt_peak_20sigma'] ,vary=True, expr='')\n",
    "params_peak_21['voigt_peak_21sigma'].set(value = params_peak_21.valuesdict()['voigt_peak_21sigma'] ,vary=True, expr='')\n",
    "params_peak_22['voigt_peak_22sigma'].set(value = params_peak_22.valuesdict()['voigt_peak_22sigma'] ,vary=True, expr='')\n",
    "\n",
    "params_peak_1['voigt_peak_1gamma'].set(value = params_peak_1.valuesdict()['voigt_peak_1gamma'] ,vary=True, expr='')\n",
    "params_peak_2['voigt_peak_2gamma'].set(value = params_peak_2.valuesdict()['voigt_peak_2gamma'] ,vary=True, expr='')\n",
    "params_peak_3['voigt_peak_3gamma'].set(value = params_peak_3.valuesdict()['voigt_peak_3gamma'] ,vary=True, expr='')\n",
    "params_peak_4['voigt_peak_4gamma'].set(value = params_peak_4.valuesdict()['voigt_peak_4gamma'] ,vary=True, expr='')\n",
    "params_peak_5['voigt_peak_5gamma'].set(value = params_peak_5.valuesdict()['voigt_peak_5gamma'] ,vary=True, expr='')\n",
    "params_peak_6['voigt_peak_6gamma'].set(value = params_peak_6.valuesdict()['voigt_peak_6gamma'] ,vary=True, expr='')\n",
    "params_peak_7['voigt_peak_7gamma'].set(value = params_peak_7.valuesdict()['voigt_peak_7gamma'] ,vary=True, expr='')\n",
    "params_peak_8['voigt_peak_8gamma'].set(value = params_peak_8.valuesdict()['voigt_peak_8gamma'] ,vary=True, expr='')\n",
    "params_peak_9['voigt_peak_9gamma'].set(value = params_peak_9.valuesdict()['voigt_peak_9gamma'] ,vary=True, expr='')\n",
    "params_peak_10['voigt_peak_10gamma'].set(value = params_peak_10.valuesdict()['voigt_peak_10gamma'] ,vary=True, expr='')\n",
    "params_peak_11['voigt_peak_11gamma'].set(value = params_peak_11.valuesdict()['voigt_peak_11gamma'] ,vary=True, expr='')\n",
    "params_peak_12['voigt_peak_12gamma'].set(value = params_peak_12.valuesdict()['voigt_peak_12gamma'] ,vary=True, expr='')\n",
    "params_peak_13['voigt_peak_13gamma'].set(value = params_peak_13.valuesdict()['voigt_peak_13gamma'] ,vary=True, expr='')\n",
    "params_peak_14['voigt_peak_14gamma'].set(value = params_peak_14.valuesdict()['voigt_peak_14gamma'] ,vary=True, expr='')\n",
    "params_peak_15['voigt_peak_15gamma'].set(value = params_peak_15.valuesdict()['voigt_peak_15gamma'] ,vary=True, expr='')\n",
    "params_peak_16['voigt_peak_16gamma'].set(value = params_peak_16.valuesdict()['voigt_peak_16gamma'] ,vary=True, expr='')\n",
    "params_peak_17['voigt_peak_17gamma'].set(value = params_peak_17.valuesdict()['voigt_peak_17gamma'] ,vary=True, expr='')\n",
    "params_peak_18['voigt_peak_18gamma'].set(value = params_peak_18.valuesdict()['voigt_peak_18gamma'] ,vary=True, expr='')\n",
    "params_peak_19['voigt_peak_19gamma'].set(value = params_peak_19.valuesdict()['voigt_peak_19gamma'] ,vary=True, expr='')\n",
    "params_peak_20['voigt_peak_20gamma'].set(value = params_peak_20.valuesdict()['voigt_peak_20gamma'] ,vary=True, expr='')\n",
    "params_peak_21['voigt_peak_21gamma'].set(value = params_peak_21.valuesdict()['voigt_peak_21gamma'] ,vary=True, expr='')\n",
    "params_peak_22['voigt_peak_22gamma'].set(value = params_peak_22.valuesdict()['voigt_peak_22gamma'] ,vary=True, expr='')"
   ]
  },
  {
   "cell_type": "code",
   "execution_count": 35,
   "metadata": {
    "collapsed": false
   },
   "outputs": [],
   "source": [
    "multi_voigt_pulver = voigt_peak_1 + voigt_peak_2 + voigt_peak_3 + voigt_peak_4 + voigt_peak_5 + voigt_peak_6 + voigt_peak_7 + voigt_peak_8 + voigt_peak_9 + voigt_peak_10 + voigt_peak_11 + voigt_peak_12 + voigt_peak_13 + voigt_peak_14 + voigt_peak_15 + voigt_peak_16 + voigt_peak_17 + voigt_peak_18 + voigt_peak_19 + voigt_peak_20 + voigt_peak_21 + voigt_peak_22\n",
    "params_multivoigt_pulver = multi_voigt_pulver.make_params()\n",
    "params_multivoigt_pulver.update(params_peak_1)\n",
    "params_multivoigt_pulver.update(params_peak_2)\n",
    "params_multivoigt_pulver.update(params_peak_3)\n",
    "params_multivoigt_pulver.update(params_peak_4)\n",
    "params_multivoigt_pulver.update(params_peak_5)\n",
    "params_multivoigt_pulver.update(params_peak_6)\n",
    "params_multivoigt_pulver.update(params_peak_7)\n",
    "params_multivoigt_pulver.update(params_peak_8)\n",
    "params_multivoigt_pulver.update(params_peak_9)\n",
    "params_multivoigt_pulver.update(params_peak_10)\n",
    "params_multivoigt_pulver.update(params_peak_11)\n",
    "params_multivoigt_pulver.update(params_peak_12)\n",
    "params_multivoigt_pulver.update(params_peak_13)\n",
    "params_multivoigt_pulver.update(params_peak_14)\n",
    "params_multivoigt_pulver.update(params_peak_15)\n",
    "params_multivoigt_pulver.update(params_peak_16)\n",
    "params_multivoigt_pulver.update(params_peak_17)\n",
    "params_multivoigt_pulver.update(params_peak_18)\n",
    "params_multivoigt_pulver.update(params_peak_19)\n",
    "params_multivoigt_pulver.update(params_peak_20)\n",
    "params_multivoigt_pulver.update(params_peak_21)\n",
    "params_multivoigt_pulver.update(params_peak_22)"
   ]
  },
  {
   "cell_type": "code",
   "execution_count": 36,
   "metadata": {
    "collapsed": false
   },
   "outputs": [
    {
     "name": "stdout",
     "output_type": "stream",
     "text": [
      "[[Model]]\n",
      "    (((((((((((((((((((((Model(voigt, prefix='voigt_peak_1') + Model(voigt, prefix='voigt_peak_2')) + Model(voigt, prefix='voigt_peak_3')) + Model(voigt, prefix='voigt_peak_4')) + Model(voigt, prefix='voigt_peak_5')) + Model(voigt, prefix='voigt_peak_6')) + Model(voigt, prefix='voigt_peak_7')) + Model(voigt, prefix='voigt_peak_8')) + Model(voigt, prefix='voigt_peak_9')) + Model(voigt, prefix='voigt_peak_10')) + Model(voigt, prefix='voigt_peak_11')) + Model(voigt, prefix='voigt_peak_12')) + Model(voigt, prefix='voigt_peak_13')) + Model(voigt, prefix='voigt_peak_14')) + Model(voigt, prefix='voigt_peak_15')) + Model(voigt, prefix='voigt_peak_16')) + Model(voigt, prefix='voigt_peak_17')) + Model(voigt, prefix='voigt_peak_18')) + Model(voigt, prefix='voigt_peak_19')) + Model(voigt, prefix='voigt_peak_20')) + Model(voigt, prefix='voigt_peak_21')) + Model(voigt, prefix='voigt_peak_22'))\n",
      "[[Fit Statistics]]\n",
      "    # function evals   = 2413\n",
      "    # data points      = 15870\n",
      "    # variables        = 88\n",
      "    chi-square         = 352486.167\n",
      "    reduced chi-square = 22.335\n",
      "[[Variables]]\n",
      "    voigt_peak_4fwhm:         0.05381843 +/- 0        (0.00%)  == '3.6013100*voigt_peak_4sigma'\n",
      "    voigt_peak_6sigma:        0.01677421 +/- 0        (0.00%) (init= 0.01357791)\n",
      "    voigt_peak_3sigma:        0.01138526 +/- 0        (0.00%) (init= 0.01086232)\n",
      "    voigt_peak_21center:      136.766283 +/- 0        (0.00%) (init= 136.7612)\n",
      "    voigt_peak_1fwhm:         8.0714e-05 +/- 0        (0.00%)  == '3.6013100*voigt_peak_1sigma'\n",
      "    voigt_peak_3amplitude:    41.2079994 +/- 0        (0.00%) (init= 21.30687)\n",
      "    voigt_peak_12amplitude:   5.79294630 +/- 0        (0.00%) (init= 2.632025)\n",
      "    voigt_peak_22fwhm:        4.2562e-05 +/- 0        (0.00%)  == '3.6013100*voigt_peak_22sigma'\n",
      "    voigt_peak_17fwhm:        0.02455033 +/- 0        (0.00%)  == '3.6013100*voigt_peak_17sigma'\n",
      "    voigt_peak_10amplitude:   4.71945710 +/- 0        (0.00%) (init= 2.356289)\n",
      "    voigt_peak_21amplitude:   9.38992203 +/- 0        (0.00%) (init= 4.888046)\n",
      "    voigt_peak_2center:       28.3628756 +/- 0        (0.00%) (init= 28.35733)\n",
      "    voigt_peak_7gamma:        0.03674798 +/- 0        (0.00%) (init= 8.146744e-05)\n",
      "    voigt_peak_15amplitude:   7.36724189 +/- 0        (0.00%) (init= 6.016057)\n",
      "    voigt_peak_17gamma:       0.04785688 +/- 0        (0.00%) (init= 0.000149357)\n",
      "    voigt_peak_6fwhm:         0.06040913 +/- 0        (0.00%)  == '3.6013100*voigt_peak_6sigma'\n",
      "    voigt_peak_20center:      127.985266 +/- 0        (0.00%) (init= 127.9857)\n",
      "    voigt_peak_3center:       47.1455588 +/- 0        (0.00%) (init= 47.14497)\n",
      "    voigt_peak_5amplitude:    20.6325029 +/- 0        (0.00%) (init= 15.11534)\n",
      "    voigt_peak_2gamma:       -0.01404922 +/- 0        (-0.00%) (init= 6.788953e-05)\n",
      "    voigt_peak_10sigma:       3.0353e-05 +/- 0        (0.00%) (init= 0.01086232)\n",
      "    voigt_peak_6gamma:        0.01788035 +/- 0        (0.00%) (init= 6.788953e-05)\n",
      "    voigt_peak_2sigma:        0.02271204 +/- 0        (0.00%) (init= 0.01357791)\n",
      "    voigt_peak_4center:       47.2711608 +/- 0        (0.00%) (init= 47.26613)\n",
      "    voigt_peak_12fwhm:        0.04733216 +/- 0        (0.00%)  == '3.6013100*voigt_peak_12sigma'\n",
      "    voigt_peak_17sigma:       0.00681705 +/- 0        (0.00%) (init= 0.02987139)\n",
      "    voigt_peak_13sigma:       0.01181561 +/- 0        (0.00%) (init= 0.02172465)\n",
      "    voigt_peak_14fwhm:        2.8656e-05 +/- 0        (0.00%)  == '3.6013100*voigt_peak_14sigma'\n",
      "    voigt_peak_3gamma:        0.02100399 +/- 0        (0.00%) (init= 5.431162e-05)\n",
      "    voigt_peak_18amplitude:   6.84510124 +/- 0        (0.00%) (init= 4.010705)\n",
      "    voigt_peak_8fwhm:         6.2271e-06 +/- 0        (0.00%)  == '3.6013100*voigt_peak_8sigma'\n",
      "    voigt_peak_16gamma:       0.05458825 +/- 0        (0.00%) (init= 0.0001222012)\n",
      "    voigt_peak_1gamma:        0.03103225 +/- 0        (0.00%) (init= 5.431162e-05)\n",
      "    voigt_peak_11gamma:       0.03722644 +/- 0        (0.00%) (init= 5.431162e-05)\n",
      "    voigt_peak_1center:       28.2867672 +/- 0        (0.00%) (init= 28.28631)\n",
      "    voigt_peak_15gamma:       0.04338619 +/- 0        (0.00%) (init= 0.0001086232)\n",
      "    voigt_peak_9center:       76.2233943 +/- 0        (0.00%) (init= 76.2184)\n",
      "    voigt_peak_20sigma:       3.6330e-06 +/- 0        (0.00%) (init= 0.02172465)\n",
      "    voigt_peak_18fwhm:        8.7863e-05 +/- 0        (0.00%)  == '3.6013100*voigt_peak_18sigma'\n",
      "    voigt_peak_9gamma:        0.02487255 +/- 0        (0.00%) (init= 6.788953e-05)\n",
      "    voigt_peak_19fwhm:        0.00011359 +/- 0        (0.00%)  == '3.6013100*voigt_peak_19sigma'\n",
      "    voigt_peak_5gamma:        0.02149637 +/- 0        (0.00%) (init= 8.146744e-05)\n",
      "    voigt_peak_16center:      106.949085 +/- 0        (0.00%) (init= 106.9451)\n",
      "    voigt_peak_16amplitude:   4.09508939 +/- 0        (0.00%) (init= 2.820027)\n",
      "    voigt_peak_18center:      114.388422 +/- 0        (0.00%) (init= 114.397)\n",
      "    voigt_peak_15center:      106.565244 +/- 0        (0.00%) (init= 106.565)\n",
      "    voigt_peak_9fwhm:         0.06216489 +/- 0        (0.00%)  == '3.6013100*voigt_peak_9sigma'\n",
      "    voigt_peak_15fwhm:        0.02661574 +/- 0        (0.00%)  == '3.6013100*voigt_peak_15sigma'\n",
      "    voigt_peak_22amplitude:   6.63795846 +/- 0        (0.00%) (init= 4.21124)\n",
      "    voigt_peak_22sigma:       1.1818e-05 +/- 0        (0.00%) (init= 0.03801814)\n",
      "    voigt_peak_3fwhm:         0.04100187 +/- 0        (0.00%)  == '3.6013100*voigt_peak_3sigma'\n",
      "    voigt_peak_10gamma:       0.03044163 +/- 0        (0.00%) (init= 5.431162e-05)\n",
      "    voigt_peak_16fwhm:        1.5604e-05 +/- 0        (0.00%)  == '3.6013100*voigt_peak_16sigma'\n",
      "    voigt_peak_19gamma:       0.06099265 +/- 0        (0.00%) (init= 0.0001629349)\n",
      "    voigt_peak_11fwhm:        2.2432e-05 +/- 0        (0.00%)  == '3.6013100*voigt_peak_11sigma'\n",
      "    voigt_peak_1sigma:        2.2412e-05 +/- 0        (0.00%) (init= 0.01086232)\n",
      "    voigt_peak_7sigma:        6.3703e-10 +/- 0        (0.00%) (init= 0.01629349)\n",
      "    voigt_peak_12sigma:       0.01314304 +/- 0        (0.00%) (init= 0.01357791)\n",
      "    voigt_peak_18gamma:       0.06341445 +/- 0        (0.00%) (init= 0.0001357791)\n",
      "    voigt_peak_6amplitude:    9.07840840 +/- 0        (0.00%) (init= 6.266726)\n",
      "    voigt_peak_19amplitude:   11.2777958 +/- 0        (0.00%) (init= 9.625691)\n",
      "    voigt_peak_11amplitude:   12.1511889 +/- 0        (0.00%) (init= 4.712578)\n",
      "    voigt_peak_13fwhm:        0.04255169 +/- 0        (0.00%)  == '3.6013100*voigt_peak_13sigma'\n",
      "    voigt_peak_9amplitude:    9.20185769 +/- 0        (0.00%) (init= 4.637377)\n",
      "    voigt_peak_19center:      127.406019 +/- 0        (0.00%) (init= 127.41)\n",
      "    voigt_peak_2amplitude:    12.8960906 +/- 0        (0.00%) (init= 25.63091)\n",
      "    voigt_peak_11sigma:       6.2290e-06 +/- 0        (0.00%) (init= 0.01086232)\n",
      "    voigt_peak_8center:       69.1669871 +/- 0        (0.00%) (init= 69.16416)\n",
      "    voigt_peak_19sigma:       3.1543e-05 +/- 0        (0.00%) (init= 0.03258697)\n",
      "    voigt_peak_14amplitude:   4.35858499 +/- 0        (0.00%) (init= 2.807493)\n",
      "    voigt_peak_5fwhm:         0.06145105 +/- 0        (0.00%)  == '3.6013100*voigt_peak_5sigma'\n",
      "    voigt_peak_12center:      88.1553335 +/- 0        (0.00%) (init= 88.15861)\n",
      "    voigt_peak_13center:      94.8023224 +/- 0        (0.00%) (init= 94.80551)\n",
      "    voigt_peak_20gamma:       0.05718092 +/- 0        (0.00%) (init= 0.0001086232)\n",
      "    voigt_peak_5center:       55.9625659 +/- 0        (0.00%) (init= 55.96017)\n",
      "    voigt_peak_14gamma:       0.05047945 +/- 0        (0.00%) (init= 0.0001086233)\n",
      "    voigt_peak_20amplitude:   5.90712349 +/- 0        (0.00%) (init= 4.712578)\n",
      "    voigt_peak_13amplitude:   8.25718709 +/- 0        (0.00%) (init= 6.818198)\n",
      "    voigt_peak_17center:      113.948743 +/- 0        (0.00%) (init= 113.9424)\n",
      "    voigt_peak_4amplitude:    19.0007756 +/- 0        (0.00%) (init= 8.46008)\n",
      "    voigt_peak_7amplitude:    4.01547815 +/- 0        (0.00%) (init= 2.707226)\n",
      "    voigt_peak_22center:      137.504982 +/- 0        (0.00%) (init= 137.4819)\n",
      "    voigt_peak_18sigma:       2.4397e-05 +/- 0        (0.00%) (init= 0.02715581)\n",
      "    voigt_peak_20fwhm:        1.3084e-05 +/- 0        (0.00%)  == '3.6013100*voigt_peak_20sigma'\n",
      "    voigt_peak_6center:       56.1155261 +/- 0        (0.00%) (init= 56.11475)\n",
      "    voigt_peak_2fwhm:         0.08179311 +/- 0        (0.00%)  == '3.6013100*voigt_peak_2sigma'\n",
      "    voigt_peak_12gamma:       0.03215097 +/- 0        (0.00%) (init= 6.788953e-05)\n",
      "    voigt_peak_17amplitude:   11.1899431 +/- 0        (0.00%) (init= 10.89157)\n",
      "    voigt_peak_9sigma:        0.01726174 +/- 0        (0.00%) (init= 0.01357791)\n",
      "    voigt_peak_5sigma:        0.01706352 +/- 0        (0.00%) (init= 0.01629349)\n",
      "    voigt_peak_8gamma:        0.04135603 +/- 0        (0.00%) (init= 5.431162e-05)\n",
      "    voigt_peak_4gamma:        0.01501495 +/- 0        (0.00%) (init= 4.073372e-05)\n",
      "    voigt_peak_21gamma:       0.07645168 +/- 0        (0.00%) (init= 0.0001357791)\n",
      "    voigt_peak_21fwhm:        0.00107143 +/- 0        (0.00%)  == '3.6013100*voigt_peak_21sigma'\n",
      "    voigt_peak_10center:      76.4542089 +/- 0        (0.00%) (init= 76.45027)\n",
      "    voigt_peak_16sigma:       4.3329e-06 +/- 0        (0.00%) (init= 0.02444023)\n",
      "    voigt_peak_14sigma:       7.9570e-06 +/- 0        (0.00%) (init= 0.02172465)\n",
      "    voigt_peak_10fwhm:        0.00010931 +/- 0        (0.00%)  == '3.6013100*voigt_peak_10sigma'\n",
      "    voigt_peak_8amplitude:    2.21332020 +/- 0        (0.00%) (init= 0.9525423)\n",
      "    voigt_peak_11center:      87.8750647 +/- 0        (0.00%) (init= 87.87242)\n",
      "    voigt_peak_8sigma:        1.7291e-06 +/- 0        (0.00%) (init= 0.01086232)\n",
      "    voigt_peak_21sigma:       0.00029751 +/- 0        (0.00%) (init= 0.02715581)\n",
      "    voigt_peak_4sigma:        0.01494412 +/- 0        (0.00%) (init= 0.008146744)\n",
      "    voigt_peak_14center:      95.1108312 +/- 0        (0.00%) (init= 95.11467)\n",
      "    voigt_peak_1amplitude:    118.145436 +/- 0        (0.00%) (init= 41.61106)\n",
      "    voigt_peak_7fwhm:         2.2941e-09 +/- 0        (0.00%)  == '3.6013100*voigt_peak_7sigma'\n",
      "    voigt_peak_13gamma:       0.03204946 +/- 0        (0.00%) (init= 0.0001086232)\n",
      "    voigt_peak_15sigma:       0.00739057 +/- 0        (0.00%) (init= 0.02172465)\n",
      "    voigt_peak_7center:       68.9693433 +/- 0        (0.00%) (init= 68.96989)\n",
      "    voigt_peak_22gamma:       0.13330272 +/- 0        (0.00%) (init= 0.0001900907)\n",
      "[[Correlations]] (unreported correlations are <  0.100)\n"
     ]
    }
   ],
   "source": [
    "fit_multi_voigt_pulver = multi_voigt_pulver.fit(data_pulver[1][np.where(data_pulver[1] > -1)],params_multivoigt_pulver,x=data_pulver[0][np.where(data_pulver[1] > -1)])\n",
    "print(fit_multi_voigt_pulver.fit_report())"
   ]
  },
  {
   "cell_type": "code",
   "execution_count": null,
   "metadata": {
    "collapsed": false
   },
   "outputs": [],
   "source": [
    "fit_multi_voigt_pulver.plot()\n",
    "plt.show()"
   ]
  },
  {
   "cell_type": "code",
   "execution_count": 99,
   "metadata": {
    "collapsed": true
   },
   "outputs": [],
   "source": [
    "plt.errorbar(data_pulver[0],data_pulver[1],np.sqrt(data_pulver[1]),label = r'Messdaten mit Fehler $\\sqrt{N}$')\n",
    "plt.plot(np.arange(data_pulver[0][0], data_pulver[0][-1],0.001),fit_multi_voigt_pulver.eval(x=np.arange(data_pulver[0][0], data_pulver[0][-1],0.001)),label = r'Voigtfit')\n",
    "plt.xticks(size = 24)\n",
    "plt.yticks(size = 24)\n",
    "plt.xlim(10,143)\n",
    "plt.legend(loc = 'best', fontsize = 24)\n",
    "plt.ylabel('Counts', size = 24)\n",
    "plt.xlabel(r'2$\\theta/^{\\circ}$', size = 24)\n",
    "plt.show()"
   ]
  },
  {
   "cell_type": "code",
   "execution_count": 37,
   "metadata": {
    "collapsed": false
   },
   "outputs": [],
   "source": [
    "Silicium_Simulation = np.loadtxt(\"Silicium.x_y\").T"
   ]
  },
  {
   "cell_type": "code",
   "execution_count": 38,
   "metadata": {
    "collapsed": false
   },
   "outputs": [
    {
     "data": {
      "text/plain": [
       "array([[  2.00000000e+01,   2.00100000e+01,   2.00200000e+01, ...,\n",
       "          1.39976000e+02,   1.39986000e+02,   1.39996000e+02],\n",
       "       [  1.34000000e-01,   1.34000000e-01,   1.35000000e-01, ...,\n",
       "          1.56000000e-01,   1.55000000e-01,   1.54000000e-01]])"
      ]
     },
     "execution_count": 38,
     "metadata": {},
     "output_type": "execute_result"
    }
   ],
   "source": [
    "Silicium_Simulation"
   ]
  },
  {
   "cell_type": "code",
   "execution_count": 39,
   "metadata": {
    "collapsed": true
   },
   "outputs": [],
   "source": [
    "voigt_peak_1ss = models.VoigtModel(prefix='voigt_peak_1')\n",
    "voigt_peak_2ss = models.VoigtModel(prefix='voigt_peak_2')\n",
    "voigt_peak_3ss = models.VoigtModel(prefix='voigt_peak_3')\n",
    "voigt_peak_4ss = models.VoigtModel(prefix='voigt_peak_4')\n",
    "voigt_peak_5ss = models.VoigtModel(prefix='voigt_peak_5')\n",
    "voigt_peak_6ss = models.VoigtModel(prefix='voigt_peak_6')\n",
    "voigt_peak_7ss = models.VoigtModel(prefix='voigt_peak_7')\n",
    "voigt_peak_8ss = models.VoigtModel(prefix='voigt_peak_8')\n",
    "voigt_peak_9ss = models.VoigtModel(prefix='voigt_peak_9')\n",
    "voigt_peak_10ss = models.VoigtModel(prefix='voigt_peak_10')\n",
    "voigt_peak_11ss = models.VoigtModel(prefix='voigt_peak_11')\n",
    "voigt_peak_12ss = models.VoigtModel(prefix='voigt_peak_12')\n",
    "voigt_peak_13ss = models.VoigtModel(prefix='voigt_peak_13')\n",
    "voigt_peak_14ss = models.VoigtModel(prefix='voigt_peak_14')\n",
    "voigt_peak_15ss = models.VoigtModel(prefix='voigt_peak_15')\n",
    "voigt_peak_16ss = models.VoigtModel(prefix='voigt_peak_16')\n",
    "voigt_peak_17ss = models.VoigtModel(prefix='voigt_peak_17')\n",
    "voigt_peak_18ss = models.VoigtModel(prefix='voigt_peak_18')\n",
    "voigt_peak_19ss = models.VoigtModel(prefix='voigt_peak_19')\n",
    "voigt_peak_20ss = models.VoigtModel(prefix='voigt_peak_20')\n",
    "voigt_peak_21ss = models.VoigtModel(prefix='voigt_peak_21')\n",
    "voigt_peak_22ss = models.VoigtModel(prefix='voigt_peak_22')"
   ]
  },
  {
   "cell_type": "code",
   "execution_count": 40,
   "metadata": {
    "collapsed": true
   },
   "outputs": [],
   "source": [
    "peak_1_range_pulverss = np.arange(np.where( 28.24+0.15 < Silicium_Simulation[0])[0][0],np.where( Silicium_Simulation[0] > 28.32+0.15)[0][0])\n",
    "peak_2_range_pulverss = np.arange(np.where( 28.335+0.15 < Silicium_Simulation[0])[0][0],np.where( Silicium_Simulation[0] > 28.4+0.15)[0][0])\n",
    "peak_3_range_pulverss = np.arange(np.where( 47.1+0.15 < Silicium_Simulation[0])[0][0],np.where( Silicium_Simulation[0] > 47.19+0.15)[0][0])\n",
    "peak_4_range_pulverss = np.arange(np.where( 47.24+0.15 < Silicium_Simulation[0])[0][0],np.where( Silicium_Simulation[0] > 47.31+0.15)[0][0])\n",
    "peak_5_range_pulverss = np.arange(np.where( 55.9+0.15 < Silicium_Simulation[0])[0][0],np.where( Silicium_Simulation[0] > 56.02+0.15)[0][0])\n",
    "peak_6_range_pulverss = np.arange(np.where( 56.06+0.15 < Silicium_Simulation[0])[0][0],np.where( Silicium_Simulation[0] > 56.17+0.15)[0][0])\n",
    "peak_7_range_pulverss = np.arange(np.where( 68.84+0.15 < Silicium_Simulation[0])[0][0],np.where( Silicium_Simulation[0] > 69.02+0.15)[0][0])\n",
    "peak_8_range_pulverss = np.arange(np.where( 69.12+0.15 < Silicium_Simulation[0])[0][0],np.where( Silicium_Simulation[0] > 69.22+0.15)[0][0])\n",
    "peak_9_range_pulverss = np.arange(np.where( 76.18+0.15 < Silicium_Simulation[0])[0][0],np.where( Silicium_Simulation[0] > 76.28+0.15)[0][0])\n",
    "peak_10_range_pulverss = np.arange(np.where( 76.38+0.15 < Silicium_Simulation[0])[0][0],np.where( Silicium_Simulation[0] > 76.52+0.15)[0][0])\n",
    "peak_11_range_pulverss = np.arange(np.where( 87.8+0.15 < Silicium_Simulation[0])[0][0],np.where( Silicium_Simulation[0] > 87.94+0.15)[0][0])\n",
    "peak_12_range_pulverss = np.arange(np.where( 88.08+0.15 < Silicium_Simulation[0])[0][0],np.where( Silicium_Simulation[0] > 88.22+0.15)[0][0])\n",
    "peak_13_range_pulverss = np.arange(np.where( 94.7+0.15 < Silicium_Simulation[0])[0][0],np.where( Silicium_Simulation[0] > 94.9+0.15)[0][0])\n",
    "peak_14_range_pulverss = np.arange(np.where( 95.04+0.15 < Silicium_Simulation[0])[0][0],np.where( Silicium_Simulation[0] > 95.18+0.15)[0][0])\n",
    "peak_15_range_pulverss = np.arange(np.where( 106.4+0.15 < Silicium_Simulation[0])[0][0],np.where( Silicium_Simulation[0] > 106.7+0.15)[0][0])\n",
    "peak_16_range_pulverss = np.arange(np.where( 106.86+0.15 < Silicium_Simulation[0])[0][0],np.where( Silicium_Simulation[0] > 107.04+0.15)[0][0])\n",
    "peak_17_range_pulverss = np.arange(np.where( 113.82+0.15 < Silicium_Simulation[0])[0][0],np.where( Silicium_Simulation[0] > 114.05+0.15)[0][0])\n",
    "peak_18_range_pulverss = np.arange(np.where( 114.3+0.15 < Silicium_Simulation[0])[0][0],np.where( Silicium_Simulation[0] > 114.48+0.15)[0][0])\n",
    "peak_19_range_pulverss = np.arange(np.where( 127.3+0.15 < Silicium_Simulation[0])[0][0],np.where( Silicium_Simulation[0] > 127.54+0.15)[0][0])\n",
    "peak_20_range_pulverss = np.arange(np.where( 127.9+0.15 < Silicium_Simulation[0])[0][0],np.where( Silicium_Simulation[0] > 128.08+0.15)[0][0])\n",
    "peak_21_range_pulverss = np.arange(np.where( 136.65+0.15 < Silicium_Simulation[0])[0][0],np.where( Silicium_Simulation[0] > 136.85+0.15)[0][0])\n",
    "peak_22_range_pulverss = np.arange(np.where( 137.35+0.15 < Silicium_Simulation[0])[0][0],np.where( Silicium_Simulation[0] > 137.65+0.15)[0][0])"
   ]
  },
  {
   "cell_type": "code",
   "execution_count": 41,
   "metadata": {
    "collapsed": false
   },
   "outputs": [],
   "source": [
    "params_peak_1ss = voigt_peak_1ss.guess(Silicium_Simulation[1][peak_1_range_pulverss],x=Silicium_Simulation[0][peak_1_range_pulverss])\n",
    "params_peak_2ss = voigt_peak_2ss.guess(Silicium_Simulation[1][peak_2_range_pulverss],x=Silicium_Simulation[0][peak_2_range_pulverss])\n",
    "params_peak_3ss = voigt_peak_3ss.guess(Silicium_Simulation[1][peak_3_range_pulverss],x=Silicium_Simulation[0][peak_3_range_pulverss])\n",
    "params_peak_4ss = voigt_peak_4ss.guess(Silicium_Simulation[1][peak_4_range_pulverss],x=Silicium_Simulation[0][peak_4_range_pulverss])\n",
    "params_peak_5ss = voigt_peak_5ss.guess(Silicium_Simulation[1][peak_5_range_pulverss],x=Silicium_Simulation[0][peak_5_range_pulverss])\n",
    "params_peak_6ss = voigt_peak_6ss.guess(Silicium_Simulation[1][peak_6_range_pulverss],x=Silicium_Simulation[0][peak_6_range_pulverss])\n",
    "params_peak_7ss = voigt_peak_7ss.guess(Silicium_Simulation[1][peak_7_range_pulverss],x=Silicium_Simulation[0][peak_7_range_pulverss])\n",
    "params_peak_8ss = voigt_peak_8ss.guess(Silicium_Simulation[1][peak_8_range_pulverss],x=Silicium_Simulation[0][peak_8_range_pulverss])\n",
    "params_peak_9ss = voigt_peak_9ss.guess(Silicium_Simulation[1][peak_9_range_pulverss],x=Silicium_Simulation[0][peak_9_range_pulverss])\n",
    "params_peak_10ss = voigt_peak_10ss.guess(Silicium_Simulation[1][peak_10_range_pulverss],x=Silicium_Simulation[0][peak_10_range_pulverss])\n",
    "params_peak_11ss = voigt_peak_11ss.guess(Silicium_Simulation[1][peak_11_range_pulverss],x=Silicium_Simulation[0][peak_11_range_pulverss])\n",
    "params_peak_12ss = voigt_peak_12ss.guess(Silicium_Simulation[1][peak_12_range_pulverss],x=Silicium_Simulation[0][peak_12_range_pulverss])\n",
    "params_peak_13ss = voigt_peak_13ss.guess(Silicium_Simulation[1][peak_13_range_pulverss],x=Silicium_Simulation[0][peak_13_range_pulverss])\n",
    "params_peak_14ss = voigt_peak_14ss.guess(Silicium_Simulation[1][peak_14_range_pulverss],x=Silicium_Simulation[0][peak_14_range_pulverss])\n",
    "params_peak_15ss = voigt_peak_15ss.guess(Silicium_Simulation[1][peak_15_range_pulverss],x=Silicium_Simulation[0][peak_15_range_pulverss])\n",
    "params_peak_16ss = voigt_peak_16ss.guess(Silicium_Simulation[1][peak_16_range_pulverss],x=Silicium_Simulation[0][peak_16_range_pulverss])\n",
    "params_peak_17ss = voigt_peak_17ss.guess(Silicium_Simulation[1][peak_17_range_pulverss],x=Silicium_Simulation[0][peak_17_range_pulverss])\n",
    "params_peak_18ss = voigt_peak_18ss.guess(Silicium_Simulation[1][peak_18_range_pulverss],x=Silicium_Simulation[0][peak_18_range_pulverss])\n",
    "params_peak_19ss = voigt_peak_19ss.guess(Silicium_Simulation[1][peak_19_range_pulverss],x=Silicium_Simulation[0][peak_19_range_pulverss])\n",
    "params_peak_20ss = voigt_peak_20ss.guess(Silicium_Simulation[1][peak_20_range_pulverss],x=Silicium_Simulation[0][peak_20_range_pulverss])\n",
    "params_peak_21ss = voigt_peak_21ss.guess(Silicium_Simulation[1][peak_21_range_pulverss],x=Silicium_Simulation[0][peak_21_range_pulverss])\n",
    "params_peak_22ss = voigt_peak_22ss.guess(Silicium_Simulation[1][peak_22_range_pulverss],x=Silicium_Simulation[0][peak_22_range_pulverss])"
   ]
  },
  {
   "cell_type": "code",
   "execution_count": 42,
   "metadata": {
    "collapsed": true
   },
   "outputs": [],
   "source": [
    "params_peak_1ss['voigt_peak_1gamma'].set(value = params_peak_1ss.valuesdict()['voigt_peak_1sigma']/200 ,vary=True, expr='')\n",
    "params_peak_2ss['voigt_peak_2gamma'].set(value = params_peak_2ss.valuesdict()['voigt_peak_2sigma']/200 ,vary=True, expr='')\n",
    "params_peak_3ss['voigt_peak_3gamma'].set(value = params_peak_3ss.valuesdict()['voigt_peak_3sigma']/200 ,vary=True, expr='')\n",
    "params_peak_4ss['voigt_peak_4gamma'].set(value = params_peak_4ss.valuesdict()['voigt_peak_4sigma']/200 ,vary=True, expr='')\n",
    "params_peak_5ss['voigt_peak_5gamma'].set(value = params_peak_5ss.valuesdict()['voigt_peak_5sigma']/200 ,vary=True, expr='')\n",
    "params_peak_6ss['voigt_peak_6gamma'].set(value = params_peak_6ss.valuesdict()['voigt_peak_6sigma']/200 ,vary=True, expr='')\n",
    "params_peak_7ss['voigt_peak_7gamma'].set(value = params_peak_7ss.valuesdict()['voigt_peak_7sigma']/200 ,vary=True, expr='')\n",
    "params_peak_8ss['voigt_peak_8gamma'].set(value = params_peak_8ss.valuesdict()['voigt_peak_8sigma']/200 ,vary=True, expr='')\n",
    "params_peak_9ss['voigt_peak_9gamma'].set(value = params_peak_9ss.valuesdict()['voigt_peak_9sigma']/200 ,vary=True, expr='')\n",
    "params_peak_10ss['voigt_peak_10gamma'].set(value = params_peak_10ss.valuesdict()['voigt_peak_10sigma']/200 ,vary=True, expr='')\n",
    "params_peak_11ss['voigt_peak_11gamma'].set(value = params_peak_11ss.valuesdict()['voigt_peak_11sigma']/200 ,vary=True, expr='')\n",
    "params_peak_12ss['voigt_peak_12gamma'].set(value = params_peak_12ss.valuesdict()['voigt_peak_12sigma']/200 ,vary=True, expr='')\n",
    "params_peak_13ss['voigt_peak_13gamma'].set(value = params_peak_13ss.valuesdict()['voigt_peak_13sigma']/200 ,vary=True, expr='')\n",
    "params_peak_14ss['voigt_peak_14gamma'].set(value = params_peak_14ss.valuesdict()['voigt_peak_14sigma']/200 ,vary=True, expr='')\n",
    "params_peak_15ss['voigt_peak_15gamma'].set(value = params_peak_15ss.valuesdict()['voigt_peak_15sigma']/200 ,vary=True, expr='')\n",
    "params_peak_16ss['voigt_peak_16gamma'].set(value = params_peak_16ss.valuesdict()['voigt_peak_16sigma']/200 ,vary=True, expr='')\n",
    "params_peak_17ss['voigt_peak_17gamma'].set(value = params_peak_17ss.valuesdict()['voigt_peak_17sigma']/200 ,vary=True, expr='')\n",
    "params_peak_18ss['voigt_peak_18gamma'].set(value = params_peak_18ss.valuesdict()['voigt_peak_18sigma']/200 ,vary=True, expr='')\n",
    "params_peak_19ss['voigt_peak_19gamma'].set(value = params_peak_19ss.valuesdict()['voigt_peak_19sigma']/200 ,vary=True, expr='')\n",
    "params_peak_20ss['voigt_peak_20gamma'].set(value = params_peak_20ss.valuesdict()['voigt_peak_20sigma']/200 ,vary=True, expr='')\n",
    "params_peak_21ss['voigt_peak_21gamma'].set(value = params_peak_21ss.valuesdict()['voigt_peak_21sigma']/200 ,vary=True, expr='')\n",
    "params_peak_22ss['voigt_peak_22gamma'].set(value = params_peak_22ss.valuesdict()['voigt_peak_22sigma']/200 ,vary=True, expr='')"
   ]
  },
  {
   "cell_type": "code",
   "execution_count": 43,
   "metadata": {
    "collapsed": true
   },
   "outputs": [],
   "source": [
    "#ab hier wiederholschleife\n",
    "params_peak_1ss['voigt_peak_1sigma'].set(value = params_peak_1ss.valuesdict()['voigt_peak_1sigma'] ,vary=True, expr='')\n",
    "params_peak_2ss['voigt_peak_2sigma'].set(value = params_peak_2ss.valuesdict()['voigt_peak_2sigma'] ,vary=True, expr='')\n",
    "params_peak_3ss['voigt_peak_3sigma'].set(value = params_peak_3ss.valuesdict()['voigt_peak_3sigma'] ,vary=True, expr='')\n",
    "params_peak_4ss['voigt_peak_4sigma'].set(value = params_peak_4ss.valuesdict()['voigt_peak_4sigma'] ,vary=True, expr='')\n",
    "params_peak_5ss['voigt_peak_5sigma'].set(value = params_peak_5ss.valuesdict()['voigt_peak_5sigma'] ,vary=True, expr='')\n",
    "params_peak_6ss['voigt_peak_6sigma'].set(value = params_peak_6ss.valuesdict()['voigt_peak_6sigma'] ,vary=True, expr='')\n",
    "params_peak_7ss['voigt_peak_7sigma'].set(value = params_peak_7ss.valuesdict()['voigt_peak_7sigma'] ,vary=True, expr='')\n",
    "params_peak_8ss['voigt_peak_8sigma'].set(value = params_peak_8ss.valuesdict()['voigt_peak_8sigma'] ,vary=True, expr='')\n",
    "params_peak_9ss['voigt_peak_9sigma'].set(value = params_peak_9ss.valuesdict()['voigt_peak_9sigma'] ,vary=True, expr='')\n",
    "params_peak_10ss['voigt_peak_10sigma'].set(value = params_peak_10ss.valuesdict()['voigt_peak_10sigma'] ,vary=True, expr='')\n",
    "params_peak_11ss['voigt_peak_11sigma'].set(value = params_peak_11ss.valuesdict()['voigt_peak_11sigma'] ,vary=True, expr='')\n",
    "params_peak_12ss['voigt_peak_12sigma'].set(value = params_peak_12ss.valuesdict()['voigt_peak_12sigma'] ,vary=True, expr='')\n",
    "params_peak_13ss['voigt_peak_13sigma'].set(value = params_peak_13ss.valuesdict()['voigt_peak_13sigma'] ,vary=True, expr='')\n",
    "params_peak_14ss['voigt_peak_14sigma'].set(value = params_peak_14ss.valuesdict()['voigt_peak_14sigma'] ,vary=True, expr='')\n",
    "params_peak_15ss['voigt_peak_15sigma'].set(value = params_peak_15ss.valuesdict()['voigt_peak_15sigma'] ,vary=True, expr='')\n",
    "params_peak_16ss['voigt_peak_16sigma'].set(value = params_peak_16ss.valuesdict()['voigt_peak_16sigma'] ,vary=True, expr='')\n",
    "params_peak_17ss['voigt_peak_17sigma'].set(value = params_peak_17ss.valuesdict()['voigt_peak_17sigma'] ,vary=True, expr='')\n",
    "params_peak_18ss['voigt_peak_18sigma'].set(value = params_peak_18ss.valuesdict()['voigt_peak_18sigma'] ,vary=True, expr='')\n",
    "params_peak_19ss['voigt_peak_19sigma'].set(value = params_peak_19ss.valuesdict()['voigt_peak_19sigma'] ,vary=True, expr='')\n",
    "params_peak_20ss['voigt_peak_20sigma'].set(value = params_peak_20ss.valuesdict()['voigt_peak_20sigma'] ,vary=True, expr='')\n",
    "params_peak_21ss['voigt_peak_21sigma'].set(value = params_peak_21ss.valuesdict()['voigt_peak_21sigma'] ,vary=True, expr='')\n",
    "params_peak_22ss['voigt_peak_22sigma'].set(value = params_peak_22ss.valuesdict()['voigt_peak_22sigma'] ,vary=True, expr='')\n",
    "\n",
    "params_peak_1ss['voigt_peak_1gamma'].set(value = params_peak_1ss.valuesdict()['voigt_peak_1gamma'] ,vary=True, expr='')\n",
    "params_peak_2ss['voigt_peak_2gamma'].set(value = params_peak_2ss.valuesdict()['voigt_peak_2gamma'] ,vary=True, expr='')\n",
    "params_peak_3ss['voigt_peak_3gamma'].set(value = params_peak_3ss.valuesdict()['voigt_peak_3gamma'] ,vary=True, expr='')\n",
    "params_peak_4ss['voigt_peak_4gamma'].set(value = params_peak_4ss.valuesdict()['voigt_peak_4gamma'] ,vary=True, expr='')\n",
    "params_peak_5ss['voigt_peak_5gamma'].set(value = params_peak_5ss.valuesdict()['voigt_peak_5gamma'] ,vary=True, expr='')\n",
    "params_peak_6ss['voigt_peak_6gamma'].set(value = params_peak_6ss.valuesdict()['voigt_peak_6gamma'] ,vary=True, expr='')\n",
    "params_peak_7ss['voigt_peak_7gamma'].set(value = params_peak_7ss.valuesdict()['voigt_peak_7gamma'] ,vary=True, expr='')\n",
    "params_peak_8ss['voigt_peak_8gamma'].set(value = params_peak_8ss.valuesdict()['voigt_peak_8gamma'] ,vary=True, expr='')\n",
    "params_peak_9ss['voigt_peak_9gamma'].set(value = params_peak_9ss.valuesdict()['voigt_peak_9gamma'] ,vary=True, expr='')\n",
    "params_peak_10ss['voigt_peak_10gamma'].set(value = params_peak_10ss.valuesdict()['voigt_peak_10gamma'] ,vary=True, expr='')\n",
    "params_peak_11ss['voigt_peak_11gamma'].set(value = params_peak_11ss.valuesdict()['voigt_peak_11gamma'] ,vary=True, expr='')\n",
    "params_peak_12ss['voigt_peak_12gamma'].set(value = params_peak_12ss.valuesdict()['voigt_peak_12gamma'] ,vary=True, expr='')\n",
    "params_peak_13ss['voigt_peak_13gamma'].set(value = params_peak_13ss.valuesdict()['voigt_peak_13gamma'] ,vary=True, expr='')\n",
    "params_peak_14ss['voigt_peak_14gamma'].set(value = params_peak_14ss.valuesdict()['voigt_peak_14gamma'] ,vary=True, expr='')\n",
    "params_peak_15ss['voigt_peak_15gamma'].set(value = params_peak_15ss.valuesdict()['voigt_peak_15gamma'] ,vary=True, expr='')\n",
    "params_peak_16ss['voigt_peak_16gamma'].set(value = params_peak_16ss.valuesdict()['voigt_peak_16gamma'] ,vary=True, expr='')\n",
    "params_peak_17ss['voigt_peak_17gamma'].set(value = params_peak_17ss.valuesdict()['voigt_peak_17gamma'] ,vary=True, expr='')\n",
    "params_peak_18ss['voigt_peak_18gamma'].set(value = params_peak_18ss.valuesdict()['voigt_peak_18gamma'] ,vary=True, expr='')\n",
    "params_peak_19ss['voigt_peak_19gamma'].set(value = params_peak_19ss.valuesdict()['voigt_peak_19gamma'] ,vary=True, expr='')\n",
    "params_peak_20ss['voigt_peak_20gamma'].set(value = params_peak_20ss.valuesdict()['voigt_peak_20gamma'] ,vary=True, expr='')\n",
    "params_peak_21ss['voigt_peak_21gamma'].set(value = params_peak_21ss.valuesdict()['voigt_peak_21gamma'] ,vary=True, expr='')\n",
    "params_peak_22ss['voigt_peak_22gamma'].set(value = params_peak_22ss.valuesdict()['voigt_peak_22gamma'] ,vary=True, expr='')"
   ]
  },
  {
   "cell_type": "code",
   "execution_count": 44,
   "metadata": {
    "collapsed": false
   },
   "outputs": [],
   "source": [
    "multi_voigt_pulverss = voigt_peak_1ss + voigt_peak_2ss + voigt_peak_3ss + voigt_peak_4ss + voigt_peak_5ss + voigt_peak_6ss + voigt_peak_7ss + voigt_peak_8ss + voigt_peak_9ss + voigt_peak_10ss + voigt_peak_11ss + voigt_peak_12ss + voigt_peak_13ss + voigt_peak_14ss + voigt_peak_15ss + voigt_peak_16ss + voigt_peak_17ss + voigt_peak_18ss + voigt_peak_19ss + voigt_peak_20ss + voigt_peak_21ss + voigt_peak_22ss \n",
    "params_multivoigt_pulverss = multi_voigt_pulverss.make_params()\n",
    "params_multivoigt_pulverss.update(params_peak_1ss)\n",
    "params_multivoigt_pulverss.update(params_peak_2ss)\n",
    "params_multivoigt_pulverss.update(params_peak_3ss)\n",
    "params_multivoigt_pulverss.update(params_peak_4ss)\n",
    "params_multivoigt_pulverss.update(params_peak_5ss)\n",
    "params_multivoigt_pulverss.update(params_peak_6ss)\n",
    "params_multivoigt_pulverss.update(params_peak_7ss)\n",
    "params_multivoigt_pulverss.update(params_peak_8ss)\n",
    "params_multivoigt_pulverss.update(params_peak_9ss)\n",
    "params_multivoigt_pulverss.update(params_peak_10ss)\n",
    "params_multivoigt_pulverss.update(params_peak_11ss)\n",
    "params_multivoigt_pulverss.update(params_peak_12ss)\n",
    "params_multivoigt_pulverss.update(params_peak_13ss)\n",
    "params_multivoigt_pulverss.update(params_peak_14ss)\n",
    "params_multivoigt_pulverss.update(params_peak_15ss)\n",
    "params_multivoigt_pulverss.update(params_peak_16ss)\n",
    "params_multivoigt_pulverss.update(params_peak_17ss)\n",
    "params_multivoigt_pulverss.update(params_peak_18ss)\n",
    "params_multivoigt_pulverss.update(params_peak_19ss)\n",
    "params_multivoigt_pulverss.update(params_peak_20ss)\n",
    "params_multivoigt_pulverss.update(params_peak_21ss)\n",
    "params_multivoigt_pulverss.update(params_peak_22ss)"
   ]
  },
  {
   "cell_type": "code",
   "execution_count": 45,
   "metadata": {
    "collapsed": false
   },
   "outputs": [
    {
     "name": "stdout",
     "output_type": "stream",
     "text": [
      "[[Model]]\n",
      "    (((((((((((((((((((((Model(voigt, prefix='voigt_peak_1') + Model(voigt, prefix='voigt_peak_2')) + Model(voigt, prefix='voigt_peak_3')) + Model(voigt, prefix='voigt_peak_4')) + Model(voigt, prefix='voigt_peak_5')) + Model(voigt, prefix='voigt_peak_6')) + Model(voigt, prefix='voigt_peak_7')) + Model(voigt, prefix='voigt_peak_8')) + Model(voigt, prefix='voigt_peak_9')) + Model(voigt, prefix='voigt_peak_10')) + Model(voigt, prefix='voigt_peak_11')) + Model(voigt, prefix='voigt_peak_12')) + Model(voigt, prefix='voigt_peak_13')) + Model(voigt, prefix='voigt_peak_14')) + Model(voigt, prefix='voigt_peak_15')) + Model(voigt, prefix='voigt_peak_16')) + Model(voigt, prefix='voigt_peak_17')) + Model(voigt, prefix='voigt_peak_18')) + Model(voigt, prefix='voigt_peak_19')) + Model(voigt, prefix='voigt_peak_20')) + Model(voigt, prefix='voigt_peak_21')) + Model(voigt, prefix='voigt_peak_22'))\n",
      "[[Fit Statistics]]\n",
      "    # function evals   = 1786\n",
      "    # data points      = 11979\n",
      "    # variables        = 88\n",
      "    chi-square         = 6682861.542\n",
      "    reduced chi-square = 562.010\n",
      "[[Variables]]\n",
      "    voigt_peak_4fwhm:         0.07140821 +/- 0.001558 (2.18%)  == '3.6013100*voigt_peak_4sigma'\n",
      "    voigt_peak_6sigma:        0.01877208 +/- 0.000732 (3.90%) (init= 0.01625)\n",
      "    voigt_peak_3sigma:        0.01998971 +/- 0.000214 (1.07%) (init= 0.01625)\n",
      "    voigt_peak_21center:      136.942766 +/- 0.000312 (0.00%) (init= 136.94)\n",
      "    voigt_peak_1fwhm:         0.07252353 +/- 0.000571 (0.79%)  == '3.6013100*voigt_peak_1sigma'\n",
      "    voigt_peak_3amplitude:    608.981327 +/- 2.631862 (0.43%) (init= 466.3941)\n",
      "    voigt_peak_12amplitude:   108.972868 +/- 1.840064 (1.69%) (init= 105.698)\n",
      "    voigt_peak_22fwhm:        0.06755581 +/- 0.007581 (11.22%)  == '3.6013100*voigt_peak_22sigma'\n",
      "    voigt_peak_17fwhm:        0.06713258 +/- 0.002446 (3.64%)  == '3.6013100*voigt_peak_17sigma'\n",
      "    voigt_peak_10amplitude:   77.1246002 +/- 1.948966 (2.53%) (init= 59.2653)\n",
      "    voigt_peak_21amplitude:   110.474703 +/- 1.731065 (1.57%) (init= 116.02)\n",
      "    voigt_peak_2center:       28.5209885 +/- 0.000107 (0.00%) (init= 28.515)\n",
      "    voigt_peak_7gamma:        0.01454012 +/- 0.001611 (11.09%) (init= 8.125e-05)\n",
      "    voigt_peak_15amplitude:   84.5775761 +/- 1.759243 (2.08%) (init= 90.61416)\n",
      "    voigt_peak_17gamma:       0.01471712 +/- 0.000826 (5.62%) (init= 9.75e-05)\n",
      "    voigt_peak_6fwhm:         0.06760408 +/- 0.002635 (3.90%)  == '3.6013100*voigt_peak_6sigma'\n",
      "    voigt_peak_20center:      128.165640 +/- 0.000366 (0.00%) (init= 128.164)\n",
      "    voigt_peak_3center:       47.3108628 +/- 5.88e-05 (0.00%) (init= 47.314)\n",
      "    voigt_peak_5amplitude:    364.776958 +/- 2.369223 (0.65%) (init= 368.3328)\n",
      "    voigt_peak_2gamma:        0.01930836 +/- 0.000400 (2.07%) (init= 6.5e-05)\n",
      "    voigt_peak_10sigma:       0.01735034 +/- 0.001721 (9.92%) (init= 0.01625)\n",
      "    voigt_peak_6gamma:        0.01553374 +/- 0.000951 (6.12%) (init= 8.125e-05)\n",
      "    voigt_peak_2sigma:        0.01367281 +/- 0.000353 (2.58%) (init= 0.013)\n",
      "    voigt_peak_4center:       47.4362689 +/- 0.000118 (0.00%) (init= 47.434)\n",
      "    voigt_peak_12fwhm:        0.06407069 +/- 0.004145 (6.47%)  == '3.6013100*voigt_peak_12sigma'\n",
      "    voigt_peak_17sigma:       0.01864115 +/- 0.000679 (3.64%) (init= 0.0195)\n",
      "    voigt_peak_13sigma:       0.01881861 +/- 0.000934 (4.96%) (init= 0.0195)\n",
      "    voigt_peak_14fwhm:        0.06465777 +/- 0.006962 (10.77%)  == '3.6013100*voigt_peak_14sigma'\n",
      "    voigt_peak_3gamma:        0.01279867 +/- 0.000305 (2.38%) (init= 8.125e-05)\n",
      "    voigt_peak_18amplitude:   85.3077493 +/- 1.751122 (2.05%) (init= 86.07159)\n",
      "    voigt_peak_8fwhm:         0.06451129 +/- 0.009500 (14.73%)  == '3.6013100*voigt_peak_8sigma'\n",
      "    voigt_peak_16gamma:       0.01554601 +/- 0.003364 (21.64%) (init= 9.9125e-05)\n",
      "    voigt_peak_1gamma:        0.01383187 +/- 0.000229 (1.66%) (init= 6.5e-05)\n",
      "    voigt_peak_11gamma:       0.01463908 +/- 0.000684 (4.67%) (init= 9.75e-05)\n",
      "    voigt_peak_1center:       28.4471955 +/- 5.57e-05 (0.00%) (init= 28.445)\n",
      "    voigt_peak_15gamma:       0.01453222 +/- 0.001671 (11.50%) (init= 9.75e-05)\n",
      "    voigt_peak_9center:       76.3914581 +/- 0.000232 (0.00%) (init= 76.391)\n",
      "    voigt_peak_20sigma:       0.01847133 +/- 0.001225 (6.63%) (init= 0.0195)\n",
      "    voigt_peak_18fwhm:        0.06528921 +/- 0.005003 (7.66%)  == '3.6013100*voigt_peak_18sigma'\n",
      "    voigt_peak_9gamma:        0.01429629 +/- 0.001026 (7.18%) (init= 9.75e-05)\n",
      "    voigt_peak_19fwhm:        0.06780227 +/- 0.002166 (3.19%)  == '3.6013100*voigt_peak_19sigma'\n",
      "    voigt_peak_5gamma:        0.01351587 +/- 0.000481 (3.56%) (init= 9.75e-05)\n",
      "    voigt_peak_16center:      107.118528 +/- 0.000836 (0.00%) (init= 107.1167)\n",
      "    voigt_peak_16amplitude:   43.1510243 +/- 1.777738 (4.12%) (init= 43.67167)\n",
      "    voigt_peak_18center:      114.562943 +/- 0.000411 (0.00%) (init= 114.56)\n",
      "    voigt_peak_15center:      106.735550 +/- 0.000409 (0.00%) (init= 106.736)\n",
      "    voigt_peak_9fwhm:         0.06843803 +/- 0.002918 (4.26%)  == '3.6013100*voigt_peak_9sigma'\n",
      "    voigt_peak_15fwhm:        0.06779317 +/- 0.004906 (7.24%)  == '3.6013100*voigt_peak_15sigma'\n",
      "    voigt_peak_22amplitude:   55.5359457 +/- 1.740479 (3.13%) (init= 58.67757)\n",
      "    voigt_peak_22sigma:       0.01875867 +/- 0.002105 (11.22%) (init= 0.0195)\n",
      "    voigt_peak_3fwhm:         0.07198917 +/- 0.000769 (1.07%)  == '3.6013100*voigt_peak_3sigma'\n",
      "    voigt_peak_10gamma:       0.01698943 +/- 0.002007 (11.81%) (init= 8.125e-05)\n",
      "    voigt_peak_16fwhm:        0.06703645 +/- 0.010103 (15.07%)  == '3.6013100*voigt_peak_16sigma'\n",
      "    voigt_peak_19gamma:       0.01449899 +/- 0.000736 (5.08%) (init= 9.75e-05)\n",
      "    voigt_peak_11fwhm:        0.06747463 +/- 0.001994 (2.96%)  == '3.6013100*voigt_peak_11sigma'\n",
      "    voigt_peak_1sigma:        0.02013809 +/- 0.000159 (0.79%) (init= 0.013)\n",
      "    voigt_peak_7sigma:        0.01878276 +/- 0.001264 (6.73%) (init= 0.01625)\n",
      "    voigt_peak_12sigma:       0.01779094 +/- 0.001151 (6.47%) (init= 0.0195)\n",
      "    voigt_peak_18gamma:       0.01554031 +/- 0.001649 (10.61%) (init= 9.75e-05)\n",
      "    voigt_peak_6amplitude:    190.791165 +/- 2.402831 (1.26%) (init= 130.1194)\n",
      "    voigt_peak_19amplitude:   189.774363 +/- 1.736502 (0.92%) (init= 200.1251)\n",
      "    voigt_peak_11amplitude:   213.376794 +/- 1.827641 (0.86%) (init= 218.3425)\n",
      "    voigt_peak_13fwhm:        0.06777166 +/- 0.003363 (4.96%)  == '3.6013100*voigt_peak_13sigma'\n",
      "    voigt_peak_9amplitude:    148.886624 +/- 1.931264 (1.30%) (init= 140.71)\n",
      "    voigt_peak_19center:      127.584316 +/- 0.000182 (0.00%) (init= 127.583)\n",
      "    voigt_peak_2amplitude:    468.594994 +/- 3.659546 (0.78%) (init= 135.758)\n",
      "    voigt_peak_11sigma:       0.01873613 +/- 0.000554 (2.96%) (init= 0.0195)\n",
      "    voigt_peak_8center:       69.3399030 +/- 0.000712 (0.00%) (init= 69.339)\n",
      "    voigt_peak_19sigma:       0.01882711 +/- 0.000602 (3.19%) (init= 0.0195)\n",
      "    voigt_peak_14amplitude:   63.5701918 +/- 1.804353 (2.84%) (init= 62.38278)\n",
      "    voigt_peak_5fwhm:         0.07039807 +/- 0.001269 (1.80%)  == '3.6013100*voigt_peak_5sigma'\n",
      "    voigt_peak_12center:      88.3246162 +/- 0.000327 (0.00%) (init= 88.323)\n",
      "    voigt_peak_13center:      94.9746321 +/- 0.000277 (0.00%) (init= 94.975)\n",
      "    voigt_peak_20gamma:       0.01505868 +/- 0.001475 (9.80%) (init= 9.75e-05)\n",
      "    voigt_peak_5center:       56.1335028 +/- 9.58e-05 (0.00%) (init= 56.135)\n",
      "    voigt_peak_14gamma:       0.01599291 +/- 0.002282 (14.27%) (init= 9.75e-05)\n",
      "    voigt_peak_20amplitude:   95.0680067 +/- 1.742636 (1.83%) (init= 97.95402)\n",
      "    voigt_peak_13amplitude:   125.026871 +/- 1.794427 (1.44%) (init= 131.0355)\n",
      "    voigt_peak_17center:      114.121970 +/- 0.000204 (0.00%) (init= 114.119)\n",
      "    voigt_peak_4amplitude:    317.938830 +/- 2.665222 (0.84%) (init= 173.8365)\n",
      "    voigt_peak_7amplitude:    98.4246099 +/- 2.040129 (2.07%) (init= 86.55893)\n",
      "    voigt_peak_22center:      137.671046 +/- 0.000635 (0.00%) (init= 137.671)\n",
      "    voigt_peak_18sigma:       0.01812929 +/- 0.001389 (7.66%) (init= 0.0195)\n",
      "    voigt_peak_20fwhm:        0.06652101 +/- 0.004411 (6.63%)  == '3.6013100*voigt_peak_20sigma'\n",
      "    voigt_peak_6center:       56.2844163 +/- 0.000194 (0.00%) (init= 56.28)\n",
      "    voigt_peak_2fwhm:         0.04924005 +/- 0.001272 (2.58%)  == '3.6013100*voigt_peak_2sigma'\n",
      "    voigt_peak_12gamma:       0.01626232 +/- 0.001354 (8.33%) (init= 9.75e-05)\n",
      "    voigt_peak_17amplitude:   169.535407 +/- 1.745842 (1.03%) (init= 178.43)\n",
      "    voigt_peak_9sigma:        0.01900365 +/- 0.000810 (4.26%) (init= 0.0195)\n",
      "    voigt_peak_5sigma:        0.01954790 +/- 0.000352 (1.80%) (init= 0.0195)\n",
      "    voigt_peak_8gamma:        0.01638654 +/- 0.003195 (19.50%) (init= 9.75e-05)\n",
      "    voigt_peak_4gamma:        0.01394717 +/- 0.000604 (4.33%) (init= 8.125e-05)\n",
      "    voigt_peak_21gamma:       0.01459173 +/- 0.001258 (8.63%) (init= 9.75e-05)\n",
      "    voigt_peak_21fwhm:        0.06743279 +/- 0.003718 (5.52%)  == '3.6013100*voigt_peak_21sigma'\n",
      "    voigt_peak_10center:      76.6152690 +/- 0.000469 (0.00%) (init= 76.617)\n",
      "    voigt_peak_16sigma:       0.01861446 +/- 0.002805 (15.07%) (init= 0.019825)\n",
      "    voigt_peak_14sigma:       0.01795396 +/- 0.001933 (10.77%) (init= 0.0195)\n",
      "    voigt_peak_10fwhm:        0.06248397 +/- 0.006199 (9.92%)  == '3.6013100*voigt_peak_10sigma'\n",
      "    voigt_peak_8amplitude:    50.8990050 +/- 2.065229 (4.06%) (init= 44.52372)\n",
      "    voigt_peak_11center:      88.0497739 +/- 0.000162 (0.00%) (init= 88.052)\n",
      "    voigt_peak_8sigma:        0.01791328 +/- 0.002637 (14.73%) (init= 0.0195)\n",
      "    voigt_peak_21sigma:       0.01872451 +/- 0.001032 (5.52%) (init= 0.0195)\n",
      "    voigt_peak_4sigma:        0.01982839 +/- 0.000433 (2.18%) (init= 0.01625)\n",
      "    voigt_peak_14center:      95.2849484 +/- 0.000558 (0.00%) (init= 95.285)\n",
      "    voigt_peak_1amplitude:    928.699684 +/- 3.683652 (0.40%) (init= 569.7736)\n",
      "    voigt_peak_7fwhm:         0.06764256 +/- 0.004555 (6.73%)  == '3.6013100*voigt_peak_7sigma'\n",
      "    voigt_peak_13gamma:       0.01455472 +/- 0.001151 (7.91%) (init= 9.75e-05)\n",
      "    voigt_peak_15sigma:       0.01882458 +/- 0.001362 (7.24%) (init= 0.0195)\n",
      "    voigt_peak_7center:       69.1444368 +/- 0.000352 (0.00%) (init= 69.143)\n",
      "    voigt_peak_22gamma:       0.01493671 +/- 0.002542 (17.02%) (init= 9.75e-05)\n",
      "[[Correlations]] (unreported correlations are <  0.100)\n",
      "    C(voigt_peak_5gamma, voigt_peak_5sigma)  = -0.940 \n",
      "    C(voigt_peak_3sigma, voigt_peak_3gamma)  = -0.940 \n",
      "    C(voigt_peak_4gamma, voigt_peak_4sigma)  = -0.939 \n",
      "    C(voigt_peak_6sigma, voigt_peak_6gamma)  = -0.939 \n",
      "    C(voigt_peak_7gamma, voigt_peak_7sigma)  = -0.935 \n",
      "    C(voigt_peak_8gamma, voigt_peak_8sigma)  = -0.934 \n",
      "    C(voigt_peak_9gamma, voigt_peak_9sigma)  = -0.933 \n",
      "    C(voigt_peak_10sigma, voigt_peak_10gamma)  = -0.930 \n",
      "    C(voigt_peak_11gamma, voigt_peak_11sigma)  = -0.929 \n",
      "    C(voigt_peak_13sigma, voigt_peak_13gamma)  = -0.928 \n",
      "    C(voigt_peak_12sigma, voigt_peak_12gamma)  = -0.927 \n",
      "    C(voigt_peak_14gamma, voigt_peak_14sigma)  = -0.926 \n",
      "    C(voigt_peak_15gamma, voigt_peak_15sigma)  = -0.926 \n",
      "    C(voigt_peak_16gamma, voigt_peak_16sigma)  = -0.925 \n",
      "    C(voigt_peak_17gamma, voigt_peak_17sigma)  = -0.925 \n",
      "    C(voigt_peak_19gamma, voigt_peak_19sigma)  = -0.925 \n",
      "    C(voigt_peak_20sigma, voigt_peak_20gamma)  = -0.924 \n",
      "    C(voigt_peak_21gamma, voigt_peak_21sigma)  = -0.924 \n",
      "    C(voigt_peak_18gamma, voigt_peak_18sigma)  = -0.924 \n",
      "    C(voigt_peak_22sigma, voigt_peak_22gamma)  = -0.924 \n",
      "    C(voigt_peak_1gamma, voigt_peak_1sigma)  = -0.907 \n",
      "    C(voigt_peak_2gamma, voigt_peak_2sigma)  = -0.906 \n",
      "    C(voigt_peak_3amplitude, voigt_peak_3gamma)  =  0.882 \n",
      "    C(voigt_peak_4amplitude, voigt_peak_4gamma)  =  0.881 \n",
      "    C(voigt_peak_5amplitude, voigt_peak_5gamma)  =  0.881 \n",
      "    C(voigt_peak_6gamma, voigt_peak_6amplitude)  =  0.878 \n",
      "    C(voigt_peak_7gamma, voigt_peak_7amplitude)  =  0.857 \n",
      "    C(voigt_peak_8gamma, voigt_peak_8amplitude)  =  0.855 \n",
      "    C(voigt_peak_2amplitude, voigt_peak_1amplitude)  = -0.855 \n",
      "    C(voigt_peak_1gamma, voigt_peak_1amplitude)  =  0.847 \n",
      "    C(voigt_peak_9gamma, voigt_peak_9amplitude)  =  0.846 \n",
      "    C(voigt_peak_2gamma, voigt_peak_2amplitude)  =  0.845 \n",
      "    C(voigt_peak_10amplitude, voigt_peak_10gamma)  =  0.841 \n",
      "    C(voigt_peak_11gamma, voigt_peak_11amplitude)  =  0.830 \n",
      "    C(voigt_peak_12amplitude, voigt_peak_12gamma)  =  0.827 \n",
      "    C(voigt_peak_13amplitude, voigt_peak_13gamma)  =  0.825 \n",
      "    C(voigt_peak_14amplitude, voigt_peak_14gamma)  =  0.822 \n",
      "    C(voigt_peak_15amplitude, voigt_peak_15gamma)  =  0.818 \n",
      "    C(voigt_peak_17gamma, voigt_peak_17amplitude)  =  0.815 \n",
      "    C(voigt_peak_16gamma, voigt_peak_16amplitude)  =  0.815 \n",
      "    C(voigt_peak_19gamma, voigt_peak_19amplitude)  =  0.814 \n",
      "    C(voigt_peak_18amplitude, voigt_peak_18gamma)  =  0.814 \n",
      "    C(voigt_peak_20gamma, voigt_peak_20amplitude)  =  0.814 \n",
      "    C(voigt_peak_21amplitude, voigt_peak_21gamma)  =  0.813 \n",
      "    C(voigt_peak_22amplitude, voigt_peak_22gamma)  =  0.810 \n",
      "    C(voigt_peak_5amplitude, voigt_peak_5sigma)  = -0.735 \n",
      "    C(voigt_peak_6sigma, voigt_peak_6amplitude)  = -0.731 \n",
      "    C(voigt_peak_3sigma, voigt_peak_3amplitude)  = -0.728 \n",
      "    C(voigt_peak_3amplitude, voigt_peak_4amplitude)  = -0.728 \n",
      "    C(voigt_peak_4amplitude, voigt_peak_4sigma)  = -0.727 \n",
      "    C(voigt_peak_7sigma, voigt_peak_7amplitude)  = -0.705 \n",
      "    C(voigt_peak_8amplitude, voigt_peak_8sigma)  = -0.702 \n",
      "    C(voigt_peak_9amplitude, voigt_peak_9sigma)  = -0.688 \n",
      "    C(voigt_peak_10amplitude, voigt_peak_10sigma)  = -0.681 \n",
      "    C(voigt_peak_5amplitude, voigt_peak_6amplitude)  = -0.674 \n",
      "    C(voigt_peak_11amplitude, voigt_peak_11sigma)  = -0.665 \n",
      "    C(voigt_peak_12amplitude, voigt_peak_12sigma)  = -0.660 \n",
      "    C(voigt_peak_13sigma, voigt_peak_13amplitude)  = -0.656 \n",
      "    C(voigt_peak_14amplitude, voigt_peak_14sigma)  = -0.652 \n",
      "    C(voigt_peak_15amplitude, voigt_peak_15sigma)  = -0.646 \n",
      "    C(voigt_peak_16amplitude, voigt_peak_16sigma)  = -0.643 \n",
      "    C(voigt_peak_17sigma, voigt_peak_17amplitude)  = -0.642 \n",
      "    C(voigt_peak_19amplitude, voigt_peak_19sigma)  = -0.640 \n",
      "    C(voigt_peak_18amplitude, voigt_peak_18sigma)  = -0.640 \n",
      "    C(voigt_peak_20sigma, voigt_peak_20amplitude)  = -0.639 \n",
      "    C(voigt_peak_21amplitude, voigt_peak_21sigma)  = -0.638 \n",
      "    C(voigt_peak_22amplitude, voigt_peak_22sigma)  = -0.632 \n",
      "    C(voigt_peak_2gamma, voigt_peak_1amplitude)  = -0.627 \n",
      "    C(voigt_peak_1gamma, voigt_peak_2amplitude)  = -0.620 \n",
      "    C(voigt_peak_2sigma, voigt_peak_2amplitude)  = -0.609 \n",
      "    C(voigt_peak_1sigma, voigt_peak_1amplitude)  = -0.605 \n",
      "    C(voigt_peak_5gamma, voigt_peak_6amplitude)  = -0.580 \n",
      "    C(voigt_peak_5amplitude, voigt_peak_6gamma)  = -0.579 \n",
      "    C(voigt_peak_2center, voigt_peak_1center)  =  0.576 \n",
      "    C(voigt_peak_3amplitude, voigt_peak_4gamma)  = -0.575 \n",
      "    C(voigt_peak_3gamma, voigt_peak_4amplitude)  = -0.575 \n",
      "    C(voigt_peak_7amplitude, voigt_peak_8amplitude)  = -0.522 \n",
      "    C(voigt_peak_1center, voigt_peak_2amplitude)  = -0.508 \n",
      "    C(voigt_peak_1center, voigt_peak_1amplitude)  =  0.498 \n",
      "    C(voigt_peak_7amplitude, voigt_peak_8gamma)  = -0.474 \n",
      "    C(voigt_peak_7gamma, voigt_peak_8amplitude)  = -0.474 \n",
      "    C(voigt_peak_6amplitude, voigt_peak_5sigma)  =  0.468 \n",
      "    C(voigt_peak_6sigma, voigt_peak_5amplitude)  =  0.466 \n",
      "    C(voigt_peak_2center, voigt_peak_2amplitude)  = -0.466 \n",
      "    C(voigt_peak_2gamma, voigt_peak_1gamma)  = -0.456 \n",
      "    C(voigt_peak_6gamma, voigt_peak_5gamma)  = -0.446 \n",
      "    C(voigt_peak_10amplitude, voigt_peak_9amplitude)  = -0.434 \n",
      "    C(voigt_peak_3sigma, voigt_peak_4amplitude)  =  0.433 \n",
      "    C(voigt_peak_3amplitude, voigt_peak_4sigma)  =  0.433 \n",
      "    C(voigt_peak_2center, voigt_peak_1amplitude)  =  0.428 \n",
      "    C(voigt_peak_2sigma, voigt_peak_1amplitude)  =  0.425 \n",
      "    C(voigt_peak_7gamma, voigt_peak_8gamma)  = -0.403 \n",
      "    C(voigt_peak_10amplitude, voigt_peak_9gamma)  = -0.401 \n",
      "    C(voigt_peak_10gamma, voigt_peak_9amplitude)  = -0.400 \n",
      "    C(voigt_peak_1sigma, voigt_peak_2amplitude)  =  0.399 \n",
      "    C(voigt_peak_7sigma, voigt_peak_8amplitude)  =  0.395 \n",
      "    C(voigt_peak_7amplitude, voigt_peak_8sigma)  =  0.395 \n",
      "    C(voigt_peak_2sigma, voigt_peak_1sigma)  = -0.382 \n",
      "    C(voigt_peak_2sigma, voigt_peak_1gamma)  =  0.378 \n",
      "    C(voigt_peak_3gamma, voigt_peak_4gamma)  = -0.367 \n",
      "    C(voigt_peak_2gamma, voigt_peak_1sigma)  =  0.363 \n",
      "    C(voigt_peak_9gamma, voigt_peak_10gamma)  = -0.350 \n",
      "    C(voigt_peak_10amplitude, voigt_peak_9sigma)  =  0.337 \n",
      "    C(voigt_peak_10sigma, voigt_peak_9amplitude)  =  0.335 \n",
      "    C(voigt_peak_6gamma, voigt_peak_5sigma)  =  0.334 \n",
      "    C(voigt_peak_6sigma, voigt_peak_5gamma)  =  0.333 \n",
      "    C(voigt_peak_3amplitude, voigt_peak_4center)  =  0.328 \n",
      "    C(voigt_peak_7sigma, voigt_peak_8gamma)  =  0.325 \n",
      "    C(voigt_peak_7gamma, voigt_peak_8sigma)  =  0.324 \n",
      "    C(voigt_peak_3center, voigt_peak_4amplitude)  = -0.321 \n",
      "    C(voigt_peak_12amplitude, voigt_peak_11amplitude)  = -0.313 \n",
      "    C(voigt_peak_4center, voigt_peak_3gamma)  =  0.305 \n",
      "    C(voigt_peak_3center, voigt_peak_4gamma)  = -0.298 \n",
      "    C(voigt_peak_12amplitude, voigt_peak_11gamma)  = -0.295 \n",
      "    C(voigt_peak_11amplitude, voigt_peak_12gamma)  = -0.295 \n",
      "    C(voigt_peak_10gamma, voigt_peak_9sigma)  =  0.286 \n",
      "    C(voigt_peak_10sigma, voigt_peak_9gamma)  =  0.285 \n",
      "    C(voigt_peak_1gamma, voigt_peak_1center)  =  0.274 \n",
      "    C(voigt_peak_11gamma, voigt_peak_12gamma)  = -0.265 \n",
      "    C(voigt_peak_2center, voigt_peak_2gamma)  = -0.264 \n",
      "    C(voigt_peak_7sigma, voigt_peak_8sigma)  = -0.256 \n",
      "    C(voigt_peak_14amplitude, voigt_peak_13amplitude)  = -0.255 \n",
      "    C(voigt_peak_12amplitude, voigt_peak_11sigma)  =  0.249 \n",
      "    C(voigt_peak_12sigma, voigt_peak_11amplitude)  =  0.248 \n",
      "    C(voigt_peak_3sigma, voigt_peak_4center)  = -0.248 \n",
      "    C(voigt_peak_4center, voigt_peak_4amplitude)  = -0.244 \n",
      "    C(voigt_peak_14amplitude, voigt_peak_13gamma)  = -0.242 \n",
      "    C(voigt_peak_14gamma, voigt_peak_13amplitude)  = -0.242 \n",
      "    C(voigt_peak_3center, voigt_peak_4sigma)  =  0.241 \n",
      "    C(voigt_peak_3amplitude, voigt_peak_3center)  =  0.240 \n",
      "    C(voigt_peak_6sigma, voigt_peak_5sigma)  = -0.235 \n",
      "    C(voigt_peak_3sigma, voigt_peak_4gamma)  =  0.230 \n",
      "    C(voigt_peak_3gamma, voigt_peak_4sigma)  =  0.230 \n",
      "    C(voigt_peak_10sigma, voigt_peak_9sigma)  = -0.229 \n",
      "    C(voigt_peak_14gamma, voigt_peak_13gamma)  = -0.221 \n",
      "    C(voigt_peak_11sigma, voigt_peak_12gamma)  =  0.219 \n",
      "    C(voigt_peak_11gamma, voigt_peak_12sigma)  =  0.218 \n",
      "    C(voigt_peak_5amplitude, voigt_peak_6center)  =  0.212 \n",
      "    C(voigt_peak_5gamma, voigt_peak_6center)  =  0.210 \n",
      "    C(voigt_peak_6amplitude, voigt_peak_5center)  = -0.206 \n",
      "    C(voigt_peak_13sigma, voigt_peak_14amplitude)  =  0.205 \n",
      "    C(voigt_peak_13amplitude, voigt_peak_14sigma)  =  0.204 \n",
      "    C(voigt_peak_6gamma, voigt_peak_5center)  = -0.204 \n",
      "    C(voigt_peak_2gamma, voigt_peak_1center)  = -0.199 \n",
      "    C(voigt_peak_4center, voigt_peak_4gamma)  = -0.188 \n",
      "    C(voigt_peak_3center, voigt_peak_3gamma)  =  0.185 \n",
      "    C(voigt_peak_13sigma, voigt_peak_14gamma)  =  0.183 \n",
      "    C(voigt_peak_14sigma, voigt_peak_13gamma)  =  0.183 \n",
      "    C(voigt_peak_6center, voigt_peak_5sigma)  = -0.181 \n",
      "    C(voigt_peak_12sigma, voigt_peak_11sigma)  = -0.178 \n",
      "    C(voigt_peak_6sigma, voigt_peak_5center)  =  0.176 \n",
      "    C(voigt_peak_15amplitude, voigt_peak_16amplitude)  = -0.175 \n",
      "    C(voigt_peak_15amplitude, voigt_peak_16gamma)  = -0.169 \n",
      "    C(voigt_peak_15gamma, voigt_peak_16amplitude)  = -0.168 \n",
      "    C(voigt_peak_2center, voigt_peak_1sigma)  =  0.165 \n",
      "    C(voigt_peak_16gamma, voigt_peak_15gamma)  = -0.156 \n",
      "    C(voigt_peak_13sigma, voigt_peak_14sigma)  = -0.150 \n",
      "    C(voigt_peak_6amplitude, voigt_peak_6center)  = -0.145 \n",
      "    C(voigt_peak_15amplitude, voigt_peak_16sigma)  =  0.143 \n",
      "    C(voigt_peak_16amplitude, voigt_peak_15sigma)  =  0.143 \n",
      "    C(voigt_peak_5amplitude, voigt_peak_5center)  =  0.141 \n",
      "    C(voigt_peak_4center, voigt_peak_4sigma)  =  0.138 \n",
      "    C(voigt_peak_3center, voigt_peak_4center)  =  0.137 \n",
      "    C(voigt_peak_3sigma, voigt_peak_3center)  = -0.136 \n",
      "    C(voigt_peak_18amplitude, voigt_peak_17amplitude)  = -0.133 \n",
      "    C(voigt_peak_15gamma, voigt_peak_16sigma)  =  0.130 \n",
      "    C(voigt_peak_16gamma, voigt_peak_15sigma)  =  0.130 \n",
      "    C(voigt_peak_17gamma, voigt_peak_18amplitude)  = -0.128 \n",
      "    C(voigt_peak_18gamma, voigt_peak_17amplitude)  = -0.128 \n",
      "    C(voigt_peak_6gamma, voigt_peak_6center)  = -0.120 \n",
      "    C(voigt_peak_17gamma, voigt_peak_18gamma)  = -0.119 \n",
      "    C(voigt_peak_5gamma, voigt_peak_5center)  =  0.117 \n",
      "    C(voigt_peak_3sigma, voigt_peak_4sigma)  = -0.116 \n",
      "    C(voigt_peak_17sigma, voigt_peak_18amplitude)  =  0.109 \n",
      "    C(voigt_peak_18sigma, voigt_peak_17amplitude)  =  0.109 \n",
      "    C(voigt_peak_16sigma, voigt_peak_15sigma)  = -0.108 \n"
     ]
    }
   ],
   "source": [
    "fit_multi_voigt_pulverss = multi_voigt_pulverss.fit(Silicium_Simulation[1][np.where(Silicium_Simulation[1] > -1)],params_multivoigt_pulverss,x=Silicium_Simulation[0][np.where(Silicium_Simulation[1] > -1)])\n",
    "print(fit_multi_voigt_pulverss.fit_report())"
   ]
  },
  {
   "cell_type": "code",
   "execution_count": 161,
   "metadata": {
    "collapsed": false
   },
   "outputs": [
    {
     "name": "stdout",
     "output_type": "stream",
     "text": [
      "0.171169046027 0.169920125651 0.172417966403\n"
     ]
    }
   ],
   "source": [
    "sinep = []\n",
    "sinep1 = []\n",
    "sinep2 = []\n",
    "for i in range(1,12,1):\n",
    "    sinep2.append(params_multivoigt_pulverss.valuesdict()['voigt_peak_'+str(2*i-1)+'center'] - params_multivoigt_pulver.valuesdict()['voigt_peak_'+str(2*i-1)+'center'])\n",
    "    sinep.append(params_multivoigt_pulverss.valuesdict()['voigt_peak_'+str(2*i)+'center'] - params_multivoigt_pulver.valuesdict()['voigt_peak_'+str(2*i)+'center'])\n",
    "for i in range(1,23,1):\n",
    "    sinep1.append(params_multivoigt_pulverss.valuesdict()['voigt_peak_'+str(i)+'center'] - params_multivoigt_pulver.valuesdict()['voigt_peak_'+str(i)+'center'])\n",
    "plt.bar(np.arange(1,12,1),sinep2, width = 1)\n",
    "plt.plot(np.arange(1,13,1),np.arange(1,13,1)/np.arange(1,13,1)*(np.sum(sinep2)/len(sinep2)), '-r', label = 'Mittelwert bei '+str(round(np.sum(sinep2)/len(sinep2), 4)))\n",
    "plt.legend(loc = 'best', fontsize = 24)\n",
    "plt.xlim([1,12])\n",
    "plt.ylim(0,np.max(sinep2))\n",
    "plt.yticks(np.arange(0,np.max(sinep2)+0.02,0.02))\n",
    "plt.ylabel(r'$\\Delta 2\\theta/^{\\circ}$', size = 24)\n",
    "plt.xlabel(r'Peak Nummer K$_{\\alpha_1}$', size = 24)\n",
    "plt.show()\n",
    "\n",
    "plt.bar(np.arange(1,12,1),sinep, width = 1)\n",
    "plt.plot(np.arange(1,13,1),np.arange(1,13,1)/np.arange(1,13,1)*(np.sum(sinep)/len(sinep)), '-r', label = 'Mittelwert bei '+str(round(np.sum(sinep)/len(sinep), 4)))\n",
    "plt.legend(loc = 'best', fontsize = 24)\n",
    "plt.yticks(np.arange(0,np.max(sinep)+0.02,0.02))\n",
    "plt.xlim([1,12])\n",
    "plt.ylim(0,np.max(sinep))\n",
    "plt.ylabel(r'$\\Delta 2\\theta/^{\\circ}$', size = 24)\n",
    "plt.xlabel(r'Peak Nummer K$_{\\alpha_2}$', size = 24)\n",
    "plt.show()\n",
    "\n",
    "plt.bar(np.arange(1,23,1),sinep1, width = 1)\n",
    "plt.plot(np.arange(1,24,1),np.arange(1,24,1)/np.arange(1,24,1)*(np.sum(sinep1)/len(sinep1)), '-r', label = 'Mittelwert bei '+str(round(np.sum(sinep1)/len(sinep1), 4)))\n",
    "plt.legend(loc = 'best', fontsize = 34)\n",
    "plt.yticks(np.arange(0,np.max(sinep)+0.02,0.02))\n",
    "plt.xlim([1,23])\n",
    "plt.ylim(0,np.max(sinep))\n",
    "plt.ylabel(r'$\\Delta 2\\theta/^{\\circ}$', size = 34)\n",
    "plt.xlabel(r'Peak Nummer nach Energie', size = 34)\n",
    "plt.show()\n",
    "print(np.sum(sinep1)/len(sinep1),np.sum(sinep)/len(sinep),np.sum(sinep2)/len(sinep2))"
   ]
  },
  {
   "cell_type": "code",
   "execution_count": 38,
   "metadata": {
    "collapsed": false
   },
   "outputs": [],
   "source": [
    "plt.errorbar(Silicium_Simulation[0],Silicium_Simulation[1],np.sqrt(Silicium_Simulation[1]),label = r'Simulierte Daten mit Fehler $\\sqrt{N}$')\n",
    "plt.plot(np.arange(Silicium_Simulation[0][0], Silicium_Simulation[0][-1],0.001),fit_multi_voigt_pulverss.eval(x=np.arange(Silicium_Simulation[0][0], Silicium_Simulation[0][-1],0.001)),label = r'Voigtfit')\n",
    "plt.xticks(size = 24)\n",
    "plt.yticks(size = 24)\n",
    "plt.ylim(0,13000)\n",
    "plt.legend(loc = 'best', fontsize = 24)\n",
    "plt.ylabel('Counts', size = 24)\n",
    "plt.xlabel(r'2$\\theta/^{\\circ}$', size = 24)\n",
    "plt.show()"
   ]
  },
  {
   "cell_type": "code",
   "execution_count": 17,
   "metadata": {
    "collapsed": true
   },
   "outputs": [],
   "source": [
    "Germanium_Simulation = np.loadtxt(\"Germanium.x_y\").T"
   ]
  },
  {
   "cell_type": "code",
   "execution_count": 18,
   "metadata": {
    "collapsed": false
   },
   "outputs": [
    {
     "data": {
      "text/plain": [
       "array([[  20.   ,   20.01 ,   20.02 , ...,  139.976,  139.986,  139.996],\n",
       "       [   1.035,    1.037,    1.04 , ...,    0.   ,    0.   ,    0.   ]])"
      ]
     },
     "execution_count": 18,
     "metadata": {},
     "output_type": "execute_result"
    }
   ],
   "source": [
    "Germanium_Simulation"
   ]
  },
  {
   "cell_type": "code",
   "execution_count": 19,
   "metadata": {
    "collapsed": true
   },
   "outputs": [],
   "source": [
    "voigt_peak_1gs = models.VoigtModel(prefix='voigt_peak_1')\n",
    "voigt_peak_2gs = models.VoigtModel(prefix='voigt_peak_2')\n",
    "voigt_peak_3gs = models.VoigtModel(prefix='voigt_peak_3')\n",
    "voigt_peak_4gs = models.VoigtModel(prefix='voigt_peak_4')\n",
    "voigt_peak_5gs = models.VoigtModel(prefix='voigt_peak_5')\n",
    "voigt_peak_6gs = models.VoigtModel(prefix='voigt_peak_6')\n",
    "voigt_peak_7gs = models.VoigtModel(prefix='voigt_peak_7')\n",
    "voigt_peak_8gs = models.VoigtModel(prefix='voigt_peak_8')\n",
    "voigt_peak_9gs = models.VoigtModel(prefix='voigt_peak_9')\n",
    "voigt_peak_10gs = models.VoigtModel(prefix='voigt_peak_10')\n",
    "voigt_peak_11gs = models.VoigtModel(prefix='voigt_peak_11')\n",
    "voigt_peak_12gs = models.VoigtModel(prefix='voigt_peak_12')\n",
    "voigt_peak_13gs = models.VoigtModel(prefix='voigt_peak_13')\n",
    "voigt_peak_14gs = models.VoigtModel(prefix='voigt_peak_14')\n",
    "voigt_peak_15gs = models.VoigtModel(prefix='voigt_peak_15')\n",
    "voigt_peak_16gs = models.VoigtModel(prefix='voigt_peak_16')\n",
    "voigt_peak_17gs = models.VoigtModel(prefix='voigt_peak_17')\n",
    "voigt_peak_18gs = models.VoigtModel(prefix='voigt_peak_18')\n",
    "voigt_peak_19gs = models.VoigtModel(prefix='voigt_peak_19')\n",
    "voigt_peak_20gs = models.VoigtModel(prefix='voigt_peak_20')\n",
    "voigt_peak_21gs = models.VoigtModel(prefix='voigt_peak_21')\n",
    "voigt_peak_22gs = models.VoigtModel(prefix='voigt_peak_22')"
   ]
  },
  {
   "cell_type": "code",
   "execution_count": 20,
   "metadata": {
    "collapsed": true
   },
   "outputs": [],
   "source": [
    "peak_1_range_pulvergs = np.arange(np.where( 28.24-0.98 < Germanium_Simulation[0])[0][0],np.where( Germanium_Simulation[0] > 28.32-0.98)[0][0])\n",
    "peak_2_range_pulvergs = np.arange(np.where( 28.335-0.98 < Germanium_Simulation[0])[0][0],np.where( Germanium_Simulation[0] > 28.4-0.98)[0][0])\n",
    "peak_3_range_pulvergs = np.arange(np.where( 45.3 < Germanium_Simulation[0])[0][0],np.where( Germanium_Simulation[0] > 45.43)[0][0])\n",
    "peak_4_range_pulvergs = np.arange(np.where( 45.45 < Germanium_Simulation[0])[0][0],np.where( Germanium_Simulation[0] > 45.55)[0][0])\n",
    "peak_5_range_pulvergs = np.arange(np.where( 55.9-2.2 < Germanium_Simulation[0])[0][0],np.where( Germanium_Simulation[0] > 56.02-2.2)[0][0])\n",
    "peak_6_range_pulvergs = np.arange(np.where( 56.06-2.2 < Germanium_Simulation[0])[0][0],np.where( Germanium_Simulation[0] > 56.17-2.2)[0][0])\n",
    "peak_7_range_pulvergs = np.arange(np.where( 66.05 < Germanium_Simulation[0])[0][0],np.where( Germanium_Simulation[0] > 66.15)[0][0])\n",
    "peak_8_range_pulvergs = np.arange(np.where( 66.25 < Germanium_Simulation[0])[0][0],np.where( Germanium_Simulation[0] > 66.35)[0][0])\n",
    "peak_9_range_pulvergs = np.arange(np.where( 72.8 < Germanium_Simulation[0])[0][0],np.where( Germanium_Simulation[0] > 73)[0][0])\n",
    "peak_10_range_pulvergs = np.arange(np.where( 73.1 < Germanium_Simulation[0])[0][0],np.where( Germanium_Simulation[0] > 73.2)[0][0])\n",
    "peak_11_range_pulvergs = np.arange(np.where( 83.7 < Germanium_Simulation[0])[0][0],np.where( Germanium_Simulation[0] > 83.9)[0][0])\n",
    "peak_12_range_pulvergs = np.arange(np.where( 84 < Germanium_Simulation[0])[0][0],np.where( Germanium_Simulation[0] > 84.15)[0][0])\n",
    "peak_13_range_pulvergs = np.arange(np.where( 90.1 < Germanium_Simulation[0])[0][0],np.where( Germanium_Simulation[0] > 90.3)[0][0])\n",
    "peak_14_range_pulvergs = np.arange(np.where( 90.45 < Germanium_Simulation[0])[0][0],np.where( Germanium_Simulation[0] > 90.55)[0][0])\n",
    "peak_15_range_pulvergs = np.arange(np.where( 100.8 < Germanium_Simulation[0])[0][0],np.where( Germanium_Simulation[0] > 101)[0][0])\n",
    "peak_16_range_pulvergs = np.arange(np.where( 101.2 < Germanium_Simulation[0])[0][0],np.where( Germanium_Simulation[0] > 101.35)[0][0])\n",
    "peak_17_range_pulvergs = np.arange(np.where( 107.4 < Germanium_Simulation[0])[0][0],np.where( Germanium_Simulation[0] > 107.65)[0][0])\n",
    "peak_18_range_pulvergs = np.arange(np.where( 107.85 < Germanium_Simulation[0])[0][0],np.where( Germanium_Simulation[0] > 108)[0][0])\n",
    "peak_19_range_pulvergs = np.arange(np.where( 119 < Germanium_Simulation[0])[0][0],np.where( Germanium_Simulation[0] > 119.25)[0][0])\n",
    "peak_20_range_pulvergs = np.arange(np.where( 119.55 < Germanium_Simulation[0])[0][0],np.where( Germanium_Simulation[0] > 119.8)[0][0])\n",
    "peak_21_range_pulvergs = np.arange(np.where( 126.65 < Germanium_Simulation[0])[0][0],np.where( Germanium_Simulation[0] > 126.85)[0][0])\n",
    "peak_22_range_pulvergs = np.arange(np.where( 127.2 < Germanium_Simulation[0])[0][0],np.where( Germanium_Simulation[0] > 127.45)[0][0])"
   ]
  },
  {
   "cell_type": "code",
   "execution_count": 21,
   "metadata": {
    "collapsed": true
   },
   "outputs": [],
   "source": [
    "params_peak_1gs = voigt_peak_1gs.guess(Germanium_Simulation[1][peak_1_range_pulvergs],x=Germanium_Simulation[0][peak_1_range_pulvergs])\n",
    "params_peak_2gs = voigt_peak_2gs.guess(Germanium_Simulation[1][peak_2_range_pulvergs],x=Germanium_Simulation[0][peak_2_range_pulvergs])\n",
    "params_peak_3gs = voigt_peak_3gs.guess(Germanium_Simulation[1][peak_3_range_pulvergs],x=Germanium_Simulation[0][peak_3_range_pulvergs])\n",
    "params_peak_4gs = voigt_peak_4gs.guess(Germanium_Simulation[1][peak_4_range_pulvergs],x=Germanium_Simulation[0][peak_4_range_pulvergs])\n",
    "params_peak_5gs = voigt_peak_5gs.guess(Germanium_Simulation[1][peak_5_range_pulvergs],x=Germanium_Simulation[0][peak_5_range_pulvergs])\n",
    "params_peak_6gs = voigt_peak_6gs.guess(Germanium_Simulation[1][peak_6_range_pulvergs],x=Germanium_Simulation[0][peak_6_range_pulvergs])\n",
    "params_peak_7gs = voigt_peak_7gs.guess(Germanium_Simulation[1][peak_7_range_pulvergs],x=Germanium_Simulation[0][peak_7_range_pulvergs])\n",
    "params_peak_8gs = voigt_peak_8gs.guess(Germanium_Simulation[1][peak_8_range_pulvergs],x=Germanium_Simulation[0][peak_8_range_pulvergs])\n",
    "params_peak_9gs = voigt_peak_9gs.guess(Germanium_Simulation[1][peak_9_range_pulvergs],x=Germanium_Simulation[0][peak_9_range_pulvergs])\n",
    "params_peak_10gs = voigt_peak_10gs.guess(Germanium_Simulation[1][peak_10_range_pulvergs],x=Germanium_Simulation[0][peak_10_range_pulvergs])\n",
    "params_peak_11gs = voigt_peak_11gs.guess(Germanium_Simulation[1][peak_11_range_pulvergs],x=Germanium_Simulation[0][peak_11_range_pulvergs])\n",
    "params_peak_12gs = voigt_peak_12gs.guess(Germanium_Simulation[1][peak_12_range_pulvergs],x=Germanium_Simulation[0][peak_12_range_pulvergs])\n",
    "params_peak_13gs = voigt_peak_13gs.guess(Germanium_Simulation[1][peak_13_range_pulvergs],x=Germanium_Simulation[0][peak_13_range_pulvergs])\n",
    "params_peak_14gs = voigt_peak_14gs.guess(Germanium_Simulation[1][peak_14_range_pulvergs],x=Germanium_Simulation[0][peak_14_range_pulvergs])\n",
    "params_peak_15gs = voigt_peak_15gs.guess(Germanium_Simulation[1][peak_15_range_pulvergs],x=Germanium_Simulation[0][peak_15_range_pulvergs])\n",
    "params_peak_16gs = voigt_peak_16gs.guess(Germanium_Simulation[1][peak_16_range_pulvergs],x=Germanium_Simulation[0][peak_16_range_pulvergs])\n",
    "params_peak_17gs = voigt_peak_17gs.guess(Germanium_Simulation[1][peak_17_range_pulvergs],x=Germanium_Simulation[0][peak_17_range_pulvergs])\n",
    "params_peak_18gs = voigt_peak_18gs.guess(Germanium_Simulation[1][peak_18_range_pulvergs],x=Germanium_Simulation[0][peak_18_range_pulvergs])\n",
    "params_peak_19gs = voigt_peak_19gs.guess(Germanium_Simulation[1][peak_19_range_pulvergs],x=Germanium_Simulation[0][peak_19_range_pulvergs])\n",
    "params_peak_20gs = voigt_peak_20gs.guess(Germanium_Simulation[1][peak_20_range_pulvergs],x=Germanium_Simulation[0][peak_20_range_pulvergs])\n",
    "params_peak_21gs = voigt_peak_21gs.guess(Germanium_Simulation[1][peak_21_range_pulvergs],x=Germanium_Simulation[0][peak_21_range_pulvergs])\n",
    "params_peak_22gs = voigt_peak_22gs.guess(Germanium_Simulation[1][peak_22_range_pulvergs],x=Germanium_Simulation[0][peak_22_range_pulvergs])"
   ]
  },
  {
   "cell_type": "code",
   "execution_count": 22,
   "metadata": {
    "collapsed": true
   },
   "outputs": [],
   "source": [
    "params_peak_1gs['voigt_peak_1gamma'].set(value = params_peak_1gs.valuesdict()['voigt_peak_1sigma']/200 ,vary=True, expr='')\n",
    "params_peak_2gs['voigt_peak_2gamma'].set(value = params_peak_2gs.valuesdict()['voigt_peak_2sigma']/200 ,vary=True, expr='')\n",
    "params_peak_3gs['voigt_peak_3gamma'].set(value = params_peak_3gs.valuesdict()['voigt_peak_3sigma']/200 ,vary=True, expr='')\n",
    "params_peak_4gs['voigt_peak_4gamma'].set(value = params_peak_4gs.valuesdict()['voigt_peak_4sigma']/200 ,vary=True, expr='')\n",
    "params_peak_5gs['voigt_peak_5gamma'].set(value = params_peak_5gs.valuesdict()['voigt_peak_5sigma']/200 ,vary=True, expr='')\n",
    "params_peak_6gs['voigt_peak_6gamma'].set(value = params_peak_6gs.valuesdict()['voigt_peak_6sigma']/200 ,vary=True, expr='')\n",
    "params_peak_7gs['voigt_peak_7gamma'].set(value = params_peak_7gs.valuesdict()['voigt_peak_7sigma']/200 ,vary=True, expr='')\n",
    "params_peak_8gs['voigt_peak_8gamma'].set(value = params_peak_8gs.valuesdict()['voigt_peak_8sigma']/200 ,vary=True, expr='')\n",
    "params_peak_9gs['voigt_peak_9gamma'].set(value = params_peak_9gs.valuesdict()['voigt_peak_9sigma']/200 ,vary=True, expr='')\n",
    "params_peak_10gs['voigt_peak_10gamma'].set(value = params_peak_10gs.valuesdict()['voigt_peak_10sigma']/200 ,vary=True, expr='')\n",
    "params_peak_11gs['voigt_peak_11gamma'].set(value = params_peak_11gs.valuesdict()['voigt_peak_11sigma']/200 ,vary=True, expr='')\n",
    "params_peak_12gs['voigt_peak_12gamma'].set(value = params_peak_12gs.valuesdict()['voigt_peak_12sigma']/200 ,vary=True, expr='')\n",
    "params_peak_13gs['voigt_peak_13gamma'].set(value = params_peak_13gs.valuesdict()['voigt_peak_13sigma']/200 ,vary=True, expr='')\n",
    "params_peak_14gs['voigt_peak_14gamma'].set(value = params_peak_14gs.valuesdict()['voigt_peak_14sigma']/200 ,vary=True, expr='')\n",
    "params_peak_15gs['voigt_peak_15gamma'].set(value = params_peak_15gs.valuesdict()['voigt_peak_15sigma']/200 ,vary=True, expr='')\n",
    "params_peak_16gs['voigt_peak_16gamma'].set(value = params_peak_16gs.valuesdict()['voigt_peak_16sigma']/200 ,vary=True, expr='')\n",
    "params_peak_17gs['voigt_peak_17gamma'].set(value = params_peak_17gs.valuesdict()['voigt_peak_17sigma']/200 ,vary=True, expr='')\n",
    "params_peak_18gs['voigt_peak_18gamma'].set(value = params_peak_18gs.valuesdict()['voigt_peak_18sigma']/200 ,vary=True, expr='')\n",
    "params_peak_19gs['voigt_peak_19gamma'].set(value = params_peak_19gs.valuesdict()['voigt_peak_19sigma']/200 ,vary=True, expr='')\n",
    "params_peak_20gs['voigt_peak_20gamma'].set(value = params_peak_20gs.valuesdict()['voigt_peak_20sigma']/200 ,vary=True, expr='')\n",
    "params_peak_21gs['voigt_peak_21gamma'].set(value = params_peak_21gs.valuesdict()['voigt_peak_21sigma']/200 ,vary=True, expr='')\n",
    "params_peak_22gs['voigt_peak_22gamma'].set(value = params_peak_22gs.valuesdict()['voigt_peak_22sigma']/200 ,vary=True, expr='')"
   ]
  },
  {
   "cell_type": "code",
   "execution_count": 23,
   "metadata": {
    "collapsed": true
   },
   "outputs": [],
   "source": [
    "#ab hier wiederholschleife\n",
    "params_peak_1gs['voigt_peak_1sigma'].set(value = params_peak_1gs.valuesdict()['voigt_peak_1sigma'] ,vary=True, expr='')\n",
    "params_peak_2gs['voigt_peak_2sigma'].set(value = params_peak_2gs.valuesdict()['voigt_peak_2sigma'] ,vary=True, expr='')\n",
    "params_peak_3gs['voigt_peak_3sigma'].set(value = params_peak_3gs.valuesdict()['voigt_peak_3sigma'] ,vary=True, expr='')\n",
    "params_peak_4gs['voigt_peak_4sigma'].set(value = params_peak_4gs.valuesdict()['voigt_peak_4sigma'] ,vary=True, expr='')\n",
    "params_peak_5gs['voigt_peak_5sigma'].set(value = params_peak_5gs.valuesdict()['voigt_peak_5sigma'] ,vary=True, expr='')\n",
    "params_peak_6gs['voigt_peak_6sigma'].set(value = params_peak_6gs.valuesdict()['voigt_peak_6sigma'] ,vary=True, expr='')\n",
    "params_peak_7gs['voigt_peak_7sigma'].set(value = params_peak_7gs.valuesdict()['voigt_peak_7sigma'] ,vary=True, expr='')\n",
    "params_peak_8gs['voigt_peak_8sigma'].set(value = params_peak_8gs.valuesdict()['voigt_peak_8sigma'] ,vary=True, expr='')\n",
    "params_peak_9gs['voigt_peak_9sigma'].set(value = params_peak_9gs.valuesdict()['voigt_peak_9sigma'] ,vary=True, expr='')\n",
    "params_peak_10gs['voigt_peak_10sigma'].set(value = params_peak_10gs.valuesdict()['voigt_peak_10sigma'] ,vary=True, expr='')\n",
    "params_peak_11gs['voigt_peak_11sigma'].set(value = params_peak_11gs.valuesdict()['voigt_peak_11sigma'] ,vary=True, expr='')\n",
    "params_peak_12gs['voigt_peak_12sigma'].set(value = params_peak_12gs.valuesdict()['voigt_peak_12sigma'] ,vary=True, expr='')\n",
    "params_peak_13gs['voigt_peak_13sigma'].set(value = params_peak_13gs.valuesdict()['voigt_peak_13sigma'] ,vary=True, expr='')\n",
    "params_peak_14gs['voigt_peak_14sigma'].set(value = params_peak_14gs.valuesdict()['voigt_peak_14sigma'] ,vary=True, expr='')\n",
    "params_peak_15gs['voigt_peak_15sigma'].set(value = params_peak_15gs.valuesdict()['voigt_peak_15sigma'] ,vary=True, expr='')\n",
    "params_peak_16gs['voigt_peak_16sigma'].set(value = params_peak_16gs.valuesdict()['voigt_peak_16sigma'] ,vary=True, expr='')\n",
    "params_peak_17gs['voigt_peak_17sigma'].set(value = params_peak_17gs.valuesdict()['voigt_peak_17sigma'] ,vary=True, expr='')\n",
    "params_peak_18gs['voigt_peak_18sigma'].set(value = params_peak_18gs.valuesdict()['voigt_peak_18sigma'] ,vary=True, expr='')\n",
    "params_peak_19gs['voigt_peak_19sigma'].set(value = params_peak_19gs.valuesdict()['voigt_peak_19sigma'] ,vary=True, expr='')\n",
    "params_peak_20gs['voigt_peak_20sigma'].set(value = params_peak_20gs.valuesdict()['voigt_peak_20sigma'] ,vary=True, expr='')\n",
    "params_peak_21gs['voigt_peak_21sigma'].set(value = params_peak_21gs.valuesdict()['voigt_peak_21sigma'] ,vary=True, expr='')\n",
    "params_peak_22gs['voigt_peak_22sigma'].set(value = params_peak_22gs.valuesdict()['voigt_peak_22sigma'] ,vary=True, expr='')\n",
    "\n",
    "params_peak_1gs['voigt_peak_1gamma'].set(value = params_peak_1gs.valuesdict()['voigt_peak_1gamma'] ,vary=True, expr='')\n",
    "params_peak_2gs['voigt_peak_2gamma'].set(value = params_peak_2gs.valuesdict()['voigt_peak_2gamma'] ,vary=True, expr='')\n",
    "params_peak_3gs['voigt_peak_3gamma'].set(value = params_peak_3gs.valuesdict()['voigt_peak_3gamma'] ,vary=True, expr='')\n",
    "params_peak_4gs['voigt_peak_4gamma'].set(value = params_peak_4gs.valuesdict()['voigt_peak_4gamma'] ,vary=True, expr='')\n",
    "params_peak_5gs['voigt_peak_5gamma'].set(value = params_peak_5gs.valuesdict()['voigt_peak_5gamma'] ,vary=True, expr='')\n",
    "params_peak_6gs['voigt_peak_6gamma'].set(value = params_peak_6gs.valuesdict()['voigt_peak_6gamma'] ,vary=True, expr='')\n",
    "params_peak_7gs['voigt_peak_7gamma'].set(value = params_peak_7gs.valuesdict()['voigt_peak_7gamma'] ,vary=True, expr='')\n",
    "params_peak_8gs['voigt_peak_8gamma'].set(value = params_peak_8gs.valuesdict()['voigt_peak_8gamma'] ,vary=True, expr='')\n",
    "params_peak_9gs['voigt_peak_9gamma'].set(value = params_peak_9gs.valuesdict()['voigt_peak_9gamma'] ,vary=True, expr='')\n",
    "params_peak_10gs['voigt_peak_10gamma'].set(value = params_peak_10gs.valuesdict()['voigt_peak_10gamma'] ,vary=True, expr='')\n",
    "params_peak_11gs['voigt_peak_11gamma'].set(value = params_peak_11gs.valuesdict()['voigt_peak_11gamma'] ,vary=True, expr='')\n",
    "params_peak_12gs['voigt_peak_12gamma'].set(value = params_peak_12gs.valuesdict()['voigt_peak_12gamma'] ,vary=True, expr='')\n",
    "params_peak_13gs['voigt_peak_13gamma'].set(value = params_peak_13gs.valuesdict()['voigt_peak_13gamma'] ,vary=True, expr='')\n",
    "params_peak_14gs['voigt_peak_14gamma'].set(value = params_peak_14gs.valuesdict()['voigt_peak_14gamma'] ,vary=True, expr='')\n",
    "params_peak_15gs['voigt_peak_15gamma'].set(value = params_peak_15gs.valuesdict()['voigt_peak_15gamma'] ,vary=True, expr='')\n",
    "params_peak_16gs['voigt_peak_16gamma'].set(value = params_peak_16gs.valuesdict()['voigt_peak_16gamma'] ,vary=True, expr='')\n",
    "params_peak_17gs['voigt_peak_17gamma'].set(value = params_peak_17gs.valuesdict()['voigt_peak_17gamma'] ,vary=True, expr='')\n",
    "params_peak_18gs['voigt_peak_18gamma'].set(value = params_peak_18gs.valuesdict()['voigt_peak_18gamma'] ,vary=True, expr='')\n",
    "params_peak_19gs['voigt_peak_19gamma'].set(value = params_peak_19gs.valuesdict()['voigt_peak_19gamma'] ,vary=True, expr='')\n",
    "params_peak_20gs['voigt_peak_20gamma'].set(value = params_peak_20gs.valuesdict()['voigt_peak_20gamma'] ,vary=True, expr='')\n",
    "params_peak_21gs['voigt_peak_21gamma'].set(value = params_peak_21gs.valuesdict()['voigt_peak_21gamma'] ,vary=True, expr='')\n",
    "params_peak_22gs['voigt_peak_22gamma'].set(value = params_peak_22gs.valuesdict()['voigt_peak_22gamma'] ,vary=True, expr='')"
   ]
  },
  {
   "cell_type": "code",
   "execution_count": 24,
   "metadata": {
    "collapsed": false
   },
   "outputs": [],
   "source": [
    "multi_voigt_pulvergs = voigt_peak_1gs + voigt_peak_2gs + voigt_peak_3gs + voigt_peak_4gs + voigt_peak_5gs + voigt_peak_6gs + voigt_peak_7gs + voigt_peak_8gs + voigt_peak_9gs + voigt_peak_10gs + voigt_peak_11gs + voigt_peak_12gs + voigt_peak_13gs + voigt_peak_14gs + voigt_peak_15gs + voigt_peak_16gs + voigt_peak_17gs + voigt_peak_18gs + voigt_peak_19gs + voigt_peak_20gs + voigt_peak_21gs + voigt_peak_22gs \n",
    "params_multivoigt_pulvergs = multi_voigt_pulvergs.make_params()\n",
    "params_multivoigt_pulvergs.update(params_peak_1gs)\n",
    "params_multivoigt_pulvergs.update(params_peak_2gs)\n",
    "params_multivoigt_pulvergs.update(params_peak_3gs)\n",
    "params_multivoigt_pulvergs.update(params_peak_4gs)\n",
    "params_multivoigt_pulvergs.update(params_peak_5gs)\n",
    "params_multivoigt_pulvergs.update(params_peak_6gs)\n",
    "params_multivoigt_pulvergs.update(params_peak_7gs)\n",
    "params_multivoigt_pulvergs.update(params_peak_8gs)\n",
    "params_multivoigt_pulvergs.update(params_peak_9gs)\n",
    "params_multivoigt_pulvergs.update(params_peak_10gs)\n",
    "params_multivoigt_pulvergs.update(params_peak_11gs)\n",
    "params_multivoigt_pulvergs.update(params_peak_12gs)\n",
    "params_multivoigt_pulvergs.update(params_peak_13gs)\n",
    "params_multivoigt_pulvergs.update(params_peak_14gs)\n",
    "params_multivoigt_pulvergs.update(params_peak_15gs)\n",
    "params_multivoigt_pulvergs.update(params_peak_16gs)\n",
    "params_multivoigt_pulvergs.update(params_peak_17gs)\n",
    "params_multivoigt_pulvergs.update(params_peak_18gs)\n",
    "params_multivoigt_pulvergs.update(params_peak_19gs)\n",
    "params_multivoigt_pulvergs.update(params_peak_20gs)\n",
    "params_multivoigt_pulvergs.update(params_peak_21gs)\n",
    "params_multivoigt_pulvergs.update(params_peak_22gs)"
   ]
  },
  {
   "cell_type": "code",
   "execution_count": 25,
   "metadata": {
    "collapsed": false
   },
   "outputs": [
    {
     "name": "stdout",
     "output_type": "stream",
     "text": [
      "[[Model]]\n",
      "    (((((((((((((((((((((Model(voigt, prefix='voigt_peak_1') + Model(voigt, prefix='voigt_peak_2')) + Model(voigt, prefix='voigt_peak_3')) + Model(voigt, prefix='voigt_peak_4')) + Model(voigt, prefix='voigt_peak_5')) + Model(voigt, prefix='voigt_peak_6')) + Model(voigt, prefix='voigt_peak_7')) + Model(voigt, prefix='voigt_peak_8')) + Model(voigt, prefix='voigt_peak_9')) + Model(voigt, prefix='voigt_peak_10')) + Model(voigt, prefix='voigt_peak_11')) + Model(voigt, prefix='voigt_peak_12')) + Model(voigt, prefix='voigt_peak_13')) + Model(voigt, prefix='voigt_peak_14')) + Model(voigt, prefix='voigt_peak_15')) + Model(voigt, prefix='voigt_peak_16')) + Model(voigt, prefix='voigt_peak_17')) + Model(voigt, prefix='voigt_peak_18')) + Model(voigt, prefix='voigt_peak_19')) + Model(voigt, prefix='voigt_peak_20')) + Model(voigt, prefix='voigt_peak_21')) + Model(voigt, prefix='voigt_peak_22'))\n",
      "[[Fit Statistics]]\n",
      "    # function evals   = 1696\n",
      "    # data points      = 11979\n",
      "    # variables        = 88\n",
      "    chi-square         = 237684811.562\n",
      "    reduced chi-square = 19988.631\n",
      "[[Variables]]\n",
      "    voigt_peak_4fwhm:         0.07185096 +/- 0.001423 (1.98%)  == '3.6013100*voigt_peak_4sigma'\n",
      "    voigt_peak_6sigma:        0.01916899 +/- 0.000668 (3.48%) (init= 0.0195)\n",
      "    voigt_peak_3sigma:        0.01972913 +/- 0.000200 (1.02%) (init= 0.0195)\n",
      "    voigt_peak_21center:      126.764125 +/- 0.000415 (0.00%) (init= 126.762)\n",
      "    voigt_peak_1fwhm:         0.07301781 +/- 0.000600 (0.82%)  == '3.6013100*voigt_peak_1sigma'\n",
      "    voigt_peak_3amplitude:    3970.37227 +/- 16.19186 (0.41%) (init= 3760.808)\n",
      "    voigt_peak_12amplitude:   658.778201 +/- 11.17168 (1.70%) (init= 639.281)\n",
      "    voigt_peak_22fwhm:        0.06642752 +/- 0.010045 (15.12%)  == '3.6013100*voigt_peak_22sigma'\n",
      "    voigt_peak_17fwhm:        0.06760335 +/- 0.002769 (4.10%)  == '3.6013100*voigt_peak_17sigma'\n",
      "    voigt_peak_10amplitude:   489.312418 +/- 12.00810 (2.45%) (init= 379.3378)\n",
      "    voigt_peak_21amplitude:   496.463537 +/- 10.34959 (2.08%) (init= 516.0189)\n",
      "    voigt_peak_2center:       27.3890700 +/- 0.000115 (0.00%) (init= 27.378)\n",
      "    voigt_peak_7gamma:        0.01420519 +/- 0.001532 (10.79%) (init= 8.125e-05)\n",
      "    voigt_peak_15amplitude:   466.897979 +/- 10.60567 (2.27%) (init= 484.1081)\n",
      "    voigt_peak_17gamma:       0.01459119 +/- 0.000941 (6.45%) (init= 9.75e-05)\n",
      "    voigt_peak_6fwhm:         0.06903350 +/- 0.002404 (3.48%)  == '3.6013100*voigt_peak_6sigma'\n",
      "    voigt_peak_20center:      119.629993 +/- 0.000451 (0.00%) (init= 119.629)\n",
      "    voigt_peak_3center:       45.3647698 +/- 5.53e-05 (0.00%) (init= 45.366)\n",
      "    voigt_peak_5amplitude:    2377.28341 +/- 14.62898 (0.62%) (init= 1920.132)\n",
      "    voigt_peak_2gamma:        0.01929034 +/- 0.000414 (2.15%) (init= 4.875e-05)\n",
      "    voigt_peak_10sigma:       0.01819173 +/- 0.001637 (9.00%) (init= 0.016575)\n",
      "    voigt_peak_6gamma:        0.01489905 +/- 0.000891 (5.98%) (init= 9.75e-05)\n",
      "    voigt_peak_2sigma:        0.01330947 +/- 0.000371 (2.79%) (init= 0.00975)\n",
      "    voigt_peak_4center:       45.4837895 +/- 0.000109 (0.00%) (init= 45.481)\n",
      "    voigt_peak_12fwhm:        0.06397330 +/- 0.004142 (6.48%)  == '3.6013100*voigt_peak_12sigma'\n",
      "    voigt_peak_17sigma:       0.01877187 +/- 0.000769 (4.10%) (init= 0.0195)\n",
      "    voigt_peak_13sigma:       0.01874822 +/- 0.000960 (5.12%) (init= 0.0195)\n",
      "    voigt_peak_14fwhm:        0.06393806 +/- 0.007204 (11.27%)  == '3.6013100*voigt_peak_14sigma'\n",
      "    voigt_peak_3gamma:        0.01335792 +/- 0.000284 (2.13%) (init= 9.75e-05)\n",
      "    voigt_peak_18amplitude:   451.517252 +/- 10.51273 (2.33%) (init= 445.4969)\n",
      "    voigt_peak_8fwhm:         0.06410522 +/- 0.008970 (13.99%)  == '3.6013100*voigt_peak_8sigma'\n",
      "    voigt_peak_16gamma:       0.01574387 +/- 0.003626 (23.03%) (init= 9.75e-05)\n",
      "    voigt_peak_1gamma:        0.01395272 +/- 0.000238 (1.71%) (init= 6.5e-05)\n",
      "    voigt_peak_11gamma:       0.01465454 +/- 0.000688 (4.69%) (init= 9.75e-05)\n",
      "    voigt_peak_1center:       27.3173224 +/- 6.00e-05 (0.00%) (init= 27.313)\n",
      "    voigt_peak_15gamma:       0.01506290 +/- 0.001817 (12.07%) (init= 9.75e-05)\n",
      "    voigt_peak_9center:       72.9225876 +/- 0.000220 (0.00%) (init= 72.925)\n",
      "    voigt_peak_20sigma:       0.01842927 +/- 0.001510 (8.19%) (init= 0.0195)\n",
      "    voigt_peak_18fwhm:        0.06503643 +/- 0.005693 (8.75%)  == '3.6013100*voigt_peak_18sigma'\n",
      "    voigt_peak_9gamma:        0.01443342 +/- 0.000989 (6.85%) (init= 9.75e-05)\n",
      "    voigt_peak_19fwhm:        0.06689986 +/- 0.002685 (4.01%)  == '3.6013100*voigt_peak_19sigma'\n",
      "    voigt_peak_5gamma:        0.01365039 +/- 0.000449 (3.29%) (init= 8.125e-05)\n",
      "    voigt_peak_16center:      101.275277 +/- 0.000894 (0.00%) (init= 101.276)\n",
      "    voigt_peak_16amplitude:   235.457488 +/- 10.61309 (4.51%) (init= 226.4913)\n",
      "    voigt_peak_18center:      107.915432 +/- 0.000465 (0.00%) (init= 107.918)\n",
      "    voigt_peak_15center:      100.928287 +/- 0.000445 (0.00%) (init= 100.925)\n",
      "    voigt_peak_9fwhm:         0.06802487 +/- 0.002805 (4.12%)  == '3.6013100*voigt_peak_9sigma'\n",
      "    voigt_peak_15fwhm:        0.06637744 +/- 0.005407 (8.15%)  == '3.6013100*voigt_peak_15sigma'\n",
      "    voigt_peak_22amplitude:   248.630292 +/- 10.36867 (4.17%) (init= 258.907)\n",
      "    voigt_peak_22sigma:       0.01844537 +/- 0.002789 (15.12%) (init= 0.0195)\n",
      "    voigt_peak_3fwhm:         0.07105071 +/- 0.000721 (1.02%)  == '3.6013100*voigt_peak_3sigma'\n",
      "    voigt_peak_10gamma:       0.01649675 +/- 0.001973 (11.96%) (init= 8.2875e-05)\n",
      "    voigt_peak_16fwhm:        0.06512832 +/- 0.011015 (16.91%)  == '3.6013100*voigt_peak_16sigma'\n",
      "    voigt_peak_19gamma:       0.01478081 +/- 0.000905 (6.12%) (init= 9.75e-05)\n",
      "    voigt_peak_11fwhm:        0.06743779 +/- 0.001995 (2.96%)  == '3.6013100*voigt_peak_11sigma'\n",
      "    voigt_peak_1sigma:        0.02027534 +/- 0.000167 (0.82%) (init= 0.013)\n",
      "    voigt_peak_7sigma:        0.01903415 +/- 0.001182 (6.21%) (init= 0.01625)\n",
      "    voigt_peak_12sigma:       0.01776389 +/- 0.001150 (6.48%) (init= 0.0195)\n",
      "    voigt_peak_18gamma:       0.01569442 +/- 0.001871 (11.92%) (init= 9.75e-05)\n",
      "    voigt_peak_6amplitude:    1234.23211 +/- 14.77584 (1.20%) (init= 1083.441)\n",
      "    voigt_peak_19amplitude:   920.404438 +/- 10.37979 (1.13%) (init= 962.8268)\n",
      "    voigt_peak_11amplitude:   1287.46556 +/- 11.11549 (0.86%) (init= 1330.35)\n",
      "    voigt_peak_13fwhm:        0.06751817 +/- 0.003458 (5.12%)  == '3.6013100*voigt_peak_13sigma'\n",
      "    voigt_peak_9amplitude:    937.838952 +/- 11.81498 (1.26%) (init= 980.2783)\n",
      "    voigt_peak_19center:      119.144577 +/- 0.000224 (0.00%) (init= 119.148)\n",
      "    voigt_peak_2amplitude:    2669.67235 +/- 22.18058 (0.83%) (init= 623.2489)\n",
      "    voigt_peak_11sigma:       0.01872590 +/- 0.000554 (2.96%) (init= 0.0195)\n",
      "    voigt_peak_8center:       66.2816564 +/- 0.000663 (0.00%) (init= 66.283)\n",
      "    voigt_peak_19sigma:       0.01857653 +/- 0.000746 (4.01%) (init= 0.0195)\n",
      "    voigt_peak_14amplitude:   372.673016 +/- 10.90878 (2.93%) (init= 260.5675)\n",
      "    voigt_peak_5fwhm:         0.06995960 +/- 0.001179 (1.69%)  == '3.6013100*voigt_peak_5sigma'\n",
      "    voigt_peak_12center:      84.0666607 +/- 0.000324 (0.00%) (init= 84.065)\n",
      "    voigt_peak_13center:      90.2139559 +/- 0.000282 (0.00%) (init= 90.216)\n",
      "    voigt_peak_20gamma:       0.01515757 +/- 0.001814 (11.97%) (init= 9.75e-05)\n",
      "    voigt_peak_5center:       53.7679313 +/- 8.84e-05 (0.00%) (init= 53.766)\n",
      "    voigt_peak_14gamma:       0.01626813 +/- 0.002348 (14.44%) (init= 8.125e-05)\n",
      "    voigt_peak_20amplitude:   461.814418 +/- 10.40791 (2.25%) (init= 489.4474)\n",
      "    voigt_peak_13amplitude:   730.679253 +/- 10.82239 (1.48%) (init= 756.1188)\n",
      "    voigt_peak_17center:      107.525493 +/- 0.000230 (0.00%) (init= 107.527)\n",
      "    voigt_peak_4amplitude:    2018.61557 +/- 16.20705 (0.80%) (init= 1636.085)\n",
      "    voigt_peak_7amplitude:    629.655881 +/- 12.48627 (1.98%) (init= 444.3965)\n",
      "    voigt_peak_22center:      127.335092 +/- 0.000835 (0.00%) (init= 127.333)\n",
      "    voigt_peak_18sigma:       0.01805910 +/- 0.001581 (8.75%) (init= 0.0195)\n",
      "    voigt_peak_20fwhm:        0.06636954 +/- 0.005438 (8.19%)  == '3.6013100*voigt_peak_20sigma'\n",
      "    voigt_peak_6center:       53.9108556 +/- 0.000178 (0.00%) (init= 53.911)\n",
      "    voigt_peak_2fwhm:         0.04793153 +/- 0.001337 (2.79%)  == '3.6013100*voigt_peak_2sigma'\n",
      "    voigt_peak_12gamma:       0.01634026 +/- 0.001356 (8.30%) (init= 9.75e-05)\n",
      "    voigt_peak_17amplitude:   894.634897 +/- 10.48050 (1.17%) (init= 934.7105)\n",
      "    voigt_peak_9sigma:        0.01888892 +/- 0.000779 (4.12%) (init= 0.0195)\n",
      "    voigt_peak_5sigma:        0.01942615 +/- 0.000328 (1.69%) (init= 0.01625)\n",
      "    voigt_peak_8gamma:        0.01665789 +/- 0.003014 (18.09%) (init= 9.75e-05)\n",
      "    voigt_peak_4gamma:        0.01324819 +/- 0.000564 (4.26%) (init= 8.125e-05)\n",
      "    voigt_peak_21gamma:       0.01456723 +/- 0.001675 (11.50%) (init= 9.75e-05)\n",
      "    voigt_peak_21fwhm:        0.06757958 +/- 0.004943 (7.31%)  == '3.6013100*voigt_peak_21sigma'\n",
      "    voigt_peak_10center:      73.1329267 +/- 0.000452 (0.00%) (init= 73.13017)\n",
      "    voigt_peak_16sigma:       0.01808462 +/- 0.003058 (16.91%) (init= 0.0195)\n",
      "    voigt_peak_14sigma:       0.01775411 +/- 0.002000 (11.27%) (init= 0.01625)\n",
      "    voigt_peak_10fwhm:        0.06551408 +/- 0.005896 (9.00%)  == '3.6013100*voigt_peak_10sigma'\n",
      "    voigt_peak_8amplitude:    328.650908 +/- 12.65244 (3.85%) (init= 301.2598)\n",
      "    voigt_peak_11center:      83.8126042 +/- 0.000160 (0.00%) (init= 83.815)\n",
      "    voigt_peak_8sigma:        0.01780053 +/- 0.002490 (13.99%) (init= 0.0195)\n",
      "    voigt_peak_21sigma:       0.01876527 +/- 0.001372 (7.31%) (init= 0.0195)\n",
      "    voigt_peak_4sigma:        0.01995134 +/- 0.000395 (1.98%) (init= 0.01625)\n",
      "    voigt_peak_14center:      90.4992882 +/- 0.000569 (0.00%) (init= 90.502)\n",
      "    voigt_peak_1amplitude:    5418.76129 +/- 22.42500 (0.41%) (init= 3355.559)\n",
      "    voigt_peak_7fwhm:         0.06854790 +/- 0.004256 (6.21%)  == '3.6013100*voigt_peak_7sigma'\n",
      "    voigt_peak_13gamma:       0.01462622 +/- 0.001184 (8.10%) (init= 9.75e-05)\n",
      "    voigt_peak_15sigma:       0.01843147 +/- 0.001501 (8.15%) (init= 0.0195)\n",
      "    voigt_peak_7center:       66.0958183 +/- 0.000328 (0.00%) (init= 66.098)\n",
      "    voigt_peak_22gamma:       0.01508163 +/- 0.003353 (22.24%) (init= 9.75e-05)\n",
      "[[Correlations]] (unreported correlations are <  0.100)\n",
      "    C(voigt_peak_5gamma, voigt_peak_5sigma)  = -0.940 \n",
      "    C(voigt_peak_6sigma, voigt_peak_6gamma)  = -0.939 \n",
      "    C(voigt_peak_4gamma, voigt_peak_4sigma)  = -0.939 \n",
      "    C(voigt_peak_3sigma, voigt_peak_3gamma)  = -0.938 \n",
      "    C(voigt_peak_7gamma, voigt_peak_7sigma)  = -0.937 \n",
      "    C(voigt_peak_8gamma, voigt_peak_8sigma)  = -0.935 \n",
      "    C(voigt_peak_9gamma, voigt_peak_9sigma)  = -0.934 \n",
      "    C(voigt_peak_10sigma, voigt_peak_10gamma)  = -0.932 \n",
      "    C(voigt_peak_11gamma, voigt_peak_11sigma)  = -0.930 \n",
      "    C(voigt_peak_12sigma, voigt_peak_12gamma)  = -0.928 \n",
      "    C(voigt_peak_13sigma, voigt_peak_13gamma)  = -0.928 \n",
      "    C(voigt_peak_14gamma, voigt_peak_14sigma)  = -0.927 \n",
      "    C(voigt_peak_17gamma, voigt_peak_17sigma)  = -0.926 \n",
      "    C(voigt_peak_15gamma, voigt_peak_15sigma)  = -0.925 \n",
      "    C(voigt_peak_16gamma, voigt_peak_16sigma)  = -0.925 \n",
      "    C(voigt_peak_19gamma, voigt_peak_19sigma)  = -0.925 \n",
      "    C(voigt_peak_21gamma, voigt_peak_21sigma)  = -0.925 \n",
      "    C(voigt_peak_18gamma, voigt_peak_18sigma)  = -0.925 \n",
      "    C(voigt_peak_20sigma, voigt_peak_20gamma)  = -0.924 \n",
      "    C(voigt_peak_22sigma, voigt_peak_22gamma)  = -0.924 \n",
      "    C(voigt_peak_1gamma, voigt_peak_1sigma)  = -0.904 \n",
      "    C(voigt_peak_2gamma, voigt_peak_2sigma)  = -0.903 \n",
      "    C(voigt_peak_5amplitude, voigt_peak_5gamma)  =  0.883 \n",
      "    C(voigt_peak_6gamma, voigt_peak_6amplitude)  =  0.881 \n",
      "    C(voigt_peak_4amplitude, voigt_peak_4gamma)  =  0.880 \n",
      "    C(voigt_peak_3amplitude, voigt_peak_3gamma)  =  0.879 \n",
      "    C(voigt_peak_7gamma, voigt_peak_7amplitude)  =  0.863 \n",
      "    C(voigt_peak_2amplitude, voigt_peak_1amplitude)  = -0.861 \n",
      "    C(voigt_peak_8gamma, voigt_peak_8amplitude)  =  0.860 \n",
      "    C(voigt_peak_9gamma, voigt_peak_9amplitude)  =  0.851 \n",
      "    C(voigt_peak_10amplitude, voigt_peak_10gamma)  =  0.847 \n",
      "    C(voigt_peak_1gamma, voigt_peak_1amplitude)  =  0.838 \n",
      "    C(voigt_peak_2gamma, voigt_peak_2amplitude)  =  0.837 \n",
      "    C(voigt_peak_11gamma, voigt_peak_11amplitude)  =  0.836 \n",
      "    C(voigt_peak_12amplitude, voigt_peak_12gamma)  =  0.832 \n",
      "    C(voigt_peak_13amplitude, voigt_peak_13gamma)  =  0.828 \n",
      "    C(voigt_peak_14amplitude, voigt_peak_14gamma)  =  0.826 \n",
      "    C(voigt_peak_15amplitude, voigt_peak_15gamma)  =  0.820 \n",
      "    C(voigt_peak_16gamma, voigt_peak_16amplitude)  =  0.818 \n",
      "    C(voigt_peak_17gamma, voigt_peak_17amplitude)  =  0.818 \n",
      "    C(voigt_peak_18amplitude, voigt_peak_18gamma)  =  0.816 \n",
      "    C(voigt_peak_19gamma, voigt_peak_19amplitude)  =  0.814 \n",
      "    C(voigt_peak_21amplitude, voigt_peak_21gamma)  =  0.814 \n",
      "    C(voigt_peak_20gamma, voigt_peak_20amplitude)  =  0.814 \n",
      "    C(voigt_peak_22amplitude, voigt_peak_22gamma)  =  0.813 \n",
      "    C(voigt_peak_3amplitude, voigt_peak_4amplitude)  = -0.737 \n",
      "    C(voigt_peak_5amplitude, voigt_peak_5sigma)  = -0.736 \n",
      "    C(voigt_peak_6sigma, voigt_peak_6amplitude)  = -0.733 \n",
      "    C(voigt_peak_4amplitude, voigt_peak_4sigma)  = -0.723 \n",
      "    C(voigt_peak_3sigma, voigt_peak_3amplitude)  = -0.720 \n",
      "    C(voigt_peak_7sigma, voigt_peak_7amplitude)  = -0.714 \n",
      "    C(voigt_peak_8amplitude, voigt_peak_8sigma)  = -0.708 \n",
      "    C(voigt_peak_9amplitude, voigt_peak_9sigma)  = -0.696 \n",
      "    C(voigt_peak_5amplitude, voigt_peak_6amplitude)  = -0.695 \n",
      "    C(voigt_peak_10amplitude, voigt_peak_10sigma)  = -0.691 \n",
      "    C(voigt_peak_11amplitude, voigt_peak_11sigma)  = -0.673 \n",
      "    C(voigt_peak_12amplitude, voigt_peak_12sigma)  = -0.668 \n",
      "    C(voigt_peak_13sigma, voigt_peak_13amplitude)  = -0.661 \n",
      "    C(voigt_peak_14amplitude, voigt_peak_14sigma)  = -0.658 \n",
      "    C(voigt_peak_15amplitude, voigt_peak_15sigma)  = -0.648 \n",
      "    C(voigt_peak_16amplitude, voigt_peak_16sigma)  = -0.647 \n",
      "    C(voigt_peak_17sigma, voigt_peak_17amplitude)  = -0.646 \n",
      "    C(voigt_peak_18amplitude, voigt_peak_18sigma)  = -0.642 \n",
      "    C(voigt_peak_19amplitude, voigt_peak_19sigma)  = -0.640 \n",
      "    C(voigt_peak_20sigma, voigt_peak_20amplitude)  = -0.639 \n",
      "    C(voigt_peak_21amplitude, voigt_peak_21sigma)  = -0.639 \n",
      "    C(voigt_peak_22amplitude, voigt_peak_22sigma)  = -0.638 \n",
      "    C(voigt_peak_2gamma, voigt_peak_1amplitude)  = -0.630 \n",
      "    C(voigt_peak_1gamma, voigt_peak_2amplitude)  = -0.616 \n",
      "    C(voigt_peak_2center, voigt_peak_1center)  =  0.604 \n",
      "    C(voigt_peak_2sigma, voigt_peak_2amplitude)  = -0.591 \n",
      "    C(voigt_peak_5gamma, voigt_peak_6amplitude)  = -0.586 \n",
      "    C(voigt_peak_5amplitude, voigt_peak_6gamma)  = -0.586 \n",
      "    C(voigt_peak_1sigma, voigt_peak_1amplitude)  = -0.582 \n",
      "    C(voigt_peak_3amplitude, voigt_peak_4gamma)  = -0.568 \n",
      "    C(voigt_peak_3gamma, voigt_peak_4amplitude)  = -0.567 \n",
      "    C(voigt_peak_7amplitude, voigt_peak_8amplitude)  = -0.557 \n",
      "    C(voigt_peak_1center, voigt_peak_2amplitude)  = -0.517 \n",
      "    C(voigt_peak_1center, voigt_peak_1amplitude)  =  0.505 \n",
      "    C(voigt_peak_7gamma, voigt_peak_8amplitude)  = -0.502 \n",
      "    C(voigt_peak_7amplitude, voigt_peak_8gamma)  = -0.502 \n",
      "    C(voigt_peak_10amplitude, voigt_peak_9amplitude)  = -0.479 \n",
      "    C(voigt_peak_2gamma, voigt_peak_1gamma)  = -0.472 \n",
      "    C(voigt_peak_6amplitude, voigt_peak_5sigma)  =  0.467 \n",
      "    C(voigt_peak_2center, voigt_peak_2amplitude)  = -0.466 \n",
      "    C(voigt_peak_6sigma, voigt_peak_5amplitude)  =  0.465 \n",
      "    C(voigt_peak_10gamma, voigt_peak_9amplitude)  = -0.441 \n",
      "    C(voigt_peak_10amplitude, voigt_peak_9gamma)  = -0.439 \n",
      "    C(voigt_peak_6gamma, voigt_peak_5gamma)  = -0.434 \n",
      "    C(voigt_peak_7gamma, voigt_peak_8gamma)  = -0.422 \n",
      "    C(voigt_peak_2center, voigt_peak_1amplitude)  =  0.420 \n",
      "    C(voigt_peak_2sigma, voigt_peak_1amplitude)  =  0.419 \n",
      "    C(voigt_peak_3amplitude, voigt_peak_4sigma)  =  0.419 \n",
      "    C(voigt_peak_7sigma, voigt_peak_8amplitude)  =  0.418 \n",
      "    C(voigt_peak_3sigma, voigt_peak_4amplitude)  =  0.418 \n",
      "    C(voigt_peak_7amplitude, voigt_peak_8sigma)  =  0.416 \n",
      "    C(voigt_peak_2sigma, voigt_peak_1sigma)  = -0.409 \n",
      "    C(voigt_peak_2sigma, voigt_peak_1gamma)  =  0.397 \n",
      "    C(voigt_peak_1sigma, voigt_peak_2amplitude)  =  0.383 \n",
      "    C(voigt_peak_9gamma, voigt_peak_10gamma)  = -0.381 \n",
      "    C(voigt_peak_2gamma, voigt_peak_1sigma)  =  0.381 \n",
      "    C(voigt_peak_10sigma, voigt_peak_9amplitude)  =  0.369 \n",
      "    C(voigt_peak_10amplitude, voigt_peak_9sigma)  =  0.368 \n",
      "    C(voigt_peak_12amplitude, voigt_peak_11amplitude)  = -0.358 \n",
      "    C(voigt_peak_3amplitude, voigt_peak_4center)  =  0.354 \n",
      "    C(voigt_peak_3center, voigt_peak_4amplitude)  = -0.350 \n",
      "    C(voigt_peak_3gamma, voigt_peak_4gamma)  = -0.341 \n",
      "    C(voigt_peak_7sigma, voigt_peak_8gamma)  =  0.338 \n",
      "    C(voigt_peak_7gamma, voigt_peak_8sigma)  =  0.337 \n",
      "    C(voigt_peak_12amplitude, voigt_peak_11gamma)  = -0.335 \n",
      "    C(voigt_peak_11amplitude, voigt_peak_12gamma)  = -0.335 \n",
      "    C(voigt_peak_4center, voigt_peak_3gamma)  =  0.318 \n",
      "    C(voigt_peak_3center, voigt_peak_4gamma)  = -0.315 \n",
      "    C(voigt_peak_6gamma, voigt_peak_5sigma)  =  0.314 \n",
      "    C(voigt_peak_6sigma, voigt_peak_5gamma)  =  0.313 \n",
      "    C(voigt_peak_10gamma, voigt_peak_9sigma)  =  0.309 \n",
      "    C(voigt_peak_10sigma, voigt_peak_9gamma)  =  0.309 \n",
      "    C(voigt_peak_11gamma, voigt_peak_12gamma)  = -0.299 \n",
      "    C(voigt_peak_14amplitude, voigt_peak_13amplitude)  = -0.294 \n",
      "    C(voigt_peak_12amplitude, voigt_peak_11sigma)  =  0.283 \n",
      "    C(voigt_peak_12sigma, voigt_peak_11amplitude)  =  0.281 \n",
      "    C(voigt_peak_14amplitude, voigt_peak_13gamma)  = -0.278 \n",
      "    C(voigt_peak_14gamma, voigt_peak_13amplitude)  = -0.278 \n",
      "    C(voigt_peak_4center, voigt_peak_4amplitude)  = -0.271 \n",
      "    C(voigt_peak_3amplitude, voigt_peak_3center)  =  0.266 \n",
      "    C(voigt_peak_7sigma, voigt_peak_8sigma)  = -0.263 \n",
      "    C(voigt_peak_1gamma, voigt_peak_1center)  =  0.251 \n",
      "    C(voigt_peak_14gamma, voigt_peak_13gamma)  = -0.251 \n",
      "    C(voigt_peak_3sigma, voigt_peak_4center)  = -0.249 \n",
      "    C(voigt_peak_3center, voigt_peak_4sigma)  =  0.247 \n",
      "    C(voigt_peak_10sigma, voigt_peak_9sigma)  = -0.246 \n",
      "    C(voigt_peak_11sigma, voigt_peak_12gamma)  =  0.246 \n",
      "    C(voigt_peak_11gamma, voigt_peak_12sigma)  =  0.245 \n",
      "    C(voigt_peak_5amplitude, voigt_peak_6center)  =  0.244 \n",
      "    C(voigt_peak_5gamma, voigt_peak_6center)  =  0.238 \n",
      "    C(voigt_peak_2center, voigt_peak_2gamma)  = -0.238 \n",
      "    C(voigt_peak_6amplitude, voigt_peak_5center)  = -0.238 \n",
      "    C(voigt_peak_13sigma, voigt_peak_14amplitude)  =  0.234 \n",
      "    C(voigt_peak_13amplitude, voigt_peak_14sigma)  =  0.234 \n",
      "    C(voigt_peak_6gamma, voigt_peak_5center)  = -0.232 \n",
      "    C(voigt_peak_2center, voigt_peak_1sigma)  =  0.219 \n",
      "    C(voigt_peak_6sigma, voigt_peak_5sigma)  = -0.209 \n",
      "    C(voigt_peak_15amplitude, voigt_peak_16amplitude)  = -0.208 \n",
      "    C(voigt_peak_13sigma, voigt_peak_14gamma)  =  0.207 \n",
      "    C(voigt_peak_14sigma, voigt_peak_13gamma)  =  0.207 \n",
      "    C(voigt_peak_4center, voigt_peak_4gamma)  = -0.207 \n",
      "    C(voigt_peak_3center, voigt_peak_3gamma)  =  0.204 \n",
      "    C(voigt_peak_6center, voigt_peak_5sigma)  = -0.204 \n",
      "    C(voigt_peak_3gamma, voigt_peak_4sigma)  =  0.202 \n",
      "    C(voigt_peak_3sigma, voigt_peak_4gamma)  =  0.201 \n",
      "    C(voigt_peak_12sigma, voigt_peak_11sigma)  = -0.199 \n",
      "    C(voigt_peak_15gamma, voigt_peak_16amplitude)  = -0.199 \n",
      "    C(voigt_peak_15amplitude, voigt_peak_16gamma)  = -0.199 \n",
      "    C(voigt_peak_6sigma, voigt_peak_5center)  =  0.198 \n",
      "    C(voigt_peak_16gamma, voigt_peak_15gamma)  = -0.183 \n",
      "    C(voigt_peak_2gamma, voigt_peak_1center)  = -0.178 \n",
      "    C(voigt_peak_6amplitude, voigt_peak_6center)  = -0.172 \n",
      "    C(voigt_peak_13sigma, voigt_peak_14sigma)  = -0.169 \n",
      "    C(voigt_peak_16amplitude, voigt_peak_15sigma)  =  0.169 \n",
      "    C(voigt_peak_15amplitude, voigt_peak_16sigma)  =  0.168 \n",
      "    C(voigt_peak_5amplitude, voigt_peak_5center)  =  0.167 \n",
      "    C(voigt_peak_18amplitude, voigt_peak_17amplitude)  = -0.167 \n",
      "    C(voigt_peak_3center, voigt_peak_4center)  =  0.167 \n",
      "    C(voigt_peak_17gamma, voigt_peak_18amplitude)  = -0.161 \n",
      "    C(voigt_peak_18gamma, voigt_peak_17amplitude)  = -0.161 \n",
      "    C(voigt_peak_16gamma, voigt_peak_15sigma)  =  0.152 \n",
      "    C(voigt_peak_15gamma, voigt_peak_16sigma)  =  0.152 \n",
      "    C(voigt_peak_3sigma, voigt_peak_3center)  = -0.150 \n",
      "    C(voigt_peak_4center, voigt_peak_4sigma)  =  0.150 \n",
      "    C(voigt_peak_17gamma, voigt_peak_18gamma)  = -0.149 \n",
      "    C(voigt_peak_6gamma, voigt_peak_6center)  = -0.139 \n",
      "    C(voigt_peak_17sigma, voigt_peak_18amplitude)  =  0.137 \n",
      "    C(voigt_peak_18sigma, voigt_peak_17amplitude)  =  0.136 \n",
      "    C(voigt_peak_5gamma, voigt_peak_5center)  =  0.136 \n",
      "    C(voigt_peak_16sigma, voigt_peak_15sigma)  = -0.125 \n",
      "    C(voigt_peak_17sigma, voigt_peak_18gamma)  =  0.124 \n",
      "    C(voigt_peak_17gamma, voigt_peak_18sigma)  =  0.124 \n",
      "    C(voigt_peak_7gamma, voigt_peak_8center)  =  0.116 \n",
      "    C(voigt_peak_8center, voigt_peak_7amplitude)  =  0.113 \n",
      "    C(voigt_peak_8gamma, voigt_peak_7center)  = -0.112 \n",
      "    C(voigt_peak_19amplitude, voigt_peak_20amplitude)  = -0.110 \n",
      "    C(voigt_peak_8amplitude, voigt_peak_7center)  = -0.110 \n",
      "    C(voigt_peak_6sigma, voigt_peak_6center)  =  0.108 \n",
      "    C(voigt_peak_19amplitude, voigt_peak_20gamma)  = -0.107 \n",
      "    C(voigt_peak_19gamma, voigt_peak_20amplitude)  = -0.107 \n",
      "    C(voigt_peak_5center, voigt_peak_5sigma)  = -0.105 \n",
      "    C(voigt_peak_17sigma, voigt_peak_18sigma)  = -0.103 \n",
      "    C(voigt_peak_7sigma, voigt_peak_8center)  = -0.102 \n",
      "    C(voigt_peak_19gamma, voigt_peak_20gamma)  = -0.100 \n"
     ]
    }
   ],
   "source": [
    "fit_multi_voigt_pulvergs = multi_voigt_pulvergs.fit(Germanium_Simulation[1][np.where(Germanium_Simulation[1] > -1)],params_multivoigt_pulvergs,x=Germanium_Simulation[0][np.where(Germanium_Simulation[1] > -1)])\n",
    "print(fit_multi_voigt_pulvergs.fit_report())"
   ]
  },
  {
   "cell_type": "code",
   "execution_count": 56,
   "metadata": {
    "collapsed": false
   },
   "outputs": [],
   "source": [
    "plt.errorbar(Germanium_Simulation[0],Germanium_Simulation[1],np.sqrt(Germanium_Simulation[1]),label = r'Simulierte Daten mit Fehler $\\sqrt{N}$')\n",
    "plt.plot(np.arange(Germanium_Simulation[0][0], Germanium_Simulation[0][-1],0.001),fit_multi_voigt_pulvergs.eval(x=np.arange(Germanium_Simulation[0][0], Germanium_Simulation[0][-1],0.001)),label = r'Voigtfit')\n",
    "plt.xticks(size = 24)\n",
    "plt.yticks(size = 24)\n",
    "plt.ylim(0,70000)\n",
    "plt.legend(loc = 'best', fontsize = 24)\n",
    "plt.ylabel('Counts', size = 24)\n",
    "plt.xlabel(r'2$\\theta/^{\\circ}$', size = 24)\n",
    "plt.show()"
   ]
  },
  {
   "cell_type": "code",
   "execution_count": null,
   "metadata": {
    "collapsed": true
   },
   "outputs": [],
   "source": []
  }
 ],
 "metadata": {
  "kernelspec": {
   "display_name": "Python 3",
   "language": "python",
   "name": "python3"
  },
  "language_info": {
   "codemirror_mode": {
    "name": "ipython",
    "version": 3
   },
   "file_extension": ".py",
   "mimetype": "text/x-python",
   "name": "python",
   "nbconvert_exporter": "python",
   "pygments_lexer": "ipython3",
   "version": "3.4.3"
  }
 },
 "nbformat": 4,
 "nbformat_minor": 0
}
