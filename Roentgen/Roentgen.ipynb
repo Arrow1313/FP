{
 "cells": [
  {
   "cell_type": "code",
   "execution_count": 7,
   "metadata": {
    "collapsed": false
   },
   "outputs": [],
   "source": [
    "import numpy as np\n",
    "import matplotlib.pyplot as pls\n",
    "import scipy.optimize as opt"
   ]
  },
  {
   "cell_type": "markdown",
   "metadata": {},
   "source": [
    "#Implementirung der Funktionen für die Auswertung"
   ]
  },
  {
   "cell_type": "markdown",
   "metadata": {},
   "source": [
    "## Die Peak sollen mit der Gaussverteilung angefitten werde, diese wird hier implementier, wie ein wrappen für automatische fits"
   ]
  },
  {
   "cell_type": "code",
   "execution_count": 8,
   "metadata": {
    "collapsed": false
   },
   "outputs": [],
   "source": [
    "def gauss(x,a,mu,sigma):\n",
    "    return (a/(np.power(2*3.14,0.5)*sigma))*np.exp(-(x-mu)**2/(2.*sigma**2))"
   ]
  },
  {
   "cell_type": "code",
   "execution_count": 11,
   "metadata": {
    "collapsed": true
   },
   "outputs": [],
   "source": [
    "def red_chi_gauss(data, model):\n",
    "    chisq = np.sum(np.square(data-model)/np.power(data,0.5))\n",
    "    nu = data.size-4    # -4: -1 for the equation and -3 from the degrees of freedom\n",
    "    return chisq/nu"
   ]
  },
  {
   "cell_type": "code",
   "execution_count": 12,
   "metadata": {
    "collapsed": true
   },
   "outputs": [],
   "source": [
    "def fit_gauss(x,data,guess=[0,0,0]):\n",
    "    '''\n",
    "        returns the parameter from the fit, the standard deviation and the reduced chisquare\n",
    "    '''\n",
    "    para, cov = opt.curve_fit(gauss,x,np.sqrt(data),guess,maxfev=10000)\n",
    "    red_chi = red_chi_gauss(data,gauss(x,para[0],para[1],para[2]))\n",
    "    return para, np.sqrt(np.diag(cov)), red_chi"
   ]
  },
  {
   "cell_type": "markdown",
   "metadata": {},
   "source": [
    "#Einlesen und vorbereiten der Daten"
   ]
  },
  {
   "cell_type": "code",
   "execution_count": null,
   "metadata": {
    "collapsed": true
   },
   "outputs": [],
   "source": []
  }
 ],
 "metadata": {
  "kernelspec": {
   "display_name": "Python 3",
   "language": "python",
   "name": "python3"
  },
  "language_info": {
   "codemirror_mode": {
    "name": "ipython",
    "version": 3
   },
   "file_extension": ".py",
   "mimetype": "text/x-python",
   "name": "python",
   "nbconvert_exporter": "python",
   "pygments_lexer": "ipython3",
   "version": "3.4.3"
  }
 },
 "nbformat": 4,
 "nbformat_minor": 0
}
