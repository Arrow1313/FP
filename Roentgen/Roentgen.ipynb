{
 "cells": [
  {
   "cell_type": "code",
   "execution_count": 11,
   "metadata": {
    "collapsed": false
   },
   "outputs": [],
   "source": [
    "import numpy as np\n",
    "import matplotlib.pyplot as plt\n",
    "import scipy.optimize as opt"
   ]
  },
  {
   "cell_type": "code",
   "execution_count": 85,
   "metadata": {
    "collapsed": true
   },
   "outputs": [],
   "source": [
    "hc = 12.39841875 #keV*Angström\n",
    "d_si = 3.1358"
   ]
  },
  {
   "cell_type": "markdown",
   "metadata": {},
   "source": [
    "#Implementirung der Funktionen für die Auswertung"
   ]
  },
  {
   "cell_type": "markdown",
   "metadata": {},
   "source": [
    "## Die Peak sollen mit der Gaussverteilung angefitten werde, diese wird hier implementier, wie ein wrappen für automatische fits"
   ]
  },
  {
   "cell_type": "code",
   "execution_count": 2,
   "metadata": {
    "collapsed": false
   },
   "outputs": [],
   "source": [
    "def gauss(x,a,mu,sigma):\n",
    "    return (a/(np.power(2*3.14,0.5)*sigma))*np.exp(-(x-mu)**2/(2.*sigma**2))"
   ]
  },
  {
   "cell_type": "code",
   "execution_count": 173,
   "metadata": {
    "collapsed": true
   },
   "outputs": [],
   "source": [
    "def red_chi_gauss(data, model, deg):\n",
    "    chisq = np.sum(np.square(data-model)/np.power(data,0.5))\n",
    "    nu = data.size-1-deg    # -4: -1 for the equation and -3 from the degrees of freedom\n",
    "    if nu is 0:\n",
    "        return \"err: nu = 0\"\n",
    "    return chisq/nu"
   ]
  },
  {
   "cell_type": "code",
   "execution_count": 177,
   "metadata": {
    "collapsed": true
   },
   "outputs": [],
   "source": [
    "def fit_gauss(x,data,guess=[1,1,1]):\n",
    "    '''\n",
    "        returns the parameter from the fit, the standard deviation and the reduced chisquare\n",
    "    '''\n",
    "    para, cov = opt.curve_fit(gauss,x,np.sqrt(data),guess,maxfev=10000)\n",
    "    red_chi = red_chi_gauss(data,gauss(x,para[0],para[1],para[2]),3)\n",
    "    return para, np.sqrt(np.diag(cov)), red_chi"
   ]
  },
  {
   "cell_type": "code",
   "execution_count": 88,
   "metadata": {
    "collapsed": true
   },
   "outputs": [],
   "source": [
    "def energie(phi,delta_phi):\n",
    "    theta = phi/2\n",
    "    e = hc/(2*d_si*np.sin(theta*(3.14/180)))\n",
    "    delta_e = (e*delta_phi/2)/np.tan(theta*(3.14/180))\n",
    "    return e, delta_e"
   ]
  },
  {
   "cell_type": "code",
   "execution_count": 194,
   "metadata": {
    "collapsed": true
   },
   "outputs": [],
   "source": [
    "def intensität(a,delta_a,sigma,delta_sigma):\n",
    "    i = a/(np.sqrt(2*3.14*sigma**2))\n",
    "    delta_i = np.sqrt((delta_a/np.sqrt(2*3.14*sigma**2))**2 + ((a*delta_sigma)/(np.sqrt(2*3.14*sigma**4)))**2)\n",
    "    return i, delta_i"
   ]
  },
  {
   "cell_type": "markdown",
   "metadata": {},
   "source": [
    "#Einlesen und vorbereiten der Daten"
   ]
  },
  {
   "cell_type": "code",
   "execution_count": null,
   "metadata": {
    "collapsed": true
   },
   "outputs": [],
   "source": []
  }
 ],
 "metadata": {
  "kernelspec": {
   "display_name": "Python 3",
   "language": "python",
   "name": "python3"
  },
  "language_info": {
   "codemirror_mode": {
    "name": "ipython",
    "version": 3
   },
   "file_extension": ".py",
   "mimetype": "text/x-python",
   "name": "python",
   "nbconvert_exporter": "python",
   "pygments_lexer": "ipython3",
   "version": "3.4.3"
  }
 },
 "nbformat": 4,
 "nbformat_minor": 0
}
