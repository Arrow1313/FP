{
 "cells": [
  {
   "cell_type": "code",
   "execution_count": 1,
   "metadata": {
    "collapsed": false
   },
   "outputs": [
    {
     "name": "stderr",
     "output_type": "stream",
     "text": [
      "/home/frederik/anaconda3/lib/python3.4/site-packages/IPython/html.py:14: ShimWarning: The `IPython.html` package has been deprecated. You should import from `notebook` instead. `IPython.html.widgets` has moved to `ipywidgets`.\n",
      "  \"`IPython.html.widgets` has moved to `ipywidgets`.\", ShimWarning)\n"
     ]
    }
   ],
   "source": [
    "import os\n",
    "import numpy as np\n",
    "import pandas as pd\n",
    "import matplotlib.pyplot as plt\n",
    "import scipy.optimize as opt\n",
    "from lmfit import models\n",
    "from bokeh.plotting import figure, output_notebook, show"
   ]
  },
  {
   "cell_type": "code",
   "execution_count": 2,
   "metadata": {
    "collapsed": true
   },
   "outputs": [],
   "source": [
    "pc_henrik = '/home/arrow13/Git/FP/Roentgen/'\n",
    "pc_frederik = '/home/frederik/Dokumente/FP/Roentgen'"
   ]
  },
  {
   "cell_type": "code",
   "execution_count": 3,
   "metadata": {
    "collapsed": true
   },
   "outputs": [],
   "source": [
    "var_pc = pc_frederik"
   ]
  },
  {
   "cell_type": "code",
   "execution_count": 7,
   "metadata": {
    "collapsed": false
   },
   "outputs": [
    {
     "name": "stdout",
     "output_type": "stream",
     "text": [
      "/home/frederik/Dokumente/FP/Roentgen/Messdaten\n"
     ]
    }
   ],
   "source": [
    "cd $var_pc/Messdaten"
   ]
  },
  {
   "cell_type": "code",
   "execution_count": 308,
   "metadata": {
    "collapsed": true
   },
   "outputs": [],
   "source": [
    "data = np.loadtxt(\"Ge111_40_30_Ni.xy\").T"
   ]
  },
  {
   "cell_type": "code",
   "execution_count": 309,
   "metadata": {
    "collapsed": true
   },
   "outputs": [],
   "source": [
    "plt.plot(data[0],data[1])\n",
    "plt.show()"
   ]
  },
  {
   "cell_type": "code",
   "execution_count": 332,
   "metadata": {
    "collapsed": false
   },
   "outputs": [],
   "source": [
    "intervall_voigt = np.arange(np.where(data[0] > 27.16)[0][0], np.where(data[0] > 27.34)[0][0])\n",
    "intervall_voigt_1 = np.arange(np.where(data[0] > 27.16)[0][0], np.where(data[0] > 27.2436)[0][0])\n",
    "intervall_voigt_2 = np.arange(np.where(data[0] > 27.2436)[0][0], np.where(data[0] > 27.34)[0][0])\n",
    "err = np.sqrt(data[1][intervall_voigt])\n",
    "err = np.where(err == 0, 1, err)\n",
    "err_1 = np.sqrt(data[1][intervall_voigt_1])\n",
    "err_1 = np.where(err_1 == 0, 1, err_1)\n",
    "err_2 = np.sqrt(data[1][intervall_voigt_2])\n",
    "err_2 = np.where(err_2 == 0, 1, err_2)"
   ]
  },
  {
   "cell_type": "code",
   "execution_count": 333,
   "metadata": {
    "collapsed": false
   },
   "outputs": [],
   "source": [
    "voigt_1 = models.VoigtModel(prefix='voigt_1')\n",
    "voigt_2 = models.VoigtModel(prefix='voigt_2')\n",
    "\n",
    "pars_1 = voigt_1.guess(data[1][intervall_voigt_1],x=data[0][intervall_voigt_1])\n",
    "pars_1.update(voigt_2.guess(data[1][intervall_voigt_2],x=data[0][intervall_voigt_2]))\n",
    "\n",
    "pars_1['voigt_1gamma'].set(0.0001,vary=True,expr='')\n",
    "pars_1['voigt_2gamma'].set(0.0001,vary=True,expr='')\n",
    "pars_1['voigt_1amplitude'].set(1000)\n",
    "pars_1['voigt_2amplitude'].set(1000)\n",
    "\n",
    "model = voigt_1 + voigt_2"
   ]
  },
  {
   "cell_type": "code",
   "execution_count": 334,
   "metadata": {
    "collapsed": true
   },
   "outputs": [],
   "source": [
    "out = model.fit(data[1][intervall_voigt],pars_1,x=data[0][intervall_voigt],weights=1/(err))"
   ]
  },
  {
   "cell_type": "code",
   "execution_count": 335,
   "metadata": {
    "collapsed": false
   },
   "outputs": [
    {
     "name": "stdout",
     "output_type": "stream",
     "text": [
      "[[Model]]\n",
      "    (Model(voigt, prefix='voigt_1') + Model(voigt, prefix='voigt_2'))\n",
      "[[Fit Statistics]]\n",
      "    # function evals   = 110\n",
      "    # data points      = 43\n",
      "    # variables        = 8\n",
      "    chi-square         = 2478.796\n",
      "    reduced chi-square = 70.823\n",
      "[[Variables]]\n",
      "    voigt_1amplitude:   2321.31746 +/- 125.9522 (5.43%) (init= 1000)\n",
      "    voigt_1sigma:       0.01781282 +/- 0.002014 (11.31%) (init= 0.0149357)\n",
      "    voigt_1center:      27.2096465 +/- 0.000449 (0.00%) (init= 27.21076)\n",
      "    voigt_1fwhm:        0.06414948 +/- 0.007253 (11.31%)  == '3.6013100*voigt_1sigma'\n",
      "    voigt_1gamma:       0.00787155 +/- 0.003239 (41.15%) (init= 0.0001)\n",
      "    voigt_2center:      27.2811167 +/- 0.000495 (0.00%) (init= 27.2776)\n",
      "    voigt_2amplitude:   1864.08446 +/- 82.56106 (4.43%) (init= 1000)\n",
      "    voigt_2sigma:       0.01197677 +/- 0.001439 (12.02%) (init= 0.0149357)\n",
      "    voigt_2fwhm:        0.04313206 +/- 0.005185 (12.02%)  == '3.6013100*voigt_2sigma'\n",
      "    voigt_2gamma:       0.01296469 +/- 0.001627 (12.56%) (init= 0.0001)\n",
      "[[Correlations]] (unreported correlations are <  0.100)\n",
      "    C(voigt_1sigma, voigt_1gamma)  = -0.976 \n",
      "    C(voigt_1amplitude, voigt_1gamma)  =  0.949 \n",
      "    C(voigt_2sigma, voigt_2gamma)  = -0.898 \n",
      "    C(voigt_1amplitude, voigt_1sigma)  = -0.895 \n",
      "    C(voigt_1amplitude, voigt_2amplitude)  = -0.842 \n",
      "    C(voigt_1gamma, voigt_2amplitude)  = -0.760 \n",
      "    C(voigt_2amplitude, voigt_2gamma)  =  0.738 \n",
      "    C(voigt_1sigma, voigt_2amplitude)  =  0.688 \n",
      "    C(voigt_1center, voigt_2amplitude)  = -0.527 \n",
      "    C(voigt_2center, voigt_2amplitude)  = -0.504 \n",
      "    C(voigt_1amplitude, voigt_1center)  =  0.504 \n",
      "    C(voigt_2amplitude, voigt_2sigma)  = -0.503 \n",
      "    C(voigt_1center, voigt_2center)  =  0.492 \n",
      "    C(voigt_1amplitude, voigt_2gamma)  = -0.459 \n",
      "    C(voigt_1center, voigt_1gamma)  =  0.422 \n",
      "    C(voigt_1amplitude, voigt_2center)  =  0.420 \n",
      "    C(voigt_2center, voigt_2gamma)  = -0.342 \n",
      "    C(voigt_1gamma, voigt_2gamma)  = -0.340 \n",
      "    C(voigt_1sigma, voigt_1center)  = -0.339 \n",
      "    C(voigt_1sigma, voigt_2gamma)  =  0.297 \n",
      "    C(voigt_1gamma, voigt_2center)  =  0.297 \n",
      "    C(voigt_1center, voigt_2gamma)  = -0.262 \n",
      "    C(voigt_1amplitude, voigt_2sigma)  =  0.224 \n",
      "    C(voigt_1sigma, voigt_2center)  = -0.197 \n",
      "    C(voigt_1gamma, voigt_2sigma)  =  0.141 \n",
      "    C(voigt_1sigma, voigt_2sigma)  = -0.137 \n",
      "    C(voigt_2center, voigt_2sigma)  =  0.131 \n"
     ]
    }
   ],
   "source": [
    "print(out.fit_report())"
   ]
  },
  {
   "cell_type": "code",
   "execution_count": 336,
   "metadata": {
    "collapsed": true
   },
   "outputs": [],
   "source": [
    "out.plot()\n",
    "plt.show()"
   ]
  },
  {
   "cell_type": "code",
   "execution_count": 337,
   "metadata": {
    "collapsed": true
   },
   "outputs": [],
   "source": [
    "from uncertainties import ufloat\n",
    "from uncertainties.umath import log as lg\n",
    "from uncertainties.umath import sin as si"
   ]
  },
  {
   "cell_type": "code",
   "execution_count": 338,
   "metadata": {
    "collapsed": true
   },
   "outputs": [],
   "source": [
    "hc = 12.39841875\n",
    "d_si = 3.1355"
   ]
  },
  {
   "cell_type": "code",
   "execution_count": 339,
   "metadata": {
    "collapsed": true
   },
   "outputs": [],
   "source": [
    "E_1 = 8047.8\n",
    "E_2 = 8027.8"
   ]
  },
  {
   "cell_type": "code",
   "execution_count": 340,
   "metadata": {
    "collapsed": true
   },
   "outputs": [],
   "source": [
    "def E(theta,n=1):\n",
    "    return (n*hc)/(2*d_si*si((np.pi * theta)/180))"
   ]
  },
  {
   "cell_type": "code",
   "execution_count": 341,
   "metadata": {
    "collapsed": false
   },
   "outputs": [],
   "source": [
    "theta_1 = ufloat(out.best_values['voigt_1center']/2,0.0002)"
   ]
  },
  {
   "cell_type": "code",
   "execution_count": 342,
   "metadata": {
    "collapsed": false
   },
   "outputs": [],
   "source": [
    "theta_2 = ufloat(out.best_values['voigt_2center']/2,0.000274)"
   ]
  },
  {
   "cell_type": "code",
   "execution_count": 343,
   "metadata": {
    "collapsed": false
   },
   "outputs": [],
   "source": [
    "def d(E,theta):\n",
    "    return (hc)/(2*E*si((np.pi * theta)/180))"
   ]
  },
  {
   "cell_type": "code",
   "execution_count": 344,
   "metadata": {
    "collapsed": false
   },
   "outputs": [],
   "source": [
    "d_1 = d(E_1,theta_1)"
   ]
  },
  {
   "cell_type": "code",
   "execution_count": 345,
   "metadata": {
    "collapsed": true
   },
   "outputs": [],
   "source": [
    "d_2 = d(E_2,theta_2)"
   ]
  },
  {
   "cell_type": "code",
   "execution_count": 346,
   "metadata": {
    "collapsed": false
   },
   "outputs": [
    {
     "data": {
      "text/plain": [
       "3.274745999619327+/-4.723277558243749e-05"
      ]
     },
     "execution_count": 346,
     "metadata": {},
     "output_type": "execute_result"
    }
   ],
   "source": [
    "d_1*1000"
   ]
  },
  {
   "cell_type": "code",
   "execution_count": 347,
   "metadata": {
    "collapsed": false
   },
   "outputs": [
    {
     "data": {
      "text/plain": [
       "3.274466535173337+/-6.45273206477524e-05"
      ]
     },
     "execution_count": 347,
     "metadata": {},
     "output_type": "execute_result"
    }
   ],
   "source": [
    "d_2*1000"
   ]
  },
  {
   "cell_type": "code",
   "execution_count": 352,
   "metadata": {
    "collapsed": false
   },
   "outputs": [
    {
     "data": {
      "text/plain": [
       "0.2670741370580765+/-0.001438481917685159"
      ]
     },
     "execution_count": 352,
     "metadata": {},
     "output_type": "execute_result"
    }
   ],
   "source": [
    "(1-3.2660/(d_1*1000))*100"
   ]
  },
  {
   "cell_type": "code",
   "execution_count": 353,
   "metadata": {
    "collapsed": false
   },
   "outputs": [
    {
     "data": {
      "text/plain": [
       "0.25856227517955244+/-0.001965525579450339"
      ]
     },
     "execution_count": 353,
     "metadata": {},
     "output_type": "execute_result"
    }
   ],
   "source": [
    "(1-3.2660/(d_2*1000))*100"
   ]
  },
  {
   "cell_type": "code",
   "execution_count": null,
   "metadata": {
    "collapsed": true
   },
   "outputs": [],
   "source": []
  }
 ],
 "metadata": {
  "kernelspec": {
   "display_name": "Python 3",
   "language": "python",
   "name": "python3"
  },
  "language_info": {
   "codemirror_mode": {
    "name": "ipython",
    "version": 3
   },
   "file_extension": ".py",
   "mimetype": "text/x-python",
   "name": "python",
   "nbconvert_exporter": "python",
   "pygments_lexer": "ipython3",
   "version": "3.4.3"
  }
 },
 "nbformat": 4,
 "nbformat_minor": 0
}
