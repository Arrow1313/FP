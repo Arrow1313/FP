{
 "cells": [
  {
   "cell_type": "code",
   "execution_count": 1,
   "metadata": {
    "collapsed": false
   },
   "outputs": [
    {
     "name": "stderr",
     "output_type": "stream",
     "text": [
      "/home/arrow13/anaconda3/lib/python3.4/site-packages/IPython/html.py:14: ShimWarning: The `IPython.html` package has been deprecated. You should import from `notebook` instead. `IPython.html.widgets` has moved to `ipywidgets`.\n",
      "  \"`IPython.html.widgets` has moved to `ipywidgets`.\", ShimWarning)\n"
     ]
    }
   ],
   "source": [
    "import os\n",
    "import numpy as np\n",
    "import pandas as pd\n",
    "import matplotlib.pyplot as plt\n",
    "import scipy.optimize as opt\n",
    "from lmfit import models"
   ]
  },
  {
   "cell_type": "code",
   "execution_count": 2,
   "metadata": {
    "collapsed": true
   },
   "outputs": [],
   "source": [
    "pc_henrik = '/home/arrow13/Git/FP/Roentgen/'\n",
    "pc_frederik = '/home/frederik/Dokumente/FP/Roentgen/'"
   ]
  },
  {
   "cell_type": "code",
   "execution_count": 8,
   "metadata": {
    "collapsed": true
   },
   "outputs": [],
   "source": [
    "var_pc = pc_frederik"
   ]
  },
  {
   "cell_type": "code",
   "execution_count": 9,
   "metadata": {
    "collapsed": false
   },
   "outputs": [
    {
     "name": "stdout",
     "output_type": "stream",
     "text": [
      "[Errno 2] No such file or directory: '/home/frederik/Dokumente/FP/Roentgen//Messdaten/'\n",
      "/home/arrow13/Git/FP/Roentgen/Messdaten\n"
     ]
    }
   ],
   "source": [
    "cd $var_pc'/Messdaten/'"
   ]
  },
  {
   "cell_type": "code",
   "execution_count": 10,
   "metadata": {
    "collapsed": false
   },
   "outputs": [],
   "source": [
    "data = np.loadtxt(\"Si111_40_30.xy\").T"
   ]
  },
  {
   "cell_type": "markdown",
   "metadata": {},
   "source": [
    "# Einlesen, vorbereiten und auswerten der Daten (mit Versuchsplan)"
   ]
  },
  {
   "cell_type": "markdown",
   "metadata": {},
   "source": [
    "## Messen des Röntgenspektrums der Kupferanode\n",
    "Es werden drei verschiedene Spannungen und Ströme verwendet\n",
    "+ U$_1$ = 30keV, A$_1$ = 10mA\n",
    "+ U$_2$ = 40keV, A$_2$ = 10mA\n",
    "+ U$_3$ = 40keV, A$_3$ = 30mA\n",
    "\n",
    "Die letzte Einstellung wird noch mal mit einem Ni-Filter wiederholt\n",
    "\n",
    "Auswertung:\n",
    "+ Zählrate als Funktion des Winkels auftragen\n",
    "+ Die lage der K$_{\\alpha_{1,2}}$- und der K$_\\beta$-Linien bestimmen, sowie die Verhältnisse (unter einander und unter den Ordnungen)\n",
    "+ Mit Ni-Filter die Abschwächung der K$_\\beta$-Linie, das \"Signal-zu-Rausch\" Verhältnis für die K$_{\\alpha_{1,2}}$-Linie, die Energie und die Energiebreite bestimmen\n",
    "+ Weitere Details des Spektrums diskutieren"
   ]
  },
  {
   "cell_type": "markdown",
   "metadata": {},
   "source": [
    "## Netzebenabstand Si(331)\n",
    "+ Aus dem Diffraktogramm soll der Netzebenabstand von Si(331) bestimmt werden\n",
    "+ Der bestimmte Netzebenabstand soll mit Literaturwerten abgeglichen werden"
   ]
  },
  {
   "cell_type": "markdown",
   "metadata": {},
   "source": [
    "## Netzebenabstand Ge(111)\n",
    "+ Aus dem Diffraktogramm soll der Netzebenabstand von Si(331) bestimmt werden\n",
    "+ Der bestimmte Netzebenabstand soll mit Literaturwerten abgeglichen werden"
   ]
  },
  {
   "cell_type": "markdown",
   "metadata": {},
   "source": [
    "## Pulverdefraktometrie\n",
    "+ Aus dem Diffraktogramm soll mittels einer Datenbank qualitativ die Zusammensetzung bestimmt werden\n",
    "+ Unabhängig von der Datenbank sollen die Netzebenabstände des Pulvers bestimmt werden\n",
    "+ Graphisch zeigen, dass die gefundene Kirstallstrucktur mit dem Diffraktogramm verträglich ist\n",
    "+ Die mittlere Kristallgröße ermitteln"
   ]
  },
  {
   "cell_type": "markdown",
   "metadata": {},
   "source": [
    "### Voigt für den einzel Peak "
   ]
  },
  {
   "cell_type": "code",
   "execution_count": 24,
   "metadata": {
    "collapsed": false
   },
   "outputs": [],
   "source": [
    "intervall_voigt_1 = np.arange(np.where(data[0] > 25.5)[0][0], np.where(data[0] > 25.8)[0][0])\n",
    "err_1 = np.sqrt(data[1][intervall_voigt_1])\n",
    "err_1 = np.where(err_1 == 0, 1, err_1)"
   ]
  },
  {
   "cell_type": "code",
   "execution_count": 25,
   "metadata": {
    "collapsed": true
   },
   "outputs": [],
   "source": [
    "voigt_1 = models.VoigtModel(prefix='voigt_1')\n",
    "pars_1 = voigt_1.guess(data[1][intervall_voigt_1],x=data[0][intervall_voigt_1])"
   ]
  },
  {
   "cell_type": "code",
   "execution_count": 38,
   "metadata": {
    "collapsed": false
   },
   "outputs": [],
   "source": [
    "out_1 = voigt_1.fit(data[1][intervall_voigt_1],pars_1,x=data[0][intervall_voigt_1], weights=1/err_1)"
   ]
  },
  {
   "cell_type": "code",
   "execution_count": 39,
   "metadata": {
    "collapsed": true
   },
   "outputs": [],
   "source": [
    "out_1.plot()\n",
    "plt.show()"
   ]
  },
  {
   "cell_type": "code",
   "execution_count": 40,
   "metadata": {
    "collapsed": false
   },
   "outputs": [
    {
     "name": "stdout",
     "output_type": "stream",
     "text": [
      "[[Model]]\n",
      "    Model(voigt, prefix='voigt_1')\n",
      "[[Fit Statistics]]\n",
      "    # function evals   = 17\n",
      "    # data points      = 71\n",
      "    # variables        = 3\n",
      "    chi-square         = 3871.373\n",
      "    reduced chi-square = 56.932\n",
      "[[Variables]]\n",
      "    voigt_1sigma:       0.01192755 +/- 0.000210 (1.76%) (init= 0.01357791)\n",
      "    voigt_1center:      25.6459249 +/- 0.000353 (0.00%) (init= 25.64617)\n",
      "    voigt_1amplitude:   1172.19255 +/- 17.18171 (1.47%) (init= 1214.115)\n",
      "    voigt_1fwhm:        0.04295483 +/- 0.000756 (1.76%)  == '3.6013100*voigt_1sigma'\n",
      "    voigt_1gamma:       0.01192755 +/- 0.000210 (1.76%)  == 'voigt_1sigma'\n",
      "[[Correlations]] (unreported correlations are <  0.100)\n"
     ]
    }
   ],
   "source": [
    "print(out_1.fit_report())"
   ]
  },
  {
   "cell_type": "markdown",
   "metadata": {},
   "source": [
    "### Mulit-Voigt"
   ]
  },
  {
   "cell_type": "code",
   "execution_count": 82,
   "metadata": {
    "collapsed": true
   },
   "outputs": [],
   "source": [
    "intervall_voigt_2 = np.arange(np.where(data[0] > 28)[0][0], np.where(data[0] > 29)[0][0])\n",
    "guess_intervall_voigt_2 = np.arange(np.where( 28.39 < data[0])[0][0],np.where( data[0] > 28.48)[0][0])\n",
    "guess_intervall_voigt_3 = np.arange(np.where( 28.47 < data[0])[0][0],np.where( data[0] > 28.54)[0][0])\n",
    "err_2 = np.sqrt(data[1][intervall_voigt_2])\n",
    "err_2 = np.where(err_2 == 0, 1, err_2)"
   ]
  },
  {
   "cell_type": "code",
   "execution_count": 86,
   "metadata": {
    "collapsed": false
   },
   "outputs": [],
   "source": [
    "voigt_2 = models.VoigtModel(prefix='voigt_2')\n",
    "voigt_3 = models.VoigtModel(prefix='voigt_3')\n",
    "dual_voigt = voigt_2 + voigt_3\n",
    "pars_2 = voigt_2.guess(data[1][guess_intervall_voigt_2],x=data[0][guess_intervall_voigt_2])\n",
    "pars_2.update(voigt_3.guess(data[1][guess_intervall_voigt_3],x=data[0][guess_intervall_voigt_3]))"
   ]
  },
  {
   "cell_type": "code",
   "execution_count": 102,
   "metadata": {
    "collapsed": true
   },
   "outputs": [],
   "source": [
    "out_2 = dual_voigt.fit(data[1][intervall_voigt_2],pars_2,x=data[0][intervall_voigt_2],weights=1/(err_2*10))"
   ]
  },
  {
   "cell_type": "code",
   "execution_count": 111,
   "metadata": {
    "collapsed": false
   },
   "outputs": [],
   "source": [
    "out_2.plot_fit()\n",
    "plt.errorbar(data[0][intervall_voigt_2],data[1][intervall_voigt_2],err_2*10,fmt='. ')\n",
    "plt.show()"
   ]
  },
  {
   "cell_type": "code",
   "execution_count": 104,
   "metadata": {
    "collapsed": false
   },
   "outputs": [
    {
     "name": "stdout",
     "output_type": "stream",
     "text": [
      "[[Model]]\n",
      "    (Model(voigt, prefix='voigt_2') + Model(voigt, prefix='voigt_3'))\n",
      "[[Fit Statistics]]\n",
      "    # function evals   = 36\n",
      "    # data points      = 239\n",
      "    # variables        = 6\n",
      "    chi-square         = 244.869\n",
      "    reduced chi-square = 1.051\n",
      "[[Variables]]\n",
      "    voigt_2sigma:       0.01536734 +/- 0.000330 (2.15%) (init= 0.0149357)\n",
      "    voigt_2center:      28.4338329 +/- 0.000527 (0.00%) (init= 28.43486)\n",
      "    voigt_2amplitude:   2653.25995 +/- 47.20420 (1.78%) (init= 1946.006)\n",
      "    voigt_2fwhm:        0.05534258 +/- 0.001188 (2.15%)  == '3.6013100*voigt_2sigma'\n",
      "    voigt_2gamma:       0.01536734 +/- 0.000330 (2.15%)  == 'voigt_2sigma'\n",
      "    voigt_3amplitude:   1591.96591 +/- 41.47299 (2.61%) (init= 1136.358)\n",
      "    voigt_3center:      28.5084768 +/- 0.000539 (0.00%) (init= 28.50588)\n",
      "    voigt_3sigma:       0.01140284 +/- 0.000339 (2.98%) (init= 0.01222012)\n",
      "    voigt_3fwhm:        0.04106517 +/- 0.001224 (2.98%)  == '3.6013100*voigt_3sigma'\n",
      "    voigt_3gamma:       0.01140284 +/- 0.000339 (2.98%)  == 'voigt_3sigma'\n",
      "[[Correlations]] (unreported correlations are <  0.100)\n",
      "    C(voigt_3amplitude, voigt_3sigma)  =  0.528 \n",
      "    C(voigt_2amplitude, voigt_3amplitude)  = -0.523 \n",
      "    C(voigt_2sigma, voigt_3amplitude)  = -0.496 \n",
      "    C(voigt_2amplitude, voigt_3sigma)  = -0.461 \n",
      "    C(voigt_2sigma, voigt_2amplitude)  =  0.457 \n",
      "    C(voigt_2center, voigt_3amplitude)  = -0.455 \n",
      "    C(voigt_3amplitude, voigt_3center)  = -0.427 \n",
      "    C(voigt_2center, voigt_2amplitude)  =  0.406 \n",
      "    C(voigt_2sigma, voigt_2center)  =  0.404 \n",
      "    C(voigt_3center, voigt_3sigma)  = -0.404 \n",
      "    C(voigt_2sigma, voigt_3sigma)  = -0.400 \n",
      "    C(voigt_2center, voigt_3sigma)  = -0.387 \n",
      "    C(voigt_2amplitude, voigt_3center)  =  0.380 \n",
      "    C(voigt_2center, voigt_3center)  =  0.373 \n",
      "    C(voigt_2sigma, voigt_3center)  =  0.341 \n"
     ]
    }
   ],
   "source": [
    "print(out_2.fit_report())"
   ]
  },
  {
   "cell_type": "code",
   "execution_count": null,
   "metadata": {
    "collapsed": true
   },
   "outputs": [],
   "source": []
  }
 ],
 "metadata": {
  "kernelspec": {
   "display_name": "Python 3",
   "language": "python",
   "name": "python3"
  },
  "language_info": {
   "codemirror_mode": {
    "name": "ipython",
    "version": 3
   },
   "file_extension": ".py",
   "mimetype": "text/x-python",
   "name": "python",
   "nbconvert_exporter": "python",
   "pygments_lexer": "ipython3",
   "version": "3.4.3"
  }
 },
 "nbformat": 4,
 "nbformat_minor": 0
}
