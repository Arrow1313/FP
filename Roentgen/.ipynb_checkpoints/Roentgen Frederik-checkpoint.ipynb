{
 "cells": [
  {
   "cell_type": "code",
   "execution_count": 11,
   "metadata": {
    "collapsed": false
   },
<<<<<<< HEAD
   "outputs": [
    {
     "name": "stderr",
     "output_type": "stream",
     "text": [
      "/home/frederik/anaconda3/lib/python3.4/site-packages/IPython/html.py:14: ShimWarning: The `IPython.html` package has been deprecated. You should import from `notebook` instead. `IPython.html.widgets` has moved to `ipywidgets`.\n",
      "  \"`IPython.html.widgets` has moved to `ipywidgets`.\", ShimWarning)\n"
     ]
    }
   ],
=======
   "outputs": [],
>>>>>>> 749be67d961b3f0db89290dafb059474a0c371a3
   "source": [
    "import os\n",
    "import numpy as np\n",
    "import pandas as pd\n",
    "import matplotlib.pyplot as plt\n",
    "import scipy.optimize as opt\n",
    "from lmfit import models"
   ]
  },
  {
   "cell_type": "code",
   "execution_count": 12,
   "metadata": {
    "collapsed": true
   },
   "outputs": [],
   "source": [
    "pc_henrik = '/home/arrow13/Git/FP/Roentgen/'\n",
    "pc_frederik = '/home/frederik/Dokumente/FP/Roentgen'"
   ]
  },
  {
   "cell_type": "code",
<<<<<<< HEAD
   "execution_count": 3,
=======
   "execution_count": 13,
>>>>>>> 749be67d961b3f0db89290dafb059474a0c371a3
   "metadata": {
    "collapsed": true
   },
   "outputs": [],
   "source": [
    "var_pc = pc_henrik"
   ]
  },
  {
   "cell_type": "code",
<<<<<<< HEAD
   "execution_count": 4,
=======
   "execution_count": 14,
>>>>>>> 749be67d961b3f0db89290dafb059474a0c371a3
   "metadata": {
    "collapsed": false
   },
   "outputs": [
    {
     "name": "stdout",
     "output_type": "stream",
     "text": [
<<<<<<< HEAD
      "/home/frederik/Dokumente/FP/Roentgen/Messdaten\n"
=======
      "/home/arrow13/Git/FP/Roentgen/Messdaten\n"
>>>>>>> 749be67d961b3f0db89290dafb059474a0c371a3
     ]
    }
   ],
   "source": [
    "cd $var_pc/Messdaten"
   ]
  },
  {
   "cell_type": "code",
<<<<<<< HEAD
   "execution_count": 55,
=======
   "execution_count": 15,
>>>>>>> 749be67d961b3f0db89290dafb059474a0c371a3
   "metadata": {
    "collapsed": true
   },
   "outputs": [],
   "source": [
    "data = np.loadtxt(\"Si111_30_10.xy\").T"
   ]
  },
  {
   "cell_type": "markdown",
   "metadata": {},
   "source": [
    "# Einlesen, vorbereiten und auswerten der Daten (mit Versuchsplan)"
   ]
  },
  {
   "cell_type": "markdown",
   "metadata": {},
   "source": [
    "## Messen des Röntgenspektrums der Kupferanode\n",
    "Es werden drei verschiedene Spannungen und Ströme verwendet\n",
    "+ U$_1$ = 30keV, A$_1$ = 10mA\n",
    "+ U$_2$ = 40keV, A$_2$ = 10mA\n",
    "+ U$_3$ = 40keV, A$_3$ = 30mA\n",
    "\n",
    "Die letzte Einstellung wird noch mal mit einem Ni-Filter wiederholt\n",
    "\n",
    "+ U$_{Ni}$ = 30keV, A$_{Ni}$ = 30mA\n",
    "\n",
    "Auswertung:\n",
    "+ Zählrate als Funktion des Winkels auftragen\n",
    "+ Die lage der K$_{\\alpha_{1,2}}$- und der K$_\\beta$-Linien bestimmen, sowie die Verhältnisse (unter einander und unter den Ordnungen)\n",
    "+ Mit Ni-Filter die Abschwächung der K$_\\beta$-Linie, das \"Signal-zu-Rausch\" Verhältnis für die K$_{\\alpha_{1,2}}$-Linie, die Energie und die Energiebreite bestimmen\n",
    "+ Weitere Details des Spektrums diskutieren"
   ]
  },
  {
   "cell_type": "markdown",
   "metadata": {},
   "source": [
    "## Netzebenabstand Si(331)\n",
    "+ Aus dem Diffraktogramm soll der Netzebenabstand von Si(331) bestimmt werden\n",
    "+ Der bestimmte Netzebenabstand soll mit Literaturwerten abgeglichen werden"
   ]
  },
  {
   "cell_type": "markdown",
   "metadata": {},
   "source": [
    "## Netzebenabstand Ge(111)\n",
    "+ Aus dem Diffraktogramm soll der Netzebenabstand von Si(331) bestimmt werden\n",
    "+ Der bestimmte Netzebenabstand soll mit Literaturwerten abgeglichen werden"
   ]
  },
  {
   "cell_type": "markdown",
   "metadata": {},
   "source": [
<<<<<<< HEAD
    "## Pulverdiraktometrie\n",
=======
    "## Pulverdiffraktometrie\n",
>>>>>>> 749be67d961b3f0db89290dafb059474a0c371a3
    "+ Aus dem Diffraktogramm soll mittels einer Datenbank qualitativ die Zusammensetzung bestimmt werden\n",
    "+ Unabhängig von der Datenbank sollen die Netzebenabstände des Pulvers bestimmt werden\n",
    "+ Graphisch zeigen, dass die gefundene Kirstallstrucktur mit dem Diffraktogramm verträglich ist\n",
    "+ Die mittlere Kristallgröße ermitteln"
   ]
  },
  {
   "cell_type": "markdown",
   "metadata": {},
   "source": [
    "### Voigt für den einzel Peak "
   ]
  },
  {
   "cell_type": "code",
<<<<<<< HEAD
   "execution_count": 56,
=======
   "execution_count": 26,
>>>>>>> 749be67d961b3f0db89290dafb059474a0c371a3
   "metadata": {
    "collapsed": false
   },
   "outputs": [],
   "source": [
    "intervall_voigt_1 = np.arange(np.where(data[0] > 25.61)[0][0], np.where(data[0] > 25.68)[0][0])\n",
    "err_1 = np.sqrt(data[1][intervall_voigt_1])\n",
    "err_1 = np.where(err_1 == 0, 1, err_1)"
   ]
  },
  {
   "cell_type": "code",
<<<<<<< HEAD
   "execution_count": 57,
=======
   "execution_count": 27,
>>>>>>> 749be67d961b3f0db89290dafb059474a0c371a3
   "metadata": {
    "collapsed": false
   },
   "outputs": [],
   "source": [
    "voigt_1 = models.VoigtModel(prefix='voigt_1')\n",
    "pars_1 = voigt_1.guess(data[1][intervall_voigt_1],x=data[0][intervall_voigt_1])\n",
    "pars_1['voigt_1gamma'].set(0.001,vary=True,expr='')"
   ]
  },
  {
   "cell_type": "code",
<<<<<<< HEAD
   "execution_count": 58,
=======
   "execution_count": 28,
>>>>>>> 749be67d961b3f0db89290dafb059474a0c371a3
   "metadata": {
    "collapsed": false
   },
   "outputs": [],
   "source": [
    "out_1 = voigt_1.fit(data[1][intervall_voigt_1],pars_1,x=data[0][intervall_voigt_1], weights=1/(err_1))"
   ]
  },
  {
   "cell_type": "code",
<<<<<<< HEAD
   "execution_count": 59,
=======
   "execution_count": null,
>>>>>>> 749be67d961b3f0db89290dafb059474a0c371a3
   "metadata": {
    "collapsed": true
   },
   "outputs": [],
   "source": [
    "out_1.plot()\n",
    "plt.errorbar(data[0][intervall_voigt_1],data[1][intervall_voigt_1],err_1,fmt='. ')\n",
    "plt.show()"
   ]
  },
  {
   "cell_type": "code",
<<<<<<< HEAD
   "execution_count": 60,
=======
   "execution_count": 20,
>>>>>>> 749be67d961b3f0db89290dafb059474a0c371a3
   "metadata": {
    "collapsed": false
   },
   "outputs": [
    {
     "name": "stdout",
     "output_type": "stream",
     "text": [
      "[[Model]]\n",
      "    Model(voigt, prefix='voigt_1')\n",
      "[[Fit Statistics]]\n",
      "    # function evals   = 48\n",
      "    # data points      = 8\n",
      "    # variables        = 4\n",
      "    chi-square         = 5.335\n",
      "    reduced chi-square = 1.334\n",
      "[[Variables]]\n",
<<<<<<< HEAD
      "    voigt_1amplitude:   261.165804 +/- 6.275365 (2.40%) (init= 162.7719)\n",
      "    voigt_1sigma:       0.01232774 +/- 0.000927 (7.52%) (init= 0.008146744)\n",
      "    voigt_1center:      25.6390317 +/- 0.000163 (0.00%) (init= 25.63572)\n",
      "    voigt_1gamma:       0.00838932 +/- 0.001286 (15.33%) (init= 0.001)\n",
      "    voigt_1fwhm:        0.04439603 +/- 0.003339 (7.52%)  == '3.6013100*voigt_1sigma'\n",
      "[[Correlations]] (unreported correlations are <  0.100)\n",
      "    C(voigt_1sigma, voigt_1gamma)  = -0.979 \n",
      "    C(voigt_1amplitude, voigt_1gamma)  =  0.950 \n",
      "    C(voigt_1amplitude, voigt_1sigma)  = -0.915 \n",
      "    C(voigt_1amplitude, voigt_1center)  = -0.284 \n",
      "    C(voigt_1center, voigt_1gamma)  = -0.264 \n",
      "    C(voigt_1sigma, voigt_1center)  =  0.226 \n"
=======
      "    voigt_1sigma:       0.01192755 +/- 0.000210 (1.76%) (init= 0.01357791)\n",
      "    voigt_1amplitude:   1172.19255 +/- 17.18171 (1.47%) (init= 1214.115)\n",
      "    voigt_1center:      25.6459249 +/- 0.000353 (0.00%) (init= 25.64617)\n",
      "    voigt_1fwhm:        0.04295483 +/- 0.000756 (1.76%)  == '3.6013100*voigt_1sigma'\n",
      "    voigt_1gamma:       0.01192755 +/- 0.000210 (1.76%)  == 'voigt_1sigma'\n",
      "[[Correlations]] (unreported correlations are <  0.100)\n"
>>>>>>> 749be67d961b3f0db89290dafb059474a0c371a3
     ]
    }
   ],
   "source": [
    "print(out_1.fit_report())"
   ]
  },
  {
   "cell_type": "markdown",
   "metadata": {},
   "source": [
    "### Mulit-Voigt"
   ]
  },
  {
   "cell_type": "code",
<<<<<<< HEAD
   "execution_count": 65,
=======
   "execution_count": 21,
>>>>>>> 749be67d961b3f0db89290dafb059474a0c371a3
   "metadata": {
    "collapsed": true
   },
   "outputs": [],
   "source": [
    "intervall_voigt_2 = np.arange(np.where(data[0] > 28.35)[0][0], np.where(data[0] > 28.55)[0][0])\n",
    "guess_intervall_voigt_2 = np.arange(np.where( 28.39 < data[0])[0][0],np.where( data[0] > 28.48)[0][0])\n",
    "guess_intervall_voigt_3 = np.arange(np.where( 28.47 < data[0])[0][0],np.where( data[0] > 28.54)[0][0])\n",
    "err_2 = np.sqrt(data[1][intervall_voigt_2])\n",
    "err_2 = np.where(err_2 == 0, 1, err_2)"
   ]
  },
  {
   "cell_type": "code",
<<<<<<< HEAD
   "execution_count": 66,
=======
   "execution_count": 22,
>>>>>>> 749be67d961b3f0db89290dafb059474a0c371a3
   "metadata": {
    "collapsed": false
   },
   "outputs": [],
   "source": [
    "voigt_2 = models.VoigtModel(prefix='voigt_2')\n",
    "voigt_3 = models.VoigtModel(prefix='voigt_3')\n",
    "dual_voigt = voigt_2 + voigt_3\n",
    "pars_2 = voigt_2.guess(data[1][guess_intervall_voigt_2],x=data[0][guess_intervall_voigt_2])\n",
    "pars_2.update(voigt_3.guess(data[1][guess_intervall_voigt_3],x=data[0][guess_intervall_voigt_3]))\n",
    "pars_2['voigt_2gamma'].set(0.0001,vary=True,expr='')\n",
    "pars_2['voigt_3gamma'].set(0.0001,vary=True,expr='')"
   ]
  },
  {
   "cell_type": "code",
<<<<<<< HEAD
   "execution_count": 67,
=======
   "execution_count": 23,
>>>>>>> 749be67d961b3f0db89290dafb059474a0c371a3
   "metadata": {
    "collapsed": true
   },
   "outputs": [],
   "source": [
    "out_2 = dual_voigt.fit(data[1][intervall_voigt_2],pars_2,x=data[0][intervall_voigt_2],weights=1/(err_2))"
   ]
  },
  {
   "cell_type": "code",
<<<<<<< HEAD
   "execution_count": 70,
=======
   "execution_count": 24,
>>>>>>> 749be67d961b3f0db89290dafb059474a0c371a3
   "metadata": {
    "collapsed": false
   },
   "outputs": [],
   "source": [
    "out_2.plot_fit()\n",
    "plt.errorbar(data[0][intervall_voigt_2],data[1][intervall_voigt_2],err_2,fmt='. ')\n",
    "plt.show()"
   ]
  },
  {
   "cell_type": "code",
<<<<<<< HEAD
   "execution_count": 69,
=======
   "execution_count": 25,
>>>>>>> 749be67d961b3f0db89290dafb059474a0c371a3
   "metadata": {
    "collapsed": false,
    "scrolled": false
   },
   "outputs": [
    {
     "name": "stdout",
     "output_type": "stream",
     "text": [
      "[[Model]]\n",
      "    (Model(voigt, prefix='voigt_2') + Model(voigt, prefix='voigt_3'))\n",
      "[[Fit Statistics]]\n",
      "    # function evals   = 92\n",
      "    # data points      = 24\n",
      "    # variables        = 8\n",
      "    chi-square         = 567.445\n",
      "    reduced chi-square = 35.465\n",
      "[[Variables]]\n",
<<<<<<< HEAD
      "    voigt_2sigma:       0.01228410 +/- 0.000881 (7.17%) (init= 0.008146744)\n",
      "    voigt_2amplitude:   905.505158 +/- 23.34925 (2.58%) (init= 585.2871)\n",
      "    voigt_2center:      28.4272852 +/- 0.000400 (0.00%) (init= 28.4265)\n",
      "    voigt_2gamma:       0.00716875 +/- 0.000981 (13.68%) (init= 0.0001)\n",
      "    voigt_2fwhm:        0.04423887 +/- 0.003172 (7.17%)  == '3.6013100*voigt_2sigma'\n",
      "    voigt_3sigma:       0.01309456 +/- 0.001369 (10.46%) (init= 0.01086232)\n",
      "    voigt_3amplitude:   482.461329 +/- 21.57661 (4.47%) (init= 497.8287)\n",
      "    voigt_3center:      28.5008075 +/- 0.000532 (0.00%) (init= 28.49753)\n",
      "    voigt_3gamma:       0.00463859 +/- 0.001814 (39.12%) (init= 0.0001)\n",
      "    voigt_3fwhm:        0.04715757 +/- 0.004932 (10.46%)  == '3.6013100*voigt_3sigma'\n",
      "[[Correlations]] (unreported correlations are <  0.100)\n",
      "    C(voigt_3sigma, voigt_3gamma)  = -0.924 \n",
      "    C(voigt_2sigma, voigt_2gamma)  = -0.875 \n",
      "    C(voigt_3amplitude, voigt_3gamma)  =  0.741 \n",
      "    C(voigt_3sigma, voigt_3amplitude)  = -0.616 \n",
      "    C(voigt_2amplitude, voigt_2gamma)  =  0.583 \n",
      "    C(voigt_2amplitude, voigt_3amplitude)  = -0.502 \n",
      "    C(voigt_2sigma, voigt_2amplitude)  = -0.438 \n",
      "    C(voigt_2gamma, voigt_3amplitude)  = -0.426 \n",
      "    C(voigt_2amplitude, voigt_3gamma)  = -0.425 \n",
      "    C(voigt_2amplitude, voigt_3sigma)  =  0.304 \n",
      "    C(voigt_2center, voigt_3amplitude)  = -0.281 \n",
      "    C(voigt_3amplitude, voigt_3center)  = -0.281 \n",
      "    C(voigt_2amplitude, voigt_3center)  =  0.256 \n",
      "    C(voigt_2sigma, voigt_3amplitude)  =  0.254 \n",
      "    C(voigt_2amplitude, voigt_2center)  =  0.244 \n",
      "    C(voigt_2gamma, voigt_3gamma)  = -0.243 \n",
      "    C(voigt_2center, voigt_2gamma)  =  0.228 \n",
      "    C(voigt_2center, voigt_3gamma)  = -0.227 \n",
      "    C(voigt_2gamma, voigt_3center)  =  0.221 \n",
      "    C(voigt_3center, voigt_3gamma)  = -0.214 \n",
      "    C(voigt_2center, voigt_3center)  =  0.196 \n",
      "    C(voigt_2center, voigt_3sigma)  =  0.138 \n",
      "    C(voigt_2sigma, voigt_2center)  = -0.136 \n",
      "    C(voigt_2gamma, voigt_3sigma)  =  0.123 \n",
      "    C(voigt_3sigma, voigt_3center)  =  0.118 \n",
      "    C(voigt_2sigma, voigt_3center)  = -0.108 \n"
=======
      "    voigt_2sigma:       0.01536734 +/- 0.000330 (2.15%) (init= 0.0149357)\n",
      "    voigt_2amplitude:   2653.25995 +/- 47.20420 (1.78%) (init= 1946.006)\n",
      "    voigt_2center:      28.4338329 +/- 0.000527 (0.00%) (init= 28.43486)\n",
      "    voigt_2fwhm:        0.05534258 +/- 0.001188 (2.15%)  == '3.6013100*voigt_2sigma'\n",
      "    voigt_2gamma:       0.01536734 +/- 0.000330 (2.15%)  == 'voigt_2sigma'\n",
      "    voigt_3amplitude:   1591.96591 +/- 41.47299 (2.61%) (init= 1136.358)\n",
      "    voigt_3sigma:       0.01140284 +/- 0.000339 (2.98%) (init= 0.01222012)\n",
      "    voigt_3center:      28.5084768 +/- 0.000539 (0.00%) (init= 28.50588)\n",
      "    voigt_3fwhm:        0.04106517 +/- 0.001224 (2.98%)  == '3.6013100*voigt_3sigma'\n",
      "    voigt_3gamma:       0.01140284 +/- 0.000339 (2.98%)  == 'voigt_3sigma'\n",
      "[[Correlations]] (unreported correlations are <  0.100)\n",
      "    C(voigt_3amplitude, voigt_3sigma)  =  0.528 \n",
      "    C(voigt_2amplitude, voigt_3amplitude)  = -0.523 \n",
      "    C(voigt_2sigma, voigt_3amplitude)  = -0.496 \n",
      "    C(voigt_2amplitude, voigt_3sigma)  = -0.461 \n",
      "    C(voigt_2sigma, voigt_2amplitude)  =  0.457 \n",
      "    C(voigt_2center, voigt_3amplitude)  = -0.455 \n",
      "    C(voigt_3amplitude, voigt_3center)  = -0.427 \n",
      "    C(voigt_2amplitude, voigt_2center)  =  0.406 \n",
      "    C(voigt_2sigma, voigt_2center)  =  0.404 \n",
      "    C(voigt_3sigma, voigt_3center)  = -0.404 \n",
      "    C(voigt_2sigma, voigt_3sigma)  = -0.400 \n",
      "    C(voigt_2center, voigt_3sigma)  = -0.387 \n",
      "    C(voigt_2amplitude, voigt_3center)  =  0.380 \n",
      "    C(voigt_2center, voigt_3center)  =  0.373 \n",
      "    C(voigt_2sigma, voigt_3center)  =  0.341 \n"
>>>>>>> 749be67d961b3f0db89290dafb059474a0c371a3
     ]
    }
   ],
   "source": [
    "print(out_2.fit_report())"
   ]
  },
  {
   "cell_type": "code",
   "execution_count": 73,
   "metadata": {
    "collapsed": false,
    "scrolled": true
   },
   "outputs": [
    {
     "ename": "ValueError",
     "evalue": "Integer subplot specification must be a three digit number.  Not 2",
     "output_type": "error",
     "traceback": [
      "\u001b[1;31m---------------------------------------------------------------------------\u001b[0m",
      "\u001b[1;31mValueError\u001b[0m                                Traceback (most recent call last)",
      "\u001b[1;32m<ipython-input-73-2a8a01abe231>\u001b[0m in \u001b[0;36m<module>\u001b[1;34m()\u001b[0m\n\u001b[0;32m      1\u001b[0m \u001b[0mfig\u001b[0m \u001b[1;33m=\u001b[0m \u001b[0mplt\u001b[0m\u001b[1;33m.\u001b[0m\u001b[0mfigure\u001b[0m\u001b[1;33m(\u001b[0m\u001b[1;33m)\u001b[0m\u001b[1;33m\u001b[0m\u001b[0m\n\u001b[1;32m----> 2\u001b[1;33m \u001b[0max_1\u001b[0m \u001b[1;33m=\u001b[0m \u001b[0mplt\u001b[0m\u001b[1;33m.\u001b[0m\u001b[0msubplot\u001b[0m\u001b[1;33m(\u001b[0m\u001b[1;36m21\u001b[0m\u001b[1;33m)\u001b[0m\u001b[1;33m\u001b[0m\u001b[0m\n\u001b[0m\u001b[0;32m      3\u001b[0m \u001b[0max_1\u001b[0m\u001b[1;33m.\u001b[0m\u001b[0merrorbar\u001b[0m\u001b[1;33m(\u001b[0m\u001b[0mdata\u001b[0m\u001b[1;33m[\u001b[0m\u001b[1;36m0\u001b[0m\u001b[1;33m]\u001b[0m\u001b[1;33m[\u001b[0m\u001b[0mintervall_voigt_1\u001b[0m\u001b[1;33m]\u001b[0m\u001b[1;33m,\u001b[0m\u001b[0mdata\u001b[0m\u001b[1;33m[\u001b[0m\u001b[1;36m1\u001b[0m\u001b[1;33m]\u001b[0m\u001b[1;33m[\u001b[0m\u001b[0mintervall_voigt_1\u001b[0m\u001b[1;33m]\u001b[0m\u001b[1;33m,\u001b[0m\u001b[0merr_1\u001b[0m\u001b[1;33m)\u001b[0m\u001b[1;33m\u001b[0m\u001b[0m\n\u001b[0;32m      4\u001b[0m \u001b[1;33m\u001b[0m\u001b[0m\n\u001b[0;32m      5\u001b[0m \u001b[0mfig\u001b[0m\u001b[1;33m.\u001b[0m\u001b[0mshow\u001b[0m\u001b[1;33m(\u001b[0m\u001b[1;33m)\u001b[0m\u001b[1;33m\u001b[0m\u001b[0m\n",
      "\u001b[1;32m/home/frederik/anaconda3/lib/python3.4/site-packages/matplotlib/pyplot.py\u001b[0m in \u001b[0;36msubplot\u001b[1;34m(*args, **kwargs)\u001b[0m\n\u001b[0;32m    920\u001b[0m \u001b[1;33m\u001b[0m\u001b[0m\n\u001b[0;32m    921\u001b[0m     \u001b[0mfig\u001b[0m \u001b[1;33m=\u001b[0m \u001b[0mgcf\u001b[0m\u001b[1;33m(\u001b[0m\u001b[1;33m)\u001b[0m\u001b[1;33m\u001b[0m\u001b[0m\n\u001b[1;32m--> 922\u001b[1;33m     \u001b[0ma\u001b[0m \u001b[1;33m=\u001b[0m \u001b[0mfig\u001b[0m\u001b[1;33m.\u001b[0m\u001b[0madd_subplot\u001b[0m\u001b[1;33m(\u001b[0m\u001b[1;33m*\u001b[0m\u001b[0margs\u001b[0m\u001b[1;33m,\u001b[0m \u001b[1;33m**\u001b[0m\u001b[0mkwargs\u001b[0m\u001b[1;33m)\u001b[0m\u001b[1;33m\u001b[0m\u001b[0m\n\u001b[0m\u001b[0;32m    923\u001b[0m     \u001b[0mbbox\u001b[0m \u001b[1;33m=\u001b[0m \u001b[0ma\u001b[0m\u001b[1;33m.\u001b[0m\u001b[0mbbox\u001b[0m\u001b[1;33m\u001b[0m\u001b[0m\n\u001b[0;32m    924\u001b[0m     \u001b[0mbyebye\u001b[0m \u001b[1;33m=\u001b[0m \u001b[1;33m[\u001b[0m\u001b[1;33m]\u001b[0m\u001b[1;33m\u001b[0m\u001b[0m\n",
      "\u001b[1;32m/home/frederik/anaconda3/lib/python3.4/site-packages/matplotlib/figure.py\u001b[0m in \u001b[0;36madd_subplot\u001b[1;34m(self, *args, **kwargs)\u001b[0m\n\u001b[0;32m    933\u001b[0m                 raise ValueError(\"Integer subplot specification must \" +\n\u001b[0;32m    934\u001b[0m                                  \u001b[1;34m\"be a three digit number.  \"\u001b[0m \u001b[1;33m+\u001b[0m\u001b[1;33m\u001b[0m\u001b[0m\n\u001b[1;32m--> 935\u001b[1;33m                                  \"Not {n:d}\".format(n=len(args)))\n\u001b[0m\u001b[0;32m    936\u001b[0m \u001b[1;33m\u001b[0m\u001b[0m\n\u001b[0;32m    937\u001b[0m         \u001b[1;32mif\u001b[0m \u001b[0misinstance\u001b[0m\u001b[1;33m(\u001b[0m\u001b[0margs\u001b[0m\u001b[1;33m[\u001b[0m\u001b[1;36m0\u001b[0m\u001b[1;33m]\u001b[0m\u001b[1;33m,\u001b[0m \u001b[0mSubplotBase\u001b[0m\u001b[1;33m)\u001b[0m\u001b[1;33m:\u001b[0m\u001b[1;33m\u001b[0m\u001b[0m\n",
      "\u001b[1;31mValueError\u001b[0m: Integer subplot specification must be a three digit number.  Not 2"
     ]
    }
   ],
   "source": [
    "fig = plt.figure()\n",
    "ax_1 = plt.subplot(21)\n",
    "ax_1.errorbar(data[0][intervall_voigt_1],data[1][intervall_voigt_1],err_1)\n",
    "\n",
    "fig.show()"
   ]
  },
  {
   "cell_type": "markdown",
   "metadata": {},
   "source": [
    "# Plots der Spektren für die ersten 4 Aufnahme"
   ]
  },
  {
   "cell_type": "code",
   "execution_count": 36,
   "metadata": {
    "collapsed": true
   },
   "outputs": [],
   "source": [
    "data_spektrum = np.loadtxt(\"Si111_40_30_Ni.xy\").T"
   ]
  },
  {
   "cell_type": "code",
   "execution_count": 37,
   "metadata": {
    "collapsed": true
   },
   "outputs": [],
   "source": [
    "plt.errorbar(data_spektrum[0],data_spektrum[1],np.sqrt(data_spektrum[1]),fmt='. ',label=\"Messdaten, mit U = 40 kV \\n A = 30mA, mit Ni-Filter\")\n",
    "plt.xlabel('Winkel in 2$\\Theta$ /$^\\circ$',fontsize=42)\n",
    "plt.ylabel('Counts',fontsize=42)\n",
    "plt.legend(loc='best',fontsize=40)\n",
    "plt.xticks(fontsize=30)\n",
    "plt.yticks(fontsize=30)\n",
    "plt.show()"
   ]
  },
  {
   "cell_type": "code",
   "execution_count": null,
   "metadata": {
    "collapsed": true
   },
   "outputs": [],
   "source": []
  }
 ],
 "metadata": {
  "kernelspec": {
   "display_name": "Python 3",
   "language": "python",
   "name": "python3"
  },
  "language_info": {
   "codemirror_mode": {
    "name": "ipython",
    "version": 3
   },
   "file_extension": ".py",
   "mimetype": "text/x-python",
   "name": "python",
   "nbconvert_exporter": "python",
   "pygments_lexer": "ipython3",
   "version": "3.4.3"
  }
 },
 "nbformat": 4,
 "nbformat_minor": 0
}
