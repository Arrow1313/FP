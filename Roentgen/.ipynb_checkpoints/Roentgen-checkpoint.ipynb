{
 "cells": [
  {
   "cell_type": "code",
   "execution_count": 1,
   "metadata": {
    "collapsed": false
   },
   "outputs": [
    {
     "name": "stderr",
     "output_type": "stream",
     "text": [
      "/home/arrow13/anaconda3/lib/python3.4/site-packages/IPython/html.py:14: ShimWarning: The `IPython.html` package has been deprecated. You should import from `notebook` instead. `IPython.html.widgets` has moved to `ipywidgets`.\n",
      "  \"`IPython.html.widgets` has moved to `ipywidgets`.\", ShimWarning)\n"
     ]
    }
   ],
   "source": [
    "import os\n",
    "import numpy as np\n",
    "import pandas as pd\n",
    "import matplotlib.pyplot as plt\n",
    "import scipy.optimize as opt\n",
    "from lmfit import models"
   ]
  },
  {
   "cell_type": "code",
   "execution_count": 2,
   "metadata": {
    "collapsed": true
   },
   "outputs": [],
   "source": [
    "hc = 12.39841875 #keV*Angström\n",
    "d_si = 3.1358"
   ]
  },
  {
   "cell_type": "code",
   "execution_count": 3,
   "metadata": {
    "collapsed": true
   },
   "outputs": [],
   "source": [
    "pc_henrik = '/home/arrow13/Git/FP/Roentgen/'\n",
    "pc_frederik = '/home/frederik/Dokumente/FP/Roentgen/'"
   ]
  },
  {
   "cell_type": "code",
   "execution_count": 4,
   "metadata": {
    "collapsed": false
   },
   "outputs": [],
   "source": [
    "var_pc = pc_henrik"
   ]
  },
  {
   "cell_type": "code",
   "execution_count": 5,
   "metadata": {
    "collapsed": false
   },
   "outputs": [
    {
     "name": "stdout",
     "output_type": "stream",
     "text": [
      "/home/arrow13/Git/FP/Roentgen/Messdaten\n"
     ]
    }
   ],
   "source": [
    "cd $var_pc'Messdaten/'"
   ]
  },
  {
   "cell_type": "markdown",
   "metadata": {},
   "source": [
    "# Implementirung der Funktionen für die Auswertung"
   ]
  },
  {
   "cell_type": "markdown",
   "metadata": {},
   "source": [
    "## Die Peak sollen mit der Gaussverteilung angefitten werde, diese wird hier implementier, wie ein wrappen für automatische fits"
   ]
  },
  {
   "cell_type": "markdown",
   "metadata": {},
   "source": [
    "# Gauss\n",
    "<h1>$f(x) = \\frac{a}{\\sqrt{2 \\cdot pi \\cdot \\sigma^2}} \\cdot e^{- \\frac{{(x- \\sigma )}^2}{2 \\cdot \\sigma^2}} $ </h1>"
   ]
  },
  {
   "cell_type": "code",
   "execution_count": 7,
   "metadata": {
    "collapsed": true
   },
   "outputs": [],
   "source": [
    "def gauss(x,a,mu,sigma):\n",
    "    return (a/(np.sqrt(2*3.14*sigma**2))*np.exp(-((x-mu)**2)/(2.*sigma**2)))"
   ]
  },
  {
   "cell_type": "markdown",
   "metadata": {},
   "source": [
    "# ${\\chi_{red}}^2$ / Goodness of a fit\n",
    "<h1> ${\\chi_{red}}^2 = \\frac{1}{\\nu}\\sum\\frac{{(O-E)}^2}{\\sigma^2}$ "
   ]
  },
  {
   "cell_type": "code",
   "execution_count": 8,
   "metadata": {
    "collapsed": true
   },
   "outputs": [],
   "source": [
    "def red_chi_gauss(data, model, deg):\n",
    "    chisq = np.sum(np.square(data-model)/np.power(data,0.5))\n",
    "    nu = data.size-1-deg    # -4: -1 for the equation and -3 from the degrees of freedom\n",
    "    if nu is 0:\n",
    "        return \"err: nu = 0\"\n",
    "    return chisq/nu"
   ]
  },
  {
   "cell_type": "code",
   "execution_count": 9,
   "metadata": {
    "collapsed": true
   },
   "outputs": [],
   "source": [
    "def fit_gauss(x,data,guess=[1,1,1]):\n",
    "    '''\n",
    "        returns the parameter from the fit, the standard deviation and the reduced chisquare\n",
    "    '''\n",
    "    para, cov = opt.curve_fit(gauss,x,np.sqrt(data),guess,maxfev=10000)\n",
    "    red_chi = red_chi_gauss(data,gauss(x,para[0],para[1],para[2]),3)\n",
    "    return para, np.sqrt(np.diag(cov)), red_chi"
   ]
  },
  {
   "cell_type": "markdown",
   "metadata": {},
   "source": [
    "# Bragg-reflexion\n",
    "$n \\cdot \\lambda = 2 \\cdot d \\cdot sin(\\theta)$"
   ]
  },
  {
   "cell_type": "markdown",
   "metadata": {},
   "source": [
    "# Energie\n",
    "$E = \\frac{h \\cdot c}{2 \\cdot d \\cdot sin(\\theta)}$"
   ]
  },
  {
   "cell_type": "code",
   "execution_count": 10,
   "metadata": {
    "collapsed": true
   },
   "outputs": [],
   "source": [
    "def energie(phi,delta_phi):\n",
    "    theta = phi/2\n",
    "    e = hc/(2*d_si*np.sin(theta*(3.14/180)))\n",
    "    delta_e = (e*delta_phi/2)/np.tan(theta*(3.14/180))\n",
    "    return e, delta_e"
   ]
  },
  {
   "cell_type": "code",
   "execution_count": 11,
   "metadata": {
    "collapsed": true
   },
   "outputs": [],
   "source": [
    "def intensität(a,delta_a,sigma,delta_sigma):\n",
    "    i = a/(np.sqrt(2*3.14*sigma**2))\n",
    "    delta_i = np.sqrt((delta_a/np.sqrt(2*3.14*sigma**2))**2 + ((a*delta_sigma)/(np.sqrt(2*3.14*sigma**4)))**2)\n",
    "    return i, delta_i"
   ]
  },
  {
   "cell_type": "code",
   "execution_count": 12,
   "metadata": {
    "collapsed": true
   },
   "outputs": [],
   "source": [
    "def d(e,delta_e,phi,delta_phi,n):\n",
    "    d = (n*hc)/(2*e*np.sin((phi/2)*(3.14/180)))\n",
    "    delta_d = d*np.sqrt(((delta_phi/2)/np.tan((phi/2)*(3.14/180)))**2+(delta_e/e)**2)"
   ]
  },
  {
   "cell_type": "markdown",
   "metadata": {},
   "source": [
    "# Einlesen, vorbereiten und auswerten der Daten (mit Versuchsplan)"
   ]
  },
  {
   "cell_type": "markdown",
   "metadata": {
    "collapsed": true
   },
   "source": [
    "## Messen des Röntgenspektrums der Kupferanode\n",
    "Es werden drei verschiedene Spannungen und Ströme verwendet\n",
    "+ U$_1$ = ??, A$_1$ = ??\n",
    "+ U$_2$ = ??, A$_2$ = ??\n",
    "+ U$_3$ = ??, A$_3$ = ??\n",
    "\n",
    "Die letzte Einstellung wird noch mal mit einem Ni-Filter wiederholt\n",
    "\n",
    "Auswertung:\n",
    "+ Zählrate als Funktion des Winkels auftragen\n",
    "+ Die lage der K$_{\\alpha_{1,2}}$- und der K$_\\beta$-Linien bestimmen, sowie die Verhältnisse (unter einander und unter den Ordnungen)\n",
    "+ Mit Ni-Filter die Abschwächung der K$_\\beta$-Linie, das \"Signal-zu-Rausch\" Verhältnis für die K$_{\\alpha_{1,2}}$-Linie, die Energie und die Energiebreite bestimmen\n",
    "+ Weitere Details des Spektrums diskutieren"
   ]
  },
  {
   "cell_type": "markdown",
   "metadata": {},
   "source": [
    "## Netzebenabstand Si(331)\n",
    "+ Aus dem Diffraktogramm soll der Netzebenabstand von Si(331) bestimmt werden\n",
    "+ Der bestimmte Netzebenabstand soll mit Literaturwerten abgeglichen werden"
   ]
  },
  {
   "cell_type": "markdown",
   "metadata": {},
   "source": [
    "## Netzebenabstand Ge(111)\n",
    "+ Aus dem Diffraktogramm soll der Netzebenabstand von Si(331) bestimmt werden\n",
    "+ Der bestimmte Netzebenabstand soll mit Literaturwerten abgeglichen werden"
   ]
  },
  {
   "cell_type": "markdown",
   "metadata": {},
   "source": [
    "## Pulverdefraktometrie\n",
    "+ Aus dem Diffraktogramm soll mittels einer Datenbank qualitativ die Zusammensetzung bestimmt werden\n",
    "+ Unabhängig von der Datenbank sollen die Netzebenabstände des Pulvers bestimmt werden\n",
    "+ Graphisch zeigen, dass die gefundene Kirstallstrucktur mit dem Diffraktogramm verträglich ist\n",
    "+ Die mittlere Kristallgröße ermitteln"
   ]
  },
  {
   "cell_type": "markdown",
   "metadata": {},
   "source": [
    "# Ersterwert: Spannung\n",
    "# Zweiterwert: Anodenstrom\n"
   ]
  },
  {
   "cell_type": "markdown",
   "metadata": {
    "collapsed": true
   },
   "source": [
    "# Vorbereitung für den Voigt-Fit"
   ]
  },
  {
   "cell_type": "code",
   "execution_count": 13,
   "metadata": {
    "collapsed": false
   },
   "outputs": [],
   "source": [
    "voigt_1 = models.VoigtModel(prefix='voigt_1')\n",
    "voigt_2 = models.VoigtModel(prefix='voigt_2')\n",
    "voigt_3 = models.VoigtModel(prefix='voigt_3')\n",
    "mulit_voigt_1 = voigt_1 + voigt_2"
   ]
  },
  {
   "cell_type": "code",
   "execution_count": 14,
   "metadata": {
    "collapsed": false
   },
   "outputs": [],
   "source": [
    "data = np.loadtxt(\"Si111_40_30.xy\").T\n",
    "plt.plot(data[0],data[1])\n",
    "plt.show()"
   ]
  },
  {
   "cell_type": "code",
   "execution_count": 15,
   "metadata": {
    "collapsed": false
   },
   "outputs": [],
   "source": [
    "params_1 = voigt_1.guess(data[1],x=data[0])\n",
    "params_2 = voigt_2.guess(data[1],x=data[0])\n",
    "params_3 = voigt_3.guess(data[1],x=data[0])\n",
    "params_mulit = mulit_voigt_1.make_params()\n",
    "\n",
    "params_mulit['voigt_1center'].set(28.43)\n",
    "params_mulit['voigt_1center'].set(28.50)\n",
    "params_1['voigt_1gamma'].set(1,vary=True,expr='')\n",
    "params_2['voigt_2gamma'].set(1,vary=True,expr='')\n",
    "params_3['voigt_3gamma'].set(1,vary=True,expr='')"
   ]
  },
  {
   "cell_type": "raw",
   "metadata": {},
   "source": [
    "i_t = 0.1\n",
    "j_t = 1\n",
    "k_t = 1\n",
    "\n",
    "i = 25.6\n",
    "j = 28\n",
    "k = 95\n",
    "\n",
    "params_1['voigt_1center'].set(i,max=i+i_t)\n",
    "params_2['voigt_2center'].set(j,max=j+j_t)\n",
    "params_3['voigt_3center'].set(k,max=k+k_t)"
   ]
  },
  {
   "cell_type": "code",
   "execution_count": 16,
   "metadata": {
    "collapsed": false
   },
   "outputs": [
    {
     "data": {
      "text/plain": [
       "array([], dtype=int32)"
      ]
     },
     "execution_count": 16,
     "metadata": {},
     "output_type": "execute_result"
    }
   ],
   "source": [
    "np.arange(np.where(data[0] > 28.2)[0][0], np.where(data[0] < 28.7)[0][0])"
   ]
  },
  {
   "cell_type": "code",
   "execution_count": 17,
   "metadata": {
    "collapsed": false
   },
   "outputs": [
    {
     "data": {
      "text/plain": [
       "(array([   0,    1,    2, ..., 3276, 3277, 3278], dtype=int32),)"
      ]
     },
     "execution_count": 17,
     "metadata": {},
     "output_type": "execute_result"
    }
   ],
   "source": [
    "np.where(data[0] < 28.7)"
   ]
  },
  {
   "cell_type": "code",
   "execution_count": 18,
   "metadata": {
    "collapsed": false
   },
   "outputs": [
    {
     "name": "stdout",
     "output_type": "stream",
     "text": [
      "[[Model]]\n",
      "    (Model(voigt, prefix='voigt_1') + Model(voigt, prefix='voigt_2'))\n",
      "[[Fit Statistics]]\n",
      "    # function evals   = 7\n",
      "    # data points      = 27526\n",
      "    # variables        = 6\n",
      "    chi-square         = nan\n",
      "    reduced chi-square = nan\n",
      "[[Variables]]\n",
      "    voigt_1center:      28.5000000 +/- 0        (0.00%) (init= 28.5)\n",
      "    voigt_2sigma:       0          +/- 0         (init= 0)\n",
      "    voigt_2amplitude:  -inf        +/- 0        (-0.00%) (init=-inf)\n",
      "    voigt_2center:     -inf        +/- 0        (-0.00%) (init=-inf)\n",
      "    voigt_1fwhm:        0          +/- 0          == '3.6013100*voigt_1sigma'\n",
      "    voigt_1gamma:       0          +/- 0          == 'voigt_1sigma'\n",
      "    voigt_2gamma:       0          +/- 0          == 'voigt_2sigma'\n",
      "    voigt_1amplitude:  -inf        +/- 0        (-0.00%) (init=-inf)\n",
      "    voigt_2fwhm:        0          +/- 0          == '3.6013100*voigt_2sigma'\n",
      "    voigt_1sigma:       0          +/- 0         (init= 0)\n",
      "[[Correlations]] (unreported correlations are <  0.100)\n"
     ]
    }
   ],
   "source": [
    "fit_1 = voigt_1.fit(data[1],params_1,x=data[0])\n",
    "fit_2 = voigt_2.fit(data[1],params_2,x=data[0])\n",
    "fit_3 = voigt_3.fit(data[1],params_3,x=data[0])\n",
    "fit_mulit = mulit_voigt_1.fit(data[1],params_mulit,x=data[0])\n",
    "print(fit_mulit.fit_report())"
   ]
  },
  {
   "cell_type": "code",
   "execution_count": 19,
   "metadata": {
    "collapsed": false
   },
   "outputs": [],
   "source": [
    "peak_1_range = np.arange(np.where( 25.5 < data[0])[0][0],np.where( data[0] > 25.8)[0][0])\n",
    "peak_2_range = np.arange(np.where( 28.39 < data[0])[0][0],np.where( data[0] > 28.48)[0][0])\n",
    "peak_3_range = np.arange(np.where( 28.47 < data[0])[0][0],np.where( data[0] > 28.54)[0][0])"
   ]
  },
  {
   "cell_type": "code",
   "execution_count": 20,
   "metadata": {
    "collapsed": false
   },
   "outputs": [],
   "source": [
    "params_1 = voigt_1.guess(data[1][peak_1_range],x=data[0][peak_1_range])\n",
    "params_2 = voigt_2.guess(data[1][peak_2_range],x=data[0][peak_2_range])\n",
    "params_3 = voigt_3.guess(data[1][peak_3_range],x=data[0][peak_3_range])\n",
    "\n",
    "params_1['voigt_1gamma'].set(1,vary=True,expr='')\n",
    "params_2['voigt_2gamma'].set(1,vary=True,expr='')\n",
    "params_3['voigt_3gamma'].set(1,vary=True,expr='')"
   ]
  },
  {
   "cell_type": "code",
   "execution_count": 21,
   "metadata": {
    "collapsed": false
   },
   "outputs": [],
   "source": [
    "fit_1 = voigt_1.fit(data[1][peak_1_range],params_1,x=data[0][peak_1_range],weights=1/np.sqrt(data[1][peak_1_range]))\n",
    "fit_2 = voigt_2.fit(data[1][peak_2_range],params_2,x=data[0][peak_2_range],weights=1/np.sqrt(data[1][peak_2_range]))\n",
    "fit_3 = voigt_3.fit(data[1][peak_3_range],params_3,x=data[0][peak_3_range],weights=1/np.sqrt(data[1][peak_3_range]))"
   ]
  },
  {
   "cell_type": "code",
   "execution_count": 22,
   "metadata": {
    "collapsed": false
   },
   "outputs": [],
   "source": [
    "fit_1.plot()\n",
    "fit_2.plot()\n",
    "fit_3.plot()\n",
    "plt.show()"
   ]
  },
  {
   "cell_type": "code",
   "execution_count": 23,
   "metadata": {
    "collapsed": false,
    "scrolled": true
   },
   "outputs": [
    {
     "name": "stdout",
     "output_type": "stream",
     "text": [
      "[[Model]]\n",
      "    Model(voigt, prefix='voigt_1')\n",
      "[[Fit Statistics]]\n",
      "    # function evals   = 262\n",
      "    # data points      = 71\n",
      "    # variables        = 4\n",
      "    chi-square         = 3603.669\n",
      "    reduced chi-square = 53.786\n",
      "[[Variables]]\n",
      "    voigt_1center:      25.6459483 +/- 0.000345 (0.00%) (init= 25.64617)\n",
      "    voigt_1fwhm:        0.03738481 +/- 0.002997 (8.02%)  == '3.6013100*voigt_1sigma'\n",
      "    voigt_1gamma:       0.01311926 +/- 0.000584 (4.45%) (init= 1)\n",
      "    voigt_1amplitude:   1179.62029 +/- 17.04248 (1.44%) (init= 1214.115)\n",
      "    voigt_1sigma:       0.01038089 +/- 0.000832 (8.02%) (init= 0.01357791)\n",
      "[[Correlations]] (unreported correlations are <  0.100)\n",
      "    C(voigt_1gamma, voigt_1sigma)  = -0.805 \n",
      "    C(voigt_1gamma, voigt_1amplitude)  =  0.181 \n",
      "    C(voigt_1amplitude, voigt_1sigma)  = -0.144 \n",
      "[[Model]]\n",
      "    Model(voigt, prefix='voigt_2')\n",
      "[[Fit Statistics]]\n",
      "    # function evals   = 263\n",
      "    # data points      = 22\n",
      "    # variables        = 4\n",
      "    chi-square         = 4583.868\n",
      "    reduced chi-square = 254.659\n",
      "[[Variables]]\n",
      "    voigt_2fwhm:        0.07889661 +/- 0.026267 (33.29%)  == '3.6013100*voigt_2sigma'\n",
      "    voigt_2gamma:       0.00681412 +/- 0.012652 (185.67%) (init= 1)\n",
      "    voigt_2sigma:       0.02190775 +/- 0.007293 (33.29%) (init= 0.0149357)\n",
      "    voigt_2amplitude:   2537.54302 +/- 408.1357 (16.08%) (init= 1946.006)\n",
      "    voigt_2center:      28.4360313 +/- 0.000713 (0.00%) (init= 28.43486)\n",
      "[[Correlations]] (unreported correlations are <  0.100)\n",
      "    C(voigt_2gamma, voigt_2sigma)  = -0.994 \n",
      "    C(voigt_2gamma, voigt_2amplitude)  =  0.989 \n",
      "    C(voigt_2sigma, voigt_2amplitude)  = -0.978 \n",
      "    C(voigt_2amplitude, voigt_2center)  =  0.180 \n",
      "    C(voigt_2gamma, voigt_2center)  =  0.175 \n",
      "    C(voigt_2sigma, voigt_2center)  = -0.163 \n",
      "[[Model]]\n",
      "    Model(voigt, prefix='voigt_3')\n",
      "[[Fit Statistics]]\n",
      "    # function evals   = 373\n",
      "    # data points      = 17\n",
      "    # variables        = 4\n",
      "    chi-square         = 2150.965\n",
      "    reduced chi-square = 165.459\n",
      "[[Variables]]\n",
      "    voigt_3fwhm:        0.05600207 +/- 0.037038 (66.14%)  == '3.6013100*voigt_3sigma'\n",
      "    voigt_3sigma:       0.01555047 +/- 0.010284 (66.14%) (init= 0.01222012)\n",
      "    voigt_3gamma:       0.01416908 +/- 0.015453 (109.06%) (init= 1)\n",
      "    voigt_3center:      28.5048871 +/- 0.000695 (0.00%) (init= 28.50588)\n",
      "    voigt_3amplitude:   2143.76765 +/- 487.4740 (22.74%) (init= 1136.358)\n",
      "[[Correlations]] (unreported correlations are <  0.100)\n",
      "    C(voigt_3sigma, voigt_3gamma)  = -0.995 \n",
      "    C(voigt_3gamma, voigt_3amplitude)  =  0.994 \n",
      "    C(voigt_3sigma, voigt_3amplitude)  = -0.985 \n"
     ]
    }
   ],
   "source": [
    "print(fit_1.fit_report())\n",
    "print(fit_2.fit_report())\n",
    "print(fit_3.fit_report())"
   ]
  },
  {
   "cell_type": "code",
   "execution_count": 24,
   "metadata": {
    "collapsed": false
   },
   "outputs": [],
   "source": [
    "plt.errorbar(data[0],data[1],np.sqrt(data[1]))\n",
    "plt.plot(data[0][peak_1_range],fit_1.best_fit)\n",
    "plt.plot(data[0][peak_2_range],fit_2.best_fit)\n",
    "plt.plot(data[0][peak_3_range],fit_3.best_fit)\n",
    "plt.show()"
   ]
  },
  {
   "cell_type": "code",
   "execution_count": 25,
   "metadata": {
    "collapsed": false
   },
   "outputs": [],
   "source": [
    "multivoigt = voigt_1 + voigt_2 + voigt_3"
   ]
  },
  {
   "cell_type": "code",
   "execution_count": 26,
   "metadata": {
    "collapsed": true
   },
   "outputs": [],
   "source": [
    "params = voigt_1.guess(data[1][peak_1_range],x=data[0][peak_1_range])"
   ]
  },
  {
   "cell_type": "code",
   "execution_count": 27,
   "metadata": {
    "collapsed": true
   },
   "outputs": [],
   "source": [
    "params.update(voigt_2.guess(data[1][peak_2_range],x=data[0][peak_2_range]))"
   ]
  },
  {
   "cell_type": "code",
   "execution_count": 28,
   "metadata": {
    "collapsed": true
   },
   "outputs": [],
   "source": [
    "params.update(voigt_3.guess(data[1][peak_3_range],x=data[0][peak_3_range]))"
   ]
  },
  {
   "cell_type": "code",
   "execution_count": 29,
   "metadata": {
    "collapsed": true
   },
   "outputs": [],
   "source": [
    "err = np.sqrt(data[1])\n",
    "err = np.where(err==0, 1, err)"
   ]
  },
  {
   "cell_type": "code",
   "execution_count": 30,
   "metadata": {
    "collapsed": false
   },
   "outputs": [],
   "source": [
    "fit_4 = multivoigt.fit(data[1],params,x=data[0],weights=1/err)"
   ]
  },
  {
   "cell_type": "code",
   "execution_count": 31,
   "metadata": {
    "collapsed": false
   },
   "outputs": [
    {
     "data": {
      "text/plain": [
       "{'voigt_1amplitude': 1219.3894590690606,\n",
       " 'voigt_1center': 25.646027872264597,\n",
       " 'voigt_1gamma': 0.012638462992402788,\n",
       " 'voigt_1sigma': 0.012638462992402788,\n",
       " 'voigt_2amplitude': 2734.0711585407471,\n",
       " 'voigt_2center': 28.4342210546973,\n",
       " 'voigt_2gamma': 0.016102623532585847,\n",
       " 'voigt_2sigma': 0.016102623532585847,\n",
       " 'voigt_3amplitude': 1575.2818517291007,\n",
       " 'voigt_3center': 28.508759553098955,\n",
       " 'voigt_3gamma': 0.011411860893227432,\n",
       " 'voigt_3sigma': 0.011411860893227432}"
      ]
     },
     "execution_count": 31,
     "metadata": {},
     "output_type": "execute_result"
    }
   ],
   "source": [
    "fit_4.best_values"
   ]
  },
  {
   "cell_type": "code",
   "execution_count": 32,
   "metadata": {
    "collapsed": false
   },
   "outputs": [
    {
     "name": "stdout",
     "output_type": "stream",
     "text": [
      "[[Model]]\n",
      "    ((Model(voigt, prefix='voigt_1') + Model(voigt, prefix='voigt_2')) + Model(voigt, prefix='voigt_3'))\n",
      "[[Fit Statistics]]\n",
      "    # function evals   = 51\n",
      "    # data points      = 27526\n",
      "    # variables        = 9\n",
      "    chi-square         = 901715.374\n",
      "    reduced chi-square = 32.769\n",
      "[[Variables]]\n",
      "    voigt_1center:      25.6460278 +/- 0.000269 (0.00%) (init= 25.64617)\n",
      "    voigt_1fwhm:        0.04551502 +/- 0.000576 (1.26%)  == '3.6013100*voigt_1sigma'\n",
      "    voigt_1gamma:       0.01263846 +/- 0.000159 (1.26%)  == 'voigt_1sigma'\n",
      "    voigt_1amplitude:   1219.38945 +/- 12.93579 (1.06%) (init= 1214.115)\n",
      "    voigt_1sigma:       0.01263846 +/- 0.000159 (1.26%) (init= 0.01357791)\n",
      "    voigt_2fwhm:        0.05799053 +/- 0.000689 (1.19%)  == '3.6013100*voigt_2sigma'\n",
      "    voigt_2gamma:       0.01610262 +/- 0.000191 (1.19%)  == 'voigt_2sigma'\n",
      "    voigt_2sigma:       0.01610262 +/- 0.000191 (1.19%) (init= 0.0149357)\n",
      "    voigt_2amplitude:   2734.07115 +/- 26.99991 (0.99%) (init= 1946.006)\n",
      "    voigt_2center:      28.4342210 +/- 0.000308 (0.00%) (init= 28.43486)\n",
      "    voigt_3fwhm:        0.04109764 +/- 0.000701 (1.71%)  == '3.6013100*voigt_3sigma'\n",
      "    voigt_3sigma:       0.01141186 +/- 0.000195 (1.71%) (init= 0.01222012)\n",
      "    voigt_3gamma:       0.01141186 +/- 0.000195 (1.71%)  == 'voigt_3sigma'\n",
      "    voigt_3center:      28.5087595 +/- 0.000309 (0.00%) (init= 28.50588)\n",
      "    voigt_3amplitude:   1575.28185 +/- 23.86569 (1.52%) (init= 1136.358)\n",
      "[[Correlations]] (unreported correlations are <  0.100)\n",
      "    C(voigt_2amplitude, voigt_3amplitude)  = -0.549 \n",
      "    C(voigt_3sigma, voigt_3amplitude)  =  0.547 \n",
      "    C(voigt_2sigma, voigt_3amplitude)  = -0.519 \n",
      "    C(voigt_2center, voigt_3amplitude)  = -0.493 \n",
      "    C(voigt_2amplitude, voigt_3sigma)  = -0.483 \n",
      "    C(voigt_2sigma, voigt_2amplitude)  =  0.460 \n",
      "    C(voigt_3center, voigt_3amplitude)  = -0.456 \n",
      "    C(voigt_2amplitude, voigt_2center)  =  0.436 \n",
      "    C(voigt_2sigma, voigt_2center)  =  0.435 \n",
      "    C(voigt_3sigma, voigt_3center)  = -0.426 \n",
      "    C(voigt_2center, voigt_3sigma)  = -0.415 \n",
      "    C(voigt_2sigma, voigt_3sigma)  = -0.414 \n",
      "    C(voigt_2amplitude, voigt_3center)  =  0.403 \n",
      "    C(voigt_2center, voigt_3center)  =  0.402 \n",
      "    C(voigt_2sigma, voigt_3center)  =  0.357 \n"
     ]
    }
   ],
   "source": [
    "print(fit_4.fit_report())"
   ]
  },
  {
   "cell_type": "code",
   "execution_count": 33,
   "metadata": {
    "collapsed": false
   },
   "outputs": [],
   "source": [
    "fit_4.plot()\n",
    "plt.legend(loc='best')\n",
    "plt.show()"
   ]
  },
  {
   "cell_type": "code",
   "execution_count": 34,
   "metadata": {
    "collapsed": false
   },
   "outputs": [],
   "source": [
    "plt.plot(data[0],fit_4.best_fit,'r',label='Multi-Voigt-Fit')\n",
    "plt.errorbar(data[0],data[1],np.sqrt(data[1]),label='Messdaten')\n",
    "plt.xlim([25,29])\n",
    "plt.xticks(fontsize=30)\n",
    "plt.yticks(fontsize=30)\n",
    "plt.legend(loc='best',fontsize=42)\n",
    "plt.show()"
   ]
  },
  {
   "cell_type": "markdown",
   "metadata": {},
   "source": [
    "# Pulverdiffraktometrie Auswertung"
   ]
  },
  {
   "cell_type": "code",
   "execution_count": 6,
   "metadata": {
    "collapsed": false
   },
   "outputs": [],
   "source": [
    "data_pulver = np.loadtxt(\"Pulver_Ni.xy\").T"
   ]
  },
  {
   "cell_type": "code",
   "execution_count": 7,
   "metadata": {
    "collapsed": false
   },
   "outputs": [
    {
     "data": {
      "text/plain": [
       "array([[  10.00417782,   10.01253345,   10.02088909, ...,  142.58303095,\n",
       "         142.59138659,  142.59974222],\n",
       "       [   9.        ,   17.        ,   16.        , ...,    1.        ,\n",
       "           1.        ,    0.        ]])"
      ]
     },
     "execution_count": 7,
     "metadata": {},
     "output_type": "execute_result"
    }
   ],
   "source": [
    "data_pulver"
   ]
  },
  {
   "cell_type": "code",
   "execution_count": 8,
   "metadata": {
    "collapsed": false
   },
   "outputs": [
    {
     "data": {
      "text/plain": [
       "15870"
      ]
     },
     "execution_count": 8,
     "metadata": {},
     "output_type": "execute_result"
    }
   ],
   "source": [
    "len(data_pulver[0])"
   ]
  },
  {
   "cell_type": "code",
   "execution_count": 9,
   "metadata": {
    "collapsed": false
   },
   "outputs": [
    {
     "data": {
      "text/plain": [
       "15870"
      ]
     },
     "execution_count": 9,
     "metadata": {},
     "output_type": "execute_result"
    }
   ],
   "source": [
    "len(data_pulver[1])"
   ]
  },
  {
   "cell_type": "code",
   "execution_count": 10,
   "metadata": {
    "collapsed": false
   },
   "outputs": [],
   "source": [
    "plt.plot(data_pulver[0],data_pulver[1], '.')\n",
    "plt.show()"
   ]
  },
  {
   "cell_type": "code",
   "execution_count": 11,
   "metadata": {
    "collapsed": true
   },
   "outputs": [],
   "source": [
    "voigt_peak_1 = models.VoigtModel(prefix='voigt_peak_1')\n",
    "voigt_peak_2 = models.VoigtModel(prefix='voigt_peak_2')\n",
    "voigt_peak_3 = models.VoigtModel(prefix='voigt_peak_3')\n",
    "voigt_peak_4 = models.VoigtModel(prefix='voigt_peak_4')\n",
    "voigt_peak_5 = models.VoigtModel(prefix='voigt_peak_5')\n",
    "voigt_peak_6 = models.VoigtModel(prefix='voigt_peak_6')\n",
    "voigt_peak_7 = models.VoigtModel(prefix='voigt_peak_7')\n",
    "voigt_peak_8 = models.VoigtModel(prefix='voigt_peak_8')\n",
    "voigt_peak_9 = models.VoigtModel(prefix='voigt_peak_9')\n",
    "voigt_peak_10 = models.VoigtModel(prefix='voigt_peak_10')\n",
    "voigt_peak_11 = models.VoigtModel(prefix='voigt_peak_11')\n",
    "voigt_peak_12 = models.VoigtModel(prefix='voigt_peak_12')\n",
    "voigt_peak_13 = models.VoigtModel(prefix='voigt_peak_13')\n",
    "voigt_peak_14 = models.VoigtModel(prefix='voigt_peak_14')\n",
    "voigt_peak_15 = models.VoigtModel(prefix='voigt_peak_15')\n",
    "voigt_peak_16 = models.VoigtModel(prefix='voigt_peak_16')\n",
    "voigt_peak_17 = models.VoigtModel(prefix='voigt_peak_17')\n",
    "voigt_peak_18 = models.VoigtModel(prefix='voigt_peak_18')\n",
    "voigt_peak_19 = models.VoigtModel(prefix='voigt_peak_19')\n",
    "voigt_peak_20 = models.VoigtModel(prefix='voigt_peak_20')\n",
    "voigt_peak_21 = models.VoigtModel(prefix='voigt_peak_21')\n",
    "voigt_peak_22 = models.VoigtModel(prefix='voigt_peak_22')"
   ]
  },
  {
   "cell_type": "code",
   "execution_count": 12,
   "metadata": {
    "collapsed": false
   },
   "outputs": [],
   "source": [
    "peak_1_range_pulver = np.arange(np.where( 28.24 < data_pulver[0])[0][0],np.where( data_pulver[0] > 28.32)[0][0])\n",
    "peak_2_range_pulver = np.arange(np.where( 28.335 < data_pulver[0])[0][0],np.where( data_pulver[0] > 28.4)[0][0])\n",
    "peak_3_range_pulver = np.arange(np.where( 47.1 < data_pulver[0])[0][0],np.where( data_pulver[0] > 47.19)[0][0])\n",
    "peak_4_range_pulver = np.arange(np.where( 47.24 < data_pulver[0])[0][0],np.where( data_pulver[0] > 47.31)[0][0])\n",
    "peak_5_range_pulver = np.arange(np.where( 55.9 < data_pulver[0])[0][0],np.where( data_pulver[0] > 56.02)[0][0])\n",
    "peak_6_range_pulver = np.arange(np.where( 56.06 < data_pulver[0])[0][0],np.where( data_pulver[0] > 56.17)[0][0])\n",
    "peak_7_range_pulver = np.arange(np.where( 68.84 < data_pulver[0])[0][0],np.where( data_pulver[0] > 69.02)[0][0])\n",
    "peak_8_range_pulver = np.arange(np.where( 69.12 < data_pulver[0])[0][0],np.where( data_pulver[0] > 69.22)[0][0])\n",
    "peak_9_range_pulver = np.arange(np.where( 76.18 < data_pulver[0])[0][0],np.where( data_pulver[0] > 76.28)[0][0])\n",
    "peak_10_range_pulver = np.arange(np.where( 76.38 < data_pulver[0])[0][0],np.where( data_pulver[0] > 76.52)[0][0])\n",
    "peak_11_range_pulver = np.arange(np.where( 87.8 < data_pulver[0])[0][0],np.where( data_pulver[0] > 87.94)[0][0])\n",
    "peak_12_range_pulver = np.arange(np.where( 88.08 < data_pulver[0])[0][0],np.where( data_pulver[0] > 88.22)[0][0])\n",
    "peak_13_range_pulver = np.arange(np.where( 94.7 < data_pulver[0])[0][0],np.where( data_pulver[0] > 94.9)[0][0])\n",
    "peak_14_range_pulver = np.arange(np.where( 95.04 < data_pulver[0])[0][0],np.where( data_pulver[0] > 95.18)[0][0])\n",
    "peak_15_range_pulver = np.arange(np.where( 106.4 < data_pulver[0])[0][0],np.where( data_pulver[0] > 106.7)[0][0])\n",
    "peak_16_range_pulver = np.arange(np.where( 106.86 < data_pulver[0])[0][0],np.where( data_pulver[0] > 107.04)[0][0])\n",
    "peak_17_range_pulver = np.arange(np.where( 113.82 < data_pulver[0])[0][0],np.where( data_pulver[0] > 114.05)[0][0])\n",
    "peak_18_range_pulver = np.arange(np.where( 114.3 < data_pulver[0])[0][0],np.where( data_pulver[0] > 114.48)[0][0])\n",
    "peak_19_range_pulver = np.arange(np.where( 127.03 < data_pulver[0])[0][0],np.where( data_pulver[0] > 127.54)[0][0])\n",
    "peak_20_range_pulver = np.arange(np.where( 127.9 < data_pulver[0])[0][0],np.where( data_pulver[0] > 128.08)[0][0])\n",
    "peak_21_range_pulver = np.arange(np.where( 136.65 < data_pulver[0])[0][0],np.where( data_pulver[0] > 136.85)[0][0])\n",
    "peak_22_range_pulver = np.arange(np.where( 137.35 < data_pulver[0])[0][0],np.where( data_pulver[0] > 137.65)[0][0])"
   ]
  },
  {
   "cell_type": "code",
   "execution_count": 13,
   "metadata": {
    "collapsed": false
   },
   "outputs": [],
   "source": [
    "params_peak_1 = voigt_peak_1.guess(data_pulver[1][peak_1_range_pulver],x=data_pulver[0][peak_1_range_pulver])\n",
    "params_peak_2 = voigt_peak_2.guess(data_pulver[1][peak_2_range_pulver],x=data_pulver[0][peak_2_range_pulver])\n",
    "params_peak_3 = voigt_peak_3.guess(data_pulver[1][peak_3_range_pulver],x=data_pulver[0][peak_3_range_pulver])\n",
    "params_peak_4 = voigt_peak_4.guess(data_pulver[1][peak_4_range_pulver],x=data_pulver[0][peak_4_range_pulver])\n",
    "params_peak_5 = voigt_peak_5.guess(data_pulver[1][peak_5_range_pulver],x=data_pulver[0][peak_5_range_pulver])\n",
    "params_peak_6 = voigt_peak_6.guess(data_pulver[1][peak_6_range_pulver],x=data_pulver[0][peak_6_range_pulver])\n",
    "params_peak_7 = voigt_peak_7.guess(data_pulver[1][peak_7_range_pulver],x=data_pulver[0][peak_7_range_pulver])\n",
    "params_peak_8 = voigt_peak_8.guess(data_pulver[1][peak_8_range_pulver],x=data_pulver[0][peak_8_range_pulver])\n",
    "params_peak_9 = voigt_peak_9.guess(data_pulver[1][peak_9_range_pulver],x=data_pulver[0][peak_9_range_pulver])\n",
    "params_peak_10 = voigt_peak_10.guess(data_pulver[1][peak_10_range_pulver],x=data_pulver[0][peak_10_range_pulver])\n",
    "params_peak_11 = voigt_peak_11.guess(data_pulver[1][peak_11_range_pulver],x=data_pulver[0][peak_11_range_pulver])\n",
    "params_peak_12 = voigt_peak_12.guess(data_pulver[1][peak_12_range_pulver],x=data_pulver[0][peak_12_range_pulver])\n",
    "params_peak_13 = voigt_peak_13.guess(data_pulver[1][peak_13_range_pulver],x=data_pulver[0][peak_13_range_pulver])\n",
    "params_peak_14 = voigt_peak_14.guess(data_pulver[1][peak_14_range_pulver],x=data_pulver[0][peak_14_range_pulver])\n",
    "params_peak_15 = voigt_peak_15.guess(data_pulver[1][peak_15_range_pulver],x=data_pulver[0][peak_15_range_pulver])\n",
    "params_peak_16 = voigt_peak_16.guess(data_pulver[1][peak_16_range_pulver],x=data_pulver[0][peak_16_range_pulver])\n",
    "params_peak_17 = voigt_peak_17.guess(data_pulver[1][peak_17_range_pulver],x=data_pulver[0][peak_17_range_pulver])\n",
    "params_peak_18 = voigt_peak_18.guess(data_pulver[1][peak_18_range_pulver],x=data_pulver[0][peak_18_range_pulver])\n",
    "params_peak_19 = voigt_peak_19.guess(data_pulver[1][peak_19_range_pulver],x=data_pulver[0][peak_19_range_pulver])\n",
    "params_peak_20 = voigt_peak_20.guess(data_pulver[1][peak_20_range_pulver],x=data_pulver[0][peak_20_range_pulver])\n",
    "params_peak_21 = voigt_peak_21.guess(data_pulver[1][peak_21_range_pulver],x=data_pulver[0][peak_21_range_pulver])\n",
    "params_peak_22 = voigt_peak_22.guess(data_pulver[1][peak_22_range_pulver],x=data_pulver[0][peak_22_range_pulver])"
   ]
  },
  {
   "cell_type": "code",
   "execution_count": 14,
   "metadata": {
    "collapsed": false
   },
   "outputs": [],
   "source": [
    "multi_voigt_pulver = voigt_peak_1 + voigt_peak_2 + voigt_peak_3 + voigt_peak_4 + voigt_peak_5 + voigt_peak_6 + voigt_peak_7 + voigt_peak_8 + voigt_peak_9 + voigt_peak_10 + voigt_peak_11 + voigt_peak_12 + voigt_peak_13 + voigt_peak_14 + voigt_peak_15 + voigt_peak_16 + voigt_peak_17 + voigt_peak_18 + voigt_peak_19 + voigt_peak_20 + voigt_peak_21 + voigt_peak_22\n",
    "params_multivoigt_pulver = multi_voigt_pulver.make_params()\n",
    "params_multivoigt_pulver.update(params_peak_1)\n",
    "params_multivoigt_pulver.update(params_peak_2)\n",
    "params_multivoigt_pulver.update(params_peak_3)\n",
    "params_multivoigt_pulver.update(params_peak_4)\n",
    "params_multivoigt_pulver.update(params_peak_5)\n",
    "params_multivoigt_pulver.update(params_peak_6)\n",
    "params_multivoigt_pulver.update(params_peak_7)\n",
    "params_multivoigt_pulver.update(params_peak_8)\n",
    "params_multivoigt_pulver.update(params_peak_9)\n",
    "params_multivoigt_pulver.update(params_peak_10)\n",
    "params_multivoigt_pulver.update(params_peak_11)\n",
    "params_multivoigt_pulver.update(params_peak_12)\n",
    "params_multivoigt_pulver.update(params_peak_13)\n",
    "params_multivoigt_pulver.update(params_peak_14)\n",
    "params_multivoigt_pulver.update(params_peak_15)\n",
    "params_multivoigt_pulver.update(params_peak_16)\n",
    "params_multivoigt_pulver.update(params_peak_17)\n",
    "params_multivoigt_pulver.update(params_peak_18)\n",
    "params_multivoigt_pulver.update(params_peak_19)\n",
    "params_multivoigt_pulver.update(params_peak_20)\n",
    "params_multivoigt_pulver.update(params_peak_21)\n",
    "params_multivoigt_pulver.update(params_peak_22)"
   ]
  },
  {
   "cell_type": "code",
   "execution_count": 15,
   "metadata": {
    "collapsed": false
   },
   "outputs": [
    {
     "name": "stdout",
     "output_type": "stream",
     "text": [
      "[[Model]]\n",
      "    (((((((((((((((((((((Model(voigt, prefix='voigt_peak_1') + Model(voigt, prefix='voigt_peak_2')) + Model(voigt, prefix='voigt_peak_3')) + Model(voigt, prefix='voigt_peak_4')) + Model(voigt, prefix='voigt_peak_5')) + Model(voigt, prefix='voigt_peak_6')) + Model(voigt, prefix='voigt_peak_7')) + Model(voigt, prefix='voigt_peak_8')) + Model(voigt, prefix='voigt_peak_9')) + Model(voigt, prefix='voigt_peak_10')) + Model(voigt, prefix='voigt_peak_11')) + Model(voigt, prefix='voigt_peak_12')) + Model(voigt, prefix='voigt_peak_13')) + Model(voigt, prefix='voigt_peak_14')) + Model(voigt, prefix='voigt_peak_15')) + Model(voigt, prefix='voigt_peak_16')) + Model(voigt, prefix='voigt_peak_17')) + Model(voigt, prefix='voigt_peak_18')) + Model(voigt, prefix='voigt_peak_19')) + Model(voigt, prefix='voigt_peak_20')) + Model(voigt, prefix='voigt_peak_21')) + Model(voigt, prefix='voigt_peak_22'))\n",
      "[[Fit Statistics]]\n",
      "    # function evals   = 604\n",
      "    # data points      = 15870\n",
      "    # variables        = 66\n",
      "    chi-square         = 393318.270\n",
      "    reduced chi-square = 24.887\n",
      "[[Variables]]\n",
      "    voigt_peak_4gamma:        0.01559452 +/- 0.000228 (1.46%)  == 'voigt_peak_4sigma'\n",
      "    voigt_peak_13gamma:       0.02253942 +/- 0.000989 (4.39%)  == 'voigt_peak_13sigma'\n",
      "    voigt_peak_16fwhm:        0.12213394 +/- 0.013500 (11.05%)  == '3.6013100*voigt_peak_16sigma'\n",
      "    voigt_peak_13sigma:       0.02253942 +/- 0.000989 (4.39%) (init= 0.02172465)\n",
      "    voigt_peak_1fwhm:         0.06438118 +/- 0.000249 (0.39%)  == '3.6013100*voigt_peak_1sigma'\n",
      "    voigt_peak_7amplitude:    3.63537083 +/- 0.275068 (7.57%) (init= 2.707226)\n",
      "    voigt_peak_1sigma:        0.01787715 +/- 6.92e-05 (0.39%) (init= 0.01086232)\n",
      "    voigt_peak_4fwhm:         0.05616070 +/- 0.000821 (1.46%)  == '3.6013100*voigt_peak_4sigma'\n",
      "    voigt_peak_14gamma:       0.03274764 +/- 0.003289 (10.05%)  == 'voigt_peak_14sigma'\n",
      "    voigt_peak_9gamma:        0.02115883 +/- 0.000773 (3.65%)  == 'voigt_peak_9sigma'\n",
      "    voigt_peak_1center:       28.2848036 +/- 8.71e-05 (0.00%) (init= 28.28631)\n",
      "    voigt_peak_1gamma:        0.01787715 +/- 6.92e-05 (0.39%)  == 'voigt_peak_1sigma'\n",
      "    voigt_peak_17sigma:       0.03092927 +/- 0.001191 (3.85%) (init= 0.02987139)\n",
      "    voigt_peak_3center:       47.1453780 +/- 0.000162 (0.00%) (init= 47.14497)\n",
      "    voigt_peak_6sigma:        0.01756559 +/- 0.000586 (3.34%) (init= 0.01357791)\n",
      "    voigt_peak_21center:      136.766786 +/- 0.003912 (0.00%) (init= 136.7612)\n",
      "    voigt_peak_12center:      88.1549643 +/- 0.002023 (0.00%) (init= 88.15861)\n",
      "    voigt_peak_19amplitude:   10.1867580 +/- 0.337228 (3.31%) (init= 10.6785)\n",
      "    voigt_peak_21fwhm:        0.17760000 +/- 0.010325 (5.81%)  == '3.6013100*voigt_peak_21sigma'\n",
      "    voigt_peak_14amplitude:   4.08985520 +/- 0.316319 (7.73%) (init= 2.807493)\n",
      "    voigt_peak_10gamma:       0.01937054 +/- 0.001407 (7.27%)  == 'voigt_peak_10sigma'\n",
      "    voigt_peak_13amplitude:   7.75737341 +/- 0.262654 (3.39%) (init= 6.818198)\n",
      "    voigt_peak_19gamma:       0.03779178 +/- 0.001626 (4.31%)  == 'voigt_peak_19sigma'\n",
      "    voigt_peak_12fwhm:        0.08656211 +/- 0.005339 (6.17%)  == '3.6013100*voigt_peak_12sigma'\n",
      "    voigt_peak_17gamma:       0.03092927 +/- 0.001191 (3.85%)  == 'voigt_peak_17sigma'\n",
      "    voigt_peak_6gamma:        0.01756559 +/- 0.000586 (3.34%)  == 'voigt_peak_6sigma'\n",
      "    voigt_peak_17center:      113.948436 +/- 0.001628 (0.00%) (init= 113.9424)\n",
      "    voigt_peak_22fwhm:        0.29258467 +/- 0.031677 (10.83%)  == '3.6013100*voigt_peak_22sigma'\n",
      "    voigt_peak_14sigma:       0.03274764 +/- 0.003289 (10.05%) (init= 0.02172465)\n",
      "    voigt_peak_5gamma:        0.01909688 +/- 0.000303 (1.59%)  == 'voigt_peak_5sigma'\n",
      "    voigt_peak_14fwhm:        0.11793442 +/- 0.011846 (10.05%)  == '3.6013100*voigt_peak_14sigma'\n",
      "    voigt_peak_18center:      114.386994 +/- 0.003984 (0.00%) (init= 114.397)\n",
      "    voigt_peak_9center:       76.2234435 +/- 0.001054 (0.00%) (init= 76.2184)\n",
      "    voigt_peak_16sigma:       0.03391375 +/- 0.003748 (11.05%) (init= 0.02444023)\n",
      "    voigt_peak_4amplitude:    19.9502494 +/- 0.227096 (1.14%) (init= 8.46008)\n",
      "    voigt_peak_9sigma:        0.02115883 +/- 0.000773 (3.65%) (init= 0.01357791)\n",
      "    voigt_peak_17fwhm:        0.11138590 +/- 0.004292 (3.85%)  == '3.6013100*voigt_peak_17sigma'\n",
      "    voigt_peak_1amplitude:    97.1680367 +/- 0.310309 (0.32%) (init= 41.61106)\n",
      "    voigt_peak_10center:      76.4538746 +/- 0.001920 (0.00%) (init= 76.45027)\n",
      "    voigt_peak_9fwhm:         0.07619954 +/- 0.002784 (3.65%)  == '3.6013100*voigt_peak_9sigma'\n",
      "    voigt_peak_15gamma:       0.02773459 +/- 0.001549 (5.59%)  == 'voigt_peak_15sigma'\n",
      "    voigt_peak_19center:      127.407431 +/- 0.002229 (0.00%) (init= 127.41)\n",
      "    voigt_peak_8sigma:        0.02670094 +/- 0.004811 (18.02%) (init= 0.01086232)\n",
      "    voigt_peak_7gamma:        0.02278509 +/- 0.002208 (9.69%)  == 'voigt_peak_7sigma'\n",
      "    voigt_peak_7center:       68.9691511 +/- 0.002945 (0.00%) (init= 68.96989)\n",
      "    voigt_peak_2fwhm:         0.04159856 +/- 0.000452 (1.09%)  == '3.6013100*voigt_peak_2sigma'\n",
      "    voigt_peak_5amplitude:    20.1768442 +/- 0.248658 (1.23%) (init= 15.11534)\n",
      "    voigt_peak_8amplitude:    2.12105986 +/- 0.297146 (14.01%) (init= 0.9525423)\n",
      "    voigt_peak_6center:       56.1153117 +/- 0.000786 (0.00%) (init= 56.11475)\n",
      "    voigt_peak_21gamma:       0.04931538 +/- 0.002867 (5.81%)  == 'voigt_peak_21sigma'\n",
      "    voigt_peak_2gamma:        0.01155095 +/- 0.000126 (1.09%)  == 'voigt_peak_2sigma'\n",
      "    voigt_peak_16gamma:       0.03391375 +/- 0.003748 (11.05%)  == 'voigt_peak_16sigma'\n",
      "    voigt_peak_2amplitude:    26.8531005 +/- 0.258485 (0.96%) (init= 25.63091)\n",
      "    voigt_peak_11amplitude:   11.2004105 +/- 0.270102 (2.41%) (init= 4.712578)\n",
      "    voigt_peak_16center:      106.948315 +/- 0.005121 (0.00%) (init= 106.9451)\n",
      "    voigt_peak_13center:      94.8024215 +/- 0.001348 (0.00%) (init= 94.80551)\n",
      "    voigt_peak_19fwhm:        0.13609994 +/- 0.005859 (4.31%)  == '3.6013100*voigt_peak_19sigma'\n",
      "    voigt_peak_6amplitude:    9.20589815 +/- 0.238679 (2.59%) (init= 6.266726)\n",
      "    voigt_peak_21amplitude:   8.65558279 +/- 0.388144 (4.48%) (init= 4.888046)\n",
      "    voigt_peak_22gamma:       0.08124395 +/- 0.008796 (10.83%)  == 'voigt_peak_22sigma'\n",
      "    voigt_peak_4center:       47.2706968 +/- 0.000304 (0.00%) (init= 47.26613)\n",
      "    voigt_peak_20center:      127.985415 +/- 0.004138 (0.00%) (init= 127.9857)\n",
      "    voigt_peak_20gamma:       0.03819886 +/- 0.003022 (7.91%)  == 'voigt_peak_20sigma'\n",
      "    voigt_peak_8gamma:        0.02670094 +/- 0.004811 (18.02%)  == 'voigt_peak_8sigma'\n",
      "    voigt_peak_4sigma:        0.01559452 +/- 0.000228 (1.46%) (init= 0.008146744)\n",
      "    voigt_peak_20fwhm:        0.13756596 +/- 0.010884 (7.91%)  == '3.6013100*voigt_peak_20sigma'\n",
      "    voigt_peak_2center:       28.3616488 +/- 0.000158 (0.00%) (init= 28.35733)\n",
      "    voigt_peak_3fwhm:         0.05756891 +/- 0.000437 (0.76%)  == '3.6013100*voigt_peak_3sigma'\n",
      "    voigt_peak_11sigma:       0.02395286 +/- 0.000749 (3.13%) (init= 0.01086232)\n",
      "    voigt_peak_15fwhm:        0.09988085 +/- 0.005578 (5.59%)  == '3.6013100*voigt_peak_15sigma'\n",
      "    voigt_peak_20amplitude:   5.56928795 +/- 0.338834 (6.08%) (init= 2.055486)\n",
      "    voigt_peak_3sigma:        0.01598554 +/- 0.000121 (0.76%) (init= 0.01086232)\n",
      "    voigt_peak_10sigma:       0.01937054 +/- 0.001407 (7.27%) (init= 0.01086232)\n",
      "    voigt_peak_22center:      137.505302 +/- 0.011984 (0.01%) (init= 137.4819)\n",
      "    voigt_peak_15amplitude:   6.74445117 +/- 0.290080 (4.30%) (init= 6.016057)\n",
      "    voigt_peak_10amplitude:   4.34195447 +/- 0.243216 (5.60%) (init= 2.356289)\n",
      "    voigt_peak_8center:       69.1643575 +/- 0.006409 (0.01%) (init= 69.16416)\n",
      "    voigt_peak_11gamma:       0.02395286 +/- 0.000749 (3.13%)  == 'voigt_peak_11sigma'\n",
      "    voigt_peak_15sigma:       0.02773459 +/- 0.001549 (5.59%) (init= 0.02172465)\n",
      "    voigt_peak_3amplitude:    38.8628349 +/- 0.229852 (0.59%) (init= 21.30687)\n",
      "    voigt_peak_5sigma:        0.01909688 +/- 0.000303 (1.59%) (init= 0.01629349)\n",
      "    voigt_peak_14center:      95.1095785 +/- 0.004481 (0.00%) (init= 95.11467)\n",
      "    voigt_peak_22amplitude:   5.96868111 +/- 0.497354 (8.33%) (init= 4.21124)\n",
      "    voigt_peak_7fwhm:         0.08205620 +/- 0.007953 (9.69%)  == '3.6013100*voigt_peak_7sigma'\n",
      "    voigt_peak_20sigma:       0.03819886 +/- 0.003022 (7.91%) (init= 0.01086232)\n",
      "    voigt_peak_5fwhm:         0.06877380 +/- 0.001092 (1.59%)  == '3.6013100*voigt_peak_5sigma'\n",
      "    voigt_peak_10fwhm:        0.06975932 +/- 0.005070 (7.27%)  == '3.6013100*voigt_peak_10sigma'\n",
      "    voigt_peak_19sigma:       0.03779178 +/- 0.001626 (4.31%) (init= 0.03258697)\n",
      "    voigt_peak_11center:      87.8738036 +/- 0.001023 (0.00%) (init= 87.87242)\n",
      "    voigt_peak_5center:       55.9624714 +/- 0.000406 (0.00%) (init= 55.96017)\n",
      "    voigt_peak_22sigma:       0.08124395 +/- 0.008796 (10.83%) (init= 0.03801814)\n",
      "    voigt_peak_21sigma:       0.04931538 +/- 0.002867 (5.81%) (init= 0.02715581)\n",
      "    voigt_peak_3gamma:        0.01598554 +/- 0.000121 (0.76%)  == 'voigt_peak_3sigma'\n",
      "    voigt_peak_8fwhm:         0.09615838 +/- 0.017326 (18.02%)  == '3.6013100*voigt_peak_8sigma'\n",
      "    voigt_peak_11fwhm:        0.08626169 +/- 0.002700 (3.13%)  == '3.6013100*voigt_peak_11sigma'\n",
      "    voigt_peak_2sigma:        0.01155095 +/- 0.000126 (1.09%) (init= 0.01357791)\n",
      "    voigt_peak_9amplitude:    9.02973382 +/- 0.254147 (2.81%) (init= 4.637377)\n",
      "    voigt_peak_7sigma:        0.02278509 +/- 0.002208 (9.69%) (init= 0.01629349)\n",
      "    voigt_peak_13fwhm:        0.08117144 +/- 0.003562 (4.39%)  == '3.6013100*voigt_peak_13sigma'\n",
      "    voigt_peak_6fwhm:         0.06325916 +/- 0.002109 (3.34%)  == '3.6013100*voigt_peak_6sigma'\n",
      "    voigt_peak_17amplitude:   10.3250943 +/- 0.306502 (2.97%) (init= 10.89157)\n",
      "    voigt_peak_12gamma:       0.02403628 +/- 0.001482 (6.17%)  == 'voigt_peak_12sigma'\n",
      "    voigt_peak_12amplitude:   5.69437899 +/- 0.270570 (4.75%) (init= 2.632025)\n",
      "    voigt_peak_12sigma:       0.02403628 +/- 0.001482 (6.17%) (init= 0.01357791)\n",
      "    voigt_peak_18amplitude:   6.41305880 +/- 0.352213 (5.49%) (init= 4.010705)\n",
      "    voigt_peak_16amplitude:   3.76986871 +/- 0.320681 (8.51%) (init= 2.820027)\n",
      "    voigt_peak_15center:      106.565090 +/- 0.002117 (0.00%) (init= 106.565)\n",
      "    voigt_peak_18fwhm:        0.14720882 +/- 0.010505 (7.14%)  == '3.6013100*voigt_peak_18sigma'\n",
      "    voigt_peak_18sigma:       0.04087646 +/- 0.002917 (7.14%) (init= 0.02715581)\n",
      "    voigt_peak_18gamma:       0.04087646 +/- 0.002917 (7.14%)  == 'voigt_peak_18sigma'\n",
      "[[Correlations]] (unreported correlations are <  0.100)\n",
      "    C(voigt_peak_1sigma, voigt_peak_1amplitude)  =  0.786 \n",
      "    C(voigt_peak_2amplitude, voigt_peak_2sigma)  =  0.774 \n",
      "    C(voigt_peak_8sigma, voigt_peak_8amplitude)  =  0.679 \n",
      "    C(voigt_peak_7amplitude, voigt_peak_7sigma)  =  0.679 \n",
      "    C(voigt_peak_3sigma, voigt_peak_3amplitude)  =  0.679 \n",
      "    C(voigt_peak_4amplitude, voigt_peak_4sigma)  =  0.679 \n",
      "    C(voigt_peak_5amplitude, voigt_peak_5sigma)  =  0.673 \n",
      "    C(voigt_peak_6sigma, voigt_peak_6amplitude)  =  0.673 \n",
      "    C(voigt_peak_14amplitude, voigt_peak_14sigma)  =  0.657 \n",
      "    C(voigt_peak_13sigma, voigt_peak_13amplitude)  =  0.657 \n",
      "    C(voigt_peak_9sigma, voigt_peak_9amplitude)  =  0.657 \n",
      "    C(voigt_peak_22amplitude, voigt_peak_22sigma)  =  0.657 \n",
      "    C(voigt_peak_10sigma, voigt_peak_10amplitude)  =  0.657 \n",
      "    C(voigt_peak_21amplitude, voigt_peak_21sigma)  =  0.656 \n",
      "    C(voigt_peak_12amplitude, voigt_peak_12sigma)  =  0.656 \n",
      "    C(voigt_peak_11amplitude, voigt_peak_11sigma)  =  0.656 \n",
      "    C(voigt_peak_18amplitude, voigt_peak_18sigma)  =  0.655 \n",
      "    C(voigt_peak_17sigma, voigt_peak_17amplitude)  =  0.655 \n",
      "    C(voigt_peak_16sigma, voigt_peak_16amplitude)  =  0.655 \n",
      "    C(voigt_peak_15amplitude, voigt_peak_15sigma)  =  0.655 \n",
      "    C(voigt_peak_20amplitude, voigt_peak_20sigma)  =  0.653 \n",
      "    C(voigt_peak_19amplitude, voigt_peak_19sigma)  =  0.653 \n",
      "    C(voigt_peak_1amplitude, voigt_peak_2amplitude)  = -0.638 \n",
      "    C(voigt_peak_1sigma, voigt_peak_2amplitude)  = -0.571 \n",
      "    C(voigt_peak_1amplitude, voigt_peak_2sigma)  = -0.513 \n",
      "    C(voigt_peak_1center, voigt_peak_2amplitude)  = -0.451 \n",
      "    C(voigt_peak_1sigma, voigt_peak_2sigma)  = -0.420 \n",
      "    C(voigt_peak_1center, voigt_peak_2sigma)  = -0.378 \n",
      "    C(voigt_peak_1amplitude, voigt_peak_2center)  =  0.372 \n",
      "    C(voigt_peak_1sigma, voigt_peak_2center)  =  0.341 \n",
      "    C(voigt_peak_1center, voigt_peak_1amplitude)  =  0.323 \n",
      "    C(voigt_peak_1center, voigt_peak_2center)  =  0.305 \n",
      "    C(voigt_peak_2amplitude, voigt_peak_2center)  = -0.294 \n",
      "    C(voigt_peak_1sigma, voigt_peak_1center)  =  0.288 \n",
      "    C(voigt_peak_7amplitude, voigt_peak_8amplitude)  = -0.288 \n",
      "    C(voigt_peak_4amplitude, voigt_peak_3amplitude)  = -0.285 \n",
      "    C(voigt_peak_5amplitude, voigt_peak_6amplitude)  = -0.257 \n",
      "    C(voigt_peak_7amplitude, voigt_peak_8sigma)  = -0.254 \n",
      "    C(voigt_peak_4amplitude, voigt_peak_3sigma)  = -0.246 \n",
      "    C(voigt_peak_4sigma, voigt_peak_3amplitude)  = -0.245 \n",
      "    C(voigt_peak_8amplitude, voigt_peak_7sigma)  = -0.243 \n",
      "    C(voigt_peak_2center, voigt_peak_2sigma)  = -0.235 \n",
      "    C(voigt_peak_6amplitude, voigt_peak_5sigma)  = -0.224 \n",
      "    C(voigt_peak_6sigma, voigt_peak_5amplitude)  = -0.219 \n",
      "    C(voigt_peak_8sigma, voigt_peak_7sigma)  = -0.201 \n",
      "    C(voigt_peak_4sigma, voigt_peak_3sigma)  = -0.199 \n",
      "    C(voigt_peak_6sigma, voigt_peak_5sigma)  = -0.179 \n",
      "    C(voigt_peak_14amplitude, voigt_peak_13amplitude)  = -0.139 \n",
      "    C(voigt_peak_10amplitude, voigt_peak_9amplitude)  = -0.135 \n",
      "    C(voigt_peak_21amplitude, voigt_peak_22amplitude)  = -0.133 \n",
      "    C(voigt_peak_11amplitude, voigt_peak_12amplitude)  = -0.127 \n",
      "    C(voigt_peak_13amplitude, voigt_peak_14sigma)  = -0.125 \n",
      "    C(voigt_peak_21amplitude, voigt_peak_22sigma)  = -0.121 \n",
      "    C(voigt_peak_9sigma, voigt_peak_10amplitude)  = -0.117 \n",
      "    C(voigt_peak_17amplitude, voigt_peak_18amplitude)  = -0.115 \n",
      "    C(voigt_peak_10sigma, voigt_peak_9amplitude)  = -0.114 \n",
      "    C(voigt_peak_13sigma, voigt_peak_14amplitude)  = -0.114 \n",
      "    C(voigt_peak_7amplitude, voigt_peak_8center)  =  0.114 \n",
      "    C(voigt_peak_15amplitude, voigt_peak_16amplitude)  = -0.112 \n",
      "    C(voigt_peak_11amplitude, voigt_peak_12sigma)  = -0.109 \n",
      "    C(voigt_peak_11sigma, voigt_peak_12amplitude)  = -0.109 \n",
      "    C(voigt_peak_3center, voigt_peak_4amplitude)  = -0.108 \n",
      "    C(voigt_peak_22amplitude, voigt_peak_21sigma)  = -0.107 \n",
      "    C(voigt_peak_4center, voigt_peak_3amplitude)  =  0.106 \n",
      "    C(voigt_peak_7center, voigt_peak_8amplitude)  = -0.104 \n",
      "    C(voigt_peak_8center, voigt_peak_7sigma)  =  0.103 \n",
      "    C(voigt_peak_17amplitude, voigt_peak_18sigma)  = -0.102 \n"
     ]
    }
   ],
   "source": [
    "fit_multi_voigt_pulver = multi_voigt_pulver.fit(data_pulver[1],params_multivoigt_pulver,x=data_pulver[0])\n",
    "print(fit_multi_voigt_pulver.fit_report())"
   ]
  },
  {
   "cell_type": "code",
   "execution_count": 16,
   "metadata": {
    "collapsed": false
   },
   "outputs": [],
   "source": [
    "fit_multi_voigt_pulver.plot()\n",
    "plt.show()"
   ]
  },
  {
   "cell_type": "code",
   "execution_count": 17,
   "metadata": {
    "collapsed": true
   },
   "outputs": [],
   "source": [
    "plt.errorbar(data_pulver[0],data_pulver[1],np.sqrt(data_pulver[1]))\n",
    "plt.plot(np.arange(data_pulver[0][0], data_pulver[0][-1],0.001),fit_multi_voigt_pulver.eval(x=np.arange(data_pulver[0][0], data_pulver[0][-1],0.001)))\n",
    "plt.show()"
   ]
  },
  {
   "cell_type": "code",
   "execution_count": 18,
   "metadata": {
    "collapsed": false
   },
   "outputs": [],
   "source": [
    "Silicium_Simulation = np.loadtxt(\"Silicium.x_y\").T"
   ]
  },
  {
   "cell_type": "code",
   "execution_count": 19,
   "metadata": {
    "collapsed": false
   },
   "outputs": [
    {
     "data": {
      "text/plain": [
       "array([[  20.  ,   20.01,   20.02, ...,  119.98,  119.99,  120.  ],\n",
       "       [   0.  ,    0.  ,    0.  , ...,    0.  ,    0.  ,    0.  ]])"
      ]
     },
     "execution_count": 19,
     "metadata": {},
     "output_type": "execute_result"
    }
   ],
   "source": [
    "Silicium_Simulation"
   ]
  },
  {
   "cell_type": "code",
   "execution_count": 20,
   "metadata": {
    "collapsed": true
   },
   "outputs": [],
   "source": [
    "voigt_peak_1ss = models.VoigtModel(prefix='voigt_peak_1')\n",
    "voigt_peak_2ss = models.VoigtModel(prefix='voigt_peak_2')\n",
    "voigt_peak_3ss = models.VoigtModel(prefix='voigt_peak_3')\n",
    "voigt_peak_4ss = models.VoigtModel(prefix='voigt_peak_4')\n",
    "voigt_peak_5ss = models.VoigtModel(prefix='voigt_peak_5')\n",
    "voigt_peak_6ss = models.VoigtModel(prefix='voigt_peak_6')\n",
    "voigt_peak_7ss = models.VoigtModel(prefix='voigt_peak_7')\n",
    "voigt_peak_8ss = models.VoigtModel(prefix='voigt_peak_8')\n",
    "voigt_peak_9ss = models.VoigtModel(prefix='voigt_peak_9')\n",
    "voigt_peak_10ss = models.VoigtModel(prefix='voigt_peak_10')\n",
    "voigt_peak_11ss = models.VoigtModel(prefix='voigt_peak_11')\n",
    "voigt_peak_12ss = models.VoigtModel(prefix='voigt_peak_12')\n",
    "voigt_peak_13ss = models.VoigtModel(prefix='voigt_peak_13')\n",
    "voigt_peak_14ss = models.VoigtModel(prefix='voigt_peak_14')\n",
    "voigt_peak_15ss = models.VoigtModel(prefix='voigt_peak_15')\n",
    "voigt_peak_16ss = models.VoigtModel(prefix='voigt_peak_16')\n",
    "voigt_peak_17ss = models.VoigtModel(prefix='voigt_peak_17')\n",
    "voigt_peak_18ss = models.VoigtModel(prefix='voigt_peak_18')"
   ]
  },
  {
   "cell_type": "code",
   "execution_count": 21,
   "metadata": {
    "collapsed": true
   },
   "outputs": [],
   "source": [
    "plt.plot(Silicium_Simulation[0],Silicium_Simulation[1], '.')\n",
    "plt.show()"
   ]
  },
  {
   "cell_type": "code",
   "execution_count": 22,
   "metadata": {
    "collapsed": true
   },
   "outputs": [],
   "source": [
    "peak_1_range_pulverss = np.arange(np.where( 28.24+0.15 < Silicium_Simulation[0])[0][0],np.where( Silicium_Simulation[0] > 28.32+0.15)[0][0])\n",
    "peak_2_range_pulverss = np.arange(np.where( 28.335+0.15 < Silicium_Simulation[0])[0][0],np.where( Silicium_Simulation[0] > 28.4+0.15)[0][0])\n",
    "peak_3_range_pulverss = np.arange(np.where( 47.1+0.15 < Silicium_Simulation[0])[0][0],np.where( Silicium_Simulation[0] > 47.19+0.15)[0][0])\n",
    "peak_4_range_pulverss = np.arange(np.where( 47.24+0.15 < Silicium_Simulation[0])[0][0],np.where( Silicium_Simulation[0] > 47.31+0.15)[0][0])\n",
    "peak_5_range_pulverss = np.arange(np.where( 55.9+0.15 < Silicium_Simulation[0])[0][0],np.where( Silicium_Simulation[0] > 56.02+0.15)[0][0])\n",
    "peak_6_range_pulverss = np.arange(np.where( 56.06+0.15 < Silicium_Simulation[0])[0][0],np.where( Silicium_Simulation[0] > 56.17+0.15)[0][0])\n",
    "peak_7_range_pulverss = np.arange(np.where( 68.84+0.15 < Silicium_Simulation[0])[0][0],np.where( Silicium_Simulation[0] > 69.02+0.15)[0][0])\n",
    "peak_8_range_pulverss = np.arange(np.where( 69.12+0.15 < Silicium_Simulation[0])[0][0],np.where( Silicium_Simulation[0] > 69.22+0.15)[0][0])\n",
    "peak_9_range_pulverss = np.arange(np.where( 76.18+0.15 < Silicium_Simulation[0])[0][0],np.where( Silicium_Simulation[0] > 76.28+0.15)[0][0])\n",
    "peak_10_range_pulverss = np.arange(np.where( 76.38+0.15 < Silicium_Simulation[0])[0][0],np.where( Silicium_Simulation[0] > 76.52+0.15)[0][0])\n",
    "peak_11_range_pulverss = np.arange(np.where( 87.8+0.15 < Silicium_Simulation[0])[0][0],np.where( Silicium_Simulation[0] > 87.94+0.15)[0][0])\n",
    "peak_12_range_pulverss = np.arange(np.where( 88.08+0.15 < Silicium_Simulation[0])[0][0],np.where( Silicium_Simulation[0] > 88.22+0.15)[0][0])\n",
    "peak_13_range_pulverss = np.arange(np.where( 94.7+0.15 < Silicium_Simulation[0])[0][0],np.where( Silicium_Simulation[0] > 94.9+0.15)[0][0])\n",
    "peak_14_range_pulverss = np.arange(np.where( 95.04+0.15 < Silicium_Simulation[0])[0][0],np.where( Silicium_Simulation[0] > 95.18+0.15)[0][0])\n",
    "peak_15_range_pulverss = np.arange(np.where( 106.4+0.15 < Silicium_Simulation[0])[0][0],np.where( Silicium_Simulation[0] > 106.7+0.15)[0][0])\n",
    "peak_16_range_pulverss = np.arange(np.where( 106.86+0.15 < Silicium_Simulation[0])[0][0],np.where( Silicium_Simulation[0] > 107.04+0.15)[0][0])\n",
    "peak_17_range_pulverss = np.arange(np.where( 113.82+0.15 < Silicium_Simulation[0])[0][0],np.where( Silicium_Simulation[0] > 114.05+0.15)[0][0])\n",
    "peak_18_range_pulverss = np.arange(np.where( 114.3+0.15 < Silicium_Simulation[0])[0][0],np.where( Silicium_Simulation[0] > 114.48+0.15)[0][0])"
   ]
  },
  {
   "cell_type": "code",
   "execution_count": 23,
   "metadata": {
    "collapsed": false
   },
   "outputs": [],
   "source": [
    "params_peak_1ss = voigt_peak_1ss.guess(Silicium_Simulation[1][peak_1_range_pulverss],x=Silicium_Simulation[0][peak_1_range_pulverss])\n",
    "params_peak_2ss = voigt_peak_2ss.guess(Silicium_Simulation[1][peak_2_range_pulverss],x=Silicium_Simulation[0][peak_2_range_pulverss])\n",
    "params_peak_3ss = voigt_peak_3ss.guess(Silicium_Simulation[1][peak_3_range_pulverss],x=Silicium_Simulation[0][peak_3_range_pulverss])\n",
    "params_peak_4ss = voigt_peak_4ss.guess(Silicium_Simulation[1][peak_4_range_pulverss],x=Silicium_Simulation[0][peak_4_range_pulverss])\n",
    "params_peak_5ss = voigt_peak_5ss.guess(Silicium_Simulation[1][peak_5_range_pulverss],x=Silicium_Simulation[0][peak_5_range_pulverss])\n",
    "params_peak_6ss = voigt_peak_6ss.guess(Silicium_Simulation[1][peak_6_range_pulverss],x=Silicium_Simulation[0][peak_6_range_pulverss])\n",
    "params_peak_7ss = voigt_peak_7ss.guess(Silicium_Simulation[1][peak_7_range_pulverss],x=Silicium_Simulation[0][peak_7_range_pulverss])\n",
    "params_peak_8ss = voigt_peak_8ss.guess(Silicium_Simulation[1][peak_8_range_pulverss],x=Silicium_Simulation[0][peak_8_range_pulverss])\n",
    "params_peak_9ss = voigt_peak_9ss.guess(Silicium_Simulation[1][peak_9_range_pulverss],x=Silicium_Simulation[0][peak_9_range_pulverss])\n",
    "params_peak_10ss = voigt_peak_10ss.guess(Silicium_Simulation[1][peak_10_range_pulverss],x=Silicium_Simulation[0][peak_10_range_pulverss])\n",
    "params_peak_11ss = voigt_peak_11ss.guess(Silicium_Simulation[1][peak_11_range_pulverss],x=Silicium_Simulation[0][peak_11_range_pulverss])\n",
    "params_peak_12ss = voigt_peak_12ss.guess(Silicium_Simulation[1][peak_12_range_pulverss],x=Silicium_Simulation[0][peak_12_range_pulverss])\n",
    "params_peak_13ss = voigt_peak_13ss.guess(Silicium_Simulation[1][peak_13_range_pulverss],x=Silicium_Simulation[0][peak_13_range_pulverss])\n",
    "params_peak_14ss = voigt_peak_14ss.guess(Silicium_Simulation[1][peak_14_range_pulverss],x=Silicium_Simulation[0][peak_14_range_pulverss])\n",
    "params_peak_15ss = voigt_peak_15ss.guess(Silicium_Simulation[1][peak_15_range_pulverss],x=Silicium_Simulation[0][peak_15_range_pulverss])\n",
    "params_peak_16ss = voigt_peak_16ss.guess(Silicium_Simulation[1][peak_16_range_pulverss],x=Silicium_Simulation[0][peak_16_range_pulverss])\n",
    "params_peak_17ss = voigt_peak_17ss.guess(Silicium_Simulation[1][peak_17_range_pulverss],x=Silicium_Simulation[0][peak_17_range_pulverss])\n",
    "params_peak_18ss = voigt_peak_18ss.guess(Silicium_Simulation[1][peak_18_range_pulverss],x=Silicium_Simulation[0][peak_18_range_pulverss])"
   ]
  },
  {
   "cell_type": "code",
   "execution_count": 24,
   "metadata": {
    "collapsed": false
   },
   "outputs": [],
   "source": [
    "multi_voigt_pulverss = voigt_peak_1ss + voigt_peak_2ss + voigt_peak_3ss + voigt_peak_4ss + voigt_peak_5ss + voigt_peak_6ss + voigt_peak_7ss + voigt_peak_8ss + voigt_peak_9ss + voigt_peak_10ss + voigt_peak_11ss + voigt_peak_12ss + voigt_peak_13ss + voigt_peak_14ss + voigt_peak_15ss + voigt_peak_16ss + voigt_peak_17ss + voigt_peak_18ss \n",
    "params_multivoigt_pulverss = multi_voigt_pulverss.make_params()\n",
    "params_multivoigt_pulverss.update(params_peak_1ss)\n",
    "params_multivoigt_pulverss.update(params_peak_2ss)\n",
    "params_multivoigt_pulverss.update(params_peak_3ss)\n",
    "params_multivoigt_pulverss.update(params_peak_4ss)\n",
    "params_multivoigt_pulverss.update(params_peak_5ss)\n",
    "params_multivoigt_pulverss.update(params_peak_6ss)\n",
    "params_multivoigt_pulverss.update(params_peak_7ss)\n",
    "params_multivoigt_pulverss.update(params_peak_8ss)\n",
    "params_multivoigt_pulverss.update(params_peak_9ss)\n",
    "params_multivoigt_pulverss.update(params_peak_10ss)\n",
    "params_multivoigt_pulverss.update(params_peak_11ss)\n",
    "params_multivoigt_pulverss.update(params_peak_12ss)\n",
    "params_multivoigt_pulverss.update(params_peak_13ss)\n",
    "params_multivoigt_pulverss.update(params_peak_14ss)\n",
    "params_multivoigt_pulverss.update(params_peak_15ss)\n",
    "params_multivoigt_pulverss.update(params_peak_16ss)\n",
    "params_multivoigt_pulverss.update(params_peak_17ss)\n",
    "params_multivoigt_pulverss.update(params_peak_18ss)"
   ]
  },
  {
   "cell_type": "code",
   "execution_count": 25,
   "metadata": {
    "collapsed": false
   },
   "outputs": [
    {
     "name": "stdout",
     "output_type": "stream",
     "text": [
      "[[Model]]\n",
      "    (((((((((((((((((Model(voigt, prefix='voigt_peak_1') + Model(voigt, prefix='voigt_peak_2')) + Model(voigt, prefix='voigt_peak_3')) + Model(voigt, prefix='voigt_peak_4')) + Model(voigt, prefix='voigt_peak_5')) + Model(voigt, prefix='voigt_peak_6')) + Model(voigt, prefix='voigt_peak_7')) + Model(voigt, prefix='voigt_peak_8')) + Model(voigt, prefix='voigt_peak_9')) + Model(voigt, prefix='voigt_peak_10')) + Model(voigt, prefix='voigt_peak_11')) + Model(voigt, prefix='voigt_peak_12')) + Model(voigt, prefix='voigt_peak_13')) + Model(voigt, prefix='voigt_peak_14')) + Model(voigt, prefix='voigt_peak_15')) + Model(voigt, prefix='voigt_peak_16')) + Model(voigt, prefix='voigt_peak_17')) + Model(voigt, prefix='voigt_peak_18'))\n",
      "[[Fit Statistics]]\n",
      "    # function evals   = 2102\n",
      "    # data points      = 9983\n",
      "    # variables        = 54\n",
      "    chi-square         = 5649648.299\n",
      "    reduced chi-square = 569.005\n",
      "[[Variables]]\n",
      "    voigt_peak_4gamma:        0.01720498 +/- 0.006706 (38.98%)  == 'voigt_peak_4sigma'\n",
      "    voigt_peak_13gamma:       0.01688898 +/- 0.000213 (1.26%)  == 'voigt_peak_13sigma'\n",
      "    voigt_peak_16fwhm:        0.17336206 +/- 0.774852 (446.96%)  == '3.6013100*voigt_peak_16sigma'\n",
      "    voigt_peak_13sigma:       0.01688898 +/- 0.000213 (1.26%) (init= 0.0195)\n",
      "    voigt_peak_1fwhm:         0.06382720 +/- 0.000164 (0.26%)  == '3.6013100*voigt_peak_1sigma'\n",
      "    voigt_peak_7amplitude:    100.347840 +/- 1.249365 (1.25%) (init= 86.08988)\n",
      "    voigt_peak_1sigma:        0.01772333 +/- 4.56e-05 (0.26%) (init= 0.013)\n",
      "    voigt_peak_4fwhm:         0.06196047 +/- 0.024153 (38.98%)  == '3.6013100*voigt_peak_4sigma'\n",
      "    voigt_peak_14gamma:       0.01800639 +/- 0.044039 (244.58%)  == 'voigt_peak_14sigma'\n",
      "    voigt_peak_9gamma:        0.01688383 +/- 0.000177 (1.05%)  == 'voigt_peak_9sigma'\n",
      "    voigt_peak_1center:       28.4478407 +/- 6.53e-05 (0.00%) (init= 28.445)\n",
      "    voigt_peak_1gamma:        0.01772333 +/- 4.56e-05 (0.26%)  == 'voigt_peak_1sigma'\n",
      "    voigt_peak_17sigma:       0.01685889 +/- 0.000158 (0.94%) (init= 0.0195)\n",
      "    voigt_peak_3center:       47.3108742 +/- 5.68e-05 (0.00%) (init= 47.314)\n",
      "    voigt_peak_6sigma:        0.01596714 +/- 0.011938 (74.77%) (init= 0.0065)\n",
      "    voigt_peak_12center:      88.1929405 +/- 0.033424 (0.04%) (init= 88.253)\n",
      "    voigt_peak_14amplitude:   0.77930555 +/- 1.421491 (182.40%) (init= 0.6378)\n",
      "    voigt_peak_10gamma:       0.01760919 +/- 0.027870 (158.27%)  == 'voigt_peak_10sigma'\n",
      "    voigt_peak_13amplitude:   127.642480 +/- 1.269003 (0.99%) (init= 130.8432)\n",
      "    voigt_peak_12fwhm:        0.07717168 +/- 0.092267 (119.56%)  == '3.6013100*voigt_peak_12sigma'\n",
      "    voigt_peak_17gamma:       0.01685889 +/- 0.000158 (0.94%)  == 'voigt_peak_17sigma'\n",
      "    voigt_peak_6gamma:        0.01596714 +/- 0.011938 (74.77%)  == 'voigt_peak_6sigma'\n",
      "    voigt_peak_17center:      114.121970 +/- 0.000208 (0.00%) (init= 114.119)\n",
      "    voigt_peak_14sigma:       0.01800639 +/- 0.044039 (244.58%) (init= 0.013)\n",
      "    voigt_peak_5gamma:        0.01688120 +/- 7.15e-05 (0.42%)  == 'voigt_peak_5sigma'\n",
      "    voigt_peak_14fwhm:        0.06484662 +/- 0.158598 (244.58%)  == '3.6013100*voigt_peak_14sigma'\n",
      "    voigt_peak_18center:      114.278857 +/- 0.052138 (0.05%) (init= 114.525)\n",
      "    voigt_peak_9center:       76.3914326 +/- 0.000235 (0.00%) (init= 76.391)\n",
      "    voigt_peak_16sigma:       0.04813861 +/- 0.215158 (446.96%) (init= 0.01625)\n",
      "    voigt_peak_4amplitude:    4.15277741 +/- 1.265569 (30.48%) (init= 9.90615)\n",
      "    voigt_peak_9sigma:        0.01688383 +/- 0.000177 (1.05%) (init= 0.0195)\n",
      "    voigt_peak_17fwhm:        0.06071412 +/- 0.000568 (0.94%)  == '3.6013100*voigt_peak_17sigma'\n",
      "    voigt_peak_1amplitude:    980.187521 +/- 2.416707 (0.25%) (init= 550.2391)\n",
      "    voigt_peak_10center:      76.5221947 +/- 0.036961 (0.05%) (init= 76.547)\n",
      "    voigt_peak_9fwhm:         0.06080392 +/- 0.000639 (1.05%)  == '3.6013100*voigt_peak_9sigma'\n",
      "    voigt_peak_15gamma:       0.01689382 +/- 0.000318 (1.88%)  == 'voigt_peak_15sigma'\n",
      "    voigt_peak_8sigma:        0.02015524 +/- 0.053789 (266.88%) (init= 0.0065)\n",
      "    voigt_peak_7gamma:        0.01685095 +/- 0.000268 (1.59%)  == 'voigt_peak_7sigma'\n",
      "    voigt_peak_7center:       69.1443759 +/- 0.000356 (0.00%) (init= 69.143)\n",
      "    voigt_peak_2fwhm:         0.00536746 +/- 0.009287 (173.04%)  == '3.6013100*voigt_peak_2sigma'\n",
      "    voigt_peak_5amplitude:    375.766827 +/- 1.240269 (0.33%) (init= 365.4931)\n",
      "    voigt_peak_8amplitude:    0.65698983 +/- 1.370223 (208.56%) (init= 0.69849)\n",
      "    voigt_peak_6center:       56.2615314 +/- 0.015873 (0.03%) (init= 56.225)\n",
      "    voigt_peak_2gamma:        0.00149042 +/- 0.002579 (173.04%)  == 'voigt_peak_2sigma'\n",
      "    voigt_peak_16gamma:       0.04813861 +/- 0.215158 (446.96%)  == 'voigt_peak_16sigma'\n",
      "    voigt_peak_2amplitude:   -46.7896055 +/- 97.96025 (209.36%) (init= 40.69943)\n",
      "    voigt_peak_11amplitude:   217.551622 +/- 1.245100 (0.57%) (init= 217.9307)\n",
      "    voigt_peak_16center:      106.949758 +/- 0.281337 (0.26%) (init= 107.041)\n",
      "    voigt_peak_13center:      94.9746070 +/- 0.000281 (0.00%) (init= 94.975)\n",
      "    voigt_peak_6amplitude:    2.06695543 +/- 1.205540 (58.32%) (init= 8.28585)\n",
      "    voigt_peak_4center:       47.4384615 +/- 0.008873 (0.02%) (init= 47.399)\n",
      "    voigt_peak_8gamma:        0.02015524 +/- 0.053789 (266.88%)  == 'voigt_peak_8sigma'\n",
      "    voigt_peak_4sigma:        0.01720498 +/- 0.006706 (38.98%) (init= 0.0065)\n",
      "    voigt_peak_2center:       28.4893792 +/- 0.000289 (0.00%) (init= 28.495)\n",
      "    voigt_peak_3fwhm:         0.06076494 +/- 0.000154 (0.25%)  == '3.6013100*voigt_peak_3sigma'\n",
      "    voigt_peak_11sigma:       0.01687276 +/- 0.000123 (0.73%) (init= 0.0195)\n",
      "    voigt_peak_15fwhm:        0.06083991 +/- 0.001145 (1.88%)  == '3.6013100*voigt_peak_15sigma'\n",
      "    voigt_peak_3sigma:        0.01687301 +/- 4.29e-05 (0.25%) (init= 0.01625)\n",
      "    voigt_peak_10sigma:       0.01760919 +/- 0.027870 (158.27%) (init= 0.00975)\n",
      "    voigt_peak_15amplitude:   86.4150984 +/- 1.323140 (1.53%) (init= 90.51795)\n",
      "    voigt_peak_10amplitude:   1.03914731 +/- 1.285611 (123.72%) (init= 1.696455)\n",
      "    voigt_peak_8center:       69.2853836 +/- 0.071685 (0.10%) (init= 69.289)\n",
      "    voigt_peak_11gamma:       0.01687276 +/- 0.000123 (0.73%)  == 'voigt_peak_11sigma'\n",
      "    voigt_peak_15sigma:       0.01689382 +/- 0.000318 (1.88%) (init= 0.0195)\n",
      "    voigt_peak_3amplitude:    630.941506 +/- 1.254466 (0.20%) (init= 461.8073)\n",
      "    voigt_peak_5sigma:        0.01688120 +/- 7.15e-05 (0.42%) (init= 0.0195)\n",
      "    voigt_peak_14center:      95.1148901 +/- 0.063092 (0.07%) (init= 95.215)\n",
      "    voigt_peak_7fwhm:         0.06068551 +/- 0.000965 (1.59%)  == '3.6013100*voigt_peak_7sigma'\n",
      "    voigt_peak_5fwhm:         0.06079446 +/- 0.000258 (0.42%)  == '3.6013100*voigt_peak_5sigma'\n",
      "    voigt_peak_10fwhm:        0.06341616 +/- 0.100371 (158.27%)  == '3.6013100*voigt_peak_10sigma'\n",
      "    voigt_peak_11center:      88.0497316 +/- 0.000164 (0.00%) (init= 88.052)\n",
      "    voigt_peak_5center:       56.1334585 +/- 9.52e-05 (0.00%) (init= 56.135)\n",
      "    voigt_peak_3gamma:        0.01687301 +/- 4.29e-05 (0.25%)  == 'voigt_peak_3sigma'\n",
      "    voigt_peak_8fwhm:         0.07258527 +/- 0.193712 (266.88%)  == '3.6013100*voigt_peak_8sigma'\n",
      "    voigt_peak_11fwhm:        0.06076404 +/- 0.000445 (0.73%)  == '3.6013100*voigt_peak_11sigma'\n",
      "    voigt_peak_2sigma:        0.00149042 +/- 0.002579 (173.04%) (init= 0.005416667)\n",
      "    voigt_peak_9amplitude:    152.345245 +/- 1.251344 (0.82%) (init= 140.3681)\n",
      "    voigt_peak_7sigma:        0.01685095 +/- 0.000268 (1.59%) (init= 0.01625)\n",
      "    voigt_peak_13fwhm:        0.06082245 +/- 0.000768 (1.26%)  == '3.6013100*voigt_peak_13sigma'\n",
      "    voigt_peak_6fwhm:         0.05750265 +/- 0.042993 (74.77%)  == '3.6013100*voigt_peak_6sigma'\n",
      "    voigt_peak_17amplitude:   172.805478 +/- 1.287293 (0.74%) (init= 178.3175)\n",
      "    voigt_peak_12gamma:       0.02142878 +/- 0.025620 (119.56%)  == 'voigt_peak_12sigma'\n",
      "    voigt_peak_12amplitude:   1.45551392 +/- 1.368803 (94.04%) (init= 1.71372)\n",
      "    voigt_peak_12sigma:       0.02142878 +/- 0.025620 (119.56%) (init= 0.013)\n",
      "    voigt_peak_18amplitude:   1.48582554 +/- 1.650787 (111.10%) (init= 2.024295)\n",
      "    voigt_peak_16amplitude:   0.64707216 +/- 2.195271 (339.26%) (init= 0.339675)\n",
      "    voigt_peak_15center:      106.735532 +/- 0.000416 (0.00%) (init= 106.736)\n",
      "    voigt_peak_18fwhm:        0.10073762 +/- 0.142963 (141.92%)  == '3.6013100*voigt_peak_18sigma'\n",
      "    voigt_peak_18sigma:       0.02797249 +/- 0.039697 (141.92%) (init= 0.04225)\n",
      "    voigt_peak_18gamma:       0.02797249 +/- 0.039697 (141.92%)  == 'voigt_peak_18sigma'\n",
      "[[Correlations]] (unreported correlations are <  0.100)\n",
      "    C(voigt_peak_2amplitude, voigt_peak_2sigma)  =  1.000 \n",
      "    C(voigt_peak_2amplitude, voigt_peak_2center)  = -0.992 \n",
      "    C(voigt_peak_2center, voigt_peak_2sigma)  = -0.991 \n",
      "    C(voigt_peak_1sigma, voigt_peak_1amplitude)  =  0.875 \n",
      "    C(voigt_peak_1amplitude, voigt_peak_2center)  =  0.800 \n",
      "    C(voigt_peak_1amplitude, voigt_peak_2amplitude)  = -0.798 \n",
      "    C(voigt_peak_1amplitude, voigt_peak_2sigma)  = -0.794 \n",
      "    C(voigt_peak_1center, voigt_peak_2amplitude)  = -0.730 \n",
      "    C(voigt_peak_1center, voigt_peak_2center)  =  0.728 \n",
      "    C(voigt_peak_1center, voigt_peak_2sigma)  = -0.726 \n",
      "    C(voigt_peak_16sigma, voigt_peak_16amplitude)  =  0.707 \n",
      "    C(voigt_peak_18amplitude, voigt_peak_18sigma)  =  0.700 \n",
      "    C(voigt_peak_15amplitude, voigt_peak_15sigma)  =  0.699 \n",
      "    C(voigt_peak_1center, voigt_peak_1amplitude)  =  0.695 \n",
      "    C(voigt_peak_17sigma, voigt_peak_17amplitude)  =  0.695 \n",
      "    C(voigt_peak_14amplitude, voigt_peak_14sigma)  =  0.691 \n",
      "    C(voigt_peak_13sigma, voigt_peak_13amplitude)  =  0.690 \n",
      "    C(voigt_peak_10sigma, voigt_peak_10amplitude)  =  0.689 \n",
      "    C(voigt_peak_4amplitude, voigt_peak_4sigma)  =  0.687 \n",
      "    C(voigt_peak_8sigma, voigt_peak_8amplitude)  =  0.686 \n",
      "    C(voigt_peak_3sigma, voigt_peak_3amplitude)  =  0.686 \n",
      "    C(voigt_peak_9sigma, voigt_peak_9amplitude)  =  0.685 \n",
      "    C(voigt_peak_7amplitude, voigt_peak_7sigma)  =  0.684 \n",
      "    C(voigt_peak_1sigma, voigt_peak_2center)  =  0.682 \n",
      "    C(voigt_peak_11amplitude, voigt_peak_11sigma)  =  0.681 \n",
      "    C(voigt_peak_5amplitude, voigt_peak_5sigma)  =  0.681 \n",
      "    C(voigt_peak_6sigma, voigt_peak_6amplitude)  =  0.681 \n",
      "    C(voigt_peak_12amplitude, voigt_peak_12sigma)  =  0.678 \n",
      "    C(voigt_peak_1sigma, voigt_peak_2amplitude)  = -0.676 \n",
      "    C(voigt_peak_1sigma, voigt_peak_2sigma)  = -0.672 \n",
      "    C(voigt_peak_1sigma, voigt_peak_1center)  =  0.625 \n",
      "    C(voigt_peak_15amplitude, voigt_peak_16amplitude)  = -0.395 \n",
      "    C(voigt_peak_16sigma, voigt_peak_15amplitude)  = -0.384 \n",
      "    C(voigt_peak_17amplitude, voigt_peak_18amplitude)  = -0.364 \n",
      "    C(voigt_peak_14amplitude, voigt_peak_13amplitude)  = -0.341 \n",
      "    C(voigt_peak_17amplitude, voigt_peak_18sigma)  = -0.335 \n",
      "    C(voigt_peak_4amplitude, voigt_peak_3amplitude)  = -0.322 \n",
      "    C(voigt_peak_10amplitude, voigt_peak_9amplitude)  = -0.315 \n",
      "    C(voigt_peak_7amplitude, voigt_peak_8amplitude)  = -0.311 \n",
      "    C(voigt_peak_13amplitude, voigt_peak_14sigma)  = -0.304 \n",
      "    C(voigt_peak_11amplitude, voigt_peak_12amplitude)  = -0.301 \n",
      "    C(voigt_peak_5amplitude, voigt_peak_6amplitude)  = -0.295 \n",
      "    C(voigt_peak_15sigma, voigt_peak_16amplitude)  = -0.294 \n",
      "    C(voigt_peak_17sigma, voigt_peak_18amplitude)  = -0.292 \n",
      "    C(voigt_peak_13sigma, voigt_peak_14amplitude)  = -0.285 \n",
      "    C(voigt_peak_4sigma, voigt_peak_3amplitude)  = -0.278 \n",
      "    C(voigt_peak_4amplitude, voigt_peak_3sigma)  = -0.277 \n",
      "    C(voigt_peak_7amplitude, voigt_peak_8sigma)  = -0.275 \n",
      "    C(voigt_peak_10sigma, voigt_peak_9amplitude)  = -0.274 \n",
      "    C(voigt_peak_9sigma, voigt_peak_10amplitude)  = -0.270 \n",
      "    C(voigt_peak_16sigma, voigt_peak_15sigma)  = -0.270 \n",
      "    C(voigt_peak_11amplitude, voigt_peak_12sigma)  = -0.266 \n",
      "    C(voigt_peak_8amplitude, voigt_peak_7sigma)  = -0.262 \n",
      "    C(voigt_peak_6amplitude, voigt_peak_5sigma)  = -0.257 \n",
      "    C(voigt_peak_11sigma, voigt_peak_12amplitude)  = -0.253 \n",
      "    C(voigt_peak_17sigma, voigt_peak_18sigma)  = -0.253 \n",
      "    C(voigt_peak_6sigma, voigt_peak_5amplitude)  = -0.253 \n",
      "    C(voigt_peak_13sigma, voigt_peak_14sigma)  = -0.238 \n",
      "    C(voigt_peak_4sigma, voigt_peak_3sigma)  = -0.225 \n",
      "    C(voigt_peak_16center, voigt_peak_15amplitude)  =  0.222 \n",
      "    C(voigt_peak_9sigma, voigt_peak_10sigma)  = -0.221 \n",
      "    C(voigt_peak_8sigma, voigt_peak_7sigma)  = -0.218 \n",
      "    C(voigt_peak_11sigma, voigt_peak_12sigma)  = -0.210 \n",
      "    C(voigt_peak_6sigma, voigt_peak_5sigma)  = -0.207 \n",
      "    C(voigt_peak_18center, voigt_peak_17amplitude)  =  0.176 \n",
      "    C(voigt_peak_16center, voigt_peak_15sigma)  =  0.175 \n",
      "    C(voigt_peak_17sigma, voigt_peak_18center)  =  0.152 \n",
      "    C(voigt_peak_13amplitude, voigt_peak_14center)  =  0.152 \n",
      "    C(voigt_peak_17center, voigt_peak_18amplitude)  = -0.136 \n",
      "    C(voigt_peak_13sigma, voigt_peak_14center)  =  0.136 \n",
      "    C(voigt_peak_14amplitude, voigt_peak_13center)  = -0.134 \n",
      "    C(voigt_peak_17center, voigt_peak_18sigma)  = -0.134 \n",
      "    C(voigt_peak_7amplitude, voigt_peak_8center)  =  0.131 \n",
      "    C(voigt_peak_4center, voigt_peak_3amplitude)  =  0.131 \n",
      "    C(voigt_peak_3center, voigt_peak_4amplitude)  = -0.130 \n",
      "    C(voigt_peak_10center, voigt_peak_9amplitude)  =  0.129 \n",
      "    C(voigt_peak_14sigma, voigt_peak_13center)  = -0.128 \n",
      "    C(voigt_peak_9center, voigt_peak_10amplitude)  = -0.124 \n",
      "    C(voigt_peak_16sigma, voigt_peak_15center)  = -0.124 \n",
      "    C(voigt_peak_12center, voigt_peak_11amplitude)  =  0.123 \n",
      "    C(voigt_peak_16amplitude, voigt_peak_15center)  = -0.122 \n",
      "    C(voigt_peak_4center, voigt_peak_3sigma)  =  0.121 \n",
      "    C(voigt_peak_3center, voigt_peak_4sigma)  = -0.121 \n",
      "    C(voigt_peak_9sigma, voigt_peak_10center)  =  0.119 \n",
      "    C(voigt_peak_8center, voigt_peak_7sigma)  =  0.118 \n",
      "    C(voigt_peak_7center, voigt_peak_8amplitude)  = -0.117 \n",
      "    C(voigt_peak_9center, voigt_peak_10sigma)  = -0.116 \n",
      "    C(voigt_peak_6amplitude, voigt_peak_5center)  = -0.115 \n",
      "    C(voigt_peak_5amplitude, voigt_peak_6center)  =  0.112 \n",
      "    C(voigt_peak_12center, voigt_peak_11sigma)  =  0.112 \n",
      "    C(voigt_peak_8sigma, voigt_peak_7center)  = -0.111 \n",
      "    C(voigt_peak_11center, voigt_peak_12amplitude)  = -0.111 \n",
      "    C(voigt_peak_6sigma, voigt_peak_5center)  = -0.106 \n",
      "    C(voigt_peak_11center, voigt_peak_12sigma)  = -0.105 \n",
      "    C(voigt_peak_6center, voigt_peak_5sigma)  =  0.105 \n"
     ]
    }
   ],
   "source": [
    "fit_multi_voigt_pulverss = multi_voigt_pulverss.fit(Silicium_Simulation[1],params_multivoigt_pulverss,x=Silicium_Simulation[0])\n",
    "print(fit_multi_voigt_pulverss.fit_report())"
   ]
  },
  {
   "cell_type": "code",
   "execution_count": 26,
   "metadata": {
    "collapsed": true
   },
   "outputs": [],
   "source": [
    "fit_multi_voigt_pulverss.plot()\n",
    "plt.show()"
   ]
  },
  {
   "cell_type": "code",
   "execution_count": 27,
   "metadata": {
    "collapsed": false
   },
   "outputs": [],
   "source": [
    "plt.errorbar(Silicium_Simulation[0],Silicium_Simulation[1],np.sqrt(Silicium_Simulation[1]))\n",
    "plt.plot(np.arange(Silicium_Simulation[0][0], Silicium_Simulation[0][-1],0.001),fit_multi_voigt_pulverss.eval(x=np.arange(Silicium_Simulation[0][0], Silicium_Simulation[0][-1],0.001)))\n",
    "plt.show()"
   ]
  },
  {
   "cell_type": "code",
   "execution_count": null,
   "metadata": {
    "collapsed": true
   },
   "outputs": [],
   "source": []
  }
 ],
 "metadata": {
  "kernelspec": {
   "display_name": "Python 3",
   "language": "python",
   "name": "python3"
  },
  "language_info": {
   "codemirror_mode": {
    "name": "ipython",
    "version": 3
   },
   "file_extension": ".py",
   "mimetype": "text/x-python",
   "name": "python",
   "nbconvert_exporter": "python",
   "pygments_lexer": "ipython3",
   "version": "3.4.3"
  }
 },
 "nbformat": 4,
 "nbformat_minor": 0
}
