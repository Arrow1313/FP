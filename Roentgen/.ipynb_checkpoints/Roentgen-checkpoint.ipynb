{
 "cells": [
  {
   "cell_type": "code",
   "execution_count": 6,
   "metadata": {
    "collapsed": false
   },
   "outputs": [],
   "source": [
    "import os\n",
    "import numpy as np\n",
    "import pandas as pd\n",
    "import matplotlib.pyplot as plt\n",
    "import scipy.optimize as opt\n",
    "from lmfit import models"
   ]
  },
  {
   "cell_type": "code",
   "execution_count": 7,
   "metadata": {
    "collapsed": true
   },
   "outputs": [],
   "source": [
    "hc = 12.39841875 #keV*Angström\n",
    "d_si = 3.1358"
   ]
  },
  {
   "cell_type": "code",
   "execution_count": 8,
   "metadata": {
    "collapsed": true
   },
   "outputs": [],
   "source": [
    "pc_henrik = '/home/arrow13/Git/FP/Roentgen/'\n",
    "pc_frederik = '/home/frederik/Dokumente/FP/Roentgen/'"
   ]
  },
  {
   "cell_type": "code",
   "execution_count": 9,
   "metadata": {
    "collapsed": false
   },
   "outputs": [],
   "source": [
    "var_pc = pc_henrik"
   ]
  },
  {
   "cell_type": "code",
   "execution_count": 10,
   "metadata": {
    "collapsed": false
   },
   "outputs": [
    {
     "name": "stdout",
     "output_type": "stream",
     "text": [
      "/home/arrow13/Git/FP/Roentgen/Messdaten\n"
     ]
    }
   ],
   "source": [
    "cd $var_pc'Messdaten/'"
   ]
  },
  {
   "cell_type": "markdown",
   "metadata": {},
   "source": [
    "# Implementirung der Funktionen für die Auswertung"
   ]
  },
  {
   "cell_type": "markdown",
   "metadata": {},
   "source": [
    "## Die Peak sollen mit der Gaussverteilung angefitten werde, diese wird hier implementier, wie ein wrappen für automatische fits"
   ]
  },
  {
   "cell_type": "markdown",
   "metadata": {},
   "source": [
    "# Gauss\n",
    "<h1>$f(x) = \\frac{a}{\\sqrt{2 \\cdot pi \\cdot \\sigma^2}} \\cdot e^{- \\frac{{(x- \\sigma )}^2}{2 \\cdot \\sigma^2}} $ </h1>"
   ]
  },
  {
   "cell_type": "code",
   "execution_count": 7,
   "metadata": {
    "collapsed": true
   },
   "outputs": [],
   "source": [
    "def gauss(x,a,mu,sigma):\n",
    "    return (a/(np.sqrt(2*3.14*sigma**2))*np.exp(-((x-mu)**2)/(2.*sigma**2)))"
   ]
  },
  {
   "cell_type": "markdown",
   "metadata": {},
   "source": [
    "# ${\\chi_{red}}^2$ / Goodness of a fit\n",
    "<h1> ${\\chi_{red}}^2 = \\frac{1}{\\nu}\\sum\\frac{{(O-E)}^2}{\\sigma^2}$ "
   ]
  },
  {
   "cell_type": "code",
   "execution_count": 8,
   "metadata": {
    "collapsed": true
   },
   "outputs": [],
   "source": [
    "def red_chi_gauss(data, model, deg):\n",
    "    chisq = np.sum(np.square(data-model)/np.power(data,0.5))\n",
    "    nu = data.size-1-deg    # -4: -1 for the equation and -3 from the degrees of freedom\n",
    "    if nu is 0:\n",
    "        return \"err: nu = 0\"\n",
    "    return chisq/nu"
   ]
  },
  {
   "cell_type": "code",
   "execution_count": 9,
   "metadata": {
    "collapsed": true
   },
   "outputs": [],
   "source": [
    "def fit_gauss(x,data,guess=[1,1,1]):\n",
    "    '''\n",
    "        returns the parameter from the fit, the standard deviation and the reduced chisquare\n",
    "    '''\n",
    "    para, cov = opt.curve_fit(gauss,x,np.sqrt(data),guess,maxfev=10000)\n",
    "    red_chi = red_chi_gauss(data,gauss(x,para[0],para[1],para[2]),3)\n",
    "    return para, np.sqrt(np.diag(cov)), red_chi"
   ]
  },
  {
   "cell_type": "markdown",
   "metadata": {},
   "source": [
    "# Bragg-reflexion\n",
    "$n \\cdot \\lambda = 2 \\cdot d \\cdot sin(\\theta)$"
   ]
  },
  {
   "cell_type": "markdown",
   "metadata": {},
   "source": [
    "# Energie\n",
    "$E = \\frac{h \\cdot c}{2 \\cdot d \\cdot sin(\\theta)}$"
   ]
  },
  {
   "cell_type": "code",
   "execution_count": 10,
   "metadata": {
    "collapsed": true
   },
   "outputs": [],
   "source": [
    "def energie(phi,delta_phi):\n",
    "    theta = phi/2\n",
    "    e = hc/(2*d_si*np.sin(theta*(3.14/180)))\n",
    "    delta_e = (e*delta_phi/2)/np.tan(theta*(3.14/180))\n",
    "    return e, delta_e"
   ]
  },
  {
   "cell_type": "code",
   "execution_count": 11,
   "metadata": {
    "collapsed": true
   },
   "outputs": [],
   "source": [
    "def intensität(a,delta_a,sigma,delta_sigma):\n",
    "    i = a/(np.sqrt(2*3.14*sigma**2))\n",
    "    delta_i = np.sqrt((delta_a/np.sqrt(2*3.14*sigma**2))**2 + ((a*delta_sigma)/(np.sqrt(2*3.14*sigma**4)))**2)\n",
    "    return i, delta_i"
   ]
  },
  {
   "cell_type": "code",
   "execution_count": 12,
   "metadata": {
    "collapsed": true
   },
   "outputs": [],
   "source": [
    "def d(e,delta_e,phi,delta_phi,n):\n",
    "    d = (n*hc)/(2*e*np.sin((phi/2)*(3.14/180)))\n",
    "    delta_d = d*np.sqrt(((delta_phi/2)/np.tan((phi/2)*(3.14/180)))**2+(delta_e/e)**2)"
   ]
  },
  {
   "cell_type": "markdown",
   "metadata": {},
   "source": [
    "# Einlesen, vorbereiten und auswerten der Daten (mit Versuchsplan)"
   ]
  },
  {
   "cell_type": "markdown",
   "metadata": {
    "collapsed": true
   },
   "source": [
    "## Messen des Röntgenspektrums der Kupferanode\n",
    "Es werden drei verschiedene Spannungen und Ströme verwendet\n",
    "+ U$_1$ = ??, A$_1$ = ??\n",
    "+ U$_2$ = ??, A$_2$ = ??\n",
    "+ U$_3$ = ??, A$_3$ = ??\n",
    "\n",
    "Die letzte Einstellung wird noch mal mit einem Ni-Filter wiederholt\n",
    "\n",
    "Auswertung:\n",
    "+ Zählrate als Funktion des Winkels auftragen\n",
    "+ Die lage der K$_{\\alpha_{1,2}}$- und der K$_\\beta$-Linien bestimmen, sowie die Verhältnisse (unter einander und unter den Ordnungen)\n",
    "+ Mit Ni-Filter die Abschwächung der K$_\\beta$-Linie, das \"Signal-zu-Rausch\" Verhältnis für die K$_{\\alpha_{1,2}}$-Linie, die Energie und die Energiebreite bestimmen\n",
    "+ Weitere Details des Spektrums diskutieren"
   ]
  },
  {
   "cell_type": "markdown",
   "metadata": {},
   "source": [
    "## Netzebenabstand Si(331)\n",
    "+ Aus dem Diffraktogramm soll der Netzebenabstand von Si(331) bestimmt werden\n",
    "+ Der bestimmte Netzebenabstand soll mit Literaturwerten abgeglichen werden"
   ]
  },
  {
   "cell_type": "markdown",
   "metadata": {},
   "source": [
    "## Netzebenabstand Ge(111)\n",
    "+ Aus dem Diffraktogramm soll der Netzebenabstand von Si(331) bestimmt werden\n",
    "+ Der bestimmte Netzebenabstand soll mit Literaturwerten abgeglichen werden"
   ]
  },
  {
   "cell_type": "markdown",
   "metadata": {},
   "source": [
    "## Pulverdefraktometrie\n",
    "+ Aus dem Diffraktogramm soll mittels einer Datenbank qualitativ die Zusammensetzung bestimmt werden\n",
    "+ Unabhängig von der Datenbank sollen die Netzebenabstände des Pulvers bestimmt werden\n",
    "+ Graphisch zeigen, dass die gefundene Kirstallstrucktur mit dem Diffraktogramm verträglich ist\n",
    "+ Die mittlere Kristallgröße ermitteln"
   ]
  },
  {
   "cell_type": "markdown",
   "metadata": {},
   "source": [
    "# Ersterwert: Spannung\n",
    "# Zweiterwert: Anodenstrom\n"
   ]
  },
  {
   "cell_type": "markdown",
   "metadata": {
    "collapsed": true
   },
   "source": [
    "# Vorbereitung für den Voigt-Fit"
   ]
  },
  {
   "cell_type": "code",
   "execution_count": 13,
   "metadata": {
    "collapsed": false
   },
   "outputs": [],
   "source": [
    "voigt_1 = models.VoigtModel(prefix='voigt_1')\n",
    "voigt_2 = models.VoigtModel(prefix='voigt_2')\n",
    "voigt_3 = models.VoigtModel(prefix='voigt_3')\n",
    "mulit_voigt_1 = voigt_1 + voigt_2"
   ]
  },
  {
   "cell_type": "code",
   "execution_count": 14,
   "metadata": {
    "collapsed": false
   },
   "outputs": [],
   "source": [
    "data = np.loadtxt(\"Si111_40_30.xy\").T\n",
    "plt.plot(data[0],data[1])\n",
    "plt.show()"
   ]
  },
  {
   "cell_type": "code",
   "execution_count": 15,
   "metadata": {
    "collapsed": false
   },
   "outputs": [],
   "source": [
    "params_1 = voigt_1.guess(data[1],x=data[0])\n",
    "params_2 = voigt_2.guess(data[1],x=data[0])\n",
    "params_3 = voigt_3.guess(data[1],x=data[0])\n",
    "params_mulit = mulit_voigt_1.make_params()\n",
    "\n",
    "params_mulit['voigt_1center'].set(28.43)\n",
    "params_mulit['voigt_1center'].set(28.50)\n",
    "params_1['voigt_1gamma'].set(1,vary=True,expr='')\n",
    "params_2['voigt_2gamma'].set(1,vary=True,expr='')\n",
    "params_3['voigt_3gamma'].set(1,vary=True,expr='')"
   ]
  },
  {
   "cell_type": "raw",
   "metadata": {},
   "source": [
    "i_t = 0.1\n",
    "j_t = 1\n",
    "k_t = 1\n",
    "\n",
    "i = 25.6\n",
    "j = 28\n",
    "k = 95\n",
    "\n",
    "params_1['voigt_1center'].set(i,max=i+i_t)\n",
    "params_2['voigt_2center'].set(j,max=j+j_t)\n",
    "params_3['voigt_3center'].set(k,max=k+k_t)"
   ]
  },
  {
   "cell_type": "code",
   "execution_count": 16,
   "metadata": {
    "collapsed": false
   },
   "outputs": [
    {
     "data": {
      "text/plain": [
       "array([], dtype=int32)"
      ]
     },
     "execution_count": 16,
     "metadata": {},
     "output_type": "execute_result"
    }
   ],
   "source": [
    "np.arange(np.where(data[0] > 28.2)[0][0], np.where(data[0] < 28.7)[0][0])"
   ]
  },
  {
   "cell_type": "code",
   "execution_count": 17,
   "metadata": {
    "collapsed": false
   },
   "outputs": [
    {
     "data": {
      "text/plain": [
       "(array([   0,    1,    2, ..., 3276, 3277, 3278], dtype=int32),)"
      ]
     },
     "execution_count": 17,
     "metadata": {},
     "output_type": "execute_result"
    }
   ],
   "source": [
    "np.where(data[0] < 28.7)"
   ]
  },
  {
   "cell_type": "code",
   "execution_count": 18,
   "metadata": {
    "collapsed": false
   },
   "outputs": [
    {
     "name": "stdout",
     "output_type": "stream",
     "text": [
      "[[Model]]\n",
      "    (Model(voigt, prefix='voigt_1') + Model(voigt, prefix='voigt_2'))\n",
      "[[Fit Statistics]]\n",
      "    # function evals   = 7\n",
      "    # data points      = 27526\n",
      "    # variables        = 6\n",
      "    chi-square         = nan\n",
      "    reduced chi-square = nan\n",
      "[[Variables]]\n",
      "    voigt_1center:      28.5000000 +/- 0        (0.00%) (init= 28.5)\n",
      "    voigt_2sigma:       0          +/- 0         (init= 0)\n",
      "    voigt_2amplitude:  -inf        +/- 0        (-0.00%) (init=-inf)\n",
      "    voigt_2center:     -inf        +/- 0        (-0.00%) (init=-inf)\n",
      "    voigt_1fwhm:        0          +/- 0          == '3.6013100*voigt_1sigma'\n",
      "    voigt_1gamma:       0          +/- 0          == 'voigt_1sigma'\n",
      "    voigt_2gamma:       0          +/- 0          == 'voigt_2sigma'\n",
      "    voigt_1amplitude:  -inf        +/- 0        (-0.00%) (init=-inf)\n",
      "    voigt_2fwhm:        0          +/- 0          == '3.6013100*voigt_2sigma'\n",
      "    voigt_1sigma:       0          +/- 0         (init= 0)\n",
      "[[Correlations]] (unreported correlations are <  0.100)\n"
     ]
    }
   ],
   "source": [
    "fit_1 = voigt_1.fit(data[1],params_1,x=data[0])\n",
    "fit_2 = voigt_2.fit(data[1],params_2,x=data[0])\n",
    "fit_3 = voigt_3.fit(data[1],params_3,x=data[0])\n",
    "fit_mulit = mulit_voigt_1.fit(data[1],params_mulit,x=data[0])\n",
    "print(fit_mulit.fit_report())"
   ]
  },
  {
   "cell_type": "code",
   "execution_count": 19,
   "metadata": {
    "collapsed": false
   },
   "outputs": [],
   "source": [
    "peak_1_range = np.arange(np.where( 25.5 < data[0])[0][0],np.where( data[0] > 25.8)[0][0])\n",
    "peak_2_range = np.arange(np.where( 28.39 < data[0])[0][0],np.where( data[0] > 28.48)[0][0])\n",
    "peak_3_range = np.arange(np.where( 28.47 < data[0])[0][0],np.where( data[0] > 28.54)[0][0])"
   ]
  },
  {
   "cell_type": "code",
   "execution_count": 20,
   "metadata": {
    "collapsed": false
   },
   "outputs": [],
   "source": [
    "params_1 = voigt_1.guess(data[1][peak_1_range],x=data[0][peak_1_range])\n",
    "params_2 = voigt_2.guess(data[1][peak_2_range],x=data[0][peak_2_range])\n",
    "params_3 = voigt_3.guess(data[1][peak_3_range],x=data[0][peak_3_range])\n",
    "\n",
    "params_1['voigt_1gamma'].set(1,vary=True,expr='')\n",
    "params_2['voigt_2gamma'].set(1,vary=True,expr='')\n",
    "params_3['voigt_3gamma'].set(1,vary=True,expr='')"
   ]
  },
  {
   "cell_type": "code",
   "execution_count": 21,
   "metadata": {
    "collapsed": false
   },
   "outputs": [],
   "source": [
    "fit_1 = voigt_1.fit(data[1][peak_1_range],params_1,x=data[0][peak_1_range],weights=1/np.sqrt(data[1][peak_1_range]))\n",
    "fit_2 = voigt_2.fit(data[1][peak_2_range],params_2,x=data[0][peak_2_range],weights=1/np.sqrt(data[1][peak_2_range]))\n",
    "fit_3 = voigt_3.fit(data[1][peak_3_range],params_3,x=data[0][peak_3_range],weights=1/np.sqrt(data[1][peak_3_range]))"
   ]
  },
  {
   "cell_type": "code",
   "execution_count": 22,
   "metadata": {
    "collapsed": false
   },
   "outputs": [],
   "source": [
    "fit_1.plot()\n",
    "fit_2.plot()\n",
    "fit_3.plot()\n",
    "plt.show()"
   ]
  },
  {
   "cell_type": "code",
   "execution_count": 23,
   "metadata": {
    "collapsed": false,
    "scrolled": true
   },
   "outputs": [
    {
     "name": "stdout",
     "output_type": "stream",
     "text": [
      "[[Model]]\n",
      "    Model(voigt, prefix='voigt_1')\n",
      "[[Fit Statistics]]\n",
      "    # function evals   = 262\n",
      "    # data points      = 71\n",
      "    # variables        = 4\n",
      "    chi-square         = 3603.669\n",
      "    reduced chi-square = 53.786\n",
      "[[Variables]]\n",
      "    voigt_1center:      25.6459483 +/- 0.000345 (0.00%) (init= 25.64617)\n",
      "    voigt_1fwhm:        0.03738481 +/- 0.002997 (8.02%)  == '3.6013100*voigt_1sigma'\n",
      "    voigt_1gamma:       0.01311926 +/- 0.000584 (4.45%) (init= 1)\n",
      "    voigt_1amplitude:   1179.62029 +/- 17.04248 (1.44%) (init= 1214.115)\n",
      "    voigt_1sigma:       0.01038089 +/- 0.000832 (8.02%) (init= 0.01357791)\n",
      "[[Correlations]] (unreported correlations are <  0.100)\n",
      "    C(voigt_1gamma, voigt_1sigma)  = -0.805 \n",
      "    C(voigt_1gamma, voigt_1amplitude)  =  0.181 \n",
      "    C(voigt_1amplitude, voigt_1sigma)  = -0.144 \n",
      "[[Model]]\n",
      "    Model(voigt, prefix='voigt_2')\n",
      "[[Fit Statistics]]\n",
      "    # function evals   = 263\n",
      "    # data points      = 22\n",
      "    # variables        = 4\n",
      "    chi-square         = 4583.868\n",
      "    reduced chi-square = 254.659\n",
      "[[Variables]]\n",
      "    voigt_2fwhm:        0.07889661 +/- 0.026267 (33.29%)  == '3.6013100*voigt_2sigma'\n",
      "    voigt_2gamma:       0.00681412 +/- 0.012652 (185.67%) (init= 1)\n",
      "    voigt_2sigma:       0.02190775 +/- 0.007293 (33.29%) (init= 0.0149357)\n",
      "    voigt_2amplitude:   2537.54302 +/- 408.1357 (16.08%) (init= 1946.006)\n",
      "    voigt_2center:      28.4360313 +/- 0.000713 (0.00%) (init= 28.43486)\n",
      "[[Correlations]] (unreported correlations are <  0.100)\n",
      "    C(voigt_2gamma, voigt_2sigma)  = -0.994 \n",
      "    C(voigt_2gamma, voigt_2amplitude)  =  0.989 \n",
      "    C(voigt_2sigma, voigt_2amplitude)  = -0.978 \n",
      "    C(voigt_2amplitude, voigt_2center)  =  0.180 \n",
      "    C(voigt_2gamma, voigt_2center)  =  0.175 \n",
      "    C(voigt_2sigma, voigt_2center)  = -0.163 \n",
      "[[Model]]\n",
      "    Model(voigt, prefix='voigt_3')\n",
      "[[Fit Statistics]]\n",
      "    # function evals   = 373\n",
      "    # data points      = 17\n",
      "    # variables        = 4\n",
      "    chi-square         = 2150.965\n",
      "    reduced chi-square = 165.459\n",
      "[[Variables]]\n",
      "    voigt_3fwhm:        0.05600207 +/- 0.037038 (66.14%)  == '3.6013100*voigt_3sigma'\n",
      "    voigt_3sigma:       0.01555047 +/- 0.010284 (66.14%) (init= 0.01222012)\n",
      "    voigt_3gamma:       0.01416908 +/- 0.015453 (109.06%) (init= 1)\n",
      "    voigt_3center:      28.5048871 +/- 0.000695 (0.00%) (init= 28.50588)\n",
      "    voigt_3amplitude:   2143.76765 +/- 487.4740 (22.74%) (init= 1136.358)\n",
      "[[Correlations]] (unreported correlations are <  0.100)\n",
      "    C(voigt_3sigma, voigt_3gamma)  = -0.995 \n",
      "    C(voigt_3gamma, voigt_3amplitude)  =  0.994 \n",
      "    C(voigt_3sigma, voigt_3amplitude)  = -0.985 \n"
     ]
    }
   ],
   "source": [
    "print(fit_1.fit_report())\n",
    "print(fit_2.fit_report())\n",
    "print(fit_3.fit_report())"
   ]
  },
  {
   "cell_type": "code",
   "execution_count": 24,
   "metadata": {
    "collapsed": false
   },
   "outputs": [],
   "source": [
    "plt.errorbar(data[0],data[1],np.sqrt(data[1]))\n",
    "plt.plot(data[0][peak_1_range],fit_1.best_fit)\n",
    "plt.plot(data[0][peak_2_range],fit_2.best_fit)\n",
    "plt.plot(data[0][peak_3_range],fit_3.best_fit)\n",
    "plt.show()"
   ]
  },
  {
   "cell_type": "code",
   "execution_count": 25,
   "metadata": {
    "collapsed": false
   },
   "outputs": [],
   "source": [
    "multivoigt = voigt_1 + voigt_2 + voigt_3"
   ]
  },
  {
   "cell_type": "code",
   "execution_count": 26,
   "metadata": {
    "collapsed": true
   },
   "outputs": [],
   "source": [
    "params = voigt_1.guess(data[1][peak_1_range],x=data[0][peak_1_range])"
   ]
  },
  {
   "cell_type": "code",
   "execution_count": 27,
   "metadata": {
    "collapsed": true
   },
   "outputs": [],
   "source": [
    "params.update(voigt_2.guess(data[1][peak_2_range],x=data[0][peak_2_range]))"
   ]
  },
  {
   "cell_type": "code",
   "execution_count": 28,
   "metadata": {
    "collapsed": true
   },
   "outputs": [],
   "source": [
    "params.update(voigt_3.guess(data[1][peak_3_range],x=data[0][peak_3_range]))"
   ]
  },
  {
   "cell_type": "code",
   "execution_count": 29,
   "metadata": {
    "collapsed": true
   },
   "outputs": [],
   "source": [
    "err = np.sqrt(data[1])\n",
    "err = np.where(err==0, 1, err)"
   ]
  },
  {
   "cell_type": "code",
   "execution_count": 30,
   "metadata": {
    "collapsed": false
   },
   "outputs": [],
   "source": [
    "fit_4 = multivoigt.fit(data[1],params,x=data[0],weights=1/err)"
   ]
  },
  {
   "cell_type": "code",
   "execution_count": 31,
   "metadata": {
    "collapsed": false
   },
   "outputs": [
    {
     "data": {
      "text/plain": [
       "{'voigt_1amplitude': 1219.3894590690606,\n",
       " 'voigt_1center': 25.646027872264597,\n",
       " 'voigt_1gamma': 0.012638462992402788,\n",
       " 'voigt_1sigma': 0.012638462992402788,\n",
       " 'voigt_2amplitude': 2734.0711585407471,\n",
       " 'voigt_2center': 28.4342210546973,\n",
       " 'voigt_2gamma': 0.016102623532585847,\n",
       " 'voigt_2sigma': 0.016102623532585847,\n",
       " 'voigt_3amplitude': 1575.2818517291007,\n",
       " 'voigt_3center': 28.508759553098955,\n",
       " 'voigt_3gamma': 0.011411860893227432,\n",
       " 'voigt_3sigma': 0.011411860893227432}"
      ]
     },
     "execution_count": 31,
     "metadata": {},
     "output_type": "execute_result"
    }
   ],
   "source": [
    "fit_4.best_values"
   ]
  },
  {
   "cell_type": "code",
   "execution_count": 32,
   "metadata": {
    "collapsed": false
   },
   "outputs": [
    {
     "name": "stdout",
     "output_type": "stream",
     "text": [
      "[[Model]]\n",
      "    ((Model(voigt, prefix='voigt_1') + Model(voigt, prefix='voigt_2')) + Model(voigt, prefix='voigt_3'))\n",
      "[[Fit Statistics]]\n",
      "    # function evals   = 51\n",
      "    # data points      = 27526\n",
      "    # variables        = 9\n",
      "    chi-square         = 901715.374\n",
      "    reduced chi-square = 32.769\n",
      "[[Variables]]\n",
      "    voigt_1center:      25.6460278 +/- 0.000269 (0.00%) (init= 25.64617)\n",
      "    voigt_1fwhm:        0.04551502 +/- 0.000576 (1.26%)  == '3.6013100*voigt_1sigma'\n",
      "    voigt_1gamma:       0.01263846 +/- 0.000159 (1.26%)  == 'voigt_1sigma'\n",
      "    voigt_1amplitude:   1219.38945 +/- 12.93579 (1.06%) (init= 1214.115)\n",
      "    voigt_1sigma:       0.01263846 +/- 0.000159 (1.26%) (init= 0.01357791)\n",
      "    voigt_2fwhm:        0.05799053 +/- 0.000689 (1.19%)  == '3.6013100*voigt_2sigma'\n",
      "    voigt_2gamma:       0.01610262 +/- 0.000191 (1.19%)  == 'voigt_2sigma'\n",
      "    voigt_2sigma:       0.01610262 +/- 0.000191 (1.19%) (init= 0.0149357)\n",
      "    voigt_2amplitude:   2734.07115 +/- 26.99991 (0.99%) (init= 1946.006)\n",
      "    voigt_2center:      28.4342210 +/- 0.000308 (0.00%) (init= 28.43486)\n",
      "    voigt_3fwhm:        0.04109764 +/- 0.000701 (1.71%)  == '3.6013100*voigt_3sigma'\n",
      "    voigt_3sigma:       0.01141186 +/- 0.000195 (1.71%) (init= 0.01222012)\n",
      "    voigt_3gamma:       0.01141186 +/- 0.000195 (1.71%)  == 'voigt_3sigma'\n",
      "    voigt_3center:      28.5087595 +/- 0.000309 (0.00%) (init= 28.50588)\n",
      "    voigt_3amplitude:   1575.28185 +/- 23.86569 (1.52%) (init= 1136.358)\n",
      "[[Correlations]] (unreported correlations are <  0.100)\n",
      "    C(voigt_2amplitude, voigt_3amplitude)  = -0.549 \n",
      "    C(voigt_3sigma, voigt_3amplitude)  =  0.547 \n",
      "    C(voigt_2sigma, voigt_3amplitude)  = -0.519 \n",
      "    C(voigt_2center, voigt_3amplitude)  = -0.493 \n",
      "    C(voigt_2amplitude, voigt_3sigma)  = -0.483 \n",
      "    C(voigt_2sigma, voigt_2amplitude)  =  0.460 \n",
      "    C(voigt_3center, voigt_3amplitude)  = -0.456 \n",
      "    C(voigt_2amplitude, voigt_2center)  =  0.436 \n",
      "    C(voigt_2sigma, voigt_2center)  =  0.435 \n",
      "    C(voigt_3sigma, voigt_3center)  = -0.426 \n",
      "    C(voigt_2center, voigt_3sigma)  = -0.415 \n",
      "    C(voigt_2sigma, voigt_3sigma)  = -0.414 \n",
      "    C(voigt_2amplitude, voigt_3center)  =  0.403 \n",
      "    C(voigt_2center, voigt_3center)  =  0.402 \n",
      "    C(voigt_2sigma, voigt_3center)  =  0.357 \n"
     ]
    }
   ],
   "source": [
    "print(fit_4.fit_report())"
   ]
  },
  {
   "cell_type": "code",
   "execution_count": 33,
   "metadata": {
    "collapsed": false
   },
   "outputs": [],
   "source": [
    "fit_4.plot()\n",
    "plt.legend(loc='best')\n",
    "plt.show()"
   ]
  },
  {
   "cell_type": "code",
   "execution_count": 34,
   "metadata": {
    "collapsed": false
   },
   "outputs": [],
   "source": [
    "plt.plot(data[0],fit_4.best_fit,'r',label='Multi-Voigt-Fit')\n",
    "plt.errorbar(data[0],data[1],np.sqrt(data[1]),label='Messdaten')\n",
    "plt.xlim([25,29])\n",
    "plt.xticks(fontsize=30)\n",
    "plt.yticks(fontsize=30)\n",
    "plt.legend(loc='best',fontsize=42)\n",
    "plt.show()"
   ]
  },
  {
   "cell_type": "markdown",
   "metadata": {},
   "source": [
    "# Pulverdiffraktometrie Auswertung"
   ]
  },
  {
   "cell_type": "code",
   "execution_count": 49,
   "metadata": {
    "collapsed": false
   },
   "outputs": [],
   "source": [
    "data_pulver = np.loadtxt(\"Pulver_Ni.xy\").T"
   ]
  },
  {
   "cell_type": "code",
   "execution_count": 50,
   "metadata": {
    "collapsed": false
   },
   "outputs": [
    {
     "data": {
      "text/plain": [
       "array([[  10.00417782,   10.01253345,   10.02088909, ...,  142.58303095,\n",
       "         142.59138659,  142.59974222],\n",
       "       [   9.        ,   17.        ,   16.        , ...,    1.        ,\n",
       "           1.        ,    0.        ]])"
      ]
     },
     "execution_count": 50,
     "metadata": {},
     "output_type": "execute_result"
    }
   ],
   "source": [
    "data_pulver"
   ]
  },
  {
   "cell_type": "code",
   "execution_count": 51,
   "metadata": {
    "collapsed": false
   },
   "outputs": [
    {
     "data": {
      "text/plain": [
       "15870"
      ]
     },
     "execution_count": 51,
     "metadata": {},
     "output_type": "execute_result"
    }
   ],
   "source": [
    "len(data_pulver[0])"
   ]
  },
  {
   "cell_type": "code",
   "execution_count": 52,
   "metadata": {
    "collapsed": false
   },
   "outputs": [
    {
     "data": {
      "text/plain": [
       "15870"
      ]
     },
     "execution_count": 52,
     "metadata": {},
     "output_type": "execute_result"
    }
   ],
   "source": [
    "len(data_pulver[1])"
   ]
  },
  {
   "cell_type": "code",
   "execution_count": 173,
   "metadata": {
    "collapsed": false
   },
   "outputs": [],
   "source": [
    "plt.plot(data_pulver[0],data_pulver[1], '.')\n",
    "plt.show()"
   ]
  },
  {
   "cell_type": "code",
   "execution_count": 53,
   "metadata": {
    "collapsed": false
   },
   "outputs": [],
   "source": [
    "voigt_peak_1 = models.VoigtModel(prefix='voigt_peak_1')\n",
    "voigt_peak_2 = models.VoigtModel(prefix='voigt_peak_2')\n",
    "voigt_peak_3 = models.VoigtModel(prefix='voigt_peak_3')\n",
    "voigt_peak_4 = models.VoigtModel(prefix='voigt_peak_4')\n",
    "voigt_peak_5 = models.VoigtModel(prefix='voigt_peak_5')\n",
    "voigt_peak_6 = models.VoigtModel(prefix='voigt_peak_6')\n",
    "voigt_peak_7 = models.VoigtModel(prefix='voigt_peak_7')\n",
    "voigt_peak_8 = models.VoigtModel(prefix='voigt_peak_8')\n",
    "voigt_peak_9 = models.VoigtModel(prefix='voigt_peak_9')\n",
    "voigt_peak_10 = models.VoigtModel(prefix='voigt_peak_10')\n",
    "voigt_peak_11 = models.VoigtModel(prefix='voigt_peak_11')\n",
    "voigt_peak_12 = models.VoigtModel(prefix='voigt_peak_12')\n",
    "voigt_peak_13 = models.VoigtModel(prefix='voigt_peak_13')\n",
    "voigt_peak_14 = models.VoigtModel(prefix='voigt_peak_14')\n",
    "voigt_peak_15 = models.VoigtModel(prefix='voigt_peak_15')\n",
    "voigt_peak_16 = models.VoigtModel(prefix='voigt_peak_16')\n",
    "voigt_peak_17 = models.VoigtModel(prefix='voigt_peak_17')\n",
    "voigt_peak_18 = models.VoigtModel(prefix='voigt_peak_18')\n",
    "voigt_peak_19 = models.VoigtModel(prefix='voigt_peak_19')\n",
    "voigt_peak_20 = models.VoigtModel(prefix='voigt_peak_20')\n",
    "voigt_peak_21 = models.VoigtModel(prefix='voigt_peak_21')\n",
    "voigt_peak_22 = models.VoigtModel(prefix='voigt_peak_22')"
   ]
  },
  {
   "cell_type": "code",
   "execution_count": 54,
   "metadata": {
    "collapsed": false
   },
   "outputs": [],
   "source": [
    "peak_1_range_pulver = np.arange(np.where( 28.24 < data_pulver[0])[0][0],np.where( data_pulver[0] > 28.32)[0][0])\n",
    "peak_2_range_pulver = np.arange(np.where( 28.335 < data_pulver[0])[0][0],np.where( data_pulver[0] > 28.4)[0][0])\n",
    "peak_3_range_pulver = np.arange(np.where( 47.1 < data_pulver[0])[0][0],np.where( data_pulver[0] > 47.19)[0][0])\n",
    "peak_4_range_pulver = np.arange(np.where( 47.24 < data_pulver[0])[0][0],np.where( data_pulver[0] > 47.31)[0][0])\n",
    "peak_5_range_pulver = np.arange(np.where( 55.9 < data_pulver[0])[0][0],np.where( data_pulver[0] > 56.02)[0][0])\n",
    "peak_6_range_pulver = np.arange(np.where( 56.06 < data_pulver[0])[0][0],np.where( data_pulver[0] > 56.17)[0][0])\n",
    "peak_7_range_pulver = np.arange(np.where( 68.84 < data_pulver[0])[0][0],np.where( data_pulver[0] > 69.02)[0][0])\n",
    "peak_8_range_pulver = np.arange(np.where( 69.12 < data_pulver[0])[0][0],np.where( data_pulver[0] > 69.22)[0][0])\n",
    "peak_9_range_pulver = np.arange(np.where( 76.18 < data_pulver[0])[0][0],np.where( data_pulver[0] > 76.28)[0][0])\n",
    "peak_10_range_pulver = np.arange(np.where( 76.38 < data_pulver[0])[0][0],np.where( data_pulver[0] > 76.52)[0][0])\n",
    "peak_11_range_pulver = np.arange(np.where( 87.8 < data_pulver[0])[0][0],np.where( data_pulver[0] > 87.94)[0][0])\n",
    "peak_12_range_pulver = np.arange(np.where( 88.08 < data_pulver[0])[0][0],np.where( data_pulver[0] > 88.22)[0][0])\n",
    "peak_13_range_pulver = np.arange(np.where( 94.7 < data_pulver[0])[0][0],np.where( data_pulver[0] > 94.9)[0][0])\n",
    "peak_14_range_pulver = np.arange(np.where( 95.04 < data_pulver[0])[0][0],np.where( data_pulver[0] > 95.18)[0][0])\n",
    "peak_15_range_pulver = np.arange(np.where( 106.4 < data_pulver[0])[0][0],np.where( data_pulver[0] > 106.7)[0][0])\n",
    "peak_16_range_pulver = np.arange(np.where( 106.86 < data_pulver[0])[0][0],np.where( data_pulver[0] > 107.04)[0][0])\n",
    "peak_17_range_pulver = np.arange(np.where( 113.82 < data_pulver[0])[0][0],np.where( data_pulver[0] > 114.05)[0][0])\n",
    "peak_18_range_pulver = np.arange(np.where( 114.3 < data_pulver[0])[0][0],np.where( data_pulver[0] > 114.48)[0][0])\n",
    "peak_19_range_pulver = np.arange(np.where( 127.3 < data_pulver[0])[0][0],np.where( data_pulver[0] > 127.54)[0][0])\n",
    "peak_20_range_pulver = np.arange(np.where( 127.9 < data_pulver[0])[0][0],np.where( data_pulver[0] > 128.08)[0][0])\n",
    "peak_21_range_pulver = np.arange(np.where( 136.65 < data_pulver[0])[0][0],np.where( data_pulver[0] > 136.85)[0][0])\n",
    "peak_22_range_pulver = np.arange(np.where( 137.35 < data_pulver[0])[0][0],np.where( data_pulver[0] > 137.65)[0][0])"
   ]
  },
  {
   "cell_type": "code",
   "execution_count": 55,
   "metadata": {
    "collapsed": false
   },
   "outputs": [],
   "source": [
    "params_peak_1 = voigt_peak_1.guess(data_pulver[1][peak_1_range_pulver],x=data_pulver[0][peak_1_range_pulver])\n",
    "params_peak_2 = voigt_peak_2.guess(data_pulver[1][peak_2_range_pulver],x=data_pulver[0][peak_2_range_pulver])\n",
    "params_peak_3 = voigt_peak_3.guess(data_pulver[1][peak_3_range_pulver],x=data_pulver[0][peak_3_range_pulver])\n",
    "params_peak_4 = voigt_peak_4.guess(data_pulver[1][peak_4_range_pulver],x=data_pulver[0][peak_4_range_pulver])\n",
    "params_peak_5 = voigt_peak_5.guess(data_pulver[1][peak_5_range_pulver],x=data_pulver[0][peak_5_range_pulver])\n",
    "params_peak_6 = voigt_peak_6.guess(data_pulver[1][peak_6_range_pulver],x=data_pulver[0][peak_6_range_pulver])\n",
    "params_peak_7 = voigt_peak_7.guess(data_pulver[1][peak_7_range_pulver],x=data_pulver[0][peak_7_range_pulver])\n",
    "params_peak_8 = voigt_peak_8.guess(data_pulver[1][peak_8_range_pulver],x=data_pulver[0][peak_8_range_pulver])\n",
    "params_peak_9 = voigt_peak_9.guess(data_pulver[1][peak_9_range_pulver],x=data_pulver[0][peak_9_range_pulver])\n",
    "params_peak_10 = voigt_peak_10.guess(data_pulver[1][peak_10_range_pulver],x=data_pulver[0][peak_10_range_pulver])\n",
    "params_peak_11 = voigt_peak_11.guess(data_pulver[1][peak_11_range_pulver],x=data_pulver[0][peak_11_range_pulver])\n",
    "params_peak_12 = voigt_peak_12.guess(data_pulver[1][peak_12_range_pulver],x=data_pulver[0][peak_12_range_pulver])\n",
    "params_peak_13 = voigt_peak_13.guess(data_pulver[1][peak_13_range_pulver],x=data_pulver[0][peak_13_range_pulver])\n",
    "params_peak_14 = voigt_peak_14.guess(data_pulver[1][peak_14_range_pulver],x=data_pulver[0][peak_14_range_pulver])\n",
    "params_peak_15 = voigt_peak_15.guess(data_pulver[1][peak_15_range_pulver],x=data_pulver[0][peak_15_range_pulver])\n",
    "params_peak_16 = voigt_peak_16.guess(data_pulver[1][peak_16_range_pulver],x=data_pulver[0][peak_16_range_pulver])\n",
    "params_peak_17 = voigt_peak_17.guess(data_pulver[1][peak_17_range_pulver],x=data_pulver[0][peak_17_range_pulver])\n",
    "params_peak_18 = voigt_peak_18.guess(data_pulver[1][peak_18_range_pulver],x=data_pulver[0][peak_18_range_pulver])\n",
    "params_peak_19 = voigt_peak_19.guess(data_pulver[1][peak_19_range_pulver],x=data_pulver[0][peak_19_range_pulver])\n",
    "params_peak_20 = voigt_peak_20.guess(data_pulver[1][peak_20_range_pulver],x=data_pulver[0][peak_20_range_pulver])\n",
    "params_peak_21 = voigt_peak_21.guess(data_pulver[1][peak_21_range_pulver],x=data_pulver[0][peak_21_range_pulver])\n",
    "params_peak_22 = voigt_peak_22.guess(data_pulver[1][peak_22_range_pulver],x=data_pulver[0][peak_22_range_pulver])"
   ]
  },
  {
   "cell_type": "code",
   "execution_count": 56,
   "metadata": {
    "collapsed": false
   },
   "outputs": [],
   "source": [
    "params_peak_1['voigt_peak_1gamma'].set(value = params_peak_1.valuesdict()['voigt_peak_1sigma']/100 ,vary=True, expr='')\n",
    "params_peak_2['voigt_peak_2gamma'].set(value = params_peak_2.valuesdict()['voigt_peak_2sigma']/100 ,vary=True, expr='')\n",
    "params_peak_3['voigt_peak_3gamma'].set(value = params_peak_3.valuesdict()['voigt_peak_3sigma']/100 ,vary=True, expr='')\n",
    "params_peak_4['voigt_peak_4gamma'].set(value = params_peak_4.valuesdict()['voigt_peak_4sigma']/100 ,vary=True, expr='')\n",
    "params_peak_5['voigt_peak_5gamma'].set(value = params_peak_5.valuesdict()['voigt_peak_5sigma']/100 ,vary=True, expr='')\n",
    "params_peak_6['voigt_peak_6gamma'].set(value = params_peak_6.valuesdict()['voigt_peak_6sigma']/100 ,vary=True, expr='')\n",
    "params_peak_7['voigt_peak_7gamma'].set(value = params_peak_7.valuesdict()['voigt_peak_7sigma']/100 ,vary=True, expr='')\n",
    "params_peak_8['voigt_peak_8gamma'].set(value = params_peak_8.valuesdict()['voigt_peak_8sigma']/100 ,vary=True, expr='')\n",
    "params_peak_9['voigt_peak_9gamma'].set(value = params_peak_9.valuesdict()['voigt_peak_9sigma']/100 ,vary=True, expr='')\n",
    "params_peak_10['voigt_peak_10gamma'].set(value = params_peak_10.valuesdict()['voigt_peak_10sigma']/100 ,vary=True, expr='')\n",
    "params_peak_11['voigt_peak_11gamma'].set(value = params_peak_11.valuesdict()['voigt_peak_11sigma']/100 ,vary=True, expr='')\n",
    "params_peak_12['voigt_peak_12gamma'].set(value = params_peak_12.valuesdict()['voigt_peak_12sigma']/100 ,vary=True, expr='')\n",
    "params_peak_13['voigt_peak_13gamma'].set(value = params_peak_13.valuesdict()['voigt_peak_13sigma']/100 ,vary=True, expr='')\n",
    "params_peak_14['voigt_peak_14gamma'].set(value = params_peak_14.valuesdict()['voigt_peak_14sigma']/100 ,vary=True, expr='')\n",
    "params_peak_15['voigt_peak_15gamma'].set(value = params_peak_15.valuesdict()['voigt_peak_15sigma']/100 ,vary=True, expr='')\n",
    "params_peak_16['voigt_peak_16gamma'].set(value = params_peak_16.valuesdict()['voigt_peak_16sigma']/100 ,vary=True, expr='')\n",
    "params_peak_17['voigt_peak_17gamma'].set(value = params_peak_17.valuesdict()['voigt_peak_17sigma']/100 ,vary=True, expr='')\n",
    "params_peak_18['voigt_peak_18gamma'].set(value = params_peak_18.valuesdict()['voigt_peak_18sigma']/100 ,vary=True, expr='')\n",
    "params_peak_19['voigt_peak_19gamma'].set(value = params_peak_19.valuesdict()['voigt_peak_19sigma']/100 ,vary=True, expr='')\n",
    "params_peak_20['voigt_peak_20gamma'].set(value = params_peak_20.valuesdict()['voigt_peak_20sigma']/100 ,vary=True, expr='')\n",
    "params_peak_21['voigt_peak_21gamma'].set(value = params_peak_21.valuesdict()['voigt_peak_21sigma']/100 ,vary=True, expr='')\n",
    "params_peak_22['voigt_peak_22gamma'].set(value = params_peak_22.valuesdict()['voigt_peak_22sigma']/100 ,vary=True, expr='')"
   ]
  },
  {
   "cell_type": "code",
   "execution_count": 57,
   "metadata": {
    "collapsed": true
   },
   "outputs": [],
   "source": [
    "#ab hier wiederholschleife\n",
    "params_peak_1['voigt_peak_1sigma'].set(value = params_peak_1.valuesdict()['voigt_peak_1sigma'] ,vary=True, expr='')\n",
    "params_peak_2['voigt_peak_2sigma'].set(value = params_peak_2.valuesdict()['voigt_peak_2sigma'] ,vary=True, expr='')\n",
    "params_peak_3['voigt_peak_3sigma'].set(value = params_peak_3.valuesdict()['voigt_peak_3sigma'] ,vary=True, expr='')\n",
    "params_peak_4['voigt_peak_4sigma'].set(value = params_peak_4.valuesdict()['voigt_peak_4sigma'] ,vary=True, expr='')\n",
    "params_peak_5['voigt_peak_5sigma'].set(value = params_peak_5.valuesdict()['voigt_peak_5sigma'] ,vary=True, expr='')\n",
    "params_peak_6['voigt_peak_6sigma'].set(value = params_peak_6.valuesdict()['voigt_peak_6sigma'] ,vary=True, expr='')\n",
    "params_peak_7['voigt_peak_7sigma'].set(value = params_peak_7.valuesdict()['voigt_peak_7sigma'] ,vary=True, expr='')\n",
    "params_peak_8['voigt_peak_8sigma'].set(value = params_peak_8.valuesdict()['voigt_peak_8sigma'] ,vary=True, expr='')\n",
    "params_peak_9['voigt_peak_9sigma'].set(value = params_peak_9.valuesdict()['voigt_peak_9sigma'] ,vary=True, expr='')\n",
    "params_peak_10['voigt_peak_10sigma'].set(value = params_peak_10.valuesdict()['voigt_peak_10sigma'] ,vary=True, expr='')\n",
    "params_peak_11['voigt_peak_11sigma'].set(value = params_peak_11.valuesdict()['voigt_peak_11sigma'] ,vary=True, expr='')\n",
    "params_peak_12['voigt_peak_12sigma'].set(value = params_peak_12.valuesdict()['voigt_peak_12sigma'] ,vary=True, expr='')\n",
    "params_peak_13['voigt_peak_13sigma'].set(value = params_peak_13.valuesdict()['voigt_peak_13sigma'] ,vary=True, expr='')\n",
    "params_peak_14['voigt_peak_14sigma'].set(value = params_peak_14.valuesdict()['voigt_peak_14sigma'] ,vary=True, expr='')\n",
    "params_peak_15['voigt_peak_15sigma'].set(value = params_peak_15.valuesdict()['voigt_peak_15sigma'] ,vary=True, expr='')\n",
    "params_peak_16['voigt_peak_16sigma'].set(value = params_peak_16.valuesdict()['voigt_peak_16sigma'] ,vary=True, expr='')\n",
    "params_peak_17['voigt_peak_17sigma'].set(value = params_peak_17.valuesdict()['voigt_peak_17sigma'] ,vary=True, expr='')\n",
    "params_peak_18['voigt_peak_18sigma'].set(value = params_peak_18.valuesdict()['voigt_peak_18sigma'] ,vary=True, expr='')\n",
    "params_peak_19['voigt_peak_19sigma'].set(value = params_peak_19.valuesdict()['voigt_peak_19sigma'] ,vary=True, expr='')\n",
    "params_peak_20['voigt_peak_20sigma'].set(value = params_peak_20.valuesdict()['voigt_peak_20sigma'] ,vary=True, expr='')\n",
    "params_peak_21['voigt_peak_21sigma'].set(value = params_peak_21.valuesdict()['voigt_peak_21sigma'] ,vary=True, expr='')\n",
    "params_peak_22['voigt_peak_22sigma'].set(value = params_peak_22.valuesdict()['voigt_peak_22sigma'] ,vary=True, expr='')\n",
    "\n",
    "params_peak_1['voigt_peak_1gamma'].set(value = params_peak_1.valuesdict()['voigt_peak_1gamma'] ,vary=True, expr='')\n",
    "params_peak_2['voigt_peak_2gamma'].set(value = params_peak_2.valuesdict()['voigt_peak_2gamma'] ,vary=True, expr='')\n",
    "params_peak_3['voigt_peak_3gamma'].set(value = params_peak_3.valuesdict()['voigt_peak_3gamma'] ,vary=True, expr='')\n",
    "params_peak_4['voigt_peak_4gamma'].set(value = params_peak_4.valuesdict()['voigt_peak_4gamma'] ,vary=True, expr='')\n",
    "params_peak_5['voigt_peak_5gamma'].set(value = params_peak_5.valuesdict()['voigt_peak_5gamma'] ,vary=True, expr='')\n",
    "params_peak_6['voigt_peak_6gamma'].set(value = params_peak_6.valuesdict()['voigt_peak_6gamma'] ,vary=True, expr='')\n",
    "params_peak_7['voigt_peak_7gamma'].set(value = params_peak_7.valuesdict()['voigt_peak_7gamma'] ,vary=True, expr='')\n",
    "params_peak_8['voigt_peak_8gamma'].set(value = params_peak_8.valuesdict()['voigt_peak_8gamma'] ,vary=True, expr='')\n",
    "params_peak_9['voigt_peak_9gamma'].set(value = params_peak_9.valuesdict()['voigt_peak_9gamma'] ,vary=True, expr='')\n",
    "params_peak_10['voigt_peak_10gamma'].set(value = params_peak_10.valuesdict()['voigt_peak_10gamma'] ,vary=True, expr='')\n",
    "params_peak_11['voigt_peak_11gamma'].set(value = params_peak_11.valuesdict()['voigt_peak_11gamma'] ,vary=True, expr='')\n",
    "params_peak_12['voigt_peak_12gamma'].set(value = params_peak_12.valuesdict()['voigt_peak_12gamma'] ,vary=True, expr='')\n",
    "params_peak_13['voigt_peak_13gamma'].set(value = params_peak_13.valuesdict()['voigt_peak_13gamma'] ,vary=True, expr='')\n",
    "params_peak_14['voigt_peak_14gamma'].set(value = params_peak_14.valuesdict()['voigt_peak_14gamma'] ,vary=True, expr='')\n",
    "params_peak_15['voigt_peak_15gamma'].set(value = params_peak_15.valuesdict()['voigt_peak_15gamma'] ,vary=True, expr='')\n",
    "params_peak_16['voigt_peak_16gamma'].set(value = params_peak_16.valuesdict()['voigt_peak_16gamma'] ,vary=True, expr='')\n",
    "params_peak_17['voigt_peak_17gamma'].set(value = params_peak_17.valuesdict()['voigt_peak_17gamma'] ,vary=True, expr='')\n",
    "params_peak_18['voigt_peak_18gamma'].set(value = params_peak_18.valuesdict()['voigt_peak_18gamma'] ,vary=True, expr='')\n",
    "params_peak_19['voigt_peak_19gamma'].set(value = params_peak_19.valuesdict()['voigt_peak_19gamma'] ,vary=True, expr='')\n",
    "params_peak_20['voigt_peak_20gamma'].set(value = params_peak_20.valuesdict()['voigt_peak_20gamma'] ,vary=True, expr='')\n",
    "params_peak_21['voigt_peak_21gamma'].set(value = params_peak_21.valuesdict()['voigt_peak_21gamma'] ,vary=True, expr='')\n",
    "params_peak_22['voigt_peak_22gamma'].set(value = params_peak_22.valuesdict()['voigt_peak_22gamma'] ,vary=True, expr='')"
   ]
  },
  {
   "cell_type": "code",
   "execution_count": 58,
   "metadata": {
    "collapsed": false
   },
   "outputs": [],
   "source": [
    "multi_voigt_pulver = voigt_peak_1 + voigt_peak_2 + voigt_peak_3 + voigt_peak_4 + voigt_peak_5 + voigt_peak_6 + voigt_peak_7 + voigt_peak_8 + voigt_peak_9 + voigt_peak_10 + voigt_peak_11 + voigt_peak_12 + voigt_peak_13 + voigt_peak_14 + voigt_peak_15 + voigt_peak_16 + voigt_peak_17 + voigt_peak_18 + voigt_peak_19 + voigt_peak_20 + voigt_peak_21 + voigt_peak_22\n",
    "params_multivoigt_pulver = multi_voigt_pulver.make_params()\n",
    "params_multivoigt_pulver.update(params_peak_1)\n",
    "params_multivoigt_pulver.update(params_peak_2)\n",
    "params_multivoigt_pulver.update(params_peak_3)\n",
    "params_multivoigt_pulver.update(params_peak_4)\n",
    "params_multivoigt_pulver.update(params_peak_5)\n",
    "params_multivoigt_pulver.update(params_peak_6)\n",
    "params_multivoigt_pulver.update(params_peak_7)\n",
    "params_multivoigt_pulver.update(params_peak_8)\n",
    "params_multivoigt_pulver.update(params_peak_9)\n",
    "params_multivoigt_pulver.update(params_peak_10)\n",
    "params_multivoigt_pulver.update(params_peak_11)\n",
    "params_multivoigt_pulver.update(params_peak_12)\n",
    "params_multivoigt_pulver.update(params_peak_13)\n",
    "params_multivoigt_pulver.update(params_peak_14)\n",
    "params_multivoigt_pulver.update(params_peak_15)\n",
    "params_multivoigt_pulver.update(params_peak_16)\n",
    "params_multivoigt_pulver.update(params_peak_17)\n",
    "params_multivoigt_pulver.update(params_peak_18)\n",
    "params_multivoigt_pulver.update(params_peak_19)\n",
    "params_multivoigt_pulver.update(params_peak_20)\n",
    "params_multivoigt_pulver.update(params_peak_21)\n",
    "params_multivoigt_pulver.update(params_peak_22)"
   ]
  },
  {
   "cell_type": "code",
   "execution_count": null,
   "metadata": {
    "collapsed": false
   },
   "outputs": [],
   "source": [
    "fit_multi_voigt_pulver = multi_voigt_pulver.fit(data_pulver[1][np.where(data_pulver[1] > -1)],params_multivoigt_pulver,x=data_pulver[0][np.where(data_pulver[1] > -1)])\n",
    "print(fit_multi_voigt_pulver.fit_report())"
   ]
  },
  {
   "cell_type": "code",
   "execution_count": 22,
   "metadata": {
    "collapsed": false
   },
   "outputs": [],
   "source": [
    "fit_multi_voigt_pulver.plot()\n",
    "plt.show()"
   ]
  },
  {
   "cell_type": "code",
   "execution_count": 23,
   "metadata": {
    "collapsed": true
   },
   "outputs": [],
   "source": [
    "plt.errorbar(data_pulver[0],data_pulver[1],np.sqrt(data_pulver[1]))\n",
    "plt.plot(np.arange(data_pulver[0][0], data_pulver[0][-1],0.001),fit_multi_voigt_pulver.eval(x=np.arange(data_pulver[0][0], data_pulver[0][-1],0.001)))\n",
    "plt.xticks(size = 22)\n",
    "plt.yticks(size = 22)\n",
    "plt.show()"
   ]
  },
  {
   "cell_type": "code",
   "execution_count": null,
   "metadata": {
    "collapsed": false
   },
   "outputs": [],
   "source": [
    "Silicium_Simulation = np.loadtxt(\"Silicium.x_y\").T"
   ]
  },
  {
   "cell_type": "code",
   "execution_count": null,
   "metadata": {
    "collapsed": false
   },
   "outputs": [],
   "source": [
    "Silicium_Simulation"
   ]
  },
  {
   "cell_type": "code",
   "execution_count": null,
   "metadata": {
    "collapsed": true
   },
   "outputs": [],
   "source": [
    "voigt_peak_1ss = models.VoigtModel(prefix='voigt_peak_1')\n",
    "voigt_peak_2ss = models.VoigtModel(prefix='voigt_peak_2')\n",
    "voigt_peak_3ss = models.VoigtModel(prefix='voigt_peak_3')\n",
    "voigt_peak_4ss = models.VoigtModel(prefix='voigt_peak_4')\n",
    "voigt_peak_5ss = models.VoigtModel(prefix='voigt_peak_5')\n",
    "voigt_peak_6ss = models.VoigtModel(prefix='voigt_peak_6')\n",
    "voigt_peak_7ss = models.VoigtModel(prefix='voigt_peak_7')\n",
    "voigt_peak_8ss = models.VoigtModel(prefix='voigt_peak_8')\n",
    "voigt_peak_9ss = models.VoigtModel(prefix='voigt_peak_9')\n",
    "voigt_peak_10ss = models.VoigtModel(prefix='voigt_peak_10')\n",
    "voigt_peak_11ss = models.VoigtModel(prefix='voigt_peak_11')\n",
    "voigt_peak_12ss = models.VoigtModel(prefix='voigt_peak_12')\n",
    "voigt_peak_13ss = models.VoigtModel(prefix='voigt_peak_13')\n",
    "voigt_peak_14ss = models.VoigtModel(prefix='voigt_peak_14')\n",
    "voigt_peak_15ss = models.VoigtModel(prefix='voigt_peak_15')\n",
    "voigt_peak_16ss = models.VoigtModel(prefix='voigt_peak_16')\n",
    "voigt_peak_17ss = models.VoigtModel(prefix='voigt_peak_17')\n",
    "voigt_peak_18ss = models.VoigtModel(prefix='voigt_peak_18')\n",
    "voigt_peak_19ss = models.VoigtModel(prefix='voigt_peak_19')\n",
    "voigt_peak_20ss = models.VoigtModel(prefix='voigt_peak_20')\n",
    "voigt_peak_21ss = models.VoigtModel(prefix='voigt_peak_21')\n",
    "voigt_peak_22ss = models.VoigtModel(prefix='voigt_peak_22')"
   ]
  },
  {
   "cell_type": "code",
   "execution_count": null,
   "metadata": {
    "collapsed": true
   },
   "outputs": [],
   "source": [
    "peak_1_range_pulverss = np.arange(np.where( 28.24+0.15 < Silicium_Simulation[0])[0][0],np.where( Silicium_Simulation[0] > 28.32+0.15)[0][0])\n",
    "peak_2_range_pulverss = np.arange(np.where( 28.335+0.15 < Silicium_Simulation[0])[0][0],np.where( Silicium_Simulation[0] > 28.4+0.15)[0][0])\n",
    "peak_3_range_pulverss = np.arange(np.where( 47.1+0.15 < Silicium_Simulation[0])[0][0],np.where( Silicium_Simulation[0] > 47.19+0.15)[0][0])\n",
    "peak_4_range_pulverss = np.arange(np.where( 47.24+0.15 < Silicium_Simulation[0])[0][0],np.where( Silicium_Simulation[0] > 47.31+0.15)[0][0])\n",
    "peak_5_range_pulverss = np.arange(np.where( 55.9+0.15 < Silicium_Simulation[0])[0][0],np.where( Silicium_Simulation[0] > 56.02+0.15)[0][0])\n",
    "peak_6_range_pulverss = np.arange(np.where( 56.06+0.15 < Silicium_Simulation[0])[0][0],np.where( Silicium_Simulation[0] > 56.17+0.15)[0][0])\n",
    "peak_7_range_pulverss = np.arange(np.where( 68.84+0.15 < Silicium_Simulation[0])[0][0],np.where( Silicium_Simulation[0] > 69.02+0.15)[0][0])\n",
    "peak_8_range_pulverss = np.arange(np.where( 69.12+0.15 < Silicium_Simulation[0])[0][0],np.where( Silicium_Simulation[0] > 69.22+0.15)[0][0])\n",
    "peak_9_range_pulverss = np.arange(np.where( 76.18+0.15 < Silicium_Simulation[0])[0][0],np.where( Silicium_Simulation[0] > 76.28+0.15)[0][0])\n",
    "peak_10_range_pulverss = np.arange(np.where( 76.38+0.15 < Silicium_Simulation[0])[0][0],np.where( Silicium_Simulation[0] > 76.52+0.15)[0][0])\n",
    "peak_11_range_pulverss = np.arange(np.where( 87.8+0.15 < Silicium_Simulation[0])[0][0],np.where( Silicium_Simulation[0] > 87.94+0.15)[0][0])\n",
    "peak_12_range_pulverss = np.arange(np.where( 88.08+0.15 < Silicium_Simulation[0])[0][0],np.where( Silicium_Simulation[0] > 88.22+0.15)[0][0])\n",
    "peak_13_range_pulverss = np.arange(np.where( 94.7+0.15 < Silicium_Simulation[0])[0][0],np.where( Silicium_Simulation[0] > 94.9+0.15)[0][0])\n",
    "peak_14_range_pulverss = np.arange(np.where( 95.04+0.15 < Silicium_Simulation[0])[0][0],np.where( Silicium_Simulation[0] > 95.18+0.15)[0][0])\n",
    "peak_15_range_pulverss = np.arange(np.where( 106.4+0.15 < Silicium_Simulation[0])[0][0],np.where( Silicium_Simulation[0] > 106.7+0.15)[0][0])\n",
    "peak_16_range_pulverss = np.arange(np.where( 106.86+0.15 < Silicium_Simulation[0])[0][0],np.where( Silicium_Simulation[0] > 107.04+0.15)[0][0])\n",
    "peak_17_range_pulverss = np.arange(np.where( 113.82+0.15 < Silicium_Simulation[0])[0][0],np.where( Silicium_Simulation[0] > 114.05+0.15)[0][0])\n",
    "peak_18_range_pulverss = np.arange(np.where( 114.3+0.15 < Silicium_Simulation[0])[0][0],np.where( Silicium_Simulation[0] > 114.48+0.15)[0][0])\n",
    "peak_19_range_pulverss = np.arange(np.where( 127.3+0.15 < Silicium_Simulation[0])[0][0],np.where( Silicium_Simulation[0] > 127.54+0.15)[0][0])\n",
    "peak_20_range_pulverss = np.arange(np.where( 127.9+0.15 < Silicium_Simulation[0])[0][0],np.where( Silicium_Simulation[0] > 128.08+0.15)[0][0])\n",
    "peak_21_range_pulverss = np.arange(np.where( 136.65+0.15 < Silicium_Simulation[0])[0][0],np.where( Silicium_Simulation[0] > 136.85+0.15)[0][0])\n",
    "peak_22_range_pulverss = np.arange(np.where( 137.35+0.15 < Silicium_Simulation[0])[0][0],np.where( Silicium_Simulation[0] > 137.65+0.15)[0][0])"
   ]
  },
  {
   "cell_type": "code",
   "execution_count": null,
   "metadata": {
    "collapsed": false
   },
   "outputs": [],
   "source": [
    "params_peak_1ss = voigt_peak_1ss.guess(Silicium_Simulation[1][peak_1_range_pulverss],x=Silicium_Simulation[0][peak_1_range_pulverss])\n",
    "params_peak_2ss = voigt_peak_2ss.guess(Silicium_Simulation[1][peak_2_range_pulverss],x=Silicium_Simulation[0][peak_2_range_pulverss])\n",
    "params_peak_3ss = voigt_peak_3ss.guess(Silicium_Simulation[1][peak_3_range_pulverss],x=Silicium_Simulation[0][peak_3_range_pulverss])\n",
    "params_peak_4ss = voigt_peak_4ss.guess(Silicium_Simulation[1][peak_4_range_pulverss],x=Silicium_Simulation[0][peak_4_range_pulverss])\n",
    "params_peak_5ss = voigt_peak_5ss.guess(Silicium_Simulation[1][peak_5_range_pulverss],x=Silicium_Simulation[0][peak_5_range_pulverss])\n",
    "params_peak_6ss = voigt_peak_6ss.guess(Silicium_Simulation[1][peak_6_range_pulverss],x=Silicium_Simulation[0][peak_6_range_pulverss])\n",
    "params_peak_7ss = voigt_peak_7ss.guess(Silicium_Simulation[1][peak_7_range_pulverss],x=Silicium_Simulation[0][peak_7_range_pulverss])\n",
    "params_peak_8ss = voigt_peak_8ss.guess(Silicium_Simulation[1][peak_8_range_pulverss],x=Silicium_Simulation[0][peak_8_range_pulverss])\n",
    "params_peak_9ss = voigt_peak_9ss.guess(Silicium_Simulation[1][peak_9_range_pulverss],x=Silicium_Simulation[0][peak_9_range_pulverss])\n",
    "params_peak_10ss = voigt_peak_10ss.guess(Silicium_Simulation[1][peak_10_range_pulverss],x=Silicium_Simulation[0][peak_10_range_pulverss])\n",
    "params_peak_11ss = voigt_peak_11ss.guess(Silicium_Simulation[1][peak_11_range_pulverss],x=Silicium_Simulation[0][peak_11_range_pulverss])\n",
    "params_peak_12ss = voigt_peak_12ss.guess(Silicium_Simulation[1][peak_12_range_pulverss],x=Silicium_Simulation[0][peak_12_range_pulverss])\n",
    "params_peak_13ss = voigt_peak_13ss.guess(Silicium_Simulation[1][peak_13_range_pulverss],x=Silicium_Simulation[0][peak_13_range_pulverss])\n",
    "params_peak_14ss = voigt_peak_14ss.guess(Silicium_Simulation[1][peak_14_range_pulverss],x=Silicium_Simulation[0][peak_14_range_pulverss])\n",
    "params_peak_15ss = voigt_peak_15ss.guess(Silicium_Simulation[1][peak_15_range_pulverss],x=Silicium_Simulation[0][peak_15_range_pulverss])\n",
    "params_peak_16ss = voigt_peak_16ss.guess(Silicium_Simulation[1][peak_16_range_pulverss],x=Silicium_Simulation[0][peak_16_range_pulverss])\n",
    "params_peak_17ss = voigt_peak_17ss.guess(Silicium_Simulation[1][peak_17_range_pulverss],x=Silicium_Simulation[0][peak_17_range_pulverss])\n",
    "params_peak_18ss = voigt_peak_18ss.guess(Silicium_Simulation[1][peak_18_range_pulverss],x=Silicium_Simulation[0][peak_18_range_pulverss])\n",
    "params_peak_19ss = voigt_peak_19ss.guess(Silicium_Simulation[1][peak_19_range_pulverss],x=Silicium_Simulation[0][peak_19_range_pulverss])\n",
    "params_peak_20ss = voigt_peak_20ss.guess(Silicium_Simulation[1][peak_20_range_pulverss],x=Silicium_Simulation[0][peak_20_range_pulverss])\n",
    "params_peak_21ss = voigt_peak_21ss.guess(Silicium_Simulation[1][peak_21_range_pulverss],x=Silicium_Simulation[0][peak_21_range_pulverss])\n",
    "params_peak_22ss = voigt_peak_22ss.guess(Silicium_Simulation[1][peak_22_range_pulverss],x=Silicium_Simulation[0][peak_22_range_pulverss])"
   ]
  },
  {
   "cell_type": "code",
   "execution_count": null,
   "metadata": {
    "collapsed": true
   },
   "outputs": [],
   "source": [
    "params_peak_1ss['voigt_peak_1gamma'].set(value = params_peak_1ss.valuesdict()['voigt_peak_1sigma']/100 ,vary=True, expr='')\n",
    "params_peak_2ss['voigt_peak_2gamma'].set(value = params_peak_2ss.valuesdict()['voigt_peak_2sigma']/100 ,vary=True, expr='')\n",
    "params_peak_3ss['voigt_peak_3gamma'].set(value = params_peak_3ss.valuesdict()['voigt_peak_3sigma']/100 ,vary=True, expr='')\n",
    "params_peak_4ss['voigt_peak_4gamma'].set(value = params_peak_4ss.valuesdict()['voigt_peak_4sigma']/100 ,vary=True, expr='')\n",
    "params_peak_5ss['voigt_peak_5gamma'].set(value = params_peak_5ss.valuesdict()['voigt_peak_5sigma']/100 ,vary=True, expr='')\n",
    "params_peak_6ss['voigt_peak_6gamma'].set(value = params_peak_6ss.valuesdict()['voigt_peak_6sigma']/100 ,vary=True, expr='')\n",
    "params_peak_7ss['voigt_peak_7gamma'].set(value = params_peak_7ss.valuesdict()['voigt_peak_7sigma']/100 ,vary=True, expr='')\n",
    "params_peak_8ss['voigt_peak_8gamma'].set(value = params_peak_8ss.valuesdict()['voigt_peak_8sigma']/100 ,vary=True, expr='')\n",
    "params_peak_9ss['voigt_peak_9gamma'].set(value = params_peak_9ss.valuesdict()['voigt_peak_9sigma']/100 ,vary=True, expr='')\n",
    "params_peak_10ss['voigt_peak_10gamma'].set(value = params_peak_10ss.valuesdict()['voigt_peak_10sigma']/100 ,vary=True, expr='')\n",
    "params_peak_11ss['voigt_peak_11gamma'].set(value = params_peak_11ss.valuesdict()['voigt_peak_11sigma']/100 ,vary=True, expr='')\n",
    "params_peak_12ss['voigt_peak_12gamma'].set(value = params_peak_12ss.valuesdict()['voigt_peak_12sigma']/100 ,vary=True, expr='')\n",
    "params_peak_13ss['voigt_peak_13gamma'].set(value = params_peak_13ss.valuesdict()['voigt_peak_13sigma']/100 ,vary=True, expr='')\n",
    "params_peak_14ss['voigt_peak_14gamma'].set(value = params_peak_14ss.valuesdict()['voigt_peak_14sigma']/100 ,vary=True, expr='')\n",
    "params_peak_15ss['voigt_peak_15gamma'].set(value = params_peak_15ss.valuesdict()['voigt_peak_15sigma']/100 ,vary=True, expr='')\n",
    "params_peak_16ss['voigt_peak_16gamma'].set(value = params_peak_16ss.valuesdict()['voigt_peak_16sigma']/100 ,vary=True, expr='')\n",
    "params_peak_17ss['voigt_peak_17gamma'].set(value = params_peak_17ss.valuesdict()['voigt_peak_17sigma']/100 ,vary=True, expr='')\n",
    "params_peak_18ss['voigt_peak_18gamma'].set(value = params_peak_18ss.valuesdict()['voigt_peak_18sigma']/100 ,vary=True, expr='')\n",
    "params_peak_19ss['voigt_peak_19gamma'].set(value = params_peak_19ss.valuesdict()['voigt_peak_19sigma']/100 ,vary=True, expr='')\n",
    "params_peak_20ss['voigt_peak_20gamma'].set(value = params_peak_20ss.valuesdict()['voigt_peak_20sigma']/100 ,vary=True, expr='')\n",
    "params_peak_21ss['voigt_peak_21gamma'].set(value = params_peak_21ss.valuesdict()['voigt_peak_21sigma']/100 ,vary=True, expr='')\n",
    "params_peak_22ss['voigt_peak_22gamma'].set(value = params_peak_22ss.valuesdict()['voigt_peak_22sigma']/100 ,vary=True, expr='')"
   ]
  },
  {
   "cell_type": "code",
   "execution_count": null,
   "metadata": {
    "collapsed": true
   },
   "outputs": [],
   "source": [
    "#ab hier wiederholschleife\n",
    "params_peak_1ss['voigt_peak_1sigma'].set(value = params_peak_1ss.valuesdict()['voigt_peak_1sigma'] ,vary=True, expr='')\n",
    "params_peak_2ss['voigt_peak_2sigma'].set(value = params_peak_2ss.valuesdict()['voigt_peak_2sigma'] ,vary=True, expr='')\n",
    "params_peak_3ss['voigt_peak_3sigma'].set(value = params_peak_3ss.valuesdict()['voigt_peak_3sigma'] ,vary=True, expr='')\n",
    "params_peak_4ss['voigt_peak_4sigma'].set(value = params_peak_4ss.valuesdict()['voigt_peak_4sigma'] ,vary=True, expr='')\n",
    "params_peak_5ss['voigt_peak_5sigma'].set(value = params_peak_5ss.valuesdict()['voigt_peak_5sigma'] ,vary=True, expr='')\n",
    "params_peak_6ss['voigt_peak_6sigma'].set(value = params_peak_6ss.valuesdict()['voigt_peak_6sigma'] ,vary=True, expr='')\n",
    "params_peak_7ss['voigt_peak_7sigma'].set(value = params_peak_7ss.valuesdict()['voigt_peak_7sigma'] ,vary=True, expr='')\n",
    "params_peak_8ss['voigt_peak_8sigma'].set(value = params_peak_8ss.valuesdict()['voigt_peak_8sigma'] ,vary=True, expr='')\n",
    "params_peak_9ss['voigt_peak_9sigma'].set(value = params_peak_9ss.valuesdict()['voigt_peak_9sigma'] ,vary=True, expr='')\n",
    "params_peak_10ss['voigt_peak_10sigma'].set(value = params_peak_10ss.valuesdict()['voigt_peak_10sigma'] ,vary=True, expr='')\n",
    "params_peak_11ss['voigt_peak_11sigma'].set(value = params_peak_11ss.valuesdict()['voigt_peak_11sigma'] ,vary=True, expr='')\n",
    "params_peak_12ss['voigt_peak_12sigma'].set(value = params_peak_12ss.valuesdict()['voigt_peak_12sigma'] ,vary=True, expr='')\n",
    "params_peak_13ss['voigt_peak_13sigma'].set(value = params_peak_13ss.valuesdict()['voigt_peak_13sigma'] ,vary=True, expr='')\n",
    "params_peak_14ss['voigt_peak_14sigma'].set(value = params_peak_14ss.valuesdict()['voigt_peak_14sigma'] ,vary=True, expr='')\n",
    "params_peak_15ss['voigt_peak_15sigma'].set(value = params_peak_15ss.valuesdict()['voigt_peak_15sigma'] ,vary=True, expr='')\n",
    "params_peak_16ss['voigt_peak_16sigma'].set(value = params_peak_16ss.valuesdict()['voigt_peak_16sigma'] ,vary=True, expr='')\n",
    "params_peak_17ss['voigt_peak_17sigma'].set(value = params_peak_17ss.valuesdict()['voigt_peak_17sigma'] ,vary=True, expr='')\n",
    "params_peak_18ss['voigt_peak_18sigma'].set(value = params_peak_18ss.valuesdict()['voigt_peak_18sigma'] ,vary=True, expr='')\n",
    "params_peak_19ss['voigt_peak_19sigma'].set(value = params_peak_19ss.valuesdict()['voigt_peak_19sigma'] ,vary=True, expr='')\n",
    "params_peak_20ss['voigt_peak_20sigma'].set(value = params_peak_20ss.valuesdict()['voigt_peak_20sigma'] ,vary=True, expr='')\n",
    "params_peak_21ss['voigt_peak_21sigma'].set(value = params_peak_21ss.valuesdict()['voigt_peak_21sigma'] ,vary=True, expr='')\n",
    "params_peak_22ss['voigt_peak_22sigma'].set(value = params_peak_22ss.valuesdict()['voigt_peak_22sigma'] ,vary=True, expr='')\n",
    "\n",
    "params_peak_1ss['voigt_peak_1gamma'].set(value = params_peak_1ss.valuesdict()['voigt_peak_1gamma'] ,vary=True, expr='')\n",
    "params_peak_2ss['voigt_peak_2gamma'].set(value = params_peak_2ss.valuesdict()['voigt_peak_2gamma'] ,vary=True, expr='')\n",
    "params_peak_3ss['voigt_peak_3gamma'].set(value = params_peak_3ss.valuesdict()['voigt_peak_3gamma'] ,vary=True, expr='')\n",
    "params_peak_4ss['voigt_peak_4gamma'].set(value = params_peak_4ss.valuesdict()['voigt_peak_4gamma'] ,vary=True, expr='')\n",
    "params_peak_5ss['voigt_peak_5gamma'].set(value = params_peak_5ss.valuesdict()['voigt_peak_5gamma'] ,vary=True, expr='')\n",
    "params_peak_6ss['voigt_peak_6gamma'].set(value = params_peak_6ss.valuesdict()['voigt_peak_6gamma'] ,vary=True, expr='')\n",
    "params_peak_7ss['voigt_peak_7gamma'].set(value = params_peak_7ss.valuesdict()['voigt_peak_7gamma'] ,vary=True, expr='')\n",
    "params_peak_8ss['voigt_peak_8gamma'].set(value = params_peak_8ss.valuesdict()['voigt_peak_8gamma'] ,vary=True, expr='')\n",
    "params_peak_9ss['voigt_peak_9gamma'].set(value = params_peak_9ss.valuesdict()['voigt_peak_9gamma'] ,vary=True, expr='')\n",
    "params_peak_10ss['voigt_peak_10gamma'].set(value = params_peak_10ss.valuesdict()['voigt_peak_10gamma'] ,vary=True, expr='')\n",
    "params_peak_11ss['voigt_peak_11gamma'].set(value = params_peak_11ss.valuesdict()['voigt_peak_11gamma'] ,vary=True, expr='')\n",
    "params_peak_12ss['voigt_peak_12gamma'].set(value = params_peak_12ss.valuesdict()['voigt_peak_12gamma'] ,vary=True, expr='')\n",
    "params_peak_13ss['voigt_peak_13gamma'].set(value = params_peak_13ss.valuesdict()['voigt_peak_13gamma'] ,vary=True, expr='')\n",
    "params_peak_14ss['voigt_peak_14gamma'].set(value = params_peak_14ss.valuesdict()['voigt_peak_14gamma'] ,vary=True, expr='')\n",
    "params_peak_15ss['voigt_peak_15gamma'].set(value = params_peak_15ss.valuesdict()['voigt_peak_15gamma'] ,vary=True, expr='')\n",
    "params_peak_16ss['voigt_peak_16gamma'].set(value = params_peak_16ss.valuesdict()['voigt_peak_16gamma'] ,vary=True, expr='')\n",
    "params_peak_17ss['voigt_peak_17gamma'].set(value = params_peak_17ss.valuesdict()['voigt_peak_17gamma'] ,vary=True, expr='')\n",
    "params_peak_18ss['voigt_peak_18gamma'].set(value = params_peak_18ss.valuesdict()['voigt_peak_18gamma'] ,vary=True, expr='')\n",
    "params_peak_19ss['voigt_peak_19gamma'].set(value = params_peak_19ss.valuesdict()['voigt_peak_19gamma'] ,vary=True, expr='')\n",
    "params_peak_20ss['voigt_peak_20gamma'].set(value = params_peak_20ss.valuesdict()['voigt_peak_20gamma'] ,vary=True, expr='')\n",
    "params_peak_21ss['voigt_peak_21gamma'].set(value = params_peak_21ss.valuesdict()['voigt_peak_21gamma'] ,vary=True, expr='')\n",
    "params_peak_22ss['voigt_peak_22gamma'].set(value = params_peak_22ss.valuesdict()['voigt_peak_22gamma'] ,vary=True, expr='')"
   ]
  },
  {
   "cell_type": "code",
   "execution_count": null,
   "metadata": {
    "collapsed": false
   },
   "outputs": [],
   "source": [
    "multi_voigt_pulverss = voigt_peak_1ss + voigt_peak_2ss + voigt_peak_3ss + voigt_peak_4ss + voigt_peak_5ss + voigt_peak_6ss + voigt_peak_7ss + voigt_peak_8ss + voigt_peak_9ss + voigt_peak_10ss + voigt_peak_11ss + voigt_peak_12ss + voigt_peak_13ss + voigt_peak_14ss + voigt_peak_15ss + voigt_peak_16ss + voigt_peak_17ss + voigt_peak_18ss + voigt_peak_19ss + voigt_peak_20ss + voigt_peak_21ss + voigt_peak_22ss \n",
    "params_multivoigt_pulverss = multi_voigt_pulverss.make_params()\n",
    "params_multivoigt_pulverss.update(params_peak_1ss)\n",
    "params_multivoigt_pulverss.update(params_peak_2ss)\n",
    "params_multivoigt_pulverss.update(params_peak_3ss)\n",
    "params_multivoigt_pulverss.update(params_peak_4ss)\n",
    "params_multivoigt_pulverss.update(params_peak_5ss)\n",
    "params_multivoigt_pulverss.update(params_peak_6ss)\n",
    "params_multivoigt_pulverss.update(params_peak_7ss)\n",
    "params_multivoigt_pulverss.update(params_peak_8ss)\n",
    "params_multivoigt_pulverss.update(params_peak_9ss)\n",
    "params_multivoigt_pulverss.update(params_peak_10ss)\n",
    "params_multivoigt_pulverss.update(params_peak_11ss)\n",
    "params_multivoigt_pulverss.update(params_peak_12ss)\n",
    "params_multivoigt_pulverss.update(params_peak_13ss)\n",
    "params_multivoigt_pulverss.update(params_peak_14ss)\n",
    "params_multivoigt_pulverss.update(params_peak_15ss)\n",
    "params_multivoigt_pulverss.update(params_peak_16ss)\n",
    "params_multivoigt_pulverss.update(params_peak_17ss)\n",
    "params_multivoigt_pulverss.update(params_peak_18ss)\n",
    "params_multivoigt_pulverss.update(params_peak_19ss)\n",
    "params_multivoigt_pulverss.update(params_peak_20ss)\n",
    "params_multivoigt_pulverss.update(params_peak_21ss)\n",
    "params_multivoigt_pulverss.update(params_peak_22ss)"
   ]
  },
  {
   "cell_type": "code",
   "execution_count": null,
   "metadata": {
    "collapsed": false
   },
   "outputs": [],
   "source": [
    "fit_multi_voigt_pulverss = multi_voigt_pulverss.fit(Silicium_Simulation[1][np.where(Silicium_Simulation[1] > -1)],params_multivoigt_pulverss,x=Silicium_Simulation[0][np.where(Silicium_Simulation[1] > -1)])\n",
    "print(fit_multi_voigt_pulverss.fit_report())"
   ]
  },
  {
   "cell_type": "code",
   "execution_count": 33,
   "metadata": {
    "collapsed": false
   },
   "outputs": [],
   "source": [
    "plt.errorbar(Silicium_Simulation[0],Silicium_Simulation[1],np.sqrt(Silicium_Simulation[1]))\n",
    "plt.plot(np.arange(Silicium_Simulation[0][0], Silicium_Simulation[0][-1],0.001),fit_multi_voigt_pulverss.eval(x=np.arange(Silicium_Simulation[0][0], Silicium_Simulation[0][-1],0.001)))\n",
    "plt.xticks(size = 22)\n",
    "plt.yticks(size = 22)\n",
    "plt.show()"
   ]
  },
  {
   "cell_type": "code",
   "execution_count": null,
   "metadata": {
    "collapsed": true
   },
   "outputs": [],
   "source": [
    "Germanium_Simulation = np.loadtxt(\"Germanium.x_y\").T"
   ]
  },
  {
   "cell_type": "code",
   "execution_count": null,
   "metadata": {
    "collapsed": false
   },
   "outputs": [],
   "source": [
    "Germanium_Simulation"
   ]
  },
  {
   "cell_type": "code",
   "execution_count": null,
   "metadata": {
    "collapsed": true
   },
   "outputs": [],
   "source": [
    "voigt_peak_1gs = models.VoigtModel(prefix='voigt_peak_1')\n",
    "voigt_peak_2gs = models.VoigtModel(prefix='voigt_peak_2')\n",
    "voigt_peak_3gs = models.VoigtModel(prefix='voigt_peak_3')\n",
    "voigt_peak_4gs = models.VoigtModel(prefix='voigt_peak_4')\n",
    "voigt_peak_5gs = models.VoigtModel(prefix='voigt_peak_5')\n",
    "voigt_peak_6gs = models.VoigtModel(prefix='voigt_peak_6')\n",
    "voigt_peak_7gs = models.VoigtModel(prefix='voigt_peak_7')\n",
    "voigt_peak_8gs = models.VoigtModel(prefix='voigt_peak_8')\n",
    "voigt_peak_9gs = models.VoigtModel(prefix='voigt_peak_9')\n",
    "voigt_peak_10gs = models.VoigtModel(prefix='voigt_peak_10')\n",
    "voigt_peak_11gs = models.VoigtModel(prefix='voigt_peak_11')\n",
    "voigt_peak_12gs = models.VoigtModel(prefix='voigt_peak_12')\n",
    "voigt_peak_13gs = models.VoigtModel(prefix='voigt_peak_13')\n",
    "voigt_peak_14gs = models.VoigtModel(prefix='voigt_peak_14')\n",
    "voigt_peak_15gs = models.VoigtModel(prefix='voigt_peak_15')\n",
    "voigt_peak_16gs = models.VoigtModel(prefix='voigt_peak_16')\n",
    "voigt_peak_17gs = models.VoigtModel(prefix='voigt_peak_17')\n",
    "voigt_peak_18gs = models.VoigtModel(prefix='voigt_peak_18')\n",
    "voigt_peak_19gs = models.VoigtModel(prefix='voigt_peak_19')\n",
    "voigt_peak_20gs = models.VoigtModel(prefix='voigt_peak_20')\n",
    "voigt_peak_21gs = models.VoigtModel(prefix='voigt_peak_21')\n",
    "voigt_peak_22gs = models.VoigtModel(prefix='voigt_peak_22')"
   ]
  },
  {
   "cell_type": "code",
   "execution_count": null,
   "metadata": {
    "collapsed": true
   },
   "outputs": [],
   "source": [
    "peak_1_range_pulvergs = np.arange(np.where( 28.24-0.98 < Germanium_Simulation[0])[0][0],np.where( Germanium_Simulation[0] > 28.32-0.98)[0][0])\n",
    "peak_2_range_pulvergs = np.arange(np.where( 28.335-0.98 < Germanium_Simulation[0])[0][0],np.where( Germanium_Simulation[0] > 28.4-0.98)[0][0])\n",
    "peak_3_range_pulvergs = np.arange(np.where( 45.3 < Germanium_Simulation[0])[0][0],np.where( Germanium_Simulation[0] > 45.43)[0][0])\n",
    "peak_4_range_pulvergs = np.arange(np.where( 45.45 < Germanium_Simulation[0])[0][0],np.where( Germanium_Simulation[0] > 45.55)[0][0])\n",
    "peak_5_range_pulvergs = np.arange(np.where( 55.9-2.2 < Germanium_Simulation[0])[0][0],np.where( Germanium_Simulation[0] > 56.02-2.2)[0][0])\n",
    "peak_6_range_pulvergs = np.arange(np.where( 56.06-2.2 < Germanium_Simulation[0])[0][0],np.where( Germanium_Simulation[0] > 56.17-2.2)[0][0])\n",
    "peak_7_range_pulvergs = np.arange(np.where( 66.05 < Germanium_Simulation[0])[0][0],np.where( Germanium_Simulation[0] > 66.15)[0][0])\n",
    "peak_8_range_pulvergs = np.arange(np.where( 66.25 < Germanium_Simulation[0])[0][0],np.where( Germanium_Simulation[0] > 66.35)[0][0])\n",
    "peak_9_range_pulvergs = np.arange(np.where( 72.8 < Germanium_Simulation[0])[0][0],np.where( Germanium_Simulation[0] > 73)[0][0])\n",
    "peak_10_range_pulvergs = np.arange(np.where( 73.1 < Germanium_Simulation[0])[0][0],np.where( Germanium_Simulation[0] > 73.2)[0][0])\n",
    "peak_11_range_pulvergs = np.arange(np.where( 83.7 < Germanium_Simulation[0])[0][0],np.where( Germanium_Simulation[0] > 83.9)[0][0])\n",
    "peak_12_range_pulvergs = np.arange(np.where( 84 < Germanium_Simulation[0])[0][0],np.where( Germanium_Simulation[0] > 84.15)[0][0])\n",
    "peak_13_range_pulvergs = np.arange(np.where( 90.1 < Germanium_Simulation[0])[0][0],np.where( Germanium_Simulation[0] > 90.3)[0][0])\n",
    "peak_14_range_pulvergs = np.arange(np.where( 90.45 < Germanium_Simulation[0])[0][0],np.where( Germanium_Simulation[0] > 90.55)[0][0])\n",
    "peak_15_range_pulvergs = np.arange(np.where( 100.8 < Germanium_Simulation[0])[0][0],np.where( Germanium_Simulation[0] > 101)[0][0])\n",
    "peak_16_range_pulvergs = np.arange(np.where( 101.2 < Germanium_Simulation[0])[0][0],np.where( Germanium_Simulation[0] > 101.35)[0][0])\n",
    "peak_17_range_pulvergs = np.arange(np.where( 107.4 < Germanium_Simulation[0])[0][0],np.where( Germanium_Simulation[0] > 107.65)[0][0])\n",
    "peak_18_range_pulvergs = np.arange(np.where( 107.85 < Germanium_Simulation[0])[0][0],np.where( Germanium_Simulation[0] > 108)[0][0])\n",
    "peak_19_range_pulvergs = np.arange(np.where( 119 < Germanium_Simulation[0])[0][0],np.where( Germanium_Simulation[0] > 119.25)[0][0])\n",
    "peak_20_range_pulvergs = np.arange(np.where( 119.55 < Germanium_Simulation[0])[0][0],np.where( Germanium_Simulation[0] > 119.8)[0][0])\n",
    "peak_21_range_pulvergs = np.arange(np.where( 126.65 < Germanium_Simulation[0])[0][0],np.where( Germanium_Simulation[0] > 126.85)[0][0])\n",
    "peak_22_range_pulvergs = np.arange(np.where( 127.2 < Germanium_Simulation[0])[0][0],np.where( Germanium_Simulation[0] > 127.45)[0][0])"
   ]
  },
  {
   "cell_type": "code",
   "execution_count": null,
   "metadata": {
    "collapsed": true
   },
   "outputs": [],
   "source": [
    "params_peak_1gs = voigt_peak_1gs.guess(Germanium_Simulation[1][peak_1_range_pulvergs],x=Germanium_Simulation[0][peak_1_range_pulvergs])\n",
    "params_peak_2gs = voigt_peak_2gs.guess(Germanium_Simulation[1][peak_2_range_pulvergs],x=Germanium_Simulation[0][peak_2_range_pulvergs])\n",
    "params_peak_3gs = voigt_peak_3gs.guess(Germanium_Simulation[1][peak_3_range_pulvergs],x=Germanium_Simulation[0][peak_3_range_pulvergs])\n",
    "params_peak_4gs = voigt_peak_4gs.guess(Germanium_Simulation[1][peak_4_range_pulvergs],x=Germanium_Simulation[0][peak_4_range_pulvergs])\n",
    "params_peak_5gs = voigt_peak_5gs.guess(Germanium_Simulation[1][peak_5_range_pulvergs],x=Germanium_Simulation[0][peak_5_range_pulvergs])\n",
    "params_peak_6gs = voigt_peak_6gs.guess(Germanium_Simulation[1][peak_6_range_pulvergs],x=Germanium_Simulation[0][peak_6_range_pulvergs])\n",
    "params_peak_7gs = voigt_peak_7gs.guess(Germanium_Simulation[1][peak_7_range_pulvergs],x=Germanium_Simulation[0][peak_7_range_pulvergs])\n",
    "params_peak_8gs = voigt_peak_8gs.guess(Germanium_Simulation[1][peak_8_range_pulvergs],x=Germanium_Simulation[0][peak_8_range_pulvergs])\n",
    "params_peak_9gs = voigt_peak_9gs.guess(Germanium_Simulation[1][peak_9_range_pulvergs],x=Germanium_Simulation[0][peak_9_range_pulvergs])\n",
    "params_peak_10gs = voigt_peak_10gs.guess(Germanium_Simulation[1][peak_10_range_pulvergs],x=Germanium_Simulation[0][peak_10_range_pulvergs])\n",
    "params_peak_11gs = voigt_peak_11gs.guess(Germanium_Simulation[1][peak_11_range_pulvergs],x=Germanium_Simulation[0][peak_11_range_pulvergs])\n",
    "params_peak_12gs = voigt_peak_12gs.guess(Germanium_Simulation[1][peak_12_range_pulvergs],x=Germanium_Simulation[0][peak_12_range_pulvergs])\n",
    "params_peak_13gs = voigt_peak_13gs.guess(Germanium_Simulation[1][peak_13_range_pulvergs],x=Germanium_Simulation[0][peak_13_range_pulvergs])\n",
    "params_peak_14gs = voigt_peak_14gs.guess(Germanium_Simulation[1][peak_14_range_pulvergs],x=Germanium_Simulation[0][peak_14_range_pulvergs])\n",
    "params_peak_15gs = voigt_peak_15gs.guess(Germanium_Simulation[1][peak_15_range_pulvergs],x=Germanium_Simulation[0][peak_15_range_pulvergs])\n",
    "params_peak_16gs = voigt_peak_16gs.guess(Germanium_Simulation[1][peak_16_range_pulvergs],x=Germanium_Simulation[0][peak_16_range_pulvergs])\n",
    "params_peak_17gs = voigt_peak_17gs.guess(Germanium_Simulation[1][peak_17_range_pulvergs],x=Germanium_Simulation[0][peak_17_range_pulvergs])\n",
    "params_peak_18gs = voigt_peak_18gs.guess(Germanium_Simulation[1][peak_18_range_pulvergs],x=Germanium_Simulation[0][peak_18_range_pulvergs])\n",
    "params_peak_19gs = voigt_peak_19gs.guess(Germanium_Simulation[1][peak_19_range_pulvergs],x=Germanium_Simulation[0][peak_19_range_pulvergs])\n",
    "params_peak_20gs = voigt_peak_20gs.guess(Germanium_Simulation[1][peak_20_range_pulvergs],x=Germanium_Simulation[0][peak_20_range_pulvergs])\n",
    "params_peak_21gs = voigt_peak_21gs.guess(Germanium_Simulation[1][peak_21_range_pulvergs],x=Germanium_Simulation[0][peak_21_range_pulvergs])\n",
    "params_peak_22gs = voigt_peak_22gs.guess(Germanium_Simulation[1][peak_22_range_pulvergs],x=Germanium_Simulation[0][peak_22_range_pulvergs])"
   ]
  },
  {
   "cell_type": "code",
   "execution_count": null,
   "metadata": {
    "collapsed": true
   },
   "outputs": [],
   "source": [
    "params_peak_1gs['voigt_peak_1gamma'].set(value = params_peak_1gs.valuesdict()['voigt_peak_1sigma']/100 ,vary=True, expr='')\n",
    "params_peak_2gs['voigt_peak_2gamma'].set(value = params_peak_2gs.valuesdict()['voigt_peak_2sigma']/100 ,vary=True, expr='')\n",
    "params_peak_3gs['voigt_peak_3gamma'].set(value = params_peak_3gs.valuesdict()['voigt_peak_3sigma']/100 ,vary=True, expr='')\n",
    "params_peak_4gs['voigt_peak_4gamma'].set(value = params_peak_4gs.valuesdict()['voigt_peak_4sigma']/100 ,vary=True, expr='')\n",
    "params_peak_5gs['voigt_peak_5gamma'].set(value = params_peak_5gs.valuesdict()['voigt_peak_5sigma']/100 ,vary=True, expr='')\n",
    "params_peak_6gs['voigt_peak_6gamma'].set(value = params_peak_6gs.valuesdict()['voigt_peak_6sigma']/100 ,vary=True, expr='')\n",
    "params_peak_7gs['voigt_peak_7gamma'].set(value = params_peak_7gs.valuesdict()['voigt_peak_7sigma']/100 ,vary=True, expr='')\n",
    "params_peak_8gs['voigt_peak_8gamma'].set(value = params_peak_8gs.valuesdict()['voigt_peak_8sigma']/100 ,vary=True, expr='')\n",
    "params_peak_9gs['voigt_peak_9gamma'].set(value = params_peak_9gs.valuesdict()['voigt_peak_9sigma']/100 ,vary=True, expr='')\n",
    "params_peak_10gs['voigt_peak_10gamma'].set(value = params_peak_10gs.valuesdict()['voigt_peak_10sigma']/100 ,vary=True, expr='')\n",
    "params_peak_11gs['voigt_peak_11gamma'].set(value = params_peak_11gs.valuesdict()['voigt_peak_11sigma']/100 ,vary=True, expr='')\n",
    "params_peak_12gs['voigt_peak_12gamma'].set(value = params_peak_12gs.valuesdict()['voigt_peak_12sigma']/100 ,vary=True, expr='')\n",
    "params_peak_13gs['voigt_peak_13gamma'].set(value = params_peak_13gs.valuesdict()['voigt_peak_13sigma']/100 ,vary=True, expr='')\n",
    "params_peak_14gs['voigt_peak_14gamma'].set(value = params_peak_14gs.valuesdict()['voigt_peak_14sigma']/100 ,vary=True, expr='')\n",
    "params_peak_15gs['voigt_peak_15gamma'].set(value = params_peak_15gs.valuesdict()['voigt_peak_15sigma']/100 ,vary=True, expr='')\n",
    "params_peak_16gs['voigt_peak_16gamma'].set(value = params_peak_16gs.valuesdict()['voigt_peak_16sigma']/100 ,vary=True, expr='')\n",
    "params_peak_17gs['voigt_peak_17gamma'].set(value = params_peak_17gs.valuesdict()['voigt_peak_17sigma']/100 ,vary=True, expr='')\n",
    "params_peak_18gs['voigt_peak_18gamma'].set(value = params_peak_18gs.valuesdict()['voigt_peak_18sigma']/100 ,vary=True, expr='')\n",
    "params_peak_19gs['voigt_peak_19gamma'].set(value = params_peak_19gs.valuesdict()['voigt_peak_19sigma']/100 ,vary=True, expr='')\n",
    "params_peak_20gs['voigt_peak_20gamma'].set(value = params_peak_20gs.valuesdict()['voigt_peak_20sigma']/100 ,vary=True, expr='')\n",
    "params_peak_21gs['voigt_peak_21gamma'].set(value = params_peak_21gs.valuesdict()['voigt_peak_21sigma']/100 ,vary=True, expr='')\n",
    "params_peak_22gs['voigt_peak_22gamma'].set(value = params_peak_22gs.valuesdict()['voigt_peak_22sigma']/100 ,vary=True, expr='')"
   ]
  },
  {
   "cell_type": "code",
   "execution_count": null,
   "metadata": {
    "collapsed": true
   },
   "outputs": [],
   "source": [
    "#ab hier wiederholschleife\n",
    "params_peak_1gs['voigt_peak_1sigma'].set(value = params_peak_1gs.valuesdict()['voigt_peak_1sigma'] ,vary=True, expr='')\n",
    "params_peak_2gs['voigt_peak_2sigma'].set(value = params_peak_2gs.valuesdict()['voigt_peak_2sigma'] ,vary=True, expr='')\n",
    "params_peak_3gs['voigt_peak_3sigma'].set(value = params_peak_3gs.valuesdict()['voigt_peak_3sigma'] ,vary=True, expr='')\n",
    "params_peak_4gs['voigt_peak_4sigma'].set(value = params_peak_4gs.valuesdict()['voigt_peak_4sigma'] ,vary=True, expr='')\n",
    "params_peak_5gs['voigt_peak_5sigma'].set(value = params_peak_5gs.valuesdict()['voigt_peak_5sigma'] ,vary=True, expr='')\n",
    "params_peak_6gs['voigt_peak_6sigma'].set(value = params_peak_6gs.valuesdict()['voigt_peak_6sigma'] ,vary=True, expr='')\n",
    "params_peak_7gs['voigt_peak_7sigma'].set(value = params_peak_7gs.valuesdict()['voigt_peak_7sigma'] ,vary=True, expr='')\n",
    "params_peak_8gs['voigt_peak_8sigma'].set(value = params_peak_8gs.valuesdict()['voigt_peak_8sigma'] ,vary=True, expr='')\n",
    "params_peak_9gs['voigt_peak_9sigma'].set(value = params_peak_9gs.valuesdict()['voigt_peak_9sigma'] ,vary=True, expr='')\n",
    "params_peak_10gs['voigt_peak_10sigma'].set(value = params_peak_10gs.valuesdict()['voigt_peak_10sigma'] ,vary=True, expr='')\n",
    "params_peak_11gs['voigt_peak_11sigma'].set(value = params_peak_11gs.valuesdict()['voigt_peak_11sigma'] ,vary=True, expr='')\n",
    "params_peak_12gs['voigt_peak_12sigma'].set(value = params_peak_12gs.valuesdict()['voigt_peak_12sigma'] ,vary=True, expr='')\n",
    "params_peak_13gs['voigt_peak_13sigma'].set(value = params_peak_13gs.valuesdict()['voigt_peak_13sigma'] ,vary=True, expr='')\n",
    "params_peak_14gs['voigt_peak_14sigma'].set(value = params_peak_14gs.valuesdict()['voigt_peak_14sigma'] ,vary=True, expr='')\n",
    "params_peak_15gs['voigt_peak_15sigma'].set(value = params_peak_15gs.valuesdict()['voigt_peak_15sigma'] ,vary=True, expr='')\n",
    "params_peak_16gs['voigt_peak_16sigma'].set(value = params_peak_16gs.valuesdict()['voigt_peak_16sigma'] ,vary=True, expr='')\n",
    "params_peak_17gs['voigt_peak_17sigma'].set(value = params_peak_17gs.valuesdict()['voigt_peak_17sigma'] ,vary=True, expr='')\n",
    "params_peak_18gs['voigt_peak_18sigma'].set(value = params_peak_18gs.valuesdict()['voigt_peak_18sigma'] ,vary=True, expr='')\n",
    "params_peak_19gs['voigt_peak_19sigma'].set(value = params_peak_19gs.valuesdict()['voigt_peak_19sigma'] ,vary=True, expr='')\n",
    "params_peak_20gs['voigt_peak_20sigma'].set(value = params_peak_20gs.valuesdict()['voigt_peak_20sigma'] ,vary=True, expr='')\n",
    "params_peak_21gs['voigt_peak_21sigma'].set(value = params_peak_21gs.valuesdict()['voigt_peak_21sigma'] ,vary=True, expr='')\n",
    "params_peak_22gs['voigt_peak_22sigma'].set(value = params_peak_22gs.valuesdict()['voigt_peak_22sigma'] ,vary=True, expr='')\n",
    "\n",
    "params_peak_1gs['voigt_peak_1gamma'].set(value = params_peak_1gs.valuesdict()['voigt_peak_1gamma'] ,vary=True, expr='')\n",
    "params_peak_2gs['voigt_peak_2gamma'].set(value = params_peak_2gs.valuesdict()['voigt_peak_2gamma'] ,vary=True, expr='')\n",
    "params_peak_3gs['voigt_peak_3gamma'].set(value = params_peak_3gs.valuesdict()['voigt_peak_3gamma'] ,vary=True, expr='')\n",
    "params_peak_4gs['voigt_peak_4gamma'].set(value = params_peak_4gs.valuesdict()['voigt_peak_4gamma'] ,vary=True, expr='')\n",
    "params_peak_5gs['voigt_peak_5gamma'].set(value = params_peak_5gs.valuesdict()['voigt_peak_5gamma'] ,vary=True, expr='')\n",
    "params_peak_6gs['voigt_peak_6gamma'].set(value = params_peak_6gs.valuesdict()['voigt_peak_6gamma'] ,vary=True, expr='')\n",
    "params_peak_7gs['voigt_peak_7gamma'].set(value = params_peak_7gs.valuesdict()['voigt_peak_7gamma'] ,vary=True, expr='')\n",
    "params_peak_8gs['voigt_peak_8gamma'].set(value = params_peak_8gs.valuesdict()['voigt_peak_8gamma'] ,vary=True, expr='')\n",
    "params_peak_9gs['voigt_peak_9gamma'].set(value = params_peak_9gs.valuesdict()['voigt_peak_9gamma'] ,vary=True, expr='')\n",
    "params_peak_10gs['voigt_peak_10gamma'].set(value = params_peak_10gs.valuesdict()['voigt_peak_10gamma'] ,vary=True, expr='')\n",
    "params_peak_11gs['voigt_peak_11gamma'].set(value = params_peak_11gs.valuesdict()['voigt_peak_11gamma'] ,vary=True, expr='')\n",
    "params_peak_12gs['voigt_peak_12gamma'].set(value = params_peak_12gs.valuesdict()['voigt_peak_12gamma'] ,vary=True, expr='')\n",
    "params_peak_13gs['voigt_peak_13gamma'].set(value = params_peak_13gs.valuesdict()['voigt_peak_13gamma'] ,vary=True, expr='')\n",
    "params_peak_14gs['voigt_peak_14gamma'].set(value = params_peak_14gs.valuesdict()['voigt_peak_14gamma'] ,vary=True, expr='')\n",
    "params_peak_15gs['voigt_peak_15gamma'].set(value = params_peak_15gs.valuesdict()['voigt_peak_15gamma'] ,vary=True, expr='')\n",
    "params_peak_16gs['voigt_peak_16gamma'].set(value = params_peak_16gs.valuesdict()['voigt_peak_16gamma'] ,vary=True, expr='')\n",
    "params_peak_17gs['voigt_peak_17gamma'].set(value = params_peak_17gs.valuesdict()['voigt_peak_17gamma'] ,vary=True, expr='')\n",
    "params_peak_18gs['voigt_peak_18gamma'].set(value = params_peak_18gs.valuesdict()['voigt_peak_18gamma'] ,vary=True, expr='')\n",
    "params_peak_19gs['voigt_peak_19gamma'].set(value = params_peak_19gs.valuesdict()['voigt_peak_19gamma'] ,vary=True, expr='')\n",
    "params_peak_20gs['voigt_peak_20gamma'].set(value = params_peak_20gs.valuesdict()['voigt_peak_20gamma'] ,vary=True, expr='')\n",
    "params_peak_21gs['voigt_peak_21gamma'].set(value = params_peak_21gs.valuesdict()['voigt_peak_21gamma'] ,vary=True, expr='')\n",
    "params_peak_22gs['voigt_peak_22gamma'].set(value = params_peak_22gs.valuesdict()['voigt_peak_22gamma'] ,vary=True, expr='')"
   ]
  },
  {
   "cell_type": "code",
   "execution_count": null,
   "metadata": {
    "collapsed": false
   },
   "outputs": [],
   "source": [
    "multi_voigt_pulvergs = voigt_peak_1gs + voigt_peak_2gs + voigt_peak_3gs + voigt_peak_4gs + voigt_peak_5gs + voigt_peak_6gs + voigt_peak_7gs + voigt_peak_8gs + voigt_peak_9gs + voigt_peak_10gs + voigt_peak_11gs + voigt_peak_12gs + voigt_peak_13gs + voigt_peak_14gs + voigt_peak_15gs + voigt_peak_16gs + voigt_peak_17gs + voigt_peak_18gs + voigt_peak_19gs + voigt_peak_20gs + voigt_peak_21gs + voigt_peak_22gs \n",
    "params_multivoigt_pulvergs = multi_voigt_pulvergs.make_params()\n",
    "params_multivoigt_pulvergs.update(params_peak_1gs)\n",
    "params_multivoigt_pulvergs.update(params_peak_2gs)\n",
    "params_multivoigt_pulvergs.update(params_peak_3gs)\n",
    "params_multivoigt_pulvergs.update(params_peak_4gs)\n",
    "params_multivoigt_pulvergs.update(params_peak_5gs)\n",
    "params_multivoigt_pulvergs.update(params_peak_6gs)\n",
    "params_multivoigt_pulvergs.update(params_peak_7gs)\n",
    "params_multivoigt_pulvergs.update(params_peak_8gs)\n",
    "params_multivoigt_pulvergs.update(params_peak_9gs)\n",
    "params_multivoigt_pulvergs.update(params_peak_10gs)\n",
    "params_multivoigt_pulvergs.update(params_peak_11gs)\n",
    "params_multivoigt_pulvergs.update(params_peak_12gs)\n",
    "params_multivoigt_pulvergs.update(params_peak_13gs)\n",
    "params_multivoigt_pulvergs.update(params_peak_14gs)\n",
    "params_multivoigt_pulvergs.update(params_peak_15gs)\n",
    "params_multivoigt_pulvergs.update(params_peak_16gs)\n",
    "params_multivoigt_pulvergs.update(params_peak_17gs)\n",
    "params_multivoigt_pulvergs.update(params_peak_18gs)\n",
    "params_multivoigt_pulvergs.update(params_peak_19gs)\n",
    "params_multivoigt_pulvergs.update(params_peak_20gs)\n",
    "params_multivoigt_pulvergs.update(params_peak_21gs)\n",
    "params_multivoigt_pulvergs.update(params_peak_22gs)"
   ]
  },
  {
   "cell_type": "code",
   "execution_count": null,
   "metadata": {
    "collapsed": false
   },
   "outputs": [],
   "source": [
    "fit_multi_voigt_pulvergs = multi_voigt_pulvergs.fit(Germanium_Simulation[1][np.where(Germanium_Simulation[1] > -1)],params_multivoigt_pulvergs,x=Germanium_Simulation[0][np.where(Germanium_Simulation[1] > -1)])\n",
    "print(fit_multi_voigt_pulvergs.fit_report())"
   ]
  },
  {
   "cell_type": "code",
   "execution_count": 44,
   "metadata": {
    "collapsed": false
   },
   "outputs": [],
   "source": [
    "plt.errorbar(Germanium_Simulation[0],Germanium_Simulation[1],np.sqrt(Germanium_Simulation[1]))\n",
    "plt.plot(np.arange(Germanium_Simulation[0][0], Germanium_Simulation[0][-1],0.001),fit_multi_voigt_pulvergs.eval(x=np.arange(Germanium_Simulation[0][0], Germanium_Simulation[0][-1],0.001)))\n",
    "plt.xticks(size = 22)\n",
    "plt.yticks(size = 22)\n",
    "plt.show()"
   ]
  },
  {
   "cell_type": "code",
   "execution_count": null,
   "metadata": {
    "collapsed": true
   },
   "outputs": [],
   "source": []
  }
 ],
 "metadata": {
  "kernelspec": {
   "display_name": "Python 3",
   "language": "python",
   "name": "python3"
  },
  "language_info": {
   "codemirror_mode": {
    "name": "ipython",
    "version": 3
   },
   "file_extension": ".py",
   "mimetype": "text/x-python",
   "name": "python",
   "nbconvert_exporter": "python",
   "pygments_lexer": "ipython3",
   "version": "3.4.3"
  }
 },
 "nbformat": 4,
 "nbformat_minor": 0
}
