{
 "cells": [
  {
   "cell_type": "code",
   "execution_count": 1,
   "metadata": {
    "collapsed": false
   },
   "outputs": [
    {
     "name": "stderr",
     "output_type": "stream",
     "text": [
      "/home/frederik/anaconda3/lib/python3.4/site-packages/IPython/html.py:14: ShimWarning: The `IPython.html` package has been deprecated. You should import from `notebook` instead. `IPython.html.widgets` has moved to `ipywidgets`.\n",
      "  \"`IPython.html.widgets` has moved to `ipywidgets`.\", ShimWarning)\n"
     ]
    }
   ],
   "source": [
    "import os\n",
    "import numpy as np\n",
    "import pandas as pd\n",
    "import matplotlib.pyplot as plt\n",
    "import scipy.optimize as opt\n",
    "from lmfit import models\n",
    "from bokeh.plotting import figure, output_notebook, show"
   ]
  },
  {
   "cell_type": "code",
   "execution_count": 2,
   "metadata": {
    "collapsed": true
   },
   "outputs": [],
   "source": [
    "pc_henrik = '/home/arrow13/Git/FP/Roentgen/'\n",
    "pc_frederik = '/home/frederik/Dokumente/FP/Roentgen'"
   ]
  },
  {
   "cell_type": "code",
   "execution_count": 3,
   "metadata": {
    "collapsed": false
   },
   "outputs": [],
   "source": [
    "var_pc = pc_frederik"
   ]
  },
  {
   "cell_type": "code",
   "execution_count": 4,
   "metadata": {
    "collapsed": false
   },
   "outputs": [
    {
     "name": "stdout",
     "output_type": "stream",
     "text": [
      "/home/frederik/Dokumente/FP/Roentgen/Messdaten\n"
     ]
    }
   ],
   "source": [
    "cd $var_pc/Messdaten"
   ]
  },
  {
   "cell_type": "code",
   "execution_count": 295,
   "metadata": {
    "collapsed": false
   },
   "outputs": [],
   "source": [
    "data = np.loadtxt(\"Si111_40_30.xy\").T\n",
    "err = np.sqrt(data[1])\n",
    "err = np.where(err < 2, 2, err)"
   ]
  },
  {
   "cell_type": "code",
   "execution_count": 296,
   "metadata": {
    "collapsed": false
   },
   "outputs": [],
   "source": [
    "plt.errorbar(data[0],data[1],err,label=\"Messdaten, mit U = 40kV \\n A = 30mA und Ni-Filter\")\n",
    "plt.xlim([15,130])\n",
    "plt.ylim([-10,28000])\n",
    "plt.xticks(fontsize=22)\n",
    "plt.yticks(fontsize=22)\n",
    "plt.xlabel('Winkel / $^\\circ$',fontsize=32)\n",
    "plt.ylabel('Counts',fontsize=32)\n",
    "plt.legend(loc='best',fontsize=22)\n",
    "plt.show()"
   ]
  },
  {
   "cell_type": "markdown",
   "metadata": {},
   "source": [
    "# Einlesen, vorbereiten und auswerten der Daten (mit Versuchsplan)"
   ]
  },
  {
   "cell_type": "markdown",
   "metadata": {},
   "source": [
    "## Messen des Röntgenspektrums der Kupferanode\n",
    "Es werden drei verschiedene Spannungen und Ströme verwendet\n",
    "+ U$_1$ = 30keV, A$_1$ = 10mA\n",
    "+ U$_2$ = 40keV, A$_2$ = 10mA\n",
    "+ U$_3$ = 40keV, A$_3$ = 30mA\n",
    "\n",
    "Die letzte Einstellung wird noch mal mit einem Ni-Filter wiederholt\n",
    "\n",
    "+ U$_{Ni}$ = 30keV, A$_{Ni}$ = 30mA\n",
    "\n",
    "Auswertung:\n",
    "+ Zählrate als Funktion des Winkels auftragen\n",
    "+ Die lage der K$_{\\alpha_{1,2}}$- und der K$_\\beta$-Linien bestimmen, sowie die Verhältnisse (unter einander und unter den Ordnungen)\n",
    "+ Mit Ni-Filter die Abschwächung der K$_\\beta$-Linie, das \"Signal-zu-Rausch\" Verhältnis für die K$_{\\alpha_{1,2}}$-Linie, die Energie und die Energiebreite bestimmen\n",
    "+ Weitere Details des Spektrums diskutieren"
   ]
  },
  {
   "cell_type": "markdown",
   "metadata": {},
   "source": [
    "## Netzebenabstand Si(331)\n",
    "+ Aus dem Diffraktogramm soll der Netzebenabstand von Si(331) bestimmt werden\n",
    "+ Der bestimmte Netzebenabstand soll mit Literaturwerten abgeglichen werden"
   ]
  },
  {
   "cell_type": "markdown",
   "metadata": {},
   "source": [
    "## Netzebenabstand Ge(111)\n",
    "+ Aus dem Diffraktogramm soll der Netzebenabstand von Si(331) bestimmt werden\n",
    "+ Der bestimmte Netzebenabstand soll mit Literaturwerten abgeglichen werden"
   ]
  },
  {
   "cell_type": "markdown",
   "metadata": {},
   "source": [
    "## Pulverdiraktometrie\n",
    "+ Aus dem Diffraktogramm soll mittels einer Datenbank qualitativ die Zusammensetzung bestimmt werden\n",
    "+ Unabhängig von der Datenbank sollen die Netzebenabstände des Pulvers bestimmt werden\n",
    "+ Graphisch zeigen, dass die gefundene Kirstallstrucktur mit dem Diffraktogramm verträglich ist\n",
    "+ Die mittlere Kristallgröße ermitteln"
   ]
  },
  {
   "cell_type": "markdown",
   "metadata": {},
   "source": [
    "### Voigt für den einzel Peak "
   ]
  },
  {
   "cell_type": "code",
   "execution_count": 308,
   "metadata": {
    "collapsed": false
   },
   "outputs": [],
   "source": [
    "intervall_voigt_1 = np.arange(np.where(data[0] > 25.6)[0][0], np.where(data[0] > 25.69)[0][0])\n",
    "err_1 = np.sqrt(data[1][intervall_voigt_1])\n",
    "err_1 = np.where(err_1 == 0, 1, err_1)"
   ]
  },
  {
   "cell_type": "code",
   "execution_count": 309,
   "metadata": {
    "collapsed": false
   },
   "outputs": [],
   "source": [
    "voigt_1 = models.VoigtModel(prefix='voigt_1')\n",
    "pars_1 = voigt_1.guess(data[1][intervall_voigt_1],x=data[0][intervall_voigt_1])\n",
    "pars_1['voigt_1gamma'].set(0.001,vary=True,expr='')"
   ]
  },
  {
   "cell_type": "code",
   "execution_count": 310,
   "metadata": {
    "collapsed": false
   },
   "outputs": [],
   "source": [
    "out_1 = voigt_1.fit(data[1][intervall_voigt_1],pars_1,x=data[0][intervall_voigt_1], weights=1/(err_1))"
   ]
  },
  {
   "cell_type": "code",
   "execution_count": 311,
   "metadata": {
    "collapsed": false
   },
   "outputs": [],
   "source": [
    "out_1.plot()\n",
    "plt.errorbar(data[0][intervall_voigt_1],data[1][intervall_voigt_1],err_1,fmt='. ')\n",
    "plt.show()"
   ]
  },
  {
   "cell_type": "code",
   "execution_count": 312,
   "metadata": {
    "collapsed": false
   },
   "outputs": [
    {
     "name": "stdout",
     "output_type": "stream",
     "text": [
      "[[Model]]\n",
      "    Model(voigt, prefix='voigt_1')\n",
      "[[Fit Statistics]]\n",
      "    # function evals   = 31\n",
      "    # data points      = 22\n",
      "    # variables        = 4\n",
      "    chi-square         = 169.680\n",
      "    reduced chi-square = 9.427\n",
      "[[Variables]]\n",
      "    voigt_1sigma:       0.01436180 +/- 0.000631 (4.39%) (init= 0.01222012)\n",
      "    voigt_1center:      25.6455563 +/- 0.000146 (0.00%) (init= 25.64408)\n",
      "    voigt_1amplitude:   1105.70621 +/- 14.34691 (1.30%) (init= 1000.658)\n",
      "    voigt_1fwhm:        0.05172131 +/- 0.002272 (4.39%)  == '3.6013100*voigt_1sigma'\n",
      "    voigt_1gamma:       0.00846625 +/- 0.000803 (9.49%) (init= 0.001)\n",
      "[[Correlations]] (unreported correlations are <  0.100)\n",
      "    C(voigt_1sigma, voigt_1gamma)  = -0.967 \n",
      "    C(voigt_1amplitude, voigt_1gamma)  =  0.868 \n",
      "    C(voigt_1sigma, voigt_1amplitude)  = -0.828 \n"
     ]
    }
   ],
   "source": [
    "print(out_1.fit_report())"
   ]
  },
  {
   "cell_type": "markdown",
   "metadata": {},
   "source": [
    "### Mulit-Voigt"
   ]
  },
  {
   "cell_type": "code",
   "execution_count": 313,
   "metadata": {
    "collapsed": false
   },
   "outputs": [],
   "source": [
    "intervall_voigt_2 = np.arange(np.where(data[0] > 28.39)[0][0], np.where(data[0] > 28.54)[0][0])\n",
    "guess_intervall_voigt_2 = np.arange(np.where( 28.4 < data[0])[0][0],np.where( data[0] > 28.452)[0][0])\n",
    "guess_intervall_voigt_3 = np.arange(np.where( 28.452 < data[0])[0][0],np.where( data[0] > 28.54)[0][0])\n",
    "err_2 = np.sqrt(data[1][intervall_voigt_2])\n",
    "err_2 = np.where(err_2 == 0, 1, err_2)"
   ]
  },
  {
   "cell_type": "code",
   "execution_count": 314,
   "metadata": {
    "collapsed": false
   },
   "outputs": [],
   "source": [
    "voigt_2 = models.VoigtModel(prefix='voigt_2')\n",
    "voigt_3 = models.VoigtModel(prefix='voigt_3')\n",
    "dual_voigt = voigt_2 + voigt_3\n",
    "pars_2 = voigt_2.guess(data[1][guess_intervall_voigt_2],x=data[0][guess_intervall_voigt_2])\n",
    "pars_2.update(voigt_3.guess(data[1][guess_intervall_voigt_3],x=data[0][guess_intervall_voigt_3]))\n",
    "pars_2['voigt_2gamma'].set(0.000001,vary=True,expr='')\n",
    "pars_2['voigt_3gamma'].set(0.000001,vary=True,expr='')\n",
    "pars_2['voigt_2amplitude'].set(1000)\n",
    "pars_2['voigt_3amplitude'].set(1000)"
   ]
  },
  {
   "cell_type": "code",
   "execution_count": 315,
   "metadata": {
    "collapsed": false
   },
   "outputs": [],
   "source": [
    "out_2 = dual_voigt.fit(data[1][intervall_voigt_2],pars_2,x=data[0][intervall_voigt_2],weights=1/(err_2))"
   ]
  },
  {
   "cell_type": "code",
   "execution_count": 316,
   "metadata": {
    "collapsed": false
   },
   "outputs": [],
   "source": [
    "out_2.plot_fit()\n",
    "plt.errorbar(data[0][intervall_voigt_2],data[1][intervall_voigt_2],err_2,fmt='. ')\n",
    "plt.xlim([28,29])\n",
    "plt.show()"
   ]
  },
  {
   "cell_type": "code",
   "execution_count": 317,
   "metadata": {
    "collapsed": false,
    "scrolled": false
   },
   "outputs": [
    {
     "name": "stdout",
     "output_type": "stream",
     "text": [
      "[[Model]]\n",
      "    (Model(voigt, prefix='voigt_2') + Model(voigt, prefix='voigt_3'))\n",
      "[[Fit Statistics]]\n",
      "    # function evals   = 187\n",
      "    # data points      = 36\n",
      "    # variables        = 8\n",
      "    chi-square         = 2097.715\n",
      "    reduced chi-square = 74.918\n",
      "[[Variables]]\n",
      "    voigt_2sigma:       0.02559636 +/- 0.003664 (14.32%) (init= 0.01222012)\n",
      "    voigt_2amplitude:   2225.75595 +/- 342.9151 (15.41%) (init= 1000)\n",
      "    voigt_2center:      28.4346989 +/- 0.001619 (0.01%) (init= 28.43068)\n",
      "    voigt_2fwhm:        0.09218045 +/- 0.013197 (14.32%)  == '3.6013100*voigt_2sigma'\n",
      "    voigt_2gamma:      -0.00374697 +/- 0.007768 (207.32%) (init= 1e-06)\n",
      "    voigt_3sigma:       0.02583595 +/- 0.008128 (31.46%) (init= 0.02308244)\n",
      "    voigt_3amplitude:   1113.47325 +/- 522.0124 (46.88%) (init= 1000)\n",
      "    voigt_3center:      28.5085611 +/- 0.000917 (0.00%) (init= 28.4948)\n",
      "    voigt_3fwhm:        0.09304327 +/- 0.029272 (31.46%)  == '3.6013100*voigt_3sigma'\n",
      "    voigt_3gamma:      -0.01653587 +/- 0.023415 (141.61%) (init= 1e-06)\n",
      "[[Correlations]] (unreported correlations are <  0.100)\n",
      "    C(voigt_3sigma, voigt_3gamma)  = -0.998 \n",
      "    C(voigt_3amplitude, voigt_3gamma)  =  0.992 \n",
      "    C(voigt_3sigma, voigt_3amplitude)  = -0.985 \n",
      "    C(voigt_2sigma, voigt_2gamma)  = -0.965 \n",
      "    C(voigt_2center, voigt_3amplitude)  = -0.963 \n",
      "    C(voigt_2center, voigt_3gamma)  = -0.946 \n",
      "    C(voigt_2center, voigt_3sigma)  =  0.930 \n",
      "    C(voigt_2center, voigt_3center)  =  0.907 \n",
      "    C(voigt_3amplitude, voigt_3center)  = -0.871 \n",
      "    C(voigt_3center, voigt_3gamma)  = -0.853 \n",
      "    C(voigt_3sigma, voigt_3center)  =  0.836 \n",
      "    C(voigt_2amplitude, voigt_3amplitude)  = -0.799 \n",
      "    C(voigt_2amplitude, voigt_2center)  =  0.775 \n",
      "    C(voigt_2amplitude, voigt_2gamma)  =  0.744 \n",
      "    C(voigt_2amplitude, voigt_3gamma)  = -0.725 \n",
      "    C(voigt_2amplitude, voigt_3sigma)  =  0.708 \n",
      "    C(voigt_2amplitude, voigt_3center)  =  0.704 \n",
      "    C(voigt_2sigma, voigt_2amplitude)  = -0.560 \n",
      "    C(voigt_2gamma, voigt_3amplitude)  = -0.202 \n",
      "    C(voigt_2center, voigt_2gamma)  =  0.192 \n",
      "    C(voigt_2gamma, voigt_3center)  =  0.163 \n",
      "    C(voigt_2sigma, voigt_3sigma)  =  0.148 \n",
      "    C(voigt_2sigma, voigt_3gamma)  = -0.136 \n"
     ]
    }
   ],
   "source": [
    "print(out_2.fit_report())"
   ]
  },
  {
   "cell_type": "code",
   "execution_count": 318,
   "metadata": {
    "collapsed": false
   },
   "outputs": [],
   "source": [
    "plt.subplot(121)\n",
    "plt.errorbar(data[0][intervall_voigt_1],data[1][intervall_voigt_1],err_1,label=\"Messdaten\")\n",
    "plt.plot(np.arange(25.59,25.70,0.0001),out_1.eval(x=np.arange(25.59,25.70,0.0001)),label=\"Multi-Voigt-Fit\")\n",
    "plt.ticklabel_format(useOffset=False)\n",
    "plt.xticks(fontsize=30)\n",
    "plt.yticks(fontsize=30)\n",
    "plt.legend(loc='best',fontsize=42)\n",
    "plt.xlabel('Winkel in 2$\\Theta$ /$^\\circ$',fontsize=42)\n",
    "plt.ylabel('Counts',fontsize=42)\n",
    "plt.title('Fit für den einzelnen Peak',fontsize=42)\n",
    "\n",
    "\n",
    "plt.subplot(122)\n",
    "plt.errorbar(data[0][intervall_voigt_2],data[1][intervall_voigt_2],err_2,label=\"Messdaten\")\n",
    "plt.plot(np.arange(28.39,28.545,0.0001),out_2.eval(x=np.arange(28.39,28.545,0.0001)),label=\"Multi-Voigt-Fit\")\n",
    "plt.ticklabel_format(useOffset=False)\n",
    "plt.xlabel('Winkel in 2$\\Theta$ /$^\\circ$',fontsize=42)\n",
    "plt.ylabel('Counts',fontsize=42)\n",
    "plt.xticks(fontsize=30)\n",
    "plt.yticks(fontsize=30)\n",
    "plt.legend(loc='best',fontsize=42)\n",
    "plt.title('Fit für die überlagerten Peaks',fontsize=42)\n",
    "\n",
    "plt.show()"
   ]
  },
  {
   "cell_type": "markdown",
   "metadata": {},
   "source": [
    "# Plots der Spektren für die ersten 4 Aufnahme"
   ]
  },
  {
   "cell_type": "code",
   "execution_count": null,
   "metadata": {
    "collapsed": true
   },
   "outputs": [],
   "source": [
    "data_spektrum = np.loadtxt(\"Si111_40_30_Ni.xy\").T"
   ]
  },
  {
   "cell_type": "raw",
   "metadata": {
    "collapsed": true
   },
   "source": [
    "plt.errorbar(data_spektrum[0],data_spektrum[1],np.sqrt(data_spektrum[1]),fmt='. ',label=\"Messdaten, mit U = 40 kV \\n A = 30mA, mit Ni-Filter\")\n",
    "plt.xlabel('Winkel in 2$\\Theta$ /$^\\circ$',fontsize=42)\n",
    "plt.ylabel('Counts',fontsize=42)\n",
    "plt.legend(loc='best',fontsize=40)\n",
    "plt.xticks(fontsize=30)\n",
    "plt.yticks(fontsize=30)\n",
    "plt.show()"
   ]
  },
  {
   "cell_type": "markdown",
   "metadata": {
    "collapsed": true
   },
   "source": [
    "# Ni-Verhältnis"
   ]
  },
  {
   "cell_type": "markdown",
   "metadata": {
    "collapsed": false
   },
   "source": [
    "## Messen des Röntgenspektrums der Kupferanode\n",
    "Es werden drei verschiedene Spannungen und Ströme verwendet\n",
    "+ U$_1$ = 30keV, A$_1$ = 10mA\n",
    "+ U$_2$ = 40keV, A$_2$ = 10mA\n",
    "+ U$_3$ = 40keV, A$_3$ = 30mA\n",
    "\n",
    "Die letzte Einstellung wird noch mal mit einem Ni-Filter wiederholt\n",
    "\n",
    "+ U$_{Ni}$ = 30keV, A$_{Ni}$ = 30mA\n",
    "\n",
    "Auswertung:\n",
    "+ Zählrate als Funktion des Winkels auftragen\n",
    "+ Die lage der K$_{\\alpha_{1,2}}$- und der K$_\\beta$-Linien bestimmen, sowie die Verhältnisse (unter einander und unter den Ordnungen)\n",
    "+ Mit Ni-Filter die Abschwächung der K$_\\beta$-Linie, das \"Signal-zu-Rausch\" Verhältnis für die K$_{\\alpha_{1,2}}$-Linie, die Energie und die Energiebreite bestimmen\n",
    "+ Weitere Details des Spektrums diskutieren"
   ]
  },
  {
   "cell_type": "code",
   "execution_count": null,
   "metadata": {
    "collapsed": true
   },
   "outputs": [],
   "source": [
    "data_ni_o = np.loadtxt(\"Si111_40_30.xy\").T\n",
    "data_ni_m = np.loadtxt(\"Si111_40_30_Ni.xy\").T"
   ]
  },
  {
   "cell_type": "code",
   "execution_count": null,
   "metadata": {
    "collapsed": false
   },
   "outputs": [],
   "source": [
    "plt.subplot(212)\n",
    "plt.errorbar(data_ni_m[0],data_ni_m[1],np.sqrt(data_ni_m[1]),fmt='. b',label=\"Messdaten mit Filter\")\n",
    "plt.xlim([28,29])\n",
    "plt.xticks(fontsize=22)\n",
    "plt.yticks(fontsize=22)\n",
    "plt.legend(loc='best', fontsize=32)\n",
    "\n",
    "plt.subplot(211)\n",
    "plt.errorbar(data_ni_o[0],data_ni_o[1],np.sqrt(data_ni_o[1]),fmt='. r',label=\"Messdaten ohne Filter\")\n",
    "plt.xlim([40,55])\n",
    "plt.ylim([0,20])\n",
    "plt.xticks(fontsize=22)\n",
    "plt.yticks(fontsize=22)\n",
    "plt.legend(loc='best', fontsize=32)\n",
    "\n",
    "plt.show()"
   ]
  },
  {
   "cell_type": "code",
   "execution_count": null,
   "metadata": {
    "collapsed": true
   },
   "outputs": [],
   "source": [
    "plt.errorbar(data_ni_o[0],data_ni_o[1],np.sqrt(data_ni_o[1]),fmt='. b',label=\"Messdaten ohne Filter\")\n",
    "plt.errorbar(data_ni_m[0],data_ni_m[1],np.sqrt(data_ni_m[1]),fmt='. r',label=\"Messdaten mit Filter\")\n",
    "plt.xticks(fontsize=22)\n",
    "plt.yticks(fontsize=22)\n",
    "plt.legend(loc='best', fontsize=32)\n",
    "\n",
    "plt.show()"
   ]
  },
  {
   "cell_type": "code",
   "execution_count": null,
   "metadata": {
    "collapsed": false
   },
   "outputs": [],
   "source": [
    "10 * np.log(1500/(1500-1046))"
   ]
  },
  {
   "cell_type": "code",
   "execution_count": null,
   "metadata": {
    "collapsed": false
   },
   "outputs": [],
   "source": [
    "from uncertainties import ufloat\n",
    "from uncertainties.umath import log as lg\n",
    "from uncertainties.umath import sin as si\n",
    "\n",
    "y = ufloat(1500,41)\n",
    "x = ufloat(1814,613)\n",
    "\n",
    "print(10*lg(x/abs(x-y)))"
   ]
  },
  {
   "cell_type": "code",
   "execution_count": null,
   "metadata": {
    "collapsed": false
   },
   "outputs": [],
   "source": [
    "x = ufloat(313,2)\n",
    "y = ufloat(771,6)\n",
    "\n",
    "print(10*lg(y/abs(x-y)))"
   ]
  },
  {
   "cell_type": "code",
   "execution_count": null,
   "metadata": {
    "collapsed": false,
    "scrolled": true
   },
   "outputs": [],
   "source": [
    "x = ufloat(837,40)\n",
    "y = ufloat(1046,273)\n",
    "\n",
    "print(10*lg(y/abs(x-y)))"
   ]
  },
  {
   "cell_type": "code",
   "execution_count": null,
   "metadata": {
    "collapsed": false
   },
   "outputs": [],
   "source": [
    "x = ufloat(157,2)\n",
    "y = ufloat(363,4)\n",
    "\n",
    "print(10*lg(y/abs(x-y)))"
   ]
  },
  {
   "cell_type": "markdown",
   "metadata": {
    "collapsed": true
   },
   "source": [
    "$\\huge E = \\frac{nhc}{2 \\cdot d \\cdot sin(\\Theta)}$"
   ]
  },
  {
   "cell_type": "code",
   "execution_count": null,
   "metadata": {
    "collapsed": true
   },
   "outputs": [],
   "source": [
    "hc = 12.39841875\n",
    "d_si = 3.1355"
   ]
  },
  {
   "cell_type": "code",
   "execution_count": null,
   "metadata": {
    "collapsed": false
   },
   "outputs": [],
   "source": [
    "def E(theta,n=1):\n",
    "    return (n*hc)/(2*d_si*si((np.pi * theta)/180))"
   ]
  },
  {
   "cell_type": "code",
   "execution_count": null,
   "metadata": {
    "collapsed": false
   },
   "outputs": [],
   "source": [
    "(hc)/(2*d_si*si((np.pi * ufloat(25.6390/2,0.007))/180))/8905.3"
   ]
  },
  {
   "cell_type": "code",
   "execution_count": null,
   "metadata": {
    "collapsed": false
   },
   "outputs": [],
   "source": [
    "E(ufloat(25.6390/2,0.007))"
   ]
  },
  {
   "cell_type": "code",
   "execution_count": null,
   "metadata": {
    "collapsed": false
   },
   "outputs": [],
   "source": [
    "E(ufloat(28.4278/2,0.007))/8047,8"
   ]
  },
  {
   "cell_type": "code",
   "execution_count": null,
   "metadata": {
    "collapsed": false
   },
   "outputs": [],
   "source": [
    "E(ufloat(28.4996/2,0.007))/8027,8"
   ]
  },
  {
   "cell_type": "code",
   "execution_count": null,
   "metadata": {
    "collapsed": true
   },
   "outputs": [],
   "source": []
  }
 ],
 "metadata": {
  "kernelspec": {
   "display_name": "Python 3",
   "language": "python",
   "name": "python3"
  },
  "language_info": {
   "codemirror_mode": {
    "name": "ipython",
    "version": 3
   },
   "file_extension": ".py",
   "mimetype": "text/x-python",
   "name": "python",
   "nbconvert_exporter": "python",
   "pygments_lexer": "ipython3",
   "version": "3.4.3"
  }
 },
 "nbformat": 4,
 "nbformat_minor": 0
}
