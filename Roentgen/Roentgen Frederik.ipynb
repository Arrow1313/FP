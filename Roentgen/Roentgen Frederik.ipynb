{
 "cells": [
  {
   "cell_type": "code",
   "execution_count": 1,
   "metadata": {
    "collapsed": false
   },
   "outputs": [
    {
     "name": "stderr",
     "output_type": "stream",
     "text": [
      "/home/arrow13/anaconda3/lib/python3.4/site-packages/IPython/html.py:14: ShimWarning: The `IPython.html` package has been deprecated. You should import from `notebook` instead. `IPython.html.widgets` has moved to `ipywidgets`.\n",
      "  \"`IPython.html.widgets` has moved to `ipywidgets`.\", ShimWarning)\n"
     ]
    }
   ],
   "source": [
    "import os\n",
    "import numpy as np\n",
    "import pandas as pd\n",
    "import matplotlib.pyplot as plt\n",
    "import scipy.optimize as opt\n",
    "from lmfit import models"
   ]
  },
  {
   "cell_type": "code",
   "execution_count": 2,
   "metadata": {
    "collapsed": true
   },
   "outputs": [],
   "source": [
    "pc_henrik = '/home/arrow13/Git/FP/Roentgen/'\n",
<<<<<<< HEAD
    "pc_frederik = '/home/frederik/Dokumente/FP/Roentgen'"
=======
    "pc_frederik = '/home/frederik/Dokumente/FP/Roentgen/'"
>>>>>>> 3db1a73ae0c5f901952342be9cf1ef7d9a71a6e2
   ]
  },
  {
   "cell_type": "code",
<<<<<<< HEAD
   "execution_count": 3,
=======
   "execution_count": 8,
>>>>>>> 3db1a73ae0c5f901952342be9cf1ef7d9a71a6e2
   "metadata": {
    "collapsed": true
   },
   "outputs": [],
   "source": [
    "var_pc = pc_frederik"
   ]
  },
  {
   "cell_type": "code",
<<<<<<< HEAD
   "execution_count": 4,
=======
   "execution_count": 9,
>>>>>>> 3db1a73ae0c5f901952342be9cf1ef7d9a71a6e2
   "metadata": {
    "collapsed": false
   },
   "outputs": [
    {
     "name": "stdout",
     "output_type": "stream",
     "text": [
      "[Errno 2] No such file or directory: '/home/frederik/Dokumente/FP/Roentgen//Messdaten/'\n",
      "/home/arrow13/Git/FP/Roentgen/Messdaten\n"
     ]
    }
   ],
   "source": [
<<<<<<< HEAD
    "cd $var_pc/Messdaten"
=======
    "cd $var_pc'/Messdaten/'"
>>>>>>> 3db1a73ae0c5f901952342be9cf1ef7d9a71a6e2
   ]
  },
  {
   "cell_type": "code",
<<<<<<< HEAD
   "execution_count": 44,
=======
   "execution_count": 10,
>>>>>>> 3db1a73ae0c5f901952342be9cf1ef7d9a71a6e2
   "metadata": {
    "collapsed": false
   },
   "outputs": [],
   "source": [
    "data = np.loadtxt(\"Si111_40_30.xy\").T"
   ]
  },
  {
   "cell_type": "markdown",
   "metadata": {},
   "source": [
    "# Einlesen, vorbereiten und auswerten der Daten (mit Versuchsplan)"
   ]
  },
  {
   "cell_type": "markdown",
   "metadata": {},
   "source": [
    "## Messen des Röntgenspektrums der Kupferanode\n",
    "Es werden drei verschiedene Spannungen und Ströme verwendet\n",
    "+ U$_1$ = 30keV, A$_1$ = 10mA\n",
    "+ U$_2$ = 40keV, A$_2$ = 10mA\n",
    "+ U$_3$ = 40keV, A$_3$ = 30mA\n",
    "\n",
    "Die letzte Einstellung wird noch mal mit einem Ni-Filter wiederholt\n",
    "\n",
    "+ U$_{Ni}$ = 30keV, A$_{Ni}$ = 30mA\n",
    "\n",
    "Auswertung:\n",
    "+ Zählrate als Funktion des Winkels auftragen\n",
    "+ Die lage der K$_{\\alpha_{1,2}}$- und der K$_\\beta$-Linien bestimmen, sowie die Verhältnisse (unter einander und unter den Ordnungen)\n",
    "+ Mit Ni-Filter die Abschwächung der K$_\\beta$-Linie, das \"Signal-zu-Rausch\" Verhältnis für die K$_{\\alpha_{1,2}}$-Linie, die Energie und die Energiebreite bestimmen\n",
    "+ Weitere Details des Spektrums diskutieren"
   ]
  },
  {
   "cell_type": "markdown",
   "metadata": {},
   "source": [
    "## Netzebenabstand Si(331)\n",
    "+ Aus dem Diffraktogramm soll der Netzebenabstand von Si(331) bestimmt werden\n",
    "+ Der bestimmte Netzebenabstand soll mit Literaturwerten abgeglichen werden"
   ]
  },
  {
   "cell_type": "markdown",
   "metadata": {},
   "source": [
    "## Netzebenabstand Ge(111)\n",
    "+ Aus dem Diffraktogramm soll der Netzebenabstand von Si(331) bestimmt werden\n",
    "+ Der bestimmte Netzebenabstand soll mit Literaturwerten abgeglichen werden"
   ]
  },
  {
   "cell_type": "markdown",
   "metadata": {},
   "source": [
    "## Pulverdiraktometrie\n",
    "+ Aus dem Diffraktogramm soll mittels einer Datenbank qualitativ die Zusammensetzung bestimmt werden\n",
    "+ Unabhängig von der Datenbank sollen die Netzebenabstände des Pulvers bestimmt werden\n",
    "+ Graphisch zeigen, dass die gefundene Kirstallstrucktur mit dem Diffraktogramm verträglich ist\n",
    "+ Die mittlere Kristallgröße ermitteln"
   ]
  },
  {
   "cell_type": "markdown",
   "metadata": {},
   "source": [
    "### Voigt für den einzel Peak "
   ]
  },
  {
   "cell_type": "code",
   "execution_count": 45,
   "metadata": {
    "collapsed": false
   },
   "outputs": [],
   "source": [
    "intervall_voigt_1 = np.arange(np.where(data[0] > 25.61)[0][0], np.where(data[0] > 25.68)[0][0])\n",
    "err_1 = np.sqrt(data[1][intervall_voigt_1])\n",
    "err_1 = np.where(err_1 == 0, 1, err_1)"
   ]
  },
  {
   "cell_type": "code",
   "execution_count": 46,
   "metadata": {
    "collapsed": false
   },
   "outputs": [],
   "source": [
    "voigt_1 = models.VoigtModel(prefix='voigt_1')\n",
    "pars_1 = voigt_1.guess(data[1][intervall_voigt_1],x=data[0][intervall_voigt_1])\n",
    "pars_1['voigt_1gamma'].set(0.001,vary=True,expr='')"
   ]
  },
  {
   "cell_type": "code",
   "execution_count": 47,
   "metadata": {
    "collapsed": false
   },
   "outputs": [],
   "source": [
    "out_1 = voigt_1.fit(data[1][intervall_voigt_1],pars_1,x=data[0][intervall_voigt_1], weights=1/(err_1))"
   ]
  },
  {
   "cell_type": "code",
   "execution_count": 48,
   "metadata": {
    "collapsed": true
   },
   "outputs": [],
   "source": [
    "out_1.plot()\n",
    "plt.errorbar(data[0][intervall_voigt_1],data[1][intervall_voigt_1],err_1,fmt='. ')\n",
    "plt.show()"
   ]
  },
  {
   "cell_type": "code",
   "execution_count": 49,
   "metadata": {
    "collapsed": false
   },
   "outputs": [
    {
     "name": "stdout",
     "output_type": "stream",
     "text": [
      "[[Model]]\n",
      "    Model(voigt, prefix='voigt_1')\n",
      "[[Fit Statistics]]\n",
      "    # function evals   = 38\n",
      "    # data points      = 17\n",
      "    # variables        = 4\n",
      "    chi-square         = 82.478\n",
      "    reduced chi-square = 6.344\n",
      "[[Variables]]\n",
      "    voigt_1amplitude:   1054.20839 +/- 35.10206 (3.33%) (init= 761.8333)\n",
      "    voigt_1sigma:       0.01605901 +/- 0.001187 (7.39%) (init= 0.01086232)\n",
      "    voigt_1center:      25.6454299 +/- 0.000127 (0.00%) (init= 25.64617)\n",
      "    voigt_1gamma:       0.00564778 +/- 0.001983 (35.12%) (init= 0.001)\n",
      "    voigt_1fwhm:        0.05783350 +/- 0.004275 (7.39%)  == '3.6013100*voigt_1sigma'\n",
      "[[Correlations]] (unreported correlations are <  0.100)\n",
      "    C(voigt_1sigma, voigt_1gamma)  = -0.993 \n",
      "    C(voigt_1amplitude, voigt_1gamma)  =  0.986 \n",
      "    C(voigt_1amplitude, voigt_1sigma)  = -0.973 \n"
     ]
    }
   ],
   "source": [
    "print(out_1.fit_report())"
   ]
  },
  {
   "cell_type": "markdown",
   "metadata": {},
   "source": [
    "### Mulit-Voigt"
   ]
  },
  {
   "cell_type": "code",
   "execution_count": 50,
   "metadata": {
    "collapsed": true
   },
   "outputs": [],
   "source": [
    "intervall_voigt_2 = np.arange(np.where(data[0] > 28.4)[0][0], np.where(data[0] > 28.55)[0][0])\n",
    "guess_intervall_voigt_2 = np.arange(np.where( 28.39 < data[0])[0][0],np.where( data[0] > 28.48)[0][0])\n",
    "guess_intervall_voigt_3 = np.arange(np.where( 28.47 < data[0])[0][0],np.where( data[0] > 28.54)[0][0])\n",
    "err_2 = np.sqrt(data[1][intervall_voigt_2])\n",
    "err_2 = np.where(err_2 == 0, 1, err_2)"
   ]
  },
  {
   "cell_type": "code",
   "execution_count": 51,
   "metadata": {
    "collapsed": false
   },
   "outputs": [],
   "source": [
    "voigt_2 = models.VoigtModel(prefix='voigt_2')\n",
    "voigt_3 = models.VoigtModel(prefix='voigt_3')\n",
    "dual_voigt = voigt_2 + voigt_3\n",
    "pars_2 = voigt_2.guess(data[1][guess_intervall_voigt_2],x=data[0][guess_intervall_voigt_2])\n",
    "pars_2.update(voigt_3.guess(data[1][guess_intervall_voigt_3],x=data[0][guess_intervall_voigt_3]))\n",
    "pars_2['voigt_2gamma'].set(0.0001,vary=True,expr='')\n",
    "pars_2['voigt_3gamma'].set(0.0001,vary=True,expr='')"
   ]
  },
  {
   "cell_type": "code",
   "execution_count": 52,
   "metadata": {
    "collapsed": true
   },
   "outputs": [],
   "source": [
    "out_2 = dual_voigt.fit(data[1][intervall_voigt_2],pars_2,x=data[0][intervall_voigt_2],weights=1/(err_2))"
   ]
  },
  {
   "cell_type": "code",
   "execution_count": 53,
   "metadata": {
    "collapsed": false
   },
   "outputs": [],
   "source": [
    "out_2.plot_fit()\n",
    "plt.errorbar(data[0][intervall_voigt_2],data[1][intervall_voigt_2],err_2,fmt='. ')\n",
    "plt.show()"
   ]
  },
  {
   "cell_type": "code",
   "execution_count": 54,
   "metadata": {
    "collapsed": false,
    "scrolled": false
   },
   "outputs": [
    {
     "name": "stdout",
     "output_type": "stream",
     "text": [
      "[[Model]]\n",
      "    (Model(voigt, prefix='voigt_2') + Model(voigt, prefix='voigt_3'))\n",
      "[[Fit Statistics]]\n",
      "    # function evals   = 849\n",
      "    # data points      = 36\n",
      "    # variables        = 8\n",
      "    chi-square         = 1945.766\n",
      "    reduced chi-square = 69.492\n",
      "[[Variables]]\n",
      "    voigt_2sigma:       0.07799571 +/- 0.030906 (39.63%) (init= 0.0149357)\n",
      "    voigt_2amplitude:   41.5064449 +/- 137.5723 (331.45%) (init= 1946.006)\n",
      "    voigt_2center:      28.4324046 +/- 0.000507 (0.00%) (init= 28.43486)\n",
      "    voigt_2gamma:      -0.23322932 +/- 0.189999 (81.46%) (init= 0.0001)\n",
      "    voigt_2fwhm:        0.28088674 +/- 0.111302 (39.63%)  == '3.6013100*voigt_2sigma'\n",
      "    voigt_3sigma:       0.02164877 +/- 0.003752 (17.33%) (init= 0.01222012)\n",
      "    voigt_3amplitude:   2789.35498 +/- 252.6719 (9.06%) (init= 1136.358)\n",
      "    voigt_3center:      28.5072203 +/- 0.001764 (0.01%) (init= 28.50588)\n",
      "    voigt_3gamma:      -0.00125114 +/- 0.007410 (592.32%) (init= 0.0001)\n",
      "    voigt_3fwhm:        0.07796396 +/- 0.013514 (17.33%)  == '3.6013100*voigt_3sigma'\n",
      "[[Correlations]] (unreported correlations are <  0.100)\n",
      "    C(voigt_2amplitude, voigt_2gamma)  =  1.000 \n",
      "    C(voigt_2sigma, voigt_2gamma)  = -1.000 \n",
      "    C(voigt_2sigma, voigt_2amplitude)  = -0.999 \n",
      "    C(voigt_3sigma, voigt_3gamma)  = -0.998 \n",
      "    C(voigt_2sigma, voigt_3center)  =  0.945 \n",
      "    C(voigt_2gamma, voigt_3center)  = -0.940 \n",
      "    C(voigt_2amplitude, voigt_3center)  = -0.934 \n",
      "    C(voigt_2sigma, voigt_3amplitude)  =  0.898 \n",
      "    C(voigt_2amplitude, voigt_3sigma)  = -0.896 \n",
      "    C(voigt_2gamma, voigt_3sigma)  = -0.895 \n",
      "    C(voigt_2gamma, voigt_3amplitude)  = -0.894 \n",
      "    C(voigt_2amplitude, voigt_3gamma)  =  0.894 \n",
      "    C(voigt_2amplitude, voigt_3amplitude)  = -0.892 \n",
      "    C(voigt_2gamma, voigt_3gamma)  =  0.892 \n",
      "    C(voigt_2sigma, voigt_3sigma)  =  0.891 \n",
      "    C(voigt_2sigma, voigt_3gamma)  = -0.887 \n",
      "    C(voigt_3amplitude, voigt_3center)  =  0.882 \n",
      "    C(voigt_3sigma, voigt_3center)  =  0.795 \n",
      "    C(voigt_3center, voigt_3gamma)  = -0.787 \n",
      "    C(voigt_2center, voigt_3gamma)  = -0.635 \n",
      "    C(voigt_2center, voigt_3center)  =  0.635 \n",
      "    C(voigt_2center, voigt_3sigma)  =  0.617 \n",
      "    C(voigt_2amplitude, voigt_2center)  = -0.615 \n",
      "    C(voigt_2center, voigt_2gamma)  = -0.612 \n",
      "    C(voigt_3sigma, voigt_3amplitude)  =  0.609 \n",
      "    C(voigt_2sigma, voigt_2center)  =  0.608 \n",
      "    C(voigt_3amplitude, voigt_3gamma)  = -0.601 \n",
      "    C(voigt_2center, voigt_3amplitude)  =  0.446 \n"
     ]
    }
   ],
   "source": [
    "print(out_2.fit_report())"
   ]
  },
  {
   "cell_type": "markdown",
   "metadata": {},
   "source": [
    "# Plots der Spektren für die ersten 4 Aufnahme"
   ]
  },
  {
   "cell_type": "code",
   "execution_count": 36,
   "metadata": {
    "collapsed": true
   },
   "outputs": [],
   "source": [
    "data_spektrum = np.loadtxt(\"Si111_40_30_Ni.xy\").T"
   ]
  },
  {
   "cell_type": "code",
   "execution_count": 37,
   "metadata": {
    "collapsed": true
   },
   "outputs": [],
   "source": [
    "plt.errorbar(data_spektrum[0],data_spektrum[1],np.sqrt(data_spektrum[1]),fmt='. ',label=\"Messdaten, mit U = 40 kV \\n A = 30mA, mit Ni-Filter\")\n",
    "plt.xlabel('Winkel in 2$\\Theta$ /$^\\circ$',fontsize=42)\n",
    "plt.ylabel('Counts',fontsize=42)\n",
    "plt.legend(loc='best',fontsize=40)\n",
    "plt.xticks(fontsize=30)\n",
    "plt.yticks(fontsize=30)\n",
    "plt.show()"
   ]
  },
  {
   "cell_type": "code",
   "execution_count": null,
   "metadata": {
    "collapsed": true
   },
   "outputs": [],
   "source": []
  }
 ],
 "metadata": {
  "kernelspec": {
   "display_name": "Python 3",
   "language": "python",
   "name": "python3"
  },
  "language_info": {
   "codemirror_mode": {
    "name": "ipython",
    "version": 3
   },
   "file_extension": ".py",
   "mimetype": "text/x-python",
   "name": "python",
   "nbconvert_exporter": "python",
   "pygments_lexer": "ipython3",
   "version": "3.4.3"
  }
 },
 "nbformat": 4,
 "nbformat_minor": 0
}
