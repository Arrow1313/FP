{
 "cells": [
  {
   "cell_type": "code",
   "execution_count": 1,
   "metadata": {
    "collapsed": false
   },
   "outputs": [
    {
     "name": "stderr",
     "output_type": "stream",
     "text": [
      "/home/frederik/anaconda3/lib/python3.4/site-packages/IPython/html.py:14: ShimWarning: The `IPython.html` package has been deprecated. You should import from `notebook` instead. `IPython.html.widgets` has moved to `ipywidgets`.\n",
      "  \"`IPython.html.widgets` has moved to `ipywidgets`.\", ShimWarning)\n"
     ]
    }
   ],
   "source": [
    "import os\n",
    "import numpy as np\n",
    "import pandas as pd\n",
    "import matplotlib.pyplot as plt\n",
    "import scipy.optimize as opt\n",
    "from lmfit import models\n",
    "from bokeh.plotting import figure, output_notebook, show"
   ]
  },
  {
   "cell_type": "code",
   "execution_count": 2,
   "metadata": {
    "collapsed": true
   },
   "outputs": [],
   "source": [
    "pc_henrik = '/home/arrow13/Git/FP/Roentgen/'\n",
    "pc_frederik = '/home/frederik/Dokumente/FP/Roentgen'"
   ]
  },
  {
   "cell_type": "code",
   "execution_count": 3,
   "metadata": {
    "collapsed": true
   },
   "outputs": [],
   "source": [
    "var_pc = pc_frederik"
   ]
  },
  {
   "cell_type": "code",
   "execution_count": 4,
   "metadata": {
    "collapsed": false
   },
   "outputs": [
    {
     "name": "stdout",
     "output_type": "stream",
     "text": [
      "/home/frederik/Dokumente/FP/Roentgen/Messdaten\n"
     ]
    }
   ],
   "source": [
    "cd $var_pc/Messdaten"
   ]
  },
  {
   "cell_type": "code",
   "execution_count": 5,
   "metadata": {
    "collapsed": true
   },
   "outputs": [],
   "source": [
    "data = np.loadtxt(\"Si111_40_30.xy\").T"
   ]
  },
  {
   "cell_type": "code",
   "execution_count": 6,
   "metadata": {
    "collapsed": true
   },
   "outputs": [],
   "source": [
    "plt.plot(data[0],data[1])\n",
    "plt.show()"
   ]
  },
  {
   "cell_type": "markdown",
   "metadata": {},
   "source": [
    "# Einlesen, vorbereiten und auswerten der Daten (mit Versuchsplan)"
   ]
  },
  {
   "cell_type": "markdown",
   "metadata": {},
   "source": [
    "## Messen des Röntgenspektrums der Kupferanode\n",
    "Es werden drei verschiedene Spannungen und Ströme verwendet\n",
    "+ U$_1$ = 30keV, A$_1$ = 10mA\n",
    "+ U$_2$ = 40keV, A$_2$ = 10mA\n",
    "+ U$_3$ = 40keV, A$_3$ = 30mA\n",
    "\n",
    "Die letzte Einstellung wird noch mal mit einem Ni-Filter wiederholt\n",
    "\n",
    "+ U$_{Ni}$ = 30keV, A$_{Ni}$ = 30mA\n",
    "\n",
    "Auswertung:\n",
    "+ Zählrate als Funktion des Winkels auftragen\n",
    "+ Die lage der K$_{\\alpha_{1,2}}$- und der K$_\\beta$-Linien bestimmen, sowie die Verhältnisse (unter einander und unter den Ordnungen)\n",
    "+ Mit Ni-Filter die Abschwächung der K$_\\beta$-Linie, das \"Signal-zu-Rausch\" Verhältnis für die K$_{\\alpha_{1,2}}$-Linie, die Energie und die Energiebreite bestimmen\n",
    "+ Weitere Details des Spektrums diskutieren"
   ]
  },
  {
   "cell_type": "markdown",
   "metadata": {},
   "source": [
    "## Netzebenabstand Si(331)\n",
    "+ Aus dem Diffraktogramm soll der Netzebenabstand von Si(331) bestimmt werden\n",
    "+ Der bestimmte Netzebenabstand soll mit Literaturwerten abgeglichen werden"
   ]
  },
  {
   "cell_type": "markdown",
   "metadata": {},
   "source": [
    "## Netzebenabstand Ge(111)\n",
    "+ Aus dem Diffraktogramm soll der Netzebenabstand von Si(331) bestimmt werden\n",
    "+ Der bestimmte Netzebenabstand soll mit Literaturwerten abgeglichen werden"
   ]
  },
  {
   "cell_type": "markdown",
   "metadata": {},
   "source": [
    "## Pulverdiraktometrie\n",
    "+ Aus dem Diffraktogramm soll mittels einer Datenbank qualitativ die Zusammensetzung bestimmt werden\n",
    "+ Unabhängig von der Datenbank sollen die Netzebenabstände des Pulvers bestimmt werden\n",
    "+ Graphisch zeigen, dass die gefundene Kirstallstrucktur mit dem Diffraktogramm verträglich ist\n",
    "+ Die mittlere Kristallgröße ermitteln"
   ]
  },
  {
   "cell_type": "markdown",
   "metadata": {},
   "source": [
    "### Voigt für den einzel Peak "
   ]
  },
  {
   "cell_type": "code",
   "execution_count": 7,
   "metadata": {
    "collapsed": false
   },
   "outputs": [],
   "source": [
    "intervall_voigt_1 = np.arange(np.where(data[0] > 83.43)[0][0], np.where(data[0] > 83.5862)[0][0])\n",
    "err_1 = np.sqrt(data[1][intervall_voigt_1])\n",
    "err_1 = np.where(err_1 == 0, 1, err_1)"
   ]
  },
  {
   "cell_type": "code",
   "execution_count": 8,
   "metadata": {
    "collapsed": false
   },
   "outputs": [],
   "source": [
    "voigt_1 = models.VoigtModel(prefix='voigt_1')\n",
    "pars_1 = voigt_1.guess(data[1][intervall_voigt_1],x=data[0][intervall_voigt_1])\n",
    "pars_1['voigt_1gamma'].set(0.001,vary=True,expr='')"
   ]
  },
  {
   "cell_type": "code",
   "execution_count": 9,
   "metadata": {
    "collapsed": false
   },
   "outputs": [],
   "source": [
    "out_1 = voigt_1.fit(data[1][intervall_voigt_1],pars_1,x=data[0][intervall_voigt_1], weights=1/(err_1))"
   ]
  },
  {
   "cell_type": "code",
   "execution_count": 10,
   "metadata": {
    "collapsed": true
   },
   "outputs": [],
   "source": [
    "out_1.plot()\n",
    "plt.errorbar(data[0][intervall_voigt_1],data[1][intervall_voigt_1],err_1,fmt='. ')\n",
    "plt.show()"
   ]
  },
  {
   "cell_type": "code",
   "execution_count": 11,
   "metadata": {
    "collapsed": false
   },
   "outputs": [
    {
     "name": "stdout",
     "output_type": "stream",
     "text": [
      "[[Model]]\n",
      "    Model(voigt, prefix='voigt_1')\n",
      "[[Fit Statistics]]\n",
      "    # function evals   = 31\n",
      "    # data points      = 37\n",
      "    # variables        = 4\n",
      "    chi-square         = 68.009\n",
      "    reduced chi-square = 2.061\n",
      "[[Variables]]\n",
      "    voigt_1amplitude:   184.071531 +/- 3.630029 (1.97%) (init= 112.6005)\n",
      "    voigt_1sigma:       0.01169932 +/- 0.003771 (32.24%) (init= 0.02172465)\n",
      "    voigt_1center:      83.5109857 +/- 0.000432 (0.00%) (init= 83.51311)\n",
      "    voigt_1gamma:       0.03792108 +/- 0.002355 (6.21%) (init= 0.001)\n",
      "    voigt_1fwhm:        0.04213289 +/- 0.013582 (32.24%)  == '3.6013100*voigt_1sigma'\n",
      "[[Correlations]] (unreported correlations are <  0.100)\n",
      "    C(voigt_1sigma, voigt_1gamma)  = -0.956 \n",
      "    C(voigt_1amplitude, voigt_1gamma)  =  0.908 \n",
      "    C(voigt_1amplitude, voigt_1sigma)  = -0.848 \n"
     ]
    }
   ],
   "source": [
    "print(out_1.fit_report())"
   ]
  },
  {
   "cell_type": "markdown",
   "metadata": {},
   "source": [
    "### Mulit-Voigt"
   ]
  },
  {
   "cell_type": "code",
   "execution_count": 12,
   "metadata": {
    "collapsed": false
   },
   "outputs": [],
   "source": [
    "intervall_voigt_2 = np.arange(np.where(data[0] > 94.875)[0][0], np.where(data[0] > 95.3)[0][0])\n",
    "guess_intervall_voigt_2 = np.arange(np.where( 94.875 < data[0])[0][0],np.where( data[0] > 95.1)[0][0])\n",
    "guess_intervall_voigt_3 = np.arange(np.where( 95.1 < data[0])[0][0],np.where( data[0] > 95.3)[0][0])\n",
    "err_2 = np.sqrt(data[1][intervall_voigt_2])\n",
    "err_2 = np.where(err_2 == 0, 1, err_2)"
   ]
  },
  {
   "cell_type": "code",
   "execution_count": 13,
   "metadata": {
    "collapsed": false
   },
   "outputs": [],
   "source": [
    "voigt_2 = models.VoigtModel(prefix='voigt_2')\n",
    "voigt_3 = models.VoigtModel(prefix='voigt_3')\n",
    "dual_voigt = voigt_2 + voigt_3\n",
    "pars_2 = voigt_2.guess(data[1][guess_intervall_voigt_2],x=data[0][guess_intervall_voigt_2])\n",
    "pars_2.update(voigt_3.guess(data[1][guess_intervall_voigt_3],x=data[0][guess_intervall_voigt_3]))\n",
    "pars_2['voigt_2gamma'].set(0.0001,vary=True,expr='')\n",
    "pars_2['voigt_3gamma'].set(0.0001,vary=True,expr='')\n",
    "pars_2['voigt_2amplitude'].set(1000)\n",
    "pars_2['voigt_3amplitude'].set(1000)"
   ]
  },
  {
   "cell_type": "code",
   "execution_count": 14,
   "metadata": {
    "collapsed": false
   },
   "outputs": [],
   "source": [
    "out_2 = dual_voigt.fit(data[1][intervall_voigt_2],pars_2,x=data[0][intervall_voigt_2],weights=1/(err_2))"
   ]
  },
  {
   "cell_type": "code",
   "execution_count": 15,
   "metadata": {
    "collapsed": true
   },
   "outputs": [],
   "source": [
    "out_2.plot_fit()\n",
    "plt.errorbar(data[0][intervall_voigt_2],data[1][intervall_voigt_2],err_2,fmt='. ')\n",
    "plt.show()"
   ]
  },
  {
   "cell_type": "code",
   "execution_count": 16,
   "metadata": {
    "collapsed": false,
    "scrolled": false
   },
   "outputs": [
    {
     "name": "stdout",
     "output_type": "stream",
     "text": [
      "[[Model]]\n",
      "    (Model(voigt, prefix='voigt_2') + Model(voigt, prefix='voigt_3'))\n",
      "[[Fit Statistics]]\n",
      "    # function evals   = 55\n",
      "    # data points      = 102\n",
      "    # variables        = 8\n",
      "    chi-square         = 399.960\n",
      "    reduced chi-square = 4.255\n",
      "[[Variables]]\n",
      "    voigt_2sigma:       0.01150577 +/- 0.000814 (7.08%) (init= 0.01629349)\n",
      "    voigt_2amplitude:   710.601029 +/- 5.023346 (0.71%) (init= 1000)\n",
      "    voigt_2center:      94.9398390 +/- 0.000207 (0.00%) (init= 94.93944)\n",
      "    voigt_2gamma:       0.02417442 +/- 0.000550 (2.28%) (init= 0.0001)\n",
      "    voigt_2fwhm:        0.04143587 +/- 0.002932 (7.08%)  == '3.6013100*voigt_2sigma'\n",
      "    voigt_3sigma:       0.01825475 +/- 0.001054 (5.77%) (init= 0.01900907)\n",
      "    voigt_3center:      95.2518722 +/- 0.000345 (0.00%) (init= 95.25278)\n",
      "    voigt_3amplitude:   362.023717 +/- 4.443356 (1.23%) (init= 1000)\n",
      "    voigt_3gamma:       0.02132134 +/- 0.001044 (4.90%) (init= 0.0001)\n",
      "    voigt_3fwhm:        0.06574102 +/- 0.003796 (5.77%)  == '3.6013100*voigt_3sigma'\n",
      "[[Correlations]] (unreported correlations are <  0.100)\n",
      "    C(voigt_3sigma, voigt_3gamma)  = -0.890 \n",
      "    C(voigt_2sigma, voigt_2gamma)  = -0.877 \n",
      "    C(voigt_3amplitude, voigt_3gamma)  =  0.732 \n",
      "    C(voigt_2amplitude, voigt_2gamma)  =  0.608 \n",
      "    C(voigt_3sigma, voigt_3amplitude)  = -0.581 \n",
      "    C(voigt_2sigma, voigt_2amplitude)  = -0.506 \n",
      "    C(voigt_2gamma, voigt_3gamma)  = -0.479 \n",
      "    C(voigt_2gamma, voigt_3amplitude)  = -0.455 \n",
      "    C(voigt_2amplitude, voigt_3gamma)  = -0.421 \n",
      "    C(voigt_2amplitude, voigt_3amplitude)  = -0.392 \n",
      "    C(voigt_2sigma, voigt_3gamma)  =  0.391 \n",
      "    C(voigt_2gamma, voigt_3sigma)  =  0.389 \n",
      "    C(voigt_2sigma, voigt_3amplitude)  =  0.375 \n",
      "    C(voigt_2amplitude, voigt_3sigma)  =  0.346 \n",
      "    C(voigt_2sigma, voigt_3sigma)  = -0.316 \n",
      "    C(voigt_3center, voigt_3amplitude)  =  0.256 \n",
      "    C(voigt_3center, voigt_3gamma)  =  0.217 \n",
      "    C(voigt_2center, voigt_2gamma)  = -0.123 \n",
      "    C(voigt_2amplitude, voigt_2center)  = -0.110 \n",
      "    C(voigt_3sigma, voigt_3center)  = -0.106 \n",
      "    C(voigt_2sigma, voigt_2center)  =  0.104 \n"
     ]
    }
   ],
   "source": [
    "print(out_2.fit_report())"
   ]
  },
  {
   "cell_type": "code",
   "execution_count": 17,
   "metadata": {
    "collapsed": true
   },
   "outputs": [],
   "source": [
    "plt.subplot(121)\n",
    "plt.errorbar(data[0][intervall_voigt_1],data[1][intervall_voigt_1],err_1,fmt='. ',label=\"Messdaten\")\n",
    "plt.plot(data[0][intervall_voigt_1],out_1.best_fit,label=\"Voigt-Fit\")\n",
    "plt.ticklabel_format(useOffset=False)\n",
    "plt.xticks(fontsize=30)\n",
    "plt.yticks(fontsize=30)\n",
    "plt.legend(loc='best',fontsize=42)\n",
    "plt.xlabel('Winkel in 2$\\Theta$ /$^\\circ$',fontsize=42)\n",
    "plt.ylabel('Counts',fontsize=42)\n",
    "plt.title('Fit für den einzelnen Peak',fontsize=42)\n",
    "\n",
    "\n",
    "plt.subplot(122)\n",
    "plt.errorbar(data[0][intervall_voigt_2],data[1][intervall_voigt_2],err_2,fmt='. ',label=\"Messdaten\")\n",
    "plt.plot(data[0][intervall_voigt_2],out_2.best_fit,label=\"Multi-Voigt-Fit\")\n",
    "plt.ticklabel_format(useOffset=False)\n",
    "plt.xlabel('Winkel in 2$\\Theta$ /$^\\circ$',fontsize=42)\n",
    "plt.ylabel('Counts',fontsize=42)\n",
    "plt.xticks(fontsize=30)\n",
    "plt.yticks(fontsize=30)\n",
    "plt.legend(loc='best',fontsize=42)\n",
    "plt.title('Fit für die überlagerten Peaks',fontsize=42)\n",
    "\n",
    "plt.show()"
   ]
  },
  {
   "cell_type": "markdown",
   "metadata": {},
   "source": [
    "# Plots der Spektren für die ersten 4 Aufnahme"
   ]
  },
  {
   "cell_type": "code",
   "execution_count": 18,
   "metadata": {
    "collapsed": true
   },
   "outputs": [],
   "source": [
    "data_spektrum = np.loadtxt(\"Si111_40_30_Ni.xy\").T"
   ]
  },
  {
   "cell_type": "raw",
   "metadata": {
    "collapsed": true
   },
   "source": [
    "plt.errorbar(data_spektrum[0],data_spektrum[1],np.sqrt(data_spektrum[1]),fmt='. ',label=\"Messdaten, mit U = 40 kV \\n A = 30mA, mit Ni-Filter\")\n",
    "plt.xlabel('Winkel in 2$\\Theta$ /$^\\circ$',fontsize=42)\n",
    "plt.ylabel('Counts',fontsize=42)\n",
    "plt.legend(loc='best',fontsize=40)\n",
    "plt.xticks(fontsize=30)\n",
    "plt.yticks(fontsize=30)\n",
    "plt.show()"
   ]
  },
  {
   "cell_type": "markdown",
   "metadata": {
    "collapsed": true
   },
   "source": [
    "# Experimental interactiv Bokeh Plot"
   ]
  },
  {
   "cell_type": "code",
   "execution_count": 19,
   "metadata": {
    "collapsed": false
   },
   "outputs": [],
   "source": [
    "def err(a,d_a,b,d_b):\n",
    "    print(a/b, np.sqrt((d_a/b)**2 + ((d_b * a)/(b**2))**2))"
   ]
  },
  {
   "cell_type": "code",
   "execution_count": 35,
   "metadata": {
    "collapsed": false
   },
   "outputs": [
    {
     "name": "stdout",
     "output_type": "stream",
     "text": [
      "0.8534136546184738 0.271029685939\n"
     ]
    }
   ],
   "source": [
    "err(425,6,498,158)"
   ]
  },
  {
   "cell_type": "code",
   "execution_count": 36,
   "metadata": {
    "collapsed": false
   },
   "outputs": [
    {
     "name": "stdout",
     "output_type": "stream",
     "text": [
      "1.098470363288719 0.918139049885\n"
     ]
    }
   ],
   "source": [
    "err(1149,52,1046,873)"
   ]
  },
  {
   "cell_type": "code",
   "execution_count": 37,
   "metadata": {
    "collapsed": false
   },
   "outputs": [
    {
     "name": "stdout",
     "output_type": "stream",
     "text": [
      "0.360529217199559 0.128656943469\n"
     ]
    }
   ],
   "source": [
    "err(654,75,1814,613)"
   ]
  },
  {
   "cell_type": "code",
   "execution_count": 38,
   "metadata": {
    "collapsed": false
   },
   "outputs": [
    {
     "name": "stdout",
     "output_type": "stream",
     "text": [
      "0.30978260869565216 0.0127866982635\n"
     ]
    }
   ],
   "source": [
    "err(57,2,184,4)"
   ]
  },
  {
   "cell_type": "code",
   "execution_count": 39,
   "metadata": {
    "collapsed": false
   },
   "outputs": [
    {
     "name": "stdout",
     "output_type": "stream",
     "text": [
      "0.34458509142053445 0.00404579525062\n"
     ]
    }
   ],
   "source": [
    "err(245,2,711,6)"
   ]
  },
  {
   "cell_type": "code",
   "execution_count": 40,
   "metadata": {
    "collapsed": false
   },
   "outputs": [
    {
     "name": "stdout",
     "output_type": "stream",
     "text": [
      "0.3370165745856354 0.00666271928547\n"
     ]
    }
   ],
   "source": [
    "err(122,2,362,4)"
   ]
  },
  {
   "cell_type": "code",
   "execution_count": null,
   "metadata": {
    "collapsed": true
   },
   "outputs": [],
   "source": []
  }
 ],
 "metadata": {
  "kernelspec": {
   "display_name": "Python 3",
   "language": "python",
   "name": "python3"
  },
  "language_info": {
   "codemirror_mode": {
    "name": "ipython",
    "version": 3
   },
   "file_extension": ".py",
   "mimetype": "text/x-python",
   "name": "python",
   "nbconvert_exporter": "python",
   "pygments_lexer": "ipython3",
   "version": "3.4.3"
  }
 },
 "nbformat": 4,
 "nbformat_minor": 0
}
