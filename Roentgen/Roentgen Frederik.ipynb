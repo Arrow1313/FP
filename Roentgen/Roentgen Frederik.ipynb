{
 "cells": [
  {
   "cell_type": "code",
   "execution_count": 1,
   "metadata": {
    "collapsed": false
   },
   "outputs": [
    {
     "name": "stderr",
     "output_type": "stream",
     "text": [
      "/home/frederik/anaconda3/lib/python3.4/site-packages/IPython/html.py:14: ShimWarning: The `IPython.html` package has been deprecated. You should import from `notebook` instead. `IPython.html.widgets` has moved to `ipywidgets`.\n",
      "  \"`IPython.html.widgets` has moved to `ipywidgets`.\", ShimWarning)\n"
     ]
    }
   ],
   "source": [
    "import os\n",
    "import numpy as np\n",
    "import pandas as pd\n",
    "import matplotlib.pyplot as plt\n",
    "import scipy.optimize as opt\n",
    "from lmfit import models"
   ]
  },
  {
   "cell_type": "code",
   "execution_count": 2,
   "metadata": {
    "collapsed": true
   },
   "outputs": [],
   "source": [
    "pc_henrik = '/home/arrow13/Git/FP/Roentgen/'\n",
    "pc_frederik = '/home/frederik/Dokumente/FP/Roentgen'"
   ]
  },
  {
   "cell_type": "code",
   "execution_count": 3,
   "metadata": {
    "collapsed": true
   },
   "outputs": [],
   "source": [
    "var_pc = pc_frederik"
   ]
  },
  {
   "cell_type": "code",
   "execution_count": 4,
   "metadata": {
    "collapsed": false
   },
   "outputs": [
    {
     "name": "stdout",
     "output_type": "stream",
     "text": [
      "/home/frederik/Dokumente/FP/Roentgen/Messdaten\n"
     ]
    }
   ],
   "source": [
    "cd $var_pc/Messdaten"
   ]
  },
  {
   "cell_type": "code",
   "execution_count": 55,
   "metadata": {
    "collapsed": true
   },
   "outputs": [],
   "source": [
    "data = np.loadtxt(\"Si111_30_10.xy\").T"
   ]
  },
  {
   "cell_type": "markdown",
   "metadata": {},
   "source": [
    "# Einlesen, vorbereiten und auswerten der Daten (mit Versuchsplan)"
   ]
  },
  {
   "cell_type": "markdown",
   "metadata": {},
   "source": [
    "## Messen des Röntgenspektrums der Kupferanode\n",
    "Es werden drei verschiedene Spannungen und Ströme verwendet\n",
    "+ U$_1$ = 30keV, A$_1$ = 10mA\n",
    "+ U$_2$ = 40keV, A$_2$ = 10mA\n",
    "+ U$_3$ = 40keV, A$_3$ = 30mA\n",
    "\n",
    "Die letzte Einstellung wird noch mal mit einem Ni-Filter wiederholt\n",
    "\n",
    "+ U$_{Ni}$ = 30keV, A$_{Ni}$ = 30mA\n",
    "\n",
    "Auswertung:\n",
    "+ Zählrate als Funktion des Winkels auftragen\n",
    "+ Die lage der K$_{\\alpha_{1,2}}$- und der K$_\\beta$-Linien bestimmen, sowie die Verhältnisse (unter einander und unter den Ordnungen)\n",
    "+ Mit Ni-Filter die Abschwächung der K$_\\beta$-Linie, das \"Signal-zu-Rausch\" Verhältnis für die K$_{\\alpha_{1,2}}$-Linie, die Energie und die Energiebreite bestimmen\n",
    "+ Weitere Details des Spektrums diskutieren"
   ]
  },
  {
   "cell_type": "markdown",
   "metadata": {},
   "source": [
    "## Netzebenabstand Si(331)\n",
    "+ Aus dem Diffraktogramm soll der Netzebenabstand von Si(331) bestimmt werden\n",
    "+ Der bestimmte Netzebenabstand soll mit Literaturwerten abgeglichen werden"
   ]
  },
  {
   "cell_type": "markdown",
   "metadata": {},
   "source": [
    "## Netzebenabstand Ge(111)\n",
    "+ Aus dem Diffraktogramm soll der Netzebenabstand von Si(331) bestimmt werden\n",
    "+ Der bestimmte Netzebenabstand soll mit Literaturwerten abgeglichen werden"
   ]
  },
  {
   "cell_type": "markdown",
   "metadata": {},
   "source": [
    "## Pulverdiraktometrie\n",
    "+ Aus dem Diffraktogramm soll mittels einer Datenbank qualitativ die Zusammensetzung bestimmt werden\n",
    "+ Unabhängig von der Datenbank sollen die Netzebenabstände des Pulvers bestimmt werden\n",
    "+ Graphisch zeigen, dass die gefundene Kirstallstrucktur mit dem Diffraktogramm verträglich ist\n",
    "+ Die mittlere Kristallgröße ermitteln"
   ]
  },
  {
   "cell_type": "markdown",
   "metadata": {},
   "source": [
    "### Voigt für den einzel Peak "
   ]
  },
  {
   "cell_type": "code",
   "execution_count": 56,
   "metadata": {
    "collapsed": false
   },
   "outputs": [],
   "source": [
    "intervall_voigt_1 = np.arange(np.where(data[0] > 25.61)[0][0], np.where(data[0] > 25.68)[0][0])\n",
    "err_1 = np.sqrt(data[1][intervall_voigt_1])\n",
    "err_1 = np.where(err_1 == 0, 1, err_1)"
   ]
  },
  {
   "cell_type": "code",
   "execution_count": 57,
   "metadata": {
    "collapsed": false
   },
   "outputs": [],
   "source": [
    "voigt_1 = models.VoigtModel(prefix='voigt_1')\n",
    "pars_1 = voigt_1.guess(data[1][intervall_voigt_1],x=data[0][intervall_voigt_1])\n",
    "pars_1['voigt_1gamma'].set(0.001,vary=True,expr='')"
   ]
  },
  {
   "cell_type": "code",
   "execution_count": 58,
   "metadata": {
    "collapsed": false
   },
   "outputs": [],
   "source": [
    "out_1 = voigt_1.fit(data[1][intervall_voigt_1],pars_1,x=data[0][intervall_voigt_1], weights=1/(err_1))"
   ]
  },
  {
   "cell_type": "code",
   "execution_count": 59,
   "metadata": {
    "collapsed": true
   },
   "outputs": [],
   "source": [
    "out_1.plot()\n",
    "plt.errorbar(data[0][intervall_voigt_1],data[1][intervall_voigt_1],err_1,fmt='. ')\n",
    "plt.show()"
   ]
  },
  {
   "cell_type": "code",
   "execution_count": 60,
   "metadata": {
    "collapsed": false
   },
   "outputs": [
    {
     "name": "stdout",
     "output_type": "stream",
     "text": [
      "[[Model]]\n",
      "    Model(voigt, prefix='voigt_1')\n",
      "[[Fit Statistics]]\n",
      "    # function evals   = 48\n",
      "    # data points      = 8\n",
      "    # variables        = 4\n",
      "    chi-square         = 5.335\n",
      "    reduced chi-square = 1.334\n",
      "[[Variables]]\n",
      "    voigt_1amplitude:   261.165804 +/- 6.275365 (2.40%) (init= 162.7719)\n",
      "    voigt_1sigma:       0.01232774 +/- 0.000927 (7.52%) (init= 0.008146744)\n",
      "    voigt_1center:      25.6390317 +/- 0.000163 (0.00%) (init= 25.63572)\n",
      "    voigt_1gamma:       0.00838932 +/- 0.001286 (15.33%) (init= 0.001)\n",
      "    voigt_1fwhm:        0.04439603 +/- 0.003339 (7.52%)  == '3.6013100*voigt_1sigma'\n",
      "[[Correlations]] (unreported correlations are <  0.100)\n",
      "    C(voigt_1sigma, voigt_1gamma)  = -0.979 \n",
      "    C(voigt_1amplitude, voigt_1gamma)  =  0.950 \n",
      "    C(voigt_1amplitude, voigt_1sigma)  = -0.915 \n",
      "    C(voigt_1amplitude, voigt_1center)  = -0.284 \n",
      "    C(voigt_1center, voigt_1gamma)  = -0.264 \n",
      "    C(voigt_1sigma, voigt_1center)  =  0.226 \n"
     ]
    }
   ],
   "source": [
    "print(out_1.fit_report())"
   ]
  },
  {
   "cell_type": "markdown",
   "metadata": {},
   "source": [
    "### Mulit-Voigt"
   ]
  },
  {
   "cell_type": "code",
   "execution_count": 65,
   "metadata": {
    "collapsed": true
   },
   "outputs": [],
   "source": [
    "intervall_voigt_2 = np.arange(np.where(data[0] > 28.35)[0][0], np.where(data[0] > 28.55)[0][0])\n",
    "guess_intervall_voigt_2 = np.arange(np.where( 28.39 < data[0])[0][0],np.where( data[0] > 28.48)[0][0])\n",
    "guess_intervall_voigt_3 = np.arange(np.where( 28.47 < data[0])[0][0],np.where( data[0] > 28.54)[0][0])\n",
    "err_2 = np.sqrt(data[1][intervall_voigt_2])\n",
    "err_2 = np.where(err_2 == 0, 1, err_2)"
   ]
  },
  {
   "cell_type": "code",
   "execution_count": 66,
   "metadata": {
    "collapsed": false
   },
   "outputs": [],
   "source": [
    "voigt_2 = models.VoigtModel(prefix='voigt_2')\n",
    "voigt_3 = models.VoigtModel(prefix='voigt_3')\n",
    "dual_voigt = voigt_2 + voigt_3\n",
    "pars_2 = voigt_2.guess(data[1][guess_intervall_voigt_2],x=data[0][guess_intervall_voigt_2])\n",
    "pars_2.update(voigt_3.guess(data[1][guess_intervall_voigt_3],x=data[0][guess_intervall_voigt_3]))\n",
    "pars_2['voigt_2gamma'].set(0.0001,vary=True,expr='')\n",
    "pars_2['voigt_3gamma'].set(0.0001,vary=True,expr='')"
   ]
  },
  {
   "cell_type": "code",
   "execution_count": 67,
   "metadata": {
    "collapsed": true
   },
   "outputs": [],
   "source": [
    "out_2 = dual_voigt.fit(data[1][intervall_voigt_2],pars_2,x=data[0][intervall_voigt_2],weights=1/(err_2))"
   ]
  },
  {
   "cell_type": "code",
   "execution_count": 70,
   "metadata": {
    "collapsed": false
   },
   "outputs": [],
   "source": [
    "out_2.plot_fit()\n",
    "plt.errorbar(data[0][intervall_voigt_2],data[1][intervall_voigt_2],err_2,fmt='. ')\n",
    "plt.show()"
   ]
  },
  {
   "cell_type": "code",
   "execution_count": 69,
   "metadata": {
    "collapsed": false,
    "scrolled": false
   },
   "outputs": [
    {
     "name": "stdout",
     "output_type": "stream",
     "text": [
      "[[Model]]\n",
      "    (Model(voigt, prefix='voigt_2') + Model(voigt, prefix='voigt_3'))\n",
      "[[Fit Statistics]]\n",
      "    # function evals   = 92\n",
      "    # data points      = 24\n",
      "    # variables        = 8\n",
      "    chi-square         = 567.445\n",
      "    reduced chi-square = 35.465\n",
      "[[Variables]]\n",
      "    voigt_2sigma:       0.01228410 +/- 0.000881 (7.17%) (init= 0.008146744)\n",
      "    voigt_2amplitude:   905.505158 +/- 23.34925 (2.58%) (init= 585.2871)\n",
      "    voigt_2center:      28.4272852 +/- 0.000400 (0.00%) (init= 28.4265)\n",
      "    voigt_2gamma:       0.00716875 +/- 0.000981 (13.68%) (init= 0.0001)\n",
      "    voigt_2fwhm:        0.04423887 +/- 0.003172 (7.17%)  == '3.6013100*voigt_2sigma'\n",
      "    voigt_3sigma:       0.01309456 +/- 0.001369 (10.46%) (init= 0.01086232)\n",
      "    voigt_3amplitude:   482.461329 +/- 21.57661 (4.47%) (init= 497.8287)\n",
      "    voigt_3center:      28.5008075 +/- 0.000532 (0.00%) (init= 28.49753)\n",
      "    voigt_3gamma:       0.00463859 +/- 0.001814 (39.12%) (init= 0.0001)\n",
      "    voigt_3fwhm:        0.04715757 +/- 0.004932 (10.46%)  == '3.6013100*voigt_3sigma'\n",
      "[[Correlations]] (unreported correlations are <  0.100)\n",
      "    C(voigt_3sigma, voigt_3gamma)  = -0.924 \n",
      "    C(voigt_2sigma, voigt_2gamma)  = -0.875 \n",
      "    C(voigt_3amplitude, voigt_3gamma)  =  0.741 \n",
      "    C(voigt_3sigma, voigt_3amplitude)  = -0.616 \n",
      "    C(voigt_2amplitude, voigt_2gamma)  =  0.583 \n",
      "    C(voigt_2amplitude, voigt_3amplitude)  = -0.502 \n",
      "    C(voigt_2sigma, voigt_2amplitude)  = -0.438 \n",
      "    C(voigt_2gamma, voigt_3amplitude)  = -0.426 \n",
      "    C(voigt_2amplitude, voigt_3gamma)  = -0.425 \n",
      "    C(voigt_2amplitude, voigt_3sigma)  =  0.304 \n",
      "    C(voigt_2center, voigt_3amplitude)  = -0.281 \n",
      "    C(voigt_3amplitude, voigt_3center)  = -0.281 \n",
      "    C(voigt_2amplitude, voigt_3center)  =  0.256 \n",
      "    C(voigt_2sigma, voigt_3amplitude)  =  0.254 \n",
      "    C(voigt_2amplitude, voigt_2center)  =  0.244 \n",
      "    C(voigt_2gamma, voigt_3gamma)  = -0.243 \n",
      "    C(voigt_2center, voigt_2gamma)  =  0.228 \n",
      "    C(voigt_2center, voigt_3gamma)  = -0.227 \n",
      "    C(voigt_2gamma, voigt_3center)  =  0.221 \n",
      "    C(voigt_3center, voigt_3gamma)  = -0.214 \n",
      "    C(voigt_2center, voigt_3center)  =  0.196 \n",
      "    C(voigt_2center, voigt_3sigma)  =  0.138 \n",
      "    C(voigt_2sigma, voigt_2center)  = -0.136 \n",
      "    C(voigt_2gamma, voigt_3sigma)  =  0.123 \n",
      "    C(voigt_3sigma, voigt_3center)  =  0.118 \n",
      "    C(voigt_2sigma, voigt_3center)  = -0.108 \n"
     ]
    }
   ],
   "source": [
    "print(out_2.fit_report())"
   ]
  },
  {
   "cell_type": "markdown",
   "metadata": {},
   "source": [
    "# Plots der Spektren für die ersten 4 Aufnahme"
   ]
  },
  {
   "cell_type": "code",
   "execution_count": 36,
   "metadata": {
    "collapsed": true
   },
   "outputs": [],
   "source": [
    "data_spektrum = np.loadtxt(\"Si111_40_30_Ni.xy\").T"
   ]
  },
  {
   "cell_type": "code",
   "execution_count": 37,
   "metadata": {
    "collapsed": true
   },
   "outputs": [],
   "source": [
    "plt.errorbar(data_spektrum[0],data_spektrum[1],np.sqrt(data_spektrum[1]),fmt='. ',label=\"Messdaten, mit U = 40 kV \\n A = 30mA, mit Ni-Filter\")\n",
    "plt.xlabel('Winkel in 2$\\Theta$ /$^\\circ$',fontsize=42)\n",
    "plt.ylabel('Counts',fontsize=42)\n",
    "plt.legend(loc='best',fontsize=40)\n",
    "plt.xticks(fontsize=30)\n",
    "plt.yticks(fontsize=30)\n",
    "plt.show()"
   ]
  },
  {
   "cell_type": "code",
   "execution_count": null,
   "metadata": {
    "collapsed": true
   },
   "outputs": [],
   "source": []
  }
 ],
 "metadata": {
  "kernelspec": {
   "display_name": "Python 3",
   "language": "python",
   "name": "python3"
  },
  "language_info": {
   "codemirror_mode": {
    "name": "ipython",
    "version": 3
   },
   "file_extension": ".py",
   "mimetype": "text/x-python",
   "name": "python",
   "nbconvert_exporter": "python",
   "pygments_lexer": "ipython3",
   "version": "3.4.3"
  }
 },
 "nbformat": 4,
 "nbformat_minor": 0
}
