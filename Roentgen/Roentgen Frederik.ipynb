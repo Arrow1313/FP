{
 "cells": [
  {
   "cell_type": "code",
   "execution_count": 1,
   "metadata": {
    "collapsed": false
   },
   "outputs": [
    {
     "name": "stderr",
     "output_type": "stream",
     "text": [
      "/home/frederik/anaconda3/lib/python3.4/site-packages/IPython/html.py:14: ShimWarning: The `IPython.html` package has been deprecated. You should import from `notebook` instead. `IPython.html.widgets` has moved to `ipywidgets`.\n",
      "  \"`IPython.html.widgets` has moved to `ipywidgets`.\", ShimWarning)\n"
     ]
    }
   ],
   "source": [
    "import os\n",
    "import numpy as np\n",
    "import pandas as pd\n",
    "import matplotlib.pyplot as plt\n",
    "import scipy.optimize as opt\n",
    "from lmfit import models\n",
    "from bokeh.plotting import figure, output_notebook, show"
   ]
  },
  {
   "cell_type": "code",
   "execution_count": 2,
   "metadata": {
    "collapsed": true
   },
   "outputs": [],
   "source": [
    "pc_henrik = '/home/arrow13/Git/FP/Roentgen/'\n",
    "pc_frederik = '/home/frederik/Dokumente/FP/Roentgen'"
   ]
  },
  {
   "cell_type": "code",
   "execution_count": 3,
   "metadata": {
    "collapsed": true
   },
   "outputs": [],
   "source": [
    "var_pc = pc_frederik"
   ]
  },
  {
   "cell_type": "code",
   "execution_count": 4,
   "metadata": {
    "collapsed": false
   },
   "outputs": [
    {
     "name": "stdout",
     "output_type": "stream",
     "text": [
      "/home/frederik/Dokumente/FP/Roentgen/Messdaten\n"
     ]
    }
   ],
   "source": [
    "cd $var_pc/Messdaten"
   ]
  },
  {
   "cell_type": "code",
   "execution_count": 5,
   "metadata": {
    "collapsed": false
   },
   "outputs": [],
   "source": [
    "data = np.loadtxt(\"Si111_40_30_Ni.xy\").T"
   ]
  },
  {
   "cell_type": "code",
   "execution_count": 6,
   "metadata": {
    "collapsed": true
   },
   "outputs": [],
   "source": [
    "plt.plot(data[0],data[1])\n",
    "plt.show()"
   ]
  },
  {
   "cell_type": "markdown",
   "metadata": {},
   "source": [
    "# Einlesen, vorbereiten und auswerten der Daten (mit Versuchsplan)"
   ]
  },
  {
   "cell_type": "markdown",
   "metadata": {},
   "source": [
    "## Messen des Röntgenspektrums der Kupferanode\n",
    "Es werden drei verschiedene Spannungen und Ströme verwendet\n",
    "+ U$_1$ = 30keV, A$_1$ = 10mA\n",
    "+ U$_2$ = 40keV, A$_2$ = 10mA\n",
    "+ U$_3$ = 40keV, A$_3$ = 30mA\n",
    "\n",
    "Die letzte Einstellung wird noch mal mit einem Ni-Filter wiederholt\n",
    "\n",
    "+ U$_{Ni}$ = 30keV, A$_{Ni}$ = 30mA\n",
    "\n",
    "Auswertung:\n",
    "+ Zählrate als Funktion des Winkels auftragen\n",
    "+ Die lage der K$_{\\alpha_{1,2}}$- und der K$_\\beta$-Linien bestimmen, sowie die Verhältnisse (unter einander und unter den Ordnungen)\n",
    "+ Mit Ni-Filter die Abschwächung der K$_\\beta$-Linie, das \"Signal-zu-Rausch\" Verhältnis für die K$_{\\alpha_{1,2}}$-Linie, die Energie und die Energiebreite bestimmen\n",
    "+ Weitere Details des Spektrums diskutieren"
   ]
  },
  {
   "cell_type": "markdown",
   "metadata": {},
   "source": [
    "## Netzebenabstand Si(331)\n",
    "+ Aus dem Diffraktogramm soll der Netzebenabstand von Si(331) bestimmt werden\n",
    "+ Der bestimmte Netzebenabstand soll mit Literaturwerten abgeglichen werden"
   ]
  },
  {
   "cell_type": "markdown",
   "metadata": {},
   "source": [
    "## Netzebenabstand Ge(111)\n",
    "+ Aus dem Diffraktogramm soll der Netzebenabstand von Si(331) bestimmt werden\n",
    "+ Der bestimmte Netzebenabstand soll mit Literaturwerten abgeglichen werden"
   ]
  },
  {
   "cell_type": "markdown",
   "metadata": {},
   "source": [
    "## Pulverdiraktometrie\n",
    "+ Aus dem Diffraktogramm soll mittels einer Datenbank qualitativ die Zusammensetzung bestimmt werden\n",
    "+ Unabhängig von der Datenbank sollen die Netzebenabstände des Pulvers bestimmt werden\n",
    "+ Graphisch zeigen, dass die gefundene Kirstallstrucktur mit dem Diffraktogramm verträglich ist\n",
    "+ Die mittlere Kristallgröße ermitteln"
   ]
  },
  {
   "cell_type": "markdown",
   "metadata": {},
   "source": [
    "### Voigt für den einzel Peak "
   ]
  },
  {
   "cell_type": "code",
   "execution_count": 7,
   "metadata": {
    "collapsed": false
   },
   "outputs": [],
   "source": [
    "intervall_voigt_1 = np.arange(np.where(data[0] > 25.59)[0][0], np.where(data[0] > 25.70)[0][0])\n",
    "err_1 = np.sqrt(data[1][intervall_voigt_1])\n",
    "err_1 = np.where(err_1 == 0, 1, err_1)"
   ]
  },
  {
   "cell_type": "code",
   "execution_count": 8,
   "metadata": {
    "collapsed": false
   },
   "outputs": [],
   "source": [
    "voigt_1 = models.VoigtModel(prefix='voigt_1')\n",
    "pars_1 = voigt_1.guess(data[1][intervall_voigt_1],x=data[0][intervall_voigt_1])\n",
    "pars_1['voigt_1gamma'].set(0.001,vary=True,expr='')"
   ]
  },
  {
   "cell_type": "code",
   "execution_count": 9,
   "metadata": {
    "collapsed": false
   },
   "outputs": [],
   "source": [
    "out_1 = voigt_1.fit(data[1][intervall_voigt_1],pars_1,x=data[0][intervall_voigt_1], weights=1/(err_1))"
   ]
  },
  {
   "cell_type": "code",
   "execution_count": 10,
   "metadata": {
    "collapsed": true
   },
   "outputs": [],
   "source": [
    "out_1.plot()\n",
    "plt.errorbar(data[0][intervall_voigt_1],data[1][intervall_voigt_1],err_1,fmt='. ')\n",
    "plt.show()"
   ]
  },
  {
   "cell_type": "code",
   "execution_count": 11,
   "metadata": {
    "collapsed": false
   },
   "outputs": [
    {
     "name": "stdout",
     "output_type": "stream",
     "text": [
      "[[Model]]\n",
      "    Model(voigt, prefix='voigt_1')\n",
      "[[Fit Statistics]]\n",
      "    # function evals   = 36\n",
      "    # data points      = 26\n",
      "    # variables        = 4\n",
      "    chi-square         = 36.279\n",
      "    reduced chi-square = 1.649\n",
      "[[Variables]]\n",
      "    voigt_1sigma:       0.01001444 +/- 0.001975 (19.73%) (init= 0.01086232)\n",
      "    voigt_1center:      25.6454055 +/- 0.000642 (0.00%) (init= 25.64617)\n",
      "    voigt_1amplitude:   8.09468327 +/- 0.310257 (3.83%) (init= 8.773416)\n",
      "    voigt_1gamma:       0.01062798 +/- 0.001815 (17.08%) (init= 0.001)\n",
      "    voigt_1fwhm:        0.03606510 +/- 0.007113 (19.73%)  == '3.6013100*voigt_1sigma'\n",
      "[[Correlations]] (unreported correlations are <  0.100)\n",
      "    C(voigt_1sigma, voigt_1gamma)  = -0.906 \n",
      "    C(voigt_1amplitude, voigt_1gamma)  =  0.579 \n",
      "    C(voigt_1sigma, voigt_1amplitude)  = -0.514 \n"
     ]
    }
   ],
   "source": [
    "print(out_1.fit_report())"
   ]
  },
  {
   "cell_type": "markdown",
   "metadata": {},
   "source": [
    "### Mulit-Voigt"
   ]
  },
  {
   "cell_type": "code",
   "execution_count": 12,
   "metadata": {
    "collapsed": false
   },
   "outputs": [],
   "source": [
    "intervall_voigt_2 = np.arange(np.where(data[0] > 28.38)[0][0], np.where(data[0] > 28.55)[0][0])\n",
    "guess_intervall_voigt_2 = np.arange(np.where( 28.4 < data[0])[0][0],np.where( data[0] > 28.452)[0][0])\n",
    "guess_intervall_voigt_3 = np.arange(np.where( 28.452 < data[0])[0][0],np.where( data[0] > 28.5)[0][0])\n",
    "err_2 = np.sqrt(data[1][intervall_voigt_2])\n",
    "err_2 = np.where(err_2 == 0, 1, err_2)"
   ]
  },
  {
   "cell_type": "code",
   "execution_count": 60,
   "metadata": {
    "collapsed": false
   },
   "outputs": [],
   "source": [
    "voigt_2 = models.VoigtModel(prefix='voigt_2')\n",
    "voigt_3 = models.VoigtModel(prefix='voigt_3')\n",
    "dual_voigt = voigt_2 + voigt_3\n",
    "pars_2 = voigt_2.guess(data[1][guess_intervall_voigt_2],x=data[0][guess_intervall_voigt_2])\n",
    "pars_2.update(voigt_3.guess(data[1][guess_intervall_voigt_3],x=data[0][guess_intervall_voigt_3]))\n",
    "pars_2['voigt_2gamma'].set(0.000001,vary=True,expr='')\n",
    "pars_2['voigt_3gamma'].set(0.000001,vary=True,expr='')\n",
    "pars_2['voigt_2amplitude'].set(1000)\n",
    "pars_2['voigt_3amplitude'].set(1000)"
   ]
  },
  {
   "cell_type": "code",
   "execution_count": 61,
   "metadata": {
    "collapsed": false
   },
   "outputs": [],
   "source": [
    "out_2 = dual_voigt.fit(data[1][intervall_voigt_2],pars_2,x=data[0][intervall_voigt_2],weights=1/(err_2))"
   ]
  },
  {
   "cell_type": "code",
   "execution_count": 62,
   "metadata": {
    "collapsed": true
   },
   "outputs": [],
   "source": [
    "out_2.plot_fit()\n",
    "plt.errorbar(data[0][intervall_voigt_2],data[1][intervall_voigt_2],err_2,fmt='. ')\n",
    "plt.xlim([28,29])\n",
    "plt.show()"
   ]
  },
  {
   "cell_type": "code",
   "execution_count": 63,
   "metadata": {
    "collapsed": false,
    "scrolled": false
   },
   "outputs": [
    {
     "name": "stdout",
     "output_type": "stream",
     "text": [
      "[[Model]]\n",
      "    (Model(voigt, prefix='voigt_2') + Model(voigt, prefix='voigt_3'))\n",
      "[[Fit Statistics]]\n",
      "    # function evals   = 121\n",
      "    # data points      = 41\n",
      "    # variables        = 8\n",
      "    chi-square         = 1714.254\n",
      "    reduced chi-square = 51.947\n",
      "[[Variables]]\n",
      "    voigt_2amplitude:   1500.04538 +/- 40.93583 (2.73%) (init= 1000)\n",
      "    voigt_2center:      28.4341443 +/- 0.000333 (0.00%) (init= 28.43277)\n",
      "    voigt_2sigma:       0.01532892 +/- 0.001005 (6.56%) (init= 0.01086232)\n",
      "    voigt_2gamma:       0.00656472 +/- 0.001384 (21.09%) (init= 1e-06)\n",
      "    voigt_2fwhm:        0.05520421 +/- 0.003620 (6.56%)  == '3.6013100*voigt_2sigma'\n",
      "    voigt_3sigma:       0.01565556 +/- 0.001452 (9.28%) (init= 0.0149357)\n",
      "    voigt_3amplitude:   837.391734 +/- 40.45238 (4.83%) (init= 1000)\n",
      "    voigt_3center:      28.5079625 +/- 0.000401 (0.00%) (init= 28.47956)\n",
      "    voigt_3gamma:       0.00280855 +/- 0.002324 (82.75%) (init= 1e-06)\n",
      "    voigt_3fwhm:        0.05638054 +/- 0.005229 (9.28%)  == '3.6013100*voigt_3sigma'\n",
      "[[Correlations]] (unreported correlations are <  0.100)\n",
      "    C(voigt_3sigma, voigt_3gamma)  = -0.966 \n",
      "    C(voigt_2sigma, voigt_2gamma)  = -0.944 \n",
      "    C(voigt_3amplitude, voigt_3gamma)  =  0.878 \n",
      "    C(voigt_2amplitude, voigt_2gamma)  =  0.798 \n",
      "    C(voigt_3sigma, voigt_3amplitude)  = -0.794 \n",
      "    C(voigt_2amplitude, voigt_2sigma)  = -0.683 \n",
      "    C(voigt_2amplitude, voigt_3amplitude)  = -0.649 \n",
      "    C(voigt_2amplitude, voigt_3gamma)  = -0.461 \n",
      "    C(voigt_2center, voigt_3amplitude)  = -0.437 \n",
      "    C(voigt_2gamma, voigt_3amplitude)  = -0.409 \n",
      "    C(voigt_2amplitude, voigt_2center)  =  0.398 \n",
      "    C(voigt_3amplitude, voigt_3center)  = -0.390 \n",
      "    C(voigt_2amplitude, voigt_3center)  =  0.390 \n",
      "    C(voigt_2amplitude, voigt_3sigma)  =  0.352 \n",
      "    C(voigt_2center, voigt_3center)  =  0.347 \n",
      "    C(voigt_2center, voigt_3gamma)  = -0.342 \n",
      "    C(voigt_2center, voigt_2gamma)  =  0.291 \n",
      "    C(voigt_3center, voigt_3gamma)  = -0.283 \n",
      "    C(voigt_2gamma, voigt_3center)  =  0.282 \n",
      "    C(voigt_2sigma, voigt_3amplitude)  =  0.261 \n",
      "    C(voigt_2center, voigt_3sigma)  =  0.251 \n",
      "    C(voigt_3sigma, voigt_3center)  =  0.189 \n",
      "    C(voigt_2center, voigt_2sigma)  = -0.186 \n",
      "    C(voigt_2sigma, voigt_3center)  = -0.162 \n",
      "    C(voigt_2gamma, voigt_3gamma)  = -0.142 \n"
     ]
    }
   ],
   "source": [
    "print(out_2.fit_report())"
   ]
  },
  {
   "cell_type": "code",
   "execution_count": 17,
   "metadata": {
    "collapsed": true
   },
   "outputs": [],
   "source": [
    "plt.subplot(121)\n",
    "plt.errorbar(data[0][intervall_voigt_1],data[1][intervall_voigt_1],err_1,fmt='. ',label=\"Messdaten\")\n",
    "plt.plot(data[0][intervall_voigt_1],out_1.best_fit,label=\"Voigt-Fit\")\n",
    "plt.ticklabel_format(useOffset=False)\n",
    "plt.xticks(fontsize=30)\n",
    "plt.yticks(fontsize=30)\n",
    "plt.legend(loc='best',fontsize=42)\n",
    "plt.xlabel('Winkel in 2$\\Theta$ /$^\\circ$',fontsize=42)\n",
    "plt.ylabel('Counts',fontsize=42)\n",
    "plt.title('Fit für den einzelnen Peak',fontsize=42)\n",
    "\n",
    "\n",
    "plt.subplot(122)\n",
    "plt.errorbar(data[0][intervall_voigt_2],data[1][intervall_voigt_2],err_2,fmt='. ',label=\"Messdaten\")\n",
    "plt.plot(data[0][intervall_voigt_2],out_2.best_fit,label=\"Multi-Voigt-Fit\")\n",
    "plt.ticklabel_format(useOffset=False)\n",
    "plt.xlabel('Winkel in 2$\\Theta$ /$^\\circ$',fontsize=42)\n",
    "plt.ylabel('Counts',fontsize=42)\n",
    "plt.xticks(fontsize=30)\n",
    "plt.yticks(fontsize=30)\n",
    "plt.legend(loc='best',fontsize=42)\n",
    "plt.title('Fit für die überlagerten Peaks',fontsize=42)\n",
    "\n",
    "plt.show()"
   ]
  },
  {
   "cell_type": "markdown",
   "metadata": {},
   "source": [
    "# Plots der Spektren für die ersten 4 Aufnahme"
   ]
  },
  {
   "cell_type": "code",
   "execution_count": 18,
   "metadata": {
    "collapsed": true
   },
   "outputs": [],
   "source": [
    "data_spektrum = np.loadtxt(\"Si111_40_30_Ni.xy\").T"
   ]
  },
  {
   "cell_type": "raw",
   "metadata": {
    "collapsed": true
   },
   "source": [
    "plt.errorbar(data_spektrum[0],data_spektrum[1],np.sqrt(data_spektrum[1]),fmt='. ',label=\"Messdaten, mit U = 40 kV \\n A = 30mA, mit Ni-Filter\")\n",
    "plt.xlabel('Winkel in 2$\\Theta$ /$^\\circ$',fontsize=42)\n",
    "plt.ylabel('Counts',fontsize=42)\n",
    "plt.legend(loc='best',fontsize=40)\n",
    "plt.xticks(fontsize=30)\n",
    "plt.yticks(fontsize=30)\n",
    "plt.show()"
   ]
  },
  {
   "cell_type": "markdown",
   "metadata": {
    "collapsed": true
   },
   "source": [
    "# Ni-Verhältnis"
   ]
  },
  {
   "cell_type": "markdown",
   "metadata": {
    "collapsed": false
   },
   "source": [
    "## Messen des Röntgenspektrums der Kupferanode\n",
    "Es werden drei verschiedene Spannungen und Ströme verwendet\n",
    "+ U$_1$ = 30keV, A$_1$ = 10mA\n",
    "+ U$_2$ = 40keV, A$_2$ = 10mA\n",
    "+ U$_3$ = 40keV, A$_3$ = 30mA\n",
    "\n",
    "Die letzte Einstellung wird noch mal mit einem Ni-Filter wiederholt\n",
    "\n",
    "+ U$_{Ni}$ = 30keV, A$_{Ni}$ = 30mA\n",
    "\n",
    "Auswertung:\n",
    "+ Zählrate als Funktion des Winkels auftragen\n",
    "+ Die lage der K$_{\\alpha_{1,2}}$- und der K$_\\beta$-Linien bestimmen, sowie die Verhältnisse (unter einander und unter den Ordnungen)\n",
    "+ Mit Ni-Filter die Abschwächung der K$_\\beta$-Linie, das \"Signal-zu-Rausch\" Verhältnis für die K$_{\\alpha_{1,2}}$-Linie, die Energie und die Energiebreite bestimmen\n",
    "+ Weitere Details des Spektrums diskutieren"
   ]
  },
  {
   "cell_type": "code",
   "execution_count": 19,
   "metadata": {
    "collapsed": true
   },
   "outputs": [],
   "source": [
    "data_ni_o = np.loadtxt(\"Si111_40_30.xy\").T\n",
    "data_ni_m = np.loadtxt(\"Si111_40_30_Ni.xy\").T"
   ]
  },
  {
   "cell_type": "code",
   "execution_count": 20,
   "metadata": {
    "collapsed": false
   },
   "outputs": [],
   "source": [
    "plt.subplot(212)\n",
    "plt.errorbar(data_ni_m[0],data_ni_m[1],np.sqrt(data_ni_m[1]),fmt='. b',label=\"Messdaten mit Filter\")\n",
    "plt.xlim([28,29])\n",
    "plt.xticks(fontsize=22)\n",
    "plt.yticks(fontsize=22)\n",
    "plt.legend(loc='best', fontsize=32)\n",
    "\n",
    "plt.subplot(211)\n",
    "plt.errorbar(data_ni_o[0],data_ni_o[1],np.sqrt(data_ni_o[1]),fmt='. r',label=\"Messdaten ohne Filter\")\n",
    "plt.xlim([40,55])\n",
    "plt.ylim([0,20])\n",
    "plt.xticks(fontsize=22)\n",
    "plt.yticks(fontsize=22)\n",
    "plt.legend(loc='best', fontsize=32)\n",
    "\n",
    "plt.show()"
   ]
  },
  {
   "cell_type": "code",
   "execution_count": 28,
   "metadata": {
    "collapsed": true
   },
   "outputs": [],
   "source": [
    "plt.errorbar(data_ni_o[0],data_ni_o[1],np.sqrt(data_ni_o[1]),fmt='. b',label=\"Messdaten ohne Filter\")\n",
    "plt.errorbar(data_ni_m[0],data_ni_m[1],np.sqrt(data_ni_m[1]),fmt='. r',label=\"Messdaten mit Filter\")\n",
    "plt.xticks(fontsize=22)\n",
    "plt.yticks(fontsize=22)\n",
    "plt.legend(loc='best', fontsize=32)\n",
    "\n",
    "plt.show()"
   ]
  },
  {
   "cell_type": "code",
   "execution_count": 22,
   "metadata": {
    "collapsed": false
   },
   "outputs": [
    {
     "data": {
      "text/plain": [
       "11.951231890489533"
      ]
     },
     "execution_count": 22,
     "metadata": {},
     "output_type": "execute_result"
    }
   ],
   "source": [
    "10 * np.log(1500/(1500-1046))"
   ]
  },
  {
   "cell_type": "code",
   "execution_count": 124,
   "metadata": {
    "collapsed": false
   },
   "outputs": [
    {
     "name": "stdout",
     "output_type": "stream",
     "text": [
      "17.5+/-16.2\n"
     ]
    }
   ],
   "source": [
    "from uncertainties import ufloat\n",
    "from uncertainties.umath import log as lg\n",
    "from uncertainties.umath import sin as si\n",
    "\n",
    "y = ufloat(1500,41)\n",
    "x = ufloat(1814,613)\n",
    "\n",
    "print(10*lg(x/abs(x-y)))"
   ]
  },
  {
   "cell_type": "code",
   "execution_count": 37,
   "metadata": {
    "collapsed": false
   },
   "outputs": [
    {
     "name": "stdout",
     "output_type": "stream",
     "text": [
      "5.21+/-0.07\n"
     ]
    }
   ],
   "source": [
    "x = ufloat(313,2)\n",
    "y = ufloat(771,6)\n",
    "\n",
    "print(10*lg(y/abs(x-y)))"
   ]
  },
  {
   "cell_type": "code",
   "execution_count": 40,
   "metadata": {
    "collapsed": false,
    "scrolled": true
   },
   "outputs": [
    {
     "name": "stdout",
     "output_type": "stream",
     "text": [
      "16.1+/-10.6\n"
     ]
    }
   ],
   "source": [
    "x = ufloat(837,40)\n",
    "y = ufloat(1046,273)\n",
    "\n",
    "print(10*lg(y/abs(x-y)))"
   ]
  },
  {
   "cell_type": "code",
   "execution_count": 39,
   "metadata": {
    "collapsed": false
   },
   "outputs": [
    {
     "name": "stdout",
     "output_type": "stream",
     "text": [
      "5.67+/-0.13\n"
     ]
    }
   ],
   "source": [
    "x = ufloat(157,2)\n",
    "y = ufloat(363,4)\n",
    "\n",
    "print(10*lg(y/abs(x-y)))"
   ]
  },
  {
   "cell_type": "markdown",
   "metadata": {
    "collapsed": true
   },
   "source": [
    "$\\huge E = \\frac{nhc}{2 \\cdot d \\cdot sin(\\Theta)}$"
   ]
  },
  {
   "cell_type": "code",
   "execution_count": 68,
   "metadata": {
    "collapsed": true
   },
   "outputs": [],
   "source": [
    "hc = 12.39841875\n",
    "d_si = 3.1355"
   ]
  },
  {
   "cell_type": "code",
   "execution_count": 148,
   "metadata": {
    "collapsed": false
   },
   "outputs": [],
   "source": [
    "def E(theta,n=1):\n",
    "    return (n*hc)/(2*d_si*si((np.pi * theta)/180))"
   ]
  },
  {
   "cell_type": "code",
   "execution_count": 154,
   "metadata": {
    "collapsed": false
   },
   "outputs": [
    {
     "data": {
      "text/plain": [
       "0.001000603622487881+/-5.372249006430022e-07"
      ]
     },
     "execution_count": 154,
     "metadata": {},
     "output_type": "execute_result"
    }
   ],
   "source": [
    "(hc)/(2*d_si*si((np.pi * ufloat(25.6390/2,0.007))/180))/8905.3"
   ]
  },
  {
   "cell_type": "code",
   "execution_count": 155,
   "metadata": {
    "collapsed": false
   },
   "outputs": [
    {
     "data": {
      "text/plain": [
       "(0.0011073288727900244+/-5.945257745366133e-07, 8)"
      ]
     },
     "execution_count": 155,
     "metadata": {},
     "output_type": "execute_result"
    }
   ],
   "source": [
    "E(ufloat(25.6390/2,0.007))"
   ]
  },
  {
   "cell_type": "code",
   "execution_count": 157,
   "metadata": {
    "collapsed": false
   },
   "outputs": [
    {
     "data": {
      "text/plain": [
       "(0.001000618911458452+/-4.826296297661861e-07, 8)"
      ]
     },
     "execution_count": 157,
     "metadata": {},
     "output_type": "execute_result"
    }
   ],
   "source": [
    "E(ufloat(28.4278/2,0.007))/8047,8"
   ]
  },
  {
   "cell_type": "code",
   "execution_count": 158,
   "metadata": {
    "collapsed": false
   },
   "outputs": [
    {
     "data": {
      "text/plain": [
       "(0.0010006369957330384+/-4.813710003042757e-07, 8)"
      ]
     },
     "execution_count": 158,
     "metadata": {},
     "output_type": "execute_result"
    }
   ],
   "source": [
    "E(ufloat(28.4996/2,0.007))/8027,8"
   ]
  },
  {
   "cell_type": "code",
   "execution_count": null,
   "metadata": {
    "collapsed": true
   },
   "outputs": [],
   "source": []
  }
 ],
 "metadata": {
  "kernelspec": {
   "display_name": "Python 3",
   "language": "python",
   "name": "python3"
  },
  "language_info": {
   "codemirror_mode": {
    "name": "ipython",
    "version": 3
   },
   "file_extension": ".py",
   "mimetype": "text/x-python",
   "name": "python",
   "nbconvert_exporter": "python",
   "pygments_lexer": "ipython3",
   "version": "3.4.3"
  }
 },
 "nbformat": 4,
 "nbformat_minor": 0
}
