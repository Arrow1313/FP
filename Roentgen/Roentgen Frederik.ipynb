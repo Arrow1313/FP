{
 "cells": [
  {
   "cell_type": "code",
   "execution_count": 1,
   "metadata": {
    "collapsed": false
   },
   "outputs": [
    {
     "name": "stderr",
     "output_type": "stream",
     "text": [
      "/home/frederik/anaconda3/lib/python3.4/site-packages/IPython/html.py:14: ShimWarning: The `IPython.html` package has been deprecated. You should import from `notebook` instead. `IPython.html.widgets` has moved to `ipywidgets`.\n",
      "  \"`IPython.html.widgets` has moved to `ipywidgets`.\", ShimWarning)\n"
     ]
    }
   ],
   "source": [
    "import os\n",
    "import numpy as np\n",
    "import pandas as pd\n",
    "import matplotlib.pyplot as plt\n",
    "import scipy.optimize as opt\n",
    "from lmfit import models"
   ]
  },
  {
   "cell_type": "code",
   "execution_count": 2,
   "metadata": {
    "collapsed": true
   },
   "outputs": [],
   "source": [
    "pc_henrik = '/home/arrow13/Git/FP/Roentgen/'\n",
    "pc_frederik = '/home/frederik/Dokumente/FP/Roentgen'"
   ]
  },
  {
   "cell_type": "code",
   "execution_count": 3,
   "metadata": {
    "collapsed": true
   },
   "outputs": [],
   "source": [
    "var_pc = pc_frederik"
   ]
  },
  {
   "cell_type": "code",
   "execution_count": 4,
   "metadata": {
    "collapsed": false
   },
   "outputs": [
    {
     "name": "stdout",
     "output_type": "stream",
     "text": [
      "/home/frederik/Dokumente/FP/Roentgen/Messdaten\n"
     ]
    }
   ],
   "source": [
    "cd $var_pc/Messdaten"
   ]
  },
  {
   "cell_type": "code",
   "execution_count": 33,
   "metadata": {
    "collapsed": true
   },
   "outputs": [],
   "source": [
    "data = np.loadtxt(\"Si111_40_30.xy\").T"
   ]
  },
  {
   "cell_type": "markdown",
   "metadata": {},
   "source": [
    "# Einlesen, vorbereiten und auswerten der Daten (mit Versuchsplan)"
   ]
  },
  {
   "cell_type": "markdown",
   "metadata": {},
   "source": [
    "## Messen des Röntgenspektrums der Kupferanode\n",
    "Es werden drei verschiedene Spannungen und Ströme verwendet\n",
    "+ U$_1$ = 30keV, A$_1$ = 10mA\n",
    "+ U$_2$ = 40keV, A$_2$ = 10mA\n",
    "+ U$_3$ = 40keV, A$_3$ = 30mA\n",
    "\n",
    "Die letzte Einstellung wird noch mal mit einem Ni-Filter wiederholt\n",
    "\n",
    "+ U$_{Ni}$ = 30keV, A$_{Ni}$ = 30mA\n",
    "\n",
    "Auswertung:\n",
    "+ Zählrate als Funktion des Winkels auftragen\n",
    "+ Die lage der K$_{\\alpha_{1,2}}$- und der K$_\\beta$-Linien bestimmen, sowie die Verhältnisse (unter einander und unter den Ordnungen)\n",
    "+ Mit Ni-Filter die Abschwächung der K$_\\beta$-Linie, das \"Signal-zu-Rausch\" Verhältnis für die K$_{\\alpha_{1,2}}$-Linie, die Energie und die Energiebreite bestimmen\n",
    "+ Weitere Details des Spektrums diskutieren"
   ]
  },
  {
   "cell_type": "markdown",
   "metadata": {},
   "source": [
    "## Netzebenabstand Si(331)\n",
    "+ Aus dem Diffraktogramm soll der Netzebenabstand von Si(331) bestimmt werden\n",
    "+ Der bestimmte Netzebenabstand soll mit Literaturwerten abgeglichen werden"
   ]
  },
  {
   "cell_type": "markdown",
   "metadata": {},
   "source": [
    "## Netzebenabstand Ge(111)\n",
    "+ Aus dem Diffraktogramm soll der Netzebenabstand von Si(331) bestimmt werden\n",
    "+ Der bestimmte Netzebenabstand soll mit Literaturwerten abgeglichen werden"
   ]
  },
  {
   "cell_type": "markdown",
   "metadata": {},
   "source": [
    "## Pulverdiraktometrie\n",
    "+ Aus dem Diffraktogramm soll mittels einer Datenbank qualitativ die Zusammensetzung bestimmt werden\n",
    "+ Unabhängig von der Datenbank sollen die Netzebenabstände des Pulvers bestimmt werden\n",
    "+ Graphisch zeigen, dass die gefundene Kirstallstrucktur mit dem Diffraktogramm verträglich ist\n",
    "+ Die mittlere Kristallgröße ermitteln"
   ]
  },
  {
   "cell_type": "markdown",
   "metadata": {},
   "source": [
    "### Voigt für den einzel Peak "
   ]
  },
  {
   "cell_type": "code",
   "execution_count": 70,
   "metadata": {
    "collapsed": false
   },
   "outputs": [],
   "source": [
    "intervall_voigt_1 = np.arange(np.where(data[0] > 25.62)[0][0], np.where(data[0] > 25.67)[0][0])\n",
    "err_1 = np.sqrt(data[1][intervall_voigt_1])\n",
    "err_1 = np.where(err_1 == 0, 1, err_1)"
   ]
  },
  {
   "cell_type": "code",
   "execution_count": 71,
   "metadata": {
    "collapsed": false
   },
   "outputs": [],
   "source": [
    "voigt_1 = models.VoigtModel(prefix='voigt_1')\n",
    "pars_1 = voigt_1.guess(data[1][intervall_voigt_1],x=data[0][intervall_voigt_1])\n",
    "pars_1['voigt_1gamma'].set(0.001,vary=True,expr='')"
   ]
  },
  {
   "cell_type": "code",
   "execution_count": 72,
   "metadata": {
    "collapsed": false
   },
   "outputs": [],
   "source": [
    "out_1 = voigt_1.fit(data[1][intervall_voigt_1],pars_1,x=data[0][intervall_voigt_1], weights=1/(err_1))"
   ]
  },
  {
   "cell_type": "code",
   "execution_count": 73,
   "metadata": {
    "collapsed": true
   },
   "outputs": [],
   "source": [
    "out_1.plot()\n",
    "plt.errorbar(data[0][intervall_voigt_1],data[1][intervall_voigt_1],err_1,fmt='. ')\n",
    "plt.show()"
   ]
  },
  {
   "cell_type": "code",
   "execution_count": 74,
   "metadata": {
    "collapsed": false
   },
   "outputs": [
    {
     "name": "stdout",
     "output_type": "stream",
     "text": [
      "[[Model]]\n",
      "    Model(voigt, prefix='voigt_1')\n",
      "[[Fit Statistics]]\n",
      "    # function evals   = 188\n",
      "    # data points      = 12\n",
      "    # variables        = 4\n",
      "    chi-square         = 9.005\n",
      "    reduced chi-square = 1.126\n",
      "[[Variables]]\n",
      "    voigt_1center:      25.6452178 +/- 6.76e-05 (0.00%) (init= 25.64408)\n",
      "    voigt_1sigma:       0.03124682 +/- 0.005093 (16.30%) (init= 0.009504534)\n",
      "    voigt_1amplitude:   498.119354 +/- 158.3703 (31.79%) (init= 487.6265)\n",
      "    voigt_1fwhm:        0.11252948 +/- 0.018343 (16.30%)  == '3.6013100*voigt_1sigma'\n",
      "    voigt_1gamma:      -0.03418473 +/- 0.016661 (48.74%) (init= 0.001)\n",
      "[[Correlations]] (unreported correlations are <  0.100)\n",
      "    C(voigt_1amplitude, voigt_1gamma)  =  1.000 \n",
      "    C(voigt_1sigma, voigt_1gamma)  = -1.000 \n",
      "    C(voigt_1sigma, voigt_1amplitude)  = -0.999 \n",
      "    C(voigt_1center, voigt_1amplitude)  =  0.231 \n",
      "    C(voigt_1center, voigt_1gamma)  =  0.228 \n",
      "    C(voigt_1center, voigt_1sigma)  = -0.224 \n"
     ]
    }
   ],
   "source": [
    "print(out_1.fit_report())"
   ]
  },
  {
   "cell_type": "markdown",
   "metadata": {},
   "source": [
    "### Mulit-Voigt"
   ]
  },
  {
   "cell_type": "code",
   "execution_count": 108,
   "metadata": {
    "collapsed": false
   },
   "outputs": [],
   "source": [
    "intervall_voigt_2 = np.arange(np.where(data[0] > 28.397)[0][0], np.where(data[0] > 28.54)[0][0])\n",
    "guess_intervall_voigt_2 = np.arange(np.where( 28.39 < data[0])[0][0],np.where( data[0] > 28.48)[0][0])\n",
    "guess_intervall_voigt_3 = np.arange(np.where( 28.47 < data[0])[0][0],np.where( data[0] > 28.54)[0][0])\n",
    "err_2 = np.sqrt(data[1][intervall_voigt_2])\n",
    "err_2 = np.where(err_2 == 0, 1, err_2)"
   ]
  },
  {
   "cell_type": "code",
   "execution_count": 109,
   "metadata": {
    "collapsed": false
   },
   "outputs": [],
   "source": [
    "voigt_2 = models.VoigtModel(prefix='voigt_2')\n",
    "voigt_3 = models.VoigtModel(prefix='voigt_3')\n",
    "dual_voigt = voigt_2 + voigt_3\n",
    "pars_2 = voigt_2.guess(data[1][guess_intervall_voigt_2],x=data[0][guess_intervall_voigt_2])\n",
    "pars_2.update(voigt_3.guess(data[1][guess_intervall_voigt_3],x=data[0][guess_intervall_voigt_3]))\n",
    "pars_2['voigt_2gamma'].set(0.0001,vary=True,expr='')\n",
    "pars_2['voigt_3gamma'].set(0.0001,vary=True,expr='')\n",
    "pars_2['voigt_2amplitude'].set(1000)\n",
    "pars_2['voigt_3amplitude'].set(1000)"
   ]
  },
  {
   "cell_type": "code",
   "execution_count": 110,
   "metadata": {
    "collapsed": false
   },
   "outputs": [],
   "source": [
    "out_2 = dual_voigt.fit(data[1][intervall_voigt_2],pars_2,x=data[0][intervall_voigt_2],weights=1/(err_2))"
   ]
  },
  {
   "cell_type": "code",
   "execution_count": 111,
   "metadata": {
    "collapsed": true
   },
   "outputs": [],
   "source": [
    "out_2.plot_fit()\n",
    "plt.errorbar(data[0][intervall_voigt_2],data[1][intervall_voigt_2],err_2,fmt='. ')\n",
    "plt.show()"
   ]
  },
  {
   "cell_type": "code",
   "execution_count": 113,
   "metadata": {
    "collapsed": false,
    "scrolled": false
   },
   "outputs": [
    {
     "name": "stdout",
     "output_type": "stream",
     "text": [
      "[[Model]]\n",
      "    (Model(voigt, prefix='voigt_2') + Model(voigt, prefix='voigt_3'))\n",
      "[[Fit Statistics]]\n",
      "    # function evals   = 192\n",
      "    # data points      = 34\n",
      "    # variables        = 8\n",
      "    chi-square         = 1858.755\n",
      "    reduced chi-square = 71.491\n",
      "[[Variables]]\n",
      "    voigt_2sigma:       0.04008803 +/- 0.014852 (37.05%) (init= 0.0149357)\n",
      "    voigt_2amplitude:   1046.34036 +/- 872.8670 (83.42%) (init= 1000)\n",
      "    voigt_2center:      28.4331814 +/- 0.001142 (0.00%) (init= 28.43486)\n",
      "    voigt_2fwhm:        0.14436943 +/- 0.053490 (37.05%)  == '3.6013100*voigt_2sigma'\n",
      "    voigt_2gamma:      -0.04797853 +/- 0.051231 (106.78%) (init= 0.0001)\n",
      "    voigt_3amplitude:   1814.27400 +/- 613.5717 (33.82%) (init= 1000)\n",
      "    voigt_3center:      28.5070649 +/- 0.001116 (0.00%) (init= 28.50588)\n",
      "    voigt_3sigma:       0.02232692 +/- 0.005120 (22.94%) (init= 0.01222012)\n",
      "    voigt_3fwhm:        0.08040616 +/- 0.018441 (22.94%)  == '3.6013100*voigt_3sigma'\n",
      "    voigt_3gamma:      -0.00444114 +/- 0.012671 (285.33%) (init= 0.0001)\n",
      "[[Correlations]] (unreported correlations are <  0.100)\n",
      "    C(voigt_2sigma, voigt_2gamma)  = -0.998 \n",
      "    C(voigt_2amplitude, voigt_2gamma)  =  0.993 \n",
      "    C(voigt_3sigma, voigt_3gamma)  = -0.992 \n",
      "    C(voigt_2sigma, voigt_2amplitude)  = -0.985 \n",
      "    C(voigt_2center, voigt_3amplitude)  = -0.903 \n",
      "    C(voigt_2center, voigt_3center)  =  0.900 \n",
      "    C(voigt_2amplitude, voigt_3amplitude)  = -0.833 \n",
      "    C(voigt_2center, voigt_3gamma)  = -0.822 \n",
      "    C(voigt_3amplitude, voigt_3center)  = -0.799 \n",
      "    C(voigt_3amplitude, voigt_3gamma)  =  0.783 \n",
      "    C(voigt_3center, voigt_3gamma)  = -0.772 \n",
      "    C(voigt_2gamma, voigt_3amplitude)  = -0.765 \n",
      "    C(voigt_2center, voigt_3sigma)  =  0.755 \n",
      "    C(voigt_2sigma, voigt_3amplitude)  =  0.734 \n",
      "    C(voigt_3amplitude, voigt_3sigma)  = -0.720 \n",
      "    C(voigt_3center, voigt_3sigma)  =  0.707 \n",
      "    C(voigt_2amplitude, voigt_2center)  =  0.637 \n",
      "    C(voigt_2center, voigt_2gamma)  =  0.551 \n",
      "    C(voigt_2amplitude, voigt_3center)  =  0.515 \n",
      "    C(voigt_2sigma, voigt_2center)  = -0.510 \n",
      "    C(voigt_2gamma, voigt_3center)  =  0.422 \n",
      "    C(voigt_2sigma, voigt_3center)  = -0.373 \n",
      "    C(voigt_2amplitude, voigt_3gamma)  = -0.312 \n",
      "    C(voigt_2amplitude, voigt_3sigma)  =  0.228 \n",
      "    C(voigt_2gamma, voigt_3gamma)  = -0.203 \n",
      "    C(voigt_2sigma, voigt_3gamma)  =  0.161 \n",
      "    C(voigt_2gamma, voigt_3sigma)  =  0.121 \n"
     ]
    }
   ],
   "source": [
    "print(out_2.fit_report())"
   ]
  },
  {
   "cell_type": "code",
   "execution_count": 114,
   "metadata": {
    "collapsed": true
   },
   "outputs": [],
   "source": [
    "plt.subplot(121)\n",
    "plt.errorbar(data[0][intervall_voigt_1],data[1][intervall_voigt_1],err_1,fmt='. ',label=\"Messdaten\")\n",
    "plt.plot(data[0][intervall_voigt_1],out_1.best_fit,label=\"Voigt-Fit\")\n",
    "plt.ticklabel_format(useOffset=False)\n",
    "plt.xticks(fontsize=30)\n",
    "plt.yticks(fontsize=30)\n",
    "plt.legend(loc='best',fontsize=42)\n",
    "plt.xlabel('Winkel in 2$\\Theta$ /$^\\circ$',fontsize=42)\n",
    "plt.ylabel('Counts',fontsize=42)\n",
    "plt.title('Fit für den einzelnen Peak',fontsize=42)\n",
    "\n",
    "\n",
    "plt.subplot(122)\n",
    "plt.errorbar(data[0][intervall_voigt_2],data[1][intervall_voigt_2],err_2,fmt='. ',label=\"Messdaten\")\n",
    "plt.plot(data[0][intervall_voigt_2],out_2.best_fit,label=\"Multi-Voigt-Fit\")\n",
    "plt.ticklabel_format(useOffset=False)\n",
    "plt.xlabel('Winkel in 2$\\Theta$ /$^\\circ$',fontsize=42)\n",
    "plt.ylabel('Counts',fontsize=42)\n",
    "plt.xticks(fontsize=30)\n",
    "plt.yticks(fontsize=30)\n",
    "plt.legend(loc='best',fontsize=42)\n",
    "plt.title('Fit für die überlagerten Peaks',fontsize=42)\n",
    "\n",
    "plt.show()"
   ]
  },
  {
   "cell_type": "markdown",
   "metadata": {},
   "source": [
    "# Plots der Spektren für die ersten 4 Aufnahme"
   ]
  },
  {
   "cell_type": "code",
   "execution_count": 17,
   "metadata": {
    "collapsed": true
   },
   "outputs": [],
   "source": [
    "data_spektrum = np.loadtxt(\"Si111_40_30_Ni.xy\").T"
   ]
  },
  {
   "cell_type": "raw",
   "metadata": {
    "collapsed": true
   },
   "source": [
    "plt.errorbar(data_spektrum[0],data_spektrum[1],np.sqrt(data_spektrum[1]),fmt='. ',label=\"Messdaten, mit U = 40 kV \\n A = 30mA, mit Ni-Filter\")\n",
    "plt.xlabel('Winkel in 2$\\Theta$ /$^\\circ$',fontsize=42)\n",
    "plt.ylabel('Counts',fontsize=42)\n",
    "plt.legend(loc='best',fontsize=40)\n",
    "plt.xticks(fontsize=30)\n",
    "plt.yticks(fontsize=30)\n",
    "plt.show()"
   ]
  },
  {
   "cell_type": "code",
   "execution_count": null,
   "metadata": {
    "collapsed": true
   },
   "outputs": [],
   "source": []
  }
 ],
 "metadata": {
  "kernelspec": {
   "display_name": "Python 3",
   "language": "python",
   "name": "python3"
  },
  "language_info": {
   "codemirror_mode": {
    "name": "ipython",
    "version": 3
   },
   "file_extension": ".py",
   "mimetype": "text/x-python",
   "name": "python",
   "nbconvert_exporter": "python",
   "pygments_lexer": "ipython3",
   "version": "3.4.3"
  }
 },
 "nbformat": 4,
 "nbformat_minor": 0
}
