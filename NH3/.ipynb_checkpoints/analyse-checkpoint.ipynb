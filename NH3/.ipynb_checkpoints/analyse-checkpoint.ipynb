{
 "cells": [
  {
   "cell_type": "code",
   "execution_count": 1,
   "metadata": {
    "collapsed": false
   },
   "outputs": [],
   "source": [
    "import numpy as np\n",
    "import pandas as pd\n",
    "import matplotlib.pyplot as plt\n",
    "from scipy import sparse\n",
    "from scipy.sparse.linalg import spsolve\n",
    "from lmfit.models import Model, LorentzianModel, QuadraticModel, PolynomialModel, LinearModel, ConstantModel"
   ]
  },
  {
   "cell_type": "code",
   "execution_count": 2,
   "metadata": {
    "collapsed": true
   },
   "outputs": [],
   "source": [
    "def baseline(y, lam=10**9, p=0.01, niter=10):\n",
    "    \"\"\"\n",
    "    For more information see: http://zanran_storage.s3.amazonaws.com/www.science.uva.nl/ContentPages/443199618.pdf\n",
    "    lam: is a parameter for the smoothness and values between 10^2 and 10^9 are good for poitiv peaks\n",
    "    p: is a paramter for aysymmetry and values between 0.001 and 0.1 are a good choice \n",
    "    \"\"\"\n",
    "    l = len(y)\n",
    "    D = sparse.csc_matrix(np.diff(np.eye(l), 2))\n",
    "    w = np.ones(l)\n",
    "    for i in range(niter):\n",
    "        W = sparse.spdiags(w, 0, l, l)\n",
    "        Z = W + lam * D.dot(D.T)\n",
    "        z = sparse.linalg.spsolve(Z, w*y)\n",
    "        w = p * (y > z) + (1-p) * (y < z)\n",
    "    return z"
   ]
  },
  {
   "cell_type": "markdown",
   "metadata": {},
   "source": [
    "# Beispiel"
   ]
  },
  {
   "cell_type": "code",
   "execution_count": 3,
   "metadata": {
    "collapsed": false
   },
   "outputs": [],
   "source": [
    "y = 1/np.exp(0.003*np.arange(0,1000)) + np.sin(0.03*np.arange(0,1000))"
   ]
  },
  {
   "cell_type": "code",
   "execution_count": 4,
   "metadata": {
    "collapsed": false
   },
   "outputs": [],
   "source": [
    "plt.plot(np.arange(0,1000),y)\n",
    "plt.show()"
   ]
  },
  {
   "cell_type": "code",
   "execution_count": 5,
   "metadata": {
    "collapsed": true
   },
   "outputs": [],
   "source": [
    "plt.plot(np.arange(0,1,0.001),baseline(y,p=0.001,lam=1.5317*10**6), '-.b', label=\"Baseline\")\n",
    "plt.plot(np.arange(0,1,0.001),y-baseline(y,p=0.001,lam=1.5317*10**6)-1,'-r', label=\"Data without underground\")\n",
    "plt.plot(np.arange(0,1,0.001),y, '--g', label=\"Data with underground\")\n",
    "plt.legend(loc=\"best\")\n",
    "plt.show()"
   ]
  },
  {
   "cell_type": "markdown",
   "metadata": {
    "collapsed": true
   },
   "source": [
    "# Datenanalyse"
   ]
  },
  {
   "cell_type": "code",
   "execution_count": 6,
   "metadata": {
    "collapsed": true
   },
   "outputs": [],
   "source": [
    "data_messung_1 = pd.read_csv(\"Messung_1.dat\", delim_whitespace=True)"
   ]
  },
  {
   "cell_type": "code",
   "execution_count": 7,
   "metadata": {
    "collapsed": false
   },
   "outputs": [],
   "source": [
    "Prfl = -(data_messung_1.iloc[8].Amplitude/(np.exp(0.5)-1))\n",
    "delta_Prfl = (0.1/(np.exp(0.5)-1))\n"
   ]
  },
  {
   "cell_type": "code",
   "execution_count": 8,
   "metadata": {
    "collapsed": true
   },
   "outputs": [],
   "source": [
    "data_messung_1[\"err\"] = np.where(data_messung_1.Amplitude < 1, 0.01, 0.1)"
   ]
  },
  {
   "cell_type": "code",
   "execution_count": 9,
   "metadata": {
    "collapsed": false
   },
   "outputs": [],
   "source": [
    "data_messung_1[\"absorptionskoeffizient\"] = 10/5*np.log(1-data_messung_1.Amplitude/Prfl)\n",
    "data_messung_1[\"absorp_err\"] = (((2*data_messung_1.err)/(data_messung_1.Amplitude-Prfl))**2 + ((2*delta_Prfl*data_messung_1.Amplitude)/(Prfl*data_messung_1.Amplitude-data_messung_1.Amplitude**2))**2)**0.5"
   ]
  },
  {
   "cell_type": "code",
   "execution_count": 10,
   "metadata": {
    "collapsed": false
   },
   "outputs": [
    {
     "data": {
      "text/html": [
       "<div>\n",
       "<table border=\"1\" class=\"dataframe\">\n",
       "  <thead>\n",
       "    <tr style=\"text-align: right;\">\n",
       "      <th></th>\n",
       "      <th>Nummer</th>\n",
       "      <th>J</th>\n",
       "      <th>K</th>\n",
       "      <th>nu_theo</th>\n",
       "      <th>nu_gemessen</th>\n",
       "      <th>Amplitude</th>\n",
       "      <th>err</th>\n",
       "      <th>absorptionskoeffizient</th>\n",
       "      <th>absorp_err</th>\n",
       "    </tr>\n",
       "  </thead>\n",
       "  <tbody>\n",
       "    <tr>\n",
       "      <th>8</th>\n",
       "      <td>31</td>\n",
       "      <td>3</td>\n",
       "      <td>3</td>\n",
       "      <td>23.870</td>\n",
       "      <td>23.877</td>\n",
       "      <td>20.000</td>\n",
       "      <td>0.10</td>\n",
       "      <td>1.000000</td>\n",
       "      <td>0.007230</td>\n",
       "    </tr>\n",
       "    <tr>\n",
       "      <th>3</th>\n",
       "      <td>36</td>\n",
       "      <td>6</td>\n",
       "      <td>6</td>\n",
       "      <td>25.056</td>\n",
       "      <td>25.061</td>\n",
       "      <td>19.700</td>\n",
       "      <td>0.10</td>\n",
       "      <td>0.988161</td>\n",
       "      <td>0.007273</td>\n",
       "    </tr>\n",
       "    <tr>\n",
       "      <th>7</th>\n",
       "      <td>32</td>\n",
       "      <td>4</td>\n",
       "      <td>4</td>\n",
       "      <td>24.139</td>\n",
       "      <td>24.140</td>\n",
       "      <td>15.100</td>\n",
       "      <td>0.10</td>\n",
       "      <td>0.797263</td>\n",
       "      <td>0.008001</td>\n",
       "    </tr>\n",
       "    <tr>\n",
       "      <th>17</th>\n",
       "      <td>22</td>\n",
       "      <td>4</td>\n",
       "      <td>3</td>\n",
       "      <td>22.687</td>\n",
       "      <td>22.695</td>\n",
       "      <td>14.700</td>\n",
       "      <td>0.10</td>\n",
       "      <td>0.779769</td>\n",
       "      <td>0.008071</td>\n",
       "    </tr>\n",
       "    <tr>\n",
       "      <th>5</th>\n",
       "      <td>34</td>\n",
       "      <td>5</td>\n",
       "      <td>5</td>\n",
       "      <td>24.533</td>\n",
       "      <td>24.538</td>\n",
       "      <td>14.500</td>\n",
       "      <td>0.10</td>\n",
       "      <td>0.770964</td>\n",
       "      <td>0.008107</td>\n",
       "    </tr>\n",
       "    <tr>\n",
       "      <th>1</th>\n",
       "      <td>38</td>\n",
       "      <td>7</td>\n",
       "      <td>7</td>\n",
       "      <td>25.715</td>\n",
       "      <td>25.714</td>\n",
       "      <td>11.100</td>\n",
       "      <td>0.10</td>\n",
       "      <td>0.615029</td>\n",
       "      <td>0.008764</td>\n",
       "    </tr>\n",
       "    <tr>\n",
       "      <th>18</th>\n",
       "      <td>21</td>\n",
       "      <td>5</td>\n",
       "      <td>4</td>\n",
       "      <td>22.654</td>\n",
       "      <td>22.660</td>\n",
       "      <td>10.200</td>\n",
       "      <td>0.10</td>\n",
       "      <td>0.571632</td>\n",
       "      <td>0.008957</td>\n",
       "    </tr>\n",
       "    <tr>\n",
       "      <th>9</th>\n",
       "      <td>30</td>\n",
       "      <td>2</td>\n",
       "      <td>2</td>\n",
       "      <td>23.723</td>\n",
       "      <td>23.730</td>\n",
       "      <td>9.700</td>\n",
       "      <td>0.10</td>\n",
       "      <td>0.547110</td>\n",
       "      <td>0.009067</td>\n",
       "    </tr>\n",
       "    <tr>\n",
       "      <th>10</th>\n",
       "      <td>29</td>\n",
       "      <td>1</td>\n",
       "      <td>1</td>\n",
       "      <td>23.694</td>\n",
       "      <td>23.700</td>\n",
       "      <td>9.150</td>\n",
       "      <td>0.10</td>\n",
       "      <td>0.519784</td>\n",
       "      <td>0.009192</td>\n",
       "    </tr>\n",
       "    <tr>\n",
       "      <th>14</th>\n",
       "      <td>25</td>\n",
       "      <td>7</td>\n",
       "      <td>6</td>\n",
       "      <td>22.927</td>\n",
       "      <td>22.929</td>\n",
       "      <td>8.600</td>\n",
       "      <td>0.10</td>\n",
       "      <td>0.492079</td>\n",
       "      <td>0.009320</td>\n",
       "    </tr>\n",
       "    <tr>\n",
       "      <th>0</th>\n",
       "      <td>39</td>\n",
       "      <td>8</td>\n",
       "      <td>8</td>\n",
       "      <td>26.519</td>\n",
       "      <td>26.523</td>\n",
       "      <td>7.750</td>\n",
       "      <td>0.10</td>\n",
       "      <td>0.448493</td>\n",
       "      <td>0.009525</td>\n",
       "    </tr>\n",
       "    <tr>\n",
       "      <th>6</th>\n",
       "      <td>33</td>\n",
       "      <td>10</td>\n",
       "      <td>9</td>\n",
       "      <td>24.208</td>\n",
       "      <td>24.206</td>\n",
       "      <td>6.140</td>\n",
       "      <td>0.10</td>\n",
       "      <td>0.363238</td>\n",
       "      <td>0.009940</td>\n",
       "    </tr>\n",
       "    <tr>\n",
       "      <th>16</th>\n",
       "      <td>23</td>\n",
       "      <td>6</td>\n",
       "      <td>5</td>\n",
       "      <td>22.734</td>\n",
       "      <td>22.735</td>\n",
       "      <td>6.000</td>\n",
       "      <td>0.10</td>\n",
       "      <td>0.355650</td>\n",
       "      <td>0.009978</td>\n",
       "    </tr>\n",
       "    <tr>\n",
       "      <th>15</th>\n",
       "      <td>24</td>\n",
       "      <td>3</td>\n",
       "      <td>2</td>\n",
       "      <td>22.835</td>\n",
       "      <td>22.835</td>\n",
       "      <td>5.700</td>\n",
       "      <td>0.10</td>\n",
       "      <td>0.339292</td>\n",
       "      <td>0.010060</td>\n",
       "    </tr>\n",
       "    <tr>\n",
       "      <th>12</th>\n",
       "      <td>27</td>\n",
       "      <td>8</td>\n",
       "      <td>7</td>\n",
       "      <td>23.235</td>\n",
       "      <td>23.239</td>\n",
       "      <td>4.950</td>\n",
       "      <td>0.10</td>\n",
       "      <td>0.297803</td>\n",
       "      <td>0.010271</td>\n",
       "    </tr>\n",
       "    <tr>\n",
       "      <th>21</th>\n",
       "      <td>18</td>\n",
       "      <td>5</td>\n",
       "      <td>3</td>\n",
       "      <td>21.293</td>\n",
       "      <td>21.290</td>\n",
       "      <td>4.700</td>\n",
       "      <td>0.10</td>\n",
       "      <td>0.283779</td>\n",
       "      <td>0.010343</td>\n",
       "    </tr>\n",
       "    <tr>\n",
       "      <th>11</th>\n",
       "      <td>28</td>\n",
       "      <td>9</td>\n",
       "      <td>8</td>\n",
       "      <td>23.660</td>\n",
       "      <td>23.662</td>\n",
       "      <td>4.600</td>\n",
       "      <td>0.10</td>\n",
       "      <td>0.278142</td>\n",
       "      <td>0.010372</td>\n",
       "    </tr>\n",
       "    <tr>\n",
       "      <th>13</th>\n",
       "      <td>26</td>\n",
       "      <td>2</td>\n",
       "      <td>1</td>\n",
       "      <td>23.099</td>\n",
       "      <td>23.110</td>\n",
       "      <td>3.600</td>\n",
       "      <td>0.10</td>\n",
       "      <td>0.220881</td>\n",
       "      <td>0.010674</td>\n",
       "    </tr>\n",
       "    <tr>\n",
       "      <th>20</th>\n",
       "      <td>19</td>\n",
       "      <td>4</td>\n",
       "      <td>2</td>\n",
       "      <td>21.704</td>\n",
       "      <td>22.703</td>\n",
       "      <td>3.350</td>\n",
       "      <td>0.10</td>\n",
       "      <td>0.206306</td>\n",
       "      <td>0.010752</td>\n",
       "    </tr>\n",
       "    <tr>\n",
       "      <th>19</th>\n",
       "      <td>20</td>\n",
       "      <td>3</td>\n",
       "      <td>1</td>\n",
       "      <td>22.235</td>\n",
       "      <td>22.240</td>\n",
       "      <td>2.700</td>\n",
       "      <td>0.10</td>\n",
       "      <td>0.167905</td>\n",
       "      <td>0.010960</td>\n",
       "    </tr>\n",
       "    <tr>\n",
       "      <th>22</th>\n",
       "      <td>17</td>\n",
       "      <td>4</td>\n",
       "      <td>1</td>\n",
       "      <td>21.134</td>\n",
       "      <td>21.140</td>\n",
       "      <td>2.700</td>\n",
       "      <td>0.10</td>\n",
       "      <td>0.167905</td>\n",
       "      <td>0.010960</td>\n",
       "    </tr>\n",
       "    <tr>\n",
       "      <th>28</th>\n",
       "      <td>11</td>\n",
       "      <td>8</td>\n",
       "      <td>6</td>\n",
       "      <td>20.722</td>\n",
       "      <td>20.721</td>\n",
       "      <td>2.400</td>\n",
       "      <td>0.10</td>\n",
       "      <td>0.149930</td>\n",
       "      <td>0.011059</td>\n",
       "    </tr>\n",
       "    <tr>\n",
       "      <th>2</th>\n",
       "      <td>37</td>\n",
       "      <td>12</td>\n",
       "      <td>11</td>\n",
       "      <td>25.694</td>\n",
       "      <td>25.699</td>\n",
       "      <td>2.000</td>\n",
       "      <td>0.10</td>\n",
       "      <td>0.125709</td>\n",
       "      <td>0.011194</td>\n",
       "    </tr>\n",
       "    <tr>\n",
       "      <th>4</th>\n",
       "      <td>35</td>\n",
       "      <td>11</td>\n",
       "      <td>10</td>\n",
       "      <td>24.883</td>\n",
       "      <td>24.859</td>\n",
       "      <td>1.980</td>\n",
       "      <td>0.10</td>\n",
       "      <td>0.124491</td>\n",
       "      <td>0.011201</td>\n",
       "    </tr>\n",
       "    <tr>\n",
       "      <th>24</th>\n",
       "      <td>15</td>\n",
       "      <td>6</td>\n",
       "      <td>4</td>\n",
       "      <td>20.996</td>\n",
       "      <td>20.999</td>\n",
       "      <td>1.600</td>\n",
       "      <td>0.10</td>\n",
       "      <td>0.101192</td>\n",
       "      <td>0.011332</td>\n",
       "    </tr>\n",
       "    <tr>\n",
       "      <th>31</th>\n",
       "      <td>8</td>\n",
       "      <td>6</td>\n",
       "      <td>3</td>\n",
       "      <td>19.735</td>\n",
       "      <td>19.764</td>\n",
       "      <td>1.400</td>\n",
       "      <td>0.10</td>\n",
       "      <td>0.088819</td>\n",
       "      <td>0.011402</td>\n",
       "    </tr>\n",
       "    <tr>\n",
       "      <th>26</th>\n",
       "      <td>13</td>\n",
       "      <td>7</td>\n",
       "      <td>5</td>\n",
       "      <td>20.806</td>\n",
       "      <td>20.809</td>\n",
       "      <td>1.380</td>\n",
       "      <td>0.10</td>\n",
       "      <td>0.087578</td>\n",
       "      <td>0.011409</td>\n",
       "    </tr>\n",
       "    <tr>\n",
       "      <th>29</th>\n",
       "      <td>10</td>\n",
       "      <td>5</td>\n",
       "      <td>2</td>\n",
       "      <td>20.371</td>\n",
       "      <td>20.378</td>\n",
       "      <td>1.300</td>\n",
       "      <td>0.10</td>\n",
       "      <td>0.082604</td>\n",
       "      <td>0.011438</td>\n",
       "    </tr>\n",
       "    <tr>\n",
       "      <th>27</th>\n",
       "      <td>12</td>\n",
       "      <td>9</td>\n",
       "      <td>7</td>\n",
       "      <td>20.739</td>\n",
       "      <td>20.739</td>\n",
       "      <td>0.830</td>\n",
       "      <td>0.01</td>\n",
       "      <td>0.053132</td>\n",
       "      <td>0.009758</td>\n",
       "    </tr>\n",
       "    <tr>\n",
       "      <th>34</th>\n",
       "      <td>5</td>\n",
       "      <td>8</td>\n",
       "      <td>5</td>\n",
       "      <td>18.819</td>\n",
       "      <td>18.819</td>\n",
       "      <td>0.450</td>\n",
       "      <td>0.01</td>\n",
       "      <td>0.028981</td>\n",
       "      <td>0.009877</td>\n",
       "    </tr>\n",
       "    <tr>\n",
       "      <th>35</th>\n",
       "      <td>4</td>\n",
       "      <td>9</td>\n",
       "      <td>6</td>\n",
       "      <td>18.495</td>\n",
       "      <td>18.509</td>\n",
       "      <td>0.410</td>\n",
       "      <td>0.01</td>\n",
       "      <td>0.026422</td>\n",
       "      <td>0.009890</td>\n",
       "    </tr>\n",
       "    <tr>\n",
       "      <th>33</th>\n",
       "      <td>6</td>\n",
       "      <td>6</td>\n",
       "      <td>2</td>\n",
       "      <td>18.879</td>\n",
       "      <td>18.891</td>\n",
       "      <td>0.310</td>\n",
       "      <td>0.01</td>\n",
       "      <td>0.020010</td>\n",
       "      <td>0.009921</td>\n",
       "    </tr>\n",
       "    <tr>\n",
       "      <th>23</th>\n",
       "      <td>16</td>\n",
       "      <td>11</td>\n",
       "      <td>9</td>\n",
       "      <td>21.076</td>\n",
       "      <td>21.076</td>\n",
       "      <td>0.300</td>\n",
       "      <td>0.01</td>\n",
       "      <td>0.019368</td>\n",
       "      <td>0.009924</td>\n",
       "    </tr>\n",
       "    <tr>\n",
       "      <th>25</th>\n",
       "      <td>14</td>\n",
       "      <td>10</td>\n",
       "      <td>8</td>\n",
       "      <td>20.857</td>\n",
       "      <td>20.855</td>\n",
       "      <td>0.255</td>\n",
       "      <td>0.01</td>\n",
       "      <td>0.016474</td>\n",
       "      <td>0.009939</td>\n",
       "    </tr>\n",
       "    <tr>\n",
       "      <th>38</th>\n",
       "      <td>1</td>\n",
       "      <td>7</td>\n",
       "      <td>3</td>\n",
       "      <td>18.058</td>\n",
       "      <td>18.028</td>\n",
       "      <td>0.220</td>\n",
       "      <td>0.01</td>\n",
       "      <td>0.014221</td>\n",
       "      <td>0.009950</td>\n",
       "    </tr>\n",
       "    <tr>\n",
       "      <th>32</th>\n",
       "      <td>7</td>\n",
       "      <td>7</td>\n",
       "      <td>4</td>\n",
       "      <td>19.216</td>\n",
       "      <td>19.225</td>\n",
       "      <td>0.210</td>\n",
       "      <td>0.01</td>\n",
       "      <td>0.013577</td>\n",
       "      <td>0.009953</td>\n",
       "    </tr>\n",
       "    <tr>\n",
       "      <th>37</th>\n",
       "      <td>2</td>\n",
       "      <td>10</td>\n",
       "      <td>7</td>\n",
       "      <td>18.282</td>\n",
       "      <td>18.294</td>\n",
       "      <td>0.100</td>\n",
       "      <td>0.01</td>\n",
       "      <td>0.006477</td>\n",
       "      <td>0.009989</td>\n",
       "    </tr>\n",
       "    <tr>\n",
       "      <th>30</th>\n",
       "      <td>9</td>\n",
       "      <td>5</td>\n",
       "      <td>1</td>\n",
       "      <td>19.836</td>\n",
       "      <td>19.842</td>\n",
       "      <td>0.100</td>\n",
       "      <td>0.01</td>\n",
       "      <td>0.006477</td>\n",
       "      <td>0.009989</td>\n",
       "    </tr>\n",
       "    <tr>\n",
       "      <th>36</th>\n",
       "      <td>3</td>\n",
       "      <td>6</td>\n",
       "      <td>1</td>\n",
       "      <td>18.382</td>\n",
       "      <td>18.395</td>\n",
       "      <td>0.090</td>\n",
       "      <td>0.01</td>\n",
       "      <td>0.005830</td>\n",
       "      <td>0.009992</td>\n",
       "    </tr>\n",
       "  </tbody>\n",
       "</table>\n",
       "</div>"
      ],
      "text/plain": [
       "    Nummer   J   K  nu_theo  nu_gemessen  Amplitude   err  \\\n",
       "8       31   3   3   23.870       23.877     20.000  0.10   \n",
       "3       36   6   6   25.056       25.061     19.700  0.10   \n",
       "7       32   4   4   24.139       24.140     15.100  0.10   \n",
       "17      22   4   3   22.687       22.695     14.700  0.10   \n",
       "5       34   5   5   24.533       24.538     14.500  0.10   \n",
       "1       38   7   7   25.715       25.714     11.100  0.10   \n",
       "18      21   5   4   22.654       22.660     10.200  0.10   \n",
       "9       30   2   2   23.723       23.730      9.700  0.10   \n",
       "10      29   1   1   23.694       23.700      9.150  0.10   \n",
       "14      25   7   6   22.927       22.929      8.600  0.10   \n",
       "0       39   8   8   26.519       26.523      7.750  0.10   \n",
       "6       33  10   9   24.208       24.206      6.140  0.10   \n",
       "16      23   6   5   22.734       22.735      6.000  0.10   \n",
       "15      24   3   2   22.835       22.835      5.700  0.10   \n",
       "12      27   8   7   23.235       23.239      4.950  0.10   \n",
       "21      18   5   3   21.293       21.290      4.700  0.10   \n",
       "11      28   9   8   23.660       23.662      4.600  0.10   \n",
       "13      26   2   1   23.099       23.110      3.600  0.10   \n",
       "20      19   4   2   21.704       22.703      3.350  0.10   \n",
       "19      20   3   1   22.235       22.240      2.700  0.10   \n",
       "22      17   4   1   21.134       21.140      2.700  0.10   \n",
       "28      11   8   6   20.722       20.721      2.400  0.10   \n",
       "2       37  12  11   25.694       25.699      2.000  0.10   \n",
       "4       35  11  10   24.883       24.859      1.980  0.10   \n",
       "24      15   6   4   20.996       20.999      1.600  0.10   \n",
       "31       8   6   3   19.735       19.764      1.400  0.10   \n",
       "26      13   7   5   20.806       20.809      1.380  0.10   \n",
       "29      10   5   2   20.371       20.378      1.300  0.10   \n",
       "27      12   9   7   20.739       20.739      0.830  0.01   \n",
       "34       5   8   5   18.819       18.819      0.450  0.01   \n",
       "35       4   9   6   18.495       18.509      0.410  0.01   \n",
       "33       6   6   2   18.879       18.891      0.310  0.01   \n",
       "23      16  11   9   21.076       21.076      0.300  0.01   \n",
       "25      14  10   8   20.857       20.855      0.255  0.01   \n",
       "38       1   7   3   18.058       18.028      0.220  0.01   \n",
       "32       7   7   4   19.216       19.225      0.210  0.01   \n",
       "37       2  10   7   18.282       18.294      0.100  0.01   \n",
       "30       9   5   1   19.836       19.842      0.100  0.01   \n",
       "36       3   6   1   18.382       18.395      0.090  0.01   \n",
       "\n",
       "    absorptionskoeffizient  absorp_err  \n",
       "8                 1.000000    0.007230  \n",
       "3                 0.988161    0.007273  \n",
       "7                 0.797263    0.008001  \n",
       "17                0.779769    0.008071  \n",
       "5                 0.770964    0.008107  \n",
       "1                 0.615029    0.008764  \n",
       "18                0.571632    0.008957  \n",
       "9                 0.547110    0.009067  \n",
       "10                0.519784    0.009192  \n",
       "14                0.492079    0.009320  \n",
       "0                 0.448493    0.009525  \n",
       "6                 0.363238    0.009940  \n",
       "16                0.355650    0.009978  \n",
       "15                0.339292    0.010060  \n",
       "12                0.297803    0.010271  \n",
       "21                0.283779    0.010343  \n",
       "11                0.278142    0.010372  \n",
       "13                0.220881    0.010674  \n",
       "20                0.206306    0.010752  \n",
       "19                0.167905    0.010960  \n",
       "22                0.167905    0.010960  \n",
       "28                0.149930    0.011059  \n",
       "2                 0.125709    0.011194  \n",
       "4                 0.124491    0.011201  \n",
       "24                0.101192    0.011332  \n",
       "31                0.088819    0.011402  \n",
       "26                0.087578    0.011409  \n",
       "29                0.082604    0.011438  \n",
       "27                0.053132    0.009758  \n",
       "34                0.028981    0.009877  \n",
       "35                0.026422    0.009890  \n",
       "33                0.020010    0.009921  \n",
       "23                0.019368    0.009924  \n",
       "25                0.016474    0.009939  \n",
       "38                0.014221    0.009950  \n",
       "32                0.013577    0.009953  \n",
       "37                0.006477    0.009989  \n",
       "30                0.006477    0.009989  \n",
       "36                0.005830    0.009992  "
      ]
     },
     "execution_count": 10,
     "metadata": {},
     "output_type": "execute_result"
    }
   ],
   "source": [
    "data_messung_1.sort_values(\"Amplitude\")[::-1]"
   ]
  },
  {
   "cell_type": "code",
   "execution_count": 11,
   "metadata": {
    "collapsed": false
   },
   "outputs": [],
   "source": [
    "plt.bar(data_messung_1.nu_gemessen,data_messung_1.absorptionskoeffizient,0.04,\n",
    "        yerr=data_messung_1.absorp_err,\n",
    "        color=\"g\",\n",
    "        error_kw={'ecolor': 'r'})\n",
    "plt.xticks(fontsize=18)\n",
    "plt.yticks(fontsize=18)\n",
    "plt.ylabel(r'$\\alpha$ in dB/m', fontsize=24)\n",
    "plt.xlabel(\"Frequency/GHz\", fontsize=24)\n",
    "plt.ylim([0,1.1])\n",
    "plt.show()"
   ]
  },
  {
   "cell_type": "markdown",
   "metadata": {},
   "source": [
    "# Hyperfinestruckture"
   ]
  },
  {
   "cell_type": "code",
   "execution_count": 366,
   "metadata": {
    "collapsed": true
   },
   "outputs": [],
   "source": [
    "peak_4_4 = np.genfromtxt(\"Frederik_Henrik/Messung_2/H_F_4_4.tab\", skip_header=1).T\n",
    "peak_4_4_kalib_1 = np.genfromtxt(\"Frederik_Henrik/Messung_2/H_F_4_4_24_130.tab\", skip_header=1).T\n",
    "peak_4_4_kalib_2 = np.genfromtxt(\"Frederik_Henrik/Messung_2/H_F_4_4_24_145.tab\", skip_header=1).T\n",
    "peak_4_4_kalib_3 = np.genfromtxt(\"Frederik_Henrik/Messung_2/H_F_4_4_24_149.tab\", skip_header=1).T"
   ]
  },
  {
   "cell_type": "markdown",
   "metadata": {},
   "source": [
    "### Untergrund"
   ]
  },
  {
   "cell_type": "code",
   "execution_count": 367,
   "metadata": {
    "collapsed": false
   },
   "outputs": [],
   "source": [
    "plt.plot(peak_4_4[0],peak_4_4[1])\n",
    "plt.show()"
   ]
  },
  {
   "cell_type": "code",
   "execution_count": 368,
   "metadata": {
    "collapsed": true
   },
   "outputs": [],
   "source": [
    "submask_untergrund_hf_4_4_upper = np.where(peak_4_4[0] > 0.03, True, False)\n",
    "submask_untergrund_hf_4_4_lower = np.where(peak_4_4[0] < 0.02, True,False)\n",
    "mask_untergrund_hf_4_4 = np.where(np.logical_or(submask_untergrund_hf_4_4_upper,\n",
    "                                                 submask_untergrund_hf_4_4_lower))"
   ]
  },
  {
   "cell_type": "code",
   "execution_count": 369,
   "metadata": {
    "collapsed": true
   },
   "outputs": [],
   "source": [
    "mod_underground_hf_4_4 = PolynomialModel(4)\n"
   ]
  },
  {
   "cell_type": "code",
   "execution_count": 370,
   "metadata": {
    "collapsed": true
   },
   "outputs": [],
   "source": [
    "pars_underground_hf_4_4 = mod_underground_hf_4_4.guess(peak_4_4[1][mask_untergrund_hf_4_4],\n",
    "                                                         x=peak_4_4[0][mask_untergrund_hf_4_4])"
   ]
  },
  {
   "cell_type": "code",
   "execution_count": 371,
   "metadata": {
    "collapsed": true
   },
   "outputs": [],
   "source": [
    "out_underground_hf_4_4 = mod_underground_hf_4_4.fit(peak_4_4[1][mask_untergrund_hf_4_4],\n",
    "                                                      params=pars_underground_hf_4_4,\n",
    "                                                      x=peak_4_4[0][mask_untergrund_hf_4_4],\n",
    "                                                      weights=1/0.0001)"
   ]
  },
  {
   "cell_type": "code",
   "execution_count": 372,
   "metadata": {
    "collapsed": false,
    "scrolled": true
   },
   "outputs": [
    {
     "name": "stdout",
     "output_type": "stream",
     "text": [
      "[[Model]]\n",
      "    Model(polynomial)\n",
      "[[Fit Statistics]]\n",
      "    # function evals   = 8\n",
      "    # data points      = 1645\n",
      "    # variables        = 5\n",
      "    chi-square         = 514.289\n",
      "    reduced chi-square = 0.314\n",
      "[[Variables]]\n",
      "    c0:   0.00052059 +/- 6.32e-06 (1.21%) (init= 0.0005205947)\n",
      "    c1:   0.24040414 +/- 0.001833 (0.76%) (init= 0.2404041)\n",
      "    c2:  -32.9505331 +/- 0.157074 (0.48%) (init=-32.95053)\n",
      "    c3:   1110.99435 +/- 4.758532 (0.43%) (init= 1110.994)\n",
      "    c4:  -10777.6796 +/- 46.41823 (0.43%) (init=-10777.68)\n",
      "\n"
     ]
    }
   ],
   "source": [
    "print(out_underground_hf_4_4.fit_report(show_correl=False))"
   ]
  },
  {
   "cell_type": "code",
   "execution_count": 373,
   "metadata": {
    "collapsed": false
   },
   "outputs": [],
   "source": [
    "out_underground_hf_4_4.plot()\n",
    "plt.show()"
   ]
  },
  {
   "cell_type": "code",
   "execution_count": 374,
   "metadata": {
    "collapsed": true
   },
   "outputs": [],
   "source": [
    "plt.plot(peak_4_4[0],peak_4_4[1])\n",
    "plt.plot(np.arange(0,0.052,0.001),out_underground_hf_4_4.eval(x=np.arange(0,0.052,0.001)))\n",
    "plt.show()"
   ]
  },
  {
   "cell_type": "code",
   "execution_count": 375,
   "metadata": {
    "collapsed": true
   },
   "outputs": [],
   "source": [
    "untergrund_hf_4_4 = out_underground_hf_4_4.eval(x=peak_4_4[0])"
   ]
  },
  {
   "cell_type": "code",
   "execution_count": 376,
   "metadata": {
    "collapsed": false
   },
   "outputs": [],
   "source": [
    "plt.plot(peak_4_4[0],peak_4_4[1]-untergrund_hf_4_4, ' .')\n",
    "plt.show()"
   ]
  },
  {
   "cell_type": "markdown",
   "metadata": {},
   "source": [
    "### Kalibration"
   ]
  },
  {
   "cell_type": "markdown",
   "metadata": {},
   "source": [
    "#### Peak 1"
   ]
  },
  {
   "cell_type": "code",
   "execution_count": 377,
   "metadata": {
    "collapsed": true
   },
   "outputs": [],
   "source": [
    "kalib_hf_4_4_peak_1_new = peak_4_4_kalib_1[1]-untergrund_hf_4_4"
   ]
  },
  {
   "cell_type": "code",
   "execution_count": 378,
   "metadata": {
    "collapsed": true
   },
   "outputs": [],
   "source": [
    "plt.plot(peak_4_4_kalib_1[0],kalib_hf_4_4_peak_1_new, ' .')\n",
    "plt.show()"
   ]
  },
  {
   "cell_type": "code",
   "execution_count": 379,
   "metadata": {
    "collapsed": true
   },
   "outputs": [],
   "source": [
    "mask_kalib_hf_4_4_peak_1 = np.where(peak_4_4_kalib_1[0][np.where(peak_4_4_kalib_1[0] < 0.01)[0]] > 0.0045)[0]"
   ]
  },
  {
   "cell_type": "code",
   "execution_count": 380,
   "metadata": {
    "collapsed": true
   },
   "outputs": [],
   "source": [
    "mod_kalib_hf_4_4_peak_1 = LorentzianModel()\n",
    "mod_kalib_const_hf_4_4_peak_1 = ConstantModel()"
   ]
  },
  {
   "cell_type": "code",
   "execution_count": 381,
   "metadata": {
    "collapsed": false
   },
   "outputs": [],
   "source": [
    "pars_kalib_hf_4_4_peak_1 = mod_kalib_hf_4_4_peak_1.guess(kalib_hf_4_4_peak_1_new[mask_kalib_hf_4_4_peak_1],\n",
    "                                                         x=peak_4_4_kalib_1[0][mask_kalib_hf_4_4_peak_1])\n",
    "pars_kalib_hf_4_4_peak_1[\"sigma\"].set(0.001)\n",
    "pars_kalib_hf_4_4_peak_1[\"center\"].set(0.0081)\n",
    "pars_kalib_hf_4_4_peak_1[\"amplitude\"].set(-0.001)"
   ]
  },
  {
   "cell_type": "code",
   "execution_count": 382,
   "metadata": {
    "collapsed": false
   },
   "outputs": [],
   "source": [
    "out_kalib_hf_4_4_peak_1 = mod_kalib_hf_4_4_peak_1.fit(kalib_hf_4_4_peak_1_new[mask_kalib_hf_4_4_peak_1],\n",
    "                                                      params=pars_kalib_hf_4_4_peak_1,\n",
    "                                                      x=peak_4_4_kalib_1[0][mask_kalib_hf_4_4_peak_1],\n",
    "                                                      weights=1/(kalib_hf_4_4_peak_1_new[mask_kalib_hf_4_4_peak_1]*0.02))"
   ]
  },
  {
   "cell_type": "code",
   "execution_count": 383,
   "metadata": {
    "collapsed": false
   },
   "outputs": [
    {
     "name": "stdout",
     "output_type": "stream",
     "text": [
      "[[Model]]\n",
      "    Model(lorentzian)\n",
      "[[Fit Statistics]]\n",
      "    # function evals   = 35\n",
      "    # data points      = 219\n",
      "    # variables        = 3\n",
      "    chi-square         = 161.423\n",
      "    reduced chi-square = 0.747\n",
      "[[Variables]]\n",
      "    sigma:       0.00685879 +/- 9.60e-05 (1.40%) (init= 0.001)\n",
      "    fwhm:        0.01371758 +/- 0.000192 (1.40%)  == '2.0000000*sigma'\n",
      "    center:      0.00784729 +/- 2.38e-05 (0.30%) (init= 0.0081)\n",
      "    amplitude:  -0.00020719 +/- 2.66e-06 (1.28%) (init=-0.001)\n",
      "\n"
     ]
    }
   ],
   "source": [
    "print(out_kalib_hf_4_4_peak_1.fit_report(show_correl=False))"
   ]
  },
  {
   "cell_type": "code",
   "execution_count": 384,
   "metadata": {
    "collapsed": true
   },
   "outputs": [],
   "source": [
    "out_kalib_hf_4_4_peak_1.plot()\n",
    "plt.show()"
   ]
  },
  {
   "cell_type": "code",
   "execution_count": 385,
   "metadata": {
    "collapsed": true
   },
   "outputs": [],
   "source": [
    "plt.plot(peak_4_4_kalib_1[0],kalib_hf_4_4_peak_1_new)\n",
    "plt.plot(np.arange(0,0.052,0.00001),out_kalib_hf_4_4_peak_1.eval(x=np.arange(0,0.052,0.00001)))\n",
    "plt.show()"
   ]
  },
  {
   "cell_type": "markdown",
   "metadata": {},
   "source": [
    "#### Peak 2"
   ]
  },
  {
   "cell_type": "code",
   "execution_count": 392,
   "metadata": {
    "collapsed": true
   },
   "outputs": [],
   "source": [
    "kalib_hf_4_4_peak_2_new = peak_4_4_kalib_2[1]-untergrund_hf_4_4"
   ]
  },
  {
   "cell_type": "code",
   "execution_count": 395,
   "metadata": {
    "collapsed": true
   },
   "outputs": [],
   "source": [
    "plt.plot(peak_4_4_kalib_2[0],kalib_hf_4_4_peak_2_new, ' .')\n",
    "plt.show()"
   ]
  },
  {
   "cell_type": "code",
   "execution_count": 396,
   "metadata": {
    "collapsed": false
   },
   "outputs": [],
   "source": [
    "mask_kalib_hf_4_4_peak_2 = np.where(peak_4_4_kalib_2[0][np.where(peak_4_4_kalib_2[0] < 0.043)[0]] > 0.0324)[0]"
   ]
  },
  {
   "cell_type": "code",
   "execution_count": 397,
   "metadata": {
    "collapsed": true
   },
   "outputs": [],
   "source": [
    "mod_kalib_hf_4_4_peak_2 = LorentzianModel()\n",
    "mod_kalib_const_hf_4_4_peak_2 = ConstantModel()"
   ]
  },
  {
   "cell_type": "code",
   "execution_count": 398,
   "metadata": {
    "collapsed": true
   },
   "outputs": [],
   "source": [
    "pars_kalib_hf_4_4_peak_2 = mod_kalib_hf_4_4_peak_2.guess(kalib_hf_4_4_peak_2_new[mask_kalib_hf_4_4_peak_2],\n",
    "                                                         x=peak_4_4_kalib_2[0][mask_kalib_hf_4_4_peak_2])\n",
    "pars_kalib_hf_4_4_peak_2[\"sigma\"].set(0.001)\n",
    "pars_kalib_hf_4_4_peak_2[\"center\"].set(0.0081)\n",
    "pars_kalib_hf_4_4_peak_2[\"amplitude\"].set(-0.001)"
   ]
  },
  {
   "cell_type": "code",
   "execution_count": 399,
   "metadata": {
    "collapsed": true
   },
   "outputs": [],
   "source": [
    "out_kalib_hf_4_4_peak_2 = mod_kalib_hf_4_4_peak_2.fit(kalib_hf_4_4_peak_2_new[mask_kalib_hf_4_4_peak_2],\n",
    "                                                      params=pars_kalib_hf_4_4_peak_2,\n",
    "                                                      x=peak_4_4_kalib_2[0][mask_kalib_hf_4_4_peak_2],\n",
    "                                                      weights=1/(kalib_hf_4_4_peak_2_new[mask_kalib_hf_4_4_peak_2]*0.02))"
   ]
  },
  {
   "cell_type": "code",
   "execution_count": 400,
   "metadata": {
    "collapsed": false
   },
   "outputs": [
    {
     "name": "stdout",
     "output_type": "stream",
     "text": [
      "[[Model]]\n",
      "    Model(lorentzian)\n",
      "[[Fit Statistics]]\n",
      "    # function evals   = 131\n",
      "    # data points      = 423\n",
      "    # variables        = 3\n",
      "    chi-square         = 4348.240\n",
      "    reduced chi-square = 10.353\n",
      "[[Variables]]\n",
      "    sigma:       0.00461866 +/- 3.81e-05 (0.83%) (init= 0.001)\n",
      "    fwhm:        0.00923732 +/- 7.62e-05 (0.83%)  == '2.0000000*sigma'\n",
      "    center:      0.03531364 +/- 3.07e-05 (0.09%) (init= 0.0081)\n",
      "    amplitude:  -0.00012845 +/- 8.21e-07 (0.64%) (init=-0.001)\n",
      "\n"
     ]
    }
   ],
   "source": [
    "print(out_kalib_hf_4_4_peak_2.fit_report(show_correl=False))"
   ]
  },
  {
   "cell_type": "code",
   "execution_count": 401,
   "metadata": {
    "collapsed": true
   },
   "outputs": [],
   "source": [
    "out_kalib_hf_4_4_peak_2.plot()\n",
    "plt.show()"
   ]
  },
  {
   "cell_type": "code",
   "execution_count": 404,
   "metadata": {
    "collapsed": true
   },
   "outputs": [],
   "source": [
    "plt.plot(peak_4_4_kalib_2[0],kalib_hf_4_4_peak_2_new)\n",
    "plt.plot(np.arange(0,0.052,0.00001),out_kalib_hf_4_4_peak_2.eval(x=np.arange(0,0.052,0.00001)))\n",
    "plt.show()"
   ]
  },
  {
   "cell_type": "markdown",
   "metadata": {
    "collapsed": true
   },
   "source": [
    "#### Peak 3"
   ]
  },
  {
   "cell_type": "code",
   "execution_count": 405,
   "metadata": {
    "collapsed": true
   },
   "outputs": [],
   "source": [
    "kalib_hf_4_4_peak_3_new = peak_4_4_kalib_3[1]-untergrund_hf_4_4"
   ]
  },
  {
   "cell_type": "code",
   "execution_count": 406,
   "metadata": {
    "collapsed": true
   },
   "outputs": [],
   "source": [
    "plt.plot(peak_4_4_kalib_3[0],kalib_hf_4_4_peak_3_new, ' .')\n",
    "plt.show()"
   ]
  },
  {
   "cell_type": "code",
   "execution_count": 407,
   "metadata": {
    "collapsed": true
   },
   "outputs": [],
   "source": [
    "mask_kalib_hf_4_4_peak_3 = np.where(peak_4_4_kalib_3[0][np.where(peak_4_4_kalib_3[0] < 0.0469)[0]] > 0.04)[0]"
   ]
  },
  {
   "cell_type": "code",
   "execution_count": 411,
   "metadata": {
    "collapsed": true
   },
   "outputs": [],
   "source": [
    "mod_kalib_hf_4_4_peak_3 = LorentzianModel()\n",
    "mod_kalib_const_hf_4_4_peak_3 = ConstantModel()"
   ]
  },
  {
   "cell_type": "code",
   "execution_count": 412,
   "metadata": {
    "collapsed": false
   },
   "outputs": [
    {
     "ename": "NameError",
     "evalue": "name 'mask_kalib_hf_4_4_peak_3' is not defined",
     "output_type": "error",
     "traceback": [
      "\u001b[1;31m---------------------------------------------------------------------------\u001b[0m",
      "\u001b[1;31mNameError\u001b[0m                                 Traceback (most recent call last)",
      "\u001b[1;32m<ipython-input-412-06c0c1f59584>\u001b[0m in \u001b[0;36m<module>\u001b[1;34m()\u001b[0m\n\u001b[1;32m----> 1\u001b[1;33m pars_kalib_hf_4_4_peak_3 = mod_kalib_hf_4_4_peak_3.guess(kalib_hf_4_4_peak_3_new[mask_kalib_hf_4_4_peak_3],\n\u001b[0m\u001b[0;32m      2\u001b[0m                                                          x=peak_4_4_kalib_3[0][mask_kalib_hf_4_4_peak_3])\n\u001b[0;32m      3\u001b[0m \u001b[0mpars_kalib_hf_4_4_peak_3\u001b[0m\u001b[1;33m[\u001b[0m\u001b[1;34m\"sigma\"\u001b[0m\u001b[1;33m]\u001b[0m\u001b[1;33m.\u001b[0m\u001b[0mset\u001b[0m\u001b[1;33m(\u001b[0m\u001b[1;36m0.001\u001b[0m\u001b[1;33m)\u001b[0m\u001b[1;33m\u001b[0m\u001b[0m\n\u001b[0;32m      4\u001b[0m \u001b[0mpars_kalib_hf_4_4_peak_3\u001b[0m\u001b[1;33m[\u001b[0m\u001b[1;34m\"center\"\u001b[0m\u001b[1;33m]\u001b[0m\u001b[1;33m.\u001b[0m\u001b[0mset\u001b[0m\u001b[1;33m(\u001b[0m\u001b[1;36m0.0081\u001b[0m\u001b[1;33m)\u001b[0m\u001b[1;33m\u001b[0m\u001b[0m\n\u001b[0;32m      5\u001b[0m \u001b[0mpars_kalib_hf_4_4_peak_3\u001b[0m\u001b[1;33m[\u001b[0m\u001b[1;34m\"amplitude\"\u001b[0m\u001b[1;33m]\u001b[0m\u001b[1;33m.\u001b[0m\u001b[0mset\u001b[0m\u001b[1;33m(\u001b[0m\u001b[1;33m-\u001b[0m\u001b[1;36m0.001\u001b[0m\u001b[1;33m)\u001b[0m\u001b[1;33m\u001b[0m\u001b[0m\n",
      "\u001b[1;31mNameError\u001b[0m: name 'mask_kalib_hf_4_4_peak_3' is not defined"
     ]
    }
   ],
   "source": [
    "pars_kalib_hf_4_4_peak_3 = mod_kalib_hf_4_4_peak_3.guess(kalib_hf_4_4_peak_3_new[mask_kalib_hf_4_4_peak_3],\n",
    "                                                         x=peak_4_4_kalib_3[0][mask_kalib_hf_4_4_peak_3])\n",
    "pars_kalib_hf_4_4_peak_3[\"sigma\"].set(0.001)\n",
    "pars_kalib_hf_4_4_peak_3[\"center\"].set(0.0081)\n",
    "pars_kalib_hf_4_4_peak_3[\"amplitude\"].set(-0.001)"
   ]
  },
  {
   "cell_type": "code",
   "execution_count": null,
   "metadata": {
    "collapsed": true
   },
   "outputs": [],
   "source": [
    "print(out_kalib_hf_4_4_peak_2.fit_report(show_correl=False))"
   ]
  },
  {
   "cell_type": "code",
   "execution_count": null,
   "metadata": {
    "collapsed": true
   },
   "outputs": [],
   "source": [
    "out_kalib_hf_4_4_peak_2.plot()\n",
    "plt.show()"
   ]
  },
  {
   "cell_type": "code",
   "execution_count": null,
   "metadata": {
    "collapsed": true
   },
   "outputs": [],
   "source": [
    "plt.plot(peak_4_4_kalib_2[0],kalib_hf_4_4_peak_2_new)\n",
    "plt.plot(np.arange(0,0.052,0.00001),out_kalib_hf_4_4_peak_2.eval(x=np.arange(0,0.052,0.00001)))\n",
    "plt.show()"
   ]
  },
  {
   "cell_type": "code",
   "execution_count": null,
   "metadata": {
    "collapsed": true
   },
   "outputs": [],
   "source": []
  },
  {
   "cell_type": "code",
   "execution_count": null,
   "metadata": {
    "collapsed": true
   },
   "outputs": [],
   "source": []
  },
  {
   "cell_type": "code",
   "execution_count": null,
   "metadata": {
    "collapsed": true
   },
   "outputs": [],
   "source": []
  },
  {
   "cell_type": "code",
   "execution_count": null,
   "metadata": {
    "collapsed": true
   },
   "outputs": [],
   "source": []
  },
  {
   "cell_type": "code",
   "execution_count": null,
   "metadata": {
    "collapsed": true
   },
   "outputs": [],
   "source": []
  },
  {
   "cell_type": "markdown",
   "metadata": {},
   "source": [
    "# Druck"
   ]
  },
  {
   "cell_type": "code",
   "execution_count": 21,
   "metadata": {
    "collapsed": false
   },
   "outputs": [],
   "source": [
    "kalib_druck_1 = np.genfromtxt(\"Frederik_Henrik/Messung_3/3_3_23_888_kalib_1.tab\", skip_header=1).T\n",
    "kalib_druck_2 = np.genfromtxt(\"Frederik_Henrik/Messung_3/3_3_23_880_kalib_2.tab\", skip_header=1).T\n",
    "kalib_druck_3 = np.genfromtxt(\"Frederik_Henrik/Messung_3/3_3_23_870_kalib_4.tab\", skip_header=1).T"
   ]
  },
  {
   "cell_type": "markdown",
   "metadata": {},
   "source": [
    "## Kalibration"
   ]
  },
  {
   "cell_type": "markdown",
   "metadata": {},
   "source": [
    "### Peak 1"
   ]
  },
  {
   "cell_type": "code",
   "execution_count": 22,
   "metadata": {
    "collapsed": false
   },
   "outputs": [],
   "source": [
    "plt.plot(kalib_druck_1[0],kalib_druck_1[1])\n",
    "plt.show()"
   ]
  },
  {
   "cell_type": "code",
   "execution_count": 23,
   "metadata": {
    "collapsed": false
   },
   "outputs": [],
   "source": [
    "mask_kalib_druck_1 = np.where(kalib_druck_1[0][np.where(kalib_druck_1[0] < 0.046)[0]] > 0.037)[0]"
   ]
  },
  {
   "cell_type": "code",
   "execution_count": 24,
   "metadata": {
    "collapsed": true
   },
   "outputs": [],
   "source": [
    "mod_druck_kalib_1 = LorentzianModel()"
   ]
  },
  {
   "cell_type": "code",
   "execution_count": 25,
   "metadata": {
    "collapsed": false
   },
   "outputs": [],
   "source": [
    "pars_druck_kalib_1 = mod_druck_kalib_1.guess(kalib_druck_1[1][mask_kalib_druck_1],x=kalib_druck_1[0][mask_kalib_druck_1])"
   ]
  },
  {
   "cell_type": "code",
   "execution_count": 26,
   "metadata": {
    "collapsed": true
   },
   "outputs": [],
   "source": [
    "out_druck_kalib_1 = mod_druck_kalib_1.fit(kalib_druck_1[1][mask_kalib_druck_1],\n",
    "                                          params=pars_druck_kalib_1,\n",
    "                                          x=kalib_druck_1[0][mask_kalib_druck_1],\n",
    "                                          weights=1/(kalib_druck_1[1][mask_kalib_druck_1]*0.02))"
   ]
  },
  {
   "cell_type": "code",
   "execution_count": 27,
   "metadata": {
    "collapsed": false
   },
   "outputs": [
    {
     "name": "stdout",
     "output_type": "stream",
     "text": [
      "[[Model]]\n",
      "    Model(lorentzian)\n",
      "[[Fit Statistics]]\n",
      "    # function evals   = 40\n",
      "    # data points      = 359\n",
      "    # variables        = 3\n",
      "    chi-square         = 342.963\n",
      "    reduced chi-square = 0.963\n",
      "[[Variables]]\n",
      "    sigma:       0.00461452 +/- 1.52e-05 (0.33%) (init= 0.004475)\n",
      "    fwhm:        0.00922904 +/- 3.04e-05 (0.33%)  == '2.0000000*sigma'\n",
      "    center:      0.04101482 +/- 6.72e-06 (0.02%) (init= 0.04239009)\n",
      "    amplitude:  -0.00011842 +/- 2.63e-07 (0.22%) (init= 5.012e-05)\n",
      "\n"
     ]
    }
   ],
   "source": [
    "print(out_druck_kalib_1.fit_report(show_correl=False))"
   ]
  },
  {
   "cell_type": "code",
   "execution_count": 28,
   "metadata": {
    "collapsed": false
   },
   "outputs": [],
   "source": [
    "plt.errorbar(kalib_druck_1[0],kalib_druck_1[1],yerr=kalib_druck_1[1]*0.05)\n",
    "plt.plot(np.arange(0,0.07,0.0001),out_druck_kalib_1.eval(x=np.arange(0,0.07,0.0001)))\n",
    "plt.show()"
   ]
  },
  {
   "cell_type": "markdown",
   "metadata": {},
   "source": [
    "### Peak 2"
   ]
  },
  {
   "cell_type": "code",
   "execution_count": 29,
   "metadata": {
    "collapsed": true
   },
   "outputs": [],
   "source": [
    "plt.plot(kalib_druck_2[0],kalib_druck_2[1])\n",
    "plt.show()"
   ]
  },
  {
   "cell_type": "code",
   "execution_count": 30,
   "metadata": {
    "collapsed": true
   },
   "outputs": [],
   "source": [
    "mask_kalib_druck_2 = np.where(kalib_druck_2[0][np.where(kalib_druck_2[0] < 0.0309)[0]] > 0.024)[0]"
   ]
  },
  {
   "cell_type": "code",
   "execution_count": 31,
   "metadata": {
    "collapsed": true
   },
   "outputs": [],
   "source": [
    "mod_druck_kalib_2 = LorentzianModel()"
   ]
  },
  {
   "cell_type": "code",
   "execution_count": 32,
   "metadata": {
    "collapsed": false
   },
   "outputs": [],
   "source": [
    "pars_druck_kalib_2 = mod_druck_kalib_2.guess(kalib_druck_2[1][mask_kalib_druck_2],x=kalib_druck_2[0][mask_kalib_druck_2])\n",
    "pars_druck_kalib_2[\"center\"].set(0.0269, vary=False)"
   ]
  },
  {
   "cell_type": "code",
   "execution_count": 33,
   "metadata": {
    "collapsed": true
   },
   "outputs": [],
   "source": [
    "out_druck_kalib_2 = mod_druck_kalib_2.fit(kalib_druck_2[1][mask_kalib_druck_2],\n",
    "                                          params=pars_druck_kalib_2,\n",
    "                                          x=kalib_druck_2[0][mask_kalib_druck_2],\n",
    "                                          weights=1/(kalib_druck_2[1][mask_kalib_druck_2]*0.02))"
   ]
  },
  {
   "cell_type": "code",
   "execution_count": 34,
   "metadata": {
    "collapsed": false
   },
   "outputs": [
    {
     "name": "stdout",
     "output_type": "stream",
     "text": [
      "[[Model]]\n",
      "    Model(lorentzian)\n",
      "[[Fit Statistics]]\n",
      "    # function evals   = 21\n",
      "    # data points      = 275\n",
      "    # variables        = 2\n",
      "    chi-square         = 307.737\n",
      "    reduced chi-square = 1.127\n",
      "[[Variables]]\n",
      "    sigma:       0.00403523 +/- 1.76e-05 (0.44%) (init= 0.003425)\n",
      "    fwhm:        0.00807046 +/- 3.52e-05 (0.44%)  == '2.0000000*sigma'\n",
      "    center:      0.0269 (fixed)\n",
      "    amplitude:  -0.00010306 +/- 3.18e-07 (0.31%) (init= 3.562e-05)\n",
      "[[Correlations]] (unreported correlations are <  0.100)\n",
      "    C(sigma, amplitude)          = -0.910 \n",
      "\n"
     ]
    }
   ],
   "source": [
    "print(out_druck_kalib_2.fit_report())"
   ]
  },
  {
   "cell_type": "code",
   "execution_count": 35,
   "metadata": {
    "collapsed": true
   },
   "outputs": [],
   "source": [
    "plt.errorbar(kalib_druck_2[0],kalib_druck_2[1],yerr=kalib_druck_2[1]*0.05)\n",
    "plt.plot(np.arange(0,0.05,0.0001),out_druck_kalib_2.eval(x=np.arange(0,0.05,0.0001)))\n",
    "plt.show()"
   ]
  },
  {
   "cell_type": "markdown",
   "metadata": {},
   "source": [
    "### Peak 3"
   ]
  },
  {
   "cell_type": "code",
   "execution_count": 36,
   "metadata": {
    "collapsed": true
   },
   "outputs": [],
   "source": [
    "plt.plot(kalib_druck_3[0],kalib_druck_3[1])\n",
    "plt.show()"
   ]
  },
  {
   "cell_type": "code",
   "execution_count": 37,
   "metadata": {
    "collapsed": true
   },
   "outputs": [],
   "source": [
    "mask_kalib_druck_3 = np.where(kalib_druck_3[0][np.where(kalib_druck_3[0] < 0.014)[0]] > 0.008)[0]"
   ]
  },
  {
   "cell_type": "code",
   "execution_count": 38,
   "metadata": {
    "collapsed": true
   },
   "outputs": [],
   "source": [
    "mod_druck_kalib_3 = LorentzianModel()"
   ]
  },
  {
   "cell_type": "code",
   "execution_count": 39,
   "metadata": {
    "collapsed": true
   },
   "outputs": [],
   "source": [
    "pars_druck_kalib_3 = mod_druck_kalib_3.guess(kalib_druck_3[1][mask_kalib_druck_3],x=kalib_druck_3[0][mask_kalib_druck_3])\n",
    "#pars_druck_kalib_3[\"amplitude\"].set(-0.00015)\n",
    "pars_druck_kalib_3[\"center\"].set(0.01125)"
   ]
  },
  {
   "cell_type": "code",
   "execution_count": 40,
   "metadata": {
    "collapsed": true
   },
   "outputs": [],
   "source": [
    "out_druck_kalib_3 = mod_druck_kalib_3.fit(kalib_druck_3[1][mask_kalib_druck_3],\n",
    "                                          params=pars_druck_kalib_3,\n",
    "                                          x=kalib_druck_3[0][mask_kalib_druck_3],\n",
    "                                          weights=1/(kalib_druck_3[1][mask_kalib_druck_3]*0.02))"
   ]
  },
  {
   "cell_type": "code",
   "execution_count": 41,
   "metadata": {
    "collapsed": false
   },
   "outputs": [
    {
     "name": "stdout",
     "output_type": "stream",
     "text": [
      "[[Model]]\n",
      "    Model(lorentzian)\n",
      "[[Fit Statistics]]\n",
      "    # function evals   = 27\n",
      "    # data points      = 239\n",
      "    # variables        = 3\n",
      "    chi-square         = 266.165\n",
      "    reduced chi-square = 1.128\n",
      "[[Variables]]\n",
      "    sigma:       0.00298962 +/- 1.26e-05 (0.42%) (init= 0.002975)\n",
      "    fwhm:        0.00597924 +/- 2.53e-05 (0.42%)  == '2.0000000*sigma'\n",
      "    center:      0.01103083 +/- 5.45e-06 (0.05%) (init= 0.01125)\n",
      "    amplitude:  -6.2858e-05 +/- 1.75e-07 (0.28%) (init= 2.5585e-05)\n",
      "[[Correlations]] (unreported correlations are <  0.100)\n",
      "    C(sigma, amplitude)          = -0.869 \n",
      "\n"
     ]
    }
   ],
   "source": [
    "print(out_druck_kalib_3.fit_report())"
   ]
  },
  {
   "cell_type": "code",
   "execution_count": 42,
   "metadata": {
    "collapsed": true
   },
   "outputs": [],
   "source": [
    "plt.errorbar(kalib_druck_3[0],kalib_druck_3[1],yerr=kalib_druck_3[1]*0.02)\n",
    "plt.plot(np.arange(0,0.05,0.0001),out_druck_kalib_3.eval(x=np.arange(0,0.05,0.0001)))\n",
    "plt.show()"
   ]
  },
  {
   "cell_type": "markdown",
   "metadata": {},
   "source": [
    "### Linerare Fit"
   ]
  },
  {
   "cell_type": "code",
   "execution_count": 43,
   "metadata": {
    "collapsed": true
   },
   "outputs": [],
   "source": [
    "kalib_druck_frequency = [23.888,23.880,23.870]\n",
    "kalib_druck_time = [0.04101482,0.0269,0.01103083]\n",
    "kalib_druck_frequency_err = [0.000372,0.000424,0.000285]"
   ]
  },
  {
   "cell_type": "code",
   "execution_count": 44,
   "metadata": {
    "collapsed": true
   },
   "outputs": [],
   "source": [
    "mod_kalib_druck = LinearModel()"
   ]
  },
  {
   "cell_type": "code",
   "execution_count": 45,
   "metadata": {
    "collapsed": false
   },
   "outputs": [],
   "source": [
    "pars_kalib_druck = mod_kalib_druck.guess(kalib_druck_frequency, x=kalib_druck_time)"
   ]
  },
  {
   "cell_type": "code",
   "execution_count": 46,
   "metadata": {
    "collapsed": false
   },
   "outputs": [],
   "source": [
    "out_kalib_druck = mod_kalib_druck.fit(np.array(kalib_druck_frequency),\n",
    "                                          params=pars_kalib_druck,\n",
    "                                          x=np.array(kalib_druck_time),\n",
    "                                          weights=1/np.array(kalib_druck_frequency_err))"
   ]
  },
  {
   "cell_type": "code",
   "execution_count": 47,
   "metadata": {
    "collapsed": false
   },
   "outputs": [
    {
     "name": "stdout",
     "output_type": "stream",
     "text": [
      "[[Model]]\n",
      "    Model(linear)\n",
      "[[Fit Statistics]]\n",
      "    # function evals   = 9\n",
      "    # data points      = 3\n",
      "    # variables        = 2\n",
      "    chi-square         = 0.948\n",
      "    reduced chi-square = 0.948\n",
      "[[Variables]]\n",
      "    slope:       0.60265693 +/- 0.015032 (2.49%) (init= 0.6009355)\n",
      "    intercept:   23.8634287 +/- 0.000399 (0.00%) (init= 23.86352)\n",
      "[[Correlations]] (unreported correlations are <  0.100)\n",
      "    C(slope, intercept)          = -0.873 \n",
      "\n"
     ]
    }
   ],
   "source": [
    "print(out_kalib_druck.fit_report())"
   ]
  },
  {
   "cell_type": "code",
   "execution_count": 48,
   "metadata": {
    "collapsed": false
   },
   "outputs": [],
   "source": [
    "plt.errorbar(kalib_druck_time,kalib_druck_frequency,yerr=np.array(kalib_druck_frequency_err), fmt=' .')\n",
    "plt.plot(np.arange(0,0.05,0.0001),out_kalib_druck.eval(x=np.arange(0,0.05,0.0001)))\n",
    "plt.show()"
   ]
  },
  {
   "cell_type": "markdown",
   "metadata": {},
   "source": [
    "## Druck abhängigkeit"
   ]
  },
  {
   "cell_type": "code",
   "execution_count": 49,
   "metadata": {
    "collapsed": false
   },
   "outputs": [],
   "source": [
    "druck_2 = np.genfromtxt(\"Frederik_Henrik/Messung_3/3_3_breite_2.tab\", skip_header=1).T\n",
    "druck_3 = np.genfromtxt(\"Frederik_Henrik/Messung_3/3_3_breite_3.tab\", skip_header=1).T\n",
    "druck_4 = np.genfromtxt(\"Frederik_Henrik/Messung_3/3_3_breite_4.tab\", skip_header=1).T\n",
    "druck_5 = np.genfromtxt(\"Frederik_Henrik/Messung_3/3_3_breite_5.tab\", skip_header=1).T\n",
    "druck_6 = np.genfromtxt(\"Frederik_Henrik/Messung_3/3_3_breite_6.tab\", skip_header=1).T\n",
    "druck_7 = np.genfromtxt(\"Frederik_Henrik/Messung_3/3_3_breite_7.tab\", skip_header=1).T\n",
    "druck_8 = np.genfromtxt(\"Frederik_Henrik/Messung_3/3_3_breite_8.tab\", skip_header=1).T\n",
    "druck_9 = np.genfromtxt(\"Frederik_Henrik/Messung_3/3_3_breite_9.tab\", skip_header=1).T\n",
    "druck_10 = np.genfromtxt(\"Frederik_Henrik/Messung_3/3_3_breite_10.tab\", skip_header=1).T\n",
    "druck_11 = np.genfromtxt(\"Frederik_Henrik/Messung_3/3_3_breite_11.tab\", skip_header=1).T\n",
    "druck_12 = np.genfromtxt(\"Frederik_Henrik/Messung_3/3_3_breite_12.tab\", skip_header=1).T\n",
    "druck_13 = np.genfromtxt(\"Frederik_Henrik/Messung_3/3_3_breite_13.tab\", skip_header=1).T"
   ]
  },
  {
   "cell_type": "code",
   "execution_count": 50,
   "metadata": {
    "collapsed": false
   },
   "outputs": [],
   "source": [
    "plt.plot(druck_2[0],druck_2[1], label=\"2\")\n",
    "plt.plot(druck_3[0],druck_3[1], label=\"3\")\n",
    "plt.plot(druck_4[0],druck_4[1], label=\"4\")\n",
    "plt.plot(druck_5[0],druck_5[1], label=\"5\")\n",
    "plt.plot(druck_7[0],druck_7[1], label=\"6\")\n",
    "plt.plot(druck_7[0],druck_7[1], label=\"7\")\n",
    "plt.plot(druck_8[0],druck_8[1], label=\"8\")\n",
    "plt.plot(druck_9[0],druck_9[1], label=\"9\")\n",
    "plt.plot(druck_10[0],druck_10[1], label=\"10\")\n",
    "plt.plot(druck_11[0],druck_11[1], label=\"11\")\n",
    "plt.plot(druck_12[0],druck_12[1], label=\"12\")\n",
    "plt.plot(druck_13[0],druck_13[1], label=\"13\")\n",
    "plt.legend(loc=\"best\")\n",
    "plt.show()"
   ]
  },
  {
   "cell_type": "markdown",
   "metadata": {},
   "source": [
    "### Druck 2"
   ]
  },
  {
   "cell_type": "markdown",
   "metadata": {},
   "source": [
    "#### Untergrund"
   ]
  },
  {
   "cell_type": "code",
   "execution_count": 51,
   "metadata": {
    "collapsed": true
   },
   "outputs": [],
   "source": [
    "plt.plot(druck_2[0],druck_2[1])\n",
    "plt.show()"
   ]
  },
  {
   "cell_type": "code",
   "execution_count": 52,
   "metadata": {
    "collapsed": false
   },
   "outputs": [],
   "source": [
    "submask_untergrund_druck_2_1 = np.where(druck_2[0] > 0.026, True, False)\n",
    "submask_untergrund_druck_2_2 = np.where(druck_2[0] < 0.017, True,False)\n",
    "mask_untergrund_druck_2 = np.where(np.logical_or(submask_untergrund_druck_2_1,\n",
    "                                                 submask_untergrund_druck_2_2))"
   ]
  },
  {
   "cell_type": "code",
   "execution_count": 53,
   "metadata": {
    "collapsed": false
   },
   "outputs": [],
   "source": [
    "mod_underground_druck_2 = PolynomialModel(6)"
   ]
  },
  {
   "cell_type": "code",
   "execution_count": 54,
   "metadata": {
    "collapsed": true
   },
   "outputs": [],
   "source": [
    "pars_underground_druck_2 = mod_underground_druck_2.guess(druck_2[1][mask_untergrund_druck_2],\n",
    "                                                         x=druck_2[0][mask_untergrund_druck_2])"
   ]
  },
  {
   "cell_type": "code",
   "execution_count": 55,
   "metadata": {
    "collapsed": false
   },
   "outputs": [],
   "source": [
    "out_underground_druck_2 = mod_underground_druck_2.fit(druck_2[1][mask_untergrund_druck_2],\n",
    "                                                      params=pars_underground_druck_2,\n",
    "                                                      x=druck_2[0][mask_untergrund_druck_2],\n",
    "                                                      weights=1/0.0001)"
   ]
  },
  {
   "cell_type": "code",
   "execution_count": 56,
   "metadata": {
    "collapsed": false
   },
   "outputs": [
    {
     "name": "stdout",
     "output_type": "stream",
     "text": [
      "[[Model]]\n",
      "    Model(polynomial)\n",
      "[[Fit Statistics]]\n",
      "    # function evals   = 10\n",
      "    # data points      = 1685\n",
      "    # variables        = 7\n",
      "    chi-square         = 1985.587\n",
      "    reduced chi-square = 1.183\n",
      "[[Variables]]\n",
      "    c0:   0.00127978 +/- 1.69e-05 (1.32%) (init= 0.001279786)\n",
      "    c1:   0.59335626 +/- 0.009333 (1.57%) (init= 0.5933563)\n",
      "    c2:  -54.9230219 +/- 1.606777 (2.93%) (init=-54.92302)\n",
      "    c3:   1519.22208 +/- 119.4330 (7.86%) (init= 1519.222)\n",
      "    c4:  -5419.51629 +/- 4.31e+03 (79.51%) (init=-5419.516)\n",
      "    c5:  -3.2252e+05 +/- 7.41e+04 (22.98%) (init=-322521.7)\n",
      "    c6:   3.3544e+06 +/- 4.86e+05 (14.49%) (init= 3354381)\n",
      "[[Correlations]] (unreported correlations are <  0.100)\n",
      "    C(c5, c6)                    = -0.996 \n",
      "    C(c4, c5)                    = -0.994 \n",
      "    C(c3, c4)                    = -0.989 \n",
      "    C(c2, c3)                    = -0.981 \n",
      "    C(c4, c6)                    =  0.980 \n",
      "    C(c3, c5)                    =  0.967 \n",
      "    C(c1, c2)                    = -0.965 \n",
      "    C(c2, c4)                    =  0.943 \n",
      "    C(c3, c6)                    = -0.941 \n",
      "    C(c1, c3)                    =  0.902 \n",
      "    C(c2, c5)                    = -0.902 \n",
      "    C(c0, c1)                    = -0.865 \n",
      "    C(c2, c6)                    =  0.863 \n",
      "    C(c1, c4)                    = -0.836 \n",
      "    C(c1, c5)                    =  0.778 \n",
      "    C(c0, c2)                    =  0.741 \n",
      "    C(c1, c6)                    = -0.730 \n",
      "    C(c0, c3)                    = -0.646 \n",
      "    C(c0, c4)                    =  0.572 \n",
      "    C(c0, c5)                    = -0.515 \n",
      "    C(c0, c6)                    =  0.471 \n",
      "\n"
     ]
    }
   ],
   "source": [
    "print(out_underground_druck_2.fit_report())"
   ]
  },
  {
   "cell_type": "code",
   "execution_count": 57,
   "metadata": {
    "collapsed": false
   },
   "outputs": [],
   "source": [
    "out_underground_druck_2.plot()\n",
    "plt.show()"
   ]
  },
  {
   "cell_type": "code",
   "execution_count": 58,
   "metadata": {
    "collapsed": true
   },
   "outputs": [],
   "source": [
    "plt.plot(druck_2[0],druck_2[1])\n",
    "plt.plot(np.arange(0,0.04,0.001),out_underground_druck_2.eval(x=np.arange(0,0.04,0.001)))\n",
    "plt.show()"
   ]
  },
  {
   "cell_type": "code",
   "execution_count": 59,
   "metadata": {
    "collapsed": true
   },
   "outputs": [],
   "source": [
    "plt.plot(druck_2[0],druck_2[1]-out_underground_druck_2.eval(x=druck_2[0]))\n",
    "plt.show()"
   ]
  },
  {
   "cell_type": "code",
   "execution_count": 60,
   "metadata": {
    "collapsed": true
   },
   "outputs": [],
   "source": [
    "druck_untergrund = out_underground_druck_2.eval(x=druck_2[0])"
   ]
  },
  {
   "cell_type": "code",
   "execution_count": 61,
   "metadata": {
    "collapsed": true
   },
   "outputs": [],
   "source": [
    "druck_2_new = druck_2[1]-out_underground_druck_2.eval(x=druck_2[0])"
   ]
  },
  {
   "cell_type": "markdown",
   "metadata": {},
   "source": [
    "#### Fit"
   ]
  },
  {
   "cell_type": "code",
   "execution_count": 62,
   "metadata": {
    "collapsed": true
   },
   "outputs": [],
   "source": [
    "mask_druck_2 = np.where(druck_2[0][np.where(druck_2[0] < 0.0222)[0]] > 0.0200)[0]"
   ]
  },
  {
   "cell_type": "code",
   "execution_count": 63,
   "metadata": {
    "collapsed": true
   },
   "outputs": [],
   "source": [
    "mod_druck_2 = LorentzianModel()"
   ]
  },
  {
   "cell_type": "code",
   "execution_count": 64,
   "metadata": {
    "collapsed": false
   },
   "outputs": [],
   "source": [
    "pars_druck_2 = mod_druck_2.guess(druck_2_new[mask_druck_2],x=druck_2[0][mask_druck_2])\n",
    "pars_druck_2[\"amplitude\"].set(-0.0001)\n",
    "pars_druck_2[\"center\"].set(0.0211)\n",
    "pars_druck_2[\"sigma\"].set(0.01)"
   ]
  },
  {
   "cell_type": "code",
   "execution_count": 65,
   "metadata": {
    "collapsed": true
   },
   "outputs": [],
   "source": [
    "out_druck_2 = mod_druck_2.fit(druck_2_new[mask_druck_2], params=pars_druck_2, x=druck_2[0][mask_druck_2], weights=1/(druck_2_new[mask_druck_2]*0.03))"
   ]
  },
  {
   "cell_type": "code",
   "execution_count": 66,
   "metadata": {
    "collapsed": false
   },
   "outputs": [
    {
     "name": "stdout",
     "output_type": "stream",
     "text": [
      "[[Model]]\n",
      "    Model(lorentzian)\n",
      "[[Fit Statistics]]\n",
      "    # function evals   = 73\n",
      "    # data points      = 87\n",
      "    # variables        = 3\n",
      "    chi-square         = 88.358\n",
      "    reduced chi-square = 1.052\n",
      "[[Variables]]\n",
      "    sigma:       0.00069943 +/- 5.00e-06 (0.71%) (init= 0.01)\n",
      "    fwhm:        0.00139886 +/- 1.00e-05 (0.71%)  == '2.0000000*sigma'\n",
      "    center:      0.02117319 +/- 2.77e-06 (0.01%) (init= 0.0211)\n",
      "    amplitude:  -7.0158e-06 +/- 2.73e-08 (0.39%) (init=-0.0001)\n",
      "[[Correlations]] (unreported correlations are <  0.100)\n",
      "    C(sigma, amplitude)          = -0.527 \n",
      "    C(center, amplitude)         = -0.110 \n",
      "\n"
     ]
    }
   ],
   "source": [
    "print(out_druck_2.fit_report())"
   ]
  },
  {
   "cell_type": "code",
   "execution_count": 67,
   "metadata": {
    "collapsed": true
   },
   "outputs": [],
   "source": [
    "out_druck_2.plot()\n",
    "plt.show()"
   ]
  },
  {
   "cell_type": "code",
   "execution_count": 68,
   "metadata": {
    "collapsed": false
   },
   "outputs": [],
   "source": [
    "plt.plot(druck_2[0],druck_2_new)\n",
    "plt.plot(np.arange(0,0.04,0.00001),out_druck_2.eval(x=np.arange(0,0.04,0.00001)))\n",
    "plt.show()"
   ]
  },
  {
   "cell_type": "markdown",
   "metadata": {},
   "source": [
    "### Druck 3"
   ]
  },
  {
   "cell_type": "markdown",
   "metadata": {},
   "source": [
    "#### Untergrund"
   ]
  },
  {
   "cell_type": "code",
   "execution_count": 69,
   "metadata": {
    "collapsed": true
   },
   "outputs": [],
   "source": [
    "plt.plot(druck_3[0],druck_3[1]-out_underground_druck_2.eval(x=druck_2[0]))\n",
    "plt.show()"
   ]
  },
  {
   "cell_type": "code",
   "execution_count": 70,
   "metadata": {
    "collapsed": true
   },
   "outputs": [],
   "source": [
    "druck_3_new = druck_3[1]-out_underground_druck_2.eval(x=druck_2[0])"
   ]
  },
  {
   "cell_type": "markdown",
   "metadata": {},
   "source": [
    "#### Fit"
   ]
  },
  {
   "cell_type": "code",
   "execution_count": 71,
   "metadata": {
    "collapsed": true
   },
   "outputs": [],
   "source": [
    "mask_druck_3 = np.where(druck_3[0][np.where(druck_3[0] < 0.0225)[0]] > 0.01975)[0]"
   ]
  },
  {
   "cell_type": "code",
   "execution_count": 72,
   "metadata": {
    "collapsed": true
   },
   "outputs": [],
   "source": [
    "mod_druck_3 = LorentzianModel()\n",
    "mod_const_druck_3 = ConstantModel()"
   ]
  },
  {
   "cell_type": "code",
   "execution_count": 73,
   "metadata": {
    "collapsed": true
   },
   "outputs": [],
   "source": [
    "pars_druck_3 = mod_druck_3.guess(druck_3_new[mask_druck_3],x=druck_3[0][mask_druck_3])\n",
    "pars_druck_3 += mod_const_druck_3.make_params()\n",
    "pars_druck_3[\"c\"].set(-0.01)\n",
    "pars_druck_3[\"amplitude\"].set(-0.0001)\n",
    "pars_druck_3[\"center\"].set(0.0211)\n",
    "pars_druck_3[\"sigma\"].set(0.0001)"
   ]
  },
  {
   "cell_type": "code",
   "execution_count": 74,
   "metadata": {
    "collapsed": true
   },
   "outputs": [],
   "source": [
    "mod_composit_druck_3 = mod_druck_3 + mod_const_druck_3"
   ]
  },
  {
   "cell_type": "code",
   "execution_count": 75,
   "metadata": {
    "collapsed": true
   },
   "outputs": [],
   "source": [
    "out_druck_3 = mod_composit_druck_3.fit(druck_3_new[mask_druck_3], params=pars_druck_3, x=druck_3[0][mask_druck_3], weights=1/(druck_3_new[mask_druck_3]*0.03))"
   ]
  },
  {
   "cell_type": "code",
   "execution_count": 76,
   "metadata": {
    "collapsed": false
   },
   "outputs": [
    {
     "name": "stdout",
     "output_type": "stream",
     "text": [
      "[[Model]]\n",
      "    (Model(lorentzian) + Model(constant))\n",
      "[[Fit Statistics]]\n",
      "    # function evals   = 48\n",
      "    # data points      = 109\n",
      "    # variables        = 4\n",
      "    chi-square         = 73.782\n",
      "    reduced chi-square = 0.703\n",
      "[[Variables]]\n",
      "    sigma:       0.00068259 +/- 8.61e-06 (1.26%) (init= 0.0001)\n",
      "    fwhm:        0.00136519 +/- 1.72e-05 (1.26%)  == '2.0000000*sigma'\n",
      "    center:      0.02117208 +/- 2.14e-06 (0.01%) (init= 0.0211)\n",
      "    amplitude:  -9.3328e-06 +/- 1.38e-07 (1.48%) (init=-0.0001)\n",
      "    c:          -0.00016069 +/- 2.50e-05 (15.57%) (init=-0.01)\n",
      "[[Correlations]] (unreported correlations are <  0.100)\n",
      "    C(amplitude, c)              = -0.983 \n",
      "    C(sigma, amplitude)          = -0.924 \n",
      "    C(sigma, c)                  =  0.921 \n",
      "\n"
     ]
    }
   ],
   "source": [
    "print(out_druck_3.fit_report())"
   ]
  },
  {
   "cell_type": "code",
   "execution_count": 77,
   "metadata": {
    "collapsed": false
   },
   "outputs": [],
   "source": [
    "out_druck_3.plot()\n",
    "plt.show()"
   ]
  },
  {
   "cell_type": "code",
   "execution_count": 78,
   "metadata": {
    "collapsed": true
   },
   "outputs": [],
   "source": [
    "plt.plot(druck_3[0],druck_3_new)\n",
    "plt.plot(np.arange(0,0.04,0.00001),out_druck_3.eval(x=np.arange(0,0.04,0.00001)))\n",
    "plt.show()"
   ]
  },
  {
   "cell_type": "markdown",
   "metadata": {},
   "source": [
    "### Druck 4"
   ]
  },
  {
   "cell_type": "markdown",
   "metadata": {},
   "source": [
    "#### Untergrund"
   ]
  },
  {
   "cell_type": "code",
   "execution_count": 79,
   "metadata": {
    "collapsed": false
   },
   "outputs": [],
   "source": [
    "plt.plot(druck_4[0],druck_4[1]-out_underground_druck_2.eval(x=druck_4[0]))\n",
    "plt.show()"
   ]
  },
  {
   "cell_type": "code",
   "execution_count": 80,
   "metadata": {
    "collapsed": true
   },
   "outputs": [],
   "source": [
    "druck_4_new = druck_4[1]-out_underground_druck_2.eval(x=druck_4[0])"
   ]
  },
  {
   "cell_type": "markdown",
   "metadata": {},
   "source": [
    "#### Fit"
   ]
  },
  {
   "cell_type": "code",
   "execution_count": 81,
   "metadata": {
    "collapsed": false
   },
   "outputs": [],
   "source": [
    "mask_druck_4 = np.where(druck_4[0][np.where(druck_4[0] < 0.0230)[0]] > 0.01915)[0]"
   ]
  },
  {
   "cell_type": "code",
   "execution_count": 82,
   "metadata": {
    "collapsed": true
   },
   "outputs": [],
   "source": [
    "mod_druck_4 = LorentzianModel()\n",
    "mod_const_druck_4 = ConstantModel()"
   ]
  },
  {
   "cell_type": "code",
   "execution_count": 83,
   "metadata": {
    "collapsed": true
   },
   "outputs": [],
   "source": [
    "pars_druck_4 = mod_druck_4.guess(druck_4_new[mask_druck_4],x=druck_4[0][mask_druck_4])\n",
    "pars_druck_4 += mod_const_druck_4.make_params()\n",
    "pars_druck_4[\"c\"].set(-0.01)\n",
    "pars_druck_4[\"amplitude\"].set(-0.0001)\n",
    "pars_druck_4[\"center\"].set(0.0211)\n",
    "pars_druck_4[\"sigma\"].set(0.01)"
   ]
  },
  {
   "cell_type": "code",
   "execution_count": 84,
   "metadata": {
    "collapsed": true
   },
   "outputs": [],
   "source": [
    "mod_composit_druck_4 = mod_druck_4 + mod_const_druck_4"
   ]
  },
  {
   "cell_type": "code",
   "execution_count": 85,
   "metadata": {
    "collapsed": true
   },
   "outputs": [],
   "source": [
    "out_druck_4 = mod_composit_druck_4.fit(druck_4_new[mask_druck_4], params=pars_druck_4, x=druck_4[0][mask_druck_4], weights=1/(druck_4_new[mask_druck_4]*0.03))"
   ]
  },
  {
   "cell_type": "code",
   "execution_count": 86,
   "metadata": {
    "collapsed": false
   },
   "outputs": [
    {
     "name": "stdout",
     "output_type": "stream",
     "text": [
      "[[Model]]\n",
      "    (Model(lorentzian) + Model(constant))\n",
      "[[Fit Statistics]]\n",
      "    # function evals   = 133\n",
      "    # data points      = 153\n",
      "    # variables        = 4\n",
      "    chi-square         = 143.121\n",
      "    reduced chi-square = 0.961\n",
      "[[Variables]]\n",
      "    sigma:       0.00093206 +/- 1.19e-05 (1.27%) (init= 0.01)\n",
      "    fwhm:        0.00186411 +/- 2.37e-05 (1.27%)  == '2.0000000*sigma'\n",
      "    center:      0.02108456 +/- 3.02e-06 (0.01%) (init= 0.0211)\n",
      "    amplitude:  -2.2007e-05 +/- 3.25e-07 (1.48%) (init=-0.0001)\n",
      "    c:          -0.00042925 +/- 4.26e-05 (9.92%) (init=-0.01)\n",
      "[[Correlations]] (unreported correlations are <  0.100)\n",
      "    C(amplitude, c)              = -0.982 \n",
      "    C(sigma, amplitude)          = -0.922 \n",
      "    C(sigma, c)                  =  0.919 \n",
      "\n"
     ]
    }
   ],
   "source": [
    "print(out_druck_4.fit_report())"
   ]
  },
  {
   "cell_type": "code",
   "execution_count": 87,
   "metadata": {
    "collapsed": false
   },
   "outputs": [],
   "source": [
    "out_druck_4.plot()\n",
    "plt.show()"
   ]
  },
  {
   "cell_type": "code",
   "execution_count": 88,
   "metadata": {
    "collapsed": true
   },
   "outputs": [],
   "source": [
    "plt.plot(druck_4[0],druck_4_new)\n",
    "plt.plot(np.arange(0,0.04,0.00001),out_druck_4.eval(x=np.arange(0,0.04,0.00001)))\n",
    "plt.show()"
   ]
  },
  {
   "cell_type": "markdown",
   "metadata": {},
   "source": [
    "### Druck 5"
   ]
  },
  {
   "cell_type": "markdown",
   "metadata": {},
   "source": [
    "#### Untergrund"
   ]
  },
  {
   "cell_type": "code",
   "execution_count": 89,
   "metadata": {
    "collapsed": true
   },
   "outputs": [],
   "source": [
    "plt.plot(druck_5[0],druck_5[1]-out_underground_druck_2.eval(x=druck_5[0]))\n",
    "plt.show()"
   ]
  },
  {
   "cell_type": "code",
   "execution_count": 90,
   "metadata": {
    "collapsed": true
   },
   "outputs": [],
   "source": [
    "druck_5_new = druck_5[1]-out_underground_druck_2.eval(x=druck_5[0])"
   ]
  },
  {
   "cell_type": "markdown",
   "metadata": {},
   "source": [
    "#### Fit"
   ]
  },
  {
   "cell_type": "code",
   "execution_count": 91,
   "metadata": {
    "collapsed": true
   },
   "outputs": [],
   "source": [
    "mask_druck_5 = np.where(druck_5[0][np.where(druck_5[0] < 0.0248)[0]] > 0.018)[0]"
   ]
  },
  {
   "cell_type": "code",
   "execution_count": 92,
   "metadata": {
    "collapsed": true
   },
   "outputs": [],
   "source": [
    "mod_druck_5 = LorentzianModel()\n",
    "mod_const_druck_5 = ConstantModel()"
   ]
  },
  {
   "cell_type": "code",
   "execution_count": 93,
   "metadata": {
    "collapsed": false
   },
   "outputs": [],
   "source": [
    "pars_druck_5 = mod_druck_5.guess(druck_5_new[mask_druck_5],x=druck_5[0][mask_druck_5])\n",
    "pars_druck_5 += mod_const_druck_5.make_params()\n",
    "pars_druck_5[\"c\"].set(-0.01)\n",
    "pars_druck_5[\"amplitude\"].set(-5.9266e-05)\n",
    "pars_druck_5[\"center\"].set(0.021)\n",
    "pars_druck_5[\"sigma\"].set(0.03)"
   ]
  },
  {
   "cell_type": "code",
   "execution_count": 94,
   "metadata": {
    "collapsed": true
   },
   "outputs": [],
   "source": [
    "mod_composit_druck_5 = mod_druck_5 + mod_const_druck_5"
   ]
  },
  {
   "cell_type": "code",
   "execution_count": 95,
   "metadata": {
    "collapsed": true
   },
   "outputs": [],
   "source": [
    "out_druck_5 = mod_composit_druck_5.fit(druck_5_new[mask_druck_5], params=pars_druck_5, x=druck_5[0][mask_druck_5], weights=1/(druck_5_new[mask_druck_5]*0.03))"
   ]
  },
  {
   "cell_type": "code",
   "execution_count": 96,
   "metadata": {
    "collapsed": false
   },
   "outputs": [
    {
     "name": "stdout",
     "output_type": "stream",
     "text": [
      "[[Model]]\n",
      "    (Model(lorentzian) + Model(constant))\n",
      "[[Fit Statistics]]\n",
      "    # function evals   = 398\n",
      "    # data points      = 271\n",
      "    # variables        = 4\n",
      "    chi-square         = 380.724\n",
      "    reduced chi-square = 1.426\n",
      "[[Variables]]\n",
      "    sigma:       0.00157233 +/- 1.40e-05 (0.89%) (init= 0.03)\n",
      "    fwhm:        0.00314466 +/- 2.79e-05 (0.89%)  == '2.0000000*sigma'\n",
      "    center:      0.02092747 +/- 4.51e-06 (0.02%) (init= 0.021)\n",
      "    amplitude:  -5.5467e-05 +/- 4.98e-07 (0.90%) (init=-5.9266e-05)\n",
      "    c:          -0.00020568 +/- 3.59e-05 (17.43%) (init=-0.01)\n",
      "[[Correlations]] (unreported correlations are <  0.100)\n",
      "    C(amplitude, c)              = -0.966 \n",
      "    C(sigma, c)                  =  0.878 \n",
      "    C(sigma, amplitude)          = -0.868 \n",
      "    C(center, c)                 =  0.221 \n",
      "    C(center, amplitude)         = -0.178 \n",
      "    C(sigma, center)             =  0.108 \n",
      "\n"
     ]
    }
   ],
   "source": [
    "print(out_druck_5.fit_report())"
   ]
  },
  {
   "cell_type": "code",
   "execution_count": 97,
   "metadata": {
    "collapsed": false
   },
   "outputs": [],
   "source": [
    "out_druck_5.plot()\n",
    "plt.legend(loc='best')\n",
    "plt.show()"
   ]
  },
  {
   "cell_type": "code",
   "execution_count": 98,
   "metadata": {
    "collapsed": true
   },
   "outputs": [],
   "source": [
    "plt.plot(druck_5[0],druck_5_new)\n",
    "plt.plot(np.arange(0,0.04,0.00001),out_druck_5.eval(x=np.arange(0,0.04,0.00001)))\n",
    "plt.show()"
   ]
  },
  {
   "cell_type": "markdown",
   "metadata": {},
   "source": [
    "### Druck 6"
   ]
  },
  {
   "cell_type": "markdown",
   "metadata": {},
   "source": [
    "#### Untergrund"
   ]
  },
  {
   "cell_type": "code",
   "execution_count": 99,
   "metadata": {
    "collapsed": false
   },
   "outputs": [],
   "source": [
    "plt.plot(druck_6[0],druck_6[1]-out_underground_druck_2.eval(x=druck_6[0]))\n",
    "plt.show()"
   ]
  },
  {
   "cell_type": "code",
   "execution_count": 100,
   "metadata": {
    "collapsed": true
   },
   "outputs": [],
   "source": [
    "druck_6_new = druck_6[1]-out_underground_druck_2.eval(x=druck_6[0])"
   ]
  },
  {
   "cell_type": "markdown",
   "metadata": {},
   "source": [
    "#### Fit"
   ]
  },
  {
   "cell_type": "code",
   "execution_count": 101,
   "metadata": {
    "collapsed": true
   },
   "outputs": [],
   "source": [
    "mask_druck_6 = np.where(druck_6[0][np.where(druck_6[0] < 0.0255)[0]] > 0.01625)[0]"
   ]
  },
  {
   "cell_type": "code",
   "execution_count": 102,
   "metadata": {
    "collapsed": true
   },
   "outputs": [],
   "source": [
    "mod_druck_6 = LorentzianModel()\n",
    "mod_const_druck_6 = ConstantModel()"
   ]
  },
  {
   "cell_type": "code",
   "execution_count": 103,
   "metadata": {
    "collapsed": false
   },
   "outputs": [],
   "source": [
    "pars_druck_6 = mod_druck_6.guess(druck_6_new[mask_druck_6],x=druck_6[0][mask_druck_6])\n",
    "pars_druck_6 += mod_const_druck_6.make_params()\n",
    "pars_druck_6[\"c\"].set(-0.01)\n",
    "pars_druck_6[\"amplitude\"].set(-5.9266e-05)\n",
    "pars_druck_6[\"center\"].set(0.021)\n",
    "pars_druck_6[\"sigma\"].set(0.0003)"
   ]
  },
  {
   "cell_type": "code",
   "execution_count": 104,
   "metadata": {
    "collapsed": true
   },
   "outputs": [],
   "source": [
    "mod_composit_druck_6 = mod_druck_6 + mod_const_druck_6"
   ]
  },
  {
   "cell_type": "code",
   "execution_count": 105,
   "metadata": {
    "collapsed": true
   },
   "outputs": [],
   "source": [
    "out_druck_6 = mod_composit_druck_6.fit(druck_6_new[mask_druck_6]-0.0008, params=pars_druck_6, x=druck_6[0][mask_druck_6], weights=1/(druck_6_new[mask_druck_6]*0.03))"
   ]
  },
  {
   "cell_type": "code",
   "execution_count": 106,
   "metadata": {
    "collapsed": false
   },
   "outputs": [
    {
     "name": "stdout",
     "output_type": "stream",
     "text": [
      "[[Model]]\n",
      "    (Model(lorentzian) + Model(constant))\n",
      "[[Fit Statistics]]\n",
      "    # function evals   = 43\n",
      "    # data points      = 369\n",
      "    # variables        = 4\n",
      "    chi-square         = 339.329\n",
      "    reduced chi-square = 0.930\n",
      "[[Variables]]\n",
      "    sigma:       0.00280623 +/- 2.50e-05 (0.89%) (init= 0.0003)\n",
      "    fwhm:        0.00561247 +/- 5.00e-05 (0.89%)  == '2.0000000*sigma'\n",
      "    center:      0.02080467 +/- 4.59e-06 (0.02%) (init= 0.021)\n",
      "    amplitude:  -0.00012309 +/- 1.48e-06 (1.21%) (init=-5.9266e-05)\n",
      "    c:          -0.00022114 +/- 7.24e-05 (32.76%) (init=-0.01)\n",
      "[[Correlations]] (unreported correlations are <  0.100)\n",
      "    C(amplitude, c)              = -0.992 \n",
      "    C(sigma, amplitude)          = -0.955 \n",
      "    C(sigma, c)                  =  0.946 \n",
      "\n"
     ]
    }
   ],
   "source": [
    "print(out_druck_6.fit_report())"
   ]
  },
  {
   "cell_type": "code",
   "execution_count": 107,
   "metadata": {
    "collapsed": false
   },
   "outputs": [],
   "source": [
    "out_druck_6.plot()\n",
    "plt.show()"
   ]
  },
  {
   "cell_type": "code",
   "execution_count": 108,
   "metadata": {
    "collapsed": true
   },
   "outputs": [],
   "source": [
    "plt.plot(druck_6[0],druck_6_new-0.0008)\n",
    "plt.plot(np.arange(0,0.04,0.00001),out_druck_6.eval(x=np.arange(0,0.04,0.00001)))\n",
    "plt.show()"
   ]
  },
  {
   "cell_type": "markdown",
   "metadata": {},
   "source": [
    "### Druck 7"
   ]
  },
  {
   "cell_type": "markdown",
   "metadata": {},
   "source": [
    "#### Untergrund"
   ]
  },
  {
   "cell_type": "code",
   "execution_count": 109,
   "metadata": {
    "collapsed": true
   },
   "outputs": [],
   "source": [
    "plt.plot(druck_7[0],druck_7[1]-out_underground_druck_2.eval(x=druck_7[0]))\n",
    "plt.show()"
   ]
  },
  {
   "cell_type": "code",
   "execution_count": 110,
   "metadata": {
    "collapsed": true
   },
   "outputs": [],
   "source": [
    "druck_7_new = druck_7[1]-out_underground_druck_2.eval(x=druck_7[0])"
   ]
  },
  {
   "cell_type": "markdown",
   "metadata": {},
   "source": [
    "#### Fit"
   ]
  },
  {
   "cell_type": "code",
   "execution_count": 111,
   "metadata": {
    "collapsed": true
   },
   "outputs": [],
   "source": [
    "mask_druck_7 = np.where(druck_7[0][np.where(druck_7[0] < 0.027)[0]] > 0.015)[0]"
   ]
  },
  {
   "cell_type": "code",
   "execution_count": 112,
   "metadata": {
    "collapsed": true
   },
   "outputs": [],
   "source": [
    "mod_druck_7 = LorentzianModel()\n",
    "mod_const_druck_7 = ConstantModel()"
   ]
  },
  {
   "cell_type": "code",
   "execution_count": 113,
   "metadata": {
    "collapsed": true
   },
   "outputs": [],
   "source": [
    "mod_composit_druck_7 = mod_druck_7 + mod_const_druck_7"
   ]
  },
  {
   "cell_type": "code",
   "execution_count": 114,
   "metadata": {
    "collapsed": true
   },
   "outputs": [],
   "source": [
    "pars_druck_7 = mod_druck_7.guess(druck_7_new[mask_druck_7],x=druck_7[0][mask_druck_7])\n",
    "pars_druck_7 += mod_const_druck_7.make_params()\n",
    "pars_druck_7[\"c\"].set(-0.01)\n",
    "pars_druck_7[\"amplitude\"].set(-5.9266e-05)\n",
    "pars_druck_7[\"center\"].set(0.021)\n",
    "pars_druck_7[\"sigma\"].set(0.000003)"
   ]
  },
  {
   "cell_type": "code",
   "execution_count": 115,
   "metadata": {
    "collapsed": true
   },
   "outputs": [],
   "source": [
    "out_druck_7 = mod_composit_druck_7.fit(druck_7_new[mask_druck_7]-0.0011, params=pars_druck_7, x=druck_7[0][mask_druck_7], weights=1/(druck_7_new[mask_druck_7]*0.03))"
   ]
  },
  {
   "cell_type": "code",
   "execution_count": 116,
   "metadata": {
    "collapsed": false
   },
   "outputs": [
    {
     "name": "stdout",
     "output_type": "stream",
     "text": [
      "[[Model]]\n",
      "    (Model(lorentzian) + Model(constant))\n",
      "[[Fit Statistics]]\n",
      "    # function evals   = 78\n",
      "    # data points      = 479\n",
      "    # variables        = 4\n",
      "    chi-square         = 368.438\n",
      "    reduced chi-square = 0.776\n",
      "[[Variables]]\n",
      "    sigma:       0.00412140 +/- 3.15e-05 (0.76%) (init= 3e-06)\n",
      "    fwhm:        0.00824281 +/- 6.29e-05 (0.76%)  == '2.0000000*sigma'\n",
      "    center:      0.02095562 +/- 4.62e-06 (0.02%) (init= 0.021)\n",
      "    amplitude:  -0.00019992 +/- 2.26e-06 (1.13%) (init=-5.9266e-05)\n",
      "    c:           0.00067156 +/- 7.96e-05 (11.85%) (init=-0.01)\n",
      "[[Correlations]] (unreported correlations are <  0.100)\n",
      "    C(amplitude, c)              = -0.995 \n",
      "    C(sigma, amplitude)          = -0.969 \n",
      "    C(sigma, c)                  =  0.960 \n",
      "\n"
     ]
    }
   ],
   "source": [
    "print(out_druck_7.fit_report())"
   ]
  },
  {
   "cell_type": "code",
   "execution_count": 117,
   "metadata": {
    "collapsed": true
   },
   "outputs": [],
   "source": [
    "out_druck_7.plot()\n",
    "plt.show()"
   ]
  },
  {
   "cell_type": "code",
   "execution_count": 118,
   "metadata": {
    "collapsed": true
   },
   "outputs": [],
   "source": [
    "plt.plot(druck_7[0],druck_7_new-0.0011)\n",
    "plt.plot(np.arange(0,0.04,0.00001),out_druck_7.eval(x=np.arange(0,0.04,0.00001)))\n",
    "plt.show()"
   ]
  },
  {
   "cell_type": "markdown",
   "metadata": {},
   "source": [
    "### Druck 8"
   ]
  },
  {
   "cell_type": "markdown",
   "metadata": {},
   "source": [
    "#### Untergrund"
   ]
  },
  {
   "cell_type": "code",
   "execution_count": 119,
   "metadata": {
    "collapsed": true
   },
   "outputs": [],
   "source": [
    "plt.plot(druck_8[0],druck_8[1]-out_underground_druck_2.eval(x=druck_8[0]))\n",
    "plt.show()"
   ]
  },
  {
   "cell_type": "code",
   "execution_count": 120,
   "metadata": {
    "collapsed": true
   },
   "outputs": [],
   "source": [
    "druck_8_new = druck_8[1]-out_underground_druck_2.eval(x=druck_8[0])"
   ]
  },
  {
   "cell_type": "markdown",
   "metadata": {},
   "source": [
    "#### Fit"
   ]
  },
  {
   "cell_type": "code",
   "execution_count": 121,
   "metadata": {
    "collapsed": true
   },
   "outputs": [],
   "source": [
    "mask_druck_8 = np.where(druck_8[0][np.where(druck_8[0] < 0.04)[0]] > 0.015)[0]"
   ]
  },
  {
   "cell_type": "code",
   "execution_count": 122,
   "metadata": {
    "collapsed": true
   },
   "outputs": [],
   "source": [
    "mod_druck_8 = LorentzianModel()\n",
    "mod_const_druck_8 = ConstantModel()"
   ]
  },
  {
   "cell_type": "code",
   "execution_count": 123,
   "metadata": {
    "collapsed": false
   },
   "outputs": [],
   "source": [
    "mod_composit_druck_8 = mod_druck_8 + mod_const_druck_8"
   ]
  },
  {
   "cell_type": "code",
   "execution_count": 124,
   "metadata": {
    "collapsed": true
   },
   "outputs": [],
   "source": [
    "pars_druck_8 = mod_druck_8.guess(druck_8_new[mask_druck_8],x=druck_8[0][mask_druck_8])\n",
    "pars_druck_8 += mod_const_druck_8.make_params()\n",
    "pars_druck_8[\"c\"].set(-0.01)\n",
    "pars_druck_8[\"amplitude\"].set(-5.9266e-05)\n",
    "pars_druck_8[\"center\"].set(0.021, vary=True)\n",
    "pars_druck_8[\"sigma\"].set(0.000003)"
   ]
  },
  {
   "cell_type": "code",
   "execution_count": 125,
   "metadata": {
    "collapsed": true
   },
   "outputs": [],
   "source": [
    "out_druck_8 = mod_composit_druck_8.fit(druck_8_new[mask_druck_8]-0.0011, params=pars_druck_8, x=druck_8[0][mask_druck_8], weights=1/(druck_8_new[mask_druck_8]*0.05))"
   ]
  },
  {
   "cell_type": "code",
   "execution_count": 126,
   "metadata": {
    "collapsed": false
   },
   "outputs": [
    {
     "name": "stdout",
     "output_type": "stream",
     "text": [
      "[[Model]]\n",
      "    (Model(lorentzian) + Model(constant))\n",
      "[[Fit Statistics]]\n",
      "    # function evals   = 85\n",
      "    # data points      = 999\n",
      "    # variables        = 4\n",
      "    chi-square         = 7461.709\n",
      "    reduced chi-square = 7.499\n",
      "[[Variables]]\n",
      "    sigma:       0.00649954 +/- 5.71e-05 (0.88%) (init= 3e-06)\n",
      "    fwhm:        0.01299909 +/- 0.000114 (0.88%)  == '2.0000000*sigma'\n",
      "    center:      0.02121198 +/- 3.10e-05 (0.15%) (init= 0.021)\n",
      "    amplitude:  -0.00036587 +/- 2.68e-06 (0.73%) (init=-5.9266e-05)\n",
      "    c:           0.00326261 +/- 3.98e-05 (1.22%) (init=-0.01)\n",
      "[[Correlations]] (unreported correlations are <  0.100)\n",
      "    C(amplitude, c)              = -0.910 \n",
      "    C(sigma, c)                  =  0.850 \n",
      "    C(sigma, amplitude)          = -0.780 \n",
      "    C(center, amplitude)         =  0.603 \n",
      "    C(sigma, center)             = -0.583 \n",
      "    C(center, c)                 = -0.321 \n",
      "\n"
     ]
    }
   ],
   "source": [
    "print(out_druck_8.fit_report())"
   ]
  },
  {
   "cell_type": "code",
   "execution_count": 127,
   "metadata": {
    "collapsed": true
   },
   "outputs": [],
   "source": [
    "out_druck_8.plot()\n",
    "plt.show()"
   ]
  },
  {
   "cell_type": "code",
   "execution_count": 128,
   "metadata": {
    "collapsed": true
   },
   "outputs": [],
   "source": [
    "plt.plot(druck_8[0],druck_8_new-0.0011)\n",
    "plt.plot(np.arange(0,0.04,0.00001),out_druck_8.eval(x=np.arange(0,0.04,0.00001)))\n",
    "plt.show()"
   ]
  },
  {
   "cell_type": "markdown",
   "metadata": {},
   "source": [
    "### Druck 9"
   ]
  },
  {
   "cell_type": "markdown",
   "metadata": {},
   "source": [
    "#### Untergrund"
   ]
  },
  {
   "cell_type": "code",
   "execution_count": 129,
   "metadata": {
    "collapsed": true
   },
   "outputs": [],
   "source": [
    "plt.plot(druck_9[0],druck_9[1]-out_underground_druck_2.eval(x=druck_9[0]))\n",
    "plt.show()"
   ]
  },
  {
   "cell_type": "code",
   "execution_count": 130,
   "metadata": {
    "collapsed": true
   },
   "outputs": [],
   "source": [
    "druck_9_new = druck_9[1]-out_underground_druck_2.eval(x=druck_9[0])"
   ]
  },
  {
   "cell_type": "markdown",
   "metadata": {},
   "source": [
    "#### Fit"
   ]
  },
  {
   "cell_type": "code",
   "execution_count": 131,
   "metadata": {
    "collapsed": true
   },
   "outputs": [],
   "source": [
    "mask_druck_9 = np.where(druck_9[0][np.where(druck_9[0] < 0.046)[0]] > 0.003)[0]"
   ]
  },
  {
   "cell_type": "code",
   "execution_count": 132,
   "metadata": {
    "collapsed": true
   },
   "outputs": [],
   "source": [
    "mod_druck_9 = LorentzianModel()\n",
    "mod_const_druck_9 = ConstantModel()"
   ]
  },
  {
   "cell_type": "code",
   "execution_count": 133,
   "metadata": {
    "collapsed": false
   },
   "outputs": [],
   "source": [
    "pars_druck_9 = mod_druck_9.guess(druck_9_new[mask_druck_9],x=druck_9[0][mask_druck_9])\n",
    "pars_druck_9 += mod_const_druck_9.make_params()\n",
    "pars_druck_9[\"c\"].set(-0.01)\n",
    "pars_druck_9[\"amplitude\"].set(-5.9266e-05)\n",
    "pars_druck_9[\"center\"].set(0.021)\n",
    "pars_druck_9[\"sigma\"].set(0.007,vary=True)"
   ]
  },
  {
   "cell_type": "code",
   "execution_count": 134,
   "metadata": {
    "collapsed": true
   },
   "outputs": [],
   "source": [
    "mod_composit_druck_9 = mod_druck_9 + mod_const_druck_9"
   ]
  },
  {
   "cell_type": "code",
   "execution_count": 135,
   "metadata": {
    "collapsed": true
   },
   "outputs": [],
   "source": [
    "out_druck_9 = mod_composit_druck_9.fit(druck_9_new[mask_druck_9], params=pars_druck_9, x=druck_9[0][mask_druck_9], weights=1/(druck_9_new[mask_druck_9]*0.02))"
   ]
  },
  {
   "cell_type": "code",
   "execution_count": 136,
   "metadata": {
    "collapsed": false
   },
   "outputs": [
    {
     "name": "stdout",
     "output_type": "stream",
     "text": [
      "[[Model]]\n",
      "    (Model(lorentzian) + Model(constant))\n",
      "[[Fit Statistics]]\n",
      "    # function evals   = 84\n",
      "    # data points      = 1719\n",
      "    # variables        = 4\n",
      "    chi-square         = 526834.615\n",
      "    reduced chi-square = 307.192\n",
      "[[Variables]]\n",
      "    sigma:       0.00828770 +/- 0.000127 (1.53%) (init= 0.007)\n",
      "    fwhm:        0.01657540 +/- 0.000253 (1.53%)  == '2.0000000*sigma'\n",
      "    center:      0.02074566 +/- 2.64e-06 (0.01%) (init= 0.021)\n",
      "    amplitude:  -0.00042180 +/- 4.88e-06 (1.16%) (init=-5.9266e-05)\n",
      "    c:           0.00392686 +/- 6.91e-05 (1.76%) (init=-0.01)\n",
      "[[Correlations]] (unreported correlations are <  0.100)\n",
      "    C(amplitude, c)              = -0.937 \n",
      "    C(sigma, c)                  =  0.857 \n",
      "    C(sigma, amplitude)          = -0.622 \n",
      "    C(center, amplitude)         =  0.121 \n",
      "    C(center, c)                 = -0.116 \n",
      "\n"
     ]
    }
   ],
   "source": [
    "print(out_druck_9.fit_report())"
   ]
  },
  {
   "cell_type": "code",
   "execution_count": 137,
   "metadata": {
    "collapsed": false
   },
   "outputs": [],
   "source": [
    "out_druck_9.plot()\n",
    "plt.show()"
   ]
  },
  {
   "cell_type": "code",
   "execution_count": 138,
   "metadata": {
    "collapsed": true
   },
   "outputs": [],
   "source": [
    "plt.plot(druck_9[0],druck_9_new)\n",
    "plt.plot(np.arange(0,0.04,0.00001),out_druck_9.eval(x=np.arange(0,0.04,0.00001)))\n",
    "plt.show()"
   ]
  },
  {
   "cell_type": "markdown",
   "metadata": {},
   "source": [
    "### Druck 10"
   ]
  },
  {
   "cell_type": "markdown",
   "metadata": {},
   "source": [
    "#### Untergrund"
   ]
  },
  {
   "cell_type": "code",
   "execution_count": 139,
   "metadata": {
    "collapsed": true
   },
   "outputs": [],
   "source": [
    "plt.plot(druck_10[0],druck_10[1]-out_underground_druck_2.eval(x=druck_10[0]))\n",
    "plt.show()"
   ]
  },
  {
   "cell_type": "code",
   "execution_count": 140,
   "metadata": {
    "collapsed": true
   },
   "outputs": [],
   "source": [
    "druck_10_new = druck_10[1]-out_underground_druck_2.eval(x=druck_10[0])"
   ]
  },
  {
   "cell_type": "markdown",
   "metadata": {},
   "source": [
    "### Fit"
   ]
  },
  {
   "cell_type": "code",
   "execution_count": 141,
   "metadata": {
    "collapsed": true
   },
   "outputs": [],
   "source": [
    "mask_druck_10 = np.where(druck_10[0][np.where(druck_10[0] < 0.032)[0]] > 0.009)[0]"
   ]
  },
  {
   "cell_type": "code",
   "execution_count": 142,
   "metadata": {
    "collapsed": true
   },
   "outputs": [],
   "source": [
    "mod_druck_10 = LorentzianModel()\n",
    "mod_const_druck_10 = ConstantModel()"
   ]
  },
  {
   "cell_type": "code",
   "execution_count": 143,
   "metadata": {
    "collapsed": true
   },
   "outputs": [],
   "source": [
    "pars_druck_10 = mod_druck_10.guess(druck_10_new[mask_druck_10],x=druck_10[0][mask_druck_10])\n",
    "pars_druck_10 += mod_const_druck_10.make_params()\n",
    "pars_druck_10[\"c\"].set(-0.01)\n",
    "pars_druck_10[\"amplitude\"].set(-5.9266e-05)\n",
    "pars_druck_10[\"center\"].set(0.021)\n",
    "pars_druck_10[\"sigma\"].set(0.0001)"
   ]
  },
  {
   "cell_type": "code",
   "execution_count": 144,
   "metadata": {
    "collapsed": true
   },
   "outputs": [],
   "source": [
    "mod_composit_druck_10 = mod_druck_10 + mod_const_druck_10"
   ]
  },
  {
   "cell_type": "code",
   "execution_count": 145,
   "metadata": {
    "collapsed": false
   },
   "outputs": [],
   "source": [
    "out_druck_10 = mod_composit_druck_10.fit(druck_10_new[mask_druck_10]-0.002, params=pars_druck_10, x=druck_10[0][mask_druck_10], weights=1/(druck_10_new[mask_druck_10]*0.02))"
   ]
  },
  {
   "cell_type": "code",
   "execution_count": 146,
   "metadata": {
    "collapsed": false
   },
   "outputs": [
    {
     "name": "stdout",
     "output_type": "stream",
     "text": [
      "[[Model]]\n",
      "    (Model(lorentzian) + Model(constant))\n",
      "[[Fit Statistics]]\n",
      "    # function evals   = 58\n",
      "    # data points      = 919\n",
      "    # variables        = 4\n",
      "    chi-square         = 1087.745\n",
      "    reduced chi-square = 1.189\n",
      "[[Variables]]\n",
      "    sigma:       0.00997449 +/- 5.07e-05 (0.51%) (init= 0.0001)\n",
      "    fwhm:        0.01994898 +/- 0.000101 (0.51%)  == '2.0000000*sigma'\n",
      "    center:      0.02077592 +/- 4.73e-06 (0.02%) (init= 0.021)\n",
      "    amplitude:  -0.00047786 +/- 4.20e-06 (0.88%) (init=-5.9266e-05)\n",
      "    c:           0.00221470 +/- 6.70e-05 (3.02%) (init=-0.01)\n",
      "[[Correlations]] (unreported correlations are <  0.100)\n",
      "    C(amplitude, c)              = -0.998 \n",
      "    C(sigma, amplitude)          = -0.984 \n",
      "    C(sigma, c)                  =  0.977 \n",
      "    C(center, c)                 = -0.114 \n",
      "    C(center, amplitude)         =  0.109 \n",
      "\n"
     ]
    }
   ],
   "source": [
    "print(out_druck_10.fit_report())"
   ]
  },
  {
   "cell_type": "code",
   "execution_count": 147,
   "metadata": {
    "collapsed": false
   },
   "outputs": [],
   "source": [
    "out_druck_10.plot()\n",
    "plt.show()"
   ]
  },
  {
   "cell_type": "code",
   "execution_count": 148,
   "metadata": {
    "collapsed": false
   },
   "outputs": [],
   "source": [
    "plt.plot(druck_10[0],druck_10_new-0.002)\n",
    "plt.plot(np.arange(0,0.04,0.00001),out_druck_10.eval(x=np.arange(0,0.04,0.00001)))\n",
    "plt.show()"
   ]
  },
  {
   "cell_type": "markdown",
   "metadata": {},
   "source": [
    "### Druck 11"
   ]
  },
  {
   "cell_type": "markdown",
   "metadata": {},
   "source": [
    "#### Untergrund"
   ]
  },
  {
   "cell_type": "code",
   "execution_count": 149,
   "metadata": {
    "collapsed": true
   },
   "outputs": [],
   "source": [
    "plt.plot(druck_11[0],druck_11[1])\n",
    "plt.show()"
   ]
  },
  {
   "cell_type": "code",
   "execution_count": 150,
   "metadata": {
    "collapsed": true
   },
   "outputs": [],
   "source": [
    "druck_11_new = druck_11[1]"
   ]
  },
  {
   "cell_type": "markdown",
   "metadata": {},
   "source": [
    "#### Fit"
   ]
  },
  {
   "cell_type": "code",
   "execution_count": 151,
   "metadata": {
    "collapsed": true
   },
   "outputs": [],
   "source": [
    "mask_druck_11 = np.where(druck_11[0][np.where(druck_11[0] < 0.033)[0]] > 0.0114)[0]"
   ]
  },
  {
   "cell_type": "code",
   "execution_count": 152,
   "metadata": {
    "collapsed": true
   },
   "outputs": [],
   "source": [
    "mod_druck_11 = LorentzianModel()\n",
    "mod_const_druck_11 = ConstantModel()"
   ]
  },
  {
   "cell_type": "code",
   "execution_count": 153,
   "metadata": {
    "collapsed": true
   },
   "outputs": [],
   "source": [
    "pars_druck_11 = mod_druck_11.guess(druck_11_new[mask_druck_11],x=druck_11[0][mask_druck_11])\n",
    "pars_druck_11 += mod_const_druck_11.make_params()\n",
    "pars_druck_11[\"c\"].set(-0.01)\n",
    "pars_druck_11[\"amplitude\"].set(-5.9266e-05)\n",
    "pars_druck_11[\"center\"].set(0.021)\n",
    "pars_druck_11[\"sigma\"].set(0.00001)"
   ]
  },
  {
   "cell_type": "code",
   "execution_count": 154,
   "metadata": {
    "collapsed": true
   },
   "outputs": [],
   "source": [
    "mod_composit_druck_11 = mod_druck_11 + mod_const_druck_11"
   ]
  },
  {
   "cell_type": "code",
   "execution_count": 155,
   "metadata": {
    "collapsed": true
   },
   "outputs": [],
   "source": [
    "out_druck_11 = mod_composit_druck_11.fit(druck_11_new[mask_druck_11], params=pars_druck_11, x=druck_11[0][mask_druck_11], weights=(1/((druck_11_new[mask_druck_11]++0.00001)*0.02)))"
   ]
  },
  {
   "cell_type": "code",
   "execution_count": 156,
   "metadata": {
    "collapsed": false
   },
   "outputs": [
    {
     "name": "stdout",
     "output_type": "stream",
     "text": [
      "[[Model]]\n",
      "    (Model(lorentzian) + Model(constant))\n",
      "[[Fit Statistics]]\n",
      "    # function evals   = 74\n",
      "    # data points      = 863\n",
      "    # variables        = 4\n",
      "    chi-square         = 2982.741\n",
      "    reduced chi-square = 3.472\n",
      "[[Variables]]\n",
      "    sigma:       0.01124635 +/- 0.000113 (1.00%) (init= 1e-05)\n",
      "    fwhm:        0.02249271 +/- 0.000225 (1.00%)  == '2.0000000*sigma'\n",
      "    center:      0.02200069 +/- 6.75e-06 (0.03%) (init= 0.021)\n",
      "    amplitude:  -0.00051044 +/- 9.88e-06 (1.94%) (init=-5.9266e-05)\n",
      "    c:           0.00594950 +/- 0.000149 (2.50%) (init=-0.01)\n",
      "[[Correlations]] (unreported correlations are <  0.100)\n",
      "    C(amplitude, c)              = -0.999 \n",
      "    C(sigma, amplitude)          = -0.991 \n",
      "    C(sigma, c)                  =  0.986 \n",
      "\n"
     ]
    }
   ],
   "source": [
    "print(out_druck_11.fit_report())"
   ]
  },
  {
   "cell_type": "code",
   "execution_count": 157,
   "metadata": {
    "collapsed": false
   },
   "outputs": [],
   "source": [
    "out_druck_11.plot()\n",
    "plt.show()"
   ]
  },
  {
   "cell_type": "code",
   "execution_count": 158,
   "metadata": {
    "collapsed": true
   },
   "outputs": [],
   "source": [
    "plt.plot(druck_11[0],druck_11_new)\n",
    "plt.plot(np.arange(0,0.04,0.00001),out_druck_11.eval(x=np.arange(0,0.04,0.00001)))\n",
    "plt.show()"
   ]
  },
  {
   "cell_type": "markdown",
   "metadata": {},
   "source": [
    "### Druck 12"
   ]
  },
  {
   "cell_type": "markdown",
   "metadata": {},
   "source": [
    "#### Untergrund"
   ]
  },
  {
   "cell_type": "code",
   "execution_count": 159,
   "metadata": {
    "collapsed": true
   },
   "outputs": [],
   "source": [
    "plt.plot(druck_12[0],druck_12[1])\n",
    "plt.show()"
   ]
  },
  {
   "cell_type": "code",
   "execution_count": 160,
   "metadata": {
    "collapsed": true
   },
   "outputs": [],
   "source": [
    "druck_12_new = druck_12[1]"
   ]
  },
  {
   "cell_type": "markdown",
   "metadata": {},
   "source": [
    "#### Fit"
   ]
  },
  {
   "cell_type": "code",
   "execution_count": 161,
   "metadata": {
    "collapsed": true
   },
   "outputs": [],
   "source": [
    "mask_druck_12 = np.where(druck_12[0][np.where(druck_12[0] < 0.033)[0]] > 0.0114)[0]"
   ]
  },
  {
   "cell_type": "code",
   "execution_count": 162,
   "metadata": {
    "collapsed": true
   },
   "outputs": [],
   "source": [
    "mod_druck_12 = LorentzianModel()\n",
    "mod_const_druck_12 = ConstantModel()"
   ]
  },
  {
   "cell_type": "code",
   "execution_count": 163,
   "metadata": {
    "collapsed": true
   },
   "outputs": [],
   "source": [
    "pars_druck_12 = mod_druck_12.guess(druck_12_new[mask_druck_12],x=druck_12[0][mask_druck_12])\n",
    "pars_druck_12 += mod_const_druck_12.make_params()\n",
    "pars_druck_12[\"c\"].set(-0.01)\n",
    "pars_druck_12[\"amplitude\"].set(-5.9266e-05)\n",
    "pars_druck_12[\"center\"].set(0.021)\n",
    "pars_druck_12[\"sigma\"].set(0.0001)"
   ]
  },
  {
   "cell_type": "code",
   "execution_count": 164,
   "metadata": {
    "collapsed": true
   },
   "outputs": [],
   "source": [
    "mod_composit_druck_12 = mod_druck_12 + mod_const_druck_12"
   ]
  },
  {
   "cell_type": "code",
   "execution_count": 165,
   "metadata": {
    "collapsed": true
   },
   "outputs": [],
   "source": [
    "out_druck_12 = mod_composit_druck_12.fit(druck_12_new[mask_druck_12], params=pars_druck_12, x=druck_12[0][mask_druck_12], weights=(1/((druck_12_new[mask_druck_11]++0.00001)*0.02)))"
   ]
  },
  {
   "cell_type": "code",
   "execution_count": 166,
   "metadata": {
    "collapsed": false
   },
   "outputs": [
    {
     "name": "stdout",
     "output_type": "stream",
     "text": [
      "[[Model]]\n",
      "    (Model(lorentzian) + Model(constant))\n",
      "[[Fit Statistics]]\n",
      "    # function evals   = 81\n",
      "    # data points      = 863\n",
      "    # variables        = 4\n",
      "    chi-square         = 1997.858\n",
      "    reduced chi-square = 2.326\n",
      "[[Variables]]\n",
      "    sigma:       0.01245460 +/- 0.000137 (1.10%) (init= 0.0001)\n",
      "    fwhm:        0.02490921 +/- 0.000274 (1.10%)  == '2.0000000*sigma'\n",
      "    center:      0.02195080 +/- 6.87e-06 (0.03%) (init= 0.021)\n",
      "    amplitude:  -0.00049499 +/- 1.13e-05 (2.28%) (init=-5.9266e-05)\n",
      "    c:           0.00540525 +/- 0.000159 (2.95%) (init=-0.01)\n",
      "[[Correlations]] (unreported correlations are <  0.100)\n",
      "    C(amplitude, c)              = -0.999 \n",
      "    C(sigma, amplitude)          = -0.994 \n",
      "    C(sigma, c)                  =  0.990 \n",
      "    C(center, c)                 =  0.105 \n",
      "    C(center, amplitude)         = -0.101 \n",
      "\n"
     ]
    }
   ],
   "source": [
    "print(out_druck_12.fit_report())"
   ]
  },
  {
   "cell_type": "code",
   "execution_count": 167,
   "metadata": {
    "collapsed": true
   },
   "outputs": [],
   "source": [
    "out_druck_12.plot()\n",
    "plt.show()"
   ]
  },
  {
   "cell_type": "code",
   "execution_count": 168,
   "metadata": {
    "collapsed": true
   },
   "outputs": [],
   "source": [
    "plt.plot(druck_12[0],druck_12_new)\n",
    "plt.plot(np.arange(0,0.04,0.00001),out_druck_12.eval(x=np.arange(0,0.04,0.00001)))\n",
    "plt.show()"
   ]
  },
  {
   "cell_type": "markdown",
   "metadata": {},
   "source": [
    "### Druck 13"
   ]
  },
  {
   "cell_type": "markdown",
   "metadata": {},
   "source": [
    "#### Untergrund"
   ]
  },
  {
   "cell_type": "code",
   "execution_count": 169,
   "metadata": {
    "collapsed": true
   },
   "outputs": [],
   "source": [
    "plt.plot(druck_13[0],druck_13[1])\n",
    "plt.show()"
   ]
  },
  {
   "cell_type": "code",
   "execution_count": 170,
   "metadata": {
    "collapsed": true
   },
   "outputs": [],
   "source": [
    "druck_13_new = druck_13[1]"
   ]
  },
  {
   "cell_type": "markdown",
   "metadata": {},
   "source": [
    "#### Fit"
   ]
  },
  {
   "cell_type": "code",
   "execution_count": 171,
   "metadata": {
    "collapsed": true
   },
   "outputs": [],
   "source": [
    "mask_druck_13 = np.where(druck_13[0][np.where(druck_13[0] < 0.025)[0]] > 0.015)[0]"
   ]
  },
  {
   "cell_type": "code",
   "execution_count": 172,
   "metadata": {
    "collapsed": true
   },
   "outputs": [],
   "source": [
    "mod_druck_13 = LorentzianModel()\n",
    "mod_const_druck_13 = ConstantModel()"
   ]
  },
  {
   "cell_type": "code",
   "execution_count": 173,
   "metadata": {
    "collapsed": true
   },
   "outputs": [],
   "source": [
    "pars_druck_13 = mod_druck_13.guess(druck_13_new[mask_druck_13],x=druck_13[0][mask_druck_13])\n",
    "pars_druck_13 += mod_const_druck_13.make_params()\n",
    "pars_druck_13[\"c\"].set(-0.01)\n",
    "pars_druck_13[\"amplitude\"].set(-5.9266e-05)\n",
    "pars_druck_13[\"center\"].set(0.021)\n",
    "pars_druck_13[\"sigma\"].set(0.00001)"
   ]
  },
  {
   "cell_type": "code",
   "execution_count": 174,
   "metadata": {
    "collapsed": true
   },
   "outputs": [],
   "source": [
    "mod_composit_druck_13 = mod_druck_13 + mod_const_druck_13"
   ]
  },
  {
   "cell_type": "code",
   "execution_count": 175,
   "metadata": {
    "collapsed": false
   },
   "outputs": [],
   "source": [
    "out_druck_13 = mod_composit_druck_13.fit(druck_13_new[mask_druck_13], params=pars_druck_13, x=druck_13[0][mask_druck_13], weights=(1/((druck_13_new[mask_druck_13]+0.00001)*0.02)))"
   ]
  },
  {
   "cell_type": "code",
   "execution_count": 176,
   "metadata": {
    "collapsed": false
   },
   "outputs": [
    {
     "name": "stdout",
     "output_type": "stream",
     "text": [
      "[[Model]]\n",
      "    (Model(lorentzian) + Model(constant))\n",
      "[[Fit Statistics]]\n",
      "    # function evals   = 312\n",
      "    # data points      = 399\n",
      "    # variables        = 4\n",
      "    chi-square         = 219.517\n",
      "    reduced chi-square = 0.556\n",
      "[[Variables]]\n",
      "    sigma:       0.01643498 +/- 0.001401 (8.52%) (init= 1e-05)\n",
      "    fwhm:        0.03286996 +/- 0.002802 (8.52%)  == '2.0000000*sigma'\n",
      "    center:      0.02183337 +/- 2.54e-05 (0.12%) (init= 0.021)\n",
      "    amplitude:  -0.00073734 +/- 0.000171 (23.15%) (init=-5.9266e-05)\n",
      "    c:           0.00838228 +/- 0.002094 (24.99%) (init=-0.01)\n",
      "[[Correlations]] (unreported correlations are <  0.100)\n",
      "    C(amplitude, c)              = -1.000 \n",
      "    C(sigma, amplitude)          = -0.999 \n",
      "    C(sigma, c)                  =  0.998 \n",
      "    C(sigma, center)             =  0.272 \n",
      "    C(center, amplitude)         = -0.239 \n",
      "    C(center, c)                 =  0.221 \n",
      "\n"
     ]
    }
   ],
   "source": [
    "print(out_druck_13.fit_report())"
   ]
  },
  {
   "cell_type": "code",
   "execution_count": 177,
   "metadata": {
    "collapsed": false
   },
   "outputs": [],
   "source": [
    "out_druck_13.plot()\n",
    "plt.show()"
   ]
  },
  {
   "cell_type": "code",
   "execution_count": 178,
   "metadata": {
    "collapsed": true
   },
   "outputs": [],
   "source": [
    "plt.plot(druck_13[0],druck_13_new)\n",
    "plt.plot(np.arange(0,0.04,0.00001),out_druck_13.eval(x=np.arange(0,0.04,0.00001)))\n",
    "plt.show()"
   ]
  },
  {
   "cell_type": "markdown",
   "metadata": {},
   "source": [
    "## Breite zu Druck"
   ]
  },
  {
   "cell_type": "code",
   "execution_count": 179,
   "metadata": {
    "collapsed": true
   },
   "outputs": [],
   "source": [
    "breite = []\n",
    "breite.append(out_druck_2.best_values[\"sigma\"])\n",
    "breite.append(out_druck_3.best_values[\"sigma\"])\n",
    "breite.append(out_druck_4.best_values[\"sigma\"])\n",
    "breite.append(out_druck_5.best_values[\"sigma\"])\n",
    "breite.append(out_druck_6.best_values[\"sigma\"])\n",
    "breite.append(out_druck_7.best_values[\"sigma\"])\n",
    "breite.append(out_druck_8.best_values[\"sigma\"])\n",
    "breite.append(out_druck_9.best_values[\"sigma\"])\n",
    "breite.append(out_druck_10.best_values[\"sigma\"])\n",
    "breite.append(out_druck_11.best_values[\"sigma\"])\n",
    "breite.append(out_druck_12.best_values[\"sigma\"])\n",
    "breite.append(out_druck_13.best_values[\"sigma\"])\n",
    "breite = np.array(breite)\n",
    "breite_hz = out_kalib_druck.best_values[\"slope\"]*breite*2"
   ]
  },
  {
   "cell_type": "code",
   "execution_count": 180,
   "metadata": {
    "collapsed": false
   },
   "outputs": [
    {
     "data": {
      "text/plain": [
       "array([  0.8430336 ,   0.82274519,   1.12342295,   1.89515255,\n",
       "         3.3823962 ,   4.96759128,   7.83399573,   9.98928227,\n",
       "        12.0223958 ,  13.55538931,  15.01171063,  19.80931097])"
      ]
     },
     "execution_count": 180,
     "metadata": {},
     "output_type": "execute_result"
    }
   ],
   "source": [
    "breite_hz*1000"
   ]
  },
  {
   "cell_type": "code",
   "execution_count": 181,
   "metadata": {
    "collapsed": false
   },
   "outputs": [],
   "source": [
    "druck = np.array([1.0*10**-2,\n",
    "                  2.6*10**-2,\n",
    "                  8.7*10**-2,\n",
    "                  1.5*10**-1,\n",
    "                  2.7*10**-1,\n",
    "                  3.8*10**-1,\n",
    "                  5.8*10**-1,\n",
    "                  9.3*10**-1,\n",
    "                  1.1,\n",
    "                  1.3,\n",
    "                  1.6,\n",
    "                  2.0])"
   ]
  },
  {
   "cell_type": "code",
   "execution_count": 182,
   "metadata": {
    "collapsed": false
   },
   "outputs": [],
   "source": [
    "plt.plot(druck,breite_hz, '. ')\n",
    "plt.gca().get_yaxis().get_major_formatter().set_useOffset(False)\n",
    "plt.show()"
   ]
  },
  {
   "cell_type": "code",
   "execution_count": 183,
   "metadata": {
    "collapsed": true
   },
   "outputs": [],
   "source": [
    "mod_druck_breite = LinearModel()"
   ]
  },
  {
   "cell_type": "code",
   "execution_count": 184,
   "metadata": {
    "collapsed": true
   },
   "outputs": [],
   "source": [
    "pars_druck_breite = mod_druck_breite.guess(breite_hz,x=druck)"
   ]
  },
  {
   "cell_type": "code",
   "execution_count": 185,
   "metadata": {
    "collapsed": false
   },
   "outputs": [],
   "source": [
    "out_druck_breite = mod_druck_breite.fit(breite_hz,x=druck,params=pars_druck_breite,weights=1/(breite_hz*0.000024))"
   ]
  },
  {
   "cell_type": "code",
   "execution_count": 186,
   "metadata": {
    "collapsed": false
   },
   "outputs": [
    {
     "name": "stdout",
     "output_type": "stream",
     "text": [
      "[[Model]]\n",
      "    Model(linear)\n",
      "[[Fit Statistics]]\n",
      "    # function evals   = 8\n",
      "    # data points      = 12\n",
      "    # variables        = 2\n",
      "    chi-square         = 334229069.765\n",
      "    reduced chi-square = 33422906.977\n",
      "[[Variables]]\n",
      "    slope:       0.00982881 +/- 0.000548 (5.58%) (init= 0.00951206)\n",
      "    intercept:   0.00057701 +/- 7.58e-05 (13.14%) (init= 0.0009201022)\n",
      "[[Correlations]] (unreported correlations are <  0.100)\n",
      "    C(slope, intercept)          = -0.434 \n",
      "\n"
     ]
    }
   ],
   "source": [
    "print(out_druck_breite.fit_report())"
   ]
  },
  {
   "cell_type": "code",
   "execution_count": 187,
   "metadata": {
    "collapsed": true
   },
   "outputs": [],
   "source": [
    "out_druck_breite.plot()\n",
    "plt.legend(loc=\"best\")\n",
    "plt.gca().get_yaxis().get_major_formatter().set_useOffset(False)\n",
    "plt.show()"
   ]
  },
  {
   "cell_type": "code",
   "execution_count": 188,
   "metadata": {
    "collapsed": false
   },
   "outputs": [
    {
     "data": {
      "text/plain": [
       "array([ 0.00069943,  0.0006826 ,  0.00093206,  0.00157233,  0.00280624,\n",
       "        0.00412141,  0.00649955,  0.0082877 ,  0.00997449,  0.01124636,\n",
       "        0.01245461,  0.01643498])"
      ]
     },
     "execution_count": 188,
     "metadata": {},
     "output_type": "execute_result"
    }
   ],
   "source": [
    "breite"
   ]
  },
  {
   "cell_type": "code",
   "execution_count": null,
   "metadata": {
    "collapsed": true
   },
   "outputs": [],
   "source": []
  },
  {
   "cell_type": "code",
   "execution_count": null,
   "metadata": {
    "collapsed": true
   },
   "outputs": [],
   "source": []
  },
  {
   "cell_type": "code",
   "execution_count": null,
   "metadata": {
    "collapsed": true
   },
   "outputs": [],
   "source": []
  }
 ],
 "metadata": {
  "kernelspec": {
   "display_name": "Python 3",
   "language": "python",
   "name": "python3"
  },
  "language_info": {
   "codemirror_mode": {
    "name": "ipython",
    "version": 3
   },
   "file_extension": ".py",
   "mimetype": "text/x-python",
   "name": "python",
   "nbconvert_exporter": "python",
   "pygments_lexer": "ipython3",
   "version": "3.5.1"
  }
 },
 "nbformat": 4,
 "nbformat_minor": 0
}
