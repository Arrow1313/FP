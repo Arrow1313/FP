{
 "cells": [
  {
   "cell_type": "code",
   "execution_count": 1,
   "metadata": {
    "collapsed": false
   },
   "outputs": [
    {
     "name": "stderr",
     "output_type": "stream",
     "text": [
      "Vendor:  Continuum Analytics, Inc.\n",
      "Package: mkl\n",
      "Message: trial mode expires in 30 days\n"
     ]
    }
   ],
   "source": [
    "import numpy as np\n",
    "import pandas as pd\n",
    "import matplotlib.pyplot as plt\n",
    "import lmfit\n",
    "import copy    # for append with the fit-objects\n",
    "from lmfit import models\n",
    "from scipy import constants"
   ]
  },
  {
   "cell_type": "markdown",
   "metadata": {},
   "source": [
    "# $\\frac{1}{r^3}$ Abstands untersuchung"
   ]
  },
  {
   "cell_type": "code",
   "execution_count": 2,
   "metadata": {
    "collapsed": true
   },
   "outputs": [],
   "source": [
    "data_r_hoch_3 = pd.DataFrame([[100,6,5,.5],[150,2.7,7,.5],[200,1.4,7,.5]],\n",
    "                             columns=['Abstand','Delta_U','Abstand_err','Delta_U_err'])"
   ]
  },
  {
   "cell_type": "code",
   "execution_count": 3,
   "metadata": {
    "collapsed": false
   },
   "outputs": [
    {
     "data": {
      "text/html": [
       "<div>\n",
       "<table border=\"1\" class=\"dataframe\">\n",
       "  <thead>\n",
       "    <tr style=\"text-align: right;\">\n",
       "      <th></th>\n",
       "      <th>Abstand</th>\n",
       "      <th>Delta_U</th>\n",
       "      <th>Abstand_err</th>\n",
       "      <th>Delta_U_err</th>\n",
       "    </tr>\n",
       "  </thead>\n",
       "  <tbody>\n",
       "    <tr>\n",
       "      <th>0</th>\n",
       "      <td>100</td>\n",
       "      <td>6.0</td>\n",
       "      <td>5</td>\n",
       "      <td>0.5</td>\n",
       "    </tr>\n",
       "    <tr>\n",
       "      <th>1</th>\n",
       "      <td>150</td>\n",
       "      <td>2.7</td>\n",
       "      <td>7</td>\n",
       "      <td>0.5</td>\n",
       "    </tr>\n",
       "    <tr>\n",
       "      <th>2</th>\n",
       "      <td>200</td>\n",
       "      <td>1.4</td>\n",
       "      <td>7</td>\n",
       "      <td>0.5</td>\n",
       "    </tr>\n",
       "  </tbody>\n",
       "</table>\n",
       "</div>"
      ],
      "text/plain": [
       "   Abstand  Delta_U  Abstand_err  Delta_U_err\n",
       "0      100      6.0            5          0.5\n",
       "1      150      2.7            7          0.5\n",
       "2      200      1.4            7          0.5"
      ]
     },
     "execution_count": 3,
     "metadata": {},
     "output_type": "execute_result"
    }
   ],
   "source": [
    "data_r_hoch_3"
   ]
  },
  {
   "cell_type": "code",
   "execution_count": 4,
   "metadata": {
    "collapsed": true
   },
   "outputs": [],
   "source": [
    "def r_hoch_3(x,alpha):\n",
    "    return alpha/x**3"
   ]
  },
  {
   "cell_type": "code",
   "execution_count": 5,
   "metadata": {
    "collapsed": false
   },
   "outputs": [],
   "source": [
    "mod_r_hoch_3 = models.Model(r_hoch_3)\n",
    "pars_r_hoch_3 = mod_r_hoch_3.make_params()\n",
    "pars_r_hoch_3['alpha'].set(9112500)"
   ]
  },
  {
   "cell_type": "code",
   "execution_count": 6,
   "metadata": {
    "collapsed": false
   },
   "outputs": [],
   "source": [
    "out_r_hoch_3 = mod_r_hoch_3.fit(data_r_hoch_3.Delta_U,pars_r_hoch_3,x=data_r_hoch_3.Abstand,weights=1/data_r_hoch_3.Delta_U_err)"
   ]
  },
  {
   "cell_type": "code",
   "execution_count": 7,
   "metadata": {
    "collapsed": false
   },
   "outputs": [
    {
     "name": "stdout",
     "output_type": "stream",
     "text": [
      "[[Model]]\n",
      "    Model(r_hoch_3)\n",
      "[[Fit Statistics]]\n",
      "    # function evals   = 6\n",
      "    # data points      = 3\n",
      "    # variables        = 1\n",
      "    chi-square         = 4.636\n",
      "    reduced chi-square = 2.318\n",
      "[[Variables]]\n",
      "    alpha:   6.3213e+06 +/- 7.25e+05 (11.46%) (init= 9112500)\n",
      "[[Correlations]] (unreported correlations are <  0.100)\n",
      "\n"
     ]
    }
   ],
   "source": [
    "print(out_r_hoch_3.fit_report())"
   ]
  },
  {
   "cell_type": "code",
   "execution_count": 8,
   "metadata": {
    "collapsed": true
   },
   "outputs": [],
   "source": [
    "x = np.arange(50,250,0.1)"
   ]
  },
  {
   "cell_type": "code",
   "execution_count": 9,
   "metadata": {
    "collapsed": false
   },
   "outputs": [],
   "source": [
    "plt.plot(x,out_r_hoch_3.eval(x=x),label='Fit')\n",
    "plt.errorbar(data_r_hoch_3['Abstand'],data_r_hoch_3['Delta_U'],data_r_hoch_3['Delta_U_err'],data_r_hoch_3['Abstand_err'],'. ',label='Messdaten')\n",
    "plt.legend(loc='best', fontsize=34)\n",
    "plt.xlim([90,250])\n",
    "plt.ylim([0,10])\n",
    "plt.xticks(fontsize=24)\n",
    "plt.yticks(fontsize=24)\n",
    "\n",
    "plt.show()"
   ]
  },
  {
   "cell_type": "markdown",
   "metadata": {},
   "source": [
    "# Empfindlichkeit quantitaiv\n",
    "$ B = \\mu_0 \\frac{r^2}{2\\left(r^2+d^2\\right)^\\frac{3}{2}} \\cdot I $\n",
    "<br>\n",
    "$ \\Phi = B \\cdot A$"
   ]
  },
  {
   "cell_type": "code",
   "execution_count": 10,
   "metadata": {
    "collapsed": false
   },
   "outputs": [],
   "source": [
    "r = 3.5/100\n",
    "abstand = 10.9/100\n",
    "A = 0.2/1000**2\n",
    "I = 0.005\n",
    "err_r = 0.2/100\n",
    "err_abstand = 0.5/100"
   ]
  },
  {
   "cell_type": "code",
   "execution_count": 11,
   "metadata": {
    "collapsed": true
   },
   "outputs": [],
   "source": [
    "def calc_B(r,d,I):\n",
    "    μ_0 = constants.mu_0\n",
    "    return I * μ_0 * r**2/(2*(r**2+d**2)**(3/2))"
   ]
  },
  {
   "cell_type": "code",
   "execution_count": 12,
   "metadata": {
    "collapsed": true
   },
   "outputs": [],
   "source": [
    "def calc_delta_B(r,d,I,delta_r,delta_d):\n",
    "    μ_0 = constants.mu_0\n",
    "    factor = μ_0*I/2\n",
    "    first_term = ((2*d**2*r-r**3)/(d**2+r**2)**(5/2))*delta_r\n",
    "    secound_term = ((3*r**2*d)/(d**2+r**2)**(5/2))*delta_d\n",
    "    return factor*(first_term**2+secound_term**2)**0.5"
   ]
  },
  {
   "cell_type": "code",
   "execution_count": 13,
   "metadata": {
    "collapsed": false
   },
   "outputs": [],
   "source": [
    "B = calc_B(r,abstand,I)"
   ]
  },
  {
   "cell_type": "code",
   "execution_count": 14,
   "metadata": {
    "collapsed": true
   },
   "outputs": [],
   "source": [
    "delta_B = calc_delta_B(r,abstand,I,err_r,err_abstand)"
   ]
  },
  {
   "cell_type": "code",
   "execution_count": 15,
   "metadata": {
    "collapsed": false
   },
   "outputs": [
    {
     "data": {
      "text/plain": [
       "2.5649607039584348e-09"
      ]
     },
     "execution_count": 15,
     "metadata": {},
     "output_type": "execute_result"
    }
   ],
   "source": [
    "B"
   ]
  },
  {
   "cell_type": "code",
   "execution_count": 16,
   "metadata": {
    "collapsed": false
   },
   "outputs": [
    {
     "data": {
      "text/plain": [
       "4.0732504384092344e-10"
      ]
     },
     "execution_count": 16,
     "metadata": {},
     "output_type": "execute_result"
    }
   ],
   "source": [
    "delta_B"
   ]
  },
  {
   "cell_type": "code",
   "execution_count": 17,
   "metadata": {
    "collapsed": true
   },
   "outputs": [],
   "source": [
    "Φ = B*A"
   ]
  },
  {
   "cell_type": "code",
   "execution_count": 18,
   "metadata": {
    "collapsed": false
   },
   "outputs": [
    {
     "data": {
      "text/plain": [
       "5.12992140791687e-16"
      ]
     },
     "execution_count": 18,
     "metadata": {},
     "output_type": "execute_result"
    }
   ],
   "source": [
    "Φ"
   ]
  },
  {
   "cell_type": "code",
   "execution_count": 19,
   "metadata": {
    "collapsed": true
   },
   "outputs": [],
   "source": [
    "delta_Φ = A*delta_B"
   ]
  },
  {
   "cell_type": "code",
   "execution_count": 20,
   "metadata": {
    "collapsed": false,
    "scrolled": true
   },
   "outputs": [
    {
     "data": {
      "text/plain": [
       "8.146500876818469e-17"
      ]
     },
     "execution_count": 20,
     "metadata": {},
     "output_type": "execute_result"
    }
   ],
   "source": [
    "delta_Φ"
   ]
  },
  {
   "cell_type": "code",
   "execution_count": 21,
   "metadata": {
    "collapsed": false
   },
   "outputs": [
    {
     "name": "stdout",
     "output_type": "stream",
     "text": [
      "2.0678337565123478e-15\n"
     ]
    }
   ],
   "source": [
    "#Größe einens Flussquants in Wb\n",
    "flussquant = constants.h/(2*constants.e)\n",
    "print(flussquant)"
   ]
  },
  {
   "cell_type": "code",
   "execution_count": 22,
   "metadata": {
    "collapsed": false
   },
   "outputs": [
    {
     "data": {
      "text/plain": [
       "0.248081906573046"
      ]
     },
     "execution_count": 22,
     "metadata": {},
     "output_type": "execute_result"
    }
   ],
   "source": [
    "Φ/flussquant"
   ]
  },
  {
   "cell_type": "markdown",
   "metadata": {},
   "source": [
    "# Kalibrierung"
   ]
  },
  {
   "cell_type": "code",
   "execution_count": 23,
   "metadata": {
    "collapsed": false
   },
   "outputs": [],
   "source": [
    "# Daten übertragen\n",
    "kalib_data = []\n",
    "columns = ['0 mA','10 mA','20 mA','30 mA','40 mA','50 mA','60 mA','70 mA','80 mA','90 mA']\n",
    "index = ['1k','err_1k','1.5k','err_1.5k','2k','err_2k','3k','err_3k','4k','err_4k','6k','err_6k','10k','err_10k','20k','err_20k']\n",
    "current = np.arange(0,100,10)\n",
    "err_current = np.ones(10)*2\n",
    "# 1k Widerstandswerte\n",
    "kalib_data.append([0,208/5,208/5*2.1,208/5*3.3,208/5*4.6,208/5*5.5,208/5*6.4,208/5*7.2,208/5*8.5,208/5*9.8])\n",
    "kalib_data.append(np.ones(10)*208/20)\n",
    "# 1.5k Widerstandswerte\n",
    "kalib_data.append([0,208/5*1.9,208/5*3.4,208/5*4.9,208/5*6.1,208/5*8,208/5*10,208/5*11.2,208/5*13,208/5*14.9])\n",
    "kalib_data.append(np.ones(10)*208/20)\n",
    "# 2k Widerstandswerte\n",
    "kalib_data.append([0,208/5*2.3,208/5*4.1,208/5*6.6,208/5*9,208/5*11.4,208/5*13.7,208/5*15.3,208/5*17.7,208/5*19.8])\n",
    "kalib_data.append(np.ones(10)*208/20)\n",
    "# 3k Widerstandswerte\n",
    "kalib_data.append([0,208/5*3,208/5*6.5,208/5*9.3,208/5*12.5,208/5*15.7,208/5*19,208/5*22.2,208/5*25.1,208/5*28.3])\n",
    "kalib_data.append(np.ones(10)*208/20)\n",
    "# 4k Widerstandswerte\n",
    "kalib_data.append([0,260/5*3.7,260/5*7,260/5*10.1,260/5*13.5,260/5*17,260/5*20.6,260/5*24,260/5*27.3,260/5*31])\n",
    "kalib_data.append(np.ones(10)*260/20)\n",
    "# 6k Widerstandswerte\n",
    "kalib_data.append([0,320/5*4,320/5*8,320/5*12.3,320/5*16,320/5*20,320/5*24,320/5*27.9,320/5*32.1,320/5*36.3])\n",
    "kalib_data.append(np.ones(10)*320/20)\n",
    "# 10k Widerstandswerte\n",
    "kalib_data.append([0,540/5*4,540/5*8.1,540/5*11.9,540/5*16,540/5*20,540/5*24,540/5*27.8,540/5*31.2,540/5*35.1])\n",
    "kalib_data.append(np.ones(10)*540/20)\n",
    "# 20k Widerstandswerte\n",
    "kalib_data.append([0,1100/5*3.7,1100/5*7.5,1100/5*11.1,1100/5*15.1,1100/5*18.9,1100/5*23.7,1100/5*26.5,1100/5*30.1,1100/5*33.9])\n",
    "kalib_data.append(np.ones(10)*1100/20)\n",
    "\n",
    "kalib_df = pd.DataFrame([list(i) for i in kalib_data], columns=columns, index=index)"
   ]
  },
  {
   "cell_type": "code",
   "execution_count": 24,
   "metadata": {
    "collapsed": false
   },
   "outputs": [
    {
     "data": {
      "text/html": [
       "<div>\n",
       "<table border=\"1\" class=\"dataframe\">\n",
       "  <thead>\n",
       "    <tr style=\"text-align: right;\">\n",
       "      <th></th>\n",
       "      <th>1k</th>\n",
       "      <th>err_1k</th>\n",
       "      <th>1.5k</th>\n",
       "      <th>err_1.5k</th>\n",
       "      <th>2k</th>\n",
       "      <th>err_2k</th>\n",
       "      <th>3k</th>\n",
       "      <th>err_3k</th>\n",
       "      <th>4k</th>\n",
       "      <th>err_4k</th>\n",
       "      <th>6k</th>\n",
       "      <th>err_6k</th>\n",
       "      <th>10k</th>\n",
       "      <th>err_10k</th>\n",
       "      <th>20k</th>\n",
       "      <th>err_20k</th>\n",
       "    </tr>\n",
       "  </thead>\n",
       "  <tbody>\n",
       "    <tr>\n",
       "      <th>0 mA</th>\n",
       "      <td>0.00</td>\n",
       "      <td>10.4</td>\n",
       "      <td>0.00</td>\n",
       "      <td>10.4</td>\n",
       "      <td>0.00</td>\n",
       "      <td>10.4</td>\n",
       "      <td>0.00</td>\n",
       "      <td>10.4</td>\n",
       "      <td>0.0</td>\n",
       "      <td>13</td>\n",
       "      <td>0.0</td>\n",
       "      <td>16</td>\n",
       "      <td>0.0</td>\n",
       "      <td>27</td>\n",
       "      <td>0</td>\n",
       "      <td>55</td>\n",
       "    </tr>\n",
       "    <tr>\n",
       "      <th>10 mA</th>\n",
       "      <td>41.60</td>\n",
       "      <td>10.4</td>\n",
       "      <td>79.04</td>\n",
       "      <td>10.4</td>\n",
       "      <td>95.68</td>\n",
       "      <td>10.4</td>\n",
       "      <td>124.80</td>\n",
       "      <td>10.4</td>\n",
       "      <td>192.4</td>\n",
       "      <td>13</td>\n",
       "      <td>256.0</td>\n",
       "      <td>16</td>\n",
       "      <td>432.0</td>\n",
       "      <td>27</td>\n",
       "      <td>814</td>\n",
       "      <td>55</td>\n",
       "    </tr>\n",
       "    <tr>\n",
       "      <th>20 mA</th>\n",
       "      <td>87.36</td>\n",
       "      <td>10.4</td>\n",
       "      <td>141.44</td>\n",
       "      <td>10.4</td>\n",
       "      <td>170.56</td>\n",
       "      <td>10.4</td>\n",
       "      <td>270.40</td>\n",
       "      <td>10.4</td>\n",
       "      <td>364.0</td>\n",
       "      <td>13</td>\n",
       "      <td>512.0</td>\n",
       "      <td>16</td>\n",
       "      <td>874.8</td>\n",
       "      <td>27</td>\n",
       "      <td>1650</td>\n",
       "      <td>55</td>\n",
       "    </tr>\n",
       "    <tr>\n",
       "      <th>30 mA</th>\n",
       "      <td>137.28</td>\n",
       "      <td>10.4</td>\n",
       "      <td>203.84</td>\n",
       "      <td>10.4</td>\n",
       "      <td>274.56</td>\n",
       "      <td>10.4</td>\n",
       "      <td>386.88</td>\n",
       "      <td>10.4</td>\n",
       "      <td>525.2</td>\n",
       "      <td>13</td>\n",
       "      <td>787.2</td>\n",
       "      <td>16</td>\n",
       "      <td>1285.2</td>\n",
       "      <td>27</td>\n",
       "      <td>2442</td>\n",
       "      <td>55</td>\n",
       "    </tr>\n",
       "    <tr>\n",
       "      <th>40 mA</th>\n",
       "      <td>191.36</td>\n",
       "      <td>10.4</td>\n",
       "      <td>253.76</td>\n",
       "      <td>10.4</td>\n",
       "      <td>374.40</td>\n",
       "      <td>10.4</td>\n",
       "      <td>520.00</td>\n",
       "      <td>10.4</td>\n",
       "      <td>702.0</td>\n",
       "      <td>13</td>\n",
       "      <td>1024.0</td>\n",
       "      <td>16</td>\n",
       "      <td>1728.0</td>\n",
       "      <td>27</td>\n",
       "      <td>3322</td>\n",
       "      <td>55</td>\n",
       "    </tr>\n",
       "    <tr>\n",
       "      <th>50 mA</th>\n",
       "      <td>228.80</td>\n",
       "      <td>10.4</td>\n",
       "      <td>332.80</td>\n",
       "      <td>10.4</td>\n",
       "      <td>474.24</td>\n",
       "      <td>10.4</td>\n",
       "      <td>653.12</td>\n",
       "      <td>10.4</td>\n",
       "      <td>884.0</td>\n",
       "      <td>13</td>\n",
       "      <td>1280.0</td>\n",
       "      <td>16</td>\n",
       "      <td>2160.0</td>\n",
       "      <td>27</td>\n",
       "      <td>4158</td>\n",
       "      <td>55</td>\n",
       "    </tr>\n",
       "    <tr>\n",
       "      <th>60 mA</th>\n",
       "      <td>266.24</td>\n",
       "      <td>10.4</td>\n",
       "      <td>416.00</td>\n",
       "      <td>10.4</td>\n",
       "      <td>569.92</td>\n",
       "      <td>10.4</td>\n",
       "      <td>790.40</td>\n",
       "      <td>10.4</td>\n",
       "      <td>1071.2</td>\n",
       "      <td>13</td>\n",
       "      <td>1536.0</td>\n",
       "      <td>16</td>\n",
       "      <td>2592.0</td>\n",
       "      <td>27</td>\n",
       "      <td>5214</td>\n",
       "      <td>55</td>\n",
       "    </tr>\n",
       "    <tr>\n",
       "      <th>70 mA</th>\n",
       "      <td>299.52</td>\n",
       "      <td>10.4</td>\n",
       "      <td>465.92</td>\n",
       "      <td>10.4</td>\n",
       "      <td>636.48</td>\n",
       "      <td>10.4</td>\n",
       "      <td>923.52</td>\n",
       "      <td>10.4</td>\n",
       "      <td>1248.0</td>\n",
       "      <td>13</td>\n",
       "      <td>1785.6</td>\n",
       "      <td>16</td>\n",
       "      <td>3002.4</td>\n",
       "      <td>27</td>\n",
       "      <td>5830</td>\n",
       "      <td>55</td>\n",
       "    </tr>\n",
       "    <tr>\n",
       "      <th>80 mA</th>\n",
       "      <td>353.60</td>\n",
       "      <td>10.4</td>\n",
       "      <td>540.80</td>\n",
       "      <td>10.4</td>\n",
       "      <td>736.32</td>\n",
       "      <td>10.4</td>\n",
       "      <td>1044.16</td>\n",
       "      <td>10.4</td>\n",
       "      <td>1419.6</td>\n",
       "      <td>13</td>\n",
       "      <td>2054.4</td>\n",
       "      <td>16</td>\n",
       "      <td>3369.6</td>\n",
       "      <td>27</td>\n",
       "      <td>6622</td>\n",
       "      <td>55</td>\n",
       "    </tr>\n",
       "    <tr>\n",
       "      <th>90 mA</th>\n",
       "      <td>407.68</td>\n",
       "      <td>10.4</td>\n",
       "      <td>619.84</td>\n",
       "      <td>10.4</td>\n",
       "      <td>823.68</td>\n",
       "      <td>10.4</td>\n",
       "      <td>1177.28</td>\n",
       "      <td>10.4</td>\n",
       "      <td>1612.0</td>\n",
       "      <td>13</td>\n",
       "      <td>2323.2</td>\n",
       "      <td>16</td>\n",
       "      <td>3790.8</td>\n",
       "      <td>27</td>\n",
       "      <td>7458</td>\n",
       "      <td>55</td>\n",
       "    </tr>\n",
       "  </tbody>\n",
       "</table>\n",
       "</div>"
      ],
      "text/plain": [
       "           1k  err_1k    1.5k  err_1.5k      2k  err_2k       3k  err_3k  \\\n",
       "0 mA     0.00    10.4    0.00      10.4    0.00    10.4     0.00    10.4   \n",
       "10 mA   41.60    10.4   79.04      10.4   95.68    10.4   124.80    10.4   \n",
       "20 mA   87.36    10.4  141.44      10.4  170.56    10.4   270.40    10.4   \n",
       "30 mA  137.28    10.4  203.84      10.4  274.56    10.4   386.88    10.4   \n",
       "40 mA  191.36    10.4  253.76      10.4  374.40    10.4   520.00    10.4   \n",
       "50 mA  228.80    10.4  332.80      10.4  474.24    10.4   653.12    10.4   \n",
       "60 mA  266.24    10.4  416.00      10.4  569.92    10.4   790.40    10.4   \n",
       "70 mA  299.52    10.4  465.92      10.4  636.48    10.4   923.52    10.4   \n",
       "80 mA  353.60    10.4  540.80      10.4  736.32    10.4  1044.16    10.4   \n",
       "90 mA  407.68    10.4  619.84      10.4  823.68    10.4  1177.28    10.4   \n",
       "\n",
       "           4k  err_4k      6k  err_6k     10k  err_10k   20k  err_20k  \n",
       "0 mA      0.0      13     0.0      16     0.0       27     0       55  \n",
       "10 mA   192.4      13   256.0      16   432.0       27   814       55  \n",
       "20 mA   364.0      13   512.0      16   874.8       27  1650       55  \n",
       "30 mA   525.2      13   787.2      16  1285.2       27  2442       55  \n",
       "40 mA   702.0      13  1024.0      16  1728.0       27  3322       55  \n",
       "50 mA   884.0      13  1280.0      16  2160.0       27  4158       55  \n",
       "60 mA  1071.2      13  1536.0      16  2592.0       27  5214       55  \n",
       "70 mA  1248.0      13  1785.6      16  3002.4       27  5830       55  \n",
       "80 mA  1419.6      13  2054.4      16  3369.6       27  6622       55  \n",
       "90 mA  1612.0      13  2323.2      16  3790.8       27  7458       55  "
      ]
     },
     "execution_count": 24,
     "metadata": {},
     "output_type": "execute_result"
    }
   ],
   "source": [
    "kalib_df.T"
   ]
  },
  {
   "cell_type": "code",
   "execution_count": 25,
   "metadata": {
    "collapsed": true
   },
   "outputs": [],
   "source": [
    "mod_lin = models.LinearModel()"
   ]
  },
  {
   "cell_type": "code",
   "execution_count": 26,
   "metadata": {
    "collapsed": false
   },
   "outputs": [],
   "source": [
    "list_with_fit_objects = []\n",
    "for i in range(0,16,2):\n",
    "    temp_para = mod_lin.guess(kalib_df.iloc[i],x=current)\n",
    "    temp_out_lin = mod_lin.fit(kalib_df.iloc[i],temp_para,x=current,weights=1/kalib_df.iloc[i+1])\n",
    "    list_with_fit_objects.append(copy.copy(temp_out_lin))\n",
    "    \n",
    "    # Ergeniss schön plotten\n",
    "    plt.errorbar(current,kalib_df.iloc[i],kalib_df.iloc[i+1],err_current,  'b x', label='Messdaten für ' + str(kalib_df.iloc[i].name) + r'$\\Omega$')\n",
    "    plt.plot(np.arange(-10,101,0.1),temp_out_lin.eval(x=np.arange(-10,101,0.1)), 'g-', label='Linearer Fit')\n",
    "    plt.xlabel('Strom/mA', fontsize=24)\n",
    "    plt.ylabel('Spannung/mV', fontsize=24)\n",
    "    plt.xticks(fontsize=16)\n",
    "    plt.yticks(fontsize=16)\n",
    "    plt.xlim([-10,100])\n",
    "    plt.legend(loc='best')\n",
    "    plt.show()"
   ]
  },
  {
   "cell_type": "code",
   "execution_count": 27,
   "metadata": {
    "collapsed": false
   },
   "outputs": [
    {
     "name": "stdout",
     "output_type": "stream",
     "text": [
      "\t\t\t\tFit für einen Widerstand von 1k\n",
      "[[Model]]\n",
      "    Model(linear)\n",
      "[[Fit Statistics]]\n",
      "    # function evals   = 6\n",
      "    # data points      = 10\n",
      "    # variables        = 2\n",
      "    chi-square         = 4.003\n",
      "    reduced chi-square = 0.500\n",
      "[[Variables]]\n",
      "    slope:       4.44741834 +/- 0.080993 (1.82%) (init= 4.447418)\n",
      "    intercept:   1.21017121 +/- 4.323862 (357.29%) (init= 1.210182)\n",
      "[[Correlations]] (unreported correlations are <  0.100)\n",
      "    C(slope, intercept)          = -0.843 \n",
      "\n",
      "\t\t\t\tFit für einen Widerstand von 1.5k\n",
      "[[Model]]\n",
      "    Model(linear)\n",
      "[[Fit Statistics]]\n",
      "    # function evals   = 6\n",
      "    # data points      = 10\n",
      "    # variables        = 2\n",
      "    chi-square         = 6.968\n",
      "    reduced chi-square = 0.871\n",
      "[[Variables]]\n",
      "    slope:       6.75684822 +/- 0.106861 (1.58%) (init= 6.756848)\n",
      "    intercept:   1.28583470 +/- 5.704869 (443.67%) (init= 1.285818)\n",
      "[[Correlations]] (unreported correlations are <  0.100)\n",
      "    C(slope, intercept)          = -0.843 \n",
      "\n"
     ]
    }
   ],
   "source": [
    "for fit,datensatz in zip(list_with_fit_objects,index[:4:2]):\n",
    "    print('\\t\\t\\t\\tFit für einen Widerstand von ' + datensatz)\n",
    "    print(fit.fit_report())"
   ]
  },
  {
   "cell_type": "code",
   "execution_count": 28,
   "metadata": {
    "collapsed": false
   },
   "outputs": [
    {
     "name": "stdout",
     "output_type": "stream",
     "text": [
      "\t\t\t\tFit für einen Widerstand von 2k\n",
      "[[Model]]\n",
      "    Model(linear)\n",
      "[[Fit Statistics]]\n",
      "    # function evals   = 6\n",
      "    # data points      = 10\n",
      "    # variables        = 2\n",
      "    chi-square         = 4.003\n",
      "    reduced chi-square = 0.500\n",
      "[[Variables]]\n",
      "    slope:       4.44741834 +/- 0.080993 (1.82%) (init= 4.447418)\n",
      "    intercept:   1.21017121 +/- 4.323862 (357.29%) (init= 1.210182)\n",
      "[[Correlations]] (unreported correlations are <  0.100)\n",
      "    C(slope, intercept)          = -0.843 \n",
      "\n",
      "\t\t\t\tFit für einen Widerstand von 3k\n",
      "[[Model]]\n",
      "    Model(linear)\n",
      "[[Fit Statistics]]\n",
      "    # function evals   = 6\n",
      "    # data points      = 10\n",
      "    # variables        = 2\n",
      "    chi-square         = 6.968\n",
      "    reduced chi-square = 0.871\n",
      "[[Variables]]\n",
      "    slope:       6.75684822 +/- 0.106861 (1.58%) (init= 6.756848)\n",
      "    intercept:   1.28583470 +/- 5.704869 (443.67%) (init= 1.285818)\n",
      "[[Correlations]] (unreported correlations are <  0.100)\n",
      "    C(slope, intercept)          = -0.843 \n",
      "\n"
     ]
    }
   ],
   "source": [
    "for fit,datensatz in zip(list_with_fit_objects,index[4:8:2]):\n",
    "    print('\\t\\t\\t\\tFit für einen Widerstand von ' + datensatz)\n",
    "    print(fit.fit_report())"
   ]
  },
  {
   "cell_type": "code",
   "execution_count": 29,
   "metadata": {
    "collapsed": false
   },
   "outputs": [
    {
     "name": "stdout",
     "output_type": "stream",
     "text": [
      "\t\t\t\tFit für einen Widerstand von 4k\n",
      "[[Model]]\n",
      "    Model(linear)\n",
      "[[Fit Statistics]]\n",
      "    # function evals   = 6\n",
      "    # data points      = 10\n",
      "    # variables        = 2\n",
      "    chi-square         = 4.003\n",
      "    reduced chi-square = 0.500\n",
      "[[Variables]]\n",
      "    slope:       4.44741834 +/- 0.080993 (1.82%) (init= 4.447418)\n",
      "    intercept:   1.21017121 +/- 4.323862 (357.29%) (init= 1.210182)\n",
      "[[Correlations]] (unreported correlations are <  0.100)\n",
      "    C(slope, intercept)          = -0.843 \n",
      "\n",
      "\t\t\t\tFit für einen Widerstand von 6k\n",
      "[[Model]]\n",
      "    Model(linear)\n",
      "[[Fit Statistics]]\n",
      "    # function evals   = 6\n",
      "    # data points      = 10\n",
      "    # variables        = 2\n",
      "    chi-square         = 6.968\n",
      "    reduced chi-square = 0.871\n",
      "[[Variables]]\n",
      "    slope:       6.75684822 +/- 0.106861 (1.58%) (init= 6.756848)\n",
      "    intercept:   1.28583470 +/- 5.704869 (443.67%) (init= 1.285818)\n",
      "[[Correlations]] (unreported correlations are <  0.100)\n",
      "    C(slope, intercept)          = -0.843 \n",
      "\n"
     ]
    }
   ],
   "source": [
    "for fit,datensatz in zip(list_with_fit_objects,index[8:12:2]):\n",
    "    print('\\t\\t\\t\\tFit für einen Widerstand von ' + datensatz)\n",
    "    print(fit.fit_report())"
   ]
  },
  {
   "cell_type": "code",
   "execution_count": 30,
   "metadata": {
    "collapsed": false
   },
   "outputs": [
    {
     "name": "stdout",
     "output_type": "stream",
     "text": [
      "\t\t\t\tFit für einen Widerstand von 10k\n",
      "[[Model]]\n",
      "    Model(linear)\n",
      "[[Fit Statistics]]\n",
      "    # function evals   = 6\n",
      "    # data points      = 10\n",
      "    # variables        = 2\n",
      "    chi-square         = 4.003\n",
      "    reduced chi-square = 0.500\n",
      "[[Variables]]\n",
      "    slope:       4.44741834 +/- 0.080993 (1.82%) (init= 4.447418)\n",
      "    intercept:   1.21017121 +/- 4.323862 (357.29%) (init= 1.210182)\n",
      "[[Correlations]] (unreported correlations are <  0.100)\n",
      "    C(slope, intercept)          = -0.843 \n",
      "\n",
      "\t\t\t\tFit für einen Widerstand von 20k\n",
      "[[Model]]\n",
      "    Model(linear)\n",
      "[[Fit Statistics]]\n",
      "    # function evals   = 6\n",
      "    # data points      = 10\n",
      "    # variables        = 2\n",
      "    chi-square         = 6.968\n",
      "    reduced chi-square = 0.871\n",
      "[[Variables]]\n",
      "    slope:       6.75684822 +/- 0.106861 (1.58%) (init= 6.756848)\n",
      "    intercept:   1.28583470 +/- 5.704869 (443.67%) (init= 1.285818)\n",
      "[[Correlations]] (unreported correlations are <  0.100)\n",
      "    C(slope, intercept)          = -0.843 \n",
      "\n"
     ]
    }
   ],
   "source": [
    "for fit,datensatz in zip(list_with_fit_objects,index[12:16:2]):\n",
    "    print('\\t\\t\\t\\tFit für einen Widerstand von ' + datensatz)\n",
    "    print(fit.fit_report())"
   ]
  },
  {
   "cell_type": "code",
   "execution_count": 31,
   "metadata": {
    "collapsed": true
   },
   "outputs": [],
   "source": [
    "widerstand = [1,1.5,2,3,4,6,10,20]\n",
    "empfindlichkeit = [4.4,6.8,9.2,13.11,17.8,25.7,42.2,83.5]\n",
    "err_empfindlichkeit = [0.8,0.1,0.1,0.06,0.1,0.1,0.3,0.9]"
   ]
  },
  {
   "cell_type": "code",
   "execution_count": 32,
   "metadata": {
    "collapsed": false
   },
   "outputs": [],
   "source": [
    "lin_guess = mod_lin.guess(empfindlichkeit,x=widerstand)\n",
    "lin_out = mod_lin.fit(empfindlichkeit,lin_guess,x=widerstand,weights=1/np.array(err_empfindlichkeit))"
   ]
  },
  {
   "cell_type": "code",
   "execution_count": 33,
   "metadata": {
    "collapsed": false
   },
   "outputs": [
    {
     "name": "stdout",
     "output_type": "stream",
     "text": [
      "[[Model]]\n",
      "    Model(linear)\n",
      "[[Fit Statistics]]\n",
      "    # function evals   = 8\n",
      "    # data points      = 8\n",
      "    # variables        = 2\n",
      "    chi-square         = 26.453\n",
      "    reduced chi-square = 4.409\n",
      "[[Variables]]\n",
      "    slope:       4.17623030 +/- 0.045334 (1.09%) (init= 4.144171)\n",
      "    intercept:   0.69214416 +/- 0.171782 (24.82%) (init= 0.7327361)\n",
      "[[Correlations]] (unreported correlations are <  0.100)\n",
      "    C(slope, intercept)          = -0.885 \n",
      "\n"
     ]
    }
   ],
   "source": [
    "print(lin_out.fit_report())"
   ]
  },
  {
   "cell_type": "code",
   "execution_count": 34,
   "metadata": {
    "collapsed": false
   },
   "outputs": [],
   "source": [
    "plt.errorbar(widerstand, empfindlichkeit,yerr=err_empfindlichkeit, fmt='b x', label='Gefittete Empfindlichkeiten')\n",
    "plt.plot(np.arange(0,21,0.1),lin_out.eval(x=np.arange(0,21,0.1)), 'g-', label='Linearer Fit')\n",
    "plt.xlabel(r'Widerstand/k$\\Omega$', fontsize=24)\n",
    "plt.ylabel('Empfindlichkeit A/V', fontsize=24)\n",
    "plt.xticks(fontsize=16)\n",
    "plt.yticks(fontsize=16)\n",
    "plt.xlim([0,21])\n",
    "plt.legend(loc='best')\n",
    "plt.show()"
   ]
  },
  {
   "cell_type": "markdown",
   "metadata": {},
   "source": [
    "## U-B-Diagramm erzeugen"
   ]
  },
  {
   "cell_type": "code",
   "execution_count": 35,
   "metadata": {
    "collapsed": false
   },
   "outputs": [],
   "source": [
    "# in \\mu Tesla, daher der Faktor 10**6\n",
    "b_in_abhängigkeit_von_i = calc_B(r,abstand,current/1000)"
   ]
  },
  {
   "cell_type": "code",
   "execution_count": 36,
   "metadata": {
    "collapsed": false
   },
   "outputs": [
    {
     "data": {
      "text/plain": [
       "array([ 0.        ,  0.00512992,  0.01025984,  0.01538976,  0.02051969,\n",
       "        0.02564961,  0.03077953,  0.03590945,  0.04103937,  0.04616929])"
      ]
     },
     "execution_count": 36,
     "metadata": {},
     "output_type": "execute_result"
    }
   ],
   "source": [
    "b_in_abhängigkeit_von_i*10**6"
   ]
  },
  {
   "cell_type": "code",
   "execution_count": 37,
   "metadata": {
    "collapsed": false
   },
   "outputs": [],
   "source": [
    "delta_b_in_abhängigkeit_von_i = calc_delta_B(r,abstand,current,err_r,err_abstand/1000)"
   ]
  },
  {
   "cell_type": "code",
   "execution_count": 65,
   "metadata": {
    "collapsed": false
   },
   "outputs": [
    {
     "data": {
      "text/plain": [
       "array([  0.00000000e+00,   5.04079405e-07,   1.00815881e-06,\n",
       "         1.51223822e-06,   2.01631762e-06,   2.52039703e-06,\n",
       "         3.02447643e-06,   3.52855584e-06,   4.03263524e-06,\n",
       "         4.53671465e-06])"
      ]
     },
     "execution_count": 65,
     "metadata": {},
     "output_type": "execute_result"
    }
   ],
   "source": [
    "delta_b_in_abhängigkeit_von_i"
   ]
  },
  {
   "cell_type": "code",
   "execution_count": 39,
   "metadata": {
    "collapsed": false
   },
   "outputs": [],
   "source": [
    "plt.errorbar(kalib_df.ix['20k']/1000,b_in_abhängigkeit_von_i*10**6,delta_b_in_abhängigkeit_von_i*10**3, fmt=' x')\n",
    "plt.show()"
   ]
  },
  {
   "cell_type": "code",
   "execution_count": 40,
   "metadata": {
    "collapsed": true
   },
   "outputs": [],
   "source": [
    "def invers_lin(x,a,b):\n",
    "    return (x-b)/a"
   ]
  },
  {
   "cell_type": "code",
   "execution_count": 53,
   "metadata": {
    "collapsed": false
   },
   "outputs": [],
   "source": [
    "mod_invers_lin = models.Model(invers_lin)\n",
    "pars_invers_lin = mod_invers_lin.make_params()\n",
    "pars_invers_lin['a'].set(160)\n",
    "pars_invers_lin['b'].set(0)\n",
    "out_invers_lin = mod_invers_lin.fit(b_in_abhängigkeit_von_i*10**6,pars_invers_lin,x=kalib_df.ix['20k']/1000)"
   ]
  },
  {
   "cell_type": "code",
   "execution_count": 54,
   "metadata": {
    "collapsed": false
   },
   "outputs": [
    {
     "name": "stdout",
     "output_type": "stream",
     "text": [
      "[[Model]]\n",
      "    Model(invers_lin)\n",
      "[[Fit Statistics]]\n",
      "    # function evals   = 12\n",
      "    # data points      = 10\n",
      "    # variables        = 2\n",
      "    chi-square         = 0.000\n",
      "    reduced chi-square = 0.000\n",
      "[[Variables]]\n",
      "    a:   162.986680 +/- 1.755798 (1.08%) (init= 160)\n",
      "    b:  -0.01148986 +/- 0.048078 (418.44%) (init= 0)\n",
      "[[Correlations]] (unreported correlations are <  0.100)\n",
      "    C(a, b)                      = -0.843 \n",
      "\n"
     ]
    }
   ],
   "source": [
    "print(out_invers_lin.fit_report())"
   ]
  },
  {
   "cell_type": "code",
   "execution_count": 73,
   "metadata": {
    "collapsed": false
   },
   "outputs": [],
   "source": [
    "plt.plot(kalib_df.ix['20k']/1000,out_invers_lin.eval(), label='Fit')\n",
    "plt.errorbar(kalib_df.ix['20k']/1000,b_in_abhängigkeit_von_i*10**6,yerr=delta_b_in_abhängigkeit_von_i*10**3,fmt=' x', label='Messdaten')\n",
    "plt.xlabel(r'B / $\\mu$T', fontsize=24)\n",
    "plt.ylabel('Spannung / V', fontsize=24)\n",
    "plt.xticks(fontsize=16)\n",
    "plt.yticks(fontsize=16)\n",
    "plt.legend(loc='best')\n",
    "plt.show()"
   ]
  },
  {
   "cell_type": "code",
   "execution_count": 80,
   "metadata": {
    "collapsed": false
   },
   "outputs": [
    {
     "data": {
      "text/plain": [
       "0.02773006134969325"
      ]
     },
     "execution_count": 80,
     "metadata": {},
     "output_type": "execute_result"
    }
   ],
   "source": [
    "1/163*4.52"
   ]
  },
  {
   "cell_type": "code",
   "execution_count": 85,
   "metadata": {
    "collapsed": false
   },
   "outputs": [
    {
     "data": {
      "text/plain": [
       "0.05521472405466206"
      ]
     },
     "execution_count": 85,
     "metadata": {},
     "output_type": "execute_result"
    }
   ],
   "source": [
    "(((4.5*2)/163)**2+(0.1/(163**2))**2)**0.5"
   ]
  },
  {
   "cell_type": "code",
   "execution_count": 89,
   "metadata": {
    "collapsed": true
   },
   "outputs": [],
   "source": [
    "def mu(z_6,z_13,d,delta_b):\n",
    "    factor = 4*constants.pi/constants.mu_0\n",
    "    upper = (z_13**2+d**2)**(5/2)*(z_6**2+d**2)**(5/2)\n",
    "    lower = (2*z_13**2-d**2)*(z_6**2+d**2)**(5/2) - (2*z_6**2-d**2)*(z_13**2+d**2)**(5/2)\n",
    "    return factor*delta_b*(upper/lower)"
   ]
  },
  {
   "cell_type": "code",
   "execution_count": 95,
   "metadata": {
    "collapsed": false
   },
   "outputs": [
    {
     "data": {
      "text/plain": [
       "-2295.2768194902696"
      ]
     },
     "execution_count": 95,
     "metadata": {},
     "output_type": "execute_result"
    }
   ],
   "source": [
    "mu(-4*5,2*4,12,0.0277*10**-6)"
   ]
  },
  {
   "cell_type": "code",
   "execution_count": null,
   "metadata": {
    "collapsed": true
   },
   "outputs": [],
   "source": []
  }
 ],
 "metadata": {
  "kernelspec": {
   "display_name": "Python 3",
   "language": "python",
   "name": "python3"
  },
  "language_info": {
   "codemirror_mode": {
    "name": "ipython",
    "version": 3
   },
   "file_extension": ".py",
   "mimetype": "text/x-python",
   "name": "python",
   "nbconvert_exporter": "python",
   "pygments_lexer": "ipython3",
   "version": "3.5.1"
  }
 },
 "nbformat": 4,
 "nbformat_minor": 0
}
