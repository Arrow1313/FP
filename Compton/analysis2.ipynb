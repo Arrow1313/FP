{
 "cells": [
  {
   "cell_type": "code",
   "execution_count": 1,
   "metadata": {
    "collapsed": false
   },
   "outputs": [
    {
     "name": "stderr",
     "output_type": "stream",
     "text": [
      "/home/arrow13/anaconda3/lib/python3.4/site-packages/IPython/html.py:14: ShimWarning: The `IPython.html` package has been deprecated. You should import from `notebook` instead. `IPython.html.widgets` has moved to `ipywidgets`.\n",
      "  \"`IPython.html.widgets` has moved to `ipywidgets`.\", ShimWarning)\n"
     ]
    }
   ],
   "source": [
    "import matplotlib.pyplot as plt\n",
    "import numpy as np\n",
    "import pandas as pd\n",
    "from lmfit.models import GaussianModel, LinearModel, ExponentialModel, Model"
   ]
  },
  {
   "cell_type": "markdown",
   "metadata": {
    "collapsed": true
   },
   "source": [
    "# Kalibrierung"
   ]
  },
  {
   "cell_type": "code",
   "execution_count": 2,
   "metadata": {
    "collapsed": false
   },
   "outputs": [],
   "source": [
    "untergrund = pd.read_csv(\"Messdaten/kalibrierung/kallibrierung_untergrund.csv\", header=14, delim_whitespace=True, names=['rate','error'], index_col=0)\n",
    "am = pd.read_csv(\"Messdaten/kalibrierung/kallibrierung_Am.csv\", header=14, delim_whitespace=True, names=['rate','error'], index_col=0)\n",
    "ba = pd.read_csv(\"Messdaten/kalibrierung/kallibrierung_Ba.csv\", header=14, delim_whitespace=True, names=['rate','error'], index_col=0)\n",
    "cs = pd.read_csv(\"Messdaten/kalibrierung/kallibrierung_Cs.csv\", header=14, delim_whitespace=True, names=['rate','error'], index_col=0)"
   ]
  },
  {
   "cell_type": "code",
   "execution_count": 3,
   "metadata": {
    "collapsed": true
   },
   "outputs": [],
   "source": [
    "x = np.arange(0,2048)"
   ]
  },
  {
   "cell_type": "code",
   "execution_count": 4,
   "metadata": {
    "collapsed": false
   },
   "outputs": [
    {
     "name": "stderr",
     "output_type": "stream",
     "text": [
      "/home/arrow13/anaconda3/lib/python3.4/site-packages/matplotlib/axes/_axes.py:475: UserWarning: No labelled objects found. Use label='...' kwarg on individual plots.\n",
      "  warnings.warn(\"No labelled objects found. \"\n"
     ]
    }
   ],
   "source": [
    "plt.errorbar(x,untergrund.rate,yerr=untergrund.error, fmt=' .g')\n",
    "plt.xlim([0,2050])\n",
    "plt.xlabel(\"Kanal\",fontsize=24)\n",
    "plt.ylabel(\"Counts\",fontsize=24)\n",
    "plt.xticks(fontsize=18)\n",
    "plt.yticks(fontsize=18)\n",
    "plt.legend(loc='best',fontsize=24)\n",
    "plt.show()"
   ]
  },
  {
   "cell_type": "code",
   "execution_count": 5,
   "metadata": {
    "collapsed": false
   },
   "outputs": [],
   "source": [
    "plt.plot(am.rate-untergrund.rate, ' .', label=\"Messdaten\")\n",
    "plt.legend(loc=\"best\")\n",
    "plt.show()"
   ]
  },
  {
   "cell_type": "code",
   "execution_count": 6,
   "metadata": {
    "collapsed": true
   },
   "outputs": [],
   "source": [
    "plt.plot(ba.rate-untergrund.rate, ' .')\n",
    "plt.show()"
   ]
  },
  {
   "cell_type": "code",
   "execution_count": 7,
   "metadata": {
    "collapsed": true
   },
   "outputs": [],
   "source": [
    "plt.plot(cs.rate-untergrund.rate, ' .')\n",
    "plt.show()"
   ]
  },
  {
   "cell_type": "markdown",
   "metadata": {},
   "source": [
    "## Fit der Am Daten"
   ]
  },
  {
   "cell_type": "code",
   "execution_count": 8,
   "metadata": {
    "collapsed": true
   },
   "outputs": [],
   "source": [
    "x = np.arange(0,2048)"
   ]
  },
  {
   "cell_type": "code",
   "execution_count": 9,
   "metadata": {
    "collapsed": true
   },
   "outputs": [],
   "source": [
    "gauss_0 = GaussianModel(prefix=\"gauss_0_\")\n",
    "gauss_1 = GaussianModel(prefix=\"gauss_1_\")\n",
    "gauss_2 = GaussianModel(prefix=\"gauss_2_\")\n",
    "gauss_3 = GaussianModel(prefix=\"gauss_3_\")\n",
    "gauss_4 = GaussianModel(prefix=\"gauss_4_\")\n",
    "gauss_5 = GaussianModel(prefix=\"gauss_5_\")\n",
    "gauss_6 = GaussianModel(prefix=\"gauss_6_\")"
   ]
  },
  {
   "cell_type": "code",
   "execution_count": 10,
   "metadata": {
    "collapsed": false
   },
   "outputs": [],
   "source": [
    "pars_am_1 = gauss_1.guess(am.rate,x=x)\n",
    "pars_am_1.update(gauss_2.make_params())\n",
    "pars_am_1.update(gauss_3.make_params())\n",
    "pars_am_1.update(gauss_4.make_params())\n",
    "pars_am_1.update(gauss_0.make_params())\n",
    "pars_am_2 = gauss_5.guess(am.rate,x=x)\n",
    "pars_am_2.update(gauss_6.make_params())"
   ]
  },
  {
   "cell_type": "code",
   "execution_count": 11,
   "metadata": {
    "collapsed": false
   },
   "outputs": [],
   "source": [
    "# controll the center\n",
    "pars_am_1['gauss_0_center'].set(50, min=48, max=52)\n",
    "pars_am_1['gauss_1_center'].set(65, min=63, max=68)\n",
    "pars_am_1['gauss_2_center'].set(77, min=74, max=80)\n",
    "pars_am_1['gauss_3_center'].set(98, min=95, max=101)\n",
    "pars_am_1['gauss_4_center'].set(111, min=108, max=114)\n",
    "pars_am_2['gauss_5_center'].set(181, min=178, max=184)\n",
    "pars_am_2['gauss_6_center'].set(213, min=207, max=219)\n",
    "# controll the amplitude\n",
    "pars_am_1['gauss_0_amplitude'].set(130*13)#, min=48, max=52)\n",
    "pars_am_1['gauss_1_amplitude'].set(440*13)#, min=430*2.5, max=440*2.5)\n",
    "pars_am_1['gauss_2_amplitude'].set(300*13)#, min=290*2.5, max=310*2.5)\n",
    "pars_am_1['gauss_3_amplitude'].set(310*13)#, min=300*2.5, max=320*2.5)\n",
    "pars_am_1['gauss_4_amplitude'].set(380*13)#, min=370*2.5, max=390*2.5)\n",
    "pars_am_2['gauss_5_amplitude'].set(500*13)#, min=490*2.5, max=510*2.5)\n",
    "pars_am_2['gauss_6_amplitude'].set(2500*13)#, min=2400*2.5, max=2600*2.5)\n",
    "# controll sigma\n",
    "pars_am_1['gauss_0_sigma'].set(1, min=0, max=5)\n",
    "pars_am_1['gauss_1_sigma'].set(5, min=1, max=68)\n",
    "pars_am_1['gauss_2_sigma'].set(5, min=1, max=80)\n",
    "pars_am_1['gauss_3_sigma'].set(5, min=1, max=101)\n",
    "pars_am_1['gauss_4_sigma'].set(5, min=1, max=114)\n",
    "pars_am_2['gauss_5_sigma'].set(5, min=1, max=184)\n",
    "pars_am_2['gauss_6_sigma'].set(5, min=1, max=219)"
   ]
  },
  {
   "cell_type": "code",
   "execution_count": 12,
   "metadata": {
    "collapsed": true
   },
   "outputs": [],
   "source": [
    "mod_gauss_am_1 = gauss_1 + gauss_2 + gauss_3 + gauss_4 + gauss_0"
   ]
  },
  {
   "cell_type": "code",
   "execution_count": 13,
   "metadata": {
    "collapsed": false
   },
   "outputs": [],
   "source": [
    "out_gauss_am_1 = mod_gauss_am_1.fit(am.rate[40:130]-untergrund.rate[40:130],x=x[40:130],params=pars_am_1,weights=1/(am.error[40:130]))"
   ]
  },
  {
   "cell_type": "code",
   "execution_count": 14,
   "metadata": {
    "collapsed": true
   },
   "outputs": [],
   "source": [
    "plt.plot(x,out_gauss_am_1.eval(x=np.arange(0,2048)), '-g')\n",
    "plt.errorbar(x,am.rate-untergrund.rate, yerr=am.error, fmt=' .r')\n",
    "plt.show()"
   ]
  },
  {
   "cell_type": "code",
   "execution_count": 15,
   "metadata": {
    "collapsed": false
   },
   "outputs": [
    {
     "name": "stdout",
     "output_type": "stream",
     "text": [
      "[[Model]]\n",
      "    ((((Model(gaussian, prefix='gauss_1_') + Model(gaussian, prefix='gauss_2_')) + Model(gaussian, prefix='gauss_3_')) + Model(gaussian, prefix='gauss_4_')) + Model(gaussian, prefix='gauss_0_'))\n",
      "[[Fit Statistics]]\n",
      "    # function evals   = 215\n",
      "    # data points      = 90\n",
      "    # variables        = 15\n",
      "    chi-square         = 86.581\n",
      "    reduced chi-square = 1.154\n",
      "[[Variables]]\n",
      "    gauss_1_center:      64.5491639 +/- 0.452557 (0.70%) (init= 65)\n",
      "    gauss_1_sigma:       4.84841725 +/- 0.444423 (9.17%) (init= 5)\n",
      "    gauss_1_amplitude:   4871.27167 +/- 649.3600 (13.33%) (init= 5720)\n",
      "    gauss_1_fwhm:        11.4171499 +/- 1.046538 (9.17%)  == '2.3548200*gauss_1_sigma'\n",
      "    gauss_2_sigma:       5.50873442 +/- 0.729373 (13.24%) (init= 5)\n",
      "    gauss_2_amplitude:   3939.85307 +/- 652.0800 (16.55%) (init= 3900)\n",
      "    gauss_2_center:      77.2652555 +/- 0.717170 (0.93%) (init= 77)\n",
      "    gauss_2_fwhm:        12.9720780 +/- 1.717542 (13.24%)  == '2.3548200*gauss_2_sigma'\n",
      "    gauss_3_center:      96.1595109 +/- 0.374227 (0.39%) (init= 98)\n",
      "    gauss_3_amplitude:   4451.26286 +/- 427.6381 (9.61%) (init= 4030)\n",
      "    gauss_3_sigma:       5.90009815 +/- 0.512101 (8.68%) (init= 5)\n",
      "    gauss_3_fwhm:        13.8936691 +/- 1.205906 (8.68%)  == '2.3548200*gauss_3_sigma'\n",
      "    gauss_4_center:      112.029957 +/- 0.428070 (0.38%) (init= 111)\n",
      "    gauss_4_sigma:       6.34840477 +/- 0.241477 (3.80%) (init= 5)\n",
      "    gauss_4_amplitude:   5577.08396 +/- 315.1638 (5.65%) (init= 4940)\n",
      "    gauss_4_fwhm:        14.9493505 +/- 0.568636 (3.80%)  == '2.3548200*gauss_4_sigma'\n",
      "    gauss_0_center:      50.4548276 +/- 0.700325 (1.39%) (init= 50)\n",
      "    gauss_0_sigma:       4.99999998 +/- 0.444740 (8.89%) (init= 1)\n",
      "    gauss_0_amplitude:   1422.88035 +/- 173.2254 (12.17%) (init= 1690)\n",
      "    gauss_0_fwhm:        11.7740999 +/- 1.047283 (8.89%)  == '2.3548200*gauss_0_sigma'\n",
      "[[Correlations]] (unreported correlations are <  0.100)\n",
      "    C(gauss_2_sigma, gauss_2_amplitude)  =  0.972 \n",
      "    C(gauss_1_sigma, gauss_1_amplitude)  =  0.956 \n",
      "    C(gauss_3_amplitude, gauss_3_sigma)  =  0.955 \n",
      "    C(gauss_1_amplitude, gauss_2_amplitude)  = -0.949 \n",
      "    C(gauss_0_center, gauss_0_amplitude)  =  0.936 \n",
      "    C(gauss_4_center, gauss_4_amplitude)  = -0.936 \n",
      "    C(gauss_1_amplitude, gauss_2_center)  =  0.935 \n",
      "    C(gauss_3_amplitude, gauss_4_amplitude)  = -0.914 \n",
      "    C(gauss_1_center, gauss_2_amplitude)  = -0.911 \n",
      "    C(gauss_3_amplitude, gauss_4_center)  =  0.907 \n",
      "    C(gauss_1_amplitude, gauss_2_sigma)  = -0.897 \n",
      "    C(gauss_4_center, gauss_4_sigma)  = -0.894 \n",
      "    C(gauss_1_sigma, gauss_2_center)  =  0.894 \n",
      "    C(gauss_0_sigma, gauss_0_amplitude)  = -0.892 \n",
      "    C(gauss_2_amplitude, gauss_2_center)  = -0.891 \n",
      "    C(gauss_1_center, gauss_2_sigma)  = -0.890 \n",
      "    C(gauss_0_center, gauss_0_sigma)  = -0.880 \n",
      "    C(gauss_1_center, gauss_2_center)  =  0.879 \n",
      "    C(gauss_4_sigma, gauss_4_amplitude)  =  0.879 \n",
      "    C(gauss_1_sigma, gauss_2_amplitude)  = -0.870 \n",
      "    C(gauss_3_sigma, gauss_4_amplitude)  = -0.865 \n",
      "    C(gauss_3_sigma, gauss_4_center)  =  0.842 \n",
      "    C(gauss_1_center, gauss_1_amplitude)  =  0.840 \n",
      "    C(gauss_1_sigma, gauss_0_amplitude)  = -0.833 \n",
      "    C(gauss_2_sigma, gauss_2_center)  = -0.829 \n",
      "    C(gauss_3_amplitude, gauss_4_sigma)  = -0.820 \n",
      "    C(gauss_1_sigma, gauss_0_center)  = -0.813 \n",
      "    C(gauss_1_sigma, gauss_2_sigma)  = -0.784 \n",
      "    C(gauss_3_center, gauss_4_center)  =  0.769 \n",
      "    C(gauss_1_amplitude, gauss_0_amplitude)  = -0.757 \n",
      "    C(gauss_3_center, gauss_4_sigma)  = -0.748 \n",
      "    C(gauss_3_center, gauss_4_amplitude)  = -0.747 \n",
      "    C(gauss_1_center, gauss_1_sigma)  =  0.742 \n",
      "    C(gauss_1_amplitude, gauss_0_center)  = -0.739 \n",
      "    C(gauss_3_sigma, gauss_4_sigma)  = -0.725 \n",
      "    C(gauss_1_sigma, gauss_0_sigma)  =  0.690 \n",
      "    C(gauss_2_sigma, gauss_3_sigma)  = -0.685 \n",
      "    C(gauss_2_sigma, gauss_3_amplitude)  = -0.661 \n",
      "    C(gauss_2_amplitude, gauss_3_sigma)  = -0.643 \n",
      "    C(gauss_2_center, gauss_0_amplitude)  = -0.631 \n",
      "    C(gauss_1_amplitude, gauss_0_sigma)  =  0.629 \n",
      "    C(gauss_2_amplitude, gauss_3_amplitude)  = -0.621 \n",
      "    C(gauss_2_center, gauss_0_center)  = -0.608 \n",
      "    C(gauss_2_amplitude, gauss_0_amplitude)  =  0.595 \n",
      "    C(gauss_3_center, gauss_3_amplitude)  =  0.579 \n",
      "    C(gauss_2_amplitude, gauss_0_center)  =  0.573 \n",
      "    C(gauss_1_center, gauss_3_sigma)  =  0.511 \n",
      "    C(gauss_2_sigma, gauss_0_amplitude)  =  0.509 \n",
      "    C(gauss_1_center, gauss_3_amplitude)  =  0.498 \n",
      "    C(gauss_2_center, gauss_0_sigma)  =  0.495 \n",
      "    C(gauss_1_amplitude, gauss_3_sigma)  =  0.495 \n",
      "    C(gauss_2_sigma, gauss_0_center)  =  0.488 \n",
      "    C(gauss_3_center, gauss_3_sigma)  =  0.487 \n",
      "    C(gauss_1_amplitude, gauss_3_amplitude)  =  0.483 \n",
      "    C(gauss_2_sigma, gauss_4_amplitude)  =  0.465 \n",
      "    C(gauss_2_amplitude, gauss_0_sigma)  = -0.464 \n",
      "    C(gauss_2_sigma, gauss_4_center)  = -0.439 \n",
      "    C(gauss_2_amplitude, gauss_4_amplitude)  =  0.438 \n",
      "    C(gauss_2_amplitude, gauss_4_center)  = -0.414 \n",
      "    C(gauss_1_sigma, gauss_3_sigma)  =  0.395 \n",
      "    C(gauss_2_sigma, gauss_0_sigma)  = -0.392 \n",
      "    C(gauss_1_sigma, gauss_3_amplitude)  =  0.388 \n",
      "    C(gauss_2_sigma, gauss_4_sigma)  =  0.355 \n",
      "    C(gauss_1_center, gauss_0_amplitude)  = -0.349 \n",
      "    C(gauss_1_center, gauss_4_amplitude)  = -0.336 \n",
      "    C(gauss_2_amplitude, gauss_4_sigma)  =  0.335 \n",
      "    C(gauss_1_amplitude, gauss_4_amplitude)  = -0.324 \n",
      "    C(gauss_2_center, gauss_3_amplitude)  =  0.323 \n",
      "    C(gauss_2_center, gauss_3_sigma)  =  0.321 \n",
      "    C(gauss_1_center, gauss_0_center)  = -0.321 \n",
      "    C(gauss_1_center, gauss_4_center)  =  0.316 \n",
      "    C(gauss_1_amplitude, gauss_4_center)  =  0.305 \n",
      "    C(gauss_1_sigma, gauss_4_amplitude)  = -0.255 \n",
      "    C(gauss_1_center, gauss_4_sigma)  = -0.254 \n",
      "    C(gauss_1_amplitude, gauss_4_sigma)  = -0.244 \n",
      "    C(gauss_1_sigma, gauss_4_center)  =  0.240 \n",
      "    C(gauss_3_sigma, gauss_0_amplitude)  = -0.235 \n",
      "    C(gauss_3_amplitude, gauss_0_amplitude)  = -0.232 \n",
      "    C(gauss_3_sigma, gauss_0_center)  = -0.224 \n",
      "    C(gauss_3_amplitude, gauss_0_center)  = -0.222 \n",
      "    C(gauss_1_center, gauss_0_sigma)  =  0.212 \n",
      "    C(gauss_1_sigma, gauss_4_sigma)  = -0.192 \n",
      "    C(gauss_2_center, gauss_4_amplitude)  = -0.187 \n",
      "    C(gauss_3_sigma, gauss_0_sigma)  =  0.177 \n",
      "    C(gauss_3_amplitude, gauss_0_sigma)  =  0.175 \n",
      "    C(gauss_2_center, gauss_4_center)  =  0.174 \n",
      "    C(gauss_4_amplitude, gauss_0_amplitude)  =  0.150 \n",
      "    C(gauss_4_amplitude, gauss_0_center)  =  0.143 \n",
      "    C(gauss_4_center, gauss_0_amplitude)  = -0.141 \n",
      "    C(gauss_2_center, gauss_4_sigma)  = -0.135 \n",
      "    C(gauss_4_center, gauss_0_center)  = -0.134 \n",
      "    C(gauss_2_center, gauss_3_center)  = -0.126 \n",
      "    C(gauss_4_amplitude, gauss_0_sigma)  = -0.112 \n",
      "    C(gauss_4_sigma, gauss_0_amplitude)  =  0.112 \n",
      "    C(gauss_4_sigma, gauss_0_center)  =  0.107 \n",
      "    C(gauss_4_center, gauss_0_sigma)  =  0.106 \n"
     ]
    }
   ],
   "source": [
    "print(out_gauss_am_1.fit_report())"
   ]
  },
  {
   "cell_type": "code",
   "execution_count": 16,
   "metadata": {
    "collapsed": true
   },
   "outputs": [],
   "source": [
    "mod_gauss_am_2 = gauss_5 + gauss_6"
   ]
  },
  {
   "cell_type": "code",
   "execution_count": 17,
   "metadata": {
    "collapsed": false
   },
   "outputs": [],
   "source": [
    "out_gauss_am_2 = mod_gauss_am_2.fit(am.rate[165:240]-untergrund.rate[165:240],x=x[165:240],params=pars_am_2,weights=1/am.error[165:240])"
   ]
  },
  {
   "cell_type": "code",
   "execution_count": 18,
   "metadata": {
    "collapsed": false
   },
   "outputs": [],
   "source": [
    "plt.plot(x,out_gauss_am_2.eval(x=x), '-g')\n",
    "plt.errorbar(x,am.rate-untergrund.rate, yerr=am.error, fmt=' .r')\n",
    "plt.show()"
   ]
  },
  {
   "cell_type": "code",
   "execution_count": 19,
   "metadata": {
    "collapsed": false
   },
   "outputs": [
    {
     "name": "stdout",
     "output_type": "stream",
     "text": [
      "[[Model]]\n",
      "    (Model(gaussian, prefix='gauss_5_') + Model(gaussian, prefix='gauss_6_'))\n",
      "[[Fit Statistics]]\n",
      "    # function evals   = 99\n",
      "    # data points      = 75\n",
      "    # variables        = 6\n",
      "    chi-square         = 115.754\n",
      "    reduced chi-square = 1.678\n",
      "[[Variables]]\n",
      "    gauss_5_amplitude:   16761.1470 +/- 0        (0.00%) (init= 6500)\n",
      "    gauss_5_center:      184        +/- 0        (0.00%) (init= 181)\n",
      "    gauss_5_sigma:       13.6749514 +/- 0        (0.00%) (init= 5)\n",
      "    gauss_5_fwhm:        32.2020491 +/- 0        (0.00%)  == '2.3548200*gauss_5_sigma'\n",
      "    gauss_6_sigma:       8.56075034 +/- 0        (0.00%) (init= 5)\n",
      "    gauss_6_amplitude:   52316.5173 +/- 0        (0.00%) (init= 32500)\n",
      "    gauss_6_center:      213.627553 +/- 0        (0.00%) (init= 213)\n",
      "    gauss_6_fwhm:        20.1590261 +/- 0        (0.00%)  == '2.3548200*gauss_6_sigma'\n",
      "[[Correlations]] (unreported correlations are <  0.100)\n"
     ]
    }
   ],
   "source": [
    "print(out_gauss_am_2.fit_report())"
   ]
  },
  {
   "cell_type": "markdown",
   "metadata": {},
   "source": [
    "## Fit der Ba Daten"
   ]
  },
  {
   "cell_type": "code",
   "execution_count": 20,
   "metadata": {
    "collapsed": true
   },
   "outputs": [],
   "source": [
    "gauss_0 = GaussianModel(prefix=\"gauss_0_\")\n",
    "gauss_1 = GaussianModel(prefix=\"gauss_1_\")\n",
    "gauss_2 = GaussianModel(prefix=\"gauss_2_\")\n",
    "gauss_3 = GaussianModel(prefix=\"gauss_3_\")\n",
    "gauss_4 = GaussianModel(prefix=\"gauss_4_\")\n",
    "gauss_5 = GaussianModel(prefix=\"gauss_5_\")\n",
    "gauss_6 = GaussianModel(prefix=\"gauss_6_\")"
   ]
  },
  {
   "cell_type": "code",
   "execution_count": 21,
   "metadata": {
    "collapsed": false
   },
   "outputs": [],
   "source": [
    "pars_ba_1 = gauss_1.guess(ba.rate,x=x)\n",
    "pars_ba_2 = gauss_2.guess(ba.rate,x=x)\n",
    "pars_ba_2.update(gauss_0.make_params())\n",
    "pars_ba_3 = gauss_3.guess(ba.rate,x=x)\n",
    "pars_ba_3.update(gauss_4.make_params())\n",
    "pars_ba_4 = gauss_5.guess(ba.rate,x=x)"
   ]
  },
  {
   "cell_type": "code",
   "execution_count": 22,
   "metadata": {
    "collapsed": false
   },
   "outputs": [],
   "source": [
    "# controll the center\n",
    "pars_ba_1['gauss_1_center'].set(20, min=10, max=25)\n",
    "pars_ba_2['gauss_2_center'].set(112, min=100, max=120)\n",
    "pars_ba_2['gauss_0_center'].set(125, min=120, max=130)\n",
    "pars_ba_3['gauss_3_center'].set(228, min=210, max=235)\n",
    "pars_ba_3['gauss_4_center'].set(286, min=270, max=300)\n",
    "pars_ba_4['gauss_5_center'].set(1182, min=1150, max=1200)\n",
    "# controll the amplitude\n",
    "pars_ba_1['gauss_1_amplitude'].set(440*13, min=0)#, max=440*2.5)\n",
    "pars_ba_2['gauss_2_amplitude'].set(300, min=0)#, max=310*2.5)\n",
    "pars_ba_2['gauss_0_amplitude'].set(125, min=0)#, max=130)\n",
    "pars_ba_3['gauss_3_amplitude'].set(310*13, min=0)#, max=320*2.5)\n",
    "pars_ba_3['gauss_4_amplitude'].set(380*13, min=0)#, max=390*2.5)\n",
    "pars_ba_4['gauss_5_amplitude'].set(500*13, min=0)#, max=510*2.5)\n",
    "# controll sigma\n",
    "pars_ba_1['gauss_1_sigma'].set(5, min=1, max=68)\n",
    "pars_ba_2['gauss_2_sigma'].set(5, min=1, max=80)\n",
    "pars_ba_3['gauss_3_sigma'].set(5, min=1, max=101)\n",
    "pars_ba_3['gauss_4_sigma'].set(5, min=1, max=114)\n",
    "pars_ba_4['gauss_5_sigma'].set(5, min=1, max=184)"
   ]
  },
  {
   "cell_type": "code",
   "execution_count": 23,
   "metadata": {
    "collapsed": false
   },
   "outputs": [],
   "source": [
    "mod_ba_1 = gauss_1\n",
    "out_ba_1 = mod_ba_1.fit(ba.rate[15:25]-untergrund.rate[15:25],params=pars_ba_1,x=x[15:25],weights=1/ba.error[15:25])"
   ]
  },
  {
   "cell_type": "code",
   "execution_count": 24,
   "metadata": {
    "collapsed": false
   },
   "outputs": [],
   "source": [
    "plt.plot(x,out_ba_1.eval(x=x), '-g')\n",
    "plt.errorbar(x,ba.rate-untergrund.rate, yerr=ba.error, fmt=' .r')\n",
    "plt.show()"
   ]
  },
  {
   "cell_type": "code",
   "execution_count": 25,
   "metadata": {
    "collapsed": false
   },
   "outputs": [
    {
     "name": "stdout",
     "output_type": "stream",
     "text": [
      "[[Model]]\n",
      "    Model(gaussian, prefix='gauss_1_')\n",
      "[[Fit Statistics]]\n",
      "    # function evals   = 25\n",
      "    # data points      = 10\n",
      "    # variables        = 3\n",
      "    chi-square         = 7.968\n",
      "    reduced chi-square = 1.138\n",
      "[[Variables]]\n",
      "    gauss_1_center:      19.1213071 +/- 0.201517 (1.05%) (init= 20)\n",
      "    gauss_1_sigma:       3.71202384 +/- 0.281089 (7.57%) (init= 5)\n",
      "    gauss_1_amplitude:   1117.53081 +/- 61.21242 (5.48%) (init= 5720)\n",
      "    gauss_1_fwhm:        8.74114799 +/- 0.661916 (7.57%)  == '2.3548200*gauss_1_sigma'\n",
      "[[Correlations]] (unreported correlations are <  0.100)\n",
      "    C(gauss_1_sigma, gauss_1_amplitude)  =  0.751 \n",
      "    C(gauss_1_center, gauss_1_sigma)  = -0.209 \n",
      "    C(gauss_1_center, gauss_1_amplitude)  = -0.204 \n"
     ]
    }
   ],
   "source": [
    "print(out_ba_1.fit_report())"
   ]
  },
  {
   "cell_type": "code",
   "execution_count": 26,
   "metadata": {
    "collapsed": false
   },
   "outputs": [],
   "source": [
    "mod_ba_2 = gauss_2 + gauss_0\n",
    "out_ba_2 = mod_ba_2.fit(ba.rate[95:135]-untergrund.rate[95:135],params=pars_ba_2,x=x[95:135],weights=1/ba.error[95:135])"
   ]
  },
  {
   "cell_type": "code",
   "execution_count": 27,
   "metadata": {
    "collapsed": true
   },
   "outputs": [],
   "source": [
    "plt.plot(x,out_ba_2.eval(x=x), '-g')\n",
    "plt.errorbar(x,ba.rate-untergrund.rate, yerr=ba.error, fmt=' .r')\n",
    "plt.show()"
   ]
  },
  {
   "cell_type": "code",
   "execution_count": 28,
   "metadata": {
    "collapsed": false
   },
   "outputs": [
    {
     "name": "stdout",
     "output_type": "stream",
     "text": [
      "[[Model]]\n",
      "    (Model(gaussian, prefix='gauss_2_') + Model(gaussian, prefix='gauss_0_'))\n",
      "[[Fit Statistics]]\n",
      "    # function evals   = 132\n",
      "    # data points      = 40\n",
      "    # variables        = 6\n",
      "    chi-square         = 80.259\n",
      "    reduced chi-square = 2.361\n",
      "[[Variables]]\n",
      "    gauss_2_sigma:       6.78656619 +/- 0.105521 (1.55%) (init= 5)\n",
      "    gauss_2_amplitude:   26863.5421 +/- 382.4151 (1.42%) (init= 300)\n",
      "    gauss_2_center:      111.053939 +/- 0.126139 (0.11%) (init= 112)\n",
      "    gauss_2_fwhm:        15.9811418 +/- 0.248484 (1.55%)  == '2.3548200*gauss_2_sigma'\n",
      "    gauss_0_center:      128.025141 +/- 0.499980 (0.39%) (init= 125)\n",
      "    gauss_0_sigma:       4.59849939 +/- 0.499771 (10.87%) (init= 1)\n",
      "    gauss_0_amplitude:   2615.75297 +/- 323.1183 (12.35%) (init= 125)\n",
      "    gauss_0_fwhm:        10.8286383 +/- 1.176872 (10.87%)  == '2.3548200*gauss_0_sigma'\n",
      "[[Correlations]] (unreported correlations are <  0.100)\n",
      "    C(gauss_0_sigma, gauss_0_amplitude)  =  0.864 \n",
      "    C(gauss_0_center, gauss_0_amplitude)  = -0.811 \n",
      "    C(gauss_2_center, gauss_0_amplitude)  = -0.803 \n",
      "    C(gauss_2_sigma, gauss_0_amplitude)  = -0.774 \n",
      "    C(gauss_2_center, gauss_0_center)  =  0.755 \n",
      "    C(gauss_2_sigma, gauss_0_center)  =  0.718 \n",
      "    C(gauss_2_amplitude, gauss_0_amplitude)  = -0.712 \n",
      "    C(gauss_2_sigma, gauss_2_center)  =  0.684 \n",
      "    C(gauss_2_center, gauss_0_sigma)  = -0.672 \n",
      "    C(gauss_2_amplitude, gauss_0_center)  =  0.668 \n",
      "    C(gauss_0_center, gauss_0_sigma)  = -0.666 \n",
      "    C(gauss_2_sigma, gauss_2_amplitude)  =  0.639 \n",
      "    C(gauss_2_amplitude, gauss_2_center)  =  0.623 \n",
      "    C(gauss_2_amplitude, gauss_0_sigma)  = -0.613 \n",
      "    C(gauss_2_sigma, gauss_0_sigma)  = -0.584 \n"
     ]
    }
   ],
   "source": [
    "print(out_ba_2.fit_report())"
   ]
  },
  {
   "cell_type": "code",
   "execution_count": 29,
   "metadata": {
    "collapsed": false
   },
   "outputs": [],
   "source": [
    "mod_ba_3 = gauss_3 + gauss_4\n",
    "out_ba_3 = mod_ba_3.fit(ba.rate[204:315]-untergrund.rate[204:315],params=pars_ba_3,x=x[204:315],weights=1/ba.error[204:315])"
   ]
  },
  {
   "cell_type": "code",
   "execution_count": 30,
   "metadata": {
    "collapsed": true
   },
   "outputs": [],
   "source": [
    "plt.plot(x,out_ba_3.eval(x=x), '-g')\n",
    "plt.errorbar(x,ba.rate-untergrund.rate, yerr=ba.error, fmt=' .r')\n",
    "plt.show()"
   ]
  },
  {
   "cell_type": "code",
   "execution_count": 31,
   "metadata": {
    "collapsed": false
   },
   "outputs": [
    {
     "name": "stdout",
     "output_type": "stream",
     "text": [
      "[[Model]]\n",
      "    (Model(gaussian, prefix='gauss_3_') + Model(gaussian, prefix='gauss_4_'))\n",
      "[[Fit Statistics]]\n",
      "    # function evals   = 77\n",
      "    # data points      = 111\n",
      "    # variables        = 6\n",
      "    chi-square         = 186.847\n",
      "    reduced chi-square = 1.779\n",
      "[[Variables]]\n",
      "    gauss_3_center:      234.999999 +/- 5.343194 (2.27%) (init= 228)\n",
      "    gauss_3_amplitude:   7263.68068 +/- 781.6791 (10.76%) (init= 4030)\n",
      "    gauss_3_sigma:       29.2420710 +/- 3.553439 (12.15%) (init= 5)\n",
      "    gauss_3_fwhm:        68.8598136 +/- 8.367709 (12.15%)  == '2.3548200*gauss_3_sigma'\n",
      "    gauss_4_center:      284.429428 +/- 0.300667 (0.11%) (init= 286)\n",
      "    gauss_4_sigma:       12.5318055 +/- 0.343816 (2.74%) (init= 5)\n",
      "    gauss_4_amplitude:   11357.4608 +/- 560.8607 (4.94%) (init= 4940)\n",
      "    gauss_4_fwhm:        29.5101462 +/- 0.809626 (2.74%)  == '2.3548200*gauss_4_sigma'\n",
      "[[Correlations]] (unreported correlations are <  0.100)\n",
      "    C(gauss_3_amplitude, gauss_3_sigma)  =  0.971 \n",
      "    C(gauss_3_amplitude, gauss_4_amplitude)  = -0.930 \n",
      "    C(gauss_3_sigma, gauss_4_amplitude)  = -0.912 \n",
      "    C(gauss_3_center, gauss_4_amplitude)  =  0.854 \n",
      "    C(gauss_4_sigma, gauss_4_amplitude)  =  0.825 \n",
      "    C(gauss_3_center, gauss_3_amplitude)  = -0.788 \n",
      "    C(gauss_3_amplitude, gauss_4_sigma)  = -0.786 \n",
      "    C(gauss_3_center, gauss_4_sigma)  =  0.767 \n",
      "    C(gauss_3_center, gauss_3_sigma)  = -0.745 \n",
      "    C(gauss_3_sigma, gauss_4_sigma)  = -0.744 \n",
      "    C(gauss_3_center, gauss_4_center)  = -0.676 \n",
      "    C(gauss_4_center, gauss_4_amplitude)  = -0.664 \n",
      "    C(gauss_3_amplitude, gauss_4_center)  =  0.638 \n",
      "    C(gauss_4_center, gauss_4_sigma)  = -0.630 \n",
      "    C(gauss_3_sigma, gauss_4_center)  =  0.583 \n"
     ]
    }
   ],
   "source": [
    "print(out_ba_3.fit_report())"
   ]
  },
  {
   "cell_type": "code",
   "execution_count": 32,
   "metadata": {
    "collapsed": true
   },
   "outputs": [],
   "source": [
    "mod_ba_4 = gauss_5\n",
    "out_ba_4 = mod_ba_4.fit(ba.rate[1100:1250],params=pars_ba_4,x=x[1100:1250],weights=1/ba.error[1100:1250])"
   ]
  },
  {
   "cell_type": "code",
   "execution_count": 33,
   "metadata": {
    "collapsed": true
   },
   "outputs": [],
   "source": [
    "plt.plot(x,out_ba_4.eval(x=x), '-g')\n",
    "plt.errorbar(x,ba.rate-untergrund.rate, yerr=ba.error, fmt=' .r')\n",
    "plt.show()"
   ]
  },
  {
   "cell_type": "code",
   "execution_count": 34,
   "metadata": {
    "collapsed": false
   },
   "outputs": [
    {
     "name": "stdout",
     "output_type": "stream",
     "text": [
      "[[Model]]\n",
      "    Model(gaussian, prefix='gauss_5_')\n",
      "[[Fit Statistics]]\n",
      "    # function evals   = 33\n",
      "    # data points      = 150\n",
      "    # variables        = 3\n",
      "    chi-square         = 117.888\n",
      "    reduced chi-square = 0.802\n",
      "[[Variables]]\n",
      "    gauss_5_amplitude:   12789.9828 +/- 117.5778 (0.92%) (init= 6500)\n",
      "    gauss_5_center:      1180.46864 +/- 0.450395 (0.04%) (init= 1182)\n",
      "    gauss_5_sigma:       43.3949452 +/- 0.494619 (1.14%) (init= 5)\n",
      "    gauss_5_fwhm:        102.187285 +/- 1.164740 (1.14%)  == '2.3548200*gauss_5_sigma'\n",
      "[[Correlations]] (unreported correlations are <  0.100)\n",
      "    C(gauss_5_amplitude, gauss_5_sigma)  =  0.430 \n",
      "    C(gauss_5_center, gauss_5_sigma)  =  0.180 \n",
      "    C(gauss_5_amplitude, gauss_5_center)  =  0.128 \n"
     ]
    }
   ],
   "source": [
    "print(out_ba_4.fit_report())"
   ]
  },
  {
   "cell_type": "markdown",
   "metadata": {},
   "source": [
    "## Kilibrierung der Cs Daten"
   ]
  },
  {
   "cell_type": "code",
   "execution_count": 35,
   "metadata": {
    "collapsed": true
   },
   "outputs": [],
   "source": [
    "gauss_0 = GaussianModel(prefix=\"gauss_0_\")\n",
    "gauss_1 = GaussianModel(prefix=\"gauss_1_\")\n",
    "gauss_2 = GaussianModel(prefix=\"gauss_2_\")"
   ]
  },
  {
   "cell_type": "code",
   "execution_count": 36,
   "metadata": {
    "collapsed": true
   },
   "outputs": [],
   "source": [
    "pars_cs_1 = gauss_0.guess(cs.rate,x=x)\n",
    "pars_cs_2 = gauss_1.guess(cs.rate,x=x)\n",
    "pars_cs_3 = gauss_2.guess(cs.rate,x=x)"
   ]
  },
  {
   "cell_type": "code",
   "execution_count": 37,
   "metadata": {
    "collapsed": false
   },
   "outputs": [],
   "source": [
    "# controll the center\n",
    "pars_cs_1['gauss_0_center'].set(115, min=110, max=120)\n",
    "pars_cs_2['gauss_1_center'].set(267, min=263, max=270)\n",
    "pars_cs_3['gauss_2_center'].set(1920, min=1900, max=1940)\n",
    "# controll the amplitude\n",
    "pars_cs_1['gauss_0_amplitude'].set(125, min=0)#, max=130)\n",
    "pars_cs_2['gauss_1_amplitude'].set(440*13, min=0)#, max=440*2.5)\n",
    "pars_cs_3['gauss_2_amplitude'].set(300, min=0)#, max=310*2.5)\n",
    "# controll sigma\n",
    "pars_cs_1['gauss_0_sigma'].set(5, min=1, max=68)\n",
    "pars_cs_2['gauss_1_sigma'].set(5, min=1, max=68)\n",
    "pars_cs_3['gauss_2_sigma'].set(5, min=1, max=80)"
   ]
  },
  {
   "cell_type": "code",
   "execution_count": 38,
   "metadata": {
    "collapsed": false
   },
   "outputs": [],
   "source": [
    "mod_cs_1 = gauss_0\n",
    "out_cs_1 = mod_cs_1.fit(cs.rate[100:130],params=pars_cs_1,x=x[100:130],weights=1/cs.error[100:130])"
   ]
  },
  {
   "cell_type": "code",
   "execution_count": 39,
   "metadata": {
    "collapsed": true
   },
   "outputs": [],
   "source": [
    "plt.plot(x,out_cs_1.eval(x=x), '-g')\n",
    "plt.errorbar(x,cs.rate-untergrund.rate, yerr=cs.error, fmt=' .r')\n",
    "plt.show()"
   ]
  },
  {
   "cell_type": "code",
   "execution_count": 40,
   "metadata": {
    "collapsed": false
   },
   "outputs": [
    {
     "name": "stdout",
     "output_type": "stream",
     "text": [
      "[[Model]]\n",
      "    Model(gaussian, prefix='gauss_0_')\n",
      "[[Fit Statistics]]\n",
      "    # function evals   = 35\n",
      "    # data points      = 30\n",
      "    # variables        = 3\n",
      "    chi-square         = 36.299\n",
      "    reduced chi-square = 1.344\n",
      "[[Variables]]\n",
      "    gauss_0_center:      115.366805 +/- 0.153160 (0.13%) (init= 115)\n",
      "    gauss_0_sigma:       8.33786025 +/- 0.166957 (2.00%) (init= 5)\n",
      "    gauss_0_amplitude:   6336.70331 +/- 103.7750 (1.64%) (init= 125)\n",
      "    gauss_0_fwhm:        19.6341600 +/- 0.393154 (2.00%)  == '2.3548200*gauss_0_sigma'\n",
      "[[Correlations]] (unreported correlations are <  0.100)\n",
      "    C(gauss_0_sigma, gauss_0_amplitude)  =  0.381 \n",
      "    C(gauss_0_center, gauss_0_sigma)  =  0.137 \n"
     ]
    }
   ],
   "source": [
    "print(out_cs_1.fit_report())"
   ]
  },
  {
   "cell_type": "code",
   "execution_count": 41,
   "metadata": {
    "collapsed": false
   },
   "outputs": [],
   "source": [
    "mod_cs_3 = gauss_2\n",
    "out_cs_3 = mod_cs_3.fit(cs.rate[1860:1980],params=pars_cs_3,x=x[1860:1980],weights=1/cs.error[1860:1980])"
   ]
  },
  {
   "cell_type": "code",
   "execution_count": 42,
   "metadata": {
    "collapsed": false
   },
   "outputs": [],
   "source": [
    "plt.errorbar(x,cs.rate-untergrund.rate, yerr=cs.error, fmt=' .g', label=\"Messdaten\")\n",
    "plt.plot(x,out_cs_3.eval(x=x), '-r', label=\"Fit\")\n",
    "plt.xlabel(\"Kanal\",fontsize=24)\n",
    "plt.ylabel(\"Counts\",fontsize=24)\n",
    "plt.xticks(fontsize=18)\n",
    "plt.yticks(fontsize=18)\n",
    "plt.legend(loc='best',fontsize=24)\n",
    "plt.show()"
   ]
  },
  {
   "cell_type": "code",
   "execution_count": 43,
   "metadata": {
    "collapsed": false
   },
   "outputs": [
    {
     "name": "stdout",
     "output_type": "stream",
     "text": [
      "[[Model]]\n",
      "    Model(gaussian, prefix='gauss_2_')\n",
      "[[Fit Statistics]]\n",
      "    # function evals   = 29\n",
      "    # data points      = 120\n",
      "    # variables        = 3\n",
      "    chi-square         = 170.233\n",
      "    reduced chi-square = 1.455\n",
      "[[Variables]]\n",
      "    gauss_2_sigma:       23.0352370 +/- 0.152370 (0.66%) (init= 5)\n",
      "    gauss_2_amplitude:   23839.7666 +/- 187.4390 (0.79%) (init= 300)\n",
      "    gauss_2_center:      1920.26351 +/- 0.187739 (0.01%) (init= 1920)\n",
      "    gauss_2_fwhm:        54.2438368 +/- 0.358805 (0.66%)  == '2.3548200*gauss_2_sigma'\n",
      "[[Correlations]] (unreported correlations are <  0.100)\n"
     ]
    }
   ],
   "source": [
    "print(out_cs_3.fit_report())"
   ]
  },
  {
   "cell_type": "code",
   "execution_count": 44,
   "metadata": {
    "collapsed": false
   },
   "outputs": [],
   "source": [
    "energien = np.array([14,33,60,31,81,383,32,662])\n",
    "kanal = np.array([64.5491642,112.029958,213.627553,111.053940,284.659378,1180.46864,115.366805,1920.26351])\n",
    "kanal_err = np.array([4.84841741,6.34840458,8.56075037,6.78656645,12.5318055,43.3949452,8.33786026,23.0352370])"
   ]
  },
  {
   "cell_type": "code",
   "execution_count": 45,
   "metadata": {
    "collapsed": false
   },
   "outputs": [],
   "source": [
    "plt.errorbar(kanal,energien,yerr=kanal_err, fmt=' .g')\n",
    "plt.show()"
   ]
  },
  {
   "cell_type": "code",
   "execution_count": 46,
   "metadata": {
    "collapsed": true
   },
   "outputs": [],
   "source": [
    "def lin_fit(x,m,b):\n",
    "    return (x-b)/m"
   ]
  },
  {
   "cell_type": "code",
   "execution_count": 47,
   "metadata": {
    "collapsed": false
   },
   "outputs": [],
   "source": [
    "mod_lin = Model(lin_fit)\n",
    "pars_lin = mod_lin.make_params(m=1,b=1)\n",
    "out_lin = mod_lin.fit(kanal,params=pars_lin,x=energien,weights=1/(kanal_err))"
   ]
  },
  {
   "cell_type": "code",
   "execution_count": 48,
   "metadata": {
    "collapsed": false
   },
   "outputs": [],
   "source": [
    "out_lin.plot()\n",
    "plt.legend(loc=\"best\")\n",
    "plt.show()"
   ]
  },
  {
   "cell_type": "code",
   "execution_count": 49,
   "metadata": {
    "collapsed": false
   },
   "outputs": [
    {
     "name": "stdout",
     "output_type": "stream",
     "text": [
      "[[Model]]\n",
      "    Model(lin_fit)\n",
      "[[Fit Statistics]]\n",
      "    # function evals   = 20\n",
      "    # data points      = 8\n",
      "    # variables        = 2\n",
      "    chi-square         = 11.277\n",
      "    reduced chi-square = 1.880\n",
      "[[Variables]]\n",
      "    m:   0.34572897 +/- 0.005655 (1.64%) (init= 1)\n",
      "    b:  -8.63436257 +/- 1.575031 (18.24%) (init= 1)\n",
      "[[Correlations]] (unreported correlations are <  0.100)\n",
      "    C(m, b)                      = -0.530 \n"
     ]
    }
   ],
   "source": [
    "print(out_lin.fit_report())"
   ]
  },
  {
   "cell_type": "code",
   "execution_count": 50,
   "metadata": {
    "collapsed": false
   },
   "outputs": [],
   "source": [
    "plt.errorbar(energien,kanal, yerr=kanal_err, fmt=' .g', label=\"Bestimmte Kanalpositionen\")\n",
    "plt.plot(np.arange(0,700),out_lin.eval(x=np.arange(0,700)), '-r', label=\"Fit\")\n",
    "plt.xlabel(\"Counts\",fontsize=24)\n",
    "plt.ylabel(\"Kanal\",fontsize=24)\n",
    "plt.xticks(fontsize=18)\n",
    "plt.yticks(fontsize=18)\n",
    "plt.legend(loc='best',fontsize=24)\n",
    "plt.show()"
   ]
  },
  {
   "cell_type": "code",
   "execution_count": null,
   "metadata": {
    "collapsed": true
   },
   "outputs": [],
   "source": []
  },
  {
   "cell_type": "code",
   "execution_count": null,
   "metadata": {
    "collapsed": true
   },
   "outputs": [],
   "source": []
  },
  {
   "cell_type": "markdown",
   "metadata": {},
   "source": [
    "# Absorbtion"
   ]
  },
  {
   "cell_type": "code",
   "execution_count": 51,
   "metadata": {
    "collapsed": true
   },
   "outputs": [],
   "source": [
    "def conv_to_counts(amplitude):\n",
    "    return amplitude/(300*0.5)"
   ]
  },
  {
   "cell_type": "code",
   "execution_count": 52,
   "metadata": {
    "collapsed": true
   },
   "outputs": [],
   "source": [
    "def exp_fit(x,a,b):\n",
    "    return a*np.exp(-b*x)"
   ]
  },
  {
   "cell_type": "markdown",
   "metadata": {},
   "source": [
    "## Blei"
   ]
  },
  {
   "cell_type": "code",
   "execution_count": 53,
   "metadata": {
    "collapsed": true
   },
   "outputs": [],
   "source": [
    "blei_7cm = pd.read_csv(\"Messdaten/absorbtion/absorbtion_7cm.csv\", header=14, delim_whitespace=True, names=['rate','error'], index_col=0)\n",
    "blei_6cm = pd.read_csv(\"Messdaten/absorbtion/absorbtion_6cm.csv\", header=14, delim_whitespace=True, names=['rate','error'], index_col=0)\n",
    "blei_5cm= pd.read_csv(\"Messdaten/absorbtion/absorbtion_5cm.csv\", header=14, delim_whitespace=True, names=['rate','error'], index_col=0)\n",
    "blei_4_5cm= pd.read_csv(\"Messdaten/absorbtion/absorbtion_4,5cm_LLDhoch.csv\", header=14, delim_whitespace=True, names=['rate','error'], index_col=0)\n",
    "blei_3_5cm = pd.read_csv(\"Messdaten/absorbtion/absorbtion_3,5cm_LLDhoch.csv\", header=14, delim_whitespace=True, names=['rate','error'], index_col=0)\n",
    "blei_2_5cm= pd.read_csv(\"Messdaten/absorbtion/absorbtion_2,5cm_LLDhoch.csv\", header=14, delim_whitespace=True, names=['rate','error'], index_col=0)"
   ]
  },
  {
   "cell_type": "markdown",
   "metadata": {},
   "source": [
    "### 7cm"
   ]
  },
  {
   "cell_type": "code",
   "execution_count": 54,
   "metadata": {
    "collapsed": true
   },
   "outputs": [],
   "source": [
    "pars_absorb_7cm = gauss_1.guess(blei_7cm.rate-untergrund.rate,x=x)\n",
    "# controll the center\n",
    "pars_absorb_7cm['gauss_1_center'].set(1900, min=1800, max=2000)\n",
    "# controll the amplitude\n",
    "pars_absorb_7cm['gauss_1_amplitude'].set(440*13, min=0)#, max=440*2.5)\n",
    "# controll sigma\n",
    "pars_absorb_7cm['gauss_1_sigma'].set(5, min=1, max=68)"
   ]
  },
  {
   "cell_type": "code",
   "execution_count": 55,
   "metadata": {
    "collapsed": false
   },
   "outputs": [],
   "source": [
    "out_absorb_7cm = gauss_1.fit(blei_7cm.rate[1850:2000]-untergrund.rate[1850:2000],params=pars_absorb_7cm,x=x[1850:2000],weights=1/blei_7cm.error[1850:2000])"
   ]
  },
  {
   "cell_type": "code",
   "execution_count": 56,
   "metadata": {
    "collapsed": false
   },
   "outputs": [],
   "source": [
    "plt.errorbar(x,blei_7cm.rate-untergrund.rate, yerr=blei_7cm.error, fmt=' .g')\n",
    "plt.plot(x,out_absorb_7cm.eval(x=x), '-r')\n",
    "plt.show()"
   ]
  },
  {
   "cell_type": "code",
   "execution_count": 57,
   "metadata": {
    "collapsed": false
   },
   "outputs": [
    {
     "name": "stdout",
     "output_type": "stream",
     "text": [
      "[[Model]]\n",
      "    Model(gaussian, prefix='gauss_1_')\n",
      "[[Fit Statistics]]\n",
      "    # function evals   = 45\n",
      "    # data points      = 150\n",
      "    # variables        = 3\n",
      "    chi-square         = 299.499\n",
      "    reduced chi-square = 2.037\n",
      "[[Variables]]\n",
      "    gauss_1_center:      1922.65512 +/- 0.768987 (0.04%) (init= 1900)\n",
      "    gauss_1_sigma:       20.4971914 +/- 0.620191 (3.03%) (init= 5)\n",
      "    gauss_1_fwhm:        48.2671964 +/- 1.460439 (3.03%)  == '2.3548200*gauss_1_sigma'\n",
      "    gauss_1_amplitude:   2284.71175 +/- 77.00543 (3.37%) (init= 5720)\n",
      "[[Correlations]] (unreported correlations are <  0.100)\n",
      "    C(gauss_1_sigma, gauss_1_amplitude)  =  0.199 \n"
     ]
    }
   ],
   "source": [
    "print(out_absorb_7cm.fit_report())"
   ]
  },
  {
   "cell_type": "markdown",
   "metadata": {},
   "source": [
    "### 6cm"
   ]
  },
  {
   "cell_type": "code",
   "execution_count": 58,
   "metadata": {
    "collapsed": false
   },
   "outputs": [],
   "source": [
    "pars_absorb_6cm = gauss_1.guess(blei_6cm.rate-untergrund.rate,x=x)\n",
    "# controll the center\n",
    "pars_absorb_6cm['gauss_1_center'].set(1925, min=1900, max=2000)\n",
    "# controll the amplitude\n",
    "pars_absorb_6cm['gauss_1_amplitude'].set(440*18, min=0)#, max=440*2.5)\n",
    "# controll sigma\n",
    "pars_absorb_6cm['gauss_1_sigma'].set(20, min=1, max=68)"
   ]
  },
  {
   "cell_type": "code",
   "execution_count": 59,
   "metadata": {
    "collapsed": true
   },
   "outputs": [],
   "source": [
    "out_absorb_6cm = gauss_1.fit(blei_6cm.rate[1850:1993]-untergrund.rate[1850:1993],params=pars_absorb_6cm,x=x[1850:1993],weights=1/blei_6cm.error[1850:1993])"
   ]
  },
  {
   "cell_type": "code",
   "execution_count": 60,
   "metadata": {
    "collapsed": true
   },
   "outputs": [],
   "source": [
    "plt.errorbar(x,blei_6cm.rate-untergrund.rate, yerr=blei_6cm.error, fmt=' .g')\n",
    "plt.plot(x,out_absorb_6cm.eval(x=x), '-r')\n",
    "plt.show()"
   ]
  },
  {
   "cell_type": "code",
   "execution_count": 61,
   "metadata": {
    "collapsed": false
   },
   "outputs": [
    {
     "name": "stdout",
     "output_type": "stream",
     "text": [
      "[[Model]]\n",
      "    Model(gaussian, prefix='gauss_1_')\n",
      "[[Fit Statistics]]\n",
      "    # function evals   = 21\n",
      "    # data points      = 143\n",
      "    # variables        = 3\n",
      "    chi-square         = 161.311\n",
      "    reduced chi-square = 1.152\n",
      "[[Variables]]\n",
      "    gauss_1_center:      1922.16220 +/- 0.283142 (0.01%) (init= 1925)\n",
      "    gauss_1_sigma:       21.9514451 +/- 0.219597 (1.00%) (init= 20)\n",
      "    gauss_1_fwhm:        51.6917021 +/- 0.517111 (1.00%)  == '2.3548200*gauss_1_sigma'\n",
      "    gauss_1_amplitude:   8299.78978 +/- 101.5909 (1.22%) (init= 7920)\n",
      "[[Correlations]] (unreported correlations are <  0.100)\n"
     ]
    }
   ],
   "source": [
    "print(out_absorb_6cm.fit_report())"
   ]
  },
  {
   "cell_type": "markdown",
   "metadata": {},
   "source": [
    "### 5cm"
   ]
  },
  {
   "cell_type": "code",
   "execution_count": 62,
   "metadata": {
    "collapsed": true
   },
   "outputs": [],
   "source": [
    "pars_absorb_5cm = gauss_1.guess(blei_5cm.rate-untergrund.rate,x=x)\n",
    "# controll the center\n",
    "pars_absorb_5cm['gauss_1_center'].set(1925, min=1900, max=2000)\n",
    "# controll the amplitude\n",
    "pars_absorb_5cm['gauss_1_amplitude'].set(440*18, min=0)#, max=440*2.5)\n",
    "# controll sigma\n",
    "pars_absorb_5cm['gauss_1_sigma'].set(20, min=1, max=68)"
   ]
  },
  {
   "cell_type": "code",
   "execution_count": 63,
   "metadata": {
    "collapsed": false
   },
   "outputs": [],
   "source": [
    "out_absorb_5cm = gauss_1.fit(blei_5cm.rate[1850:1993]-untergrund.rate[1850:1993],params=pars_absorb_5cm,x=x[1850:1993],weights=1/blei_5cm.error[1850:1993])"
   ]
  },
  {
   "cell_type": "code",
   "execution_count": 64,
   "metadata": {
    "collapsed": true
   },
   "outputs": [],
   "source": [
    "plt.errorbar(x,blei_5cm.rate-untergrund.rate, yerr=blei_5cm.error, fmt=' .g')\n",
    "plt.plot(x,out_absorb_5cm.eval(x=x), '-r')\n",
    "plt.show()"
   ]
  },
  {
   "cell_type": "code",
   "execution_count": 65,
   "metadata": {
    "collapsed": false
   },
   "outputs": [
    {
     "name": "stdout",
     "output_type": "stream",
     "text": [
      "[[Model]]\n",
      "    Model(gaussian, prefix='gauss_1_')\n",
      "[[Fit Statistics]]\n",
      "    # function evals   = 29\n",
      "    # data points      = 143\n",
      "    # variables        = 3\n",
      "    chi-square         = 243.761\n",
      "    reduced chi-square = 1.741\n",
      "[[Variables]]\n",
      "    gauss_1_center:      1921.75060 +/- 0.186295 (0.01%) (init= 1925)\n",
      "    gauss_1_sigma:       22.4285473 +/- 0.141956 (0.63%) (init= 20)\n",
      "    gauss_1_fwhm:        52.8151919 +/- 0.334281 (0.63%)  == '2.3548200*gauss_1_sigma'\n",
      "    gauss_1_amplitude:   27339.4031 +/- 220.9497 (0.81%) (init= 7920)\n",
      "[[Correlations]] (unreported correlations are <  0.100)\n"
     ]
    }
   ],
   "source": [
    "print(out_absorb_5cm.fit_report())"
   ]
  },
  {
   "cell_type": "markdown",
   "metadata": {},
   "source": [
    "### 4,5cm"
   ]
  },
  {
   "cell_type": "code",
   "execution_count": 66,
   "metadata": {
    "collapsed": true
   },
   "outputs": [],
   "source": [
    "pars_absorb_4_5cm = gauss_1.guess(blei_4_5cm.rate-untergrund.rate,x=x)\n",
    "# controll the center\n",
    "pars_absorb_4_5cm['gauss_1_center'].set(1925, min=1900, max=2000)\n",
    "# controll the amplitude\n",
    "pars_absorb_4_5cm['gauss_1_amplitude'].set(440*18, min=0)#, max=440*2.5)\n",
    "# controll sigma\n",
    "pars_absorb_4_5cm['gauss_1_sigma'].set(20, min=1, max=68)"
   ]
  },
  {
   "cell_type": "code",
   "execution_count": 67,
   "metadata": {
    "collapsed": true
   },
   "outputs": [],
   "source": [
    "out_absorb_4_5cm = gauss_1.fit(blei_4_5cm.rate[1850:1993]-untergrund.rate[1850:1993],params=pars_absorb_4_5cm,x=x[1850:1993],weights=1/blei_4_5cm.error[1850:1993])"
   ]
  },
  {
   "cell_type": "code",
   "execution_count": 68,
   "metadata": {
    "collapsed": true
   },
   "outputs": [],
   "source": [
    "plt.errorbar(x,blei_4_5cm.rate-untergrund.rate, yerr=blei_4_5cm.error, fmt=' .g')\n",
    "plt.plot(x,out_absorb_4_5cm.eval(x=x), '-r')\n",
    "plt.show()"
   ]
  },
  {
   "cell_type": "code",
   "execution_count": 69,
   "metadata": {
    "collapsed": false
   },
   "outputs": [
    {
     "name": "stdout",
     "output_type": "stream",
     "text": [
      "[[Model]]\n",
      "    Model(gaussian, prefix='gauss_1_')\n",
      "[[Fit Statistics]]\n",
      "    # function evals   = 37\n",
      "    # data points      = 143\n",
      "    # variables        = 3\n",
      "    chi-square         = 352.808\n",
      "    reduced chi-square = 2.520\n",
      "[[Variables]]\n",
      "    gauss_1_center:      1918.16323 +/- 0.167978 (0.01%) (init= 1925)\n",
      "    gauss_1_sigma:       22.5501287 +/- 0.126227 (0.56%) (init= 20)\n",
      "    gauss_1_fwhm:        53.1014941 +/- 0.297242 (0.56%)  == '2.3548200*gauss_1_sigma'\n",
      "    gauss_1_amplitude:   48414.7069 +/- 352.0339 (0.73%) (init= 7920)\n",
      "[[Correlations]] (unreported correlations are <  0.100)\n",
      "    C(gauss_1_center, gauss_1_sigma)  = -0.103 \n"
     ]
    }
   ],
   "source": [
    "print(out_absorb_4_5cm.fit_report())"
   ]
  },
  {
   "cell_type": "markdown",
   "metadata": {},
   "source": [
    "### 3,5cm"
   ]
  },
  {
   "cell_type": "code",
   "execution_count": 70,
   "metadata": {
    "collapsed": false
   },
   "outputs": [],
   "source": [
    "pars_absorb_3_5cm = gauss_1.guess(blei_3_5cm.rate-untergrund.rate,x=x)\n",
    "# controll the center\n",
    "pars_absorb_3_5cm['gauss_1_center'].set(1925, min=1900, max=2000)\n",
    "# controll the amplitude\n",
    "pars_absorb_3_5cm['gauss_1_amplitude'].set(440*18, min=0)#, max=440*2.5)\n",
    "# controll sigma\n",
    "pars_absorb_3_5cm['gauss_1_sigma'].set(20, min=1, max=68)"
   ]
  },
  {
   "cell_type": "code",
   "execution_count": 71,
   "metadata": {
    "collapsed": true
   },
   "outputs": [],
   "source": [
    "out_absorb_3_5cm = gauss_1.fit(blei_3_5cm.rate[1880:1993]-untergrund.rate[1880:1993],params=pars_absorb_3_5cm,x=x[1880:1993],weights=1/blei_3_5cm.error[1880:1993])"
   ]
  },
  {
   "cell_type": "code",
   "execution_count": 72,
   "metadata": {
    "collapsed": false
   },
   "outputs": [],
   "source": [
    "plt.errorbar(x,blei_3_5cm.rate-untergrund.rate, yerr=blei_3_5cm.error, fmt=' .g')\n",
    "plt.plot(x,out_absorb_3_5cm.eval(x=x), '-r')\n",
    "plt.show()"
   ]
  },
  {
   "cell_type": "code",
   "execution_count": 73,
   "metadata": {
    "collapsed": false
   },
   "outputs": [
    {
     "name": "stdout",
     "output_type": "stream",
     "text": [
      "[[Model]]\n",
      "    Model(gaussian, prefix='gauss_1_')\n",
      "[[Fit Statistics]]\n",
      "    # function evals   = 34\n",
      "    # data points      = 113\n",
      "    # variables        = 3\n",
      "    chi-square         = 300.211\n",
      "    reduced chi-square = 2.729\n",
      "[[Variables]]\n",
      "    gauss_1_center:      1919.46611 +/- 0.111573 (0.01%) (init= 1925)\n",
      "    gauss_1_sigma:       22.0276222 +/- 0.088165 (0.40%) (init= 20)\n",
      "    gauss_1_fwhm:        51.8710853 +/- 0.207614 (0.40%)  == '2.3548200*gauss_1_sigma'\n",
      "    gauss_1_amplitude:   1.5077e+05 +/- 666.4545 (0.44%) (init= 7920)\n",
      "[[Correlations]] (unreported correlations are <  0.100)\n",
      "    C(gauss_1_center, gauss_1_sigma)  = -0.354 \n",
      "    C(gauss_1_sigma, gauss_1_amplitude)  =  0.172 \n",
      "    C(gauss_1_center, gauss_1_amplitude)  = -0.138 \n"
     ]
    }
   ],
   "source": [
    "print(out_absorb_3_5cm.fit_report())"
   ]
  },
  {
   "cell_type": "markdown",
   "metadata": {},
   "source": [
    "### 2,5cm"
   ]
  },
  {
   "cell_type": "code",
   "execution_count": 74,
   "metadata": {
    "collapsed": true
   },
   "outputs": [],
   "source": [
    "pars_absorb_2_5cm = gauss_1.guess(blei_2_5cm.rate-untergrund.rate,x=x)\n",
    "# controll the center\n",
    "pars_absorb_2_5cm['gauss_1_center'].set(1925, min=1900, max=2000)\n",
    "# controll the amplitude\n",
    "pars_absorb_2_5cm['gauss_1_amplitude'].set(440*18, min=0)#, max=440*2.5)\n",
    "# controll sigma\n",
    "pars_absorb_2_5cm['gauss_1_sigma'].set(20, min=1, max=68)"
   ]
  },
  {
   "cell_type": "code",
   "execution_count": 75,
   "metadata": {
    "collapsed": true
   },
   "outputs": [],
   "source": [
    "out_absorb_2_5cm = gauss_1.fit(blei_2_5cm.rate[1890:1973]-untergrund.rate[1890:1973],params=pars_absorb_2_5cm,x=x[1890:1973],weights=1/blei_2_5cm.error[1890:1973])"
   ]
  },
  {
   "cell_type": "code",
   "execution_count": 76,
   "metadata": {
    "collapsed": true
   },
   "outputs": [],
   "source": [
    "plt.errorbar(x,blei_2_5cm.rate-untergrund.rate, yerr=blei_2_5cm.error, fmt=' .g')\n",
    "plt.plot(x,out_absorb_2_5cm.eval(x=x), '-r')\n",
    "plt.show()"
   ]
  },
  {
   "cell_type": "code",
   "execution_count": 77,
   "metadata": {
    "collapsed": false
   },
   "outputs": [
    {
     "name": "stdout",
     "output_type": "stream",
     "text": [
      "[[Model]]\n",
      "    Model(gaussian, prefix='gauss_1_')\n",
      "[[Fit Statistics]]\n",
      "    # function evals   = 43\n",
      "    # data points      = 83\n",
      "    # variables        = 3\n",
      "    chi-square         = 334.888\n",
      "    reduced chi-square = 4.186\n",
      "[[Variables]]\n",
      "    gauss_1_center:      1922.18608 +/- 0.093865 (0.00%) (init= 1925)\n",
      "    gauss_1_sigma:       22.5271252 +/- 0.089126 (0.40%) (init= 20)\n",
      "    gauss_1_fwhm:        53.0473251 +/- 0.209876 (0.40%)  == '2.3548200*gauss_1_sigma'\n",
      "    gauss_1_amplitude:   4.7314e+05 +/- 1.63e+03 (0.34%) (init= 7920)\n",
      "[[Correlations]] (unreported correlations are <  0.100)\n",
      "    C(gauss_1_center, gauss_1_sigma)  = -0.430 \n",
      "    C(gauss_1_sigma, gauss_1_amplitude)  =  0.408 \n",
      "    C(gauss_1_center, gauss_1_amplitude)  = -0.290 \n"
     ]
    }
   ],
   "source": [
    "print(out_absorb_2_5cm.fit_report())"
   ]
  },
  {
   "cell_type": "markdown",
   "metadata": {},
   "source": [
    "#### Exponentieller Zusammenhang Blei"
   ]
  },
  {
   "cell_type": "code",
   "execution_count": 78,
   "metadata": {
    "collapsed": true
   },
   "outputs": [],
   "source": [
    "blei_dicke = np.array([7.06,6.031,5.03,4.527,3.515,2.5])\n",
    "blei_rate = np.array([2284,8300,27339,48414,1.5077e+05,4.7314e+05])\n",
    "blei_rate = blei_rate*2\n",
    "blei_dicke_err = np.array([0.01,0.009,0.007,0.009,0.007,0.001])\n",
    "blei_rate_err = np.array([77,101,220,352,666,1630])\n",
    "blei_rate_err = blei_rate*((blei_rate_err/blei_rate)**2+(2*0.02)**2+(0.1/300)**2)**0.5"
   ]
  },
  {
   "cell_type": "code",
   "execution_count": 79,
   "metadata": {
    "collapsed": false
   },
   "outputs": [
    {
     "data": {
      "text/plain": [
       "array([   4568.,   16600.,   54678.,   96828.,  301540.,  946280.])"
      ]
     },
     "execution_count": 79,
     "metadata": {},
     "output_type": "execute_result"
    }
   ],
   "source": [
    "blei_rate"
   ]
  },
  {
   "cell_type": "code",
   "execution_count": 80,
   "metadata": {
    "collapsed": false
   },
   "outputs": [
    {
     "data": {
      "text/plain": [
       "array([   198.2874603 ,    671.66034406,   2198.23249031,   3889.21640881,\n",
       "        12080.39128051,  37887.59342347])"
      ]
     },
     "execution_count": 80,
     "metadata": {},
     "output_type": "execute_result"
    }
   ],
   "source": [
    "blei_rate_err"
   ]
  },
  {
   "cell_type": "code",
   "execution_count": 81,
   "metadata": {
    "collapsed": false
   },
   "outputs": [],
   "source": [
    "plt.errorbar(blei_dicke,blei_rate,yerr=blei_rate_err,xerr=blei_dicke_err,fmt=' .')\n",
    "plt.show()"
   ]
  },
  {
   "cell_type": "code",
   "execution_count": 82,
   "metadata": {
    "collapsed": false
   },
   "outputs": [],
   "source": [
    "mod_exp_blei = Model(exp_fit)"
   ]
  },
  {
   "cell_type": "code",
   "execution_count": 83,
   "metadata": {
    "collapsed": false
   },
   "outputs": [],
   "source": [
    "pars_exp_blei = mod_exp_blei.make_params(a=1,b=1)"
   ]
  },
  {
   "cell_type": "code",
   "execution_count": 84,
   "metadata": {
    "collapsed": false
   },
   "outputs": [],
   "source": [
    "out_exp_blei = mod_exp_blei.fit(blei_rate,params=pars_exp_blei,x=blei_dicke,weights=1/(blei_rate_err))"
   ]
  },
  {
   "cell_type": "code",
   "execution_count": 85,
   "metadata": {
    "collapsed": false
   },
   "outputs": [],
   "source": [
    "plt.errorbar(blei_dicke,blei_rate,yerr=blei_rate_err,xerr=blei_dicke_err,fmt=' h', label=\"Messdaten\",markersize=5)\n",
    "plt.plot(np.arange(2,8,0.01),out_exp_blei.eval(x=np.arange(2,8,0.01)), label=\"Fit\")\n",
    "plt.xlabel(\"Dicke / cm\",fontsize=24)\n",
    "plt.ylabel(\"Counts\",fontsize=24)\n",
    "plt.xticks(fontsize=18)\n",
    "plt.yticks(fontsize=18)\n",
    "plt.xlim([2.4,7.3])\n",
    "plt.ylim([0,10**6])\n",
    "plt.ticklabel_format(style='sci', axis='y', scilimits=(-5,5))\n",
    "plt.legend(loc='best',fontsize=24)\n",
    "plt.show()"
   ]
  },
  {
   "cell_type": "code",
   "execution_count": 86,
   "metadata": {
    "collapsed": false
   },
   "outputs": [
    {
     "name": "stdout",
     "output_type": "stream",
     "text": [
      "[[Model]]\n",
      "    Model(exp_fit)\n",
      "[[Fit Statistics]]\n",
      "    # function evals   = 150\n",
      "    # data points      = 6\n",
      "    # variables        = 2\n",
      "    chi-square         = 6.555\n",
      "    reduced chi-square = 1.639\n",
      "[[Variables]]\n",
      "    a:   1.8132e+07 +/- 1.24e+06 (6.83%) (init= 1)\n",
      "    b:   1.16441337 +/- 0.013773 (1.18%) (init= 1)\n",
      "[[Correlations]] (unreported correlations are <  0.100)\n",
      "    C(a, b)                      =  0.950 \n"
     ]
    }
   ],
   "source": [
    "print(out_exp_blei.fit_report())"
   ]
  },
  {
   "cell_type": "markdown",
   "metadata": {},
   "source": [
    "## Aluminium"
   ]
  },
  {
   "cell_type": "code",
   "execution_count": 87,
   "metadata": {
    "collapsed": true
   },
   "outputs": [],
   "source": [
    "alu_5cm = pd.read_csv(\"Messdaten/absorbtion/absorbtion_2,5cmBlei+5cmAlu_LLDhoch.csv\", header=14, delim_whitespace=True, names=['rate','error'], index_col=0)\n",
    "alu_4cm = pd.read_csv(\"Messdaten/absorbtion/absorbtion_2,5cmBlei+4cmAlu_LLDhoch.csv\", header=14, delim_whitespace=True, names=['rate','error'], index_col=0)\n",
    "alu_3cm = pd.read_csv(\"Messdaten/absorbtion/absorbtion_2,5cmBlei+3cmAlu_LLDhoch.csv\", header=14, delim_whitespace=True, names=['rate','error'], index_col=0)\n",
    "alu_2cm = pd.read_csv(\"Messdaten/absorbtion/absorbtion_2,5cmBlei+2cmAlu_LLDhoch.csv\", header=14, delim_whitespace=True, names=['rate','error'], index_col=0)\n",
    "alu_1cm = pd.read_csv(\"Messdaten/absorbtion/absorbtion_2,5cmBlei+1cmAlu_LLDhoch.csv\", header=14, delim_whitespace=True, names=['rate','error'], index_col=0)"
   ]
  },
  {
   "cell_type": "markdown",
   "metadata": {},
   "source": [
    "### 5cm"
   ]
  },
  {
   "cell_type": "code",
   "execution_count": 88,
   "metadata": {
    "collapsed": true
   },
   "outputs": [],
   "source": [
    "pars_absorb_alu_5cm = gauss_1.guess(alu_5cm.rate-untergrund.rate,x=x)\n",
    "# controll the center\n",
    "pars_absorb_alu_5cm['gauss_1_center'].set(1925, min=1900, max=2000)\n",
    "# controll the amplitude\n",
    "pars_absorb_alu_5cm['gauss_1_amplitude'].set(440*18, min=0)#, max=440*2.5)\n",
    "# controll sigma\n",
    "pars_absorb_alu_5cm['gauss_1_sigma'].set(20, min=1, max=68)"
   ]
  },
  {
   "cell_type": "code",
   "execution_count": 89,
   "metadata": {
    "collapsed": true
   },
   "outputs": [],
   "source": [
    "out_absorb_alu_5cm = gauss_1.fit(alu_5cm.rate[1890:1993]-untergrund.rate[1890:1993],params=pars_absorb_alu_5cm,x=x[1890:1993],weights=1/alu_5cm.error[1890:1993])"
   ]
  },
  {
   "cell_type": "code",
   "execution_count": 90,
   "metadata": {
    "collapsed": true
   },
   "outputs": [],
   "source": [
    "plt.errorbar(x,alu_5cm.rate-untergrund.rate, yerr=alu_5cm.error, fmt=' .g')\n",
    "plt.plot(x,out_absorb_alu_5cm.eval(x=x), '-r')\n",
    "plt.show()"
   ]
  },
  {
   "cell_type": "code",
   "execution_count": 91,
   "metadata": {
    "collapsed": false
   },
   "outputs": [
    {
     "name": "stdout",
     "output_type": "stream",
     "text": [
      "[[Model]]\n",
      "    Model(gaussian, prefix='gauss_1_')\n",
      "[[Fit Statistics]]\n",
      "    # function evals   = 34\n",
      "    # data points      = 103\n",
      "    # variables        = 3\n",
      "    chi-square         = 218.822\n",
      "    reduced chi-square = 2.188\n",
      "[[Variables]]\n",
      "    gauss_1_center:      1919.58544 +/- 0.113182 (0.01%) (init= 1925)\n",
      "    gauss_1_sigma:       21.7995921 +/- 0.086371 (0.40%) (init= 20)\n",
      "    gauss_1_fwhm:        51.3341155 +/- 0.203390 (0.40%)  == '2.3548200*gauss_1_sigma'\n",
      "    gauss_1_amplitude:   1.7524e+05 +/- 705.9591 (0.40%) (init= 7920)\n",
      "[[Correlations]] (unreported correlations are <  0.100)\n",
      "    C(gauss_1_center, gauss_1_sigma)  = -0.554 \n",
      "    C(gauss_1_sigma, gauss_1_amplitude)  =  0.355 \n",
      "    C(gauss_1_center, gauss_1_amplitude)  = -0.344 \n"
     ]
    }
   ],
   "source": [
    "print(out_absorb_alu_5cm.fit_report())"
   ]
  },
  {
   "cell_type": "markdown",
   "metadata": {},
   "source": [
    "### 4cm"
   ]
  },
  {
   "cell_type": "code",
   "execution_count": 92,
   "metadata": {
    "collapsed": true
   },
   "outputs": [],
   "source": [
    "pars_absorb_alu_4cm = gauss_1.guess(alu_4cm.rate-untergrund.rate,x=x)\n",
    "# controll the center\n",
    "pars_absorb_alu_4cm['gauss_1_center'].set(1925, min=1900, max=2000)\n",
    "# controll the amplitude\n",
    "pars_absorb_alu_4cm['gauss_1_amplitude'].set(440*18, min=0)#, max=440*2.5)\n",
    "# controll sigma\n",
    "pars_absorb_alu_4cm['gauss_1_sigma'].set(20, min=1, max=68)"
   ]
  },
  {
   "cell_type": "code",
   "execution_count": 93,
   "metadata": {
    "collapsed": true
   },
   "outputs": [],
   "source": [
    "out_absorb_alu_4cm = gauss_1.fit(alu_4cm.rate[1890:1993]-untergrund.rate[1890:1993],params=pars_absorb_alu_4cm,x=x[1890:1993],weights=1/alu_4cm.error[1890:1993])"
   ]
  },
  {
   "cell_type": "code",
   "execution_count": 94,
   "metadata": {
    "collapsed": true
   },
   "outputs": [],
   "source": [
    "plt.errorbar(x,alu_4cm.rate-untergrund.rate, yerr=alu_4cm.error, fmt=' .g')\n",
    "plt.plot(x,out_absorb_alu_4cm.eval(x=x), '-r')\n",
    "plt.show()"
   ]
  },
  {
   "cell_type": "code",
   "execution_count": 95,
   "metadata": {
    "collapsed": false
   },
   "outputs": [
    {
     "name": "stdout",
     "output_type": "stream",
     "text": [
      "[[Model]]\n",
      "    Model(gaussian, prefix='gauss_1_')\n",
      "[[Fit Statistics]]\n",
      "    # function evals   = 34\n",
      "    # data points      = 103\n",
      "    # variables        = 3\n",
      "    chi-square         = 175.467\n",
      "    reduced chi-square = 1.755\n",
      "[[Variables]]\n",
      "    gauss_1_center:      1919.59185 +/- 0.091328 (0.00%) (init= 1925)\n",
      "    gauss_1_sigma:       21.7704695 +/- 0.070450 (0.32%) (init= 20)\n",
      "    gauss_1_fwhm:        51.2655371 +/- 0.165897 (0.32%)  == '2.3548200*gauss_1_sigma'\n",
      "    gauss_1_amplitude:   2.1317e+05 +/- 696.5389 (0.33%) (init= 7920)\n",
      "[[Correlations]] (unreported correlations are <  0.100)\n",
      "    C(gauss_1_center, gauss_1_sigma)  = -0.549 \n",
      "    C(gauss_1_sigma, gauss_1_amplitude)  =  0.354 \n",
      "    C(gauss_1_center, gauss_1_amplitude)  = -0.342 \n"
     ]
    }
   ],
   "source": [
    "print(out_absorb_alu_4cm.fit_report())"
   ]
  },
  {
   "cell_type": "markdown",
   "metadata": {},
   "source": [
    "### 3cm"
   ]
  },
  {
   "cell_type": "code",
   "execution_count": 96,
   "metadata": {
    "collapsed": true
   },
   "outputs": [],
   "source": [
    "pars_absorb_alu_3cm = gauss_1.guess(alu_3cm.rate-untergrund.rate,x=x)\n",
    "# controll the center\n",
    "pars_absorb_alu_3cm['gauss_1_center'].set(1925, min=1900, max=2000)\n",
    "# controll the amplitude\n",
    "pars_absorb_alu_3cm['gauss_1_amplitude'].set(440*18, min=0)#, max=440*2.5)\n",
    "# controll sigma\n",
    "pars_absorb_alu_3cm['gauss_1_sigma'].set(20, min=1, max=68)"
   ]
  },
  {
   "cell_type": "code",
   "execution_count": 97,
   "metadata": {
    "collapsed": true
   },
   "outputs": [],
   "source": [
    "out_absorb_alu_3cm = gauss_1.fit(alu_3cm.rate[1890:1993]-untergrund.rate[1890:1993],params=pars_absorb_alu_3cm,x=x[1890:1993],weights=1/alu_3cm.error[1890:1993])"
   ]
  },
  {
   "cell_type": "code",
   "execution_count": 98,
   "metadata": {
    "collapsed": true
   },
   "outputs": [],
   "source": [
    "plt.errorbar(x,alu_3cm.rate-untergrund.rate, yerr=alu_3cm.error, fmt=' .g')\n",
    "plt.plot(x,out_absorb_alu_3cm.eval(x=x), '-r')\n",
    "plt.show()"
   ]
  },
  {
   "cell_type": "code",
   "execution_count": 99,
   "metadata": {
    "collapsed": false
   },
   "outputs": [
    {
     "name": "stdout",
     "output_type": "stream",
     "text": [
      "[[Model]]\n",
      "    Model(gaussian, prefix='gauss_1_')\n",
      "[[Fit Statistics]]\n",
      "    # function evals   = 34\n",
      "    # data points      = 103\n",
      "    # variables        = 3\n",
      "    chi-square         = 193.138\n",
      "    reduced chi-square = 1.931\n",
      "[[Variables]]\n",
      "    gauss_1_center:      1919.43538 +/- 0.088172 (0.00%) (init= 1925)\n",
      "    gauss_1_sigma:       21.9524196 +/- 0.067588 (0.31%) (init= 20)\n",
      "    gauss_1_fwhm:        51.6939967 +/- 0.159159 (0.31%)  == '2.3548200*gauss_1_sigma'\n",
      "    gauss_1_amplitude:   2.6216e+05 +/- 815.6255 (0.31%) (init= 7920)\n",
      "[[Correlations]] (unreported correlations are <  0.100)\n",
      "    C(gauss_1_center, gauss_1_sigma)  = -0.558 \n",
      "    C(gauss_1_sigma, gauss_1_amplitude)  =  0.363 \n",
      "    C(gauss_1_center, gauss_1_amplitude)  = -0.354 \n"
     ]
    }
   ],
   "source": [
    "print(out_absorb_alu_3cm.fit_report())"
   ]
  },
  {
   "cell_type": "markdown",
   "metadata": {},
   "source": [
    "### 2cm"
   ]
  },
  {
   "cell_type": "code",
   "execution_count": 100,
   "metadata": {
    "collapsed": true
   },
   "outputs": [],
   "source": [
    "pars_absorb_alu_2cm = gauss_1.guess(alu_2cm.rate-untergrund.rate,x=x)\n",
    "# controll the center\n",
    "pars_absorb_alu_2cm['gauss_1_center'].set(1925, min=1900, max=2000)\n",
    "# controll the amplitude\n",
    "pars_absorb_alu_2cm['gauss_1_amplitude'].set(440*18, min=0)#, max=440*2.5)\n",
    "# controll sigma\n",
    "pars_absorb_alu_2cm['gauss_1_sigma'].set(20, min=1, max=68)"
   ]
  },
  {
   "cell_type": "code",
   "execution_count": 101,
   "metadata": {
    "collapsed": true
   },
   "outputs": [],
   "source": [
    "out_absorb_alu_2cm = gauss_1.fit(alu_2cm.rate[1890:1993]-untergrund.rate[1890:1993],params=pars_absorb_alu_2cm,x=x[1890:1993],weights=1/alu_2cm.error[1890:1993])"
   ]
  },
  {
   "cell_type": "code",
   "execution_count": 102,
   "metadata": {
    "collapsed": true
   },
   "outputs": [],
   "source": [
    "plt.errorbar(x,alu_2cm.rate-untergrund.rate, yerr=alu_2cm.error, fmt=' .g')\n",
    "plt.plot(x,out_absorb_alu_2cm.eval(x=x), '-r')\n",
    "plt.show()"
   ]
  },
  {
   "cell_type": "code",
   "execution_count": 103,
   "metadata": {
    "collapsed": false
   },
   "outputs": [
    {
     "name": "stdout",
     "output_type": "stream",
     "text": [
      "[[Model]]\n",
      "    Model(gaussian, prefix='gauss_1_')\n",
      "[[Fit Statistics]]\n",
      "    # function evals   = 34\n",
      "    # data points      = 103\n",
      "    # variables        = 3\n",
      "    chi-square         = 231.897\n",
      "    reduced chi-square = 2.319\n",
      "[[Variables]]\n",
      "    gauss_1_center:      1919.61995 +/- 0.087786 (0.00%) (init= 1925)\n",
      "    gauss_1_sigma:       22.0028371 +/- 0.067599 (0.31%) (init= 20)\n",
      "    gauss_1_fwhm:        51.8127210 +/- 0.159185 (0.31%)  == '2.3548200*gauss_1_sigma'\n",
      "    gauss_1_amplitude:   3.1760e+05 +/- 982.1848 (0.31%) (init= 7920)\n",
      "[[Correlations]] (unreported correlations are <  0.100)\n",
      "    C(gauss_1_center, gauss_1_sigma)  = -0.558 \n",
      "    C(gauss_1_sigma, gauss_1_amplitude)  =  0.362 \n",
      "    C(gauss_1_center, gauss_1_amplitude)  = -0.351 \n"
     ]
    }
   ],
   "source": [
    "print(out_absorb_alu_2cm.fit_report())"
   ]
  },
  {
   "cell_type": "markdown",
   "metadata": {},
   "source": [
    "### 1cm"
   ]
  },
  {
   "cell_type": "code",
   "execution_count": 104,
   "metadata": {
    "collapsed": true
   },
   "outputs": [],
   "source": [
    "pars_absorb_alu_1cm = gauss_1.guess(alu_1cm.rate-untergrund.rate,x=x)\n",
    "# controll the center\n",
    "pars_absorb_alu_1cm['gauss_1_center'].set(1925, min=1900, max=2000)\n",
    "# controll the amplitude\n",
    "pars_absorb_alu_1cm['gauss_1_amplitude'].set(440*18, min=0)#, max=440*2.5)\n",
    "# controll sigma\n",
    "pars_absorb_alu_1cm['gauss_1_sigma'].set(20, min=1, max=68)"
   ]
  },
  {
   "cell_type": "code",
   "execution_count": 105,
   "metadata": {
    "collapsed": false
   },
   "outputs": [],
   "source": [
    "out_absorb_alu_1cm = gauss_1.fit(alu_1cm.rate[1870:2000]-untergrund.rate[1870:2000],params=pars_absorb_alu_1cm,x=x[1870:2000],weights=1/alu_1cm.error[1870:2000])"
   ]
  },
  {
   "cell_type": "code",
   "execution_count": 106,
   "metadata": {
    "collapsed": false
   },
   "outputs": [],
   "source": [
    "plt.errorbar(x,alu_1cm.rate-untergrund.rate, yerr=alu_1cm.error, fmt=' .g', label=\"Messwerte\")\n",
    "plt.plot(x,out_absorb_alu_1cm.eval(x=x), '-r', label=\"Fit\")\n",
    "plt.xlabel(\"Kanal\",fontsize=24)\n",
    "plt.ylabel(\"Counts\",fontsize=24)\n",
    "plt.xticks(fontsize=18)\n",
    "plt.yticks(fontsize=18)\n",
    "plt.ticklabel_format(style='sci', axis='y', scilimits=(-5,5))\n",
    "plt.legend(loc='best',fontsize=24)\n",
    "plt.show()"
   ]
  },
  {
   "cell_type": "code",
   "execution_count": 107,
   "metadata": {
    "collapsed": false
   },
   "outputs": [
    {
     "name": "stdout",
     "output_type": "stream",
     "text": [
      "[[Model]]\n",
      "    Model(gaussian, prefix='gauss_1_')\n",
      "[[Fit Statistics]]\n",
      "    # function evals   = 33\n",
      "    # data points      = 130\n",
      "    # variables        = 3\n",
      "    chi-square         = 1106.817\n",
      "    reduced chi-square = 8.715\n",
      "[[Variables]]\n",
      "    gauss_1_center:      1918.61200 +/- 0.117355 (0.01%) (init= 1925)\n",
      "    gauss_1_sigma:       22.8088437 +/- 0.090694 (0.40%) (init= 20)\n",
      "    gauss_1_fwhm:        53.7107214 +/- 0.213568 (0.40%)  == '2.3548200*gauss_1_sigma'\n",
      "    gauss_1_amplitude:   3.9310e+05 +/- 1.88e+03 (0.48%) (init= 7920)\n",
      "[[Correlations]] (unreported correlations are <  0.100)\n",
      "    C(gauss_1_center, gauss_1_sigma)  = -0.247 \n"
     ]
    }
   ],
   "source": [
    "print(out_absorb_alu_1cm.fit_report())"
   ]
  },
  {
   "cell_type": "markdown",
   "metadata": {},
   "source": [
    "#### Exponentieller Zusammenhang Alu"
   ]
  },
  {
   "cell_type": "code",
   "execution_count": 108,
   "metadata": {
    "collapsed": true
   },
   "outputs": [],
   "source": [
    "alu_dicke = np.array([7.6025,6.585,5.57,4.55,3.545])\n",
    "alu_rate = np.array([1.7524e+05,2.1317e+05,2.6216e+05,3.1760e+05,3.9311e+05])\n",
    "alu_rate = alu_rate*2\n",
    "alu_dicke_err = np.array([0.002,0.002,0.002,0.001,0.001])\n",
    "alu_rate_err = np.array([705,696,815,982,1.42e+03])\n",
    "alu_rate_err = alu_rate*((alu_rate_err/alu_rate)**2+(2*0.02)**2+(0.1/300)**2)**0.5"
   ]
  },
  {
   "cell_type": "code",
   "execution_count": 109,
   "metadata": {
    "collapsed": false
   },
   "outputs": [
    {
     "data": {
      "text/plain": [
       "array([ 350480.,  426340.,  524320.,  635200.,  786220.])"
      ]
     },
     "execution_count": 109,
     "metadata": {},
     "output_type": "execute_result"
    }
   ],
   "source": [
    "alu_rate"
   ]
  },
  {
   "cell_type": "code",
   "execution_count": 110,
   "metadata": {
    "collapsed": false
   },
   "outputs": [
    {
     "data": {
      "text/plain": [
       "array([ 14037.40154409,  17068.38847576,  20989.35707824,  25427.85124631,\n",
       "        31481.93297547])"
      ]
     },
     "execution_count": 110,
     "metadata": {},
     "output_type": "execute_result"
    }
   ],
   "source": [
    "alu_rate_err"
   ]
  },
  {
   "cell_type": "code",
   "execution_count": 111,
   "metadata": {
    "collapsed": true
   },
   "outputs": [],
   "source": [
    "mod_exp_alu = Model(exp_fit)"
   ]
  },
  {
   "cell_type": "code",
   "execution_count": 112,
   "metadata": {
    "collapsed": false
   },
   "outputs": [],
   "source": [
    "pars_exp_alu = mod_exp_alu.make_params(a=1,b=1)"
   ]
  },
  {
   "cell_type": "code",
   "execution_count": 113,
   "metadata": {
    "collapsed": false
   },
   "outputs": [],
   "source": [
    "out_exp_alu = mod_exp_alu.fit(alu_rate,params=pars_exp_alu,x=alu_dicke,weights=1/(alu_rate_err))"
   ]
  },
  {
   "cell_type": "code",
   "execution_count": 114,
   "metadata": {
    "collapsed": false
   },
   "outputs": [],
   "source": [
    "plt.errorbar(alu_dicke,alu_rate,yerr=alu_rate_err,xerr=alu_dicke_err,fmt=' .', label=\"Messdaten\")\n",
    "plt.plot(np.arange(3,8,0.01),out_exp_alu.eval(x=np.arange(3,8,0.01)), label=\"Fit\")\n",
    "plt.xlabel(\"Dicke / cm\",fontsize=24)\n",
    "plt.ylabel(\"Rate / Hz\",fontsize=24)\n",
    "plt.xticks(fontsize=18)\n",
    "plt.yticks(fontsize=18)\n",
    "plt.xlim([3.4,7.7])\n",
    "#plt.ylim([1.5*10**5,4.5*10**5])\n",
    "plt.ticklabel_format(style='sci', axis='y', scilimits=(-5,5))\n",
    "plt.legend(loc='best',fontsize=24)\n",
    "plt.show()"
   ]
  },
  {
   "cell_type": "code",
   "execution_count": 115,
   "metadata": {
    "collapsed": false
   },
   "outputs": [
    {
     "name": "stdout",
     "output_type": "stream",
     "text": [
      "[[Model]]\n",
      "    Model(exp_fit)\n",
      "[[Fit Statistics]]\n",
      "    # function evals   = 135\n",
      "    # data points      = 5\n",
      "    # variables        = 2\n",
      "    chi-square         = 0.077\n",
      "    reduced chi-square = 0.026\n",
      "[[Variables]]\n",
      "    a:   1.5798e+06 +/- 1.82e+04 (1.15%) (init= 1)\n",
      "    b:   0.19845671 +/- 0.002001 (1.01%) (init= 1)\n",
      "[[Correlations]] (unreported correlations are <  0.100)\n",
      "    C(a, b)                      =  0.969 \n"
     ]
    }
   ],
   "source": [
    "print(out_exp_alu.fit_report())"
   ]
  },
  {
   "cell_type": "markdown",
   "metadata": {},
   "source": [
    "#### Bestimmen der Counts ohne Material vor dem Detektor"
   ]
  },
  {
   "cell_type": "code",
   "execution_count": 116,
   "metadata": {
    "collapsed": false
   },
   "outputs": [
    {
     "data": {
      "text/plain": [
       "array([  5.43972331e+09])"
      ]
     },
     "execution_count": 116,
     "metadata": {},
     "output_type": "execute_result"
    }
   ],
   "source": [
    "out_exp_blei.eval(x=np.arange(0,1))*300"
   ]
  },
  {
   "cell_type": "code",
   "execution_count": 117,
   "metadata": {
    "collapsed": false
   },
   "outputs": [
    {
     "data": {
      "text/plain": [
       "3.3333333333333215"
      ]
     },
     "execution_count": 117,
     "metadata": {},
     "output_type": "execute_result"
    }
   ],
   "source": [
    "(1-0.116/0.120)*100"
   ]
  },
  {
   "cell_type": "code",
   "execution_count": null,
   "metadata": {
    "collapsed": true
   },
   "outputs": [],
   "source": []
  },
  {
   "cell_type": "code",
   "execution_count": 118,
   "metadata": {
    "collapsed": false
   },
   "outputs": [
    {
     "data": {
      "text/plain": [
       "-4.210526315789487"
      ]
     },
     "execution_count": 118,
     "metadata": {},
     "output_type": "execute_result"
    }
   ],
   "source": [
    "(1-0.0198/0.0190)*100"
   ]
  },
  {
   "cell_type": "code",
   "execution_count": null,
   "metadata": {
    "collapsed": true
   },
   "outputs": [],
   "source": []
  },
  {
   "cell_type": "code",
   "execution_count": null,
   "metadata": {
    "collapsed": false
   },
   "outputs": [],
   "source": []
  },
  {
   "cell_type": "code",
   "execution_count": 119,
   "metadata": {
    "collapsed": false
   },
   "outputs": [],
   "source": [
    "Wirkungsquerschnitt20GradAlu = pd.read_csv(\"/home/arrow13/Git/FP/Compton/Messdaten/Grad/Messung_1cmAlu_20Grad_LLDhoch.csv\", header=14, delim_whitespace=True, names=['rate','error'], index_col=0)\n",
    "Wirkungsquerschnitt30GradAlu = pd.read_csv(\"/home/arrow13/Git/FP/Compton/Messdaten/Grad/Messung_1cmAlu_30Grad_LLDhoch.csv\", header=14, delim_whitespace=True, names=['rate','error'], index_col=0)\n",
    "Wirkungsquerschnitt40GradAlu = pd.read_csv(\"/home/arrow13/Git/FP/Compton/Messdaten/Grad/Messung_1cmAlu_40Grad_LLDhoch.csv\", header=14, delim_whitespace=True, names=['rate','error'], index_col=0)\n",
    "Wirkungsquerschnitt50GradAlu = pd.read_csv(\"/home/arrow13/Git/FP/Compton/Messdaten/Grad/Messung_1cmAlu_50Grad_LLDhoch.csv\", header=14, delim_whitespace=True, names=['rate','error'], index_col=0)\n",
    "Wirkungsquerschnitt60GradAlu = pd.read_csv(\"/home/arrow13/Git/FP/Compton/Messdaten/Grad/Messung_1cmAlu_60Grad_LLDhoch.csv\", header=14, delim_whitespace=True, names=['rate','error'], index_col=0)\n",
    "Wirkungsquerschnitt70GradAlu = pd.read_csv(\"/home/arrow13/Git/FP/Compton/Messdaten/Grad/Messung_1cmAlu_70Grad_LLDhoch.csv\", header=14, delim_whitespace=True, names=['rate','error'], index_col=0)\n",
    "Wirkungsquerschnitt80GradAlu = pd.read_csv(\"/home/arrow13/Git/FP/Compton/Messdaten/Grad/Messung_1cmAlu_80Grad_LLDhoch.csv\", header=14, delim_whitespace=True, names=['rate','error'], index_col=0)\n",
    "Wirkungsquerschnitt20Grad = pd.read_csv(\"/home/arrow13/Git/FP/Compton/Messdaten/Grad/Messung_20Grad_LLDhoch.csv\", header=14, delim_whitespace=True, names=['rate','error'], index_col=0)\n",
    "Wirkungsquerschnitt30Grad = pd.read_csv(\"/home/arrow13/Git/FP/Compton/Messdaten/Grad/Messung_30Grad_LLDhoch.csv\", header=14, delim_whitespace=True, names=['rate','error'], index_col=0)\n",
    "Wirkungsquerschnitt40Grad = pd.read_csv(\"/home/arrow13/Git/FP/Compton/Messdaten/Grad/Messung_40Grad_LLDhoch.csv\", header=14, delim_whitespace=True, names=['rate','error'], index_col=0)\n",
    "Wirkungsquerschnitt50Grad = pd.read_csv(\"/home/arrow13/Git/FP/Compton/Messdaten/Grad/Messung_50Grad_LLDhoch.csv\", header=14, delim_whitespace=True, names=['rate','error'], index_col=0)\n",
    "Wirkungsquerschnitt60Grad = pd.read_csv(\"/home/arrow13/Git/FP/Compton/Messdaten/Grad/Messung_60Grad_LLDhoch.csv\", header=14, delim_whitespace=True, names=['rate','error'], index_col=0)\n",
    "Wirkungsquerschnitt70Grad = pd.read_csv(\"/home/arrow13/Git/FP/Compton/Messdaten/Grad/Messung_70Grad_LLDhoch.csv\", header=14, delim_whitespace=True, names=['rate','error'], index_col=0)\n",
    "Wirkungsquerschnitt80Grad = pd.read_csv(\"/home/arrow13/Git/FP/Compton/Messdaten/Grad/Messung_80Grad_LLDhoch.csv\", header=14, delim_whitespace=True, names=['rate','error'], index_col=0)"
   ]
  },
  {
   "cell_type": "code",
   "execution_count": 120,
   "metadata": {
    "collapsed": false
   },
   "outputs": [],
   "source": [
    "Kaesekuchen1 = []\n",
    "Kaesekuchen2 = []\n",
    "Kaesekuchen1.append(Wirkungsquerschnitt20GradAlu)\n",
    "Kaesekuchen1.append(Wirkungsquerschnitt30GradAlu)\n",
    "Kaesekuchen1.append(Wirkungsquerschnitt40GradAlu)\n",
    "Kaesekuchen1.append(Wirkungsquerschnitt50GradAlu)\n",
    "Kaesekuchen1.append(Wirkungsquerschnitt60GradAlu)\n",
    "Kaesekuchen1.append(Wirkungsquerschnitt70GradAlu)\n",
    "Kaesekuchen1.append(Wirkungsquerschnitt80GradAlu)\n",
    "Kaesekuchen2.append(Wirkungsquerschnitt20Grad)\n",
    "Kaesekuchen2.append(Wirkungsquerschnitt30Grad)\n",
    "Kaesekuchen2.append(Wirkungsquerschnitt40Grad)\n",
    "Kaesekuchen2.append(Wirkungsquerschnitt50Grad)\n",
    "Kaesekuchen2.append(Wirkungsquerschnitt60Grad)\n",
    "Kaesekuchen2.append(Wirkungsquerschnitt70Grad)\n",
    "Kaesekuchen2.append(Wirkungsquerschnitt80Grad)"
   ]
  },
  {
   "cell_type": "code",
   "execution_count": 121,
   "metadata": {
    "collapsed": false
   },
   "outputs": [
    {
     "name": "stderr",
     "output_type": "stream",
     "text": [
      "/home/arrow13/anaconda3/lib/python3.4/site-packages/matplotlib/axes/_axes.py:475: UserWarning: No labelled objects found. Use label='...' kwarg on individual plots.\n",
      "  warnings.warn(\"No labelled objects found. \"\n"
     ]
    }
   ],
   "source": [
    "for Kaesekrecker1,Kaesekrecker2 in zip(Kaesekuchen1,Kaesekuchen2):\n",
    "    plt.errorbar(x,Kaesekrecker1.rate-Kaesekrecker2.rate,yerr=np.sqrt(Kaesekrecker1.error**2+Kaesekrecker2.error**2), fmt=' .g')\n",
    "    plt.xlim([0,2050])\n",
    "    plt.xlabel(\"Kanal\",fontsize=24)\n",
    "    plt.ylabel(\"Counts\",fontsize=24)\n",
    "    plt.xticks(fontsize=18)\n",
    "    plt.yticks(fontsize=18)\n",
    "    plt.legend(loc='best',fontsize=24)\n",
    "    plt.show()"
   ]
  },
  {
   "cell_type": "code",
   "execution_count": 122,
   "metadata": {
    "collapsed": false,
    "scrolled": true
   },
   "outputs": [
    {
     "name": "stdout",
     "output_type": "stream",
     "text": [
      "1685 2025\n",
      "[[Model]]\n",
      "    Model(gaussian, prefix='gauss_1_')\n",
      "[[Fit Statistics]]\n",
      "    # function evals   = 14\n",
      "    # data points      = 340\n",
      "    # variables        = 3\n",
      "    chi-square         = 370.390\n",
      "    reduced chi-square = 1.099\n",
      "[[Variables]]\n",
      "    gauss_1_center:      1845.40059 +/- 0.740441 (0.04%) (init= 1855)\n",
      "    gauss_1_sigma:       34.3316182 +/- 0.780506 (2.27%) (init= 30)\n",
      "    gauss_1_fwhm:        80.8447812 +/- 1.837951 (2.27%)  == '2.3548200*gauss_1_sigma'\n",
      "    gauss_1_amplitude:   8804.22953 +/- 269.8308 (3.06%) (init= 10120)\n",
      "[[Correlations]] (unreported correlations are <  0.100)\n",
      "    C(gauss_1_center, gauss_1_amplitude)  = -0.430 \n",
      "    C(gauss_1_sigma, gauss_1_amplitude)  = -0.382 \n",
      "    C(gauss_1_center, gauss_1_sigma)  =  0.338 \n",
      "1845.40059164 34.3316182442\n",
      "Energie = 627.663204115 Fehler = 11.8444082943\n",
      "1575 1975\n",
      "[[Model]]\n",
      "    Model(gaussian, prefix='gauss_1_')\n",
      "[[Fit Statistics]]\n",
      "    # function evals   = 13\n",
      "    # data points      = 400\n",
      "    # variables        = 3\n",
      "    chi-square         = 451.046\n",
      "    reduced chi-square = 1.136\n",
      "[[Variables]]\n",
      "    gauss_1_center:      1758.23703 +/- 0.977619 (0.06%) (init= 1775)\n",
      "    gauss_1_sigma:       53.4813287 +/- 0.679672 (1.27%) (init= 20)\n",
      "    gauss_1_fwhm:        125.938902 +/- 1.600505 (1.27%)  == '2.3548200*gauss_1_sigma'\n",
      "    gauss_1_amplitude:   8089.22559 +/- 143.3918 (1.77%) (init= 7810)\n",
      "[[Correlations]] (unreported correlations are <  0.100)\n",
      "    C(gauss_1_sigma, gauss_1_amplitude)  =  0.495 \n",
      "    C(gauss_1_center, gauss_1_amplitude)  =  0.426 \n",
      "    C(gauss_1_center, gauss_1_sigma)  =  0.379 \n",
      "1758.23703441 53.4813287064\n",
      "Energie = 597.591776871 Fehler = 18.4510584037\n",
      "1360 1860\n",
      "[[Model]]\n",
      "    Model(gaussian, prefix='gauss_1_')\n",
      "[[Fit Statistics]]\n",
      "    # function evals   = 13\n",
      "    # data points      = 500\n",
      "    # variables        = 2\n",
      "    chi-square         = 494.891\n",
      "    reduced chi-square = 0.994\n",
      "[[Variables]]\n",
      "    gauss_1_center:      1601.58809 +/- 1.193382 (0.07%) (init= 1610)\n",
      "    gauss_1_sigma:       63 (fixed)\n",
      "    gauss_1_fwhm:        148.353660 +/- 0        (0.00%)  == '2.3548200*gauss_1_sigma'\n",
      "    gauss_1_amplitude:   6869.56456 +/- 103.0877 (1.50%) (init= 6820)\n",
      "[[Correlations]] (unreported correlations are <  0.100)\n",
      "    C(gauss_1_center, gauss_1_amplitude)  =  0.121 \n",
      "1601.58809447 63\n",
      "Energie = 543.547892591 Fehler = 21.735\n",
      "1210 1710\n",
      "[[Model]]\n",
      "    Model(gaussian, prefix='gauss_1_')\n",
      "[[Fit Statistics]]\n",
      "    # function evals   = 19\n",
      "    # data points      = 500\n",
      "    # variables        = 2\n",
      "    chi-square         = 483.391\n",
      "    reduced chi-square = 0.971\n",
      "[[Variables]]\n",
      "    gauss_1_center:      1444.56816 +/- 1.240955 (0.09%) (init= 1460)\n",
      "    gauss_1_sigma:       63 (fixed)\n",
      "    gauss_1_fwhm:        148.353660 +/- 0        (0.00%)  == '2.3548200*gauss_1_sigma'\n",
      "    gauss_1_amplitude:   5896.82983 +/- 92.64866 (1.57%) (init= 6820)\n",
      "[[Correlations]] (unreported correlations are <  0.100)\n",
      "1444.56816234 63\n",
      "Energie = 489.376016006 Fehler = 21.735\n",
      "1050 1550\n",
      "[[Model]]\n",
      "    Model(gaussian, prefix='gauss_1_')\n",
      "[[Fit Statistics]]\n",
      "    # function evals   = 19\n",
      "    # data points      = 500\n",
      "    # variables        = 2\n",
      "    chi-square         = 528.743\n",
      "    reduced chi-square = 1.062\n",
      "[[Variables]]\n",
      "    gauss_1_center:      1291.43321 +/- 1.351912 (0.10%) (init= 1300)\n",
      "    gauss_1_sigma:       63 (fixed)\n",
      "    gauss_1_fwhm:        148.353660 +/- 0        (0.00%)  == '2.3548200*gauss_1_sigma'\n",
      "    gauss_1_amplitude:   5431.70014 +/- 93.27818 (1.72%) (init= 6600)\n",
      "[[Correlations]] (unreported correlations are <  0.100)\n",
      "1291.43321618 63\n",
      "Energie = 436.544459582 Fehler = 21.735\n",
      "910 1410\n",
      "[[Model]]\n",
      "    Model(gaussian, prefix='gauss_1_')\n",
      "[[Fit Statistics]]\n",
      "    # function evals   = 13\n",
      "    # data points      = 500\n",
      "    # variables        = 3\n",
      "    chi-square         = 463.634\n",
      "    reduced chi-square = 0.933\n",
      "[[Variables]]\n",
      "    gauss_1_center:      1152.47984 +/- 1.360473 (0.12%) (init= 1160)\n",
      "    gauss_1_sigma:       63.9900375 +/- 0.718691 (1.12%) (init= 31)\n",
      "    gauss_1_fwhm:        150.685020 +/- 1.692388 (1.12%)  == '2.3548200*gauss_1_sigma'\n",
      "    gauss_1_amplitude:   5216.78372 +/- 93.82933 (1.80%) (init= 6820)\n",
      "[[Correlations]] (unreported correlations are <  0.100)\n",
      "    C(gauss_1_sigma, gauss_1_amplitude)  =  0.313 \n",
      "1152.47984207 63.990037543\n",
      "Energie = 388.605545513 Fehler = 22.0765629523\n",
      "790 1290\n",
      "[[Model]]\n",
      "    Model(gaussian, prefix='gauss_1_')\n",
      "[[Fit Statistics]]\n",
      "    # function evals   = 9\n",
      "    # data points      = 500\n",
      "    # variables        = 3\n",
      "    chi-square         = 546.811\n",
      "    reduced chi-square = 1.100\n",
      "[[Variables]]\n",
      "    gauss_1_center:      1032.95184 +/- 0.802161 (0.08%) (init= 1040)\n",
      "    gauss_1_sigma:       53.1143033 +/- 0.805761 (1.52%) (init= 20)\n",
      "    gauss_1_fwhm:        125.074623 +/- 1.897424 (1.52%)  == '2.3548200*gauss_1_sigma'\n",
      "    gauss_1_amplitude:   5193.53745 +/- 99.36695 (1.91%) (init= 6600)\n",
      "[[Correlations]] (unreported correlations are <  0.100)\n",
      "    C(gauss_1_sigma, gauss_1_amplitude)  =  0.506 \n",
      "1032.95184698 53.1143033176\n",
      "Energie = 347.368387207 Fehler = 18.3244346446\n"
     ]
    }
   ],
   "source": [
    "i = 0\n",
    "Energien = []\n",
    "Energien_err = []\n",
    "Käsefit_Amplitude = np.array([23,17.75,15.5,15.5,15,15.5,15])\n",
    "Käsefit_Amplitude_max = np.array([10800,9300,9300,9300,9300,9300,9300])\n",
    "Käsefit_Amplitude_min = np.array([8600,0,0,0,0,0,0])\n",
    "Käsefit_Center = np.array([1855,1775,1610,1460,1300,1160,1040])\n",
    "Käsefit_Sigmamin = np.array([30,20,63,63,63,31,20])\n",
    "Käsefit_Sigmamax = np.array([47,70,65,65,65,65,65])\n",
    "Käsefit_YOben = np.array([165,100,69,63,58,55,67])\n",
    "Käsefit_YUnten = np.array([-14,-12,-8,-7.5,-7.5,-8,-8])\n",
    "Käsefit_PM = np.array([170,200,250,250,250,250,250])\n",
    "Käsefit_Oben = Käsefit_Center+Käsefit_PM#np.array([2000,2000,1900,1800,1600,1400,1300])\n",
    "Käsefit_Unten = Käsefit_Center-Käsefit_PM#np.array([1600,1600,1400,1200,1100,1000,800])\n",
    "for Kaesekrecker1,Kaesekrecker2 in zip(Kaesekuchen1,Kaesekuchen2):\n",
    "    fitdaten = (Kaesekrecker1.rate[Käsefit_Unten[i]:Käsefit_Oben[i]]-Kaesekrecker2.rate[Käsefit_Unten[i]:Käsefit_Oben[i]]+abs(Kaesekrecker1.rate[Käsefit_Unten[i]:Käsefit_Oben[i]]-Kaesekrecker2.rate[Käsefit_Unten[i]:Käsefit_Oben[i]]))/2\n",
    "    parametersWQ20 = gauss_1.guess(fitdaten,x=x)\n",
    "    if Käsefit_Sigmamin[i]==63 or Käsefit_Sigmamin[i]==62:\n",
    "        parametersWQ20['gauss_1_sigma'].set(20, min=Käsefit_Sigmamin[i], max=Käsefit_Sigmamax[i],vary = False)\n",
    "    else:\n",
    "        parametersWQ20['gauss_1_sigma'].set(20, min=Käsefit_Sigmamin[i], max=Käsefit_Sigmamax[i],vary = True)\n",
    "    parametersWQ20['gauss_1_amplitude'].set(440*Käsefit_Amplitude[i], min=Käsefit_Amplitude_min[i],max=Käsefit_Amplitude_max[i])#, max=440*2.5)\n",
    "    parametersWQ20['gauss_1_center'].set(Käsefit_Center[i], min=Käsefit_Unten[i]+140, max=Käsefit_Oben[i]-140)\n",
    "    antiWeights = (np.sqrt(Kaesekrecker1.error**2+Kaesekrecker2.error**2)+1+abs(np.sqrt(Kaesekrecker1.error**2+Kaesekrecker2.error**2)-1))/2\n",
    "    out_parameterWQ20 = gauss_1.fit(fitdaten,params=parametersWQ20,x=x[Käsefit_Unten[i]:Käsefit_Oben[i]],weights=1/antiWeights)\n",
    "    print(Käsefit_Unten[i],Käsefit_Oben[i])\n",
    "    plt.errorbar(x,(Kaesekrecker1.rate-Kaesekrecker2.rate+1+abs(Kaesekrecker1.rate-Kaesekrecker2.rate-1))/2, yerr= np.sqrt(Kaesekrecker1.error**2+Kaesekrecker2.error**2), fmt=' .g', label=\"Messwerte\")\n",
    "    plt.plot(x,out_parameterWQ20.eval(x=x), '-r', label=\"Fit\")\n",
    "    plt.xlim(Käsefit_Unten[i],Käsefit_Oben[i])\n",
    "    plt.ylim(Käsefit_YUnten[i],Käsefit_YOben[i])\n",
    "    plt.xlabel(\"Kanal\",fontsize=24)\n",
    "    plt.ylabel(\"Counts\",fontsize=24)\n",
    "    plt.xticks(fontsize=18)\n",
    "    plt.yticks(fontsize=18)\n",
    "    plt.ticklabel_format(style='sci', axis='y', scilimits=(-5,5))\n",
    "    plt.legend(loc='best',fontsize=24)\n",
    "    plt.show()\n",
    "    print(out_parameterWQ20.fit_report())\n",
    "    print(abs(out_parameterWQ20.params['gauss_1_center']),abs(out_parameterWQ20.params['gauss_1_sigma']))\n",
    "    print('Energie = '+str(abs(out_parameterWQ20.params['gauss_1_center'])*0.345 - 9)+' Fehler = '+str(abs(out_parameterWQ20.params['gauss_1_sigma'])*0.345))\n",
    "    Energien.append(abs(out_parameterWQ20.params['gauss_1_center'])*0.345 - 9)\n",
    "    Energien_err.append(abs(out_parameterWQ20.params['gauss_1_sigma'])*0.345)\n",
    "    i = i+1\n",
    "#pars_absorb_alu_1cm = gauss_1.guess(alu_1cm.rate-untergrund.rate,x=x)\n",
    "# controll the center\n",
    "#pars_absorb_alu_1cm['gauss_1_center'].set(1925, min=1900, max=2000)\n",
    "# controll the amplitude\n",
    "#pars_absorb_alu_1cm['gauss_1_amplitude'].set(440*18, min=0)#, max=440*2.5)\n",
    "# controll sigma\n",
    "#pars_absorb_alu_1cm['gauss_1_sigma'].set(20, min=1, max=68)"
   ]
  },
  {
   "cell_type": "code",
   "execution_count": 123,
   "metadata": {
    "collapsed": false
   },
   "outputs": [
    {
     "data": {
      "text/plain": [
       "21.9489061755"
      ]
     },
     "execution_count": 123,
     "metadata": {},
     "output_type": "execute_result"
    }
   ],
   "source": [
    "63.6200179*0.345 #- 9"
   ]
  },
  {
   "cell_type": "code",
   "execution_count": 124,
   "metadata": {
    "collapsed": false
   },
   "outputs": [
    {
     "name": "stdout",
     "output_type": "stream",
     "text": [
      "1040\n",
      "20\n"
     ]
    }
   ],
   "source": [
    "print(abs(parametersWQ20['gauss_1_center']))\n",
    "print(abs(parametersWQ20['gauss_1_sigma']))"
   ]
  },
  {
   "cell_type": "code",
   "execution_count": 185,
   "metadata": {
    "collapsed": true
   },
   "outputs": [],
   "source": [
    "def Klein_Nishina_WQ(Theta,P):\n",
    "    return 1/2*2.817940323**2*P*(1-P*(np.sin(Theta))**2+P**2)\n",
    "#alles *10**(-30)\n",
    "def Klein_Nishina_WQ_err(Theta,Theta_err,\n",
    "                         P,P_err):\n",
    "    a = 1/2*2.817940323**2*P_err*(1-P*(np.sin(Theta))**2+P**2)\n",
    "    b = 1/2*2.817940323**2*P*(P_err*(np.sin(Theta))**2+2*P*P_err)\n",
    "    c = 1/2*2.817940323**2*P*(P*2*np.sin(Theta)*np.cos(Theta)*Theta_err)\n",
    "    return np.sqrt(a**2+b**2+c**2)"
   ]
  },
  {
   "cell_type": "code",
   "execution_count": 186,
   "metadata": {
    "collapsed": false
   },
   "outputs": [],
   "source": [
    "def P_Klein_Nishina_theo(Theta):\n",
    "    return 1/(1+662/510.998946*(1-np.cos(Theta)))\n",
    "\n",
    "def P_Klein_Nishina_theo_err(Theta,\n",
    "                             Theta_err):\n",
    "    return abs(1/(1+662/510.998946*(1-np.cos(Theta)))**2*662/510.998946*(np.sin(Theta))*Theta_err)\n"
   ]
  },
  {
   "cell_type": "code",
   "execution_count": 187,
   "metadata": {
    "collapsed": false
   },
   "outputs": [],
   "source": [
    "# Energien, Energien_err\n",
    "def P_Klein_Nishina_exp(Energien_keV):\n",
    "    return Energien_keV/662\n",
    "\n",
    "def P_Klein_Nishina_exp_err(Energien_keV_err):\n",
    "    return Energien_keV_err/662"
   ]
  },
  {
   "cell_type": "code",
   "execution_count": 188,
   "metadata": {
    "collapsed": true
   },
   "outputs": [],
   "source": [
    "def fkt_geom_WQ(Delta_N_R,\n",
    "            N_Ges,\n",
    "            N_T_pro_F,\n",
    "            Delta_Omeg):\n",
    "    return Delta_N_R/(N_Ges*N_T_pro_F*Delta_Omeg)\n",
    "\n",
    "def fkt_geom_WQ_err(Delta_N_R,Delta_N_R_err,\n",
    "            N_Ges,N_Ges_err,\n",
    "            N_T_pro_F,N_T_pro_F_err,\n",
    "            Delta_Omeg,Delta_Omeg_err):\n",
    "    a = Delta_N_R_err/(N_Ges*N_T_pro_F*Delta_Omeg)\n",
    "    b = Delta_N_R/((N_Ges)**2*N_T_pro_F*Delta_Omeg)*N_Ges_err\n",
    "    c = Delta_N_R/(N_Ges*(N_T_pro_F)**2*Delta_Omeg)*N_T_pro_F_err\n",
    "    d = Delta_N_R/(N_Ges*N_T_pro_F*(Delta_Omeg)**2)*Delta_Omeg_err\n",
    "    return np.sqrt(a**2+b**2+c**2+d**2)"
   ]
  },
  {
   "cell_type": "code",
   "execution_count": 189,
   "metadata": {
    "collapsed": false
   },
   "outputs": [],
   "source": [
    "Alu_lambda = 0.198 #1/cm\n",
    "Alu_lambda_err = 0.009#1/cm\n",
    "d_Alu = 1.0050#cm\n",
    "d_Alu_err = 0.0025#cm\n",
    "a_T_D = 37.8 #cm\n",
    "a_T_D_err = 0.1 #cm\n",
    "N_0 = 17890*10**3\n",
    "N_0_err = 456*10**3\n",
    "D = 5.1 #cm\n",
    "n_e = 7.83*10**23*10**6 #m^-3\n",
    "Delta_Omega = np.pi*D**2/(4*a_T_D**2)\n",
    "Delta_Omega_err = np.pi*D**2/(4*a_T_D**3)*2*a_T_D_err"
   ]
  },
  {
   "cell_type": "code",
   "execution_count": 190,
   "metadata": {
    "collapsed": true
   },
   "outputs": [],
   "source": [
    "Energien = np.array(Energien)\n",
    "Energien_err = np.array(Energien_err)\n",
    "Theta_exp = np.array([20,30,40,50,60,70,80])\n",
    "Theta_exp_err = np.array([0.5,0.5,0.5,0.5,0.5,0.5,0.5])\n",
    "Theta_exp = Theta_exp*np.pi/180\n",
    "Theta_exp_err = Theta_exp_err*np.pi/180\n",
    "epsilon = np.array([0.495,0.505,0.550,0.580,0.635,0.670,0.720])\n",
    "epsilon_err = np.array([0.025,0.025,0.025,0.025,0.025,0.025,0.025])\n",
    "N_Detektor = np.array([8804,8089,6870,5897,5432,5217,5194])\n",
    "N_Detektor_err = np.array([270,143,103,93,93,94,99])\n",
    "P_Klein_Nishina_th = []\n",
    "P_Klein_Nishina_th_err = []\n",
    "P_Klein_Nishina_ex = []\n",
    "P_Klein_Nishina_ex_err = []\n",
    "for i,j,k,l in zip(Theta_exp,Theta_exp_err,Energien,Energien_err):\n",
    "    P_Klein_Nishina_ex.append(P_Klein_Nishina_exp(k))\n",
    "    P_Klein_Nishina_ex_err.append(P_Klein_Nishina_exp_err(l)) \n",
    "    P_Klein_Nishina_th.append(P_Klein_Nishina_theo(i))\n",
    "    P_Klein_Nishina_th_err.append(P_Klein_Nishina_theo_err(i,j))\n",
    "\n",
    "P_Klein_Nishina_ex = np.array(P_Klein_Nishina_ex)\n",
    "P_Klein_Nishina_ex_err = np.array(P_Klein_Nishina_ex_err)\n",
    "P_Klein_Nishina_th = np.array(P_Klein_Nishina_th)\n",
    "P_Klein_Nishina_th_err = np.array(P_Klein_Nishina_th_err)"
   ]
  },
  {
   "cell_type": "code",
   "execution_count": 191,
   "metadata": {
    "collapsed": false
   },
   "outputs": [],
   "source": [
    "def fkt_Delta_N_R(N_Detek,\n",
    "                  epsilon_exp):\n",
    "    return N_Detek/(epsilon_exp)\n",
    "def fkt_Delta_N_R_err(N_Detek,N_Detek_err,\n",
    "                  epsilon_exp,epsilon_exp_err):\n",
    "    a = N_Detek_err/(epsilon_exp)\n",
    "    b = N_Detek/((epsilon_exp)**2)*epsilon_exp_err\n",
    "    return np.sqrt(a**2+b**2)\n",
    "def fkt_N_Ges(N_0,Alu_lamb,d_Eff):\n",
    "    return N_0*np.exp(-Alu_lamb*d_Eff)\n",
    "def fkt_N_Ges_err(N_0,N_0_err,\n",
    "                  Alu_lamb,Alu_lamb_err,\n",
    "                  d_Eff,d_Eff_err):\n",
    "    a = N_0_err*np.exp(-Alu_lamb*d_Eff)\n",
    "    b = N_0*np.exp(-Alu_lamb*d_Eff)*d_Eff*Alu_lamb_err\n",
    "    c = N_0*np.exp(-Alu_lamb*d_Eff)*Alu_lamb*d_Eff_err\n",
    "    return np.sqrt(a**2+b**2+c**2)\n",
    "def fkt_d_Eff(Theta):\n",
    "    return d_Alu/np.cos(Theta/2)\n",
    "def fkt_d_Eff_err(Theta,Theta_err):\n",
    "    a = d_Alu_err/np.cos(Theta/2)\n",
    "    b = d_Alu/(np.cos(Theta/2))**2*np.sin(Theta/2)*1/2*Theta_err\n",
    "    return np.sqrt(a**2+b**2)\n",
    "def fkt_N_T_pro_F(d_Eff):\n",
    "    return n_e*d_Eff*0.01\n",
    "def fkt_N_T_pro_F_err(d_Eff_err):\n",
    "    return n_e*d_Eff_err*0.01\n",
    "Delta_N_R = []\n",
    "Delta_N_R_err = []\n",
    "d_Eff = []\n",
    "d_Eff_err = []\n",
    "N_Ges = []\n",
    "N_Ges_err = []\n",
    "N_T_pro_F = []\n",
    "N_T_pro_F_err = []\n",
    "for i,j in zip(Theta_exp,Theta_exp_err):\n",
    "    d_Eff.append(fkt_d_Eff(i))\n",
    "    d_Eff_err.append(fkt_d_Eff_err(i,j))\n",
    "d_Eff = np.array(d_Eff)\n",
    "d_Eff_err = np.array(d_Eff_err)\n",
    "for i,j,k,l in zip(N_Detektor,N_Detektor_err,epsilon,epsilon_err):\n",
    "    Delta_N_R.append(fkt_Delta_N_R(i,k))\n",
    "    Delta_N_R_err.append(fkt_Delta_N_R_err(i,j,k,l))\n",
    "Delta_N_R = np.array(Delta_N_R)\n",
    "Delta_N_R_err = np.array(Delta_N_R_err)\n",
    "for i,j in zip(d_Eff,d_Eff_err):\n",
    "    N_Ges.append(fkt_N_Ges(N_0,Alu_lambda,i))\n",
    "    N_Ges_err.append(fkt_N_Ges_err(N_0,N_0_err,Alu_lambda,Alu_lambda_err,i,j))\n",
    "    N_T_pro_F.append(fkt_N_T_pro_F(i))\n",
    "    N_T_pro_F_err.append(fkt_N_T_pro_F_err(j))\n",
    "N_T_pro_F = np.array(N_T_pro_F)\n",
    "N_T_pro_F_err = np.array(N_T_pro_F_err)\n",
    "N_Ges = np.array(N_Ges)\n",
    "N_Ges_err = np.array(N_Ges_err)"
   ]
  },
  {
   "cell_type": "code",
   "execution_count": 192,
   "metadata": {
    "collapsed": false
   },
   "outputs": [
    {
     "name": "stdout",
     "output_type": "stream",
     "text": [
      "[array([ 6.45137026,  5.11896172,  3.8751761 ,  2.89394047,  2.20030423,\n",
      "        1.74627365,  1.46665547]), array([ 0.03855028,  0.04264921,  0.03893628,  0.0317608 ,  0.02417084,\n",
      "        0.01766485,  0.01275795]), array([ 6.73101148,  5.69586216,  4.35176064,  3.26576522,  2.46184031,\n",
      "        1.92570973,  1.59676323]), array([ 0.18687262,  0.27144874,  0.28143181,  0.24697337,  0.21638494,\n",
      "        0.19388104,  0.14375798]), array([ 7.47633981,  6.94818921,  6.30031657,  5.61086492,  4.96299229,\n",
      "        4.43484168,  4.09011586]), array([ 0.02227145,  0.03000624,  0.03412184,  0.03412184,  0.03000624,\n",
      "        0.02227145,  0.01185039]), array([  1.06511114e-29,   9.44563746e-30,   7.20711720e-30,\n",
      "         5.70227625e-30,   4.63149702e-30,   4.04040976e-30,\n",
      "         3.56001849e-30]), array([  6.95214955e-31,   5.61718786e-31,   3.99350849e-31,\n",
      "         3.06798322e-31,   2.38109910e-31,   2.03349143e-31,\n",
      "         1.74657002e-31])]\n"
     ]
    }
   ],
   "source": [
    "Klein_Nishina_WQ_theo = []\n",
    "Klein_Nishina_WQ_theo_err = []\n",
    "Klein_Nishina_WQ_exp = []\n",
    "Klein_Nishina_WQ_exp_err = []\n",
    "Thompson_WQ = []\n",
    "Thompson_WQ_err = []\n",
    "geom_WQ = []\n",
    "geom_WQ_err = []\n",
    "for i,j,k,l in zip(Theta_exp,Theta_exp_err,P_Klein_Nishina_th,P_Klein_Nishina_th_err):\n",
    "    Klein_Nishina_WQ_theo.append(Klein_Nishina_WQ(i,k))\n",
    "    Klein_Nishina_WQ_theo_err.append(Klein_Nishina_WQ_err(i,j,k,l))\n",
    "Klein_Nishina_WQ_theo = np.array(Klein_Nishina_WQ_theo)\n",
    "Klein_Nishina_WQ_theo_err = np.array(Klein_Nishina_WQ_theo_err)\n",
    "for i,j,k,l in zip(Theta_exp,Theta_exp_err,P_Klein_Nishina_ex,P_Klein_Nishina_ex_err): \n",
    "    Klein_Nishina_WQ_exp.append(Klein_Nishina_WQ(i,k))\n",
    "    Klein_Nishina_WQ_exp_err.append(Klein_Nishina_WQ_err(i,j,k,l))\n",
    "Klein_Nishina_WQ_exp = np.array(Klein_Nishina_WQ_exp)\n",
    "Klein_Nishina_WQ_exp_err = np.array(Klein_Nishina_WQ_exp_err)\n",
    "for i,j in zip(Theta_exp,Theta_exp_err):\n",
    "    Thompson_WQ.append(Klein_Nishina_WQ(i,1))\n",
    "    Thompson_WQ_err.append(Klein_Nishina_WQ_err(i,j,1,0))\n",
    "Thompson_WQ = np.array(Thompson_WQ)\n",
    "Thompson_WQ_err = np.array(Thompson_WQ_err)\n",
    "for i,j,k,l,m,n in zip(Delta_N_R,Delta_N_R_err,N_Ges,N_Ges_err,N_T_pro_F,N_T_pro_F_err):\n",
    "    geom_WQ.append(fkt_geom_WQ(i,k,m,Delta_Omega))\n",
    "    geom_WQ_err.append(fkt_geom_WQ_err(i,j,k,l,m,n,Delta_Omega,Delta_Omega_err))\n",
    "geom_WQ = np.array(geom_WQ)\n",
    "geom_WQ_err = np.array(geom_WQ_err)\n",
    "\n",
    "WQ = [Klein_Nishina_WQ_theo,Klein_Nishina_WQ_theo_err,\n",
    "      Klein_Nishina_WQ_exp,Klein_Nishina_WQ_exp_err,\n",
    "     Thompson_WQ,Thompson_WQ_err,\n",
    "     geom_WQ,geom_WQ_err]\n",
    "print(WQ)"
   ]
  },
  {
   "cell_type": "code",
   "execution_count": 193,
   "metadata": {
    "collapsed": false
   },
   "outputs": [
    {
     "name": "stdout",
     "output_type": "stream",
     "text": [
      "6.45137025764 0.038550284751 6.73101147591 0.186872621396 7.47633981399 0.0222714481108 1.06511113853e-29 6.95214954816e-31\n",
      "5.11896171634 0.0426492099747 5.69586215659 0.271448743819 6.94818920599 0.0300062408676 9.44563746322e-30 5.61718785663e-31\n",
      "3.87517609758 0.0389362834266 4.35176064424 0.28143180979 6.30031657476 0.0341218381309 7.20711719875e-30 3.99350849052e-31\n",
      "2.89394047262 0.0317608028771 3.26576522412 0.246973372327 5.61086492122 0.0341218381309 5.70227624721e-30 3.06798321547e-31\n",
      "2.20030422623 0.0241708400795 2.46184031025 0.216384944242 4.96299228999 0.0300062408676 4.63149701994e-30 2.38109910236e-31\n",
      "1.74627364692 0.0176648476003 1.92570972855 0.193881044149 4.434841682 0.0222714481108 4.04040975763e-30 2.03349142576e-31\n",
      "1.46665546707 0.0127579528181 1.5967632332 0.143757982679 4.09011585522 0.0118503900202 3.56001848603e-30 1.74657002143e-31\n"
     ]
    }
   ],
   "source": [
    "for i in range(0,7):\n",
    "    print(WQ[0][i],WQ[1][i],WQ[2][i],WQ[3][i],WQ[4][i],WQ[5][i],WQ[6][i],WQ[7][i])"
   ]
  },
  {
   "cell_type": "code",
   "execution_count": 194,
   "metadata": {
    "collapsed": false
   },
   "outputs": [
    {
     "name": "stdout",
     "output_type": "stream",
     "text": [
      "dTheta+err = 6.071428571428572 0.016061980347694637\n",
      "N_Reaktion/Delta_N_R\n",
      "436.858236512\n",
      "492.611086842\n",
      "645.615383843\n",
      "815.99444414\n",
      "1004.64832788\n",
      "1151.62224027\n",
      "1307.02291433\n",
      "d_neg,d_pos\n",
      "[ 1.01611532  1.03348153  1.05965653  1.09574784  1.14339308  1.20495743\n",
      "  1.2838557 ] [ 1.02565279  1.04825855  1.0802902   1.12315848  1.17891255  1.25050527\n",
      "  1.34223115]\n",
      "Delta_N_T_pro_F/N_T_pro_F \n",
      "0.0093458373189\n",
      "0.0142024838979\n",
      "0.0192928423937\n",
      "0.0247188804367\n",
      "0.0306077179441\n",
      "0.0371249786521\n",
      "0.0444957110616\n",
      "Delta_N_Ges/N_Ges \n",
      "-0.00188827555857\n",
      "-0.00292560732875\n",
      "-0.00408508534865\n",
      "-0.00542671304895\n",
      "-0.00703192286074\n",
      "-0.00901697939201\n",
      "-0.0115558656205\n",
      "[array([ 0.16064754,  0.18737489,  0.25760835,  0.34657932,  0.4612519 ,\n",
      "        0.58095507,  0.73729568]), array([ 0.8497809 ,  0.68054087,  0.73022468,  0.82552512,  0.9698076 ,\n",
      "        1.11788735,  1.33613469])]\n"
     ]
    }
   ],
   "source": [
    "N_Reaktion = []\n",
    "N_Reaktion_err = []\n",
    "def fkt_N_Reaktion(N_T_pro_F,N_Ges):\n",
    "    return 8*np.pi/3*(2.81794**2)*N_T_pro_F*N_Ges*10**(-30) #mal 10**(-30)\n",
    "    \n",
    "def fkt_N_Reaktion_err(N_T_pro_F,N_T_pro_F_err,N_Ges,N_Ges_err):\n",
    "    a = 8*np.pi/3*(2.81794**2)*N_T_pro_F_err*N_Ges*10**(-30) #mal 10**(-30)\n",
    "    b = 8*np.pi/3*(2.81794**2)*N_T_pro_F*N_Ges_err*10**(-30) #mal 10**(-30)\n",
    "    return np.sqrt(a**2+b**2)\n",
    "for i,j,k,l in zip(N_T_pro_F,N_T_pro_F_err,N_Ges,N_Ges_err):\n",
    "    N_Reaktion.append(fkt_N_Reaktion(i,k))\n",
    "    N_Reaktion_err.append(fkt_N_Reaktion_err(i,j,k,l))\n",
    "N_Reaktion = np.array(N_Reaktion)\n",
    "N_Reaktion_err = np.array(N_Reaktion_err)\n",
    "\n",
    "N_Reaktion_dphi = []\n",
    "N_Reaktion_dphi_err = []\n",
    "dTheta = np.pi*D/(4*a_T_D)\n",
    "dTheta_err = np.pi*D/(4*(a_T_D)**2)*a_T_D_err\n",
    "print('dTheta+err = '+str(dTheta*180/np.pi)+' '+str(dTheta_err*180/np.pi))\n",
    "def fkt_N_Reaktion_dphi(Theta_exp,\n",
    "                        N_Reaktion):\n",
    "    return dTheta/(np.sin(Theta_exp)*2*np.pi)*N_Reaktion\n",
    "def fkt_N_Reaktion_dphi_err(Theta_exp,Theta_exp_err,\n",
    "                            N_Reaktion,N_Reaktion_err):\n",
    "    a = dTheta/((np.sin(Theta_exp))**2*2*np.pi)*N_Reaktion*np.cos(Theta_exp)*Theta_exp_err\n",
    "    b = dTheta_err/(np.sin(Theta_exp)*2*np.pi)*N_Reaktion\n",
    "    c = dTheta/(np.sin(Theta_exp)*2*np.pi)*N_Reaktion_err\n",
    "    return np.sqrt(a**2+b**2+c**2)\n",
    "for i,j,k,l in zip(Theta_exp,Theta_exp_err,\n",
    "                   N_Reaktion,N_Reaktion_err):\n",
    "    N_Reaktion_dphi.append(fkt_N_Reaktion_dphi(i,k))\n",
    "    N_Reaktion_dphi_err.append(fkt_N_Reaktion_dphi_err(i,j,k,l))\n",
    "N_Reaktion_dphi = np.array(N_Reaktion_dphi)\n",
    "N_Reaktion_dphi_err = np.array(N_Reaktion_dphi_err)\n",
    "\n",
    "print('N_Reaktion/Delta_N_R')\n",
    "for i,j in zip (N_Reaktion,Delta_N_R):\n",
    "    print(i/j)\n",
    "#Del_Sigma_nach_Del_Omega = []\n",
    "#Del_Sigma_nach_Del_Omega_err = []\n",
    "#Delta_Omega = np.pi*D**2/(4*a_T_D**2)\n",
    "#Delta_Omega_err = np.pi*D**2/(4*a_T_D**3)*2*a_T_D_err\n",
    "Del_N_Ges = []\n",
    "Del_N_Ges_err = []\n",
    "#N_Ges1 = []\n",
    "#N_Ges1_err = []\n",
    "#N_Ges2 = []\n",
    "#N_Ges2_err = []\n",
    "Del_N_T_pro_F = []\n",
    "Del_N_T_pro_F_err = []\n",
    "#N_T_pro_F1 = []\n",
    "#N_T_pro_F1_err = []\n",
    "#N_T_pro_F2 = []\n",
    "#N_T_pro_F2_err = []\n",
    "#N_Reaktion1 = []\n",
    "#N_Reaktion1_err = []\n",
    "#N_Reaktion2 = []\n",
    "#N_Reaktion2_err = []\n",
    "d_Eff_neg = []\n",
    "d_Eff_neg_err = []\n",
    "d_Eff_pos = []\n",
    "d_Eff_pos_err = []\n",
    "for i,j in zip(Theta_exp,Theta_exp_err):\n",
    "    d_Eff_neg.append(fkt_d_Eff(i-3.035*np.pi/180))\n",
    "    d_Eff_neg_err.append(fkt_d_Eff_err(i-3.035*np.pi/180,j))\n",
    "    d_Eff_pos.append(fkt_d_Eff(i+3.035*np.pi/180))\n",
    "    d_Eff_pos_err.append(fkt_d_Eff_err(i+3.035*np.pi/180,j))\n",
    "d_Eff_neg = np.array(d_Eff_neg)\n",
    "d_Eff_neg_err = np.array(d_Eff_neg_err)\n",
    "d_Eff_pos = np.array(d_Eff_pos)\n",
    "d_Eff_pos_err = np.array(d_Eff_pos_err)\n",
    "print('d_neg,d_pos')\n",
    "print(d_Eff_neg,d_Eff_pos)\n",
    "#for i,j in zip(d_Eff_pos,d_Eff_pos_err):\n",
    "#    N_Ges1.append(fkt_N_Ges(N_0,Alu_lambda,i))\n",
    "#    N_Ges1_err.append(fkt_N_Ges_err(N_0,N_0_err,Alu_lambda,Alu_lambda_err,i,j))\n",
    "#    N_T_pro_F1.append(fkt_N_T_pro_F(i))\n",
    "#    N_T_pro_F1_err.append(fkt_N_T_pro_F_err(j))\n",
    "#N_T_pro_F1 = np.array(N_T_pro_F1)\n",
    "#N_T_pro_F1_err = np.array(N_T_pro_F1_err)\n",
    "#N_Ges1 = np.array(N_Ges1)\n",
    "#N_Ges1_err = np.array(N_Ges1_err)\n",
    "#for i,j in zip(d_Eff_neg,d_Eff_neg_err):\n",
    "#    N_Ges2.append(fkt_N_Ges(N_0,Alu_lambda,i))\n",
    "#    N_Ges2_err.append(fkt_N_Ges_err(N_0,N_0_err,Alu_lambda,Alu_lambda_err,i,j))\n",
    "#    N_T_pro_F2.append(fkt_N_T_pro_F(i))\n",
    "#    N_T_pro_F2_err.append(fkt_N_T_pro_F_err(j))\n",
    "#N_T_pro_F2 = np.array(N_T_pro_F2)\n",
    "#N_T_pro_F2_err = np.array(N_T_pro_F2_err)\n",
    "#N_Ges2 = np.array(N_Ges2)\n",
    "#N_Ges2_err = np.array(N_Ges2_err)\n",
    "#for i,j,k,l in zip(N_T_pro_F1,N_T_pro_F1_err,N_Ges1,N_Ges1_err):\n",
    "#    N_Reaktion1.append(fkt_N_Reaktion(i,k))\n",
    "#    N_Reaktion1_err.append(fkt_N_Reaktion_err(i,j,k,l))\n",
    "#N_Reaktion1 = np.array(N_Reaktion1)\n",
    "#N_Reaktion1_err = np.array(N_Reaktion1_err)\n",
    "#for i,j,k,l in zip(N_T_pro_F2,N_T_pro_F2_err,N_Ges2,N_Ges2_err):\n",
    "#    N_Reaktion2.append(fkt_N_Reaktion(i,k))\n",
    "#    N_Reaktion2_err.append(fkt_N_Reaktion_err(i,j,k,l))\n",
    "#N_Reaktion2 = np.array(N_Reaktion1)\n",
    "#N_Reaktion2_err = np.array(N_Reaktion1_err)\n",
    "#N_Reaktion_dphi1 = []\n",
    "#N_Reaktion_dphi1_err = []\n",
    "#N_Reaktion_dphi2 = []\n",
    "#N_Reaktion_dphi2_err = []\n",
    "#for i,j,k,l in zip(Theta_exp,Theta_exp_err,\n",
    "#                   N_Reaktion1,N_Reaktion1_err):\n",
    "#    N_Reaktion_dphi1.append(fkt_N_Reaktion_dphi(i,k))\n",
    "#    N_Reaktion_dphi1_err.append(fkt_N_Reaktion_dphi_err(i,j,k,l))\n",
    "#N_Reaktion_dphi1 = np.array(N_Reaktion_dphi1)\n",
    "#N_Reaktion_dphi1_err = np.array(N_Reaktion_dphi1_err)\n",
    "#for i,j,k,l in zip(Theta_exp,Theta_exp_err,\n",
    "#                   N_Reaktion2,N_Reaktion2_err):\n",
    "#    N_Reaktion_dphi2.append(fkt_N_Reaktion_dphi(i,k))\n",
    "#    N_Reaktion_dphi2_err.append(fkt_N_Reaktion_dphi_err(i,j,k,l))\n",
    "#N_Reaktion_dphi2 = np.array(N_Reaktion_dphi2)\n",
    "#N_Reaktion_dphi2_err = np.array(N_Reaktion_dphi2_err)\n",
    "\n",
    "#def fkt_Del_Sigma_nach_Del_Omega(N_Reaktion1,N_Reaktion2,N_Ges1,N_Ges2,N_T_pro_F1,N_T_pro_F2,Delta_Omega):\n",
    "#    return abs(N_Reaktion1/(N_Ges1*N_T_pro_F1*Delta_Omega)-N_Reaktion2/(N_Ges2*N_T_pro_F2*Delta_Omega))\n",
    "#for i,j,k,l,m,n,o,p,q,r,s,t in zip(N_Reaktion_dphi1,N_Reaktion_dphi1_err,\n",
    "#                                   N_Reaktion_dphi2,N_Reaktion_dphi2_err,\n",
    "#                                   N_Ges1,N_Ges1_err,\n",
    "#                                   N_Ges2,N_Ges2_err,\n",
    "#                                   N_T_pro_F1,N_T_pro_F1_err,\n",
    "#                                   N_T_pro_F2,N_T_pro_F2_err):\n",
    "#    Del_Sigma_nach_Del_Omega.append(fkt_Del_Sigma_nach_Del_Omega(i,k,m,o,q,s,Delta_Omega))\n",
    "#Del_Sigma_nach_Del_Omega = np.array(Del_Sigma_nach_Del_Omega)\n",
    "#print('Del_Sigma_nach_Del_Omega = ')\n",
    "#print(Del_Sigma_nach_Del_Omega)\n",
    "for i,j,k,l in zip(d_Eff_neg,d_Eff_neg_err,d_Eff_pos,d_Eff_pos_err):\n",
    "    Del_N_Ges.append(fkt_N_Ges(N_0,Alu_lambda,k)-fkt_N_Ges(N_0,Alu_lambda,i))\n",
    "    Del_N_Ges_err.append(np.sqrt(fkt_N_Ges_err(N_0,N_0_err,Alu_lambda,Alu_lambda_err,k,l)**2+fkt_N_Ges_err(N_0,N_0_err,Alu_lambda,Alu_lambda_err,i,j)**2))\n",
    "    Del_N_T_pro_F.append(fkt_N_T_pro_F(k)-fkt_N_T_pro_F(i))\n",
    "    Del_N_T_pro_F_err.append(np.sqrt(fkt_N_T_pro_F_err(l)**2+fkt_N_T_pro_F_err(j)**2))\n",
    "Del_N_T_pro_F = np.array(Del_N_T_pro_F)\n",
    "Del_N_T_pro_F_err = np.array(Del_N_T_pro_F)\n",
    "Del_N_Ges = np.array(Del_N_Ges)\n",
    "Del_N_Ges_err = np.array(Del_N_Ges_err)\n",
    "print('Delta_N_T_pro_F/N_T_pro_F ')\n",
    "for i,j in zip (Del_N_T_pro_F,N_T_pro_F):\n",
    "    print(i/j)\n",
    "print('Delta_N_Ges/N_Ges ')\n",
    "for i,j in zip (Del_N_Ges,N_Ges):\n",
    "    print(i/j)\n",
    "alpha = []\n",
    "alpha_err = []\n",
    "def fkt_alpha(N_Reaktion_dphi,\n",
    "              Delta_N_R,\n",
    "              N_T_pro_F,\n",
    "              Del_N_T_pro_F,\n",
    "              N_Ges,\n",
    "              Del_N_Ges):\n",
    "    return N_Reaktion_dphi/Delta_N_R*(Del_N_T_pro_F/N_T_pro_F+Del_N_Ges/N_Ges)\n",
    "def fkt_alpha_err(N_Reaktion_dphi,N_Reaktion_dphi_err,\n",
    "                  Delta_N_R,Delta_N_R_err,\n",
    "                  N_T_pro_F,N_T_pro_F_err,\n",
    "                  Del_N_T_pro_F,Del_N_T_pro_F_err,\n",
    "                  N_Ges,N_Ges_err,\n",
    "                  Del_N_Ges,Del_N_Ges_err):\n",
    "    a = N_Reaktion_dphi_err/Delta_N_R*(Del_N_T_pro_F/N_T_pro_F+Del_N_Ges/N_Ges)\n",
    "    b = N_Reaktion_dphi/Delta_N_R*(Del_N_T_pro_F_err/N_T_pro_F)\n",
    "    c = N_Reaktion_dphi/Delta_N_R*(Del_N_Ges_err/N_Ges)\n",
    "    d = N_Reaktion_dphi/(Delta_N_R)**2*Delta_N_R_err*(Del_N_T_pro_F/N_T_pro_F+Del_N_Ges/N_Ges)\n",
    "    e = N_Reaktion_dphi/Delta_N_R*(Del_N_T_pro_F/(N_T_pro_F)**2*N_T_pro_F_err)\n",
    "    f = N_Reaktion_dphi/Delta_N_R*(Del_N_Ges/(N_Ges)**2*N_Ges_err)\n",
    "    return np.sqrt(a**2+b**2+c**2+d**2+e**2+f**2)\n",
    "for i,j,k,l,m,n,o,p,q,r,s,t in zip(N_Reaktion_dphi,N_Reaktion_dphi_err,\n",
    "                  Delta_N_R,Delta_N_R_err,\n",
    "                  N_T_pro_F,N_T_pro_F_err,\n",
    "                  Del_N_T_pro_F,Del_N_T_pro_F_err,\n",
    "                  N_Ges,N_Ges_err,\n",
    "                  Del_N_Ges,Del_N_Ges_err):\n",
    "    alpha.append(fkt_alpha(i,k,m,o,q,s))\n",
    "    alpha_err.append(fkt_alpha_err(i,j,k,l,m,n,o,p,q,r,s,t))\n",
    "alpha = np.array(alpha)\n",
    "alpha_err = np.array(alpha_err)\n",
    "alpha_ges = [alpha,alpha_err]\n",
    "print(alpha_ges)"
   ]
  },
  {
   "cell_type": "code",
   "execution_count": 202,
   "metadata": {
    "collapsed": false
   },
   "outputs": [
    {
     "name": "stdout",
     "output_type": "stream",
     "text": [
      "0.160647544453 0.849780896196 5.2897222867 8.940036495553157 9.06990174415\n",
      "0.187374891249 0.680540865487 3.63197470562 7.675762170767368 6.44432892436\n",
      "0.257608345614 0.730224680281 2.83463130257 5.350503660531797 5.27115902232\n",
      "0.346579320494 0.825525117085 2.38192260262 3.725985220183221 4.71163891052\n",
      "0.461251903443 0.969807598133 2.10255522177 2.4952102037038815 4.49349247544\n",
      "0.580955074739 1.1178873516 1.9242234042 1.6931132049075663 4.5175267\n",
      "0.737295679415 1.33613468667 1.81221011323 0.9352322376449774 4.75688547544\n",
      "Winkel + Fehler + Wirkungsquerschnitt + Fehler\n",
      "20 0.5 8.940036495553157 9.06990174415 6.45137025764 0.038550284751 6.73101147591 0.186872621396 7.47633981399 0.0222714481108 10.651111385294046 0.6952149548163312\n",
      "30 0.5 7.675762170767368 6.44432892436 5.11896171634 0.0426492099747 5.69586215659 0.271448743819 6.94818920599 0.0300062408676 9.445637463219919 0.5617187856634411\n",
      "40 0.5 5.350503660531797 5.27115902232 3.87517609758 0.0389362834266 4.35176064424 0.28143180979 6.30031657476 0.0341218381309 7.207117198745856 0.3993508490524524\n",
      "50 0.5 3.725985220183221 4.71163891052 2.89394047262 0.0317608028771 3.26576522412 0.246973372327 5.61086492122 0.0341218381309 5.702276247210987 0.30679832154660674\n",
      "60 0.5 2.4952102037038815 4.49349247544 2.20030422623 0.0241708400795 2.46184031025 0.216384944242 4.96299228999 0.0300062408676 4.631497019939759 0.23810991023626202\n",
      "70 0.5 1.6931132049075663 4.5175267 1.74627364692 0.0176648476003 1.92570972855 0.193881044149 4.434841682 0.0222714481108 4.040409757626548 0.2033491425756835\n",
      "80 0.5 0.9352322376449774 4.75688547544 1.46665546707 0.0127579528181 1.5967632332 0.143757982679 4.09011585522 0.0118503900202 3.5600184860331647 0.1746570021425588\n"
     ]
    }
   ],
   "source": [
    "for i in range(0,7):\n",
    "    print(alpha_ges[0][i],alpha_ges[1][i],alpha_ges[1][i]/alpha_ges[0][i],\n",
    "          WQ[6][i]*(1-alpha_ges[0][i])*10**30,\n",
    "          np.sqrt((WQ[6][i]*alpha_ges[1][i]*10**30)**2+(WQ[7][i]*(1-alpha_ges[0][i])*10**30)**2))\n",
    "print('Winkel + Fehler + Wirkungsquerschnitt + Fehler')\n",
    "for i in range(0,7):\n",
    "    print((i+2)*10,0.5,WQ[6][i]*(1-alpha_ges[0][i])*10**30,\n",
    "          np.sqrt((WQ[6][i]*alpha_ges[1][i]*10**30)**2+(WQ[7][i]*(1-alpha_ges[0][i])*10**30)**2),\n",
    "          WQ[0][i],WQ[1][i],WQ[2][i],WQ[3][i],WQ[4][i],WQ[5][i],WQ[6][i]*10**30,WQ[7][i]*10**30)\n",
    "    "
   ]
  },
  {
   "cell_type": "code",
   "execution_count": 206,
   "metadata": {
    "collapsed": false
   },
   "outputs": [
    {
     "name": "stdout",
     "output_type": "stream",
     "text": [
      "   Theta  error_Theta  WQ_geom_korr  error_WQ_geom_korr  WQ_KN_th  \\\n",
      "1     20          0.5      8.940036            9.069902  6.451370   \n",
      "2     30          0.5      7.675762            6.444329  5.118962   \n",
      "3     40          0.5      5.350504            5.271159  3.875176   \n",
      "4     50          0.5      3.725985            4.711639  2.893940   \n",
      "5     60          0.5      2.495210            4.493492  2.200304   \n",
      "6     70          0.5      1.693113            4.517527  1.746274   \n",
      "7     80          0.5      0.935232            4.756885  1.466655   \n",
      "\n",
      "   error_WQ_KN_th  WQ_KN_exp  error_WQ_KN_exp  WQ_Thompson  error_WQ_Thompson  \\\n",
      "1        0.038550   6.731011         0.186873     7.476340           0.022271   \n",
      "2        0.042649   5.695862         0.271449     6.948189           0.030006   \n",
      "3        0.038936   4.351761         0.281432     6.300317           0.034122   \n",
      "4        0.031761   3.265765         0.246973     5.610865           0.034122   \n",
      "5        0.024171   2.461840         0.216385     4.962992           0.030006   \n",
      "6        0.017665   1.925710         0.193881     4.434842           0.022271   \n",
      "7        0.012758   1.596763         0.143758     4.090116           0.011850   \n",
      "\n",
      "     WQ_geom  error_WQ_geom  \n",
      "1  10.651111       0.695215  \n",
      "2   9.445637       0.561719  \n",
      "3   7.207117       0.399351  \n",
      "4   5.702276       0.306798  \n",
      "5   4.631497       0.238110  \n",
      "6   4.040410       0.203349  \n",
      "7   3.560018       0.174657  \n"
     ]
    }
   ],
   "source": [
    "Wirkungsquerschnitte = pd.read_csv(\"/home/arrow13/Git/FP/Compton/Messdaten/Grad/Winkel_WQ.csv\", header=0, delim_whitespace=True, names=['Theta','error_Theta','WQ_geom_korr','error_WQ_geom_korr','WQ_KN_th','error_WQ_KN_th','WQ_KN_exp','error_WQ_KN_exp','WQ_Thompson','error_WQ_Thompson','WQ_geom','error_WQ_geom'], index_col=0)\n",
    "print(Wirkungsquerschnitte)\n",
    "#plt.errorbar(Wirkungsquerschnitte.Theta,Wirkungsquerschnitte.WQ_geom_korr,Wirkungsquerschnitte.error_WQ_geom_korr, fmt=' .g')\n",
    "#    plt.xlabel(\"Winkel\",fontsize=24)\n",
    "#    plt.ylabel(\"Wirkungsquerschnitt\",fontsize=24)\n",
    "#    plt.xticks(fontsize=18)\n",
    "#    plt.yticks(fontsize=18)\n",
    "#    plt.legend(loc='best',fontsize=24)\n",
    "#    plt.show()"
   ]
  },
  {
   "cell_type": "code",
   "execution_count": 196,
   "metadata": {
    "collapsed": true
   },
   "outputs": [],
   "source": [
    "x_werte = np.array([1,2,3,4,5,6,7,8,9])\n",
    "y_werte = np.array([8,3,5,3,6,2,8,2,8])\n",
    "def Poly(x_werte,y_werte,x):\n",
    "    a = 0\n",
    "    i = 0\n",
    "    for j in x_werte:\n",
    "        P = 1\n",
    "        for i in x_werte:\n",
    "            if i != j:\n",
    "                P = P*(x-i)/(j-i)\n",
    "        a = a+y_werte[i]*P\n",
    "        i = i+1\n",
    "    return a"
   ]
  },
  {
   "cell_type": "code",
   "execution_count": null,
   "metadata": {
    "collapsed": true
   },
   "outputs": [],
   "source": []
  },
  {
   "cell_type": "code",
   "execution_count": null,
   "metadata": {
    "collapsed": true
   },
   "outputs": [],
   "source": []
  }
 ],
 "metadata": {
  "kernelspec": {
   "display_name": "Python 3",
   "language": "python",
   "name": "python3"
  },
  "language_info": {
   "codemirror_mode": {
    "name": "ipython",
    "version": 3
   },
   "file_extension": ".py",
   "mimetype": "text/x-python",
   "name": "python",
   "nbconvert_exporter": "python",
   "pygments_lexer": "ipython3",
   "version": "3.4.4"
  }
 },
 "nbformat": 4,
 "nbformat_minor": 0
}
