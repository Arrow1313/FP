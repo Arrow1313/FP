{
 "cells": [
  {
   "cell_type": "code",
   "execution_count": 1,
   "metadata": {
    "collapsed": false
   },
   "outputs": [],
   "source": [
    "import matplotlib.pyplot as plt\n",
    "import numpy as np\n",
    "import pandas as pd\n",
    "from lmfit.models import GaussianModel, LinearModel, ExponentialModel, Model"
   ]
  },
  {
   "cell_type": "code",
   "execution_count": 142,
   "metadata": {
    "collapsed": true
   },
   "outputs": [],
   "source": [
    "%matplotlib notebook"
   ]
  },
  {
   "cell_type": "markdown",
   "metadata": {
    "collapsed": true
   },
   "source": [
    "# Kalibrierung"
   ]
  },
  {
   "cell_type": "code",
   "execution_count": 2,
   "metadata": {
    "collapsed": false
   },
   "outputs": [],
   "source": [
    "untergrund = pd.read_csv(\"Messdaten/kalibrierung/kallibrierung_untergrund.csv\", header=14, delim_whitespace=True, names=['rate','error'], index_col=0)\n",
    "am = pd.read_csv(\"Messdaten/kalibrierung/kallibrierung_Am.csv\", header=14, delim_whitespace=True, names=['rate','error'], index_col=0)\n",
    "ba = pd.read_csv(\"Messdaten/kalibrierung/kallibrierung_Ba.csv\", header=14, delim_whitespace=True, names=['rate','error'], index_col=0)\n",
    "cs = pd.read_csv(\"Messdaten/kalibrierung/kallibrierung_Cs.csv\", header=14, delim_whitespace=True, names=['rate','error'], index_col=0)"
   ]
  },
  {
   "cell_type": "code",
   "execution_count": 3,
   "metadata": {
    "collapsed": true
   },
   "outputs": [],
   "source": [
    "x = np.arange(0,2048)"
   ]
  },
  {
   "cell_type": "code",
   "execution_count": 4,
   "metadata": {
    "collapsed": false
   },
   "outputs": [],
   "source": [
    "plt.errorbar(x,untergrund.rate,yerr=untergrund.error, fmt=' .g')\n",
    "plt.xlim([0,2050])\n",
    "plt.xlabel(\"Kanal\",fontsize=24)\n",
    "plt.ylabel(\"Counts\",fontsize=24)\n",
    "plt.xticks(fontsize=18)\n",
    "plt.yticks(fontsize=18)\n",
    "plt.legend(loc='best',fontsize=24)\n",
    "plt.show()"
   ]
  },
  {
   "cell_type": "code",
   "execution_count": 5,
   "metadata": {
    "collapsed": false
   },
   "outputs": [],
   "source": [
    "plt.plot(am.rate-untergrund.rate, ' .', label=\"Messdaten\")\n",
    "plt.legend(loc=\"best\")\n",
    "plt.show()"
   ]
  },
  {
   "cell_type": "code",
   "execution_count": 6,
   "metadata": {
    "collapsed": true
   },
   "outputs": [],
   "source": [
    "plt.plot(ba.rate-untergrund.rate, ' .')\n",
    "plt.show()"
   ]
  },
  {
   "cell_type": "code",
   "execution_count": 7,
   "metadata": {
    "collapsed": true
   },
   "outputs": [],
   "source": [
    "plt.plot(cs.rate-untergrund.rate, ' .')\n",
    "plt.show()"
   ]
  },
  {
   "cell_type": "markdown",
   "metadata": {},
   "source": [
    "## Fit der Am Daten"
   ]
  },
  {
   "cell_type": "code",
   "execution_count": 8,
   "metadata": {
    "collapsed": true
   },
   "outputs": [],
   "source": [
    "x = np.arange(0,2048)"
   ]
  },
  {
   "cell_type": "code",
   "execution_count": 9,
   "metadata": {
    "collapsed": true
   },
   "outputs": [],
   "source": [
    "gauss_0 = GaussianModel(prefix=\"gauss_0_\")\n",
    "gauss_1 = GaussianModel(prefix=\"gauss_1_\")\n",
    "gauss_2 = GaussianModel(prefix=\"gauss_2_\")\n",
    "gauss_3 = GaussianModel(prefix=\"gauss_3_\")\n",
    "gauss_4 = GaussianModel(prefix=\"gauss_4_\")\n",
    "gauss_5 = GaussianModel(prefix=\"gauss_5_\")\n",
    "gauss_6 = GaussianModel(prefix=\"gauss_6_\")"
   ]
  },
  {
   "cell_type": "code",
   "execution_count": 10,
   "metadata": {
    "collapsed": false
   },
   "outputs": [],
   "source": [
    "pars_am_1 = gauss_1.guess(am.rate,x=x)\n",
    "pars_am_1.update(gauss_2.make_params())\n",
    "pars_am_1.update(gauss_3.make_params())\n",
    "pars_am_1.update(gauss_4.make_params())\n",
    "pars_am_1.update(gauss_0.make_params())\n",
    "pars_am_2 = gauss_5.guess(am.rate,x=x)\n",
    "pars_am_2.update(gauss_6.make_params())"
   ]
  },
  {
   "cell_type": "code",
   "execution_count": 11,
   "metadata": {
    "collapsed": false
   },
   "outputs": [],
   "source": [
    "# controll the center\n",
    "pars_am_1['gauss_0_center'].set(50, min=48, max=52)\n",
    "pars_am_1['gauss_1_center'].set(65, min=63, max=68)\n",
    "pars_am_1['gauss_2_center'].set(77, min=74, max=80)\n",
    "pars_am_1['gauss_3_center'].set(98, min=95, max=101)\n",
    "pars_am_1['gauss_4_center'].set(111, min=108, max=114)\n",
    "pars_am_2['gauss_5_center'].set(181, min=178, max=184)\n",
    "pars_am_2['gauss_6_center'].set(213, min=207, max=219)\n",
    "# controll the amplitude\n",
    "pars_am_1['gauss_0_amplitude'].set(130*13)#, min=48, max=52)\n",
    "pars_am_1['gauss_1_amplitude'].set(440*13)#, min=430*2.5, max=440*2.5)\n",
    "pars_am_1['gauss_2_amplitude'].set(300*13)#, min=290*2.5, max=310*2.5)\n",
    "pars_am_1['gauss_3_amplitude'].set(310*13)#, min=300*2.5, max=320*2.5)\n",
    "pars_am_1['gauss_4_amplitude'].set(380*13)#, min=370*2.5, max=390*2.5)\n",
    "pars_am_2['gauss_5_amplitude'].set(500*13)#, min=490*2.5, max=510*2.5)\n",
    "pars_am_2['gauss_6_amplitude'].set(2500*13)#, min=2400*2.5, max=2600*2.5)\n",
    "# controll sigma\n",
    "pars_am_1['gauss_0_sigma'].set(1, min=0, max=5)\n",
    "pars_am_1['gauss_1_sigma'].set(5, min=1, max=68)\n",
    "pars_am_1['gauss_2_sigma'].set(5, min=1, max=80)\n",
    "pars_am_1['gauss_3_sigma'].set(5, min=1, max=101)\n",
    "pars_am_1['gauss_4_sigma'].set(5, min=1, max=114)\n",
    "pars_am_2['gauss_5_sigma'].set(5, min=1, max=184)\n",
    "pars_am_2['gauss_6_sigma'].set(5, min=1, max=219)"
   ]
  },
  {
   "cell_type": "code",
   "execution_count": 12,
   "metadata": {
    "collapsed": true
   },
   "outputs": [],
   "source": [
    "mod_gauss_am_1 = gauss_1 + gauss_2 + gauss_3 + gauss_4 + gauss_0"
   ]
  },
  {
   "cell_type": "code",
   "execution_count": 13,
   "metadata": {
    "collapsed": false
   },
   "outputs": [],
   "source": [
    "out_gauss_am_1 = mod_gauss_am_1.fit(am.rate[40:130]-untergrund.rate[40:130],x=x[40:130],params=pars_am_1,weights=1/(am.error[40:130]))"
   ]
  },
  {
   "cell_type": "code",
   "execution_count": 14,
   "metadata": {
    "collapsed": true
   },
   "outputs": [],
   "source": [
    "plt.errorbar(x,am.rate-untergrund.rate, yerr=am.error, fmt=' .g', label=\"Messdaten\")\n",
    "plt.plot(x,out_gauss_am_1.eval(x=np.arange(0,2048)), '-r', label=\"Fit\")\n",
    "plt.xlabel(\"Kanal\",fontsize=24)\n",
    "plt.ylabel(\"Counts\",fontsize=24)\n",
    "plt.xticks(fontsize=18)\n",
    "plt.yticks(fontsize=18)\n",
    "plt.legend(loc='best',fontsize=24)\n",
    "plt.show()"
   ]
  },
  {
   "cell_type": "code",
   "execution_count": 15,
   "metadata": {
    "collapsed": false,
    "scrolled": true
   },
   "outputs": [
    {
     "name": "stdout",
     "output_type": "stream",
     "text": [
      "[[Model]]\n",
      "    ((((Model(gaussian, prefix='gauss_1_') + Model(gaussian, prefix='gauss_2_')) + Model(gaussian, prefix='gauss_3_')) + Model(gaussian, prefix='gauss_4_')) + Model(gaussian, prefix='gauss_0_'))\n",
      "[[Fit Statistics]]\n",
      "    # function evals   = 217\n",
      "    # data points      = 90\n",
      "    # variables        = 15\n",
      "    chi-square         = 86.581\n",
      "    reduced chi-square = 1.154\n",
      "[[Variables]]\n",
      "    gauss_1_sigma:       4.84841741 +/- 0.444386 (9.17%) (init= 5)\n",
      "    gauss_1_fwhm:        11.4171503 +/- 1.046449 (9.17%)  == '2.3548200*gauss_1_sigma'\n",
      "    gauss_1_amplitude:   4871.27197 +/- 649.3118 (13.33%) (init= 5720)\n",
      "    gauss_1_center:      64.5491642 +/- 0.452546 (0.70%) (init= 65)\n",
      "    gauss_2_sigma:       5.50873396 +/- 0.729345 (13.24%) (init= 5)\n",
      "    gauss_2_fwhm:        12.9720769 +/- 1.717476 (13.24%)  == '2.3548200*gauss_2_sigma'\n",
      "    gauss_2_amplitude:   3939.85268 +/- 652.0434 (16.55%) (init= 3900)\n",
      "    gauss_2_center:      77.2652558 +/- 0.717123 (0.93%) (init= 77)\n",
      "    gauss_3_sigma:       5.90009860 +/- 0.512098 (8.68%) (init= 5)\n",
      "    gauss_3_fwhm:        13.8936701 +/- 1.205899 (8.68%)  == '2.3548200*gauss_3_sigma'\n",
      "    gauss_3_amplitude:   4451.26326 +/- 427.6356 (9.61%) (init= 4030)\n",
      "    gauss_3_center:      96.1595111 +/- 0.374227 (0.39%) (init= 98)\n",
      "    gauss_4_sigma:       6.34840458 +/- 0.241477 (3.80%) (init= 5)\n",
      "    gauss_4_fwhm:        14.9493500 +/- 0.568635 (3.80%)  == '2.3548200*gauss_4_sigma'\n",
      "    gauss_4_amplitude:   5577.08367 +/- 315.1630 (5.65%) (init= 4940)\n",
      "    gauss_4_center:      112.029958 +/- 0.428068 (0.38%) (init= 111)\n",
      "    gauss_0_sigma:       4.99999998 +/- 0.445134 (8.90%) (init= 1)\n",
      "    gauss_0_fwhm:        11.7740999 +/- 1.048212 (8.90%)  == '2.3548200*gauss_0_sigma'\n",
      "    gauss_0_amplitude:   1422.88033 +/- 173.2225 (12.17%) (init= 1690)\n",
      "    gauss_0_center:      50.4548275 +/- 0.700295 (1.39%) (init= 50)\n",
      "[[Correlations]] (unreported correlations are <  0.100)\n",
      "    C(gauss_2_sigma, gauss_2_amplitude)  =  0.972 \n",
      "    C(gauss_1_sigma, gauss_1_amplitude)  =  0.956 \n",
      "    C(gauss_3_sigma, gauss_3_amplitude)  =  0.955 \n",
      "    C(gauss_1_amplitude, gauss_2_amplitude)  = -0.949 \n",
      "    C(gauss_0_amplitude, gauss_0_center)  =  0.936 \n",
      "    C(gauss_4_amplitude, gauss_4_center)  = -0.936 \n",
      "    C(gauss_1_amplitude, gauss_2_center)  =  0.935 \n",
      "    C(gauss_3_amplitude, gauss_4_amplitude)  = -0.914 \n",
      "    C(gauss_1_center, gauss_2_amplitude)  = -0.911 \n",
      "    C(gauss_3_amplitude, gauss_4_center)  =  0.907 \n",
      "    C(gauss_1_amplitude, gauss_2_sigma)  = -0.897 \n",
      "    C(gauss_4_sigma, gauss_4_center)  = -0.894 \n",
      "    C(gauss_1_sigma, gauss_2_center)  =  0.894 \n",
      "    C(gauss_0_sigma, gauss_0_amplitude)  = -0.892 \n",
      "    C(gauss_2_amplitude, gauss_2_center)  = -0.891 \n",
      "    C(gauss_1_center, gauss_2_sigma)  = -0.890 \n",
      "    C(gauss_0_sigma, gauss_0_center)  = -0.880 \n",
      "    C(gauss_1_center, gauss_2_center)  =  0.879 \n",
      "    C(gauss_4_sigma, gauss_4_amplitude)  =  0.879 \n",
      "    C(gauss_1_sigma, gauss_2_amplitude)  = -0.870 \n",
      "    C(gauss_3_sigma, gauss_4_amplitude)  = -0.865 \n",
      "    C(gauss_3_sigma, gauss_4_center)  =  0.842 \n",
      "    C(gauss_1_amplitude, gauss_1_center)  =  0.840 \n",
      "    C(gauss_1_sigma, gauss_0_amplitude)  = -0.833 \n",
      "    C(gauss_2_sigma, gauss_2_center)  = -0.829 \n",
      "    C(gauss_3_amplitude, gauss_4_sigma)  = -0.820 \n",
      "    C(gauss_1_sigma, gauss_0_center)  = -0.813 \n",
      "    C(gauss_1_sigma, gauss_2_sigma)  = -0.784 \n",
      "    C(gauss_3_center, gauss_4_center)  =  0.769 \n",
      "    C(gauss_1_amplitude, gauss_0_amplitude)  = -0.757 \n",
      "    C(gauss_3_center, gauss_4_sigma)  = -0.748 \n",
      "    C(gauss_3_center, gauss_4_amplitude)  = -0.747 \n",
      "    C(gauss_1_sigma, gauss_1_center)  =  0.742 \n",
      "    C(gauss_1_amplitude, gauss_0_center)  = -0.739 \n",
      "    C(gauss_3_sigma, gauss_4_sigma)  = -0.725 \n",
      "    C(gauss_1_sigma, gauss_0_sigma)  =  0.689 \n",
      "    C(gauss_2_sigma, gauss_3_sigma)  = -0.685 \n",
      "    C(gauss_2_sigma, gauss_3_amplitude)  = -0.661 \n",
      "    C(gauss_2_amplitude, gauss_3_sigma)  = -0.643 \n",
      "    C(gauss_2_center, gauss_0_amplitude)  = -0.631 \n",
      "    C(gauss_1_amplitude, gauss_0_sigma)  =  0.629 \n",
      "    C(gauss_2_amplitude, gauss_3_amplitude)  = -0.621 \n",
      "    C(gauss_2_center, gauss_0_center)  = -0.608 \n",
      "    C(gauss_2_amplitude, gauss_0_amplitude)  =  0.595 \n",
      "    C(gauss_3_amplitude, gauss_3_center)  =  0.579 \n",
      "    C(gauss_2_amplitude, gauss_0_center)  =  0.573 \n",
      "    C(gauss_1_center, gauss_3_sigma)  =  0.511 \n",
      "    C(gauss_2_sigma, gauss_0_amplitude)  =  0.509 \n",
      "    C(gauss_1_center, gauss_3_amplitude)  =  0.498 \n",
      "    C(gauss_2_center, gauss_0_sigma)  =  0.495 \n",
      "    C(gauss_1_amplitude, gauss_3_sigma)  =  0.495 \n",
      "    C(gauss_2_sigma, gauss_0_center)  =  0.488 \n",
      "    C(gauss_3_sigma, gauss_3_center)  =  0.487 \n",
      "    C(gauss_1_amplitude, gauss_3_amplitude)  =  0.483 \n",
      "    C(gauss_2_sigma, gauss_4_amplitude)  =  0.465 \n",
      "    C(gauss_2_amplitude, gauss_0_sigma)  = -0.464 \n",
      "    C(gauss_2_sigma, gauss_4_center)  = -0.439 \n",
      "    C(gauss_2_amplitude, gauss_4_amplitude)  =  0.438 \n",
      "    C(gauss_2_amplitude, gauss_4_center)  = -0.414 \n",
      "    C(gauss_1_sigma, gauss_3_sigma)  =  0.395 \n",
      "    C(gauss_2_sigma, gauss_0_sigma)  = -0.392 \n",
      "    C(gauss_1_sigma, gauss_3_amplitude)  =  0.388 \n",
      "    C(gauss_2_sigma, gauss_4_sigma)  =  0.355 \n",
      "    C(gauss_1_center, gauss_0_amplitude)  = -0.349 \n",
      "    C(gauss_1_center, gauss_4_amplitude)  = -0.336 \n",
      "    C(gauss_2_amplitude, gauss_4_sigma)  =  0.335 \n",
      "    C(gauss_1_amplitude, gauss_4_amplitude)  = -0.324 \n",
      "    C(gauss_2_center, gauss_3_amplitude)  =  0.323 \n",
      "    C(gauss_2_center, gauss_3_sigma)  =  0.321 \n",
      "    C(gauss_1_center, gauss_0_center)  = -0.320 \n",
      "    C(gauss_1_center, gauss_4_center)  =  0.316 \n",
      "    C(gauss_1_amplitude, gauss_4_center)  =  0.305 \n",
      "    C(gauss_1_sigma, gauss_4_amplitude)  = -0.255 \n",
      "    C(gauss_1_center, gauss_4_sigma)  = -0.254 \n",
      "    C(gauss_1_amplitude, gauss_4_sigma)  = -0.244 \n",
      "    C(gauss_1_sigma, gauss_4_center)  =  0.240 \n",
      "    C(gauss_3_sigma, gauss_0_amplitude)  = -0.235 \n",
      "    C(gauss_3_amplitude, gauss_0_amplitude)  = -0.232 \n",
      "    C(gauss_3_sigma, gauss_0_center)  = -0.224 \n",
      "    C(gauss_3_amplitude, gauss_0_center)  = -0.222 \n",
      "    C(gauss_1_center, gauss_0_sigma)  =  0.212 \n",
      "    C(gauss_1_sigma, gauss_4_sigma)  = -0.192 \n",
      "    C(gauss_2_center, gauss_4_amplitude)  = -0.187 \n",
      "    C(gauss_3_sigma, gauss_0_sigma)  =  0.177 \n",
      "    C(gauss_3_amplitude, gauss_0_sigma)  =  0.175 \n",
      "    C(gauss_2_center, gauss_4_center)  =  0.174 \n",
      "    C(gauss_4_amplitude, gauss_0_amplitude)  =  0.150 \n",
      "    C(gauss_4_amplitude, gauss_0_center)  =  0.143 \n",
      "    C(gauss_4_center, gauss_0_amplitude)  = -0.141 \n",
      "    C(gauss_2_center, gauss_4_sigma)  = -0.135 \n",
      "    C(gauss_4_center, gauss_0_center)  = -0.134 \n",
      "    C(gauss_2_center, gauss_3_center)  = -0.126 \n",
      "    C(gauss_4_amplitude, gauss_0_sigma)  = -0.112 \n",
      "    C(gauss_4_sigma, gauss_0_amplitude)  =  0.112 \n",
      "    C(gauss_4_sigma, gauss_0_center)  =  0.107 \n",
      "    C(gauss_4_center, gauss_0_sigma)  =  0.106 \n",
      "\n"
     ]
    }
   ],
   "source": [
    "print(out_gauss_am_1.fit_report())"
   ]
  },
  {
   "cell_type": "code",
   "execution_count": 16,
   "metadata": {
    "collapsed": true
   },
   "outputs": [],
   "source": [
    "mod_gauss_am_2 = gauss_5 + gauss_6"
   ]
  },
  {
   "cell_type": "code",
   "execution_count": 17,
   "metadata": {
    "collapsed": false
   },
   "outputs": [],
   "source": [
    "out_gauss_am_2 = mod_gauss_am_2.fit(am.rate[165:240]-untergrund.rate[165:240],x=x[165:240],params=pars_am_2,weights=1/am.error[165:240])"
   ]
  },
  {
   "cell_type": "code",
   "execution_count": 18,
   "metadata": {
    "collapsed": false
   },
   "outputs": [],
   "source": [
    "plt.errorbar(x,am.rate-untergrund.rate, yerr=am.error, fmt=' .g', label=\"Messdaten\")\n",
    "plt.plot(x,out_gauss_am_2.eval(x=x), '-r', label=\"Fit\")\n",
    "plt.xlabel(\"Kanal\",fontsize=24)\n",
    "plt.ylabel(\"Counts\",fontsize=24)\n",
    "plt.xticks(fontsize=18)\n",
    "plt.yticks(fontsize=18)\n",
    "plt.legend(loc='best',fontsize=24)\n",
    "plt.show()"
   ]
  },
  {
   "cell_type": "code",
   "execution_count": 19,
   "metadata": {
    "collapsed": false
   },
   "outputs": [
    {
     "name": "stdout",
     "output_type": "stream",
     "text": [
      "[[Model]]\n",
      "    (Model(gaussian, prefix='gauss_5_') + Model(gaussian, prefix='gauss_6_'))\n",
      "[[Fit Statistics]]\n",
      "    # function evals   = 102\n",
      "    # data points      = 75\n",
      "    # variables        = 6\n",
      "    chi-square         = 115.754\n",
      "    reduced chi-square = 1.678\n",
      "[[Variables]]\n",
      "    gauss_5_sigma:       13.6749687 +/- 0.579408 (4.24%) (init= 5)\n",
      "    gauss_5_fwhm:        32.2020899 +/- 1.364401 (4.24%)  == '2.3548200*gauss_5_sigma'\n",
      "    gauss_5_amplitude:   16761.1622 +/- 654.0406 (3.90%) (init= 6500)\n",
      "    gauss_5_center:      184        +/- 5.647167 (3.07%) (init= 181)\n",
      "    gauss_6_sigma:       8.56075037 +/- 0.067322 (0.79%) (init= 5)\n",
      "    gauss_6_fwhm:        20.1590261 +/- 0.158533 (0.79%)  == '2.3548200*gauss_6_sigma'\n",
      "    gauss_6_amplitude:   52316.5087 +/- 604.2185 (1.15%) (init= 32500)\n",
      "    gauss_6_center:      213.627553 +/- 0.100067 (0.05%) (init= 213)\n",
      "[[Correlations]] (unreported correlations are <  0.100)\n",
      "    C(gauss_5_sigma, gauss_5_amplitude)  =  0.926 \n",
      "    C(gauss_5_amplitude, gauss_5_center)  = -0.846 \n",
      "    C(gauss_5_amplitude, gauss_6_amplitude)  = -0.828 \n",
      "    C(gauss_5_center, gauss_6_amplitude)  =  0.804 \n",
      "    C(gauss_5_sigma, gauss_6_amplitude)  = -0.801 \n",
      "    C(gauss_5_amplitude, gauss_6_center)  =  0.794 \n",
      "    C(gauss_5_center, gauss_6_center)  = -0.793 \n",
      "    C(gauss_5_sigma, gauss_5_center)  = -0.789 \n",
      "    C(gauss_6_amplitude, gauss_6_center)  = -0.733 \n",
      "    C(gauss_5_sigma, gauss_6_center)  =  0.732 \n",
      "    C(gauss_5_center, gauss_6_sigma)  =  0.706 \n",
      "    C(gauss_5_amplitude, gauss_6_sigma)  = -0.698 \n",
      "    C(gauss_6_sigma, gauss_6_center)  = -0.689 \n",
      "    C(gauss_6_sigma, gauss_6_amplitude)  =  0.666 \n",
      "    C(gauss_5_sigma, gauss_6_sigma)  = -0.613 \n",
      "\n"
     ]
    }
   ],
   "source": [
    "print(out_gauss_am_2.fit_report())"
   ]
  },
  {
   "cell_type": "markdown",
   "metadata": {},
   "source": [
    "## Fit der Ba Daten"
   ]
  },
  {
   "cell_type": "code",
   "execution_count": 20,
   "metadata": {
    "collapsed": true
   },
   "outputs": [],
   "source": [
    "gauss_0 = GaussianModel(prefix=\"gauss_0_\")\n",
    "gauss_1 = GaussianModel(prefix=\"gauss_1_\")\n",
    "gauss_2 = GaussianModel(prefix=\"gauss_2_\")\n",
    "gauss_3 = GaussianModel(prefix=\"gauss_3_\")\n",
    "gauss_4 = GaussianModel(prefix=\"gauss_4_\")\n",
    "gauss_5 = GaussianModel(prefix=\"gauss_5_\")\n",
    "gauss_6 = GaussianModel(prefix=\"gauss_6_\")"
   ]
  },
  {
   "cell_type": "code",
   "execution_count": 21,
   "metadata": {
    "collapsed": false
   },
   "outputs": [],
   "source": [
    "pars_ba_1 = gauss_1.guess(ba.rate,x=x)\n",
    "pars_ba_2 = gauss_2.guess(ba.rate,x=x)\n",
    "pars_ba_2.update(gauss_0.make_params())\n",
    "pars_ba_3 = gauss_3.guess(ba.rate,x=x)\n",
    "pars_ba_3.update(gauss_4.make_params())\n",
    "pars_ba_4 = gauss_5.guess(ba.rate,x=x)"
   ]
  },
  {
   "cell_type": "code",
   "execution_count": 22,
   "metadata": {
    "collapsed": false
   },
   "outputs": [],
   "source": [
    "# controll the center\n",
    "pars_ba_1['gauss_1_center'].set(20, min=10, max=25)\n",
    "pars_ba_2['gauss_2_center'].set(112, min=100, max=120)\n",
    "pars_ba_2['gauss_0_center'].set(125, min=120, max=130)\n",
    "pars_ba_3['gauss_3_center'].set(228, min=210, max=235)\n",
    "pars_ba_3['gauss_4_center'].set(286, min=270, max=300)\n",
    "pars_ba_4['gauss_5_center'].set(1182, min=1150, max=1200)\n",
    "# controll the amplitude\n",
    "pars_ba_1['gauss_1_amplitude'].set(440*13, min=0)#, max=440*2.5)\n",
    "pars_ba_2['gauss_2_amplitude'].set(300, min=0)#, max=310*2.5)\n",
    "pars_ba_2['gauss_0_amplitude'].set(125, min=0)#, max=130)\n",
    "pars_ba_3['gauss_3_amplitude'].set(310*13, min=0)#, max=320*2.5)\n",
    "pars_ba_3['gauss_4_amplitude'].set(380*13, min=0)#, max=390*2.5)\n",
    "pars_ba_4['gauss_5_amplitude'].set(500*13, min=0)#, max=510*2.5)\n",
    "# controll sigma\n",
    "pars_ba_1['gauss_1_sigma'].set(5, min=1, max=68)\n",
    "pars_ba_2['gauss_2_sigma'].set(5, min=1, max=80)\n",
    "pars_ba_3['gauss_3_sigma'].set(5, min=1, max=101)\n",
    "pars_ba_3['gauss_4_sigma'].set(5, min=1, max=114)\n",
    "pars_ba_4['gauss_5_sigma'].set(5, min=1, max=184)"
   ]
  },
  {
   "cell_type": "code",
   "execution_count": 23,
   "metadata": {
    "collapsed": false
   },
   "outputs": [],
   "source": [
    "mod_ba_1 = gauss_1\n",
    "out_ba_1 = mod_ba_1.fit(ba.rate[15:25]-untergrund.rate[15:25],params=pars_ba_1,x=x[15:25],weights=1/ba.error[15:25])"
   ]
  },
  {
   "cell_type": "code",
   "execution_count": 24,
   "metadata": {
    "collapsed": false
   },
   "outputs": [],
   "source": [
    "plt.errorbar(x,ba.rate-untergrund.rate, yerr=ba.error, fmt=' .g', label=\"Messdaten\")\n",
    "plt.plot(x,out_ba_1.eval(x=x), '-r', label=\"Fit\")\n",
    "plt.xlabel(\"Kanal\",fontsize=24)\n",
    "plt.ylabel(\"Counts\",fontsize=24)\n",
    "plt.xticks(fontsize=18)\n",
    "plt.yticks(fontsize=18)\n",
    "plt.legend(loc='best',fontsize=24)\n",
    "plt.show()"
   ]
  },
  {
   "cell_type": "code",
   "execution_count": 25,
   "metadata": {
    "collapsed": false
   },
   "outputs": [
    {
     "name": "stdout",
     "output_type": "stream",
     "text": [
      "[[Model]]\n",
      "    Model(gaussian, prefix='gauss_1_')\n",
      "[[Fit Statistics]]\n",
      "    # function evals   = 27\n",
      "    # data points      = 10\n",
      "    # variables        = 3\n",
      "    chi-square         = 7.968\n",
      "    reduced chi-square = 1.138\n",
      "[[Variables]]\n",
      "    gauss_1_sigma:       3.71202384 +/- 0.281089 (7.57%) (init= 5)\n",
      "    gauss_1_fwhm:        8.74114799 +/- 0.661916 (7.57%)  == '2.3548200*gauss_1_sigma'\n",
      "    gauss_1_amplitude:   1117.53081 +/- 61.21242 (5.48%) (init= 5720)\n",
      "    gauss_1_center:      19.1213070 +/- 0.201517 (1.05%) (init= 20)\n",
      "[[Correlations]] (unreported correlations are <  0.100)\n",
      "    C(gauss_1_sigma, gauss_1_amplitude)  =  0.751 \n",
      "    C(gauss_1_sigma, gauss_1_center)  = -0.209 \n",
      "    C(gauss_1_amplitude, gauss_1_center)  = -0.204 \n",
      "\n"
     ]
    }
   ],
   "source": [
    "print(out_ba_1.fit_report())"
   ]
  },
  {
   "cell_type": "code",
   "execution_count": 26,
   "metadata": {
    "collapsed": false
   },
   "outputs": [],
   "source": [
    "mod_ba_2 = gauss_2 + gauss_0\n",
    "out_ba_2 = mod_ba_2.fit(ba.rate[95:135]-untergrund.rate[95:135],params=pars_ba_2,x=x[95:135],weights=1/ba.error[95:135])"
   ]
  },
  {
   "cell_type": "code",
   "execution_count": 27,
   "metadata": {
    "collapsed": true
   },
   "outputs": [],
   "source": [
    "plt.errorbar(x,ba.rate-untergrund.rate, yerr=ba.error, fmt=' .g', label=\"Messdaten\")\n",
    "plt.plot(x,out_ba_2.eval(x=x), '-r', label=\"Fit\")\n",
    "plt.xlabel(\"Kanal\",fontsize=24)\n",
    "plt.ylabel(\"Counts\",fontsize=24)\n",
    "plt.xticks(fontsize=18)\n",
    "plt.yticks(fontsize=18)\n",
    "plt.legend(loc='best',fontsize=24)\n",
    "plt.show()"
   ]
  },
  {
   "cell_type": "code",
   "execution_count": 28,
   "metadata": {
    "collapsed": false
   },
   "outputs": [
    {
     "name": "stdout",
     "output_type": "stream",
     "text": [
      "[[Model]]\n",
      "    (Model(gaussian, prefix='gauss_2_') + Model(gaussian, prefix='gauss_0_'))\n",
      "[[Fit Statistics]]\n",
      "    # function evals   = 134\n",
      "    # data points      = 40\n",
      "    # variables        = 6\n",
      "    chi-square         = 80.259\n",
      "    reduced chi-square = 2.361\n",
      "[[Variables]]\n",
      "    gauss_2_sigma:       6.78656645 +/- 0.105521 (1.55%) (init= 5)\n",
      "    gauss_2_fwhm:        15.9811424 +/- 0.248484 (1.55%)  == '2.3548200*gauss_2_sigma'\n",
      "    gauss_2_amplitude:   26863.5431 +/- 382.4157 (1.42%) (init= 300)\n",
      "    gauss_2_center:      111.053940 +/- 0.126139 (0.11%) (init= 112)\n",
      "    gauss_0_sigma:       4.59849759 +/- 0.499772 (10.87%) (init= 1)\n",
      "    gauss_0_fwhm:        10.8286341 +/- 1.176874 (10.87%)  == '2.3548200*gauss_0_sigma'\n",
      "    gauss_0_amplitude:   2615.75185 +/- 323.1190 (12.35%) (init= 125)\n",
      "    gauss_0_center:      128.025143 +/- 0.499981 (0.39%) (init= 125)\n",
      "[[Correlations]] (unreported correlations are <  0.100)\n",
      "    C(gauss_0_sigma, gauss_0_amplitude)  =  0.864 \n",
      "    C(gauss_0_amplitude, gauss_0_center)  = -0.811 \n",
      "    C(gauss_2_center, gauss_0_amplitude)  = -0.803 \n",
      "    C(gauss_2_sigma, gauss_0_amplitude)  = -0.774 \n",
      "    C(gauss_2_center, gauss_0_center)  =  0.755 \n",
      "    C(gauss_2_sigma, gauss_0_center)  =  0.718 \n",
      "    C(gauss_2_amplitude, gauss_0_amplitude)  = -0.712 \n",
      "    C(gauss_2_sigma, gauss_2_center)  =  0.684 \n",
      "    C(gauss_2_center, gauss_0_sigma)  = -0.672 \n",
      "    C(gauss_2_amplitude, gauss_0_center)  =  0.668 \n",
      "    C(gauss_0_sigma, gauss_0_center)  = -0.666 \n",
      "    C(gauss_2_sigma, gauss_2_amplitude)  =  0.639 \n",
      "    C(gauss_2_amplitude, gauss_2_center)  =  0.623 \n",
      "    C(gauss_2_amplitude, gauss_0_sigma)  = -0.613 \n",
      "    C(gauss_2_sigma, gauss_0_sigma)  = -0.584 \n",
      "\n"
     ]
    }
   ],
   "source": [
    "print(out_ba_2.fit_report())"
   ]
  },
  {
   "cell_type": "code",
   "execution_count": 29,
   "metadata": {
    "collapsed": false
   },
   "outputs": [],
   "source": [
    "mod_ba_3 = gauss_3 + gauss_4\n",
    "out_ba_3 = mod_ba_3.fit(ba.rate[204:315]-untergrund.rate[204:315],params=pars_ba_3,x=x[204:315],weights=1/ba.error[204:315])"
   ]
  },
  {
   "cell_type": "code",
   "execution_count": 30,
   "metadata": {
    "collapsed": true
   },
   "outputs": [],
   "source": [
    "plt.errorbar(x,ba.rate-untergrund.rate, yerr=ba.error, fmt=' .g', label=\"Messdaten\")\n",
    "plt.plot(x,out_ba_3.eval(x=x), '-r', label=\"Fit\")\n",
    "plt.xlabel(\"Kanal\",fontsize=24)\n",
    "plt.ylabel(\"Counts\",fontsize=24)\n",
    "plt.xticks(fontsize=18)\n",
    "plt.yticks(fontsize=18)\n",
    "plt.legend(loc='best',fontsize=24)\n",
    "plt.show()"
   ]
  },
  {
   "cell_type": "code",
   "execution_count": 31,
   "metadata": {
    "collapsed": false
   },
   "outputs": [
    {
     "name": "stdout",
     "output_type": "stream",
     "text": [
      "[[Model]]\n",
      "    (Model(gaussian, prefix='gauss_3_') + Model(gaussian, prefix='gauss_4_'))\n",
      "[[Fit Statistics]]\n",
      "    # function evals   = 79\n",
      "    # data points      = 111\n",
      "    # variables        = 6\n",
      "    chi-square         = 186.847\n",
      "    reduced chi-square = 1.779\n",
      "[[Variables]]\n",
      "    gauss_3_sigma:       29.2420708 +/- 3.553440 (12.15%) (init= 5)\n",
      "    gauss_3_fwhm:        68.8598133 +/- 8.367712 (12.15%)  == '2.3548200*gauss_3_sigma'\n",
      "    gauss_3_amplitude:   7263.68065 +/- 781.6782 (10.76%) (init= 4030)\n",
      "    gauss_3_center:      234.999999 +/- 5.363476 (2.28%) (init= 228)\n",
      "    gauss_4_sigma:       12.5318055 +/- 0.343834 (2.74%) (init= 5)\n",
      "    gauss_4_fwhm:        29.5101462 +/- 0.809668 (2.74%)  == '2.3548200*gauss_4_sigma'\n",
      "    gauss_4_amplitude:   11357.4608 +/- 560.8174 (4.94%) (init= 4940)\n",
      "    gauss_4_center:      284.429428 +/- 0.300680 (0.11%) (init= 286)\n",
      "[[Correlations]] (unreported correlations are <  0.100)\n",
      "    C(gauss_3_sigma, gauss_3_amplitude)  =  0.971 \n",
      "    C(gauss_3_amplitude, gauss_4_amplitude)  = -0.930 \n",
      "    C(gauss_3_sigma, gauss_4_amplitude)  = -0.912 \n",
      "    C(gauss_3_center, gauss_4_amplitude)  =  0.854 \n",
      "    C(gauss_4_sigma, gauss_4_amplitude)  =  0.825 \n",
      "    C(gauss_3_amplitude, gauss_3_center)  = -0.788 \n",
      "    C(gauss_3_amplitude, gauss_4_sigma)  = -0.786 \n",
      "    C(gauss_3_center, gauss_4_sigma)  =  0.767 \n",
      "    C(gauss_3_sigma, gauss_3_center)  = -0.745 \n",
      "    C(gauss_3_sigma, gauss_4_sigma)  = -0.744 \n",
      "    C(gauss_3_center, gauss_4_center)  = -0.676 \n",
      "    C(gauss_4_amplitude, gauss_4_center)  = -0.664 \n",
      "    C(gauss_3_amplitude, gauss_4_center)  =  0.638 \n",
      "    C(gauss_4_sigma, gauss_4_center)  = -0.630 \n",
      "    C(gauss_3_sigma, gauss_4_center)  =  0.583 \n",
      "\n"
     ]
    }
   ],
   "source": [
    "print(out_ba_3.fit_report())"
   ]
  },
  {
   "cell_type": "code",
   "execution_count": 32,
   "metadata": {
    "collapsed": true
   },
   "outputs": [],
   "source": [
    "mod_ba_4 = gauss_5\n",
    "out_ba_4 = mod_ba_4.fit(ba.rate[1100:1250],params=pars_ba_4,x=x[1100:1250],weights=1/ba.error[1100:1250])"
   ]
  },
  {
   "cell_type": "code",
   "execution_count": 33,
   "metadata": {
    "collapsed": true
   },
   "outputs": [],
   "source": [
    "plt.errorbar(x,ba.rate-untergrund.rate, yerr=ba.error, fmt=' .g', label=\"Messdaten\")\n",
    "plt.plot(x,out_ba_4.eval(x=x), '-r', label=\"Fit\")\n",
    "plt.xlabel(\"Kanal\",fontsize=24)\n",
    "plt.ylabel(\"Counts\",fontsize=24)\n",
    "plt.xticks(fontsize=18)\n",
    "plt.yticks(fontsize=18)\n",
    "plt.legend(loc='best',fontsize=24)\n",
    "plt.show()"
   ]
  },
  {
   "cell_type": "code",
   "execution_count": 34,
   "metadata": {
    "collapsed": false
   },
   "outputs": [
    {
     "name": "stdout",
     "output_type": "stream",
     "text": [
      "[[Model]]\n",
      "    Model(gaussian, prefix='gauss_5_')\n",
      "[[Fit Statistics]]\n",
      "    # function evals   = 35\n",
      "    # data points      = 150\n",
      "    # variables        = 3\n",
      "    chi-square         = 117.888\n",
      "    reduced chi-square = 0.802\n",
      "[[Variables]]\n",
      "    gauss_5_sigma:       43.3949452 +/- 0.494619 (1.14%) (init= 5)\n",
      "    gauss_5_fwhm:        102.187285 +/- 1.164740 (1.14%)  == '2.3548200*gauss_5_sigma'\n",
      "    gauss_5_amplitude:   12789.9828 +/- 117.5778 (0.92%) (init= 6500)\n",
      "    gauss_5_center:      1180.46864 +/- 0.450395 (0.04%) (init= 1182)\n",
      "[[Correlations]] (unreported correlations are <  0.100)\n",
      "    C(gauss_5_sigma, gauss_5_amplitude)  =  0.430 \n",
      "    C(gauss_5_sigma, gauss_5_center)  =  0.180 \n",
      "    C(gauss_5_amplitude, gauss_5_center)  =  0.128 \n",
      "\n"
     ]
    }
   ],
   "source": [
    "print(out_ba_4.fit_report())"
   ]
  },
  {
   "cell_type": "markdown",
   "metadata": {},
   "source": [
    "## Kilibrierung der Cs Daten"
   ]
  },
  {
   "cell_type": "code",
   "execution_count": 35,
   "metadata": {
    "collapsed": true
   },
   "outputs": [],
   "source": [
    "gauss_0 = GaussianModel(prefix=\"gauss_0_\")\n",
    "gauss_1 = GaussianModel(prefix=\"gauss_1_\")\n",
    "gauss_2 = GaussianModel(prefix=\"gauss_2_\")"
   ]
  },
  {
   "cell_type": "code",
   "execution_count": 36,
   "metadata": {
    "collapsed": true
   },
   "outputs": [],
   "source": [
    "pars_cs_1 = gauss_0.guess(cs.rate,x=x)\n",
    "pars_cs_2 = gauss_1.guess(cs.rate,x=x)\n",
    "pars_cs_3 = gauss_2.guess(cs.rate,x=x)"
   ]
  },
  {
   "cell_type": "code",
   "execution_count": 37,
   "metadata": {
    "collapsed": false
   },
   "outputs": [],
   "source": [
    "# controll the center\n",
    "pars_cs_1['gauss_0_center'].set(115, min=110, max=120)\n",
    "pars_cs_2['gauss_1_center'].set(267, min=263, max=270)\n",
    "pars_cs_3['gauss_2_center'].set(1920, min=1900, max=1940)\n",
    "# controll the amplitude\n",
    "pars_cs_1['gauss_0_amplitude'].set(125, min=0)#, max=130)\n",
    "pars_cs_2['gauss_1_amplitude'].set(440*13, min=0)#, max=440*2.5)\n",
    "pars_cs_3['gauss_2_amplitude'].set(300, min=0)#, max=310*2.5)\n",
    "# controll sigma\n",
    "pars_cs_1['gauss_0_sigma'].set(5, min=1, max=68)\n",
    "pars_cs_2['gauss_1_sigma'].set(5, min=1, max=68)\n",
    "pars_cs_3['gauss_2_sigma'].set(5, min=1, max=80)"
   ]
  },
  {
   "cell_type": "code",
   "execution_count": 38,
   "metadata": {
    "collapsed": false
   },
   "outputs": [],
   "source": [
    "mod_cs_1 = gauss_0\n",
    "out_cs_1 = mod_cs_1.fit(cs.rate[100:130],params=pars_cs_1,x=x[100:130],weights=1/cs.error[100:130])"
   ]
  },
  {
   "cell_type": "code",
   "execution_count": 39,
   "metadata": {
    "collapsed": true
   },
   "outputs": [],
   "source": [
    "plt.errorbar(x,cs.rate-untergrund.rate, yerr=cs.error, fmt=' .g')\n",
    "plt.plot(x,out_cs_1.eval(x=x), '-r')\n",
    "plt.xlabel(\"Kanal\",fontsize=24)\n",
    "plt.ylabel(\"Counts\",fontsize=24)\n",
    "plt.xticks(fontsize=18)\n",
    "plt.yticks(fontsize=18)\n",
    "plt.legend(loc='best',fontsize=24)\n",
    "plt.show()"
   ]
  },
  {
   "cell_type": "code",
   "execution_count": 40,
   "metadata": {
    "collapsed": false
   },
   "outputs": [
    {
     "name": "stdout",
     "output_type": "stream",
     "text": [
      "[[Model]]\n",
      "    Model(gaussian, prefix='gauss_0_')\n",
      "[[Fit Statistics]]\n",
      "    # function evals   = 37\n",
      "    # data points      = 30\n",
      "    # variables        = 3\n",
      "    chi-square         = 36.299\n",
      "    reduced chi-square = 1.344\n",
      "[[Variables]]\n",
      "    gauss_0_sigma:       8.33786026 +/- 0.166957 (2.00%) (init= 5)\n",
      "    gauss_0_fwhm:        19.6341601 +/- 0.393154 (2.00%)  == '2.3548200*gauss_0_sigma'\n",
      "    gauss_0_amplitude:   6336.70331 +/- 103.7750 (1.64%) (init= 125)\n",
      "    gauss_0_center:      115.366805 +/- 0.153160 (0.13%) (init= 115)\n",
      "[[Correlations]] (unreported correlations are <  0.100)\n",
      "    C(gauss_0_sigma, gauss_0_amplitude)  =  0.381 \n",
      "    C(gauss_0_sigma, gauss_0_center)  =  0.137 \n",
      "\n"
     ]
    }
   ],
   "source": [
    "print(out_cs_1.fit_report())"
   ]
  },
  {
   "cell_type": "code",
   "execution_count": 41,
   "metadata": {
    "collapsed": false
   },
   "outputs": [],
   "source": [
    "mod_cs_3 = gauss_2\n",
    "out_cs_3 = mod_cs_3.fit(cs.rate[1860:1980],params=pars_cs_3,x=x[1860:1980],weights=1/cs.error[1860:1980])"
   ]
  },
  {
   "cell_type": "code",
   "execution_count": 42,
   "metadata": {
    "collapsed": false
   },
   "outputs": [],
   "source": [
    "plt.errorbar(x,cs.rate-untergrund.rate, yerr=cs.error, fmt=' .g', label=\"Messdaten\")\n",
    "plt.plot(x,out_cs_3.eval(x=x), '-r', label=\"Fit\")\n",
    "plt.xlabel(\"Kanal\",fontsize=24)\n",
    "plt.ylabel(\"Counts\",fontsize=24)\n",
    "plt.xticks(fontsize=18)\n",
    "plt.yticks(fontsize=18)\n",
    "plt.legend(loc='best',fontsize=24)\n",
    "plt.show()"
   ]
  },
  {
   "cell_type": "code",
   "execution_count": 43,
   "metadata": {
    "collapsed": false
   },
   "outputs": [
    {
     "name": "stdout",
     "output_type": "stream",
     "text": [
      "[[Model]]\n",
      "    Model(gaussian, prefix='gauss_2_')\n",
      "[[Fit Statistics]]\n",
      "    # function evals   = 31\n",
      "    # data points      = 120\n",
      "    # variables        = 3\n",
      "    chi-square         = 170.233\n",
      "    reduced chi-square = 1.455\n",
      "[[Variables]]\n",
      "    gauss_2_sigma:       23.0352370 +/- 0.152370 (0.66%) (init= 5)\n",
      "    gauss_2_fwhm:        54.2438368 +/- 0.358805 (0.66%)  == '2.3548200*gauss_2_sigma'\n",
      "    gauss_2_amplitude:   23839.7666 +/- 187.4390 (0.79%) (init= 300)\n",
      "    gauss_2_center:      1920.26351 +/- 0.187739 (0.01%) (init= 1920)\n",
      "[[Correlations]] (unreported correlations are <  0.100)\n",
      "\n"
     ]
    }
   ],
   "source": [
    "print(out_cs_3.fit_report())"
   ]
  },
  {
   "cell_type": "code",
   "execution_count": 44,
   "metadata": {
    "collapsed": false
   },
   "outputs": [],
   "source": [
    "energien = np.array([14,33,60,31,81,383,32,662])\n",
    "kanal = np.array([64.5491642,112.029958,213.627553,111.053940,284.659378,1180.46864,115.366805,1920.26351])\n",
    "kanal_err = np.array([4.84841741,6.34840458,8.56075037,6.78656645,12.5318055,43.3949452,8.33786026,23.0352370])"
   ]
  },
  {
   "cell_type": "code",
   "execution_count": 45,
   "metadata": {
    "collapsed": false
   },
   "outputs": [],
   "source": [
    "plt.errorbar(kanal,energien,yerr=kanal_err, fmt=' .g')\n",
    "plt.show()"
   ]
  },
  {
   "cell_type": "code",
   "execution_count": 46,
   "metadata": {
    "collapsed": true
   },
   "outputs": [],
   "source": [
    "def lin_fit(x,m,b):\n",
    "    return (x-b)/m"
   ]
  },
  {
   "cell_type": "code",
   "execution_count": 47,
   "metadata": {
    "collapsed": false
   },
   "outputs": [],
   "source": [
    "mod_lin = Model(lin_fit)\n",
    "pars_lin = mod_lin.make_params(m=1,b=1)\n",
    "out_lin = mod_lin.fit(kanal,params=pars_lin,x=energien,weights=1/(kanal_err))"
   ]
  },
  {
   "cell_type": "code",
   "execution_count": 48,
   "metadata": {
    "collapsed": false
   },
   "outputs": [],
   "source": [
    "out_lin.plot()\n",
    "plt.legend(loc=\"best\")\n",
    "plt.show()"
   ]
  },
  {
   "cell_type": "code",
   "execution_count": 49,
   "metadata": {
    "collapsed": false
   },
   "outputs": [
    {
     "name": "stdout",
     "output_type": "stream",
     "text": [
      "[[Model]]\n",
      "    Model(lin_fit)\n",
      "[[Fit Statistics]]\n",
      "    # function evals   = 22\n",
      "    # data points      = 8\n",
      "    # variables        = 2\n",
      "    chi-square         = 11.277\n",
      "    reduced chi-square = 1.880\n",
      "[[Variables]]\n",
      "    m:   0.34572897 +/- 0.005655 (1.64%) (init= 1)\n",
      "    b:  -8.63436274 +/- 1.575031 (18.24%) (init= 1)\n",
      "[[Correlations]] (unreported correlations are <  0.100)\n",
      "    C(m, b)                      = -0.530 \n",
      "\n"
     ]
    }
   ],
   "source": [
    "print(out_lin.fit_report())"
   ]
  },
  {
   "cell_type": "code",
   "execution_count": 50,
   "metadata": {
    "collapsed": false
   },
   "outputs": [],
   "source": [
    "plt.errorbar(energien,kanal, yerr=kanal_err, fmt=' .g', label=\"Bestimmte Kanalpositionen\")\n",
    "plt.plot(np.arange(0,700),out_lin.eval(x=np.arange(0,700)), '-r', label=\"Fit\")\n",
    "plt.xlabel(\"Energie / keV\",fontsize=24)\n",
    "plt.ylabel(\"Kanal\",fontsize=24)\n",
    "plt.xticks(fontsize=18)\n",
    "plt.yticks(fontsize=18)\n",
    "plt.legend(loc='best',fontsize=24)\n",
    "plt.show()"
   ]
  },
  {
   "cell_type": "code",
   "execution_count": null,
   "metadata": {
    "collapsed": true
   },
   "outputs": [],
   "source": []
  },
  {
   "cell_type": "code",
   "execution_count": null,
   "metadata": {
    "collapsed": true
   },
   "outputs": [],
   "source": []
  },
  {
   "cell_type": "markdown",
   "metadata": {},
   "source": [
    "# Absorbtion"
   ]
  },
  {
   "cell_type": "code",
   "execution_count": 51,
   "metadata": {
    "collapsed": true
   },
   "outputs": [],
   "source": [
    "def conv_to_counts(amplitude):\n",
    "    return amplitude/(300*0.5)"
   ]
  },
  {
   "cell_type": "code",
   "execution_count": 52,
   "metadata": {
    "collapsed": true
   },
   "outputs": [],
   "source": [
    "def exp_fit(x,a,b):\n",
    "    return a*np.exp(-b*x)"
   ]
  },
  {
   "cell_type": "markdown",
   "metadata": {},
   "source": [
    "## Blei"
   ]
  },
  {
   "cell_type": "code",
   "execution_count": 53,
   "metadata": {
    "collapsed": true
   },
   "outputs": [],
   "source": [
    "blei_7cm = pd.read_csv(\"Messdaten/absorbtion/absorbtion_7cm.csv\", header=14, delim_whitespace=True, names=['rate','error'], index_col=0)\n",
    "blei_6cm = pd.read_csv(\"Messdaten/absorbtion/absorbtion_6cm.csv\", header=14, delim_whitespace=True, names=['rate','error'], index_col=0)\n",
    "blei_5cm= pd.read_csv(\"Messdaten/absorbtion/absorbtion_5cm.csv\", header=14, delim_whitespace=True, names=['rate','error'], index_col=0)\n",
    "blei_4_5cm= pd.read_csv(\"Messdaten/absorbtion/absorbtion_4,5cm_LLDhoch.csv\", header=14, delim_whitespace=True, names=['rate','error'], index_col=0)\n",
    "blei_3_5cm = pd.read_csv(\"Messdaten/absorbtion/absorbtion_3,5cm_LLDhoch.csv\", header=14, delim_whitespace=True, names=['rate','error'], index_col=0)\n",
    "blei_2_5cm= pd.read_csv(\"Messdaten/absorbtion/absorbtion_2,5cm_LLDhoch.csv\", header=14, delim_whitespace=True, names=['rate','error'], index_col=0)"
   ]
  },
  {
   "cell_type": "markdown",
   "metadata": {},
   "source": [
    "### 7cm"
   ]
  },
  {
   "cell_type": "code",
   "execution_count": 54,
   "metadata": {
    "collapsed": true
   },
   "outputs": [],
   "source": [
    "pars_absorb_7cm = gauss_1.guess(blei_7cm.rate-untergrund.rate,x=x)\n",
    "# controll the center\n",
    "pars_absorb_7cm['gauss_1_center'].set(1900, min=1800, max=2000)\n",
    "# controll the amplitude\n",
    "pars_absorb_7cm['gauss_1_amplitude'].set(440*13, min=0)#, max=440*2.5)\n",
    "# controll sigma\n",
    "pars_absorb_7cm['gauss_1_sigma'].set(5, min=1, max=68)"
   ]
  },
  {
   "cell_type": "code",
   "execution_count": 55,
   "metadata": {
    "collapsed": false
   },
   "outputs": [],
   "source": [
    "out_absorb_7cm = gauss_1.fit(blei_7cm.rate[1850:2000]-untergrund.rate[1850:2000],params=pars_absorb_7cm,x=x[1850:2000],weights=1/blei_7cm.error[1850:2000])"
   ]
  },
  {
   "cell_type": "code",
   "execution_count": 56,
   "metadata": {
    "collapsed": false
   },
   "outputs": [],
   "source": [
    "plt.errorbar(x,blei_7cm.rate-untergrund.rate, yerr=blei_7cm.error, fmt=' .g', label=\"Messdaten\")\n",
    "plt.plot(x,out_absorb_7cm.eval(x=x), '-r', label=\"Fit\")\n",
    "plt.xlabel(\"Counts\",fontsize=24)\n",
    "plt.ylabel(\"Kanal\",fontsize=24)\n",
    "plt.xticks(fontsize=18)\n",
    "plt.yticks(fontsize=18)\n",
    "plt.legend(loc='best',fontsize=24)\n",
    "plt.show()"
   ]
  },
  {
   "cell_type": "code",
   "execution_count": 57,
   "metadata": {
    "collapsed": false
   },
   "outputs": [
    {
     "name": "stdout",
     "output_type": "stream",
     "text": [
      "[[Model]]\n",
      "    Model(gaussian, prefix='gauss_1_')\n",
      "[[Fit Statistics]]\n",
      "    # function evals   = 47\n",
      "    # data points      = 150\n",
      "    # variables        = 3\n",
      "    chi-square         = 299.499\n",
      "    reduced chi-square = 2.037\n",
      "[[Variables]]\n",
      "    gauss_1_sigma:       20.4971915 +/- 0.620191 (3.03%) (init= 5)\n",
      "    gauss_1_fwhm:        48.2671964 +/- 1.460438 (3.03%)  == '2.3548200*gauss_1_sigma'\n",
      "    gauss_1_amplitude:   2284.71175 +/- 77.00543 (3.37%) (init= 5720)\n",
      "    gauss_1_center:      1922.65512 +/- 0.768987 (0.04%) (init= 1900)\n",
      "[[Correlations]] (unreported correlations are <  0.100)\n",
      "    C(gauss_1_sigma, gauss_1_amplitude)  =  0.199 \n",
      "\n"
     ]
    }
   ],
   "source": [
    "print(out_absorb_7cm.fit_report())"
   ]
  },
  {
   "cell_type": "markdown",
   "metadata": {},
   "source": [
    "### 6cm"
   ]
  },
  {
   "cell_type": "code",
   "execution_count": 58,
   "metadata": {
    "collapsed": false
   },
   "outputs": [],
   "source": [
    "pars_absorb_6cm = gauss_1.guess(blei_6cm.rate-untergrund.rate,x=x)\n",
    "# controll the center\n",
    "pars_absorb_6cm['gauss_1_center'].set(1925, min=1900, max=2000)\n",
    "# controll the amplitude\n",
    "pars_absorb_6cm['gauss_1_amplitude'].set(440*18, min=0)#, max=440*2.5)\n",
    "# controll sigma\n",
    "pars_absorb_6cm['gauss_1_sigma'].set(20, min=1, max=68)"
   ]
  },
  {
   "cell_type": "code",
   "execution_count": 59,
   "metadata": {
    "collapsed": true
   },
   "outputs": [],
   "source": [
    "out_absorb_6cm = gauss_1.fit(blei_6cm.rate[1850:1993]-untergrund.rate[1850:1993],params=pars_absorb_6cm,x=x[1850:1993],weights=1/blei_6cm.error[1850:1993])"
   ]
  },
  {
   "cell_type": "code",
   "execution_count": 60,
   "metadata": {
    "collapsed": true
   },
   "outputs": [],
   "source": [
    "plt.errorbar(x,blei_6cm.rate-untergrund.rate, yerr=blei_6cm.error, fmt=' .g', label=\"Messdaten\")\n",
    "plt.plot(x,out_absorb_6cm.eval(x=x), '-r', label=\"Fit\")\n",
    "plt.xlabel(\"Counts\",fontsize=24)\n",
    "plt.ylabel(\"Kanal\",fontsize=24)\n",
    "plt.xticks(fontsize=18)\n",
    "plt.yticks(fontsize=18)\n",
    "plt.legend(loc='best',fontsize=24)\n",
    "plt.show()"
   ]
  },
  {
   "cell_type": "code",
   "execution_count": 61,
   "metadata": {
    "collapsed": false
   },
   "outputs": [
    {
     "name": "stdout",
     "output_type": "stream",
     "text": [
      "[[Model]]\n",
      "    Model(gaussian, prefix='gauss_1_')\n",
      "[[Fit Statistics]]\n",
      "    # function evals   = 23\n",
      "    # data points      = 143\n",
      "    # variables        = 3\n",
      "    chi-square         = 161.311\n",
      "    reduced chi-square = 1.152\n",
      "[[Variables]]\n",
      "    gauss_1_sigma:       21.9514451 +/- 0.219597 (1.00%) (init= 20)\n",
      "    gauss_1_fwhm:        51.6917021 +/- 0.517111 (1.00%)  == '2.3548200*gauss_1_sigma'\n",
      "    gauss_1_amplitude:   8299.78978 +/- 101.5909 (1.22%) (init= 7920)\n",
      "    gauss_1_center:      1922.16220 +/- 0.283142 (0.01%) (init= 1925)\n",
      "[[Correlations]] (unreported correlations are <  0.100)\n",
      "\n"
     ]
    }
   ],
   "source": [
    "print(out_absorb_6cm.fit_report())"
   ]
  },
  {
   "cell_type": "markdown",
   "metadata": {},
   "source": [
    "### 5cm"
   ]
  },
  {
   "cell_type": "code",
   "execution_count": 62,
   "metadata": {
    "collapsed": true
   },
   "outputs": [],
   "source": [
    "pars_absorb_5cm = gauss_1.guess(blei_5cm.rate-untergrund.rate,x=x)\n",
    "# controll the center\n",
    "pars_absorb_5cm['gauss_1_center'].set(1925, min=1900, max=2000)\n",
    "# controll the amplitude\n",
    "pars_absorb_5cm['gauss_1_amplitude'].set(440*18, min=0)#, max=440*2.5)\n",
    "# controll sigma\n",
    "pars_absorb_5cm['gauss_1_sigma'].set(20, min=1, max=68)"
   ]
  },
  {
   "cell_type": "code",
   "execution_count": 63,
   "metadata": {
    "collapsed": false
   },
   "outputs": [],
   "source": [
    "out_absorb_5cm = gauss_1.fit(blei_5cm.rate[1850:1993]-untergrund.rate[1850:1993],params=pars_absorb_5cm,x=x[1850:1993],weights=1/blei_5cm.error[1850:1993])"
   ]
  },
  {
   "cell_type": "code",
   "execution_count": 64,
   "metadata": {
    "collapsed": true
   },
   "outputs": [],
   "source": [
    "plt.errorbar(x,blei_5cm.rate-untergrund.rate, yerr=blei_5cm.error, fmt=' .g', label=\"Messdaten\")\n",
    "plt.plot(x,out_absorb_5cm.eval(x=x), '-r', label=\"Fit\")\n",
    "plt.xlabel(\"Counts\",fontsize=24)\n",
    "plt.ylabel(\"Kanal\",fontsize=24)\n",
    "plt.xticks(fontsize=18)\n",
    "plt.yticks(fontsize=18)\n",
    "plt.legend(loc='best',fontsize=24)\n",
    "plt.show()"
   ]
  },
  {
   "cell_type": "code",
   "execution_count": 65,
   "metadata": {
    "collapsed": false
   },
   "outputs": [
    {
     "name": "stdout",
     "output_type": "stream",
     "text": [
      "[[Model]]\n",
      "    Model(gaussian, prefix='gauss_1_')\n",
      "[[Fit Statistics]]\n",
      "    # function evals   = 31\n",
      "    # data points      = 143\n",
      "    # variables        = 3\n",
      "    chi-square         = 243.761\n",
      "    reduced chi-square = 1.741\n",
      "[[Variables]]\n",
      "    gauss_1_sigma:       22.4285473 +/- 0.141956 (0.63%) (init= 20)\n",
      "    gauss_1_fwhm:        52.8151919 +/- 0.334281 (0.63%)  == '2.3548200*gauss_1_sigma'\n",
      "    gauss_1_amplitude:   27339.4031 +/- 220.9497 (0.81%) (init= 7920)\n",
      "    gauss_1_center:      1921.75060 +/- 0.186295 (0.01%) (init= 1925)\n",
      "[[Correlations]] (unreported correlations are <  0.100)\n",
      "\n"
     ]
    }
   ],
   "source": [
    "print(out_absorb_5cm.fit_report())"
   ]
  },
  {
   "cell_type": "markdown",
   "metadata": {},
   "source": [
    "### 4,5cm"
   ]
  },
  {
   "cell_type": "code",
   "execution_count": 66,
   "metadata": {
    "collapsed": true
   },
   "outputs": [],
   "source": [
    "pars_absorb_4_5cm = gauss_1.guess(blei_4_5cm.rate-untergrund.rate,x=x)\n",
    "# controll the center\n",
    "pars_absorb_4_5cm['gauss_1_center'].set(1925, min=1900, max=2000)\n",
    "# controll the amplitude\n",
    "pars_absorb_4_5cm['gauss_1_amplitude'].set(440*18, min=0)#, max=440*2.5)\n",
    "# controll sigma\n",
    "pars_absorb_4_5cm['gauss_1_sigma'].set(20, min=1, max=68)"
   ]
  },
  {
   "cell_type": "code",
   "execution_count": 67,
   "metadata": {
    "collapsed": true
   },
   "outputs": [],
   "source": [
    "out_absorb_4_5cm = gauss_1.fit(blei_4_5cm.rate[1850:1993]-untergrund.rate[1850:1993],params=pars_absorb_4_5cm,x=x[1850:1993],weights=1/blei_4_5cm.error[1850:1993])"
   ]
  },
  {
   "cell_type": "code",
   "execution_count": 68,
   "metadata": {
    "collapsed": true
   },
   "outputs": [],
   "source": [
    "plt.errorbar(x,blei_4_5cm.rate-untergrund.rate, yerr=blei_4_5cm.error, fmt=' .g', label=\"Messdaten\")\n",
    "plt.plot(x,out_absorb_4_5cm.eval(x=x), '-r', label=\"Fit\")\n",
    "plt.xlabel(\"Counts\",fontsize=24)\n",
    "plt.ylabel(\"Kanal\",fontsize=24)\n",
    "plt.xticks(fontsize=18)\n",
    "plt.yticks(fontsize=18)\n",
    "plt.legend(loc='best',fontsize=24)\n",
    "plt.show()"
   ]
  },
  {
   "cell_type": "code",
   "execution_count": 69,
   "metadata": {
    "collapsed": false
   },
   "outputs": [
    {
     "name": "stdout",
     "output_type": "stream",
     "text": [
      "[[Model]]\n",
      "    Model(gaussian, prefix='gauss_1_')\n",
      "[[Fit Statistics]]\n",
      "    # function evals   = 39\n",
      "    # data points      = 143\n",
      "    # variables        = 3\n",
      "    chi-square         = 352.808\n",
      "    reduced chi-square = 2.520\n",
      "[[Variables]]\n",
      "    gauss_1_sigma:       22.5501287 +/- 0.126227 (0.56%) (init= 20)\n",
      "    gauss_1_fwhm:        53.1014941 +/- 0.297242 (0.56%)  == '2.3548200*gauss_1_sigma'\n",
      "    gauss_1_amplitude:   48414.7069 +/- 352.0339 (0.73%) (init= 7920)\n",
      "    gauss_1_center:      1918.16323 +/- 0.167978 (0.01%) (init= 1925)\n",
      "[[Correlations]] (unreported correlations are <  0.100)\n",
      "    C(gauss_1_sigma, gauss_1_center)  = -0.103 \n",
      "\n"
     ]
    }
   ],
   "source": [
    "print(out_absorb_4_5cm.fit_report())"
   ]
  },
  {
   "cell_type": "markdown",
   "metadata": {},
   "source": [
    "### 3,5cm"
   ]
  },
  {
   "cell_type": "code",
   "execution_count": 70,
   "metadata": {
    "collapsed": false
   },
   "outputs": [],
   "source": [
    "pars_absorb_3_5cm = gauss_1.guess(blei_3_5cm.rate-untergrund.rate,x=x)\n",
    "# controll the center\n",
    "pars_absorb_3_5cm['gauss_1_center'].set(1925, min=1900, max=2000)\n",
    "# controll the amplitude\n",
    "pars_absorb_3_5cm['gauss_1_amplitude'].set(440*18, min=0)#, max=440*2.5)\n",
    "# controll sigma\n",
    "pars_absorb_3_5cm['gauss_1_sigma'].set(20, min=1, max=68)"
   ]
  },
  {
   "cell_type": "code",
   "execution_count": 71,
   "metadata": {
    "collapsed": true
   },
   "outputs": [],
   "source": [
    "out_absorb_3_5cm = gauss_1.fit(blei_3_5cm.rate[1880:1993]-untergrund.rate[1880:1993],params=pars_absorb_3_5cm,x=x[1880:1993],weights=1/blei_3_5cm.error[1880:1993])"
   ]
  },
  {
   "cell_type": "code",
   "execution_count": 72,
   "metadata": {
    "collapsed": false
   },
   "outputs": [],
   "source": [
    "plt.errorbar(x,blei_3_5cm.rate-untergrund.rate, yerr=blei_3_5cm.error, fmt=' .g', label=\"Messdaten\")\n",
    "plt.plot(x,out_absorb_3_5cm.eval(x=x), '-r', label=\"Fit\")\n",
    "plt.xlabel(\"Counts\",fontsize=24)\n",
    "plt.ylabel(\"Kanal\",fontsize=24)\n",
    "plt.xticks(fontsize=18)\n",
    "plt.yticks(fontsize=18)\n",
    "plt.legend(loc='best',fontsize=24)\n",
    "plt.show()"
   ]
  },
  {
   "cell_type": "code",
   "execution_count": 73,
   "metadata": {
    "collapsed": false
   },
   "outputs": [
    {
     "name": "stdout",
     "output_type": "stream",
     "text": [
      "[[Model]]\n",
      "    Model(gaussian, prefix='gauss_1_')\n",
      "[[Fit Statistics]]\n",
      "    # function evals   = 36\n",
      "    # data points      = 113\n",
      "    # variables        = 3\n",
      "    chi-square         = 300.211\n",
      "    reduced chi-square = 2.729\n",
      "[[Variables]]\n",
      "    gauss_1_sigma:       22.0276222 +/- 0.088165 (0.40%) (init= 20)\n",
      "    gauss_1_fwhm:        51.8710853 +/- 0.207614 (0.40%)  == '2.3548200*gauss_1_sigma'\n",
      "    gauss_1_amplitude:   1.5077e+05 +/- 666.4545 (0.44%) (init= 7920)\n",
      "    gauss_1_center:      1919.46611 +/- 0.111573 (0.01%) (init= 1925)\n",
      "[[Correlations]] (unreported correlations are <  0.100)\n",
      "    C(gauss_1_sigma, gauss_1_center)  = -0.354 \n",
      "    C(gauss_1_sigma, gauss_1_amplitude)  =  0.172 \n",
      "    C(gauss_1_amplitude, gauss_1_center)  = -0.138 \n",
      "\n"
     ]
    }
   ],
   "source": [
    "print(out_absorb_3_5cm.fit_report())"
   ]
  },
  {
   "cell_type": "markdown",
   "metadata": {},
   "source": [
    "### 2,5cm"
   ]
  },
  {
   "cell_type": "code",
   "execution_count": 74,
   "metadata": {
    "collapsed": true
   },
   "outputs": [],
   "source": [
    "pars_absorb_2_5cm = gauss_1.guess(blei_2_5cm.rate-untergrund.rate,x=x)\n",
    "# controll the center\n",
    "pars_absorb_2_5cm['gauss_1_center'].set(1925, min=1900, max=2000)\n",
    "# controll the amplitude\n",
    "pars_absorb_2_5cm['gauss_1_amplitude'].set(440*18, min=0)#, max=440*2.5)\n",
    "# controll sigma\n",
    "pars_absorb_2_5cm['gauss_1_sigma'].set(20, min=1, max=68)"
   ]
  },
  {
   "cell_type": "code",
   "execution_count": 75,
   "metadata": {
    "collapsed": true
   },
   "outputs": [],
   "source": [
    "out_absorb_2_5cm = gauss_1.fit(blei_2_5cm.rate[1890:1973]-untergrund.rate[1890:1973],params=pars_absorb_2_5cm,x=x[1890:1973],weights=1/blei_2_5cm.error[1890:1973])"
   ]
  },
  {
   "cell_type": "code",
   "execution_count": 76,
   "metadata": {
    "collapsed": true
   },
   "outputs": [],
   "source": [
    "plt.errorbar(x,blei_2_5cm.rate-untergrund.rate, yerr=blei_2_5cm.error, fmt=' .g', label=\"Messdaten\")\n",
    "plt.plot(x,out_absorb_2_5cm.eval(x=x), '-r', label=\"Fit\")\n",
    "plt.xlabel(\"Counts\",fontsize=24)\n",
    "plt.ylabel(\"Kanal\",fontsize=24)\n",
    "plt.xticks(fontsize=18)\n",
    "plt.yticks(fontsize=18)\n",
    "plt.legend(loc='best',fontsize=24)\n",
    "plt.show()"
   ]
  },
  {
   "cell_type": "code",
   "execution_count": 77,
   "metadata": {
    "collapsed": false
   },
   "outputs": [
    {
     "name": "stdout",
     "output_type": "stream",
     "text": [
      "[[Model]]\n",
      "    Model(gaussian, prefix='gauss_1_')\n",
      "[[Fit Statistics]]\n",
      "    # function evals   = 45\n",
      "    # data points      = 83\n",
      "    # variables        = 3\n",
      "    chi-square         = 334.888\n",
      "    reduced chi-square = 4.186\n",
      "[[Variables]]\n",
      "    gauss_1_sigma:       22.5271252 +/- 0.089126 (0.40%) (init= 20)\n",
      "    gauss_1_fwhm:        53.0473251 +/- 0.209876 (0.40%)  == '2.3548200*gauss_1_sigma'\n",
      "    gauss_1_amplitude:   4.7314e+05 +/- 1.63e+03 (0.34%) (init= 7920)\n",
      "    gauss_1_center:      1922.18608 +/- 0.093865 (0.00%) (init= 1925)\n",
      "[[Correlations]] (unreported correlations are <  0.100)\n",
      "    C(gauss_1_sigma, gauss_1_center)  = -0.430 \n",
      "    C(gauss_1_sigma, gauss_1_amplitude)  =  0.408 \n",
      "    C(gauss_1_amplitude, gauss_1_center)  = -0.290 \n",
      "\n"
     ]
    }
   ],
   "source": [
    "print(out_absorb_2_5cm.fit_report())"
   ]
  },
  {
   "cell_type": "markdown",
   "metadata": {},
   "source": [
    "#### Exponentieller Zusammenhang Blei"
   ]
  },
  {
   "cell_type": "code",
   "execution_count": 78,
   "metadata": {
    "collapsed": true
   },
   "outputs": [],
   "source": [
    "blei_dicke = np.array([7.06,6.031,5.03,4.527,3.515,2.5])\n",
    "blei_rate = np.array([2284,8300,27339,48414,1.5077e+05,4.7314e+05])\n",
    "blei_rate = blei_rate/150\n",
    "blei_dicke_err = np.array([0.01,0.009,0.007,0.009,0.007,0.001])\n",
    "blei_rate_err = np.array([77,101,220,352,666,1630])\n",
    "blei_rate_err = blei_rate*((blei_rate_err/(blei_rate*150))**2+(2*0.02)**2+(0.1/300)**2)**0.5"
   ]
  },
  {
   "cell_type": "code",
   "execution_count": 79,
   "metadata": {
    "collapsed": false
   },
   "outputs": [
    {
     "data": {
      "text/plain": [
       "array([   15.22666667,    55.33333333,   182.26      ,   322.76      ,\n",
       "        1005.13333333,  3154.26666667])"
      ]
     },
     "execution_count": 79,
     "metadata": {},
     "output_type": "execute_result"
    }
   ],
   "source": [
    "blei_rate"
   ]
  },
  {
   "cell_type": "code",
   "execution_count": 80,
   "metadata": {
    "collapsed": false
   },
   "outputs": [
    {
     "data": {
      "text/plain": [
       "array([   0.7965545 ,    2.31356055,    7.43671529,   13.12237964,\n",
       "         40.45113946,  126.64212198])"
      ]
     },
     "execution_count": 80,
     "metadata": {},
     "output_type": "execute_result"
    }
   ],
   "source": [
    "blei_rate_err"
   ]
  },
  {
   "cell_type": "code",
   "execution_count": 81,
   "metadata": {
    "collapsed": false
   },
   "outputs": [],
   "source": [
    "plt.errorbar(blei_dicke,blei_rate,yerr=blei_rate_err,xerr=blei_dicke_err,fmt=' .')\n",
    "plt.show()"
   ]
  },
  {
   "cell_type": "code",
   "execution_count": 82,
   "metadata": {
    "collapsed": false
   },
   "outputs": [],
   "source": [
    "mod_exp_blei = Model(exp_fit)"
   ]
  },
  {
   "cell_type": "code",
   "execution_count": 83,
   "metadata": {
    "collapsed": false
   },
   "outputs": [],
   "source": [
    "pars_exp_blei = mod_exp_blei.make_params(a=1,b=1)"
   ]
  },
  {
   "cell_type": "code",
   "execution_count": 84,
   "metadata": {
    "collapsed": false
   },
   "outputs": [],
   "source": [
    "out_exp_blei = mod_exp_blei.fit(blei_rate,params=pars_exp_blei,x=blei_dicke,weights=1/(blei_rate_err))"
   ]
  },
  {
   "cell_type": "code",
   "execution_count": 85,
   "metadata": {
    "collapsed": false
   },
   "outputs": [],
   "source": [
    "plt.errorbar(blei_dicke,blei_rate,yerr=blei_rate_err,xerr=blei_dicke_err,fmt=' h', label=\"Messdaten\",markersize=5)\n",
    "plt.plot(np.arange(2,8,0.01),out_exp_blei.eval(x=np.arange(2,8,0.01)), label=\"Fit\")\n",
    "plt.xlabel(\"Dicke / cm\",fontsize=24)\n",
    "plt.ylabel(\"Counts\",fontsize=24)\n",
    "plt.xticks(fontsize=18)\n",
    "plt.yticks(fontsize=18)\n",
    "plt.xlim([0,7.3])\n",
    "#plt.ylim([0,10**6])\n",
    "plt.ticklabel_format(style='sci', axis='y', scilimits=(-5,5))\n",
    "plt.legend(loc='best',fontsize=24)\n",
    "plt.show()"
   ]
  },
  {
   "cell_type": "code",
   "execution_count": 86,
   "metadata": {
    "collapsed": false
   },
   "outputs": [
    {
     "name": "stdout",
     "output_type": "stream",
     "text": [
      "[[Model]]\n",
      "    Model(exp_fit)\n",
      "[[Fit Statistics]]\n",
      "    # function evals   = 101\n",
      "    # data points      = 6\n",
      "    # variables        = 2\n",
      "    chi-square         = 5.565\n",
      "    reduced chi-square = 1.391\n",
      "[[Variables]]\n",
      "    a:   59634.3202 +/- 3.92e+03 (6.57%) (init= 1)\n",
      "    b:   1.16084180 +/- 0.013626 (1.17%) (init= 1)\n",
      "[[Correlations]] (unreported correlations are <  0.100)\n",
      "    C(a, b)                      =  0.951 \n",
      "\n"
     ]
    }
   ],
   "source": [
    "print(out_exp_blei.fit_report())"
   ]
  },
  {
   "cell_type": "code",
   "execution_count": 87,
   "metadata": {
    "collapsed": false
   },
   "outputs": [
    {
     "name": "stdout",
     "output_type": "stream",
     "text": [
      "[ 17890296.06612308]\n"
     ]
    }
   ],
   "source": [
    "blei_0 = out_exp_blei.eval(x=np.array([0]))\n",
    "print(blei_0*300)"
   ]
  },
  {
   "cell_type": "code",
   "execution_count": 88,
   "metadata": {
    "collapsed": false
   },
   "outputs": [
    {
     "name": "stdout",
     "output_type": "stream",
     "text": [
      "1176012.5619003226\n"
     ]
    }
   ],
   "source": [
    "blei_0_err = ((3920*300)**2+(54356*0.1)**2)**0.5\n",
    "print(blei_0_err)"
   ]
  },
  {
   "cell_type": "code",
   "execution_count": 89,
   "metadata": {
    "collapsed": false
   },
   "outputs": [
    {
     "data": {
      "text/plain": [
       "array([ 0.06573466])"
      ]
     },
     "execution_count": 89,
     "metadata": {},
     "output_type": "execute_result"
    }
   ],
   "source": [
    "blei_0_err/(blei_0*300)"
   ]
  },
  {
   "cell_type": "code",
   "execution_count": 90,
   "metadata": {
    "collapsed": false
   },
   "outputs": [
    {
     "name": "stdout",
     "output_type": "stream",
     "text": [
      "[ 59634.32022041]\n"
     ]
    }
   ],
   "source": [
    "N = blei_0\n",
    "print(N)"
   ]
  },
  {
   "cell_type": "code",
   "execution_count": 91,
   "metadata": {
    "collapsed": false
   },
   "outputs": [
    {
     "name": "stdout",
     "output_type": "stream",
     "text": [
      "[  3.52803769e+08]\n"
     ]
    }
   ],
   "source": [
    "err_N = ((300*blei_0_err)**2+(0.01*blei_0))**0.5\n",
    "print(err_N)"
   ]
  },
  {
   "cell_type": "code",
   "execution_count": null,
   "metadata": {
    "collapsed": true
   },
   "outputs": [],
   "source": []
  },
  {
   "cell_type": "code",
   "execution_count": null,
   "metadata": {
    "collapsed": true
   },
   "outputs": [],
   "source": []
  },
  {
   "cell_type": "code",
   "execution_count": null,
   "metadata": {
    "collapsed": true
   },
   "outputs": [],
   "source": []
  },
  {
   "cell_type": "code",
   "execution_count": null,
   "metadata": {
    "collapsed": true
   },
   "outputs": [],
   "source": []
  },
  {
   "cell_type": "markdown",
   "metadata": {},
   "source": [
    "## Aluminium"
   ]
  },
  {
   "cell_type": "code",
   "execution_count": 92,
   "metadata": {
    "collapsed": true
   },
   "outputs": [],
   "source": [
    "alu_5cm = pd.read_csv(\"Messdaten/absorbtion/absorbtion_2,5cmBlei+5cmAlu_LLDhoch.csv\", header=14, delim_whitespace=True, names=['rate','error'], index_col=0)\n",
    "alu_4cm = pd.read_csv(\"Messdaten/absorbtion/absorbtion_2,5cmBlei+4cmAlu_LLDhoch.csv\", header=14, delim_whitespace=True, names=['rate','error'], index_col=0)\n",
    "alu_3cm = pd.read_csv(\"Messdaten/absorbtion/absorbtion_2,5cmBlei+3cmAlu_LLDhoch.csv\", header=14, delim_whitespace=True, names=['rate','error'], index_col=0)\n",
    "alu_2cm = pd.read_csv(\"Messdaten/absorbtion/absorbtion_2,5cmBlei+2cmAlu_LLDhoch.csv\", header=14, delim_whitespace=True, names=['rate','error'], index_col=0)\n",
    "alu_1cm = pd.read_csv(\"Messdaten/absorbtion/absorbtion_2,5cmBlei+1cmAlu_LLDhoch.csv\", header=14, delim_whitespace=True, names=['rate','error'], index_col=0)"
   ]
  },
  {
   "cell_type": "markdown",
   "metadata": {},
   "source": [
    "### 5cm"
   ]
  },
  {
   "cell_type": "code",
   "execution_count": 93,
   "metadata": {
    "collapsed": true
   },
   "outputs": [],
   "source": [
    "pars_absorb_alu_5cm = gauss_1.guess(alu_5cm.rate-untergrund.rate,x=x)\n",
    "# controll the center\n",
    "pars_absorb_alu_5cm['gauss_1_center'].set(1925, min=1900, max=2000)\n",
    "# controll the amplitude\n",
    "pars_absorb_alu_5cm['gauss_1_amplitude'].set(440*18, min=0)#, max=440*2.5)\n",
    "# controll sigma\n",
    "pars_absorb_alu_5cm['gauss_1_sigma'].set(20, min=1, max=68)"
   ]
  },
  {
   "cell_type": "code",
   "execution_count": 94,
   "metadata": {
    "collapsed": true
   },
   "outputs": [],
   "source": [
    "out_absorb_alu_5cm = gauss_1.fit(alu_5cm.rate[1890:1993]-untergrund.rate[1890:1993],params=pars_absorb_alu_5cm,x=x[1890:1993],weights=1/alu_5cm.error[1890:1993])"
   ]
  },
  {
   "cell_type": "code",
   "execution_count": 95,
   "metadata": {
    "collapsed": true
   },
   "outputs": [],
   "source": [
    "plt.errorbar(x,alu_5cm.rate-untergrund.rate, yerr=alu_5cm.error, fmt=' .g',label=\"Messdaten\")\n",
    "plt.plot(x,out_absorb_alu_5cm.eval(x=x), '-r', label=\"Fit\")\n",
    "plt.xlabel(\"Counts\",fontsize=24)\n",
    "plt.ylabel(\"Kanal\",fontsize=24)\n",
    "plt.xticks(fontsize=18)\n",
    "plt.yticks(fontsize=18)\n",
    "plt.legend(loc='best',fontsize=24)\n",
    "plt.show()"
   ]
  },
  {
   "cell_type": "code",
   "execution_count": 96,
   "metadata": {
    "collapsed": false
   },
   "outputs": [
    {
     "name": "stdout",
     "output_type": "stream",
     "text": [
      "[[Model]]\n",
      "    Model(gaussian, prefix='gauss_1_')\n",
      "[[Fit Statistics]]\n",
      "    # function evals   = 36\n",
      "    # data points      = 103\n",
      "    # variables        = 3\n",
      "    chi-square         = 218.822\n",
      "    reduced chi-square = 2.188\n",
      "[[Variables]]\n",
      "    gauss_1_sigma:       21.7995921 +/- 0.086371 (0.40%) (init= 20)\n",
      "    gauss_1_fwhm:        51.3341155 +/- 0.203390 (0.40%)  == '2.3548200*gauss_1_sigma'\n",
      "    gauss_1_amplitude:   1.7524e+05 +/- 705.9591 (0.40%) (init= 7920)\n",
      "    gauss_1_center:      1919.58544 +/- 0.113182 (0.01%) (init= 1925)\n",
      "[[Correlations]] (unreported correlations are <  0.100)\n",
      "    C(gauss_1_sigma, gauss_1_center)  = -0.554 \n",
      "    C(gauss_1_sigma, gauss_1_amplitude)  =  0.355 \n",
      "    C(gauss_1_amplitude, gauss_1_center)  = -0.344 \n",
      "\n"
     ]
    }
   ],
   "source": [
    "print(out_absorb_alu_5cm.fit_report())"
   ]
  },
  {
   "cell_type": "markdown",
   "metadata": {},
   "source": [
    "### 4cm"
   ]
  },
  {
   "cell_type": "code",
   "execution_count": 97,
   "metadata": {
    "collapsed": true
   },
   "outputs": [],
   "source": [
    "pars_absorb_alu_4cm = gauss_1.guess(alu_4cm.rate-untergrund.rate,x=x)\n",
    "# controll the center\n",
    "pars_absorb_alu_4cm['gauss_1_center'].set(1925, min=1900, max=2000)\n",
    "# controll the amplitude\n",
    "pars_absorb_alu_4cm['gauss_1_amplitude'].set(440*18, min=0)#, max=440*2.5)\n",
    "# controll sigma\n",
    "pars_absorb_alu_4cm['gauss_1_sigma'].set(20, min=1, max=68)"
   ]
  },
  {
   "cell_type": "code",
   "execution_count": 98,
   "metadata": {
    "collapsed": true
   },
   "outputs": [],
   "source": [
    "out_absorb_alu_4cm = gauss_1.fit(alu_4cm.rate[1890:1993]-untergrund.rate[1890:1993],params=pars_absorb_alu_4cm,x=x[1890:1993],weights=1/alu_4cm.error[1890:1993])"
   ]
  },
  {
   "cell_type": "code",
   "execution_count": 99,
   "metadata": {
    "collapsed": true
   },
   "outputs": [],
   "source": [
    "plt.errorbar(x,alu_4cm.rate-untergrund.rate, yerr=alu_4cm.error, fmt=' .g', label=\"Messdaten\")\n",
    "plt.plot(x,out_absorb_alu_4cm.eval(x=x), '-r', label=\"Fit\")\n",
    "plt.xlabel(\"Counts\",fontsize=24)\n",
    "plt.ylabel(\"Kanal\",fontsize=24)\n",
    "plt.xticks(fontsize=18)\n",
    "plt.yticks(fontsize=18)\n",
    "plt.legend(loc='best',fontsize=24)\n",
    "plt.show()"
   ]
  },
  {
   "cell_type": "code",
   "execution_count": 100,
   "metadata": {
    "collapsed": false
   },
   "outputs": [
    {
     "name": "stdout",
     "output_type": "stream",
     "text": [
      "[[Model]]\n",
      "    Model(gaussian, prefix='gauss_1_')\n",
      "[[Fit Statistics]]\n",
      "    # function evals   = 36\n",
      "    # data points      = 103\n",
      "    # variables        = 3\n",
      "    chi-square         = 175.467\n",
      "    reduced chi-square = 1.755\n",
      "[[Variables]]\n",
      "    gauss_1_sigma:       21.7704695 +/- 0.070450 (0.32%) (init= 20)\n",
      "    gauss_1_fwhm:        51.2655371 +/- 0.165897 (0.32%)  == '2.3548200*gauss_1_sigma'\n",
      "    gauss_1_amplitude:   2.1317e+05 +/- 696.5389 (0.33%) (init= 7920)\n",
      "    gauss_1_center:      1919.59185 +/- 0.091328 (0.00%) (init= 1925)\n",
      "[[Correlations]] (unreported correlations are <  0.100)\n",
      "    C(gauss_1_sigma, gauss_1_center)  = -0.549 \n",
      "    C(gauss_1_sigma, gauss_1_amplitude)  =  0.354 \n",
      "    C(gauss_1_amplitude, gauss_1_center)  = -0.342 \n",
      "\n"
     ]
    }
   ],
   "source": [
    "print(out_absorb_alu_4cm.fit_report())"
   ]
  },
  {
   "cell_type": "markdown",
   "metadata": {},
   "source": [
    "### 3cm"
   ]
  },
  {
   "cell_type": "code",
   "execution_count": 101,
   "metadata": {
    "collapsed": true
   },
   "outputs": [],
   "source": [
    "pars_absorb_alu_3cm = gauss_1.guess(alu_3cm.rate-untergrund.rate,x=x)\n",
    "# controll the center\n",
    "pars_absorb_alu_3cm['gauss_1_center'].set(1925, min=1900, max=2000)\n",
    "# controll the amplitude\n",
    "pars_absorb_alu_3cm['gauss_1_amplitude'].set(440*18, min=0)#, max=440*2.5)\n",
    "# controll sigma\n",
    "pars_absorb_alu_3cm['gauss_1_sigma'].set(20, min=1, max=68)"
   ]
  },
  {
   "cell_type": "code",
   "execution_count": 102,
   "metadata": {
    "collapsed": true
   },
   "outputs": [],
   "source": [
    "out_absorb_alu_3cm = gauss_1.fit(alu_3cm.rate[1890:1993]-untergrund.rate[1890:1993],params=pars_absorb_alu_3cm,x=x[1890:1993],weights=1/alu_3cm.error[1890:1993])"
   ]
  },
  {
   "cell_type": "code",
   "execution_count": 103,
   "metadata": {
    "collapsed": true
   },
   "outputs": [],
   "source": [
    "plt.errorbar(x,alu_3cm.rate-untergrund.rate, yerr=alu_3cm.error, fmt=' .g',label=\"Messdaten\")\n",
    "plt.plot(x,out_absorb_alu_3cm.eval(x=x), '-r',label=\"Fit\")\n",
    "plt.xlabel(\"Counts\",fontsize=24)\n",
    "plt.ylabel(\"Kanal\",fontsize=24)\n",
    "plt.xticks(fontsize=18)\n",
    "plt.yticks(fontsize=18)\n",
    "plt.legend(loc='best',fontsize=24)\n",
    "plt.show()"
   ]
  },
  {
   "cell_type": "code",
   "execution_count": 104,
   "metadata": {
    "collapsed": false
   },
   "outputs": [
    {
     "name": "stdout",
     "output_type": "stream",
     "text": [
      "[[Model]]\n",
      "    Model(gaussian, prefix='gauss_1_')\n",
      "[[Fit Statistics]]\n",
      "    # function evals   = 36\n",
      "    # data points      = 103\n",
      "    # variables        = 3\n",
      "    chi-square         = 193.138\n",
      "    reduced chi-square = 1.931\n",
      "[[Variables]]\n",
      "    gauss_1_sigma:       21.9524196 +/- 0.067588 (0.31%) (init= 20)\n",
      "    gauss_1_fwhm:        51.6939967 +/- 0.159159 (0.31%)  == '2.3548200*gauss_1_sigma'\n",
      "    gauss_1_amplitude:   2.6216e+05 +/- 815.6255 (0.31%) (init= 7920)\n",
      "    gauss_1_center:      1919.43538 +/- 0.088172 (0.00%) (init= 1925)\n",
      "[[Correlations]] (unreported correlations are <  0.100)\n",
      "    C(gauss_1_sigma, gauss_1_center)  = -0.558 \n",
      "    C(gauss_1_sigma, gauss_1_amplitude)  =  0.363 \n",
      "    C(gauss_1_amplitude, gauss_1_center)  = -0.354 \n",
      "\n"
     ]
    }
   ],
   "source": [
    "print(out_absorb_alu_3cm.fit_report())"
   ]
  },
  {
   "cell_type": "markdown",
   "metadata": {},
   "source": [
    "### 2cm"
   ]
  },
  {
   "cell_type": "code",
   "execution_count": 105,
   "metadata": {
    "collapsed": true
   },
   "outputs": [],
   "source": [
    "pars_absorb_alu_2cm = gauss_1.guess(alu_2cm.rate-untergrund.rate,x=x)\n",
    "# controll the center\n",
    "pars_absorb_alu_2cm['gauss_1_center'].set(1925, min=1900, max=2000)\n",
    "# controll the amplitude\n",
    "pars_absorb_alu_2cm['gauss_1_amplitude'].set(440*18, min=0)#, max=440*2.5)\n",
    "# controll sigma\n",
    "pars_absorb_alu_2cm['gauss_1_sigma'].set(20, min=1, max=68)"
   ]
  },
  {
   "cell_type": "code",
   "execution_count": 106,
   "metadata": {
    "collapsed": true
   },
   "outputs": [],
   "source": [
    "out_absorb_alu_2cm = gauss_1.fit(alu_2cm.rate[1890:1993]-untergrund.rate[1890:1993],params=pars_absorb_alu_2cm,x=x[1890:1993],weights=1/alu_2cm.error[1890:1993])"
   ]
  },
  {
   "cell_type": "code",
   "execution_count": 107,
   "metadata": {
    "collapsed": true
   },
   "outputs": [],
   "source": [
    "plt.errorbar(x,alu_2cm.rate-untergrund.rate, yerr=alu_2cm.error, fmt=' .g',label=\"Messdaten\")\n",
    "plt.plot(x,out_absorb_alu_2cm.eval(x=x), '-r',label=\"Fit\")\n",
    "plt.xlabel(\"Counts\",fontsize=24)\n",
    "plt.ylabel(\"Kanal\",fontsize=24)\n",
    "plt.xticks(fontsize=18)\n",
    "plt.yticks(fontsize=18)\n",
    "plt.legend(loc='best',fontsize=24)\n",
    "plt.show()"
   ]
  },
  {
   "cell_type": "code",
   "execution_count": 108,
   "metadata": {
    "collapsed": false
   },
   "outputs": [
    {
     "name": "stdout",
     "output_type": "stream",
     "text": [
      "[[Model]]\n",
      "    Model(gaussian, prefix='gauss_1_')\n",
      "[[Fit Statistics]]\n",
      "    # function evals   = 36\n",
      "    # data points      = 103\n",
      "    # variables        = 3\n",
      "    chi-square         = 231.897\n",
      "    reduced chi-square = 2.319\n",
      "[[Variables]]\n",
      "    gauss_1_sigma:       22.0028371 +/- 0.067599 (0.31%) (init= 20)\n",
      "    gauss_1_fwhm:        51.8127210 +/- 0.159185 (0.31%)  == '2.3548200*gauss_1_sigma'\n",
      "    gauss_1_amplitude:   3.1760e+05 +/- 982.1848 (0.31%) (init= 7920)\n",
      "    gauss_1_center:      1919.61995 +/- 0.087786 (0.00%) (init= 1925)\n",
      "[[Correlations]] (unreported correlations are <  0.100)\n",
      "    C(gauss_1_sigma, gauss_1_center)  = -0.558 \n",
      "    C(gauss_1_sigma, gauss_1_amplitude)  =  0.362 \n",
      "    C(gauss_1_amplitude, gauss_1_center)  = -0.351 \n",
      "\n"
     ]
    }
   ],
   "source": [
    "print(out_absorb_alu_2cm.fit_report())"
   ]
  },
  {
   "cell_type": "markdown",
   "metadata": {},
   "source": [
    "### 1cm"
   ]
  },
  {
   "cell_type": "code",
   "execution_count": 109,
   "metadata": {
    "collapsed": true
   },
   "outputs": [],
   "source": [
    "pars_absorb_alu_1cm = gauss_1.guess(alu_1cm.rate-untergrund.rate,x=x)\n",
    "# controll the center\n",
    "pars_absorb_alu_1cm['gauss_1_center'].set(1925, min=1900, max=2000)\n",
    "# controll the amplitude\n",
    "pars_absorb_alu_1cm['gauss_1_amplitude'].set(440*18, min=0)#, max=440*2.5)\n",
    "# controll sigma\n",
    "pars_absorb_alu_1cm['gauss_1_sigma'].set(20, min=1, max=68)"
   ]
  },
  {
   "cell_type": "code",
   "execution_count": 110,
   "metadata": {
    "collapsed": false
   },
   "outputs": [],
   "source": [
    "out_absorb_alu_1cm = gauss_1.fit(alu_1cm.rate[1870:2000]-untergrund.rate[1870:2000],params=pars_absorb_alu_1cm,x=x[1870:2000],weights=1/alu_1cm.error[1870:2000])"
   ]
  },
  {
   "cell_type": "code",
   "execution_count": 111,
   "metadata": {
    "collapsed": false
   },
   "outputs": [],
   "source": [
    "plt.errorbar(x,alu_1cm.rate-untergrund.rate, yerr=alu_1cm.error, fmt=' .g', label=\"Messwerte\")\n",
    "plt.plot(x,out_absorb_alu_1cm.eval(x=x), '-r', label=\"Fit\")\n",
    "plt.xlabel(\"Kanal\",fontsize=24)\n",
    "plt.ylabel(\"Counts\",fontsize=24)\n",
    "plt.xticks(fontsize=18)\n",
    "plt.yticks(fontsize=18)\n",
    "plt.ticklabel_format(style='sci', axis='y', scilimits=(-5,5))\n",
    "plt.legend(loc='best',fontsize=24)\n",
    "plt.show()"
   ]
  },
  {
   "cell_type": "code",
   "execution_count": 112,
   "metadata": {
    "collapsed": false
   },
   "outputs": [
    {
     "name": "stdout",
     "output_type": "stream",
     "text": [
      "[[Model]]\n",
      "    Model(gaussian, prefix='gauss_1_')\n",
      "[[Fit Statistics]]\n",
      "    # function evals   = 35\n",
      "    # data points      = 130\n",
      "    # variables        = 3\n",
      "    chi-square         = 1106.817\n",
      "    reduced chi-square = 8.715\n",
      "[[Variables]]\n",
      "    gauss_1_sigma:       22.8088437 +/- 0.090694 (0.40%) (init= 20)\n",
      "    gauss_1_fwhm:        53.7107214 +/- 0.213568 (0.40%)  == '2.3548200*gauss_1_sigma'\n",
      "    gauss_1_amplitude:   3.9310e+05 +/- 1.88e+03 (0.48%) (init= 7920)\n",
      "    gauss_1_center:      1918.61200 +/- 0.117355 (0.01%) (init= 1925)\n",
      "[[Correlations]] (unreported correlations are <  0.100)\n",
      "    C(gauss_1_sigma, gauss_1_center)  = -0.247 \n",
      "\n"
     ]
    }
   ],
   "source": [
    "print(out_absorb_alu_1cm.fit_report())"
   ]
  },
  {
   "cell_type": "markdown",
   "metadata": {},
   "source": [
    "#### Exponentieller Zusammenhang Alu"
   ]
  },
  {
   "cell_type": "code",
   "execution_count": 113,
   "metadata": {
    "collapsed": true
   },
   "outputs": [],
   "source": [
    "alu_dicke = np.array([7.6025,6.585,5.57,4.55,3.545])\n",
    "alu_rate = np.array([1.7524e+05,2.1317e+05,2.6216e+05,3.1760e+05,3.9311e+05])\n",
    "alu_rate = alu_rate*2\n",
    "alu_dicke_err = np.array([0.002,0.002,0.002,0.001,0.001])\n",
    "alu_rate_err = np.array([705,696,815,982,1.42e+03])\n",
    "alu_rate_err = alu_rate*((alu_rate_err/alu_rate)**2+(2*0.02)**2+(0.1/300)**2)**0.5"
   ]
  },
  {
   "cell_type": "code",
   "execution_count": 114,
   "metadata": {
    "collapsed": false
   },
   "outputs": [
    {
     "data": {
      "text/plain": [
       "array([ 350480.,  426340.,  524320.,  635200.,  786220.])"
      ]
     },
     "execution_count": 114,
     "metadata": {},
     "output_type": "execute_result"
    }
   ],
   "source": [
    "alu_rate"
   ]
  },
  {
   "cell_type": "code",
   "execution_count": 115,
   "metadata": {
    "collapsed": false
   },
   "outputs": [
    {
     "data": {
      "text/plain": [
       "array([ 14037.40154409,  17068.38847576,  20989.35707824,  25427.85124631,\n",
       "        31481.93297547])"
      ]
     },
     "execution_count": 115,
     "metadata": {},
     "output_type": "execute_result"
    }
   ],
   "source": [
    "alu_rate_err"
   ]
  },
  {
   "cell_type": "code",
   "execution_count": 116,
   "metadata": {
    "collapsed": true
   },
   "outputs": [],
   "source": [
    "mod_exp_alu = Model(exp_fit)"
   ]
  },
  {
   "cell_type": "code",
   "execution_count": 117,
   "metadata": {
    "collapsed": false
   },
   "outputs": [],
   "source": [
    "pars_exp_alu = mod_exp_alu.make_params(a=1,b=1)"
   ]
  },
  {
   "cell_type": "code",
   "execution_count": 118,
   "metadata": {
    "collapsed": false
   },
   "outputs": [],
   "source": [
    "out_exp_alu = mod_exp_alu.fit(alu_rate,params=pars_exp_alu,x=alu_dicke,weights=1/(alu_rate_err))"
   ]
  },
  {
   "cell_type": "code",
   "execution_count": 119,
   "metadata": {
    "collapsed": false
   },
   "outputs": [],
   "source": [
    "plt.errorbar(alu_dicke,alu_rate,yerr=alu_rate_err,xerr=alu_dicke_err,fmt=' .', label=\"Messdaten\")\n",
    "plt.plot(np.arange(3,8,0.01),out_exp_alu.eval(x=np.arange(3,8,0.01)), label=\"Fit\")\n",
    "plt.xlabel(\"Dicke / cm\",fontsize=24)\n",
    "plt.ylabel(\"Rate / Hz\",fontsize=24)\n",
    "plt.xticks(fontsize=18)\n",
    "plt.yticks(fontsize=18)\n",
    "plt.xlim([3.4,7.7])\n",
    "#plt.ylim([1.5*10**5,4.5*10**5])\n",
    "plt.ticklabel_format(style='sci', axis='y', scilimits=(-5,5))\n",
    "plt.legend(loc='best',fontsize=24)\n",
    "plt.show()"
   ]
  },
  {
   "cell_type": "code",
   "execution_count": 120,
   "metadata": {
    "collapsed": false
   },
   "outputs": [
    {
     "name": "stdout",
     "output_type": "stream",
     "text": [
      "[[Model]]\n",
      "    Model(exp_fit)\n",
      "[[Fit Statistics]]\n",
      "    # function evals   = 137\n",
      "    # data points      = 5\n",
      "    # variables        = 2\n",
      "    chi-square         = 0.077\n",
      "    reduced chi-square = 0.026\n",
      "[[Variables]]\n",
      "    a:   1.5798e+06 +/- 1.82e+04 (1.15%) (init= 1)\n",
      "    b:   0.19845671 +/- 0.002001 (1.01%) (init= 1)\n",
      "[[Correlations]] (unreported correlations are <  0.100)\n",
      "    C(a, b)                      =  0.969 \n",
      "\n"
     ]
    }
   ],
   "source": [
    "print(out_exp_alu.fit_report())"
   ]
  },
  {
   "cell_type": "markdown",
   "metadata": {},
   "source": [
    "#### Bestimmen der Counts ohne Material vor dem Detektor"
   ]
  },
  {
   "cell_type": "code",
   "execution_count": 121,
   "metadata": {
    "collapsed": false
   },
   "outputs": [
    {
     "data": {
      "text/plain": [
       "array([ 59634.32022041])"
      ]
     },
     "execution_count": 121,
     "metadata": {},
     "output_type": "execute_result"
    }
   ],
   "source": [
    "out_exp_blei.eval(x=np.array([0]))"
   ]
  },
  {
   "cell_type": "code",
   "execution_count": 122,
   "metadata": {
    "collapsed": false
   },
   "outputs": [
    {
     "data": {
      "text/plain": [
       "array([ 76928.27308433])"
      ]
     },
     "execution_count": 122,
     "metadata": {},
     "output_type": "execute_result"
    }
   ],
   "source": [
    "out_exp_blei.eval(x=np.arange(0,1))*300*0.0043"
   ]
  },
  {
   "cell_type": "code",
   "execution_count": 123,
   "metadata": {
    "collapsed": false
   },
   "outputs": [
    {
     "data": {
      "text/plain": [
       "3.3333333333333215"
      ]
     },
     "execution_count": 123,
     "metadata": {},
     "output_type": "execute_result"
    }
   ],
   "source": [
    "(1-0.116/0.120)*100"
   ]
  },
  {
   "cell_type": "code",
   "execution_count": null,
   "metadata": {
    "collapsed": true
   },
   "outputs": [],
   "source": []
  },
  {
   "cell_type": "code",
   "execution_count": 124,
   "metadata": {
    "collapsed": false
   },
   "outputs": [
    {
     "data": {
      "text/plain": [
       "-4.210526315789487"
      ]
     },
     "execution_count": 124,
     "metadata": {},
     "output_type": "execute_result"
    }
   ],
   "source": [
    "(1-0.0198/0.0190)*100"
   ]
  },
  {
   "cell_type": "code",
   "execution_count": null,
   "metadata": {
    "collapsed": true
   },
   "outputs": [],
   "source": []
  },
  {
   "cell_type": "code",
   "execution_count": 125,
   "metadata": {
    "collapsed": false
   },
   "outputs": [],
   "source": [
    "Wirkungsquerschnitte = pd.read_csv(\"Messdaten/Grad/Winkel_WQ.csv\", header=0, delim_whitespace=True, names=['Theta','error_Theta','WQ_geom_korr','error_WQ_geom_korr','WQ_KN_th','error_WQ_KN_th','WQ_KN_exp','error_WQ_KN_exp','WQ_Thompson','error_WQ_Thompson','WQ_geom','error_WQ_geom'], index_col=0)"
   ]
  },
  {
   "cell_type": "code",
   "execution_count": 126,
   "metadata": {
    "collapsed": false
   },
   "outputs": [],
   "source": [
    "a = list(Wirkungsquerschnitte.Theta)\n",
    "b = list(Wirkungsquerschnitte.WQ_geom_korr)\n",
    "c = list(Wirkungsquerschnitte.error_WQ_geom_korr)"
   ]
  },
  {
   "cell_type": "code",
   "execution_count": 127,
   "metadata": {
    "collapsed": false
   },
   "outputs": [
    {
     "data": {
      "text/plain": [
       "[9.0699017441500001,\n",
       " 6.4443289243599997,\n",
       " 5.27115902232,\n",
       " 4.7116389105199996,\n",
       " 4.4934924754400001,\n",
       " 4.5175267000000003,\n",
       " 4.7568854754400007]"
      ]
     },
     "execution_count": 127,
     "metadata": {},
     "output_type": "execute_result"
    }
   ],
   "source": [
    "c"
   ]
  },
  {
   "cell_type": "code",
   "execution_count": 140,
   "metadata": {
    "collapsed": false
   },
   "outputs": [],
   "source": [
    "plt.errorbar(a,b,yerr=c, fmt=' pg', markersize=7, label=\"Geometrisch korriegerter WQ\")\n",
    "plt.xlabel(r\"Winkel/$^\\circ$\",fontsize=24)\n",
    "plt.ylabel(r\"Wirkungsquerschnitt/10$^{-2}$b\",fontsize=24)\n",
    "plt.xticks(fontsize=18)\n",
    "plt.yticks(fontsize=18)\n",
    "plt.legend(loc='best',fontsize=24)\n",
    "plt.xlim([15,85])\n",
    "plt.legend(loc='best', fontsize=24)\n",
    "plt.show()"
   ]
  },
  {
   "cell_type": "code",
   "execution_count": 129,
   "metadata": {
    "collapsed": false
   },
   "outputs": [
    {
     "data": {
      "text/html": [
       "<div>\n",
       "<table border=\"1\" class=\"dataframe\">\n",
       "  <thead>\n",
       "    <tr style=\"text-align: right;\">\n",
       "      <th></th>\n",
       "      <th>Theta</th>\n",
       "      <th>error_Theta</th>\n",
       "      <th>WQ_geom_korr</th>\n",
       "      <th>error_WQ_geom_korr</th>\n",
       "      <th>WQ_KN_th</th>\n",
       "      <th>error_WQ_KN_th</th>\n",
       "      <th>WQ_KN_exp</th>\n",
       "      <th>error_WQ_KN_exp</th>\n",
       "      <th>WQ_Thompson</th>\n",
       "      <th>error_WQ_Thompson</th>\n",
       "      <th>WQ_geom</th>\n",
       "      <th>error_WQ_geom</th>\n",
       "    </tr>\n",
       "  </thead>\n",
       "  <tbody>\n",
       "    <tr>\n",
       "      <th>1</th>\n",
       "      <td>20</td>\n",
       "      <td>0.5</td>\n",
       "      <td>8.940036</td>\n",
       "      <td>9.069902</td>\n",
       "      <td>6.451370</td>\n",
       "      <td>0.038550</td>\n",
       "      <td>6.731011</td>\n",
       "      <td>0.186873</td>\n",
       "      <td>7.476340</td>\n",
       "      <td>0.022271</td>\n",
       "      <td>10.651111</td>\n",
       "      <td>0.695215</td>\n",
       "    </tr>\n",
       "    <tr>\n",
       "      <th>2</th>\n",
       "      <td>30</td>\n",
       "      <td>0.5</td>\n",
       "      <td>7.675762</td>\n",
       "      <td>6.444329</td>\n",
       "      <td>5.118962</td>\n",
       "      <td>0.042649</td>\n",
       "      <td>5.695862</td>\n",
       "      <td>0.271449</td>\n",
       "      <td>6.948189</td>\n",
       "      <td>0.030006</td>\n",
       "      <td>9.445637</td>\n",
       "      <td>0.561719</td>\n",
       "    </tr>\n",
       "    <tr>\n",
       "      <th>3</th>\n",
       "      <td>40</td>\n",
       "      <td>0.5</td>\n",
       "      <td>5.350504</td>\n",
       "      <td>5.271159</td>\n",
       "      <td>3.875176</td>\n",
       "      <td>0.038936</td>\n",
       "      <td>4.351761</td>\n",
       "      <td>0.281432</td>\n",
       "      <td>6.300317</td>\n",
       "      <td>0.034122</td>\n",
       "      <td>7.207117</td>\n",
       "      <td>0.399351</td>\n",
       "    </tr>\n",
       "    <tr>\n",
       "      <th>4</th>\n",
       "      <td>50</td>\n",
       "      <td>0.5</td>\n",
       "      <td>3.725985</td>\n",
       "      <td>4.711639</td>\n",
       "      <td>2.893940</td>\n",
       "      <td>0.031761</td>\n",
       "      <td>3.265765</td>\n",
       "      <td>0.246973</td>\n",
       "      <td>5.610865</td>\n",
       "      <td>0.034122</td>\n",
       "      <td>5.702276</td>\n",
       "      <td>0.306798</td>\n",
       "    </tr>\n",
       "    <tr>\n",
       "      <th>5</th>\n",
       "      <td>60</td>\n",
       "      <td>0.5</td>\n",
       "      <td>2.495210</td>\n",
       "      <td>4.493492</td>\n",
       "      <td>2.200304</td>\n",
       "      <td>0.024171</td>\n",
       "      <td>2.461840</td>\n",
       "      <td>0.216385</td>\n",
       "      <td>4.962992</td>\n",
       "      <td>0.030006</td>\n",
       "      <td>4.631497</td>\n",
       "      <td>0.238110</td>\n",
       "    </tr>\n",
       "    <tr>\n",
       "      <th>6</th>\n",
       "      <td>70</td>\n",
       "      <td>0.5</td>\n",
       "      <td>1.693113</td>\n",
       "      <td>4.517527</td>\n",
       "      <td>1.746274</td>\n",
       "      <td>0.017665</td>\n",
       "      <td>1.925710</td>\n",
       "      <td>0.193881</td>\n",
       "      <td>4.434842</td>\n",
       "      <td>0.022271</td>\n",
       "      <td>4.040410</td>\n",
       "      <td>0.203349</td>\n",
       "    </tr>\n",
       "    <tr>\n",
       "      <th>7</th>\n",
       "      <td>80</td>\n",
       "      <td>0.5</td>\n",
       "      <td>0.935232</td>\n",
       "      <td>4.756885</td>\n",
       "      <td>1.466655</td>\n",
       "      <td>0.012758</td>\n",
       "      <td>1.596763</td>\n",
       "      <td>0.143758</td>\n",
       "      <td>4.090116</td>\n",
       "      <td>0.011850</td>\n",
       "      <td>3.560018</td>\n",
       "      <td>0.174657</td>\n",
       "    </tr>\n",
       "  </tbody>\n",
       "</table>\n",
       "</div>"
      ],
      "text/plain": [
       "   Theta  error_Theta  WQ_geom_korr  error_WQ_geom_korr  WQ_KN_th  \\\n",
       "1     20          0.5      8.940036            9.069902  6.451370   \n",
       "2     30          0.5      7.675762            6.444329  5.118962   \n",
       "3     40          0.5      5.350504            5.271159  3.875176   \n",
       "4     50          0.5      3.725985            4.711639  2.893940   \n",
       "5     60          0.5      2.495210            4.493492  2.200304   \n",
       "6     70          0.5      1.693113            4.517527  1.746274   \n",
       "7     80          0.5      0.935232            4.756885  1.466655   \n",
       "\n",
       "   error_WQ_KN_th  WQ_KN_exp  error_WQ_KN_exp  WQ_Thompson  error_WQ_Thompson  \\\n",
       "1        0.038550   6.731011         0.186873     7.476340           0.022271   \n",
       "2        0.042649   5.695862         0.271449     6.948189           0.030006   \n",
       "3        0.038936   4.351761         0.281432     6.300317           0.034122   \n",
       "4        0.031761   3.265765         0.246973     5.610865           0.034122   \n",
       "5        0.024171   2.461840         0.216385     4.962992           0.030006   \n",
       "6        0.017665   1.925710         0.193881     4.434842           0.022271   \n",
       "7        0.012758   1.596763         0.143758     4.090116           0.011850   \n",
       "\n",
       "     WQ_geom  error_WQ_geom  \n",
       "1  10.651111       0.695215  \n",
       "2   9.445637       0.561719  \n",
       "3   7.207117       0.399351  \n",
       "4   5.702276       0.306798  \n",
       "5   4.631497       0.238110  \n",
       "6   4.040410       0.203349  \n",
       "7   3.560018       0.174657  "
      ]
     },
     "execution_count": 129,
     "metadata": {},
     "output_type": "execute_result"
    }
   ],
   "source": [
    "Wirkungsquerschnitte"
   ]
  },
  {
   "cell_type": "code",
   "execution_count": 144,
   "metadata": {
    "collapsed": false
   },
   "outputs": [
    {
     "data": {
      "application/javascript": [
       "/* Put everything inside the global mpl namespace */\n",
       "window.mpl = {};\n",
       "\n",
       "mpl.get_websocket_type = function() {\n",
       "    if (typeof(WebSocket) !== 'undefined') {\n",
       "        return WebSocket;\n",
       "    } else if (typeof(MozWebSocket) !== 'undefined') {\n",
       "        return MozWebSocket;\n",
       "    } else {\n",
       "        alert('Your browser does not have WebSocket support.' +\n",
       "              'Please try Chrome, Safari or Firefox ≥ 6. ' +\n",
       "              'Firefox 4 and 5 are also supported but you ' +\n",
       "              'have to enable WebSockets in about:config.');\n",
       "    };\n",
       "}\n",
       "\n",
       "mpl.figure = function(figure_id, websocket, ondownload, parent_element) {\n",
       "    this.id = figure_id;\n",
       "\n",
       "    this.ws = websocket;\n",
       "\n",
       "    this.supports_binary = (this.ws.binaryType != undefined);\n",
       "\n",
       "    if (!this.supports_binary) {\n",
       "        var warnings = document.getElementById(\"mpl-warnings\");\n",
       "        if (warnings) {\n",
       "            warnings.style.display = 'block';\n",
       "            warnings.textContent = (\n",
       "                \"This browser does not support binary websocket messages. \" +\n",
       "                    \"Performance may be slow.\");\n",
       "        }\n",
       "    }\n",
       "\n",
       "    this.imageObj = new Image();\n",
       "\n",
       "    this.context = undefined;\n",
       "    this.message = undefined;\n",
       "    this.canvas = undefined;\n",
       "    this.rubberband_canvas = undefined;\n",
       "    this.rubberband_context = undefined;\n",
       "    this.format_dropdown = undefined;\n",
       "\n",
       "    this.image_mode = 'full';\n",
       "\n",
       "    this.root = $('<div/>');\n",
       "    this._root_extra_style(this.root)\n",
       "    this.root.attr('style', 'display: inline-block');\n",
       "\n",
       "    $(parent_element).append(this.root);\n",
       "\n",
       "    this._init_header(this);\n",
       "    this._init_canvas(this);\n",
       "    this._init_toolbar(this);\n",
       "\n",
       "    var fig = this;\n",
       "\n",
       "    this.waiting = false;\n",
       "\n",
       "    this.ws.onopen =  function () {\n",
       "            fig.send_message(\"supports_binary\", {value: fig.supports_binary});\n",
       "            fig.send_message(\"send_image_mode\", {});\n",
       "            fig.send_message(\"refresh\", {});\n",
       "        }\n",
       "\n",
       "    this.imageObj.onload = function() {\n",
       "            if (fig.image_mode == 'full') {\n",
       "                // Full images could contain transparency (where diff images\n",
       "                // almost always do), so we need to clear the canvas so that\n",
       "                // there is no ghosting.\n",
       "                fig.context.clearRect(0, 0, fig.canvas.width, fig.canvas.height);\n",
       "            }\n",
       "            fig.context.drawImage(fig.imageObj, 0, 0);\n",
       "        };\n",
       "\n",
       "    this.imageObj.onunload = function() {\n",
       "        this.ws.close();\n",
       "    }\n",
       "\n",
       "    this.ws.onmessage = this._make_on_message_function(this);\n",
       "\n",
       "    this.ondownload = ondownload;\n",
       "}\n",
       "\n",
       "mpl.figure.prototype._init_header = function() {\n",
       "    var titlebar = $(\n",
       "        '<div class=\"ui-dialog-titlebar ui-widget-header ui-corner-all ' +\n",
       "        'ui-helper-clearfix\"/>');\n",
       "    var titletext = $(\n",
       "        '<div class=\"ui-dialog-title\" style=\"width: 100%; ' +\n",
       "        'text-align: center; padding: 3px;\"/>');\n",
       "    titlebar.append(titletext)\n",
       "    this.root.append(titlebar);\n",
       "    this.header = titletext[0];\n",
       "}\n",
       "\n",
       "\n",
       "\n",
       "mpl.figure.prototype._canvas_extra_style = function(canvas_div) {\n",
       "\n",
       "}\n",
       "\n",
       "\n",
       "mpl.figure.prototype._root_extra_style = function(canvas_div) {\n",
       "\n",
       "}\n",
       "\n",
       "mpl.figure.prototype._init_canvas = function() {\n",
       "    var fig = this;\n",
       "\n",
       "    var canvas_div = $('<div/>');\n",
       "\n",
       "    canvas_div.attr('style', 'position: relative; clear: both; outline: 0');\n",
       "\n",
       "    function canvas_keyboard_event(event) {\n",
       "        return fig.key_event(event, event['data']);\n",
       "    }\n",
       "\n",
       "    canvas_div.keydown('key_press', canvas_keyboard_event);\n",
       "    canvas_div.keyup('key_release', canvas_keyboard_event);\n",
       "    this.canvas_div = canvas_div\n",
       "    this._canvas_extra_style(canvas_div)\n",
       "    this.root.append(canvas_div);\n",
       "\n",
       "    var canvas = $('<canvas/>');\n",
       "    canvas.addClass('mpl-canvas');\n",
       "    canvas.attr('style', \"left: 0; top: 0; z-index: 0; outline: 0\")\n",
       "\n",
       "    this.canvas = canvas[0];\n",
       "    this.context = canvas[0].getContext(\"2d\");\n",
       "\n",
       "    var rubberband = $('<canvas/>');\n",
       "    rubberband.attr('style', \"position: absolute; left: 0; top: 0; z-index: 1;\")\n",
       "\n",
       "    var pass_mouse_events = true;\n",
       "\n",
       "    canvas_div.resizable({\n",
       "        start: function(event, ui) {\n",
       "            pass_mouse_events = false;\n",
       "        },\n",
       "        resize: function(event, ui) {\n",
       "            fig.request_resize(ui.size.width, ui.size.height);\n",
       "        },\n",
       "        stop: function(event, ui) {\n",
       "            pass_mouse_events = true;\n",
       "            fig.request_resize(ui.size.width, ui.size.height);\n",
       "        },\n",
       "    });\n",
       "\n",
       "    function mouse_event_fn(event) {\n",
       "        if (pass_mouse_events)\n",
       "            return fig.mouse_event(event, event['data']);\n",
       "    }\n",
       "\n",
       "    rubberband.mousedown('button_press', mouse_event_fn);\n",
       "    rubberband.mouseup('button_release', mouse_event_fn);\n",
       "    // Throttle sequential mouse events to 1 every 20ms.\n",
       "    rubberband.mousemove('motion_notify', mouse_event_fn);\n",
       "\n",
       "    rubberband.mouseenter('figure_enter', mouse_event_fn);\n",
       "    rubberband.mouseleave('figure_leave', mouse_event_fn);\n",
       "\n",
       "    canvas_div.on(\"wheel\", function (event) {\n",
       "        event = event.originalEvent;\n",
       "        event['data'] = 'scroll'\n",
       "        if (event.deltaY < 0) {\n",
       "            event.step = 1;\n",
       "        } else {\n",
       "            event.step = -1;\n",
       "        }\n",
       "        mouse_event_fn(event);\n",
       "    });\n",
       "\n",
       "    canvas_div.append(canvas);\n",
       "    canvas_div.append(rubberband);\n",
       "\n",
       "    this.rubberband = rubberband;\n",
       "    this.rubberband_canvas = rubberband[0];\n",
       "    this.rubberband_context = rubberband[0].getContext(\"2d\");\n",
       "    this.rubberband_context.strokeStyle = \"#000000\";\n",
       "\n",
       "    this._resize_canvas = function(width, height) {\n",
       "        // Keep the size of the canvas, canvas container, and rubber band\n",
       "        // canvas in synch.\n",
       "        canvas_div.css('width', width)\n",
       "        canvas_div.css('height', height)\n",
       "\n",
       "        canvas.attr('width', width);\n",
       "        canvas.attr('height', height);\n",
       "\n",
       "        rubberband.attr('width', width);\n",
       "        rubberband.attr('height', height);\n",
       "    }\n",
       "\n",
       "    // Set the figure to an initial 600x600px, this will subsequently be updated\n",
       "    // upon first draw.\n",
       "    this._resize_canvas(600, 600);\n",
       "\n",
       "    // Disable right mouse context menu.\n",
       "    $(this.rubberband_canvas).bind(\"contextmenu\",function(e){\n",
       "        return false;\n",
       "    });\n",
       "\n",
       "    function set_focus () {\n",
       "        canvas.focus();\n",
       "        canvas_div.focus();\n",
       "    }\n",
       "\n",
       "    window.setTimeout(set_focus, 100);\n",
       "}\n",
       "\n",
       "mpl.figure.prototype._init_toolbar = function() {\n",
       "    var fig = this;\n",
       "\n",
       "    var nav_element = $('<div/>')\n",
       "    nav_element.attr('style', 'width: 100%');\n",
       "    this.root.append(nav_element);\n",
       "\n",
       "    // Define a callback function for later on.\n",
       "    function toolbar_event(event) {\n",
       "        return fig.toolbar_button_onclick(event['data']);\n",
       "    }\n",
       "    function toolbar_mouse_event(event) {\n",
       "        return fig.toolbar_button_onmouseover(event['data']);\n",
       "    }\n",
       "\n",
       "    for(var toolbar_ind in mpl.toolbar_items) {\n",
       "        var name = mpl.toolbar_items[toolbar_ind][0];\n",
       "        var tooltip = mpl.toolbar_items[toolbar_ind][1];\n",
       "        var image = mpl.toolbar_items[toolbar_ind][2];\n",
       "        var method_name = mpl.toolbar_items[toolbar_ind][3];\n",
       "\n",
       "        if (!name) {\n",
       "            // put a spacer in here.\n",
       "            continue;\n",
       "        }\n",
       "        var button = $('<button/>');\n",
       "        button.addClass('ui-button ui-widget ui-state-default ui-corner-all ' +\n",
       "                        'ui-button-icon-only');\n",
       "        button.attr('role', 'button');\n",
       "        button.attr('aria-disabled', 'false');\n",
       "        button.click(method_name, toolbar_event);\n",
       "        button.mouseover(tooltip, toolbar_mouse_event);\n",
       "\n",
       "        var icon_img = $('<span/>');\n",
       "        icon_img.addClass('ui-button-icon-primary ui-icon');\n",
       "        icon_img.addClass(image);\n",
       "        icon_img.addClass('ui-corner-all');\n",
       "\n",
       "        var tooltip_span = $('<span/>');\n",
       "        tooltip_span.addClass('ui-button-text');\n",
       "        tooltip_span.html(tooltip);\n",
       "\n",
       "        button.append(icon_img);\n",
       "        button.append(tooltip_span);\n",
       "\n",
       "        nav_element.append(button);\n",
       "    }\n",
       "\n",
       "    var fmt_picker_span = $('<span/>');\n",
       "\n",
       "    var fmt_picker = $('<select/>');\n",
       "    fmt_picker.addClass('mpl-toolbar-option ui-widget ui-widget-content');\n",
       "    fmt_picker_span.append(fmt_picker);\n",
       "    nav_element.append(fmt_picker_span);\n",
       "    this.format_dropdown = fmt_picker[0];\n",
       "\n",
       "    for (var ind in mpl.extensions) {\n",
       "        var fmt = mpl.extensions[ind];\n",
       "        var option = $(\n",
       "            '<option/>', {selected: fmt === mpl.default_extension}).html(fmt);\n",
       "        fmt_picker.append(option)\n",
       "    }\n",
       "\n",
       "    // Add hover states to the ui-buttons\n",
       "    $( \".ui-button\" ).hover(\n",
       "        function() { $(this).addClass(\"ui-state-hover\");},\n",
       "        function() { $(this).removeClass(\"ui-state-hover\");}\n",
       "    );\n",
       "\n",
       "    var status_bar = $('<span class=\"mpl-message\"/>');\n",
       "    nav_element.append(status_bar);\n",
       "    this.message = status_bar[0];\n",
       "}\n",
       "\n",
       "mpl.figure.prototype.request_resize = function(x_pixels, y_pixels) {\n",
       "    // Request matplotlib to resize the figure. Matplotlib will then trigger a resize in the client,\n",
       "    // which will in turn request a refresh of the image.\n",
       "    this.send_message('resize', {'width': x_pixels, 'height': y_pixels});\n",
       "}\n",
       "\n",
       "mpl.figure.prototype.send_message = function(type, properties) {\n",
       "    properties['type'] = type;\n",
       "    properties['figure_id'] = this.id;\n",
       "    this.ws.send(JSON.stringify(properties));\n",
       "}\n",
       "\n",
       "mpl.figure.prototype.send_draw_message = function() {\n",
       "    if (!this.waiting) {\n",
       "        this.waiting = true;\n",
       "        this.ws.send(JSON.stringify({type: \"draw\", figure_id: this.id}));\n",
       "    }\n",
       "}\n",
       "\n",
       "\n",
       "mpl.figure.prototype.handle_save = function(fig, msg) {\n",
       "    var format_dropdown = fig.format_dropdown;\n",
       "    var format = format_dropdown.options[format_dropdown.selectedIndex].value;\n",
       "    fig.ondownload(fig, format);\n",
       "}\n",
       "\n",
       "\n",
       "mpl.figure.prototype.handle_resize = function(fig, msg) {\n",
       "    var size = msg['size'];\n",
       "    if (size[0] != fig.canvas.width || size[1] != fig.canvas.height) {\n",
       "        fig._resize_canvas(size[0], size[1]);\n",
       "        fig.send_message(\"refresh\", {});\n",
       "    };\n",
       "}\n",
       "\n",
       "mpl.figure.prototype.handle_rubberband = function(fig, msg) {\n",
       "    var x0 = msg['x0'];\n",
       "    var y0 = fig.canvas.height - msg['y0'];\n",
       "    var x1 = msg['x1'];\n",
       "    var y1 = fig.canvas.height - msg['y1'];\n",
       "    x0 = Math.floor(x0) + 0.5;\n",
       "    y0 = Math.floor(y0) + 0.5;\n",
       "    x1 = Math.floor(x1) + 0.5;\n",
       "    y1 = Math.floor(y1) + 0.5;\n",
       "    var min_x = Math.min(x0, x1);\n",
       "    var min_y = Math.min(y0, y1);\n",
       "    var width = Math.abs(x1 - x0);\n",
       "    var height = Math.abs(y1 - y0);\n",
       "\n",
       "    fig.rubberband_context.clearRect(\n",
       "        0, 0, fig.canvas.width, fig.canvas.height);\n",
       "\n",
       "    fig.rubberband_context.strokeRect(min_x, min_y, width, height);\n",
       "}\n",
       "\n",
       "mpl.figure.prototype.handle_figure_label = function(fig, msg) {\n",
       "    // Updates the figure title.\n",
       "    fig.header.textContent = msg['label'];\n",
       "}\n",
       "\n",
       "mpl.figure.prototype.handle_cursor = function(fig, msg) {\n",
       "    var cursor = msg['cursor'];\n",
       "    switch(cursor)\n",
       "    {\n",
       "    case 0:\n",
       "        cursor = 'pointer';\n",
       "        break;\n",
       "    case 1:\n",
       "        cursor = 'default';\n",
       "        break;\n",
       "    case 2:\n",
       "        cursor = 'crosshair';\n",
       "        break;\n",
       "    case 3:\n",
       "        cursor = 'move';\n",
       "        break;\n",
       "    }\n",
       "    fig.rubberband_canvas.style.cursor = cursor;\n",
       "}\n",
       "\n",
       "mpl.figure.prototype.handle_message = function(fig, msg) {\n",
       "    fig.message.textContent = msg['message'];\n",
       "}\n",
       "\n",
       "mpl.figure.prototype.handle_draw = function(fig, msg) {\n",
       "    // Request the server to send over a new figure.\n",
       "    fig.send_draw_message();\n",
       "}\n",
       "\n",
       "mpl.figure.prototype.handle_image_mode = function(fig, msg) {\n",
       "    fig.image_mode = msg['mode'];\n",
       "}\n",
       "\n",
       "mpl.figure.prototype.updated_canvas_event = function() {\n",
       "    // Called whenever the canvas gets updated.\n",
       "    this.send_message(\"ack\", {});\n",
       "}\n",
       "\n",
       "// A function to construct a web socket function for onmessage handling.\n",
       "// Called in the figure constructor.\n",
       "mpl.figure.prototype._make_on_message_function = function(fig) {\n",
       "    return function socket_on_message(evt) {\n",
       "        if (evt.data instanceof Blob) {\n",
       "            /* FIXME: We get \"Resource interpreted as Image but\n",
       "             * transferred with MIME type text/plain:\" errors on\n",
       "             * Chrome.  But how to set the MIME type?  It doesn't seem\n",
       "             * to be part of the websocket stream */\n",
       "            evt.data.type = \"image/png\";\n",
       "\n",
       "            /* Free the memory for the previous frames */\n",
       "            if (fig.imageObj.src) {\n",
       "                (window.URL || window.webkitURL).revokeObjectURL(\n",
       "                    fig.imageObj.src);\n",
       "            }\n",
       "\n",
       "            fig.imageObj.src = (window.URL || window.webkitURL).createObjectURL(\n",
       "                evt.data);\n",
       "            fig.updated_canvas_event();\n",
       "            fig.waiting = false;\n",
       "            return;\n",
       "        }\n",
       "        else if (typeof evt.data === 'string' && evt.data.slice(0, 21) == \"data:image/png;base64\") {\n",
       "            fig.imageObj.src = evt.data;\n",
       "            fig.updated_canvas_event();\n",
       "            fig.waiting = false;\n",
       "            return;\n",
       "        }\n",
       "\n",
       "        var msg = JSON.parse(evt.data);\n",
       "        var msg_type = msg['type'];\n",
       "\n",
       "        // Call the  \"handle_{type}\" callback, which takes\n",
       "        // the figure and JSON message as its only arguments.\n",
       "        try {\n",
       "            var callback = fig[\"handle_\" + msg_type];\n",
       "        } catch (e) {\n",
       "            console.log(\"No handler for the '\" + msg_type + \"' message type: \", msg);\n",
       "            return;\n",
       "        }\n",
       "\n",
       "        if (callback) {\n",
       "            try {\n",
       "                // console.log(\"Handling '\" + msg_type + \"' message: \", msg);\n",
       "                callback(fig, msg);\n",
       "            } catch (e) {\n",
       "                console.log(\"Exception inside the 'handler_\" + msg_type + \"' callback:\", e, e.stack, msg);\n",
       "            }\n",
       "        }\n",
       "    };\n",
       "}\n",
       "\n",
       "// from http://stackoverflow.com/questions/1114465/getting-mouse-location-in-canvas\n",
       "mpl.findpos = function(e) {\n",
       "    //this section is from http://www.quirksmode.org/js/events_properties.html\n",
       "    var targ;\n",
       "    if (!e)\n",
       "        e = window.event;\n",
       "    if (e.target)\n",
       "        targ = e.target;\n",
       "    else if (e.srcElement)\n",
       "        targ = e.srcElement;\n",
       "    if (targ.nodeType == 3) // defeat Safari bug\n",
       "        targ = targ.parentNode;\n",
       "\n",
       "    // jQuery normalizes the pageX and pageY\n",
       "    // pageX,Y are the mouse positions relative to the document\n",
       "    // offset() returns the position of the element relative to the document\n",
       "    var x = e.pageX - $(targ).offset().left;\n",
       "    var y = e.pageY - $(targ).offset().top;\n",
       "\n",
       "    return {\"x\": x, \"y\": y};\n",
       "};\n",
       "\n",
       "/*\n",
       " * return a copy of an object with only non-object keys\n",
       " * we need this to avoid circular references\n",
       " * http://stackoverflow.com/a/24161582/3208463\n",
       " */\n",
       "function simpleKeys (original) {\n",
       "  return Object.keys(original).reduce(function (obj, key) {\n",
       "    if (typeof original[key] !== 'object')\n",
       "        obj[key] = original[key]\n",
       "    return obj;\n",
       "  }, {});\n",
       "}\n",
       "\n",
       "mpl.figure.prototype.mouse_event = function(event, name) {\n",
       "    var canvas_pos = mpl.findpos(event)\n",
       "\n",
       "    if (name === 'button_press')\n",
       "    {\n",
       "        this.canvas.focus();\n",
       "        this.canvas_div.focus();\n",
       "    }\n",
       "\n",
       "    var x = canvas_pos.x;\n",
       "    var y = canvas_pos.y;\n",
       "\n",
       "    this.send_message(name, {x: x, y: y, button: event.button,\n",
       "                             step: event.step,\n",
       "                             guiEvent: simpleKeys(event)});\n",
       "\n",
       "    /* This prevents the web browser from automatically changing to\n",
       "     * the text insertion cursor when the button is pressed.  We want\n",
       "     * to control all of the cursor setting manually through the\n",
       "     * 'cursor' event from matplotlib */\n",
       "    event.preventDefault();\n",
       "    return false;\n",
       "}\n",
       "\n",
       "mpl.figure.prototype._key_event_extra = function(event, name) {\n",
       "    // Handle any extra behaviour associated with a key event\n",
       "}\n",
       "\n",
       "mpl.figure.prototype.key_event = function(event, name) {\n",
       "\n",
       "    // Prevent repeat events\n",
       "    if (name == 'key_press')\n",
       "    {\n",
       "        if (event.which === this._key)\n",
       "            return;\n",
       "        else\n",
       "            this._key = event.which;\n",
       "    }\n",
       "    if (name == 'key_release')\n",
       "        this._key = null;\n",
       "\n",
       "    var value = '';\n",
       "    if (event.ctrlKey && event.which != 17)\n",
       "        value += \"ctrl+\";\n",
       "    if (event.altKey && event.which != 18)\n",
       "        value += \"alt+\";\n",
       "    if (event.shiftKey && event.which != 16)\n",
       "        value += \"shift+\";\n",
       "\n",
       "    value += 'k';\n",
       "    value += event.which.toString();\n",
       "\n",
       "    this._key_event_extra(event, name);\n",
       "\n",
       "    this.send_message(name, {key: value,\n",
       "                             guiEvent: simpleKeys(event)});\n",
       "    return false;\n",
       "}\n",
       "\n",
       "mpl.figure.prototype.toolbar_button_onclick = function(name) {\n",
       "    if (name == 'download') {\n",
       "        this.handle_save(this, null);\n",
       "    } else {\n",
       "        this.send_message(\"toolbar_button\", {name: name});\n",
       "    }\n",
       "};\n",
       "\n",
       "mpl.figure.prototype.toolbar_button_onmouseover = function(tooltip) {\n",
       "    this.message.textContent = tooltip;\n",
       "};\n",
       "mpl.toolbar_items = [[\"Home\", \"Reset original view\", \"fa fa-home icon-home\", \"home\"], [\"Back\", \"Back to  previous view\", \"fa fa-arrow-left icon-arrow-left\", \"back\"], [\"Forward\", \"Forward to next view\", \"fa fa-arrow-right icon-arrow-right\", \"forward\"], [\"\", \"\", \"\", \"\"], [\"Pan\", \"Pan axes with left mouse, zoom with right\", \"fa fa-arrows icon-move\", \"pan\"], [\"Zoom\", \"Zoom to rectangle\", \"fa fa-square-o icon-check-empty\", \"zoom\"], [\"\", \"\", \"\", \"\"], [\"Download\", \"Download plot\", \"fa fa-floppy-o icon-save\", \"download\"]];\n",
       "\n",
       "mpl.extensions = [\"eps\", \"jpeg\", \"pdf\", \"png\", \"ps\", \"raw\", \"svg\", \"tif\"];\n",
       "\n",
       "mpl.default_extension = \"png\";var comm_websocket_adapter = function(comm) {\n",
       "    // Create a \"websocket\"-like object which calls the given IPython comm\n",
       "    // object with the appropriate methods. Currently this is a non binary\n",
       "    // socket, so there is still some room for performance tuning.\n",
       "    var ws = {};\n",
       "\n",
       "    ws.close = function() {\n",
       "        comm.close()\n",
       "    };\n",
       "    ws.send = function(m) {\n",
       "        //console.log('sending', m);\n",
       "        comm.send(m);\n",
       "    };\n",
       "    // Register the callback with on_msg.\n",
       "    comm.on_msg(function(msg) {\n",
       "        //console.log('receiving', msg['content']['data'], msg);\n",
       "        // Pass the mpl event to the overriden (by mpl) onmessage function.\n",
       "        ws.onmessage(msg['content']['data'])\n",
       "    });\n",
       "    return ws;\n",
       "}\n",
       "\n",
       "mpl.mpl_figure_comm = function(comm, msg) {\n",
       "    // This is the function which gets called when the mpl process\n",
       "    // starts-up an IPython Comm through the \"matplotlib\" channel.\n",
       "\n",
       "    var id = msg.content.data.id;\n",
       "    // Get hold of the div created by the display call when the Comm\n",
       "    // socket was opened in Python.\n",
       "    var element = $(\"#\" + id);\n",
       "    var ws_proxy = comm_websocket_adapter(comm)\n",
       "\n",
       "    function ondownload(figure, format) {\n",
       "        window.open(figure.imageObj.src);\n",
       "    }\n",
       "\n",
       "    var fig = new mpl.figure(id, ws_proxy,\n",
       "                           ondownload,\n",
       "                           element.get(0));\n",
       "\n",
       "    // Call onopen now - mpl needs it, as it is assuming we've passed it a real\n",
       "    // web socket which is closed, not our websocket->open comm proxy.\n",
       "    ws_proxy.onopen();\n",
       "\n",
       "    fig.parent_element = element.get(0);\n",
       "    fig.cell_info = mpl.find_output_cell(\"<div id='\" + id + \"'></div>\");\n",
       "    if (!fig.cell_info) {\n",
       "        console.error(\"Failed to find cell for figure\", id, fig);\n",
       "        return;\n",
       "    }\n",
       "\n",
       "    var output_index = fig.cell_info[2]\n",
       "    var cell = fig.cell_info[0];\n",
       "\n",
       "};\n",
       "\n",
       "mpl.figure.prototype.handle_close = function(fig, msg) {\n",
       "    fig.root.unbind('remove')\n",
       "\n",
       "    // Update the output cell to use the data from the current canvas.\n",
       "    fig.push_to_output();\n",
       "    var dataURL = fig.canvas.toDataURL();\n",
       "    // Re-enable the keyboard manager in IPython - without this line, in FF,\n",
       "    // the notebook keyboard shortcuts fail.\n",
       "    IPython.keyboard_manager.enable()\n",
       "    $(fig.parent_element).html('<img src=\"' + dataURL + '\">');\n",
       "    fig.close_ws(fig, msg);\n",
       "}\n",
       "\n",
       "mpl.figure.prototype.close_ws = function(fig, msg){\n",
       "    fig.send_message('closing', msg);\n",
       "    // fig.ws.close()\n",
       "}\n",
       "\n",
       "mpl.figure.prototype.push_to_output = function(remove_interactive) {\n",
       "    // Turn the data on the canvas into data in the output cell.\n",
       "    var dataURL = this.canvas.toDataURL();\n",
       "    this.cell_info[1]['text/html'] = '<img src=\"' + dataURL + '\">';\n",
       "}\n",
       "\n",
       "mpl.figure.prototype.updated_canvas_event = function() {\n",
       "    // Tell IPython that the notebook contents must change.\n",
       "    IPython.notebook.set_dirty(true);\n",
       "    this.send_message(\"ack\", {});\n",
       "    var fig = this;\n",
       "    // Wait a second, then push the new image to the DOM so\n",
       "    // that it is saved nicely (might be nice to debounce this).\n",
       "    setTimeout(function () { fig.push_to_output() }, 1000);\n",
       "}\n",
       "\n",
       "mpl.figure.prototype._init_toolbar = function() {\n",
       "    var fig = this;\n",
       "\n",
       "    var nav_element = $('<div/>')\n",
       "    nav_element.attr('style', 'width: 100%');\n",
       "    this.root.append(nav_element);\n",
       "\n",
       "    // Define a callback function for later on.\n",
       "    function toolbar_event(event) {\n",
       "        return fig.toolbar_button_onclick(event['data']);\n",
       "    }\n",
       "    function toolbar_mouse_event(event) {\n",
       "        return fig.toolbar_button_onmouseover(event['data']);\n",
       "    }\n",
       "\n",
       "    for(var toolbar_ind in mpl.toolbar_items){\n",
       "        var name = mpl.toolbar_items[toolbar_ind][0];\n",
       "        var tooltip = mpl.toolbar_items[toolbar_ind][1];\n",
       "        var image = mpl.toolbar_items[toolbar_ind][2];\n",
       "        var method_name = mpl.toolbar_items[toolbar_ind][3];\n",
       "\n",
       "        if (!name) { continue; };\n",
       "\n",
       "        var button = $('<button class=\"btn btn-default\" href=\"#\" title=\"' + name + '\"><i class=\"fa ' + image + ' fa-lg\"></i></button>');\n",
       "        button.click(method_name, toolbar_event);\n",
       "        button.mouseover(tooltip, toolbar_mouse_event);\n",
       "        nav_element.append(button);\n",
       "    }\n",
       "\n",
       "    // Add the status bar.\n",
       "    var status_bar = $('<span class=\"mpl-message\" style=\"text-align:right; float: right;\"/>');\n",
       "    nav_element.append(status_bar);\n",
       "    this.message = status_bar[0];\n",
       "\n",
       "    // Add the close button to the window.\n",
       "    var buttongrp = $('<div class=\"btn-group inline pull-right\"></div>');\n",
       "    var button = $('<button class=\"btn btn-mini btn-primary\" href=\"#\" title=\"Stop Interaction\"><i class=\"fa fa-power-off icon-remove icon-large\"></i></button>');\n",
       "    button.click(function (evt) { fig.handle_close(fig, {}); } );\n",
       "    button.mouseover('Stop Interaction', toolbar_mouse_event);\n",
       "    buttongrp.append(button);\n",
       "    var titlebar = this.root.find($('.ui-dialog-titlebar'));\n",
       "    titlebar.prepend(buttongrp);\n",
       "}\n",
       "\n",
       "mpl.figure.prototype._root_extra_style = function(el){\n",
       "    var fig = this\n",
       "    el.on(\"remove\", function(){\n",
       "\tfig.close_ws(fig, {});\n",
       "    });\n",
       "}\n",
       "\n",
       "mpl.figure.prototype._canvas_extra_style = function(el){\n",
       "    // this is important to make the div 'focusable\n",
       "    el.attr('tabindex', 0)\n",
       "    // reach out to IPython and tell the keyboard manager to turn it's self\n",
       "    // off when our div gets focus\n",
       "\n",
       "    // location in version 3\n",
       "    if (IPython.notebook.keyboard_manager) {\n",
       "        IPython.notebook.keyboard_manager.register_events(el);\n",
       "    }\n",
       "    else {\n",
       "        // location in version 2\n",
       "        IPython.keyboard_manager.register_events(el);\n",
       "    }\n",
       "\n",
       "}\n",
       "\n",
       "mpl.figure.prototype._key_event_extra = function(event, name) {\n",
       "    var manager = IPython.notebook.keyboard_manager;\n",
       "    if (!manager)\n",
       "        manager = IPython.keyboard_manager;\n",
       "\n",
       "    // Check for shift+enter\n",
       "    if (event.shiftKey && event.which == 13) {\n",
       "        this.canvas_div.blur();\n",
       "        event.shiftKey = false;\n",
       "        // Send a \"J\" for go to next cell\n",
       "        event.which = 74;\n",
       "        event.keyCode = 74;\n",
       "        manager.command_mode();\n",
       "        manager.handle_keydown(event);\n",
       "    }\n",
       "}\n",
       "\n",
       "mpl.figure.prototype.handle_save = function(fig, msg) {\n",
       "    fig.ondownload(fig, null);\n",
       "}\n",
       "\n",
       "\n",
       "mpl.find_output_cell = function(html_output) {\n",
       "    // Return the cell and output element which can be found *uniquely* in the notebook.\n",
       "    // Note - this is a bit hacky, but it is done because the \"notebook_saving.Notebook\"\n",
       "    // IPython event is triggered only after the cells have been serialised, which for\n",
       "    // our purposes (turning an active figure into a static one), is too late.\n",
       "    var cells = IPython.notebook.get_cells();\n",
       "    var ncells = cells.length;\n",
       "    for (var i=0; i<ncells; i++) {\n",
       "        var cell = cells[i];\n",
       "        if (cell.cell_type === 'code'){\n",
       "            for (var j=0; j<cell.output_area.outputs.length; j++) {\n",
       "                var data = cell.output_area.outputs[j];\n",
       "                if (data.data) {\n",
       "                    // IPython >= 3 moved mimebundle to data attribute of output\n",
       "                    data = data.data;\n",
       "                }\n",
       "                if (data['text/html'] == html_output) {\n",
       "                    return [cell, data, j];\n",
       "                }\n",
       "            }\n",
       "        }\n",
       "    }\n",
       "}\n",
       "\n",
       "// Register the function which deals with the matplotlib target/channel.\n",
       "// The kernel may be null if the page has been refreshed.\n",
       "if (IPython.notebook.kernel != null) {\n",
       "    IPython.notebook.kernel.comm_manager.register_target('matplotlib', mpl.mpl_figure_comm);\n",
       "}\n"
      ],
      "text/plain": [
       "<IPython.core.display.Javascript object>"
      ]
     },
     "metadata": {},
     "output_type": "display_data"
    },
    {
     "data": {
      "text/html": [
       "<img src=\"data:image/png;base64,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\">"
      ],
      "text/plain": [
       "<IPython.core.display.HTML object>"
      ]
     },
     "metadata": {},
     "output_type": "display_data"
    }
   ],
   "source": [
    "plt.errorbar(list(Wirkungsquerschnitte.Theta),list(Wirkungsquerschnitte.WQ_KN_exp),yerr=list(Wirkungsquerschnitte.error_WQ_KN_exp),label=\"Kleine-Nishina experimentell\" ,fmt=' h', markersize=7)\n",
    "plt.errorbar(list(Wirkungsquerschnitte.Theta),list(Wirkungsquerschnitte.WQ_KN_th),yerr=list(Wirkungsquerschnitte.error_WQ_KN_th),label=\"Kleine-Nishina theoretisch\" ,fmt=' h', markersize=7)\n",
    "plt.errorbar(list(Wirkungsquerschnitte.Theta),list(Wirkungsquerschnitte.WQ_Thompson),yerr=list(Wirkungsquerschnitte.error_WQ_Thompson),label=\"Thompson\" ,fmt=' h', markersize=7)\n",
    "plt.errorbar(list(Wirkungsquerschnitte.Theta),list(Wirkungsquerschnitte.WQ_geom),yerr=list(Wirkungsquerschnitte.error_WQ_geom),label=\"Geometrisch\" ,fmt=' h', markersize=7)\n",
    "plt.xlabel(r\"Winkel/$^\\circ$\",fontsize=24)\n",
    "plt.ylabel(r\"Wirkungsquerschnitt/10$^{-2}$b\",fontsize=24)\n",
    "plt.xticks(fontsize=18)\n",
    "plt.yticks(fontsize=18)\n",
    "plt.legend(loc='best',fontsize=24)\n",
    "plt.xlim([15,85])\n",
    "plt.show()"
   ]
  },
  {
   "cell_type": "code",
   "execution_count": null,
   "metadata": {
    "collapsed": true
   },
   "outputs": [],
   "source": []
  }
 ],
 "metadata": {
  "kernelspec": {
   "display_name": "Python 3",
   "language": "python",
   "name": "python3"
  },
  "language_info": {
   "codemirror_mode": {
    "name": "ipython",
    "version": 3
   },
   "file_extension": ".py",
   "mimetype": "text/x-python",
   "name": "python",
   "nbconvert_exporter": "python",
   "pygments_lexer": "ipython3",
   "version": "3.5.1"
  }
 },
 "nbformat": 4,
 "nbformat_minor": 0
}
