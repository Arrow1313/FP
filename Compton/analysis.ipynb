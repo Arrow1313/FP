{
 "cells": [
  {
   "cell_type": "code",
   "execution_count": 275,
   "metadata": {
    "collapsed": false
   },
   "outputs": [],
   "source": [
    "import matplotlib.pyplot as plt\n",
    "import numpy as np\n",
    "import pandas as pd\n",
    "from lmfit.models import GaussianModel, LinearModel, ExponentialModel"
   ]
  },
  {
   "cell_type": "markdown",
   "metadata": {
    "collapsed": true
   },
   "source": [
    "# Kalibrierung"
   ]
  },
  {
   "cell_type": "code",
   "execution_count": 2,
   "metadata": {
    "collapsed": false
   },
   "outputs": [],
   "source": [
    "untergrund = pd.read_csv(\"Messdaten/kalibrierung/kallibrierung_untergrund.csv\", header=14, delim_whitespace=True, names=['rate','error'], index_col=0)\n",
    "am = pd.read_csv(\"Messdaten/kalibrierung/kallibrierung_Am.csv\", header=14, delim_whitespace=True, names=['rate','error'], index_col=0)\n",
    "ba = pd.read_csv(\"Messdaten/kalibrierung/kallibrierung_Ba.csv\", header=14, delim_whitespace=True, names=['rate','error'], index_col=0)\n",
    "cs = pd.read_csv(\"Messdaten/kalibrierung/kallibrierung_Cs.csv\", header=14, delim_whitespace=True, names=['rate','error'], index_col=0)"
   ]
  },
  {
   "cell_type": "code",
   "execution_count": 3,
   "metadata": {
    "collapsed": false
   },
   "outputs": [],
   "source": [
    "untergrund.plot(y=\"rate\")\n",
    "plt.show()"
   ]
  },
  {
   "cell_type": "code",
   "execution_count": 4,
   "metadata": {
    "collapsed": false
   },
   "outputs": [],
   "source": [
    "plt.plot(am.rate-untergrund.rate, ' .', label=\"Messdaten\")\n",
    "plt.legend(loc=\"best\")\n",
    "plt.show()"
   ]
  },
  {
   "cell_type": "code",
   "execution_count": 5,
   "metadata": {
    "collapsed": true
   },
   "outputs": [],
   "source": [
    "plt.plot(ba.rate-untergrund.rate, ' .')\n",
    "plt.show()"
   ]
  },
  {
   "cell_type": "code",
   "execution_count": 6,
   "metadata": {
    "collapsed": true
   },
   "outputs": [],
   "source": [
    "plt.plot(cs.rate-untergrund.rate, ' .')\n",
    "plt.show()"
   ]
  },
  {
   "cell_type": "markdown",
   "metadata": {},
   "source": [
    "## Fit der Am Daten"
   ]
  },
  {
   "cell_type": "code",
   "execution_count": 7,
   "metadata": {
    "collapsed": true
   },
   "outputs": [],
   "source": [
    "x = np.arange(0,2048)"
   ]
  },
  {
   "cell_type": "code",
   "execution_count": 8,
   "metadata": {
    "collapsed": true
   },
   "outputs": [],
   "source": [
    "gauss_0 = GaussianModel(prefix=\"gauss_0_\")\n",
    "gauss_1 = GaussianModel(prefix=\"gauss_1_\")\n",
    "gauss_2 = GaussianModel(prefix=\"gauss_2_\")\n",
    "gauss_3 = GaussianModel(prefix=\"gauss_3_\")\n",
    "gauss_4 = GaussianModel(prefix=\"gauss_4_\")\n",
    "gauss_5 = GaussianModel(prefix=\"gauss_5_\")\n",
    "gauss_6 = GaussianModel(prefix=\"gauss_6_\")"
   ]
  },
  {
   "cell_type": "code",
   "execution_count": 9,
   "metadata": {
    "collapsed": false
   },
   "outputs": [],
   "source": [
    "pars_am_1 = gauss_1.guess(am.rate,x=x)\n",
    "pars_am_1.update(gauss_2.make_params())\n",
    "pars_am_1.update(gauss_3.make_params())\n",
    "pars_am_1.update(gauss_4.make_params())\n",
    "pars_am_1.update(gauss_0.make_params())\n",
    "pars_am_2 = gauss_5.guess(am.rate,x=x)\n",
    "pars_am_2.update(gauss_6.make_params())"
   ]
  },
  {
   "cell_type": "code",
   "execution_count": 10,
   "metadata": {
    "collapsed": false
   },
   "outputs": [],
   "source": [
    "# controll the center\n",
    "pars_am_1['gauss_0_center'].set(50, min=48, max=52)\n",
    "pars_am_1['gauss_1_center'].set(65, min=63, max=68)\n",
    "pars_am_1['gauss_2_center'].set(77, min=74, max=80)\n",
    "pars_am_1['gauss_3_center'].set(98, min=95, max=101)\n",
    "pars_am_1['gauss_4_center'].set(111, min=108, max=114)\n",
    "pars_am_2['gauss_5_center'].set(181, min=178, max=184)\n",
    "pars_am_2['gauss_6_center'].set(213, min=207, max=219)\n",
    "# controll the amplitude\n",
    "pars_am_1['gauss_0_amplitude'].set(130*13)#, min=48, max=52)\n",
    "pars_am_1['gauss_1_amplitude'].set(440*13)#, min=430*2.5, max=440*2.5)\n",
    "pars_am_1['gauss_2_amplitude'].set(300*13)#, min=290*2.5, max=310*2.5)\n",
    "pars_am_1['gauss_3_amplitude'].set(310*13)#, min=300*2.5, max=320*2.5)\n",
    "pars_am_1['gauss_4_amplitude'].set(380*13)#, min=370*2.5, max=390*2.5)\n",
    "pars_am_2['gauss_5_amplitude'].set(500*13)#, min=490*2.5, max=510*2.5)\n",
    "pars_am_2['gauss_6_amplitude'].set(2500*13)#, min=2400*2.5, max=2600*2.5)\n",
    "# controll sigma\n",
    "pars_am_1['gauss_0_sigma'].set(1, min=0, max=5)\n",
    "pars_am_1['gauss_1_sigma'].set(5, min=1, max=68)\n",
    "pars_am_1['gauss_2_sigma'].set(5, min=1, max=80)\n",
    "pars_am_1['gauss_3_sigma'].set(5, min=1, max=101)\n",
    "pars_am_1['gauss_4_sigma'].set(5, min=1, max=114)\n",
    "pars_am_2['gauss_5_sigma'].set(5, min=1, max=184)\n",
    "pars_am_2['gauss_6_sigma'].set(5, min=1, max=219)"
   ]
  },
  {
   "cell_type": "code",
   "execution_count": 11,
   "metadata": {
    "collapsed": true
   },
   "outputs": [],
   "source": [
    "mod_gauss_am_1 = gauss_1 + gauss_2 + gauss_3 + gauss_4 + gauss_0"
   ]
  },
  {
   "cell_type": "code",
   "execution_count": 12,
   "metadata": {
    "collapsed": false
   },
   "outputs": [],
   "source": [
    "out_gauss_am_1 = mod_gauss_am_1.fit(am.rate[40:130]-untergrund.rate[40:130],x=x[40:130],params=pars_am_1,weights=1/(am.error[40:130]))"
   ]
  },
  {
   "cell_type": "code",
   "execution_count": 51,
   "metadata": {
    "collapsed": true
   },
   "outputs": [],
   "source": [
    "plt.plot(x,out_gauss_am_1.eval(x=np.arange(0,2048)), '-g')\n",
    "plt.errorbar(x,am.rate-untergrund.rate, yerr=am.error, fmt=' .r')\n",
    "plt.show()"
   ]
  },
  {
   "cell_type": "code",
   "execution_count": 14,
   "metadata": {
    "collapsed": false
   },
   "outputs": [
    {
     "name": "stdout",
     "output_type": "stream",
     "text": [
      "[[Model]]\n",
      "    ((((Model(gaussian, prefix='gauss_1_') + Model(gaussian, prefix='gauss_2_')) + Model(gaussian, prefix='gauss_3_')) + Model(gaussian, prefix='gauss_4_')) + Model(gaussian, prefix='gauss_0_'))\n",
      "[[Fit Statistics]]\n",
      "    # function evals   = 217\n",
      "    # data points      = 90\n",
      "    # variables        = 15\n",
      "    chi-square         = 86.581\n",
      "    reduced chi-square = 1.154\n",
      "[[Variables]]\n",
      "    gauss_1_sigma:       4.84841741 +/- 0.444386 (9.17%) (init= 5)\n",
      "    gauss_1_fwhm:        11.4171503 +/- 1.046449 (9.17%)  == '2.3548200*gauss_1_sigma'\n",
      "    gauss_1_amplitude:   4871.27197 +/- 649.3118 (13.33%) (init= 5720)\n",
      "    gauss_1_center:      64.5491642 +/- 0.452546 (0.70%) (init= 65)\n",
      "    gauss_2_sigma:       5.50873396 +/- 0.729345 (13.24%) (init= 5)\n",
      "    gauss_2_fwhm:        12.9720769 +/- 1.717476 (13.24%)  == '2.3548200*gauss_2_sigma'\n",
      "    gauss_2_amplitude:   3939.85268 +/- 652.0434 (16.55%) (init= 3900)\n",
      "    gauss_2_center:      77.2652558 +/- 0.717123 (0.93%) (init= 77)\n",
      "    gauss_3_sigma:       5.90009860 +/- 0.512098 (8.68%) (init= 5)\n",
      "    gauss_3_fwhm:        13.8936701 +/- 1.205899 (8.68%)  == '2.3548200*gauss_3_sigma'\n",
      "    gauss_3_amplitude:   4451.26326 +/- 427.6356 (9.61%) (init= 4030)\n",
      "    gauss_3_center:      96.1595111 +/- 0.374227 (0.39%) (init= 98)\n",
      "    gauss_4_sigma:       6.34840458 +/- 0.241477 (3.80%) (init= 5)\n",
      "    gauss_4_fwhm:        14.9493500 +/- 0.568635 (3.80%)  == '2.3548200*gauss_4_sigma'\n",
      "    gauss_4_amplitude:   5577.08367 +/- 315.1630 (5.65%) (init= 4940)\n",
      "    gauss_4_center:      112.029958 +/- 0.428068 (0.38%) (init= 111)\n",
      "    gauss_0_sigma:       4.99999998 +/- 0.445134 (8.90%) (init= 1)\n",
      "    gauss_0_fwhm:        11.7740999 +/- 1.048212 (8.90%)  == '2.3548200*gauss_0_sigma'\n",
      "    gauss_0_amplitude:   1422.88033 +/- 173.2225 (12.17%) (init= 1690)\n",
      "    gauss_0_center:      50.4548275 +/- 0.700295 (1.39%) (init= 50)\n",
      "[[Correlations]] (unreported correlations are <  0.100)\n",
      "    C(gauss_2_sigma, gauss_2_amplitude)  =  0.972 \n",
      "    C(gauss_1_sigma, gauss_1_amplitude)  =  0.956 \n",
      "    C(gauss_3_sigma, gauss_3_amplitude)  =  0.955 \n",
      "    C(gauss_1_amplitude, gauss_2_amplitude)  = -0.949 \n",
      "    C(gauss_0_amplitude, gauss_0_center)  =  0.936 \n",
      "    C(gauss_4_amplitude, gauss_4_center)  = -0.936 \n",
      "    C(gauss_1_amplitude, gauss_2_center)  =  0.935 \n",
      "    C(gauss_3_amplitude, gauss_4_amplitude)  = -0.914 \n",
      "    C(gauss_1_center, gauss_2_amplitude)  = -0.911 \n",
      "    C(gauss_3_amplitude, gauss_4_center)  =  0.907 \n",
      "    C(gauss_1_amplitude, gauss_2_sigma)  = -0.897 \n",
      "    C(gauss_4_sigma, gauss_4_center)  = -0.894 \n",
      "    C(gauss_1_sigma, gauss_2_center)  =  0.894 \n",
      "    C(gauss_0_sigma, gauss_0_amplitude)  = -0.892 \n",
      "    C(gauss_2_amplitude, gauss_2_center)  = -0.891 \n",
      "    C(gauss_1_center, gauss_2_sigma)  = -0.890 \n",
      "    C(gauss_0_sigma, gauss_0_center)  = -0.880 \n",
      "    C(gauss_1_center, gauss_2_center)  =  0.879 \n",
      "    C(gauss_4_sigma, gauss_4_amplitude)  =  0.879 \n",
      "    C(gauss_1_sigma, gauss_2_amplitude)  = -0.870 \n",
      "    C(gauss_3_sigma, gauss_4_amplitude)  = -0.865 \n",
      "    C(gauss_3_sigma, gauss_4_center)  =  0.842 \n",
      "    C(gauss_1_amplitude, gauss_1_center)  =  0.840 \n",
      "    C(gauss_1_sigma, gauss_0_amplitude)  = -0.833 \n",
      "    C(gauss_2_sigma, gauss_2_center)  = -0.829 \n",
      "    C(gauss_3_amplitude, gauss_4_sigma)  = -0.820 \n",
      "    C(gauss_1_sigma, gauss_0_center)  = -0.813 \n",
      "    C(gauss_1_sigma, gauss_2_sigma)  = -0.784 \n",
      "    C(gauss_3_center, gauss_4_center)  =  0.769 \n",
      "    C(gauss_1_amplitude, gauss_0_amplitude)  = -0.757 \n",
      "    C(gauss_3_center, gauss_4_sigma)  = -0.748 \n",
      "    C(gauss_3_center, gauss_4_amplitude)  = -0.747 \n",
      "    C(gauss_1_sigma, gauss_1_center)  =  0.742 \n",
      "    C(gauss_1_amplitude, gauss_0_center)  = -0.739 \n",
      "    C(gauss_3_sigma, gauss_4_sigma)  = -0.725 \n",
      "    C(gauss_1_sigma, gauss_0_sigma)  =  0.689 \n",
      "    C(gauss_2_sigma, gauss_3_sigma)  = -0.685 \n",
      "    C(gauss_2_sigma, gauss_3_amplitude)  = -0.661 \n",
      "    C(gauss_2_amplitude, gauss_3_sigma)  = -0.643 \n",
      "    C(gauss_2_center, gauss_0_amplitude)  = -0.631 \n",
      "    C(gauss_1_amplitude, gauss_0_sigma)  =  0.629 \n",
      "    C(gauss_2_amplitude, gauss_3_amplitude)  = -0.621 \n",
      "    C(gauss_2_center, gauss_0_center)  = -0.608 \n",
      "    C(gauss_2_amplitude, gauss_0_amplitude)  =  0.595 \n",
      "    C(gauss_3_amplitude, gauss_3_center)  =  0.579 \n",
      "    C(gauss_2_amplitude, gauss_0_center)  =  0.573 \n",
      "    C(gauss_1_center, gauss_3_sigma)  =  0.511 \n",
      "    C(gauss_2_sigma, gauss_0_amplitude)  =  0.509 \n",
      "    C(gauss_1_center, gauss_3_amplitude)  =  0.498 \n",
      "    C(gauss_2_center, gauss_0_sigma)  =  0.495 \n",
      "    C(gauss_1_amplitude, gauss_3_sigma)  =  0.495 \n",
      "    C(gauss_2_sigma, gauss_0_center)  =  0.488 \n",
      "    C(gauss_3_sigma, gauss_3_center)  =  0.487 \n",
      "    C(gauss_1_amplitude, gauss_3_amplitude)  =  0.483 \n",
      "    C(gauss_2_sigma, gauss_4_amplitude)  =  0.465 \n",
      "    C(gauss_2_amplitude, gauss_0_sigma)  = -0.464 \n",
      "    C(gauss_2_sigma, gauss_4_center)  = -0.439 \n",
      "    C(gauss_2_amplitude, gauss_4_amplitude)  =  0.438 \n",
      "    C(gauss_2_amplitude, gauss_4_center)  = -0.414 \n",
      "    C(gauss_1_sigma, gauss_3_sigma)  =  0.395 \n",
      "    C(gauss_2_sigma, gauss_0_sigma)  = -0.392 \n",
      "    C(gauss_1_sigma, gauss_3_amplitude)  =  0.388 \n",
      "    C(gauss_2_sigma, gauss_4_sigma)  =  0.355 \n",
      "    C(gauss_1_center, gauss_0_amplitude)  = -0.349 \n",
      "    C(gauss_1_center, gauss_4_amplitude)  = -0.336 \n",
      "    C(gauss_2_amplitude, gauss_4_sigma)  =  0.335 \n",
      "    C(gauss_1_amplitude, gauss_4_amplitude)  = -0.324 \n",
      "    C(gauss_2_center, gauss_3_amplitude)  =  0.323 \n",
      "    C(gauss_2_center, gauss_3_sigma)  =  0.321 \n",
      "    C(gauss_1_center, gauss_0_center)  = -0.320 \n",
      "    C(gauss_1_center, gauss_4_center)  =  0.316 \n",
      "    C(gauss_1_amplitude, gauss_4_center)  =  0.305 \n",
      "    C(gauss_1_sigma, gauss_4_amplitude)  = -0.255 \n",
      "    C(gauss_1_center, gauss_4_sigma)  = -0.254 \n",
      "    C(gauss_1_amplitude, gauss_4_sigma)  = -0.244 \n",
      "    C(gauss_1_sigma, gauss_4_center)  =  0.240 \n",
      "    C(gauss_3_sigma, gauss_0_amplitude)  = -0.235 \n",
      "    C(gauss_3_amplitude, gauss_0_amplitude)  = -0.232 \n",
      "    C(gauss_3_sigma, gauss_0_center)  = -0.224 \n",
      "    C(gauss_3_amplitude, gauss_0_center)  = -0.222 \n",
      "    C(gauss_1_center, gauss_0_sigma)  =  0.212 \n",
      "    C(gauss_1_sigma, gauss_4_sigma)  = -0.192 \n",
      "    C(gauss_2_center, gauss_4_amplitude)  = -0.187 \n",
      "    C(gauss_3_sigma, gauss_0_sigma)  =  0.177 \n",
      "    C(gauss_3_amplitude, gauss_0_sigma)  =  0.175 \n",
      "    C(gauss_2_center, gauss_4_center)  =  0.174 \n",
      "    C(gauss_4_amplitude, gauss_0_amplitude)  =  0.150 \n",
      "    C(gauss_4_amplitude, gauss_0_center)  =  0.143 \n",
      "    C(gauss_4_center, gauss_0_amplitude)  = -0.141 \n",
      "    C(gauss_2_center, gauss_4_sigma)  = -0.135 \n",
      "    C(gauss_4_center, gauss_0_center)  = -0.134 \n",
      "    C(gauss_2_center, gauss_3_center)  = -0.126 \n",
      "    C(gauss_4_amplitude, gauss_0_sigma)  = -0.112 \n",
      "    C(gauss_4_sigma, gauss_0_amplitude)  =  0.112 \n",
      "    C(gauss_4_sigma, gauss_0_center)  =  0.107 \n",
      "    C(gauss_4_center, gauss_0_sigma)  =  0.106 \n",
      "\n"
     ]
    }
   ],
   "source": [
    "print(out_gauss_am_1.fit_report())"
   ]
  },
  {
   "cell_type": "code",
   "execution_count": 15,
   "metadata": {
    "collapsed": true
   },
   "outputs": [],
   "source": [
    "mod_gauss_am_2 = gauss_5 + gauss_6"
   ]
  },
  {
   "cell_type": "code",
   "execution_count": 16,
   "metadata": {
    "collapsed": false
   },
   "outputs": [],
   "source": [
    "out_gauss_am_2 = mod_gauss_am_2.fit(am.rate[165:240]-untergrund.rate[165:240],x=x[165:240],params=pars_am_2,weights=1/am.error[165:240])"
   ]
  },
  {
   "cell_type": "code",
   "execution_count": 17,
   "metadata": {
    "collapsed": false
   },
   "outputs": [],
   "source": [
    "plt.plot(x,out_gauss_am_2.eval(x=x), '-g')\n",
    "plt.errorbar(x,am.rate-untergrund.rate, yerr=am.error, fmt=' .r')\n",
    "plt.show()"
   ]
  },
  {
   "cell_type": "code",
   "execution_count": 18,
   "metadata": {
    "collapsed": false
   },
   "outputs": [
    {
     "name": "stdout",
     "output_type": "stream",
     "text": [
      "[[Model]]\n",
      "    (Model(gaussian, prefix='gauss_5_') + Model(gaussian, prefix='gauss_6_'))\n",
      "[[Fit Statistics]]\n",
      "    # function evals   = 102\n",
      "    # data points      = 75\n",
      "    # variables        = 6\n",
      "    chi-square         = 115.754\n",
      "    reduced chi-square = 1.678\n",
      "[[Variables]]\n",
      "    gauss_5_sigma:       13.6749687 +/- 0.579408 (4.24%) (init= 5)\n",
      "    gauss_5_fwhm:        32.2020899 +/- 1.364401 (4.24%)  == '2.3548200*gauss_5_sigma'\n",
      "    gauss_5_amplitude:   16761.1622 +/- 654.0406 (3.90%) (init= 6500)\n",
      "    gauss_5_center:      184        +/- 5.647167 (3.07%) (init= 181)\n",
      "    gauss_6_sigma:       8.56075037 +/- 0.067322 (0.79%) (init= 5)\n",
      "    gauss_6_fwhm:        20.1590261 +/- 0.158533 (0.79%)  == '2.3548200*gauss_6_sigma'\n",
      "    gauss_6_amplitude:   52316.5087 +/- 604.2185 (1.15%) (init= 32500)\n",
      "    gauss_6_center:      213.627553 +/- 0.100067 (0.05%) (init= 213)\n",
      "[[Correlations]] (unreported correlations are <  0.100)\n",
      "    C(gauss_5_sigma, gauss_5_amplitude)  =  0.926 \n",
      "    C(gauss_5_amplitude, gauss_5_center)  = -0.846 \n",
      "    C(gauss_5_amplitude, gauss_6_amplitude)  = -0.828 \n",
      "    C(gauss_5_center, gauss_6_amplitude)  =  0.804 \n",
      "    C(gauss_5_sigma, gauss_6_amplitude)  = -0.801 \n",
      "    C(gauss_5_amplitude, gauss_6_center)  =  0.794 \n",
      "    C(gauss_5_center, gauss_6_center)  = -0.793 \n",
      "    C(gauss_5_sigma, gauss_5_center)  = -0.789 \n",
      "    C(gauss_6_amplitude, gauss_6_center)  = -0.733 \n",
      "    C(gauss_5_sigma, gauss_6_center)  =  0.732 \n",
      "    C(gauss_5_center, gauss_6_sigma)  =  0.706 \n",
      "    C(gauss_5_amplitude, gauss_6_sigma)  = -0.698 \n",
      "    C(gauss_6_sigma, gauss_6_center)  = -0.689 \n",
      "    C(gauss_6_sigma, gauss_6_amplitude)  =  0.666 \n",
      "    C(gauss_5_sigma, gauss_6_sigma)  = -0.613 \n",
      "\n"
     ]
    }
   ],
   "source": [
    "print(out_gauss_am_2.fit_report())"
   ]
  },
  {
   "cell_type": "markdown",
   "metadata": {},
   "source": [
    "## Fit der Ba Daten"
   ]
  },
  {
   "cell_type": "code",
   "execution_count": 19,
   "metadata": {
    "collapsed": true
   },
   "outputs": [],
   "source": [
    "gauss_0 = GaussianModel(prefix=\"gauss_0_\")\n",
    "gauss_1 = GaussianModel(prefix=\"gauss_1_\")\n",
    "gauss_2 = GaussianModel(prefix=\"gauss_2_\")\n",
    "gauss_3 = GaussianModel(prefix=\"gauss_3_\")\n",
    "gauss_4 = GaussianModel(prefix=\"gauss_4_\")\n",
    "gauss_5 = GaussianModel(prefix=\"gauss_5_\")\n",
    "gauss_6 = GaussianModel(prefix=\"gauss_6_\")"
   ]
  },
  {
   "cell_type": "code",
   "execution_count": 20,
   "metadata": {
    "collapsed": false
   },
   "outputs": [],
   "source": [
    "pars_ba_1 = gauss_1.guess(ba.rate,x=x)\n",
    "pars_ba_2 = gauss_2.guess(ba.rate,x=x)\n",
    "pars_ba_2.update(gauss_0.make_params())\n",
    "pars_ba_3 = gauss_3.guess(ba.rate,x=x)\n",
    "pars_ba_3.update(gauss_4.make_params())\n",
    "pars_ba_4 = gauss_5.guess(ba.rate,x=x)"
   ]
  },
  {
   "cell_type": "code",
   "execution_count": 21,
   "metadata": {
    "collapsed": false
   },
   "outputs": [],
   "source": [
    "# controll the center\n",
    "pars_ba_1['gauss_1_center'].set(20, min=10, max=25)\n",
    "pars_ba_2['gauss_2_center'].set(112, min=100, max=120)\n",
    "pars_ba_2['gauss_0_center'].set(125, min=120, max=130)\n",
    "pars_ba_3['gauss_3_center'].set(228, min=210, max=235)\n",
    "pars_ba_3['gauss_4_center'].set(286, min=270, max=300)\n",
    "pars_ba_4['gauss_5_center'].set(1182, min=1150, max=1200)\n",
    "# controll the amplitude\n",
    "pars_ba_1['gauss_1_amplitude'].set(440*13, min=0)#, max=440*2.5)\n",
    "pars_ba_2['gauss_2_amplitude'].set(300, min=0)#, max=310*2.5)\n",
    "pars_ba_2['gauss_0_amplitude'].set(125, min=0)#, max=130)\n",
    "pars_ba_3['gauss_3_amplitude'].set(310*13, min=0)#, max=320*2.5)\n",
    "pars_ba_3['gauss_4_amplitude'].set(380*13, min=0)#, max=390*2.5)\n",
    "pars_ba_4['gauss_5_amplitude'].set(500*13, min=0)#, max=510*2.5)\n",
    "# controll sigma\n",
    "pars_ba_1['gauss_1_sigma'].set(5, min=1, max=68)\n",
    "pars_ba_2['gauss_2_sigma'].set(5, min=1, max=80)\n",
    "pars_ba_3['gauss_3_sigma'].set(5, min=1, max=101)\n",
    "pars_ba_3['gauss_4_sigma'].set(5, min=1, max=114)\n",
    "pars_ba_4['gauss_5_sigma'].set(5, min=1, max=184)"
   ]
  },
  {
   "cell_type": "code",
   "execution_count": 22,
   "metadata": {
    "collapsed": false
   },
   "outputs": [],
   "source": [
    "mod_ba_1 = gauss_1\n",
    "out_ba_1 = mod_ba_1.fit(ba.rate[15:25]-untergrund.rate[15:25],params=pars_ba_1,x=x[15:25],weights=1/ba.error[15:25])"
   ]
  },
  {
   "cell_type": "code",
   "execution_count": 23,
   "metadata": {
    "collapsed": false
   },
   "outputs": [],
   "source": [
    "plt.plot(x,out_ba_1.eval(x=x), '-g')\n",
    "plt.errorbar(x,ba.rate-untergrund.rate, yerr=ba.error, fmt=' .r')\n",
    "plt.show()"
   ]
  },
  {
   "cell_type": "code",
   "execution_count": 24,
   "metadata": {
    "collapsed": false
   },
   "outputs": [
    {
     "name": "stdout",
     "output_type": "stream",
     "text": [
      "[[Model]]\n",
      "    Model(gaussian, prefix='gauss_1_')\n",
      "[[Fit Statistics]]\n",
      "    # function evals   = 27\n",
      "    # data points      = 10\n",
      "    # variables        = 3\n",
      "    chi-square         = 7.968\n",
      "    reduced chi-square = 1.138\n",
      "[[Variables]]\n",
      "    gauss_1_sigma:       3.71202384 +/- 0.281089 (7.57%) (init= 5)\n",
      "    gauss_1_fwhm:        8.74114799 +/- 0.661916 (7.57%)  == '2.3548200*gauss_1_sigma'\n",
      "    gauss_1_amplitude:   1117.53081 +/- 61.21242 (5.48%) (init= 5720)\n",
      "    gauss_1_center:      19.1213070 +/- 0.201517 (1.05%) (init= 20)\n",
      "[[Correlations]] (unreported correlations are <  0.100)\n",
      "    C(gauss_1_sigma, gauss_1_amplitude)  =  0.751 \n",
      "    C(gauss_1_sigma, gauss_1_center)  = -0.209 \n",
      "    C(gauss_1_amplitude, gauss_1_center)  = -0.204 \n",
      "\n"
     ]
    }
   ],
   "source": [
    "print(out_ba_1.fit_report())"
   ]
  },
  {
   "cell_type": "code",
   "execution_count": 26,
   "metadata": {
    "collapsed": false
   },
   "outputs": [],
   "source": [
    "mod_ba_2 = gauss_2 + gauss_0\n",
    "out_ba_2 = mod_ba_2.fit(ba.rate[95:135]-untergrund.rate[95:135],params=pars_ba_2,x=x[95:135],weights=1/ba.error[95:135])"
   ]
  },
  {
   "cell_type": "code",
   "execution_count": 27,
   "metadata": {
    "collapsed": true
   },
   "outputs": [],
   "source": [
    "plt.plot(x,out_ba_2.eval(x=x), '-g')\n",
    "plt.errorbar(x,ba.rate-untergrund.rate, yerr=ba.error, fmt=' .r')\n",
    "plt.show()"
   ]
  },
  {
   "cell_type": "code",
   "execution_count": 28,
   "metadata": {
    "collapsed": false
   },
   "outputs": [
    {
     "name": "stdout",
     "output_type": "stream",
     "text": [
      "[[Model]]\n",
      "    (Model(gaussian, prefix='gauss_2_') + Model(gaussian, prefix='gauss_0_'))\n",
      "[[Fit Statistics]]\n",
      "    # function evals   = 134\n",
      "    # data points      = 40\n",
      "    # variables        = 6\n",
      "    chi-square         = 80.259\n",
      "    reduced chi-square = 2.361\n",
      "[[Variables]]\n",
      "    gauss_2_sigma:       6.78656645 +/- 0.105521 (1.55%) (init= 5)\n",
      "    gauss_2_fwhm:        15.9811424 +/- 0.248484 (1.55%)  == '2.3548200*gauss_2_sigma'\n",
      "    gauss_2_amplitude:   26863.5431 +/- 382.4157 (1.42%) (init= 300)\n",
      "    gauss_2_center:      111.053940 +/- 0.126139 (0.11%) (init= 112)\n",
      "    gauss_0_sigma:       4.59849759 +/- 0.499772 (10.87%) (init= 1)\n",
      "    gauss_0_fwhm:        10.8286341 +/- 1.176874 (10.87%)  == '2.3548200*gauss_0_sigma'\n",
      "    gauss_0_amplitude:   2615.75185 +/- 323.1190 (12.35%) (init= 125)\n",
      "    gauss_0_center:      128.025143 +/- 0.499981 (0.39%) (init= 125)\n",
      "[[Correlations]] (unreported correlations are <  0.100)\n",
      "    C(gauss_0_sigma, gauss_0_amplitude)  =  0.864 \n",
      "    C(gauss_0_amplitude, gauss_0_center)  = -0.811 \n",
      "    C(gauss_2_center, gauss_0_amplitude)  = -0.803 \n",
      "    C(gauss_2_sigma, gauss_0_amplitude)  = -0.774 \n",
      "    C(gauss_2_center, gauss_0_center)  =  0.755 \n",
      "    C(gauss_2_sigma, gauss_0_center)  =  0.718 \n",
      "    C(gauss_2_amplitude, gauss_0_amplitude)  = -0.712 \n",
      "    C(gauss_2_sigma, gauss_2_center)  =  0.684 \n",
      "    C(gauss_2_center, gauss_0_sigma)  = -0.672 \n",
      "    C(gauss_2_amplitude, gauss_0_center)  =  0.668 \n",
      "    C(gauss_0_sigma, gauss_0_center)  = -0.666 \n",
      "    C(gauss_2_sigma, gauss_2_amplitude)  =  0.639 \n",
      "    C(gauss_2_amplitude, gauss_2_center)  =  0.623 \n",
      "    C(gauss_2_amplitude, gauss_0_sigma)  = -0.613 \n",
      "    C(gauss_2_sigma, gauss_0_sigma)  = -0.584 \n",
      "\n"
     ]
    }
   ],
   "source": [
    "print(out_ba_2.fit_report())"
   ]
  },
  {
   "cell_type": "code",
   "execution_count": 29,
   "metadata": {
    "collapsed": false
   },
   "outputs": [],
   "source": [
    "mod_ba_3 = gauss_3 + gauss_4\n",
    "out_ba_3 = mod_ba_3.fit(ba.rate[204:315]-untergrund.rate[204:315],params=pars_ba_3,x=x[204:315],weights=1/ba.error[204:315])"
   ]
  },
  {
   "cell_type": "code",
   "execution_count": 30,
   "metadata": {
    "collapsed": true
   },
   "outputs": [],
   "source": [
    "plt.plot(x,out_ba_3.eval(x=x), '-g')\n",
    "plt.errorbar(x,ba.rate-untergrund.rate, yerr=ba.error, fmt=' .r')\n",
    "plt.show()"
   ]
  },
  {
   "cell_type": "code",
   "execution_count": 31,
   "metadata": {
    "collapsed": false
   },
   "outputs": [
    {
     "name": "stdout",
     "output_type": "stream",
     "text": [
      "[[Model]]\n",
      "    (Model(gaussian, prefix='gauss_3_') + Model(gaussian, prefix='gauss_4_'))\n",
      "[[Fit Statistics]]\n",
      "    # function evals   = 79\n",
      "    # data points      = 111\n",
      "    # variables        = 6\n",
      "    chi-square         = 186.847\n",
      "    reduced chi-square = 1.779\n",
      "[[Variables]]\n",
      "    gauss_3_sigma:       29.2420708 +/- 3.553440 (12.15%) (init= 5)\n",
      "    gauss_3_fwhm:        68.8598133 +/- 8.367712 (12.15%)  == '2.3548200*gauss_3_sigma'\n",
      "    gauss_3_amplitude:   7263.68065 +/- 781.6782 (10.76%) (init= 4030)\n",
      "    gauss_3_center:      234.999999 +/- 5.363476 (2.28%) (init= 228)\n",
      "    gauss_4_sigma:       12.5318055 +/- 0.343834 (2.74%) (init= 5)\n",
      "    gauss_4_fwhm:        29.5101462 +/- 0.809668 (2.74%)  == '2.3548200*gauss_4_sigma'\n",
      "    gauss_4_amplitude:   11357.4608 +/- 560.8174 (4.94%) (init= 4940)\n",
      "    gauss_4_center:      284.429428 +/- 0.300680 (0.11%) (init= 286)\n",
      "[[Correlations]] (unreported correlations are <  0.100)\n",
      "    C(gauss_3_sigma, gauss_3_amplitude)  =  0.971 \n",
      "    C(gauss_3_amplitude, gauss_4_amplitude)  = -0.930 \n",
      "    C(gauss_3_sigma, gauss_4_amplitude)  = -0.912 \n",
      "    C(gauss_3_center, gauss_4_amplitude)  =  0.854 \n",
      "    C(gauss_4_sigma, gauss_4_amplitude)  =  0.825 \n",
      "    C(gauss_3_amplitude, gauss_3_center)  = -0.788 \n",
      "    C(gauss_3_amplitude, gauss_4_sigma)  = -0.786 \n",
      "    C(gauss_3_center, gauss_4_sigma)  =  0.767 \n",
      "    C(gauss_3_sigma, gauss_3_center)  = -0.745 \n",
      "    C(gauss_3_sigma, gauss_4_sigma)  = -0.744 \n",
      "    C(gauss_3_center, gauss_4_center)  = -0.676 \n",
      "    C(gauss_4_amplitude, gauss_4_center)  = -0.664 \n",
      "    C(gauss_3_amplitude, gauss_4_center)  =  0.638 \n",
      "    C(gauss_4_sigma, gauss_4_center)  = -0.630 \n",
      "    C(gauss_3_sigma, gauss_4_center)  =  0.583 \n",
      "\n"
     ]
    }
   ],
   "source": [
    "print(out_ba_3.fit_report())"
   ]
  },
  {
   "cell_type": "code",
   "execution_count": 32,
   "metadata": {
    "collapsed": true
   },
   "outputs": [],
   "source": [
    "mod_ba_4 = gauss_5\n",
    "out_ba_4 = mod_ba_4.fit(ba.rate[1100:1250],params=pars_ba_4,x=x[1100:1250],weights=1/ba.error[1100:1250])"
   ]
  },
  {
   "cell_type": "code",
   "execution_count": 33,
   "metadata": {
    "collapsed": true
   },
   "outputs": [],
   "source": [
    "plt.plot(x,out_ba_4.eval(x=x), '-g')\n",
    "plt.errorbar(x,ba.rate-untergrund.rate, yerr=ba.error, fmt=' .r')\n",
    "plt.show()"
   ]
  },
  {
   "cell_type": "code",
   "execution_count": 34,
   "metadata": {
    "collapsed": false
   },
   "outputs": [
    {
     "name": "stdout",
     "output_type": "stream",
     "text": [
      "[[Model]]\n",
      "    Model(gaussian, prefix='gauss_5_')\n",
      "[[Fit Statistics]]\n",
      "    # function evals   = 35\n",
      "    # data points      = 150\n",
      "    # variables        = 3\n",
      "    chi-square         = 117.888\n",
      "    reduced chi-square = 0.802\n",
      "[[Variables]]\n",
      "    gauss_5_sigma:       43.3949452 +/- 0.494619 (1.14%) (init= 5)\n",
      "    gauss_5_fwhm:        102.187285 +/- 1.164740 (1.14%)  == '2.3548200*gauss_5_sigma'\n",
      "    gauss_5_amplitude:   12789.9828 +/- 117.5778 (0.92%) (init= 6500)\n",
      "    gauss_5_center:      1180.46864 +/- 0.450395 (0.04%) (init= 1182)\n",
      "[[Correlations]] (unreported correlations are <  0.100)\n",
      "    C(gauss_5_sigma, gauss_5_amplitude)  =  0.430 \n",
      "    C(gauss_5_sigma, gauss_5_center)  =  0.180 \n",
      "    C(gauss_5_amplitude, gauss_5_center)  =  0.128 \n",
      "\n"
     ]
    }
   ],
   "source": [
    "print(out_ba_4.fit_report())"
   ]
  },
  {
   "cell_type": "markdown",
   "metadata": {},
   "source": [
    "## Kilibrierung der Cs Daten"
   ]
  },
  {
   "cell_type": "code",
   "execution_count": 35,
   "metadata": {
    "collapsed": true
   },
   "outputs": [],
   "source": [
    "gauss_0 = GaussianModel(prefix=\"gauss_0_\")\n",
    "gauss_1 = GaussianModel(prefix=\"gauss_1_\")\n",
    "gauss_2 = GaussianModel(prefix=\"gauss_2_\")"
   ]
  },
  {
   "cell_type": "code",
   "execution_count": 36,
   "metadata": {
    "collapsed": true
   },
   "outputs": [],
   "source": [
    "pars_cs_1 = gauss_0.guess(cs.rate,x=x)\n",
    "pars_cs_2 = gauss_1.guess(cs.rate,x=x)\n",
    "pars_cs_3 = gauss_2.guess(cs.rate,x=x)"
   ]
  },
  {
   "cell_type": "code",
   "execution_count": 37,
   "metadata": {
    "collapsed": false
   },
   "outputs": [],
   "source": [
    "# controll the center\n",
    "pars_cs_1['gauss_0_center'].set(115, min=110, max=120)\n",
    "pars_cs_2['gauss_1_center'].set(267, min=263, max=270)\n",
    "pars_cs_3['gauss_2_center'].set(1920, min=1900, max=1940)\n",
    "# controll the amplitude\n",
    "pars_cs_1['gauss_0_amplitude'].set(125, min=0)#, max=130)\n",
    "pars_cs_2['gauss_1_amplitude'].set(440*13, min=0)#, max=440*2.5)\n",
    "pars_cs_3['gauss_2_amplitude'].set(300, min=0)#, max=310*2.5)\n",
    "# controll sigma\n",
    "pars_cs_1['gauss_0_sigma'].set(5, min=1, max=68)\n",
    "pars_cs_2['gauss_1_sigma'].set(5, min=1, max=68)\n",
    "pars_cs_3['gauss_2_sigma'].set(5, min=1, max=80)"
   ]
  },
  {
   "cell_type": "code",
   "execution_count": 38,
   "metadata": {
    "collapsed": false
   },
   "outputs": [],
   "source": [
    "mod_cs_1 = gauss_0\n",
    "out_cs_1 = mod_cs_1.fit(cs.rate[100:130],params=pars_cs_1,x=x[100:130],weights=1/cs.error[100:130])"
   ]
  },
  {
   "cell_type": "code",
   "execution_count": 39,
   "metadata": {
    "collapsed": true
   },
   "outputs": [],
   "source": [
    "plt.plot(x,out_cs_1.eval(x=x), '-g')\n",
    "plt.errorbar(x,cs.rate-untergrund.rate, yerr=cs.error, fmt=' .r')\n",
    "plt.show()"
   ]
  },
  {
   "cell_type": "code",
   "execution_count": 40,
   "metadata": {
    "collapsed": false
   },
   "outputs": [
    {
     "name": "stdout",
     "output_type": "stream",
     "text": [
      "[[Model]]\n",
      "    Model(gaussian, prefix='gauss_0_')\n",
      "[[Fit Statistics]]\n",
      "    # function evals   = 37\n",
      "    # data points      = 30\n",
      "    # variables        = 3\n",
      "    chi-square         = 36.299\n",
      "    reduced chi-square = 1.344\n",
      "[[Variables]]\n",
      "    gauss_0_sigma:       8.33786026 +/- 0.166957 (2.00%) (init= 5)\n",
      "    gauss_0_fwhm:        19.6341601 +/- 0.393154 (2.00%)  == '2.3548200*gauss_0_sigma'\n",
      "    gauss_0_amplitude:   6336.70331 +/- 103.7750 (1.64%) (init= 125)\n",
      "    gauss_0_center:      115.366805 +/- 0.153160 (0.13%) (init= 115)\n",
      "[[Correlations]] (unreported correlations are <  0.100)\n",
      "    C(gauss_0_sigma, gauss_0_amplitude)  =  0.381 \n",
      "    C(gauss_0_sigma, gauss_0_center)  =  0.137 \n",
      "\n"
     ]
    }
   ],
   "source": [
    "print(out_cs_1.fit_report())"
   ]
  },
  {
   "cell_type": "code",
   "execution_count": 41,
   "metadata": {
    "collapsed": false
   },
   "outputs": [],
   "source": [
    "mod_cs_3 = gauss_2\n",
    "out_cs_3 = mod_cs_3.fit(cs.rate[1860:1980],params=pars_cs_3,x=x[1860:1980],weights=1/cs.error[1860:1980])"
   ]
  },
  {
   "cell_type": "code",
   "execution_count": 42,
   "metadata": {
    "collapsed": false
   },
   "outputs": [],
   "source": [
    "plt.plot(x,out_cs_3.eval(x=x), '-g')\n",
    "plt.errorbar(x,cs.rate-untergrund.rate, yerr=cs.error, fmt=' .r')\n",
    "plt.show()"
   ]
  },
  {
   "cell_type": "code",
   "execution_count": 43,
   "metadata": {
    "collapsed": false
   },
   "outputs": [
    {
     "name": "stdout",
     "output_type": "stream",
     "text": [
      "[[Model]]\n",
      "    Model(gaussian, prefix='gauss_2_')\n",
      "[[Fit Statistics]]\n",
      "    # function evals   = 31\n",
      "    # data points      = 120\n",
      "    # variables        = 3\n",
      "    chi-square         = 170.233\n",
      "    reduced chi-square = 1.455\n",
      "[[Variables]]\n",
      "    gauss_2_sigma:       23.0352370 +/- 0.152370 (0.66%) (init= 5)\n",
      "    gauss_2_fwhm:        54.2438368 +/- 0.358805 (0.66%)  == '2.3548200*gauss_2_sigma'\n",
      "    gauss_2_amplitude:   23839.7666 +/- 187.4390 (0.79%) (init= 300)\n",
      "    gauss_2_center:      1920.26351 +/- 0.187739 (0.01%) (init= 1920)\n",
      "[[Correlations]] (unreported correlations are <  0.100)\n",
      "\n"
     ]
    }
   ],
   "source": [
    "print(out_cs_3.fit_report())"
   ]
  },
  {
   "cell_type": "code",
   "execution_count": 138,
   "metadata": {
    "collapsed": false
   },
   "outputs": [],
   "source": [
    "energien = np.array([14,33,60,31,81,383,32,662])\n",
    "kanal = np.array([64.5491642,112.029958,213.627553,111.053940,284.659378,1180.46864,115.366805,1920.26351])\n",
    "kanal_err = np.array([4.84841741,6.34840458,8.56075037,6.78656645,12.5318055,43.3949452,8.33786026,23.0352370])"
   ]
  },
  {
   "cell_type": "code",
   "execution_count": 139,
   "metadata": {
    "collapsed": false
   },
   "outputs": [],
   "source": [
    "plt.errorbar(kanal,energien,yerr=kanal_err, fmt=' .g')\n",
    "plt.show()"
   ]
  },
  {
   "cell_type": "code",
   "execution_count": 140,
   "metadata": {
    "collapsed": false
   },
   "outputs": [],
   "source": [
    "mod_lin = LinearModel()\n",
    "pars_lin = mod_lin.guess(kanal,x=energien)\n",
    "out_lin = mod_lin.fit(kanal,params=pars_lin,x=energien,weights=1/(kanal_err*10))"
   ]
  },
  {
   "cell_type": "code",
   "execution_count": 141,
   "metadata": {
    "collapsed": true
   },
   "outputs": [],
   "source": [
    "out_lin.plot()\n",
    "plt.legend(loc=\"best\")\n",
    "plt.show()"
   ]
  },
  {
   "cell_type": "code",
   "execution_count": 142,
   "metadata": {
    "collapsed": false
   },
   "outputs": [
    {
     "name": "stdout",
     "output_type": "stream",
     "text": [
      "[[Model]]\n",
      "    Model(linear)\n",
      "[[Fit Statistics]]\n",
      "    # function evals   = 8\n",
      "    # data points      = 8\n",
      "    # variables        = 2\n",
      "    chi-square         = 0.113\n",
      "    reduced chi-square = 0.019\n",
      "[[Variables]]\n",
      "    slope:       2.89243908 +/- 0.047311 (1.64%) (init= 2.890274)\n",
      "    intercept:   24.9743682 +/- 4.353123 (17.43%) (init= 32.02802)\n",
      "[[Correlations]] (unreported correlations are <  0.100)\n",
      "    C(slope, intercept)          = -0.460 \n",
      "\n"
     ]
    }
   ],
   "source": [
    "print(out_lin.fit_report())"
   ]
  },
  {
   "cell_type": "code",
   "execution_count": 88,
   "metadata": {
    "collapsed": false
   },
   "outputs": [
    {
     "data": {
      "text/plain": [
       "2.9384754052193793"
      ]
     },
     "execution_count": 88,
     "metadata": {},
     "output_type": "execute_result"
    }
   ],
   "source": [
    "((((out_lin.eval(x=energien)-kanal)**2).sum()**0.5)/(len(kanal)-1))**0.5"
   ]
  },
  {
   "cell_type": "code",
   "execution_count": 92,
   "metadata": {
    "collapsed": false
   },
   "outputs": [
    {
     "data": {
      "text/plain": [
       "array([ 38.95002862,  38.95002862])"
      ]
     },
     "execution_count": 92,
     "metadata": {},
     "output_type": "execute_result"
    }
   ],
   "source": [
    "out_lin.eval(x=[3])"
   ]
  },
  {
   "cell_type": "markdown",
   "metadata": {},
   "source": [
    "# Absorbtion"
   ]
  },
  {
   "cell_type": "markdown",
   "metadata": {},
   "source": [
    "## Blei"
   ]
  },
  {
   "cell_type": "code",
   "execution_count": 187,
   "metadata": {
    "collapsed": true
   },
   "outputs": [],
   "source": [
    "blei_7cm = pd.read_csv(\"Messdaten/absorbtion/absorbtion_7cm.csv\", header=14, delim_whitespace=True, names=['rate','error'], index_col=0)\n",
    "blei_6cm = pd.read_csv(\"Messdaten/absorbtion/absorbtion_6cm.csv\", header=14, delim_whitespace=True, names=['rate','error'], index_col=0)\n",
    "blei_5cm= pd.read_csv(\"Messdaten/absorbtion/absorbtion_5cm.csv\", header=14, delim_whitespace=True, names=['rate','error'], index_col=0)\n",
    "blei_4_5cm= pd.read_csv(\"Messdaten/absorbtion/absorbtion_4,5cm_LLDhoch.csv\", header=14, delim_whitespace=True, names=['rate','error'], index_col=0)\n",
    "blei_3_5cm = pd.read_csv(\"Messdaten/absorbtion/absorbtion_3,5cm_LLDhoch.csv\", header=14, delim_whitespace=True, names=['rate','error'], index_col=0)\n",
    "blei_2_5cm= pd.read_csv(\"Messdaten/absorbtion/absorbtion_2,5cm_LLDhoch.csv\", header=14, delim_whitespace=True, names=['rate','error'], index_col=0)"
   ]
  },
  {
   "cell_type": "markdown",
   "metadata": {},
   "source": [
    "### 7cm"
   ]
  },
  {
   "cell_type": "code",
   "execution_count": 223,
   "metadata": {
    "collapsed": true
   },
   "outputs": [],
   "source": [
    "pars_absorb_7cm = gauss_1.guess(blei_7cm.rate-untergrund.rate,x=x)\n",
    "# controll the center\n",
    "pars_absorb_7cm['gauss_1_center'].set(1900, min=1800, max=2000)\n",
    "# controll the amplitude\n",
    "pars_absorb_7cm['gauss_1_amplitude'].set(440*13, min=0)#, max=440*2.5)\n",
    "# controll sigma\n",
    "pars_absorb_7cm['gauss_1_sigma'].set(5, min=1, max=68)"
   ]
  },
  {
   "cell_type": "code",
   "execution_count": 224,
   "metadata": {
    "collapsed": false
   },
   "outputs": [],
   "source": [
    "out_absorb_7cm = gauss_1.fit(blei_7cm.rate[1850:2000]-untergrund.rate[1850:2000],params=pars_absorb_7cm,x=x[1850:2000],weights=1/blei_7cm.error[1850:2000])"
   ]
  },
  {
   "cell_type": "code",
   "execution_count": 288,
   "metadata": {
    "collapsed": false
   },
   "outputs": [],
   "source": [
    "plt.errorbar(x,blei_7cm.rate-untergrund.rate, yerr=blei_7cm.error, fmt=' .g')\n",
    "plt.plot(x,out_absorb_7cm.eval(x=x), '-r')\n",
    "plt.show()"
   ]
  },
  {
   "cell_type": "code",
   "execution_count": 289,
   "metadata": {
    "collapsed": false
   },
   "outputs": [
    {
     "name": "stdout",
     "output_type": "stream",
     "text": [
      "[[Model]]\n",
      "    Model(gaussian, prefix='gauss_1_')\n",
      "[[Fit Statistics]]\n",
      "    # function evals   = 47\n",
      "    # data points      = 150\n",
      "    # variables        = 3\n",
      "    chi-square         = 299.499\n",
      "    reduced chi-square = 2.037\n",
      "[[Variables]]\n",
      "    gauss_1_sigma:       20.4971915 +/- 0.620191 (3.03%) (init= 5)\n",
      "    gauss_1_fwhm:        48.2671964 +/- 1.460438 (3.03%)  == '2.3548200*gauss_1_sigma'\n",
      "    gauss_1_amplitude:   2284.71175 +/- 77.00543 (3.37%) (init= 5720)\n",
      "    gauss_1_center:      1922.65512 +/- 0.768987 (0.04%) (init= 1900)\n",
      "[[Correlations]] (unreported correlations are <  0.100)\n",
      "    C(gauss_1_sigma, gauss_1_amplitude)  =  0.199 \n",
      "\n"
     ]
    }
   ],
   "source": [
    "print(out_absorb_7cm.fit_report())"
   ]
  },
  {
   "cell_type": "markdown",
   "metadata": {},
   "source": [
    "### 6cm"
   ]
  },
  {
   "cell_type": "code",
   "execution_count": 167,
   "metadata": {
    "collapsed": false
   },
   "outputs": [],
   "source": [
    "pars_absorb_6cm = gauss_1.guess(blei_6cm.rate-untergrund.rate,x=x)\n",
    "# controll the center\n",
    "pars_absorb_6cm['gauss_1_center'].set(1925, min=1900, max=2000)\n",
    "# controll the amplitude\n",
    "pars_absorb_6cm['gauss_1_amplitude'].set(440*18, min=0)#, max=440*2.5)\n",
    "# controll sigma\n",
    "pars_absorb_6cm['gauss_1_sigma'].set(20, min=1, max=68)"
   ]
  },
  {
   "cell_type": "code",
   "execution_count": 172,
   "metadata": {
    "collapsed": true
   },
   "outputs": [],
   "source": [
    "out_absorb_6cm = gauss_1.fit(blei_6cm.rate[1850:1993]-untergrund.rate[1850:1993],params=pars_absorb_6cm,x=x[1850:1993],weights=1/blei_6cm.error[1850:1993])"
   ]
  },
  {
   "cell_type": "code",
   "execution_count": 173,
   "metadata": {
    "collapsed": true
   },
   "outputs": [],
   "source": [
    "plt.errorbar(x,blei_6cm.rate-untergrund.rate, yerr=blei_6cm.error, fmt=' .g')\n",
    "plt.plot(x,out_absorb_6cm.eval(x=x), '-r')\n",
    "plt.show()"
   ]
  },
  {
   "cell_type": "code",
   "execution_count": 290,
   "metadata": {
    "collapsed": false
   },
   "outputs": [
    {
     "name": "stdout",
     "output_type": "stream",
     "text": [
      "[[Model]]\n",
      "    Model(gaussian, prefix='gauss_1_')\n",
      "[[Fit Statistics]]\n",
      "    # function evals   = 23\n",
      "    # data points      = 143\n",
      "    # variables        = 3\n",
      "    chi-square         = 161.311\n",
      "    reduced chi-square = 1.152\n",
      "[[Variables]]\n",
      "    gauss_1_sigma:       21.9514451 +/- 0.219597 (1.00%) (init= 20)\n",
      "    gauss_1_fwhm:        51.6917021 +/- 0.517111 (1.00%)  == '2.3548200*gauss_1_sigma'\n",
      "    gauss_1_amplitude:   8299.78978 +/- 101.5909 (1.22%) (init= 7920)\n",
      "    gauss_1_center:      1922.16220 +/- 0.283142 (0.01%) (init= 1925)\n",
      "[[Correlations]] (unreported correlations are <  0.100)\n",
      "\n"
     ]
    }
   ],
   "source": [
    "print(out_absorb_6cm.fit_report())"
   ]
  },
  {
   "cell_type": "markdown",
   "metadata": {},
   "source": [
    "### 5cm"
   ]
  },
  {
   "cell_type": "code",
   "execution_count": 177,
   "metadata": {
    "collapsed": true
   },
   "outputs": [],
   "source": [
    "pars_absorb_5cm = gauss_1.guess(blei_5cm.rate-untergrund.rate,x=x)\n",
    "# controll the center\n",
    "pars_absorb_5cm['gauss_1_center'].set(1925, min=1900, max=2000)\n",
    "# controll the amplitude\n",
    "pars_absorb_5cm['gauss_1_amplitude'].set(440*18, min=0)#, max=440*2.5)\n",
    "# controll sigma\n",
    "pars_absorb_5cm['gauss_1_sigma'].set(20, min=1, max=68)"
   ]
  },
  {
   "cell_type": "code",
   "execution_count": 178,
   "metadata": {
    "collapsed": false
   },
   "outputs": [],
   "source": [
    "out_absorb_5cm = gauss_1.fit(blei_5cm.rate[1850:1993]-untergrund.rate[1850:1993],params=pars_absorb_5cm,x=x[1850:1993],weights=1/blei_5cm.error[1850:1993])"
   ]
  },
  {
   "cell_type": "code",
   "execution_count": 179,
   "metadata": {
    "collapsed": true
   },
   "outputs": [],
   "source": [
    "plt.errorbar(x,blei_5cm.rate-untergrund.rate, yerr=blei_5cm.error, fmt=' .g')\n",
    "plt.plot(x,out_absorb_5cm.eval(x=x), '-r')\n",
    "plt.show()"
   ]
  },
  {
   "cell_type": "code",
   "execution_count": 291,
   "metadata": {
    "collapsed": false
   },
   "outputs": [
    {
     "name": "stdout",
     "output_type": "stream",
     "text": [
      "[[Model]]\n",
      "    Model(gaussian, prefix='gauss_1_')\n",
      "[[Fit Statistics]]\n",
      "    # function evals   = 31\n",
      "    # data points      = 143\n",
      "    # variables        = 3\n",
      "    chi-square         = 243.761\n",
      "    reduced chi-square = 1.741\n",
      "[[Variables]]\n",
      "    gauss_1_sigma:       22.4285473 +/- 0.141956 (0.63%) (init= 20)\n",
      "    gauss_1_fwhm:        52.8151919 +/- 0.334281 (0.63%)  == '2.3548200*gauss_1_sigma'\n",
      "    gauss_1_amplitude:   27339.4031 +/- 220.9497 (0.81%) (init= 7920)\n",
      "    gauss_1_center:      1921.75060 +/- 0.186295 (0.01%) (init= 1925)\n",
      "[[Correlations]] (unreported correlations are <  0.100)\n",
      "\n"
     ]
    }
   ],
   "source": [
    "print(out_absorb_5cm.fit_report())"
   ]
  },
  {
   "cell_type": "markdown",
   "metadata": {},
   "source": [
    "### 4,5cm"
   ]
  },
  {
   "cell_type": "code",
   "execution_count": 182,
   "metadata": {
    "collapsed": true
   },
   "outputs": [],
   "source": [
    "pars_absorb_4_5cm = gauss_1.guess(blei_4_5cm.rate-untergrund.rate,x=x)\n",
    "# controll the center\n",
    "pars_absorb_4_5cm['gauss_1_center'].set(1925, min=1900, max=2000)\n",
    "# controll the amplitude\n",
    "pars_absorb_4_5cm['gauss_1_amplitude'].set(440*18, min=0)#, max=440*2.5)\n",
    "# controll sigma\n",
    "pars_absorb_4_5cm['gauss_1_sigma'].set(20, min=1, max=68)"
   ]
  },
  {
   "cell_type": "code",
   "execution_count": 183,
   "metadata": {
    "collapsed": true
   },
   "outputs": [],
   "source": [
    "out_absorb_4_5cm = gauss_1.fit(blei_4_5cm.rate[1850:1993]-untergrund.rate[1850:1993],params=pars_absorb_4_5cm,x=x[1850:1993],weights=1/blei_4_5cm.error[1850:1993])"
   ]
  },
  {
   "cell_type": "code",
   "execution_count": 192,
   "metadata": {
    "collapsed": true
   },
   "outputs": [],
   "source": [
    "plt.errorbar(x,blei_4_5cm.rate-untergrund.rate, yerr=blei_4_5cm.error, fmt=' .g')\n",
    "plt.plot(x,out_absorb_4_5cm.eval(x=x), '-r')\n",
    "plt.show()"
   ]
  },
  {
   "cell_type": "code",
   "execution_count": 292,
   "metadata": {
    "collapsed": false
   },
   "outputs": [
    {
     "name": "stdout",
     "output_type": "stream",
     "text": [
      "[[Model]]\n",
      "    Model(gaussian, prefix='gauss_1_')\n",
      "[[Fit Statistics]]\n",
      "    # function evals   = 39\n",
      "    # data points      = 143\n",
      "    # variables        = 3\n",
      "    chi-square         = 352.808\n",
      "    reduced chi-square = 2.520\n",
      "[[Variables]]\n",
      "    gauss_1_sigma:       22.5501287 +/- 0.126227 (0.56%) (init= 20)\n",
      "    gauss_1_fwhm:        53.1014941 +/- 0.297242 (0.56%)  == '2.3548200*gauss_1_sigma'\n",
      "    gauss_1_amplitude:   48414.7069 +/- 352.0339 (0.73%) (init= 7920)\n",
      "    gauss_1_center:      1918.16323 +/- 0.167978 (0.01%) (init= 1925)\n",
      "[[Correlations]] (unreported correlations are <  0.100)\n",
      "    C(gauss_1_sigma, gauss_1_center)  = -0.103 \n",
      "\n"
     ]
    }
   ],
   "source": [
    "print(out_absorb_4_5cm.fit_report())"
   ]
  },
  {
   "cell_type": "markdown",
   "metadata": {},
   "source": [
    "### 3,5cm"
   ]
  },
  {
   "cell_type": "code",
   "execution_count": 188,
   "metadata": {
    "collapsed": false
   },
   "outputs": [],
   "source": [
    "pars_absorb_3_5cm = gauss_1.guess(blei_3_5cm.rate-untergrund.rate,x=x)\n",
    "# controll the center\n",
    "pars_absorb_3_5cm['gauss_1_center'].set(1925, min=1900, max=2000)\n",
    "# controll the amplitude\n",
    "pars_absorb_3_5cm['gauss_1_amplitude'].set(440*18, min=0)#, max=440*2.5)\n",
    "# controll sigma\n",
    "pars_absorb_3_5cm['gauss_1_sigma'].set(20, min=1, max=68)"
   ]
  },
  {
   "cell_type": "code",
   "execution_count": 200,
   "metadata": {
    "collapsed": true
   },
   "outputs": [],
   "source": [
    "out_absorb_3_5cm = gauss_1.fit(blei_3_5cm.rate[1880:1993]-untergrund.rate[1880:1993],params=pars_absorb_3_5cm,x=x[1880:1993],weights=1/blei_3_5cm.error[1880:1993])"
   ]
  },
  {
   "cell_type": "code",
   "execution_count": 201,
   "metadata": {
    "collapsed": false
   },
   "outputs": [],
   "source": [
    "plt.errorbar(x,blei_3_5cm.rate-untergrund.rate, yerr=blei_3_5cm.error, fmt=' .g')\n",
    "plt.plot(x,out_absorb_3_5cm.eval(x=x), '-r')\n",
    "plt.show()"
   ]
  },
  {
   "cell_type": "code",
   "execution_count": 202,
   "metadata": {
    "collapsed": false
   },
   "outputs": [
    {
     "name": "stdout",
     "output_type": "stream",
     "text": [
      "[[Model]]\n",
      "    Model(gaussian, prefix='gauss_1_')\n",
      "[[Fit Statistics]]\n",
      "    # function evals   = 36\n",
      "    # data points      = 113\n",
      "    # variables        = 3\n",
      "    chi-square         = 300.211\n",
      "    reduced chi-square = 2.729\n",
      "[[Variables]]\n",
      "    gauss_1_sigma:       22.0276222 +/- 0.088165 (0.40%) (init= 20)\n",
      "    gauss_1_fwhm:        51.8710853 +/- 0.207614 (0.40%)  == '2.3548200*gauss_1_sigma'\n",
      "    gauss_1_amplitude:   1.5077e+05 +/- 666.4545 (0.44%) (init= 7920)\n",
      "    gauss_1_center:      1919.46611 +/- 0.111573 (0.01%) (init= 1925)\n",
      "[[Correlations]] (unreported correlations are <  0.100)\n",
      "    C(gauss_1_sigma, gauss_1_center)  = -0.354 \n",
      "    C(gauss_1_sigma, gauss_1_amplitude)  =  0.172 \n",
      "    C(gauss_1_amplitude, gauss_1_center)  = -0.138 \n",
      "\n"
     ]
    }
   ],
   "source": [
    "print(out_absorb_3_5cm.fit_report())"
   ]
  },
  {
   "cell_type": "markdown",
   "metadata": {},
   "source": [
    "### 2,5cm"
   ]
  },
  {
   "cell_type": "code",
   "execution_count": 203,
   "metadata": {
    "collapsed": true
   },
   "outputs": [],
   "source": [
    "pars_absorb_2_5cm = gauss_1.guess(blei_2_5cm.rate-untergrund.rate,x=x)\n",
    "# controll the center\n",
    "pars_absorb_2_5cm['gauss_1_center'].set(1925, min=1900, max=2000)\n",
    "# controll the amplitude\n",
    "pars_absorb_2_5cm['gauss_1_amplitude'].set(440*18, min=0)#, max=440*2.5)\n",
    "# controll sigma\n",
    "pars_absorb_2_5cm['gauss_1_sigma'].set(20, min=1, max=68)"
   ]
  },
  {
   "cell_type": "code",
   "execution_count": 219,
   "metadata": {
    "collapsed": true
   },
   "outputs": [],
   "source": [
    "out_absorb_2_5cm = gauss_1.fit(blei_2_5cm.rate[1890:1973]-untergrund.rate[1890:1973],params=pars_absorb_2_5cm,x=x[1890:1973],weights=1/blei_2_5cm.error[1890:1973])"
   ]
  },
  {
   "cell_type": "code",
   "execution_count": 220,
   "metadata": {
    "collapsed": true
   },
   "outputs": [],
   "source": [
    "plt.errorbar(x,blei_2_5cm.rate-untergrund.rate, yerr=blei_2_5cm.error, fmt=' .g')\n",
    "plt.plot(x,out_absorb_2_5cm.eval(x=x), '-r')\n",
    "plt.show()"
   ]
  },
  {
   "cell_type": "code",
   "execution_count": 221,
   "metadata": {
    "collapsed": false
   },
   "outputs": [
    {
     "name": "stdout",
     "output_type": "stream",
     "text": [
      "[[Model]]\n",
      "    Model(gaussian, prefix='gauss_1_')\n",
      "[[Fit Statistics]]\n",
      "    # function evals   = 45\n",
      "    # data points      = 83\n",
      "    # variables        = 3\n",
      "    chi-square         = 334.888\n",
      "    reduced chi-square = 4.186\n",
      "[[Variables]]\n",
      "    gauss_1_sigma:       22.5271252 +/- 0.089126 (0.40%) (init= 20)\n",
      "    gauss_1_fwhm:        53.0473251 +/- 0.209876 (0.40%)  == '2.3548200*gauss_1_sigma'\n",
      "    gauss_1_amplitude:   4.7314e+05 +/- 1.63e+03 (0.34%) (init= 7920)\n",
      "    gauss_1_center:      1922.18608 +/- 0.093865 (0.00%) (init= 1925)\n",
      "[[Correlations]] (unreported correlations are <  0.100)\n",
      "    C(gauss_1_sigma, gauss_1_center)  = -0.430 \n",
      "    C(gauss_1_sigma, gauss_1_amplitude)  =  0.408 \n",
      "    C(gauss_1_amplitude, gauss_1_center)  = -0.290 \n",
      "\n"
     ]
    }
   ],
   "source": [
    "print(out_absorb_2_5cm.fit_report())"
   ]
  },
  {
   "cell_type": "markdown",
   "metadata": {},
   "source": [
    "#### Exponentieller Zusammenhang Blei"
   ]
  },
  {
   "cell_type": "code",
   "execution_count": 315,
   "metadata": {
    "collapsed": true
   },
   "outputs": [],
   "source": [
    "blei_dicke = np.array([7.06,6.031,5.03,4.527,3.515,2.5])\n",
    "blei_rate = np.array([2284,8300,27339,48414,1.5077e+05,4.7314e+05])\n",
    "blei_dicke_err = np.array([0.01,0.009,0.007,0.009,0.007,0.001])\n",
    "blei_rate_err = np.array([77,101,220,352,666,1630])"
   ]
  },
  {
   "cell_type": "code",
   "execution_count": 316,
   "metadata": {
    "collapsed": false
   },
   "outputs": [],
   "source": [
    "plt.errorbar(blei_dicke,blei_rate,yerr=blei_rate_err,xerr=blei_dicke_err,fmt=' .')\n",
    "plt.show()"
   ]
  },
  {
   "cell_type": "code",
   "execution_count": 329,
   "metadata": {
    "collapsed": false
   },
   "outputs": [],
   "source": [
    "mod_exp = ExponentialModel()"
   ]
  },
  {
   "cell_type": "code",
   "execution_count": 330,
   "metadata": {
    "collapsed": false
   },
   "outputs": [],
   "source": [
    "pars_exp = mod_exp.guess(blei_rate,x=blei_dicke)"
   ]
  },
  {
   "cell_type": "code",
   "execution_count": 331,
   "metadata": {
    "collapsed": true
   },
   "outputs": [],
   "source": [
    "out_exp = mod_exp.fit(blei_rate,params=pars_exp,x=blei_dicke,weights=1/(blei_rate_err*2))"
   ]
  },
  {
   "cell_type": "code",
   "execution_count": 334,
   "metadata": {
    "collapsed": true
   },
   "outputs": [],
   "source": [
    "plt.errorbar(blei_dicke,blei_rate,yerr=blei_rate_err,xerr=blei_dicke_err,fmt=' .')\n",
    "plt.plot(np.arange(2,8,0.01),out_exp.eval(x=np.arange(2,8,0.01)))\n",
    "plt.show()"
   ]
  },
  {
   "cell_type": "code",
   "execution_count": 333,
   "metadata": {
    "collapsed": false
   },
   "outputs": [
    {
     "name": "stdout",
     "output_type": "stream",
     "text": [
      "[[Model]]\n",
      "    Model(exponential)\n",
      "[[Fit Statistics]]\n",
      "    # function evals   = 15\n",
      "    # data points      = 6\n",
      "    # variables        = 2\n",
      "    chi-square         = 12.363\n",
      "    reduced chi-square = 3.091\n",
      "[[Variables]]\n",
      "    decay:       0.87983248 +/- 0.006109 (0.69%) (init= 0.8581083)\n",
      "    amplitude:   8.1530e+06 +/- 2.28e+05 (2.80%) (init= 9117912)\n",
      "[[Correlations]] (unreported correlations are <  0.100)\n",
      "    C(decay, amplitude)          = -0.955 \n",
      "\n"
     ]
    }
   ],
   "source": [
    "print(out_exp.fit_report())"
   ]
  },
  {
   "cell_type": "markdown",
   "metadata": {},
   "source": [
    "## Aluminium"
   ]
  },
  {
   "cell_type": "code",
   "execution_count": 226,
   "metadata": {
    "collapsed": true
   },
   "outputs": [],
   "source": [
    "alu_5cm = pd.read_csv(\"Messdaten/absorbtion/absorbtion_2,5cmBlei+5cmAlu_LLDhoch.csv\", header=14, delim_whitespace=True, names=['rate','error'], index_col=0)\n",
    "alu_4cm = pd.read_csv(\"Messdaten/absorbtion/absorbtion_2,5cmBlei+4cmAlu_LLDhoch.csv\", header=14, delim_whitespace=True, names=['rate','error'], index_col=0)\n",
    "alu_3cm = pd.read_csv(\"Messdaten/absorbtion/absorbtion_2,5cmBlei+3cmAlu_LLDhoch.csv\", header=14, delim_whitespace=True, names=['rate','error'], index_col=0)\n",
    "alu_2cm = pd.read_csv(\"Messdaten/absorbtion/absorbtion_2,5cmBlei+2cmAlu_LLDhoch.csv\", header=14, delim_whitespace=True, names=['rate','error'], index_col=0)\n",
    "alu_1cm = pd.read_csv(\"Messdaten/absorbtion/absorbtion_2,5cmBlei+1cmAlu_LLDhoch.csv\", header=14, delim_whitespace=True, names=['rate','error'], index_col=0)"
   ]
  },
  {
   "cell_type": "markdown",
   "metadata": {},
   "source": [
    "### 5cm"
   ]
  },
  {
   "cell_type": "code",
   "execution_count": 227,
   "metadata": {
    "collapsed": true
   },
   "outputs": [],
   "source": [
    "pars_absorb_alu_5cm = gauss_1.guess(alu_5cm.rate-untergrund.rate,x=x)\n",
    "# controll the center\n",
    "pars_absorb_alu_5cm['gauss_1_center'].set(1925, min=1900, max=2000)\n",
    "# controll the amplitude\n",
    "pars_absorb_alu_5cm['gauss_1_amplitude'].set(440*18, min=0)#, max=440*2.5)\n",
    "# controll sigma\n",
    "pars_absorb_alu_5cm['gauss_1_sigma'].set(20, min=1, max=68)"
   ]
  },
  {
   "cell_type": "code",
   "execution_count": 231,
   "metadata": {
    "collapsed": true
   },
   "outputs": [],
   "source": [
    "out_absorb_alu_5cm = gauss_1.fit(alu_5cm.rate[1890:1993]-untergrund.rate[1890:1993],params=pars_absorb_alu_5cm,x=x[1890:1993],weights=1/alu_5cm.error[1890:1993])"
   ]
  },
  {
   "cell_type": "code",
   "execution_count": 232,
   "metadata": {
    "collapsed": true
   },
   "outputs": [],
   "source": [
    "plt.errorbar(x,alu_5cm.rate-untergrund.rate, yerr=alu_5cm.error, fmt=' .g')\n",
    "plt.plot(x,out_absorb_alu_5cm.eval(x=x), '-r')\n",
    "plt.show()"
   ]
  },
  {
   "cell_type": "code",
   "execution_count": 233,
   "metadata": {
    "collapsed": false
   },
   "outputs": [
    {
     "name": "stdout",
     "output_type": "stream",
     "text": [
      "[[Model]]\n",
      "    Model(gaussian, prefix='gauss_1_')\n",
      "[[Fit Statistics]]\n",
      "    # function evals   = 36\n",
      "    # data points      = 103\n",
      "    # variables        = 3\n",
      "    chi-square         = 218.822\n",
      "    reduced chi-square = 2.188\n",
      "[[Variables]]\n",
      "    gauss_1_sigma:       21.7995921 +/- 0.086371 (0.40%) (init= 20)\n",
      "    gauss_1_fwhm:        51.3341155 +/- 0.203390 (0.40%)  == '2.3548200*gauss_1_sigma'\n",
      "    gauss_1_amplitude:   1.7524e+05 +/- 705.9591 (0.40%) (init= 7920)\n",
      "    gauss_1_center:      1919.58544 +/- 0.113182 (0.01%) (init= 1925)\n",
      "[[Correlations]] (unreported correlations are <  0.100)\n",
      "    C(gauss_1_sigma, gauss_1_center)  = -0.554 \n",
      "    C(gauss_1_sigma, gauss_1_amplitude)  =  0.355 \n",
      "    C(gauss_1_amplitude, gauss_1_center)  = -0.344 \n",
      "\n"
     ]
    }
   ],
   "source": [
    "print(out_absorb_alu_5cm.fit_report())"
   ]
  },
  {
   "cell_type": "markdown",
   "metadata": {},
   "source": [
    "### 4cm"
   ]
  },
  {
   "cell_type": "code",
   "execution_count": 234,
   "metadata": {
    "collapsed": true
   },
   "outputs": [],
   "source": [
    "pars_absorb_alu_4cm = gauss_1.guess(alu_4cm.rate-untergrund.rate,x=x)\n",
    "# controll the center\n",
    "pars_absorb_alu_4cm['gauss_1_center'].set(1925, min=1900, max=2000)\n",
    "# controll the amplitude\n",
    "pars_absorb_alu_4cm['gauss_1_amplitude'].set(440*18, min=0)#, max=440*2.5)\n",
    "# controll sigma\n",
    "pars_absorb_alu_4cm['gauss_1_sigma'].set(20, min=1, max=68)"
   ]
  },
  {
   "cell_type": "code",
   "execution_count": 235,
   "metadata": {
    "collapsed": true
   },
   "outputs": [],
   "source": [
    "out_absorb_alu_4cm = gauss_1.fit(alu_4cm.rate[1890:1993]-untergrund.rate[1890:1993],params=pars_absorb_alu_4cm,x=x[1890:1993],weights=1/alu_4cm.error[1890:1993])"
   ]
  },
  {
   "cell_type": "code",
   "execution_count": 236,
   "metadata": {
    "collapsed": true
   },
   "outputs": [],
   "source": [
    "plt.errorbar(x,alu_4cm.rate-untergrund.rate, yerr=alu_4cm.error, fmt=' .g')\n",
    "plt.plot(x,out_absorb_alu_4cm.eval(x=x), '-r')\n",
    "plt.show()"
   ]
  },
  {
   "cell_type": "code",
   "execution_count": 238,
   "metadata": {
    "collapsed": false
   },
   "outputs": [
    {
     "name": "stdout",
     "output_type": "stream",
     "text": [
      "[[Model]]\n",
      "    Model(gaussian, prefix='gauss_1_')\n",
      "[[Fit Statistics]]\n",
      "    # function evals   = 36\n",
      "    # data points      = 103\n",
      "    # variables        = 3\n",
      "    chi-square         = 175.467\n",
      "    reduced chi-square = 1.755\n",
      "[[Variables]]\n",
      "    gauss_1_sigma:       21.7704695 +/- 0.070450 (0.32%) (init= 20)\n",
      "    gauss_1_fwhm:        51.2655371 +/- 0.165897 (0.32%)  == '2.3548200*gauss_1_sigma'\n",
      "    gauss_1_amplitude:   2.1317e+05 +/- 696.5389 (0.33%) (init= 7920)\n",
      "    gauss_1_center:      1919.59185 +/- 0.091328 (0.00%) (init= 1925)\n",
      "[[Correlations]] (unreported correlations are <  0.100)\n",
      "    C(gauss_1_sigma, gauss_1_center)  = -0.549 \n",
      "    C(gauss_1_sigma, gauss_1_amplitude)  =  0.354 \n",
      "    C(gauss_1_amplitude, gauss_1_center)  = -0.342 \n",
      "\n"
     ]
    }
   ],
   "source": [
    "print(out_absorb_alu_4cm.fit_report())"
   ]
  },
  {
   "cell_type": "markdown",
   "metadata": {},
   "source": [
    "### 3cm"
   ]
  },
  {
   "cell_type": "code",
   "execution_count": 239,
   "metadata": {
    "collapsed": true
   },
   "outputs": [],
   "source": [
    "pars_absorb_alu_3cm = gauss_1.guess(alu_3cm.rate-untergrund.rate,x=x)\n",
    "# controll the center\n",
    "pars_absorb_alu_3cm['gauss_1_center'].set(1925, min=1900, max=2000)\n",
    "# controll the amplitude\n",
    "pars_absorb_alu_3cm['gauss_1_amplitude'].set(440*18, min=0)#, max=440*2.5)\n",
    "# controll sigma\n",
    "pars_absorb_alu_3cm['gauss_1_sigma'].set(20, min=1, max=68)"
   ]
  },
  {
   "cell_type": "code",
   "execution_count": 240,
   "metadata": {
    "collapsed": true
   },
   "outputs": [],
   "source": [
    "out_absorb_alu_3cm = gauss_1.fit(alu_3cm.rate[1890:1993]-untergrund.rate[1890:1993],params=pars_absorb_alu_3cm,x=x[1890:1993],weights=1/alu_3cm.error[1890:1993])"
   ]
  },
  {
   "cell_type": "code",
   "execution_count": 241,
   "metadata": {
    "collapsed": true
   },
   "outputs": [],
   "source": [
    "plt.errorbar(x,alu_3cm.rate-untergrund.rate, yerr=alu_3cm.error, fmt=' .g')\n",
    "plt.plot(x,out_absorb_alu_3cm.eval(x=x), '-r')\n",
    "plt.show()"
   ]
  },
  {
   "cell_type": "code",
   "execution_count": 243,
   "metadata": {
    "collapsed": false
   },
   "outputs": [
    {
     "name": "stdout",
     "output_type": "stream",
     "text": [
      "[[Model]]\n",
      "    Model(gaussian, prefix='gauss_1_')\n",
      "[[Fit Statistics]]\n",
      "    # function evals   = 36\n",
      "    # data points      = 103\n",
      "    # variables        = 3\n",
      "    chi-square         = 193.138\n",
      "    reduced chi-square = 1.931\n",
      "[[Variables]]\n",
      "    gauss_1_sigma:       21.9524196 +/- 0.067588 (0.31%) (init= 20)\n",
      "    gauss_1_fwhm:        51.6939967 +/- 0.159159 (0.31%)  == '2.3548200*gauss_1_sigma'\n",
      "    gauss_1_amplitude:   2.6216e+05 +/- 815.6255 (0.31%) (init= 7920)\n",
      "    gauss_1_center:      1919.43538 +/- 0.088172 (0.00%) (init= 1925)\n",
      "[[Correlations]] (unreported correlations are <  0.100)\n",
      "    C(gauss_1_sigma, gauss_1_center)  = -0.558 \n",
      "    C(gauss_1_sigma, gauss_1_amplitude)  =  0.363 \n",
      "    C(gauss_1_amplitude, gauss_1_center)  = -0.354 \n",
      "\n"
     ]
    }
   ],
   "source": [
    "print(out_absorb_alu_3cm.fit_report())"
   ]
  },
  {
   "cell_type": "markdown",
   "metadata": {},
   "source": [
    "### 2cm"
   ]
  },
  {
   "cell_type": "code",
   "execution_count": 244,
   "metadata": {
    "collapsed": true
   },
   "outputs": [],
   "source": [
    "pars_absorb_alu_2cm = gauss_1.guess(alu_2cm.rate-untergrund.rate,x=x)\n",
    "# controll the center\n",
    "pars_absorb_alu_2cm['gauss_1_center'].set(1925, min=1900, max=2000)\n",
    "# controll the amplitude\n",
    "pars_absorb_alu_2cm['gauss_1_amplitude'].set(440*18, min=0)#, max=440*2.5)\n",
    "# controll sigma\n",
    "pars_absorb_alu_2cm['gauss_1_sigma'].set(20, min=1, max=68)"
   ]
  },
  {
   "cell_type": "code",
   "execution_count": 245,
   "metadata": {
    "collapsed": true
   },
   "outputs": [],
   "source": [
    "out_absorb_alu_2cm = gauss_1.fit(alu_2cm.rate[1890:1993]-untergrund.rate[1890:1993],params=pars_absorb_alu_2cm,x=x[1890:1993],weights=1/alu_2cm.error[1890:1993])"
   ]
  },
  {
   "cell_type": "code",
   "execution_count": 246,
   "metadata": {
    "collapsed": true
   },
   "outputs": [],
   "source": [
    "plt.errorbar(x,alu_2cm.rate-untergrund.rate, yerr=alu_2cm.error, fmt=' .g')\n",
    "plt.plot(x,out_absorb_alu_2cm.eval(x=x), '-r')\n",
    "plt.show()"
   ]
  },
  {
   "cell_type": "code",
   "execution_count": 247,
   "metadata": {
    "collapsed": false
   },
   "outputs": [
    {
     "name": "stdout",
     "output_type": "stream",
     "text": [
      "[[Model]]\n",
      "    Model(gaussian, prefix='gauss_1_')\n",
      "[[Fit Statistics]]\n",
      "    # function evals   = 36\n",
      "    # data points      = 103\n",
      "    # variables        = 3\n",
      "    chi-square         = 231.897\n",
      "    reduced chi-square = 2.319\n",
      "[[Variables]]\n",
      "    gauss_1_sigma:       22.0028371 +/- 0.067599 (0.31%) (init= 20)\n",
      "    gauss_1_fwhm:        51.8127210 +/- 0.159185 (0.31%)  == '2.3548200*gauss_1_sigma'\n",
      "    gauss_1_amplitude:   3.1760e+05 +/- 982.1848 (0.31%) (init= 7920)\n",
      "    gauss_1_center:      1919.61995 +/- 0.087786 (0.00%) (init= 1925)\n",
      "[[Correlations]] (unreported correlations are <  0.100)\n",
      "    C(gauss_1_sigma, gauss_1_center)  = -0.558 \n",
      "    C(gauss_1_sigma, gauss_1_amplitude)  =  0.362 \n",
      "    C(gauss_1_amplitude, gauss_1_center)  = -0.351 \n",
      "\n"
     ]
    }
   ],
   "source": [
    "print(out_absorb_alu_2cm.fit_report())"
   ]
  },
  {
   "cell_type": "markdown",
   "metadata": {},
   "source": [
    "### 1cm"
   ]
  },
  {
   "cell_type": "code",
   "execution_count": 248,
   "metadata": {
    "collapsed": true
   },
   "outputs": [],
   "source": [
    "pars_absorb_alu_1cm = gauss_1.guess(alu_1cm.rate-untergrund.rate,x=x)\n",
    "# controll the center\n",
    "pars_absorb_alu_1cm['gauss_1_center'].set(1925, min=1900, max=2000)\n",
    "# controll the amplitude\n",
    "pars_absorb_alu_1cm['gauss_1_amplitude'].set(440*18, min=0)#, max=440*2.5)\n",
    "# controll sigma\n",
    "pars_absorb_alu_1cm['gauss_1_sigma'].set(20, min=1, max=68)"
   ]
  },
  {
   "cell_type": "code",
   "execution_count": 273,
   "metadata": {
    "collapsed": false
   },
   "outputs": [],
   "source": [
    "out_absorb_alu_1cm = gauss_1.fit(alu_1cm.rate[1850:1950]-untergrund.rate[1850:1950],params=pars_absorb_alu_1cm,x=x[1850:1950],weights=1/alu_1cm.error[1850:1950])"
   ]
  },
  {
   "cell_type": "code",
   "execution_count": 274,
   "metadata": {
    "collapsed": true
   },
   "outputs": [],
   "source": [
    "plt.errorbar(x,alu_1cm.rate-untergrund.rate, yerr=alu_1cm.error, fmt=' .g')\n",
    "plt.plot(x,out_absorb_alu_1cm.eval(x=x), '-r')\n",
    "plt.show()"
   ]
  },
  {
   "cell_type": "code",
   "execution_count": 271,
   "metadata": {
    "collapsed": false
   },
   "outputs": [
    {
     "name": "stdout",
     "output_type": "stream",
     "text": [
      "[[Model]]\n",
      "    Model(gaussian, prefix='gauss_1_')\n",
      "[[Fit Statistics]]\n",
      "    # function evals   = 45\n",
      "    # data points      = 60\n",
      "    # variables        = 3\n",
      "    chi-square         = 96.729\n",
      "    reduced chi-square = 1.697\n",
      "[[Variables]]\n",
      "    gauss_1_sigma:       22.9942337 +/- 0.115727 (0.50%) (init= 20)\n",
      "    gauss_1_fwhm:        54.1472814 +/- 0.272517 (0.50%)  == '2.3548200*gauss_1_sigma'\n",
      "    gauss_1_amplitude:   3.9411e+05 +/- 1.42e+03 (0.36%) (init= 7920)\n",
      "    gauss_1_center:      1919.75548 +/- 0.079195 (0.00%) (init= 1925)\n",
      "[[Correlations]] (unreported correlations are <  0.100)\n",
      "    C(gauss_1_sigma, gauss_1_amplitude)  =  0.768 \n",
      "\n"
     ]
    }
   ],
   "source": [
    "print(out_absorb_alu_1cm.fit_report())"
   ]
  },
  {
   "cell_type": "markdown",
   "metadata": {},
   "source": [
    "#### Exponentieller Zusammenhang Alu"
   ]
  },
  {
   "cell_type": "code",
   "execution_count": 370,
   "metadata": {
    "collapsed": true
   },
   "outputs": [],
   "source": [
    "alu_dicke = np.array([7.6025,6.585,5.57,4.55,3.545])\n",
    "alu_rate = np.array([1.7524e+05,2.1317e+05,2.6216e+05,3.1760e+05,3.9411e+05])\n",
    "alu_dicke_err = np.array([0.002,0.002,0.002,0.001,0.001])\n",
    "alu_rate_err = np.array([705,696,815,982,1.42e+03])"
   ]
  },
  {
   "cell_type": "code",
   "execution_count": 379,
   "metadata": {
    "collapsed": true
   },
   "outputs": [],
   "source": [
    "mod_exp = ExponentialModel()"
   ]
  },
  {
   "cell_type": "code",
   "execution_count": 380,
   "metadata": {
    "collapsed": true
   },
   "outputs": [],
   "source": [
    "pars_exp = mod_exp.guess(alu_rate,x=alu_dicke)"
   ]
  },
  {
   "cell_type": "code",
   "execution_count": 381,
   "metadata": {
    "collapsed": false
   },
   "outputs": [],
   "source": [
    "out_exp = mod_exp.fit(alu_rate,params=pars_exp,x=alu_dicke,weights=1/(alu_rate_err*2))"
   ]
  },
  {
   "cell_type": "code",
   "execution_count": 382,
   "metadata": {
    "collapsed": false
   },
   "outputs": [],
   "source": [
    "plt.errorbar(alu_dicke,alu_rate,yerr=alu_rate_err,xerr=alu_dicke_err,fmt=' .')\n",
    "plt.plot(np.arange(3,8,0.01),out_exp.eval(x=np.arange(3,8,0.01)))\n",
    "plt.show()"
   ]
  },
  {
   "cell_type": "code",
   "execution_count": 383,
   "metadata": {
    "collapsed": false
   },
   "outputs": [
    {
     "name": "stdout",
     "output_type": "stream",
     "text": [
      "[[Model]]\n",
      "    Model(exponential)\n",
      "[[Fit Statistics]]\n",
      "    # function evals   = 9\n",
      "    # data points      = 5\n",
      "    # variables        = 2\n",
      "    chi-square         = 3.516\n",
      "    reduced chi-square = 1.172\n",
      "[[Variables]]\n",
      "    decay:       5.02870602 +/- 0.062474 (1.24%) (init= 5.02584)\n",
      "    amplitude:   7.9150e+05 +/- 1.10e+04 (1.39%) (init= 792582.7)\n",
      "[[Correlations]] (unreported correlations are <  0.100)\n",
      "    C(decay, amplitude)          = -0.972 \n",
      "\n"
     ]
    }
   ],
   "source": [
    "print(out_exp.fit_report())"
   ]
  },
  {
   "cell_type": "code",
   "execution_count": null,
   "metadata": {
    "collapsed": true
   },
   "outputs": [],
   "source": []
  }
 ],
 "metadata": {
  "kernelspec": {
   "display_name": "Python 3",
   "language": "python",
   "name": "python3"
  },
  "language_info": {
   "codemirror_mode": {
    "name": "ipython",
    "version": 3
   },
   "file_extension": ".py",
   "mimetype": "text/x-python",
   "name": "python",
   "nbconvert_exporter": "python",
   "pygments_lexer": "ipython3",
   "version": "3.5.1"
  }
 },
 "nbformat": 4,
 "nbformat_minor": 0
}
