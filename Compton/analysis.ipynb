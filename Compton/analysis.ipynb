{
 "cells": [
  {
   "cell_type": "code",
   "execution_count": 1,
   "metadata": {
    "collapsed": false
   },
   "outputs": [],
   "source": [
    "import matplotlib.pyplot as plt\n",
    "import numpy as np\n",
    "import pandas as pd\n",
    "from lmfit.models import GaussianModel, LinearModel, ExponentialModel, Model"
   ]
  },
  {
   "cell_type": "code",
   "execution_count": 2,
   "metadata": {
    "collapsed": true
   },
   "outputs": [],
   "source": [
    "#%matplotlib notebook"
   ]
  },
  {
   "cell_type": "markdown",
   "metadata": {
    "collapsed": true
   },
   "source": [
    "# Kalibrierung"
   ]
  },
  {
   "cell_type": "code",
   "execution_count": 3,
   "metadata": {
    "collapsed": false
   },
   "outputs": [],
   "source": [
    "untergrund = pd.read_csv(\"Messdaten/kalibrierung/kallibrierung_untergrund.csv\", header=14, delim_whitespace=True, names=['rate','error'], index_col=0)\n",
    "am = pd.read_csv(\"Messdaten/kalibrierung/kallibrierung_Am.csv\", header=14, delim_whitespace=True, names=['rate','error'], index_col=0)\n",
    "ba = pd.read_csv(\"Messdaten/kalibrierung/kallibrierung_Ba.csv\", header=14, delim_whitespace=True, names=['rate','error'], index_col=0)\n",
    "cs = pd.read_csv(\"Messdaten/kalibrierung/kallibrierung_Cs.csv\", header=14, delim_whitespace=True, names=['rate','error'], index_col=0)"
   ]
  },
  {
   "cell_type": "code",
   "execution_count": 4,
   "metadata": {
    "collapsed": true
   },
   "outputs": [],
   "source": [
    "x = np.arange(0,2048)"
   ]
  },
  {
   "cell_type": "code",
   "execution_count": 5,
   "metadata": {
    "collapsed": false
   },
   "outputs": [],
   "source": [
    "plt.errorbar(x,untergrund.rate,yerr=untergrund.error, fmt=' .g')\n",
    "plt.xlim([0,2050])\n",
    "plt.xlabel(\"Kanal\",fontsize=24)\n",
    "plt.ylabel(\"Counts\",fontsize=24)\n",
    "plt.xticks(fontsize=18)\n",
    "plt.yticks(fontsize=18)\n",
    "plt.legend(loc='best',fontsize=24)\n",
    "plt.show()"
   ]
  },
  {
   "cell_type": "code",
   "execution_count": 6,
   "metadata": {
    "collapsed": false
   },
   "outputs": [],
   "source": [
    "plt.plot(am.rate-untergrund.rate, ' .', label=\"Messdaten\")\n",
    "plt.legend(loc=\"best\")\n",
    "plt.show()"
   ]
  },
  {
   "cell_type": "code",
   "execution_count": 7,
   "metadata": {
    "collapsed": true
   },
   "outputs": [],
   "source": [
    "plt.plot(ba.rate-untergrund.rate, ' .')\n",
    "plt.show()"
   ]
  },
  {
   "cell_type": "code",
   "execution_count": 8,
   "metadata": {
    "collapsed": true
   },
   "outputs": [],
   "source": [
    "plt.plot(cs.rate-untergrund.rate, ' .')\n",
    "plt.show()"
   ]
  },
  {
   "cell_type": "markdown",
   "metadata": {},
   "source": [
    "## Fit der Am Daten"
   ]
  },
  {
   "cell_type": "code",
   "execution_count": 9,
   "metadata": {
    "collapsed": true
   },
   "outputs": [],
   "source": [
    "x = np.arange(0,2048)"
   ]
  },
  {
   "cell_type": "code",
   "execution_count": 10,
   "metadata": {
    "collapsed": true
   },
   "outputs": [],
   "source": [
    "gauss_0 = GaussianModel(prefix=\"gauss_0_\")\n",
    "gauss_1 = GaussianModel(prefix=\"gauss_1_\")\n",
    "gauss_2 = GaussianModel(prefix=\"gauss_2_\")\n",
    "gauss_3 = GaussianModel(prefix=\"gauss_3_\")\n",
    "gauss_4 = GaussianModel(prefix=\"gauss_4_\")\n",
    "gauss_5 = GaussianModel(prefix=\"gauss_5_\")\n",
    "gauss_6 = GaussianModel(prefix=\"gauss_6_\")"
   ]
  },
  {
   "cell_type": "code",
   "execution_count": 11,
   "metadata": {
    "collapsed": false
   },
   "outputs": [],
   "source": [
    "pars_am_1 = gauss_1.guess(am.rate,x=x)\n",
    "pars_am_1.update(gauss_2.make_params())\n",
    "pars_am_1.update(gauss_3.make_params())\n",
    "pars_am_1.update(gauss_4.make_params())\n",
    "pars_am_1.update(gauss_0.make_params())\n",
    "pars_am_2 = gauss_5.guess(am.rate,x=x)\n",
    "pars_am_2.update(gauss_6.make_params())"
   ]
  },
  {
   "cell_type": "code",
   "execution_count": 12,
   "metadata": {
    "collapsed": false
   },
   "outputs": [],
   "source": [
    "# controll the center\n",
    "pars_am_1['gauss_0_center'].set(50, min=48, max=52)\n",
    "pars_am_1['gauss_1_center'].set(65, min=63, max=68)\n",
    "pars_am_1['gauss_2_center'].set(77, min=74, max=80)\n",
    "pars_am_1['gauss_3_center'].set(98, min=95, max=101)\n",
    "pars_am_1['gauss_4_center'].set(111, min=108, max=114)\n",
    "pars_am_2['gauss_5_center'].set(181, min=178, max=184)\n",
    "pars_am_2['gauss_6_center'].set(213, min=207, max=219)\n",
    "# controll the amplitude\n",
    "pars_am_1['gauss_0_amplitude'].set(130*13)#, min=48, max=52)\n",
    "pars_am_1['gauss_1_amplitude'].set(440*13)#, min=430*2.5, max=440*2.5)\n",
    "pars_am_1['gauss_2_amplitude'].set(300*13)#, min=290*2.5, max=310*2.5)\n",
    "pars_am_1['gauss_3_amplitude'].set(310*13)#, min=300*2.5, max=320*2.5)\n",
    "pars_am_1['gauss_4_amplitude'].set(380*13)#, min=370*2.5, max=390*2.5)\n",
    "pars_am_2['gauss_5_amplitude'].set(500*13)#, min=490*2.5, max=510*2.5)\n",
    "pars_am_2['gauss_6_amplitude'].set(2500*13)#, min=2400*2.5, max=2600*2.5)\n",
    "# controll sigma\n",
    "pars_am_1['gauss_0_sigma'].set(1, min=0, max=5)\n",
    "pars_am_1['gauss_1_sigma'].set(5, min=1, max=68)\n",
    "pars_am_1['gauss_2_sigma'].set(5, min=1, max=80)\n",
    "pars_am_1['gauss_3_sigma'].set(5, min=1, max=101)\n",
    "pars_am_1['gauss_4_sigma'].set(5, min=1, max=114)\n",
    "pars_am_2['gauss_5_sigma'].set(5, min=1, max=184)\n",
    "pars_am_2['gauss_6_sigma'].set(5, min=1, max=219)"
   ]
  },
  {
   "cell_type": "code",
   "execution_count": 13,
   "metadata": {
    "collapsed": true
   },
   "outputs": [],
   "source": [
    "mod_gauss_am_1 = gauss_1 + gauss_2 + gauss_3 + gauss_4 + gauss_0"
   ]
  },
  {
   "cell_type": "code",
   "execution_count": 14,
   "metadata": {
    "collapsed": false
   },
   "outputs": [],
   "source": [
    "out_gauss_am_1 = mod_gauss_am_1.fit(am.rate[40:130]-untergrund.rate[40:130],x=x[40:130],params=pars_am_1,weights=1/(am.error[40:130]))"
   ]
  },
  {
   "cell_type": "code",
   "execution_count": 15,
   "metadata": {
    "collapsed": true
   },
   "outputs": [],
   "source": [
    "plt.errorbar(x,am.rate-untergrund.rate, yerr=am.error, fmt=' .g', label=\"Messdaten\")\n",
    "plt.plot(x,out_gauss_am_1.eval(x=np.arange(0,2048)), '-r', label=\"Fit\")\n",
    "plt.xlabel(\"Kanal\",fontsize=24)\n",
    "plt.ylabel(\"Counts\",fontsize=24)\n",
    "plt.xticks(fontsize=18)\n",
    "plt.yticks(fontsize=18)\n",
    "plt.legend(loc='best',fontsize=24)\n",
    "plt.show()"
   ]
  },
  {
   "cell_type": "code",
   "execution_count": 16,
   "metadata": {
    "collapsed": false,
    "scrolled": true
   },
   "outputs": [
    {
     "name": "stdout",
     "output_type": "stream",
     "text": [
      "[[Model]]\n",
      "    ((((Model(gaussian, prefix='gauss_1_') + Model(gaussian, prefix='gauss_2_')) + Model(gaussian, prefix='gauss_3_')) + Model(gaussian, prefix='gauss_4_')) + Model(gaussian, prefix='gauss_0_'))\n",
      "[[Fit Statistics]]\n",
      "    # function evals   = 217\n",
      "    # data points      = 90\n",
      "    # variables        = 15\n",
      "    chi-square         = 86.581\n",
      "    reduced chi-square = 1.154\n",
      "[[Variables]]\n",
      "    gauss_1_sigma:       4.84841741 +/- 0.444386 (9.17%) (init= 5)\n",
      "    gauss_1_fwhm:        11.4171503 +/- 1.046449 (9.17%)  == '2.3548200*gauss_1_sigma'\n",
      "    gauss_1_amplitude:   4871.27197 +/- 649.3118 (13.33%) (init= 5720)\n",
      "    gauss_1_center:      64.5491642 +/- 0.452546 (0.70%) (init= 65)\n",
      "    gauss_2_sigma:       5.50873396 +/- 0.729345 (13.24%) (init= 5)\n",
      "    gauss_2_fwhm:        12.9720769 +/- 1.717476 (13.24%)  == '2.3548200*gauss_2_sigma'\n",
      "    gauss_2_amplitude:   3939.85268 +/- 652.0434 (16.55%) (init= 3900)\n",
      "    gauss_2_center:      77.2652558 +/- 0.717123 (0.93%) (init= 77)\n",
      "    gauss_3_sigma:       5.90009860 +/- 0.512098 (8.68%) (init= 5)\n",
      "    gauss_3_fwhm:        13.8936701 +/- 1.205899 (8.68%)  == '2.3548200*gauss_3_sigma'\n",
      "    gauss_3_amplitude:   4451.26326 +/- 427.6356 (9.61%) (init= 4030)\n",
      "    gauss_3_center:      96.1595111 +/- 0.374227 (0.39%) (init= 98)\n",
      "    gauss_4_sigma:       6.34840458 +/- 0.241477 (3.80%) (init= 5)\n",
      "    gauss_4_fwhm:        14.9493500 +/- 0.568635 (3.80%)  == '2.3548200*gauss_4_sigma'\n",
      "    gauss_4_amplitude:   5577.08367 +/- 315.1630 (5.65%) (init= 4940)\n",
      "    gauss_4_center:      112.029958 +/- 0.428068 (0.38%) (init= 111)\n",
      "    gauss_0_sigma:       4.99999998 +/- 0.445134 (8.90%) (init= 1)\n",
      "    gauss_0_fwhm:        11.7740999 +/- 1.048212 (8.90%)  == '2.3548200*gauss_0_sigma'\n",
      "    gauss_0_amplitude:   1422.88033 +/- 173.2225 (12.17%) (init= 1690)\n",
      "    gauss_0_center:      50.4548275 +/- 0.700295 (1.39%) (init= 50)\n",
      "[[Correlations]] (unreported correlations are <  0.100)\n",
      "    C(gauss_2_sigma, gauss_2_amplitude)  =  0.972 \n",
      "    C(gauss_1_sigma, gauss_1_amplitude)  =  0.956 \n",
      "    C(gauss_3_sigma, gauss_3_amplitude)  =  0.955 \n",
      "    C(gauss_1_amplitude, gauss_2_amplitude)  = -0.949 \n",
      "    C(gauss_0_amplitude, gauss_0_center)  =  0.936 \n",
      "    C(gauss_4_amplitude, gauss_4_center)  = -0.936 \n",
      "    C(gauss_1_amplitude, gauss_2_center)  =  0.935 \n",
      "    C(gauss_3_amplitude, gauss_4_amplitude)  = -0.914 \n",
      "    C(gauss_1_center, gauss_2_amplitude)  = -0.911 \n",
      "    C(gauss_3_amplitude, gauss_4_center)  =  0.907 \n",
      "    C(gauss_1_amplitude, gauss_2_sigma)  = -0.897 \n",
      "    C(gauss_4_sigma, gauss_4_center)  = -0.894 \n",
      "    C(gauss_1_sigma, gauss_2_center)  =  0.894 \n",
      "    C(gauss_0_sigma, gauss_0_amplitude)  = -0.892 \n",
      "    C(gauss_2_amplitude, gauss_2_center)  = -0.891 \n",
      "    C(gauss_1_center, gauss_2_sigma)  = -0.890 \n",
      "    C(gauss_0_sigma, gauss_0_center)  = -0.880 \n",
      "    C(gauss_1_center, gauss_2_center)  =  0.879 \n",
      "    C(gauss_4_sigma, gauss_4_amplitude)  =  0.879 \n",
      "    C(gauss_1_sigma, gauss_2_amplitude)  = -0.870 \n",
      "    C(gauss_3_sigma, gauss_4_amplitude)  = -0.865 \n",
      "    C(gauss_3_sigma, gauss_4_center)  =  0.842 \n",
      "    C(gauss_1_amplitude, gauss_1_center)  =  0.840 \n",
      "    C(gauss_1_sigma, gauss_0_amplitude)  = -0.833 \n",
      "    C(gauss_2_sigma, gauss_2_center)  = -0.829 \n",
      "    C(gauss_3_amplitude, gauss_4_sigma)  = -0.820 \n",
      "    C(gauss_1_sigma, gauss_0_center)  = -0.813 \n",
      "    C(gauss_1_sigma, gauss_2_sigma)  = -0.784 \n",
      "    C(gauss_3_center, gauss_4_center)  =  0.769 \n",
      "    C(gauss_1_amplitude, gauss_0_amplitude)  = -0.757 \n",
      "    C(gauss_3_center, gauss_4_sigma)  = -0.748 \n",
      "    C(gauss_3_center, gauss_4_amplitude)  = -0.747 \n",
      "    C(gauss_1_sigma, gauss_1_center)  =  0.742 \n",
      "    C(gauss_1_amplitude, gauss_0_center)  = -0.739 \n",
      "    C(gauss_3_sigma, gauss_4_sigma)  = -0.725 \n",
      "    C(gauss_1_sigma, gauss_0_sigma)  =  0.689 \n",
      "    C(gauss_2_sigma, gauss_3_sigma)  = -0.685 \n",
      "    C(gauss_2_sigma, gauss_3_amplitude)  = -0.661 \n",
      "    C(gauss_2_amplitude, gauss_3_sigma)  = -0.643 \n",
      "    C(gauss_2_center, gauss_0_amplitude)  = -0.631 \n",
      "    C(gauss_1_amplitude, gauss_0_sigma)  =  0.629 \n",
      "    C(gauss_2_amplitude, gauss_3_amplitude)  = -0.621 \n",
      "    C(gauss_2_center, gauss_0_center)  = -0.608 \n",
      "    C(gauss_2_amplitude, gauss_0_amplitude)  =  0.595 \n",
      "    C(gauss_3_amplitude, gauss_3_center)  =  0.579 \n",
      "    C(gauss_2_amplitude, gauss_0_center)  =  0.573 \n",
      "    C(gauss_1_center, gauss_3_sigma)  =  0.511 \n",
      "    C(gauss_2_sigma, gauss_0_amplitude)  =  0.509 \n",
      "    C(gauss_1_center, gauss_3_amplitude)  =  0.498 \n",
      "    C(gauss_2_center, gauss_0_sigma)  =  0.495 \n",
      "    C(gauss_1_amplitude, gauss_3_sigma)  =  0.495 \n",
      "    C(gauss_2_sigma, gauss_0_center)  =  0.488 \n",
      "    C(gauss_3_sigma, gauss_3_center)  =  0.487 \n",
      "    C(gauss_1_amplitude, gauss_3_amplitude)  =  0.483 \n",
      "    C(gauss_2_sigma, gauss_4_amplitude)  =  0.465 \n",
      "    C(gauss_2_amplitude, gauss_0_sigma)  = -0.464 \n",
      "    C(gauss_2_sigma, gauss_4_center)  = -0.439 \n",
      "    C(gauss_2_amplitude, gauss_4_amplitude)  =  0.438 \n",
      "    C(gauss_2_amplitude, gauss_4_center)  = -0.414 \n",
      "    C(gauss_1_sigma, gauss_3_sigma)  =  0.395 \n",
      "    C(gauss_2_sigma, gauss_0_sigma)  = -0.392 \n",
      "    C(gauss_1_sigma, gauss_3_amplitude)  =  0.388 \n",
      "    C(gauss_2_sigma, gauss_4_sigma)  =  0.355 \n",
      "    C(gauss_1_center, gauss_0_amplitude)  = -0.349 \n",
      "    C(gauss_1_center, gauss_4_amplitude)  = -0.336 \n",
      "    C(gauss_2_amplitude, gauss_4_sigma)  =  0.335 \n",
      "    C(gauss_1_amplitude, gauss_4_amplitude)  = -0.324 \n",
      "    C(gauss_2_center, gauss_3_amplitude)  =  0.323 \n",
      "    C(gauss_2_center, gauss_3_sigma)  =  0.321 \n",
      "    C(gauss_1_center, gauss_0_center)  = -0.320 \n",
      "    C(gauss_1_center, gauss_4_center)  =  0.316 \n",
      "    C(gauss_1_amplitude, gauss_4_center)  =  0.305 \n",
      "    C(gauss_1_sigma, gauss_4_amplitude)  = -0.255 \n",
      "    C(gauss_1_center, gauss_4_sigma)  = -0.254 \n",
      "    C(gauss_1_amplitude, gauss_4_sigma)  = -0.244 \n",
      "    C(gauss_1_sigma, gauss_4_center)  =  0.240 \n",
      "    C(gauss_3_sigma, gauss_0_amplitude)  = -0.235 \n",
      "    C(gauss_3_amplitude, gauss_0_amplitude)  = -0.232 \n",
      "    C(gauss_3_sigma, gauss_0_center)  = -0.224 \n",
      "    C(gauss_3_amplitude, gauss_0_center)  = -0.222 \n",
      "    C(gauss_1_center, gauss_0_sigma)  =  0.212 \n",
      "    C(gauss_1_sigma, gauss_4_sigma)  = -0.192 \n",
      "    C(gauss_2_center, gauss_4_amplitude)  = -0.187 \n",
      "    C(gauss_3_sigma, gauss_0_sigma)  =  0.177 \n",
      "    C(gauss_3_amplitude, gauss_0_sigma)  =  0.175 \n",
      "    C(gauss_2_center, gauss_4_center)  =  0.174 \n",
      "    C(gauss_4_amplitude, gauss_0_amplitude)  =  0.150 \n",
      "    C(gauss_4_amplitude, gauss_0_center)  =  0.143 \n",
      "    C(gauss_4_center, gauss_0_amplitude)  = -0.141 \n",
      "    C(gauss_2_center, gauss_4_sigma)  = -0.135 \n",
      "    C(gauss_4_center, gauss_0_center)  = -0.134 \n",
      "    C(gauss_2_center, gauss_3_center)  = -0.126 \n",
      "    C(gauss_4_amplitude, gauss_0_sigma)  = -0.112 \n",
      "    C(gauss_4_sigma, gauss_0_amplitude)  =  0.112 \n",
      "    C(gauss_4_sigma, gauss_0_center)  =  0.107 \n",
      "    C(gauss_4_center, gauss_0_sigma)  =  0.106 \n",
      "\n"
     ]
    }
   ],
   "source": [
    "print(out_gauss_am_1.fit_report())"
   ]
  },
  {
   "cell_type": "code",
   "execution_count": 17,
   "metadata": {
    "collapsed": true
   },
   "outputs": [],
   "source": [
    "mod_gauss_am_2 = gauss_5 + gauss_6"
   ]
  },
  {
   "cell_type": "code",
   "execution_count": 18,
   "metadata": {
    "collapsed": false
   },
   "outputs": [],
   "source": [
    "out_gauss_am_2 = mod_gauss_am_2.fit(am.rate[165:240]-untergrund.rate[165:240],x=x[165:240],params=pars_am_2,weights=1/am.error[165:240])"
   ]
  },
  {
   "cell_type": "code",
   "execution_count": 19,
   "metadata": {
    "collapsed": false
   },
   "outputs": [],
   "source": [
    "plt.errorbar(x,am.rate-untergrund.rate, yerr=am.error, fmt=' .g', label=\"Messdaten\")\n",
    "plt.plot(x,out_gauss_am_2.eval(x=x), '-r', label=\"Fit\")\n",
    "plt.xlabel(\"Kanal\",fontsize=24)\n",
    "plt.ylabel(\"Counts\",fontsize=24)\n",
    "plt.xticks(fontsize=18)\n",
    "plt.yticks(fontsize=18)\n",
    "plt.legend(loc='best',fontsize=24)\n",
    "plt.show()"
   ]
  },
  {
   "cell_type": "code",
   "execution_count": 20,
   "metadata": {
    "collapsed": false
   },
   "outputs": [
    {
     "name": "stdout",
     "output_type": "stream",
     "text": [
      "[[Model]]\n",
      "    (Model(gaussian, prefix='gauss_5_') + Model(gaussian, prefix='gauss_6_'))\n",
      "[[Fit Statistics]]\n",
      "    # function evals   = 102\n",
      "    # data points      = 75\n",
      "    # variables        = 6\n",
      "    chi-square         = 115.754\n",
      "    reduced chi-square = 1.678\n",
      "[[Variables]]\n",
      "    gauss_5_sigma:       13.6749687 +/- 0.579408 (4.24%) (init= 5)\n",
      "    gauss_5_fwhm:        32.2020899 +/- 1.364401 (4.24%)  == '2.3548200*gauss_5_sigma'\n",
      "    gauss_5_amplitude:   16761.1622 +/- 654.0406 (3.90%) (init= 6500)\n",
      "    gauss_5_center:      184        +/- 5.647167 (3.07%) (init= 181)\n",
      "    gauss_6_sigma:       8.56075037 +/- 0.067322 (0.79%) (init= 5)\n",
      "    gauss_6_fwhm:        20.1590261 +/- 0.158533 (0.79%)  == '2.3548200*gauss_6_sigma'\n",
      "    gauss_6_amplitude:   52316.5087 +/- 604.2185 (1.15%) (init= 32500)\n",
      "    gauss_6_center:      213.627553 +/- 0.100067 (0.05%) (init= 213)\n",
      "[[Correlations]] (unreported correlations are <  0.100)\n",
      "    C(gauss_5_sigma, gauss_5_amplitude)  =  0.926 \n",
      "    C(gauss_5_amplitude, gauss_5_center)  = -0.846 \n",
      "    C(gauss_5_amplitude, gauss_6_amplitude)  = -0.828 \n",
      "    C(gauss_5_center, gauss_6_amplitude)  =  0.804 \n",
      "    C(gauss_5_sigma, gauss_6_amplitude)  = -0.801 \n",
      "    C(gauss_5_amplitude, gauss_6_center)  =  0.794 \n",
      "    C(gauss_5_center, gauss_6_center)  = -0.793 \n",
      "    C(gauss_5_sigma, gauss_5_center)  = -0.789 \n",
      "    C(gauss_6_amplitude, gauss_6_center)  = -0.733 \n",
      "    C(gauss_5_sigma, gauss_6_center)  =  0.732 \n",
      "    C(gauss_5_center, gauss_6_sigma)  =  0.706 \n",
      "    C(gauss_5_amplitude, gauss_6_sigma)  = -0.698 \n",
      "    C(gauss_6_sigma, gauss_6_center)  = -0.689 \n",
      "    C(gauss_6_sigma, gauss_6_amplitude)  =  0.666 \n",
      "    C(gauss_5_sigma, gauss_6_sigma)  = -0.613 \n",
      "\n"
     ]
    }
   ],
   "source": [
    "print(out_gauss_am_2.fit_report())"
   ]
  },
  {
   "cell_type": "markdown",
   "metadata": {},
   "source": [
    "## Fit der Ba Daten"
   ]
  },
  {
   "cell_type": "code",
   "execution_count": 21,
   "metadata": {
    "collapsed": true
   },
   "outputs": [],
   "source": [
    "gauss_0 = GaussianModel(prefix=\"gauss_0_\")\n",
    "gauss_1 = GaussianModel(prefix=\"gauss_1_\")\n",
    "gauss_2 = GaussianModel(prefix=\"gauss_2_\")\n",
    "gauss_3 = GaussianModel(prefix=\"gauss_3_\")\n",
    "gauss_4 = GaussianModel(prefix=\"gauss_4_\")\n",
    "gauss_5 = GaussianModel(prefix=\"gauss_5_\")\n",
    "gauss_6 = GaussianModel(prefix=\"gauss_6_\")"
   ]
  },
  {
   "cell_type": "code",
   "execution_count": 22,
   "metadata": {
    "collapsed": false
   },
   "outputs": [],
   "source": [
    "pars_ba_1 = gauss_1.guess(ba.rate,x=x)\n",
    "pars_ba_2 = gauss_2.guess(ba.rate,x=x)\n",
    "pars_ba_2.update(gauss_0.make_params())\n",
    "pars_ba_3 = gauss_3.guess(ba.rate,x=x)\n",
    "pars_ba_3.update(gauss_4.make_params())\n",
    "pars_ba_4 = gauss_5.guess(ba.rate,x=x)"
   ]
  },
  {
   "cell_type": "code",
   "execution_count": 23,
   "metadata": {
    "collapsed": false
   },
   "outputs": [],
   "source": [
    "# controll the center\n",
    "pars_ba_1['gauss_1_center'].set(20, min=10, max=25)\n",
    "pars_ba_2['gauss_2_center'].set(112, min=100, max=120)\n",
    "pars_ba_2['gauss_0_center'].set(125, min=120, max=130)\n",
    "pars_ba_3['gauss_3_center'].set(228, min=210, max=235)\n",
    "pars_ba_3['gauss_4_center'].set(286, min=270, max=300)\n",
    "pars_ba_4['gauss_5_center'].set(1182, min=1150, max=1200)\n",
    "# controll the amplitude\n",
    "pars_ba_1['gauss_1_amplitude'].set(440*13, min=0)#, max=440*2.5)\n",
    "pars_ba_2['gauss_2_amplitude'].set(300, min=0)#, max=310*2.5)\n",
    "pars_ba_2['gauss_0_amplitude'].set(125, min=0)#, max=130)\n",
    "pars_ba_3['gauss_3_amplitude'].set(310*13, min=0)#, max=320*2.5)\n",
    "pars_ba_3['gauss_4_amplitude'].set(380*13, min=0)#, max=390*2.5)\n",
    "pars_ba_4['gauss_5_amplitude'].set(500*13, min=0)#, max=510*2.5)\n",
    "# controll sigma\n",
    "pars_ba_1['gauss_1_sigma'].set(5, min=1, max=68)\n",
    "pars_ba_2['gauss_2_sigma'].set(5, min=1, max=80)\n",
    "pars_ba_3['gauss_3_sigma'].set(5, min=1, max=101)\n",
    "pars_ba_3['gauss_4_sigma'].set(5, min=1, max=114)\n",
    "pars_ba_4['gauss_5_sigma'].set(5, min=1, max=184)"
   ]
  },
  {
   "cell_type": "code",
   "execution_count": 24,
   "metadata": {
    "collapsed": false
   },
   "outputs": [],
   "source": [
    "mod_ba_1 = gauss_1\n",
    "out_ba_1 = mod_ba_1.fit(ba.rate[15:25]-untergrund.rate[15:25],params=pars_ba_1,x=x[15:25],weights=1/ba.error[15:25])"
   ]
  },
  {
   "cell_type": "code",
   "execution_count": 25,
   "metadata": {
    "collapsed": false
   },
   "outputs": [],
   "source": [
    "plt.errorbar(x,ba.rate-untergrund.rate, yerr=ba.error, fmt=' .g', label=\"Messdaten\")\n",
    "plt.plot(x,out_ba_1.eval(x=x), '-r', label=\"Fit\")\n",
    "plt.xlabel(\"Kanal\",fontsize=24)\n",
    "plt.ylabel(\"Counts\",fontsize=24)\n",
    "plt.xticks(fontsize=18)\n",
    "plt.yticks(fontsize=18)\n",
    "plt.legend(loc='best',fontsize=24)\n",
    "plt.show()"
   ]
  },
  {
   "cell_type": "code",
   "execution_count": 26,
   "metadata": {
    "collapsed": false
   },
   "outputs": [
    {
     "name": "stdout",
     "output_type": "stream",
     "text": [
      "[[Model]]\n",
      "    Model(gaussian, prefix='gauss_1_')\n",
      "[[Fit Statistics]]\n",
      "    # function evals   = 27\n",
      "    # data points      = 10\n",
      "    # variables        = 3\n",
      "    chi-square         = 7.968\n",
      "    reduced chi-square = 1.138\n",
      "[[Variables]]\n",
      "    gauss_1_sigma:       3.71202384 +/- 0.281089 (7.57%) (init= 5)\n",
      "    gauss_1_fwhm:        8.74114799 +/- 0.661916 (7.57%)  == '2.3548200*gauss_1_sigma'\n",
      "    gauss_1_amplitude:   1117.53081 +/- 61.21242 (5.48%) (init= 5720)\n",
      "    gauss_1_center:      19.1213070 +/- 0.201517 (1.05%) (init= 20)\n",
      "[[Correlations]] (unreported correlations are <  0.100)\n",
      "    C(gauss_1_sigma, gauss_1_amplitude)  =  0.751 \n",
      "    C(gauss_1_sigma, gauss_1_center)  = -0.209 \n",
      "    C(gauss_1_amplitude, gauss_1_center)  = -0.204 \n",
      "\n"
     ]
    }
   ],
   "source": [
    "print(out_ba_1.fit_report())"
   ]
  },
  {
   "cell_type": "code",
   "execution_count": 27,
   "metadata": {
    "collapsed": false
   },
   "outputs": [],
   "source": [
    "mod_ba_2 = gauss_2 + gauss_0\n",
    "out_ba_2 = mod_ba_2.fit(ba.rate[95:135]-untergrund.rate[95:135],params=pars_ba_2,x=x[95:135],weights=1/ba.error[95:135])"
   ]
  },
  {
   "cell_type": "code",
   "execution_count": 28,
   "metadata": {
    "collapsed": true
   },
   "outputs": [],
   "source": [
    "plt.errorbar(x,ba.rate-untergrund.rate, yerr=ba.error, fmt=' .g', label=\"Messdaten\")\n",
    "plt.plot(x,out_ba_2.eval(x=x), '-r', label=\"Fit\")\n",
    "plt.xlabel(\"Kanal\",fontsize=24)\n",
    "plt.ylabel(\"Counts\",fontsize=24)\n",
    "plt.xticks(fontsize=18)\n",
    "plt.yticks(fontsize=18)\n",
    "plt.legend(loc='best',fontsize=24)\n",
    "plt.show()"
   ]
  },
  {
   "cell_type": "code",
   "execution_count": 29,
   "metadata": {
    "collapsed": false
   },
   "outputs": [
    {
     "name": "stdout",
     "output_type": "stream",
     "text": [
      "[[Model]]\n",
      "    (Model(gaussian, prefix='gauss_2_') + Model(gaussian, prefix='gauss_0_'))\n",
      "[[Fit Statistics]]\n",
      "    # function evals   = 134\n",
      "    # data points      = 40\n",
      "    # variables        = 6\n",
      "    chi-square         = 80.259\n",
      "    reduced chi-square = 2.361\n",
      "[[Variables]]\n",
      "    gauss_2_sigma:       6.78656645 +/- 0.105521 (1.55%) (init= 5)\n",
      "    gauss_2_fwhm:        15.9811424 +/- 0.248484 (1.55%)  == '2.3548200*gauss_2_sigma'\n",
      "    gauss_2_amplitude:   26863.5431 +/- 382.4157 (1.42%) (init= 300)\n",
      "    gauss_2_center:      111.053940 +/- 0.126139 (0.11%) (init= 112)\n",
      "    gauss_0_sigma:       4.59849759 +/- 0.499772 (10.87%) (init= 1)\n",
      "    gauss_0_fwhm:        10.8286341 +/- 1.176874 (10.87%)  == '2.3548200*gauss_0_sigma'\n",
      "    gauss_0_amplitude:   2615.75185 +/- 323.1190 (12.35%) (init= 125)\n",
      "    gauss_0_center:      128.025143 +/- 0.499981 (0.39%) (init= 125)\n",
      "[[Correlations]] (unreported correlations are <  0.100)\n",
      "    C(gauss_0_sigma, gauss_0_amplitude)  =  0.864 \n",
      "    C(gauss_0_amplitude, gauss_0_center)  = -0.811 \n",
      "    C(gauss_2_center, gauss_0_amplitude)  = -0.803 \n",
      "    C(gauss_2_sigma, gauss_0_amplitude)  = -0.774 \n",
      "    C(gauss_2_center, gauss_0_center)  =  0.755 \n",
      "    C(gauss_2_sigma, gauss_0_center)  =  0.718 \n",
      "    C(gauss_2_amplitude, gauss_0_amplitude)  = -0.712 \n",
      "    C(gauss_2_sigma, gauss_2_center)  =  0.684 \n",
      "    C(gauss_2_center, gauss_0_sigma)  = -0.672 \n",
      "    C(gauss_2_amplitude, gauss_0_center)  =  0.668 \n",
      "    C(gauss_0_sigma, gauss_0_center)  = -0.666 \n",
      "    C(gauss_2_sigma, gauss_2_amplitude)  =  0.639 \n",
      "    C(gauss_2_amplitude, gauss_2_center)  =  0.623 \n",
      "    C(gauss_2_amplitude, gauss_0_sigma)  = -0.613 \n",
      "    C(gauss_2_sigma, gauss_0_sigma)  = -0.584 \n",
      "\n"
     ]
    }
   ],
   "source": [
    "print(out_ba_2.fit_report())"
   ]
  },
  {
   "cell_type": "code",
   "execution_count": 30,
   "metadata": {
    "collapsed": false
   },
   "outputs": [],
   "source": [
    "mod_ba_3 = gauss_3 + gauss_4\n",
    "out_ba_3 = mod_ba_3.fit(ba.rate[204:315]-untergrund.rate[204:315],params=pars_ba_3,x=x[204:315],weights=1/ba.error[204:315])"
   ]
  },
  {
   "cell_type": "code",
   "execution_count": 31,
   "metadata": {
    "collapsed": true
   },
   "outputs": [],
   "source": [
    "plt.errorbar(x,ba.rate-untergrund.rate, yerr=ba.error, fmt=' .g', label=\"Messdaten\")\n",
    "plt.plot(x,out_ba_3.eval(x=x), '-r', label=\"Fit\")\n",
    "plt.xlabel(\"Kanal\",fontsize=24)\n",
    "plt.ylabel(\"Counts\",fontsize=24)\n",
    "plt.xticks(fontsize=18)\n",
    "plt.yticks(fontsize=18)\n",
    "plt.legend(loc='best',fontsize=24)\n",
    "plt.show()"
   ]
  },
  {
   "cell_type": "code",
   "execution_count": 32,
   "metadata": {
    "collapsed": false
   },
   "outputs": [
    {
     "name": "stdout",
     "output_type": "stream",
     "text": [
      "[[Model]]\n",
      "    (Model(gaussian, prefix='gauss_3_') + Model(gaussian, prefix='gauss_4_'))\n",
      "[[Fit Statistics]]\n",
      "    # function evals   = 79\n",
      "    # data points      = 111\n",
      "    # variables        = 6\n",
      "    chi-square         = 186.847\n",
      "    reduced chi-square = 1.779\n",
      "[[Variables]]\n",
      "    gauss_3_sigma:       29.2420708 +/- 3.553440 (12.15%) (init= 5)\n",
      "    gauss_3_fwhm:        68.8598133 +/- 8.367712 (12.15%)  == '2.3548200*gauss_3_sigma'\n",
      "    gauss_3_amplitude:   7263.68065 +/- 781.6782 (10.76%) (init= 4030)\n",
      "    gauss_3_center:      234.999999 +/- 5.363476 (2.28%) (init= 228)\n",
      "    gauss_4_sigma:       12.5318055 +/- 0.343834 (2.74%) (init= 5)\n",
      "    gauss_4_fwhm:        29.5101462 +/- 0.809668 (2.74%)  == '2.3548200*gauss_4_sigma'\n",
      "    gauss_4_amplitude:   11357.4608 +/- 560.8174 (4.94%) (init= 4940)\n",
      "    gauss_4_center:      284.429428 +/- 0.300680 (0.11%) (init= 286)\n",
      "[[Correlations]] (unreported correlations are <  0.100)\n",
      "    C(gauss_3_sigma, gauss_3_amplitude)  =  0.971 \n",
      "    C(gauss_3_amplitude, gauss_4_amplitude)  = -0.930 \n",
      "    C(gauss_3_sigma, gauss_4_amplitude)  = -0.912 \n",
      "    C(gauss_3_center, gauss_4_amplitude)  =  0.854 \n",
      "    C(gauss_4_sigma, gauss_4_amplitude)  =  0.825 \n",
      "    C(gauss_3_amplitude, gauss_3_center)  = -0.788 \n",
      "    C(gauss_3_amplitude, gauss_4_sigma)  = -0.786 \n",
      "    C(gauss_3_center, gauss_4_sigma)  =  0.767 \n",
      "    C(gauss_3_sigma, gauss_3_center)  = -0.745 \n",
      "    C(gauss_3_sigma, gauss_4_sigma)  = -0.744 \n",
      "    C(gauss_3_center, gauss_4_center)  = -0.676 \n",
      "    C(gauss_4_amplitude, gauss_4_center)  = -0.664 \n",
      "    C(gauss_3_amplitude, gauss_4_center)  =  0.638 \n",
      "    C(gauss_4_sigma, gauss_4_center)  = -0.630 \n",
      "    C(gauss_3_sigma, gauss_4_center)  =  0.583 \n",
      "\n"
     ]
    }
   ],
   "source": [
    "print(out_ba_3.fit_report())"
   ]
  },
  {
   "cell_type": "code",
   "execution_count": 33,
   "metadata": {
    "collapsed": true
   },
   "outputs": [],
   "source": [
    "mod_ba_4 = gauss_5\n",
    "out_ba_4 = mod_ba_4.fit(ba.rate[1100:1250],params=pars_ba_4,x=x[1100:1250],weights=1/ba.error[1100:1250])"
   ]
  },
  {
   "cell_type": "code",
   "execution_count": 34,
   "metadata": {
    "collapsed": true
   },
   "outputs": [],
   "source": [
    "plt.errorbar(x,ba.rate-untergrund.rate, yerr=ba.error, fmt=' .g', label=\"Messdaten\")\n",
    "plt.plot(x,out_ba_4.eval(x=x), '-r', label=\"Fit\")\n",
    "plt.xlabel(\"Kanal\",fontsize=24)\n",
    "plt.ylabel(\"Counts\",fontsize=24)\n",
    "plt.xticks(fontsize=18)\n",
    "plt.yticks(fontsize=18)\n",
    "plt.legend(loc='best',fontsize=24)\n",
    "plt.show()"
   ]
  },
  {
   "cell_type": "code",
   "execution_count": 35,
   "metadata": {
    "collapsed": false
   },
   "outputs": [
    {
     "name": "stdout",
     "output_type": "stream",
     "text": [
      "[[Model]]\n",
      "    Model(gaussian, prefix='gauss_5_')\n",
      "[[Fit Statistics]]\n",
      "    # function evals   = 35\n",
      "    # data points      = 150\n",
      "    # variables        = 3\n",
      "    chi-square         = 117.888\n",
      "    reduced chi-square = 0.802\n",
      "[[Variables]]\n",
      "    gauss_5_sigma:       43.3949452 +/- 0.494619 (1.14%) (init= 5)\n",
      "    gauss_5_fwhm:        102.187285 +/- 1.164740 (1.14%)  == '2.3548200*gauss_5_sigma'\n",
      "    gauss_5_amplitude:   12789.9828 +/- 117.5778 (0.92%) (init= 6500)\n",
      "    gauss_5_center:      1180.46864 +/- 0.450395 (0.04%) (init= 1182)\n",
      "[[Correlations]] (unreported correlations are <  0.100)\n",
      "    C(gauss_5_sigma, gauss_5_amplitude)  =  0.430 \n",
      "    C(gauss_5_sigma, gauss_5_center)  =  0.180 \n",
      "    C(gauss_5_amplitude, gauss_5_center)  =  0.128 \n",
      "\n"
     ]
    }
   ],
   "source": [
    "print(out_ba_4.fit_report())"
   ]
  },
  {
   "cell_type": "markdown",
   "metadata": {},
   "source": [
    "## Kilibrierung der Cs Daten"
   ]
  },
  {
   "cell_type": "code",
   "execution_count": 36,
   "metadata": {
    "collapsed": true
   },
   "outputs": [],
   "source": [
    "gauss_0 = GaussianModel(prefix=\"gauss_0_\")\n",
    "gauss_1 = GaussianModel(prefix=\"gauss_1_\")\n",
    "gauss_2 = GaussianModel(prefix=\"gauss_2_\")"
   ]
  },
  {
   "cell_type": "code",
   "execution_count": 37,
   "metadata": {
    "collapsed": true
   },
   "outputs": [],
   "source": [
    "pars_cs_1 = gauss_0.guess(cs.rate,x=x)\n",
    "pars_cs_2 = gauss_1.guess(cs.rate,x=x)\n",
    "pars_cs_3 = gauss_2.guess(cs.rate,x=x)"
   ]
  },
  {
   "cell_type": "code",
   "execution_count": 38,
   "metadata": {
    "collapsed": false
   },
   "outputs": [],
   "source": [
    "# controll the center\n",
    "pars_cs_1['gauss_0_center'].set(115, min=110, max=120)\n",
    "pars_cs_2['gauss_1_center'].set(267, min=263, max=270)\n",
    "pars_cs_3['gauss_2_center'].set(1920, min=1900, max=1940)\n",
    "# controll the amplitude\n",
    "pars_cs_1['gauss_0_amplitude'].set(125, min=0)#, max=130)\n",
    "pars_cs_2['gauss_1_amplitude'].set(440*13, min=0)#, max=440*2.5)\n",
    "pars_cs_3['gauss_2_amplitude'].set(300, min=0)#, max=310*2.5)\n",
    "# controll sigma\n",
    "pars_cs_1['gauss_0_sigma'].set(5, min=1, max=68)\n",
    "pars_cs_2['gauss_1_sigma'].set(5, min=1, max=68)\n",
    "pars_cs_3['gauss_2_sigma'].set(5, min=1, max=80)"
   ]
  },
  {
   "cell_type": "code",
   "execution_count": 39,
   "metadata": {
    "collapsed": false
   },
   "outputs": [],
   "source": [
    "mod_cs_1 = gauss_0\n",
    "out_cs_1 = mod_cs_1.fit(cs.rate[100:130],params=pars_cs_1,x=x[100:130],weights=1/cs.error[100:130])"
   ]
  },
  {
   "cell_type": "code",
   "execution_count": 40,
   "metadata": {
    "collapsed": true
   },
   "outputs": [],
   "source": [
    "plt.errorbar(x,cs.rate-untergrund.rate, yerr=cs.error, fmt=' .g')\n",
    "plt.plot(x,out_cs_1.eval(x=x), '-r')\n",
    "plt.xlabel(\"Kanal\",fontsize=24)\n",
    "plt.ylabel(\"Counts\",fontsize=24)\n",
    "plt.xticks(fontsize=18)\n",
    "plt.yticks(fontsize=18)\n",
    "plt.legend(loc='best',fontsize=24)\n",
    "plt.show()"
   ]
  },
  {
   "cell_type": "code",
   "execution_count": 41,
   "metadata": {
    "collapsed": false
   },
   "outputs": [
    {
     "name": "stdout",
     "output_type": "stream",
     "text": [
      "[[Model]]\n",
      "    Model(gaussian, prefix='gauss_0_')\n",
      "[[Fit Statistics]]\n",
      "    # function evals   = 37\n",
      "    # data points      = 30\n",
      "    # variables        = 3\n",
      "    chi-square         = 36.299\n",
      "    reduced chi-square = 1.344\n",
      "[[Variables]]\n",
      "    gauss_0_sigma:       8.33786026 +/- 0.166957 (2.00%) (init= 5)\n",
      "    gauss_0_fwhm:        19.6341601 +/- 0.393154 (2.00%)  == '2.3548200*gauss_0_sigma'\n",
      "    gauss_0_amplitude:   6336.70331 +/- 103.7750 (1.64%) (init= 125)\n",
      "    gauss_0_center:      115.366805 +/- 0.153160 (0.13%) (init= 115)\n",
      "[[Correlations]] (unreported correlations are <  0.100)\n",
      "    C(gauss_0_sigma, gauss_0_amplitude)  =  0.381 \n",
      "    C(gauss_0_sigma, gauss_0_center)  =  0.137 \n",
      "\n"
     ]
    }
   ],
   "source": [
    "print(out_cs_1.fit_report())"
   ]
  },
  {
   "cell_type": "code",
   "execution_count": 42,
   "metadata": {
    "collapsed": false
   },
   "outputs": [],
   "source": [
    "mod_cs_3 = gauss_2\n",
    "out_cs_3 = mod_cs_3.fit(cs.rate[1860:1980],params=pars_cs_3,x=x[1860:1980],weights=1/cs.error[1860:1980])"
   ]
  },
  {
   "cell_type": "code",
   "execution_count": 43,
   "metadata": {
    "collapsed": false
   },
   "outputs": [],
   "source": [
    "plt.errorbar(x,cs.rate-untergrund.rate, yerr=cs.error, fmt=' .g', label=\"Messdaten\")\n",
    "plt.plot(x,out_cs_3.eval(x=x), '-r', label=\"Fit\")\n",
    "plt.xlabel(\"Kanal\",fontsize=24)\n",
    "plt.ylabel(\"Counts\",fontsize=24)\n",
    "plt.xticks(fontsize=18)\n",
    "plt.yticks(fontsize=18)\n",
    "plt.legend(loc='best',fontsize=24)\n",
    "plt.show()"
   ]
  },
  {
   "cell_type": "code",
   "execution_count": 44,
   "metadata": {
    "collapsed": false
   },
   "outputs": [
    {
     "name": "stdout",
     "output_type": "stream",
     "text": [
      "[[Model]]\n",
      "    Model(gaussian, prefix='gauss_2_')\n",
      "[[Fit Statistics]]\n",
      "    # function evals   = 31\n",
      "    # data points      = 120\n",
      "    # variables        = 3\n",
      "    chi-square         = 170.233\n",
      "    reduced chi-square = 1.455\n",
      "[[Variables]]\n",
      "    gauss_2_sigma:       23.0352370 +/- 0.152370 (0.66%) (init= 5)\n",
      "    gauss_2_fwhm:        54.2438368 +/- 0.358805 (0.66%)  == '2.3548200*gauss_2_sigma'\n",
      "    gauss_2_amplitude:   23839.7666 +/- 187.4390 (0.79%) (init= 300)\n",
      "    gauss_2_center:      1920.26351 +/- 0.187739 (0.01%) (init= 1920)\n",
      "[[Correlations]] (unreported correlations are <  0.100)\n",
      "\n"
     ]
    }
   ],
   "source": [
    "print(out_cs_3.fit_report())"
   ]
  },
  {
   "cell_type": "code",
   "execution_count": 45,
   "metadata": {
    "collapsed": false
   },
   "outputs": [],
   "source": [
    "energien = np.array([14,33,60,31,81,383,32,662])\n",
    "kanal = np.array([64.5491642,112.029958,213.627553,111.053940,284.659378,1180.46864,115.366805,1920.26351])\n",
    "kanal_err = np.array([4.84841741,6.34840458,8.56075037,6.78656645,12.5318055,43.3949452,8.33786026,23.0352370])"
   ]
  },
  {
   "cell_type": "code",
   "execution_count": 46,
   "metadata": {
    "collapsed": false
   },
   "outputs": [],
   "source": [
    "plt.errorbar(kanal,energien,yerr=kanal_err, fmt=' .g')\n",
    "plt.show()"
   ]
  },
  {
   "cell_type": "code",
   "execution_count": 47,
   "metadata": {
    "collapsed": true
   },
   "outputs": [],
   "source": [
    "def lin_fit(x,m,b):\n",
    "    return (x-b)/m"
   ]
  },
  {
   "cell_type": "code",
   "execution_count": 48,
   "metadata": {
    "collapsed": false
   },
   "outputs": [],
   "source": [
    "mod_lin = Model(lin_fit)\n",
    "pars_lin = mod_lin.make_params(m=1,b=1)\n",
    "out_lin = mod_lin.fit(kanal,params=pars_lin,x=energien,weights=1/(kanal_err))"
   ]
  },
  {
   "cell_type": "code",
   "execution_count": 49,
   "metadata": {
    "collapsed": false
   },
   "outputs": [],
   "source": [
    "out_lin.plot()\n",
    "plt.legend(loc=\"best\")\n",
    "plt.show()"
   ]
  },
  {
   "cell_type": "code",
   "execution_count": 50,
   "metadata": {
    "collapsed": false
   },
   "outputs": [
    {
     "name": "stdout",
     "output_type": "stream",
     "text": [
      "[[Model]]\n",
      "    Model(lin_fit)\n",
      "[[Fit Statistics]]\n",
      "    # function evals   = 22\n",
      "    # data points      = 8\n",
      "    # variables        = 2\n",
      "    chi-square         = 11.277\n",
      "    reduced chi-square = 1.880\n",
      "[[Variables]]\n",
      "    m:   0.34572897 +/- 0.005655 (1.64%) (init= 1)\n",
      "    b:  -8.63436274 +/- 1.575031 (18.24%) (init= 1)\n",
      "[[Correlations]] (unreported correlations are <  0.100)\n",
      "    C(m, b)                      = -0.530 \n",
      "\n"
     ]
    }
   ],
   "source": [
    "print(out_lin.fit_report())"
   ]
  },
  {
   "cell_type": "code",
   "execution_count": 51,
   "metadata": {
    "collapsed": false
   },
   "outputs": [],
   "source": [
    "plt.errorbar(energien,kanal, yerr=kanal_err, fmt=' .g', label=\"Bestimmte Kanalpositionen\")\n",
    "plt.plot(np.arange(0,700),out_lin.eval(x=np.arange(0,700)), '-r', label=\"Fit\")\n",
    "plt.xlabel(\"Energie / keV\",fontsize=24)\n",
    "plt.ylabel(\"Kanal\",fontsize=24)\n",
    "plt.xticks(fontsize=18)\n",
    "plt.yticks(fontsize=18)\n",
    "plt.legend(loc='best',fontsize=24)\n",
    "plt.show()"
   ]
  },
  {
   "cell_type": "code",
   "execution_count": null,
   "metadata": {
    "collapsed": true
   },
   "outputs": [],
   "source": []
  },
  {
   "cell_type": "code",
   "execution_count": null,
   "metadata": {
    "collapsed": true
   },
   "outputs": [],
   "source": []
  },
  {
   "cell_type": "markdown",
   "metadata": {},
   "source": [
    "# Absorbtion"
   ]
  },
  {
   "cell_type": "code",
   "execution_count": 52,
   "metadata": {
    "collapsed": true
   },
   "outputs": [],
   "source": [
    "def conv_to_counts(amplitude):\n",
    "    return amplitude/(300*0.5)"
   ]
  },
  {
   "cell_type": "code",
   "execution_count": 53,
   "metadata": {
    "collapsed": true
   },
   "outputs": [],
   "source": [
    "def exp_fit(x,a,b):\n",
    "    return a*np.exp(-b*x)"
   ]
  },
  {
   "cell_type": "markdown",
   "metadata": {},
   "source": [
    "## Blei"
   ]
  },
  {
   "cell_type": "code",
   "execution_count": 54,
   "metadata": {
    "collapsed": true
   },
   "outputs": [],
   "source": [
    "blei_7cm = pd.read_csv(\"Messdaten/absorbtion/absorbtion_7cm.csv\", header=14, delim_whitespace=True, names=['rate','error'], index_col=0)\n",
    "blei_6cm = pd.read_csv(\"Messdaten/absorbtion/absorbtion_6cm.csv\", header=14, delim_whitespace=True, names=['rate','error'], index_col=0)\n",
    "blei_5cm= pd.read_csv(\"Messdaten/absorbtion/absorbtion_5cm.csv\", header=14, delim_whitespace=True, names=['rate','error'], index_col=0)\n",
    "blei_4_5cm= pd.read_csv(\"Messdaten/absorbtion/absorbtion_4,5cm_LLDhoch.csv\", header=14, delim_whitespace=True, names=['rate','error'], index_col=0)\n",
    "blei_3_5cm = pd.read_csv(\"Messdaten/absorbtion/absorbtion_3,5cm_LLDhoch.csv\", header=14, delim_whitespace=True, names=['rate','error'], index_col=0)\n",
    "blei_2_5cm= pd.read_csv(\"Messdaten/absorbtion/absorbtion_2,5cm_LLDhoch.csv\", header=14, delim_whitespace=True, names=['rate','error'], index_col=0)"
   ]
  },
  {
   "cell_type": "markdown",
   "metadata": {},
   "source": [
    "### 7cm"
   ]
  },
  {
   "cell_type": "code",
   "execution_count": 55,
   "metadata": {
    "collapsed": true
   },
   "outputs": [],
   "source": [
    "pars_absorb_7cm = gauss_1.guess(blei_7cm.rate-untergrund.rate,x=x)\n",
    "# controll the center\n",
    "pars_absorb_7cm['gauss_1_center'].set(1900, min=1800, max=2000)\n",
    "# controll the amplitude\n",
    "pars_absorb_7cm['gauss_1_amplitude'].set(440*13, min=0)#, max=440*2.5)\n",
    "# controll sigma\n",
    "pars_absorb_7cm['gauss_1_sigma'].set(5, min=1, max=68)"
   ]
  },
  {
   "cell_type": "code",
   "execution_count": 56,
   "metadata": {
    "collapsed": false
   },
   "outputs": [],
   "source": [
    "out_absorb_7cm = gauss_1.fit(blei_7cm.rate[1850:2000]-untergrund.rate[1850:2000],params=pars_absorb_7cm,x=x[1850:2000],weights=1/blei_7cm.error[1850:2000])"
   ]
  },
  {
   "cell_type": "code",
   "execution_count": 57,
   "metadata": {
    "collapsed": false
   },
   "outputs": [],
   "source": [
    "plt.errorbar(x,blei_7cm.rate-untergrund.rate, yerr=blei_7cm.error, fmt=' .g', label=\"Messdaten\")\n",
    "plt.plot(x,out_absorb_7cm.eval(x=x), '-r', label=\"Fit\")\n",
    "plt.xlabel(\"Counts\",fontsize=24)\n",
    "plt.ylabel(\"Kanal\",fontsize=24)\n",
    "plt.xticks(fontsize=18)\n",
    "plt.yticks(fontsize=18)\n",
    "plt.legend(loc='best',fontsize=24)\n",
    "plt.show()"
   ]
  },
  {
   "cell_type": "code",
   "execution_count": 58,
   "metadata": {
    "collapsed": false
   },
   "outputs": [
    {
     "name": "stdout",
     "output_type": "stream",
     "text": [
      "[[Model]]\n",
      "    Model(gaussian, prefix='gauss_1_')\n",
      "[[Fit Statistics]]\n",
      "    # function evals   = 47\n",
      "    # data points      = 150\n",
      "    # variables        = 3\n",
      "    chi-square         = 299.499\n",
      "    reduced chi-square = 2.037\n",
      "[[Variables]]\n",
      "    gauss_1_sigma:       20.4971915 +/- 0.620191 (3.03%) (init= 5)\n",
      "    gauss_1_fwhm:        48.2671964 +/- 1.460438 (3.03%)  == '2.3548200*gauss_1_sigma'\n",
      "    gauss_1_amplitude:   2284.71175 +/- 77.00543 (3.37%) (init= 5720)\n",
      "    gauss_1_center:      1922.65512 +/- 0.768987 (0.04%) (init= 1900)\n",
      "[[Correlations]] (unreported correlations are <  0.100)\n",
      "    C(gauss_1_sigma, gauss_1_amplitude)  =  0.199 \n",
      "\n"
     ]
    }
   ],
   "source": [
    "print(out_absorb_7cm.fit_report())"
   ]
  },
  {
   "cell_type": "markdown",
   "metadata": {},
   "source": [
    "### 6cm"
   ]
  },
  {
   "cell_type": "code",
   "execution_count": 59,
   "metadata": {
    "collapsed": false
   },
   "outputs": [],
   "source": [
    "pars_absorb_6cm = gauss_1.guess(blei_6cm.rate-untergrund.rate,x=x)\n",
    "# controll the center\n",
    "pars_absorb_6cm['gauss_1_center'].set(1925, min=1900, max=2000)\n",
    "# controll the amplitude\n",
    "pars_absorb_6cm['gauss_1_amplitude'].set(440*18, min=0)#, max=440*2.5)\n",
    "# controll sigma\n",
    "pars_absorb_6cm['gauss_1_sigma'].set(20, min=1, max=68)"
   ]
  },
  {
   "cell_type": "code",
   "execution_count": 60,
   "metadata": {
    "collapsed": true
   },
   "outputs": [],
   "source": [
    "out_absorb_6cm = gauss_1.fit(blei_6cm.rate[1850:1993]-untergrund.rate[1850:1993],params=pars_absorb_6cm,x=x[1850:1993],weights=1/blei_6cm.error[1850:1993])"
   ]
  },
  {
   "cell_type": "code",
   "execution_count": 61,
   "metadata": {
    "collapsed": true
   },
   "outputs": [],
   "source": [
    "plt.errorbar(x,blei_6cm.rate-untergrund.rate, yerr=blei_6cm.error, fmt=' .g', label=\"Messdaten\")\n",
    "plt.plot(x,out_absorb_6cm.eval(x=x), '-r', label=\"Fit\")\n",
    "plt.xlabel(\"Counts\",fontsize=24)\n",
    "plt.ylabel(\"Kanal\",fontsize=24)\n",
    "plt.xticks(fontsize=18)\n",
    "plt.yticks(fontsize=18)\n",
    "plt.legend(loc='best',fontsize=24)\n",
    "plt.show()"
   ]
  },
  {
   "cell_type": "code",
   "execution_count": 62,
   "metadata": {
    "collapsed": false
   },
   "outputs": [
    {
     "name": "stdout",
     "output_type": "stream",
     "text": [
      "[[Model]]\n",
      "    Model(gaussian, prefix='gauss_1_')\n",
      "[[Fit Statistics]]\n",
      "    # function evals   = 23\n",
      "    # data points      = 143\n",
      "    # variables        = 3\n",
      "    chi-square         = 161.311\n",
      "    reduced chi-square = 1.152\n",
      "[[Variables]]\n",
      "    gauss_1_sigma:       21.9514451 +/- 0.219597 (1.00%) (init= 20)\n",
      "    gauss_1_fwhm:        51.6917021 +/- 0.517111 (1.00%)  == '2.3548200*gauss_1_sigma'\n",
      "    gauss_1_amplitude:   8299.78978 +/- 101.5909 (1.22%) (init= 7920)\n",
      "    gauss_1_center:      1922.16220 +/- 0.283142 (0.01%) (init= 1925)\n",
      "[[Correlations]] (unreported correlations are <  0.100)\n",
      "\n"
     ]
    }
   ],
   "source": [
    "print(out_absorb_6cm.fit_report())"
   ]
  },
  {
   "cell_type": "markdown",
   "metadata": {},
   "source": [
    "### 5cm"
   ]
  },
  {
   "cell_type": "code",
   "execution_count": 63,
   "metadata": {
    "collapsed": true
   },
   "outputs": [],
   "source": [
    "pars_absorb_5cm = gauss_1.guess(blei_5cm.rate-untergrund.rate,x=x)\n",
    "# controll the center\n",
    "pars_absorb_5cm['gauss_1_center'].set(1925, min=1900, max=2000)\n",
    "# controll the amplitude\n",
    "pars_absorb_5cm['gauss_1_amplitude'].set(440*18, min=0)#, max=440*2.5)\n",
    "# controll sigma\n",
    "pars_absorb_5cm['gauss_1_sigma'].set(20, min=1, max=68)"
   ]
  },
  {
   "cell_type": "code",
   "execution_count": 64,
   "metadata": {
    "collapsed": false
   },
   "outputs": [],
   "source": [
    "out_absorb_5cm = gauss_1.fit(blei_5cm.rate[1850:1993]-untergrund.rate[1850:1993],params=pars_absorb_5cm,x=x[1850:1993],weights=1/blei_5cm.error[1850:1993])"
   ]
  },
  {
   "cell_type": "code",
   "execution_count": 65,
   "metadata": {
    "collapsed": true
   },
   "outputs": [],
   "source": [
    "plt.errorbar(x,blei_5cm.rate-untergrund.rate, yerr=blei_5cm.error, fmt=' .g', label=\"Messdaten\")\n",
    "plt.plot(x,out_absorb_5cm.eval(x=x), '-r', label=\"Fit\")\n",
    "plt.xlabel(\"Counts\",fontsize=24)\n",
    "plt.ylabel(\"Kanal\",fontsize=24)\n",
    "plt.xticks(fontsize=18)\n",
    "plt.yticks(fontsize=18)\n",
    "plt.legend(loc='best',fontsize=24)\n",
    "plt.show()"
   ]
  },
  {
   "cell_type": "code",
   "execution_count": 66,
   "metadata": {
    "collapsed": false
   },
   "outputs": [
    {
     "name": "stdout",
     "output_type": "stream",
     "text": [
      "[[Model]]\n",
      "    Model(gaussian, prefix='gauss_1_')\n",
      "[[Fit Statistics]]\n",
      "    # function evals   = 31\n",
      "    # data points      = 143\n",
      "    # variables        = 3\n",
      "    chi-square         = 243.761\n",
      "    reduced chi-square = 1.741\n",
      "[[Variables]]\n",
      "    gauss_1_sigma:       22.4285473 +/- 0.141956 (0.63%) (init= 20)\n",
      "    gauss_1_fwhm:        52.8151919 +/- 0.334281 (0.63%)  == '2.3548200*gauss_1_sigma'\n",
      "    gauss_1_amplitude:   27339.4031 +/- 220.9497 (0.81%) (init= 7920)\n",
      "    gauss_1_center:      1921.75060 +/- 0.186295 (0.01%) (init= 1925)\n",
      "[[Correlations]] (unreported correlations are <  0.100)\n",
      "\n"
     ]
    }
   ],
   "source": [
    "print(out_absorb_5cm.fit_report())"
   ]
  },
  {
   "cell_type": "markdown",
   "metadata": {},
   "source": [
    "### 4,5cm"
   ]
  },
  {
   "cell_type": "code",
   "execution_count": 67,
   "metadata": {
    "collapsed": true
   },
   "outputs": [],
   "source": [
    "pars_absorb_4_5cm = gauss_1.guess(blei_4_5cm.rate-untergrund.rate,x=x)\n",
    "# controll the center\n",
    "pars_absorb_4_5cm['gauss_1_center'].set(1925, min=1900, max=2000)\n",
    "# controll the amplitude\n",
    "pars_absorb_4_5cm['gauss_1_amplitude'].set(440*18, min=0)#, max=440*2.5)\n",
    "# controll sigma\n",
    "pars_absorb_4_5cm['gauss_1_sigma'].set(20, min=1, max=68)"
   ]
  },
  {
   "cell_type": "code",
   "execution_count": 68,
   "metadata": {
    "collapsed": true
   },
   "outputs": [],
   "source": [
    "out_absorb_4_5cm = gauss_1.fit(blei_4_5cm.rate[1850:1993]-untergrund.rate[1850:1993],params=pars_absorb_4_5cm,x=x[1850:1993],weights=1/blei_4_5cm.error[1850:1993])"
   ]
  },
  {
   "cell_type": "code",
   "execution_count": 69,
   "metadata": {
    "collapsed": true
   },
   "outputs": [],
   "source": [
    "plt.errorbar(x,blei_4_5cm.rate-untergrund.rate, yerr=blei_4_5cm.error, fmt=' .g', label=\"Messdaten\")\n",
    "plt.plot(x,out_absorb_4_5cm.eval(x=x), '-r', label=\"Fit\")\n",
    "plt.xlabel(\"Counts\",fontsize=24)\n",
    "plt.ylabel(\"Kanal\",fontsize=24)\n",
    "plt.xticks(fontsize=18)\n",
    "plt.yticks(fontsize=18)\n",
    "plt.legend(loc='best',fontsize=24)\n",
    "plt.show()"
   ]
  },
  {
   "cell_type": "code",
   "execution_count": 70,
   "metadata": {
    "collapsed": false
   },
   "outputs": [
    {
     "name": "stdout",
     "output_type": "stream",
     "text": [
      "[[Model]]\n",
      "    Model(gaussian, prefix='gauss_1_')\n",
      "[[Fit Statistics]]\n",
      "    # function evals   = 39\n",
      "    # data points      = 143\n",
      "    # variables        = 3\n",
      "    chi-square         = 352.808\n",
      "    reduced chi-square = 2.520\n",
      "[[Variables]]\n",
      "    gauss_1_sigma:       22.5501287 +/- 0.126227 (0.56%) (init= 20)\n",
      "    gauss_1_fwhm:        53.1014941 +/- 0.297242 (0.56%)  == '2.3548200*gauss_1_sigma'\n",
      "    gauss_1_amplitude:   48414.7069 +/- 352.0339 (0.73%) (init= 7920)\n",
      "    gauss_1_center:      1918.16323 +/- 0.167978 (0.01%) (init= 1925)\n",
      "[[Correlations]] (unreported correlations are <  0.100)\n",
      "    C(gauss_1_sigma, gauss_1_center)  = -0.103 \n",
      "\n"
     ]
    }
   ],
   "source": [
    "print(out_absorb_4_5cm.fit_report())"
   ]
  },
  {
   "cell_type": "markdown",
   "metadata": {},
   "source": [
    "### 3,5cm"
   ]
  },
  {
   "cell_type": "code",
   "execution_count": 71,
   "metadata": {
    "collapsed": false
   },
   "outputs": [],
   "source": [
    "pars_absorb_3_5cm = gauss_1.guess(blei_3_5cm.rate-untergrund.rate,x=x)\n",
    "# controll the center\n",
    "pars_absorb_3_5cm['gauss_1_center'].set(1925, min=1900, max=2000)\n",
    "# controll the amplitude\n",
    "pars_absorb_3_5cm['gauss_1_amplitude'].set(440*18, min=0)#, max=440*2.5)\n",
    "# controll sigma\n",
    "pars_absorb_3_5cm['gauss_1_sigma'].set(20, min=1, max=68)"
   ]
  },
  {
   "cell_type": "code",
   "execution_count": 72,
   "metadata": {
    "collapsed": true
   },
   "outputs": [],
   "source": [
    "out_absorb_3_5cm = gauss_1.fit(blei_3_5cm.rate[1880:1993]-untergrund.rate[1880:1993],params=pars_absorb_3_5cm,x=x[1880:1993],weights=1/blei_3_5cm.error[1880:1993])"
   ]
  },
  {
   "cell_type": "code",
   "execution_count": 73,
   "metadata": {
    "collapsed": false
   },
   "outputs": [],
   "source": [
    "plt.errorbar(x,blei_3_5cm.rate-untergrund.rate, yerr=blei_3_5cm.error, fmt=' .g', label=\"Messdaten\")\n",
    "plt.plot(x,out_absorb_3_5cm.eval(x=x), '-r', label=\"Fit\")\n",
    "plt.xlabel(\"Counts\",fontsize=24)\n",
    "plt.ylabel(\"Kanal\",fontsize=24)\n",
    "plt.xticks(fontsize=18)\n",
    "plt.yticks(fontsize=18)\n",
    "plt.legend(loc='best',fontsize=24)\n",
    "plt.show()"
   ]
  },
  {
   "cell_type": "code",
   "execution_count": 74,
   "metadata": {
    "collapsed": false
   },
   "outputs": [
    {
     "name": "stdout",
     "output_type": "stream",
     "text": [
      "[[Model]]\n",
      "    Model(gaussian, prefix='gauss_1_')\n",
      "[[Fit Statistics]]\n",
      "    # function evals   = 36\n",
      "    # data points      = 113\n",
      "    # variables        = 3\n",
      "    chi-square         = 300.211\n",
      "    reduced chi-square = 2.729\n",
      "[[Variables]]\n",
      "    gauss_1_sigma:       22.0276222 +/- 0.088165 (0.40%) (init= 20)\n",
      "    gauss_1_fwhm:        51.8710853 +/- 0.207614 (0.40%)  == '2.3548200*gauss_1_sigma'\n",
      "    gauss_1_amplitude:   1.5077e+05 +/- 666.4545 (0.44%) (init= 7920)\n",
      "    gauss_1_center:      1919.46611 +/- 0.111573 (0.01%) (init= 1925)\n",
      "[[Correlations]] (unreported correlations are <  0.100)\n",
      "    C(gauss_1_sigma, gauss_1_center)  = -0.354 \n",
      "    C(gauss_1_sigma, gauss_1_amplitude)  =  0.172 \n",
      "    C(gauss_1_amplitude, gauss_1_center)  = -0.138 \n",
      "\n"
     ]
    }
   ],
   "source": [
    "print(out_absorb_3_5cm.fit_report())"
   ]
  },
  {
   "cell_type": "markdown",
   "metadata": {},
   "source": [
    "### 2,5cm"
   ]
  },
  {
   "cell_type": "code",
   "execution_count": 75,
   "metadata": {
    "collapsed": true
   },
   "outputs": [],
   "source": [
    "pars_absorb_2_5cm = gauss_1.guess(blei_2_5cm.rate-untergrund.rate,x=x)\n",
    "# controll the center\n",
    "pars_absorb_2_5cm['gauss_1_center'].set(1925, min=1900, max=2000)\n",
    "# controll the amplitude\n",
    "pars_absorb_2_5cm['gauss_1_amplitude'].set(440*18, min=0)#, max=440*2.5)\n",
    "# controll sigma\n",
    "pars_absorb_2_5cm['gauss_1_sigma'].set(20, min=1, max=68)"
   ]
  },
  {
   "cell_type": "code",
   "execution_count": 76,
   "metadata": {
    "collapsed": true
   },
   "outputs": [],
   "source": [
    "out_absorb_2_5cm = gauss_1.fit(blei_2_5cm.rate[1890:1973]-untergrund.rate[1890:1973],params=pars_absorb_2_5cm,x=x[1890:1973],weights=1/blei_2_5cm.error[1890:1973])"
   ]
  },
  {
   "cell_type": "code",
   "execution_count": 77,
   "metadata": {
    "collapsed": true
   },
   "outputs": [],
   "source": [
    "plt.errorbar(x,blei_2_5cm.rate-untergrund.rate, yerr=blei_2_5cm.error, fmt=' .g', label=\"Messdaten\")\n",
    "plt.plot(x,out_absorb_2_5cm.eval(x=x), '-r', label=\"Fit\")\n",
    "plt.xlabel(\"Counts\",fontsize=24)\n",
    "plt.ylabel(\"Kanal\",fontsize=24)\n",
    "plt.xticks(fontsize=18)\n",
    "plt.yticks(fontsize=18)\n",
    "plt.legend(loc='best',fontsize=24)\n",
    "plt.show()"
   ]
  },
  {
   "cell_type": "code",
   "execution_count": 78,
   "metadata": {
    "collapsed": false
   },
   "outputs": [
    {
     "name": "stdout",
     "output_type": "stream",
     "text": [
      "[[Model]]\n",
      "    Model(gaussian, prefix='gauss_1_')\n",
      "[[Fit Statistics]]\n",
      "    # function evals   = 45\n",
      "    # data points      = 83\n",
      "    # variables        = 3\n",
      "    chi-square         = 334.888\n",
      "    reduced chi-square = 4.186\n",
      "[[Variables]]\n",
      "    gauss_1_sigma:       22.5271252 +/- 0.089126 (0.40%) (init= 20)\n",
      "    gauss_1_fwhm:        53.0473251 +/- 0.209876 (0.40%)  == '2.3548200*gauss_1_sigma'\n",
      "    gauss_1_amplitude:   4.7314e+05 +/- 1.63e+03 (0.34%) (init= 7920)\n",
      "    gauss_1_center:      1922.18608 +/- 0.093865 (0.00%) (init= 1925)\n",
      "[[Correlations]] (unreported correlations are <  0.100)\n",
      "    C(gauss_1_sigma, gauss_1_center)  = -0.430 \n",
      "    C(gauss_1_sigma, gauss_1_amplitude)  =  0.408 \n",
      "    C(gauss_1_amplitude, gauss_1_center)  = -0.290 \n",
      "\n"
     ]
    }
   ],
   "source": [
    "print(out_absorb_2_5cm.fit_report())"
   ]
  },
  {
   "cell_type": "markdown",
   "metadata": {},
   "source": [
    "#### Exponentieller Zusammenhang Blei"
   ]
  },
  {
   "cell_type": "code",
   "execution_count": 79,
   "metadata": {
    "collapsed": true
   },
   "outputs": [],
   "source": [
    "blei_dicke = np.array([7.06,6.031,5.03,4.527,3.515,2.5])\n",
    "blei_rate = np.array([2284,8300,27339,48414,1.5077e+05,4.7314e+05])\n",
    "blei_rate = blei_rate/150\n",
    "blei_dicke_err = np.array([0.01,0.009,0.007,0.009,0.007,0.001])\n",
    "blei_rate_err = np.array([77,101,220,352,666,1630])\n",
    "blei_rate_err = blei_rate*((blei_rate_err/(blei_rate*150))**2+(2*0.02)**2+(0.1/300)**2)**0.5"
   ]
  },
  {
   "cell_type": "code",
   "execution_count": 80,
   "metadata": {
    "collapsed": false
   },
   "outputs": [
    {
     "data": {
      "text/plain": [
       "array([   15.22666667,    55.33333333,   182.26      ,   322.76      ,\n",
       "        1005.13333333,  3154.26666667])"
      ]
     },
     "execution_count": 80,
     "metadata": {},
     "output_type": "execute_result"
    }
   ],
   "source": [
    "blei_rate"
   ]
  },
  {
   "cell_type": "code",
   "execution_count": 81,
   "metadata": {
    "collapsed": false
   },
   "outputs": [
    {
     "data": {
      "text/plain": [
       "array([   0.7965545 ,    2.31356055,    7.43671529,   13.12237964,\n",
       "         40.45113946,  126.64212198])"
      ]
     },
     "execution_count": 81,
     "metadata": {},
     "output_type": "execute_result"
    }
   ],
   "source": [
    "blei_rate_err"
   ]
  },
  {
   "cell_type": "code",
   "execution_count": 82,
   "metadata": {
    "collapsed": false
   },
   "outputs": [],
   "source": [
    "plt.errorbar(blei_dicke,blei_rate,yerr=blei_rate_err,xerr=blei_dicke_err,fmt=' .')\n",
    "plt.show()"
   ]
  },
  {
   "cell_type": "code",
   "execution_count": 83,
   "metadata": {
    "collapsed": false
   },
   "outputs": [],
   "source": [
    "mod_exp_blei = Model(exp_fit)"
   ]
  },
  {
   "cell_type": "code",
   "execution_count": 84,
   "metadata": {
    "collapsed": false
   },
   "outputs": [],
   "source": [
    "pars_exp_blei = mod_exp_blei.make_params(a=1,b=1)"
   ]
  },
  {
   "cell_type": "code",
   "execution_count": 85,
   "metadata": {
    "collapsed": false
   },
   "outputs": [],
   "source": [
    "out_exp_blei = mod_exp_blei.fit(blei_rate,params=pars_exp_blei,x=blei_dicke,weights=1/(blei_rate_err))"
   ]
  },
  {
   "cell_type": "code",
   "execution_count": 132,
   "metadata": {
    "collapsed": false
   },
   "outputs": [],
   "source": [
    "plt.errorbar(blei_dicke,blei_rate,yerr=blei_rate_err,xerr=blei_dicke_err,fmt=' h', label=\"Messdaten\",markersize=5)\n",
    "plt.plot(np.arange(2,8,0.01),out_exp_blei.eval(x=np.arange(2,8,0.01)), label=\"Fit\")\n",
    "plt.xlabel(\"Dicke / cm\",fontsize=24)\n",
    "plt.ylabel(\"Rate / Hz\",fontsize=24)\n",
    "plt.xticks(fontsize=18)\n",
    "plt.yticks(fontsize=18)\n",
    "plt.xlim([2,7.3])\n",
    "plt.ylim([-0.1,4000])\n",
    "plt.gca().get_yaxis().get_major_formatter().set_useOffset(False)\n",
    "plt.legend(loc='best',fontsize=24)\n",
    "plt.show()"
   ]
  },
  {
   "cell_type": "code",
   "execution_count": 87,
   "metadata": {
    "collapsed": false
   },
   "outputs": [
    {
     "name": "stdout",
     "output_type": "stream",
     "text": [
      "[[Model]]\n",
      "    Model(exp_fit)\n",
      "[[Fit Statistics]]\n",
      "    # function evals   = 101\n",
      "    # data points      = 6\n",
      "    # variables        = 2\n",
      "    chi-square         = 5.565\n",
      "    reduced chi-square = 1.391\n",
      "[[Variables]]\n",
      "    a:   59634.3202 +/- 3.92e+03 (6.57%) (init= 1)\n",
      "    b:   1.16084180 +/- 0.013626 (1.17%) (init= 1)\n",
      "[[Correlations]] (unreported correlations are <  0.100)\n",
      "    C(a, b)                      =  0.951 \n",
      "\n"
     ]
    }
   ],
   "source": [
    "print(out_exp_blei.fit_report())"
   ]
  },
  {
   "cell_type": "code",
   "execution_count": 88,
   "metadata": {
    "collapsed": false
   },
   "outputs": [
    {
     "name": "stdout",
     "output_type": "stream",
     "text": [
      "[ 17890296.06612308]\n"
     ]
    }
   ],
   "source": [
    "blei_0 = out_exp_blei.eval(x=np.array([0]))\n",
    "print(blei_0*300)"
   ]
  },
  {
   "cell_type": "code",
   "execution_count": 89,
   "metadata": {
    "collapsed": false
   },
   "outputs": [
    {
     "name": "stdout",
     "output_type": "stream",
     "text": [
      "1176012.5619003226\n"
     ]
    }
   ],
   "source": [
    "blei_0_err = ((3920*300)**2+(54356*0.1)**2)**0.5\n",
    "print(blei_0_err)"
   ]
  },
  {
   "cell_type": "code",
   "execution_count": 90,
   "metadata": {
    "collapsed": false
   },
   "outputs": [
    {
     "data": {
      "text/plain": [
       "array([ 0.06573466])"
      ]
     },
     "execution_count": 90,
     "metadata": {},
     "output_type": "execute_result"
    }
   ],
   "source": [
    "blei_0_err/(blei_0*300)"
   ]
  },
  {
   "cell_type": "code",
   "execution_count": 91,
   "metadata": {
    "collapsed": false
   },
   "outputs": [
    {
     "name": "stdout",
     "output_type": "stream",
     "text": [
      "[ 59634.32022041]\n"
     ]
    }
   ],
   "source": [
    "N = blei_0\n",
    "print(N)"
   ]
  },
  {
   "cell_type": "code",
   "execution_count": 92,
   "metadata": {
    "collapsed": false
   },
   "outputs": [
    {
     "name": "stdout",
     "output_type": "stream",
     "text": [
      "[  3.52803769e+08]\n"
     ]
    }
   ],
   "source": [
    "err_N = ((300*blei_0_err)**2+(0.01*blei_0))**0.5\n",
    "print(err_N)"
   ]
  },
  {
   "cell_type": "code",
   "execution_count": null,
   "metadata": {
    "collapsed": true
   },
   "outputs": [],
   "source": []
  },
  {
   "cell_type": "code",
   "execution_count": null,
   "metadata": {
    "collapsed": true
   },
   "outputs": [],
   "source": []
  },
  {
   "cell_type": "code",
   "execution_count": null,
   "metadata": {
    "collapsed": true
   },
   "outputs": [],
   "source": []
  },
  {
   "cell_type": "code",
   "execution_count": null,
   "metadata": {
    "collapsed": true
   },
   "outputs": [],
   "source": []
  },
  {
   "cell_type": "markdown",
   "metadata": {},
   "source": [
    "## Aluminium"
   ]
  },
  {
   "cell_type": "code",
   "execution_count": 93,
   "metadata": {
    "collapsed": true
   },
   "outputs": [],
   "source": [
    "alu_5cm = pd.read_csv(\"Messdaten/absorbtion/absorbtion_2,5cmBlei+5cmAlu_LLDhoch.csv\", header=14, delim_whitespace=True, names=['rate','error'], index_col=0)\n",
    "alu_4cm = pd.read_csv(\"Messdaten/absorbtion/absorbtion_2,5cmBlei+4cmAlu_LLDhoch.csv\", header=14, delim_whitespace=True, names=['rate','error'], index_col=0)\n",
    "alu_3cm = pd.read_csv(\"Messdaten/absorbtion/absorbtion_2,5cmBlei+3cmAlu_LLDhoch.csv\", header=14, delim_whitespace=True, names=['rate','error'], index_col=0)\n",
    "alu_2cm = pd.read_csv(\"Messdaten/absorbtion/absorbtion_2,5cmBlei+2cmAlu_LLDhoch.csv\", header=14, delim_whitespace=True, names=['rate','error'], index_col=0)\n",
    "alu_1cm = pd.read_csv(\"Messdaten/absorbtion/absorbtion_2,5cmBlei+1cmAlu_LLDhoch.csv\", header=14, delim_whitespace=True, names=['rate','error'], index_col=0)"
   ]
  },
  {
   "cell_type": "markdown",
   "metadata": {},
   "source": [
    "### 5cm"
   ]
  },
  {
   "cell_type": "code",
   "execution_count": 94,
   "metadata": {
    "collapsed": true
   },
   "outputs": [],
   "source": [
    "pars_absorb_alu_5cm = gauss_1.guess(alu_5cm.rate-untergrund.rate,x=x)\n",
    "# controll the center\n",
    "pars_absorb_alu_5cm['gauss_1_center'].set(1925, min=1900, max=2000)\n",
    "# controll the amplitude\n",
    "pars_absorb_alu_5cm['gauss_1_amplitude'].set(440*18, min=0)#, max=440*2.5)\n",
    "# controll sigma\n",
    "pars_absorb_alu_5cm['gauss_1_sigma'].set(20, min=1, max=68)"
   ]
  },
  {
   "cell_type": "code",
   "execution_count": 95,
   "metadata": {
    "collapsed": true
   },
   "outputs": [],
   "source": [
    "out_absorb_alu_5cm = gauss_1.fit(alu_5cm.rate[1890:1993]-untergrund.rate[1890:1993],params=pars_absorb_alu_5cm,x=x[1890:1993],weights=1/alu_5cm.error[1890:1993])"
   ]
  },
  {
   "cell_type": "code",
   "execution_count": 96,
   "metadata": {
    "collapsed": true
   },
   "outputs": [],
   "source": [
    "plt.errorbar(x,alu_5cm.rate-untergrund.rate, yerr=alu_5cm.error, fmt=' .g',label=\"Messdaten\")\n",
    "plt.plot(x,out_absorb_alu_5cm.eval(x=x), '-r', label=\"Fit\")\n",
    "plt.xlabel(\"Counts\",fontsize=24)\n",
    "plt.ylabel(\"Kanal\",fontsize=24)\n",
    "plt.xticks(fontsize=18)\n",
    "plt.yticks(fontsize=18)\n",
    "plt.legend(loc='best',fontsize=24)\n",
    "plt.show()"
   ]
  },
  {
   "cell_type": "code",
   "execution_count": 97,
   "metadata": {
    "collapsed": false
   },
   "outputs": [
    {
     "name": "stdout",
     "output_type": "stream",
     "text": [
      "[[Model]]\n",
      "    Model(gaussian, prefix='gauss_1_')\n",
      "[[Fit Statistics]]\n",
      "    # function evals   = 36\n",
      "    # data points      = 103\n",
      "    # variables        = 3\n",
      "    chi-square         = 218.822\n",
      "    reduced chi-square = 2.188\n",
      "[[Variables]]\n",
      "    gauss_1_sigma:       21.7995921 +/- 0.086371 (0.40%) (init= 20)\n",
      "    gauss_1_fwhm:        51.3341155 +/- 0.203390 (0.40%)  == '2.3548200*gauss_1_sigma'\n",
      "    gauss_1_amplitude:   1.7524e+05 +/- 705.9591 (0.40%) (init= 7920)\n",
      "    gauss_1_center:      1919.58544 +/- 0.113182 (0.01%) (init= 1925)\n",
      "[[Correlations]] (unreported correlations are <  0.100)\n",
      "    C(gauss_1_sigma, gauss_1_center)  = -0.554 \n",
      "    C(gauss_1_sigma, gauss_1_amplitude)  =  0.355 \n",
      "    C(gauss_1_amplitude, gauss_1_center)  = -0.344 \n",
      "\n"
     ]
    }
   ],
   "source": [
    "print(out_absorb_alu_5cm.fit_report())"
   ]
  },
  {
   "cell_type": "markdown",
   "metadata": {},
   "source": [
    "### 4cm"
   ]
  },
  {
   "cell_type": "code",
   "execution_count": 98,
   "metadata": {
    "collapsed": true
   },
   "outputs": [],
   "source": [
    "pars_absorb_alu_4cm = gauss_1.guess(alu_4cm.rate-untergrund.rate,x=x)\n",
    "# controll the center\n",
    "pars_absorb_alu_4cm['gauss_1_center'].set(1925, min=1900, max=2000)\n",
    "# controll the amplitude\n",
    "pars_absorb_alu_4cm['gauss_1_amplitude'].set(440*18, min=0)#, max=440*2.5)\n",
    "# controll sigma\n",
    "pars_absorb_alu_4cm['gauss_1_sigma'].set(20, min=1, max=68)"
   ]
  },
  {
   "cell_type": "code",
   "execution_count": 99,
   "metadata": {
    "collapsed": true
   },
   "outputs": [],
   "source": [
    "out_absorb_alu_4cm = gauss_1.fit(alu_4cm.rate[1890:1993]-untergrund.rate[1890:1993],params=pars_absorb_alu_4cm,x=x[1890:1993],weights=1/alu_4cm.error[1890:1993])"
   ]
  },
  {
   "cell_type": "code",
   "execution_count": 100,
   "metadata": {
    "collapsed": true
   },
   "outputs": [],
   "source": [
    "plt.errorbar(x,alu_4cm.rate-untergrund.rate, yerr=alu_4cm.error, fmt=' .g', label=\"Messdaten\")\n",
    "plt.plot(x,out_absorb_alu_4cm.eval(x=x), '-r', label=\"Fit\")\n",
    "plt.xlabel(\"Counts\",fontsize=24)\n",
    "plt.ylabel(\"Kanal\",fontsize=24)\n",
    "plt.xticks(fontsize=18)\n",
    "plt.yticks(fontsize=18)\n",
    "plt.legend(loc='best',fontsize=24)\n",
    "plt.show()"
   ]
  },
  {
   "cell_type": "code",
   "execution_count": 101,
   "metadata": {
    "collapsed": false
   },
   "outputs": [
    {
     "name": "stdout",
     "output_type": "stream",
     "text": [
      "[[Model]]\n",
      "    Model(gaussian, prefix='gauss_1_')\n",
      "[[Fit Statistics]]\n",
      "    # function evals   = 36\n",
      "    # data points      = 103\n",
      "    # variables        = 3\n",
      "    chi-square         = 175.467\n",
      "    reduced chi-square = 1.755\n",
      "[[Variables]]\n",
      "    gauss_1_sigma:       21.7704695 +/- 0.070450 (0.32%) (init= 20)\n",
      "    gauss_1_fwhm:        51.2655371 +/- 0.165897 (0.32%)  == '2.3548200*gauss_1_sigma'\n",
      "    gauss_1_amplitude:   2.1317e+05 +/- 696.5389 (0.33%) (init= 7920)\n",
      "    gauss_1_center:      1919.59185 +/- 0.091328 (0.00%) (init= 1925)\n",
      "[[Correlations]] (unreported correlations are <  0.100)\n",
      "    C(gauss_1_sigma, gauss_1_center)  = -0.549 \n",
      "    C(gauss_1_sigma, gauss_1_amplitude)  =  0.354 \n",
      "    C(gauss_1_amplitude, gauss_1_center)  = -0.342 \n",
      "\n"
     ]
    }
   ],
   "source": [
    "print(out_absorb_alu_4cm.fit_report())"
   ]
  },
  {
   "cell_type": "markdown",
   "metadata": {},
   "source": [
    "### 3cm"
   ]
  },
  {
   "cell_type": "code",
   "execution_count": 102,
   "metadata": {
    "collapsed": true
   },
   "outputs": [],
   "source": [
    "pars_absorb_alu_3cm = gauss_1.guess(alu_3cm.rate-untergrund.rate,x=x)\n",
    "# controll the center\n",
    "pars_absorb_alu_3cm['gauss_1_center'].set(1925, min=1900, max=2000)\n",
    "# controll the amplitude\n",
    "pars_absorb_alu_3cm['gauss_1_amplitude'].set(440*18, min=0)#, max=440*2.5)\n",
    "# controll sigma\n",
    "pars_absorb_alu_3cm['gauss_1_sigma'].set(20, min=1, max=68)"
   ]
  },
  {
   "cell_type": "code",
   "execution_count": 103,
   "metadata": {
    "collapsed": true
   },
   "outputs": [],
   "source": [
    "out_absorb_alu_3cm = gauss_1.fit(alu_3cm.rate[1890:1993]-untergrund.rate[1890:1993],params=pars_absorb_alu_3cm,x=x[1890:1993],weights=1/alu_3cm.error[1890:1993])"
   ]
  },
  {
   "cell_type": "code",
   "execution_count": 104,
   "metadata": {
    "collapsed": true
   },
   "outputs": [],
   "source": [
    "plt.errorbar(x,alu_3cm.rate-untergrund.rate, yerr=alu_3cm.error, fmt=' .g',label=\"Messdaten\")\n",
    "plt.plot(x,out_absorb_alu_3cm.eval(x=x), '-r',label=\"Fit\")\n",
    "plt.xlabel(\"Counts\",fontsize=24)\n",
    "plt.ylabel(\"Kanal\",fontsize=24)\n",
    "plt.xticks(fontsize=18)\n",
    "plt.yticks(fontsize=18)\n",
    "plt.legend(loc='best',fontsize=24)\n",
    "plt.show()"
   ]
  },
  {
   "cell_type": "code",
   "execution_count": 105,
   "metadata": {
    "collapsed": false
   },
   "outputs": [
    {
     "name": "stdout",
     "output_type": "stream",
     "text": [
      "[[Model]]\n",
      "    Model(gaussian, prefix='gauss_1_')\n",
      "[[Fit Statistics]]\n",
      "    # function evals   = 36\n",
      "    # data points      = 103\n",
      "    # variables        = 3\n",
      "    chi-square         = 193.138\n",
      "    reduced chi-square = 1.931\n",
      "[[Variables]]\n",
      "    gauss_1_sigma:       21.9524196 +/- 0.067588 (0.31%) (init= 20)\n",
      "    gauss_1_fwhm:        51.6939967 +/- 0.159159 (0.31%)  == '2.3548200*gauss_1_sigma'\n",
      "    gauss_1_amplitude:   2.6216e+05 +/- 815.6255 (0.31%) (init= 7920)\n",
      "    gauss_1_center:      1919.43538 +/- 0.088172 (0.00%) (init= 1925)\n",
      "[[Correlations]] (unreported correlations are <  0.100)\n",
      "    C(gauss_1_sigma, gauss_1_center)  = -0.558 \n",
      "    C(gauss_1_sigma, gauss_1_amplitude)  =  0.363 \n",
      "    C(gauss_1_amplitude, gauss_1_center)  = -0.354 \n",
      "\n"
     ]
    }
   ],
   "source": [
    "print(out_absorb_alu_3cm.fit_report())"
   ]
  },
  {
   "cell_type": "markdown",
   "metadata": {},
   "source": [
    "### 2cm"
   ]
  },
  {
   "cell_type": "code",
   "execution_count": 106,
   "metadata": {
    "collapsed": true
   },
   "outputs": [],
   "source": [
    "pars_absorb_alu_2cm = gauss_1.guess(alu_2cm.rate-untergrund.rate,x=x)\n",
    "# controll the center\n",
    "pars_absorb_alu_2cm['gauss_1_center'].set(1925, min=1900, max=2000)\n",
    "# controll the amplitude\n",
    "pars_absorb_alu_2cm['gauss_1_amplitude'].set(440*18, min=0)#, max=440*2.5)\n",
    "# controll sigma\n",
    "pars_absorb_alu_2cm['gauss_1_sigma'].set(20, min=1, max=68)"
   ]
  },
  {
   "cell_type": "code",
   "execution_count": 107,
   "metadata": {
    "collapsed": true
   },
   "outputs": [],
   "source": [
    "out_absorb_alu_2cm = gauss_1.fit(alu_2cm.rate[1890:1993]-untergrund.rate[1890:1993],params=pars_absorb_alu_2cm,x=x[1890:1993],weights=1/alu_2cm.error[1890:1993])"
   ]
  },
  {
   "cell_type": "code",
   "execution_count": 108,
   "metadata": {
    "collapsed": true
   },
   "outputs": [],
   "source": [
    "plt.errorbar(x,alu_2cm.rate-untergrund.rate, yerr=alu_2cm.error, fmt=' .g',label=\"Messdaten\")\n",
    "plt.plot(x,out_absorb_alu_2cm.eval(x=x), '-r',label=\"Fit\")\n",
    "plt.xlabel(\"Counts\",fontsize=24)\n",
    "plt.ylabel(\"Kanal\",fontsize=24)\n",
    "plt.xticks(fontsize=18)\n",
    "plt.yticks(fontsize=18)\n",
    "plt.legend(loc='best',fontsize=24)\n",
    "plt.show()"
   ]
  },
  {
   "cell_type": "code",
   "execution_count": 109,
   "metadata": {
    "collapsed": false
   },
   "outputs": [
    {
     "name": "stdout",
     "output_type": "stream",
     "text": [
      "[[Model]]\n",
      "    Model(gaussian, prefix='gauss_1_')\n",
      "[[Fit Statistics]]\n",
      "    # function evals   = 36\n",
      "    # data points      = 103\n",
      "    # variables        = 3\n",
      "    chi-square         = 231.897\n",
      "    reduced chi-square = 2.319\n",
      "[[Variables]]\n",
      "    gauss_1_sigma:       22.0028371 +/- 0.067599 (0.31%) (init= 20)\n",
      "    gauss_1_fwhm:        51.8127210 +/- 0.159185 (0.31%)  == '2.3548200*gauss_1_sigma'\n",
      "    gauss_1_amplitude:   3.1760e+05 +/- 982.1848 (0.31%) (init= 7920)\n",
      "    gauss_1_center:      1919.61995 +/- 0.087786 (0.00%) (init= 1925)\n",
      "[[Correlations]] (unreported correlations are <  0.100)\n",
      "    C(gauss_1_sigma, gauss_1_center)  = -0.558 \n",
      "    C(gauss_1_sigma, gauss_1_amplitude)  =  0.362 \n",
      "    C(gauss_1_amplitude, gauss_1_center)  = -0.351 \n",
      "\n"
     ]
    }
   ],
   "source": [
    "print(out_absorb_alu_2cm.fit_report())"
   ]
  },
  {
   "cell_type": "markdown",
   "metadata": {},
   "source": [
    "### 1cm"
   ]
  },
  {
   "cell_type": "code",
   "execution_count": 110,
   "metadata": {
    "collapsed": true
   },
   "outputs": [],
   "source": [
    "pars_absorb_alu_1cm = gauss_1.guess(alu_1cm.rate-untergrund.rate,x=x)\n",
    "# controll the center\n",
    "pars_absorb_alu_1cm['gauss_1_center'].set(1925, min=1900, max=2000)\n",
    "# controll the amplitude\n",
    "pars_absorb_alu_1cm['gauss_1_amplitude'].set(440*18, min=0)#, max=440*2.5)\n",
    "# controll sigma\n",
    "pars_absorb_alu_1cm['gauss_1_sigma'].set(20, min=1, max=68)"
   ]
  },
  {
   "cell_type": "code",
   "execution_count": 111,
   "metadata": {
    "collapsed": false
   },
   "outputs": [],
   "source": [
    "out_absorb_alu_1cm = gauss_1.fit(alu_1cm.rate[1870:2000]-untergrund.rate[1870:2000],params=pars_absorb_alu_1cm,x=x[1870:2000],weights=1/alu_1cm.error[1870:2000])"
   ]
  },
  {
   "cell_type": "code",
   "execution_count": 112,
   "metadata": {
    "collapsed": false
   },
   "outputs": [],
   "source": [
    "plt.errorbar(x,alu_1cm.rate-untergrund.rate, yerr=alu_1cm.error, fmt=' .g', label=\"Messwerte\")\n",
    "plt.plot(x,out_absorb_alu_1cm.eval(x=x), '-r', label=\"Fit\")\n",
    "plt.xlabel(\"Kanal\",fontsize=24)\n",
    "plt.ylabel(\"Counts\",fontsize=24)\n",
    "plt.xticks(fontsize=18)\n",
    "plt.yticks(fontsize=18)\n",
    "plt.ticklabel_format(style='sci', axis='y', scilimits=(-5,5))\n",
    "plt.legend(loc='best',fontsize=24)\n",
    "plt.show()"
   ]
  },
  {
   "cell_type": "code",
   "execution_count": 113,
   "metadata": {
    "collapsed": false
   },
   "outputs": [
    {
     "name": "stdout",
     "output_type": "stream",
     "text": [
      "[[Model]]\n",
      "    Model(gaussian, prefix='gauss_1_')\n",
      "[[Fit Statistics]]\n",
      "    # function evals   = 35\n",
      "    # data points      = 130\n",
      "    # variables        = 3\n",
      "    chi-square         = 1106.817\n",
      "    reduced chi-square = 8.715\n",
      "[[Variables]]\n",
      "    gauss_1_sigma:       22.8088437 +/- 0.090694 (0.40%) (init= 20)\n",
      "    gauss_1_fwhm:        53.7107214 +/- 0.213568 (0.40%)  == '2.3548200*gauss_1_sigma'\n",
      "    gauss_1_amplitude:   3.9310e+05 +/- 1.88e+03 (0.48%) (init= 7920)\n",
      "    gauss_1_center:      1918.61200 +/- 0.117355 (0.01%) (init= 1925)\n",
      "[[Correlations]] (unreported correlations are <  0.100)\n",
      "    C(gauss_1_sigma, gauss_1_center)  = -0.247 \n",
      "\n"
     ]
    }
   ],
   "source": [
    "print(out_absorb_alu_1cm.fit_report())"
   ]
  },
  {
   "cell_type": "markdown",
   "metadata": {},
   "source": [
    "#### Exponentieller Zusammenhang Alu"
   ]
  },
  {
   "cell_type": "code",
   "execution_count": 188,
   "metadata": {
    "collapsed": false
   },
   "outputs": [],
   "source": [
    "alu_dicke = np.array([7.6025-2.5,6.585-2.5,5.57-2.5,4.55-2.5,3.545-2.5,0])\n",
    "alu_rate = np.array([1.7524e+05,2.1317e+05,2.6216e+05,3.1760e+05,3.9311e+05,4.7314e+05])\n",
    "alu_rate = alu_rate/150\n",
    "alu_dicke_err = np.array([0.002,0.002,0.002,0.001,0.001,0.001])\n",
    "alu_rate_err = np.array([705,696,815,982,1.42e+03,1.63e+03])\n",
    "alu_rate_err = (alu_rate*((alu_rate_err/alu_rate)**2+(2*0.02)**2+(0.1/300)**2)**0.5)/70"
   ]
  },
  {
   "cell_type": "code",
   "execution_count": 189,
   "metadata": {
    "collapsed": false
   },
   "outputs": [
    {
     "data": {
      "text/plain": [
       "array([ 1168.26666667,  1421.13333333,  1747.73333333,  2117.33333333,\n",
       "        2620.73333333,  3154.26666667])"
      ]
     },
     "execution_count": 189,
     "metadata": {},
     "output_type": "execute_result"
    }
   ],
   "source": [
    "alu_rate"
   ]
  },
  {
   "cell_type": "code",
   "execution_count": 190,
   "metadata": {
    "collapsed": false
   },
   "outputs": [
    {
     "data": {
      "text/plain": [
       "array([ 10.09353103,   9.97596721,  11.68561521,  14.08065295,\n",
       "        20.34092062,  23.35537408])"
      ]
     },
     "execution_count": 190,
     "metadata": {},
     "output_type": "execute_result"
    }
   ],
   "source": [
    "alu_rate_err"
   ]
  },
  {
   "cell_type": "code",
   "execution_count": 191,
   "metadata": {
    "collapsed": true
   },
   "outputs": [],
   "source": [
    "mod_exp_alu = Model(exp_fit)"
   ]
  },
  {
   "cell_type": "code",
   "execution_count": 192,
   "metadata": {
    "collapsed": false
   },
   "outputs": [],
   "source": [
    "pars_exp_alu = mod_exp_alu.make_params(a=1,b=0.19845671)"
   ]
  },
  {
   "cell_type": "code",
   "execution_count": 193,
   "metadata": {
    "collapsed": false
   },
   "outputs": [],
   "source": [
    "out_exp_alu = mod_exp_alu.fit(alu_rate,params=pars_exp_alu,x=alu_dicke,weights=1/(alu_rate_err))"
   ]
  },
  {
   "cell_type": "code",
   "execution_count": 199,
   "metadata": {
    "collapsed": false
   },
   "outputs": [],
   "source": [
    "plt.errorbar(alu_dicke,alu_rate,yerr=alu_rate_err*1.5,xerr=alu_dicke_err,fmt=' .', label=\"Messdaten\")\n",
    "plt.plot(np.arange(-1,8,0.01),out_exp_alu.eval(x=np.arange(-1,8,0.01)), label=\"Fit\")\n",
    "plt.xlabel(\"Dicke / cm\",fontsize=24)\n",
    "plt.ylabel(\"Rate / Hz\",fontsize=24)\n",
    "plt.xticks(fontsize=18)\n",
    "plt.yticks(fontsize=18)\n",
    "plt.xlim([-0.1,5.7])\n",
    "#plt.ylim([1.5*10**5,4.5*10**5])\n",
    "plt.gca().get_yaxis().get_major_formatter().set_useOffset(False)\n",
    "plt.legend(loc='best',fontsize=24)\n",
    "plt.show()"
   ]
  },
  {
   "cell_type": "code",
   "execution_count": 195,
   "metadata": {
    "collapsed": false
   },
   "outputs": [
    {
     "name": "stdout",
     "output_type": "stream",
     "text": [
      "[[Model]]\n",
      "    Model(exp_fit)\n",
      "[[Fit Statistics]]\n",
      "    # function evals   = 68\n",
      "    # data points      = 6\n",
      "    # variables        = 2\n",
      "    chi-square         = 4.475\n",
      "    reduced chi-square = 1.119\n",
      "[[Variables]]\n",
      "    a:   3176.73339 +/- 18.20598 (0.57%) (init= 1)\n",
      "    b:   0.19601256 +/- 0.001918 (0.98%) (init= 0.1984567)\n",
      "[[Correlations]] (unreported correlations are <  0.100)\n",
      "    C(a, b)                      =  0.837 \n",
      "\n"
     ]
    }
   ],
   "source": [
    "print(out_exp_alu.fit_report())"
   ]
  },
  {
   "cell_type": "markdown",
   "metadata": {},
   "source": [
    "#### Bestimmen der Counts ohne Material vor dem Detektor"
   ]
  },
  {
   "cell_type": "code",
   "execution_count": 122,
   "metadata": {
    "collapsed": false
   },
   "outputs": [
    {
     "data": {
      "text/plain": [
       "array([ 59634.32022041])"
      ]
     },
     "execution_count": 122,
     "metadata": {},
     "output_type": "execute_result"
    }
   ],
   "source": [
    "out_exp_blei.eval(x=np.array([0]))"
   ]
  },
  {
   "cell_type": "code",
   "execution_count": 123,
   "metadata": {
    "collapsed": false
   },
   "outputs": [
    {
     "data": {
      "text/plain": [
       "array([ 76928.27308433])"
      ]
     },
     "execution_count": 123,
     "metadata": {},
     "output_type": "execute_result"
    }
   ],
   "source": [
    "out_exp_blei.eval(x=np.arange(0,1))*300*0.0043"
   ]
  },
  {
   "cell_type": "code",
   "execution_count": 124,
   "metadata": {
    "collapsed": false
   },
   "outputs": [
    {
     "data": {
      "text/plain": [
       "3.3333333333333215"
      ]
     },
     "execution_count": 124,
     "metadata": {},
     "output_type": "execute_result"
    }
   ],
   "source": [
    "(1-0.116/0.120)*100"
   ]
  },
  {
   "cell_type": "code",
   "execution_count": null,
   "metadata": {
    "collapsed": true
   },
   "outputs": [],
   "source": []
  },
  {
   "cell_type": "code",
   "execution_count": 198,
   "metadata": {
    "collapsed": false
   },
   "outputs": [
    {
     "data": {
      "text/plain": [
       "-3.157894736842115"
      ]
     },
     "execution_count": 198,
     "metadata": {},
     "output_type": "execute_result"
    }
   ],
   "source": [
    "(1-0.0196/0.0190)*100"
   ]
  },
  {
   "cell_type": "code",
   "execution_count": null,
   "metadata": {
    "collapsed": true
   },
   "outputs": [],
   "source": []
  },
  {
   "cell_type": "code",
   "execution_count": 126,
   "metadata": {
    "collapsed": false
   },
   "outputs": [],
   "source": [
    "Wirkungsquerschnitte = pd.read_csv(\"Messdaten/Grad/Winkel_WQ.csv\", header=0, delim_whitespace=True, names=['Theta','error_Theta','WQ_geom_korr','error_WQ_geom_korr','WQ_KN_th','error_WQ_KN_th','WQ_KN_exp','error_WQ_KN_exp','WQ_Thompson','error_WQ_Thompson','WQ_geom','error_WQ_geom'], index_col=0)"
   ]
  },
  {
   "cell_type": "code",
   "execution_count": 127,
   "metadata": {
    "collapsed": false
   },
   "outputs": [],
   "source": [
    "a = list(Wirkungsquerschnitte.Theta)\n",
    "b = list(Wirkungsquerschnitte.WQ_geom_korr)\n",
    "c = list(Wirkungsquerschnitte.error_WQ_geom_korr)"
   ]
  },
  {
   "cell_type": "code",
   "execution_count": 128,
   "metadata": {
    "collapsed": false
   },
   "outputs": [
    {
     "data": {
      "text/plain": [
       "[9.0699017441500001,\n",
       " 6.4443289243599997,\n",
       " 5.27115902232,\n",
       " 4.7116389105199996,\n",
       " 4.4934924754400001,\n",
       " 4.5175267000000003,\n",
       " 4.7568854754400007]"
      ]
     },
     "execution_count": 128,
     "metadata": {},
     "output_type": "execute_result"
    }
   ],
   "source": [
    "c"
   ]
  },
  {
   "cell_type": "code",
   "execution_count": 129,
   "metadata": {
    "collapsed": false
   },
   "outputs": [],
   "source": [
    "plt.errorbar(a,b,yerr=c, fmt=' pg', markersize=7, label=\"Geometrisch korriegerter WQ\")\n",
    "plt.xlabel(r\"Winkel/$^\\circ$\",fontsize=24)\n",
    "plt.ylabel(r\"Wirkungsquerschnitt/10$^{-2}$b\",fontsize=24)\n",
    "plt.xticks(fontsize=18)\n",
    "plt.yticks(fontsize=18)\n",
    "plt.legend(loc='best',fontsize=24)\n",
    "plt.xlim([15,85])\n",
    "plt.legend(loc='best', fontsize=24)\n",
    "plt.show()"
   ]
  },
  {
   "cell_type": "code",
   "execution_count": 130,
   "metadata": {
    "collapsed": false
   },
   "outputs": [
    {
     "data": {
      "text/html": [
       "<div>\n",
       "<table border=\"1\" class=\"dataframe\">\n",
       "  <thead>\n",
       "    <tr style=\"text-align: right;\">\n",
       "      <th></th>\n",
       "      <th>Theta</th>\n",
       "      <th>error_Theta</th>\n",
       "      <th>WQ_geom_korr</th>\n",
       "      <th>error_WQ_geom_korr</th>\n",
       "      <th>WQ_KN_th</th>\n",
       "      <th>error_WQ_KN_th</th>\n",
       "      <th>WQ_KN_exp</th>\n",
       "      <th>error_WQ_KN_exp</th>\n",
       "      <th>WQ_Thompson</th>\n",
       "      <th>error_WQ_Thompson</th>\n",
       "      <th>WQ_geom</th>\n",
       "      <th>error_WQ_geom</th>\n",
       "    </tr>\n",
       "  </thead>\n",
       "  <tbody>\n",
       "    <tr>\n",
       "      <th>1</th>\n",
       "      <td>20</td>\n",
       "      <td>0.5</td>\n",
       "      <td>8.940036</td>\n",
       "      <td>9.069902</td>\n",
       "      <td>6.451370</td>\n",
       "      <td>0.038550</td>\n",
       "      <td>6.731011</td>\n",
       "      <td>0.186873</td>\n",
       "      <td>7.476340</td>\n",
       "      <td>0.022271</td>\n",
       "      <td>10.651111</td>\n",
       "      <td>0.695215</td>\n",
       "    </tr>\n",
       "    <tr>\n",
       "      <th>2</th>\n",
       "      <td>30</td>\n",
       "      <td>0.5</td>\n",
       "      <td>7.675762</td>\n",
       "      <td>6.444329</td>\n",
       "      <td>5.118962</td>\n",
       "      <td>0.042649</td>\n",
       "      <td>5.695862</td>\n",
       "      <td>0.271449</td>\n",
       "      <td>6.948189</td>\n",
       "      <td>0.030006</td>\n",
       "      <td>9.445637</td>\n",
       "      <td>0.561719</td>\n",
       "    </tr>\n",
       "    <tr>\n",
       "      <th>3</th>\n",
       "      <td>40</td>\n",
       "      <td>0.5</td>\n",
       "      <td>5.350504</td>\n",
       "      <td>5.271159</td>\n",
       "      <td>3.875176</td>\n",
       "      <td>0.038936</td>\n",
       "      <td>4.351761</td>\n",
       "      <td>0.281432</td>\n",
       "      <td>6.300317</td>\n",
       "      <td>0.034122</td>\n",
       "      <td>7.207117</td>\n",
       "      <td>0.399351</td>\n",
       "    </tr>\n",
       "    <tr>\n",
       "      <th>4</th>\n",
       "      <td>50</td>\n",
       "      <td>0.5</td>\n",
       "      <td>3.725985</td>\n",
       "      <td>4.711639</td>\n",
       "      <td>2.893940</td>\n",
       "      <td>0.031761</td>\n",
       "      <td>3.265765</td>\n",
       "      <td>0.246973</td>\n",
       "      <td>5.610865</td>\n",
       "      <td>0.034122</td>\n",
       "      <td>5.702276</td>\n",
       "      <td>0.306798</td>\n",
       "    </tr>\n",
       "    <tr>\n",
       "      <th>5</th>\n",
       "      <td>60</td>\n",
       "      <td>0.5</td>\n",
       "      <td>2.495210</td>\n",
       "      <td>4.493492</td>\n",
       "      <td>2.200304</td>\n",
       "      <td>0.024171</td>\n",
       "      <td>2.461840</td>\n",
       "      <td>0.216385</td>\n",
       "      <td>4.962992</td>\n",
       "      <td>0.030006</td>\n",
       "      <td>4.631497</td>\n",
       "      <td>0.238110</td>\n",
       "    </tr>\n",
       "    <tr>\n",
       "      <th>6</th>\n",
       "      <td>70</td>\n",
       "      <td>0.5</td>\n",
       "      <td>1.693113</td>\n",
       "      <td>4.517527</td>\n",
       "      <td>1.746274</td>\n",
       "      <td>0.017665</td>\n",
       "      <td>1.925710</td>\n",
       "      <td>0.193881</td>\n",
       "      <td>4.434842</td>\n",
       "      <td>0.022271</td>\n",
       "      <td>4.040410</td>\n",
       "      <td>0.203349</td>\n",
       "    </tr>\n",
       "    <tr>\n",
       "      <th>7</th>\n",
       "      <td>80</td>\n",
       "      <td>0.5</td>\n",
       "      <td>0.935232</td>\n",
       "      <td>4.756885</td>\n",
       "      <td>1.466655</td>\n",
       "      <td>0.012758</td>\n",
       "      <td>1.596763</td>\n",
       "      <td>0.143758</td>\n",
       "      <td>4.090116</td>\n",
       "      <td>0.011850</td>\n",
       "      <td>3.560018</td>\n",
       "      <td>0.174657</td>\n",
       "    </tr>\n",
       "  </tbody>\n",
       "</table>\n",
       "</div>"
      ],
      "text/plain": [
       "   Theta  error_Theta  WQ_geom_korr  error_WQ_geom_korr  WQ_KN_th  \\\n",
       "1     20          0.5      8.940036            9.069902  6.451370   \n",
       "2     30          0.5      7.675762            6.444329  5.118962   \n",
       "3     40          0.5      5.350504            5.271159  3.875176   \n",
       "4     50          0.5      3.725985            4.711639  2.893940   \n",
       "5     60          0.5      2.495210            4.493492  2.200304   \n",
       "6     70          0.5      1.693113            4.517527  1.746274   \n",
       "7     80          0.5      0.935232            4.756885  1.466655   \n",
       "\n",
       "   error_WQ_KN_th  WQ_KN_exp  error_WQ_KN_exp  WQ_Thompson  error_WQ_Thompson  \\\n",
       "1        0.038550   6.731011         0.186873     7.476340           0.022271   \n",
       "2        0.042649   5.695862         0.271449     6.948189           0.030006   \n",
       "3        0.038936   4.351761         0.281432     6.300317           0.034122   \n",
       "4        0.031761   3.265765         0.246973     5.610865           0.034122   \n",
       "5        0.024171   2.461840         0.216385     4.962992           0.030006   \n",
       "6        0.017665   1.925710         0.193881     4.434842           0.022271   \n",
       "7        0.012758   1.596763         0.143758     4.090116           0.011850   \n",
       "\n",
       "     WQ_geom  error_WQ_geom  \n",
       "1  10.651111       0.695215  \n",
       "2   9.445637       0.561719  \n",
       "3   7.207117       0.399351  \n",
       "4   5.702276       0.306798  \n",
       "5   4.631497       0.238110  \n",
       "6   4.040410       0.203349  \n",
       "7   3.560018       0.174657  "
      ]
     },
     "execution_count": 130,
     "metadata": {},
     "output_type": "execute_result"
    }
   ],
   "source": [
    "Wirkungsquerschnitte"
   ]
  },
  {
   "cell_type": "code",
   "execution_count": 131,
   "metadata": {
    "collapsed": false
   },
   "outputs": [],
   "source": [
    "plt.errorbar(list(Wirkungsquerschnitte.Theta),list(Wirkungsquerschnitte.WQ_KN_exp),yerr=list(Wirkungsquerschnitte.error_WQ_KN_exp),label=\"Kleine-Nishina experimentell\" ,fmt=' h', markersize=7)\n",
    "plt.errorbar(list(Wirkungsquerschnitte.Theta),list(Wirkungsquerschnitte.WQ_KN_th),yerr=list(Wirkungsquerschnitte.error_WQ_KN_th),label=\"Kleine-Nishina theoretisch\" ,fmt=' h', markersize=7)\n",
    "plt.errorbar(list(Wirkungsquerschnitte.Theta),list(Wirkungsquerschnitte.WQ_Thompson),yerr=list(Wirkungsquerschnitte.error_WQ_Thompson),label=\"Thompson\" ,fmt=' h', markersize=7)\n",
    "plt.errorbar(list(Wirkungsquerschnitte.Theta),list(Wirkungsquerschnitte.WQ_geom),yerr=list(Wirkungsquerschnitte.error_WQ_geom),label=\"Geometrisch\" ,fmt=' h', markersize=7)\n",
    "plt.xlabel(r\"Winkel/$^\\circ$\",fontsize=24)\n",
    "plt.ylabel(r\"Wirkungsquerschnitt/10$^{-2}$b\",fontsize=24)\n",
    "plt.xticks(fontsize=18)\n",
    "plt.yticks(fontsize=18)\n",
    "plt.legend(loc='best',fontsize=24)\n",
    "plt.xlim([15,85])\n",
    "plt.show()"
   ]
  },
  {
   "cell_type": "code",
   "execution_count": null,
   "metadata": {
    "collapsed": true
   },
   "outputs": [],
   "source": []
  }
 ],
 "metadata": {
  "kernelspec": {
   "display_name": "Python 3",
   "language": "python",
   "name": "python3"
  },
  "language_info": {
   "codemirror_mode": {
    "name": "ipython",
    "version": 3
   },
   "file_extension": ".py",
   "mimetype": "text/x-python",
   "name": "python",
   "nbconvert_exporter": "python",
   "pygments_lexer": "ipython3",
   "version": "3.5.1"
  }
 },
 "nbformat": 4,
 "nbformat_minor": 0
}
