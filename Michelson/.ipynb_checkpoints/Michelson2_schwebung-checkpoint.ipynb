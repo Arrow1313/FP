{
 "cells": [
  {
   "cell_type": "code",
   "execution_count": 2,
   "metadata": {
    "collapsed": false
   },
   "outputs": [
    {
     "name": "stderr",
     "output_type": "stream",
     "text": [
      "/home/arrow13/anaconda3/lib/python3.4/site-packages/IPython/html.py:14: ShimWarning: The `IPython.html` package has been deprecated. You should import from `notebook` instead. `IPython.html.widgets` has moved to `ipywidgets`.\n",
      "  \"`IPython.html.widgets` has moved to `ipywidgets`.\", ShimWarning)\n"
     ]
    }
   ],
   "source": [
    "import numpy as np\n",
    "import pandas as pd\n",
    "import matplotlib.pyplot as plt\n",
    "import scipy.optimize as opt\n",
    "from lmfit import models\n",
    "from lmfit import Model"
   ]
  },
  {
   "cell_type": "code",
   "execution_count": 5,
   "metadata": {
    "collapsed": true
   },
   "outputs": [],
   "source": [
    "pc_henrik = '/home/arrow13/Git/FP/Michelson/'\n",
    "pc_frederik = '/home/frederik/Dokumente/FP/Michelson/'"
   ]
  },
  {
   "cell_type": "code",
   "execution_count": 6,
   "metadata": {
    "collapsed": true
   },
   "outputs": [],
   "source": [
    "var_pc = pc_henrik"
   ]
  },
  {
   "cell_type": "code",
   "execution_count": 7,
   "metadata": {
    "collapsed": false
   },
   "outputs": [
    {
     "name": "stdout",
     "output_type": "stream",
     "text": [
      "/home/arrow13/Git/FP/Michelson/Messdaten\n"
     ]
    }
   ],
   "source": [
    "cd $var_pc/Messdaten"
   ]
  },
  {
   "cell_type": "markdown",
   "metadata": {},
   "source": [
    "# Schwebung"
   ]
  },
  {
   "cell_type": "code",
   "execution_count": 11,
   "metadata": {
    "collapsed": true
   },
   "outputs": [],
   "source": [
    "data_schwebung = np.genfromtxt('schwebung.txt',delimiter='\\t').T"
   ]
  },
  {
   "cell_type": "code",
   "execution_count": 16,
   "metadata": {
    "collapsed": false
   },
   "outputs": [],
   "source": [
    "plt.plot(data_schwebung[0],data_schwebung[1])\n",
    "plt.xlim(28000,45000)\n",
    "plt.ylabel('Spannung/100mV')\n",
    "plt.show()"
   ]
  },
  {
   "cell_type": "code",
   "execution_count": 17,
   "metadata": {
    "collapsed": true
   },
   "outputs": [],
   "source": [
    "data_eichung_schwebung = np.genfromtxt('eichung_schwebung.dat',delimiter='\\t').T"
   ]
  },
  {
   "cell_type": "code",
   "execution_count": 90,
   "metadata": {
    "collapsed": false
   },
   "outputs": [],
   "source": [
    "plt.plot(data_eichung_schwebung[0],data_eichung_schwebung[1], '.r')\n",
    "plt.ylim(4.5,5.4)\n",
    "plt.yticks(np.arange(4.5,5.5,0.1))\n",
    "plt.show()"
   ]
  },
  {
   "cell_type": "code",
   "execution_count": 40,
   "metadata": {
    "collapsed": false
   },
   "outputs": [
    {
     "data": {
      "text/plain": [
       "33462.916666666664"
      ]
     },
     "execution_count": 40,
     "metadata": {},
     "output_type": "execute_result"
    }
   ],
   "source": [
    "np.sum(data_eichung_schwebung[0])/len(data_eichung_schwebung[0])"
   ]
  },
  {
   "cell_type": "code",
   "execution_count": 85,
   "metadata": {
    "collapsed": false
   },
   "outputs": [],
   "source": [
    "schwebung_eichung_model = models.LinearModel()\n",
    "xyz = -np.sum(data_eichung_schwebung[0])/len(data_eichung_schwebung[0])*np.arange(1,len(data_eichung_schwebung[0])+1)/np.arange(1,len(data_eichung_schwebung[0])+1)\n",
    "schwebung_eichung_guesse = schwebung_eichung_model.guess(data_eichung_schwebung[1],x=data_eichung_schwebung[0]+xyz)\n",
    "schwebung_eichung_out = schwebung_eichung_model.fit(data_eichung_schwebung[1],schwebung_eichung_guesse,x=data_eichung_schwebung[0]+xyz)"
   ]
  },
  {
   "cell_type": "code",
   "execution_count": 87,
   "metadata": {
    "collapsed": true
   },
   "outputs": [],
   "source": [
    "schwebung_eichung_model = models.LinearModel() #ohne xyz\n",
    "xyz = -np.sum(data_eichung_schwebung[0])/len(data_eichung_schwebung[0])*np.arange(1,len(data_eichung_schwebung[0])+1)/np.arange(1,len(data_eichung_schwebung[0])+1)\n",
    "schwebung_eichung_guesse = schwebung_eichung_model.guess(data_eichung_schwebung[1],x=data_eichung_schwebung[0])\n",
    "schwebung_eichung_out = schwebung_eichung_model.fit(data_eichung_schwebung[1],schwebung_eichung_guesse,x=data_eichung_schwebung[0])"
   ]
  },
  {
   "cell_type": "code",
   "execution_count": 88,
   "metadata": {
    "collapsed": false
   },
   "outputs": [
    {
     "name": "stdout",
     "output_type": "stream",
     "text": [
      "[[Model]]\n",
      "    Model(linear)\n",
      "[[Fit Statistics]]\n",
      "    # function evals   = 3\n",
      "    # data points      = 12\n",
      "    # variables        = 2\n",
      "    chi-square         = 0.000\n",
      "    reduced chi-square = 0.000\n",
      "[[Variables]]\n",
      "    slope:       5.0098e-05 +/- 7.78e-08 (0.16%) (init= 5.009768e-05)\n",
      "    intercept:   3.14858571 +/- 0.002625 (0.08%) (init= 3.148586)\n",
      "[[Correlations]] (unreported correlations are <  0.100)\n",
      "    C(slope, intercept)          = -0.992 \n"
     ]
    }
   ],
   "source": [
    "schwebung_eichung_out.plot_fit()\n",
    "#plt.show()\n",
    "print(schwebung_eichung_out.fit_report())"
   ]
  },
  {
   "cell_type": "code",
   "execution_count": 116,
   "metadata": {
    "collapsed": false
   },
   "outputs": [],
   "source": [
    "plt.plot(data_eichung_schwebung[0]/1000,data_eichung_schwebung[1], '.r', label = 'Eichdaten')\n",
    "plt.plot(np.arange(28,44,0.1),schwebung_eichung_out.eval(x = np.arange(28000,44000,100)), label = 'Regressionsgerade')\n",
    "plt.ylim(4.5,5.4)\n",
    "plt.ylabel(r'S/$\\mu$m', size = 20)\n",
    "plt.legend(loc = 'best', fontsize = 20)\n",
    "plt.xlabel('x-Wert/$10^3$', size = 20)\n",
    "plt.yticks(np.arange(4.5,5.5,0.1),size=20)\n",
    "plt.xticks(size=20)\n",
    "plt.show()"
   ]
  },
  {
   "cell_type": "code",
   "execution_count": null,
   "metadata": {
    "collapsed": true
   },
   "outputs": [],
   "source": []
  }
 ],
 "metadata": {
  "kernelspec": {
   "display_name": "Python 3",
   "language": "python",
   "name": "python3"
  },
  "language_info": {
   "codemirror_mode": {
    "name": "ipython",
    "version": 3
   },
   "file_extension": ".py",
   "mimetype": "text/x-python",
   "name": "python",
   "nbconvert_exporter": "python",
   "pygments_lexer": "ipython3",
   "version": "3.4.3"
  }
 },
 "nbformat": 4,
 "nbformat_minor": 0
}
