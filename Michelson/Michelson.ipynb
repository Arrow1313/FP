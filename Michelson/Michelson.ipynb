{
 "cells": [
  {
   "cell_type": "code",
   "execution_count": 3,
   "metadata": {
    "collapsed": false
   },
   "outputs": [
    {
     "name": "stderr",
     "output_type": "stream",
     "text": [
      "/home/frederik/anaconda3/lib/python3.4/site-packages/IPython/html.py:14: ShimWarning: The `IPython.html` package has been deprecated. You should import from `notebook` instead. `IPython.html.widgets` has moved to `ipywidgets`.\n",
      "  \"`IPython.html.widgets` has moved to `ipywidgets`.\", ShimWarning)\n"
     ]
    }
   ],
   "source": [
    "import numpy as np\n",
    "import pandas as pd\n",
    "import matplotlib.pyplot as plt\n",
    "import scipy.optimize as opt\n",
    "from lmfit import models\n",
    "from lmfit import Model"
   ]
  },
  {
   "cell_type": "code",
   "execution_count": 4,
   "metadata": {
    "collapsed": true
   },
   "outputs": [],
   "source": [
    "pc_henrik = '/home/arrow13/Git/FP/Roentgen/'\n",
    "pc_frederik = '/home/frederik/Dokumente/FP/Michelson/'"
   ]
  },
  {
   "cell_type": "code",
   "execution_count": 5,
   "metadata": {
    "collapsed": true
   },
   "outputs": [],
   "source": [
    "var_pc = pc_frederik"
   ]
  },
  {
   "cell_type": "code",
   "execution_count": 6,
   "metadata": {
    "collapsed": false
   },
   "outputs": [
    {
     "name": "stdout",
     "output_type": "stream",
     "text": [
      "/home/frederik/Dokumente/FP/Michelson/Messdaten\n"
     ]
    }
   ],
   "source": [
    "cd $var_pc/Messdaten"
   ]
  },
  {
   "cell_type": "markdown",
   "metadata": {},
   "source": [
    "# Spannung in Abhängigkeit der Chopperfrequenz"
   ]
  },
  {
   "cell_type": "code",
   "execution_count": 7,
   "metadata": {
    "collapsed": false
   },
   "outputs": [],
   "source": [
    "data_chopper = np.genfromtxt('chopper.dat',delimiter='\\t').T"
   ]
  },
  {
   "cell_type": "code",
   "execution_count": 8,
   "metadata": {
    "collapsed": true
   },
   "outputs": [],
   "source": [
    "def chopper(x,A,B):\n",
    "    return np.exp(A*np.log(x)+B)"
   ]
  },
  {
   "cell_type": "code",
   "execution_count": 9,
   "metadata": {
    "collapsed": false
   },
   "outputs": [],
   "source": [
    "model_chopper = Model(chopper,prefix='chop')\n",
    "guess_chopper = model_chopper.make_params()\n",
    "guess_chopper['chopA'].set(-0.8)\n",
    "guess_chopper['chopB'].set(5)\n",
    "out_chopper = model_chopper.fit(data_chopper[1],guess_chopper,x=data_chopper[0],weights=1/(data_chopper[3]/2))"
   ]
  },
  {
   "cell_type": "code",
   "execution_count": 10,
   "metadata": {
    "collapsed": true
   },
   "outputs": [],
   "source": [
    "out_chopper.plot_fit()\n",
    "plt.show()"
   ]
  },
  {
   "cell_type": "code",
   "execution_count": 11,
   "metadata": {
    "collapsed": false
   },
   "outputs": [
    {
     "name": "stdout",
     "output_type": "stream",
     "text": [
      "[[Model]]\n",
      "    Model(chopper, prefix='chop')\n",
      "[[Fit Statistics]]\n",
      "    # function evals   = 36\n",
      "    # data points      = 11\n",
      "    # variables        = 2\n",
      "    chi-square         = 31.234\n",
      "    reduced chi-square = 3.470\n",
      "[[Variables]]\n",
      "    chopB:   8.91330759 +/- 0.096268 (1.08%) (init= 5)\n",
      "    chopA:  -1.03784582 +/- 0.034072 (3.28%) (init=-0.8)\n",
      "[[Correlations]] (unreported correlations are <  0.100)\n",
      "    C(chopB, chopA)              = -0.982 \n"
     ]
    }
   ],
   "source": [
    "print(out_chopper.fit_report())"
   ]
  },
  {
   "cell_type": "code",
   "execution_count": 12,
   "metadata": {
    "collapsed": true
   },
   "outputs": [],
   "source": [
    "plt.errorbar(data_chopper[0],data_chopper[1],xerr=data_chopper[2],yerr=data_chopper[3],fmt='. ',label=\"Messdaten\")\n",
    "plt.plot(np.arange(5,80,0.1),out_chopper.eval(x=np.arange(5,80,0.1)),label='Fit')\n",
    "plt.xlabel('Chopperfrequenz / Hz', fontsize=30)\n",
    "plt.ylabel('Spannung / mV', fontsize=30)\n",
    "plt.xticks(fontsize=20)\n",
    "plt.yticks(fontsize=20)\n",
    "plt.legend(loc='best',fontsize=30)\n",
    "plt.show()"
   ]
  },
  {
   "cell_type": "code",
   "execution_count": 13,
   "metadata": {
    "collapsed": false
   },
   "outputs": [],
   "source": [
    "model_chopper_lin = models.LinearModel()\n",
    "guess_chopper_lin = model_chopper_lin.guess(np.log(data_chopper[1]),x=np.log(data_chopper[0]))\n",
    "out_chopper_lin = model_chopper_lin.fit(np.log(data_chopper[1]),\n",
    "                                        guess_chopper_lin,\n",
    "                                        x=np.log(data_chopper[0]),\n",
    "                                        weights=1/((np.log(data_chopper[1]+data_chopper[3])+np.log(data_chopper[1]-data_chopper[3]))/2))"
   ]
  },
  {
   "cell_type": "code",
   "execution_count": 14,
   "metadata": {
    "collapsed": false
   },
   "outputs": [],
   "source": [
    "out_chopper_lin.plot()\n",
    "plt.show()"
   ]
  },
  {
   "cell_type": "code",
   "execution_count": 15,
   "metadata": {
    "collapsed": false,
    "scrolled": true
   },
   "outputs": [
    {
     "name": "stdout",
     "output_type": "stream",
     "text": [
      "[[Model]]\n",
      "    Model(linear)\n",
      "[[Fit Statistics]]\n",
      "    # function evals   = 6\n",
      "    # data points      = 11\n",
      "    # variables        = 2\n",
      "    chi-square         = 0.001\n",
      "    reduced chi-square = 0.000\n",
      "[[Variables]]\n",
      "    intercept:   8.89078790 +/- 0.099787 (1.12%) (init= 8.877967)\n",
      "    slope:      -1.02941996 +/- 0.027973 (2.72%) (init=-1.025502)\n",
      "[[Correlations]] (unreported correlations are <  0.100)\n",
      "    C(intercept, slope)          = -0.990 \n"
     ]
    }
   ],
   "source": [
    "print(out_chopper_lin.fit_report())"
   ]
  },
  {
   "cell_type": "code",
   "execution_count": 16,
   "metadata": {
    "collapsed": false
   },
   "outputs": [],
   "source": [
    "plt.errorbar(data_chopper[0],data_chopper[1],xerr=data_chopper[2],yerr=data_chopper[3],fmt='. ',label=\"Messdaten\")\n",
    "plt.plot(np.arange(5,1000,0.1),out_chopper.eval(x=np.arange(5,1000,0.1)),label='Fit')\n",
    "plt.xlabel('Chopperfrequenz / Hz', fontsize=30)\n",
    "plt.ylabel('Spannung / mV', fontsize=30)\n",
    "plt.xticks(fontsize=20)\n",
    "plt.yticks(fontsize=20)\n",
    "plt.xscale('log')\n",
    "plt.yscale('log')\n",
    "plt.xlim([0,100])\n",
    "plt.legend(loc='best',fontsize=30)\n",
    "plt.show()"
   ]
  },
  {
   "cell_type": "markdown",
   "metadata": {},
   "source": [
    "# Laserinterferogramm"
   ]
  },
  {
   "cell_type": "markdown",
   "metadata": {},
   "source": [
    "## Eichung\n"
   ]
  },
  {
   "cell_type": "code",
   "execution_count": 17,
   "metadata": {
    "collapsed": true
   },
   "outputs": [],
   "source": [
    "data_laser_eichung = np.genfromtxt('eichung_laser.dat',delimiter='\\t').T"
   ]
  },
  {
   "cell_type": "code",
   "execution_count": 18,
   "metadata": {
    "collapsed": true
   },
   "outputs": [],
   "source": [
    "plt.plot(data_laser_eichung[1],data_laser_eichung[0],'. ')\n",
    "plt.show()"
   ]
  },
  {
   "cell_type": "code",
   "execution_count": 19,
   "metadata": {
    "collapsed": true
   },
   "outputs": [],
   "source": [
    "model = models.LinearModel()\n",
    "guess = model.guess(data_laser_eichung[1],x=data_laser_eichung[0],weigths=1/0.5)\n",
    "out = model.fit(data_laser_eichung[1],guess,x=data_laser_eichung[0])"
   ]
  },
  {
   "cell_type": "code",
   "execution_count": 20,
   "metadata": {
    "collapsed": true
   },
   "outputs": [],
   "source": [
    "out.plot()\n",
    "plt.legend(loc='best')\n",
    "plt.show()"
   ]
  },
  {
   "cell_type": "code",
   "execution_count": 21,
   "metadata": {
    "collapsed": false
   },
   "outputs": [
    {
     "name": "stdout",
     "output_type": "stream",
     "text": [
      "[[Model]]\n",
      "    Model(linear)\n",
      "[[Fit Statistics]]\n",
      "    # function evals   = 3\n",
      "    # data points      = 12\n",
      "    # variables        = 2\n",
      "    chi-square         = 0.000\n",
      "    reduced chi-square = 0.000\n",
      "[[Variables]]\n",
      "    intercept:   4.02639147 +/- 0.000922 (0.02%) (init= 4.026391)\n",
      "    slope:       5.0096e-05 +/- 5.05e-08 (0.10%) (init= 5.009634e-05)\n",
      "[[Correlations]] (unreported correlations are <  0.100)\n",
      "    C(intercept, slope)          = -0.894 \n"
     ]
    }
   ],
   "source": [
    "print(out.fit_report())"
   ]
  },
  {
   "cell_type": "code",
   "execution_count": 22,
   "metadata": {
    "collapsed": false
   },
   "outputs": [
    {
     "data": {
      "text/plain": [
       "8.535815543890981e-16"
      ]
     },
     "execution_count": 22,
     "metadata": {},
     "output_type": "execute_result"
    }
   ],
   "source": [
    "(np.square((out.best_fit-data_laser_eichung[1]).sum()/5))"
   ]
  },
  {
   "cell_type": "code",
   "execution_count": 23,
   "metadata": {
    "collapsed": true
   },
   "outputs": [],
   "source": [
    "plt.plot(data_laser_eichung[0],data_laser_eichung[1],'. ',label=\"Messdaten\")\n",
    "plt.plot(data_laser_eichung[0],out.eval(x=data_laser_eichung[0]),label=\"linearer Fit\")\n",
    "plt.xlabel('s / mm', fontsize=30)\n",
    "plt.ylabel('Spannung / V', fontsize=30)\n",
    "plt.xticks(fontsize=20)\n",
    "plt.yticks(fontsize=20)\n",
    "plt.legend(loc='best',fontsize=30)\n",
    "plt.show()"
   ]
  },
  {
   "cell_type": "code",
   "execution_count": 24,
   "metadata": {
    "collapsed": true
   },
   "outputs": [],
   "source": [
    "def to_s_laser(x):\n",
    "    return ((x*5.3328e-05)+4.99608814)"
   ]
  },
  {
   "cell_type": "markdown",
   "metadata": {},
   "source": [
    "## Interferogramm"
   ]
  },
  {
   "cell_type": "code",
   "execution_count": 25,
   "metadata": {
    "collapsed": true
   },
   "outputs": [],
   "source": [
    "data_laser = np.genfromtxt('laser.txt',delimiter='\\t').T"
   ]
  },
  {
   "cell_type": "code",
   "execution_count": 26,
   "metadata": {
    "collapsed": true
   },
   "outputs": [],
   "source": [
    "plt.plot(to_s_laser(data_laser[0]),data_laser[1],label='Messdaten')\n",
    "plt.xlabel('s / mm', fontsize=30)\n",
    "plt.ylabel('Spannung / V', fontsize=30)\n",
    "plt.xticks(fontsize=20)\n",
    "plt.yticks(fontsize=20)\n",
    "plt.xlim([5,6.62])\n",
    "plt.legend(loc='best',fontsize=30)\n",
    "plt.show()"
   ]
  },
  {
   "cell_type": "code",
   "execution_count": 27,
   "metadata": {
    "collapsed": false
   },
   "outputs": [
    {
     "data": {
      "text/plain": [
       "(29967,)"
      ]
     },
     "execution_count": 27,
     "metadata": {},
     "output_type": "execute_result"
    }
   ],
   "source": [
    "data_laser[0].shape"
   ]
  },
  {
   "cell_type": "markdown",
   "metadata": {},
   "source": [
    "#### Letztes Maximum"
   ]
  },
  {
   "cell_type": "code",
   "execution_count": 28,
   "metadata": {
    "collapsed": false
   },
   "outputs": [],
   "source": [
    "plt.plot(to_s_laser(data_laser[0][29967-200:29967]),data_laser[1][29967-200:29967])\n",
    "plt.show()"
   ]
  },
  {
   "cell_type": "code",
   "execution_count": 29,
   "metadata": {
    "collapsed": false
   },
   "outputs": [
    {
     "name": "stdout",
     "output_type": "stream",
     "text": [
      "6.604087324\n"
     ]
    }
   ],
   "source": [
    "m_l = to_s_laser(data_laser[0][np.argmax(data_laser[1][29967-200:29967])+29967-200])\n",
    "print(m_l)"
   ]
  },
  {
   "cell_type": "markdown",
   "metadata": {},
   "source": [
    "#### Erstes Maximum"
   ]
  },
  {
   "cell_type": "code",
   "execution_count": 30,
   "metadata": {
    "collapsed": false
   },
   "outputs": [],
   "source": [
    "plt.plot(to_s_laser(data_laser[0][0:150]),data_laser[1][0:150])\n",
    "plt.show()"
   ]
  },
  {
   "cell_type": "code",
   "execution_count": 31,
   "metadata": {
    "collapsed": false
   },
   "outputs": [
    {
     "name": "stdout",
     "output_type": "stream",
     "text": [
      "5.00888686\n"
     ]
    }
   ],
   "source": [
    "m_1 = to_s_laser(data_laser[0][np.argmax(data_laser[1][0:150])])\n",
    "print(m_1)"
   ]
  },
  {
   "cell_type": "code",
   "execution_count": 32,
   "metadata": {
    "collapsed": false
   },
   "outputs": [
    {
     "name": "stdout",
     "output_type": "stream",
     "text": [
      "1.595200464\n"
     ]
    }
   ],
   "source": [
    "s_1 = m_l - m_1\n",
    "print(s_1)\n",
    "liste_s = []\n",
    "liste_s.append(s_1)"
   ]
  },
  {
   "cell_type": "code",
   "execution_count": 140,
   "metadata": {
    "collapsed": false
   },
   "outputs": [
    {
     "name": "stdout",
     "output_type": "stream",
     "text": [
      "5.44000703872\n"
     ]
    }
   ],
   "source": [
    "liste_k = []\n",
    "k_1 = 2*s_1/(3.39*173)*1000\n",
    "print(k_1)\n",
    "liste_k.append(k_1)"
   ]
  },
  {
   "cell_type": "code",
   "execution_count": 34,
   "metadata": {
    "collapsed": false
   },
   "outputs": [
    {
     "name": "stdout",
     "output_type": "stream",
     "text": [
      "3.68832477225\n"
     ]
    }
   ],
   "source": [
    "laser_lambda = []\n",
    "laser_lambda.append((2*(m_l-m_1))/(5*173)*1000)\n",
    "print((2*(m_l-m_1))/(5*173)*1000)"
   ]
  },
  {
   "cell_type": "markdown",
   "metadata": {},
   "source": [
    "#### Zweits Maximum"
   ]
  },
  {
   "cell_type": "code",
   "execution_count": 35,
   "metadata": {
    "collapsed": true
   },
   "outputs": [],
   "source": [
    "plt.plot(to_s_laser(data_laser[0][150:300]),data_laser[1][150:300])\n",
    "plt.show()"
   ]
  },
  {
   "cell_type": "code",
   "execution_count": 36,
   "metadata": {
    "collapsed": false
   },
   "outputs": [
    {
     "name": "stdout",
     "output_type": "stream",
     "text": [
      "5.01075334\n",
      "1.593333984\n"
     ]
    }
   ],
   "source": [
    "m_2 = to_s_laser(data_laser[0][np.argmax(data_laser[1][150:300])])\n",
    "print(m_2)\n",
    "liste_s.append(m_l-m_2)\n",
    "print(m_l-m_2)"
   ]
  },
  {
   "cell_type": "code",
   "execution_count": 141,
   "metadata": {
    "collapsed": false
   },
   "outputs": [
    {
     "name": "stdout",
     "output_type": "stream",
     "text": [
      "5.34102300885\n"
     ]
    }
   ],
   "source": [
    "k_2 = 2*(m_l-m_2)/(3.39*176)*1000\n",
    "print(k_2)\n",
    "liste_k.append(k_2)"
   ]
  },
  {
   "cell_type": "code",
   "execution_count": 38,
   "metadata": {
    "collapsed": false
   },
   "outputs": [
    {
     "name": "stdout",
     "output_type": "stream",
     "text": [
      "3.70542786977\n"
     ]
    }
   ],
   "source": [
    "print((2*(m_l-m_2))/(5*172)*1000)\n",
    "laser_lambda.append((2*(m_l-m_2))/(5*172)*1000)"
   ]
  },
  {
   "cell_type": "markdown",
   "metadata": {},
   "source": [
    "#### Drittes Maximum"
   ]
  },
  {
   "cell_type": "code",
   "execution_count": 39,
   "metadata": {
    "collapsed": true
   },
   "outputs": [],
   "source": [
    "plt.plot(to_s_laser(data_laser[0][300:450]),data_laser[1][300:450])\n",
    "plt.show()"
   ]
  },
  {
   "cell_type": "code",
   "execution_count": 40,
   "metadata": {
    "collapsed": false
   },
   "outputs": [
    {
     "name": "stdout",
     "output_type": "stream",
     "text": [
      "5.012726476\n",
      "1.591360848\n"
     ]
    }
   ],
   "source": [
    "m_3 = to_s_laser(data_laser[0][np.argmax(data_laser[1][300:450])])\n",
    "liste_s.append(m_l-m_3)\n",
    "print(m_3)\n",
    "print(m_l-m_3)"
   ]
  },
  {
   "cell_type": "code",
   "execution_count": 142,
   "metadata": {
    "collapsed": false
   },
   "outputs": [
    {
     "name": "stdout",
     "output_type": "stream",
     "text": [
      "5.36489118584\n"
     ]
    }
   ],
   "source": [
    "k_3 = 2*(m_l-m_3)/(3.39*175)*1000\n",
    "print(k_3)\n",
    "liste_k.append(k_3)"
   ]
  },
  {
   "cell_type": "code",
   "execution_count": 42,
   "metadata": {
    "collapsed": false
   },
   "outputs": [
    {
     "name": "stdout",
     "output_type": "stream",
     "text": [
      "3.72248151579\n"
     ]
    }
   ],
   "source": [
    "print((2*(m_l-m_3))/(5*171)*1000)\n",
    "laser_lambda.append((2*(m_l-m_3))/(5*171)*1000)"
   ]
  },
  {
   "cell_type": "markdown",
   "metadata": {},
   "source": [
    "#### Viertes Maximum"
   ]
  },
  {
   "cell_type": "code",
   "execution_count": 43,
   "metadata": {
    "collapsed": true
   },
   "outputs": [],
   "source": [
    "plt.plot(to_s_laser(data_laser[0][450:650]),data_laser[1][450:650])\n",
    "plt.show()"
   ]
  },
  {
   "cell_type": "code",
   "execution_count": 44,
   "metadata": {
    "collapsed": false
   },
   "outputs": [
    {
     "name": "stdout",
     "output_type": "stream",
     "text": [
      "5.015179564\n",
      "1.58890776\n"
     ]
    }
   ],
   "source": [
    "m_4 = to_s_laser(data_laser[0][np.argmax(data_laser[1][450:650])])\n",
    "liste_s.append(m_l-m_4)\n",
    "print(m_4)\n",
    "print(m_l-m_4)"
   ]
  },
  {
   "cell_type": "code",
   "execution_count": 143,
   "metadata": {
    "collapsed": false
   },
   "outputs": [
    {
     "name": "stdout",
     "output_type": "stream",
     "text": [
      "5.38740636761\n"
     ]
    }
   ],
   "source": [
    "k_4 = 2*(m_l-m_4)/(3.39*174)*1000\n",
    "print(k_4)\n",
    "liste_k.append(k_4)"
   ]
  },
  {
   "cell_type": "code",
   "execution_count": 46,
   "metadata": {
    "collapsed": false
   },
   "outputs": [
    {
     "name": "stdout",
     "output_type": "stream",
     "text": [
      "3.73860649412\n"
     ]
    }
   ],
   "source": [
    "print((2*(m_l-m_4))/(5*170)*1000)\n",
    "laser_lambda.append((2*(m_l-m_4))/(5*170)*1000)"
   ]
  },
  {
   "cell_type": "markdown",
   "metadata": {},
   "source": [
    "#### Fünftes Maximum"
   ]
  },
  {
   "cell_type": "code",
   "execution_count": 47,
   "metadata": {
    "collapsed": true
   },
   "outputs": [],
   "source": [
    "plt.plot(to_s_laser(data_laser[0][650:850]),data_laser[1][650:850])\n",
    "plt.show()"
   ]
  },
  {
   "cell_type": "code",
   "execution_count": 48,
   "metadata": {
    "collapsed": false
   },
   "outputs": [
    {
     "name": "stdout",
     "output_type": "stream",
     "text": [
      "5.049309484\n",
      "1.55477784\n"
     ]
    }
   ],
   "source": [
    "m_5 = to_s_laser(data_laser[0][np.argmax(data_laser[1][650:850])+650])\n",
    "print(m_5)\n",
    "liste_s.append(m_l-m_5)\n",
    "print(m_l-m_5)"
   ]
  },
  {
   "cell_type": "code",
   "execution_count": 144,
   "metadata": {
    "collapsed": false
   },
   "outputs": [
    {
     "name": "stdout",
     "output_type": "stream",
     "text": [
      "5.30215642744\n"
     ]
    }
   ],
   "source": [
    "k_5 = 2*(m_l-m_5)/(3.39*173)*1000\n",
    "print(k_5)\n",
    "liste_k.append(k_5)"
   ]
  },
  {
   "cell_type": "code",
   "execution_count": 50,
   "metadata": {
    "collapsed": false
   },
   "outputs": [
    {
     "name": "stdout",
     "output_type": "stream",
     "text": [
      "3.6583008\n"
     ]
    }
   ],
   "source": [
    "print((2*(m_l-m_5))/(5*170)*1000)\n",
    "laser_lambda.append((2*(m_l-m_5))/(5*170)*1000)"
   ]
  },
  {
   "cell_type": "markdown",
   "metadata": {},
   "source": [
    "#### Sechtes Maximum"
   ]
  },
  {
   "cell_type": "code",
   "execution_count": 51,
   "metadata": {
    "collapsed": true
   },
   "outputs": [],
   "source": [
    "plt.plot(to_s_laser(data_laser[0][850:1050]),data_laser[1][850:1050])\n",
    "plt.show()"
   ]
  },
  {
   "cell_type": "code",
   "execution_count": 52,
   "metadata": {
    "collapsed": false
   },
   "outputs": [
    {
     "name": "stdout",
     "output_type": "stream",
     "text": [
      "5.058961852\n",
      "1.545125472\n"
     ]
    }
   ],
   "source": [
    "m_6 = to_s_laser(data_laser[0][np.argmax(data_laser[1][850:1050])+850])\n",
    "print(m_6)\n",
    "liste_s.append(m_l-m_6)\n",
    "print(m_l-m_6)"
   ]
  },
  {
   "cell_type": "code",
   "execution_count": 145,
   "metadata": {
    "collapsed": false
   },
   "outputs": [
    {
     "name": "stdout",
     "output_type": "stream",
     "text": [
      "5.29987470673\n"
     ]
    }
   ],
   "source": [
    "k_6 = 2*(m_l-m_6)/(3.39*172)*1000\n",
    "print(k_6)\n",
    "liste_k.append(k_6)"
   ]
  },
  {
   "cell_type": "code",
   "execution_count": 54,
   "metadata": {
    "collapsed": false
   },
   "outputs": [
    {
     "name": "stdout",
     "output_type": "stream",
     "text": [
      "3.63558934588\n"
     ]
    }
   ],
   "source": [
    "print((2*(m_l-m_6))/(5*170)*1000)\n",
    "laser_lambda.append((2*(m_l-m_6))/(5*170)*1000)"
   ]
  },
  {
   "cell_type": "markdown",
   "metadata": {
    "collapsed": true
   },
   "source": [
    "#### Siebtes Maximum"
   ]
  },
  {
   "cell_type": "code",
   "execution_count": 55,
   "metadata": {
    "collapsed": true
   },
   "outputs": [],
   "source": [
    "plt.plot(to_s_laser(data_laser[0][1050:1250]),data_laser[1][1050:1250])\n",
    "plt.show()"
   ]
  },
  {
   "cell_type": "code",
   "execution_count": 56,
   "metadata": {
    "collapsed": false
   },
   "outputs": [
    {
     "name": "stdout",
     "output_type": "stream",
     "text": [
      "5.068934188\n",
      "1.535153136\n"
     ]
    }
   ],
   "source": [
    "m_7 = to_s_laser(data_laser[0][np.argmax(data_laser[1][1050:1250])+1050])\n",
    "print(m_7)\n",
    "liste_s.append(m_l-m_7)\n",
    "print(m_l-m_7)"
   ]
  },
  {
   "cell_type": "code",
   "execution_count": 146,
   "metadata": {
    "collapsed": false
   },
   "outputs": [
    {
     "name": "stdout",
     "output_type": "stream",
     "text": [
      "5.26566898539\n"
     ]
    }
   ],
   "source": [
    "k_7 = 2*(m_l-m_7)/(3.39*172)*1000\n",
    "print(k_7)\n",
    "liste_k.append(k_7)"
   ]
  },
  {
   "cell_type": "code",
   "execution_count": 58,
   "metadata": {
    "collapsed": false
   },
   "outputs": [
    {
     "name": "stdout",
     "output_type": "stream",
     "text": [
      "3.61212502588\n"
     ]
    }
   ],
   "source": [
    "print((2*(m_l-m_7))/(5*170)*1000)\n",
    "laser_lambda.append((2*(m_l-m_7))/(5*170)*1000)"
   ]
  },
  {
   "cell_type": "markdown",
   "metadata": {
    "collapsed": true
   },
   "source": [
    "#### Achtes Maximum"
   ]
  },
  {
   "cell_type": "code",
   "execution_count": 59,
   "metadata": {
    "collapsed": true
   },
   "outputs": [],
   "source": [
    "plt.plot(to_s_laser(data_laser[0][1050:1250]),data_laser[1][1250:1450])\n",
    "plt.show()"
   ]
  },
  {
   "cell_type": "code",
   "execution_count": 60,
   "metadata": {
    "collapsed": false
   },
   "outputs": [
    {
     "name": "stdout",
     "output_type": "stream",
     "text": [
      "5.078426572\n",
      "1.525660752\n"
     ]
    }
   ],
   "source": [
    "m_8 = to_s_laser(data_laser[0][np.argmax(data_laser[1][1250:1450])+1250])\n",
    "print(m_8)\n",
    "liste_s.append(m_l-m_8)\n",
    "print(m_l-m_8)"
   ]
  },
  {
   "cell_type": "code",
   "execution_count": 147,
   "metadata": {
    "collapsed": false
   },
   "outputs": [
    {
     "name": "stdout",
     "output_type": "stream",
     "text": [
      "5.23310952871\n"
     ]
    }
   ],
   "source": [
    "k_8 = 2*(m_l-m_8)/(3.39*172)*1000\n",
    "print(k_8)\n",
    "liste_k.append(k_8)"
   ]
  },
  {
   "cell_type": "code",
   "execution_count": 62,
   "metadata": {
    "collapsed": false
   },
   "outputs": [
    {
     "name": "stdout",
     "output_type": "stream",
     "text": [
      "3.58979000471\n"
     ]
    }
   ],
   "source": [
    "print((2*(m_l-m_8))/(5*170)*1000)\n",
    "laser_lambda.append((2*(m_l-m_8))/(5*170)*1000)"
   ]
  },
  {
   "cell_type": "markdown",
   "metadata": {
    "collapsed": false
   },
   "source": [
    "#### Neuntes Maximum"
   ]
  },
  {
   "cell_type": "code",
   "execution_count": 63,
   "metadata": {
    "collapsed": false
   },
   "outputs": [],
   "source": [
    "plt.plot(to_s_laser(data_laser[0][1450:1650]),data_laser[1][1450:1650])\n",
    "plt.show()"
   ]
  },
  {
   "cell_type": "code",
   "execution_count": 64,
   "metadata": {
    "collapsed": false
   },
   "outputs": [
    {
     "name": "stdout",
     "output_type": "stream",
     "text": [
      "5.088185596\n",
      "1.515901728\n"
     ]
    }
   ],
   "source": [
    "m_9 = to_s_laser(data_laser[0][np.argmax(data_laser[1][1450:1650])+1450])\n",
    "print(m_9)\n",
    "liste_s.append(m_l-m_9)\n",
    "print(m_l-m_9)"
   ]
  },
  {
   "cell_type": "code",
   "execution_count": 148,
   "metadata": {
    "collapsed": false
   },
   "outputs": [
    {
     "name": "stdout",
     "output_type": "stream",
     "text": [
      "5.19963548055\n"
     ]
    }
   ],
   "source": [
    "k_9 = 2*(m_l-m_9)/(3.39*172)*1000\n",
    "print(k_9)\n",
    "liste_k.append(k_9)"
   ]
  },
  {
   "cell_type": "code",
   "execution_count": 66,
   "metadata": {
    "collapsed": false
   },
   "outputs": [
    {
     "name": "stdout",
     "output_type": "stream",
     "text": [
      "3.56682759529\n"
     ]
    }
   ],
   "source": [
    "print((2*(m_l-m_9))/(5*170)*1000)\n",
    "laser_lambda.append((2*(m_l-m_9))/(5*170)*1000)"
   ]
  },
  {
   "cell_type": "markdown",
   "metadata": {},
   "source": [
    "#### Zehntes Maximum"
   ]
  },
  {
   "cell_type": "code",
   "execution_count": 67,
   "metadata": {
    "collapsed": true
   },
   "outputs": [],
   "source": [
    "plt.plot(to_s_laser(data_laser[0][1650:1850]),data_laser[1][1650:1850])\n",
    "plt.show()"
   ]
  },
  {
   "cell_type": "code",
   "execution_count": 68,
   "metadata": {
    "collapsed": false
   },
   "outputs": [
    {
     "name": "stdout",
     "output_type": "stream",
     "text": [
      "5.04408334\n",
      "1.560003984\n"
     ]
    }
   ],
   "source": [
    "m_10 = to_s_laser(data_laser[0][np.argmax(data_laser[1][1650:1850])+650])\n",
    "print(m_10)\n",
    "liste_s.append(m_l-m_10)\n",
    "print(m_l-m_10)"
   ]
  },
  {
   "cell_type": "code",
   "execution_count": 149,
   "metadata": {
    "collapsed": false
   },
   "outputs": [
    {
     "name": "stdout",
     "output_type": "stream",
     "text": [
      "5.3509089113\n"
     ]
    }
   ],
   "source": [
    "k_10 = 2*(m_l-m_10)/(3.39*172)*1000\n",
    "print(k_10)\n",
    "liste_k.append(k_10)"
   ]
  },
  {
   "cell_type": "code",
   "execution_count": 70,
   "metadata": {
    "collapsed": false
   },
   "outputs": [
    {
     "name": "stdout",
     "output_type": "stream",
     "text": [
      "3.67059760941\n"
     ]
    }
   ],
   "source": [
    "print((2*(m_l-m_10))/(5*170)*1000)\n",
    "laser_lambda.append((2*(m_l-m_10))/(5*170)*1000)"
   ]
  },
  {
   "cell_type": "code",
   "execution_count": 151,
   "metadata": {
    "collapsed": false
   },
   "outputs": [],
   "source": [
    "k_bar = np.array(liste_k).mean()"
   ]
  },
  {
   "cell_type": "markdown",
   "metadata": {},
   "source": [
    "### Mittelwert Bestimmen und Korrekturfaktor bestimmen"
   ]
  },
  {
   "cell_type": "code",
   "execution_count": 71,
   "metadata": {
    "collapsed": false
   },
   "outputs": [
    {
     "data": {
      "text/plain": [
       "3.6588071033105365"
      ]
     },
     "execution_count": 71,
     "metadata": {},
     "output_type": "execute_result"
    }
   ],
   "source": [
    "np.array(laser_lambda).mean()"
   ]
  },
  {
   "cell_type": "code",
   "execution_count": 72,
   "metadata": {
    "collapsed": false
   },
   "outputs": [
    {
     "name": "stdout",
     "output_type": "stream",
     "text": [
      "5.32181559773\n"
     ]
    }
   ],
   "source": [
    "k = 2*np.array(liste_s).mean()/(3.39*173)*1000\n",
    "print(k)"
   ]
  },
  {
   "cell_type": "markdown",
   "metadata": {},
   "source": [
    "## Interferogramm"
   ]
  },
  {
   "cell_type": "code",
   "execution_count": 73,
   "metadata": {
    "collapsed": true
   },
   "outputs": [],
   "source": [
    "data_laser = np.genfromtxt('laser.txt',delimiter='\\t').T"
   ]
  },
  {
   "cell_type": "code",
   "execution_count": 74,
   "metadata": {
    "collapsed": true
   },
   "outputs": [],
   "source": [
    "plt.plot(data_laser[0],data_laser[1])\n",
    "plt.xlim([0,30400])\n",
    "plt.show()"
   ]
  },
  {
   "cell_type": "markdown",
   "metadata": {},
   "source": [
    "# Weißlichtpunkt"
   ]
  },
  {
   "cell_type": "markdown",
   "metadata": {},
   "source": [
    "## Eichung"
   ]
  },
  {
   "cell_type": "markdown",
   "metadata": {},
   "source": [
    "### Erste Eichung\n",
    "Start bei 5.6 $\\mu$m"
   ]
  },
  {
   "cell_type": "code",
   "execution_count": 175,
   "metadata": {
    "collapsed": true
   },
   "outputs": [],
   "source": [
    "data_weisslicht_eichung = np.genfromtxt('eichung_weisspunkt.dat',delimiter=\"\\t\").T"
   ]
  },
  {
   "cell_type": "code",
   "execution_count": 176,
   "metadata": {
    "collapsed": false
   },
   "outputs": [],
   "source": [
    "plt.plot(data_weisslicht_eichung[0],data_weisslicht_eichung[1])\n",
    "plt.show()"
   ]
  },
  {
   "cell_type": "code",
   "execution_count": 177,
   "metadata": {
    "collapsed": false
   },
   "outputs": [],
   "source": [
    "model = models.LinearModel()\n",
    "guess = model.guess(data_weisslicht_eichung[1],x=data_weisslicht_eichung[0],weigths=1/50)\n",
    "out = model.fit(data_weisslicht_eichung[1],guess,x=data_weisslicht_eichung[0])"
   ]
  },
  {
   "cell_type": "code",
   "execution_count": 178,
   "metadata": {
    "collapsed": true
   },
   "outputs": [],
   "source": [
    "out.plot()\n",
    "plt.legend(loc='best')\n",
    "plt.show()"
   ]
  },
  {
   "cell_type": "code",
   "execution_count": 179,
   "metadata": {
    "collapsed": false
   },
   "outputs": [
    {
     "name": "stdout",
     "output_type": "stream",
     "text": [
      "[[Model]]\n",
      "    Model(linear)\n",
      "[[Fit Statistics]]\n",
      "    # function evals   = 3\n",
      "    # data points      = 12\n",
      "    # variables        = 2\n",
      "    chi-square         = 0.002\n",
      "    reduced chi-square = 0.000\n",
      "[[Variables]]\n",
      "    intercept:   4.99608814 +/- 0.030543 (0.61%) (init= 4.996088)\n",
      "    slope:       5.3328e-05 +/- 2.11e-06 (3.95%) (init= 5.332766e-05)\n",
      "[[Correlations]] (unreported correlations are <  0.100)\n",
      "    C(intercept, slope)          = -0.992 \n"
     ]
    }
   ],
   "source": [
    "print(out.fit_report())"
   ]
  },
  {
   "cell_type": "code",
   "execution_count": 174,
   "metadata": {
    "collapsed": true
   },
   "outputs": [],
   "source": [
    "plt.plot(data_weisslicht_eichung[0],data_weisslicht_eichung[1],'. ',label=\"Messdaten\")\n",
    "plt.plot()\n",
    "plt.xlabel('s / $\\mu$m', fontsize=30)\n",
    "plt.ylabel('Spannung / mV', fontsize=30)\n",
    "plt.xticks(fontsize=20)\n",
    "plt.yticks(fontsize=20)\n",
    "plt.legend(loc='best',fontsize=30)\n",
    "plt.show()"
   ]
  },
  {
   "cell_type": "code",
   "execution_count": 81,
   "metadata": {
    "collapsed": true
   },
   "outputs": [],
   "source": [
    "def to_s_weisspunkt_1(x):\n",
    "    return ((x*5.3328e-05)+4.99608814)"
   ]
  },
  {
   "cell_type": "markdown",
   "metadata": {},
   "source": [
    "## Zweite Eichung\n",
    "Start bei 4.65"
   ]
  },
  {
   "cell_type": "code",
   "execution_count": 82,
   "metadata": {
    "collapsed": true
   },
   "outputs": [],
   "source": [
    "data_weisslicht_eichung_2 = np.genfromtxt('eichung_weisspunkt_2.dat',delimiter=\"\\t\").T"
   ]
  },
  {
   "cell_type": "code",
   "execution_count": 83,
   "metadata": {
    "collapsed": false
   },
   "outputs": [],
   "source": [
    "plt.plot(data_weisslicht_eichung_2[0],data_weisslicht_eichung_2[1])\n",
    "plt.show()"
   ]
  },
  {
   "cell_type": "code",
   "execution_count": 84,
   "metadata": {
    "collapsed": true
   },
   "outputs": [],
   "source": [
    "model = models.LinearModel()\n",
    "guess = model.guess(data_weisslicht_eichung_2[1],x=data_weisslicht_eichung_2[0],weigths=1/50)\n",
    "out = model.fit(data_weisslicht_eichung_2[1],guess,x=data_weisslicht_eichung_2[0])"
   ]
  },
  {
   "cell_type": "code",
   "execution_count": 85,
   "metadata": {
    "collapsed": true
   },
   "outputs": [],
   "source": [
    "out.plot()\n",
    "plt.legend(loc='best')\n",
    "plt.show()"
   ]
  },
  {
   "cell_type": "code",
   "execution_count": 86,
   "metadata": {
    "collapsed": false
   },
   "outputs": [
    {
     "name": "stdout",
     "output_type": "stream",
     "text": [
      "[[Model]]\n",
      "    Model(linear)\n",
      "[[Fit Statistics]]\n",
      "    # function evals   = 3\n",
      "    # data points      = 10\n",
      "    # variables        = 2\n",
      "    chi-square         = 0.000\n",
      "    reduced chi-square = 0.000\n",
      "[[Variables]]\n",
      "    intercept:   4.55051215 +/- 0.000873 (0.02%) (init= 4.550512)\n",
      "    slope:       4.9858e-05 +/- 1.89e-07 (0.38%) (init= 4.98577e-05)\n",
      "[[Correlations]] (unreported correlations are <  0.100)\n",
      "    C(intercept, slope)          = -0.961 \n"
     ]
    }
   ],
   "source": [
    "print(out.fit_report())"
   ]
  },
  {
   "cell_type": "code",
   "execution_count": 87,
   "metadata": {
    "collapsed": true
   },
   "outputs": [],
   "source": [
    "plt.plot(data_weisslicht_eichung_2[0],data_weisslicht_eichung_2[1],'. ',label=\"Messdaten\")\n",
    "plt.xlabel('s / $\\mu$m', fontsize=30)\n",
    "plt.ylabel('Spannung / mV', fontsize=30)\n",
    "plt.xticks(fontsize=20)\n",
    "plt.yticks(fontsize=20)\n",
    "plt.legend(loc='best',fontsize=30)\n",
    "plt.show()"
   ]
  },
  {
   "cell_type": "code",
   "execution_count": 88,
   "metadata": {
    "collapsed": true
   },
   "outputs": [],
   "source": [
    "def to_s_weisspunkt_2(x):\n",
    "    return ((x*4.9858e-05)+4.55051215)"
   ]
  },
  {
   "cell_type": "markdown",
   "metadata": {},
   "source": [
    "## Interfreogramm"
   ]
  },
  {
   "cell_type": "markdown",
   "metadata": {},
   "source": [
    "### Erstes Interferogramm"
   ]
  },
  {
   "cell_type": "code",
   "execution_count": 89,
   "metadata": {
    "collapsed": true
   },
   "outputs": [],
   "source": [
    "data_weisslicht = np.genfromtxt('weisspunkt.txt',delimiter=\"\\t\").T"
   ]
  },
  {
   "cell_type": "code",
   "execution_count": 90,
   "metadata": {
    "collapsed": false
   },
   "outputs": [
    {
     "name": "stdout",
     "output_type": "stream",
     "text": [
      "5.773557052\n"
     ]
    }
   ],
   "source": [
    "#bestimmen den Weißlichtpunkts\n",
    "print(to_s_weisspunkt_1(data_weisslicht[0][np.argmax(data_weisslicht[1])]))"
   ]
  },
  {
   "cell_type": "code",
   "execution_count": 91,
   "metadata": {
    "collapsed": false
   },
   "outputs": [
    {
     "data": {
      "text/plain": [
       "0.030500000019520041"
      ]
     },
     "execution_count": 91,
     "metadata": {},
     "output_type": "execute_result"
    }
   ],
   "source": [
    "#Fehler auf die Postion (bestimmt mit Fitparametern)\n",
    "np.sqrt(np.square(0.0305)+np.square(1.89e-07 * 5.773557052))"
   ]
  },
  {
   "cell_type": "code",
   "execution_count": 92,
   "metadata": {
    "collapsed": false
   },
   "outputs": [],
   "source": [
    "plt.plot(data_weisslicht[0],data_weisslicht[1],label='Messdaten')\n",
    "plt.show()"
   ]
  },
  {
   "cell_type": "code",
   "execution_count": 93,
   "metadata": {
    "collapsed": false
   },
   "outputs": [
    {
     "data": {
      "text/plain": [
       "array([ 5.5988012 ,  5.59885452,  5.59890785, ...,  5.92234217,\n",
       "        5.9223955 ,  5.92244883])"
      ]
     },
     "execution_count": 93,
     "metadata": {},
     "output_type": "execute_result"
    }
   ],
   "source": [
    "to_s_weisspunkt_1(data_weisslicht[0])"
   ]
  },
  {
   "cell_type": "code",
   "execution_count": 94,
   "metadata": {
    "collapsed": false
   },
   "outputs": [],
   "source": [
    "plt.plot(to_s_weisspunkt_1(data_weisslicht[0]),data_weisslicht[1],label=\"Messdaten\")\n",
    "plt.plot(np.arange(0,10)/np.arange(0,10)*5.7735570520000001,np.arange(0,10), label=\"Weißlichtpunkt\")\n",
    "plt.xlabel('s / $\\mu$m', fontsize=30)\n",
    "plt.ylabel('Spannung / V', fontsize=30)\n",
    "plt.xticks(fontsize=20)\n",
    "plt.yticks(fontsize=20)\n",
    "plt.xlim([5.70,5.84])\n",
    "plt.ylim([1.7,3])\n",
    "plt.legend(loc='best',fontsize=30)\n",
    "plt.show()"
   ]
  },
  {
   "cell_type": "markdown",
   "metadata": {},
   "source": [
    "## Zweites Interferogramm"
   ]
  },
  {
   "cell_type": "code",
   "execution_count": 95,
   "metadata": {
    "collapsed": false
   },
   "outputs": [],
   "source": [
    "data_weisslicht_2 = np.genfromtxt('weisspunkt_2.txt',delimiter=\"\\t\").T"
   ]
  },
  {
   "cell_type": "code",
   "execution_count": 96,
   "metadata": {
    "collapsed": false
   },
   "outputs": [
    {
     "name": "stdout",
     "output_type": "stream",
     "text": [
      "4.754531086\n"
     ]
    }
   ],
   "source": [
    "#bestimmen den Weißlichtpunkts\n",
    "print(to_s_weisspunkt_2(data_weisslicht_2[0][np.argmax(data_weisslicht_2[1])]))"
   ]
  },
  {
   "cell_type": "code",
   "execution_count": 97,
   "metadata": {
    "collapsed": false
   },
   "outputs": [
    {
     "data": {
      "text/plain": [
       "0.00087305763970067329"
      ]
     },
     "execution_count": 97,
     "metadata": {},
     "output_type": "execute_result"
    }
   ],
   "source": [
    "#Fehler auf die Postion (bestimmt mit Fitparametern)\n",
    "np.sqrt(np.square(0.000873)+np.square(2.11e-6 * 4.754531086))"
   ]
  },
  {
   "cell_type": "code",
   "execution_count": 98,
   "metadata": {
    "collapsed": true
   },
   "outputs": [],
   "source": [
    "plt.plot(data_weisslicht_2[0],data_weisslicht_2[1],label='Messdaten')\n",
    "plt.show()"
   ]
  },
  {
   "cell_type": "code",
   "execution_count": 99,
   "metadata": {
    "collapsed": false
   },
   "outputs": [
    {
     "data": {
      "text/plain": [
       "array([ 4.55370306,  4.55375292,  4.55380278, ...,  4.85828558,\n",
       "        4.85833544,  4.8583853 ])"
      ]
     },
     "execution_count": 99,
     "metadata": {},
     "output_type": "execute_result"
    }
   ],
   "source": [
    "to_s_weisspunkt_2(data_weisslicht_2[0])"
   ]
  },
  {
   "cell_type": "code",
   "execution_count": 100,
   "metadata": {
    "collapsed": true
   },
   "outputs": [],
   "source": [
    "plt.plot(to_s_weisspunkt_2(data_weisslicht_2[0]),data_weisslicht_2[1],label=\"Messdaten\")\n",
    "plt.plot(np.arange(0,10)/np.arange(0,10)*4.754531086,np.arange(0,10), label=\"Weißlichtpunkt\")\n",
    "plt.xlabel('s / $\\mu$m', fontsize=30)\n",
    "plt.ylabel('Spannung / V', fontsize=30)\n",
    "plt.xticks(fontsize=20)\n",
    "plt.yticks(fontsize=20)\n",
    "plt.xlim([4.65,4.85])\n",
    "plt.ylim([2.4,3.6])\n",
    "plt.legend(loc='best',fontsize=30)\n",
    "plt.show()"
   ]
  },
  {
   "cell_type": "markdown",
   "metadata": {},
   "source": [
    "# Schmalbandfilter\n",
    "## Erster Weißlichtpunkt"
   ]
  },
  {
   "cell_type": "markdown",
   "metadata": {},
   "source": [
    "### Eichung"
   ]
  },
  {
   "cell_type": "code",
   "execution_count": 101,
   "metadata": {
    "collapsed": false
   },
   "outputs": [],
   "source": [
    "data_schmalband_eichung = np.genfromtxt('eichung_filter_4,7',delimiter='\\t').T"
   ]
  },
  {
   "cell_type": "code",
   "execution_count": 102,
   "metadata": {
    "collapsed": true
   },
   "outputs": [],
   "source": [
    "plt.plot(data_schmalband_eichung[0],data_schmalband_eichung[1])\n",
    "plt.show()"
   ]
  },
  {
   "cell_type": "code",
   "execution_count": 103,
   "metadata": {
    "collapsed": true
   },
   "outputs": [],
   "source": [
    "model = models.LinearModel()\n",
    "guess = model.guess(data_schmalband_eichung[1],x=data_schmalband_eichung[0],weigths=1/50)\n",
    "out = model.fit(data_schmalband_eichung[1],guess,x=data_schmalband_eichung[0])"
   ]
  },
  {
   "cell_type": "code",
   "execution_count": 104,
   "metadata": {
    "collapsed": true
   },
   "outputs": [],
   "source": [
    "out.plot()\n",
    "plt.legend(loc='best')\n",
    "plt.show()"
   ]
  },
  {
   "cell_type": "code",
   "execution_count": 105,
   "metadata": {
    "collapsed": false
   },
   "outputs": [
    {
     "name": "stdout",
     "output_type": "stream",
     "text": [
      "[[Model]]\n",
      "    Model(linear)\n",
      "[[Fit Statistics]]\n",
      "    # function evals   = 4\n",
      "    # data points      = 12\n",
      "    # variables        = 2\n",
      "    chi-square         = 0.000\n",
      "    reduced chi-square = 0.000\n",
      "[[Variables]]\n",
      "    intercept:   4.65400408 +/- 0.003450 (0.07%) (init= 4.654004)\n",
      "    slope:       4.4946e-05 +/- 1.54e-06 (3.42%) (init= 4.494635e-05)\n",
      "[[Correlations]] (unreported correlations are <  0.100)\n",
      "    C(intercept, slope)          = -0.928 \n"
     ]
    }
   ],
   "source": [
    "print(out.fit_report())"
   ]
  },
  {
   "cell_type": "code",
   "execution_count": 106,
   "metadata": {
    "collapsed": false
   },
   "outputs": [],
   "source": [
    "plt.plot(data_weisslicht_eichung_2[0],data_weisslicht_eichung_2[1],'. ',label=\"Messdaten\")\n",
    "plt.xlabel('s / $\\mu$m', fontsize=30)\n",
    "plt.ylabel('Spannung / mV', fontsize=30)\n",
    "plt.xticks(fontsize=20)\n",
    "plt.yticks(fontsize=20)\n",
    "plt.legend(loc='best',fontsize=30)\n",
    "plt.show()"
   ]
  },
  {
   "cell_type": "code",
   "execution_count": 107,
   "metadata": {
    "collapsed": true
   },
   "outputs": [],
   "source": [
    "def to_s_filter_1(x):\n",
    "    return ((x*4.4946e-05)+4.65400409)"
   ]
  },
  {
   "cell_type": "markdown",
   "metadata": {},
   "source": [
    "## Interferogramm"
   ]
  },
  {
   "cell_type": "code",
   "execution_count": 108,
   "metadata": {
    "collapsed": true
   },
   "outputs": [],
   "source": [
    "data_schmalband = np.genfromtxt('filter_4,7.txt',delimiter='\\t').T"
   ]
  },
  {
   "cell_type": "code",
   "execution_count": 109,
   "metadata": {
    "collapsed": false
   },
   "outputs": [],
   "source": [
    "plt.plot(to_s_filter_1(data_schmalband[0]),data_schmalband[1],'b-',label='Messdaten')\n",
    "plt.plot(np.arange(0,1.5,0.1)/np.arange(0,1.5,0.1)*4.7145,np.arange(0,1.5,0.1),'g-')\n",
    "plt.plot(np.arange(0.46,0.9,0.1)/np.arange(0.46,0.9,0.1)*4.784,np.arange(0.46,0.9,0.1),'y-')\n",
    "plt.plot(np.arange(4.66,4.8,0.1),np.arange(4.66,4.8,0.1)/np.arange(4.66,4.8,0.1)*0.7,'r-')\n",
    "plt.show()"
   ]
  },
  {
   "cell_type": "code",
   "execution_count": 110,
   "metadata": {
    "collapsed": false
   },
   "outputs": [
    {
     "data": {
      "text/plain": [
       "0.02800000000000047"
      ]
     },
     "execution_count": 110,
     "metadata": {},
     "output_type": "execute_result"
    }
   ],
   "source": [
    "4.7145-4.6865"
   ]
  },
  {
   "cell_type": "markdown",
   "metadata": {},
   "source": [
    "$x_1$ = 4.6865\n",
    "\n",
    "$x_2$ = 4.7145\n",
    "\n",
    "$\\delta$s = 0.028\n",
    "\n",
    "n = 9"
   ]
  },
  {
   "cell_type": "code",
   "execution_count": 111,
   "metadata": {
    "collapsed": false
   },
   "outputs": [],
   "source": [
    "def wellenlänge(x_1,x_2,n):\n",
    "    return (2*abs(x_1-x_2))/(5*n)"
   ]
  },
  {
   "cell_type": "code",
   "execution_count": 112,
   "metadata": {
    "collapsed": false
   },
   "outputs": [
    {
     "data": {
      "text/plain": [
       "1.1200000000000188"
      ]
     },
     "execution_count": 112,
     "metadata": {},
     "output_type": "execute_result"
    }
   ],
   "source": [
    "wellenlänge(4.7145,4.6865,1)*100"
   ]
  },
  {
   "cell_type": "markdown",
   "metadata": {},
   "source": [
    "## Zweiter Weißlichtpunkt"
   ]
  },
  {
   "cell_type": "markdown",
   "metadata": {},
   "source": [
    "### Eichung"
   ]
  },
  {
   "cell_type": "code",
   "execution_count": 113,
   "metadata": {
    "collapsed": false
   },
   "outputs": [
    {
     "name": "stdout",
     "output_type": "stream",
     "text": [
      "[ 3045.60495600 +0.j           -35.49776458-55.53128682j\n",
      "   -23.41780624+31.42583686j ...,     3.26728976+30.15344325j\n",
      "   -23.41780624-31.42583686j   -35.49776458+55.53128682j]\n"
     ]
    }
   ],
   "source": [
    "f_trafo = np.fft.fft(data_schmalband[1])\n",
    "print(f_trafo)"
   ]
  },
  {
   "cell_type": "code",
   "execution_count": 114,
   "metadata": {
    "collapsed": true
   },
   "outputs": [],
   "source": [
    "data_schmalband_eichung_2 = np.genfromtxt('eichung_filter_2',delimiter='\\t').T"
   ]
  },
  {
   "cell_type": "code",
   "execution_count": 115,
   "metadata": {
    "collapsed": true
   },
   "outputs": [],
   "source": [
    "plt.plot(data_schmalband_eichung_2[0],data_schmalband_eichung_2[1])\n",
    "plt.show()"
   ]
  },
  {
   "cell_type": "code",
   "execution_count": 116,
   "metadata": {
    "collapsed": true
   },
   "outputs": [],
   "source": [
    "model = models.LinearModel()\n",
    "guess = model.guess(data_schmalband_eichung_2[1],x=data_schmalband_eichung_2[0],weigths=1/50)\n",
    "out = model.fit(data_schmalband_eichung_2[1],guess,x=data_schmalband_eichung_2[0])"
   ]
  },
  {
   "cell_type": "code",
   "execution_count": 117,
   "metadata": {
    "collapsed": true
   },
   "outputs": [],
   "source": [
    "out.plot()\n",
    "plt.legend(loc='best')\n",
    "plt.show()"
   ]
  },
  {
   "cell_type": "code",
   "execution_count": 118,
   "metadata": {
    "collapsed": false
   },
   "outputs": [
    {
     "name": "stdout",
     "output_type": "stream",
     "text": [
      "[[Model]]\n",
      "    Model(linear)\n",
      "[[Fit Statistics]]\n",
      "    # function evals   = 3\n",
      "    # data points      = 15\n",
      "    # variables        = 2\n",
      "    chi-square         = 0.000\n",
      "    reduced chi-square = 0.000\n",
      "[[Variables]]\n",
      "    intercept:   5.70505772 +/- 0.000259 (0.00%) (init= 5.705058)\n",
      "    slope:       4.9598e-05 +/- 8.60e-08 (0.17%) (init= 4.959827e-05)\n",
      "[[Correlations]] (unreported correlations are <  0.100)\n",
      "    C(intercept, slope)          = -0.864 \n"
     ]
    }
   ],
   "source": [
    "print(out.fit_report())"
   ]
  },
  {
   "cell_type": "code",
   "execution_count": 119,
   "metadata": {
    "collapsed": true
   },
   "outputs": [],
   "source": [
    "plt.plot(data_schmalband_eichung_2[0],data_schmalband_eichung_2[1],'. ',label=\"Messdaten\")\n",
    "plt.xlabel('s / $\\mu$m', fontsize=30)\n",
    "plt.ylabel('Spannung / mV', fontsize=30)\n",
    "plt.xticks(fontsize=20)\n",
    "plt.yticks(fontsize=20)\n",
    "plt.legend(loc='best',fontsize=30)\n",
    "plt.show()"
   ]
  },
  {
   "cell_type": "code",
   "execution_count": 120,
   "metadata": {
    "collapsed": true
   },
   "outputs": [],
   "source": [
    "def to_s_filter_2(x):\n",
    "    return ((x*4.9598e-05)+5.70505772)"
   ]
  },
  {
   "cell_type": "markdown",
   "metadata": {},
   "source": [
    "### Interferogramm"
   ]
  },
  {
   "cell_type": "code",
   "execution_count": 121,
   "metadata": {
    "collapsed": true
   },
   "outputs": [],
   "source": [
    "data_schmalband_2 = np.genfromtxt('filter_2.txt',delimiter='\\t').T"
   ]
  },
  {
   "cell_type": "code",
   "execution_count": 122,
   "metadata": {
    "collapsed": false
   },
   "outputs": [],
   "source": [
    "plt.plot(to_s_filter_2(data_schmalband[0]),data_schmalband[1],'b-',label='Messdaten')\n",
    "plt.plot(np.arange(0.4,1.06,0.0001)/np.arange(0.4,1.06,0.0001)*5.7881,np.arange(0.4,1.06,0.0001),'g-')\n",
    "plt.plot(np.arange(0.13,1.27,0.0001)/np.arange(0.13,1.27,0.0001)*5.77,np.arange(0.13,1.27,0.0001),'y-',label ='Weißlichtpunkt')\n",
    "plt.plot(np.arange(0.4,1.06,0.0001)/np.arange(0.4,1.06,0.0001)*5.7485,np.arange(0.4,1.06,0.0001),'g-',label=\"Peaks zur Bestimmung der Wellenlänge\")\n",
    "plt.plot(np.arange(5.6,6,0.0001),np.arange(5.6,6,0.0001)/np.arange(5.6,6,0.0001)*0.7,'r-')\n",
    "plt.xlim([5.7,5.92])\n",
    "plt.xlabel('s / mm',fontsize=30)\n",
    "plt.ylabel('Spannung / V',fontsize=30)\n",
    "plt.xticks(fontsize=20)\n",
    "plt.yticks(fontsize=20)\n",
    "plt.legend(loc='best',fontsize=30)\n",
    "plt.show()"
   ]
  },
  {
   "cell_type": "code",
   "execution_count": 156,
   "metadata": {
    "collapsed": false
   },
   "outputs": [
    {
     "data": {
      "text/plain": [
       "2.9783011783127038"
      ]
     },
     "execution_count": 156,
     "metadata": {},
     "output_type": "execute_result"
    }
   ],
   "source": [
    "wellenlänge(5.7881,5.7485,k_bar)*1000"
   ]
  },
  {
   "cell_type": "markdown",
   "metadata": {},
   "source": [
    "$x_1$ = 5.7485\n",
    "\n",
    "$x_2$ = 5.7881\n",
    "\n",
    "$\\delta$s = 0.0396\n",
    "\n",
    "n = 5"
   ]
  },
  {
   "cell_type": "code",
   "execution_count": 139,
   "metadata": {
    "collapsed": false
   },
   "outputs": [
    {
     "data": {
      "text/plain": [
       "39.82352941176415"
      ]
     },
     "execution_count": 139,
     "metadata": {},
     "output_type": "execute_result"
    }
   ],
   "source": [
    "(3.31-2.9117647058823586)*100"
   ]
  },
  {
   "cell_type": "code",
   "execution_count": 125,
   "metadata": {
    "collapsed": false
   },
   "outputs": [
    {
     "data": {
      "text/plain": [
       "0.57"
      ]
     },
     "execution_count": 125,
     "metadata": {},
     "output_type": "execute_result"
    }
   ],
   "source": [
    "0.7-0.13"
   ]
  },
  {
   "cell_type": "code",
   "execution_count": 126,
   "metadata": {
    "collapsed": false
   },
   "outputs": [
    {
     "data": {
      "text/plain": [
       "0.29999999999999993"
      ]
     },
     "execution_count": 126,
     "metadata": {},
     "output_type": "execute_result"
    }
   ],
   "source": [
    "0.7-0.4"
   ]
  },
  {
   "cell_type": "code",
   "execution_count": 127,
   "metadata": {
    "collapsed": false
   },
   "outputs": [
    {
     "data": {
      "text/plain": [
       "0.20969128146772212"
      ]
     },
     "execution_count": 127,
     "metadata": {},
     "output_type": "execute_result"
    }
   ],
   "source": [
    "1/np.e*0.57"
   ]
  },
  {
   "cell_type": "code",
   "execution_count": 128,
   "metadata": {
    "collapsed": false
   },
   "outputs": [],
   "source": [
    "a = 1/0.57"
   ]
  },
  {
   "cell_type": "code",
   "execution_count": 129,
   "metadata": {
    "collapsed": false
   },
   "outputs": [],
   "source": [
    "m = (0.4-0.57)/(5.788-5.77)"
   ]
  },
  {
   "cell_type": "code",
   "execution_count": 130,
   "metadata": {
    "collapsed": false
   },
   "outputs": [],
   "source": [
    "b = 0.57+9.44*5.77"
   ]
  },
  {
   "cell_type": "code",
   "execution_count": 131,
   "metadata": {
    "collapsed": false
   },
   "outputs": [
    {
     "data": {
      "text/plain": [
       "0.03544470588257553"
      ]
     },
     "execution_count": 131,
     "metadata": {},
     "output_type": "execute_result"
    }
   ],
   "source": [
    "(0.2096-b)/m - 5.77"
   ]
  },
  {
   "cell_type": "code",
   "execution_count": 132,
   "metadata": {
    "collapsed": false
   },
   "outputs": [],
   "source": [
    "para_b = 1.988\n",
    "para_a = 0.35*100"
   ]
  },
  {
   "cell_type": "code",
   "execution_count": 133,
   "metadata": {
    "collapsed": false
   },
   "outputs": [],
   "source": [
    "nu_1 = para_b*100 - 2/para_a"
   ]
  },
  {
   "cell_type": "code",
   "execution_count": 134,
   "metadata": {
    "collapsed": false
   },
   "outputs": [],
   "source": [
    "nu_2 = para_b*100 + 2/para_a"
   ]
  },
  {
   "cell_type": "code",
   "execution_count": 135,
   "metadata": {
    "collapsed": false
   },
   "outputs": [
    {
     "data": {
      "text/plain": [
       "0.002891739868995588"
      ]
     },
     "execution_count": 135,
     "metadata": {},
     "output_type": "execute_result"
    }
   ],
   "source": [
    "(1/nu_1 - 1/nu_2)*1000"
   ]
  },
  {
   "cell_type": "code",
   "execution_count": 136,
   "metadata": {
    "collapsed": true
   },
   "outputs": [],
   "source": [
    "def B(x,a,b):\n",
    "    return ((a)/(2*np.sqrt(np.pi))) * np.exp(-(((a**2*(b-(x)))**2)/(4)))"
   ]
  },
  {
   "cell_type": "code",
   "execution_count": 137,
   "metadata": {
    "collapsed": false
   },
   "outputs": [
    {
     "ename": "SyntaxError",
     "evalue": "invalid syntax (<ipython-input-137-3389d19435a7>, line 6)",
     "output_type": "error",
     "traceback": [
      "\u001b[1;36m  File \u001b[1;32m\"<ipython-input-137-3389d19435a7>\"\u001b[1;36m, line \u001b[1;32m6\u001b[0m\n\u001b[1;33m    plt.xticks(fontsize=)\u001b[0m\n\u001b[1;37m                        ^\u001b[0m\n\u001b[1;31mSyntaxError\u001b[0m\u001b[1;31m:\u001b[0m invalid syntax\n"
     ]
    }
   ],
   "source": [
    "x = np.arange(1.9,2.2,0.00001)\n",
    "plt.plot(x,10*B(x,para_a,para_b),label=\"Spektrale Verteilung\")\n",
    "plt.xlabel('$\\lambda$ / $\\mu$m', fontsize=30)\n",
    "plt.ylabel(r'B(1/$\\nu$) / (a.u.)', fontsize=30)\n",
    "plt.xlim([1.98,2])\n",
    "plt.xticks(fontsize=)\n",
    "plt.legend(loc='best',fontsize=30)\n",
    "plt.show()"
   ]
  },
  {
   "cell_type": "code",
   "execution_count": null,
   "metadata": {
    "collapsed": true
   },
   "outputs": [],
   "source": []
  },
  {
   "cell_type": "markdown",
   "metadata": {},
   "source": [
    "# Schwebung"
   ]
  },
  {
   "cell_type": "code",
   "execution_count": 162,
   "metadata": {
    "collapsed": true
   },
   "outputs": [],
   "source": [
    "eichung_schwebung = np.genfromtxt('eichung_schwebung.dat',delimiter='\\t').T"
   ]
  },
  {
   "cell_type": "code",
   "execution_count": 165,
   "metadata": {
    "collapsed": true
   },
   "outputs": [],
   "source": [
    "model = models.LinearModel()\n",
    "guess = model.guess(eichung_schwebung[1],x=eichung_schwebung[0],weigths=1/50)\n",
    "out = model.fit(eichung_schwebung[1],guess,x=eichung_schwebung[0])"
   ]
  },
  {
   "cell_type": "code",
   "execution_count": 166,
   "metadata": {
    "collapsed": false
   },
   "outputs": [
    {
     "name": "stdout",
     "output_type": "stream",
     "text": [
      "[[Model]]\n",
      "    Model(linear)\n",
      "[[Fit Statistics]]\n",
      "    # function evals   = 3\n",
      "    # data points      = 12\n",
      "    # variables        = 2\n",
      "    chi-square         = 0.000\n",
      "    reduced chi-square = 0.000\n",
      "[[Variables]]\n",
      "    intercept:   3.14858566 +/- 0.002625 (0.08%) (init= 3.148586)\n",
      "    slope:       5.0098e-05 +/- 7.78e-08 (0.16%) (init= 5.009768e-05)\n",
      "[[Correlations]] (unreported correlations are <  0.100)\n",
      "    C(intercept, slope)          = -0.992 \n"
     ]
    }
   ],
   "source": [
    "print(out.fit_report())"
   ]
  },
  {
   "cell_type": "code",
   "execution_count": null,
   "metadata": {
    "collapsed": true
   },
   "outputs": [],
   "source": []
  },
  {
   "cell_type": "markdown",
   "metadata": {},
   "source": [
    "## Interferogram"
   ]
  },
  {
   "cell_type": "code",
   "execution_count": 157,
   "metadata": {
    "collapsed": false
   },
   "outputs": [],
   "source": [
    "data_schwebung = np.genfromtxt('schwebung.txt',delimiter='\\t').T"
   ]
  },
  {
   "cell_type": "code",
   "execution_count": 171,
   "metadata": {
    "collapsed": false
   },
   "outputs": [],
   "source": [
    "plt.plot((5.0098e-05*data_schwebung[0])+3.14858566,data_schwebung[1])\n",
    "#plt.xlim(1.67,2.018)\n",
    "plt.xticks(fontsize = 15)\n",
    "plt.yticks(fontsize = 15)\n",
    "plt.ylabel('Spannung/100mV', size = 20)\n",
    "plt.xlabel(r'2-fache Verschiebung des Spiegels 2$\\delta_l$/mm', size = 20)\n",
    "plt.show()"
   ]
  },
  {
   "cell_type": "code",
   "execution_count": null,
   "metadata": {
    "collapsed": true
   },
   "outputs": [],
   "source": []
  }
 ],
 "metadata": {
  "kernelspec": {
   "display_name": "Python 3",
   "language": "python",
   "name": "python3"
  },
  "language_info": {
   "codemirror_mode": {
    "name": "ipython",
    "version": 3
   },
   "file_extension": ".py",
   "mimetype": "text/x-python",
   "name": "python",
   "nbconvert_exporter": "python",
   "pygments_lexer": "ipython3",
   "version": "3.4.3"
  }
 },
 "nbformat": 4,
 "nbformat_minor": 0
}
