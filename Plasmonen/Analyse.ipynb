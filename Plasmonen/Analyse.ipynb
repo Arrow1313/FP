{
 "cells": [
  {
   "cell_type": "code",
   "execution_count": 1,
   "metadata": {
    "collapsed": false
   },
   "outputs": [
    {
     "name": "stderr",
     "output_type": "stream",
     "text": [
      "Vendor:  Continuum Analytics, Inc.\n",
      "Package: mkl\n",
      "Message: trial mode expires in 30 days\n"
     ]
    }
   ],
   "source": [
    "import numpy as np\n",
    "import pandas as pd\n",
    "import matplotlib.pyplot as plt\n",
    "from lmfit import models"
   ]
  },
  {
   "cell_type": "markdown",
   "metadata": {},
   "source": [
    "# Reflextion"
   ]
  },
  {
   "cell_type": "markdown",
   "metadata": {},
   "source": [
    "## 70nm"
   ]
  },
  {
   "cell_type": "code",
   "execution_count": 2,
   "metadata": {
    "collapsed": false
   },
   "outputs": [],
   "source": [
    "# erst parallel dann senkrecht\n",
    "data_angle_70nm = np.array([37.2,45,52.06,44,46,48,42,39,50])\n",
    "data_70nm = [np.array([0.62,0.88,0.7,0.84,0.9,0.85,0.76,0.61,0.73]),np.array([0.68,0.8,0.79,0.8,0.8,0.8,0.76,0.66,0.78])]\n",
    "data_70nm = np.array(data_70nm)"
   ]
  },
  {
   "cell_type": "code",
   "execution_count": 3,
   "metadata": {
    "collapsed": true
   },
   "outputs": [],
   "source": [
    "mask_70nm = np.argsort(data_angle_70nm)"
   ]
  },
  {
   "cell_type": "code",
   "execution_count": 4,
   "metadata": {
    "collapsed": true
   },
   "outputs": [],
   "source": [
    "plt.plot(data_angle_70nm[mask_70nm],data_70nm[0][mask_70nm]/data_70nm[1][mask_70nm], '-p')\n",
    "plt.show()"
   ]
  },
  {
   "cell_type": "markdown",
   "metadata": {},
   "source": [
    "## 30nm"
   ]
  },
  {
   "cell_type": "code",
   "execution_count": 5,
   "metadata": {
    "collapsed": true
   },
   "outputs": [],
   "source": [
    "data_angle_30nm = np.array([37.2,45,52.06,44,46,48,42,39,50,46,40,41,43,39.5,40.5,43.5,38,44.5,44.25,43.75])\n",
    "data_30nm = [np.array([0.05,0.59,0.53,0.63,0.57,0.55,0.90,0.05,0.53,0.57,0.29,0.72,0.76,0.12,0.49,0.66,0.03,0.61,0.56,0.63]),np.array([0.74,0.69,0.65,0.69,0.68,0.64,0.71,0.74,0.65,0.68,0.73,0.72,0.67,0.73,0.72,0.68,0.75,0.69,0.62,0.68])]\n",
    "data_30nm = np.array(data_30nm)"
   ]
  },
  {
   "cell_type": "code",
   "execution_count": 6,
   "metadata": {
    "collapsed": true
   },
   "outputs": [],
   "source": [
    "mask_30nm = np.argsort(data_angle_30nm)"
   ]
  },
  {
   "cell_type": "code",
   "execution_count": 7,
   "metadata": {
    "collapsed": true
   },
   "outputs": [],
   "source": [
    "plt.plot(data_angle_30nm[mask_30nm],data_30nm[0][mask_30nm]/data_30nm[1][mask_30nm], '-p')\n",
    "plt.show()"
   ]
  },
  {
   "cell_type": "markdown",
   "metadata": {},
   "source": [
    "## 40nm"
   ]
  },
  {
   "cell_type": "code",
   "execution_count": 8,
   "metadata": {
    "collapsed": true
   },
   "outputs": [],
   "source": [
    "# erst parallel dann senkrecht\n",
    "data_angle_40nm = np.array([37.2,45,52.06,44,46,48,42,39,50])\n",
    "data_40nm = [np.array([0.31,0.3,0.62,0.26,0.46,0.94,0.26,0.30,0.70]),np.array([0.78,0.72,0.67,0.71,0.71,0.69,0.73,0.74,0.69])]\n",
    "data_40nm = np.array(data_40nm)"
   ]
  },
  {
   "cell_type": "code",
   "execution_count": 9,
   "metadata": {
    "collapsed": true
   },
   "outputs": [],
   "source": [
    "mask_40nm = np.argsort(data_angle_40nm)"
   ]
  },
  {
   "cell_type": "code",
   "execution_count": 10,
   "metadata": {
    "collapsed": true
   },
   "outputs": [],
   "source": [
    "plt.plot(data_angle_40nm[mask_40nm],data_40nm[0][mask_40nm]/data_40nm[1][mask_40nm], '-p')\n",
    "plt.show()"
   ]
  },
  {
   "cell_type": "markdown",
   "metadata": {},
   "source": [
    "## 50nm"
   ]
  },
  {
   "cell_type": "code",
   "execution_count": 11,
   "metadata": {
    "collapsed": true
   },
   "outputs": [],
   "source": [
    "data_angle_50nm = np.arange(38,59)"
   ]
  },
  {
   "cell_type": "code",
   "execution_count": 12,
   "metadata": {
    "collapsed": true
   },
   "outputs": [],
   "source": [
    "data_50nm = [np.array([0.49,0.49,0.48,0.48,0.48,0.49,0.52,0.62,0.84,0.98,0.91,0.78,0.72,0.71,0.70,0.70,0.69,0.68,0.67,0.66,0.66]),\n",
    "             np.array([0.83,0.82,0.82,0.82,0.82,0.81,0.81,0.80,0.80,0.80,0.79,0.78,0.78,0.78,0.77,0.77,0.77,0.76,0.72,0.73,0.73])]"
   ]
  },
  {
   "cell_type": "code",
   "execution_count": 13,
   "metadata": {
    "collapsed": false
   },
   "outputs": [],
   "source": [
    "plt.plot(data_angle_50nm, data_50nm[0]/data_50nm[1], '--p', label=\"50nm\")\n",
    "plt.xlabel(r'Winkel$^\\circ$')\n",
    "plt.legend(loc='best')\n",
    "plt.show()"
   ]
  },
  {
   "cell_type": "markdown",
   "metadata": {},
   "source": [
    "## Plot"
   ]
  },
  {
   "cell_type": "markdown",
   "metadata": {
    "collapsed": false
   },
   "source": [
    "# set tick width\n",
    "plt.rcParams['xtick.major.size'] = 10\n",
    "plt.rcParams['xtick.major.width'] = 2\n",
    "plt.rcParams['xtick.minor.size'] = 5\n",
    "plt.rcParams['xtick.minor.width'] = 1\n",
    "\n",
    "plt.rcParams['ytick.major.size'] = 10\n",
    "plt.rcParams['ytick.major.width'] = 2\n",
    "plt.rcParams['ytick.minor.size'] = 5\n",
    "plt.rcParams['ytick.minor.width'] = 1"
   ]
  },
  {
   "cell_type": "code",
   "execution_count": 14,
   "metadata": {
    "collapsed": true
   },
   "outputs": [],
   "source": [
    "from matplotlib.ticker import AutoMinorLocator, MultipleLocator\n"
   ]
  },
  {
   "cell_type": "code",
   "execution_count": 15,
   "metadata": {
    "collapsed": false
   },
   "outputs": [],
   "source": [
    "plt.plot(data_angle_50nm, data_50nm[0]/data_50nm[1], '--p', label=\"Schichtdicke: 50nm\")\n",
    "plt.plot(data_angle_30nm[mask_30nm], data_30nm[0][mask_30nm]/data_30nm[1][mask_30nm], '--h', label=\"Schichtdicke: 30nm\")\n",
    "plt.plot(data_angle_40nm[mask_40nm], data_40nm[0][mask_40nm]/data_40nm[1][mask_40nm], '-p', label=\"Schichtdicke: 40nm\")\n",
    "plt.plot(data_angle_70nm[mask_70nm], data_70nm[0][mask_70nm]/data_70nm[1][mask_70nm], '-h', label=\"Schichtdicke: 70nm\")\n",
    "plt.xlabel(r'Winkel / $^\\circ$', fontsize=24)\n",
    "plt.ylabel(r'$R_p/R_s$', fontsize=24)\n",
    "plt.xticks(fontsize=18)\n",
    "plt.yticks(fontsize=18)\n",
    "\n",
    "#plt.grid()\n",
    "\n",
    "ml = MultipleLocator(0.5)\n",
    "plt.axes().xaxis.set_minor_locator(ml)\n",
    "#plt.axes().yaxis.set_minor_locator(ml)\n",
    "\n",
    "plt.legend(loc='best')\n",
    "plt.show()"
   ]
  },
  {
   "cell_type": "code",
   "execution_count": null,
   "metadata": {
    "collapsed": true
   },
   "outputs": [],
   "source": []
  },
  {
   "cell_type": "markdown",
   "metadata": {},
   "source": [
    "# Sputtern"
   ]
  },
  {
   "cell_type": "code",
   "execution_count": 16,
   "metadata": {
    "collapsed": false
   },
   "outputs": [
    {
     "data": {
      "text/plain": [
       "16.637096774193548"
      ]
     },
     "execution_count": 16,
     "metadata": {},
     "output_type": "execute_result"
    }
   ],
   "source": [
    "(79*17+16*45)/124"
   ]
  },
  {
   "cell_type": "code",
   "execution_count": 17,
   "metadata": {
    "collapsed": false
   },
   "outputs": [
    {
     "data": {
      "text/plain": [
       "15.340909090909092"
      ]
     },
     "execution_count": 17,
     "metadata": {},
     "output_type": "execute_result"
    }
   ],
   "source": [
    "(45*15.5+45*15+20*15.75)/110"
   ]
  },
  {
   "cell_type": "code",
   "execution_count": 18,
   "metadata": {
    "collapsed": false
   },
   "outputs": [
    {
     "data": {
      "text/plain": [
       "14.842105263157896"
      ]
     },
     "execution_count": 18,
     "metadata": {},
     "output_type": "execute_result"
    }
   ],
   "source": [
    "(45*15+45*15+4*15)/95"
   ]
  },
  {
   "cell_type": "code",
   "execution_count": 19,
   "metadata": {
    "collapsed": false
   },
   "outputs": [
    {
     "data": {
      "text/plain": [
       "14.901315789473685"
      ]
     },
     "execution_count": 19,
     "metadata": {},
     "output_type": "execute_result"
    }
   ],
   "source": [
    "(45*15+30*14.75+15)/76"
   ]
  },
  {
   "cell_type": "code",
   "execution_count": 20,
   "metadata": {
    "collapsed": false
   },
   "outputs": [
    {
     "data": {
      "text/plain": [
       "15.0"
      ]
     },
     "execution_count": 20,
     "metadata": {},
     "output_type": "execute_result"
    }
   ],
   "source": [
    "(45*15+12*15)/57"
   ]
  },
  {
   "cell_type": "code",
   "execution_count": null,
   "metadata": {
    "collapsed": true
   },
   "outputs": [],
   "source": []
  },
  {
   "cell_type": "markdown",
   "metadata": {},
   "source": [
    "# Brewsterwinkel"
   ]
  },
  {
   "cell_type": "code",
   "execution_count": 21,
   "metadata": {
    "collapsed": false
   },
   "outputs": [],
   "source": [
    "brewster_winkel = np.arange(70,115,5)\n",
    "brewster_winkel = np.append(brewster_winkel,[88,86,92,94,90,88,90,88,90,92,86])"
   ]
  },
  {
   "cell_type": "code",
   "execution_count": 22,
   "metadata": {
    "collapsed": false
   },
   "outputs": [],
   "source": [
    "brewster_intensity = np.array([14.5,7,2.3,-0.5,-1.6,-0.2,4.1,9.9,17.5,-1.7,-1,-0.9,-0.2,-1.4,-1.4,-1.3,-1.2,-1.2,-0.7,-0.7])"
   ]
  },
  {
   "cell_type": "markdown",
   "metadata": {},
   "source": [
    "## Sortieren der arrays nach den Winkeln"
   ]
  },
  {
   "cell_type": "code",
   "execution_count": 23,
   "metadata": {
    "collapsed": true
   },
   "outputs": [],
   "source": [
    "sorted_intensity = brewster_intensity[np.argsort(brewster_winkel)[::-1]]\n",
    "sorted_winkel = brewster_winkel[np.argsort(brewster_winkel)[::-1]]"
   ]
  },
  {
   "cell_type": "code",
   "execution_count": 24,
   "metadata": {
    "collapsed": false
   },
   "outputs": [
    {
     "data": {
      "text/plain": [
       "array([ 17.5,   9.9,   4.1,  -0.2,  -0.2,  -0.9,  -0.7,  -1.2,  -1.3,\n",
       "        -1.4,  -1.6,  -1.7,  -1.2,  -1.4,  -0.7,  -1. ,  -0.5,   2.3,\n",
       "         7. ,  14.5])"
      ]
     },
     "execution_count": 24,
     "metadata": {},
     "output_type": "execute_result"
    }
   ],
   "source": [
    "sorted_intensity"
   ]
  },
  {
   "cell_type": "code",
   "execution_count": 25,
   "metadata": {
    "collapsed": false
   },
   "outputs": [
    {
     "data": {
      "text/plain": [
       "array([110, 105, 100,  95,  94,  92,  92,  90,  90,  90,  90,  88,  88,\n",
       "        88,  86,  86,  85,  80,  75,  70])"
      ]
     },
     "execution_count": 25,
     "metadata": {},
     "output_type": "execute_result"
    }
   ],
   "source": [
    "sorted_winkel"
   ]
  },
  {
   "cell_type": "code",
   "execution_count": 26,
   "metadata": {
    "collapsed": true
   },
   "outputs": [],
   "source": [
    "plt.plot(sorted_winkel,sorted_intensity, '--h', label='Messdaten')\n",
    "plt.xlabel(r'Winkel / $^\\circ$', fontsize=24)\n",
    "plt.ylabel(r'Spannung / V', fontsize=24)\n",
    "plt.xticks(fontsize=18)\n",
    "plt.yticks(fontsize=18)\n",
    "plt.xlim([69,111])\n",
    "plt.show()"
   ]
  },
  {
   "cell_type": "code",
   "execution_count": 27,
   "metadata": {
    "collapsed": true
   },
   "outputs": [],
   "source": [
    "def brewster_fit(x,I_0,b,a):\n",
    "    return I_0 * np.cos(a*x)**2 - b"
   ]
  },
  {
   "cell_type": "code",
   "execution_count": 28,
   "metadata": {
    "collapsed": false
   },
   "outputs": [],
   "source": [
    "mod_brewster = models.Model(brewster_fit)\n",
    "pars_brewster = mod_brewster.make_params()\n",
    "pars_brewster['I_0'].set(-12.7)\n",
    "pars_brewster['b'].set(-10.8)\n",
    "pars_brewster['a'].set(0.03)"
   ]
  },
  {
   "cell_type": "code",
   "execution_count": 29,
   "metadata": {
    "collapsed": false
   },
   "outputs": [],
   "source": [
    "out_brewster = mod_brewster.fit(sorted_intensity, pars_brewster, x=sorted_winkel, weights=1/0.3)"
   ]
  },
  {
   "cell_type": "code",
   "execution_count": 30,
   "metadata": {
    "collapsed": false
   },
   "outputs": [
    {
     "name": "stdout",
     "output_type": "stream",
     "text": [
      "[[Model]]\n",
      "    Model(brewster_fit)\n",
      "[[Fit Statistics]]\n",
      "    # function evals   = 39\n",
      "    # data points      = 20\n",
      "    # variables        = 3\n",
      "    chi-square         = 18.102\n",
      "    reduced chi-square = 1.065\n",
      "[[Variables]]\n",
      "    I_0:  -40.6605753 +/- 0.524713 (1.29%) (init=-12.7)\n",
      "    b:    -39.1790128 +/- 0.487223 (1.24%) (init=-10.8)\n",
      "    a:     0.03530955 +/- 3.92e-05 (0.11%) (init= 0.03)\n",
      "[[Correlations]] (unreported correlations are <  0.100)\n",
      "    C(I_0, b)                    =  0.990 \n",
      "    C(b, a)                      =  0.277 \n",
      "    C(I_0, a)                    =  0.256 \n",
      "\n"
     ]
    }
   ],
   "source": [
    "print(out_brewster.fit_report())"
   ]
  },
  {
   "cell_type": "code",
   "execution_count": 31,
   "metadata": {
    "collapsed": false
   },
   "outputs": [],
   "source": [
    "out_brewster.plot_fit()\n",
    "plt.show()"
   ]
  },
  {
   "cell_type": "code",
   "execution_count": 32,
   "metadata": {
    "collapsed": false
   },
   "outputs": [],
   "source": [
    "plt.errorbar(sorted_winkel,sorted_intensity, yerr=0.3, fmt=' h', label='Messdaten')\n",
    "plt.plot(np.arange(60,121),out_brewster.eval(x=np.arange(60,121)),label='Fit')\n",
    "plt.xlabel(r'Winkel / $^\\circ$', fontsize=24)\n",
    "plt.ylabel(r'Spannung / mV', fontsize=24)\n",
    "plt.xticks(fontsize=18)\n",
    "plt.yticks(fontsize=18)\n",
    "plt.xlim([69,111])\n",
    "plt.ylim([-5,20])\n",
    "plt.legend(loc='upper center', fontsize=34)\n",
    "plt.show()"
   ]
  },
  {
   "cell_type": "markdown",
   "metadata": {
    "collapsed": false
   },
   "source": [
    "# Reflexions messung Philipp und Jens"
   ]
  },
  {
   "cell_type": "code",
   "execution_count": 212,
   "metadata": {
    "collapsed": false
   },
   "outputs": [],
   "source": [
    "r_data_18nm = pd.read_csv(\"18nm_data\", delim_whitespace=True)\n",
    "r_data_36nm = pd.read_csv(\"36nm_data\", delim_whitespace=True)\n",
    "r_data_63nm = pd.read_csv(\"63nm_data\", delim_whitespace=True)\n",
    "r_data_45nm = pd.read_csv(\"45nm_data\", delim_whitespace=True)\n",
    "r_data_27nm = pd.read_csv(\"27nm_data\", delim_whitespace=True)\n",
    "r_data_err_18nm = pd.read_csv(\"18nm_data_err\", delim_whitespace=True, header=None)\n",
    "r_data_err_36nm = pd.read_csv(\"36nm_data_err\", delim_whitespace=True, header=None)\n",
    "r_data_err_63nm = pd.read_csv(\"63nm_data_err\", delim_whitespace=True, header=None)\n",
    "r_data_err_45nm = pd.read_csv(\"45nm_data_err\", delim_whitespace=True, header=None)\n",
    "r_data_err_27nm = pd.read_csv(\"27nm_data_err\", delim_whitespace=True, header=None)"
   ]
  },
  {
   "cell_type": "code",
   "execution_count": 213,
   "metadata": {
    "collapsed": true
   },
   "outputs": [],
   "source": [
    "data_list = [r_data_18nm,r_data_27nm,r_data_36nm,r_data_45nm,r_data_63nm]"
   ]
  },
  {
   "cell_type": "code",
   "execution_count": 214,
   "metadata": {
    "collapsed": true
   },
   "outputs": [],
   "source": [
    "data_err_list = [r_data_err_18nm,r_data_err_27nm,r_data_err_36nm,r_data_err_45nm,r_data_err_63nm]"
   ]
  },
  {
   "cell_type": "code",
   "execution_count": 215,
   "metadata": {
    "collapsed": false
   },
   "outputs": [],
   "source": [
    "r_data_18nm.columns = ['theta_ein','theta_aus','beta','alpha','up','us','ps']\n",
    "r_data_27nm.columns = ['theta_ein','theta_aus','beta','alpha','up','us','ps']\n",
    "r_data_36nm.columns = ['theta_ein','theta_aus','beta','alpha','up','us','ps']\n",
    "r_data_45nm.columns = ['theta_ein','theta_aus','beta','alpha','up','us','ps']\n",
    "r_data_63nm.columns = ['theta_ein','theta_aus','beta','alpha','up','us','ps']"
   ]
  },
  {
   "cell_type": "code",
   "execution_count": 218,
   "metadata": {
    "collapsed": false
   },
   "outputs": [
    {
     "name": "stdout",
     "output_type": "stream",
     "text": [
      "19 19\n",
      "22 22\n",
      "18 18\n",
      "19 19\n",
      "19 19\n"
     ]
    }
   ],
   "source": [
    "for i,j in zip(data_list,data_err_list):\n",
    "    print(i.ps.size, j.size)"
   ]
  },
  {
   "cell_type": "code",
   "execution_count": 211,
   "metadata": {
    "collapsed": true
   },
   "outputs": [
    {
     "data": {
      "text/html": [
       "<div>\n",
       "<table border=\"1\" class=\"dataframe\">\n",
       "  <thead>\n",
       "    <tr style=\"text-align: right;\">\n",
       "      <th></th>\n",
       "      <th>alpha</th>\n",
       "      <th>ps</th>\n",
       "    </tr>\n",
       "  </thead>\n",
       "  <tbody>\n",
       "    <tr>\n",
       "      <th>0</th>\n",
       "      <td>50.270818</td>\n",
       "      <td>0.029268</td>\n",
       "    </tr>\n",
       "    <tr>\n",
       "      <th>1</th>\n",
       "      <td>49.942497</td>\n",
       "      <td>0.024470</td>\n",
       "    </tr>\n",
       "    <tr>\n",
       "      <th>2</th>\n",
       "      <td>49.613961</td>\n",
       "      <td>0.021277</td>\n",
       "    </tr>\n",
       "    <tr>\n",
       "      <th>3</th>\n",
       "      <td>49.285226</td>\n",
       "      <td>0.018152</td>\n",
       "    </tr>\n",
       "    <tr>\n",
       "      <th>4</th>\n",
       "      <td>48.956305</td>\n",
       "      <td>0.013333</td>\n",
       "    </tr>\n",
       "    <tr>\n",
       "      <th>5</th>\n",
       "      <td>48.627213</td>\n",
       "      <td>0.011686</td>\n",
       "    </tr>\n",
       "    <tr>\n",
       "      <th>6</th>\n",
       "      <td>48.297964</td>\n",
       "      <td>0.008475</td>\n",
       "    </tr>\n",
       "    <tr>\n",
       "      <th>7</th>\n",
       "      <td>47.639053</td>\n",
       "      <td>0.008636</td>\n",
       "    </tr>\n",
       "    <tr>\n",
       "      <th>8</th>\n",
       "      <td>46.979687</td>\n",
       "      <td>0.021201</td>\n",
       "    </tr>\n",
       "    <tr>\n",
       "      <th>9</th>\n",
       "      <td>46.319981</td>\n",
       "      <td>0.050269</td>\n",
       "    </tr>\n",
       "    <tr>\n",
       "      <th>10</th>\n",
       "      <td>45.660047</td>\n",
       "      <td>0.108059</td>\n",
       "    </tr>\n",
       "    <tr>\n",
       "      <th>11</th>\n",
       "      <td>45.000000</td>\n",
       "      <td>0.216165</td>\n",
       "    </tr>\n",
       "    <tr>\n",
       "      <th>12</th>\n",
       "      <td>44.339953</td>\n",
       "      <td>0.406375</td>\n",
       "    </tr>\n",
       "    <tr>\n",
       "      <th>13</th>\n",
       "      <td>43.680019</td>\n",
       "      <td>0.755382</td>\n",
       "    </tr>\n",
       "    <tr>\n",
       "      <th>14</th>\n",
       "      <td>43.020313</td>\n",
       "      <td>1.287726</td>\n",
       "    </tr>\n",
       "    <tr>\n",
       "      <th>15</th>\n",
       "      <td>41.702036</td>\n",
       "      <td>2.269912</td>\n",
       "    </tr>\n",
       "    <tr>\n",
       "      <th>16</th>\n",
       "      <td>40.386039</td>\n",
       "      <td>1.130120</td>\n",
       "    </tr>\n",
       "    <tr>\n",
       "      <th>17</th>\n",
       "      <td>51.581665</td>\n",
       "      <td>0.053208</td>\n",
       "    </tr>\n",
       "    <tr>\n",
       "      <th>18</th>\n",
       "      <td>58.047330</td>\n",
       "      <td>0.150072</td>\n",
       "    </tr>\n",
       "  </tbody>\n",
       "</table>\n",
       "</div>"
      ],
      "text/plain": [
       "        alpha        ps\n",
       "0   50.270818  0.029268\n",
       "1   49.942497  0.024470\n",
       "2   49.613961  0.021277\n",
       "3   49.285226  0.018152\n",
       "4   48.956305  0.013333\n",
       "5   48.627213  0.011686\n",
       "6   48.297964  0.008475\n",
       "7   47.639053  0.008636\n",
       "8   46.979687  0.021201\n",
       "9   46.319981  0.050269\n",
       "10  45.660047  0.108059\n",
       "11  45.000000  0.216165\n",
       "12  44.339953  0.406375\n",
       "13  43.680019  0.755382\n",
       "14  43.020313  1.287726\n",
       "15  41.702036  2.269912\n",
       "16  40.386039  1.130120\n",
       "17  51.581665  0.053208\n",
       "18  58.047330  0.150072"
      ]
     },
     "execution_count": 211,
     "metadata": {},
     "output_type": "execute_result"
    }
   ],
   "source": [
    "r_data_18nm[['alpha','ps']]"
   ]
  },
  {
   "cell_type": "code",
   "execution_count": 102,
   "metadata": {
    "collapsed": false
   },
   "outputs": [
    {
     "name": "stderr",
     "output_type": "stream",
     "text": [
      "/home/frederik/anaconda3/lib/python3.5/site-packages/ipykernel/__main__.py:2: FutureWarning: sort(columns=....) is deprecated, use sort_values(by=.....)\n",
      "  from ipykernel import kernelapp as app\n"
     ]
    }
   ],
   "source": [
    "for data_set in data_list:\n",
    "    data_set.sort('alpha', inplace=True)"
   ]
  },
  {
   "cell_type": "code",
   "execution_count": 103,
   "metadata": {
    "collapsed": false
   },
   "outputs": [],
   "source": [
    "for data_set,dicke in zip(data_list,[18,27,36,45,63]):\n",
    "    plt.plot(data_set.alpha,data_set.ps, '-h', label=str(dicke)+' Schichtdicke')\n",
    "plt.legend()\n",
    "plt.show()"
   ]
  },
  {
   "cell_type": "code",
   "execution_count": 100,
   "metadata": {
    "collapsed": true
   },
   "outputs": [],
   "source": [
    "def reflexion_fit(x,a,b,c,d,e):\n",
    "    return a*(1-(b+c*(x-d))/((x-d)**2+e**2))"
   ]
  },
  {
   "cell_type": "code",
   "execution_count": 232,
   "metadata": {
    "collapsed": true
   },
   "outputs": [],
   "source": [
    "def x_min(b,c,d,e):\n",
    "    return d+(-b+(b**2+c**2*e**2)**0.5)/c"
   ]
  },
  {
   "cell_type": "code",
   "execution_count": 109,
   "metadata": {
    "collapsed": false
   },
   "outputs": [
    {
     "name": "stdout",
     "output_type": "stream",
     "text": [
      " - Adding parameter \"a\"\n",
      " - Adding parameter \"b\"\n",
      " - Adding parameter \"c\"\n",
      " - Adding parameter \"d\"\n",
      " - Adding parameter \"e\"\n"
     ]
    }
   ],
   "source": [
    "mod_reflex = models.Model(reflexion_fit)\n",
    "pars_reflex = mod_reflex.make_params()"
   ]
  },
  {
   "cell_type": "code",
   "execution_count": 128,
   "metadata": {
    "collapsed": true
   },
   "outputs": [],
   "source": [
    "pars_reflex['a'].set(0.9)\n",
    "pars_reflex['b'].set(0.3)\n",
    "pars_reflex['c'].set(1)\n",
    "pars_reflex['d'].set(43)\n",
    "pars_reflex['e'].set(-1)"
   ]
  },
  {
   "cell_type": "code",
   "execution_count": 238,
   "metadata": {
    "collapsed": false,
    "scrolled": true
   },
   "outputs": [
    {
     "name": "stdout",
     "output_type": "stream",
     "text": [
      "\n",
      "\n",
      "\n",
      "\n",
      "\n",
      "\n",
      "[[Model]]\n",
      "    Model(reflexion_fit)\n",
      "[[Fit Statistics]]\n",
      "    # function evals   = 141\n",
      "    # data points      = 17\n",
      "    # variables        = 5\n",
      "    chi-square         = 0.223\n",
      "    reduced chi-square = 0.019\n",
      "[[Variables]]\n",
      "    a:   0.39254194 +/- 0.010502 (2.68%) (init= 0.9)\n",
      "    b:  -34.4534829 +/- 1.324938 (3.85%) (init= 0.3)\n",
      "    c:   12.5208736 +/- 0.214422 (1.71%) (init= 1)\n",
      "    d:   41.6413421 +/- 0.081433 (0.20%) (init= 43)\n",
      "    e:  -2.37217622 +/- 0.019517 (0.82%) (init=-1)\n",
      "[[Correlations]] (unreported correlations are <  0.100)\n",
      "    C(b, c)                      = -0.991 \n",
      "    C(c, d)                      = -0.982 \n",
      "    C(b, d)                      =  0.982 \n",
      "    C(a, d)                      = -0.839 \n",
      "    C(a, c)                      =  0.798 \n",
      "    C(a, b)                      = -0.741 \n",
      "    C(a, e)                      = -0.542 \n",
      "    C(c, e)                      = -0.140 \n",
      "    C(d, e)                      =  0.101 \n",
      "\n",
      "57.0047167861\n",
      "\n",
      "\n",
      "\n",
      "\n",
      "\n",
      "\n",
      "[[Model]]\n",
      "    Model(reflexion_fit)\n",
      "[[Fit Statistics]]\n",
      "    # function evals   = 45\n",
      "    # data points      = 20\n",
      "    # variables        = 5\n",
      "    chi-square         = 5.705\n",
      "    reduced chi-square = 0.380\n",
      "[[Variables]]\n",
      "    a:   0.52979990 +/- 0.024561 (4.64%) (init= 0.9)\n",
      "    b:  -3.84571090 +/- 0.388214 (10.09%) (init= 0.3)\n",
      "    c:   5.37050033 +/- 0.214539 (3.99%) (init= 1)\n",
      "    d:   42.4617148 +/- 0.071118 (0.17%) (init= 43)\n",
      "    e:  -1.81163777 +/- 0.067075 (3.70%) (init=-1)\n",
      "[[Correlations]] (unreported correlations are <  0.100)\n",
      "    C(b, d)                      =  0.961 \n",
      "    C(a, e)                      = -0.941 \n",
      "    C(c, d)                      = -0.933 \n",
      "    C(b, c)                      = -0.907 \n",
      "    C(c, e)                      = -0.892 \n",
      "    C(a, c)                      =  0.798 \n",
      "    C(d, e)                      =  0.743 \n",
      "    C(a, d)                      = -0.700 \n",
      "    C(b, e)                      =  0.645 \n",
      "    C(a, b)                      = -0.530 \n",
      "\n",
      "48.5543333935\n"
     ]
    }
   ],
   "source": [
    "from matplotlib.pyplot import cm \n",
    "\n",
    "color=iter(cm.rainbow(np.linspace(0,1,5)))\n",
    "\n",
    "\n",
    "for data_set,data_err,dicke in zip(data_list[0:2],data_err_list[0:2],[18,27]):\n",
    "    c=next(color)\n",
    "    out_reflex = mod_reflex.fit(data_set.ps[data_set.alpha > 42],pars_reflex,x=data_set.alpha[data_set.alpha > 42], weights=1/0.02)\n",
    "    print('\\n\\n\\n\\n\\n')\n",
    "    print(out_reflex.fit_report())\n",
    "    print(x_min(out_reflex.best_values['b'],\n",
    "                out_reflex.best_values['c'],\n",
    "                out_reflex.best_values['c'],\n",
    "                out_reflex.best_values['d']))\n",
    "    plt.errorbar(data_set.alpha,data_set.ps, yerr=data_err[0] ,fmt=' h', label=str(dicke)+' Schichtdicke',c=c)\n",
    "    plt.plot(np.arange(37,55,0.1),out_reflex.eval(x=np.arange(37,55,0.1)), label=str(dicke)+' Fit',c=c)\n",
    "\n",
    "plt.xlabel(r'Winkel / $^\\circ$', fontsize=24)\n",
    "plt.ylabel(r'$R_p/R_s$', fontsize=24)\n",
    "plt.xticks(fontsize=18)\n",
    "plt.yticks(fontsize=18)\n",
    "plt.xlim([37,53])\n",
    "plt.legend(loc='best', fontsize=24)\n",
    "plt.show()"
   ]
  },
  {
   "cell_type": "code",
   "execution_count": 262,
   "metadata": {
    "collapsed": false
   },
   "outputs": [],
   "source": [
    "def wellenzahl(x):\n",
    "    return 1.515*(2*np.pi/(670*10**9))*np.sin(np.deg2rad(x))"
   ]
  },
  {
   "cell_type": "code",
   "execution_count": 263,
   "metadata": {
    "collapsed": false
   },
   "outputs": [
    {
     "name": "stdout",
     "output_type": "stream",
     "text": [
      "1.10413021062e-11\n",
      "1.06407892307e-11\n",
      "1.01855082504e-11\n",
      "1.00986843105e-11\n",
      "9.8871818266e-12\n"
     ]
    }
   ],
   "source": [
    "for i in [51,48.5,45.8,45.3,44.1]:\n",
    "    print(wellenzahl(i))"
   ]
  },
  {
   "cell_type": "code",
   "execution_count": 258,
   "metadata": {
    "collapsed": false
   },
   "outputs": [
    {
     "data": {
      "text/plain": [
       "array([ 0.77714596,  0.74895572,  0.71691061,  0.71079947,  0.6959128 ])"
      ]
     },
     "execution_count": 258,
     "metadata": {},
     "output_type": "execute_result"
    }
   ],
   "source": [
    "np.sin(np.deg2rad([51,48.5,45.8,45.3,44.1]))"
   ]
  },
  {
   "cell_type": "code",
   "execution_count": 259,
   "metadata": {
    "collapsed": false
   },
   "outputs": [
    {
     "data": {
      "text/plain": [
       "1.4207501105040406e-11"
      ]
     },
     "execution_count": 259,
     "metadata": {},
     "output_type": "execute_result"
    }
   ],
   "source": [
    "1.515*(2*np.pi/(670*10**9))"
   ]
  },
  {
   "cell_type": "code",
   "execution_count": null,
   "metadata": {
    "collapsed": true
   },
   "outputs": [],
   "source": []
  }
 ],
 "metadata": {
  "kernelspec": {
   "display_name": "Python 3",
   "language": "python",
   "name": "python3"
  },
  "language_info": {
   "codemirror_mode": {
    "name": "ipython",
    "version": 3
   },
   "file_extension": ".py",
   "mimetype": "text/x-python",
   "name": "python",
   "nbconvert_exporter": "python",
   "pygments_lexer": "ipython3",
   "version": "3.5.1"
  }
 },
 "nbformat": 4,
 "nbformat_minor": 0
}
