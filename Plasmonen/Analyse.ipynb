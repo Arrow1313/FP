{
 "cells": [
  {
   "cell_type": "code",
   "execution_count": 1,
   "metadata": {
    "collapsed": false
   },
   "outputs": [
    {
     "name": "stderr",
     "output_type": "stream",
     "text": [
      "Vendor:  Continuum Analytics, Inc.\n",
      "Package: mkl\n",
      "Message: trial mode expires in 30 days\n"
     ]
    }
   ],
   "source": [
    "import numpy as np\n",
    "import pandas as pd\n",
    "import matplotlib.pyplot as plt\n",
    "from lmfit import models"
   ]
  },
  {
   "cell_type": "markdown",
   "metadata": {},
   "source": [
    "# Reflextion"
   ]
  },
  {
   "cell_type": "markdown",
   "metadata": {},
   "source": [
    "## 70nm"
   ]
  },
  {
   "cell_type": "code",
   "execution_count": 2,
   "metadata": {
    "collapsed": false
   },
   "outputs": [],
   "source": [
    "# erst parallel dann senkrecht\n",
    "data_angle_70nm = np.array([37.2,45,52.06,44,46,48,42,39,50])\n",
    "data_70nm = [np.array([0.62,0.88,0.7,0.84,0.9,0.85,0.76,0.61,0.73]),np.array([0.68,0.8,0.79,0.8,0.8,0.8,0.76,0.66,0.78])]\n",
    "data_70nm = np.array(data_70nm)"
   ]
  },
  {
   "cell_type": "code",
   "execution_count": 3,
   "metadata": {
    "collapsed": true
   },
   "outputs": [],
   "source": [
    "mask_70nm = np.argsort(data_angle_70nm)"
   ]
  },
  {
   "cell_type": "code",
   "execution_count": 4,
   "metadata": {
    "collapsed": true
   },
   "outputs": [],
   "source": [
    "plt.plot(data_angle_70nm[mask_70nm],data_70nm[0][mask_70nm]/data_70nm[1][mask_70nm], '-p')\n",
    "plt.show()"
   ]
  },
  {
   "cell_type": "markdown",
   "metadata": {},
   "source": [
    "## 30nm"
   ]
  },
  {
   "cell_type": "code",
   "execution_count": 5,
   "metadata": {
    "collapsed": true
   },
   "outputs": [],
   "source": [
    "data_angle_30nm = np.array([37.2,45,52.06,44,46,48,42,39,50,46,40,41,43,39.5,40.5,43.5,38,44.5,44.25,43.75])\n",
    "data_30nm = [np.array([0.05,0.59,0.53,0.63,0.57,0.55,0.90,0.05,0.53,0.57,0.29,0.72,0.76,0.12,0.49,0.66,0.03,0.61,0.56,0.63]),np.array([0.74,0.69,0.65,0.69,0.68,0.64,0.71,0.74,0.65,0.68,0.73,0.72,0.67,0.73,0.72,0.68,0.75,0.69,0.62,0.68])]\n",
    "data_30nm = np.array(data_30nm)"
   ]
  },
  {
   "cell_type": "code",
   "execution_count": 6,
   "metadata": {
    "collapsed": true
   },
   "outputs": [],
   "source": [
    "mask_30nm = np.argsort(data_angle_30nm)"
   ]
  },
  {
   "cell_type": "code",
   "execution_count": 7,
   "metadata": {
    "collapsed": true
   },
   "outputs": [],
   "source": [
    "plt.plot(data_angle_30nm[mask_30nm],data_30nm[0][mask_30nm]/data_30nm[1][mask_30nm], '-p')\n",
    "plt.show()"
   ]
  },
  {
   "cell_type": "markdown",
   "metadata": {},
   "source": [
    "## 40nm"
   ]
  },
  {
   "cell_type": "code",
   "execution_count": 8,
   "metadata": {
    "collapsed": true
   },
   "outputs": [],
   "source": [
    "# erst parallel dann senkrecht\n",
    "data_angle_40nm = np.array([37.2,45,52.06,44,46,48,42,39,50])\n",
    "data_40nm = [np.array([0.31,0.3,0.62,0.26,0.46,0.94,0.26,0.30,0.70]),np.array([0.78,0.72,0.67,0.71,0.71,0.69,0.73,0.74,0.69])]\n",
    "data_40nm = np.array(data_40nm)"
   ]
  },
  {
   "cell_type": "code",
   "execution_count": 9,
   "metadata": {
    "collapsed": true
   },
   "outputs": [],
   "source": [
    "mask_40nm = np.argsort(data_angle_40nm)"
   ]
  },
  {
   "cell_type": "code",
   "execution_count": 10,
   "metadata": {
    "collapsed": true
   },
   "outputs": [],
   "source": [
    "plt.plot(data_angle_40nm[mask_40nm],data_40nm[0][mask_40nm]/data_40nm[1][mask_40nm], '-p')\n",
    "plt.show()"
   ]
  },
  {
   "cell_type": "markdown",
   "metadata": {},
   "source": [
    "## 50nm"
   ]
  },
  {
   "cell_type": "code",
   "execution_count": 11,
   "metadata": {
    "collapsed": true
   },
   "outputs": [],
   "source": [
    "data_angle_50nm = np.arange(38,59)"
   ]
  },
  {
   "cell_type": "code",
   "execution_count": 12,
   "metadata": {
    "collapsed": true
   },
   "outputs": [],
   "source": [
    "data_50nm = [np.array([0.49,0.49,0.48,0.48,0.48,0.49,0.52,0.62,0.84,0.98,0.91,0.78,0.72,0.71,0.70,0.70,0.69,0.68,0.67,0.66,0.66]),\n",
    "             np.array([0.83,0.82,0.82,0.82,0.82,0.81,0.81,0.80,0.80,0.80,0.79,0.78,0.78,0.78,0.77,0.77,0.77,0.76,0.72,0.73,0.73])]"
   ]
  },
  {
   "cell_type": "code",
   "execution_count": 13,
   "metadata": {
    "collapsed": false
   },
   "outputs": [],
   "source": [
    "plt.plot(data_angle_50nm, data_50nm[0]/data_50nm[1], '--p', label=\"50nm\")\n",
    "plt.xlabel(r'Winkel$^\\circ$')\n",
    "plt.legend(loc='best')\n",
    "plt.show()"
   ]
  },
  {
   "cell_type": "markdown",
   "metadata": {},
   "source": [
    "## Plot"
   ]
  },
  {
   "cell_type": "code",
   "execution_count": 14,
   "metadata": {
    "collapsed": false
   },
   "outputs": [],
   "source": [
    "# set tick width\n",
    "plt.rcParams['xtick.major.size'] = 10\n",
    "plt.rcParams['xtick.major.width'] = 2\n",
    "plt.rcParams['xtick.minor.size'] = 5\n",
    "plt.rcParams['xtick.minor.width'] = 1\n",
    "\n",
    "plt.rcParams['ytick.major.size'] = 10\n",
    "plt.rcParams['ytick.major.width'] = 2\n",
    "plt.rcParams['ytick.minor.size'] = 5\n",
    "plt.rcParams['ytick.minor.width'] = 1"
   ]
  },
  {
   "cell_type": "code",
   "execution_count": 15,
   "metadata": {
    "collapsed": true
   },
   "outputs": [],
   "source": [
    "from matplotlib.ticker import AutoMinorLocator, MultipleLocator\n"
   ]
  },
  {
   "cell_type": "code",
   "execution_count": 46,
   "metadata": {
    "collapsed": false
   },
   "outputs": [],
   "source": [
    "plt.plot(data_angle_50nm, data_50nm[0]/data_50nm[1], '--p', label=\"Schichtdicke: 50nm\")\n",
    "plt.plot(data_angle_30nm[mask_30nm], data_30nm[0][mask_30nm]/data_30nm[1][mask_30nm], '--h', label=\"Schichtdicke: 30nm\")\n",
    "plt.plot(data_angle_40nm[mask_40nm], data_40nm[0][mask_40nm]/data_40nm[1][mask_40nm], '-p', label=\"Schichtdicke: 40nm\")\n",
    "plt.plot(data_angle_70nm[mask_70nm], data_70nm[0][mask_70nm]/data_70nm[1][mask_70nm], '-h', label=\"Schichtdicke: 70nm\")\n",
    "plt.xlabel(r'Winkel / $^\\circ$', fontsize=24)\n",
    "plt.ylabel(r'$R_p/R_s$', fontsize=24)\n",
    "plt.xticks(fontsize=18)\n",
    "plt.yticks(fontsize=18)\n",
    "\n",
    "#plt.grid()\n",
    "\n",
    "ml = MultipleLocator(0.5)\n",
    "plt.axes().xaxis.set_minor_locator(ml)\n",
    "#plt.axes().yaxis.set_minor_locator(ml)\n",
    "\n",
    "plt.legend(loc='best')\n",
    "plt.show()"
   ]
  },
  {
   "cell_type": "code",
   "execution_count": null,
   "metadata": {
    "collapsed": true
   },
   "outputs": [],
   "source": []
  },
  {
   "cell_type": "markdown",
   "metadata": {},
   "source": [
    "# Sputtern"
   ]
  },
  {
   "cell_type": "code",
   "execution_count": 17,
   "metadata": {
    "collapsed": false
   },
   "outputs": [
    {
     "data": {
      "text/plain": [
       "16.637096774193548"
      ]
     },
     "execution_count": 17,
     "metadata": {},
     "output_type": "execute_result"
    }
   ],
   "source": [
    "(79*17+16*45)/124"
   ]
  },
  {
   "cell_type": "code",
   "execution_count": 18,
   "metadata": {
    "collapsed": false
   },
   "outputs": [
    {
     "data": {
      "text/plain": [
       "15.340909090909092"
      ]
     },
     "execution_count": 18,
     "metadata": {},
     "output_type": "execute_result"
    }
   ],
   "source": [
    "(45*15.5+45*15+20*15.75)/110"
   ]
  },
  {
   "cell_type": "code",
   "execution_count": 19,
   "metadata": {
    "collapsed": false
   },
   "outputs": [
    {
     "data": {
      "text/plain": [
       "14.842105263157896"
      ]
     },
     "execution_count": 19,
     "metadata": {},
     "output_type": "execute_result"
    }
   ],
   "source": [
    "(45*15+45*15+4*15)/95"
   ]
  },
  {
   "cell_type": "code",
   "execution_count": 20,
   "metadata": {
    "collapsed": false
   },
   "outputs": [
    {
     "data": {
      "text/plain": [
       "14.901315789473685"
      ]
     },
     "execution_count": 20,
     "metadata": {},
     "output_type": "execute_result"
    }
   ],
   "source": [
    "(45*15+30*14.75+15)/76"
   ]
  },
  {
   "cell_type": "code",
   "execution_count": 21,
   "metadata": {
    "collapsed": false
   },
   "outputs": [
    {
     "data": {
      "text/plain": [
       "15.0"
      ]
     },
     "execution_count": 21,
     "metadata": {},
     "output_type": "execute_result"
    }
   ],
   "source": [
    "(45*15+12*15)/57"
   ]
  },
  {
   "cell_type": "code",
   "execution_count": null,
   "metadata": {
    "collapsed": true
   },
   "outputs": [],
   "source": []
  },
  {
   "cell_type": "markdown",
   "metadata": {},
   "source": [
    "# Brewsterwinkel"
   ]
  },
  {
   "cell_type": "code",
   "execution_count": 22,
   "metadata": {
    "collapsed": false
   },
   "outputs": [],
   "source": [
    "brewster_winkel = np.arange(70,115,5)\n",
    "brewster_winkel = np.append(brewster_winkel,[88,86,92,94,90,88,90,88,90,92,86])"
   ]
  },
  {
   "cell_type": "code",
   "execution_count": 23,
   "metadata": {
    "collapsed": false
   },
   "outputs": [],
   "source": [
    "brewster_intensity = np.array([14.5,7,2.3,-0.5,-1.6,-0.2,4.1,9.9,17.5,-1.7,-1,-0.9,-0.2,-1.4,-1.4,-1.3,-1.2,-1.2,-0.7,-0.7])"
   ]
  },
  {
   "cell_type": "markdown",
   "metadata": {},
   "source": [
    "## Sortieren der arrays nach den Winkeln"
   ]
  },
  {
   "cell_type": "code",
   "execution_count": 24,
   "metadata": {
    "collapsed": true
   },
   "outputs": [],
   "source": [
    "sorted_intensity = brewster_intensity[np.argsort(brewster_winkel)[::-1]]\n",
    "sorted_winkel = brewster_winkel[np.argsort(brewster_winkel)[::-1]]"
   ]
  },
  {
   "cell_type": "code",
   "execution_count": 25,
   "metadata": {
    "collapsed": false
   },
   "outputs": [
    {
     "data": {
      "text/plain": [
       "array([ 17.5,   9.9,   4.1,  -0.2,  -0.2,  -0.9,  -0.7,  -1.2,  -1.3,\n",
       "        -1.4,  -1.6,  -1.7,  -1.2,  -1.4,  -0.7,  -1. ,  -0.5,   2.3,\n",
       "         7. ,  14.5])"
      ]
     },
     "execution_count": 25,
     "metadata": {},
     "output_type": "execute_result"
    }
   ],
   "source": [
    "sorted_intensity"
   ]
  },
  {
   "cell_type": "code",
   "execution_count": 26,
   "metadata": {
    "collapsed": false
   },
   "outputs": [
    {
     "data": {
      "text/plain": [
       "array([110, 105, 100,  95,  94,  92,  92,  90,  90,  90,  90,  88,  88,\n",
       "        88,  86,  86,  85,  80,  75,  70])"
      ]
     },
     "execution_count": 26,
     "metadata": {},
     "output_type": "execute_result"
    }
   ],
   "source": [
    "sorted_winkel"
   ]
  },
  {
   "cell_type": "code",
   "execution_count": 27,
   "metadata": {
    "collapsed": true
   },
   "outputs": [],
   "source": [
    "plt.plot(sorted_winkel,sorted_intensity, '--h', label='Messdaten')\n",
    "plt.xlabel(r'Winkel / $^\\circ$', fontsize=24)\n",
    "plt.ylabel(r'Spannung / V', fontsize=24)\n",
    "plt.xticks(fontsize=18)\n",
    "plt.yticks(fontsize=18)\n",
    "plt.xlim([69,111])\n",
    "plt.show()"
   ]
  },
  {
   "cell_type": "code",
   "execution_count": 28,
   "metadata": {
    "collapsed": true
   },
   "outputs": [],
   "source": [
    "def brewster_fit(x,I_0,b,a):\n",
    "    return I_0 * np.cos(a*x)**2 - b"
   ]
  },
  {
   "cell_type": "code",
   "execution_count": 29,
   "metadata": {
    "collapsed": false
   },
   "outputs": [],
   "source": [
    "mod_brewster = models.Model(brewster_fit)\n",
    "pars_brewster = mod_brewster.make_params()\n",
    "pars_brewster['I_0'].set(-12.7)\n",
    "pars_brewster['b'].set(-10.8)\n",
    "pars_brewster['a'].set(0.03)"
   ]
  },
  {
   "cell_type": "code",
   "execution_count": 30,
   "metadata": {
    "collapsed": false
   },
   "outputs": [],
   "source": [
    "out_brewster = mod_brewster.fit(sorted_intensity, pars_brewster, x=sorted_winkel, weights=1/0.3)"
   ]
  },
  {
   "cell_type": "code",
   "execution_count": 31,
   "metadata": {
    "collapsed": false
   },
   "outputs": [
    {
     "name": "stdout",
     "output_type": "stream",
     "text": [
      "[[Model]]\n",
      "    Model(brewster_fit)\n",
      "[[Fit Statistics]]\n",
      "    # function evals   = 39\n",
      "    # data points      = 20\n",
      "    # variables        = 3\n",
      "    chi-square         = 18.102\n",
      "    reduced chi-square = 1.065\n",
      "[[Variables]]\n",
      "    I_0:  -40.6605753 +/- 0.524713 (1.29%) (init=-12.7)\n",
      "    b:    -39.1790128 +/- 0.487223 (1.24%) (init=-10.8)\n",
      "    a:     0.03530955 +/- 3.92e-05 (0.11%) (init= 0.03)\n",
      "[[Correlations]] (unreported correlations are <  0.100)\n",
      "    C(I_0, b)                    =  0.990 \n",
      "    C(b, a)                      =  0.277 \n",
      "    C(I_0, a)                    =  0.256 \n",
      "\n"
     ]
    }
   ],
   "source": [
    "print(out_brewster.fit_report())"
   ]
  },
  {
   "cell_type": "code",
   "execution_count": 32,
   "metadata": {
    "collapsed": false
   },
   "outputs": [],
   "source": [
    "out_brewster.plot_fit()\n",
    "plt.show()"
   ]
  },
  {
   "cell_type": "code",
   "execution_count": 33,
   "metadata": {
    "collapsed": false
   },
   "outputs": [],
   "source": [
    "plt.errorbar(sorted_winkel,sorted_intensity, yerr=0.3, fmt=' h', label='Messdaten')\n",
    "plt.plot(np.arange(60,121),out_brewster.eval(x=np.arange(60,121)),label='Fit')\n",
    "plt.xlabel(r'Winkel / $^\\circ$', fontsize=24)\n",
    "plt.ylabel(r'Spannung / mV', fontsize=24)\n",
    "plt.xticks(fontsize=18)\n",
    "plt.yticks(fontsize=18)\n",
    "plt.xlim([69,111])\n",
    "plt.ylim([-5,20])\n",
    "plt.legend(loc='upper center', fontsize=34)\n",
    "plt.show()"
   ]
  },
  {
   "cell_type": "code",
   "execution_count": null,
   "metadata": {
    "collapsed": false
   },
   "outputs": [],
   "source": []
  },
  {
   "cell_type": "code",
   "execution_count": null,
   "metadata": {
    "collapsed": true
   },
   "outputs": [],
   "source": []
  }
 ],
 "metadata": {
  "kernelspec": {
   "display_name": "Python 3",
   "language": "python",
   "name": "python3"
  },
  "language_info": {
   "codemirror_mode": {
    "name": "ipython",
    "version": 3
   },
   "file_extension": ".py",
   "mimetype": "text/x-python",
   "name": "python",
   "nbconvert_exporter": "python",
   "pygments_lexer": "ipython3",
   "version": "3.5.1"
  }
 },
 "nbformat": 4,
 "nbformat_minor": 0
}
