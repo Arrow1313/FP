{
 "cells": [
  {
   "cell_type": "code",
   "execution_count": 1,
   "metadata": {
    "collapsed": true
   },
   "outputs": [],
   "source": [
    "import numpy as np\n",
    "import pandas as pd\n",
    "import matplotlib.pyplot as plt\n",
    "from lmfit.models import Model, GaussianModel"
   ]
  },
  {
   "cell_type": "markdown",
   "metadata": {},
   "source": [
    "# Nulllage des Detektors"
   ]
  },
  {
   "cell_type": "code",
   "execution_count": 2,
   "metadata": {
    "collapsed": false
   },
   "outputs": [],
   "source": [
    "nulllage = pd.DataFrame([[180,180.5,181,181.5,181.75,182,182.25,182.5,183],\n",
    "                         [2/60,2/60,2/60,2/60,2/60,2/60,2/60,2/60,2/60],\n",
    "                         [11,110.4,500,1054,1179,1133,899,627,178.4],\n",
    "                         [0.3,0.5,2,4,4,2,2,2,0.5]]).astype(float).T"
   ]
  },
  {
   "cell_type": "code",
   "execution_count": 3,
   "metadata": {
    "collapsed": false
   },
   "outputs": [
    {
     "data": {
      "text/html": [
       "<div>\n",
       "<table border=\"1\" class=\"dataframe\">\n",
       "  <thead>\n",
       "    <tr style=\"text-align: right;\">\n",
       "      <th></th>\n",
       "      <th>0</th>\n",
       "      <th>1</th>\n",
       "      <th>2</th>\n",
       "      <th>3</th>\n",
       "    </tr>\n",
       "  </thead>\n",
       "  <tbody>\n",
       "    <tr>\n",
       "      <th>0</th>\n",
       "      <td>180.00</td>\n",
       "      <td>0.033333</td>\n",
       "      <td>11.0</td>\n",
       "      <td>0.3</td>\n",
       "    </tr>\n",
       "    <tr>\n",
       "      <th>1</th>\n",
       "      <td>180.50</td>\n",
       "      <td>0.033333</td>\n",
       "      <td>110.4</td>\n",
       "      <td>0.5</td>\n",
       "    </tr>\n",
       "    <tr>\n",
       "      <th>2</th>\n",
       "      <td>181.00</td>\n",
       "      <td>0.033333</td>\n",
       "      <td>500.0</td>\n",
       "      <td>2.0</td>\n",
       "    </tr>\n",
       "    <tr>\n",
       "      <th>3</th>\n",
       "      <td>181.50</td>\n",
       "      <td>0.033333</td>\n",
       "      <td>1054.0</td>\n",
       "      <td>4.0</td>\n",
       "    </tr>\n",
       "    <tr>\n",
       "      <th>4</th>\n",
       "      <td>181.75</td>\n",
       "      <td>0.033333</td>\n",
       "      <td>1179.0</td>\n",
       "      <td>4.0</td>\n",
       "    </tr>\n",
       "    <tr>\n",
       "      <th>5</th>\n",
       "      <td>182.00</td>\n",
       "      <td>0.033333</td>\n",
       "      <td>1133.0</td>\n",
       "      <td>2.0</td>\n",
       "    </tr>\n",
       "    <tr>\n",
       "      <th>6</th>\n",
       "      <td>182.25</td>\n",
       "      <td>0.033333</td>\n",
       "      <td>899.0</td>\n",
       "      <td>2.0</td>\n",
       "    </tr>\n",
       "    <tr>\n",
       "      <th>7</th>\n",
       "      <td>182.50</td>\n",
       "      <td>0.033333</td>\n",
       "      <td>627.0</td>\n",
       "      <td>2.0</td>\n",
       "    </tr>\n",
       "    <tr>\n",
       "      <th>8</th>\n",
       "      <td>183.00</td>\n",
       "      <td>0.033333</td>\n",
       "      <td>178.4</td>\n",
       "      <td>0.5</td>\n",
       "    </tr>\n",
       "  </tbody>\n",
       "</table>\n",
       "</div>"
      ],
      "text/plain": [
       "        0         1       2    3\n",
       "0  180.00  0.033333    11.0  0.3\n",
       "1  180.50  0.033333   110.4  0.5\n",
       "2  181.00  0.033333   500.0  2.0\n",
       "3  181.50  0.033333  1054.0  4.0\n",
       "4  181.75  0.033333  1179.0  4.0\n",
       "5  182.00  0.033333  1133.0  2.0\n",
       "6  182.25  0.033333   899.0  2.0\n",
       "7  182.50  0.033333   627.0  2.0\n",
       "8  183.00  0.033333   178.4  0.5"
      ]
     },
     "execution_count": 3,
     "metadata": {},
     "output_type": "execute_result"
    }
   ],
   "source": [
    "nulllage"
   ]
  },
  {
   "cell_type": "code",
   "execution_count": 4,
   "metadata": {
    "collapsed": true
   },
   "outputs": [],
   "source": [
    "mod_nullage = GaussianModel()"
   ]
  },
  {
   "cell_type": "code",
   "execution_count": 5,
   "metadata": {
    "collapsed": false
   },
   "outputs": [],
   "source": [
    "pars_nullage = mod_nullage.guess(nulllage[2],x=nulllage[0])\n",
    "pars_nullage[\"center\"].set(181)\n",
    "pars_nullage[\"sigma\"].set(1)"
   ]
  },
  {
   "cell_type": "code",
   "execution_count": 6,
   "metadata": {
    "collapsed": true
   },
   "outputs": [],
   "source": [
    "out_nullage = mod_nullage.fit(nulllage[2],params=pars_nullage,x=nulllage[0],weights=1/nulllage[3])"
   ]
  },
  {
   "cell_type": "code",
   "execution_count": 7,
   "metadata": {
    "collapsed": false
   },
   "outputs": [],
   "source": [
    "plt.plot(np.arange(179,184.2,0.1),out_nullage.eval(x=np.arange(179,184.2,0.1)),label=\"Fit\")\n",
    "plt.errorbar(nulllage[0],nulllage[2],xerr=nulllage[1],yerr=nulllage[3],fmt=' .',label=\"Messdaten\")\n",
    "plt.ylabel(r\"Spannung / mV\", fontsize=24)\n",
    "plt.xlabel(r\"Winkel / $^\\circ$\", fontsize=24)\n",
    "plt.xlim([179.5,183.8])\n",
    "plt.xticks(fontsize=18)\n",
    "plt.yticks(fontsize=18)\n",
    "plt.legend(loc='best', fontsize=24)\n",
    "plt.show()"
   ]
  },
  {
   "cell_type": "code",
   "execution_count": 8,
   "metadata": {
    "collapsed": false
   },
   "outputs": [
    {
     "name": "stdout",
     "output_type": "stream",
     "text": [
      "[[Model]]\n",
      "    Model(gaussian)\n",
      "[[Fit Statistics]]\n",
      "    # function evals   = 32\n",
      "    # data points      = 9\n",
      "    # variables        = 3\n",
      "    chi-square         = 314.304\n",
      "    reduced chi-square = 52.384\n",
      "[[Variables]]\n",
      "    sigma:       0.60663646 +/- 0.002910 (0.48%) (init= 1)\n",
      "    fwhm:        1.42851967 +/- 0.006852 (0.48%)  == '2.3548200*sigma'\n",
      "    amplitude:   1802.21002 +/- 13.77597 (0.76%) (init= 1168)\n",
      "    center:      181.815458 +/- 0.004419 (0.00%) (init= 181)\n",
      "[[Correlations]] (unreported correlations are <  0.100)\n",
      "    C(amplitude, center)         = -0.339 \n",
      "\n"
     ]
    }
   ],
   "source": [
    "print(out_nullage.fit_report())"
   ]
  },
  {
   "cell_type": "code",
   "execution_count": 9,
   "metadata": {
    "collapsed": false
   },
   "outputs": [
    {
     "name": "stdout",
     "output_type": "stream",
     "text": [
      "181.7\n"
     ]
    }
   ],
   "source": [
    "# händisch bestimmtes maximum \n",
    "center = 181+42/60\n",
    "spannung_center = 1212\n",
    "err_spannung_center = 1\n",
    "print(center)"
   ]
  },
  {
   "cell_type": "markdown",
   "metadata": {},
   "source": [
    "# Winkelabhängigkeit der Intensität"
   ]
  },
  {
   "cell_type": "code",
   "execution_count": 10,
   "metadata": {
    "collapsed": true
   },
   "outputs": [],
   "source": [
    "Winkel = np.arange(0,400,45)\n",
    "Intensität = np.array([1229,1230,1230,1231,1232,1226,1226,1232,1229])"
   ]
  },
  {
   "cell_type": "code",
   "execution_count": 11,
   "metadata": {
    "collapsed": false
   },
   "outputs": [
    {
     "data": {
      "text/plain": [
       "array([  0,  45,  90, 135, 180, 225, 270, 315, 360])"
      ]
     },
     "execution_count": 11,
     "metadata": {},
     "output_type": "execute_result"
    }
   ],
   "source": [
    "Winkel"
   ]
  },
  {
   "cell_type": "code",
   "execution_count": 12,
   "metadata": {
    "collapsed": false
   },
   "outputs": [
    {
     "data": {
      "text/plain": [
       "0.48701298701298701"
      ]
     },
     "execution_count": 12,
     "metadata": {},
     "output_type": "execute_result"
    }
   ],
   "source": [
    "((Intensität.max()-Intensität.min())/Intensität.max())*100"
   ]
  },
  {
   "cell_type": "code",
   "execution_count": 13,
   "metadata": {
    "collapsed": false
   },
   "outputs": [
    {
     "data": {
      "text/plain": [
       "6"
      ]
     },
     "execution_count": 13,
     "metadata": {},
     "output_type": "execute_result"
    }
   ],
   "source": [
    "Intensität.max()-Intensität.min()"
   ]
  },
  {
   "cell_type": "code",
   "execution_count": 14,
   "metadata": {
    "collapsed": false
   },
   "outputs": [],
   "source": [
    "ax = plt.subplot(111, projection='polar')\n",
    "ax.plot(np.deg2rad(Winkel), Intensität, ' h', color='r', linewidth=5, label=\"Messdaten\")\n",
    "ax.plot(np.arange(0,360,0.01),np.arange(0,360,0.01)/np.arange(0,360,0.01)*Intensität.mean(), color=\"g\", alpha=0.6, linewidth=0.5, label=\"Mittelwert der Messdaten\")\n",
    "ax.set_rmax(1280)\n",
    "ax.grid(True)\n",
    "plt.legend(loc='lower center', bbox_to_anchor=(0.5, 0.18), fancybox=True, shadow=True)\n",
    "plt.show()"
   ]
  },
  {
   "cell_type": "code",
   "execution_count": null,
   "metadata": {
    "collapsed": true
   },
   "outputs": [],
   "source": []
  },
  {
   "cell_type": "code",
   "execution_count": null,
   "metadata": {
    "collapsed": true
   },
   "outputs": [],
   "source": []
  },
  {
   "cell_type": "markdown",
   "metadata": {},
   "source": [
    "# Fit"
   ]
  },
  {
   "cell_type": "code",
   "execution_count": 15,
   "metadata": {
    "collapsed": true
   },
   "outputs": [],
   "source": [
    "def get_err(a,b,a_d=2,b_d=2):\n",
    "    return np.sqrt(np.square(a_d/b)+np.square((b_d*a)/b**2))"
   ]
  },
  {
   "cell_type": "code",
   "execution_count": 16,
   "metadata": {
    "collapsed": false
   },
   "outputs": [],
   "source": [
    "kupfer_messung = pd.read_csv(\"Ellipso/kupfer_2.DAT\", delim_whitespace=True, names=[\"Winkel\",\"Wert\",\"Weight\"])[:8]\n",
    "kupfer_fit = pd.read_csv(\"Ellipso/kupfer_2.DAT\", delim_whitespace=True, names=[\"Winkel\",\"Wert\",\"Weight\"])[8:]\n",
    "kupfer_p = np.array([1081,1013,952,886,878,916,883,917])\n",
    "kupfer_s = np.array([1190,1203,1183,1101,1029,1162,970,946])\n",
    "kupfer_messung.Weight = get_err(kupfer_p,kupfer_s)"
   ]
  },
  {
   "cell_type": "code",
   "execution_count": 71,
   "metadata": {
    "collapsed": false
   },
   "outputs": [
    {
     "data": {
      "text/html": [
       "<div>\n",
       "<table border=\"1\" class=\"dataframe\">\n",
       "  <thead>\n",
       "    <tr style=\"text-align: right;\">\n",
       "      <th></th>\n",
       "      <th>Winkel</th>\n",
       "      <th>Wert</th>\n",
       "      <th>Weight</th>\n",
       "    </tr>\n",
       "  </thead>\n",
       "  <tbody>\n",
       "    <tr>\n",
       "      <th>1</th>\n",
       "      <td>80.0</td>\n",
       "      <td>0.843</td>\n",
       "      <td>0.002173</td>\n",
       "    </tr>\n",
       "    <tr>\n",
       "      <th>3</th>\n",
       "      <td>60.0</td>\n",
       "      <td>0.805</td>\n",
       "      <td>0.002332</td>\n",
       "    </tr>\n",
       "  </tbody>\n",
       "</table>\n",
       "</div>"
      ],
      "text/plain": [
       "   Winkel   Wert    Weight\n",
       "1    80.0  0.843  0.002173\n",
       "3    60.0  0.805  0.002332"
      ]
     },
     "execution_count": 71,
     "metadata": {},
     "output_type": "execute_result"
    }
   ],
   "source": [
    "kupfer_messung[kupfer_messung.Winkel.isin([60,80])]"
   ]
  },
  {
   "cell_type": "code",
   "execution_count": 17,
   "metadata": {
    "collapsed": false
   },
   "outputs": [],
   "source": [
    "alu_messung = pd.read_csv(\"Ellipso/alu.DAT\", delim_whitespace=True, names=[\"Winkel\",\"Wert\",\"Weight\"])[:7]\n",
    "alu_fit = pd.read_csv(\"Ellipso/alu.DAT\", delim_whitespace=True, names=[\"Winkel\",\"Wert\",\"Weight\"])[7:]\n",
    "alu_p = np.array([886,722,664,635,537,436,405])\n",
    "alu_s = np.array([1083,984,883,791,599,431,401])\n",
    "alu_messung.Weight = get_err(alu_p,alu_s)"
   ]
  },
  {
   "cell_type": "code",
   "execution_count": 58,
   "metadata": {
    "collapsed": false
   },
   "outputs": [
    {
     "data": {
      "text/html": [
       "<div>\n",
       "<table border=\"1\" class=\"dataframe\">\n",
       "  <thead>\n",
       "    <tr style=\"text-align: right;\">\n",
       "      <th></th>\n",
       "      <th>Winkel</th>\n",
       "      <th>Wert</th>\n",
       "      <th>Weight</th>\n",
       "    </tr>\n",
       "  </thead>\n",
       "  <tbody>\n",
       "    <tr>\n",
       "      <th>1</th>\n",
       "      <td>80.0</td>\n",
       "      <td>0.735</td>\n",
       "      <td>0.002521</td>\n",
       "    </tr>\n",
       "    <tr>\n",
       "      <th>3</th>\n",
       "      <td>60.0</td>\n",
       "      <td>0.803</td>\n",
       "      <td>0.003242</td>\n",
       "    </tr>\n",
       "  </tbody>\n",
       "</table>\n",
       "</div>"
      ],
      "text/plain": [
       "   Winkel   Wert    Weight\n",
       "1    80.0  0.735  0.002521\n",
       "3    60.0  0.803  0.003242"
      ]
     },
     "execution_count": 58,
     "metadata": {},
     "output_type": "execute_result"
    }
   ],
   "source": [
    "alu_messung[alu_messung.Winkel.isin([60,80])]"
   ]
  },
  {
   "cell_type": "code",
   "execution_count": 18,
   "metadata": {
    "collapsed": false
   },
   "outputs": [],
   "source": [
    "ger_messung = pd.read_csv(\"Ellipso/germanium.DAT\", delim_whitespace=True, names=[\"Winkel\",\"Wert\",\"Weight\"])[:7]\n",
    "ger_fit = pd.read_csv(\"Ellipso/germanium.DAT\", delim_whitespace=True, names=[\"Winkel\",\"Wert\",\"Weight\"])[7:]\n",
    "ger_p = np.array([306,1039,125,226,289,327,340])\n",
    "ger_s = np.array([1125,1062,911,755,610,415,346])\n",
    "ger_messung.Weight = get_err(ger_p,ger_s)"
   ]
  },
  {
   "cell_type": "code",
   "execution_count": 59,
   "metadata": {
    "collapsed": false
   },
   "outputs": [
    {
     "data": {
      "text/html": [
       "<div>\n",
       "<table border=\"1\" class=\"dataframe\">\n",
       "  <thead>\n",
       "    <tr style=\"text-align: right;\">\n",
       "      <th></th>\n",
       "      <th>Winkel</th>\n",
       "      <th>Wert</th>\n",
       "      <th>Weight</th>\n",
       "    </tr>\n",
       "  </thead>\n",
       "  <tbody>\n",
       "    <tr>\n",
       "      <th>1</th>\n",
       "      <td>80.0</td>\n",
       "      <td>0.099</td>\n",
       "      <td>0.002635</td>\n",
       "    </tr>\n",
       "    <tr>\n",
       "      <th>3</th>\n",
       "      <td>60.0</td>\n",
       "      <td>0.302</td>\n",
       "      <td>0.002765</td>\n",
       "    </tr>\n",
       "  </tbody>\n",
       "</table>\n",
       "</div>"
      ],
      "text/plain": [
       "   Winkel   Wert    Weight\n",
       "1    80.0  0.099  0.002635\n",
       "3    60.0  0.302  0.002765"
      ]
     },
     "execution_count": 59,
     "metadata": {},
     "output_type": "execute_result"
    }
   ],
   "source": [
    "ger_messung[ger_messung.Winkel.isin([60,80])]"
   ]
  },
  {
   "cell_type": "code",
   "execution_count": 19,
   "metadata": {
    "collapsed": true
   },
   "outputs": [],
   "source": [
    "glas_messung = pd.read_csv(\"Ellipso/glas.DAT\", delim_whitespace=True, names=[\"Winkel\",\"Wert\",\"Weight\"])[:6]\n",
    "glas_fit = pd.read_csv(\"Ellipso/glas.DAT\", delim_whitespace=True, names=[\"Winkel\",\"Wert\",\"Weight\"])[6:]\n",
    "glas_p = np.array([567,287,49,0.01,0.03,17.6])\n",
    "glas_s = np.array([837,636,339,188,110,86.6])\n",
    "glas_messung.Weight = get_err(glas_p,glas_s)"
   ]
  },
  {
   "cell_type": "code",
   "execution_count": 60,
   "metadata": {
    "collapsed": false
   },
   "outputs": [
    {
     "data": {
      "text/html": [
       "<div>\n",
       "<table border=\"1\" class=\"dataframe\">\n",
       "  <thead>\n",
       "    <tr style=\"text-align: right;\">\n",
       "      <th></th>\n",
       "      <th>Winkel</th>\n",
       "      <th>Wert</th>\n",
       "      <th>Weight</th>\n",
       "    </tr>\n",
       "  </thead>\n",
       "  <tbody>\n",
       "    <tr>\n",
       "      <th>1</th>\n",
       "      <td>80.0</td>\n",
       "      <td>0.454</td>\n",
       "      <td>0.003450</td>\n",
       "    </tr>\n",
       "    <tr>\n",
       "      <th>3</th>\n",
       "      <td>60.0</td>\n",
       "      <td>0.017</td>\n",
       "      <td>0.010638</td>\n",
       "    </tr>\n",
       "  </tbody>\n",
       "</table>\n",
       "</div>"
      ],
      "text/plain": [
       "   Winkel   Wert    Weight\n",
       "1    80.0  0.454  0.003450\n",
       "3    60.0  0.017  0.010638"
      ]
     },
     "execution_count": 60,
     "metadata": {},
     "output_type": "execute_result"
    }
   ],
   "source": [
    "glas_messung[glas_messung.Winkel.isin([60,80])]"
   ]
  },
  {
   "cell_type": "code",
   "execution_count": 20,
   "metadata": {
    "collapsed": false
   },
   "outputs": [],
   "source": [
    "salz_messung = pd.read_csv(\"Ellipso/kochsalz.DAT\", delim_whitespace=True, names=[\"Winkel\",\"Wert\",\"Weight\"])[:7]\n",
    "salz_fit = pd.read_csv(\"Ellipso/kochsalz.DAT\", delim_whitespace=True, names=[\"Winkel\",\"Wert\",\"Weight\"])[7:]\n",
    "salz_p = np.array([423,163,9.4,2.7,2.3,1.2,0.001])\n",
    "salz_s = np.array([644,387,81,63.7,45.3,90.1,70.2])\n",
    "salz_messung.Weight = get_err(salz_p,salz_s)"
   ]
  },
  {
   "cell_type": "code",
   "execution_count": 61,
   "metadata": {
    "collapsed": false
   },
   "outputs": [
    {
     "data": {
      "text/html": [
       "<div>\n",
       "<table border=\"1\" class=\"dataframe\">\n",
       "  <thead>\n",
       "    <tr style=\"text-align: right;\">\n",
       "      <th></th>\n",
       "      <th>Winkel</th>\n",
       "      <th>Wert</th>\n",
       "      <th>Weight</th>\n",
       "    </tr>\n",
       "  </thead>\n",
       "  <tbody>\n",
       "    <tr>\n",
       "      <th>1</th>\n",
       "      <td>80.0</td>\n",
       "      <td>0.427</td>\n",
       "      <td>0.005608</td>\n",
       "    </tr>\n",
       "    <tr>\n",
       "      <th>3</th>\n",
       "      <td>60.0</td>\n",
       "      <td>0.015</td>\n",
       "      <td>0.031425</td>\n",
       "    </tr>\n",
       "  </tbody>\n",
       "</table>\n",
       "</div>"
      ],
      "text/plain": [
       "   Winkel   Wert    Weight\n",
       "1    80.0  0.427  0.005608\n",
       "3    60.0  0.015  0.031425"
      ]
     },
     "execution_count": 61,
     "metadata": {},
     "output_type": "execute_result"
    }
   ],
   "source": [
    "salz_messung[salz_messung.Winkel.isin([60,80])]"
   ]
  },
  {
   "cell_type": "code",
   "execution_count": 62,
   "metadata": {
    "collapsed": true
   },
   "outputs": [],
   "source": [
    "si_messung = pd.read_csv(\"Ellipso/si.DAT\", delim_whitespace=True, names=[\"Winkel\",\"Wert\",\"Weight\"])[:7]\n",
    "si_fit = pd.read_csv(\"Ellipso/si.DAT\", delim_whitespace=True, names=[\"Winkel\",\"Wert\",\"Weight\"])[7:]\n",
    "si_p = np.array([258,35.7,25.7,104.5,150.5,175.3,152.1])\n",
    "si_s = np.array([1093,1001,795,591,412,232,155.2])\n",
    "si_messung.Weight = get_err(salz_p,salz_s)"
   ]
  },
  {
   "cell_type": "code",
   "execution_count": 64,
   "metadata": {
    "collapsed": false
   },
   "outputs": [
    {
     "data": {
      "text/html": [
       "<div>\n",
       "<table border=\"1\" class=\"dataframe\">\n",
       "  <thead>\n",
       "    <tr style=\"text-align: right;\">\n",
       "      <th></th>\n",
       "      <th>Winkel</th>\n",
       "      <th>Wert</th>\n",
       "      <th>Weight</th>\n",
       "    </tr>\n",
       "  </thead>\n",
       "  <tbody>\n",
       "    <tr>\n",
       "      <th>1</th>\n",
       "      <td>80.0</td>\n",
       "      <td>0.039</td>\n",
       "      <td>0.005608</td>\n",
       "    </tr>\n",
       "    <tr>\n",
       "      <th>3</th>\n",
       "      <td>60.0</td>\n",
       "      <td>0.182</td>\n",
       "      <td>0.031425</td>\n",
       "    </tr>\n",
       "  </tbody>\n",
       "</table>\n",
       "</div>"
      ],
      "text/plain": [
       "   Winkel   Wert    Weight\n",
       "1    80.0  0.039  0.005608\n",
       "3    60.0  0.182  0.031425"
      ]
     },
     "execution_count": 64,
     "metadata": {},
     "output_type": "execute_result"
    }
   ],
   "source": [
    "si_messung[si_messung.Winkel.isin([60,80])]"
   ]
  },
  {
   "cell_type": "code",
   "execution_count": 29,
   "metadata": {
    "collapsed": false
   },
   "outputs": [],
   "source": [
    "plt.plot(kupfer_fit.Winkel,kupfer_fit.Wert, '-b', label=\"Fit\")\n",
    "plt.errorbar(kupfer_messung.Winkel, kupfer_messung.Wert,xerr=2/60,yerr=kupfer_messung.Weight, fmt=\" .g\", label=\"Messdaten\")\n",
    "plt.xlim([0,90])\n",
    "plt.ylabel(r\"R$_p$/R$_s$\", fontsize=24)\n",
    "plt.xlabel(r\"Winkel / $^\\circ$\", fontsize=24)\n",
    "plt.xticks(fontsize=18)\n",
    "plt.yticks(fontsize=18)\n",
    "plt.legend(loc='best', fontsize=24)\n",
    "plt.show()"
   ]
  },
  {
   "cell_type": "code",
   "execution_count": null,
   "metadata": {
    "collapsed": true
   },
   "outputs": [],
   "source": [
    "kupfer_n = 0.08-0.40\n",
    "kupfer_k = 3.8-4.0"
   ]
  },
  {
   "cell_type": "code",
   "execution_count": 30,
   "metadata": {
    "collapsed": true
   },
   "outputs": [],
   "source": [
    "plt.plot(alu_fit.Winkel,alu_fit.Wert, '-b', label=\"Fit\")\n",
    "plt.errorbar(alu_messung.Winkel, alu_messung.Wert,xerr=2/60,yerr=alu_messung.Weight, fmt=\" .g\", label=\"Messdaten\")\n",
    "plt.xlim([0,90])\n",
    "plt.ylabel(r\"R$_p$/R$_s$\", fontsize=24)\n",
    "plt.xlabel(r\"Winkel / $^\\circ$\", fontsize=24)\n",
    "plt.xticks(fontsize=18)\n",
    "plt.yticks(fontsize=18)\n",
    "plt.legend(loc='best', fontsize=24)\n",
    "plt.show()"
   ]
  },
  {
   "cell_type": "code",
   "execution_count": null,
   "metadata": {
    "collapsed": true
   },
   "outputs": [],
   "source": [
    "alu_n = 1.36-1.70\n",
    "alu_k = 7-8.1"
   ]
  },
  {
   "cell_type": "code",
   "execution_count": 36,
   "metadata": {
    "collapsed": true
   },
   "outputs": [],
   "source": [
    "plt.plot(ger_fit.Winkel,ger_fit.Wert, '-b', label=\"Fit\")\n",
    "plt.errorbar(ger_messung.Winkel, ger_messung.Wert,xerr=2/60,yerr=ger_messung.Weight*2, fmt=\" .g\", label=\"Messdaten\")\n",
    "plt.xlim([0,90])\n",
    "plt.ylabel(r\"R$_p$/R$_s$\", fontsize=24)\n",
    "plt.xlabel(r\"Winkel / $^\\circ$\", fontsize=24)\n",
    "plt.xticks(fontsize=18)\n",
    "plt.yticks(fontsize=18)\n",
    "plt.legend(loc='best', fontsize=24)\n",
    "plt.show()"
   ]
  },
  {
   "cell_type": "code",
   "execution_count": null,
   "metadata": {
    "collapsed": true
   },
   "outputs": [],
   "source": [
    "ger_n = 5.1-5.2\n",
    "ger_k = 0.5-0.57"
   ]
  },
  {
   "cell_type": "code",
   "execution_count": 25,
   "metadata": {
    "collapsed": true
   },
   "outputs": [],
   "source": [
    "plt.plot(glas_fit.Winkel,glas_fit.Wert, '-b', label=\"Fit\")\n",
    "plt.errorbar(glas_messung.Winkel, glas_messung.Wert,xerr=2/60,yerr=glas_messung.Weight, fmt=\" .g\", label=\"Messdaten\")\n",
    "plt.xlim([0,90])\n",
    "plt.ylabel(r\"R$_p$/R$_s$\", fontsize=24)\n",
    "plt.xlabel(r\"Winkel / $^\\circ$\", fontsize=24)\n",
    "plt.xticks(fontsize=18)\n",
    "plt.yticks(fontsize=18)\n",
    "plt.legend(loc='best', fontsize=24)\n",
    "plt.show()"
   ]
  },
  {
   "cell_type": "code",
   "execution_count": null,
   "metadata": {
    "collapsed": true
   },
   "outputs": [],
   "source": [
    "glas_n = 1.456-1.550\n",
    "glas_k = 0.00002"
   ]
  },
  {
   "cell_type": "code",
   "execution_count": 39,
   "metadata": {
    "collapsed": true
   },
   "outputs": [],
   "source": [
    "plt.plot(salz_fit.Winkel,salz_fit.Wert, '-b', label=\"Fit\")\n",
    "plt.errorbar(salz_messung.Winkel, salz_messung.Wert,xerr=2/60,yerr=salz_messung.Weight, fmt=\" .g\", label=\"Messdaten\")\n",
    "plt.xlim([0,90])\n",
    "plt.ylabel(r\"R$_p$/R$_s$\", fontsize=24)\n",
    "plt.xlabel(r\"Winkel / $^\\circ$\", fontsize=24)\n",
    "plt.xticks(fontsize=18)\n",
    "plt.yticks(fontsize=18)\n",
    "plt.legend(loc='best', fontsize=24)\n",
    "plt.show()"
   ]
  },
  {
   "cell_type": "code",
   "execution_count": 37,
   "metadata": {
    "collapsed": true
   },
   "outputs": [],
   "source": [
    "salz_n = 1.54"
   ]
  },
  {
   "cell_type": "code",
   "execution_count": 41,
   "metadata": {
    "collapsed": true
   },
   "outputs": [],
   "source": [
    "plt.plot(si_fit.Winkel,si_fit.Wert, '-b', label=\"Fit\")\n",
    "plt.errorbar(si_messung.Winkel, si_messung.Wert,xerr=2/60,yerr=si_messung.Weight/70, fmt=\" .g\", label=\"Messdaten\")\n",
    "plt.xlim([0,90])\n",
    "plt.ylabel(r\"R$_p$/R$_s$\", fontsize=24)\n",
    "plt.xlabel(r\"Winkel / $^\\circ$\", fontsize=24)\n",
    "plt.xticks(fontsize=18)\n",
    "plt.yticks(fontsize=18)\n",
    "plt.legend(loc='best', fontsize=24)\n",
    "plt.show()"
   ]
  },
  {
   "cell_type": "code",
   "execution_count": 40,
   "metadata": {
    "collapsed": true
   },
   "outputs": [],
   "source": [
    "si_n = 3.81-3.82\n",
    "si_k = 0.013-0.017"
   ]
  },
  {
   "cell_type": "code",
   "execution_count": 75,
   "metadata": {
    "collapsed": false
   },
   "outputs": [
    {
     "data": {
      "text/plain": [
       "0.42105263157894735"
      ]
     },
     "execution_count": 75,
     "metadata": {},
     "output_type": "execute_result"
    }
   ],
   "source": [
    "1-2.2/3.8"
   ]
  },
  {
   "cell_type": "code",
   "execution_count": 80,
   "metadata": {
    "collapsed": false
   },
   "outputs": [
    {
     "data": {
      "text/plain": [
       "0.4852941176470589"
      ]
     },
     "execution_count": 80,
     "metadata": {},
     "output_type": "execute_result"
    }
   ],
   "source": [
    "1-0.7/1.36"
   ]
  },
  {
   "cell_type": "code",
   "execution_count": 82,
   "metadata": {
    "collapsed": false
   },
   "outputs": [
    {
     "data": {
      "text/plain": [
       "0.5588235294117647"
      ]
     },
     "execution_count": 82,
     "metadata": {},
     "output_type": "execute_result"
    }
   ],
   "source": [
    "1-0.6/1.36"
   ]
  },
  {
   "cell_type": "code",
   "execution_count": 84,
   "metadata": {
    "collapsed": false
   },
   "outputs": [
    {
     "data": {
      "text/plain": [
       "0.37142857142857133"
      ]
     },
     "execution_count": 84,
     "metadata": {},
     "output_type": "execute_result"
    }
   ],
   "source": [
    "1-4.4/7"
   ]
  },
  {
   "cell_type": "code",
   "execution_count": 85,
   "metadata": {
    "collapsed": false
   },
   "outputs": [
    {
     "data": {
      "text/plain": [
       "0.4285714285714286"
      ]
     },
     "execution_count": 85,
     "metadata": {},
     "output_type": "execute_result"
    }
   ],
   "source": [
    "1-4/7"
   ]
  },
  {
   "cell_type": "code",
   "execution_count": 86,
   "metadata": {
    "collapsed": false
   },
   "outputs": [
    {
     "data": {
      "text/plain": [
       "0.21568627450980382"
      ]
     },
     "execution_count": 86,
     "metadata": {},
     "output_type": "execute_result"
    }
   ],
   "source": [
    "1-4/5.1"
   ]
  },
  {
   "cell_type": "code",
   "execution_count": 87,
   "metadata": {
    "collapsed": false
   },
   "outputs": [
    {
     "data": {
      "text/plain": [
       "0.27450980392156854"
      ]
     },
     "execution_count": 87,
     "metadata": {},
     "output_type": "execute_result"
    }
   ],
   "source": [
    "1-3.7/5.1"
   ]
  },
  {
   "cell_type": "code",
   "execution_count": 88,
   "metadata": {
    "collapsed": false
   },
   "outputs": [
    {
     "data": {
      "text/plain": [
       "-3.0"
      ]
     },
     "execution_count": 88,
     "metadata": {},
     "output_type": "execute_result"
    }
   ],
   "source": [
    "1-2/0.5"
   ]
  },
  {
   "cell_type": "code",
   "execution_count": 89,
   "metadata": {
    "collapsed": false
   },
   "outputs": [
    {
     "data": {
      "text/plain": [
       "-3.4000000000000004"
      ]
     },
     "execution_count": 89,
     "metadata": {},
     "output_type": "execute_result"
    }
   ],
   "source": [
    "1-2.2/0.5"
   ]
  },
  {
   "cell_type": "code",
   "execution_count": 90,
   "metadata": {
    "collapsed": false
   },
   "outputs": [
    {
     "data": {
      "text/plain": [
       "0.03846153846153855"
      ]
     },
     "execution_count": 90,
     "metadata": {},
     "output_type": "execute_result"
    }
   ],
   "source": [
    "1-1.4/1.456"
   ]
  },
  {
   "cell_type": "code",
   "execution_count": 94,
   "metadata": {
    "collapsed": false
   },
   "outputs": [
    {
     "data": {
      "text/plain": [
       "-1998.9999999999998"
      ]
     },
     "execution_count": 94,
     "metadata": {},
     "output_type": "execute_result"
    }
   ],
   "source": [
    "1-0.04/0.00002"
   ]
  },
  {
   "cell_type": "code",
   "execution_count": 95,
   "metadata": {
    "collapsed": false
   },
   "outputs": [
    {
     "data": {
      "text/plain": [
       "0.019480519480519543"
      ]
     },
     "execution_count": 95,
     "metadata": {},
     "output_type": "execute_result"
    }
   ],
   "source": [
    "1-1.51/1.54"
   ]
  },
  {
   "cell_type": "code",
   "execution_count": 97,
   "metadata": {
    "collapsed": false
   },
   "outputs": [
    {
     "data": {
      "text/plain": [
       "0.025974025974025983"
      ]
     },
     "execution_count": 97,
     "metadata": {},
     "output_type": "execute_result"
    }
   ],
   "source": [
    "1-1.5/1.54"
   ]
  },
  {
   "cell_type": "code",
   "execution_count": null,
   "metadata": {
    "collapsed": true
   },
   "outputs": [],
   "source": [
    "1-3.97/"
   ]
  }
 ],
 "metadata": {
  "kernelspec": {
   "display_name": "Python 3",
   "language": "python",
   "name": "python3"
  },
  "language_info": {
   "codemirror_mode": {
    "name": "ipython",
    "version": 3
   },
   "file_extension": ".py",
   "mimetype": "text/x-python",
   "name": "python",
   "nbconvert_exporter": "python",
   "pygments_lexer": "ipython3",
   "version": "3.5.1"
  }
 },
 "nbformat": 4,
 "nbformat_minor": 0
}
