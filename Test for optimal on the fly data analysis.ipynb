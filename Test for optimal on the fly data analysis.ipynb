{
 "cells": [
  {
   "cell_type": "code",
   "execution_count": 13,
   "metadata": {
    "collapsed": true
   },
   "outputs": [],
   "source": [
    "import numpy as np\n",
    "from numba import jit\n",
    "import matplotlib.pyplot as plt\n",
    "import numpy as np"
   ]
  },
  {
   "cell_type": "code",
   "execution_count": 2,
   "metadata": {
    "collapsed": false
   },
   "outputs": [],
   "source": [
    "def sqrt_n(a,b):\n",
    "    result = []\n",
    "    for i in range(a,b,1):\n",
    "        result.append(i*i)\n",
    "    return result"
   ]
  },
  {
   "cell_type": "code",
   "execution_count": 3,
   "metadata": {
    "collapsed": false
   },
   "outputs": [
    {
     "name": "stdout",
     "output_type": "stream",
     "text": [
      "10000 loops, best of 3: 20.8 µs per loop\n"
     ]
    }
   ],
   "source": [
    "%timeit sqrt_n(0,100)"
   ]
  },
  {
   "cell_type": "code",
   "execution_count": 4,
   "metadata": {
    "collapsed": true
   },
   "outputs": [],
   "source": [
    "@jit\n",
    "def sqrt_nn(a,b):\n",
    "    result = []\n",
    "    for i in range(a,b,1):\n",
    "        result.append(i*i)\n",
    "    return result"
   ]
  },
  {
   "cell_type": "code",
   "execution_count": 5,
   "metadata": {
    "collapsed": false
   },
   "outputs": [
    {
     "name": "stdout",
     "output_type": "stream",
     "text": [
      "The slowest run took 17841.86 times longer than the fastest. This could mean that an intermediate result is being cached \n",
      "100000 loops, best of 3: 6.71 µs per loop\n"
     ]
    }
   ],
   "source": [
    "%timeit sqrt_nn(0,100)"
   ]
  },
  {
   "cell_type": "code",
   "execution_count": 6,
   "metadata": {
    "collapsed": false
   },
   "outputs": [
    {
     "name": "stdout",
     "output_type": "stream",
     "text": [
      "100000 loops, best of 3: 6.64 µs per loop\n"
     ]
    }
   ],
   "source": [
    "data = %timeit -o sqrt_nn(0,100)"
   ]
  },
  {
   "cell_type": "code",
   "execution_count": 7,
   "metadata": {
    "collapsed": false
   },
   "outputs": [
    {
     "name": "stdout",
     "output_type": "stream",
     "text": [
      "The slowest run took 4.51 times longer than the fastest. This could mean that an intermediate result is being cached \n",
      "1000000 loops, best of 3: 654 ns per loop\n",
      "1000000 loops, best of 3: 1.05 µs per loop\n",
      "The slowest run took 5.19 times longer than the fastest. This could mean that an intermediate result is being cached \n",
      "1000000 loops, best of 3: 1.31 µs per loop\n",
      "The slowest run took 4.88 times longer than the fastest. This could mean that an intermediate result is being cached \n",
      "1000000 loops, best of 3: 1.47 µs per loop\n",
      "1000000 loops, best of 3: 1.67 µs per loop\n",
      "100000 loops, best of 3: 1.98 µs per loop\n",
      "100000 loops, best of 3: 2.11 µs per loop\n",
      "100000 loops, best of 3: 2.28 µs per loop\n",
      "100000 loops, best of 3: 2.41 µs per loop\n",
      "100000 loops, best of 3: 2.76 µs per loop\n"
     ]
    }
   ],
   "source": [
    "data_p = []\n",
    "for i in range(10):\n",
    "    temp = %timeit -o sqrt_n(0,i)\n",
    "    data_p.append(temp.best)"
   ]
  },
  {
   "cell_type": "code",
   "execution_count": 8,
   "metadata": {
    "collapsed": false
   },
   "outputs": [
    {
     "data": {
      "text/plain": [
       "[6.538717439998436e-07,\n",
       " 1.050137320999056e-06,\n",
       " 1.3090717020004376e-06,\n",
       " 1.472077469999931e-06,\n",
       " 1.666176775999702e-06,\n",
       " 1.982647009990615e-06,\n",
       " 2.1053974099959303e-06,\n",
       " 2.280510290001985e-06,\n",
       " 2.4099014599960357e-06,\n",
       " 2.7582468500077085e-06]"
      ]
     },
     "execution_count": 8,
     "metadata": {},
     "output_type": "execute_result"
    }
   ],
   "source": [
    "data_p"
   ]
  },
  {
   "cell_type": "code",
   "execution_count": 17,
   "metadata": {
    "collapsed": false
   },
   "outputs": [
    {
     "name": "stdout",
     "output_type": "stream",
     "text": [
      "The slowest run took 19.40 times longer than the fastest. This could mean that an intermediate result is being cached \n",
      "1000000 loops, best of 3: 1.77 µs per loop\n",
      "The slowest run took 7.94 times longer than the fastest. This could mean that an intermediate result is being cached \n",
      "1000000 loops, best of 3: 1.73 µs per loop\n",
      "The slowest run took 16.30 times longer than the fastest. This could mean that an intermediate result is being cached \n",
      "1000000 loops, best of 3: 1.76 µs per loop\n",
      "The slowest run took 16.99 times longer than the fastest. This could mean that an intermediate result is being cached \n",
      "1000000 loops, best of 3: 1.74 µs per loop\n",
      "The slowest run took 15.40 times longer than the fastest. This could mean that an intermediate result is being cached \n",
      "1000000 loops, best of 3: 1.73 µs per loop\n",
      "The slowest run took 12.39 times longer than the fastest. This could mean that an intermediate result is being cached \n",
      "100000 loops, best of 3: 1.73 µs per loop\n",
      "The slowest run took 16.97 times longer than the fastest. This could mean that an intermediate result is being cached \n",
      "1000000 loops, best of 3: 1.74 µs per loop\n",
      "The slowest run took 15.23 times longer than the fastest. This could mean that an intermediate result is being cached \n",
      "1000000 loops, best of 3: 1.75 µs per loop\n",
      "The slowest run took 15.14 times longer than the fastest. This could mean that an intermediate result is being cached \n",
      "1000000 loops, best of 3: 1.74 µs per loop\n",
      "The slowest run took 18.39 times longer than the fastest. This could mean that an intermediate result is being cached \n",
      "1000000 loops, best of 3: 1.76 µs per loop\n"
     ]
    }
   ],
   "source": [
    "data_num = []\n",
    "for i in np.arange(10):\n",
    "    temp = %timeit -o np.sqrt(i)\n",
    "    data_num.append(temp.best)"
   ]
  },
  {
   "cell_type": "code",
   "execution_count": 9,
   "metadata": {
    "collapsed": false
   },
   "outputs": [
    {
     "name": "stdout",
     "output_type": "stream",
     "text": [
      "The slowest run took 20.20 times longer than the fastest. This could mean that an intermediate result is being cached \n",
      "1000000 loops, best of 3: 603 ns per loop\n",
      "The slowest run took 5.73 times longer than the fastest. This could mean that an intermediate result is being cached \n",
      "1000000 loops, best of 3: 755 ns per loop\n",
      "The slowest run took 9.87 times longer than the fastest. This could mean that an intermediate result is being cached \n",
      "1000000 loops, best of 3: 771 ns per loop\n",
      "The slowest run took 11.27 times longer than the fastest. This could mean that an intermediate result is being cached \n",
      "1000000 loops, best of 3: 803 ns per loop\n",
      "The slowest run took 11.15 times longer than the fastest. This could mean that an intermediate result is being cached \n",
      "1000000 loops, best of 3: 826 ns per loop\n",
      "The slowest run took 9.83 times longer than the fastest. This could mean that an intermediate result is being cached \n",
      "1000000 loops, best of 3: 851 ns per loop\n",
      "The slowest run took 10.21 times longer than the fastest. This could mean that an intermediate result is being cached \n",
      "1000000 loops, best of 3: 879 ns per loop\n",
      "The slowest run took 8.29 times longer than the fastest. This could mean that an intermediate result is being cached \n",
      "1000000 loops, best of 3: 902 ns per loop\n",
      "The slowest run took 9.32 times longer than the fastest. This could mean that an intermediate result is being cached \n",
      "1000000 loops, best of 3: 930 ns per loop\n",
      "The slowest run took 8.81 times longer than the fastest. This could mean that an intermediate result is being cached \n",
      "1000000 loops, best of 3: 963 ns per loop\n"
     ]
    }
   ],
   "source": [
    "data_n = []\n",
    "for i in range(10):\n",
    "    temp = %timeit -o sqrt_nn(0,i)\n",
    "    data_n.append(temp.best)"
   ]
  },
  {
   "cell_type": "code",
   "execution_count": 10,
   "metadata": {
    "collapsed": false
   },
   "outputs": [
    {
     "data": {
      "text/plain": [
       "[6.031245579997631e-07,\n",
       " 7.551972730016132e-07,\n",
       " 7.714032670010056e-07,\n",
       " 8.026140250003663e-07,\n",
       " 8.262221129989484e-07,\n",
       " 8.505999520002661e-07,\n",
       " 8.785469060003379e-07,\n",
       " 9.017885400007799e-07,\n",
       " 9.301510389996111e-07,\n",
       " 9.633978419988124e-07]"
      ]
     },
     "execution_count": 10,
     "metadata": {},
     "output_type": "execute_result"
    }
   ],
   "source": [
    "data_n"
   ]
  },
  {
   "cell_type": "code",
   "execution_count": 19,
   "metadata": {
    "collapsed": false
   },
   "outputs": [],
   "source": [
    "plt.plot(range(10),data_p,label='data_p')\n",
    "plt.plot(range(10),data_n,label='data_n')\n",
    "plt.plot(range(10),data_num,label='data_num')\n",
    "plt.legend()\n",
    "plt.show()"
   ]
  },
  {
   "cell_type": "code",
   "execution_count": null,
   "metadata": {
    "collapsed": true
   },
   "outputs": [],
   "source": []
  }
 ],
 "metadata": {
  "kernelspec": {
   "display_name": "Python 3",
   "language": "python",
   "name": "python3"
  },
  "language_info": {
   "codemirror_mode": {
    "name": "ipython",
    "version": 3
   },
   "file_extension": ".py",
   "mimetype": "text/x-python",
   "name": "python",
   "nbconvert_exporter": "python",
   "pygments_lexer": "ipython3",
   "version": "3.4.3"
  }
 },
 "nbformat": 4,
 "nbformat_minor": 0
}
