{
 "cells": [
  {
   "cell_type": "code",
   "execution_count": 1,
   "metadata": {
    "collapsed": false
   },
   "outputs": [
    {
     "name": "stderr",
     "output_type": "stream",
     "text": [
      "/home/frederik/anaconda3/lib/python3.4/site-packages/IPython/html.py:14: ShimWarning: The `IPython.html` package has been deprecated. You should import from `notebook` instead. `IPython.html.widgets` has moved to `ipywidgets`.\n",
      "  \"`IPython.html.widgets` has moved to `ipywidgets`.\", ShimWarning)\n"
     ]
    }
   ],
   "source": [
    "from scipy import constants,misc as cs,misc\n",
    "import numpy as np\n",
    "import pandas as pd\n",
    "import matplotlib.pyplot as plt\n",
    "from lmfit.models import GaussianModel,LinearModel\n",
    "from glob import glob\n",
    "from lmfit import models"
   ]
  },
  {
   "cell_type": "code",
   "execution_count": 2,
   "metadata": {
    "collapsed": true
   },
   "outputs": [],
   "source": [
    "%matplotlib qt"
   ]
  },
  {
   "cell_type": "code",
   "execution_count": 3,
   "metadata": {
    "collapsed": false
   },
   "outputs": [
    {
     "name": "stdout",
     "output_type": "stream",
     "text": [
      "/home/frederik/Dokumente/FP/Rutherford/MessdatenRutherford/Reichweite\n"
     ]
    }
   ],
   "source": [
    "cd ~/Dokumente/FP/Rutherford/MessdatenRutherford/Reichweite/"
   ]
  },
  {
   "cell_type": "code",
   "execution_count": 4,
   "metadata": {
    "collapsed": false,
    "scrolled": false
   },
   "outputs": [
    {
     "data": {
      "text/plain": [
       "['/home/frederik/Dokumente/FP/Rutherford/MessdatenRutherford/Reichweite/Reichweite12mbar.txt',\n",
       " '/home/frederik/Dokumente/FP/Rutherford/MessdatenRutherford/Reichweite/Reichweite190mbar.txt',\n",
       " '/home/frederik/Dokumente/FP/Rutherford/MessdatenRutherford/Reichweite/Reichweite200mbar.txt',\n",
       " '/home/frederik/Dokumente/FP/Rutherford/MessdatenRutherford/Reichweite/Reichweite300mbar.txt',\n",
       " '/home/frederik/Dokumente/FP/Rutherford/MessdatenRutherford/Reichweite/Reichweite400mbar.txt',\n",
       " '/home/frederik/Dokumente/FP/Rutherford/MessdatenRutherford/Reichweite/Reichweite450mbar.txt',\n",
       " '/home/frederik/Dokumente/FP/Rutherford/MessdatenRutherford/Reichweite/Reichweite475mbar.txt',\n",
       " '/home/frederik/Dokumente/FP/Rutherford/MessdatenRutherford/Reichweite/Reichweite500mbar.txt',\n",
       " '/home/frederik/Dokumente/FP/Rutherford/MessdatenRutherford/Reichweite/Reichweite510mbar.txt',\n",
       " '/home/frederik/Dokumente/FP/Rutherford/MessdatenRutherford/Reichweite/Reichweite525mbar.txt',\n",
       " '/home/frederik/Dokumente/FP/Rutherford/MessdatenRutherford/Reichweite/Reichweite540mbar.txt',\n",
       " '/home/frederik/Dokumente/FP/Rutherford/MessdatenRutherford/Reichweite/Reichweite550mbar.txt',\n",
       " '/home/frederik/Dokumente/FP/Rutherford/MessdatenRutherford/Reichweite/Reichweite560mbar.txt',\n",
       " '/home/frederik/Dokumente/FP/Rutherford/MessdatenRutherford/Reichweite/Reichweite575mbar.txt',\n",
       " '/home/frederik/Dokumente/FP/Rutherford/MessdatenRutherford/Reichweite/Reichweite600mbar.txt',\n",
       " '/home/frederik/Dokumente/FP/Rutherford/MessdatenRutherford/Reichweite/Reichweite700mbar.txt']"
      ]
     },
     "execution_count": 4,
     "metadata": {},
     "output_type": "execute_result"
    }
   ],
   "source": [
    "file_list = []\n",
    "liste_reich = []\n",
    "for i in glob('/home/frederik/Dokumente/FP/Rutherford/MessdatenRutherford/Reichweite/*.txt'):\n",
    "    file_list.append(i)\n",
    "\n",
    "    \n",
    "file_list.sort()   \n",
    "    \n",
    "for i in file_list:\n",
    "    liste_reich.append(np.array(pd.read_csv(i,skiprows=0,delim_whitespace=2)).T)\n",
    "\n",
    "file_list"
   ]
  },
  {
   "cell_type": "code",
   "execution_count": 5,
   "metadata": {
    "collapsed": false
   },
   "outputs": [],
   "source": [
    "druck = np.array([12,100,200,300,400,450,475,500,510,525,540,550,560,575,600,700])"
   ]
  },
  {
   "cell_type": "code",
   "execution_count": 6,
   "metadata": {
    "collapsed": false
   },
   "outputs": [],
   "source": [
    "def poisson(x,B,A=2):\n",
    "    return B*((A**x/misc.factorial(x))*np.e**(-A))"
   ]
  },
  {
   "cell_type": "code",
   "execution_count": 7,
   "metadata": {
    "collapsed": true
   },
   "outputs": [],
   "source": [
    "mod_pos = models.Model(poisson)"
   ]
  },
  {
   "cell_type": "code",
   "execution_count": 28,
   "metadata": {
    "collapsed": false
   },
   "outputs": [],
   "source": [
    "err =[]\n",
    "reich_fit_reports = []\n",
    "reich_fit_pars = []\n",
    "for i in liste_reich:\n",
    "    if i[0].size < 1:\n",
    "        continue\n",
    "    err_temp = None\n",
    "    err_temp = np.sqrt(i[1])\n",
    "    err_temp = np.where(err_temp == 0, 1, err_temp)\n",
    "    err.append(np.where(np.sqrt(i[1]) == 0, 1, np.sqrt(i[1])))\n",
    "    pars = mod_pos.make_params()\n",
    "    pars['B'].set(vary=False)\n",
    "    fit = mod_pos.fit(i[1],\n",
    "                  pars,\n",
    "                  A= np.sum(i[0]*i[1]/180),\n",
    "                  B=np.sum(i[1]),\n",
    "                  weights=1/err_temp,\n",
    "                  x=i[0])\n",
    "    reich_fit_reports.append(fit.fit_report())\n",
    "    reich_fit_pars.append(np.array([fit.best_values,fit.chisqr]))\n",
    "    fit.plot()\n",
    "    plt.show()"
   ]
  },
  {
   "cell_type": "code",
   "execution_count": 9,
   "metadata": {
    "collapsed": false
   },
   "outputs": [
    {
     "name": "stdout",
     "output_type": "stream",
     "text": [
      "52.1842854011\n",
      "53.5525444782\n",
      "53.7023158872\n",
      "53.9305238687\n",
      "51.356502194\n",
      "31.8024267261\n",
      "16.2677491547\n",
      "4.71723264871\n",
      "2.21370160198\n",
      "0.546468530406\n",
      "0.197558073689\n",
      "0.0486455630319\n",
      "0.0169491112976\n",
      "0.00558659177403\n",
      "1.49011611939e-08\n",
      "1.49011611939e-08\n"
     ]
    }
   ],
   "source": [
    "counts = []\n",
    "for i in reich_fit_pars:\n",
    "    print(i[0][\"A\"])\n",
    "    counts.append(i[0][\"A\"])"
   ]
  },
  {
   "cell_type": "code",
   "execution_count": 10,
   "metadata": {
    "collapsed": false
   },
   "outputs": [],
   "source": [
    "plt.errorbar(druck,counts,np.sqrt(counts),fmt='. g')\n",
    "plt.show()"
   ]
  },
  {
   "cell_type": "code",
   "execution_count": 11,
   "metadata": {
    "collapsed": true
   },
   "outputs": [],
   "source": [
    "def logistisch(druck,A,B,C,D):\n",
    "    return B+(A-B)/(1+(druck/D)**C)"
   ]
  },
  {
   "cell_type": "code",
   "execution_count": 12,
   "metadata": {
    "collapsed": false
   },
   "outputs": [],
   "source": [
    "mod_logistic = models.Model(logistisch)\n",
    "pars = mod_logistic.make_params(A=52,B=-1,C=25,D=450)"
   ]
  },
  {
   "cell_type": "code",
   "execution_count": 13,
   "metadata": {
    "collapsed": false
   },
   "outputs": [],
   "source": [
    "out = mod_logistic.fit(counts,pars,druck=druck)"
   ]
  },
  {
   "cell_type": "code",
   "execution_count": 14,
   "metadata": {
    "collapsed": false,
    "scrolled": true
   },
   "outputs": [
    {
     "name": "stdout",
     "output_type": "stream",
     "text": [
      "[[Model]]\n",
      "    Model(logistisch)\n",
      "[[Fit Statistics]]\n",
      "    # function evals   = 31\n",
      "    # data points      = 16\n",
      "    # variables        = 4\n",
      "    chi-square         = 5.368\n",
      "    reduced chi-square = 0.447\n",
      "[[Variables]]\n",
      "    B:  -0.50258110 +/- 0.293587 (58.42%) (init=-1)\n",
      "    C:   24.7873000 +/- 1.057070 (4.26%) (init= 25)\n",
      "    A:   53.2844020 +/- 0.312566 (0.59%) (init= 52)\n",
      "    D:   458.216791 +/- 0.808596 (0.18%) (init= 450)\n",
      "[[Correlations]] (unreported correlations are <  0.100)\n",
      "    C(B, C)                      =  0.546 \n",
      "    C(A, D)                      = -0.336 \n",
      "    C(B, D)                      = -0.266 \n",
      "    C(C, A)                      = -0.233 \n",
      "    C(C, D)                      =  0.167 \n"
     ]
    }
   ],
   "source": [
    "out.plot()\n",
    "plt.show()\n",
    "print(out.fit_report())"
   ]
  },
  {
   "cell_type": "code",
   "execution_count": 15,
   "metadata": {
    "collapsed": false
   },
   "outputs": [],
   "source": [
    "xs = np.arange(0,700,0.1)"
   ]
  },
  {
   "cell_type": "code",
   "execution_count": 17,
   "metadata": {
    "collapsed": false
   },
   "outputs": [],
   "source": [
    "plt.plot(xs,logistisch(xs,\n",
    "                          out.best_values['A'],\n",
    "                          out.best_values['B'],\n",
    "                          out.best_values['C'],\n",
    "                          out.best_values['D']),'-r',label=\"Fit\")\n",
    "plt.errorbar(druck,counts,np.sqrt(counts)/5,fmt='. g',label=\"Messdaten\")\n",
    "plt.ylabel('Counts', fontsize = 42)\n",
    "plt.xlabel(r'Druck / mbar' , fontsize = 42)\n",
    "plt.xticks(fontsize=30)\n",
    "plt.yticks(fontsize=30)\n",
    "plt.legend(loc='best', fontsize = 42)\n",
    "plt.show()"
   ]
  },
  {
   "cell_type": "code",
   "execution_count": 18,
   "metadata": {
    "collapsed": false
   },
   "outputs": [
    {
     "data": {
      "text/plain": [
       "9.4072442160480325e+66"
      ]
     },
     "execution_count": 18,
     "metadata": {},
     "output_type": "execute_result"
    }
   ],
   "source": [
    "out.best_values['D']**out.best_values['C']*np.sqrt(-1*out.best_values['A']/out.best_values['B'])"
   ]
  },
  {
   "cell_type": "code",
   "execution_count": 19,
   "metadata": {
    "collapsed": false
   },
   "outputs": [
    {
     "data": {
      "text/plain": [
       "504.73026872318667"
      ]
     },
     "execution_count": 19,
     "metadata": {},
     "output_type": "execute_result"
    }
   ],
   "source": [
    "458* np.sqrt(53/0.5)**(1/24)"
   ]
  },
  {
   "cell_type": "code",
   "execution_count": 20,
   "metadata": {
    "collapsed": false
   },
   "outputs": [
    {
     "data": {
      "text/plain": [
       "2.4870466321243523"
      ]
     },
     "execution_count": 20,
     "metadata": {},
     "output_type": "execute_result"
    }
   ],
   "source": [
    "((5/1013.25)*504)"
   ]
  },
  {
   "cell_type": "code",
   "execution_count": 21,
   "metadata": {
    "collapsed": false
   },
   "outputs": [
    {
     "data": {
      "text/plain": [
       "0.30000519370062423"
      ]
     },
     "execution_count": 21,
     "metadata": {},
     "output_type": "execute_result"
    }
   ],
   "source": [
    "1/1013.25*np.sqrt((0.5*504)**2 + (34*5)**2)"
   ]
  },
  {
   "cell_type": "code",
   "execution_count": 22,
   "metadata": {
    "collapsed": false
   },
   "outputs": [
    {
     "data": {
      "text/plain": [
       "2.9844559585492227"
      ]
     },
     "execution_count": 22,
     "metadata": {},
     "output_type": "execute_result"
    }
   ],
   "source": [
    "((5/1013.25)*504)*5.4/4.5"
   ]
  },
  {
   "cell_type": "code",
   "execution_count": 23,
   "metadata": {
    "collapsed": false
   },
   "outputs": [
    {
     "data": {
      "text/plain": [
       "0.36000623244074909"
      ]
     },
     "execution_count": 23,
     "metadata": {},
     "output_type": "execute_result"
    }
   ],
   "source": [
    "1/1013.25*np.sqrt((0.5*504)**2 + (34*5)**2)*5.4/4.5"
   ]
  },
  {
   "cell_type": "code",
   "execution_count": 24,
   "metadata": {
    "collapsed": false
   },
   "outputs": [
    {
     "data": {
      "text/plain": [
       "0.6756756756756799"
      ]
     },
     "execution_count": 24,
     "metadata": {},
     "output_type": "execute_result"
    }
   ],
   "source": [
    "100*abs(1-(2.98/2.96))"
   ]
  },
  {
   "cell_type": "code",
   "execution_count": null,
   "metadata": {
    "collapsed": true
   },
   "outputs": [],
   "source": []
  },
  {
   "cell_type": "code",
   "execution_count": null,
   "metadata": {
    "collapsed": true
   },
   "outputs": [],
   "source": []
  },
  {
   "cell_type": "code",
   "execution_count": null,
   "metadata": {
    "collapsed": true
   },
   "outputs": [],
   "source": []
  }
 ],
 "metadata": {
  "kernelspec": {
   "display_name": "Python 3",
   "language": "python",
   "name": "python3"
  },
  "language_info": {
   "codemirror_mode": {
    "name": "ipython",
    "version": 3
   },
   "file_extension": ".py",
   "mimetype": "text/x-python",
   "name": "python",
   "nbconvert_exporter": "python",
   "pygments_lexer": "ipython3",
   "version": "3.4.3"
  }
 },
 "nbformat": 4,
 "nbformat_minor": 0
}
