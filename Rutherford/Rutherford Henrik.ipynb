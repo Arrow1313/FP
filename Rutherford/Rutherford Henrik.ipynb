{
 "cells": [
  {
   "cell_type": "code",
   "execution_count": 343,
   "metadata": {
    "collapsed": false
   },
   "outputs": [],
   "source": [
    "from scipy import constants,misc as cs,misc\n",
    "from glob import glob\n",
    "import numpy as np\n",
    "import pandas as pd\n",
    "import matplotlib.pyplot as plt\n",
    "from lmfit import models\n",
    "import math"
   ]
  },
  {
   "cell_type": "markdown",
   "metadata": {
    "collapsed": true
   },
   "source": [
    "#Rutherfordstreuung"
   ]
  },
  {
   "cell_type": "markdown",
   "metadata": {},
   "source": [
    "##Rutherfordsteuuformel\n",
    "<br>\n",
    "$\\huge \\huge \\frac{d\\sigma}{d\\Omega} = 1.3 \\cdot 10^{-3} \\left( \\frac{Z_1 Z_2}{E_0} \\right) \\frac{1}{sin^4\\left(\\frac{\\theta}{2}\\right)}$\n",
    "\n",
    "<ul>\n",
    "    <li>$\\sigma$: Differentielle WQ\n",
    "    <li>$\\Theta$: Winkel\n",
    "    <li>$Z_i$: Kernlagundszahl\n",
    "    <li>E: Energie\n",
    "</ul>   "
   ]
  },
  {
   "cell_type": "code",
   "execution_count": 344,
   "metadata": {
    "collapsed": false
   },
   "outputs": [],
   "source": [
    "def rutherfordsteuung(theta,Z_1,Z_2,E,b):\n",
    "    return (Z_1*Z_2*cs.e**2)/(4*E*np.sin((3.14*theta-b)/360)**4)"
   ]
  },
  {
   "cell_type": "code",
   "execution_count": 345,
   "metadata": {
    "collapsed": false
   },
   "outputs": [],
   "source": [
    "file_list_gold = []\n",
    "liste_gold = []\n",
    "for i in glob('/home/arrow13/Git/FP/Rutherford/MessdatenRutherford/Gold/*.txt'):\n",
    "    file_list_gold.append(i)\n",
    "\n",
    "    \n",
    "file_list_gold.sort()   \n",
    "    \n",
    "for i in file_list_gold:\n",
    "    liste_gold.append(np.array(pd.read_csv(i,skiprows=0,delim_whitespace=2)).T)\n",
    "    \n"
   ]
  },
  {
   "cell_type": "code",
   "execution_count": 346,
   "metadata": {
    "collapsed": false
   },
   "outputs": [
    {
     "name": "stdout",
     "output_type": "stream",
     "text": [
      "/home/arrow13/Git/FP/Rutherford/MessdatenRutherford/Gold/2.Messung-30Grad.txt\n",
      "/home/arrow13/Git/FP/Rutherford/MessdatenRutherford/Gold/3.Messung-25Grad.txt\n",
      "/home/arrow13/Git/FP/Rutherford/MessdatenRutherford/Gold/4.Messung-20Grad.txt\n",
      "/home/arrow13/Git/FP/Rutherford/MessdatenRutherford/Gold/5.Messung-15Grad.txt\n",
      "/home/arrow13/Git/FP/Rutherford/MessdatenRutherford/Gold/6.Messung-10Grad.txt\n",
      "/home/arrow13/Git/FP/Rutherford/MessdatenRutherford/Gold/7.Messung-5Grad.txt\n",
      "/home/arrow13/Git/FP/Rutherford/MessdatenRutherford/Gold/8.Messung0Grad.txt\n",
      "/home/arrow13/Git/FP/Rutherford/MessdatenRutherford/Gold/9.Messung5Grad.txt\n",
      "/home/arrow13/Git/FP/Rutherford/MessdatenRutherford/Gold/910.Messung10Grad.txt\n",
      "/home/arrow13/Git/FP/Rutherford/MessdatenRutherford/Gold/911.Messung15Grad.txt\n",
      "/home/arrow13/Git/FP/Rutherford/MessdatenRutherford/Gold/912.Messung20Grad.txt\n",
      "/home/arrow13/Git/FP/Rutherford/MessdatenRutherford/Gold/913.Messung25Grad.txt\n",
      "/home/arrow13/Git/FP/Rutherford/MessdatenRutherford/Gold/914.Messung30Grad.txt\n"
     ]
    }
   ],
   "source": [
    "for i in file_list_gold:\n",
    "    print(i)"
   ]
  },
  {
   "cell_type": "raw",
   "metadata": {},
   "source": [
    "for i in liste_gold:\n",
    "    plt.plot(i[0],i[1],'.')\n",
    "    plt.show()"
   ]
  },
  {
   "cell_type": "code",
   "execution_count": 347,
   "metadata": {
    "collapsed": false
   },
   "outputs": [],
   "source": [
    "def poisson(x,A=2,B=180):\n",
    "    return B*((A**x/misc.factorial(x))*np.e**(-A))"
   ]
  },
  {
   "cell_type": "code",
   "execution_count": 348,
   "metadata": {
    "collapsed": false
   },
   "outputs": [],
   "source": [
    "mod_pos = models.Model(poisson)"
   ]
  },
  {
   "cell_type": "code",
   "execution_count": 349,
   "metadata": {
    "collapsed": false
   },
   "outputs": [
    {
     "name": "stdout",
     "output_type": "stream",
     "text": [
      "13\n"
     ]
    }
   ],
   "source": [
    "print(len(liste_gold))"
   ]
  },
  {
   "cell_type": "raw",
   "metadata": {},
   "source": [
    "pars = mod_pos.make_params()\n",
    "fit = mod_pos.fit(liste_gold[0][1],\n",
    "                  pars,\n",
    "                  A=np.argmax(liste_gold[0][1]),\n",
    "                  B=liste_gold[0][1][A]*misc.factorial(np.argmax(liste_gold[0][1]))/(int(A)**int(A)*np.e**(-A)),\n",
    "                  weights=1/err,\n",
    "                  x=liste_gold[0][0])\n",
    "fit.plot_fit()\n",
    "plt.annotate(str(fit.fit_report()) + \"\\n A: $\\mu$ \\n B:Skalierung\", xytext=(0.5, 15), xy=(1,5))\n",
    "plt.show()\n",
    "print(fit.init_params)"
   ]
  },
  {
   "cell_type": "raw",
   "metadata": {},
   "source": [
    "print(fit.fit_report())"
   ]
  },
  {
   "cell_type": "code",
   "execution_count": 350,
   "metadata": {
    "collapsed": false
   },
   "outputs": [],
   "source": [
    "err = []\n",
    "gold_fit_reports = []\n",
    "gold_fit_pars = []\n",
    "for i in liste_gold:\n",
    "    if i[0].size < 1:\n",
    "        continue\n",
    "    err_temp = None\n",
    "    err_temp = np.sqrt(i[1])\n",
    "    err_temp = np.where(err_temp == 0, 1, err_temp)\n",
    "    err.append(np.where(np.sqrt(i[1]) == 0, 1, np.sqrt(i[1])))\n",
    "    pars = mod_pos.make_params()\n",
    "    fit = mod_pos.fit(i[1],\n",
    "                  pars,\n",
    "                  A= np.sum(i[0]*i[1]/180),\n",
    "                  B=np.sum(i[1]),\n",
    "                  weights=1/err_temp,\n",
    "                  x=i[0])\n",
    "    gold_fit_reports.append(fit.fit_report())\n",
    "    gold_fit_pars.append(np.array([fit.best_values,fit.chisqr]))\n",
    "    fit.plot()\n",
    "    plt.show()"
   ]
  },
  {
   "cell_type": "code",
   "execution_count": 351,
   "metadata": {
    "collapsed": false,
    "scrolled": true
   },
   "outputs": [
    {
     "name": "stdout",
     "output_type": "stream",
     "text": [
      "[[Model]]\n",
      "    Model(poisson)\n",
      "[[Fit Statistics]]\n",
      "    # function evals   = 10\n",
      "    # data points      = 8\n",
      "    # variables        = 2\n",
      "    chi-square         = 6.952\n",
      "    reduced chi-square = 1.159\n",
      "[[Variables]]\n",
      "    A:   2.63076712 +/- 0.138416 (5.26%) (init= 2.622222)\n",
      "    B:   174.040841 +/- 14.24495 (8.18%) (init= 180)\n",
      "[[Correlations]] (unreported correlations are <  0.100) \n",
      "\n",
      "\n",
      "\n",
      "\n",
      "\n",
      "[[Model]]\n",
      "    Model(poisson)\n",
      "[[Fit Statistics]]\n",
      "    # function evals   = 10\n",
      "    # data points      = 17\n",
      "    # variables        = 2\n",
      "    chi-square         = 7.229\n",
      "    reduced chi-square = 0.482\n",
      "[[Variables]]\n",
      "    A:   9.32906217 +/- 0.171595 (1.84%) (init= 9.111111)\n",
      "    B:   175.583907 +/- 9.282042 (5.29%) (init= 180)\n",
      "[[Correlations]] (unreported correlations are <  0.100) \n",
      "\n",
      "\n",
      "\n",
      "\n",
      "\n",
      "[[Model]]\n",
      "    Model(poisson)\n",
      "[[Fit Statistics]]\n",
      "    # function evals   = 10\n",
      "    # data points      = 27\n",
      "    # variables        = 2\n",
      "    chi-square         = 14.400\n",
      "    reduced chi-square = 0.576\n",
      "[[Variables]]\n",
      "    A:   13.4881903 +/- 0.220487 (1.63%) (init= 13.47222)\n",
      "    B:   166.430336 +/- 9.815359 (5.90%) (init= 180)\n",
      "[[Correlations]] (unreported correlations are <  0.100) \n",
      "\n",
      "\n",
      "\n",
      "\n",
      "\n",
      "[[Model]]\n",
      "    Model(poisson)\n",
      "[[Fit Statistics]]\n",
      "    # function evals   = 10\n",
      "    # data points      = 24\n",
      "    # variables        = 2\n",
      "    chi-square         = 11.269\n",
      "    reduced chi-square = 0.512\n",
      "[[Variables]]\n",
      "    A:   10.7650571 +/- 0.189454 (1.76%) (init= 10.86667)\n",
      "    B:   170.281693 +/- 9.382080 (5.51%) (init= 180)\n",
      "[[Correlations]] (unreported correlations are <  0.100) \n",
      "\n",
      "\n",
      "\n",
      "\n",
      "\n",
      "[[Model]]\n",
      "    Model(poisson)\n",
      "[[Fit Statistics]]\n",
      "    # function evals   = 13\n",
      "    # data points      = 24\n",
      "    # variables        = 2\n",
      "    chi-square         = 21.488\n",
      "    reduced chi-square = 0.977\n",
      "[[Variables]]\n",
      "    A:   10.4593538 +/- 0.251529 (2.40%) (init= 10.82222)\n",
      "    B:   160.476988 +/- 12.59728 (7.85%) (init= 180)\n",
      "[[Correlations]] (unreported correlations are <  0.100) \n",
      "\n",
      "\n",
      "\n",
      "\n",
      "\n",
      "[[Model]]\n",
      "    Model(poisson)\n",
      "[[Fit Statistics]]\n",
      "    # function evals   = 10\n",
      "    # data points      = 26\n",
      "    # variables        = 2\n",
      "    chi-square         = 15.485\n",
      "    reduced chi-square = 0.645\n",
      "[[Variables]]\n",
      "    A:   14.0672646 +/- 0.249453 (1.77%) (init= 14.05556)\n",
      "    B:   165.257249 +/- 10.34939 (6.26%) (init= 180)\n",
      "[[Correlations]] (unreported correlations are <  0.100) \n",
      "\n",
      "\n",
      "\n",
      "\n",
      "\n",
      "[[Model]]\n",
      "    Model(poisson)\n",
      "[[Fit Statistics]]\n",
      "    # function evals   = 7\n",
      "    # data points      = 27\n",
      "    # variables        = 2\n",
      "    chi-square         = 11.306\n",
      "    reduced chi-square = 0.452\n",
      "[[Variables]]\n",
      "    A:   15.9040246 +/- 0.211421 (1.33%) (init= 15.88889)\n",
      "    B:   171.702263 +/- 8.890429 (5.18%) (init= 180)\n",
      "[[Correlations]] (unreported correlations are <  0.100) \n",
      "\n",
      "\n",
      "\n",
      "\n",
      "\n",
      "[[Model]]\n",
      "    Model(poisson)\n",
      "[[Fit Statistics]]\n",
      "    # function evals   = 10\n",
      "    # data points      = 30\n",
      "    # variables        = 2\n",
      "    chi-square         = 20.254\n",
      "    reduced chi-square = 0.723\n",
      "[[Variables]]\n",
      "    A:   15.8294636 +/- 0.263574 (1.67%) (init= 16.09444)\n",
      "    B:   161.376192 +/- 10.85948 (6.73%) (init= 180)\n",
      "[[Correlations]] (unreported correlations are <  0.100) \n",
      "\n",
      "\n",
      "\n",
      "\n",
      "\n",
      "[[Model]]\n",
      "    Model(poisson)\n",
      "[[Fit Statistics]]\n",
      "    # function evals   = 19\n",
      "    # data points      = 28\n",
      "    # variables        = 2\n",
      "    chi-square         = 21.422\n",
      "    reduced chi-square = 0.824\n",
      "[[Variables]]\n",
      "    A:   15.5069867 +/- 0.297211 (1.92%) (init= 12.98889)\n",
      "    B:   132.208797 +/- 10.50205 (7.94%) (init= 152)\n",
      "[[Correlations]] (unreported correlations are <  0.100) \n",
      "\n",
      "\n",
      "\n",
      "\n",
      "\n",
      "[[Model]]\n",
      "    Model(poisson)\n",
      "[[Fit Statistics]]\n",
      "    # function evals   = 10\n",
      "    # data points      = 28\n",
      "    # variables        = 2\n",
      "    chi-square         = 18.280\n",
      "    reduced chi-square = 0.703\n",
      "[[Variables]]\n",
      "    A:   14.1880536 +/- 0.253110 (1.78%) (init= 14.11111)\n",
      "    B:   163.613135 +/- 10.79143 (6.60%) (init= 180)\n",
      "[[Correlations]] (unreported correlations are <  0.100) \n",
      "\n",
      "\n",
      "\n",
      "\n",
      "\n",
      "[[Model]]\n",
      "    Model(poisson)\n",
      "[[Fit Statistics]]\n",
      "    # function evals   = 10\n",
      "    # data points      = 13\n",
      "    # variables        = 2\n",
      "    chi-square         = 17.184\n",
      "    reduced chi-square = 1.562\n",
      "[[Variables]]\n",
      "    A:   6.41311944 +/- 0.238384 (3.72%) (init= 6.422222)\n",
      "    B:   165.217098 +/- 16.19693 (9.80%) (init= 180)\n",
      "[[Correlations]] (unreported correlations are <  0.100) \n",
      "\n",
      "\n",
      "\n",
      "\n",
      "\n",
      "[[Model]]\n",
      "    Model(poisson)\n",
      "[[Fit Statistics]]\n",
      "    # function evals   = 13\n",
      "    # data points      = 4\n",
      "    # variables        = 2\n",
      "    chi-square         = 2.921\n",
      "    reduced chi-square = 1.461\n",
      "[[Variables]]\n",
      "    A:   0.71009094 +/- 0.075652 (10.65%) (init= 0.7166667)\n",
      "    B:   178.155729 +/- 16.18493 (9.08%) (init= 180)\n",
      "[[Correlations]] (unreported correlations are <  0.100) \n",
      "\n",
      "\n",
      "\n",
      "\n",
      "\n",
      "[[Model]]\n",
      "    Model(poisson)\n",
      "[[Fit Statistics]]\n",
      "    # function evals   = 10\n",
      "    # data points      = 2\n",
      "    # variables        = 2\n",
      "    chi-square         = 0.000\n",
      "    reduced chi-square = nan\n",
      "[[Variables]]\n",
      "    A:   0.07142857 +/- nan      (nan%) (init= 0.06666667)\n",
      "    B:   180.438960 +/- nan      (nan%) (init= 180)\n",
      "[[Correlations]] (unreported correlations are <  0.100) \n",
      "\n",
      "\n",
      "\n",
      "\n",
      "\n"
     ]
    }
   ],
   "source": [
    "for i in gold_fit_reports:\n",
    "    print(i, \"\\n\\n\\n\\n\\n\")"
   ]
  },
  {
   "cell_type": "code",
   "execution_count": 352,
   "metadata": {
    "collapsed": false
   },
   "outputs": [],
   "source": [
    "file_list_alu = []\n",
    "liste_alu = []\n",
    "for i in glob('/home/arrow13/Git/FP/Rutherford/MessdatenRutherford/Alu/*.txt'):\n",
    "    file_list_alu.append(i)\n",
    "\n",
    "    \n",
    "file_list_alu.sort()    \n",
    "    \n",
    "for i in file_list_alu:\n",
    "    liste_alu.append(np.array(pd.read_csv(i,skiprows=0,delim_whitespace=2)).T)\n",
    "    \n"
   ]
  },
  {
   "cell_type": "code",
   "execution_count": 353,
   "metadata": {
    "collapsed": false
   },
   "outputs": [
    {
     "name": "stdout",
     "output_type": "stream",
     "text": [
      "/home/arrow13/Git/FP/Rutherford/MessdatenRutherford/Alu/1.txt\n",
      "/home/arrow13/Git/FP/Rutherford/MessdatenRutherford/Alu/2.txt\n",
      "/home/arrow13/Git/FP/Rutherford/MessdatenRutherford/Alu/3.txt\n",
      "/home/arrow13/Git/FP/Rutherford/MessdatenRutherford/Alu/4.txt\n",
      "/home/arrow13/Git/FP/Rutherford/MessdatenRutherford/Alu/5.txt\n",
      "/home/arrow13/Git/FP/Rutherford/MessdatenRutherford/Alu/6.txt\n",
      "/home/arrow13/Git/FP/Rutherford/MessdatenRutherford/Alu/7.txt\n",
      "/home/arrow13/Git/FP/Rutherford/MessdatenRutherford/Alu/8.txt\n",
      "/home/arrow13/Git/FP/Rutherford/MessdatenRutherford/Alu/9.txt\n",
      "/home/arrow13/Git/FP/Rutherford/MessdatenRutherford/Alu/91.txt\n",
      "/home/arrow13/Git/FP/Rutherford/MessdatenRutherford/Alu/92.txt\n",
      "/home/arrow13/Git/FP/Rutherford/MessdatenRutherford/Alu/93.txt\n",
      "/home/arrow13/Git/FP/Rutherford/MessdatenRutherford/Alu/94.txt\n"
     ]
    }
   ],
   "source": [
    "for i in file_list_alu:\n",
    "    print(i)"
   ]
  },
  {
   "cell_type": "code",
   "execution_count": 354,
   "metadata": {
    "collapsed": false
   },
   "outputs": [],
   "source": [
    "alu_fit_reports = []\n",
    "alu_fit_pars = []\n",
    "for i in liste_alu:\n",
    "    if i[0].size < 1:\n",
    "        continue\n",
    "    err_temp = None\n",
    "    err_temp = np.sqrt(i[1])\n",
    "    err_temp = np.where(err_temp == 0, 1, err_temp)\n",
    "    pars = mod_pos.make_params()\n",
    "    fit = mod_pos.fit(i[1],\n",
    "                  pars,\n",
    "                  A= np.sum(i[0]*i[1]/180),\n",
    "                  B=np.sum(i[1]),\n",
    "                  weights=1/err_temp,\n",
    "                  x=i[0])\n",
    "    alu_fit_reports.append(fit.fit_report())\n",
    "    alu_fit_pars.append(np.array([fit.best_values,fit.chisqr]))\n",
    "    fit.plot()\n",
    "    plt.show()"
   ]
  },
  {
   "cell_type": "code",
   "execution_count": 355,
   "metadata": {
    "collapsed": false,
    "scrolled": true
   },
   "outputs": [
    {
     "name": "stdout",
     "output_type": "stream",
     "text": [
      "[[Model]]\n",
      "    Model(poisson)\n",
      "[[Fit Statistics]]\n",
      "    # function evals   = 10\n",
      "    # data points      = 2\n",
      "    # variables        = 2\n",
      "    chi-square         = 0.000\n",
      "    reduced chi-square = inf\n",
      "[[Variables]]\n",
      "    A:   0.04046242 +/- inf      (inf%) (init= 0.03888889)\n",
      "    B:   180.143548 +/- inf      (inf%) (init= 180)\n",
      "[[Correlations]] (unreported correlations are <  0.100) \n",
      "\n",
      "\n",
      "\n",
      "\n",
      "\n",
      "[[Model]]\n",
      "    Model(poisson)\n",
      "[[Fit Statistics]]\n",
      "    # function evals   = 16\n",
      "    # data points      = 13\n",
      "    # variables        = 2\n",
      "    chi-square         = 7.012\n",
      "    reduced chi-square = 0.637\n",
      "[[Variables]]\n",
      "    A:   4.42298981 +/- 0.174431 (3.94%) (init= 2.577778)\n",
      "    B:   94.0526964 +/- 7.745814 (8.24%) (init= 101)\n",
      "[[Correlations]] (unreported correlations are <  0.100) \n",
      "\n",
      "\n",
      "\n",
      "\n",
      "\n",
      "[[Model]]\n",
      "    Model(poisson)\n",
      "[[Fit Statistics]]\n",
      "    # function evals   = 10\n",
      "    # data points      = 32\n",
      "    # variables        = 2\n",
      "    chi-square         = 20.998\n",
      "    reduced chi-square = 0.700\n",
      "[[Variables]]\n",
      "    A:   19.0702201 +/- 0.279441 (1.47%) (init= 19.03889)\n",
      "    B:   161.094607 +/- 10.68977 (6.64%) (init= 180)\n",
      "[[Correlations]] (unreported correlations are <  0.100) \n",
      "\n",
      "\n",
      "\n",
      "\n",
      "\n",
      "[[Model]]\n",
      "    Model(poisson)\n",
      "[[Fit Statistics]]\n",
      "    # function evals   = 10\n",
      "    # data points      = 32\n",
      "    # variables        = 2\n",
      "    chi-square         = 14.610\n",
      "    reduced chi-square = 0.487\n",
      "[[Variables]]\n",
      "    A:   20.2855188 +/- 0.240014 (1.18%) (init= 20.27778)\n",
      "    B:   168.596518 +/- 9.148817 (5.43%) (init= 180)\n",
      "[[Correlations]] (unreported correlations are <  0.100) \n",
      "\n",
      "\n",
      "\n",
      "\n",
      "\n",
      "[[Model]]\n",
      "    Model(poisson)\n",
      "[[Fit Statistics]]\n",
      "    # function evals   = 13\n",
      "    # data points      = 35\n",
      "    # variables        = 2\n",
      "    chi-square         = 18.853\n",
      "    reduced chi-square = 0.571\n",
      "[[Variables]]\n",
      "    A:   20.5041646 +/- 0.283811 (1.38%) (init= 20.77222)\n",
      "    B:   162.846121 +/- 9.697037 (5.95%) (init= 180)\n",
      "[[Correlations]] (unreported correlations are <  0.100) \n",
      "\n",
      "\n",
      "\n",
      "\n",
      "\n",
      "[[Model]]\n",
      "    Model(poisson)\n",
      "[[Fit Statistics]]\n",
      "    # function evals   = 13\n",
      "    # data points      = 37\n",
      "    # variables        = 2\n",
      "    chi-square         = 24.604\n",
      "    reduced chi-square = 0.703\n",
      "[[Variables]]\n",
      "    A:   20.2618013 +/- 0.304988 (1.51%) (init= 20.57222)\n",
      "    B:   156.885766 +/- 10.55217 (6.73%) (init= 180)\n",
      "[[Correlations]] (unreported correlations are <  0.100) \n",
      "\n",
      "\n",
      "\n",
      "\n",
      "\n",
      "[[Model]]\n",
      "    Model(poisson)\n",
      "[[Fit Statistics]]\n",
      "    # function evals   = 13\n",
      "    # data points      = 35\n",
      "    # variables        = 2\n",
      "    chi-square         = 20.424\n",
      "    reduced chi-square = 0.619\n",
      "[[Variables]]\n",
      "    A:   20.7719813 +/- 0.301754 (1.45%) (init= 20.66667)\n",
      "    B:   161.367109 +/- 10.05051 (6.23%) (init= 180)\n",
      "[[Correlations]] (unreported correlations are <  0.100) \n",
      "\n",
      "\n",
      "\n",
      "\n",
      "\n",
      "[[Model]]\n",
      "    Model(poisson)\n",
      "[[Fit Statistics]]\n",
      "    # function evals   = 10\n",
      "    # data points      = 35\n",
      "    # variables        = 2\n",
      "    chi-square         = 28.549\n",
      "    reduced chi-square = 0.865\n",
      "[[Variables]]\n",
      "    A:   20.0823517 +/- 0.324329 (1.61%) (init= 20.06667)\n",
      "    B:   157.653407 +/- 11.94241 (7.58%) (init= 180)\n",
      "[[Correlations]] (unreported correlations are <  0.100) \n",
      "\n",
      "\n",
      "\n",
      "\n",
      "\n",
      "[[Model]]\n",
      "    Model(poisson)\n",
      "[[Fit Statistics]]\n",
      "    # function evals   = 10\n",
      "    # data points      = 33\n",
      "    # variables        = 2\n",
      "    chi-square         = 27.925\n",
      "    reduced chi-square = 0.901\n",
      "[[Variables]]\n",
      "    A:   19.6534853 +/- 0.349605 (1.78%) (init= 19.59444)\n",
      "    B:   156.222418 +/- 12.02525 (7.70%) (init= 180)\n",
      "[[Correlations]] (unreported correlations are <  0.100) \n",
      "\n",
      "\n",
      "\n",
      "\n",
      "\n",
      "[[Model]]\n",
      "    Model(poisson)\n",
      "[[Fit Statistics]]\n",
      "    # function evals   = 13\n",
      "    # data points      = 37\n",
      "    # variables        = 2\n",
      "    chi-square         = 32.477\n",
      "    reduced chi-square = 0.928\n",
      "[[Variables]]\n",
      "    A:   18.1309305 +/- 0.358862 (1.98%) (init= 18.86111)\n",
      "    B:   149.588230 +/- 11.86402 (7.93%) (init= 180)\n",
      "[[Correlations]] (unreported correlations are <  0.100) \n",
      "\n",
      "\n",
      "\n",
      "\n",
      "\n",
      "[[Model]]\n",
      "    Model(poisson)\n",
      "[[Fit Statistics]]\n",
      "    # function evals   = 13\n",
      "    # data points      = 35\n",
      "    # variables        = 2\n",
      "    chi-square         = 31.682\n",
      "    reduced chi-square = 0.960\n",
      "[[Variables]]\n",
      "    A:   18.0648746 +/- 0.317613 (1.76%) (init= 17.77778)\n",
      "    B:   150.313935 +/- 12.09616 (8.05%) (init= 180)\n",
      "[[Correlations]] (unreported correlations are <  0.100) \n",
      "\n",
      "\n",
      "\n",
      "\n",
      "\n",
      "[[Model]]\n",
      "    Model(poisson)\n",
      "[[Fit Statistics]]\n",
      "    # function evals   = 13\n",
      "    # data points      = 12\n",
      "    # variables        = 2\n",
      "    chi-square         = 11.743\n",
      "    reduced chi-square = 1.174\n",
      "[[Variables]]\n",
      "    A:   5.44105731 +/- 0.186248 (3.42%) (init= 5.433333)\n",
      "    B:   170.734283 +/- 14.26613 (8.36%) (init= 180)\n",
      "[[Correlations]] (unreported correlations are <  0.100) \n",
      "\n",
      "\n",
      "\n",
      "\n",
      "\n",
      "[[Model]]\n",
      "    Model(poisson)\n",
      "[[Fit Statistics]]\n",
      "    # function evals   = 10\n",
      "    # data points      = 3\n",
      "    # variables        = 2\n",
      "    chi-square         = 0.087\n",
      "    reduced chi-square = 0.087\n",
      "[[Variables]]\n",
      "    A:   0.09395852 +/- 0.006867 (7.31%) (init= 0.09444444)\n",
      "    B:   179.936069 +/- 3.959497 (2.20%) (init= 180)\n",
      "[[Correlations]] (unreported correlations are <  0.100) \n",
      "\n",
      "\n",
      "\n",
      "\n",
      "\n"
     ]
    }
   ],
   "source": [
    "for i in alu_fit_reports:\n",
    "    print(i, \"\\n\\n\\n\\n\\n\")"
   ]
  },
  {
   "cell_type": "code",
   "execution_count": 356,
   "metadata": {
    "collapsed": false,
    "scrolled": false
   },
   "outputs": [
    {
     "name": "stdout",
     "output_type": "stream",
     "text": [
      "2.63076712792\n",
      "9.32906217901\n",
      "13.4881903032\n",
      "10.7650571355\n",
      "10.459353853\n",
      "14.0672646571\n",
      "15.9040246656\n",
      "15.8294636942\n",
      "15.5069867799\n",
      "14.1880536016\n",
      "6.41311944341\n",
      "0.710090943284\n",
      "0.0714285714286\n"
     ]
    }
   ],
   "source": [
    "counts_gold = []\n",
    "for i in gold_fit_pars:\n",
    "    print(i[0][\"A\"])\n",
    "    counts_gold.append(i[0][\"A\"])"
   ]
  },
  {
   "cell_type": "code",
   "execution_count": 357,
   "metadata": {
    "collapsed": true
   },
   "outputs": [],
   "source": [
    "x = np.arange(-30,35,5)"
   ]
  },
  {
   "cell_type": "code",
   "execution_count": 358,
   "metadata": {
    "collapsed": true
   },
   "outputs": [],
   "source": [
    "def ruth(x,A,B):\n",
    "    return A/(np.sin((((x-B)*np.pi)/180)/2)**4)"
   ]
  },
  {
   "cell_type": "code",
   "execution_count": 359,
   "metadata": {
    "collapsed": true
   },
   "outputs": [],
   "source": [
    "mod_ruth = models.Model(ruth)\n",
    "pars_2 = mod_ruth.make_params()"
   ]
  },
  {
   "cell_type": "code",
   "execution_count": 360,
   "metadata": {
    "collapsed": false
   },
   "outputs": [],
   "source": [
    "out_2 = mod_ruth.fit(counts_gold,\n",
    "                    pars_2,\n",
    "                    A=0.0001,\n",
    "                    B=0,\n",
    "                    x=x)"
   ]
  },
  {
   "cell_type": "code",
   "execution_count": 361,
   "metadata": {
    "collapsed": false
   },
   "outputs": [],
   "source": [
    "out_2.plot()\n",
    "plt.show()"
   ]
  },
  {
   "cell_type": "code",
   "execution_count": 362,
   "metadata": {
    "collapsed": false
   },
   "outputs": [],
   "source": [
    "plt.plot(x,ruth(x,0.00001,0))\n",
    "plt.show()"
   ]
  },
  {
   "cell_type": "code",
   "execution_count": 363,
   "metadata": {
    "collapsed": false
   },
   "outputs": [
    {
     "name": "stdout",
     "output_type": "stream",
     "text": [
      "0.0404624277457\n",
      "4.42298981058\n",
      "19.0702201096\n",
      "20.2855188058\n",
      "20.5041646931\n",
      "20.2618013235\n",
      "20.771981361\n",
      "20.0823517192\n",
      "19.653485331\n",
      "18.1309305598\n",
      "18.0648746935\n",
      "5.44105731411\n",
      "0.0939585297857\n"
     ]
    }
   ],
   "source": [
    "counts_alu = []\n",
    "for i in alu_fit_pars:\n",
    "    print(i[0][\"A\"])\n",
    "    counts_alu.append(i[0][\"A\"])"
   ]
  },
  {
   "cell_type": "code",
   "execution_count": 364,
   "metadata": {
    "collapsed": false
   },
   "outputs": [
    {
     "name": "stdout",
     "output_type": "stream",
     "text": [
      "[[Model]]\n",
      "    Model(ruth)\n",
      "[[Fit Statistics]]\n",
      "    # function evals   = 3\n",
      "    # data points      = 13\n",
      "    # variables        = 2\n",
      "    chi-square         = inf\n",
      "    reduced chi-square = inf\n",
      "[[Variables]]\n",
      "    A:   1.0000e-08 +/- 0        (0.00%) (init= 1e-08)\n",
      "    B:   1.4901e-08 +/- 0        (0.00%) (init= 0)\n",
      "[[Correlations]] (unreported correlations are <  0.100)\n"
     ]
    }
   ],
   "source": [
    "out_3 = mod_ruth.fit(counts_alu,\n",
    "                    pars_2,\n",
    "                    A=0.00000001,\n",
    "                    B=0,\n",
    "                    x=x)\n",
    "print(out_3.fit_report())"
   ]
  },
  {
   "cell_type": "code",
   "execution_count": 365,
   "metadata": {
    "collapsed": false
   },
   "outputs": [],
   "source": [
    "out_3.plot()\n",
    "plt.show()"
   ]
  },
  {
   "cell_type": "code",
   "execution_count": 382,
   "metadata": {
    "collapsed": false
   },
   "outputs": [
    {
     "name": "stderr",
     "output_type": "stream",
     "text": [
      "/home/arrow13/anaconda3/lib/python3.4/site-packages/matplotlib/axes/_axes.py:475: UserWarning: No labelled objects found. Use label='...' kwarg on individual plots.\n",
      "  warnings.warn(\"No labelled objects found. \"\n"
     ]
    }
   ],
   "source": [
    "plt.plot(x,counts_gold, 'r.')\n",
    "plt.legend(loc = 'best', fontsize = 22)\n",
    "plt.tick_params(labelsize= 22)\n",
    "plt.ylabel(r\"Counts/s\", fontsize = 26)\n",
    "plt.xlabel(r\"$\\theta/^{\\circ}$\", fontsize = 26)\n",
    "plt.show()"
   ]
  },
  {
   "cell_type": "code",
   "execution_count": 381,
   "metadata": {
    "collapsed": false
   },
   "outputs": [
    {
     "name": "stderr",
     "output_type": "stream",
     "text": [
      "/home/arrow13/anaconda3/lib/python3.4/site-packages/matplotlib/axes/_axes.py:475: UserWarning: No labelled objects found. Use label='...' kwarg on individual plots.\n",
      "  warnings.warn(\"No labelled objects found. \"\n"
     ]
    }
   ],
   "source": [
    "plt.plot(x,counts_alu, 'r.')\n",
    "plt.legend(loc = 'best', fontsize = 22)\n",
    "plt.tick_params(labelsize= 22)\n",
    "plt.ylabel(r\"Counts/s\", fontsize = 26)\n",
    "plt.xlabel(r\"$\\theta/^{\\circ}$\", fontsize = 26)\n",
    "plt.show()"
   ]
  },
  {
   "cell_type": "code",
   "execution_count": 368,
   "metadata": {
    "collapsed": false
   },
   "outputs": [
    {
     "name": "stdout",
     "output_type": "stream",
     "text": [
      "13\n"
     ]
    },
    {
     "data": {
      "text/plain": [
       "13"
      ]
     },
     "execution_count": 368,
     "metadata": {},
     "output_type": "execute_result"
    }
   ],
   "source": [
    "print(x.size)\n",
    "len(counts_alu)"
   ]
  },
  {
   "cell_type": "code",
   "execution_count": 378,
   "metadata": {
    "collapsed": false
   },
   "outputs": [
    {
     "name": "stdout",
     "output_type": "stream",
     "text": [
      "180\n",
      "101\n",
      "180\n",
      "180\n",
      "180\n",
      "180\n",
      "180\n",
      "180\n",
      "180\n",
      "180\n",
      "180\n",
      "180\n",
      "180\n",
      "/home/arrow13/Git/FP/Rutherford/MessdatenRutherford/Alu/1.txt\n",
      "/home/arrow13/Git/FP/Rutherford/MessdatenRutherford/Alu/2.txt\n",
      "/home/arrow13/Git/FP/Rutherford/MessdatenRutherford/Alu/3.txt\n",
      "/home/arrow13/Git/FP/Rutherford/MessdatenRutherford/Alu/4.txt\n",
      "/home/arrow13/Git/FP/Rutherford/MessdatenRutherford/Alu/5.txt\n",
      "/home/arrow13/Git/FP/Rutherford/MessdatenRutherford/Alu/6.txt\n",
      "/home/arrow13/Git/FP/Rutherford/MessdatenRutherford/Alu/7.txt\n",
      "/home/arrow13/Git/FP/Rutherford/MessdatenRutherford/Alu/8.txt\n",
      "/home/arrow13/Git/FP/Rutherford/MessdatenRutherford/Alu/9.txt\n",
      "/home/arrow13/Git/FP/Rutherford/MessdatenRutherford/Alu/91.txt\n",
      "/home/arrow13/Git/FP/Rutherford/MessdatenRutherford/Alu/92.txt\n",
      "/home/arrow13/Git/FP/Rutherford/MessdatenRutherford/Alu/93.txt\n",
      "/home/arrow13/Git/FP/Rutherford/MessdatenRutherford/Alu/94.txt\n"
     ]
    }
   ],
   "source": [
    "for i in liste_alu:\n",
    "    a= np.sum(i[1])\n",
    "    print(a)\n",
    "listealudebug = glob('/home/arrow13/Git/FP/Rutherford/MessdatenRutherford/Alu/*.txt')\n",
    "listealudebug.sort()\n",
    "for i in listealudebug:\n",
    "    print(i)"
   ]
  },
  {
   "cell_type": "code",
   "execution_count": 380,
   "metadata": {
    "collapsed": false,
    "scrolled": true
   },
   "outputs": [
    {
     "name": "stdout",
     "output_type": "stream",
     "text": [
      "180\n",
      "180\n",
      "180\n",
      "180\n",
      "180\n",
      "180\n",
      "180\n",
      "180\n",
      "152\n",
      "180\n",
      "180\n",
      "180\n",
      "180\n",
      "/home/arrow13/Git/FP/Rutherford/MessdatenRutherford/Gold/2.Messung-30Grad.txt\n",
      "/home/arrow13/Git/FP/Rutherford/MessdatenRutherford/Gold/3.Messung-25Grad.txt\n",
      "/home/arrow13/Git/FP/Rutherford/MessdatenRutherford/Gold/4.Messung-20Grad.txt\n",
      "/home/arrow13/Git/FP/Rutherford/MessdatenRutherford/Gold/5.Messung-15Grad.txt\n",
      "/home/arrow13/Git/FP/Rutherford/MessdatenRutherford/Gold/6.Messung-10Grad.txt\n",
      "/home/arrow13/Git/FP/Rutherford/MessdatenRutherford/Gold/7.Messung-5Grad.txt\n",
      "/home/arrow13/Git/FP/Rutherford/MessdatenRutherford/Gold/8.Messung0Grad.txt\n",
      "/home/arrow13/Git/FP/Rutherford/MessdatenRutherford/Gold/9.Messung5Grad.txt\n",
      "/home/arrow13/Git/FP/Rutherford/MessdatenRutherford/Gold/910.Messung10Grad.txt\n",
      "/home/arrow13/Git/FP/Rutherford/MessdatenRutherford/Gold/911.Messung15Grad.txt\n",
      "/home/arrow13/Git/FP/Rutherford/MessdatenRutherford/Gold/912.Messung20Grad.txt\n",
      "/home/arrow13/Git/FP/Rutherford/MessdatenRutherford/Gold/913.Messung25Grad.txt\n",
      "/home/arrow13/Git/FP/Rutherford/MessdatenRutherford/Gold/914.Messung30Grad.txt\n"
     ]
    }
   ],
   "source": [
    "for i in liste_gold:\n",
    "    b= np.sum(i[1])\n",
    "    print(b)\n",
    "listegolddebug = glob('/home/arrow13/Git/FP/Rutherford/MessdatenRutherford/Gold/*.txt')\n",
    "listegolddebug.sort()\n",
    "for i in listegolddebug:\n",
    "    print(i)"
   ]
  },
  {
   "cell_type": "markdown",
   "metadata": {},
   "source": [
    "# Da Fehlen teilweise Messwerte wie du siehst und ich du musst auch die fits mit nur einem Messwert nehmen, sonst gibt es probleme.\n",
    "# Die Changes kannst du bei Github nachgucken."
   ]
  }
 ],
 "metadata": {
  "kernelspec": {
   "display_name": "Python 3",
   "language": "python",
   "name": "python3"
  },
  "language_info": {
   "codemirror_mode": {
    "name": "ipython",
    "version": 3
   },
   "file_extension": ".py",
   "mimetype": "text/x-python",
   "name": "python",
   "nbconvert_exporter": "python",
   "pygments_lexer": "ipython3",
   "version": "3.4.3"
  }
 },
 "nbformat": 4,
 "nbformat_minor": 0
}
