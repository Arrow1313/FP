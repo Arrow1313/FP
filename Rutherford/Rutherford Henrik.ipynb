{
 "cells": [
  {
   "cell_type": "code",
   "execution_count": 15,
   "metadata": {
    "collapsed": false
   },
   "outputs": [],
   "source": [
    "from scipy import constants,misc as cs,misc\n",
    "from glob import glob\n",
    "import numpy as np\n",
    "import pandas as pd\n",
    "import matplotlib.pyplot as plt\n",
    "from lmfit import models\n",
    "import math"
   ]
  },
  {
   "cell_type": "markdown",
   "metadata": {
    "collapsed": true
   },
   "source": [
    "#Rutherfordstreuung"
   ]
  },
  {
   "cell_type": "markdown",
   "metadata": {},
   "source": [
    "##Rutherfordsteuuformel\n",
    "<br>\n",
    "$\\huge \\huge \\frac{d\\sigma}{d\\Omega} = 1.3 \\cdot 10^{-3} \\left( \\frac{Z_1 Z_2}{E_0} \\right) \\frac{1}{sin^4\\left(\\frac{\\theta}{2}\\right)}$\n",
    "\n",
    "<ul>\n",
    "    <li>$\\sigma$: Differentielle WQ\n",
    "    <li>$\\Theta$: Winkel\n",
    "    <li>$Z_i$: Kernlagundszahl\n",
    "    <li>E: Energie\n",
    "</ul>   "
   ]
  },
  {
   "cell_type": "code",
   "execution_count": 16,
   "metadata": {
    "collapsed": false
   },
   "outputs": [],
   "source": [
    "def rutherfordsteuung(theta,Z_1,Z_2,E,b):\n",
    "    return (Z_1*Z_2*cs.e**2)/(4*E*np.sin((3.14*theta-b)/360)**4)"
   ]
  },
  {
   "cell_type": "code",
   "execution_count": 17,
   "metadata": {
    "collapsed": false
   },
   "outputs": [],
   "source": [
    "file_list_gold = []\n",
    "liste_gold = []\n",
    "for i in glob('/home/frederik/Dokumente/FP/Rutherford/MessdatenRutherford/Gold/*.txt'):\n",
    "    file_list_gold.append(i)\n",
    "\n",
    "    \n",
    "file_list_gold.sort()   \n",
    "    \n",
    "for i in file_list_gold:\n",
    "    liste_gold.append(np.array(pd.read_csv(i,skiprows=1,delim_whitespace=2)).T)\n",
    "    \n"
   ]
  },
  {
   "cell_type": "raw",
   "metadata": {},
   "source": [
    "for i in liste_gold:\n",
    "    plt.plot(i[0],i[1],'.')\n",
    "    plt.show()"
   ]
  },
  {
   "cell_type": "code",
   "execution_count": 18,
   "metadata": {
    "collapsed": false
   },
   "outputs": [],
   "source": [
    "def poisson(x,A=2,B=20):\n",
    "    return B*((A**x/misc.factorial(x))*np.e**(-A))"
   ]
  },
  {
   "cell_type": "code",
   "execution_count": 19,
   "metadata": {
    "collapsed": false
   },
   "outputs": [],
   "source": [
    "mod_pos = models.Model(poisson)"
   ]
  },
  {
   "cell_type": "code",
   "execution_count": 20,
   "metadata": {
    "collapsed": false
   },
   "outputs": [
    {
     "name": "stdout",
     "output_type": "stream",
     "text": [
      "14\n"
     ]
    }
   ],
   "source": [
    "print(len(liste_gold))"
   ]
  },
  {
   "cell_type": "raw",
   "metadata": {},
   "source": [
    "pars = mod_pos.make_params()\n",
    "fit = mod_pos.fit(liste_gold[0][1],\n",
    "                  pars,\n",
    "                  A=np.argmax(liste_gold[0][1]),\n",
    "                  B=liste_gold[0][1][A]*misc.factorial(np.argmax(liste_gold[0][1]))/(int(A)**int(A)*np.e**(-A)),\n",
    "                  weights=1/err,\n",
    "                  x=liste_gold[0][0])\n",
    "fit.plot_fit()\n",
    "plt.annotate(str(fit.fit_report()) + \"\\n A: $\\mu$ \\n B:Skalierung\", xytext=(0.5, 15), xy=(1,5))\n",
    "plt.show()\n",
    "print(fit.init_params)"
   ]
  },
  {
   "cell_type": "raw",
   "metadata": {},
   "source": [
    "print(fit.fit_report())"
   ]
  },
  {
   "cell_type": "code",
   "execution_count": 21,
   "metadata": {
    "collapsed": false
   },
   "outputs": [],
   "source": [
    "err = []\n",
    "gold_fit_reports = []\n",
    "gold_fit_pars = []\n",
    "for i in liste_gold:\n",
    "    if i[0].size < 2:\n",
    "        continue\n",
    "    err_temp = None\n",
    "    err_temp = np.sqrt(i[1])\n",
    "    err_temp = np.where(err_temp == 0, 1, err_temp)\n",
    "    err.append(np.where(np.sqrt(i[1]) == 0, 1, np.sqrt(i[1])))\n",
    "    pars = mod_pos.make_params()\n",
    "    fit = mod_pos.fit(i[1],\n",
    "                  pars,\n",
    "                  A=4,\n",
    "                  B=4,\n",
    "                  weights=1/err_temp,\n",
    "                  x=i[0])\n",
    "    gold_fit_reports.append(fit.fit_report())\n",
    "    gold_fit_pars.append(np.array([fit.best_values,fit.chisqr]))\n",
    "    fit.plot()\n",
    "    plt.show()"
   ]
  },
  {
   "cell_type": "code",
   "execution_count": 22,
   "metadata": {
    "collapsed": false,
    "scrolled": true
   },
   "outputs": [
    {
     "name": "stdout",
     "output_type": "stream",
     "text": [
      "[[Model]]\n",
      "    Model(poisson)\n",
      "[[Fit Statistics]]\n",
      "    # function evals   = 29\n",
      "    # data points      = 7\n",
      "    # variables        = 2\n",
      "    chi-square         = 4.925\n",
      "    reduced chi-square = 0.985\n",
      "[[Variables]]\n",
      "    A:   2.70272632 +/- 0.139987 (5.18%) (init= 4)\n",
      "    B:   169.569142 +/- 13.49657 (7.96%) (init= 4)\n",
      "[[Correlations]] (unreported correlations are <  0.100)\n",
      "    C(A, B)                      = -0.101  \n",
      "\n",
      "\n",
      "\n",
      "\n",
      "\n",
      "[[Model]]\n",
      "    Model(poisson)\n",
      "[[Fit Statistics]]\n",
      "    # function evals   = 27\n",
      "    # data points      = 16\n",
      "    # variables        = 2\n",
      "    chi-square         = 6.260\n",
      "    reduced chi-square = 0.447\n",
      "[[Variables]]\n",
      "    A:   9.32998702 +/- 0.165307 (1.77%) (init= 4)\n",
      "    B:   175.570492 +/- 8.940660 (5.09%) (init= 4)\n",
      "[[Correlations]] (unreported correlations are <  0.100) \n",
      "\n",
      "\n",
      "\n",
      "\n",
      "\n",
      "[[Model]]\n",
      "    Model(poisson)\n",
      "[[Fit Statistics]]\n",
      "    # function evals   = 25\n",
      "    # data points      = 26\n",
      "    # variables        = 2\n",
      "    chi-square         = 14.400\n",
      "    reduced chi-square = 0.600\n",
      "[[Variables]]\n",
      "    A:   13.4881904 +/- 0.225033 (1.67%) (init= 4)\n",
      "    B:   166.430336 +/- 10.01775 (6.02%) (init= 4)\n",
      "[[Correlations]] (unreported correlations are <  0.100) \n",
      "\n",
      "\n",
      "\n",
      "\n",
      "\n",
      "[[Model]]\n",
      "    Model(poisson)\n",
      "[[Fit Statistics]]\n",
      "    # function evals   = 25\n",
      "    # data points      = 23\n",
      "    # variables        = 2\n",
      "    chi-square         = 11.269\n",
      "    reduced chi-square = 0.537\n",
      "[[Variables]]\n",
      "    A:   10.7650478 +/- 0.193913 (1.80%) (init= 4)\n",
      "    B:   170.281708 +/- 9.602860 (5.64%) (init= 4)\n",
      "[[Correlations]] (unreported correlations are <  0.100) \n",
      "\n",
      "\n",
      "\n",
      "\n",
      "\n",
      "[[Model]]\n",
      "    Model(poisson)\n",
      "[[Fit Statistics]]\n",
      "    # function evals   = 29\n",
      "    # data points      = 23\n",
      "    # variables        = 2\n",
      "    chi-square         = 21.488\n",
      "    reduced chi-square = 1.023\n",
      "[[Variables]]\n",
      "    A:   10.4593732 +/- 0.257444 (2.46%) (init= 4)\n",
      "    B:   160.477014 +/- 12.89372 (8.03%) (init= 4)\n",
      "[[Correlations]] (unreported correlations are <  0.100) \n",
      "\n",
      "\n",
      "\n",
      "\n",
      "\n",
      "[[Model]]\n",
      "    Model(poisson)\n",
      "[[Fit Statistics]]\n",
      "    # function evals   = 28\n",
      "    # data points      = 25\n",
      "    # variables        = 2\n",
      "    chi-square         = 15.485\n",
      "    reduced chi-square = 0.673\n",
      "[[Variables]]\n",
      "    A:   14.0672928 +/- 0.254816 (1.81%) (init= 4)\n",
      "    B:   165.257254 +/- 10.57198 (6.40%) (init= 4)\n",
      "[[Correlations]] (unreported correlations are <  0.100) \n",
      "\n",
      "\n",
      "\n",
      "\n",
      "\n",
      "[[Model]]\n",
      "    Model(poisson)\n",
      "[[Fit Statistics]]\n",
      "    # function evals   = 34\n",
      "    # data points      = 26\n",
      "    # variables        = 2\n",
      "    chi-square         = 11.306\n",
      "    reduced chi-square = 0.471\n",
      "[[Variables]]\n",
      "    A:   15.9040492 +/- 0.215780 (1.36%) (init= 4)\n",
      "    B:   171.702259 +/- 9.073757 (5.28%) (init= 4)\n",
      "[[Correlations]] (unreported correlations are <  0.100) \n",
      "\n",
      "\n",
      "\n",
      "\n",
      "\n",
      "[[Model]]\n",
      "    Model(poisson)\n",
      "[[Fit Statistics]]\n",
      "    # function evals   = 34\n",
      "    # data points      = 29\n",
      "    # variables        = 2\n",
      "    chi-square         = 20.254\n",
      "    reduced chi-square = 0.750\n",
      "[[Variables]]\n",
      "    A:   15.8294255 +/- 0.268416 (1.70%) (init= 4)\n",
      "    B:   161.376183 +/- 11.05875 (6.85%) (init= 4)\n",
      "[[Correlations]] (unreported correlations are <  0.100) \n",
      "\n",
      "\n",
      "\n",
      "\n",
      "\n",
      "[[Model]]\n",
      "    Model(poisson)\n",
      "[[Fit Statistics]]\n",
      "    # function evals   = 31\n",
      "    # data points      = 27\n",
      "    # variables        = 2\n",
      "    chi-square         = 21.422\n",
      "    reduced chi-square = 0.857\n",
      "[[Variables]]\n",
      "    A:   15.5068786 +/- 0.303110 (1.95%) (init= 4)\n",
      "    B:   132.208774 +/- 10.71003 (8.10%) (init= 4)\n",
      "[[Correlations]] (unreported correlations are <  0.100) \n",
      "\n",
      "\n",
      "\n",
      "\n",
      "\n",
      "[[Model]]\n",
      "    Model(poisson)\n",
      "[[Fit Statistics]]\n",
      "    # function evals   = 28\n",
      "    # data points      = 27\n",
      "    # variables        = 2\n",
      "    chi-square         = 18.280\n",
      "    reduced chi-square = 0.731\n",
      "[[Variables]]\n",
      "    A:   14.1880660 +/- 0.258121 (1.82%) (init= 4)\n",
      "    B:   163.613148 +/- 11.00514 (6.73%) (init= 4)\n",
      "[[Correlations]] (unreported correlations are <  0.100) \n",
      "\n",
      "\n",
      "\n",
      "\n",
      "\n",
      "[[Model]]\n",
      "    Model(poisson)\n",
      "[[Fit Statistics]]\n",
      "    # function evals   = 37\n",
      "    # data points      = 12\n",
      "    # variables        = 2\n",
      "    chi-square         = 16.651\n",
      "    reduced chi-square = 1.665\n",
      "[[Variables]]\n",
      "    A:   6.41908414 +/- 0.246754 (3.84%) (init= 4)\n",
      "    B:   165.032737 +/- 16.72492 (10.13%) (init= 4)\n",
      "[[Correlations]] (unreported correlations are <  0.100) \n",
      "\n",
      "\n",
      "\n",
      "\n",
      "\n",
      "[[Model]]\n",
      "    Model(poisson)\n",
      "[[Fit Statistics]]\n",
      "    # function evals   = 42\n",
      "    # data points      = 3\n",
      "    # variables        = 2\n",
      "    chi-square         = 1.962\n",
      "    reduced chi-square = 1.962\n",
      "[[Variables]]\n",
      "    A:   0.62828431 +/- 0.150989 (24.03%) (init= 4)\n",
      "    B:   203.306738 +/- 44.88039 (22.08%) (init= 4)\n",
      "[[Correlations]] (unreported correlations are <  0.100)\n",
      "    C(A, B)                      = -0.756  \n",
      "\n",
      "\n",
      "\n",
      "\n",
      "\n"
     ]
    }
   ],
   "source": [
    "for i in gold_fit_reports:\n",
    "    print(i, \"\\n\\n\\n\\n\\n\")"
   ]
  },
  {
   "cell_type": "code",
   "execution_count": 23,
   "metadata": {
    "collapsed": false
   },
   "outputs": [
    {
     "name": "stdout",
     "output_type": "stream",
     "text": [
      "/home/frederik/Dokumente/FP/Rutherford/MessdatenRutherford/Alu/94.txt\n",
      "/home/frederik/Dokumente/FP/Rutherford/MessdatenRutherford/Alu/4.txt\n",
      "/home/frederik/Dokumente/FP/Rutherford/MessdatenRutherford/Alu/91.txt\n",
      "/home/frederik/Dokumente/FP/Rutherford/MessdatenRutherford/Alu/5.txt\n",
      "/home/frederik/Dokumente/FP/Rutherford/MessdatenRutherford/Alu/93.txt\n",
      "/home/frederik/Dokumente/FP/Rutherford/MessdatenRutherford/Alu/8.txt\n",
      "/home/frederik/Dokumente/FP/Rutherford/MessdatenRutherford/Alu/92.txt\n",
      "/home/frederik/Dokumente/FP/Rutherford/MessdatenRutherford/Alu/7.txt\n",
      "/home/frederik/Dokumente/FP/Rutherford/MessdatenRutherford/Alu/2.txt\n",
      "/home/frederik/Dokumente/FP/Rutherford/MessdatenRutherford/Alu/3.txt\n",
      "/home/frederik/Dokumente/FP/Rutherford/MessdatenRutherford/Alu/1.txt\n",
      "/home/frederik/Dokumente/FP/Rutherford/MessdatenRutherford/Alu/9.txt\n",
      "/home/frederik/Dokumente/FP/Rutherford/MessdatenRutherford/Alu/6.txt\n"
     ]
    }
   ],
   "source": [
    "for i in glob('/home/frederik/Dokumente/FP/Rutherford/MessdatenRutherford/Alu/*.txt'):\n",
    "    print(i)"
   ]
  },
  {
   "cell_type": "code",
   "execution_count": 24,
   "metadata": {
    "collapsed": false
   },
   "outputs": [],
   "source": [
    "file_list_alu = []\n",
    "liste_alu = []\n",
    "for i in glob('/home/frederik/Dokumente/FP/Rutherford/MessdatenRutherford/Alu/*.txt'):\n",
    "    file_list_alu.append(i)\n",
    "\n",
    "    \n",
    "file_list_alu.sort()    \n",
    "    \n",
    "for i in file_list_alu:\n",
    "    liste_alu.append(np.array(pd.read_csv(i,skiprows=1,delim_whitespace=2)).T)\n",
    "    \n"
   ]
  },
  {
   "cell_type": "code",
   "execution_count": 25,
   "metadata": {
    "collapsed": false
   },
   "outputs": [],
   "source": [
    "alu_fit_reports = []\n",
    "alu_fit_pars = []\n",
    "for i in liste_alu:\n",
    "    if i[0].size < 2:\n",
    "        continue\n",
    "    err_temp = None\n",
    "    err_temp = np.sqrt(i[1])\n",
    "    err_temp = np.where(err_temp == 0, 1, err_temp)\n",
    "    pars = mod_pos.make_params()\n",
    "    fit = mod_pos.fit(i[1],\n",
    "                  pars,\n",
    "                  A=4,\n",
    "                  B=4,\n",
    "                  weights=1/err_temp,\n",
    "                  x=i[0])\n",
    "    alu_fit_reports.append(fit.fit_report())\n",
    "    alu_fit_pars.append(np.array([fit.best_values,fit.chisqr]))\n",
    "    fit.plot()\n",
    "    plt.show()"
   ]
  },
  {
   "cell_type": "code",
   "execution_count": 26,
   "metadata": {
    "collapsed": false,
    "scrolled": true
   },
   "outputs": [
    {
     "name": "stdout",
     "output_type": "stream",
     "text": [
      "[[Model]]\n",
      "    Model(poisson)\n",
      "[[Fit Statistics]]\n",
      "    # function evals   = 20\n",
      "    # data points      = 12\n",
      "    # variables        = 2\n",
      "    chi-square         = 5.816\n",
      "    reduced chi-square = 0.582\n",
      "[[Variables]]\n",
      "    A:   4.45665257 +/- 0.169853 (3.81%) (init= 4)\n",
      "    B:   93.3359515 +/- 7.415285 (7.94%) (init= 4)\n",
      "[[Correlations]] (unreported correlations are <  0.100) \n",
      "\n",
      "\n",
      "\n",
      "\n",
      "\n",
      "[[Model]]\n",
      "    Model(poisson)\n",
      "[[Fit Statistics]]\n",
      "    # function evals   = 37\n",
      "    # data points      = 31\n",
      "    # variables        = 2\n",
      "    chi-square         = 20.998\n",
      "    reduced chi-square = 0.724\n",
      "[[Variables]]\n",
      "    A:   19.0702061 +/- 0.284219 (1.49%) (init= 4)\n",
      "    B:   161.094599 +/- 10.87251 (6.75%) (init= 4)\n",
      "[[Correlations]] (unreported correlations are <  0.100) \n",
      "\n",
      "\n",
      "\n",
      "\n",
      "\n",
      "[[Model]]\n",
      "    Model(poisson)\n",
      "[[Fit Statistics]]\n",
      "    # function evals   = 34\n",
      "    # data points      = 31\n",
      "    # variables        = 2\n",
      "    chi-square         = 14.610\n",
      "    reduced chi-square = 0.504\n",
      "[[Variables]]\n",
      "    A:   20.2855550 +/- 0.244117 (1.20%) (init= 4)\n",
      "    B:   168.596526 +/- 9.305218 (5.52%) (init= 4)\n",
      "[[Correlations]] (unreported correlations are <  0.100) \n",
      "\n",
      "\n",
      "\n",
      "\n",
      "\n",
      "[[Model]]\n",
      "    Model(poisson)\n",
      "[[Fit Statistics]]\n",
      "    # function evals   = 28\n",
      "    # data points      = 34\n",
      "    # variables        = 2\n",
      "    chi-square         = 18.853\n",
      "    reduced chi-square = 0.589\n",
      "[[Variables]]\n",
      "    A:   20.5041671 +/- 0.288213 (1.41%) (init= 4)\n",
      "    B:   162.846119 +/- 9.847387 (6.05%) (init= 4)\n",
      "[[Correlations]] (unreported correlations are <  0.100) \n",
      "\n",
      "\n",
      "\n",
      "\n",
      "\n",
      "[[Model]]\n",
      "    Model(poisson)\n",
      "[[Fit Statistics]]\n",
      "    # function evals   = 31\n",
      "    # data points      = 36\n",
      "    # variables        = 2\n",
      "    chi-square         = 24.604\n",
      "    reduced chi-square = 0.724\n",
      "[[Variables]]\n",
      "    A:   20.2618029 +/- 0.309441 (1.53%) (init= 4)\n",
      "    B:   156.885767 +/- 10.70623 (6.82%) (init= 4)\n",
      "[[Correlations]] (unreported correlations are <  0.100) \n",
      "\n",
      "\n",
      "\n",
      "\n",
      "\n",
      "[[Model]]\n",
      "    Model(poisson)\n",
      "[[Fit Statistics]]\n",
      "    # function evals   = 28\n",
      "    # data points      = 34\n",
      "    # variables        = 2\n",
      "    chi-square         = 20.424\n",
      "    reduced chi-square = 0.638\n",
      "[[Variables]]\n",
      "    A:   20.7719754 +/- 0.306432 (1.48%) (init= 4)\n",
      "    B:   161.367106 +/- 10.20634 (6.32%) (init= 4)\n",
      "[[Correlations]] (unreported correlations are <  0.100) \n",
      "\n",
      "\n",
      "\n",
      "\n",
      "\n",
      "[[Model]]\n",
      "    Model(poisson)\n",
      "[[Fit Statistics]]\n",
      "    # function evals   = 43\n",
      "    # data points      = 34\n",
      "    # variables        = 2\n",
      "    chi-square         = 28.549\n",
      "    reduced chi-square = 0.892\n",
      "[[Variables]]\n",
      "    A:   20.0822019 +/- 0.329357 (1.64%) (init= 4)\n",
      "    B:   157.653036 +/- 12.12757 (7.69%) (init= 4)\n",
      "[[Correlations]] (unreported correlations are <  0.100) \n",
      "\n",
      "\n",
      "\n",
      "\n",
      "\n",
      "[[Model]]\n",
      "    Model(poisson)\n",
      "[[Fit Statistics]]\n",
      "    # function evals   = 31\n",
      "    # data points      = 32\n",
      "    # variables        = 2\n",
      "    chi-square         = 27.925\n",
      "    reduced chi-square = 0.931\n",
      "[[Variables]]\n",
      "    A:   19.6534833 +/- 0.355385 (1.81%) (init= 4)\n",
      "    B:   156.222419 +/- 12.22403 (7.82%) (init= 4)\n",
      "[[Correlations]] (unreported correlations are <  0.100) \n",
      "\n",
      "\n",
      "\n",
      "\n",
      "\n",
      "[[Model]]\n",
      "    Model(poisson)\n",
      "[[Fit Statistics]]\n",
      "    # function evals   = 31\n",
      "    # data points      = 36\n",
      "    # variables        = 2\n",
      "    chi-square         = 32.477\n",
      "    reduced chi-square = 0.955\n",
      "[[Variables]]\n",
      "    A:   18.1309098 +/- 0.364097 (2.01%) (init= 4)\n",
      "    B:   149.588235 +/- 12.03723 (8.05%) (init= 4)\n",
      "[[Correlations]] (unreported correlations are <  0.100) \n",
      "\n",
      "\n",
      "\n",
      "\n",
      "\n",
      "[[Model]]\n",
      "    Model(poisson)\n",
      "[[Fit Statistics]]\n",
      "    # function evals   = 37\n",
      "    # data points      = 34\n",
      "    # variables        = 2\n",
      "    chi-square         = 31.682\n",
      "    reduced chi-square = 0.990\n",
      "[[Variables]]\n",
      "    A:   18.0650053 +/- 0.322538 (1.79%) (init= 4)\n",
      "    B:   150.314040 +/- 12.28372 (8.17%) (init= 4)\n",
      "[[Correlations]] (unreported correlations are <  0.100) \n",
      "\n",
      "\n",
      "\n",
      "\n",
      "\n",
      "[[Model]]\n",
      "    Model(poisson)\n",
      "[[Fit Statistics]]\n",
      "    # function evals   = 31\n",
      "    # data points      = 11\n",
      "    # variables        = 2\n",
      "    chi-square         = 11.185\n",
      "    reduced chi-square = 1.243\n",
      "[[Variables]]\n",
      "    A:   5.42720419 +/- 0.192413 (3.55%) (init= 4)\n",
      "    B:   171.278003 +/- 14.69903 (8.58%) (init= 4)\n",
      "[[Correlations]] (unreported correlations are <  0.100) \n",
      "\n",
      "\n",
      "\n",
      "\n",
      "\n",
      "[[Model]]\n",
      "    Model(poisson)\n",
      "[[Fit Statistics]]\n",
      "    # function evals   = 47\n",
      "    # data points      = 2\n",
      "    # variables        = 2\n",
      "    chi-square         = 0.000\n",
      "    reduced chi-square = inf\n",
      "[[Variables]]\n",
      "    A:   0.13333333 +/- inf      (inf%) (init= 4)\n",
      "    B:   128.545966 +/- inf      (inf%) (init= 4)\n",
      "[[Correlations]] (unreported correlations are <  0.100) \n",
      "\n",
      "\n",
      "\n",
      "\n",
      "\n"
     ]
    }
   ],
   "source": [
    "for i in alu_fit_reports:\n",
    "    print(i, \"\\n\\n\\n\\n\\n\")"
   ]
  },
  {
   "cell_type": "code",
   "execution_count": 27,
   "metadata": {
    "collapsed": false,
    "scrolled": false
   },
   "outputs": [
    {
     "name": "stdout",
     "output_type": "stream",
     "text": [
      "2.70272631971\n",
      "9.32998702186\n",
      "13.4881904076\n",
      "10.7650478796\n",
      "10.4593732506\n",
      "14.0672928425\n",
      "15.9040492255\n",
      "15.8294255082\n",
      "15.5068786169\n",
      "14.1880660261\n",
      "6.41908414806\n",
      "0.628284318349\n"
     ]
    }
   ],
   "source": [
    "counts_gold = []\n",
    "for i in gold_fit_pars:\n",
    "    print(i[0][\"A\"])\n",
    "    counts_gold.append(i[0][\"A\"])"
   ]
  },
  {
   "cell_type": "code",
   "execution_count": 28,
   "metadata": {
    "collapsed": true
   },
   "outputs": [],
   "source": [
    "x = np.arange(-30,30,5)"
   ]
  },
  {
   "cell_type": "code",
   "execution_count": 29,
   "metadata": {
    "collapsed": true
   },
   "outputs": [],
   "source": [
    "def ruth(x,A,B):\n",
    "    return A/(np.sin((((x*np.pi)/180)-B)/2)**4)"
   ]
  },
  {
   "cell_type": "code",
   "execution_count": 44,
   "metadata": {
    "collapsed": true
   },
   "outputs": [],
   "source": [
    "mod_ruth = models.Model(ruth)\n",
    "pars_2 = mod_ruth.make_params()"
   ]
  },
  {
   "cell_type": "code",
   "execution_count": 45,
   "metadata": {
    "collapsed": false
   },
   "outputs": [],
   "source": [
    "out_2 = mod_ruth.fit(counts_gold,\n",
    "                    pars_2,\n",
    "                    A=0.0001,\n",
    "                    B=0,\n",
    "                    x=x)"
   ]
  },
  {
   "cell_type": "code",
   "execution_count": 46,
   "metadata": {
    "collapsed": false
   },
   "outputs": [],
   "source": [
    "out_2.plot()\n",
    "plt.show()"
   ]
  },
  {
   "cell_type": "code",
   "execution_count": 33,
   "metadata": {
    "collapsed": false
   },
   "outputs": [],
   "source": [
    "plt.plot(x,ruth(x,0.00001,0))\n",
    "plt.show()"
   ]
  },
  {
   "cell_type": "code",
   "execution_count": 34,
   "metadata": {
    "collapsed": false
   },
   "outputs": [
    {
     "name": "stdout",
     "output_type": "stream",
     "text": [
      "4.45665257394\n",
      "19.0702061348\n",
      "20.2855550571\n",
      "20.5041671425\n",
      "20.2618029488\n",
      "20.7719754145\n",
      "20.0822019479\n",
      "19.6534833445\n",
      "18.1309098014\n",
      "18.0650053877\n",
      "5.42720419662\n",
      "0.133333333333\n"
     ]
    }
   ],
   "source": [
    "counts_alu = []\n",
    "for i in alu_fit_pars:\n",
    "    print(i[0][\"A\"])\n",
    "    counts_alu.append(i[0][\"A\"])"
   ]
  },
  {
   "cell_type": "code",
   "execution_count": 43,
   "metadata": {
    "collapsed": false
   },
   "outputs": [
    {
     "name": "stdout",
     "output_type": "stream",
     "text": [
      "[[Model]]\n",
      "    Model(ruth)\n",
      "[[Fit Statistics]]\n",
      "    # function evals   = 3\n",
      "    # data points      = 12\n",
      "    # variables        = 2\n",
      "    chi-square         = inf\n",
      "    reduced chi-square = inf\n",
      "[[Variables]]\n",
      "    A:   1.0000e-08 +/- 0        (0.00%) (init= 1e-08)\n",
      "    B:   1.4901e-08 +/- 0        (0.00%) (init= 0)\n",
      "[[Correlations]] (unreported correlations are <  0.100)\n"
     ]
    }
   ],
   "source": [
    "out_3 = mod_ruth.fit(counts_alu,\n",
    "                    pars_2,\n",
    "                    A=0.00000001,\n",
    "                    B=0,\n",
    "                    x=x)\n",
    "print(out_3.fit_report())"
   ]
  },
  {
   "cell_type": "code",
   "execution_count": 42,
   "metadata": {
    "collapsed": false
   },
   "outputs": [],
   "source": [
    "out_3.plot()\n",
    "plt.show()"
   ]
  },
  {
   "cell_type": "code",
   "execution_count": 37,
   "metadata": {
    "collapsed": false
   },
   "outputs": [
    {
     "data": {
      "text/plain": [
       "0.001388888888888889"
      ]
     },
     "execution_count": 37,
     "metadata": {},
     "output_type": "execute_result"
    }
   ],
   "source": [
    "5/(60**2)"
   ]
  },
  {
   "cell_type": "code",
   "execution_count": null,
   "metadata": {
    "collapsed": true
   },
   "outputs": [],
   "source": []
  }
 ],
 "metadata": {
  "kernelspec": {
   "display_name": "Python 3",
   "language": "python",
   "name": "python3"
  },
  "language_info": {
   "codemirror_mode": {
    "name": "ipython",
    "version": 3
   },
   "file_extension": ".py",
   "mimetype": "text/x-python",
   "name": "python",
   "nbconvert_exporter": "python",
   "pygments_lexer": "ipython3",
   "version": "3.4.3"
  }
 },
 "nbformat": 4,
 "nbformat_minor": 0
}
