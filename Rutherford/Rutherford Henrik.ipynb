{
 "cells": [
  {
   "cell_type": "code",
   "execution_count": 270,
   "metadata": {
    "collapsed": false
   },
   "outputs": [],
   "source": [
    "from scipy import constants,misc as cs,misc\n",
    "from glob import glob\n",
    "import numpy as np\n",
    "import pandas as pd\n",
    "import matplotlib.pyplot as plt\n",
    "from lmfit import models\n",
    "import math"
   ]
  },
  {
   "cell_type": "markdown",
   "metadata": {
    "collapsed": true
   },
   "source": [
    "#Rutherfordstreuung"
   ]
  },
  {
   "cell_type": "markdown",
   "metadata": {},
   "source": [
    "##Rutherfordsteuuformel\n",
    "<br>\n",
    "$\\huge \\huge \\frac{d\\sigma}{d\\Omega} = 1.3 \\cdot 10^{-3} \\left( \\frac{Z_1 Z_2}{E_0} \\right) \\frac{1}{sin^4\\left(\\frac{\\theta}{2}\\right)}$\n",
    "\n",
    "<ul>\n",
    "    <li>$\\sigma$: Differentielle WQ\n",
    "    <li>$\\Theta$: Winkel\n",
    "    <li>$Z_i$: Kernlagundszahl\n",
    "    <li>E: Energie\n",
    "</ul>   "
   ]
  },
  {
   "cell_type": "code",
   "execution_count": 271,
   "metadata": {
    "collapsed": false
   },
   "outputs": [],
   "source": [
    "def rutherfordsteuung(theta,Z_1,Z_2,E,b):\n",
    "    return (Z_1*Z_2*cs.e**2)/(4*E*np.sin((3.14*theta-b)/360)**4)"
   ]
  },
  {
   "cell_type": "code",
   "execution_count": 272,
   "metadata": {
    "collapsed": false
   },
   "outputs": [],
   "source": [
    "file_list_gold = []\n",
    "liste_gold = []\n",
    "for i in glob('/home/arrow13/Git/FP/Rutherford/MessdatenRutherford/Gold/*.txt'):\n",
    "    file_list_gold.append(i)\n",
    "\n",
    "    \n",
    "file_list_gold.sort()   \n",
    "    \n",
    "for i in file_list_gold:\n",
    "    liste_gold.append(np.array(pd.read_csv(i,skiprows=1,delim_whitespace=2)).T)\n",
    "    \n"
   ]
  },
  {
   "cell_type": "code",
   "execution_count": 273,
   "metadata": {
    "collapsed": false
   },
   "outputs": [
    {
     "name": "stdout",
     "output_type": "stream",
     "text": [
      "/home/arrow13/Git/FP/Rutherford/MessdatenRutherford/Gold/2.Messung-30Grad.txt\n",
      "/home/arrow13/Git/FP/Rutherford/MessdatenRutherford/Gold/3.Messung-25Grad.txt\n",
      "/home/arrow13/Git/FP/Rutherford/MessdatenRutherford/Gold/4.Messung-20Grad.txt\n",
      "/home/arrow13/Git/FP/Rutherford/MessdatenRutherford/Gold/5.Messung-15Grad.txt\n",
      "/home/arrow13/Git/FP/Rutherford/MessdatenRutherford/Gold/6.Messung-10Grad.txt\n",
      "/home/arrow13/Git/FP/Rutherford/MessdatenRutherford/Gold/7.Messung-5Grad.txt\n",
      "/home/arrow13/Git/FP/Rutherford/MessdatenRutherford/Gold/8.Messung0Grad.txt\n",
      "/home/arrow13/Git/FP/Rutherford/MessdatenRutherford/Gold/9.Messung5Grad.txt\n",
      "/home/arrow13/Git/FP/Rutherford/MessdatenRutherford/Gold/910.Messung10Grad.txt\n",
      "/home/arrow13/Git/FP/Rutherford/MessdatenRutherford/Gold/911.Messung15Grad.txt\n",
      "/home/arrow13/Git/FP/Rutherford/MessdatenRutherford/Gold/912.Messung20Grad.txt\n",
      "/home/arrow13/Git/FP/Rutherford/MessdatenRutherford/Gold/913.Messung25Grad.txt\n",
      "/home/arrow13/Git/FP/Rutherford/MessdatenRutherford/Gold/914.Messung30Grad.txt\n"
     ]
    }
   ],
   "source": [
    "for i in file_list_gold:\n",
    "    print(i)"
   ]
  },
  {
   "cell_type": "raw",
   "metadata": {},
   "source": [
    "for i in liste_gold:\n",
    "    plt.plot(i[0],i[1],'.')\n",
    "    plt.show()"
   ]
  },
  {
   "cell_type": "code",
   "execution_count": 274,
   "metadata": {
    "collapsed": false
   },
   "outputs": [],
   "source": [
    "def poisson(x,A=2):\n",
    "    return 180*((A**x/misc.factorial(x))*np.e**(-A))"
   ]
  },
  {
   "cell_type": "code",
   "execution_count": 275,
   "metadata": {
    "collapsed": false
   },
   "outputs": [],
   "source": [
    "mod_pos = models.Model(poisson)"
   ]
  },
  {
   "cell_type": "code",
   "execution_count": 276,
   "metadata": {
    "collapsed": false
   },
   "outputs": [
    {
     "name": "stdout",
     "output_type": "stream",
     "text": [
      "13\n"
     ]
    }
   ],
   "source": [
    "print(len(liste_gold))"
   ]
  },
  {
   "cell_type": "raw",
   "metadata": {},
   "source": [
    "pars = mod_pos.make_params()\n",
    "fit = mod_pos.fit(liste_gold[0][1],\n",
    "                  pars,\n",
    "                  A=np.argmax(liste_gold[0][1]),\n",
    "                  B=liste_gold[0][1][A]*misc.factorial(np.argmax(liste_gold[0][1]))/(int(A)**int(A)*np.e**(-A)),\n",
    "                  weights=1/err,\n",
    "                  x=liste_gold[0][0])\n",
    "fit.plot_fit()\n",
    "plt.annotate(str(fit.fit_report()) + \"\\n A: $\\mu$ \\n B:Skalierung\", xytext=(0.5, 15), xy=(1,5))\n",
    "plt.show()\n",
    "print(fit.init_params)"
   ]
  },
  {
   "cell_type": "raw",
   "metadata": {},
   "source": [
    "print(fit.fit_report())"
   ]
  },
  {
   "cell_type": "code",
   "execution_count": 277,
   "metadata": {
    "collapsed": false
   },
   "outputs": [],
   "source": [
    "err = []\n",
    "gold_fit_reports = []\n",
    "gold_fit_pars = []\n",
    "for i in liste_gold:\n",
    "    if i[0].size < 1:\n",
    "        continue\n",
    "    err_temp = None\n",
    "    err_temp = np.sqrt(i[1])\n",
    "    err_temp = np.where(err_temp == 0, 1, err_temp)\n",
    "    err.append(np.where(np.sqrt(i[1]) == 0, 1, np.sqrt(i[1])))\n",
    "    pars = mod_pos.make_params()\n",
    "    fit = mod_pos.fit(i[1],\n",
    "                  pars,\n",
    "                  A= np.sum(i[0]*i[1]/180),\n",
    "                  #B=4\n",
    "                  weights=1/err_temp,\n",
    "                  x=i[0])\n",
    "    gold_fit_reports.append(fit.fit_report())\n",
    "    gold_fit_pars.append(np.array([fit.best_values,fit.chisqr]))\n",
    "    fit.plot()\n",
    "    plt.show()"
   ]
  },
  {
   "cell_type": "code",
   "execution_count": 278,
   "metadata": {
    "collapsed": false,
    "scrolled": true
   },
   "outputs": [
    {
     "name": "stdout",
     "output_type": "stream",
     "text": [
      "[[Model]]\n",
      "    Model(poisson)\n",
      "[[Fit Statistics]]\n",
      "    # function evals   = 9\n",
      "    # data points      = 7\n",
      "    # variables        = 1\n",
      "    chi-square         = 5.514\n",
      "    reduced chi-square = 0.919\n",
      "[[Variables]]\n",
      "    A:   2.69311149 +/- 0.127009 (4.72%) (init= 2.622222)\n",
      "[[Correlations]] (unreported correlations are <  0.100) \n",
      "\n",
      "\n",
      "\n",
      "\n",
      "\n",
      "[[Model]]\n",
      "    Model(poisson)\n",
      "[[Fit Statistics]]\n",
      "    # function evals   = 7\n",
      "    # data points      = 16\n",
      "    # variables        = 1\n",
      "    chi-square         = 6.369\n",
      "    reduced chi-square = 0.425\n",
      "[[Variables]]\n",
      "    A:   9.33346250 +/- 0.157025 (1.68%) (init= 9.111111)\n",
      "[[Correlations]] (unreported correlations are <  0.100) \n",
      "\n",
      "\n",
      "\n",
      "\n",
      "\n",
      "[[Model]]\n",
      "    Model(poisson)\n",
      "[[Fit Statistics]]\n",
      "    # function evals   = 5\n",
      "    # data points      = 26\n",
      "    # variables        = 1\n",
      "    chi-square         = 15.500\n",
      "    reduced chi-square = 0.620\n",
      "[[Variables]]\n",
      "    A:   13.4884681 +/- 0.211516 (1.57%) (init= 13.47222)\n",
      "[[Correlations]] (unreported correlations are <  0.100) \n",
      "\n",
      "\n",
      "\n",
      "\n",
      "\n",
      "[[Model]]\n",
      "    Model(poisson)\n",
      "[[Fit Statistics]]\n",
      "    # function evals   = 7\n",
      "    # data points      = 23\n",
      "    # variables        = 1\n",
      "    chi-square         = 11.818\n",
      "    reduced chi-square = 0.537\n",
      "[[Variables]]\n",
      "    A:   10.7643168 +/- 0.183545 (1.71%) (init= 10.86667)\n",
      "[[Correlations]] (unreported correlations are <  0.100) \n",
      "\n",
      "\n",
      "\n",
      "\n",
      "\n",
      "[[Model]]\n",
      "    Model(poisson)\n",
      "[[Fit Statistics]]\n",
      "    # function evals   = 9\n",
      "    # data points      = 23\n",
      "    # variables        = 1\n",
      "    chi-square         = 23.834\n",
      "    reduced chi-square = 1.083\n",
      "[[Variables]]\n",
      "    A:   10.4608211 +/- 0.236186 (2.26%) (init= 10.82222)\n",
      "[[Correlations]] (unreported correlations are <  0.100) \n",
      "\n",
      "\n",
      "\n",
      "\n",
      "\n",
      "[[Model]]\n",
      "    Model(poisson)\n",
      "[[Fit Statistics]]\n",
      "    # function evals   = 7\n",
      "    # data points      = 25\n",
      "    # variables        = 1\n",
      "    chi-square         = 16.794\n",
      "    reduced chi-square = 0.700\n",
      "[[Variables]]\n",
      "    A:   14.0690842 +/- 0.238498 (1.70%) (init= 14.05556)\n",
      "[[Correlations]] (unreported correlations are <  0.100) \n",
      "\n",
      "\n",
      "\n",
      "\n",
      "\n",
      "[[Model]]\n",
      "    Model(poisson)\n",
      "[[Fit Statistics]]\n",
      "    # function evals   = 7\n",
      "    # data points      = 26\n",
      "    # variables        = 1\n",
      "    chi-square         = 11.700\n",
      "    reduced chi-square = 0.468\n",
      "[[Variables]]\n",
      "    A:   15.9033132 +/- 0.205156 (1.29%) (init= 15.88889)\n",
      "[[Correlations]] (unreported correlations are <  0.100) \n",
      "\n",
      "\n",
      "\n",
      "\n",
      "\n",
      "[[Model]]\n",
      "    Model(poisson)\n",
      "[[Fit Statistics]]\n",
      "    # function evals   = 9\n",
      "    # data points      = 29\n",
      "    # variables        = 1\n",
      "    chi-square         = 22.382\n",
      "    reduced chi-square = 0.799\n",
      "[[Variables]]\n",
      "    A:   15.8315027 +/- 0.248429 (1.57%) (init= 16.09444)\n",
      "[[Correlations]] (unreported correlations are <  0.100) \n",
      "\n",
      "\n",
      "\n",
      "\n",
      "\n",
      "[[Model]]\n",
      "    Model(poisson)\n",
      "[[Fit Statistics]]\n",
      "    # function evals   = 13\n",
      "    # data points      = 27\n",
      "    # variables        = 1\n",
      "    chi-square         = 38.484\n",
      "    reduced chi-square = 1.480\n",
      "[[Variables]]\n",
      "    A:   15.5120929 +/- 0.292703 (1.89%) (init= 12.98889)\n",
      "[[Correlations]] (unreported correlations are <  0.100) \n",
      "\n",
      "\n",
      "\n",
      "\n",
      "\n",
      "[[Model]]\n",
      "    Model(poisson)\n",
      "[[Fit Statistics]]\n",
      "    # function evals   = 7\n",
      "    # data points      = 27\n",
      "    # variables        = 1\n",
      "    chi-square         = 19.902\n",
      "    reduced chi-square = 0.765\n",
      "[[Variables]]\n",
      "    A:   14.1964377 +/- 0.240049 (1.69%) (init= 14.11111)\n",
      "[[Correlations]] (unreported correlations are <  0.100) \n",
      "\n",
      "\n",
      "\n",
      "\n",
      "\n",
      "[[Model]]\n",
      "    Model(poisson)\n",
      "[[Fit Statistics]]\n",
      "    # function evals   = 7\n",
      "    # data points      = 12\n",
      "    # variables        = 1\n",
      "    chi-square         = 17.985\n",
      "    reduced chi-square = 1.635\n",
      "[[Variables]]\n",
      "    A:   6.42552232 +/- 0.224094 (3.49%) (init= 6.422222)\n",
      "[[Correlations]] (unreported correlations are <  0.100) \n",
      "\n",
      "\n",
      "\n",
      "\n",
      "\n",
      "[[Model]]\n",
      "    Model(poisson)\n",
      "[[Fit Statistics]]\n",
      "    # function evals   = 11\n",
      "    # data points      = 3\n",
      "    # variables        = 1\n",
      "    chi-square         = 2.587\n",
      "    reduced chi-square = 1.293\n",
      "[[Variables]]\n",
      "    A:   0.68564527 +/- 0.088730 (12.94%) (init= 0.7166667)\n",
      "[[Correlations]] (unreported correlations are <  0.100) \n",
      "\n",
      "\n",
      "\n",
      "\n",
      "\n",
      "[[Model]]\n",
      "    Model(poisson)\n",
      "[[Fit Statistics]]\n",
      "    # function evals   = 7\n",
      "    # data points      = 1\n",
      "    # variables        = 1\n",
      "    chi-square         = 0.000\n",
      "    reduced chi-square = nan\n",
      "[[Variables]]\n",
      "    A:   0.07161619 +/- nan      (nan%) (init= 0.06666667)\n",
      "[[Correlations]] (unreported correlations are <  0.100) \n",
      "\n",
      "\n",
      "\n",
      "\n",
      "\n"
     ]
    }
   ],
   "source": [
    "for i in gold_fit_reports:\n",
    "    print(i, \"\\n\\n\\n\\n\\n\")"
   ]
  },
  {
   "cell_type": "code",
   "execution_count": 279,
   "metadata": {
    "collapsed": false
   },
   "outputs": [],
   "source": [
    "file_list_alu = []\n",
    "liste_alu = []\n",
    "for i in glob('/home/arrow13/Git/FP/Rutherford/MessdatenRutherford/Alu/*.txt'):\n",
    "    file_list_alu.append(i)\n",
    "\n",
    "    \n",
    "file_list_alu.sort()    \n",
    "    \n",
    "for i in file_list_alu:\n",
    "    liste_alu.append(np.array(pd.read_csv(i,skiprows=1,delim_whitespace=2)).T)\n",
    "    \n"
   ]
  },
  {
   "cell_type": "code",
   "execution_count": 280,
   "metadata": {
    "collapsed": false
   },
   "outputs": [
    {
     "name": "stdout",
     "output_type": "stream",
     "text": [
      "/home/arrow13/Git/FP/Rutherford/MessdatenRutherford/Alu/1.txt\n",
      "/home/arrow13/Git/FP/Rutherford/MessdatenRutherford/Alu/2.txt\n",
      "/home/arrow13/Git/FP/Rutherford/MessdatenRutherford/Alu/3.txt\n",
      "/home/arrow13/Git/FP/Rutherford/MessdatenRutherford/Alu/4.txt\n",
      "/home/arrow13/Git/FP/Rutherford/MessdatenRutherford/Alu/5.txt\n",
      "/home/arrow13/Git/FP/Rutherford/MessdatenRutherford/Alu/6.txt\n",
      "/home/arrow13/Git/FP/Rutherford/MessdatenRutherford/Alu/7.txt\n",
      "/home/arrow13/Git/FP/Rutherford/MessdatenRutherford/Alu/8.txt\n",
      "/home/arrow13/Git/FP/Rutherford/MessdatenRutherford/Alu/9.txt\n",
      "/home/arrow13/Git/FP/Rutherford/MessdatenRutherford/Alu/91.txt\n",
      "/home/arrow13/Git/FP/Rutherford/MessdatenRutherford/Alu/92.txt\n",
      "/home/arrow13/Git/FP/Rutherford/MessdatenRutherford/Alu/93.txt\n",
      "/home/arrow13/Git/FP/Rutherford/MessdatenRutherford/Alu/94.txt\n"
     ]
    }
   ],
   "source": [
    "for i in file_list_alu:\n",
    "    print(i)"
   ]
  },
  {
   "cell_type": "code",
   "execution_count": 281,
   "metadata": {
    "collapsed": false
   },
   "outputs": [],
   "source": [
    "alu_fit_reports = []\n",
    "alu_fit_pars = []\n",
    "for i in liste_alu:\n",
    "    if i[0].size < 1:\n",
    "        continue\n",
    "    err_temp = None\n",
    "    err_temp = np.sqrt(i[1])\n",
    "    err_temp = np.where(err_temp == 0, 1, err_temp)\n",
    "    pars = mod_pos.make_params()\n",
    "    fit = mod_pos.fit(i[1],\n",
    "                  pars,\n",
    "                  A= np.sum(i[0]*i[1]/180),\n",
    "                  #B=4,\n",
    "                  weights=1/err_temp,\n",
    "                  x=i[0])\n",
    "    alu_fit_reports.append(fit.fit_report())\n",
    "    alu_fit_pars.append(np.array([fit.best_values,fit.chisqr]))\n",
    "    fit.plot()\n",
    "    plt.show()"
   ]
  },
  {
   "cell_type": "code",
   "execution_count": 282,
   "metadata": {
    "collapsed": false,
    "scrolled": true
   },
   "outputs": [
    {
     "name": "stdout",
     "output_type": "stream",
     "text": [
      "[[Model]]\n",
      "    Model(poisson)\n",
      "[[Fit Statistics]]\n",
      "    # function evals   = 7\n",
      "    # data points      = 1\n",
      "    # variables        = 1\n",
      "    chi-square         = 0.000\n",
      "    reduced chi-square = nan\n",
      "[[Variables]]\n",
      "    A:   0.04049605 +/- nan      (nan%) (init= 0.03888889)\n",
      "[[Correlations]] (unreported correlations are <  0.100) \n",
      "\n",
      "\n",
      "\n",
      "\n",
      "\n",
      "[[Model]]\n",
      "    Model(poisson)\n",
      "[[Fit Statistics]]\n",
      "    # function evals   = 9\n",
      "    # data points      = 12\n",
      "    # variables        = 1\n",
      "    chi-square         = 85.254\n",
      "    reduced chi-square = 7.750\n",
      "[[Variables]]\n",
      "    A:   4.43410949 +/- 0.321198 (7.24%) (init= 2.577778)\n",
      "[[Correlations]] (unreported correlations are <  0.100) \n",
      "\n",
      "\n",
      "\n",
      "\n",
      "\n",
      "[[Model]]\n",
      "    Model(poisson)\n",
      "[[Fit Statistics]]\n",
      "    # function evals   = 9\n",
      "    # data points      = 31\n",
      "    # variables        = 1\n",
      "    chi-square         = 23.188\n",
      "    reduced chi-square = 0.773\n",
      "[[Variables]]\n",
      "    A:   19.0763670 +/- 0.262827 (1.38%) (init= 19.03889)\n",
      "[[Correlations]] (unreported correlations are <  0.100) \n",
      "\n",
      "\n",
      "\n",
      "\n",
      "\n",
      "[[Model]]\n",
      "    Model(poisson)\n",
      "[[Fit Statistics]]\n",
      "    # function evals   = 7\n",
      "    # data points      = 31\n",
      "    # variables        = 1\n",
      "    chi-square         = 15.367\n",
      "    reduced chi-square = 0.512\n",
      "[[Variables]]\n",
      "    A:   20.2869002 +/- 0.230552 (1.14%) (init= 20.27778)\n",
      "[[Correlations]] (unreported correlations are <  0.100) \n",
      "\n",
      "\n",
      "\n",
      "\n",
      "\n",
      "[[Model]]\n",
      "    Model(poisson)\n",
      "[[Fit Statistics]]\n",
      "    # function evals   = 7\n",
      "    # data points      = 34\n",
      "    # variables        = 1\n",
      "    chi-square         = 20.641\n",
      "    reduced chi-square = 0.625\n",
      "[[Variables]]\n",
      "    A:   20.4977673 +/- 0.268535 (1.31%) (init= 20.77222)\n",
      "[[Correlations]] (unreported correlations are <  0.100) \n",
      "\n",
      "\n",
      "\n",
      "\n",
      "\n",
      "[[Model]]\n",
      "    Model(poisson)\n",
      "[[Fit Statistics]]\n",
      "    # function evals   = 9\n",
      "    # data points      = 36\n",
      "    # variables        = 1\n",
      "    chi-square         = 27.977\n",
      "    reduced chi-square = 0.799\n",
      "[[Variables]]\n",
      "    A:   20.2644674 +/- 0.283451 (1.40%) (init= 20.57222)\n",
      "[[Correlations]] (unreported correlations are <  0.100) \n",
      "\n",
      "\n",
      "\n",
      "\n",
      "\n",
      "[[Model]]\n",
      "    Model(poisson)\n",
      "[[Fit Statistics]]\n",
      "    # function evals   = 7\n",
      "    # data points      = 34\n",
      "    # variables        = 1\n",
      "    chi-square         = 22.551\n",
      "    reduced chi-square = 0.683\n",
      "[[Variables]]\n",
      "    A:   20.7795956 +/- 0.284234 (1.37%) (init= 20.66667)\n",
      "[[Correlations]] (unreported correlations are <  0.100) \n",
      "\n",
      "\n",
      "\n",
      "\n",
      "\n",
      "[[Model]]\n",
      "    Model(poisson)\n",
      "[[Fit Statistics]]\n",
      "    # function evals   = 11\n",
      "    # data points      = 34\n",
      "    # variables        = 1\n",
      "    chi-square         = 31.581\n",
      "    reduced chi-square = 0.957\n",
      "[[Variables]]\n",
      "    A:   20.1110805 +/- 0.298345 (1.48%) (init= 20.06667)\n",
      "[[Correlations]] (unreported correlations are <  0.100) \n",
      "\n",
      "\n",
      "\n",
      "\n",
      "\n",
      "[[Model]]\n",
      "    Model(poisson)\n",
      "[[Fit Statistics]]\n",
      "    # function evals   = 7\n",
      "    # data points      = 32\n",
      "    # variables        = 1\n",
      "    chi-square         = 31.447\n",
      "    reduced chi-square = 1.014\n",
      "[[Variables]]\n",
      "    A:   19.6439417 +/- 0.321847 (1.64%) (init= 19.59444)\n",
      "[[Correlations]] (unreported correlations are <  0.100) \n",
      "\n",
      "\n",
      "\n",
      "\n",
      "\n",
      "[[Model]]\n",
      "    Model(poisson)\n",
      "[[Fit Statistics]]\n",
      "    # function evals   = 9\n",
      "    # data points      = 36\n",
      "    # variables        = 1\n",
      "    chi-square         = 38.574\n",
      "    reduced chi-square = 1.102\n",
      "[[Variables]]\n",
      "    A:   18.1254990 +/- 0.324967 (1.79%) (init= 18.86111)\n",
      "[[Correlations]] (unreported correlations are <  0.100) \n",
      "\n",
      "\n",
      "\n",
      "\n",
      "\n",
      "[[Model]]\n",
      "    Model(poisson)\n",
      "[[Fit Statistics]]\n",
      "    # function evals   = 13\n",
      "    # data points      = 34\n",
      "    # variables        = 1\n",
      "    chi-square         = 37.465\n",
      "    reduced chi-square = 1.135\n",
      "[[Variables]]\n",
      "    A:   18.0762561 +/- 0.288399 (1.60%) (init= 17.77778)\n",
      "[[Correlations]] (unreported correlations are <  0.100) \n",
      "\n",
      "\n",
      "\n",
      "\n",
      "\n",
      "[[Model]]\n",
      "    Model(poisson)\n",
      "[[Fit Statistics]]\n",
      "    # function evals   = 7\n",
      "    # data points      = 11\n",
      "    # variables        = 1\n",
      "    chi-square         = 11.623\n",
      "    reduced chi-square = 1.162\n",
      "[[Variables]]\n",
      "    A:   5.42903874 +/- 0.177044 (3.26%) (init= 5.433333)\n",
      "[[Correlations]] (unreported correlations are <  0.100) \n",
      "\n",
      "\n",
      "\n",
      "\n",
      "\n",
      "[[Model]]\n",
      "    Model(poisson)\n",
      "[[Fit Statistics]]\n",
      "    # function evals   = 7\n",
      "    # data points      = 2\n",
      "    # variables        = 1\n",
      "    chi-square         = 0.087\n",
      "    reduced chi-square = 0.087\n",
      "[[Variables]]\n",
      "    A:   0.09404542 +/- 0.007186 (7.64%) (init= 0.09444444)\n",
      "[[Correlations]] (unreported correlations are <  0.100) \n",
      "\n",
      "\n",
      "\n",
      "\n",
      "\n"
     ]
    }
   ],
   "source": [
    "for i in alu_fit_reports:\n",
    "    print(i, \"\\n\\n\\n\\n\\n\")"
   ]
  },
  {
   "cell_type": "code",
   "execution_count": 297,
   "metadata": {
    "collapsed": false,
    "scrolled": false
   },
   "outputs": [
    {
     "name": "stdout",
     "output_type": "stream",
     "text": [
      "2.69311149507\n",
      "9.33346250927\n",
      "13.4884681247\n",
      "10.7643168551\n",
      "10.4608211662\n",
      "14.0690842744\n",
      "15.9033132573\n",
      "15.8315027462\n",
      "15.5120929698\n",
      "14.196437795\n",
      "6.42552232643\n",
      "0.685645278551\n",
      "0.0716161978804\n"
     ]
    }
   ],
   "source": [
    "counts_gold = []\n",
    "for i in gold_fit_pars:\n",
    "    print(i[0][\"A\"])\n",
    "    counts_gold.append(i[0][\"A\"])"
   ]
  },
  {
   "cell_type": "code",
   "execution_count": 284,
   "metadata": {
    "collapsed": true
   },
   "outputs": [],
   "source": [
    "x = np.arange(-30,35,5)"
   ]
  },
  {
   "cell_type": "code",
   "execution_count": 285,
   "metadata": {
    "collapsed": true
   },
   "outputs": [],
   "source": [
    "def ruth(x,A,B):\n",
    "    return A/(np.sin((((x-B)*np.pi)/180)/2)**4)"
   ]
  },
  {
   "cell_type": "code",
   "execution_count": 286,
   "metadata": {
    "collapsed": true
   },
   "outputs": [],
   "source": [
    "mod_ruth = models.Model(ruth)\n",
    "pars_2 = mod_ruth.make_params()"
   ]
  },
  {
   "cell_type": "code",
   "execution_count": 287,
   "metadata": {
    "collapsed": false
   },
   "outputs": [],
   "source": [
    "out_2 = mod_ruth.fit(counts_gold,\n",
    "                    pars_2,\n",
    "                    A=0.0001,\n",
    "                    B=0,\n",
    "                    x=x)"
   ]
  },
  {
   "cell_type": "code",
   "execution_count": 288,
   "metadata": {
    "collapsed": false
   },
   "outputs": [],
   "source": [
    "out_2.plot()\n",
    "plt.show()"
   ]
  },
  {
   "cell_type": "code",
   "execution_count": 289,
   "metadata": {
    "collapsed": false
   },
   "outputs": [],
   "source": [
    "plt.plot(x,ruth(x,0.00001,0))\n",
    "plt.show()"
   ]
  },
  {
   "cell_type": "code",
   "execution_count": 290,
   "metadata": {
    "collapsed": false
   },
   "outputs": [
    {
     "name": "stdout",
     "output_type": "stream",
     "text": [
      "0.0404960579622\n",
      "4.43410949318\n",
      "19.0763670946\n",
      "20.2869002053\n",
      "20.4977673505\n",
      "20.2644674548\n",
      "20.7795956772\n",
      "20.1110804962\n",
      "19.6439416954\n",
      "18.125499003\n",
      "18.0762561128\n",
      "5.4290387455\n",
      "0.0940454223862\n"
     ]
    }
   ],
   "source": [
    "counts_alu = []\n",
    "for i in alu_fit_pars:\n",
    "    print(i[0][\"A\"])\n",
    "    counts_alu.append(i[0][\"A\"])"
   ]
  },
  {
   "cell_type": "code",
   "execution_count": 291,
   "metadata": {
    "collapsed": false
   },
   "outputs": [
    {
     "name": "stdout",
     "output_type": "stream",
     "text": [
      "[[Model]]\n",
      "    Model(ruth)\n",
      "[[Fit Statistics]]\n",
      "    # function evals   = 3\n",
      "    # data points      = 13\n",
      "    # variables        = 2\n",
      "    chi-square         = inf\n",
      "    reduced chi-square = inf\n",
      "[[Variables]]\n",
      "    A:   1.0000e-08 +/- 0        (0.00%) (init= 1e-08)\n",
      "    B:   1.4901e-08 +/- 0        (0.00%) (init= 0)\n",
      "[[Correlations]] (unreported correlations are <  0.100)\n"
     ]
    }
   ],
   "source": [
    "out_3 = mod_ruth.fit(counts_alu,\n",
    "                    pars_2,\n",
    "                    A=0.00000001,\n",
    "                    B=0,\n",
    "                    x=x)\n",
    "print(out_3.fit_report())"
   ]
  },
  {
   "cell_type": "code",
   "execution_count": 292,
   "metadata": {
    "collapsed": false
   },
   "outputs": [],
   "source": [
    "out_3.plot()\n",
    "plt.show()"
   ]
  },
  {
   "cell_type": "code",
   "execution_count": 299,
   "metadata": {
    "collapsed": false
   },
   "outputs": [
    {
     "name": "stderr",
     "output_type": "stream",
     "text": [
      "/home/arrow13/anaconda3/lib/python3.4/site-packages/matplotlib/axes/_axes.py:475: UserWarning: No labelled objects found. Use label='...' kwarg on individual plots.\n",
      "  warnings.warn(\"No labelled objects found. \"\n"
     ]
    }
   ],
   "source": [
    "plt.plot(x,counts_gold, 'r.')\n",
    "plt.legend(loc = 'best', fontsize = 22)\n",
    "plt.tick_params(labelsize= 22)\n",
    "plt.ylabel(r\"Counts/s\", fontsize = 26)\n",
    "plt.xlabel(\"theta$/^{\\circ}$\", fontsize = 26)\n",
    "plt.show()"
   ]
  },
  {
   "cell_type": "code",
   "execution_count": null,
   "metadata": {
    "collapsed": false
   },
   "outputs": [],
   "source": [
    "plt.plot(x,counts_alu, 'r.')\n",
    "plt.legend(loc = 'best', fontsize = 22)\n",
    "plt.tick_params(labelsize= 22)\n",
    "plt.ylabel(r\"Counts/s\", fontsize = 26)\n",
    "plt.xlabel(\"theta$/^{\\circ}$\", fontsize = 26)\n",
    "plt.show()"
   ]
  },
  {
   "cell_type": "code",
   "execution_count": 295,
   "metadata": {
    "collapsed": false
   },
   "outputs": [
    {
     "name": "stdout",
     "output_type": "stream",
     "text": [
      "13\n"
     ]
    },
    {
     "data": {
      "text/plain": [
       "13"
      ]
     },
     "execution_count": 295,
     "metadata": {},
     "output_type": "execute_result"
    }
   ],
   "source": [
    "print(x.size)\n",
    "len(counts_alu)"
   ]
  },
  {
   "cell_type": "code",
   "execution_count": null,
   "metadata": {
    "collapsed": true
   },
   "outputs": [],
   "source": []
  }
 ],
 "metadata": {
  "kernelspec": {
   "display_name": "Python 3",
   "language": "python",
   "name": "python3"
  },
  "language_info": {
   "codemirror_mode": {
    "name": "ipython",
    "version": 3
   },
   "file_extension": ".py",
   "mimetype": "text/x-python",
   "name": "python",
   "nbconvert_exporter": "python",
   "pygments_lexer": "ipython3",
   "version": "3.4.3"
  }
 },
 "nbformat": 4,
 "nbformat_minor": 0
}
