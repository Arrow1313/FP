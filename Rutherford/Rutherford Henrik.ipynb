{
 "cells": [
  {
   "cell_type": "code",
   "execution_count": 307,
   "metadata": {
    "collapsed": false
   },
   "outputs": [],
   "source": [
    "from scipy import constants,misc as cs,misc\n",
    "from glob import glob\n",
    "import numpy as np\n",
    "import pandas as pd\n",
    "import matplotlib.pyplot as plt\n",
    "from lmfit import models\n",
    "import math"
   ]
  },
  {
   "cell_type": "markdown",
   "metadata": {
    "collapsed": true
   },
   "source": [
    "#Rutherfordstreuung"
   ]
  },
  {
   "cell_type": "markdown",
   "metadata": {},
   "source": [
    "##Rutherfordsteuuformel\n",
    "<br>\n",
    "$\\huge \\huge \\frac{d\\sigma}{d\\Omega} = 1.3 \\cdot 10^{-3} \\left( \\frac{Z_1 Z_2}{E_0} \\right) \\frac{1}{sin^4\\left(\\frac{\\theta}{2}\\right)}$\n",
    "\n",
    "<ul>\n",
    "    <li>$\\sigma$: Differentielle WQ\n",
    "    <li>$\\Theta$: Winkel\n",
    "    <li>$Z_i$: Kernlagundszahl\n",
    "    <li>E: Energie\n",
    "</ul>   "
   ]
  },
  {
   "cell_type": "code",
   "execution_count": 308,
   "metadata": {
    "collapsed": false
   },
   "outputs": [],
   "source": [
    "def rutherfordsteuung(theta,Z_1,Z_2,E,b):\n",
    "    return (Z_1*Z_2*cs.e**2)/(4*E*np.sin((3.14*theta-b)/360)**4)"
   ]
  },
  {
   "cell_type": "code",
   "execution_count": 309,
   "metadata": {
    "collapsed": false
   },
   "outputs": [],
   "source": [
    "file_list_gold = []\n",
    "liste_gold = []\n",
    "for i in glob('/home/arrow13/Git/FP/Rutherford/MessdatenRutherford/Gold/*.txt'):\n",
    "    file_list_gold.append(i)\n",
    "\n",
    "    \n",
    "file_list_gold.sort()   \n",
    "    \n",
    "for i in file_list_gold:\n",
    "    liste_gold.append(np.array(pd.read_csv(i,skiprows=0,delim_whitespace=2)).T)\n",
    "    \n"
   ]
  },
  {
   "cell_type": "code",
   "execution_count": 310,
   "metadata": {
    "collapsed": false
   },
   "outputs": [
    {
     "name": "stdout",
     "output_type": "stream",
     "text": [
      "/home/arrow13/Git/FP/Rutherford/MessdatenRutherford/Gold/2.Messung-30Grad.txt\n",
      "/home/arrow13/Git/FP/Rutherford/MessdatenRutherford/Gold/3.Messung-25Grad.txt\n",
      "/home/arrow13/Git/FP/Rutherford/MessdatenRutherford/Gold/4.Messung-20Grad.txt\n",
      "/home/arrow13/Git/FP/Rutherford/MessdatenRutherford/Gold/5.Messung-15Grad.txt\n",
      "/home/arrow13/Git/FP/Rutherford/MessdatenRutherford/Gold/6.Messung-10Grad.txt\n",
      "/home/arrow13/Git/FP/Rutherford/MessdatenRutherford/Gold/7.Messung-5Grad.txt\n",
      "/home/arrow13/Git/FP/Rutherford/MessdatenRutherford/Gold/8.Messung0Grad.txt\n",
      "/home/arrow13/Git/FP/Rutherford/MessdatenRutherford/Gold/9.Messung5Grad.txt\n",
      "/home/arrow13/Git/FP/Rutherford/MessdatenRutherford/Gold/910.Messung10Grad.txt\n",
      "/home/arrow13/Git/FP/Rutherford/MessdatenRutherford/Gold/911.Messung15Grad.txt\n",
      "/home/arrow13/Git/FP/Rutherford/MessdatenRutherford/Gold/912.Messung20Grad.txt\n",
      "/home/arrow13/Git/FP/Rutherford/MessdatenRutherford/Gold/913.Messung25Grad.txt\n",
      "/home/arrow13/Git/FP/Rutherford/MessdatenRutherford/Gold/914.Messung30Grad.txt\n"
     ]
    }
   ],
   "source": [
    "for i in file_list_gold:\n",
    "    print(i)"
   ]
  },
  {
   "cell_type": "raw",
   "metadata": {},
   "source": [
    "for i in liste_gold:\n",
    "    plt.plot(i[0],i[1],'.')\n",
    "    plt.show()"
   ]
  },
  {
   "cell_type": "code",
   "execution_count": 311,
   "metadata": {
    "collapsed": false
   },
   "outputs": [],
   "source": [
    "def poisson(x,A=2):\n",
    "    return 180*((A**x/misc.factorial(x))*np.e**(-A))"
   ]
  },
  {
   "cell_type": "code",
   "execution_count": 312,
   "metadata": {
    "collapsed": false
   },
   "outputs": [],
   "source": [
    "mod_pos = models.Model(poisson)"
   ]
  },
  {
   "cell_type": "code",
   "execution_count": 313,
   "metadata": {
    "collapsed": false
   },
   "outputs": [
    {
     "name": "stdout",
     "output_type": "stream",
     "text": [
      "13\n"
     ]
    }
   ],
   "source": [
    "print(len(liste_gold))"
   ]
  },
  {
   "cell_type": "raw",
   "metadata": {},
   "source": [
    "pars = mod_pos.make_params()\n",
    "fit = mod_pos.fit(liste_gold[0][1],\n",
    "                  pars,\n",
    "                  A=np.argmax(liste_gold[0][1]),\n",
    "                  B=liste_gold[0][1][A]*misc.factorial(np.argmax(liste_gold[0][1]))/(int(A)**int(A)*np.e**(-A)),\n",
    "                  weights=1/err,\n",
    "                  x=liste_gold[0][0])\n",
    "fit.plot_fit()\n",
    "plt.annotate(str(fit.fit_report()) + \"\\n A: $\\mu$ \\n B:Skalierung\", xytext=(0.5, 15), xy=(1,5))\n",
    "plt.show()\n",
    "print(fit.init_params)"
   ]
  },
  {
   "cell_type": "raw",
   "metadata": {},
   "source": [
    "print(fit.fit_report())"
   ]
  },
  {
   "cell_type": "code",
   "execution_count": 314,
   "metadata": {
    "collapsed": false
   },
   "outputs": [],
   "source": [
    "err = []\n",
    "gold_fit_reports = []\n",
    "gold_fit_pars = []\n",
    "for i in liste_gold:\n",
    "    if i[0].size < 1:\n",
    "        continue\n",
    "    err_temp = None\n",
    "    err_temp = np.sqrt(i[1])\n",
    "    err_temp = np.where(err_temp == 0, 1, err_temp)\n",
    "    err.append(np.where(np.sqrt(i[1]) == 0, 1, np.sqrt(i[1])))\n",
    "    pars = mod_pos.make_params()\n",
    "    fit = mod_pos.fit(i[1],\n",
    "                  pars,\n",
    "                  A= np.sum(i[0]*i[1]/180),\n",
    "                  #B=4\n",
    "                  weights=1/err_temp,\n",
    "                  x=i[0])\n",
    "    gold_fit_reports.append(fit.fit_report())\n",
    "    gold_fit_pars.append(np.array([fit.best_values,fit.chisqr]))\n",
    "    fit.plot()\n",
    "    plt.show()"
   ]
  },
  {
   "cell_type": "code",
   "execution_count": 315,
   "metadata": {
    "collapsed": false,
    "scrolled": true
   },
   "outputs": [
    {
     "name": "stdout",
     "output_type": "stream",
     "text": [
      "[[Model]]\n",
      "    Model(poisson)\n",
      "[[Fit Statistics]]\n",
      "    # function evals   = 7\n",
      "    # data points      = 8\n",
      "    # variables        = 1\n",
      "    chi-square         = 7.155\n",
      "    reduced chi-square = 1.022\n",
      "[[Variables]]\n",
      "    A:   2.63197289 +/- 0.125664 (4.77%) (init= 2.622222)\n",
      "[[Correlations]] (unreported correlations are <  0.100) \n",
      "\n",
      "\n",
      "\n",
      "\n",
      "\n",
      "[[Model]]\n",
      "    Model(poisson)\n",
      "[[Fit Statistics]]\n",
      "    # function evals   = 7\n",
      "    # data points      = 17\n",
      "    # variables        = 1\n",
      "    chi-square         = 7.338\n",
      "    reduced chi-square = 0.459\n",
      "[[Variables]]\n",
      "    A:   9.33255011 +/- 0.163175 (1.75%) (init= 9.111111)\n",
      "[[Correlations]] (unreported correlations are <  0.100) \n",
      "\n",
      "\n",
      "\n",
      "\n",
      "\n",
      "[[Model]]\n",
      "    Model(poisson)\n",
      "[[Fit Statistics]]\n",
      "    # function evals   = 5\n",
      "    # data points      = 27\n",
      "    # variables        = 1\n",
      "    chi-square         = 15.500\n",
      "    reduced chi-square = 0.596\n",
      "[[Variables]]\n",
      "    A:   13.4884681 +/- 0.207408 (1.54%) (init= 13.47222)\n",
      "[[Correlations]] (unreported correlations are <  0.100) \n",
      "\n",
      "\n",
      "\n",
      "\n",
      "\n",
      "[[Model]]\n",
      "    Model(poisson)\n",
      "[[Fit Statistics]]\n",
      "    # function evals   = 7\n",
      "    # data points      = 24\n",
      "    # variables        = 1\n",
      "    chi-square         = 11.818\n",
      "    reduced chi-square = 0.514\n",
      "[[Variables]]\n",
      "    A:   10.7643177 +/- 0.179511 (1.67%) (init= 10.86667)\n",
      "[[Correlations]] (unreported correlations are <  0.100) \n",
      "\n",
      "\n",
      "\n",
      "\n",
      "\n",
      "[[Model]]\n",
      "    Model(poisson)\n",
      "[[Fit Statistics]]\n",
      "    # function evals   = 9\n",
      "    # data points      = 24\n",
      "    # variables        = 1\n",
      "    chi-square         = 23.834\n",
      "    reduced chi-square = 1.036\n",
      "[[Variables]]\n",
      "    A:   10.4608224 +/- 0.230995 (2.21%) (init= 10.82222)\n",
      "[[Correlations]] (unreported correlations are <  0.100) \n",
      "\n",
      "\n",
      "\n",
      "\n",
      "\n",
      "[[Model]]\n",
      "    Model(poisson)\n",
      "[[Fit Statistics]]\n",
      "    # function evals   = 7\n",
      "    # data points      = 26\n",
      "    # variables        = 1\n",
      "    chi-square         = 16.794\n",
      "    reduced chi-square = 0.672\n",
      "[[Variables]]\n",
      "    A:   14.0690842 +/- 0.233679 (1.66%) (init= 14.05556)\n",
      "[[Correlations]] (unreported correlations are <  0.100) \n",
      "\n",
      "\n",
      "\n",
      "\n",
      "\n",
      "[[Model]]\n",
      "    Model(poisson)\n",
      "[[Fit Statistics]]\n",
      "    # function evals   = 7\n",
      "    # data points      = 27\n",
      "    # variables        = 1\n",
      "    chi-square         = 11.700\n",
      "    reduced chi-square = 0.450\n",
      "[[Variables]]\n",
      "    A:   15.9033132 +/- 0.201172 (1.26%) (init= 15.88889)\n",
      "[[Correlations]] (unreported correlations are <  0.100) \n",
      "\n",
      "\n",
      "\n",
      "\n",
      "\n",
      "[[Model]]\n",
      "    Model(poisson)\n",
      "[[Fit Statistics]]\n",
      "    # function evals   = 9\n",
      "    # data points      = 30\n",
      "    # variables        = 1\n",
      "    chi-square         = 22.382\n",
      "    reduced chi-square = 0.772\n",
      "[[Variables]]\n",
      "    A:   15.8315027 +/- 0.244108 (1.54%) (init= 16.09444)\n",
      "[[Correlations]] (unreported correlations are <  0.100) \n",
      "\n",
      "\n",
      "\n",
      "\n",
      "\n",
      "[[Model]]\n",
      "    Model(poisson)\n",
      "[[Fit Statistics]]\n",
      "    # function evals   = 13\n",
      "    # data points      = 28\n",
      "    # variables        = 1\n",
      "    chi-square         = 38.484\n",
      "    reduced chi-square = 1.425\n",
      "[[Variables]]\n",
      "    A:   15.5120929 +/- 0.287231 (1.85%) (init= 12.98889)\n",
      "[[Correlations]] (unreported correlations are <  0.100) \n",
      "\n",
      "\n",
      "\n",
      "\n",
      "\n",
      "[[Model]]\n",
      "    Model(poisson)\n",
      "[[Fit Statistics]]\n",
      "    # function evals   = 7\n",
      "    # data points      = 28\n",
      "    # variables        = 1\n",
      "    chi-square         = 19.902\n",
      "    reduced chi-square = 0.737\n",
      "[[Variables]]\n",
      "    A:   14.1964378 +/- 0.235562 (1.66%) (init= 14.11111)\n",
      "[[Correlations]] (unreported correlations are <  0.100) \n",
      "\n",
      "\n",
      "\n",
      "\n",
      "\n",
      "[[Model]]\n",
      "    Model(poisson)\n",
      "[[Fit Statistics]]\n",
      "    # function evals   = 7\n",
      "    # data points      = 13\n",
      "    # variables        = 1\n",
      "    chi-square         = 18.485\n",
      "    reduced chi-square = 1.540\n",
      "[[Variables]]\n",
      "    A:   6.42009763 +/- 0.217179 (3.38%) (init= 6.422222)\n",
      "[[Correlations]] (unreported correlations are <  0.100) \n",
      "\n",
      "\n",
      "\n",
      "\n",
      "\n",
      "[[Model]]\n",
      "    Model(poisson)\n",
      "[[Fit Statistics]]\n",
      "    # function evals   = 9\n",
      "    # data points      = 4\n",
      "    # variables        = 1\n",
      "    chi-square         = 2.940\n",
      "    reduced chi-square = 0.980\n",
      "[[Variables]]\n",
      "    A:   0.71027864 +/- 0.061317 (8.63%) (init= 0.7166667)\n",
      "[[Correlations]] (unreported correlations are <  0.100) \n",
      "\n",
      "\n",
      "\n",
      "\n",
      "\n",
      "[[Model]]\n",
      "    Model(poisson)\n",
      "[[Fit Statistics]]\n",
      "    # function evals   = 7\n",
      "    # data points      = 2\n",
      "    # variables        = 1\n",
      "    chi-square         = 0.001\n",
      "    reduced chi-square = 0.001\n",
      "[[Variables]]\n",
      "    A:   0.07141524 +/- 0.000698 (0.98%) (init= 0.06666667)\n",
      "[[Correlations]] (unreported correlations are <  0.100) \n",
      "\n",
      "\n",
      "\n",
      "\n",
      "\n"
     ]
    }
   ],
   "source": [
    "for i in gold_fit_reports:\n",
    "    print(i, \"\\n\\n\\n\\n\\n\")"
   ]
  },
  {
   "cell_type": "code",
   "execution_count": 316,
   "metadata": {
    "collapsed": false
   },
   "outputs": [],
   "source": [
    "file_list_alu = []\n",
    "liste_alu = []\n",
    "for i in glob('/home/arrow13/Git/FP/Rutherford/MessdatenRutherford/Alu/*.txt'):\n",
    "    file_list_alu.append(i)\n",
    "\n",
    "    \n",
    "file_list_alu.sort()    \n",
    "    \n",
    "for i in file_list_alu:\n",
    "    liste_alu.append(np.array(pd.read_csv(i,skiprows=0,delim_whitespace=2)).T)\n",
    "    \n"
   ]
  },
  {
   "cell_type": "code",
   "execution_count": 317,
   "metadata": {
    "collapsed": false
   },
   "outputs": [
    {
     "name": "stdout",
     "output_type": "stream",
     "text": [
      "/home/arrow13/Git/FP/Rutherford/MessdatenRutherford/Alu/1.txt\n",
      "/home/arrow13/Git/FP/Rutherford/MessdatenRutherford/Alu/2.txt\n",
      "/home/arrow13/Git/FP/Rutherford/MessdatenRutherford/Alu/3.txt\n",
      "/home/arrow13/Git/FP/Rutherford/MessdatenRutherford/Alu/4.txt\n",
      "/home/arrow13/Git/FP/Rutherford/MessdatenRutherford/Alu/5.txt\n",
      "/home/arrow13/Git/FP/Rutherford/MessdatenRutherford/Alu/6.txt\n",
      "/home/arrow13/Git/FP/Rutherford/MessdatenRutherford/Alu/7.txt\n",
      "/home/arrow13/Git/FP/Rutherford/MessdatenRutherford/Alu/8.txt\n",
      "/home/arrow13/Git/FP/Rutherford/MessdatenRutherford/Alu/9.txt\n",
      "/home/arrow13/Git/FP/Rutherford/MessdatenRutherford/Alu/91.txt\n",
      "/home/arrow13/Git/FP/Rutherford/MessdatenRutherford/Alu/92.txt\n",
      "/home/arrow13/Git/FP/Rutherford/MessdatenRutherford/Alu/93.txt\n",
      "/home/arrow13/Git/FP/Rutherford/MessdatenRutherford/Alu/94.txt\n"
     ]
    }
   ],
   "source": [
    "for i in file_list_alu:\n",
    "    print(i)"
   ]
  },
  {
   "cell_type": "code",
   "execution_count": 318,
   "metadata": {
    "collapsed": false
   },
   "outputs": [],
   "source": [
    "alu_fit_reports = []\n",
    "alu_fit_pars = []\n",
    "for i in liste_alu:\n",
    "    if i[0].size < 1:\n",
    "        continue\n",
    "    err_temp = None\n",
    "    err_temp = np.sqrt(i[1])\n",
    "    err_temp = np.where(err_temp == 0, 1, err_temp)\n",
    "    pars = mod_pos.make_params()\n",
    "    fit = mod_pos.fit(i[1],\n",
    "                  pars,\n",
    "                  A= np.sum(i[0]*i[1]/180),\n",
    "                  #B=4,\n",
    "                  weights=1/err_temp,\n",
    "                  x=i[0])\n",
    "    alu_fit_reports.append(fit.fit_report())\n",
    "    alu_fit_pars.append(np.array([fit.best_values,fit.chisqr]))\n",
    "    fit.plot()\n",
    "    plt.show()"
   ]
  },
  {
   "cell_type": "code",
   "execution_count": 319,
   "metadata": {
    "collapsed": false,
    "scrolled": true
   },
   "outputs": [
    {
     "name": "stdout",
     "output_type": "stream",
     "text": [
      "[[Model]]\n",
      "    Model(poisson)\n",
      "[[Fit Statistics]]\n",
      "    # function evals   = 7\n",
      "    # data points      = 2\n",
      "    # variables        = 1\n",
      "    chi-square         = 0.000\n",
      "    reduced chi-square = 0.000\n",
      "[[Variables]]\n",
      "    A:   0.04046106 +/- 0.000167 (0.41%) (init= 0.03888889)\n",
      "[[Correlations]] (unreported correlations are <  0.100) \n",
      "\n",
      "\n",
      "\n",
      "\n",
      "\n",
      "[[Model]]\n",
      "    Model(poisson)\n",
      "[[Fit Statistics]]\n",
      "    # function evals   = 11\n",
      "    # data points      = 13\n",
      "    # variables        = 1\n",
      "    chi-square         = 85.498\n",
      "    reduced chi-square = 7.125\n",
      "[[Variables]]\n",
      "    A:   4.42602200 +/- 0.304756 (6.89%) (init= 2.577778)\n",
      "[[Correlations]] (unreported correlations are <  0.100) \n",
      "\n",
      "\n",
      "\n",
      "\n",
      "\n",
      "[[Model]]\n",
      "    Model(poisson)\n",
      "[[Fit Statistics]]\n",
      "    # function evals   = 9\n",
      "    # data points      = 32\n",
      "    # variables        = 1\n",
      "    chi-square         = 23.188\n",
      "    reduced chi-square = 0.748\n",
      "[[Variables]]\n",
      "    A:   19.0763671 +/- 0.258553 (1.36%) (init= 19.03889)\n",
      "[[Correlations]] (unreported correlations are <  0.100) \n",
      "\n",
      "\n",
      "\n",
      "\n",
      "\n",
      "[[Model]]\n",
      "    Model(poisson)\n",
      "[[Fit Statistics]]\n",
      "    # function evals   = 7\n",
      "    # data points      = 32\n",
      "    # variables        = 1\n",
      "    chi-square         = 15.367\n",
      "    reduced chi-square = 0.496\n",
      "[[Variables]]\n",
      "    A:   20.2869002 +/- 0.226803 (1.12%) (init= 20.27778)\n",
      "[[Correlations]] (unreported correlations are <  0.100) \n",
      "\n",
      "\n",
      "\n",
      "\n",
      "\n",
      "[[Model]]\n",
      "    Model(poisson)\n",
      "[[Fit Statistics]]\n",
      "    # function evals   = 7\n",
      "    # data points      = 35\n",
      "    # variables        = 1\n",
      "    chi-square         = 20.641\n",
      "    reduced chi-square = 0.607\n",
      "[[Variables]]\n",
      "    A:   20.4977673 +/- 0.264556 (1.29%) (init= 20.77222)\n",
      "[[Correlations]] (unreported correlations are <  0.100) \n",
      "\n",
      "\n",
      "\n",
      "\n",
      "\n",
      "[[Model]]\n",
      "    Model(poisson)\n",
      "[[Fit Statistics]]\n",
      "    # function evals   = 9\n",
      "    # data points      = 37\n",
      "    # variables        = 1\n",
      "    chi-square         = 27.977\n",
      "    reduced chi-square = 0.777\n",
      "[[Variables]]\n",
      "    A:   20.2644674 +/- 0.279486 (1.38%) (init= 20.57222)\n",
      "[[Correlations]] (unreported correlations are <  0.100) \n",
      "\n",
      "\n",
      "\n",
      "\n",
      "\n",
      "[[Model]]\n",
      "    Model(poisson)\n",
      "[[Fit Statistics]]\n",
      "    # function evals   = 7\n",
      "    # data points      = 35\n",
      "    # variables        = 1\n",
      "    chi-square         = 22.551\n",
      "    reduced chi-square = 0.663\n",
      "[[Variables]]\n",
      "    A:   20.7795956 +/- 0.280023 (1.35%) (init= 20.66667)\n",
      "[[Correlations]] (unreported correlations are <  0.100) \n",
      "\n",
      "\n",
      "\n",
      "\n",
      "\n",
      "[[Model]]\n",
      "    Model(poisson)\n",
      "[[Fit Statistics]]\n",
      "    # function evals   = 11\n",
      "    # data points      = 35\n",
      "    # variables        = 1\n",
      "    chi-square         = 31.581\n",
      "    reduced chi-square = 0.929\n",
      "[[Variables]]\n",
      "    A:   20.1110805 +/- 0.293925 (1.46%) (init= 20.06667)\n",
      "[[Correlations]] (unreported correlations are <  0.100) \n",
      "\n",
      "\n",
      "\n",
      "\n",
      "\n",
      "[[Model]]\n",
      "    Model(poisson)\n",
      "[[Fit Statistics]]\n",
      "    # function evals   = 7\n",
      "    # data points      = 33\n",
      "    # variables        = 1\n",
      "    chi-square         = 31.447\n",
      "    reduced chi-square = 0.983\n",
      "[[Variables]]\n",
      "    A:   19.6439417 +/- 0.316778 (1.61%) (init= 19.59444)\n",
      "[[Correlations]] (unreported correlations are <  0.100) \n",
      "\n",
      "\n",
      "\n",
      "\n",
      "\n",
      "[[Model]]\n",
      "    Model(poisson)\n",
      "[[Fit Statistics]]\n",
      "    # function evals   = 9\n",
      "    # data points      = 37\n",
      "    # variables        = 1\n",
      "    chi-square         = 38.574\n",
      "    reduced chi-square = 1.072\n",
      "[[Variables]]\n",
      "    A:   18.1254990 +/- 0.320422 (1.77%) (init= 18.86111)\n",
      "[[Correlations]] (unreported correlations are <  0.100) \n",
      "\n",
      "\n",
      "\n",
      "\n",
      "\n",
      "[[Model]]\n",
      "    Model(poisson)\n",
      "[[Fit Statistics]]\n",
      "    # function evals   = 13\n",
      "    # data points      = 35\n",
      "    # variables        = 1\n",
      "    chi-square         = 37.465\n",
      "    reduced chi-square = 1.102\n",
      "[[Variables]]\n",
      "    A:   18.0762561 +/- 0.284127 (1.57%) (init= 17.77778)\n",
      "[[Correlations]] (unreported correlations are <  0.100) \n",
      "\n",
      "\n",
      "\n",
      "\n",
      "\n",
      "[[Model]]\n",
      "    Model(poisson)\n",
      "[[Fit Statistics]]\n",
      "    # function evals   = 9\n",
      "    # data points      = 12\n",
      "    # variables        = 1\n",
      "    chi-square         = 12.238\n",
      "    reduced chi-square = 1.113\n",
      "[[Variables]]\n",
      "    A:   5.44305272 +/- 0.171943 (3.16%) (init= 5.433333)\n",
      "[[Correlations]] (unreported correlations are <  0.100) \n",
      "\n",
      "\n",
      "\n",
      "\n",
      "\n",
      "[[Model]]\n",
      "    Model(poisson)\n",
      "[[Fit Statistics]]\n",
      "    # function evals   = 7\n",
      "    # data points      = 3\n",
      "    # variables        = 1\n",
      "    chi-square         = 0.087\n",
      "    reduced chi-square = 0.044\n",
      "[[Variables]]\n",
      "    A:   0.09395867 +/- 0.004855 (5.17%) (init= 0.09444444)\n",
      "[[Correlations]] (unreported correlations are <  0.100) \n",
      "\n",
      "\n",
      "\n",
      "\n",
      "\n"
     ]
    }
   ],
   "source": [
    "for i in alu_fit_reports:\n",
    "    print(i, \"\\n\\n\\n\\n\\n\")"
   ]
  },
  {
   "cell_type": "code",
   "execution_count": 320,
   "metadata": {
    "collapsed": false,
    "scrolled": false
   },
   "outputs": [
    {
     "name": "stdout",
     "output_type": "stream",
     "text": [
      "2.63197289084\n",
      "9.33255011146\n",
      "13.4884681301\n",
      "10.7643177925\n",
      "10.4608224312\n",
      "14.0690842775\n",
      "15.9033132574\n",
      "15.8315027463\n",
      "15.5120929706\n",
      "14.196437796\n",
      "6.42009762971\n",
      "0.710278647736\n",
      "0.0714152482036\n"
     ]
    }
   ],
   "source": [
    "counts_gold = []\n",
    "for i in gold_fit_pars:\n",
    "    print(i[0][\"A\"])\n",
    "    counts_gold.append(i[0][\"A\"])"
   ]
  },
  {
   "cell_type": "code",
   "execution_count": 321,
   "metadata": {
    "collapsed": true
   },
   "outputs": [],
   "source": [
    "x = np.arange(-30,35,5)"
   ]
  },
  {
   "cell_type": "code",
   "execution_count": 322,
   "metadata": {
    "collapsed": true
   },
   "outputs": [],
   "source": [
    "def ruth(x,A,B):\n",
    "    return A/(np.sin((((x-B)*np.pi)/180)/2)**4)"
   ]
  },
  {
   "cell_type": "code",
   "execution_count": 323,
   "metadata": {
    "collapsed": true
   },
   "outputs": [],
   "source": [
    "mod_ruth = models.Model(ruth)\n",
    "pars_2 = mod_ruth.make_params()"
   ]
  },
  {
   "cell_type": "code",
   "execution_count": 324,
   "metadata": {
    "collapsed": false
   },
   "outputs": [],
   "source": [
    "out_2 = mod_ruth.fit(counts_gold,\n",
    "                    pars_2,\n",
    "                    A=0.0001,\n",
    "                    B=0,\n",
    "                    x=x)"
   ]
  },
  {
   "cell_type": "code",
   "execution_count": 325,
   "metadata": {
    "collapsed": false
   },
   "outputs": [],
   "source": [
    "out_2.plot()\n",
    "plt.show()"
   ]
  },
  {
   "cell_type": "code",
   "execution_count": 326,
   "metadata": {
    "collapsed": false
   },
   "outputs": [],
   "source": [
    "plt.plot(x,ruth(x,0.00001,0))\n",
    "plt.show()"
   ]
  },
  {
   "cell_type": "code",
   "execution_count": 327,
   "metadata": {
    "collapsed": false
   },
   "outputs": [
    {
     "name": "stdout",
     "output_type": "stream",
     "text": [
      "0.0404610693939\n",
      "4.42602200433\n",
      "19.0763670952\n",
      "20.2869002051\n",
      "20.4977673514\n",
      "20.264467455\n",
      "20.7795956766\n",
      "20.1110804962\n",
      "19.6439416953\n",
      "18.1254990007\n",
      "18.0762561143\n",
      "5.4430527236\n",
      "0.0939586721674\n"
     ]
    }
   ],
   "source": [
    "counts_alu = []\n",
    "for i in alu_fit_pars:\n",
    "    print(i[0][\"A\"])\n",
    "    counts_alu.append(i[0][\"A\"])"
   ]
  },
  {
   "cell_type": "code",
   "execution_count": 328,
   "metadata": {
    "collapsed": false
   },
   "outputs": [
    {
     "name": "stdout",
     "output_type": "stream",
     "text": [
      "[[Model]]\n",
      "    Model(ruth)\n",
      "[[Fit Statistics]]\n",
      "    # function evals   = 3\n",
      "    # data points      = 13\n",
      "    # variables        = 2\n",
      "    chi-square         = inf\n",
      "    reduced chi-square = inf\n",
      "[[Variables]]\n",
      "    A:   1.0000e-08 +/- 0        (0.00%) (init= 1e-08)\n",
      "    B:   1.4901e-08 +/- 0        (0.00%) (init= 0)\n",
      "[[Correlations]] (unreported correlations are <  0.100)\n"
     ]
    }
   ],
   "source": [
    "out_3 = mod_ruth.fit(counts_alu,\n",
    "                    pars_2,\n",
    "                    A=0.00000001,\n",
    "                    B=0,\n",
    "                    x=x)\n",
    "print(out_3.fit_report())"
   ]
  },
  {
   "cell_type": "code",
   "execution_count": 329,
   "metadata": {
    "collapsed": false
   },
   "outputs": [],
   "source": [
    "out_3.plot()\n",
    "plt.show()"
   ]
  },
  {
   "cell_type": "code",
   "execution_count": 330,
   "metadata": {
    "collapsed": false
   },
   "outputs": [
    {
     "name": "stderr",
     "output_type": "stream",
     "text": [
      "/home/arrow13/anaconda3/lib/python3.4/site-packages/matplotlib/axes/_axes.py:475: UserWarning: No labelled objects found. Use label='...' kwarg on individual plots.\n",
      "  warnings.warn(\"No labelled objects found. \"\n"
     ]
    }
   ],
   "source": [
    "plt.plot(x,counts_gold, 'r.')\n",
    "plt.legend(loc = 'best', fontsize = 22)\n",
    "plt.tick_params(labelsize= 22)\n",
    "plt.ylabel(r\"Counts/s\", fontsize = 26)\n",
    "plt.xlabel(\"theta$/^{\\circ}$\", fontsize = 26)\n",
    "plt.show()"
   ]
  },
  {
   "cell_type": "code",
   "execution_count": 331,
   "metadata": {
    "collapsed": false
   },
   "outputs": [
    {
     "name": "stderr",
     "output_type": "stream",
     "text": [
      "/home/arrow13/anaconda3/lib/python3.4/site-packages/matplotlib/axes/_axes.py:475: UserWarning: No labelled objects found. Use label='...' kwarg on individual plots.\n",
      "  warnings.warn(\"No labelled objects found. \"\n"
     ]
    }
   ],
   "source": [
    "plt.plot(x,counts_alu, 'r.')\n",
    "plt.legend(loc = 'best', fontsize = 22)\n",
    "plt.tick_params(labelsize= 22)\n",
    "plt.ylabel(r\"Counts/s\", fontsize = 26)\n",
    "plt.xlabel(\"theta$/^{\\circ}$\", fontsize = 26)\n",
    "plt.show()"
   ]
  },
  {
   "cell_type": "code",
   "execution_count": 332,
   "metadata": {
    "collapsed": false
   },
   "outputs": [
    {
     "name": "stdout",
     "output_type": "stream",
     "text": [
      "13\n"
     ]
    },
    {
     "data": {
      "text/plain": [
       "13"
      ]
     },
     "execution_count": 332,
     "metadata": {},
     "output_type": "execute_result"
    }
   ],
   "source": [
    "print(x.size)\n",
    "len(counts_alu)"
   ]
  },
  {
   "cell_type": "code",
   "execution_count": 333,
   "metadata": {
    "collapsed": false
   },
   "outputs": [
    {
     "name": "stdout",
     "output_type": "stream",
     "text": [
      "180\n",
      "[[  0   1]\n",
      " [173   7]]\n",
      "101\n",
      "[[ 0  1  2  3  4  5  6  7  8  9 10 11 12]\n",
      " [ 3  4 11 16 19 16 12 11  2  4  1  1  1]]\n",
      "180\n",
      "[[ 0  1  2  3  4  5  6  7  8  9 10 11 12 13 14 15 16 17 18 19 20 21 22 23\n",
      "  24 25 26 27 28 29 30 31]\n",
      " [ 0  0  0  0  0  0  0  0  0  2  1  2  3  4 12  6 18 18 20 14 24 12 12  8\n",
      "   6  5  4  2  1  5  0  1]]\n",
      "180\n",
      "[[ 0  1  2  3  4  5  6  7  8  9 10 11 12 13 14 15 16 17 18 19 20 21 22 23\n",
      "  24 25 26 27 28 29 30 31]\n",
      " [ 0  0  0  0  0  0  0  0  0  0  0  2  5  5  4  5 10 14 13 16 20 18 17 10\n",
      "  15  9  4  5  5  1  1  1]]\n",
      "180\n",
      "[[ 0  1  2  3  4  5  6  7  8  9 10 11 12 13 14 15 16 17 18 19 20 21 22 23\n",
      "  24 25 26 27 28 29 30 31 32 33 34]\n",
      " [ 0  0  0  0  0  0  0  0  0  0  0  1  2  2  8  9 11 15 18 18 15 10 10  8\n",
      "  13 11  9  3  3  4  2  3  2  1  2]]\n",
      "180\n",
      "[[ 0  1  2  3  4  5  6  7  8  9 10 11 12 13 14 15 16 17 18 19 20 21 22 23\n",
      "  24 25 26 27 28 29 30 31 32 33 34 35 36]\n",
      " [ 0  0  0  0  0  0  0  0  0  0  1  2  2  5  9  6  6 15 16  9 18 17 17  8\n",
      "  13 15  8  2  4  1  2  1  2  0  0  0  1]]\n",
      "180\n",
      "[[ 0  1  2  3  4  5  6  7  8  9 10 11 12 13 14 15 16 17 18 19 20 21 22 23\n",
      "  24 25 26 27 28 29 30 31 32 33 34]\n",
      " [ 0  0  0  0  0  0  0  0  0  0  1  1  1  5  9  9 13 14 14  8 12  9 19 13\n",
      "  13 12  8  7  4  4  1  1  0  1  1]]\n",
      "180\n",
      "[[ 0  1  2  3  4  5  6  7  8  9 10 11 12 13 14 15 16 17 18 19 20 21 22 23\n",
      "  24 25 26 27 28 29 30 31 32 33 34]\n",
      " [ 0  0  0  0  0  0  0  0  0  0  1  1  2  3  4 15  6 11 15 27 21 13 15 12\n",
      "  10  5  8  5  5  0  0  0  0  0  1]]\n",
      "180\n",
      "[[ 0  1  2  3  4  5  6  7  8  9 10 11 12 13 14 15 16 17 18 19 20 21 22 23\n",
      "  24 25 26 27 28 29 30 31 32]\n",
      " [ 0  0  0  0  0  0  0  0  0  0  1  0  5  4  9 14 13  9 20 12 26  7 16 15\n",
      "   9  6  5  2  2  2  2  0  1]]\n",
      "180\n",
      "[[ 0  1  2  3  4  5  6  7  8  9 10 11 12 13 14 15 16 17 18 19 20 21 22 23\n",
      "  24 25 26 27 28 29 30 31 32 33 34 35 36]\n",
      " [ 0  0  0  0  0  0  0  1  1  0  6  3  4  9 13 14 13  9 18 16 13  9  5 10\n",
      "  13  9  1  4  3  0  1  1  1  1  0  1  1]]\n",
      "180\n",
      "[[ 0  1  2  3  4  5  6  7  8  9 10 11 12 13 14 15 16 17 18 19 20 21 22 23\n",
      "  24 25 26 27 28 29 30 31 32 33 34]\n",
      " [ 0  0  0  0  0  0  0  0  1  1  5  1 12  6 15 18  8 17 19 17 15 13 11  6\n",
      "   8  2  1  1  2  0  0  0  0  0  1]]\n",
      "180\n",
      "[[ 0  1  2  3  4  5  6  7  8  9 10 11]\n",
      " [ 0  3  8 18 36 38 22 23 15 13  3  1]]\n",
      "180\n",
      "[[  0   1   2]\n",
      " [164  15   1]]\n"
     ]
    }
   ],
   "source": [
    "for i in liste_alu:\n",
    "    a= np.sum(i[1])\n",
    "    print(a)\n",
    "    print(i)"
   ]
  },
  {
   "cell_type": "code",
   "execution_count": 334,
   "metadata": {
    "collapsed": false
   },
   "outputs": [
    {
     "name": "stdout",
     "output_type": "stream",
     "text": [
      "180\n",
      "[[ 0  1  2  3  4  5  6  7]\n",
      " [18 33 35 40 31 14  8  1]]\n",
      "180\n",
      "[[ 0  1  2  3  4  5  6  7  8  9 10 11 12 13 14 15 16]\n",
      " [ 1  0  1  4  4 13 11 17 26 24 19 21 16 10  6  3  4]]\n",
      "180\n",
      "[[ 0  1  2  3  4  5  6  7  8  9 10 11 12 13 14 15 16 17 18 19 20 21 22 23\n",
      "  24 25 26]\n",
      " [ 0  0  0  0  0  4  3  2  6 12 14 13 26 15 17 16 13 14  6  8  3  2  1  3\n",
      "   1  0  1]]\n",
      "180\n",
      "[[ 0  1  2  3  4  5  6  7  8  9 10 11 12 13 14 15 16 17 18 19 20 21 22 23]\n",
      " [ 0  0  0  0  4  4  8 16 18 17 19 15 18 22 13 12  7  2  2  1  1  0  0  1]]\n",
      "180\n",
      "[[ 0  1  2  3  4  5  6  7  8  9 10 11 12 13 14 15 16 17 18 19 20 21 22 23]\n",
      " [ 0  0  1  0  1  5  9 16 16 25 15 19 22 15 13  5  2  9  3  0  2  1  0  1]]\n",
      "180\n",
      "[[ 0  1  2  3  4  5  6  7  8  9 10 11 12 13 14 15 16 17 18 19 20 21 22 23\n",
      "  24 25]\n",
      " [ 0  0  0  0  0  1  3  3  7  6 15 15 19 10 18 15 17 16 16  6  5  2  3  1\n",
      "   1  1]]\n",
      "180\n",
      "[[ 0  1  2  3  4  5  6  7  8  9 10 11 12 13 14 15 16 17 18 19 20 21 22 23\n",
      "  24 25 26]\n",
      " [ 0  0  0  0  0  0  0  0  2  5  6 15  9 12 20 17 18 13 18 11 10  9  7  5\n",
      "   1  1  1]]\n",
      "180\n",
      "[[ 0  1  2  3  4  5  6  7  8  9 10 11 12 13 14 15 16 17 18 19 20 21 22 23\n",
      "  24 25 26 27 28 29]\n",
      " [ 0  0  0  0  0  0  0  1  3  2  4  7 15 19 20 15 16 16 12 17 13  3  3  3\n",
      "   6  3  1  0  0  1]]\n",
      "152\n",
      "[[ 0  1  2  3  4  5  6  7  8  9 10 11 12 13 14 15 16 17 18 19 20 21 22 23\n",
      "  24 25 26 27]\n",
      " [ 0  0  0  0  0  0  0  1  2  1  9  9 10 19 16 15 14 19  8 11  3  5  3  3\n",
      "   1  2  0  1]]\n",
      "180\n",
      "[[ 0  1  2  3  4  5  6  7  8  9 10 11 12 13 14 15 16 17 18 19 20 21 22 23\n",
      "  24 25 26 27]\n",
      " [ 0  0  0  0  0  3  1  6  3  8  7 13 21 18 19 25 12  9  9  6 10  6  2  1\n",
      "   0  0  0  1]]\n",
      "180\n",
      "[[ 0  1  2  3  4  5  6  7  8  9 10 11 12]\n",
      " [ 1  1  5 11 16 34 20 31 29 19  6  6  1]]\n",
      "180\n",
      "[[ 0  1  2  3]\n",
      " [84 66 27  3]]\n",
      "180\n",
      "[[  0   1]\n",
      " [168  12]]\n"
     ]
    }
   ],
   "source": [
    "for i in liste_gold:\n",
    "    a= np.sum(i[1])\n",
    "    print(a)\n",
    "    print(i)"
   ]
  },
  {
   "cell_type": "code",
   "execution_count": null,
   "metadata": {
    "collapsed": true
   },
   "outputs": [],
   "source": []
  }
 ],
 "metadata": {
  "kernelspec": {
   "display_name": "Python 3",
   "language": "python",
   "name": "python3"
  },
  "language_info": {
   "codemirror_mode": {
    "name": "ipython",
    "version": 3
   },
   "file_extension": ".py",
   "mimetype": "text/x-python",
   "name": "python",
   "nbconvert_exporter": "python",
   "pygments_lexer": "ipython3",
   "version": "3.4.3"
  }
 },
 "nbformat": 4,
 "nbformat_minor": 0
}
