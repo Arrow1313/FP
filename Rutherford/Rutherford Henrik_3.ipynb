{
 "cells": [
  {
   "cell_type": "code",
   "execution_count": 19,
   "metadata": {
    "collapsed": false
   },
   "outputs": [],
   "source": [
    "from scipy import constants,misc as cs,misc\n",
    "from glob import glob\n",
    "import numpy as np\n",
    "import pandas as pd\n",
    "import matplotlib.pyplot as plt\n",
    "from lmfit import models\n",
    "import math"
   ]
  },
  {
   "cell_type": "code",
   "execution_count": 20,
   "metadata": {
    "collapsed": true
   },
   "outputs": [],
   "source": [
    "%matplotlib qt"
   ]
  },
  {
   "cell_type": "markdown",
   "metadata": {
    "collapsed": true
   },
   "source": [
    "#Rutherfordstreuung"
   ]
  },
  {
   "cell_type": "markdown",
   "metadata": {},
   "source": [
    "##Rutherfordsteuuformel\n",
    "<br>\n",
    "$\\huge \\huge \\frac{d\\sigma}{d\\Omega} = 1.3 \\cdot 10^{-3} \\left( \\frac{Z_1 Z_2}{E_0} \\right) \\frac{1}{sin^4\\left(\\frac{\\theta}{2}\\right)}$\n",
    "\n",
    "<ul>\n",
    "    <li>$\\sigma$: Differentielle WQ\n",
    "    <li>$\\Theta$: Winkel\n",
    "    <li>$Z_i$: Kernlagundszahl\n",
    "    <li>E: Energie\n",
    "</ul>   "
   ]
  },
  {
   "cell_type": "code",
   "execution_count": 21,
   "metadata": {
    "collapsed": false
   },
   "outputs": [],
   "source": [
    "def rutherfordsteuung(theta,Z_1,Z_2,E,b):\n",
    "    return (Z_1*Z_2*cs.e**2)/(4*E*np.sin((3.14*theta-b)/360)**4)"
   ]
  },
  {
   "cell_type": "code",
   "execution_count": 22,
   "metadata": {
    "collapsed": false
   },
   "outputs": [],
   "source": [
    "file_list_gold = []\n",
    "liste_gold = []\n",
    "for i in glob('/home/frederik/Dokumente/FP/Rutherford/MessdatenRutherford/Gold2/*.txt'):\n",
    "    file_list_gold.append(i)\n",
    "\n",
    "    \n",
    "file_list_gold.sort()   \n",
    "    \n",
    "for i in file_list_gold:\n",
    "    liste_gold.append(np.array(pd.read_csv(i,skiprows=0,delim_whitespace=2)).T)\n",
    "    \n"
   ]
  },
  {
   "cell_type": "code",
   "execution_count": 23,
   "metadata": {
    "collapsed": false
   },
   "outputs": [
    {
     "name": "stdout",
     "output_type": "stream",
     "text": [
      "/home/frederik/Dokumente/FP/Rutherford/MessdatenRutherford/Gold2/1.Messung-30GradGold.txt\n",
      "/home/frederik/Dokumente/FP/Rutherford/MessdatenRutherford/Gold2/2.Messung-25GradGold.txt\n",
      "/home/frederik/Dokumente/FP/Rutherford/MessdatenRutherford/Gold2/3.Messung-20GradGold.txt\n",
      "/home/frederik/Dokumente/FP/Rutherford/MessdatenRutherford/Gold2/4.Messung-15GradGold.txt\n",
      "/home/frederik/Dokumente/FP/Rutherford/MessdatenRutherford/Gold2/5.Messung-10GradGold.txt\n",
      "/home/frederik/Dokumente/FP/Rutherford/MessdatenRutherford/Gold2/6.Messung-5GradGold.txt\n",
      "/home/frederik/Dokumente/FP/Rutherford/MessdatenRutherford/Gold2/7.Messung0GradGold.txt\n",
      "/home/frederik/Dokumente/FP/Rutherford/MessdatenRutherford/Gold2/8.Messung5GradGold.txt\n",
      "/home/frederik/Dokumente/FP/Rutherford/MessdatenRutherford/Gold2/9.Messung10GradGold.txt\n",
      "/home/frederik/Dokumente/FP/Rutherford/MessdatenRutherford/Gold2/910.Messung15GradGold.txt\n",
      "/home/frederik/Dokumente/FP/Rutherford/MessdatenRutherford/Gold2/911.Messung20GradGold.txt\n",
      "/home/frederik/Dokumente/FP/Rutherford/MessdatenRutherford/Gold2/912.Messung25GradGold.txt\n",
      "/home/frederik/Dokumente/FP/Rutherford/MessdatenRutherford/Gold2/913.Messung30GradGold.txt\n"
     ]
    }
   ],
   "source": [
    "for i in file_list_gold:\n",
    "    print(i)"
   ]
  },
  {
   "cell_type": "raw",
   "metadata": {},
   "source": [
    "for i in liste_gold:\n",
    "    plt.plot(i[0],i[1],'.')\n",
    "    plt.show()"
   ]
  },
  {
   "cell_type": "code",
   "execution_count": 24,
   "metadata": {
    "collapsed": false
   },
   "outputs": [],
   "source": [
    "def poisson(x,B,A=2):\n",
    "    return B*((A**x/misc.factorial(x))*np.e**(-A))"
   ]
  },
  {
   "cell_type": "code",
   "execution_count": 25,
   "metadata": {
    "collapsed": false
   },
   "outputs": [
    {
     "name": "stdout",
     "output_type": "stream",
     "text": [
      "4\n",
      "4\n",
      "4\n",
      "4\n",
      "8\n",
      "20\n",
      "46\n",
      "58\n",
      "30\n",
      "8\n",
      "4\n",
      "4\n",
      "4\n"
     ]
    }
   ],
   "source": [
    "for i in liste_gold:\n",
    "    print(i.size)"
   ]
  },
  {
   "cell_type": "code",
   "execution_count": 26,
   "metadata": {
    "collapsed": false
   },
   "outputs": [],
   "source": [
    "mod_pos = models.Model(poisson)"
   ]
  },
  {
   "cell_type": "code",
   "execution_count": 27,
   "metadata": {
    "collapsed": false
   },
   "outputs": [],
   "source": [
    "err = []\n",
    "gold_fit_reports = []\n",
    "gold_fit_pars = []\n",
    "for i in liste_gold:\n",
    "    if i[0].size < 1:\n",
    "        continue\n",
    "    err_temp = None\n",
    "    err_temp = np.sqrt(i[1])\n",
    "    err_temp = np.where(err_temp == 0, 1, err_temp)\n",
    "    err.append(np.where(np.sqrt(i[1]) == 0, 1, np.sqrt(i[1])))\n",
    "    pars = mod_pos.make_params()\n",
    "    pars['B'].set(vary=False)\n",
    "    fit = mod_pos.fit(i[1],\n",
    "                  pars,\n",
    "                  A= np.sum(i[0]*i[1]/180),\n",
    "                  B=np.sum(i[1]),\n",
    "                  weights=1/err_temp,\n",
    "                  x=i[0])\n",
    "    gold_fit_reports.append(fit.fit_report())\n",
    "    gold_fit_pars.append(np.array([fit.best_values,fit.chisqr]))\n",
    "    fit.plot()\n",
    "    plt.show()"
   ]
  },
  {
   "cell_type": "code",
   "execution_count": 28,
   "metadata": {
    "collapsed": false,
    "scrolled": true
   },
   "outputs": [
    {
     "name": "stdout",
     "output_type": "stream",
     "text": [
      "[[Model]]\n",
      "    Model(poisson)\n",
      "[[Fit Statistics]]\n",
      "    # function evals   = 6\n",
      "    # data points      = 2\n",
      "    # variables        = 1\n",
      "    chi-square         = 0.000\n",
      "    reduced chi-square = 0.000\n",
      "[[Variables]]\n",
      "    A:   0.00558659 +/- 1.17e-06 (0.02%) (init= 0.005555556)\n",
      "    B:   180 (fixed)\n",
      "[[Correlations]] (unreported correlations are <  0.100) \n",
      "\n",
      "\n",
      "\n",
      "\n",
      "\n",
      "[[Model]]\n",
      "    Model(poisson)\n",
      "[[Fit Statistics]]\n",
      "    # function evals   = 6\n",
      "    # data points      = 2\n",
      "    # variables        = 1\n",
      "    chi-square         = 0.000\n",
      "    reduced chi-square = 0.000\n",
      "[[Variables]]\n",
      "    A:   0.01685389 +/- 1.85e-05 (0.11%) (init= 0.01666667)\n",
      "    B:   181 (fixed)\n",
      "[[Correlations]] (unreported correlations are <  0.100) \n",
      "\n",
      "\n",
      "\n",
      "\n",
      "\n",
      "[[Model]]\n",
      "    Model(poisson)\n",
      "[[Fit Statistics]]\n",
      "    # function evals   = 6\n",
      "    # data points      = 2\n",
      "    # variables        = 1\n",
      "    chi-square         = 0.000\n",
      "    reduced chi-square = 0.000\n",
      "[[Variables]]\n",
      "    A:   0.02857109 +/- 6.97e-05 (0.24%) (init= 0.02777778)\n",
      "    B:   180 (fixed)\n",
      "[[Correlations]] (unreported correlations are <  0.100) \n",
      "\n",
      "\n",
      "\n",
      "\n",
      "\n",
      "[[Model]]\n",
      "    Model(poisson)\n",
      "[[Fit Statistics]]\n",
      "    # function evals   = 7\n",
      "    # data points      = 2\n",
      "    # variables        = 1\n",
      "    chi-square         = 0.007\n",
      "    reduced chi-square = 0.007\n",
      "[[Variables]]\n",
      "    A:   0.11646866 +/- 0.002407 (2.07%) (init= 0.1055556)\n",
      "    B:   182 (fixed)\n",
      "[[Correlations]] (unreported correlations are <  0.100) \n",
      "\n",
      "\n",
      "\n",
      "\n",
      "\n",
      "[[Model]]\n",
      "    Model(poisson)\n",
      "[[Fit Statistics]]\n",
      "    # function evals   = 9\n",
      "    # data points      = 4\n",
      "    # variables        = 1\n",
      "    chi-square         = 0.752\n",
      "    reduced chi-square = 0.251\n",
      "[[Variables]]\n",
      "    A:   0.26495097 +/- 0.019978 (7.54%) (init= 0.2722222)\n",
      "    B:   180 (fixed)\n",
      "[[Correlations]] (unreported correlations are <  0.100) \n",
      "\n",
      "\n",
      "\n",
      "\n",
      "\n",
      "[[Model]]\n",
      "    Model(poisson)\n",
      "[[Fit Statistics]]\n",
      "    # function evals   = 9\n",
      "    # data points      = 10\n",
      "    # variables        = 1\n",
      "    chi-square         = 2.360\n",
      "    reduced chi-square = 0.262\n",
      "[[Variables]]\n",
      "    A:   2.15081360 +/- 0.057911 (2.69%) (init= 2.183333)\n",
      "    B:   180 (fixed)\n",
      "[[Correlations]] (unreported correlations are <  0.100) \n",
      "\n",
      "\n",
      "\n",
      "\n",
      "\n",
      "[[Model]]\n",
      "    Model(poisson)\n",
      "[[Fit Statistics]]\n",
      "    # function evals   = 5\n",
      "    # data points      = 23\n",
      "    # variables        = 1\n",
      "    chi-square         = 25.288\n",
      "    reduced chi-square = 1.149\n",
      "[[Variables]]\n",
      "    A:   13.0127637 +/- 0.281393 (2.16%) (init= 13.11667)\n",
      "    B:   180 (fixed)\n",
      "[[Correlations]] (unreported correlations are <  0.100) \n",
      "\n",
      "\n",
      "\n",
      "\n",
      "\n",
      "[[Model]]\n",
      "    Model(poisson)\n",
      "[[Fit Statistics]]\n",
      "    # function evals   = 7\n",
      "    # data points      = 29\n",
      "    # variables        = 1\n",
      "    chi-square         = 20.778\n",
      "    reduced chi-square = 0.742\n",
      "[[Variables]]\n",
      "    A:   19.1503146 +/- 0.288238 (1.51%) (init= 19.25)\n",
      "    B:   180 (fixed)\n",
      "[[Correlations]] (unreported correlations are <  0.100) \n",
      "\n",
      "\n",
      "\n",
      "\n",
      "\n",
      "[[Model]]\n",
      "    Model(poisson)\n",
      "[[Fit Statistics]]\n",
      "    # function evals   = 9\n",
      "    # data points      = 15\n",
      "    # variables        = 1\n",
      "    chi-square         = 12.895\n",
      "    reduced chi-square = 0.921\n",
      "[[Variables]]\n",
      "    A:   5.01397783 +/- 0.168683 (3.36%) (init= 5.038889)\n",
      "    B:   180 (fixed)\n",
      "[[Correlations]] (unreported correlations are <  0.100) \n",
      "\n",
      "\n",
      "\n",
      "\n",
      "\n",
      "[[Model]]\n",
      "    Model(poisson)\n",
      "[[Fit Statistics]]\n",
      "    # function evals   = 7\n",
      "    # data points      = 4\n",
      "    # variables        = 1\n",
      "    chi-square         = 0.234\n",
      "    reduced chi-square = 0.078\n",
      "[[Variables]]\n",
      "    A:   0.56821513 +/- 0.016471 (2.90%) (init= 0.5611111)\n",
      "    B:   180 (fixed)\n",
      "[[Correlations]] (unreported correlations are <  0.100) \n",
      "\n",
      "\n",
      "\n",
      "\n",
      "\n",
      "[[Model]]\n",
      "    Model(poisson)\n",
      "[[Fit Statistics]]\n",
      "    # function evals   = 7\n",
      "    # data points      = 2\n",
      "    # variables        = 1\n",
      "    chi-square         = 0.002\n",
      "    reduced chi-square = 0.002\n",
      "[[Variables]]\n",
      "    A:   0.08431135 +/- 0.001061 (1.26%) (init= 0.07777778)\n",
      "    B:   180 (fixed)\n",
      "[[Correlations]] (unreported correlations are <  0.100) \n",
      "\n",
      "\n",
      "\n",
      "\n",
      "\n",
      "[[Model]]\n",
      "    Model(poisson)\n",
      "[[Fit Statistics]]\n",
      "    # function evals   = 7\n",
      "    # data points      = 2\n",
      "    # variables        = 1\n",
      "    chi-square         = 0.001\n",
      "    reduced chi-square = 0.001\n",
      "[[Variables]]\n",
      "    A:   0.07141524 +/- 0.000698 (0.98%) (init= 0.06666667)\n",
      "    B:   180 (fixed)\n",
      "[[Correlations]] (unreported correlations are <  0.100) \n",
      "\n",
      "\n",
      "\n",
      "\n",
      "\n",
      "[[Model]]\n",
      "    Model(poisson)\n",
      "[[Fit Statistics]]\n",
      "    # function evals   = 6\n",
      "    # data points      = 2\n",
      "    # variables        = 1\n",
      "    chi-square         = 0.000\n",
      "    reduced chi-square = 0.000\n",
      "[[Variables]]\n",
      "    A:   0.02272713 +/- 3.92e-05 (0.17%) (init= 0.02222222)\n",
      "    B:   180 (fixed)\n",
      "[[Correlations]] (unreported correlations are <  0.100) \n",
      "\n",
      "\n",
      "\n",
      "\n",
      "\n"
     ]
    }
   ],
   "source": [
    "for i in gold_fit_reports:\n",
    "    print(i, \"\\n\\n\\n\\n\\n\")"
   ]
  },
  {
   "cell_type": "code",
   "execution_count": 29,
   "metadata": {
    "collapsed": false
   },
   "outputs": [],
   "source": [
    "file_list_alu = []\n",
    "liste_alu = []\n",
    "for i in glob('/home/frederik/Dokumente/FP/Rutherford/MessdatenRutherford/Alu2/*.txt'):\n",
    "    file_list_alu.append(i)\n",
    "\n",
    "    \n",
    "file_list_alu.sort()    \n",
    "    \n",
    "for i in file_list_alu:\n",
    "    liste_alu.append(np.array(pd.read_csv(i,skiprows=0,delim_whitespace=2)).T)"
   ]
  },
  {
   "cell_type": "code",
   "execution_count": 30,
   "metadata": {
    "collapsed": false
   },
   "outputs": [
    {
     "name": "stdout",
     "output_type": "stream",
     "text": [
      "/home/frederik/Dokumente/FP/Rutherford/MessdatenRutherford/Alu2/1.Messung-30GradAlu.txt\n",
      "/home/frederik/Dokumente/FP/Rutherford/MessdatenRutherford/Alu2/2.Messun-25GradAlu.txt\n",
      "/home/frederik/Dokumente/FP/Rutherford/MessdatenRutherford/Alu2/3.Messun-20GradAlu.txt\n",
      "/home/frederik/Dokumente/FP/Rutherford/MessdatenRutherford/Alu2/4.Messun-15GradAlu.txt\n",
      "/home/frederik/Dokumente/FP/Rutherford/MessdatenRutherford/Alu2/5.Messun-10GradAlu.txt\n",
      "/home/frederik/Dokumente/FP/Rutherford/MessdatenRutherford/Alu2/6.Messun-5GradAlu.txt\n",
      "/home/frederik/Dokumente/FP/Rutherford/MessdatenRutherford/Alu2/7.Messung0GradAlu.txt\n",
      "/home/frederik/Dokumente/FP/Rutherford/MessdatenRutherford/Alu2/8.Messung5GradAlu.txt\n",
      "/home/frederik/Dokumente/FP/Rutherford/MessdatenRutherford/Alu2/9.Messung10GradAlu.txt\n",
      "/home/frederik/Dokumente/FP/Rutherford/MessdatenRutherford/Alu2/910.Messung15GradAlu.txt\n",
      "/home/frederik/Dokumente/FP/Rutherford/MessdatenRutherford/Alu2/911.Messung20GradAlu.txt\n",
      "/home/frederik/Dokumente/FP/Rutherford/MessdatenRutherford/Alu2/912.Messung25GradAlu.txt\n",
      "/home/frederik/Dokumente/FP/Rutherford/MessdatenRutherford/Alu2/913.Messung30GradAlu.txt\n"
     ]
    }
   ],
   "source": [
    "for i in file_list_alu:\n",
    "    print(i)"
   ]
  },
  {
   "cell_type": "code",
   "execution_count": 60,
   "metadata": {
    "collapsed": false
   },
   "outputs": [],
   "source": [
    "alu_fit_reports = []\n",
    "alu_fit_pars = []\n",
    "count = 0\n",
    "for i in liste_alu:\n",
    "    if i[0].size < 1:\n",
    "        continue\n",
    "    err_temp = None\n",
    "    err_temp = np.sqrt(i[1])\n",
    "    err_temp = np.where(err_temp == 0, 1, err_temp)\n",
    "    pars = mod_pos.make_params()\n",
    "    pars[\"B\"].set(vary=False)\n",
    "    fit = mod_pos.fit(i[1],\n",
    "                  pars,\n",
    "                  A= np.sum(i[0]*i[1]/180),\n",
    "                  B=np.sum(i[1]),\n",
    "                  weights=1/err_temp,\n",
    "                  x=i[0])\n",
    "    alu_fit_reports.append(fit.fit_report())\n",
    "    alu_fit_pars.append(np.array([fit.best_values,fit.chisqr]))\n",
    "    fit.plot()\n",
    "    plt.legend(fontsize=22)\n",
    "    plt.xticks(fontsize=18)\n",
    "    plt.yticks(fontsize=18)\n",
    "    plt.xlabel('Zählrate / Hz', fontsize=22)\n",
    "    plt.ylabel('Counts', fontsize=22)\n",
    "    plt.show()"
   ]
  },
  {
   "cell_type": "code",
   "execution_count": 97,
   "metadata": {
    "collapsed": false
   },
   "outputs": [],
   "source": [
    "i = liste_alu[5]\n",
    "err_temp = None\n",
    "err_temp = np.sqrt(i[1])\n",
    "err_temp = np.where(err_temp == 0, 1, err_temp)\n",
    "pars = mod_pos.make_params()\n",
    "pars[\"B\"].set(vary=False)\n",
    "fit = mod_pos.fit(i[1],\n",
    "                  pars,\n",
    "                  A= np.sum(i[0]*i[1]/180),\n",
    "                  B=np.sum(i[1]),\n",
    "                  weights=1/err_temp,\n",
    "                  x=i[0])\n",
    "alu_fit_reports.append(fit.fit_report())\n",
    "alu_fit_pars.append(np.array([fit.best_values,fit.chisqr]))\n",
    "\n",
    "\n",
    "plt.bar(i[0]-0.35,i[1],label=\"Messdaten\",color='g',width=0.7,yerr=np.sqrt(i[1]),ecolor=\"b\")\n",
    "plt.plot(np.arange(-2,12,0.1),poisson(np.arange(-2,12,0.1),fit.best_values['B'],fit.best_values['A']),'r',label=\"Poisson-Fit\")\n",
    "plt.legend(fontsize=42)\n",
    "plt.xticks(fontsize=30)\n",
    "plt.yticks(fontsize=30)\n",
    "plt.xlabel('Zählrate / Hz', fontsize=42)\n",
    "plt.ylabel('Counts', fontsize=42)\n",
    "plt.show()"
   ]
  },
  {
   "cell_type": "code",
   "execution_count": 32,
   "metadata": {
    "collapsed": false,
    "scrolled": true
   },
   "outputs": [
    {
     "name": "stdout",
     "output_type": "stream",
     "text": [
      "[[Model]]\n",
      "    Model(poisson)\n",
      "[[Fit Statistics]]\n",
      "    # function evals   = 2\n",
      "    # data points      = 1\n",
      "    # variables        = 1\n",
      "    chi-square         = 0.000\n",
      "    reduced chi-square = nan\n",
      "[[Variables]]\n",
      "    A:   1.4901e-08 +/- nan      (nan%) (init= 0)\n",
      "    B:   180 (fixed)\n",
      "[[Correlations]] (unreported correlations are <  0.100) \n",
      "\n",
      "\n",
      "\n",
      "\n",
      "\n",
      "[[Model]]\n",
      "    Model(poisson)\n",
      "[[Fit Statistics]]\n",
      "    # function evals   = 2\n",
      "    # data points      = 1\n",
      "    # variables        = 1\n",
      "    chi-square         = 0.000\n",
      "    reduced chi-square = nan\n",
      "[[Variables]]\n",
      "    A:   1.4901e-08 +/- nan      (nan%) (init= 0)\n",
      "    B:   180 (fixed)\n",
      "[[Correlations]] (unreported correlations are <  0.100) \n",
      "\n",
      "\n",
      "\n",
      "\n",
      "\n",
      "[[Model]]\n",
      "    Model(poisson)\n",
      "[[Fit Statistics]]\n",
      "    # function evals   = 6\n",
      "    # data points      = 2\n",
      "    # variables        = 1\n",
      "    chi-square         = 0.000\n",
      "    reduced chi-square = 0.000\n",
      "[[Variables]]\n",
      "    A:   0.00558659 +/- 1.17e-06 (0.02%) (init= 0.005555556)\n",
      "    B:   180 (fixed)\n",
      "[[Correlations]] (unreported correlations are <  0.100) \n",
      "\n",
      "\n",
      "\n",
      "\n",
      "\n",
      "[[Model]]\n",
      "    Model(poisson)\n",
      "[[Fit Statistics]]\n",
      "    # function evals   = 6\n",
      "    # data points      = 2\n",
      "    # variables        = 1\n",
      "    chi-square         = 0.000\n",
      "    reduced chi-square = 0.000\n",
      "[[Variables]]\n",
      "    A:   0.02857109 +/- 6.97e-05 (0.24%) (init= 0.02777778)\n",
      "    B:   180 (fixed)\n",
      "[[Correlations]] (unreported correlations are <  0.100) \n",
      "\n",
      "\n",
      "\n",
      "\n",
      "\n",
      "[[Model]]\n",
      "    Model(poisson)\n",
      "[[Fit Statistics]]\n",
      "    # function evals   = 9\n",
      "    # data points      = 3\n",
      "    # variables        = 1\n",
      "    chi-square         = 1.317\n",
      "    reduced chi-square = 0.658\n",
      "[[Variables]]\n",
      "    A:   0.06966521 +/- 0.016393 (23.53%) (init= 0.08333333)\n",
      "    B:   180 (fixed)\n",
      "[[Correlations]] (unreported correlations are <  0.100) \n",
      "\n",
      "\n",
      "\n",
      "\n",
      "\n",
      "[[Model]]\n",
      "    Model(poisson)\n",
      "[[Fit Statistics]]\n",
      "    # function evals   = 9\n",
      "    # data points      = 11\n",
      "    # variables        = 1\n",
      "    chi-square         = 5.763\n",
      "    reduced chi-square = 0.576\n",
      "[[Variables]]\n",
      "    A:   4.43912404 +/- 0.117781 (2.65%) (init= 4.383333)\n",
      "    B:   180 (fixed)\n",
      "[[Correlations]] (unreported correlations are <  0.100) \n",
      "\n",
      "\n",
      "\n",
      "\n",
      "\n",
      "[[Model]]\n",
      "    Model(poisson)\n",
      "[[Fit Statistics]]\n",
      "    # function evals   = 11\n",
      "    # data points      = 52\n",
      "    # variables        = 1\n",
      "    chi-square         = 51.952\n",
      "    reduced chi-square = 1.019\n",
      "[[Variables]]\n",
      "    A:   31.2206976 +/- 0.415659 (1.33%) (init= 31.88889)\n",
      "    B:   180 (fixed)\n",
      "[[Correlations]] (unreported correlations are <  0.100) \n",
      "\n",
      "\n",
      "\n",
      "\n",
      "\n",
      "[[Model]]\n",
      "    Model(poisson)\n",
      "[[Fit Statistics]]\n",
      "    # function evals   = 9\n",
      "    # data points      = 17\n",
      "    # variables        = 1\n",
      "    chi-square         = 23.749\n",
      "    reduced chi-square = 1.484\n",
      "[[Variables]]\n",
      "    A:   7.70573149 +/- 0.233267 (3.03%) (init= 7.722222)\n",
      "    B:   180 (fixed)\n",
      "[[Correlations]] (unreported correlations are <  0.100) \n",
      "\n",
      "\n",
      "\n",
      "\n",
      "\n",
      "[[Model]]\n",
      "    Model(poisson)\n",
      "[[Fit Statistics]]\n",
      "    # function evals   = 7\n",
      "    # data points      = 2\n",
      "    # variables        = 1\n",
      "    chi-square         = 0.002\n",
      "    reduced chi-square = 0.002\n",
      "[[Variables]]\n",
      "    A:   0.08568653 +/- 0.001106 (1.29%) (init= 0.08333333)\n",
      "    B:   190 (fixed)\n",
      "[[Correlations]] (unreported correlations are <  0.100) \n",
      "\n",
      "\n",
      "\n",
      "\n",
      "\n",
      "[[Model]]\n",
      "    Model(poisson)\n",
      "[[Fit Statistics]]\n",
      "    # function evals   = 6\n",
      "    # data points      = 2\n",
      "    # variables        = 1\n",
      "    chi-square         = 0.000\n",
      "    reduced chi-square = 0.000\n",
      "[[Variables]]\n",
      "    A:   0.01123594 +/- 6.72e-06 (0.06%) (init= 0.01111111)\n",
      "    B:   180 (fixed)\n",
      "[[Correlations]] (unreported correlations are <  0.100) \n",
      "\n",
      "\n",
      "\n",
      "\n",
      "\n",
      "[[Model]]\n",
      "    Model(poisson)\n",
      "[[Fit Statistics]]\n",
      "    # function evals   = 6\n",
      "    # data points      = 2\n",
      "    # variables        = 1\n",
      "    chi-square         = 0.000\n",
      "    reduced chi-square = 0.000\n",
      "[[Variables]]\n",
      "    A:   0.00558659 +/- 1.17e-06 (0.02%) (init= 0.005555556)\n",
      "    B:   180 (fixed)\n",
      "[[Correlations]] (unreported correlations are <  0.100) \n",
      "\n",
      "\n",
      "\n",
      "\n",
      "\n",
      "[[Model]]\n",
      "    Model(poisson)\n",
      "[[Fit Statistics]]\n",
      "    # function evals   = 2\n",
      "    # data points      = 1\n",
      "    # variables        = 1\n",
      "    chi-square         = 0.000\n",
      "    reduced chi-square = nan\n",
      "[[Variables]]\n",
      "    A:   1.4901e-08 +/- nan      (nan%) (init= 0)\n",
      "    B:   180 (fixed)\n",
      "[[Correlations]] (unreported correlations are <  0.100) \n",
      "\n",
      "\n",
      "\n",
      "\n",
      "\n",
      "[[Model]]\n",
      "    Model(poisson)\n",
      "[[Fit Statistics]]\n",
      "    # function evals   = 2\n",
      "    # data points      = 1\n",
      "    # variables        = 1\n",
      "    chi-square         = 0.000\n",
      "    reduced chi-square = nan\n",
      "[[Variables]]\n",
      "    A:   1.4901e-08 +/- nan      (nan%) (init= 0)\n",
      "    B:   180 (fixed)\n",
      "[[Correlations]] (unreported correlations are <  0.100) \n",
      "\n",
      "\n",
      "\n",
      "\n",
      "\n"
     ]
    }
   ],
   "source": [
    "for i in alu_fit_reports:\n",
    "    print(i, \"\\n\\n\\n\\n\\n\")"
   ]
  },
  {
   "cell_type": "code",
   "execution_count": 33,
   "metadata": {
    "collapsed": false,
    "scrolled": false
   },
   "outputs": [
    {
     "name": "stdout",
     "output_type": "stream",
     "text": [
      "0.00558659177403\n",
      "0.0168538922648\n",
      "0.0285710926259\n",
      "0.116468665311\n",
      "0.264950973934\n",
      "2.15081360359\n",
      "13.0127637616\n",
      "19.1503146616\n",
      "5.01397783072\n",
      "0.568215134564\n",
      "0.0843113520675\n",
      "0.0714152482036\n",
      "0.0227271386544\n"
     ]
    }
   ],
   "source": [
    "counts_gold = []\n",
    "for i in gold_fit_pars:\n",
    "    print(i[0][\"A\"])\n",
    "    counts_gold.append(i[0][\"A\"])"
   ]
  },
  {
   "cell_type": "code",
   "execution_count": 34,
   "metadata": {
    "collapsed": false
   },
   "outputs": [
    {
     "data": {
      "text/plain": [
       "[0.005586591774028842,\n",
       " 0.016853892264839233,\n",
       " 0.028571092625933259,\n",
       " 0.11646866531097182,\n",
       " 0.26495097393368106,\n",
       " 2.1508136035894423,\n",
       " 13.01276376164566,\n",
       " 19.15031466157372,\n",
       " 5.0139778307201741,\n",
       " 0.56821513456359662,\n",
       " 0.084311352067498943,\n",
       " 0.071415248203596002,\n",
       " 0.022727138654359193]"
      ]
     },
     "execution_count": 34,
     "metadata": {},
     "output_type": "execute_result"
    }
   ],
   "source": [
    "counts_gold"
   ]
  },
  {
   "cell_type": "code",
   "execution_count": 35,
   "metadata": {
    "collapsed": false
   },
   "outputs": [
    {
     "name": "stdout",
     "output_type": "stream",
     "text": [
      "1.49011611939e-08\n",
      "1.49011611939e-08\n",
      "0.00558659177403\n",
      "0.0285710926259\n",
      "0.0696652120635\n",
      "4.43912404162\n",
      "31.2206976236\n",
      "7.70573149356\n",
      "0.0856865370416\n",
      "0.011235947224\n",
      "0.00558659177403\n",
      "1.49011611939e-08\n",
      "1.49011611939e-08\n"
     ]
    }
   ],
   "source": [
    "counts_alu = []\n",
    "for i in alu_fit_pars:\n",
    "    print(i[0][\"A\"])\n",
    "    counts_alu.append(i[0][\"A\"])"
   ]
  },
  {
   "cell_type": "code",
   "execution_count": 36,
   "metadata": {
    "collapsed": true
   },
   "outputs": [],
   "source": [
    "x = np.arange(-30,35,5)"
   ]
  },
  {
   "cell_type": "code",
   "execution_count": 37,
   "metadata": {
    "collapsed": true
   },
   "outputs": [],
   "source": [
    "def ruth(x,A,B):\n",
    "    return A/(np.sin((((x-B)*np.pi)/180)/2)**4)"
   ]
  },
  {
   "cell_type": "code",
   "execution_count": 38,
   "metadata": {
    "collapsed": true
   },
   "outputs": [],
   "source": [
    "mod_ruth = models.Model(ruth)\n",
    "pars_2 = mod_ruth.make_params(A=0.000001, B=5)"
   ]
  },
  {
   "cell_type": "code",
   "execution_count": 39,
   "metadata": {
    "collapsed": false,
    "scrolled": true
   },
   "outputs": [
    {
     "name": "stdout",
     "output_type": "stream",
     "text": [
      "[[Model]]\n",
      "    Model(ruth)\n",
      "[[Fit Statistics]]\n",
      "    # function evals   = 19\n",
      "    # data points      = 13\n",
      "    # variables        = 2\n",
      "    chi-square         = 27.349\n",
      "    reduced chi-square = 2.486\n",
      "[[Variables]]\n",
      "    A:   3.5687e-06 +/- 2.65e-07 (7.44%) (init= 5e-05)\n",
      "    B:   2.62019957 +/- 0.045539 (1.74%) (init= 3)\n",
      "[[Correlations]] (unreported correlations are <  0.100)\n",
      "    C(A, B)                      = -0.407 \n"
     ]
    }
   ],
   "source": [
    "out_2 = mod_ruth.fit(counts_gold,\n",
    "                    pars_2,\n",
    "                    A=0.00005,\n",
    "                    B=3,\n",
    "                    x=x)\n",
    "print(out_2.fit_report())"
   ]
  },
  {
   "cell_type": "code",
   "execution_count": 40,
   "metadata": {
    "collapsed": false
   },
   "outputs": [],
   "source": [
    "out_2.plot()\n",
    "plt.ylim([0,21])\n",
    "plt.show()"
   ]
  },
  {
   "cell_type": "code",
   "execution_count": 43,
   "metadata": {
    "collapsed": false
   },
   "outputs": [],
   "source": [
    "plt.plot(np.arange(-30,31,0.01),ruth(np.arange(-30,31,0.01),0.000037,2.6),label='Fit')\n",
    "plt.errorbar(x,counts_gold,np.sqrt(counts_gold),xerr=2,fmt='. ',label=\"Messdaten\")\n",
    "plt.ylabel('Counts', fontsize = 42)\n",
    "plt.xlabel(r'Winkel / $^\\circ$' , fontsize = 42)\n",
    "plt.ylim([0,30])\n",
    "plt.xticks(fontsize=30)\n",
    "plt.yticks(fontsize=30)\n",
    "plt.legend(loc='best', fontsize = 42)\n",
    "plt.show()"
   ]
  },
  {
   "cell_type": "code",
   "execution_count": 44,
   "metadata": {
    "collapsed": false
   },
   "outputs": [
    {
     "name": "stdout",
     "output_type": "stream",
     "text": [
      "40.5069699469\n"
     ]
    }
   ],
   "source": [
    "print(((ruth(np.arange(-30,31,5),0.0000,1.7) - counts_gold)**2/np.sqrt(counts_gold)**2).sum())"
   ]
  },
  {
   "cell_type": "code",
   "execution_count": 45,
   "metadata": {
    "collapsed": false
   },
   "outputs": [
    {
     "name": "stdout",
     "output_type": "stream",
     "text": [
      "1.49011611939e-08\n",
      "1.49011611939e-08\n",
      "0.00558659177403\n",
      "0.0285710926259\n",
      "0.0696652120635\n",
      "4.43912404162\n",
      "31.2206976236\n",
      "7.70573149356\n",
      "0.0856865370416\n",
      "0.011235947224\n",
      "0.00558659177403\n",
      "1.49011611939e-08\n",
      "1.49011611939e-08\n"
     ]
    }
   ],
   "source": [
    "counts_alu = []\n",
    "for i in alu_fit_pars:\n",
    "    print(i[0][\"A\"])\n",
    "    counts_alu.append(i[0][\"A\"])"
   ]
  },
  {
   "cell_type": "code",
   "execution_count": 46,
   "metadata": {
    "collapsed": false
   },
   "outputs": [],
   "source": [
    "plt.errorbar(x,counts_alu,np.sqrt(counts_alu),xerr=2,fmt='. ')\n",
    "plt.show()"
   ]
  },
  {
   "cell_type": "code",
   "execution_count": 47,
   "metadata": {
    "collapsed": false,
    "scrolled": true
   },
   "outputs": [
    {
     "name": "stdout",
     "output_type": "stream",
     "text": [
      "[[Model]]\n",
      "    Model(ruth)\n",
      "[[Fit Statistics]]\n",
      "    # function evals   = 76\n",
      "    # data points      = 13\n",
      "    # variables        = 2\n",
      "    chi-square         = 17.728\n",
      "    reduced chi-square = 1.612\n",
      "[[Variables]]\n",
      "    A:   3.3188e-06 +/- 3.23e-07 (9.74%) (init= 1e-08)\n",
      "    B:   2.06893681 +/- 0.051131 (2.47%) (init= 1.7)\n",
      "[[Correlations]] (unreported correlations are <  0.100)\n",
      "    C(A, B)                      =  0.914 \n"
     ]
    }
   ],
   "source": [
    "out_3 = mod_ruth.fit(counts_alu,\n",
    "                    pars_2,\n",
    "                    A=0.00000001,\n",
    "                    B=1.7,\n",
    "                    x=x)\n",
    "print(out_3.fit_report())"
   ]
  },
  {
   "cell_type": "code",
   "execution_count": 48,
   "metadata": {
    "collapsed": false
   },
   "outputs": [],
   "source": [
    "out_3.plot()\n",
    "plt.ylim([0,33])\n",
    "plt.show()"
   ]
  },
  {
   "cell_type": "code",
   "execution_count": 50,
   "metadata": {
    "collapsed": false
   },
   "outputs": [],
   "source": [
    "plt.plot(np.arange(-30,31,0.01),ruth(np.arange(-30,31,0.01),out_3.best_values['A'],out_3.best_values['B']),label='Fit')\n",
    "plt.ylim([0,35])\n",
    "plt.errorbar(x,counts_alu,np.sqrt(counts_alu),xerr=2,fmt='. ',label=\"Messdaten\")\n",
    "plt.ylabel('Counts', fontsize = 42)\n",
    "plt.xlabel(r'Winkel / $^\\circ$' , fontsize = 42)\n",
    "plt.ylim([0,38])\n",
    "plt.xticks(fontsize=30)\n",
    "plt.yticks(fontsize=30)\n",
    "plt.legend(loc='best', fontsize = 42)\n",
    "plt.show()"
   ]
  },
  {
   "cell_type": "code",
   "execution_count": 51,
   "metadata": {
    "collapsed": false
   },
   "outputs": [
    {
     "ename": "NameError",
     "evalue": "name 'c' is not defined",
     "output_type": "error",
     "traceback": [
      "\u001b[1;31m---------------------------------------------------------------------------\u001b[0m",
      "\u001b[1;31mNameError\u001b[0m                                 Traceback (most recent call last)",
      "\u001b[1;32m<ipython-input-51-5f54f7878a4a>\u001b[0m in \u001b[0;36m<module>\u001b[1;34m()\u001b[0m\n\u001b[1;32m----> 1\u001b[1;33m \u001b[0mprint\u001b[0m\u001b[1;33m(\u001b[0m\u001b[1;33m(\u001b[0m\u001b[0mruth\u001b[0m\u001b[1;33m(\u001b[0m\u001b[0mnp\u001b[0m\u001b[1;33m.\u001b[0m\u001b[0marange\u001b[0m\u001b[1;33m(\u001b[0m\u001b[1;33m-\u001b[0m\u001b[1;36m30\u001b[0m\u001b[1;33m,\u001b[0m\u001b[1;36m31\u001b[0m\u001b[1;33m,\u001b[0m\u001b[1;36m0.01\u001b[0m\u001b[1;33m)\u001b[0m\u001b[1;33m,\u001b[0m\u001b[1;36m0.00001\u001b[0m\u001b[1;33m,\u001b[0m\u001b[1;36m1.7\u001b[0m\u001b[1;33m)\u001b[0m\u001b[1;33m-\u001b[0m\u001b[0mc\u001b[0m\u001b[1;33m)\u001b[0m\u001b[1;33m)\u001b[0m\u001b[1;33m\u001b[0m\u001b[0m\n\u001b[0m",
      "\u001b[1;31mNameError\u001b[0m: name 'c' is not defined"
     ]
    }
   ],
   "source": [
    "print((ruth(np.arange(-30,31,0.01),0.00001,1.7)-c))"
   ]
  },
  {
   "cell_type": "code",
   "execution_count": 52,
   "metadata": {
    "collapsed": false
   },
   "outputs": [
    {
     "name": "stderr",
     "output_type": "stream",
     "text": [
      "/home/frederik/anaconda3/lib/python3.4/site-packages/matplotlib/axes/_axes.py:475: UserWarning: No labelled objects found. Use label='...' kwarg on individual plots.\n",
      "  warnings.warn(\"No labelled objects found. \"\n"
     ]
    }
   ],
   "source": [
    "plt.plot(x,counts_gold, 'r.')\n",
    "plt.legend(loc = 'best', fontsize = 22)\n",
    "plt.tick_params(labelsize= 22)\n",
    "plt.ylabel(r\"Counts/s\", fontsize = 26)\n",
    "plt.xlabel(r\"$\\theta/^{\\circ}$\", fontsize = 26)\n",
    "plt.show()"
   ]
  },
  {
   "cell_type": "code",
   "execution_count": 53,
   "metadata": {
    "collapsed": false
   },
   "outputs": [
    {
     "name": "stderr",
     "output_type": "stream",
     "text": [
      "/home/frederik/anaconda3/lib/python3.4/site-packages/matplotlib/axes/_axes.py:475: UserWarning: No labelled objects found. Use label='...' kwarg on individual plots.\n",
      "  warnings.warn(\"No labelled objects found. \"\n"
     ]
    }
   ],
   "source": [
    "plt.plot(x,counts_alu, 'r.')\n",
    "plt.legend(loc = 'best', fontsize = 22)\n",
    "plt.tick_params(labelsize= 22)\n",
    "plt.ylabel(r\"Counts/s\", fontsize = 26)\n",
    "plt.xlabel(r\"$\\theta/^{\\circ}$\", fontsize = 26)\n",
    "plt.show()"
   ]
  },
  {
   "cell_type": "code",
   "execution_count": 54,
   "metadata": {
    "collapsed": false
   },
   "outputs": [
    {
     "name": "stdout",
     "output_type": "stream",
     "text": [
      "13\n"
     ]
    },
    {
     "data": {
      "text/plain": [
       "13"
      ]
     },
     "execution_count": 54,
     "metadata": {},
     "output_type": "execute_result"
    }
   ],
   "source": [
    "print(x.size)\n",
    "len(counts_alu)"
   ]
  },
  {
   "cell_type": "code",
   "execution_count": 55,
   "metadata": {
    "collapsed": false
   },
   "outputs": [
    {
     "name": "stdout",
     "output_type": "stream",
     "text": [
      "180\n",
      "180\n",
      "180\n",
      "180\n",
      "180\n",
      "180\n",
      "180\n",
      "180\n",
      "190\n",
      "180\n",
      "180\n",
      "180\n",
      "180\n"
     ]
    }
   ],
   "source": [
    "for i in liste_alu:\n",
    "    a= np.sum(i[1])\n",
    "    print(a)\n",
    "listealudebug = glob('/home/arrow13/Git/FP/Rutherford/MessdatenRutherford/Alu/*.txt')\n",
    "listealudebug.sort()\n",
    "for i in listealudebug:\n",
    "    print(i)"
   ]
  },
  {
   "cell_type": "code",
   "execution_count": 56,
   "metadata": {
    "collapsed": false,
    "scrolled": true
   },
   "outputs": [
    {
     "name": "stdout",
     "output_type": "stream",
     "text": [
      "180\n",
      "181\n",
      "180\n",
      "182\n",
      "180\n",
      "180\n",
      "180\n",
      "180\n",
      "180\n",
      "180\n",
      "180\n",
      "180\n",
      "180\n"
     ]
    }
   ],
   "source": [
    "for i in liste_gold:\n",
    "    b= np.sum(i[1])\n",
    "    print(b)\n",
    "listegolddebug = glob('/home/arrow13/Git/FP/Rutherford/MessdatenRutherford/Gold/*.txt')\n",
    "listegolddebug.sort()\n",
    "for i in listegolddebug:\n",
    "    print(i)"
   ]
  },
  {
   "cell_type": "markdown",
   "metadata": {},
   "source": [
    "# Bestimmen der Kernladungszahl von Al"
   ]
  },
  {
   "cell_type": "code",
   "execution_count": 57,
   "metadata": {
    "collapsed": false
   },
   "outputs": [
    {
     "data": {
      "text/plain": [
       "12.610989875385105"
      ]
     },
     "execution_count": 57,
     "metadata": {},
     "output_type": "execute_result"
    }
   ],
   "source": [
    "79*np.sqrt((3.3*2)/(37*7))"
   ]
  },
  {
   "cell_type": "code",
   "execution_count": 58,
   "metadata": {
    "collapsed": false
   },
   "outputs": [
    {
     "data": {
      "text/plain": [
       "0.9692307692307692"
      ]
     },
     "execution_count": 58,
     "metadata": {},
     "output_type": "execute_result"
    }
   ],
   "source": [
    "(12.6/100/13)*100"
   ]
  },
  {
   "cell_type": "markdown",
   "metadata": {},
   "source": [
    "# Da Fehlen teilweise Messwerte wie du siehst und ich du musst auch die fits mit nur einem Messwert nehmen, sonst gibt es probleme.\n",
    "# Die Changes kannst du bei Github nachgucken."
   ]
  },
  {
   "cell_type": "markdown",
   "metadata": {},
   "source": [
    "# Reichweitenbestimmung"
   ]
  },
  {
   "cell_type": "code",
   "execution_count": 59,
   "metadata": {
    "collapsed": false
   },
   "outputs": [
    {
     "ename": "ValueError",
     "evalue": "No columns to parse from file",
     "output_type": "error",
     "traceback": [
      "\u001b[1;31m---------------------------------------------------------------------------\u001b[0m",
      "\u001b[1;31mValueError\u001b[0m                                Traceback (most recent call last)",
      "\u001b[1;32m<ipython-input-59-23aed8aaaed3>\u001b[0m in \u001b[0;36m<module>\u001b[1;34m()\u001b[0m\n\u001b[1;32m----> 1\u001b[1;33m \u001b[0mdata_rw\u001b[0m \u001b[1;33m=\u001b[0m \u001b[0mnp\u001b[0m\u001b[1;33m.\u001b[0m\u001b[0marray\u001b[0m\u001b[1;33m(\u001b[0m\u001b[0mpd\u001b[0m\u001b[1;33m.\u001b[0m\u001b[0mread_csv\u001b[0m\u001b[1;33m(\u001b[0m\u001b[1;34m'/home/frederik/Dokumente/FP/Rutherford/MessdatenRutherford/'\u001b[0m\u001b[1;33m)\u001b[0m\u001b[1;33m)\u001b[0m\u001b[1;33m.\u001b[0m\u001b[0mT\u001b[0m\u001b[1;33m\u001b[0m\u001b[0m\n\u001b[0m",
      "\u001b[1;32m/home/frederik/anaconda3/lib/python3.4/site-packages/pandas/io/parsers.py\u001b[0m in \u001b[0;36mparser_f\u001b[1;34m(filepath_or_buffer, sep, dialect, compression, doublequote, escapechar, quotechar, quoting, skipinitialspace, lineterminator, header, index_col, names, prefix, skiprows, skipfooter, skip_footer, na_values, na_fvalues, true_values, false_values, delimiter, converters, dtype, usecols, engine, delim_whitespace, as_recarray, na_filter, compact_ints, use_unsigned, low_memory, buffer_lines, warn_bad_lines, error_bad_lines, keep_default_na, thousands, comment, decimal, parse_dates, keep_date_col, dayfirst, date_parser, memory_map, float_precision, nrows, iterator, chunksize, verbose, encoding, squeeze, mangle_dupe_cols, tupleize_cols, infer_datetime_format, skip_blank_lines)\u001b[0m\n\u001b[0;32m    472\u001b[0m                     skip_blank_lines=skip_blank_lines)\n\u001b[0;32m    473\u001b[0m \u001b[1;33m\u001b[0m\u001b[0m\n\u001b[1;32m--> 474\u001b[1;33m         \u001b[1;32mreturn\u001b[0m \u001b[0m_read\u001b[0m\u001b[1;33m(\u001b[0m\u001b[0mfilepath_or_buffer\u001b[0m\u001b[1;33m,\u001b[0m \u001b[0mkwds\u001b[0m\u001b[1;33m)\u001b[0m\u001b[1;33m\u001b[0m\u001b[0m\n\u001b[0m\u001b[0;32m    475\u001b[0m \u001b[1;33m\u001b[0m\u001b[0m\n\u001b[0;32m    476\u001b[0m     \u001b[0mparser_f\u001b[0m\u001b[1;33m.\u001b[0m\u001b[0m__name__\u001b[0m \u001b[1;33m=\u001b[0m \u001b[0mname\u001b[0m\u001b[1;33m\u001b[0m\u001b[0m\n",
      "\u001b[1;32m/home/frederik/anaconda3/lib/python3.4/site-packages/pandas/io/parsers.py\u001b[0m in \u001b[0;36m_read\u001b[1;34m(filepath_or_buffer, kwds)\u001b[0m\n\u001b[0;32m    248\u001b[0m \u001b[1;33m\u001b[0m\u001b[0m\n\u001b[0;32m    249\u001b[0m     \u001b[1;31m# Create the parser.\u001b[0m\u001b[1;33m\u001b[0m\u001b[1;33m\u001b[0m\u001b[0m\n\u001b[1;32m--> 250\u001b[1;33m     \u001b[0mparser\u001b[0m \u001b[1;33m=\u001b[0m \u001b[0mTextFileReader\u001b[0m\u001b[1;33m(\u001b[0m\u001b[0mfilepath_or_buffer\u001b[0m\u001b[1;33m,\u001b[0m \u001b[1;33m**\u001b[0m\u001b[0mkwds\u001b[0m\u001b[1;33m)\u001b[0m\u001b[1;33m\u001b[0m\u001b[0m\n\u001b[0m\u001b[0;32m    251\u001b[0m \u001b[1;33m\u001b[0m\u001b[0m\n\u001b[0;32m    252\u001b[0m     \u001b[1;32mif\u001b[0m \u001b[1;33m(\u001b[0m\u001b[0mnrows\u001b[0m \u001b[1;32mis\u001b[0m \u001b[1;32mnot\u001b[0m \u001b[1;32mNone\u001b[0m\u001b[1;33m)\u001b[0m \u001b[1;32mand\u001b[0m \u001b[1;33m(\u001b[0m\u001b[0mchunksize\u001b[0m \u001b[1;32mis\u001b[0m \u001b[1;32mnot\u001b[0m \u001b[1;32mNone\u001b[0m\u001b[1;33m)\u001b[0m\u001b[1;33m:\u001b[0m\u001b[1;33m\u001b[0m\u001b[0m\n",
      "\u001b[1;32m/home/frederik/anaconda3/lib/python3.4/site-packages/pandas/io/parsers.py\u001b[0m in \u001b[0;36m__init__\u001b[1;34m(self, f, engine, **kwds)\u001b[0m\n\u001b[0;32m    564\u001b[0m             \u001b[0mself\u001b[0m\u001b[1;33m.\u001b[0m\u001b[0moptions\u001b[0m\u001b[1;33m[\u001b[0m\u001b[1;34m'has_index_names'\u001b[0m\u001b[1;33m]\u001b[0m \u001b[1;33m=\u001b[0m \u001b[0mkwds\u001b[0m\u001b[1;33m[\u001b[0m\u001b[1;34m'has_index_names'\u001b[0m\u001b[1;33m]\u001b[0m\u001b[1;33m\u001b[0m\u001b[0m\n\u001b[0;32m    565\u001b[0m \u001b[1;33m\u001b[0m\u001b[0m\n\u001b[1;32m--> 566\u001b[1;33m         \u001b[0mself\u001b[0m\u001b[1;33m.\u001b[0m\u001b[0m_make_engine\u001b[0m\u001b[1;33m(\u001b[0m\u001b[0mself\u001b[0m\u001b[1;33m.\u001b[0m\u001b[0mengine\u001b[0m\u001b[1;33m)\u001b[0m\u001b[1;33m\u001b[0m\u001b[0m\n\u001b[0m\u001b[0;32m    567\u001b[0m \u001b[1;33m\u001b[0m\u001b[0m\n\u001b[0;32m    568\u001b[0m     \u001b[1;32mdef\u001b[0m \u001b[0m_get_options_with_defaults\u001b[0m\u001b[1;33m(\u001b[0m\u001b[0mself\u001b[0m\u001b[1;33m,\u001b[0m \u001b[0mengine\u001b[0m\u001b[1;33m)\u001b[0m\u001b[1;33m:\u001b[0m\u001b[1;33m\u001b[0m\u001b[0m\n",
      "\u001b[1;32m/home/frederik/anaconda3/lib/python3.4/site-packages/pandas/io/parsers.py\u001b[0m in \u001b[0;36m_make_engine\u001b[1;34m(self, engine)\u001b[0m\n\u001b[0;32m    703\u001b[0m     \u001b[1;32mdef\u001b[0m \u001b[0m_make_engine\u001b[0m\u001b[1;33m(\u001b[0m\u001b[0mself\u001b[0m\u001b[1;33m,\u001b[0m \u001b[0mengine\u001b[0m\u001b[1;33m=\u001b[0m\u001b[1;34m'c'\u001b[0m\u001b[1;33m)\u001b[0m\u001b[1;33m:\u001b[0m\u001b[1;33m\u001b[0m\u001b[0m\n\u001b[0;32m    704\u001b[0m         \u001b[1;32mif\u001b[0m \u001b[0mengine\u001b[0m \u001b[1;33m==\u001b[0m \u001b[1;34m'c'\u001b[0m\u001b[1;33m:\u001b[0m\u001b[1;33m\u001b[0m\u001b[0m\n\u001b[1;32m--> 705\u001b[1;33m             \u001b[0mself\u001b[0m\u001b[1;33m.\u001b[0m\u001b[0m_engine\u001b[0m \u001b[1;33m=\u001b[0m \u001b[0mCParserWrapper\u001b[0m\u001b[1;33m(\u001b[0m\u001b[0mself\u001b[0m\u001b[1;33m.\u001b[0m\u001b[0mf\u001b[0m\u001b[1;33m,\u001b[0m \u001b[1;33m**\u001b[0m\u001b[0mself\u001b[0m\u001b[1;33m.\u001b[0m\u001b[0moptions\u001b[0m\u001b[1;33m)\u001b[0m\u001b[1;33m\u001b[0m\u001b[0m\n\u001b[0m\u001b[0;32m    706\u001b[0m         \u001b[1;32melse\u001b[0m\u001b[1;33m:\u001b[0m\u001b[1;33m\u001b[0m\u001b[0m\n\u001b[0;32m    707\u001b[0m             \u001b[1;32mif\u001b[0m \u001b[0mengine\u001b[0m \u001b[1;33m==\u001b[0m \u001b[1;34m'python'\u001b[0m\u001b[1;33m:\u001b[0m\u001b[1;33m\u001b[0m\u001b[0m\n",
      "\u001b[1;32m/home/frederik/anaconda3/lib/python3.4/site-packages/pandas/io/parsers.py\u001b[0m in \u001b[0;36m__init__\u001b[1;34m(self, src, **kwds)\u001b[0m\n\u001b[0;32m   1070\u001b[0m         \u001b[0mkwds\u001b[0m\u001b[1;33m[\u001b[0m\u001b[1;34m'allow_leading_cols'\u001b[0m\u001b[1;33m]\u001b[0m \u001b[1;33m=\u001b[0m \u001b[0mself\u001b[0m\u001b[1;33m.\u001b[0m\u001b[0mindex_col\u001b[0m \u001b[1;32mis\u001b[0m \u001b[1;32mnot\u001b[0m \u001b[1;32mFalse\u001b[0m\u001b[1;33m\u001b[0m\u001b[0m\n\u001b[0;32m   1071\u001b[0m \u001b[1;33m\u001b[0m\u001b[0m\n\u001b[1;32m-> 1072\u001b[1;33m         \u001b[0mself\u001b[0m\u001b[1;33m.\u001b[0m\u001b[0m_reader\u001b[0m \u001b[1;33m=\u001b[0m \u001b[0m_parser\u001b[0m\u001b[1;33m.\u001b[0m\u001b[0mTextReader\u001b[0m\u001b[1;33m(\u001b[0m\u001b[0msrc\u001b[0m\u001b[1;33m,\u001b[0m \u001b[1;33m**\u001b[0m\u001b[0mkwds\u001b[0m\u001b[1;33m)\u001b[0m\u001b[1;33m\u001b[0m\u001b[0m\n\u001b[0m\u001b[0;32m   1073\u001b[0m \u001b[1;33m\u001b[0m\u001b[0m\n\u001b[0;32m   1074\u001b[0m         \u001b[1;31m# XXX\u001b[0m\u001b[1;33m\u001b[0m\u001b[1;33m\u001b[0m\u001b[0m\n",
      "\u001b[1;32mpandas/parser.pyx\u001b[0m in \u001b[0;36mpandas.parser.TextReader.__cinit__ (pandas/parser.c:4814)\u001b[1;34m()\u001b[0m\n",
      "\u001b[1;31mValueError\u001b[0m: No columns to parse from file"
     ]
    }
   ],
   "source": [
    "data_rw = np.array(pd.read_csv('/home/frederik/Dokumente/FP/Rutherford/MessdatenRutherford/')).T"
   ]
  },
  {
   "cell_type": "code",
   "execution_count": null,
   "metadata": {
    "collapsed": true
   },
   "outputs": [],
   "source": []
  },
  {
   "cell_type": "code",
   "execution_count": null,
   "metadata": {
    "collapsed": true
   },
   "outputs": [],
   "source": []
  }
 ],
 "metadata": {
  "kernelspec": {
   "display_name": "Python 3",
   "language": "python",
   "name": "python3"
  },
  "language_info": {
   "codemirror_mode": {
    "name": "ipython",
    "version": 3
   },
   "file_extension": ".py",
   "mimetype": "text/x-python",
   "name": "python",
   "nbconvert_exporter": "python",
   "pygments_lexer": "ipython3",
   "version": "3.4.3"
  }
 },
 "nbformat": 4,
 "nbformat_minor": 0
}
