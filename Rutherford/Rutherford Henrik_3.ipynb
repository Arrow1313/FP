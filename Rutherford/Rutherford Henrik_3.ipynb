{
 "cells": [
  {
   "cell_type": "code",
   "execution_count": 1,
   "metadata": {
    "collapsed": false
   },
   "outputs": [
    {
     "name": "stderr",
     "output_type": "stream",
     "text": [
      "/home/frederik/anaconda3/lib/python3.4/site-packages/IPython/html.py:14: ShimWarning: The `IPython.html` package has been deprecated. You should import from `notebook` instead. `IPython.html.widgets` has moved to `ipywidgets`.\n",
      "  \"`IPython.html.widgets` has moved to `ipywidgets`.\", ShimWarning)\n"
     ]
    }
   ],
   "source": [
    "from scipy import constants,misc as cs,misc\n",
    "from glob import glob\n",
    "import numpy as np\n",
    "import pandas as pd\n",
    "import matplotlib.pyplot as plt\n",
    "from lmfit import models\n",
    "import math"
   ]
  },
  {
   "cell_type": "code",
   "execution_count": 2,
   "metadata": {
    "collapsed": true
   },
   "outputs": [],
   "source": [
    "%matplotlib qt"
   ]
  },
  {
   "cell_type": "markdown",
   "metadata": {
    "collapsed": true
   },
   "source": [
    "#Rutherfordstreuung"
   ]
  },
  {
   "cell_type": "markdown",
   "metadata": {},
   "source": [
    "##Rutherfordsteuuformel\n",
    "<br>\n",
    "$\\huge \\huge \\frac{d\\sigma}{d\\Omega} = 1.3 \\cdot 10^{-3} \\left( \\frac{Z_1 Z_2}{E_0} \\right) \\frac{1}{sin^4\\left(\\frac{\\theta}{2}\\right)}$\n",
    "\n",
    "<ul>\n",
    "    <li>$\\sigma$: Differentielle WQ\n",
    "    <li>$\\Theta$: Winkel\n",
    "    <li>$Z_i$: Kernlagundszahl\n",
    "    <li>E: Energie\n",
    "</ul>   "
   ]
  },
  {
   "cell_type": "code",
   "execution_count": 3,
   "metadata": {
    "collapsed": false
   },
   "outputs": [],
   "source": [
    "def rutherfordsteuung(theta,Z_1,Z_2,E,b):\n",
    "    return (Z_1*Z_2*cs.e**2)/(4*E*np.sin((3.14*theta-b)/360)**4)"
   ]
  },
  {
   "cell_type": "code",
   "execution_count": 56,
   "metadata": {
    "collapsed": false
   },
   "outputs": [],
   "source": [
    "file_list_gold = []\n",
    "liste_gold = []\n",
    "for i in glob('/home/frederik/Dokumente/FP/Rutherford/MessdatenRutherford/Gold2/*.txt'):\n",
    "    file_list_gold.append(i)\n",
    "\n",
    "    \n",
    "file_list_gold.sort()   \n",
    "    \n",
    "for i in file_list_gold:\n",
    "    liste_gold.append(np.array(pd.read_csv(i,skiprows=0,delim_whitespace=2)).T)\n",
    "    \n"
   ]
  },
  {
   "cell_type": "code",
   "execution_count": 57,
   "metadata": {
    "collapsed": false
   },
   "outputs": [
    {
     "name": "stdout",
     "output_type": "stream",
     "text": [
      "/home/frederik/Dokumente/FP/Rutherford/MessdatenRutherford/Gold2/1.Messung-30GradGold.txt\n",
      "/home/frederik/Dokumente/FP/Rutherford/MessdatenRutherford/Gold2/2.Messung-25GradGold.txt\n",
      "/home/frederik/Dokumente/FP/Rutherford/MessdatenRutherford/Gold2/3.Messung-20GradGold.txt\n",
      "/home/frederik/Dokumente/FP/Rutherford/MessdatenRutherford/Gold2/4.Messung-15GradGold.txt\n",
      "/home/frederik/Dokumente/FP/Rutherford/MessdatenRutherford/Gold2/5.Messung-10GradGold.txt\n",
      "/home/frederik/Dokumente/FP/Rutherford/MessdatenRutherford/Gold2/6.Messung-5GradGold.txt\n",
      "/home/frederik/Dokumente/FP/Rutherford/MessdatenRutherford/Gold2/7.Messung0GradGold.txt\n",
      "/home/frederik/Dokumente/FP/Rutherford/MessdatenRutherford/Gold2/8.Messung5GradGold.txt\n",
      "/home/frederik/Dokumente/FP/Rutherford/MessdatenRutherford/Gold2/9.Messung10GradGold.txt\n",
      "/home/frederik/Dokumente/FP/Rutherford/MessdatenRutherford/Gold2/910.Messung15GradGold.txt\n",
      "/home/frederik/Dokumente/FP/Rutherford/MessdatenRutherford/Gold2/911.Messung20GradGold.txt\n",
      "/home/frederik/Dokumente/FP/Rutherford/MessdatenRutherford/Gold2/912.Messung25GradGold.txt\n",
      "/home/frederik/Dokumente/FP/Rutherford/MessdatenRutherford/Gold2/913.Messung30GradGold.txt\n"
     ]
    }
   ],
   "source": [
    "for i in file_list_gold:\n",
    "    print(i)"
   ]
  },
  {
   "cell_type": "raw",
   "metadata": {},
   "source": [
    "for i in liste_gold:\n",
    "    plt.plot(i[0],i[1],'.')\n",
    "    plt.show()"
   ]
  },
  {
   "cell_type": "code",
   "execution_count": 6,
   "metadata": {
    "collapsed": false
   },
   "outputs": [],
   "source": [
    "def poisson(x,A=2):\n",
    "    return B*((A**x/misc.factorial(x))*np.e**(-A))"
   ]
  },
  {
   "cell_type": "code",
   "execution_count": 7,
   "metadata": {
    "collapsed": false
   },
   "outputs": [],
   "source": [
    "mod_pos = models.Model(poisson)"
   ]
  },
  {
   "cell_type": "code",
   "execution_count": 8,
   "metadata": {
    "collapsed": false
   },
   "outputs": [],
   "source": [
    "err = []\n",
    "gold_fit_reports = []\n",
    "gold_fit_pars = []\n",
    "for i in liste_gold:\n",
    "    if i[0].size < 1:\n",
    "        continue\n",
    "    err_temp = None\n",
    "    err_temp = np.sqrt(i[1])\n",
    "    err_temp = np.where(err_temp == 0, 1, err_temp)\n",
    "    err.append(np.where(np.sqrt(i[1]) == 0, 1, np.sqrt(i[1])))\n",
    "    pars = mod_pos.make_params()\n",
    "    fit = mod_pos.fit(i[1],\n",
    "                  pars,\n",
    "                  A= np.sum(i[0]*i[1]/180),\n",
    "                  B=np.sum(i[1]),\n",
    "                  weights=1/err_temp,\n",
    "                  x=i[0])\n",
    "    gold_fit_reports.append(fit.fit_report())\n",
    "    gold_fit_pars.append(np.array([fit.best_values,fit.chisqr]))\n",
    "    fit.plot()\n",
    "    plt.show()"
   ]
  },
  {
   "cell_type": "code",
   "execution_count": 9,
   "metadata": {
    "collapsed": true
   },
   "outputs": [
    {
     "name": "stdout",
     "output_type": "stream",
     "text": [
      "[[Model]]\n",
      "    Model(poisson)\n",
      "[[Fit Statistics]]\n",
      "    # function evals   = 7\n",
      "    # data points      = 2\n",
      "    # variables        = 2\n",
      "    chi-square         = 0.000\n",
      "    reduced chi-square = inf\n",
      "[[Variables]]\n",
      "    A:   0.00558659 +/- inf      (inf%) (init= 0.005555556)\n",
      "    B:   180.002798 +/- inf      (inf%) (init= 180)\n",
      "[[Correlations]] (unreported correlations are <  0.100) \n",
      "\n",
      "\n",
      "\n",
      "\n",
      "\n",
      "[[Model]]\n",
      "    Model(poisson)\n",
      "[[Fit Statistics]]\n",
      "    # function evals   = 10\n",
      "    # data points      = 2\n",
      "    # variables        = 2\n",
      "    chi-square         = 0.000\n",
      "    reduced chi-square = inf\n",
      "[[Variables]]\n",
      "    A:   0.01685393 +/- inf      (inf%) (init= 0.01666667)\n",
      "    B:   181.025423 +/- inf      (inf%) (init= 181)\n",
      "[[Correlations]] (unreported correlations are <  0.100) \n",
      "\n",
      "\n",
      "\n",
      "\n",
      "\n",
      "[[Model]]\n",
      "    Model(poisson)\n",
      "[[Fit Statistics]]\n",
      "    # function evals   = 10\n",
      "    # data points      = 2\n",
      "    # variables        = 2\n",
      "    chi-square         = 0.000\n",
      "    reduced chi-square = inf\n",
      "[[Variables]]\n",
      "    A:   0.02857142 +/- inf      (inf%) (init= 0.02777778)\n",
      "    B:   180.072113 +/- inf      (inf%) (init= 180)\n",
      "[[Correlations]] (unreported correlations are <  0.100) \n",
      "\n",
      "\n",
      "\n",
      "\n",
      "\n",
      "[[Model]]\n",
      "    Model(poisson)\n",
      "[[Fit Statistics]]\n",
      "    # function evals   = 10\n",
      "    # data points      = 2\n",
      "    # variables        = 2\n",
      "    chi-square         = 0.000\n",
      "    reduced chi-square = inf\n",
      "[[Variables]]\n",
      "    A:   0.11656441 +/- inf      (inf%) (init= 0.1055556)\n",
      "    B:   183.151671 +/- inf      (inf%) (init= 182)\n",
      "[[Correlations]] (unreported correlations are <  0.100) \n",
      "\n",
      "\n",
      "\n",
      "\n",
      "\n",
      "[[Model]]\n",
      "    Model(poisson)\n",
      "[[Fit Statistics]]\n",
      "    # function evals   = 13\n",
      "    # data points      = 4\n",
      "    # variables        = 2\n",
      "    chi-square         = 0.749\n",
      "    reduced chi-square = 0.374\n",
      "[[Variables]]\n",
      "    A:   0.26494802 +/- 0.024519 (9.25%) (init= 0.2722222)\n",
      "    B:   179.281015 +/- 8.193495 (4.57%) (init= 180)\n",
      "[[Correlations]] (unreported correlations are <  0.100) \n",
      "\n",
      "\n",
      "\n",
      "\n",
      "\n",
      "[[Model]]\n",
      "    Model(poisson)\n",
      "[[Fit Statistics]]\n",
      "    # function evals   = 13\n",
      "    # data points      = 10\n",
      "    # variables        = 2\n",
      "    chi-square         = 2.335\n",
      "    reduced chi-square = 0.292\n",
      "[[Variables]]\n",
      "    A:   2.15070167 +/- 0.061822 (2.87%) (init= 2.183333)\n",
      "    B:   177.914959 +/- 7.211550 (4.05%) (init= 180)\n",
      "[[Correlations]] (unreported correlations are <  0.100) \n",
      "\n",
      "\n",
      "\n",
      "\n",
      "\n",
      "[[Model]]\n",
      "    Model(poisson)\n",
      "[[Fit Statistics]]\n",
      "    # function evals   = 10\n",
      "    # data points      = 23\n",
      "    # variables        = 2\n",
      "    chi-square         = 22.505\n",
      "    reduced chi-square = 1.072\n",
      "[[Variables]]\n",
      "    A:   13.0034445 +/- 0.307825 (2.37%) (init= 13.11667)\n",
      "    B:   158.876015 +/- 13.10848 (8.25%) (init= 180)\n",
      "[[Correlations]] (unreported correlations are <  0.100) \n",
      "\n",
      "\n",
      "\n",
      "\n",
      "\n",
      "[[Model]]\n",
      "    Model(poisson)\n",
      "[[Fit Statistics]]\n",
      "    # function evals   = 10\n",
      "    # data points      = 29\n",
      "    # variables        = 2\n",
      "    chi-square         = 19.390\n",
      "    reduced chi-square = 0.718\n",
      "[[Variables]]\n",
      "    A:   19.1316514 +/- 0.310056 (1.62%) (init= 19.25)\n",
      "    B:   164.677786 +/- 11.02502 (6.69%) (init= 180)\n",
      "[[Correlations]] (unreported correlations are <  0.100) \n",
      "\n",
      "\n",
      "\n",
      "\n",
      "\n",
      "[[Model]]\n",
      "    Model(poisson)\n",
      "[[Fit Statistics]]\n",
      "    # function evals   = 13\n",
      "    # data points      = 15\n",
      "    # variables        = 2\n",
      "    chi-square         = 12.144\n",
      "    reduced chi-square = 0.934\n",
      "[[Variables]]\n",
      "    A:   5.01081496 +/- 0.181215 (3.62%) (init= 5.038889)\n",
      "    B:   168.710186 +/- 12.58782 (7.46%) (init= 180)\n",
      "[[Correlations]] (unreported correlations are <  0.100) \n",
      "\n",
      "\n",
      "\n",
      "\n",
      "\n",
      "[[Model]]\n",
      "    Model(poisson)\n",
      "[[Fit Statistics]]\n",
      "    # function evals   = 10\n",
      "    # data points      = 4\n",
      "    # variables        = 2\n",
      "    chi-square         = 0.233\n",
      "    reduced chi-square = 0.117\n",
      "[[Variables]]\n",
      "    A:   0.56823172 +/- 0.020128 (3.54%) (init= 0.5611111)\n",
      "    B:   180.265995 +/- 4.591913 (2.55%) (init= 180)\n",
      "[[Correlations]] (unreported correlations are <  0.100) \n",
      "\n",
      "\n",
      "\n",
      "\n",
      "\n",
      "[[Model]]\n",
      "    Model(poisson)\n",
      "[[Fit Statistics]]\n",
      "    # function evals   = 10\n",
      "    # data points      = 2\n",
      "    # variables        = 2\n",
      "    chi-square         = 0.000\n",
      "    reduced chi-square = inf\n",
      "[[Variables]]\n",
      "    A:   0.08433734 +/- inf      (inf%) (init= 0.07777778)\n",
      "    B:   180.607313 +/- inf      (inf%) (init= 180)\n",
      "[[Correlations]] (unreported correlations are <  0.100) \n",
      "\n",
      "\n",
      "\n",
      "\n",
      "\n",
      "[[Model]]\n",
      "    Model(poisson)\n",
      "[[Fit Statistics]]\n",
      "    # function evals   = 10\n",
      "    # data points      = 2\n",
      "    # variables        = 2\n",
      "    chi-square         = 0.000\n",
      "    reduced chi-square = nan\n",
      "[[Variables]]\n",
      "    A:   0.07142857 +/- nan      (nan%) (init= 0.06666667)\n",
      "    B:   180.438960 +/- nan      (nan%) (init= 180)\n",
      "[[Correlations]] (unreported correlations are <  0.100) \n",
      "\n",
      "\n",
      "\n",
      "\n",
      "\n",
      "[[Model]]\n",
      "    Model(poisson)\n",
      "[[Fit Statistics]]\n",
      "    # function evals   = 10\n",
      "    # data points      = 2\n",
      "    # variables        = 2\n",
      "    chi-square         = 0.000\n",
      "    reduced chi-square = inf\n",
      "[[Variables]]\n",
      "    A:   0.02272727 +/- inf      (inf%) (init= 0.02222222)\n",
      "    B:   180.045800 +/- inf      (inf%) (init= 180)\n",
      "[[Correlations]] (unreported correlations are <  0.100) \n",
      "\n",
      "\n",
      "\n",
      "\n",
      "\n"
     ]
    }
   ],
   "source": [
    "for i in gold_fit_reports:\n",
    "    print(i, \"\\n\\n\\n\\n\\n\")"
   ]
  },
  {
   "cell_type": "code",
   "execution_count": 59,
   "metadata": {
    "collapsed": false
   },
   "outputs": [],
   "source": [
    "file_list_alu = []\n",
    "liste_alu = []\n",
    "for i in glob('/home/frederik/Dokumente/FP/Rutherford/MessdatenRutherford/Alu2/*.txt'):\n",
    "    file_list_alu.append(i)\n",
    "\n",
    "    \n",
    "file_list_alu.sort()    \n",
    "    \n",
    "for i in file_list_alu:\n",
    "    liste_alu.append(np.array(pd.read_csv(i,skiprows=0,delim_whitespace=2)).T)"
   ]
  },
  {
   "cell_type": "code",
   "execution_count": 60,
   "metadata": {
    "collapsed": false
   },
   "outputs": [
    {
     "name": "stdout",
     "output_type": "stream",
     "text": [
      "/home/frederik/Dokumente/FP/Rutherford/MessdatenRutherford/Alu2/1.Messung-30GradAlu.txt\n",
      "/home/frederik/Dokumente/FP/Rutherford/MessdatenRutherford/Alu2/2.Messun-25GradAlu.txt\n",
      "/home/frederik/Dokumente/FP/Rutherford/MessdatenRutherford/Alu2/3.Messun-20GradAlu.txt\n",
      "/home/frederik/Dokumente/FP/Rutherford/MessdatenRutherford/Alu2/4.Messun-15GradAlu.txt\n",
      "/home/frederik/Dokumente/FP/Rutherford/MessdatenRutherford/Alu2/5.Messun-10GradAlu.txt\n",
      "/home/frederik/Dokumente/FP/Rutherford/MessdatenRutherford/Alu2/6.Messun-5GradAlu.txt\n",
      "/home/frederik/Dokumente/FP/Rutherford/MessdatenRutherford/Alu2/7.Messung0GradAlu.txt\n",
      "/home/frederik/Dokumente/FP/Rutherford/MessdatenRutherford/Alu2/8.Messung5GradAlu.txt\n",
      "/home/frederik/Dokumente/FP/Rutherford/MessdatenRutherford/Alu2/9.Messung10GradAlu.txt\n",
      "/home/frederik/Dokumente/FP/Rutherford/MessdatenRutherford/Alu2/910.Messung15GradAlu.txt\n",
      "/home/frederik/Dokumente/FP/Rutherford/MessdatenRutherford/Alu2/911.Messung20GradAlu.txt\n",
      "/home/frederik/Dokumente/FP/Rutherford/MessdatenRutherford/Alu2/912.Messung25GradAlu.txt\n",
      "/home/frederik/Dokumente/FP/Rutherford/MessdatenRutherford/Alu2/913.Messung30GradAlu.txt\n"
     ]
    }
   ],
   "source": [
    "for i in file_list_alu:\n",
    "    print(i)"
   ]
  },
  {
   "cell_type": "code",
   "execution_count": 76,
   "metadata": {
    "collapsed": false
   },
   "outputs": [],
   "source": [
    "alu_fit_reports = []\n",
    "alu_fit_pars = []\n",
    "count = 0\n",
    "for i in liste_alu:\n",
    "    if i[0].size < 1:\n",
    "        continue\n",
    "    err_temp = None\n",
    "    err_temp = np.sqrt(i[1])\n",
    "    err_temp = np.where(err_temp == 0, 1, err_temp)\n",
    "    pars = mod_pos.make_params()\n",
    "    pars[\"B\"].set(vary=False)\n",
    "    fit = mod_pos.fit(i[1],\n",
    "                  pars,\n",
    "                  A= np.sum(i[0]*i[1]/180),\n",
    "                  B=np.sum(i[1]),\n",
    "                  weights=1/err_temp,\n",
    "                  x=i[0])\n",
    "    alu_fit_reports.append(fit.fit_report())\n",
    "    alu_fit_pars.append(np.array([fit.best_values,fit.chisqr]))\n",
    "    fit.plot()\n",
    "    plt.show()"
   ]
  },
  {
   "cell_type": "code",
   "execution_count": 75,
   "metadata": {
    "collapsed": false,
    "scrolled": false
   },
   "outputs": [
    {
     "name": "stdout",
     "output_type": "stream",
     "text": [
      "[[Model]]\n",
      "    Model(poisson)\n",
      "[[Fit Statistics]]\n",
      "    # function evals   = 2\n",
      "    # data points      = 1\n",
      "    # variables        = 1\n",
      "    chi-square         = 0.000\n",
      "    reduced chi-square = nan\n",
      "[[Variables]]\n",
      "    A:   1.4901e-08 +/- nan      (nan%) (init= 0)\n",
      "    B:   180 (fixed)\n",
      "[[Correlations]] (unreported correlations are <  0.100) \n",
      "\n",
      "\n",
      "\n",
      "\n",
      "\n",
      "[[Model]]\n",
      "    Model(poisson)\n",
      "[[Fit Statistics]]\n",
      "    # function evals   = 2\n",
      "    # data points      = 1\n",
      "    # variables        = 1\n",
      "    chi-square         = 0.000\n",
      "    reduced chi-square = nan\n",
      "[[Variables]]\n",
      "    A:   1.4901e-08 +/- nan      (nan%) (init= 0)\n",
      "    B:   180 (fixed)\n",
      "[[Correlations]] (unreported correlations are <  0.100) \n",
      "\n",
      "\n",
      "\n",
      "\n",
      "\n",
      "[[Model]]\n",
      "    Model(poisson)\n",
      "[[Fit Statistics]]\n",
      "    # function evals   = 6\n",
      "    # data points      = 2\n",
      "    # variables        = 1\n",
      "    chi-square         = 0.000\n",
      "    reduced chi-square = 0.000\n",
      "[[Variables]]\n",
      "    A:   0.00558659 +/- 1.17e-06 (0.02%) (init= 0.005555556)\n",
      "    B:   180 (fixed)\n",
      "[[Correlations]] (unreported correlations are <  0.100) \n",
      "\n",
      "\n",
      "\n",
      "\n",
      "\n",
      "[[Model]]\n",
      "    Model(poisson)\n",
      "[[Fit Statistics]]\n",
      "    # function evals   = 6\n",
      "    # data points      = 2\n",
      "    # variables        = 1\n",
      "    chi-square         = 0.000\n",
      "    reduced chi-square = 0.000\n",
      "[[Variables]]\n",
      "    A:   0.02857109 +/- 6.97e-05 (0.24%) (init= 0.02777778)\n",
      "    B:   180 (fixed)\n",
      "[[Correlations]] (unreported correlations are <  0.100) \n",
      "\n",
      "\n",
      "\n",
      "\n",
      "\n",
      "[[Model]]\n",
      "    Model(poisson)\n",
      "[[Fit Statistics]]\n",
      "    # function evals   = 9\n",
      "    # data points      = 3\n",
      "    # variables        = 1\n",
      "    chi-square         = 1.317\n",
      "    reduced chi-square = 0.658\n",
      "[[Variables]]\n",
      "    A:   0.06966521 +/- 0.016393 (23.53%) (init= 0.08333333)\n",
      "    B:   180 (fixed)\n",
      "[[Correlations]] (unreported correlations are <  0.100) \n",
      "\n",
      "\n",
      "\n",
      "\n",
      "\n",
      "[[Model]]\n",
      "    Model(poisson)\n",
      "[[Fit Statistics]]\n",
      "    # function evals   = 9\n",
      "    # data points      = 11\n",
      "    # variables        = 1\n",
      "    chi-square         = 5.763\n",
      "    reduced chi-square = 0.576\n",
      "[[Variables]]\n",
      "    A:   4.43912404 +/- 0.117781 (2.65%) (init= 4.383333)\n",
      "    B:   180 (fixed)\n",
      "[[Correlations]] (unreported correlations are <  0.100) \n",
      "\n",
      "\n",
      "\n",
      "\n",
      "\n",
      "[[Model]]\n",
      "    Model(poisson)\n",
      "[[Fit Statistics]]\n",
      "    # function evals   = 11\n",
      "    # data points      = 52\n",
      "    # variables        = 1\n",
      "    chi-square         = 51.952\n",
      "    reduced chi-square = 1.019\n",
      "[[Variables]]\n",
      "    A:   31.2206976 +/- 0.415659 (1.33%) (init= 31.88889)\n",
      "    B:   180 (fixed)\n",
      "[[Correlations]] (unreported correlations are <  0.100) \n",
      "\n",
      "\n",
      "\n",
      "\n",
      "\n",
      "[[Model]]\n",
      "    Model(poisson)\n",
      "[[Fit Statistics]]\n",
      "    # function evals   = 9\n",
      "    # data points      = 17\n",
      "    # variables        = 1\n",
      "    chi-square         = 23.749\n",
      "    reduced chi-square = 1.484\n",
      "[[Variables]]\n",
      "    A:   7.70573149 +/- 0.233267 (3.03%) (init= 7.722222)\n",
      "    B:   180 (fixed)\n",
      "[[Correlations]] (unreported correlations are <  0.100) \n",
      "\n",
      "\n",
      "\n",
      "\n",
      "\n",
      "[[Model]]\n",
      "    Model(poisson)\n",
      "[[Fit Statistics]]\n",
      "    # function evals   = 7\n",
      "    # data points      = 2\n",
      "    # variables        = 1\n",
      "    chi-square         = 0.002\n",
      "    reduced chi-square = 0.002\n",
      "[[Variables]]\n",
      "    A:   0.08568653 +/- 0.001106 (1.29%) (init= 0.08333333)\n",
      "    B:   190 (fixed)\n",
      "[[Correlations]] (unreported correlations are <  0.100) \n",
      "\n",
      "\n",
      "\n",
      "\n",
      "\n",
      "[[Model]]\n",
      "    Model(poisson)\n",
      "[[Fit Statistics]]\n",
      "    # function evals   = 6\n",
      "    # data points      = 2\n",
      "    # variables        = 1\n",
      "    chi-square         = 0.000\n",
      "    reduced chi-square = 0.000\n",
      "[[Variables]]\n",
      "    A:   0.01123594 +/- 6.72e-06 (0.06%) (init= 0.01111111)\n",
      "    B:   180 (fixed)\n",
      "[[Correlations]] (unreported correlations are <  0.100) \n",
      "\n",
      "\n",
      "\n",
      "\n",
      "\n",
      "[[Model]]\n",
      "    Model(poisson)\n",
      "[[Fit Statistics]]\n",
      "    # function evals   = 6\n",
      "    # data points      = 2\n",
      "    # variables        = 1\n",
      "    chi-square         = 0.000\n",
      "    reduced chi-square = 0.000\n",
      "[[Variables]]\n",
      "    A:   0.00558659 +/- 1.17e-06 (0.02%) (init= 0.005555556)\n",
      "    B:   180 (fixed)\n",
      "[[Correlations]] (unreported correlations are <  0.100) \n",
      "\n",
      "\n",
      "\n",
      "\n",
      "\n",
      "[[Model]]\n",
      "    Model(poisson)\n",
      "[[Fit Statistics]]\n",
      "    # function evals   = 2\n",
      "    # data points      = 1\n",
      "    # variables        = 1\n",
      "    chi-square         = 0.000\n",
      "    reduced chi-square = nan\n",
      "[[Variables]]\n",
      "    A:   1.4901e-08 +/- nan      (nan%) (init= 0)\n",
      "    B:   180 (fixed)\n",
      "[[Correlations]] (unreported correlations are <  0.100) \n",
      "\n",
      "\n",
      "\n",
      "\n",
      "\n",
      "[[Model]]\n",
      "    Model(poisson)\n",
      "[[Fit Statistics]]\n",
      "    # function evals   = 2\n",
      "    # data points      = 1\n",
      "    # variables        = 1\n",
      "    chi-square         = 0.000\n",
      "    reduced chi-square = nan\n",
      "[[Variables]]\n",
      "    A:   1.4901e-08 +/- nan      (nan%) (init= 0)\n",
      "    B:   180 (fixed)\n",
      "[[Correlations]] (unreported correlations are <  0.100) \n",
      "\n",
      "\n",
      "\n",
      "\n",
      "\n"
     ]
    }
   ],
   "source": [
    "for i in alu_fit_reports:\n",
    "    print(i, \"\\n\\n\\n\\n\\n\")"
   ]
  },
  {
   "cell_type": "code",
   "execution_count": 22,
   "metadata": {
    "collapsed": false,
    "scrolled": false
   },
   "outputs": [
    {
     "name": "stdout",
     "output_type": "stream",
     "text": [
      "0.00558659217877\n",
      "0.0168539325843\n",
      "0.0285714285714\n",
      "0.116564417178\n",
      "0.264948023927\n",
      "2.15070167481\n",
      "13.0034445013\n",
      "19.131651438\n",
      "5.01081496575\n",
      "0.568231725727\n",
      "0.0843373493976\n",
      "0.0714285714286\n",
      "0.0227272727273\n"
     ]
    }
   ],
   "source": [
    "counts_gold = []\n",
    "for i in gold_fit_pars:\n",
    "    print(i[0][\"A\"])\n",
    "    counts_gold.append(i[0][\"A\"])"
   ]
  },
  {
   "cell_type": "code",
   "execution_count": 15,
   "metadata": {
    "collapsed": false
   },
   "outputs": [
    {
     "name": "stdout",
     "output_type": "stream",
     "text": [
      "-30  :  0.00558659217877\n",
      "-25  :  0.0168539325843\n",
      "-20  :  0.0285714285714\n",
      "-15  :  0.116564417178\n",
      "-10  :  0.264948023927\n",
      "-5  :  2.15070167481\n",
      "0  :  13.0034445013\n",
      "5  :  19.131651438\n",
      "10  :  5.01081496575\n",
      "15  :  0.568231725727\n",
      "20  :  0.0843373493976\n",
      "25  :  0.0714285714286\n",
      "30  :  0.0227272727273\n"
     ]
    }
   ],
   "source": [
    "for i,j in zip(np.arange(-30,35,5),np.arange(0,14,1)):\n",
    "    print(i, \" : \", counts_gold[j])"
   ]
  },
  {
   "cell_type": "code",
   "execution_count": 16,
   "metadata": {
    "collapsed": true
   },
   "outputs": [],
   "source": [
    "x = np.arange(-30,35,5)"
   ]
  },
  {
   "cell_type": "code",
   "execution_count": 17,
   "metadata": {
    "collapsed": true
   },
   "outputs": [],
   "source": [
    "def ruth(x,A,B):\n",
    "    return A/(np.sin((((x-B)*np.pi)/180)/2)**4)"
   ]
  },
  {
   "cell_type": "code",
   "execution_count": 18,
   "metadata": {
    "collapsed": true
   },
   "outputs": [],
   "source": [
    "mod_ruth = models.Model(ruth)\n",
    "pars_2 = mod_ruth.make_params(A=0.000001, B=5)"
   ]
  },
  {
   "cell_type": "code",
   "execution_count": 19,
   "metadata": {
    "collapsed": false,
    "scrolled": true
   },
   "outputs": [
    {
     "name": "stdout",
     "output_type": "stream",
     "text": [
      "[[Model]]\n",
      "    Model(ruth)\n",
      "[[Fit Statistics]]\n",
      "    # function evals   = 19\n",
      "    # data points      = 13\n",
      "    # variables        = 2\n",
      "    chi-square         = 27.320\n",
      "    reduced chi-square = 2.484\n",
      "[[Variables]]\n",
      "    A:   3.5657e-06 +/- 2.65e-07 (7.44%) (init= 5e-05)\n",
      "    B:   2.62011909 +/- 0.045551 (1.74%) (init= 3)\n",
      "[[Correlations]] (unreported correlations are <  0.100)\n",
      "    C(A, B)                      = -0.407 \n"
     ]
    }
   ],
   "source": [
    "out_2 = mod_ruth.fit(counts_gold,\n",
    "                    pars_2,\n",
    "                    A=0.00005,\n",
    "                    B=3,\n",
    "                    x=x)\n",
    "print(out_2.fit_report())"
   ]
  },
  {
   "cell_type": "code",
   "execution_count": 20,
   "metadata": {
    "collapsed": false
   },
   "outputs": [],
   "source": [
    "out_2.plot()\n",
    "plt.ylim([0,21])\n",
    "plt.show()"
   ]
  },
  {
   "cell_type": "code",
   "execution_count": 84,
   "metadata": {
    "collapsed": false
   },
   "outputs": [],
   "source": [
    "plt.plot(np.arange(-30,31,0.01),ruth(np.arange(-30,31,0.01),0.00001,3),label='B=0.00001')\n",
    "plt.plot(np.arange(-30,31,0.01),ruth(np.arange(-30,31,0.01),0.00003,3),label='B=0.00003')\n",
    "plt.plot(np.arange(-30,31,0.01),ruth(np.arange(-30,31,0.01),0.00005,3),label='B=0.00005')\n",
    "plt.ylim([0,30])\n",
    "plt.errorbar(x,counts_gold,np.sqrt(counts_gold),xerr=2,fmt='. ')\n",
    "plt.legend(loc='best')\n",
    "plt.show()"
   ]
  },
  {
   "cell_type": "code",
   "execution_count": 72,
   "metadata": {
    "collapsed": false
   },
   "outputs": [
    {
     "name": "stdout",
     "output_type": "stream",
     "text": [
      "1.49011611939e-08\n",
      "1.49011611939e-08\n",
      "0.00558659177403\n",
      "0.0285710926259\n",
      "0.0696652120635\n",
      "4.43912404162\n",
      "31.2206976236\n",
      "7.70573149356\n",
      "0.0856865370416\n",
      "0.011235947224\n",
      "0.00558659177403\n",
      "1.49011611939e-08\n",
      "1.49011611939e-08\n"
     ]
    }
   ],
   "source": [
    "counts_alu = []\n",
    "for i in alu_fit_pars:\n",
    "    print(i[0][\"A\"])\n",
    "    counts_alu.append(i[0][\"A\"])"
   ]
  },
  {
   "cell_type": "code",
   "execution_count": 68,
   "metadata": {
    "collapsed": true
   },
   "outputs": [],
   "source": [
    "plt.errorbar(x,counts_alu,np.sqrt(counts_alu),xerr=2,fmt='. ')\n",
    "plt.show()"
   ]
  },
  {
   "cell_type": "code",
   "execution_count": 63,
   "metadata": {
    "collapsed": false,
    "scrolled": true
   },
   "outputs": [
    {
     "name": "stdout",
     "output_type": "stream",
     "text": [
      "[[Model]]\n",
      "    Model(ruth)\n",
      "[[Fit Statistics]]\n",
      "    # function evals   = 3\n",
      "    # data points      = 13\n",
      "    # variables        = 2\n",
      "    chi-square         = inf\n",
      "    reduced chi-square = inf\n",
      "[[Variables]]\n",
      "    A:   1.0000e-08 +/- 0        (0.00%) (init= 1e-08)\n",
      "    B:   1.4901e-08 +/- 0        (0.00%) (init= 0)\n",
      "[[Correlations]] (unreported correlations are <  0.100)\n"
     ]
    }
   ],
   "source": [
    "out_3 = mod_ruth.fit(counts_alu,\n",
    "                    pars_2,\n",
    "                    A=0.00000001,\n",
    "                    B=0,\n",
    "                    x=x)\n",
    "print(out_3.fit_report())"
   ]
  },
  {
   "cell_type": "code",
   "execution_count": 79,
   "metadata": {
    "collapsed": false
   },
   "outputs": [],
   "source": [
    "out_3.plot()\n",
    "plt.ylim([0,33])\n",
    "plt.show()"
   ]
  },
  {
   "cell_type": "code",
   "execution_count": 83,
   "metadata": {
    "collapsed": true
   },
   "outputs": [],
   "source": [
    "plt.plot(np.arange(-30,31,0.01),ruth(np.arange(-30,31,0.01),0.00001,1.7),label='B=0.00001')\n",
    "plt.plot(np.arange(-30,31,0.01),ruth(np.arange(-30,31,0.01),0.00003,1.7),label='B=0.00003')\n",
    "plt.plot(np.arange(-30,31,0.01),ruth(np.arange(-30,31,0.01),0.00005,1.7),label='B=0.00005')\n",
    "plt.ylim([0,35])\n",
    "plt.errorbar(x,counts_alu,np.sqrt(counts_alu),xerr=2,fmt='. ')\n",
    "plt.legend(loc='best')\n",
    "plt.show()"
   ]
  },
  {
   "cell_type": "code",
   "execution_count": null,
   "metadata": {
    "collapsed": false
   },
   "outputs": [],
   "source": [
    "plt.plot(x,counts_gold, 'r.')\n",
    "plt.legend(loc = 'best', fontsize = 22)\n",
    "plt.tick_params(labelsize= 22)\n",
    "plt.ylabel(r\"Counts/s\", fontsize = 26)\n",
    "plt.xlabel(r\"$\\theta/^{\\circ}$\", fontsize = 26)\n",
    "plt.show()"
   ]
  },
  {
   "cell_type": "code",
   "execution_count": null,
   "metadata": {
    "collapsed": false
   },
   "outputs": [],
   "source": [
    "plt.plot(x,counts_alu, 'r.')\n",
    "plt.legend(loc = 'best', fontsize = 22)\n",
    "plt.tick_params(labelsize= 22)\n",
    "plt.ylabel(r\"Counts/s\", fontsize = 26)\n",
    "plt.xlabel(r\"$\\theta/^{\\circ}$\", fontsize = 26)\n",
    "plt.show()"
   ]
  },
  {
   "cell_type": "code",
   "execution_count": null,
   "metadata": {
    "collapsed": false
   },
   "outputs": [],
   "source": [
    "print(x.size)\n",
    "len(counts_alu)"
   ]
  },
  {
   "cell_type": "code",
   "execution_count": null,
   "metadata": {
    "collapsed": false
   },
   "outputs": [],
   "source": [
    "for i in liste_alu:\n",
    "    a= np.sum(i[1])\n",
    "    print(a)\n",
    "listealudebug = glob('/home/arrow13/Git/FP/Rutherford/MessdatenRutherford/Alu/*.txt')\n",
    "listealudebug.sort()\n",
    "for i in listealudebug:\n",
    "    print(i)"
   ]
  },
  {
   "cell_type": "code",
   "execution_count": null,
   "metadata": {
    "collapsed": false,
    "scrolled": true
   },
   "outputs": [],
   "source": [
    "for i in liste_gold:\n",
    "    b= np.sum(i[1])\n",
    "    print(b)\n",
    "listegolddebug = glob('/home/arrow13/Git/FP/Rutherford/MessdatenRutherford/Gold/*.txt')\n",
    "listegolddebug.sort()\n",
    "for i in listegolddebug:\n",
    "    print(i)"
   ]
  },
  {
   "cell_type": "markdown",
   "metadata": {},
   "source": [
    "# Da Fehlen teilweise Messwerte wie du siehst und ich du musst auch die fits mit nur einem Messwert nehmen, sonst gibt es probleme.\n",
    "# Die Changes kannst du bei Github nachgucken."
   ]
  }
 ],
 "metadata": {
  "kernelspec": {
   "display_name": "Python 3",
   "language": "python",
   "name": "python3"
  },
  "language_info": {
   "codemirror_mode": {
    "name": "ipython",
    "version": 3
   },
   "file_extension": ".py",
   "mimetype": "text/x-python",
   "name": "python",
   "nbconvert_exporter": "python",
   "pygments_lexer": "ipython3",
   "version": "3.4.3"
  }
 },
 "nbformat": 4,
 "nbformat_minor": 0
}
