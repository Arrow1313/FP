{
 "cells": [
  {
   "cell_type": "code",
   "execution_count": 1,
   "metadata": {
    "collapsed": false
   },
   "outputs": [
    {
     "name": "stderr",
     "output_type": "stream",
     "text": [
      ":0: FutureWarning: IPython widgets are experimental and may change in the future.\n"
     ]
    }
   ],
   "source": [
    "import numpy as np\n",
    "import pandas as pd\n",
    "import matplotlib.pyplot as plt\n",
    "from lmfit.models import GaussianModel,LinearModel\n",
    "from glob import glob"
   ]
  },
  {
   "cell_type": "code",
   "execution_count": 2,
   "metadata": {
    "collapsed": true
   },
   "outputs": [],
   "source": [
    "%matplotlib qt "
   ]
  },
  {
   "cell_type": "markdown",
   "metadata": {
    "collapsed": true
   },
   "source": [
    "#Rutherfordstreuung"
   ]
  },
  {
   "cell_type": "markdown",
   "metadata": {},
   "source": [
    "##Rutherfordsteuuformel\n",
    "<br>\n",
    "$\\huge \\huge \\frac{d\\sigma}{d\\Omega} = 1.3 \\cdot 10^{-3} \\left( \\frac{Z_1 Z_2}{E_0} \\right) \\frac{1}{sin^4\\left(\\frac{\\theta}{2}\\right)}$\n",
    "\n",
    "<ul>\n",
    "    <li>$\\sigma$: Differentielle WQ\n",
    "    <li>$\\Theta$: Winkel\n",
    "    <li>$Z_i$: Kernlagundszahl\n",
    "    <li>E: Energie\n",
    "</ul>   "
   ]
  },
  {
   "cell_type": "code",
   "execution_count": 3,
   "metadata": {
    "collapsed": false
   },
   "outputs": [],
   "source": [
    "def rutherfordsteuung(theta,Z_1,Z_2,E,b):\n",
    "    e = 1.602 * 10**-19\n",
    "    return (Z_1*Z_2*e**2)/(4*E*np.sin((3.14*theta-b)/360)**4)"
   ]
  },
  {
   "cell_type": "markdown",
   "metadata": {
    "collapsed": true
   },
   "source": [
    "#Energieverlust von $\\alpha$-Strahlung in Luft"
   ]
  },
  {
   "cell_type": "markdown",
   "metadata": {},
   "source": [
    "# Energie-Kanal kalibration"
   ]
  },
  {
   "cell_type": "code",
   "execution_count": 4,
   "metadata": {
    "collapsed": false
   },
   "outputs": [
    {
     "name": "stdout",
     "output_type": "stream",
     "text": [
      "/home/frederik/Dokumente/FP/Rutherford/MessdatenRutherford/kalib\n"
     ]
    }
   ],
   "source": [
    "cd /home/frederik/Dokumente/FP/Rutherford/MessdatenRutherford/kalib/"
   ]
  },
  {
   "cell_type": "code",
   "execution_count": 5,
   "metadata": {
    "collapsed": false
   },
   "outputs": [],
   "source": [
    "data = np.array(pd.read_csv(\"energiekalpib_30Torr.csv\",skiprows=15,delimiter=\"\\t\")).T"
   ]
  },
  {
   "cell_type": "code",
   "execution_count": 6,
   "metadata": {
    "collapsed": false
   },
   "outputs": [],
   "source": [
    "plt.errorbar(data[0],data[1],np.sqrt(data[1]))\n",
    "plt.show()"
   ]
  },
  {
   "cell_type": "markdown",
   "metadata": {},
   "source": [
    "## Händische schätzung für die Peaks\n",
    "\n",
    "    - 1: x=250, y=180\n",
    "    - 2: x=320, y=266\n",
    "    - 3: x=373, y=158\n",
    "    - 4: x=551, y=159\n",
    "    \n",
    "Mulitgauss mit den Werten konfigurieren und Fehler berechnen"
   ]
  },
  {
   "cell_type": "code",
   "execution_count": 7,
   "metadata": {
    "collapsed": false
   },
   "outputs": [],
   "source": [
    "err = np.sqrt(data[1][200:612])\n",
    "err = np.where(err == 0, 1, err)"
   ]
  },
  {
   "cell_type": "code",
   "execution_count": 151,
   "metadata": {
    "collapsed": false
   },
   "outputs": [],
   "source": [
    "y = data[1][200:612]\n",
    "x = data[0][200:612]\n",
    "\n",
    "\n",
    "g_1 = GaussianModel(prefix=\"g_1\")\n",
    "pars = g_1.guess(y,x=x)\n",
    "\n",
    "pars['g_1center'].set(260, min=240, max=275)\n",
    "pars['g_1sigma'].set(15, min=3,max=22)\n",
    "pars['g_1amplitude'].set(10000, min=90)\n",
    "\n",
    "g_2 = GaussianModel(prefix=\"g_2\")\n",
    "pars.update( g_2.make_params())\n",
    "\n",
    "pars['g_2center'].set(320, min=300, max=345)\n",
    "pars['g_2sigma'].set(15, min=3)\n",
    "pars['g_2amplitude'].set(20000, min=1)\n",
    "\n",
    "\n",
    "g_3 = GaussianModel(prefix=\"g_3\")\n",
    "pars.update( g_3.make_params())\n",
    "\n",
    "pars['g_3center'].set(373, min=350, max=400)\n",
    "pars['g_3sigma'].set(15, min=3,max=20)\n",
    "pars['g_3amplitude'].set(10000, min=1)\n",
    "\n",
    "g_4 = GaussianModel(prefix=\"g_4\")\n",
    "pars.update( g_4.make_params())\n",
    "\n",
    "pars['g_4center'].set(551, min=530, max=570)\n",
    "pars['g_4sigma'].set(15, min=3)\n",
    "pars['g_4amplitude'].set(20000, min=1)\n",
    "\n",
    "\n",
    "\n",
    "mod = g_1 + g_2 + g_3 + g_4\n",
    "\n",
    "\n",
    "out = mod.fit(y,pars,x=x,weights=1/err)"
   ]
  },
  {
   "cell_type": "code",
   "execution_count": 68,
   "metadata": {
    "collapsed": false
   },
   "outputs": [
    {
     "name": "stdout",
     "output_type": "stream",
     "text": [
      "[[Model]]\n",
      "    (((Model(gaussian, prefix='g_1') + Model(gaussian, prefix='g_2')) + Model(gaussian, prefix='g_3')) + Model(gaussian, prefix='g_4'))\n",
      "[[Fit Statistics]]\n",
      "    # function evals   = 166\n",
      "    # data points      = 412\n",
      "    # variables        = 12\n",
      "    chi-square         = 686.653\n",
      "    reduced chi-square = 1.717\n",
      "[[Variables]]\n",
      "    g_1center:      255.238186 +/- 0.978131 (0.38%) (init= 260)\n",
      "    g_1sigma:       22         +/- 0.251185 (1.14%) (init= 15)\n",
      "    g_1amplitude:   8700.66363 +/- 308.8438 (3.55%) (init= 10000)\n",
      "    g_1fwhm:        51.8060400 +/- 0.591496 (1.14%)  == '2.3548200*g_1sigma'\n",
      "    g_2center:      315.461920 +/- 0.556987 (0.18%) (init= 320)\n",
      "    g_2sigma:       19.4956988 +/- 0.752410 (3.86%) (init= 15)\n",
      "    g_2amplitude:   12483.3777 +/- 459.5527 (3.68%) (init= 20000)\n",
      "    g_2fwhm:        45.9088615 +/- 1.771791 (3.86%)  == '2.3548200*g_2sigma'\n",
      "    g_3sigma:       18.5261936 +/- 0.488221 (2.64%) (init= 15)\n",
      "    g_3center:      372.541213 +/- 0.814979 (0.22%) (init= 373)\n",
      "    g_3amplitude:   7156.31880 +/- 243.6512 (3.40%) (init= 10000)\n",
      "    g_3fwhm:        43.6258513 +/- 1.149673 (2.64%)  == '2.3548200*g_3sigma'\n",
      "    g_4amplitude:   7170.98767 +/- 110.9777 (1.55%) (init= 20000)\n",
      "    g_4center:      548.630213 +/- 0.294916 (0.05%) (init= 551)\n",
      "    g_4sigma:       18.8975519 +/- 0.223919 (1.18%) (init= 15)\n",
      "    g_4fwhm:        44.5003333 +/- 0.527289 (1.18%)  == '2.3548200*g_4sigma'\n",
      "[[Correlations]] (unreported correlations are <  0.100)\n",
      "    C(g_2sigma, g_2amplitude)    =  0.902 \n",
      "    C(g_1center, g_1amplitude)   =  0.860 \n",
      "    C(g_1center, g_1sigma)       =  0.828 \n",
      "    C(g_3center, g_3amplitude)   = -0.825 \n",
      "    C(g_3sigma, g_3center)       = -0.819 \n",
      "    C(g_1sigma, g_1amplitude)    =  0.817 \n",
      "    C(g_1center, g_2amplitude)   = -0.799 \n",
      "    C(g_1amplitude, g_2amplitude)  = -0.792 \n",
      "    C(g_1amplitude, g_2sigma)    = -0.772 \n",
      "    C(g_1center, g_2sigma)       = -0.767 \n",
      "    C(g_2sigma, g_3amplitude)    = -0.751 \n",
      "    C(g_3sigma, g_3amplitude)    =  0.749 \n",
      "    C(g_2sigma, g_3center)       =  0.740 \n",
      "    C(g_2amplitude, g_3center)   =  0.727 \n",
      "    C(g_2amplitude, g_3amplitude)  = -0.724 \n",
      "    C(g_1sigma, g_2amplitude)    = -0.715 \n",
      "    C(g_1sigma, g_2sigma)        = -0.648 \n",
      "    C(g_2amplitude, g_3sigma)    = -0.627 \n",
      "    C(g_2sigma, g_3sigma)        = -0.614 \n",
      "    C(g_1center, g_2center)      =  0.517 \n",
      "    C(g_1sigma, g_2center)       =  0.516 \n",
      "    C(g_1amplitude, g_2center)   =  0.489 \n",
      "    C(g_1amplitude, g_3amplitude)  =  0.464 \n",
      "    C(g_1center, g_3amplitude)   =  0.453 \n",
      "    C(g_1amplitude, g_3center)   = -0.443 \n",
      "    C(g_1center, g_3center)      = -0.432 \n",
      "    C(g_1sigma, g_3amplitude)    =  0.365 \n",
      "    C(g_1amplitude, g_3sigma)    =  0.351 \n",
      "    C(g_1sigma, g_3center)       = -0.346 \n",
      "    C(g_1center, g_3sigma)       =  0.341 \n",
      "    C(g_2center, g_3sigma)       = -0.325 \n",
      "    C(g_2center, g_3center)      =  0.309 \n",
      "    C(g_1sigma, g_3sigma)        =  0.271 \n",
      "    C(g_2center, g_3amplitude)   = -0.261 \n",
      "    C(g_2center, g_2amplitude)   = -0.177 \n",
      "    C(g_2center, g_2sigma)       = -0.136 \n",
      "    C(g_4center, g_4sigma)       = -0.105 \n"
     ]
    }
   ],
   "source": [
    "print(out.fit_report())"
   ]
  },
  {
   "cell_type": "code",
   "execution_count": 10,
   "metadata": {
    "collapsed": false
   },
   "outputs": [],
   "source": [
    "plt.errorbar(data[0][200:612],data[1][200:612],np.sqrt(data[1][200:612]),fmt='. b',label=\"Messdaten\")\n",
    "plt.plot(data[0][200:612],out.best_fit, '-r',label=\"Muli-Gauss-Fit\")\n",
    "plt.xlabel(\"Kanal\",fontsize=22)\n",
    "plt.ylabel('Counts',fontsize=22)\n",
    "plt.xticks(fontsize=18)\n",
    "plt.yticks(fontsize=18)\n",
    "plt.legend()\n",
    "plt.show()"
   ]
  },
  {
   "cell_type": "markdown",
   "metadata": {
    "collapsed": true
   },
   "source": [
    "## Mittelwerte den Energien zu ordnen\n",
    "    - Peak  Energie  Kanal\n",
    "    -   1    4,871   255+1\n",
    "    -   2    5.49    315+0.6\n",
    "    -   3    6.00    372+0.8\n",
    "    -   4    7.69    549+0.3"
   ]
  },
  {
   "cell_type": "code",
   "execution_count": 11,
   "metadata": {
    "collapsed": true
   },
   "outputs": [],
   "source": [
    "eich_kanal = np.array([255,315,372,549])\n",
    "eich_energie = np.array([4.871,5.49,6.00,7.69])\n",
    "eich_errx = np.array([1,0.6,0.8,0.3])"
   ]
  },
  {
   "cell_type": "code",
   "execution_count": 12,
   "metadata": {
    "collapsed": false
   },
   "outputs": [
    {
     "name": "stdout",
     "output_type": "stream",
     "text": [
      "[[Model]]\n",
      "    Model(linear)\n",
      "[[Fit Statistics]]\n",
      "    # function evals   = 3\n",
      "    # data points      = 4\n",
      "    # variables        = 2\n",
      "    chi-square         = 0.001\n",
      "    reduced chi-square = 0.001\n",
      "[[Variables]]\n",
      "    intercept:   2.45818982 +/- 0.042991 (1.75%) (init= 2.45819)\n",
      "    slope:       0.00953604 +/- 0.000111 (1.16%) (init= 0.009536043)\n",
      "[[Correlations]] (unreported correlations are <  0.100)\n",
      "    C(intercept, slope)          = -0.959 \n"
     ]
    }
   ],
   "source": [
    "mod_eich = LinearModel()\n",
    "guess = mod_eich.guess(eich_energie,x=eich_kanal)\n",
    "out_eich = mod_eich.fit(eich_energie,guess,x=eich_kanal)\n",
    "print(out_eich.fit_report())"
   ]
  },
  {
   "cell_type": "code",
   "execution_count": 13,
   "metadata": {
    "collapsed": false
   },
   "outputs": [],
   "source": [
    "plt.errorbar(eich_kanal,eich_energie,xerr=eich_errx,fmt='.r',label=\"Messdaten\")\n",
    "plt.plot(eich_kanal,out_eich.best_fit,label=\"linearer Fit\")\n",
    "plt.xlabel(\"Kanal\",fontsize=22)\n",
    "plt.ylabel('Energie [MeV]',fontsize=22)\n",
    "plt.xticks(fontsize=18)\n",
    "plt.yticks(fontsize=18)\n",
    "plt.xlim([240,560])\n",
    "plt.ylim([4.7,7.9])\n",
    "plt.legend(loc=\"best\")\n",
    "plt.show()"
   ]
  },
  {
   "cell_type": "markdown",
   "metadata": {},
   "source": [
    "## Konstanz der Zählrate"
   ]
  },
  {
   "cell_type": "code",
   "execution_count": 14,
   "metadata": {
    "collapsed": false
   },
   "outputs": [],
   "source": [
    "liste = []\n",
    "for i in glob('/home/frederik/Dokumente/FP/Rutherford/MessdatenRutherford/energieverlust/*.csv'):\n",
    "    liste.append(np.array(pd.read_csv(i,skiprows=15,delimiter=\"\\t\")).T)"
   ]
  },
  {
   "cell_type": "code",
   "execution_count": 15,
   "metadata": {
    "collapsed": false
   },
   "outputs": [],
   "source": [
    "file_liste = []\n",
    "liste = []\n",
    "for i in glob('/home/frederik/Dokumente/FP/Rutherford/MessdatenRutherford/energieverlust/*.csv'):\n",
    "    file_liste.append(i)\n",
    "\n",
    "file_liste.sort()\n",
    "\n",
    "for file in file_liste:\n",
    "    liste.append(np.array(pd.read_csv(file,skiprows=15,delimiter=\"\\t\")).T)\n",
    "\n",
    "del(liste[20:25])"
   ]
  },
  {
   "cell_type": "code",
   "execution_count": 16,
   "metadata": {
    "collapsed": false
   },
   "outputs": [],
   "source": [
    "%matplotlib qt\n",
    "for i in liste:\n",
    "    plt.plot(i[0],i[1])\n",
    "    plt.xlim([0,1000])\n",
    "    plt.ylim([0,300])\n",
    "    plt.show()"
   ]
  },
  {
   "cell_type": "code",
   "execution_count": 161,
   "metadata": {
    "collapsed": false
   },
   "outputs": [],
   "source": [
    "liste_fit_params_1 = []\n",
    "liste_fit_params_2 = []\n",
    "liste_fit_params_3 = []\n",
    "liste_fit_params_4 = []"
   ]
  },
  {
   "cell_type": "code",
   "execution_count": 207,
   "metadata": {
    "collapsed": false
   },
   "outputs": [],
   "source": [
    "\n",
    "pars = g_4.guess(y,x=x)\n",
    "\n",
    "\n",
    "g_4 = GaussianModel(prefix=\"g_4\")\n",
    "pars.update( g_4.make_params())\n",
    "\n",
    "\n",
    "pars['g_4sigma'].set(15, min=3)\n",
    "pars['g_4amplitude'].set(20000, min=1)\n",
    "\n",
    "\n",
    "\n",
    "pars['g_4center'].set(124, min=0)\n",
    "\n",
    "mod = g_4"
   ]
  },
  {
   "cell_type": "code",
   "execution_count": 225,
   "metadata": {
    "collapsed": false,
    "scrolled": true
   },
   "outputs": [
    {
     "name": "stdout",
     "output_type": "stream",
     "text": [
      "[[Model]]\n",
      "    Model(gaussian, prefix='g_4')\n",
      "[[Fit Statistics]]\n",
      "    # function evals   = 38\n",
      "    # data points      = 973\n",
      "    # variables        = 3\n",
      "    chi-square         = 8600.008\n",
      "    reduced chi-square = 8.866\n",
      "[[Variables]]\n",
      "    g_4fwhm:        52.7057397 +/- 0.308114 (0.58%)  == '2.3548200*g_4sigma'\n",
      "    g_4amplitude:   7077.06987 +/- 34.32181 (0.48%) (init= 20000)\n",
      "    g_4center:      84.8697871 +/- 0.122480 (0.14%) (init= 124)\n",
      "    g_4sigma:       22.3820673 +/- 0.130844 (0.58%) (init= 15)\n",
      "[[Correlations]] (unreported correlations are <  0.100)\n",
      "    C(g_4amplitude, g_4sigma)    =  0.631 \n",
      "    C(g_4center, g_4sigma)       = -0.104 \n"
     ]
    }
   ],
   "source": [
    "i = liste[17]\n",
    "out_2 = mod.fit(i[1][45:-5],pars,x=i[0][45:-5])\n",
    "out_2.plot()\n",
    "plt.show()\n",
    "print(out_2.fit_report())"
   ]
  },
  {
   "cell_type": "code",
   "execution_count": 223,
   "metadata": {
    "collapsed": true
   },
   "outputs": [],
   "source": [
    "liste_fit_params_4.append([])\n",
    "liste_fit_params_4[-1].append(out_2.best_values[\"g_4center\"])\n",
    "liste_fit_params_4[-1].append(out_2.best_values[\"g_4amplitude\"])\n",
    "liste_fit_params_4[-1].append(out_2.best_values[\"g_4sigma\"])"
   ]
  },
  {
   "cell_type": "code",
   "execution_count": 248,
   "metadata": {
    "collapsed": false
   },
   "outputs": [
    {
     "data": {
      "text/plain": [
       "array([[  178.97013108,   151.30060604,   123.78831306,    96.57496267,\n",
       "           67.75949842,    36.45335242],\n",
       "       [ 9073.96441464,  8578.35503212,  8633.51729073,  8331.41029904,\n",
       "         7843.46073328,  7858.70267292],\n",
       "       [   22.        ,    21.99999434,    22.        ,    21.99999998,\n",
       "           21.99999998,    21.99999999]])"
      ]
     },
     "execution_count": 248,
     "metadata": {},
     "output_type": "execute_result"
    }
   ],
   "source": [
    "np_liste_fit_1\n"
   ]
  },
  {
   "cell_type": "code",
   "execution_count": 259,
   "metadata": {
    "collapsed": false
   },
   "outputs": [],
   "source": [
    "t = 180\n",
    "y_1 = np_liste_fit_1[1]/(np.sqrt(2*np.e)*np_liste_fit_1[2])\n",
    "y_2 = np_liste_fit_2[1]/(np.sqrt(2*np.e)*np_liste_fit_2[2])\n",
    "y_3 = np_liste_fit_3[1]/(np.sqrt(2*np.e)*np_liste_fit_3[2])\n",
    "y_4 = np_liste_fit_4[1]/(np.sqrt(2*np.e)*np_liste_fit_4[2])"
   ]
  },
  {
   "cell_type": "code",
   "execution_count": 260,
   "metadata": {
    "collapsed": false
   },
   "outputs": [],
   "source": [
    "plt.plot(np.arange(100,len(y_1)*25+100,25),y_1/t,'r.')\n",
    "plt.plot(np.arange(100,len(y_2)*25+100,25),y_2/t,'g.')\n",
    "plt.plot(np.arange(100,len(y_3)*25+100,25),y_3/t,'b.')\n",
    "plt.plot(np.arange(100,len(y_4)*25+100,25),y_4/t,'y.')\n",
    "plt.show()"
   ]
  },
  {
   "cell_type": "code",
   "execution_count": 251,
   "metadata": {
    "collapsed": false
   },
   "outputs": [
    {
     "name": "stdout",
     "output_type": "stream",
     "text": [
      "176.874812006\n"
     ]
    }
   ],
   "source": [
    "print(9073/(np.sqrt(2*np.e*22**2)))"
   ]
  },
  {
   "cell_type": "code",
   "execution_count": 256,
   "metadata": {
    "collapsed": false
   },
   "outputs": [
    {
     "data": {
      "text/plain": [
       "array([ 176.89361293,  167.23193258,  168.30725755,  162.41779255,\n",
       "        152.90539444,  153.20253043])"
      ]
     },
     "execution_count": 256,
     "metadata": {},
     "output_type": "execute_result"
    }
   ],
   "source": [
    "np_liste_fit_1[1]/(np.sqrt(2*np.e)*np_liste_fit_1[2])"
   ]
  },
  {
   "cell_type": "markdown",
   "metadata": {},
   "source": [
    "# Energieverlust"
   ]
  },
  {
   "cell_type": "code",
   "execution_count": 265,
   "metadata": {
    "collapsed": true
   },
   "outputs": [],
   "source": [
    "x = 1.03 * np.arange(100,700,25)/760\n",
    "x_delta = 1.03 * 4/760"
   ]
  },
  {
   "cell_type": "code",
   "execution_count": 323,
   "metadata": {
    "collapsed": false,
    "scrolled": true
   },
   "outputs": [
    {
     "name": "stdout",
     "output_type": "stream",
     "text": [
      "[ 27.66952504  27.51229298  27.2133504   28.81546424  31.30614601]\n",
      "[ 0.03388158  0.03388158  0.03388158  0.03388158  0.03388158]\n",
      "[ 25.74613899  24.73453567  24.60520371  26.35492798  25.62359894\n",
      "  28.95549868  27.63425321  17.65009846]\n",
      "[ 24.58838439  22.89218354  22.74299087  23.38017192  22.56513977\n",
      "  24.62030428  27.07742113  26.72880121  27.60936029  27.44575591\n",
      "  12.97665456]\n",
      "[ 23.21289228  22.02740894  19.99066487  21.32266751  20.49864123\n",
      "  22.17525704  21.35591597  20.08700293  20.23255916  25.35053091\n",
      "  19.8127719   21.6894296   21.8732437   21.14550144  22.32664177\n",
      "  23.73968164  24.49593312  25.66296752  28.09907748]\n"
     ]
    }
   ],
   "source": [
    "print(np_liste_fit_1[0][0:-1]-np_liste_fit_1[0][1:])\n",
    "print(x[1:len(np_liste_fit_1[1])]-x[0:len(np_liste_fit_1[1])-1])\n",
    "print(np_liste_fit_2[0][0:-1]-np_liste_fit_2[0][1:])\n",
    "print(np_liste_fit_3[0][0:-1]-np_liste_fit_3[0][1:])\n",
    "print(np_liste_fit_4[0][0:-1]-np_liste_fit_4[0][1:])"
   ]
  },
  {
   "cell_type": "code",
   "execution_count": 339,
   "metadata": {
    "collapsed": true
   },
   "outputs": [],
   "source": [
    "e_1 = np_liste_fit_1[0][:-1]*0.01+2.46\n",
    "e_2 = np_liste_fit_2[0][:-1]*0.01+2.46\n",
    "e_3 = np_liste_fit_3[0][:-1]*0.01+2.46\n",
    "e_4 = np_liste_fit_4[0][:-1]*0.01+2.46\n",
    "e_x_1 = (np_liste_fit_1[0][0:-1]-np_liste_fit_1[0][1:])*0.01/(x[1:len(np_liste_fit_1[1])]-x[0:len(np_liste_fit_1[1])-1])\n",
    "e_x_2 = (np_liste_fit_2[0][0:-1]-np_liste_fit_2[0][1:])*0.01/(x[1:len(np_liste_fit_2[1])]-x[0:len(np_liste_fit_2[1])-1])\n",
    "e_x_3 = (np_liste_fit_3[0][0:-1]-np_liste_fit_3[0][1:])*0.01/(x[1:len(np_liste_fit_3[1])]-x[0:len(np_liste_fit_3[1])-1])\n",
    "e_x_4 = (np_liste_fit_4[0][0:-1]-np_liste_fit_4[0][1:])*0.01/(x[1:len(np_liste_fit_4[1])]-x[0:len(np_liste_fit_4[1])-1])"
   ]
  },
  {
   "cell_type": "code",
   "execution_count": 341,
   "metadata": {
    "collapsed": false
   },
   "outputs": [],
   "source": [
    "plt.plot(e_1,e_x_1,'.r')\n",
    "plt.plot(e_2,e_x_2,'.b')\n",
    "plt.plot(e_3,e_x_3,'.g')\n",
    "plt.plot(e_4,e_x_4,'.y')\n",
    "plt.ylabel(r\"$\\frac{dE}{dx}$\",fontsize=22)\n",
    "plt.show()"
   ]
  },
  {
   "cell_type": "code",
   "execution_count": 299,
   "metadata": {
    "collapsed": false
   },
   "outputs": [
    {
     "data": {
      "text/plain": [
       "array([ 2.32128923,  2.20274089,  1.99906649,  2.13226675,  2.04986412,\n",
       "        2.2175257 ,  2.1355916 ,  2.00870029,  2.02325592,  2.53505309,\n",
       "        1.98127719,  2.16894296,  2.18732437,  2.11455014,  2.23266418,\n",
       "        2.37396816,  2.44959331,  2.56629675,  2.80990775])"
      ]
     },
     "execution_count": 299,
     "metadata": {},
     "output_type": "execute_result"
    }
   ],
   "source": [
    "(np_liste_fit_4[0][0:-1]-np_liste_fit_4[0][1:])*0.1"
   ]
  },
  {
   "cell_type": "code",
   "execution_count": 300,
   "metadata": {
    "collapsed": true
   },
   "outputs": [],
   "source": [
    "e = np.arange(0,1000)*0.1+2.46"
   ]
  },
  {
   "cell_type": "code",
   "execution_count": 305,
   "metadata": {
    "collapsed": false
   },
   "outputs": [
    {
     "data": {
      "text/plain": [
       "array([ 2.46,  2.56,  2.66,  2.76,  2.86,  2.96,  3.06,  3.16,  3.26,\n",
       "        3.36,  3.46,  3.56,  3.66,  3.76,  3.86,  3.96,  4.06,  4.16,\n",
       "        4.26,  4.36,  4.46,  4.56,  4.66,  4.76,  4.86,  4.96,  5.06,\n",
       "        5.16,  5.26,  5.36,  5.46,  5.56,  5.66,  5.76,  5.86,  5.96,\n",
       "        6.06,  6.16,  6.26,  6.36,  6.46,  6.56,  6.66,  6.76,  6.86,\n",
       "        6.96,  7.06,  7.16,  7.26,  7.36])"
      ]
     },
     "execution_count": 305,
     "metadata": {},
     "output_type": "execute_result"
    }
   ],
   "source": [
    "e[:50]"
   ]
  },
  {
   "cell_type": "code",
   "execution_count": null,
   "metadata": {
    "collapsed": true
   },
   "outputs": [],
   "source": []
  }
 ],
 "metadata": {
  "kernelspec": {
   "display_name": "Python 3",
   "language": "python",
   "name": "python3"
  },
  "language_info": {
   "codemirror_mode": {
    "name": "ipython",
    "version": 3
   },
   "file_extension": ".py",
   "mimetype": "text/x-python",
   "name": "python",
   "nbconvert_exporter": "python",
   "pygments_lexer": "ipython3",
   "version": "3.4.3"
  }
 },
 "nbformat": 4,
 "nbformat_minor": 0
}
