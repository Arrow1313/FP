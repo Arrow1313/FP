{
 "cells": [
  {
   "cell_type": "code",
   "execution_count": 1,
   "metadata": {
    "collapsed": false
   },
   "outputs": [
    {
     "name": "stderr",
     "output_type": "stream",
     "text": [
      "/home/frederik/anaconda3/lib/python3.4/site-packages/IPython/html.py:14: ShimWarning: The `IPython.html` package has been deprecated. You should import from `notebook` instead. `IPython.html.widgets` has moved to `ipywidgets`.\n",
      "  \"`IPython.html.widgets` has moved to `ipywidgets`.\", ShimWarning)\n"
     ]
    }
   ],
   "source": [
    "import numpy as np\n",
    "import pandas as pd\n",
    "import matplotlib.pyplot as plt\n",
    "from lmfit.models import GaussianModel,LinearModel\n",
    "from glob import glob\n",
    "from lmfit import models"
   ]
  },
  {
   "cell_type": "code",
   "execution_count": 2,
   "metadata": {
    "collapsed": true
   },
   "outputs": [],
   "source": [
    "%matplotlib qt "
   ]
  },
  {
   "cell_type": "markdown",
   "metadata": {
    "collapsed": true
   },
   "source": [
    "#Rutherfordstreuung"
   ]
  },
  {
   "cell_type": "markdown",
   "metadata": {},
   "source": [
    "##Rutherfordsteuuformel\n",
    "<br>\n",
    "$\\huge \\huge \\frac{d\\sigma}{d\\Omega} = 1.3 \\cdot 10^{-3} \\left( \\frac{Z_1 Z_2}{E_0} \\right) \\frac{1}{sin^4\\left(\\frac{\\theta}{2}\\right)}$\n",
    "\n",
    "<ul>\n",
    "    <li>$\\sigma$: Differentielle WQ\n",
    "    <li>$\\Theta$: Winkel\n",
    "    <li>$Z_i$: Kernlagundszahl\n",
    "    <li>E: Energie\n",
    "</ul>   "
   ]
  },
  {
   "cell_type": "code",
   "execution_count": 3,
   "metadata": {
    "collapsed": false
   },
   "outputs": [],
   "source": [
    "def rutherfordsteuung(theta,Z_1,Z_2,E,b):\n",
    "    e = 1.602 * 10**-19\n",
    "    return (Z_1*Z_2*e**2)/(4*E*np.sin((3.14*theta-b)/360)**4)"
   ]
  },
  {
   "cell_type": "markdown",
   "metadata": {
    "collapsed": true
   },
   "source": [
    "# Energieverlust von $\\alpha$-Strahlung in Luft"
   ]
  },
  {
   "cell_type": "markdown",
   "metadata": {},
   "source": [
    "# Energie-Kanal kalibration"
   ]
  },
  {
   "cell_type": "code",
   "execution_count": 4,
   "metadata": {
    "collapsed": false
   },
   "outputs": [
    {
     "name": "stdout",
     "output_type": "stream",
     "text": [
      "/home/frederik/Dokumente/FP/Rutherford/MessdatenRutherford/kalib\n"
     ]
    }
   ],
   "source": [
    "cd /home/frederik/Dokumente/FP/Rutherford/MessdatenRutherford/kalib/"
   ]
  },
  {
   "cell_type": "code",
   "execution_count": 5,
   "metadata": {
    "collapsed": false
   },
   "outputs": [],
   "source": [
    "data = np.array(pd.read_csv(\"energiekalpib_30Torr.csv\",skiprows=15,delimiter=\"\\t\")).T"
   ]
  },
  {
   "cell_type": "code",
   "execution_count": 6,
   "metadata": {
    "collapsed": false
   },
   "outputs": [],
   "source": [
    "plt.errorbar(data[0],data[1],np.sqrt(data[1]))\n",
    "plt.show()"
   ]
  },
  {
   "cell_type": "markdown",
   "metadata": {},
   "source": [
    "## Händische schätzung für die Peaks\n",
    "\n",
    "    - 1: x=250, y=180\n",
    "    - 2: x=320, y=266\n",
    "    - 3: x=373, y=158\n",
    "    - 4: x=551, y=159\n",
    "    \n",
    "Mulitgauss mit den Werten konfigurieren und Fehler berechnen"
   ]
  },
  {
   "cell_type": "code",
   "execution_count": 7,
   "metadata": {
    "collapsed": false
   },
   "outputs": [],
   "source": [
    "err = np.sqrt(data[1][200:612])\n",
    "err = np.where(err == 0, 1, err)"
   ]
  },
  {
   "cell_type": "code",
   "execution_count": 8,
   "metadata": {
    "collapsed": false
   },
   "outputs": [],
   "source": [
    "y = data[1][200:612]\n",
    "x = data[0][200:612]\n",
    "\n",
    "\n",
    "g_1 = GaussianModel(prefix=\"g_1\")\n",
    "pars = g_1.guess(y,x=x)\n",
    "\n",
    "pars['g_1center'].set(260, min=240, max=275)\n",
    "pars['g_1sigma'].set(15, min=3,max=22)\n",
    "pars['g_1amplitude'].set(10000, min=90)\n",
    "\n",
    "g_2 = GaussianModel(prefix=\"g_2\")\n",
    "pars.update( g_2.make_params())\n",
    "\n",
    "pars['g_2center'].set(320, min=300, max=345)\n",
    "pars['g_2sigma'].set(15, min=3)\n",
    "pars['g_2amplitude'].set(20000, min=1)\n",
    "\n",
    "\n",
    "g_3 = GaussianModel(prefix=\"g_3\")\n",
    "pars.update( g_3.make_params())\n",
    "\n",
    "pars['g_3center'].set(373, min=350, max=400)\n",
    "pars['g_3sigma'].set(15, min=3,max=20)\n",
    "pars['g_3amplitude'].set(10000, min=1)\n",
    "\n",
    "g_4 = GaussianModel(prefix=\"g_4\")\n",
    "pars.update( g_4.make_params())\n",
    "\n",
    "pars['g_4center'].set(551, min=530, max=570)\n",
    "pars['g_4sigma'].set(15, min=3)\n",
    "pars['g_4amplitude'].set(20000, min=1)\n",
    "\n",
    "\n",
    "\n",
    "mod = g_1 + g_2 + g_3 + g_4\n",
    "\n",
    "\n",
    "out = mod.fit(y,pars,x=x,weights=1/err)"
   ]
  },
  {
   "cell_type": "code",
   "execution_count": 9,
   "metadata": {
    "collapsed": false
   },
   "outputs": [
    {
     "name": "stdout",
     "output_type": "stream",
     "text": [
      "[[Model]]\n",
      "    (((Model(gaussian, prefix='g_1') + Model(gaussian, prefix='g_2')) + Model(gaussian, prefix='g_3')) + Model(gaussian, prefix='g_4'))\n",
      "[[Fit Statistics]]\n",
      "    # function evals   = 166\n",
      "    # data points      = 412\n",
      "    # variables        = 12\n",
      "    chi-square         = 686.653\n",
      "    reduced chi-square = 1.717\n",
      "[[Variables]]\n",
      "    g_1sigma:       22         +/- 0.251185 (1.14%) (init= 15)\n",
      "    g_1amplitude:   8700.66363 +/- 308.8438 (3.55%) (init= 10000)\n",
      "    g_1center:      255.238186 +/- 0.978131 (0.38%) (init= 260)\n",
      "    g_1fwhm:        51.8060400 +/- 0.591496 (1.14%)  == '2.3548200*g_1sigma'\n",
      "    g_2sigma:       19.4956988 +/- 0.752410 (3.86%) (init= 15)\n",
      "    g_2amplitude:   12483.3777 +/- 459.5527 (3.68%) (init= 20000)\n",
      "    g_2center:      315.461920 +/- 0.556987 (0.18%) (init= 320)\n",
      "    g_2fwhm:        45.9088615 +/- 1.771791 (3.86%)  == '2.3548200*g_2sigma'\n",
      "    g_3amplitude:   7156.31880 +/- 243.6512 (3.40%) (init= 10000)\n",
      "    g_3center:      372.541213 +/- 0.814979 (0.22%) (init= 373)\n",
      "    g_3sigma:       18.5261936 +/- 0.488221 (2.64%) (init= 15)\n",
      "    g_3fwhm:        43.6258513 +/- 1.149673 (2.64%)  == '2.3548200*g_3sigma'\n",
      "    g_4sigma:       18.8975519 +/- 0.223919 (1.18%) (init= 15)\n",
      "    g_4amplitude:   7170.98767 +/- 110.9777 (1.55%) (init= 20000)\n",
      "    g_4center:      548.630213 +/- 0.294916 (0.05%) (init= 551)\n",
      "    g_4fwhm:        44.5003333 +/- 0.527289 (1.18%)  == '2.3548200*g_4sigma'\n",
      "[[Correlations]] (unreported correlations are <  0.100)\n",
      "    C(g_2sigma, g_2amplitude)    =  0.902 \n",
      "    C(g_1amplitude, g_1center)   =  0.860 \n",
      "    C(g_1sigma, g_1center)       =  0.828 \n",
      "    C(g_3amplitude, g_3center)   = -0.825 \n",
      "    C(g_3center, g_3sigma)       = -0.819 \n",
      "    C(g_1sigma, g_1amplitude)    =  0.817 \n",
      "    C(g_1center, g_2amplitude)   = -0.799 \n",
      "    C(g_1amplitude, g_2amplitude)  = -0.792 \n",
      "    C(g_1amplitude, g_2sigma)    = -0.772 \n",
      "    C(g_1center, g_2sigma)       = -0.767 \n",
      "    C(g_2sigma, g_3amplitude)    = -0.751 \n",
      "    C(g_3amplitude, g_3sigma)    =  0.749 \n",
      "    C(g_2sigma, g_3center)       =  0.740 \n",
      "    C(g_2amplitude, g_3center)   =  0.727 \n",
      "    C(g_2amplitude, g_3amplitude)  = -0.724 \n",
      "    C(g_1sigma, g_2amplitude)    = -0.715 \n",
      "    C(g_1sigma, g_2sigma)        = -0.648 \n",
      "    C(g_2amplitude, g_3sigma)    = -0.627 \n",
      "    C(g_2sigma, g_3sigma)        = -0.614 \n",
      "    C(g_1center, g_2center)      =  0.517 \n",
      "    C(g_1sigma, g_2center)       =  0.516 \n",
      "    C(g_1amplitude, g_2center)   =  0.489 \n",
      "    C(g_1amplitude, g_3amplitude)  =  0.464 \n",
      "    C(g_1center, g_3amplitude)   =  0.453 \n",
      "    C(g_1amplitude, g_3center)   = -0.443 \n",
      "    C(g_1center, g_3center)      = -0.432 \n",
      "    C(g_1sigma, g_3amplitude)    =  0.365 \n",
      "    C(g_1amplitude, g_3sigma)    =  0.351 \n",
      "    C(g_1sigma, g_3center)       = -0.346 \n",
      "    C(g_1center, g_3sigma)       =  0.341 \n",
      "    C(g_2center, g_3sigma)       = -0.325 \n",
      "    C(g_2center, g_3center)      =  0.309 \n",
      "    C(g_1sigma, g_3sigma)        =  0.271 \n",
      "    C(g_2center, g_3amplitude)   = -0.261 \n",
      "    C(g_2amplitude, g_2center)   = -0.177 \n",
      "    C(g_2sigma, g_2center)       = -0.136 \n",
      "    C(g_4sigma, g_4center)       = -0.105 \n"
     ]
    }
   ],
   "source": [
    "print(out.fit_report())"
   ]
  },
  {
   "cell_type": "code",
   "execution_count": 10,
   "metadata": {
    "collapsed": false
   },
   "outputs": [],
   "source": [
    "plt.errorbar(data[0][200:612],data[1][200:612],np.sqrt(data[1][200:612]),fmt='. b',label=\"Messdaten\")\n",
    "plt.plot(data[0][200:612],out.best_fit, '-r',label=\"Muli-Gauss-Fit\")\n",
    "plt.xlabel(\"Kanal\",fontsize=22)\n",
    "plt.ylabel('Counts',fontsize=22)\n",
    "plt.xticks(fontsize=18)\n",
    "plt.yticks(fontsize=18)\n",
    "plt.legend()\n",
    "plt.show()"
   ]
  },
  {
   "cell_type": "markdown",
   "metadata": {
    "collapsed": true
   },
   "source": [
    "## Mittelwerte den Energien zu ordnen\n",
    "    - Peak  Energie  Kanal\n",
    "    -   1    4,871   255+1\n",
    "    -   2    5.49    315+0.6\n",
    "    -   3    6.00    372+0.8\n",
    "    -   4    7.69    549+0.3"
   ]
  },
  {
   "cell_type": "code",
   "execution_count": 11,
   "metadata": {
    "collapsed": true
   },
   "outputs": [],
   "source": [
    "eich_kanal = np.array([255,315,372,549])\n",
    "eich_energie = np.array([4.871,5.49,6.00,7.69])\n",
    "eich_errx = np.array([1,0.6,0.8,0.3])"
   ]
  },
  {
   "cell_type": "code",
   "execution_count": 12,
   "metadata": {
    "collapsed": false
   },
   "outputs": [
    {
     "name": "stdout",
     "output_type": "stream",
     "text": [
      "[[Model]]\n",
      "    Model(linear)\n",
      "[[Fit Statistics]]\n",
      "    # function evals   = 3\n",
      "    # data points      = 4\n",
      "    # variables        = 2\n",
      "    chi-square         = 0.001\n",
      "    reduced chi-square = 0.001\n",
      "[[Variables]]\n",
      "    slope:       0.00953604 +/- 0.000111 (1.16%) (init= 0.009536043)\n",
      "    intercept:   2.45818986 +/- 0.042991 (1.75%) (init= 2.45819)\n",
      "[[Correlations]] (unreported correlations are <  0.100)\n",
      "    C(slope, intercept)          = -0.959 \n"
     ]
    }
   ],
   "source": [
    "mod_eich = LinearModel()\n",
    "guess = mod_eich.guess(eich_energie,x=eich_kanal)\n",
    "out_eich = mod_eich.fit(eich_energie,guess,x=eich_kanal)\n",
    "print(out_eich.fit_report())\n",
    "out_eich.plot()\n",
    "plt.legend(loc='best')\n",
    "plt.show()"
   ]
  },
  {
   "cell_type": "code",
   "execution_count": 13,
   "metadata": {
    "collapsed": false
   },
   "outputs": [],
   "source": [
    "plt.errorbar(eich_kanal,eich_energie,xerr=eich_errx,fmt='.r',label=\"Messdaten\")\n",
    "plt.plot(eich_kanal,out_eich.best_fit,label=\"linearer Fit\")\n",
    "plt.xlabel(\"Kanal\",fontsize=22)\n",
    "plt.ylabel('Energie [MeV]',fontsize=22)\n",
    "plt.xticks(fontsize=18)\n",
    "plt.yticks(fontsize=18)\n",
    "plt.xlim([240,560])\n",
    "plt.ylim([4.7,7.9])\n",
    "plt.legend(loc=\"best\")\n",
    "plt.show()"
   ]
  },
  {
   "cell_type": "markdown",
   "metadata": {},
   "source": [
    "# Fitten der Mulitgauß bei unterschiedlichen Drücken"
   ]
  },
  {
   "cell_type": "code",
   "execution_count": 14,
   "metadata": {
    "collapsed": false
   },
   "outputs": [],
   "source": [
    "y = data[1][200:612]\n",
    "x = data[0][200:612]\n",
    "\n",
    "\n",
    "g_1 = GaussianModel(prefix=\"g_1\")\n",
    "pars = g_1.guess(y,x=x)\n",
    "\n",
    "pars['g_1center'].set(181)\n",
    "pars['g_1sigma'].set(15, min=3)\n",
    "pars['g_1amplitude'].set(10000, min=90)\n",
    "\n",
    "g_2 = GaussianModel(prefix=\"g_2\")\n",
    "pars.update( g_2.make_params())\n",
    "\n",
    "pars['g_2center'].set(239)\n",
    "pars['g_2sigma'].set(15, min=3)\n",
    "pars['g_2amplitude'].set(10000, min=1)\n",
    "\n",
    "\n",
    "g_3 = GaussianModel(prefix=\"g_3\")\n",
    "pars.update( g_3.make_params())\n",
    "\n",
    "pars['g_3center'].set(292)\n",
    "pars['g_3sigma'].set(15, min=3)\n",
    "pars['g_3amplitude'].set(10000, min=1)\n",
    "\n",
    "g_4 = GaussianModel(prefix=\"g_4\")\n",
    "pars.update( g_4.make_params())\n",
    "\n",
    "pars['g_4center'].set(457)\n",
    "pars['g_4sigma'].set(15, min=3)\n",
    "pars['g_4amplitude'].set(10000, min=1)\n",
    "\n",
    "\n",
    "\n",
    "mod = g_1 + g_2 + g_3 + g_4"
   ]
  },
  {
   "cell_type": "code",
   "execution_count": 15,
   "metadata": {
    "collapsed": false,
    "scrolled": true
   },
   "outputs": [
    {
     "ename": "NameError",
     "evalue": "name 'liste' is not defined",
     "output_type": "error",
     "traceback": [
      "\u001b[1;31m---------------------------------------------------------------------------\u001b[0m",
      "\u001b[1;31mNameError\u001b[0m                                 Traceback (most recent call last)",
      "\u001b[1;32m<ipython-input-15-c0d3d1b9f67e>\u001b[0m in \u001b[0;36m<module>\u001b[1;34m()\u001b[0m\n\u001b[1;32m----> 1\u001b[1;33m \u001b[0mi\u001b[0m \u001b[1;33m=\u001b[0m \u001b[0mliste\u001b[0m\u001b[1;33m[\u001b[0m\u001b[1;36m0\u001b[0m\u001b[1;33m]\u001b[0m\u001b[1;33m\u001b[0m\u001b[0m\n\u001b[0m\u001b[0;32m      2\u001b[0m \u001b[0mout_2\u001b[0m \u001b[1;33m=\u001b[0m \u001b[0mmod\u001b[0m\u001b[1;33m.\u001b[0m\u001b[0mfit\u001b[0m\u001b[1;33m(\u001b[0m\u001b[0mi\u001b[0m\u001b[1;33m[\u001b[0m\u001b[1;36m1\u001b[0m\u001b[1;33m]\u001b[0m\u001b[1;33m[\u001b[0m\u001b[1;36m45\u001b[0m\u001b[1;33m:\u001b[0m\u001b[1;33m-\u001b[0m\u001b[1;36m5\u001b[0m\u001b[1;33m]\u001b[0m\u001b[1;33m,\u001b[0m\u001b[0mpars\u001b[0m\u001b[1;33m,\u001b[0m\u001b[0mx\u001b[0m\u001b[1;33m=\u001b[0m\u001b[0mi\u001b[0m\u001b[1;33m[\u001b[0m\u001b[1;36m0\u001b[0m\u001b[1;33m]\u001b[0m\u001b[1;33m[\u001b[0m\u001b[1;36m45\u001b[0m\u001b[1;33m:\u001b[0m\u001b[1;33m-\u001b[0m\u001b[1;36m5\u001b[0m\u001b[1;33m]\u001b[0m\u001b[1;33m)\u001b[0m\u001b[1;33m\u001b[0m\u001b[0m\n\u001b[0;32m      3\u001b[0m \u001b[0mout_2\u001b[0m\u001b[1;33m.\u001b[0m\u001b[0mplot\u001b[0m\u001b[1;33m(\u001b[0m\u001b[1;33m)\u001b[0m\u001b[1;33m\u001b[0m\u001b[0m\n\u001b[0;32m      4\u001b[0m \u001b[0mplt\u001b[0m\u001b[1;33m.\u001b[0m\u001b[0mshow\u001b[0m\u001b[1;33m(\u001b[0m\u001b[1;33m)\u001b[0m\u001b[1;33m\u001b[0m\u001b[0m\n",
      "\u001b[1;31mNameError\u001b[0m: name 'liste' is not defined"
     ]
    }
   ],
   "source": [
    "i = liste[0]\n",
    "out_2 = mod.fit(i[1][45:-5],pars,x=i[0][45:-5])\n",
    "out_2.plot()\n",
    "plt.show()"
   ]
  },
  {
   "cell_type": "code",
   "execution_count": 16,
   "metadata": {
    "collapsed": false
   },
   "outputs": [
    {
     "ename": "NameError",
     "evalue": "name 'out_2' is not defined",
     "output_type": "error",
     "traceback": [
      "\u001b[1;31m---------------------------------------------------------------------------\u001b[0m",
      "\u001b[1;31mNameError\u001b[0m                                 Traceback (most recent call last)",
      "\u001b[1;32m<ipython-input-16-a4d48d2bc700>\u001b[0m in \u001b[0;36m<module>\u001b[1;34m()\u001b[0m\n\u001b[1;32m----> 1\u001b[1;33m \u001b[0mprint\u001b[0m\u001b[1;33m(\u001b[0m\u001b[0mout_2\u001b[0m\u001b[1;33m.\u001b[0m\u001b[0mvalues\u001b[0m\u001b[1;33m[\u001b[0m\u001b[1;34m'g_1center'\u001b[0m\u001b[1;33m]\u001b[0m\u001b[1;33m)\u001b[0m\u001b[1;33m\u001b[0m\u001b[0m\n\u001b[0m\u001b[0;32m      2\u001b[0m \u001b[0mprint\u001b[0m\u001b[1;33m(\u001b[0m\u001b[0mout_2\u001b[0m\u001b[1;33m.\u001b[0m\u001b[0mvalues\u001b[0m\u001b[1;33m[\u001b[0m\u001b[1;34m'g_2center'\u001b[0m\u001b[1;33m]\u001b[0m\u001b[1;33m)\u001b[0m\u001b[1;33m\u001b[0m\u001b[0m\n\u001b[0;32m      3\u001b[0m \u001b[0mprint\u001b[0m\u001b[1;33m(\u001b[0m\u001b[0mout_2\u001b[0m\u001b[1;33m.\u001b[0m\u001b[0mvalues\u001b[0m\u001b[1;33m[\u001b[0m\u001b[1;34m'g_3center'\u001b[0m\u001b[1;33m]\u001b[0m\u001b[1;33m)\u001b[0m\u001b[1;33m\u001b[0m\u001b[0m\n\u001b[0;32m      4\u001b[0m \u001b[0mprint\u001b[0m\u001b[1;33m(\u001b[0m\u001b[0mout_2\u001b[0m\u001b[1;33m.\u001b[0m\u001b[0mvalues\u001b[0m\u001b[1;33m[\u001b[0m\u001b[1;34m'g_4center'\u001b[0m\u001b[1;33m]\u001b[0m\u001b[1;33m)\u001b[0m\u001b[1;33m\u001b[0m\u001b[0m\n",
      "\u001b[1;31mNameError\u001b[0m: name 'out_2' is not defined"
     ]
    }
   ],
   "source": [
    "print(out_2.values['g_1center'])\n",
    "print(out_2.values['g_2center'])\n",
    "print(out_2.values['g_3center'])\n",
    "print(out_2.values['g_4center'])"
   ]
  },
  {
   "cell_type": "code",
   "execution_count": null,
   "metadata": {
    "collapsed": true
   },
   "outputs": [],
   "source": [
    "liste_fit_params_4.append([])\n",
    "liste_fit_params_4[-1].append(out_2.best_values[\"g_4center\"])\n",
    "liste_fit_params_4[-1].append(out_2.best_values[\"g_4amplitude\"])\n",
    "liste_fit_params_4[-1].append(out_2.best_values[\"g_4sigma\"])"
   ]
  },
  {
   "cell_type": "markdown",
   "metadata": {},
   "source": [
    "# Beth-Bloch "
   ]
  },
  {
   "cell_type": "code",
   "execution_count": 17,
   "metadata": {
    "collapsed": false
   },
   "outputs": [],
   "source": [
    "np_liste_fit_1 = np.loadtxt(\"/home/frederik/Dokumente/FP/Rutherford/MessdatenRutherford/kalib/paras_1\").T\n",
    "np_liste_fit_2 = np.loadtxt(\"/home/frederik/Dokumente/FP/Rutherford/MessdatenRutherford/kalib/paras_2\").T\n",
    "np_liste_fit_3 = np.loadtxt(\"/home/frederik/Dokumente/FP/Rutherford/MessdatenRutherford/kalib/paras_3\").T\n",
    "np_liste_fit_4 = np.loadtxt(\"/home/frederik/Dokumente/FP/Rutherford/MessdatenRutherford/kalib/paras_4\").T"
   ]
  },
  {
   "cell_type": "code",
   "execution_count": 18,
   "metadata": {
    "collapsed": false
   },
   "outputs": [],
   "source": [
    "dE_1 = (np_liste_fit_1[0][:-1] - np_liste_fit_1[0][1:])*0.0095\n",
    "dE_2 = (np_liste_fit_2[0][:-1] - np_liste_fit_2[0][1:])*0.0095\n",
    "dE_3 = (np_liste_fit_3[0][:-1] - np_liste_fit_3[0][1:])*0.0095\n",
    "dE_4 = (np_liste_fit_4[0][:-1] - np_liste_fit_4[0][1:])*0.0095"
   ]
  },
  {
   "cell_type": "code",
   "execution_count": 19,
   "metadata": {
    "collapsed": true
   },
   "outputs": [],
   "source": [
    "x = (6/760)*np.arange(100,725,25)\n",
    "dx = (x[:-1]-x[1:])"
   ]
  },
  {
   "cell_type": "code",
   "execution_count": 20,
   "metadata": {
    "collapsed": false
   },
   "outputs": [],
   "source": [
    "dE_dx_1 = dE_1/dx[:dE_1.size]\n",
    "dE_dx_2 = dE_2/dx[:dE_2.size]\n",
    "dE_dx_3 = dE_3/dx[:dE_3.size]\n",
    "dE_dx_4 = dE_4/dx[:dE_4.size]"
   ]
  },
  {
   "cell_type": "code",
   "execution_count": 21,
   "metadata": {
    "collapsed": true
   },
   "outputs": [],
   "source": [
    "E_1 = abs(np_liste_fit_1[0][0:-1] + np_liste_fit_1[0][1:])*0.0095/2\n",
    "E_2 = abs(np_liste_fit_2[0][0:-1] + np_liste_fit_2[0][1:])*0.0095/2\n",
    "E_3 = abs(np_liste_fit_3[0][0:-1] + np_liste_fit_3[0][1:])*0.0095/2\n",
    "E_4 = abs(np_liste_fit_4[0][0:-1] + np_liste_fit_4[0][1:])*0.0095/2"
   ]
  },
  {
   "cell_type": "code",
   "execution_count": 117,
   "metadata": {
    "collapsed": true
   },
   "outputs": [],
   "source": [
    "plt.plot(E_1,-dE_dx_1)\n",
    "plt.plot(E_2,-dE_dx_2)\n",
    "plt.plot(E_3,-dE_dx_3)\n",
    "plt.plot(E_4,-dE_dx_4)\n",
    "plt.show()"
   ]
  },
  {
   "cell_type": "markdown",
   "metadata": {},
   "source": [
    "## Bethe-Bloch $\\sim \\frac{A}{\\beta} \\left[ ln(B \\cdot \\beta) - \\beta \\right]$"
   ]
  },
  {
   "cell_type": "code",
   "execution_count": 119,
   "metadata": {
    "collapsed": false
   },
   "outputs": [],
   "source": [
    "def bethe_func(x,A,B,C):\n",
    "    return (A*np.log(B*x)-x)/x-C\n",
    "test = bethe_func(x,1.8,11,0)"
   ]
  },
  {
   "cell_type": "code",
   "execution_count": 120,
   "metadata": {
    "collapsed": false
   },
   "outputs": [],
   "source": [
    "x = np.arange(0.1,100,1)\n",
    "plt.plot(x,test)\n",
    "plt.show()"
   ]
  },
  {
   "cell_type": "code",
   "execution_count": 24,
   "metadata": {
    "collapsed": false
   },
   "outputs": [
    {
     "name": "stdout",
     "output_type": "stream",
     "text": [
      "{'A', 'c'}\n"
     ]
    }
   ],
   "source": [
    "mod_ln = models.Model(ln) \n",
    "mod_const = models.ConstantModel()\n",
    "guess_ln = mod_const.guess(dE_dx_1,x=dE_1)\n",
    "guess_ln.update(mod_ln.make_params())\n",
    "\n",
    "ln_model = mod_ln + mod_const\n",
    "\n",
    "print(ln_model.param_names)\n",
    "\n",
    "guess_ln['c'].set(0.0001)"
   ]
  },
  {
   "cell_type": "code",
   "execution_count": 25,
   "metadata": {
    "collapsed": false
   },
   "outputs": [
    {
     "ename": "NameError",
     "evalue": "name 'paras' is not defined",
     "output_type": "error",
     "traceback": [
      "\u001b[1;31m---------------------------------------------------------------------------\u001b[0m",
      "\u001b[1;31mNameError\u001b[0m                                 Traceback (most recent call last)",
      "\u001b[1;32m<ipython-input-25-293029af595c>\u001b[0m in \u001b[0;36m<module>\u001b[1;34m()\u001b[0m\n\u001b[1;32m----> 1\u001b[1;33m \u001b[0mbethe_1\u001b[0m \u001b[1;33m=\u001b[0m \u001b[0mln_model\u001b[0m\u001b[1;33m.\u001b[0m\u001b[0mfit\u001b[0m\u001b[1;33m(\u001b[0m\u001b[0mdE_dx_1\u001b[0m\u001b[1;33m,\u001b[0m\u001b[0mparas\u001b[0m\u001b[1;33m,\u001b[0m\u001b[0mx\u001b[0m\u001b[1;33m=\u001b[0m\u001b[0mE_1\u001b[0m\u001b[1;33m)\u001b[0m\u001b[1;33m\u001b[0m\u001b[0m\n\u001b[0m",
      "\u001b[1;31mNameError\u001b[0m: name 'paras' is not defined"
     ]
    }
   ],
   "source": [
    "bethe_1 = ln_model.fit(dE_dx_1,paras,x=E_1)"
   ]
  },
  {
   "cell_type": "code",
   "execution_count": 26,
   "metadata": {
    "collapsed": false
   },
   "outputs": [
    {
     "ename": "NameError",
     "evalue": "name 'bethe_1' is not defined",
     "output_type": "error",
     "traceback": [
      "\u001b[1;31m---------------------------------------------------------------------------\u001b[0m",
      "\u001b[1;31mNameError\u001b[0m                                 Traceback (most recent call last)",
      "\u001b[1;32m<ipython-input-26-29d71d1542df>\u001b[0m in \u001b[0;36m<module>\u001b[1;34m()\u001b[0m\n\u001b[1;32m----> 1\u001b[1;33m \u001b[0mprint\u001b[0m\u001b[1;33m(\u001b[0m\u001b[0mbethe_1\u001b[0m\u001b[1;33m.\u001b[0m\u001b[0mfit_report\u001b[0m\u001b[1;33m(\u001b[0m\u001b[1;33m)\u001b[0m\u001b[1;33m)\u001b[0m\u001b[1;33m\u001b[0m\u001b[0m\n\u001b[0m",
      "\u001b[1;31mNameError\u001b[0m: name 'bethe_1' is not defined"
     ]
    }
   ],
   "source": [
    "print(bethe_1.fit_report())"
   ]
  },
  {
   "cell_type": "code",
   "execution_count": 29,
   "metadata": {
    "collapsed": false
   },
   "outputs": [],
   "source": [
    "plt.plot(np.arange(0,5,0.1),-ln(np.arange(0,5,0.1),0.001))\n",
    "plt.show()"
   ]
  },
  {
   "cell_type": "code",
   "execution_count": null,
   "metadata": {
    "collapsed": true
   },
   "outputs": [],
   "source": []
  }
 ],
 "metadata": {
  "kernelspec": {
   "display_name": "Python 3",
   "language": "python",
   "name": "python3"
  },
  "language_info": {
   "codemirror_mode": {
    "name": "ipython",
    "version": 3
   },
   "file_extension": ".py",
   "mimetype": "text/x-python",
   "name": "python",
   "nbconvert_exporter": "python",
   "pygments_lexer": "ipython3",
   "version": "3.4.3"
  }
 },
 "nbformat": 4,
 "nbformat_minor": 0
}
