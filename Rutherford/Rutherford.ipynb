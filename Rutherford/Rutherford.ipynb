{
 "cells": [
  {
   "cell_type": "code",
   "execution_count": 1,
   "metadata": {
    "collapsed": false
   },
   "outputs": [
    {
     "name": "stderr",
     "output_type": "stream",
     "text": [
      "/home/frederik/anaconda3/lib/python3.4/site-packages/IPython/html.py:14: ShimWarning: The `IPython.html` package has been deprecated. You should import from `notebook` instead. `IPython.html.widgets` has moved to `ipywidgets`.\n",
      "  \"`IPython.html.widgets` has moved to `ipywidgets`.\", ShimWarning)\n"
     ]
    }
   ],
   "source": [
    "import numpy as np\n",
    "import pandas as pd\n",
    "import matplotlib.pyplot as plt\n",
    "from lmfit.models import GaussianModel,LinearModel"
   ]
  },
  {
   "cell_type": "markdown",
   "metadata": {
    "collapsed": true
   },
   "source": [
    "#Rutherfordstreuung"
   ]
  },
  {
   "cell_type": "markdown",
   "metadata": {},
   "source": [
    "##Rutherfordsteuuformel\n",
    "<br>\n",
    "$\\huge \\huge \\frac{d\\sigma}{d\\Omega} = 1.3 \\cdot 10^{-3} \\left( \\frac{Z_1 Z_2}{E_0} \\right) \\frac{1}{sin^4\\left(\\frac{\\theta}{2}\\right)}$\n",
    "\n",
    "<ul>\n",
    "    <li>$\\sigma$: Differentielle WQ\n",
    "    <li>$\\Theta$: Winkel\n",
    "    <li>$Z_i$: Kernlagundszahl\n",
    "    <li>E: Energie\n",
    "</ul>   "
   ]
  },
  {
   "cell_type": "code",
   "execution_count": 2,
   "metadata": {
    "collapsed": false
   },
   "outputs": [],
   "source": [
    "def rutherfordsteuung(theta,Z_1,Z_2,E,b):\n",
    "    e = 1.602 * 10**-19\n",
    "    return (Z_1*Z_2*e**2)/(4*E*np.sin((3.14*theta-b)/360)**4)"
   ]
  },
  {
   "cell_type": "markdown",
   "metadata": {
    "collapsed": true
   },
   "source": [
    "#Energieverlust von $\\alpha$-Strahlung in Luft"
   ]
  },
  {
   "cell_type": "markdown",
   "metadata": {},
   "source": [
    "# Energie-Kanal kalibration"
   ]
  },
  {
   "cell_type": "code",
   "execution_count": 3,
   "metadata": {
    "collapsed": false
   },
   "outputs": [
    {
     "name": "stdout",
     "output_type": "stream",
     "text": [
      "/home/frederik/Dokumente/FP/Rutherford/MessdatenRutherford/kalib\n"
     ]
    }
   ],
   "source": [
    "cd /home/frederik/Dokumente/FP/Rutherford/MessdatenRutherford/kalib/"
   ]
  },
  {
   "cell_type": "code",
   "execution_count": 4,
   "metadata": {
    "collapsed": false
   },
   "outputs": [],
   "source": [
    "data = np.array(pd.read_csv(\"energiekalpib_30Torr.csv\",skiprows=15,delimiter=\"\\t\")).T"
   ]
  },
  {
   "cell_type": "code",
   "execution_count": 5,
   "metadata": {
    "collapsed": false
   },
   "outputs": [],
   "source": [
    "plt.errorbar(data[0],data[1],np.sqrt(data[1]))\n",
    "plt.show()"
   ]
  },
  {
   "cell_type": "markdown",
   "metadata": {},
   "source": [
    "## Händische schätzung für die Peaks\n",
    "\n",
    "    - 1: x=250, y=180\n",
    "    - 2: x=320, y=266\n",
    "    - 3: x=373, y=158\n",
    "    - 4: x=551, y=159\n",
    "    \n",
    "Mulitgauss mit den Werten konfigurieren und Fehler berechnen"
   ]
  },
  {
   "cell_type": "code",
   "execution_count": 6,
   "metadata": {
    "collapsed": false
   },
   "outputs": [],
   "source": [
    "err = np.sqrt(data[1])\n",
    "err = np.where(err == 0, 1, err)"
   ]
  },
  {
   "cell_type": "code",
   "execution_count": 29,
   "metadata": {
    "collapsed": false
   },
   "outputs": [],
   "source": [
    "y = data[1]\n",
    "x = data[0]\n",
    "\n",
    "\n",
    "g_1 = GaussianModel(prefix=\"g_1\")\n",
    "pars = g_1.guess(y,x=x)\n",
    "\n",
    "pars['g_1center'].set(250, min=240, max=275)\n",
    "pars['g_1sigma'].set(40, min=33)\n",
    "pars['g_1amplitude'].set(20000, min=15000)\n",
    "\n",
    "g_2 = GaussianModel(prefix=\"g_2\")\n",
    "pars.update( g_2.make_params())\n",
    "\n",
    "pars['g_2center'].set(320, min=300, max=345)\n",
    "pars['g_2sigma'].set(15, min=3)\n",
    "pars['g_2amplitude'].set(2600, min=200)\n",
    "\n",
    "\n",
    "\n",
    "g_3 = GaussianModel(prefix=\"g_3\")\n",
    "pars.update( g_3.make_params())\n",
    "\n",
    "pars['g_3center'].set(373, min=350, max=400)\n",
    "pars['g_3sigma'].set(15, min=3)\n",
    "pars['g_3amplitude'].set(158, min=10)\n",
    "\n",
    "\n",
    "g_4 = GaussianModel(prefix=\"g_4\")\n",
    "pars.update( g_4.make_params())\n",
    "\n",
    "pars['g_4center'].set(551, min=530, max=570)\n",
    "pars['g_4sigma'].set(15, min=3)\n",
    "pars['g_4amplitude'].set(159, min=10)\n",
    "\n",
    "\n",
    "mod = g_1 + g_2 + g_3 + g_4\n",
    "\n",
    "out = mod.fit(y,pars,x=x,weights=1/err)"
   ]
  },
  {
   "cell_type": "code",
   "execution_count": 30,
   "metadata": {
    "collapsed": false
   },
   "outputs": [
    {
     "name": "stdout",
     "output_type": "stream",
     "text": [
      "[[Model]]\n",
      "    (((Model(gaussian, prefix='g_1') + Model(gaussian, prefix='g_2')) + Model(gaussian, prefix='g_3')) + Model(gaussian, prefix='g_4'))\n",
      "[[Fit Statistics]]\n",
      "    # function evals   = 834\n",
      "    # data points      = 1023\n",
      "    # variables        = 12\n",
      "    chi-square         = 2029.989\n",
      "    reduced chi-square = 2.008\n",
      "[[Variables]]\n",
      "    g_1sigma:       38.6118037 +/- 0        (0.00%) (init= 40)\n",
      "    g_1center:      275        +/- 0        (0.00%) (init= 250)\n",
      "    g_1amplitude:   15000      +/- 0        (0.00%) (init= 20000)\n",
      "    g_1fwhm:        90.9238476 +/- 0        (0.00%)  == '2.3548200*g_1sigma'\n",
      "    g_2center:      319.666990 +/- 0        (0.00%) (init= 320)\n",
      "    g_2amplitude:   6421.91306 +/- 0        (0.00%) (init= 2600)\n",
      "    g_2sigma:       14.3413405 +/- 0        (0.00%) (init= 15)\n",
      "    g_2fwhm:        33.7712755 +/- 0        (0.00%)  == '2.3548200*g_2sigma'\n",
      "    g_3center:      371.338095 +/- 0        (0.00%) (init= 373)\n",
      "    g_3sigma:       19.2417973 +/- 0        (0.00%) (init= 15)\n",
      "    g_3amplitude:   7336.05366 +/- 0        (0.00%) (init= 158)\n",
      "    g_3fwhm:        45.3109691 +/- 0        (0.00%)  == '2.3548200*g_3sigma'\n",
      "    g_4amplitude:   7171.02611 +/- 0        (0.00%) (init= 159)\n",
      "    g_4center:      548.630194 +/- 0        (0.00%) (init= 551)\n",
      "    g_4sigma:       18.8997825 +/- 0        (0.00%) (init= 15)\n",
      "    g_4fwhm:        44.5055858 +/- 0        (0.00%)  == '2.3548200*g_4sigma'\n",
      "[[Correlations]] (unreported correlations are <  0.100)\n"
     ]
    }
   ],
   "source": [
    "print(out.fit_report())\n",
    "out.plot_fit()\n",
    "plt.show()"
   ]
  },
  {
   "cell_type": "code",
   "execution_count": null,
   "metadata": {
    "collapsed": true
   },
   "outputs": [],
   "source": []
  }
 ],
 "metadata": {
  "kernelspec": {
   "display_name": "Python 3",
   "language": "python",
   "name": "python3"
  },
  "language_info": {
   "codemirror_mode": {
    "name": "ipython",
    "version": 3
   },
   "file_extension": ".py",
   "mimetype": "text/x-python",
   "name": "python",
   "nbconvert_exporter": "python",
   "pygments_lexer": "ipython3",
   "version": "3.4.3"
  }
 },
 "nbformat": 4,
 "nbformat_minor": 0
}
