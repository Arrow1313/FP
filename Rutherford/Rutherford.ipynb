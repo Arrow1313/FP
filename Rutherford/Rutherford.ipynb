{
 "cells": [
  {
   "cell_type": "code",
   "execution_count": 1,
   "metadata": {
    "collapsed": false
   },
   "outputs": [
    {
     "name": "stderr",
     "output_type": "stream",
     "text": [
      "/home/frederik/anaconda3/lib/python3.4/site-packages/IPython/html.py:14: ShimWarning: The `IPython.html` package has been deprecated. You should import from `notebook` instead. `IPython.html.widgets` has moved to `ipywidgets`.\n",
      "  \"`IPython.html.widgets` has moved to `ipywidgets`.\", ShimWarning)\n"
     ]
    }
   ],
   "source": [
    "import numpy as np\n",
    "import pandas as pd\n",
    "import matplotlib.pyplot as plt\n",
    "from lmfit.models import GaussianModel,LinearModel\n",
    "from glob import glob\n",
    "from lmfit import models"
   ]
  },
  {
   "cell_type": "code",
   "execution_count": 15,
   "metadata": {
    "collapsed": false
   },
   "outputs": [],
   "source": [
    "%matplotlib qt "
   ]
  },
  {
   "cell_type": "markdown",
   "metadata": {
    "collapsed": true
   },
   "source": [
    "#Rutherfordstreuung"
   ]
  },
  {
   "cell_type": "markdown",
   "metadata": {},
   "source": [
    "##Rutherfordsteuuformel\n",
    "<br>\n",
    "$\\huge \\huge \\frac{d\\sigma}{d\\Omega} = 1.3 \\cdot 10^{-3} \\left( \\frac{Z_1 Z_2}{E_0} \\right) \\frac{1}{sin^4\\left(\\frac{\\theta}{2}\\right)}$\n",
    "\n",
    "<ul>\n",
    "    <li>$\\sigma$: Differentielle WQ\n",
    "    <li>$\\Theta$: Winkel\n",
    "    <li>$Z_i$: Kernlagundszahl\n",
    "    <li>E: Energie\n",
    "</ul>   "
   ]
  },
  {
   "cell_type": "code",
   "execution_count": 3,
   "metadata": {
    "collapsed": false
   },
   "outputs": [],
   "source": [
    "def rutherfordsteuung(theta,Z_1,Z_2,E,b):\n",
    "    e = 1.602 * 10**-19\n",
    "    return (Z_1*Z_2*e**2)/(4*E*np.sin((3.14*theta-b)/360)**4)"
   ]
  },
  {
   "cell_type": "markdown",
   "metadata": {
    "collapsed": true
   },
   "source": [
    "# Energieverlust von $\\alpha$-Strahlung in Luft"
   ]
  },
  {
   "cell_type": "markdown",
   "metadata": {},
   "source": [
    "# Energie-Kanal kalibration"
   ]
  },
  {
   "cell_type": "code",
   "execution_count": 4,
   "metadata": {
    "collapsed": false
   },
   "outputs": [
    {
     "name": "stdout",
     "output_type": "stream",
     "text": [
      "/home/frederik/Dokumente/FP/Rutherford/MessdatenRutherford/kalib\n"
     ]
    }
   ],
   "source": [
    "cd /home/frederik/Dokumente/FP/Rutherford/MessdatenRutherford/kalib/"
   ]
  },
  {
   "cell_type": "code",
   "execution_count": 5,
   "metadata": {
    "collapsed": false
   },
   "outputs": [],
   "source": [
    "data = np.array(pd.read_csv(\"energiekalpib_30Torr.csv\",skiprows=15,delimiter=\"\\t\")).T"
   ]
  },
  {
   "cell_type": "code",
   "execution_count": 6,
   "metadata": {
    "collapsed": false
   },
   "outputs": [],
   "source": [
    "plt.errorbar(data[0],data[1],np.sqrt(data[1]))\n",
    "plt.show()"
   ]
  },
  {
   "cell_type": "markdown",
   "metadata": {},
   "source": [
    "## Händische schätzung für die Peaks\n",
    "\n",
    "    - 1: x=250, y=180\n",
    "    - 2: x=320, y=266\n",
    "    - 3: x=373, y=158\n",
    "    - 4: x=551, y=159\n",
    "    \n",
    "Mulitgauss mit den Werten konfigurieren und Fehler berechnen"
   ]
  },
  {
   "cell_type": "code",
   "execution_count": 7,
   "metadata": {
    "collapsed": false
   },
   "outputs": [],
   "source": [
    "err = np.sqrt(data[1][200:612])\n",
    "err = np.where(err == 0, 1, err)"
   ]
  },
  {
   "cell_type": "code",
   "execution_count": 8,
   "metadata": {
    "collapsed": false
   },
   "outputs": [],
   "source": [
    "y = data[1][200:612]\n",
    "x = data[0][200:612]\n",
    "\n",
    "\n",
    "g_1 = GaussianModel(prefix=\"g_1\")\n",
    "pars = g_1.guess(y,x=x)\n",
    "\n",
    "pars['g_1center'].set(260, min=240, max=275)\n",
    "pars['g_1sigma'].set(15, min=3,max=22)\n",
    "pars['g_1amplitude'].set(10000, min=90)\n",
    "\n",
    "g_2 = GaussianModel(prefix=\"g_2\")\n",
    "pars.update( g_2.make_params())\n",
    "\n",
    "pars['g_2center'].set(320, min=300, max=345)\n",
    "pars['g_2sigma'].set(15, min=3)\n",
    "pars['g_2amplitude'].set(20000, min=1)\n",
    "\n",
    "\n",
    "g_3 = GaussianModel(prefix=\"g_3\")\n",
    "pars.update( g_3.make_params())\n",
    "\n",
    "pars['g_3center'].set(373, min=350, max=400)\n",
    "pars['g_3sigma'].set(15, min=3,max=20)\n",
    "pars['g_3amplitude'].set(10000, min=1)\n",
    "\n",
    "g_4 = GaussianModel(prefix=\"g_4\")\n",
    "pars.update( g_4.make_params())\n",
    "\n",
    "pars['g_4center'].set(551, min=530, max=570)\n",
    "pars['g_4sigma'].set(15, min=3)\n",
    "pars['g_4amplitude'].set(20000, min=1)\n",
    "\n",
    "\n",
    "\n",
    "mod = g_1 + g_2 + g_3 + g_4\n",
    "\n",
    "\n",
    "out = mod.fit(y,pars,x=x,weights=1/err)"
   ]
  },
  {
   "cell_type": "code",
   "execution_count": 9,
   "metadata": {
    "collapsed": false
   },
   "outputs": [
    {
     "name": "stdout",
     "output_type": "stream",
     "text": [
      "[[Model]]\n",
      "    (((Model(gaussian, prefix='g_1') + Model(gaussian, prefix='g_2')) + Model(gaussian, prefix='g_3')) + Model(gaussian, prefix='g_4'))\n",
      "[[Fit Statistics]]\n",
      "    # function evals   = 166\n",
      "    # data points      = 412\n",
      "    # variables        = 12\n",
      "    chi-square         = 686.653\n",
      "    reduced chi-square = 1.717\n",
      "[[Variables]]\n",
      "    g_1amplitude:   8700.66368 +/- 308.8273 (3.55%) (init= 10000)\n",
      "    g_1sigma:       22         +/- 0.251317 (1.14%) (init= 15)\n",
      "    g_1center:      255.238187 +/- 0.978165 (0.38%) (init= 260)\n",
      "    g_1fwhm:        51.8060400 +/- 0.591806 (1.14%)  == '2.3548200*g_1sigma'\n",
      "    g_2amplitude:   12483.3775 +/- 459.5780 (3.68%) (init= 20000)\n",
      "    g_2sigma:       19.4956985 +/- 0.752448 (3.86%) (init= 15)\n",
      "    g_2center:      315.461920 +/- 0.556976 (0.18%) (init= 320)\n",
      "    g_2fwhm:        45.9088608 +/- 1.771881 (3.86%)  == '2.3548200*g_2sigma'\n",
      "    g_3sigma:       18.5261938 +/- 0.488227 (2.64%) (init= 15)\n",
      "    g_3amplitude:   7156.31891 +/- 243.6603 (3.40%) (init= 10000)\n",
      "    g_3center:      372.541213 +/- 0.815002 (0.22%) (init= 373)\n",
      "    g_3fwhm:        43.6258518 +/- 1.149687 (2.64%)  == '2.3548200*g_3sigma'\n",
      "    g_4center:      548.630213 +/- 0.294916 (0.05%) (init= 551)\n",
      "    g_4amplitude:   7170.98767 +/- 110.9777 (1.55%) (init= 20000)\n",
      "    g_4sigma:       18.8975519 +/- 0.223919 (1.18%) (init= 15)\n",
      "    g_4fwhm:        44.5003333 +/- 0.527289 (1.18%)  == '2.3548200*g_4sigma'\n",
      "[[Correlations]] (unreported correlations are <  0.100)\n",
      "    C(g_2amplitude, g_2sigma)    =  0.902 \n",
      "    C(g_1amplitude, g_1center)   =  0.860 \n",
      "    C(g_1sigma, g_1center)       =  0.828 \n",
      "    C(g_3amplitude, g_3center)   = -0.825 \n",
      "    C(g_3sigma, g_3center)       = -0.819 \n",
      "    C(g_1amplitude, g_1sigma)    =  0.817 \n",
      "    C(g_1center, g_2amplitude)   = -0.799 \n",
      "    C(g_1amplitude, g_2amplitude)  = -0.792 \n",
      "    C(g_1amplitude, g_2sigma)    = -0.772 \n",
      "    C(g_1center, g_2sigma)       = -0.767 \n",
      "    C(g_2sigma, g_3amplitude)    = -0.751 \n",
      "    C(g_3sigma, g_3amplitude)    =  0.749 \n",
      "    C(g_2sigma, g_3center)       =  0.740 \n",
      "    C(g_2amplitude, g_3center)   =  0.727 \n",
      "    C(g_2amplitude, g_3amplitude)  = -0.724 \n",
      "    C(g_1sigma, g_2amplitude)    = -0.715 \n",
      "    C(g_1sigma, g_2sigma)        = -0.649 \n",
      "    C(g_2amplitude, g_3sigma)    = -0.627 \n",
      "    C(g_2sigma, g_3sigma)        = -0.614 \n",
      "    C(g_1center, g_2center)      =  0.517 \n",
      "    C(g_1sigma, g_2center)       =  0.516 \n",
      "    C(g_1amplitude, g_2center)   =  0.489 \n",
      "    C(g_1amplitude, g_3amplitude)  =  0.464 \n",
      "    C(g_1center, g_3amplitude)   =  0.453 \n",
      "    C(g_1amplitude, g_3center)   = -0.443 \n",
      "    C(g_1center, g_3center)      = -0.432 \n",
      "    C(g_1sigma, g_3amplitude)    =  0.365 \n",
      "    C(g_1amplitude, g_3sigma)    =  0.351 \n",
      "    C(g_1sigma, g_3center)       = -0.346 \n",
      "    C(g_1center, g_3sigma)       =  0.341 \n",
      "    C(g_2center, g_3sigma)       = -0.325 \n",
      "    C(g_2center, g_3center)      =  0.309 \n",
      "    C(g_1sigma, g_3sigma)        =  0.271 \n",
      "    C(g_2center, g_3amplitude)   = -0.261 \n",
      "    C(g_2amplitude, g_2center)   = -0.177 \n",
      "    C(g_2sigma, g_2center)       = -0.136 \n",
      "    C(g_4center, g_4sigma)       = -0.105 \n"
     ]
    }
   ],
   "source": [
    "print(out.fit_report())"
   ]
  },
  {
   "cell_type": "code",
   "execution_count": 10,
   "metadata": {
    "collapsed": false
   },
   "outputs": [],
   "source": [
    "plt.errorbar(data[0][200:612],data[1][200:612],np.sqrt(data[1][200:612]),fmt='. b',label=\"Messdaten\")\n",
    "plt.plot(data[0][200:612],out.best_fit, '-r',label=\"Muli-Gauss-Fit\")\n",
    "plt.xlabel(\"Kanal\",fontsize=42)\n",
    "plt.ylabel('Counts',fontsize=42)\n",
    "plt.xticks(fontsize=30)\n",
    "plt.yticks(fontsize=30)\n",
    "plt.legend(loc='best', fontsize=42)\n",
    "plt.show()"
   ]
  },
  {
   "cell_type": "markdown",
   "metadata": {
    "collapsed": true
   },
   "source": [
    "## Mittelwerte den Energien zu ordnen\n",
    "    - Peak  Energie  Kanal\n",
    "    -   1    4,871   255+1\n",
    "    -   2    5.49    315+0.6\n",
    "    -   3    6.00    372+0.8\n",
    "    -   4    7.69    549+0.3"
   ]
  },
  {
   "cell_type": "code",
   "execution_count": 11,
   "metadata": {
    "collapsed": true
   },
   "outputs": [],
   "source": [
    "eich_kanal = np.array([255,315,372,549])\n",
    "eich_energie = np.array([4.871,5.49,6.00,7.69])\n",
    "eich_errx = np.array([1,0.6,0.8,0.3])"
   ]
  },
  {
   "cell_type": "code",
   "execution_count": 12,
   "metadata": {
    "collapsed": false
   },
   "outputs": [
    {
     "name": "stdout",
     "output_type": "stream",
     "text": [
      "[[Model]]\n",
      "    Model(linear)\n",
      "[[Fit Statistics]]\n",
      "    # function evals   = 3\n",
      "    # data points      = 4\n",
      "    # variables        = 2\n",
      "    chi-square         = 0.001\n",
      "    reduced chi-square = 0.001\n",
      "[[Variables]]\n",
      "    slope:       0.00953604 +/- 0.000111 (1.16%) (init= 0.009536043)\n",
      "    intercept:   2.45818986 +/- 0.042991 (1.75%) (init= 2.45819)\n",
      "[[Correlations]] (unreported correlations are <  0.100)\n",
      "    C(slope, intercept)          = -0.959 \n"
     ]
    }
   ],
   "source": [
    "mod_eich = LinearModel()\n",
    "guess = mod_eich.guess(eich_energie,x=eich_kanal)\n",
    "out_eich = mod_eich.fit(eich_energie,guess,x=eich_kanal)\n",
    "print(out_eich.fit_report())\n",
    "out_eich.plot()\n",
    "plt.legend(loc='best')\n",
    "plt.show()"
   ]
  },
  {
   "cell_type": "code",
   "execution_count": 13,
   "metadata": {
    "collapsed": false
   },
   "outputs": [],
   "source": [
    "plt.errorbar(eich_kanal,eich_energie,xerr=eich_errx,fmt='.r',label=\"Messdaten\")\n",
    "plt.plot(eich_kanal,out_eich.best_fit,label=\"linearer Fit\")\n",
    "plt.xlabel(\"Kanal\",fontsize=42)\n",
    "plt.ylabel('Energie [MeV]',fontsize=42)\n",
    "plt.xticks(fontsize=30)\n",
    "plt.yticks(fontsize=30)\n",
    "plt.xlim([240,560])\n",
    "plt.ylim([4.7,7.9])\n",
    "plt.legend(loc=\"best\",fontsize=42)\n",
    "plt.show()"
   ]
  },
  {
   "cell_type": "markdown",
   "metadata": {},
   "source": [
    "# Fitten der Mulitgauß bei unterschiedlichen Drücken"
   ]
  },
  {
   "cell_type": "code",
   "execution_count": 15,
   "metadata": {
    "collapsed": false
   },
   "outputs": [],
   "source": [
    "y = data[1][200:612]\n",
    "x = data[0][200:612]\n",
    "\n",
    "\n",
    "g_1 = GaussianModel(prefix=\"g_1\")\n",
    "pars = g_1.guess(y,x=x)\n",
    "\n",
    "pars['g_1center'].set(181)\n",
    "pars['g_1sigma'].set(15, min=3)\n",
    "pars['g_1amplitude'].set(10000, min=90)\n",
    "\n",
    "g_2 = GaussianModel(prefix=\"g_2\")\n",
    "pars.update( g_2.make_params())\n",
    "\n",
    "pars['g_2center'].set(239)\n",
    "pars['g_2sigma'].set(15, min=3)\n",
    "pars['g_2amplitude'].set(10000, min=1)\n",
    "\n",
    "\n",
    "g_3 = GaussianModel(prefix=\"g_3\")\n",
    "pars.update( g_3.make_params())\n",
    "\n",
    "pars['g_3center'].set(292)\n",
    "pars['g_3sigma'].set(15, min=3)\n",
    "pars['g_3amplitude'].set(10000, min=1)\n",
    "\n",
    "g_4 = GaussianModel(prefix=\"g_4\")\n",
    "pars.update( g_4.make_params())\n",
    "\n",
    "pars['g_4center'].set(457)\n",
    "pars['g_4sigma'].set(15, min=3)\n",
    "pars['g_4amplitude'].set(10000, min=1)\n",
    "\n",
    "\n",
    "\n",
    "mod = g_1 + g_2 + g_3 + g_4"
   ]
  },
  {
   "cell_type": "code",
   "execution_count": 16,
   "metadata": {
    "collapsed": false,
    "scrolled": true
   },
   "outputs": [
    {
     "ename": "NameError",
     "evalue": "name 'liste' is not defined",
     "output_type": "error",
     "traceback": [
      "\u001b[1;31m---------------------------------------------------------------------------\u001b[0m",
      "\u001b[1;31mNameError\u001b[0m                                 Traceback (most recent call last)",
      "\u001b[1;32m<ipython-input-16-c0d3d1b9f67e>\u001b[0m in \u001b[0;36m<module>\u001b[1;34m()\u001b[0m\n\u001b[1;32m----> 1\u001b[1;33m \u001b[0mi\u001b[0m \u001b[1;33m=\u001b[0m \u001b[0mliste\u001b[0m\u001b[1;33m[\u001b[0m\u001b[1;36m0\u001b[0m\u001b[1;33m]\u001b[0m\u001b[1;33m\u001b[0m\u001b[0m\n\u001b[0m\u001b[0;32m      2\u001b[0m \u001b[0mout_2\u001b[0m \u001b[1;33m=\u001b[0m \u001b[0mmod\u001b[0m\u001b[1;33m.\u001b[0m\u001b[0mfit\u001b[0m\u001b[1;33m(\u001b[0m\u001b[0mi\u001b[0m\u001b[1;33m[\u001b[0m\u001b[1;36m1\u001b[0m\u001b[1;33m]\u001b[0m\u001b[1;33m[\u001b[0m\u001b[1;36m45\u001b[0m\u001b[1;33m:\u001b[0m\u001b[1;33m-\u001b[0m\u001b[1;36m5\u001b[0m\u001b[1;33m]\u001b[0m\u001b[1;33m,\u001b[0m\u001b[0mpars\u001b[0m\u001b[1;33m,\u001b[0m\u001b[0mx\u001b[0m\u001b[1;33m=\u001b[0m\u001b[0mi\u001b[0m\u001b[1;33m[\u001b[0m\u001b[1;36m0\u001b[0m\u001b[1;33m]\u001b[0m\u001b[1;33m[\u001b[0m\u001b[1;36m45\u001b[0m\u001b[1;33m:\u001b[0m\u001b[1;33m-\u001b[0m\u001b[1;36m5\u001b[0m\u001b[1;33m]\u001b[0m\u001b[1;33m)\u001b[0m\u001b[1;33m\u001b[0m\u001b[0m\n\u001b[0;32m      3\u001b[0m \u001b[0mout_2\u001b[0m\u001b[1;33m.\u001b[0m\u001b[0mplot\u001b[0m\u001b[1;33m(\u001b[0m\u001b[1;33m)\u001b[0m\u001b[1;33m\u001b[0m\u001b[0m\n\u001b[0;32m      4\u001b[0m \u001b[0mplt\u001b[0m\u001b[1;33m.\u001b[0m\u001b[0mshow\u001b[0m\u001b[1;33m(\u001b[0m\u001b[1;33m)\u001b[0m\u001b[1;33m\u001b[0m\u001b[0m\n",
      "\u001b[1;31mNameError\u001b[0m: name 'liste' is not defined"
     ]
    }
   ],
   "source": [
    "i = liste[0]\n",
    "out_2 = mod.fit(i[1][45:-5],pars,x=i[0][45:-5])\n",
    "out_2.plot()\n",
    "plt.show()"
   ]
  },
  {
   "cell_type": "code",
   "execution_count": 17,
   "metadata": {
    "collapsed": false
   },
   "outputs": [
    {
     "ename": "NameError",
     "evalue": "name 'out_2' is not defined",
     "output_type": "error",
     "traceback": [
      "\u001b[1;31m---------------------------------------------------------------------------\u001b[0m",
      "\u001b[1;31mNameError\u001b[0m                                 Traceback (most recent call last)",
      "\u001b[1;32m<ipython-input-17-a4d48d2bc700>\u001b[0m in \u001b[0;36m<module>\u001b[1;34m()\u001b[0m\n\u001b[1;32m----> 1\u001b[1;33m \u001b[0mprint\u001b[0m\u001b[1;33m(\u001b[0m\u001b[0mout_2\u001b[0m\u001b[1;33m.\u001b[0m\u001b[0mvalues\u001b[0m\u001b[1;33m[\u001b[0m\u001b[1;34m'g_1center'\u001b[0m\u001b[1;33m]\u001b[0m\u001b[1;33m)\u001b[0m\u001b[1;33m\u001b[0m\u001b[0m\n\u001b[0m\u001b[0;32m      2\u001b[0m \u001b[0mprint\u001b[0m\u001b[1;33m(\u001b[0m\u001b[0mout_2\u001b[0m\u001b[1;33m.\u001b[0m\u001b[0mvalues\u001b[0m\u001b[1;33m[\u001b[0m\u001b[1;34m'g_2center'\u001b[0m\u001b[1;33m]\u001b[0m\u001b[1;33m)\u001b[0m\u001b[1;33m\u001b[0m\u001b[0m\n\u001b[0;32m      3\u001b[0m \u001b[0mprint\u001b[0m\u001b[1;33m(\u001b[0m\u001b[0mout_2\u001b[0m\u001b[1;33m.\u001b[0m\u001b[0mvalues\u001b[0m\u001b[1;33m[\u001b[0m\u001b[1;34m'g_3center'\u001b[0m\u001b[1;33m]\u001b[0m\u001b[1;33m)\u001b[0m\u001b[1;33m\u001b[0m\u001b[0m\n\u001b[0;32m      4\u001b[0m \u001b[0mprint\u001b[0m\u001b[1;33m(\u001b[0m\u001b[0mout_2\u001b[0m\u001b[1;33m.\u001b[0m\u001b[0mvalues\u001b[0m\u001b[1;33m[\u001b[0m\u001b[1;34m'g_4center'\u001b[0m\u001b[1;33m]\u001b[0m\u001b[1;33m)\u001b[0m\u001b[1;33m\u001b[0m\u001b[0m\n",
      "\u001b[1;31mNameError\u001b[0m: name 'out_2' is not defined"
     ]
    }
   ],
   "source": [
    "print(out_2.values['g_1center'])\n",
    "print(out_2.values['g_2center'])\n",
    "print(out_2.values['g_3center'])\n",
    "print(out_2.values['g_4center'])"
   ]
  },
  {
   "cell_type": "code",
   "execution_count": 18,
   "metadata": {
    "collapsed": false
   },
   "outputs": [
    {
     "ename": "NameError",
     "evalue": "name 'liste_fit_params_4' is not defined",
     "output_type": "error",
     "traceback": [
      "\u001b[1;31m---------------------------------------------------------------------------\u001b[0m",
      "\u001b[1;31mNameError\u001b[0m                                 Traceback (most recent call last)",
      "\u001b[1;32m<ipython-input-18-c204201be3f0>\u001b[0m in \u001b[0;36m<module>\u001b[1;34m()\u001b[0m\n\u001b[1;32m----> 1\u001b[1;33m \u001b[0mliste_fit_params_4\u001b[0m\u001b[1;33m.\u001b[0m\u001b[0mappend\u001b[0m\u001b[1;33m(\u001b[0m\u001b[1;33m[\u001b[0m\u001b[1;33m]\u001b[0m\u001b[1;33m)\u001b[0m\u001b[1;33m\u001b[0m\u001b[0m\n\u001b[0m\u001b[0;32m      2\u001b[0m \u001b[0mliste_fit_params_4\u001b[0m\u001b[1;33m[\u001b[0m\u001b[1;33m-\u001b[0m\u001b[1;36m1\u001b[0m\u001b[1;33m]\u001b[0m\u001b[1;33m.\u001b[0m\u001b[0mappend\u001b[0m\u001b[1;33m(\u001b[0m\u001b[0mout_2\u001b[0m\u001b[1;33m.\u001b[0m\u001b[0mbest_values\u001b[0m\u001b[1;33m[\u001b[0m\u001b[1;34m\"g_4center\"\u001b[0m\u001b[1;33m]\u001b[0m\u001b[1;33m)\u001b[0m\u001b[1;33m\u001b[0m\u001b[0m\n\u001b[0;32m      3\u001b[0m \u001b[0mliste_fit_params_4\u001b[0m\u001b[1;33m[\u001b[0m\u001b[1;33m-\u001b[0m\u001b[1;36m1\u001b[0m\u001b[1;33m]\u001b[0m\u001b[1;33m.\u001b[0m\u001b[0mappend\u001b[0m\u001b[1;33m(\u001b[0m\u001b[0mout_2\u001b[0m\u001b[1;33m.\u001b[0m\u001b[0mbest_values\u001b[0m\u001b[1;33m[\u001b[0m\u001b[1;34m\"g_4amplitude\"\u001b[0m\u001b[1;33m]\u001b[0m\u001b[1;33m)\u001b[0m\u001b[1;33m\u001b[0m\u001b[0m\n\u001b[0;32m      4\u001b[0m \u001b[0mliste_fit_params_4\u001b[0m\u001b[1;33m[\u001b[0m\u001b[1;33m-\u001b[0m\u001b[1;36m1\u001b[0m\u001b[1;33m]\u001b[0m\u001b[1;33m.\u001b[0m\u001b[0mappend\u001b[0m\u001b[1;33m(\u001b[0m\u001b[0mout_2\u001b[0m\u001b[1;33m.\u001b[0m\u001b[0mbest_values\u001b[0m\u001b[1;33m[\u001b[0m\u001b[1;34m\"g_4sigma\"\u001b[0m\u001b[1;33m]\u001b[0m\u001b[1;33m)\u001b[0m\u001b[1;33m\u001b[0m\u001b[0m\n",
      "\u001b[1;31mNameError\u001b[0m: name 'liste_fit_params_4' is not defined"
     ]
    }
   ],
   "source": [
    "liste_fit_params_4.append([])\n",
    "liste_fit_params_4[-1].append(out_2.best_values[\"g_4center\"])\n",
    "liste_fit_params_4[-1].append(out_2.best_values[\"g_4amplitude\"])\n",
    "liste_fit_params_4[-1].append(out_2.best_values[\"g_4sigma\"])"
   ]
  },
  {
   "cell_type": "markdown",
   "metadata": {},
   "source": [
    "# Beth-Bloch "
   ]
  },
  {
   "cell_type": "code",
   "execution_count": 19,
   "metadata": {
    "collapsed": false
   },
   "outputs": [],
   "source": [
    "np_liste_fit_1 = np.loadtxt(\"/home/frederik/Dokumente/FP/Rutherford/MessdatenRutherford/kalib/paras_1\").T\n",
    "np_liste_fit_2 = np.loadtxt(\"/home/frederik/Dokumente/FP/Rutherford/MessdatenRutherford/kalib/paras_2\").T\n",
    "np_liste_fit_3 = np.loadtxt(\"/home/frederik/Dokumente/FP/Rutherford/MessdatenRutherford/kalib/paras_3\").T\n",
    "np_liste_fit_4 = np.loadtxt(\"/home/frederik/Dokumente/FP/Rutherford/MessdatenRutherford/kalib/paras_4\").T"
   ]
  },
  {
   "cell_type": "code",
   "execution_count": 20,
   "metadata": {
    "collapsed": false
   },
   "outputs": [],
   "source": [
    "delta_mu_1 = np.array([0.5,0.4,0.4,0.4,0.4,5.2])\n",
    "delta_mu_2 = np.array([0.2,0.2,0.2,0.2,0.2,0.3,0.2,0.3,2.5])\n",
    "delta_mu_3 = np.array([0.3,0.3,0.3,0.3,0.3,0.3,0.4,0.3,0.6,0.2,1.5,13.2])\n",
    "delta_mu_4 = np.array([0.2,0.2,0.2,0.1,0.1,0.1,0.2,0.1,0.1,0.1,0.1,0.1,0.1,0.1,0.1,0.1,0.1,0.1,0.2,1.1])\n",
    "delta_E_1 = delta_mu_1*0.0095\n",
    "delta_E_2 = delta_mu_2*0.0095\n",
    "delta_E_3 = delta_mu_3*0.0095\n",
    "delta_E_4 = delta_mu_4*0.0095"
   ]
  },
  {
   "cell_type": "code",
   "execution_count": 21,
   "metadata": {
    "collapsed": false
   },
   "outputs": [],
   "source": [
    "dE_1 = (np_liste_fit_1[0][:-1] - np_liste_fit_1[0][1:])*0.0095\n",
    "dE_2 = (np_liste_fit_2[0][:-1] - np_liste_fit_2[0][1:])*0.0095\n",
    "dE_3 = (np_liste_fit_3[0][:-1] - np_liste_fit_3[0][1:])*0.0095\n",
    "dE_4 = (np_liste_fit_4[0][:-1] - np_liste_fit_4[0][1:])*0.0095\n",
    "delta_dE_1 = np.sqrt(delta_E_1[:-1]**2 + delta_E_1[1:]**2)\n",
    "delta_dE_2 = np.sqrt(delta_E_2[:-1]**2 + delta_E_2[1:]**2)\n",
    "delta_dE_3 = np.sqrt(delta_E_3[:-1]**2 + delta_E_3[1:]**2)\n",
    "delta_dE_4 = np.sqrt(delta_E_4[:-1]**2 + delta_E_4[1:]**2)"
   ]
  },
  {
   "cell_type": "code",
   "execution_count": 22,
   "metadata": {
    "collapsed": false
   },
   "outputs": [],
   "source": [
    "x = (6/760)*np.arange(100,725,25)\n",
    "dx = (x[:-1]-x[1:])\n",
    "delta_dx = np.sqrt(2)*dx/dx*0.5"
   ]
  },
  {
   "cell_type": "code",
   "execution_count": 23,
   "metadata": {
    "collapsed": false
   },
   "outputs": [
    {
     "name": "stdout",
     "output_type": "stream",
     "text": [
      "[ 0.15704129  0.15613131  0.15443626  0.16352066  0.18244823]\n"
     ]
    }
   ],
   "source": [
    "dE_dx_1 = dE_1/dx[:dE_1.size]\n",
    "dE_dx_2 = dE_2/dx[:dE_2.size]\n",
    "dE_dx_3 = dE_3/dx[:dE_3.size]\n",
    "dE_dx_4 = dE_4/dx[:dE_4.size]\n",
    "delta_dE_dx_1 = np.sqrt((delta_dE_1/dx[:delta_dE_1.size])**2 + \n",
    "                        ((delta_dx[:delta_dE_1.size] * dE_1)/dx[delta_dE_1.size])**2 )/6\n",
    "delta_dE_dx_2 = np.sqrt((delta_dE_2/dx[:delta_dE_2.size])**2 + \n",
    "                        ((delta_dx[:delta_dE_2.size] * dE_2)/dx[delta_dE_2.size])**2 )/6\n",
    "delta_dE_dx_3 = np.sqrt((delta_dE_3/dx[:delta_dE_3.size])**2 + \n",
    "                        ((delta_dx[:delta_dE_3.size] * dE_3)/dx[delta_dE_3.size])**2 )/6\n",
    "delta_dE_dx_4 = np.sqrt((delta_dE_4/dx[:delta_dE_4.size])**2 + \n",
    "                        ((delta_dx[:delta_dE_4.size] * dE_4)/dx[delta_dE_4.size])**2 )/6\n",
    "print(delta_dE_dx_1)"
   ]
  },
  {
   "cell_type": "code",
   "execution_count": 24,
   "metadata": {
    "collapsed": false
   },
   "outputs": [],
   "source": [
    "E_1 = (np_liste_fit_1[0][0:-1] + np_liste_fit_1[0][1:])*0.0095/2\n",
    "E_2 = (np_liste_fit_2[0][0:-1] + np_liste_fit_2[0][1:])*0.0095/2\n",
    "E_3 = (np_liste_fit_3[0][0:-1] + np_liste_fit_3[0][1:])*0.0095/2\n",
    "E_4 = (np_liste_fit_4[0][0:-1] + np_liste_fit_4[0][1:])*0.0095/2"
   ]
  },
  {
   "cell_type": "code",
   "execution_count": 25,
   "metadata": {
    "collapsed": false
   },
   "outputs": [],
   "source": [
    "term_1_1 = (((np_liste_fit_1[0][:-1]*0.01)**2 + (np_liste_fit_1[0][1:]*0.01)**2)*0.0095)/dx[:dE_1.size]**2\n",
    "term_1_2 = (2*((6/760)*8*dE_1)**2)/dx[:dE_1.size]**4\n",
    "err_1 = np.sqrt(term_1_1 + term_1_2)"
   ]
  },
  {
   "cell_type": "code",
   "execution_count": 60,
   "metadata": {
    "collapsed": false
   },
   "outputs": [],
   "source": [
    "plt.plot(E_1,-dE_dx_1,label='4,871 MeV')\n",
    "plt.plot(E_2,-dE_dx_2,label='5,49 MeV')\n",
    "plt.plot(E_3,-dE_dx_3,label='6 MeV')\n",
    "plt.plot(E_4,-dE_dx_4,label='7,69 MeV')\n",
    "plt.legend()\n",
    "plt.show()"
   ]
  },
  {
   "cell_type": "markdown",
   "metadata": {},
   "source": [
    "## Bethe-Bloch $\\sim \\frac{A}{\\beta} \\left[ ln(B \\cdot \\beta) - \\beta \\right]$"
   ]
  },
  {
   "cell_type": "code",
   "execution_count": 27,
   "metadata": {
    "collapsed": false
   },
   "outputs": [],
   "source": [
    "def bethe_func(x,A,B):\n",
    "    return (A*np.log(B*x)-x)/x"
   ]
  },
  {
   "cell_type": "code",
   "execution_count": 28,
   "metadata": {
    "collapsed": false
   },
   "outputs": [],
   "source": [
    "df_liste_fit_1 = pd.DataFrame(np_liste_fit_1.T)\n",
    "df_liste_fit_2 = pd.DataFrame(np_liste_fit_2.T)\n",
    "df_liste_fit_3 = pd.DataFrame(np_liste_fit_3.T)\n",
    "df_liste_fit_4 = pd.DataFrame(np_liste_fit_4.T)"
   ]
  },
  {
   "cell_type": "code",
   "execution_count": 29,
   "metadata": {
    "collapsed": false
   },
   "outputs": [],
   "source": [
    "bethe_fit = models.Model(bethe_func)\n",
    "params = bethe_fit.make_params(A=1,B=1,C=0)"
   ]
  },
  {
   "cell_type": "code",
   "execution_count": 30,
   "metadata": {
    "collapsed": false,
    "scrolled": false
   },
   "outputs": [
    {
     "name": "stdout",
     "output_type": "stream",
     "text": [
      "[[Model]]\n",
      "    Model(bethe_func)\n",
      "[[Fit Statistics]]\n",
      "    # function evals   = 13\n",
      "    # data points      = 5\n",
      "    # variables        = 2\n",
      "    chi-square         = 4.883\n",
      "    reduced chi-square = 1.628\n",
      "[[Variables]]\n",
      "    A:   1.84022579 +/- 0.198053 (10.76%) (init= 1)\n",
      "    B:   3.83710261 +/- 0.451325 (11.76%) (init= 1)\n",
      "[[Correlations]] (unreported correlations are <  0.100)\n",
      "    C(A, B)                      = -0.932 \n"
     ]
    }
   ],
   "source": [
    "out_bethe_1 = bethe_fit.fit(-dE_dx_1,params,x=E_1,weights= 1/delta_dE_dx_1)\n",
    "print(out_bethe_1.fit_report())\n",
    "out_bethe_1.plot()\n",
    "plt.errorbar(E_1,-dE_dx_1,delta_dE_dx_1,fmt='. ',label='shit')\n",
    "plt.legend(loc='best')\n",
    "plt.show()"
   ]
  },
  {
   "cell_type": "code",
   "execution_count": 31,
   "metadata": {
    "collapsed": false
   },
   "outputs": [
    {
     "data": {
      "text/plain": [
       "8.4006853898789853"
      ]
     },
     "execution_count": 31,
     "metadata": {},
     "output_type": "execute_result"
    }
   ],
   "source": [
    "((out_bethe_1.best_fit - dE_dx_1)/(delta_dE_dx_1*10)).sum()"
   ]
  },
  {
   "cell_type": "code",
   "execution_count": 42,
   "metadata": {
    "collapsed": false
   },
   "outputs": [],
   "source": [
    "plt.plot(np.arange(0,5,0.1),bethe_func(np.arange(0,5,0.1),out_bethe_1.values['A'],out_bethe_1.values['B']),label='Messdaten')\n",
    "plt.errorbar(E_1,-dE_dx_1,delta_dE_dx_1,fmt='. ',label='Behte-Bloch-Fit')\n",
    "plt.xlabel(r'E / MeV', fontsize=42)\n",
    "plt.ylabel(r'$\\frac{dE}{dx}$ / MeV $\\cdot$ cm$^{-1}$', fontsize=42)\n",
    "plt.ylim([0,1.9])\n",
    "plt.xlim([0,2])\n",
    "plt.xticks(fontsize=30)\n",
    "plt.yticks(fontsize=30)\n",
    "plt.legend(loc='best',fontsize=42)\n",
    "plt.show()"
   ]
  },
  {
   "cell_type": "code",
   "execution_count": 43,
   "metadata": {
    "collapsed": false
   },
   "outputs": [
    {
     "name": "stdout",
     "output_type": "stream",
     "text": [
      "[[Model]]\n",
      "    Model(bethe_func)\n",
      "[[Fit Statistics]]\n",
      "    # function evals   = 13\n",
      "    # data points      = 8\n",
      "    # variables        = 2\n",
      "    chi-square         = 0.208\n",
      "    reduced chi-square = 0.035\n",
      "[[Variables]]\n",
      "    A:   2.13258856 +/- 0.119300 (5.59%) (init= 1)\n",
      "    B:   3.24580665 +/- 0.162532 (5.01%) (init= 1)\n",
      "[[Correlations]] (unreported correlations are <  0.100)\n",
      "    C(A, B)                      = -0.846 \n"
     ]
    }
   ],
   "source": [
    "out_bethe_2 = bethe_fit.fit(-dE_dx_2,params,x=E_2)\n",
    "print(out_bethe_2.fit_report())\n",
    "out_bethe_2.plot()\n",
    "plt.show()"
   ]
  },
  {
   "cell_type": "code",
   "execution_count": 44,
   "metadata": {
    "collapsed": false
   },
   "outputs": [
    {
     "data": {
      "text/plain": [
       "13.392248379387777"
      ]
     },
     "execution_count": 44,
     "metadata": {},
     "output_type": "execute_result"
    }
   ],
   "source": [
    "((out_bethe_2.best_fit - dE_dx_2)/(delta_dE_dx_2*10)).sum()"
   ]
  },
  {
   "cell_type": "code",
   "execution_count": 45,
   "metadata": {
    "collapsed": false
   },
   "outputs": [],
   "source": [
    "plt.plot(np.arange(0,5,0.1),bethe_func(np.arange(0,5,0.1),out_bethe_2.values['A'],out_bethe_2.values['B']),'b',label='Messdaten')\n",
    "plt.errorbar(E_2,-dE_dx_2,delta_dE_dx_2,fmt='. g',label='Behte-Bloch-Fit')\n",
    "plt.xlabel(r'E / MeV', fontsize=42)\n",
    "plt.ylabel(r'$\\frac{dE}{dx}$ / MeV $\\cdot$ cm$^{-1}$', fontsize=42)\n",
    "plt.ylim([0.6,1.9])\n",
    "plt.xlim([0,3])\n",
    "plt.xticks(fontsize=30)\n",
    "plt.yticks(fontsize=30)\n",
    "plt.legend(loc='best',fontsize=42)\n",
    "plt.show()"
   ]
  },
  {
   "cell_type": "code",
   "execution_count": 47,
   "metadata": {
    "collapsed": false
   },
   "outputs": [
    {
     "name": "stdout",
     "output_type": "stream",
     "text": [
      "[[Model]]\n",
      "    Model(bethe_func)\n",
      "[[Fit Statistics]]\n",
      "    # function evals   = 12\n",
      "    # data points      = 11\n",
      "    # variables        = 2\n",
      "    chi-square         = 0.624\n",
      "    reduced chi-square = 0.069\n",
      "[[Variables]]\n",
      "    A:   2.04625746 +/- 0.120395 (5.88%) (init= 1)\n",
      "    B:   3.53944886 +/- 0.185326 (5.24%) (init= 1)\n",
      "[[Correlations]] (unreported correlations are <  0.100)\n",
      "    C(A, B)                      = -0.777 \n"
     ]
    }
   ],
   "source": [
    "out_bethe_3 = bethe_fit.fit(-dE_dx_3,params,x=E_3)\n",
    "print(out_bethe_3.fit_report())\n",
    "out_bethe_3.plot()\n",
    "plt.show()"
   ]
  },
  {
   "cell_type": "code",
   "execution_count": 48,
   "metadata": {
    "collapsed": false
   },
   "outputs": [
    {
     "data": {
      "text/plain": [
       "17.526122503776541"
      ]
     },
     "execution_count": 48,
     "metadata": {},
     "output_type": "execute_result"
    }
   ],
   "source": [
    "((out_bethe_3.best_fit - dE_dx_3)/(delta_dE_dx_3*10)).sum()"
   ]
  },
  {
   "cell_type": "code",
   "execution_count": 49,
   "metadata": {
    "collapsed": false
   },
   "outputs": [],
   "source": [
    "plt.plot(np.arange(0,5,0.1),bethe_func(np.arange(0,5,0.1),out_bethe_3.values['A'],out_bethe_3.values['B']),label='Messdaten')\n",
    "plt.errorbar(E_3,-dE_dx_3,delta_dE_dx_3,fmt='. ',label='Behte-Bloch-Fit')\n",
    "plt.xlabel(r'E / MeV', fontsize=42)\n",
    "plt.ylabel(r'$\\frac{dE}{dx}$ / MeV $\\cdot$ cm$^{-1}$', fontsize=42)\n",
    "plt.ylim([0.2,1.9])\n",
    "plt.xlim([0,3])\n",
    "plt.xticks(fontsize=30)\n",
    "plt.yticks(fontsize=30)\n",
    "plt.legend(loc='best',fontsize=42)\n",
    "plt.show()"
   ]
  },
  {
   "cell_type": "code",
   "execution_count": 50,
   "metadata": {
    "collapsed": false
   },
   "outputs": [
    {
     "name": "stdout",
     "output_type": "stream",
     "text": [
      "[[Model]]\n",
      "    Model(bethe_func)\n",
      "[[Fit Statistics]]\n",
      "    # function evals   = 13\n",
      "    # data points      = 19\n",
      "    # variables        = 2\n",
      "    chi-square         = 3.164\n",
      "    reduced chi-square = 0.186\n",
      "[[Variables]]\n",
      "    A:   2.31135448 +/- 0.192054 (8.31%) (init= 1)\n",
      "    B:   3.22799303 +/- 0.295110 (9.14%) (init= 1)\n",
      "[[Correlations]] (unreported correlations are <  0.100)\n",
      "    C(A, B)                      = -0.812 \n"
     ]
    }
   ],
   "source": [
    "out_bethe_4 = bethe_fit.fit(-dE_dx_4,params,x=E_4)\n",
    "print(out_bethe_4.fit_report())\n",
    "out_bethe_4.plot()\n",
    "plt.show()"
   ]
  },
  {
   "cell_type": "code",
   "execution_count": 51,
   "metadata": {
    "collapsed": false
   },
   "outputs": [
    {
     "data": {
      "text/plain": [
       "30.965976560810365"
      ]
     },
     "execution_count": 51,
     "metadata": {},
     "output_type": "execute_result"
    }
   ],
   "source": [
    "((out_bethe_4.best_fit - dE_dx_4)/(delta_dE_dx_4*10)).sum()"
   ]
  },
  {
   "cell_type": "code",
   "execution_count": 53,
   "metadata": {
    "collapsed": false
   },
   "outputs": [],
   "source": [
    "plt.plot(np.arange(0,5,0.1),bethe_func(np.arange(0,5,0.1),out_bethe_4.values['A'],out_bethe_4.values['B']),label='Messdaten')\n",
    "plt.errorbar(E_4,-dE_dx_4,delta_dE_dx_4,fmt='. ',label='Behte-Bloch-Fit')\n",
    "plt.ylim([0.2,1.9])\n",
    "plt.xlim([0,5])\n",
    "plt.xlabel(r'E / MeV', fontsize=42)\n",
    "plt.ylabel(r'$\\frac{dE}{dx}$ / MeV $\\cdot$ cm$^{-1}$', fontsize=42)\n",
    "plt.xticks(fontsize=30)\n",
    "plt.yticks(fontsize=30)\n",
    "plt.legend(loc='best',fontsize=42)\n",
    "plt.show()"
   ]
  },
  {
   "cell_type": "markdown",
   "metadata": {},
   "source": [
    "# Bragg-Kurve"
   ]
  },
  {
   "cell_type": "code",
   "execution_count": 55,
   "metadata": {
    "collapsed": false
   },
   "outputs": [],
   "source": [
    "plt.plot(x[:dE_dx_1.size],-dE_dx_1,'o-r')\n",
    "plt.plot(x[:dE_dx_1.size],-dE_dx_1,'o g',label='Messdaten')\n",
    "plt.xlabel(r'x / cm', fontsize=42)\n",
    "plt.ylabel(r'$\\frac{dE}{dx}$ / MeV $\\cdot$ cm$^{-1}$', fontsize=42)\n",
    "plt.xticks(fontsize=30)\n",
    "plt.yticks(fontsize=30)\n",
    "plt.legend(loc='best',fontsize=42)\n",
    "plt.show()"
   ]
  },
  {
   "cell_type": "code",
   "execution_count": 56,
   "metadata": {
    "collapsed": false
   },
   "outputs": [],
   "source": [
    "plt.plot(x[:dE_dx_2.size],-dE_dx_2,'o-r')\n",
    "plt.plot(x[:dE_dx_2.size],-dE_dx_2,'o g',label='Messdaten')\n",
    "plt.xlabel(r'x / cm', fontsize=42)\n",
    "plt.ylabel(r'$\\frac{dE}{dx}$ / MeV $\\cdot$ cm$^{-1}$', fontsize=42)\n",
    "plt.xticks(fontsize=30)\n",
    "plt.yticks(fontsize=30)\n",
    "plt.legend(loc='best',fontsize=42)\n",
    "plt.show()"
   ]
  },
  {
   "cell_type": "code",
   "execution_count": 57,
   "metadata": {
    "collapsed": false
   },
   "outputs": [],
   "source": [
    "plt.plot(x[:dE_dx_3.size],-dE_dx_3,'o-r')\n",
    "plt.plot(x[:dE_dx_3.size],-dE_dx_3,'o g',label='Messdaten')\n",
    "plt.xlabel(r'x / cm', fontsize=42)\n",
    "plt.ylabel(r'$\\frac{dE}{dx}$ / MeV $\\cdot$ cm$^{-1}$', fontsize=42)\n",
    "plt.xticks(fontsize=30)\n",
    "plt.yticks(fontsize=30)\n",
    "plt.legend(loc='best',fontsize=42)\n",
    "plt.show()"
   ]
  },
  {
   "cell_type": "code",
   "execution_count": 58,
   "metadata": {
    "collapsed": false
   },
   "outputs": [],
   "source": [
    "plt.plot(x[:dE_dx_4.size],-dE_dx_4,'o-r')\n",
    "plt.plot(x[:dE_dx_4.size],-dE_dx_4,'o g',label='Messdaten')\n",
    "plt.xlabel(r'x / cm', fontsize=42)\n",
    "plt.ylabel(r'$\\frac{dE}{dx}$ / MeV $\\cdot$ cm$^{-1}$', fontsize=42)\n",
    "plt.xticks(fontsize=30)\n",
    "plt.yticks(fontsize=30)\n",
    "plt.legend(loc='best',fontsize=42)\n",
    "plt.show()"
   ]
  },
  {
   "cell_type": "code",
   "execution_count": 59,
   "metadata": {
    "collapsed": false
   },
   "outputs": [],
   "source": [
    "plt.plot(x[:dE_dx_1.size],-dE_dx_1,label='Messdaten')\n",
    "plt.plot(x[:dE_dx_2.size],-dE_dx_2,label='Messdaten')\n",
    "plt.plot(x[:dE_dx_3.size],-dE_dx_3,label='Messdaten')\n",
    "plt.plot(x[:dE_dx_4.size],-dE_dx_4,label='Messdaten')\n",
    "plt.xlabel(r'x / cm', fontsize=22)\n",
    "plt.ylabel(r'$\\frac{dE}{dx}$ / MeV $\\cdot$ cm$^{-1}$', fontsize=22)\n",
    "plt.xticks(fontsize=18)\n",
    "plt.yticks(fontsize=18)\n",
    "plt.legend(loc='best',fontsize=22)\n",
    "plt.show()"
   ]
  },
  {
   "cell_type": "code",
   "execution_count": null,
   "metadata": {
    "collapsed": true
   },
   "outputs": [],
   "source": []
  },
  {
   "cell_type": "code",
   "execution_count": null,
   "metadata": {
    "collapsed": true
   },
   "outputs": [],
   "source": []
  },
  {
   "cell_type": "code",
   "execution_count": null,
   "metadata": {
    "collapsed": true
   },
   "outputs": [],
   "source": []
  }
 ],
 "metadata": {
  "kernelspec": {
   "display_name": "Python 3",
   "language": "python",
   "name": "python3"
  },
  "language_info": {
   "codemirror_mode": {
    "name": "ipython",
    "version": 3
   },
   "file_extension": ".py",
   "mimetype": "text/x-python",
   "name": "python",
   "nbconvert_exporter": "python",
   "pygments_lexer": "ipython3",
   "version": "3.4.3"
  }
 },
 "nbformat": 4,
 "nbformat_minor": 0
}
