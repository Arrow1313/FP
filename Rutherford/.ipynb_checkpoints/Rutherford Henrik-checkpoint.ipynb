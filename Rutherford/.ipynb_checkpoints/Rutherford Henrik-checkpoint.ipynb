{
 "cells": [
  {
   "cell_type": "code",
   "execution_count": 153,
   "metadata": {
    "collapsed": false
   },
   "outputs": [],
   "source": [
    "from scipy import constants,misc as cs,misc\n",
    "from glob import glob\n",
    "import numpy as np\n",
    "import pandas as pd\n",
    "import matplotlib.pyplot as plt\n",
    "from lmfit import models\n",
    "import math"
   ]
  },
  {
   "cell_type": "markdown",
   "metadata": {
    "collapsed": true
   },
   "source": [
    "#Rutherfordstreuung"
   ]
  },
  {
   "cell_type": "markdown",
   "metadata": {},
   "source": [
    "##Rutherfordsteuuformel\n",
    "<br>\n",
    "$\\huge \\huge \\frac{d\\sigma}{d\\Omega} = 1.3 \\cdot 10^{-3} \\left( \\frac{Z_1 Z_2}{E_0} \\right) \\frac{1}{sin^4\\left(\\frac{\\theta}{2}\\right)}$\n",
    "\n",
    "<ul>\n",
    "    <li>$\\sigma$: Differentielle WQ\n",
    "    <li>$\\Theta$: Winkel\n",
    "    <li>$Z_i$: Kernlagundszahl\n",
    "    <li>E: Energie\n",
    "</ul>   "
   ]
  },
  {
   "cell_type": "code",
   "execution_count": 154,
   "metadata": {
    "collapsed": false
   },
   "outputs": [],
   "source": [
    "def rutherfordsteuung(theta,Z_1,Z_2,E,b):\n",
    "    return (Z_1*Z_2*cs.e**2)/(4*E*np.sin((3.14*theta-b)/360)**4)"
   ]
  },
  {
   "cell_type": "code",
   "execution_count": 155,
   "metadata": {
    "collapsed": false
   },
   "outputs": [],
   "source": [
    "file_list_gold = []\n",
    "liste_gold = []\n",
    "for i in glob('/home/arrow13/Git/FP/Rutherford/MessdatenRutherford/Gold/*.txt'):\n",
    "    file_list_gold.append(i)\n",
    "\n",
    "    \n",
    "file_list_gold.sort()   \n",
    "    \n",
    "for i in file_list_gold:\n",
    "    liste_gold.append(np.array(pd.read_csv(i,skiprows=1,delim_whitespace=2)).T)\n",
    "    \n"
   ]
  },
  {
   "cell_type": "raw",
   "metadata": {},
   "source": [
    "for i in liste_gold:\n",
    "    plt.plot(i[0],i[1],'.')\n",
    "    plt.show()"
   ]
  },
  {
   "cell_type": "code",
   "execution_count": 156,
   "metadata": {
    "collapsed": false
   },
   "outputs": [],
   "source": [
    "def poisson(x,A=2):\n",
    "    return 180*((A**x/misc.factorial(x))*np.e**(-A))"
   ]
  },
  {
   "cell_type": "code",
   "execution_count": 157,
   "metadata": {
    "collapsed": false
   },
   "outputs": [],
   "source": [
    "mod_pos = models.Model(poisson)"
   ]
  },
  {
   "cell_type": "code",
   "execution_count": 158,
   "metadata": {
    "collapsed": false
   },
   "outputs": [
    {
     "name": "stdout",
     "output_type": "stream",
     "text": [
      "13\n"
     ]
    }
   ],
   "source": [
    "print(len(liste_gold))"
   ]
  },
  {
   "cell_type": "raw",
   "metadata": {},
   "source": [
    "pars = mod_pos.make_params()\n",
    "fit = mod_pos.fit(liste_gold[0][1],\n",
    "                  pars,\n",
    "                  A=np.argmax(liste_gold[0][1]),\n",
    "                  B=liste_gold[0][1][A]*misc.factorial(np.argmax(liste_gold[0][1]))/(int(A)**int(A)*np.e**(-A)),\n",
    "                  weights=1/err,\n",
    "                  x=liste_gold[0][0])\n",
    "fit.plot_fit()\n",
    "plt.annotate(str(fit.fit_report()) + \"\\n A: $\\mu$ \\n B:Skalierung\", xytext=(0.5, 15), xy=(1,5))\n",
    "plt.show()\n",
    "print(fit.init_params)"
   ]
  },
  {
   "cell_type": "raw",
   "metadata": {},
   "source": [
    "print(fit.fit_report())"
   ]
  },
  {
   "cell_type": "code",
   "execution_count": 176,
   "metadata": {
    "collapsed": false
   },
   "outputs": [],
   "source": [
    "err = []\n",
    "gold_fit_reports = []\n",
    "gold_fit_pars = []\n",
    "for i in liste_gold:\n",
    "    if i[0].size < 2:\n",
    "        continue\n",
    "    err_temp = None\n",
    "    err_temp = np.sqrt(i[1])\n",
    "    err_temp = np.where(err_temp == 0, 1, err_temp)\n",
    "    err.append(np.where(np.sqrt(i[1]) == 0, 1, np.sqrt(i[1])))\n",
    "    pars = mod_pos.make_params()\n",
    "    fit = mod_pos.fit(i[1],\n",
    "                  pars,\n",
    "                  A=4,\n",
    "                  #B=4\n",
    "                  weights=1/err_temp,\n",
    "                  x=i[0])\n",
    "    gold_fit_reports.append(fit.fit_report())\n",
    "    gold_fit_pars.append(np.array([fit.best_values,fit.chisqr]))\n",
    "    fit.plot()\n",
    "    plt.show()"
   ]
  },
  {
   "cell_type": "code",
   "execution_count": 160,
   "metadata": {
    "collapsed": false,
    "scrolled": true
   },
   "outputs": [
    {
     "name": "stdout",
     "output_type": "stream",
     "text": [
      "[[Model]]\n",
      "    Model(poisson)\n",
      "[[Fit Statistics]]\n",
      "    # function evals   = 17\n",
      "    # data points      = 27\n",
      "    # variables        = 1\n",
      "    chi-square         = 19.902\n",
      "    reduced chi-square = 0.765\n",
      "[[Variables]]\n",
      "    A:   14.1964376 +/- 0.240049 (1.69%) (init= 4)\n",
      "[[Correlations]] (unreported correlations are <  0.100) \n",
      "\n",
      "\n",
      "\n",
      "\n",
      "\n",
      "[[Model]]\n",
      "    Model(poisson)\n",
      "[[Fit Statistics]]\n",
      "    # function evals   = 11\n",
      "    # data points      = 7\n",
      "    # variables        = 1\n",
      "    chi-square         = 5.514\n",
      "    reduced chi-square = 0.919\n",
      "[[Variables]]\n",
      "    A:   2.69311481 +/- 0.127011 (4.72%) (init= 4)\n",
      "[[Correlations]] (unreported correlations are <  0.100) \n",
      "\n",
      "\n",
      "\n",
      "\n",
      "\n",
      "[[Model]]\n",
      "    Model(poisson)\n",
      "[[Fit Statistics]]\n",
      "    # function evals   = 13\n",
      "    # data points      = 16\n",
      "    # variables        = 1\n",
      "    chi-square         = 6.369\n",
      "    reduced chi-square = 0.425\n",
      "[[Variables]]\n",
      "    A:   9.33346240 +/- 0.157024 (1.68%) (init= 4)\n",
      "[[Correlations]] (unreported correlations are <  0.100) \n",
      "\n",
      "\n",
      "\n",
      "\n",
      "\n",
      "[[Model]]\n",
      "    Model(poisson)\n",
      "[[Fit Statistics]]\n",
      "    # function evals   = 15\n",
      "    # data points      = 26\n",
      "    # variables        = 1\n",
      "    chi-square         = 15.500\n",
      "    reduced chi-square = 0.620\n",
      "[[Variables]]\n",
      "    A:   13.4884673 +/- 0.211516 (1.57%) (init= 4)\n",
      "[[Correlations]] (unreported correlations are <  0.100) \n",
      "\n",
      "\n",
      "\n",
      "\n",
      "\n",
      "[[Model]]\n",
      "    Model(poisson)\n",
      "[[Fit Statistics]]\n",
      "    # function evals   = 15\n",
      "    # data points      = 23\n",
      "    # variables        = 1\n",
      "    chi-square         = 11.818\n",
      "    reduced chi-square = 0.537\n",
      "[[Variables]]\n",
      "    A:   10.7643091 +/- 0.183546 (1.71%) (init= 4)\n",
      "[[Correlations]] (unreported correlations are <  0.100) \n",
      "\n",
      "\n",
      "\n",
      "\n",
      "\n",
      "[[Model]]\n",
      "    Model(poisson)\n",
      "[[Fit Statistics]]\n",
      "    # function evals   = 15\n",
      "    # data points      = 23\n",
      "    # variables        = 1\n",
      "    chi-square         = 23.834\n",
      "    reduced chi-square = 1.083\n",
      "[[Variables]]\n",
      "    A:   10.4607911 +/- 0.236192 (2.26%) (init= 4)\n",
      "[[Correlations]] (unreported correlations are <  0.100) \n",
      "\n",
      "\n",
      "\n",
      "\n",
      "\n",
      "[[Model]]\n",
      "    Model(poisson)\n",
      "[[Fit Statistics]]\n",
      "    # function evals   = 21\n",
      "    # data points      = 25\n",
      "    # variables        = 1\n",
      "    chi-square         = 16.794\n",
      "    reduced chi-square = 0.700\n",
      "[[Variables]]\n",
      "    A:   14.0690879 +/- 0.238497 (1.70%) (init= 4)\n",
      "[[Correlations]] (unreported correlations are <  0.100) \n",
      "\n",
      "\n",
      "\n",
      "\n",
      "\n",
      "[[Model]]\n",
      "    Model(poisson)\n",
      "[[Fit Statistics]]\n",
      "    # function evals   = 23\n",
      "    # data points      = 26\n",
      "    # variables        = 1\n",
      "    chi-square         = 11.700\n",
      "    reduced chi-square = 0.468\n",
      "[[Variables]]\n",
      "    A:   15.9033039 +/- 0.205156 (1.29%) (init= 4)\n",
      "[[Correlations]] (unreported correlations are <  0.100) \n",
      "\n",
      "\n",
      "\n",
      "\n",
      "\n",
      "[[Model]]\n",
      "    Model(poisson)\n",
      "[[Fit Statistics]]\n",
      "    # function evals   = 23\n",
      "    # data points      = 29\n",
      "    # variables        = 1\n",
      "    chi-square         = 22.382\n",
      "    reduced chi-square = 0.799\n",
      "[[Variables]]\n",
      "    A:   15.8314564 +/- 0.248435 (1.57%) (init= 4)\n",
      "[[Correlations]] (unreported correlations are <  0.100) \n",
      "\n",
      "\n",
      "\n",
      "\n",
      "\n",
      "[[Model]]\n",
      "    Model(poisson)\n",
      "[[Fit Statistics]]\n",
      "    # function evals   = 25\n",
      "    # data points      = 27\n",
      "    # variables        = 1\n",
      "    chi-square         = 38.484\n",
      "    reduced chi-square = 1.480\n",
      "[[Variables]]\n",
      "    A:   15.5121198 +/- 0.292699 (1.89%) (init= 4)\n",
      "[[Correlations]] (unreported correlations are <  0.100) \n",
      "\n",
      "\n",
      "\n",
      "\n",
      "\n",
      "[[Model]]\n",
      "    Model(poisson)\n",
      "[[Fit Statistics]]\n",
      "    # function evals   = 13\n",
      "    # data points      = 12\n",
      "    # variables        = 1\n",
      "    chi-square         = 17.985\n",
      "    reduced chi-square = 1.635\n",
      "[[Variables]]\n",
      "    A:   6.42549119 +/- 0.224096 (3.49%) (init= 4)\n",
      "[[Correlations]] (unreported correlations are <  0.100) \n",
      "\n",
      "\n",
      "\n",
      "\n",
      "\n",
      "[[Model]]\n",
      "    Model(poisson)\n",
      "[[Fit Statistics]]\n",
      "    # function evals   = 15\n",
      "    # data points      = 3\n",
      "    # variables        = 1\n",
      "    chi-square         = 89.762\n",
      "    reduced chi-square = 44.881\n",
      "[[Variables]]\n",
      "    A:   8.17992427 +/- 3.938982 (48.15%) (init= 4)\n",
      "[[Correlations]] (unreported correlations are <  0.100) \n",
      "\n",
      "\n",
      "\n",
      "\n",
      "\n"
     ]
    }
   ],
   "source": [
    "for i in gold_fit_reports:\n",
    "    print(i, \"\\n\\n\\n\\n\\n\")"
   ]
  },
  {
   "cell_type": "code",
   "execution_count": 161,
   "metadata": {
    "collapsed": false
   },
   "outputs": [
    {
     "name": "stdout",
     "output_type": "stream",
     "text": [
      "/home/arrow13/Git/FP/Rutherford/MessdatenRutherford/Alu/2.txt\n",
      "/home/arrow13/Git/FP/Rutherford/MessdatenRutherford/Alu/93.txt\n",
      "/home/arrow13/Git/FP/Rutherford/MessdatenRutherford/Alu/5.txt\n",
      "/home/arrow13/Git/FP/Rutherford/MessdatenRutherford/Alu/3.txt\n",
      "/home/arrow13/Git/FP/Rutherford/MessdatenRutherford/Alu/6.txt\n",
      "/home/arrow13/Git/FP/Rutherford/MessdatenRutherford/Alu/4.txt\n",
      "/home/arrow13/Git/FP/Rutherford/MessdatenRutherford/Alu/94.txt\n",
      "/home/arrow13/Git/FP/Rutherford/MessdatenRutherford/Alu/91.txt\n",
      "/home/arrow13/Git/FP/Rutherford/MessdatenRutherford/Alu/7.txt\n",
      "/home/arrow13/Git/FP/Rutherford/MessdatenRutherford/Alu/92.txt\n",
      "/home/arrow13/Git/FP/Rutherford/MessdatenRutherford/Alu/9.txt\n",
      "/home/arrow13/Git/FP/Rutherford/MessdatenRutherford/Alu/8.txt\n",
      "/home/arrow13/Git/FP/Rutherford/MessdatenRutherford/Alu/1.txt\n"
     ]
    }
   ],
   "source": [
    "for i in glob('/home/arrow13/Git/FP/Rutherford/MessdatenRutherford/Alu/*.txt'):\n",
    "    print(i)"
   ]
  },
  {
   "cell_type": "code",
   "execution_count": 162,
   "metadata": {
    "collapsed": false
   },
   "outputs": [],
   "source": [
    "file_list_alu = []\n",
    "liste_alu = []\n",
    "for i in glob('/home/arrow13/Git/FP/Rutherford/MessdatenRutherford/Alu/*.txt'):\n",
    "    file_list_alu.append(i)\n",
    "\n",
    "    \n",
    "file_list_alu.sort()    \n",
    "    \n",
    "for i in file_list_alu:\n",
    "    liste_alu.append(np.array(pd.read_csv(i,skiprows=1,delim_whitespace=2)).T)\n",
    "    \n"
   ]
  },
  {
   "cell_type": "code",
   "execution_count": 163,
   "metadata": {
    "collapsed": false
   },
   "outputs": [
    {
     "name": "stderr",
     "output_type": "stream",
     "text": [
      "/home/arrow13/anaconda3/lib/python3.4/site-packages/lmfit/model.py:455: UserWarning: The keyword argument B does notmatch any arguments of the model function.It will be ignored.\n",
      "  \"It will be ignored.\", UserWarning)\n"
     ]
    }
   ],
   "source": [
    "alu_fit_reports = []\n",
    "alu_fit_pars = []\n",
    "for i in liste_alu:\n",
    "    if i[0].size < 2:\n",
    "        continue\n",
    "    err_temp = None\n",
    "    err_temp = np.sqrt(i[1])\n",
    "    err_temp = np.where(err_temp == 0, 1, err_temp)\n",
    "    pars = mod_pos.make_params()\n",
    "    fit = mod_pos.fit(i[1],\n",
    "                  pars,\n",
    "                  A=4,\n",
    "                  B=4,\n",
    "                  weights=1/err_temp,\n",
    "                  x=i[0])\n",
    "    alu_fit_reports.append(fit.fit_report())\n",
    "    alu_fit_pars.append(np.array([fit.best_values,fit.chisqr]))\n",
    "    fit.plot()\n",
    "    plt.show()"
   ]
  },
  {
   "cell_type": "code",
   "execution_count": 164,
   "metadata": {
    "collapsed": false,
    "scrolled": true
   },
   "outputs": [
    {
     "name": "stdout",
     "output_type": "stream",
     "text": [
      "[[Model]]\n",
      "    Model(poisson)\n",
      "[[Fit Statistics]]\n",
      "    # function evals   = 7\n",
      "    # data points      = 12\n",
      "    # variables        = 1\n",
      "    chi-square         = 85.254\n",
      "    reduced chi-square = 7.750\n",
      "[[Variables]]\n",
      "    A:   4.43410949 +/- 0.321198 (7.24%) (init= 4)\n",
      "[[Correlations]] (unreported correlations are <  0.100) \n",
      "\n",
      "\n",
      "\n",
      "\n",
      "\n",
      "[[Model]]\n",
      "    Model(poisson)\n",
      "[[Fit Statistics]]\n",
      "    # function evals   = 31\n",
      "    # data points      = 31\n",
      "    # variables        = 1\n",
      "    chi-square         = 23.188\n",
      "    reduced chi-square = 0.773\n",
      "[[Variables]]\n",
      "    A:   19.0764191 +/- 0.262824 (1.38%) (init= 4)\n",
      "[[Correlations]] (unreported correlations are <  0.100) \n",
      "\n",
      "\n",
      "\n",
      "\n",
      "\n",
      "[[Model]]\n",
      "    Model(poisson)\n",
      "[[Fit Statistics]]\n",
      "    # function evals   = 33\n",
      "    # data points      = 31\n",
      "    # variables        = 1\n",
      "    chi-square         = 15.367\n",
      "    reduced chi-square = 0.512\n",
      "[[Variables]]\n",
      "    A:   20.2868627 +/- 0.230552 (1.14%) (init= 4)\n",
      "[[Correlations]] (unreported correlations are <  0.100) \n",
      "\n",
      "\n",
      "\n",
      "\n",
      "\n",
      "[[Model]]\n",
      "    Model(poisson)\n",
      "[[Fit Statistics]]\n",
      "    # function evals   = 35\n",
      "    # data points      = 34\n",
      "    # variables        = 1\n",
      "    chi-square         = 20.641\n",
      "    reduced chi-square = 0.625\n",
      "[[Variables]]\n",
      "    A:   20.4977480 +/- 0.268526 (1.31%) (init= 4)\n",
      "[[Correlations]] (unreported correlations are <  0.100) \n",
      "\n",
      "\n",
      "\n",
      "\n",
      "\n",
      "[[Model]]\n",
      "    Model(poisson)\n",
      "[[Fit Statistics]]\n",
      "    # function evals   = 33\n",
      "    # data points      = 36\n",
      "    # variables        = 1\n",
      "    chi-square         = 27.977\n",
      "    reduced chi-square = 0.799\n",
      "[[Variables]]\n",
      "    A:   20.2644641 +/- 0.283451 (1.40%) (init= 4)\n",
      "[[Correlations]] (unreported correlations are <  0.100) \n",
      "\n",
      "\n",
      "\n",
      "\n",
      "\n",
      "[[Model]]\n",
      "    Model(poisson)\n",
      "[[Fit Statistics]]\n",
      "    # function evals   = 35\n",
      "    # data points      = 34\n",
      "    # variables        = 1\n",
      "    chi-square         = 22.551\n",
      "    reduced chi-square = 0.683\n",
      "[[Variables]]\n",
      "    A:   20.7795942 +/- 0.284234 (1.37%) (init= 4)\n",
      "[[Correlations]] (unreported correlations are <  0.100) \n",
      "\n",
      "\n",
      "\n",
      "\n",
      "\n",
      "[[Model]]\n",
      "    Model(poisson)\n",
      "[[Fit Statistics]]\n",
      "    # function evals   = 39\n",
      "    # data points      = 34\n",
      "    # variables        = 1\n",
      "    chi-square         = 31.581\n",
      "    reduced chi-square = 0.957\n",
      "[[Variables]]\n",
      "    A:   20.1110730 +/- 0.298345 (1.48%) (init= 4)\n",
      "[[Correlations]] (unreported correlations are <  0.100) \n",
      "\n",
      "\n",
      "\n",
      "\n",
      "\n",
      "[[Model]]\n",
      "    Model(poisson)\n",
      "[[Fit Statistics]]\n",
      "    # function evals   = 33\n",
      "    # data points      = 32\n",
      "    # variables        = 1\n",
      "    chi-square         = 31.447\n",
      "    reduced chi-square = 1.014\n",
      "[[Variables]]\n",
      "    A:   19.6439109 +/- 0.321851 (1.64%) (init= 4)\n",
      "[[Correlations]] (unreported correlations are <  0.100) \n",
      "\n",
      "\n",
      "\n",
      "\n",
      "\n",
      "[[Model]]\n",
      "    Model(poisson)\n",
      "[[Fit Statistics]]\n",
      "    # function evals   = 29\n",
      "    # data points      = 36\n",
      "    # variables        = 1\n",
      "    chi-square         = 38.574\n",
      "    reduced chi-square = 1.102\n",
      "[[Variables]]\n",
      "    A:   18.1254782 +/- 0.324964 (1.79%) (init= 4)\n",
      "[[Correlations]] (unreported correlations are <  0.100) \n",
      "\n",
      "\n",
      "\n",
      "\n",
      "\n",
      "[[Model]]\n",
      "    Model(poisson)\n",
      "[[Fit Statistics]]\n",
      "    # function evals   = 31\n",
      "    # data points      = 34\n",
      "    # variables        = 1\n",
      "    chi-square         = 37.465\n",
      "    reduced chi-square = 1.135\n",
      "[[Variables]]\n",
      "    A:   18.0763039 +/- 0.288399 (1.60%) (init= 4)\n",
      "[[Correlations]] (unreported correlations are <  0.100) \n",
      "\n",
      "\n",
      "\n",
      "\n",
      "\n",
      "[[Model]]\n",
      "    Model(poisson)\n",
      "[[Fit Statistics]]\n",
      "    # function evals   = 13\n",
      "    # data points      = 11\n",
      "    # variables        = 1\n",
      "    chi-square         = 11.623\n",
      "    reduced chi-square = 1.162\n",
      "[[Variables]]\n",
      "    A:   5.42908458 +/- 0.177041 (3.26%) (init= 4)\n",
      "[[Correlations]] (unreported correlations are <  0.100) \n",
      "\n",
      "\n",
      "\n",
      "\n",
      "\n",
      "[[Model]]\n",
      "    Model(poisson)\n",
      "[[Fit Statistics]]\n",
      "    # function evals   = 15\n",
      "    # data points      = 2\n",
      "    # variables        = 1\n",
      "    chi-square         = 14.485\n",
      "    reduced chi-square = 14.485\n",
      "[[Variables]]\n",
      "    A:   8.55966311 +/- 3.918718 (45.78%) (init= 4)\n",
      "[[Correlations]] (unreported correlations are <  0.100) \n",
      "\n",
      "\n",
      "\n",
      "\n",
      "\n"
     ]
    }
   ],
   "source": [
    "for i in alu_fit_reports:\n",
    "    print(i, \"\\n\\n\\n\\n\\n\")"
   ]
  },
  {
   "cell_type": "code",
   "execution_count": 165,
   "metadata": {
    "collapsed": false,
    "scrolled": false
   },
   "outputs": [
    {
     "name": "stdout",
     "output_type": "stream",
     "text": [
      "14.196437617\n",
      "2.69311481751\n",
      "9.33346240163\n",
      "13.4884673564\n",
      "10.7643091091\n",
      "10.4607911579\n",
      "14.0690879565\n",
      "15.9033039472\n",
      "15.8314564611\n",
      "15.5121198668\n",
      "6.42549119713\n",
      "8.17992427618\n"
     ]
    }
   ],
   "source": [
    "counts_gold = []\n",
    "for i in gold_fit_pars:\n",
    "    print(i[0][\"A\"])\n",
    "    counts_gold.append(i[0][\"A\"])"
   ]
  },
  {
   "cell_type": "code",
   "execution_count": 166,
   "metadata": {
    "collapsed": true
   },
   "outputs": [],
   "source": [
    "x = np.arange(-30,30,5)"
   ]
  },
  {
   "cell_type": "code",
   "execution_count": 167,
   "metadata": {
    "collapsed": true
   },
   "outputs": [],
   "source": [
    "def ruth(x,A,B):\n",
    "    return A/(np.sin((((x-B)*np.pi)/180)/2)**4)"
   ]
  },
  {
   "cell_type": "code",
   "execution_count": 168,
   "metadata": {
    "collapsed": true
   },
   "outputs": [],
   "source": [
    "mod_ruth = models.Model(ruth)\n",
    "pars_2 = mod_ruth.make_params()"
   ]
  },
  {
   "cell_type": "code",
   "execution_count": 169,
   "metadata": {
    "collapsed": false
   },
   "outputs": [],
   "source": [
    "out_2 = mod_ruth.fit(counts_gold,\n",
    "                    pars_2,\n",
    "                    A=0.0001,\n",
    "                    B=0,\n",
    "                    x=x)"
   ]
  },
  {
   "cell_type": "code",
   "execution_count": 170,
   "metadata": {
    "collapsed": false
   },
   "outputs": [],
   "source": [
    "out_2.plot()\n",
    "plt.show()"
   ]
  },
  {
   "cell_type": "code",
   "execution_count": 171,
   "metadata": {
    "collapsed": false
   },
   "outputs": [],
   "source": [
    "plt.plot(x,ruth(x,0.00001,0))\n",
    "plt.show()"
   ]
  },
  {
   "cell_type": "code",
   "execution_count": 172,
   "metadata": {
    "collapsed": false
   },
   "outputs": [
    {
     "name": "stdout",
     "output_type": "stream",
     "text": [
      "4.43410949141\n",
      "19.0764191631\n",
      "20.2868627855\n",
      "20.4977480843\n",
      "20.2644641526\n",
      "20.7795942167\n",
      "20.1110730042\n",
      "19.6439109485\n",
      "18.1254782319\n",
      "18.0763039614\n",
      "5.42908458797\n",
      "8.55966311843\n"
     ]
    }
   ],
   "source": [
    "counts_alu = []\n",
    "for i in alu_fit_pars:\n",
    "    print(i[0][\"A\"])\n",
    "    counts_alu.append(i[0][\"A\"])"
   ]
  },
  {
   "cell_type": "code",
   "execution_count": 173,
   "metadata": {
    "collapsed": false
   },
   "outputs": [
    {
     "name": "stdout",
     "output_type": "stream",
     "text": [
      "[[Model]]\n",
      "    Model(ruth)\n",
      "[[Fit Statistics]]\n",
      "    # function evals   = 3\n",
      "    # data points      = 12\n",
      "    # variables        = 2\n",
      "    chi-square         = inf\n",
      "    reduced chi-square = inf\n",
      "[[Variables]]\n",
      "    A:   1.0000e-08 +/- 0        (0.00%) (init= 1e-08)\n",
      "    B:   1.4901e-08 +/- 0        (0.00%) (init= 0)\n",
      "[[Correlations]] (unreported correlations are <  0.100)\n"
     ]
    }
   ],
   "source": [
    "out_3 = mod_ruth.fit(counts_alu,\n",
    "                    pars_2,\n",
    "                    A=0.00000001,\n",
    "                    B=0,\n",
    "                    x=x)\n",
    "print(out_3.fit_report())"
   ]
  },
  {
   "cell_type": "code",
   "execution_count": 174,
   "metadata": {
    "collapsed": false
   },
   "outputs": [],
   "source": [
    "out_3.plot()\n",
    "plt.show()"
   ]
  },
  {
   "cell_type": "code",
   "execution_count": 175,
   "metadata": {
    "collapsed": false
   },
   "outputs": [
    {
     "name": "stderr",
     "output_type": "stream",
     "text": [
      "/home/arrow13/anaconda3/lib/python3.4/site-packages/matplotlib/axes/_axes.py:475: UserWarning: No labelled objects found. Use label='...' kwarg on individual plots.\n",
      "  warnings.warn(\"No labelled objects found. \"\n"
     ]
    }
   ],
   "source": [
    "plt.plot(x,counts_gold, 'r.')\n",
    "plt.legend(loc = 'best', fontsize = 22)\n",
    "plt.tick_params(labelsize= 22)\n",
    "plt.ylabel(r\"Counts/s\", fontsize = 26)\n",
    "plt.xlabel(\"theta$/^{\\circ}$\", fontsize = 26)\n",
    "plt.show()"
   ]
  },
  {
   "cell_type": "code",
   "execution_count": null,
   "metadata": {
    "collapsed": true
   },
   "outputs": [],
   "source": []
  }
 ],
 "metadata": {
  "kernelspec": {
   "display_name": "Python 3",
   "language": "python",
   "name": "python3"
  },
  "language_info": {
   "codemirror_mode": {
    "name": "ipython",
    "version": 3
   },
   "file_extension": ".py",
   "mimetype": "text/x-python",
   "name": "python",
   "nbconvert_exporter": "python",
   "pygments_lexer": "ipython3",
   "version": "3.4.3"
  }
 },
 "nbformat": 4,
 "nbformat_minor": 0
}
