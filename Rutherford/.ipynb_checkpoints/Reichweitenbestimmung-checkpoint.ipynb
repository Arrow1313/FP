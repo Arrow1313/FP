{
 "cells": [
  {
   "cell_type": "code",
   "execution_count": 42,
   "metadata": {
    "collapsed": false
   },
   "outputs": [],
   "source": [
    "from scipy import constants,misc as cs,misc\n",
    "import numpy as np\n",
    "import pandas as pd\n",
    "import matplotlib.pyplot as plt\n",
    "from lmfit.models import GaussianModel,LinearModel\n",
    "from glob import glob\n",
    "from lmfit import models"
   ]
  },
  {
   "cell_type": "code",
   "execution_count": 10,
   "metadata": {
    "collapsed": false
   },
   "outputs": [
    {
     "name": "stdout",
     "output_type": "stream",
     "text": [
      "/home/frederik/Dokumente/FP/Rutherford/MessdatenRutherford/Reichweite\n"
     ]
    }
   ],
   "source": [
    "cd ~/Dokumente/FP/Rutherford/MessdatenRutherford/Reichweite/"
   ]
  },
  {
   "cell_type": "code",
   "execution_count": 17,
   "metadata": {
    "collapsed": false,
    "scrolled": false
   },
   "outputs": [
    {
     "data": {
      "text/plain": [
       "['/home/frederik/Dokumente/FP/Rutherford/MessdatenRutherford/Reichweite/Reichweite12mbar.txt',\n",
       " '/home/frederik/Dokumente/FP/Rutherford/MessdatenRutherford/Reichweite/Reichweite190mbar.txt',\n",
       " '/home/frederik/Dokumente/FP/Rutherford/MessdatenRutherford/Reichweite/Reichweite200mbar.txt',\n",
       " '/home/frederik/Dokumente/FP/Rutherford/MessdatenRutherford/Reichweite/Reichweite300mbar.txt',\n",
       " '/home/frederik/Dokumente/FP/Rutherford/MessdatenRutherford/Reichweite/Reichweite400mbar.txt',\n",
       " '/home/frederik/Dokumente/FP/Rutherford/MessdatenRutherford/Reichweite/Reichweite450mbar.txt',\n",
       " '/home/frederik/Dokumente/FP/Rutherford/MessdatenRutherford/Reichweite/Reichweite475mbar.txt',\n",
       " '/home/frederik/Dokumente/FP/Rutherford/MessdatenRutherford/Reichweite/Reichweite500mbar.txt',\n",
       " '/home/frederik/Dokumente/FP/Rutherford/MessdatenRutherford/Reichweite/Reichweite510mbar.txt',\n",
       " '/home/frederik/Dokumente/FP/Rutherford/MessdatenRutherford/Reichweite/Reichweite525mbar.txt',\n",
       " '/home/frederik/Dokumente/FP/Rutherford/MessdatenRutherford/Reichweite/Reichweite540mbar.txt',\n",
       " '/home/frederik/Dokumente/FP/Rutherford/MessdatenRutherford/Reichweite/Reichweite550mbar.txt',\n",
       " '/home/frederik/Dokumente/FP/Rutherford/MessdatenRutherford/Reichweite/Reichweite560mbar.txt',\n",
       " '/home/frederik/Dokumente/FP/Rutherford/MessdatenRutherford/Reichweite/Reichweite575mbar.txt',\n",
       " '/home/frederik/Dokumente/FP/Rutherford/MessdatenRutherford/Reichweite/Reichweite600mbar.txt',\n",
       " '/home/frederik/Dokumente/FP/Rutherford/MessdatenRutherford/Reichweite/Reichweite700mbar.txt']"
      ]
     },
     "execution_count": 17,
     "metadata": {},
     "output_type": "execute_result"
    }
   ],
   "source": [
    "file_list = []\n",
    "liste_reich = []\n",
    "for i in glob('/home/frederik/Dokumente/FP/Rutherford/MessdatenRutherford/Reichweite/*.txt'):\n",
    "    file_list.append(i)\n",
    "\n",
    "    \n",
    "file_list.sort()   \n",
    "    \n",
    "for i in file_list:\n",
    "    liste_reich.append(np.array(pd.read_csv(i,skiprows=0,delim_whitespace=2)).T)\n",
    "\n",
    "file_list"
   ]
  },
  {
   "cell_type": "code",
   "execution_count": 83,
   "metadata": {
    "collapsed": false
   },
   "outputs": [],
   "source": [
    "druck = np.array([12,100,200,300,400,450,475,500,510,525,540,550,560,575,600,700])"
   ]
  },
  {
   "cell_type": "code",
   "execution_count": 38,
   "metadata": {
    "collapsed": false
   },
   "outputs": [],
   "source": [
    "def poisson(x,B,A=2):\n",
    "    return B*((A**x/misc.factorial(x))*np.e**(-A))"
   ]
  },
  {
   "cell_type": "code",
   "execution_count": 39,
   "metadata": {
    "collapsed": true
   },
   "outputs": [],
   "source": [
    "mod_pos = models.Model(poisson)"
   ]
  },
  {
   "cell_type": "code",
   "execution_count": 43,
   "metadata": {
    "collapsed": false
   },
   "outputs": [],
   "source": [
    "err =[]\n",
    "reich_fit_reports = []\n",
    "reich_fit_pars = []\n",
    "for i in liste_reich:\n",
    "    if i[0].size < 1:\n",
    "        continue\n",
    "    err_temp = None\n",
    "    err_temp = np.sqrt(i[1])\n",
    "    err_temp = np.where(err_temp == 0, 1, err_temp)\n",
    "    err.append(np.where(np.sqrt(i[1]) == 0, 1, np.sqrt(i[1])))\n",
    "    pars = mod_pos.make_params()\n",
    "    pars['B'].set(vary=False)\n",
    "    fit = mod_pos.fit(i[1],\n",
    "                  pars,\n",
    "                  A= np.sum(i[0]*i[1]/180),\n",
    "                  B=np.sum(i[1]),\n",
    "                  weights=1/err_temp,\n",
    "                  x=i[0])\n",
    "    reich_fit_reports.append(fit.fit_report())\n",
    "    reich_fit_pars.append(np.array([fit.best_values,fit.chisqr]))\n",
    "    fit.plot()\n",
    "    plt.show()"
   ]
  },
  {
   "cell_type": "code",
   "execution_count": 59,
   "metadata": {
    "collapsed": false
   },
   "outputs": [
    {
     "name": "stdout",
     "output_type": "stream",
     "text": [
      "52.1842854011\n",
      "53.5525444782\n",
      "53.7023158872\n",
      "53.9305238687\n",
      "51.356502194\n",
      "31.8024267261\n",
      "16.2677491547\n",
      "4.71723264871\n",
      "2.21370160198\n",
      "0.546468530406\n",
      "0.197558073689\n",
      "0.0486455630319\n",
      "0.0169491112976\n",
      "0.00558659177403\n",
      "1.49011611939e-08\n",
      "1.49011611939e-08\n"
     ]
    }
   ],
   "source": [
    "counts = []\n",
    "for i in reich_fit_pars:\n",
    "    print(i[0][\"A\"])\n",
    "    counts.append(i[0][\"A\"])"
   ]
  },
  {
   "cell_type": "code",
   "execution_count": 61,
   "metadata": {
    "collapsed": false
   },
   "outputs": [],
   "source": [
    "plt.errorbar(druck,counts,np.sqrt(counts),fmt='. g')\n",
    "plt.show()"
   ]
  },
  {
   "cell_type": "code",
   "execution_count": 74,
   "metadata": {
    "collapsed": true
   },
   "outputs": [],
   "source": [
    "def logistisch(druck,A,B,C,D):\n",
    "    return B+(A-B)/(1+(druck/D)**C)"
   ]
  },
  {
   "cell_type": "code",
   "execution_count": 79,
   "metadata": {
    "collapsed": false
   },
   "outputs": [],
   "source": [
    "mod_logistic = models.Model(logistisch)\n",
    "pars = mod_logistic.make_params(A=52,B=-1,C=25,D=450)"
   ]
  },
  {
   "cell_type": "code",
   "execution_count": 86,
   "metadata": {
    "collapsed": false
   },
   "outputs": [
    {
     "name": "stderr",
     "output_type": "stream",
     "text": [
      "/home/frederik/anaconda3/lib/python3.4/site-packages/lmfit/model.py:455: UserWarning: The keyword argument x does notmatch any arguments of the model function.It will be ignored.\n",
      "  \"It will be ignored.\", UserWarning)\n"
     ]
    },
    {
     "ename": "KeyError",
     "evalue": "'druck'",
     "output_type": "error",
     "traceback": [
      "\u001b[1;31m---------------------------------------------------------------------------\u001b[0m",
      "\u001b[1;31mKeyError\u001b[0m                                  Traceback (most recent call last)",
      "\u001b[1;32m<ipython-input-86-6c80b3292d07>\u001b[0m in \u001b[0;36m<module>\u001b[1;34m()\u001b[0m\n\u001b[1;32m----> 1\u001b[1;33m \u001b[0mout\u001b[0m \u001b[1;33m=\u001b[0m \u001b[0mmod_logistic\u001b[0m\u001b[1;33m.\u001b[0m\u001b[0mfit\u001b[0m\u001b[1;33m(\u001b[0m\u001b[0mcounts\u001b[0m\u001b[1;33m,\u001b[0m\u001b[0mpars\u001b[0m\u001b[1;33m,\u001b[0m\u001b[0mx\u001b[0m\u001b[1;33m=\u001b[0m\u001b[0mdruck\u001b[0m\u001b[1;33m)\u001b[0m\u001b[1;33m\u001b[0m\u001b[0m\n\u001b[0m",
      "\u001b[1;32m/home/frederik/anaconda3/lib/python3.4/site-packages/lmfit/model.py\u001b[0m in \u001b[0;36mfit\u001b[1;34m(self, data, params, weights, method, iter_cb, scale_covar, verbose, fit_kws, **kwargs)\u001b[0m\n\u001b[0;32m    475\u001b[0m             \u001b[0mdata\u001b[0m \u001b[1;33m=\u001b[0m \u001b[0mnp\u001b[0m\u001b[1;33m.\u001b[0m\u001b[0masfarray\u001b[0m\u001b[1;33m(\u001b[0m\u001b[0mdata\u001b[0m\u001b[1;33m)\u001b[0m\u001b[1;33m\u001b[0m\u001b[0m\n\u001b[0;32m    476\u001b[0m         \u001b[1;32mfor\u001b[0m \u001b[0mvar\u001b[0m \u001b[1;32min\u001b[0m \u001b[0mself\u001b[0m\u001b[1;33m.\u001b[0m\u001b[0mindependent_vars\u001b[0m\u001b[1;33m:\u001b[0m\u001b[1;33m\u001b[0m\u001b[0m\n\u001b[1;32m--> 477\u001b[1;33m             \u001b[0mvar_data\u001b[0m \u001b[1;33m=\u001b[0m \u001b[0mkwargs\u001b[0m\u001b[1;33m[\u001b[0m\u001b[0mvar\u001b[0m\u001b[1;33m]\u001b[0m\u001b[1;33m\u001b[0m\u001b[0m\n\u001b[0m\u001b[0;32m    478\u001b[0m             \u001b[1;32mif\u001b[0m \u001b[1;33m(\u001b[0m\u001b[1;32mnot\u001b[0m \u001b[0mhasattr\u001b[0m\u001b[1;33m(\u001b[0m\u001b[0mvar_data\u001b[0m\u001b[1;33m,\u001b[0m \u001b[1;34m'__array__'\u001b[0m\u001b[1;33m)\u001b[0m\u001b[1;33m)\u001b[0m \u001b[1;32mand\u001b[0m \u001b[1;33m(\u001b[0m\u001b[1;32mnot\u001b[0m \u001b[0mnp\u001b[0m\u001b[1;33m.\u001b[0m\u001b[0misscalar\u001b[0m\u001b[1;33m(\u001b[0m\u001b[0mvar_data\u001b[0m\u001b[1;33m)\u001b[0m\u001b[1;33m)\u001b[0m\u001b[1;33m:\u001b[0m\u001b[1;33m\u001b[0m\u001b[0m\n\u001b[0;32m    479\u001b[0m                 \u001b[0mkwargs\u001b[0m\u001b[1;33m[\u001b[0m\u001b[0mvar\u001b[0m\u001b[1;33m]\u001b[0m \u001b[1;33m=\u001b[0m \u001b[0mnp\u001b[0m\u001b[1;33m.\u001b[0m\u001b[0masfarray\u001b[0m\u001b[1;33m(\u001b[0m\u001b[0mvar_data\u001b[0m\u001b[1;33m)\u001b[0m\u001b[1;33m\u001b[0m\u001b[0m\n",
      "\u001b[1;31mKeyError\u001b[0m: 'druck'"
     ]
    }
   ],
   "source": [
    "out = mod_logistic.fit(counts,pars,x=druck)"
   ]
  },
  {
   "cell_type": "code",
   "execution_count": null,
   "metadata": {
    "collapsed": false
   },
   "outputs": [],
   "source": []
  },
  {
   "cell_type": "code",
   "execution_count": null,
   "metadata": {
    "collapsed": true
   },
   "outputs": [],
   "source": []
  }
 ],
 "metadata": {
  "kernelspec": {
   "display_name": "Python 3",
   "language": "python",
   "name": "python3"
  },
  "language_info": {
   "codemirror_mode": {
    "name": "ipython",
    "version": 3
   },
   "file_extension": ".py",
   "mimetype": "text/x-python",
   "name": "python",
   "nbconvert_exporter": "python",
   "pygments_lexer": "ipython3",
   "version": "3.4.3"
  }
 },
 "nbformat": 4,
 "nbformat_minor": 0
}
